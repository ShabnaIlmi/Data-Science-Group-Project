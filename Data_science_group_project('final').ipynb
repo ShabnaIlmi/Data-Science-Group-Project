{
  "nbformat": 4,
  "nbformat_minor": 0,
  "metadata": {
    "colab": {
      "provenance": [],
      "mount_file_id": "1KAeDf0W8PilMTjbKorq8_CHrPXWXznbe",
      "authorship_tag": "ABX9TyPPQ6giAkQFYdNheegzTyOW",
      "include_colab_link": true
    },
    "kernelspec": {
      "name": "python3",
      "display_name": "Python 3"
    },
    "language_info": {
      "name": "python"
    }
  },
  "cells": [
    {
      "cell_type": "markdown",
      "metadata": {
        "id": "view-in-github",
        "colab_type": "text"
      },
      "source": [
        "<a href=\"https://colab.research.google.com/github/ShabnaIlmi/Data-Science-Group-Project/blob/Future_Risk_prediction/Data_science_group_project('final').ipynb\" target=\"_parent\"><img src=\"https://colab.research.google.com/assets/colab-badge.svg\" alt=\"Open In Colab\"/></a>"
      ]
    },
    {
      "cell_type": "markdown",
      "source": [
        "# Importing the Necessary Libraries"
      ],
      "metadata": {
        "id": "XCi5tbH4dQiH"
      }
    },
    {
      "cell_type": "code",
      "execution_count": 1,
      "metadata": {
        "id": "i4lo57EACkh-"
      },
      "outputs": [],
      "source": [
        "import pandas as pd\n",
        "import seaborn as sns\n",
        "import matplotlib.pyplot as plt\n",
        "from sklearn.preprocessing import LabelEncoder, StandardScaler\n",
        "from sklearn.feature_selection import mutual_info_classif, mutual_info_regression\n",
        "from sklearn.ensemble import RandomForestClassifier\n",
        "from sklearn.model_selection import train_test_split\n"
      ]
    },
    {
      "cell_type": "markdown",
      "source": [
        "# Loading the Dataset and dispalying\n"
      ],
      "metadata": {
        "id": "4eu9RM7cecwq"
      }
    },
    {
      "cell_type": "code",
      "source": [
        "\n",
        "# Load dataset using pd.read_excel\n",
        "df = pd.read_excel(\"/content/drive/MyDrive/DSGP/modified_chemical_import_data.xlsx\")"
      ],
      "metadata": {
        "id": "4EmTY_jyeb0X"
      },
      "execution_count": 5,
      "outputs": []
    },
    {
      "cell_type": "code",
      "source": [
        "# Display first few rows\n",
        "df.head()"
      ],
      "metadata": {
        "colab": {
          "base_uri": "https://localhost:8080/",
          "height": 399
        },
        "id": "QayFCqLEeUYu",
        "outputId": "21644134-6195-4e69-b25d-8d5e18a37006"
      },
      "execution_count": 7,
      "outputs": [
        {
          "output_type": "execute_result",
          "data": {
            "text/plain": [
              "  Importer_ID                                      Chemical_Name  \\\n",
              "0      IMP001  Fluorides; fluorosilicates, fluoroaluminates, ...   \n",
              "1      IMP002                              Sulphuric acid; oleum   \n",
              "2      IMP003                              Sulphuric acid; oleum   \n",
              "3      IMP004             Cyanides and cyanide oxides: Of sodium   \n",
              "4      IMP005                    Nitric acid; sulphonitric acids   \n",
              "\n",
              "   Import_Frequency  Import_Quantity (kg) Country_of_Origin  \\\n",
              "0                36                  5199          Pakistan   \n",
              "1                26                  3398            Brazil   \n",
              "2                47                  5626             India   \n",
              "3                91                  7700             India   \n",
              "4                63                  8377             China   \n",
              "\n",
              "  Compliance_History  Compliance_Score  Past_Violations Financial_Stability  \\\n",
              "0          Excellent               3.0                4                High   \n",
              "1               Poor               1.0                1                High   \n",
              "2            Average               2.0                5              Medium   \n",
              "3          Excellent               3.0                4              Medium   \n",
              "4            Average               2.0                4                 Low   \n",
              "\n",
              "  Risk_Category  Import_Trend    Future_Prediction  \n",
              "0         Risky             0  Decrease in imports  \n",
              "1     Not Risky           -10  Decrease in imports  \n",
              "2         Risky            21  Increase in imports  \n",
              "3     Not Risky            44  Increase in imports  \n",
              "4     Not Risky           -28  Decrease in imports  "
            ],
            "text/html": [
              "\n",
              "  <div id=\"df-b48ea253-d799-46f3-819d-c3d6ba574a2c\" class=\"colab-df-container\">\n",
              "    <div>\n",
              "<style scoped>\n",
              "    .dataframe tbody tr th:only-of-type {\n",
              "        vertical-align: middle;\n",
              "    }\n",
              "\n",
              "    .dataframe tbody tr th {\n",
              "        vertical-align: top;\n",
              "    }\n",
              "\n",
              "    .dataframe thead th {\n",
              "        text-align: right;\n",
              "    }\n",
              "</style>\n",
              "<table border=\"1\" class=\"dataframe\">\n",
              "  <thead>\n",
              "    <tr style=\"text-align: right;\">\n",
              "      <th></th>\n",
              "      <th>Importer_ID</th>\n",
              "      <th>Chemical_Name</th>\n",
              "      <th>Import_Frequency</th>\n",
              "      <th>Import_Quantity (kg)</th>\n",
              "      <th>Country_of_Origin</th>\n",
              "      <th>Compliance_History</th>\n",
              "      <th>Compliance_Score</th>\n",
              "      <th>Past_Violations</th>\n",
              "      <th>Financial_Stability</th>\n",
              "      <th>Risk_Category</th>\n",
              "      <th>Import_Trend</th>\n",
              "      <th>Future_Prediction</th>\n",
              "    </tr>\n",
              "  </thead>\n",
              "  <tbody>\n",
              "    <tr>\n",
              "      <th>0</th>\n",
              "      <td>IMP001</td>\n",
              "      <td>Fluorides; fluorosilicates, fluoroaluminates, ...</td>\n",
              "      <td>36</td>\n",
              "      <td>5199</td>\n",
              "      <td>Pakistan</td>\n",
              "      <td>Excellent</td>\n",
              "      <td>3.0</td>\n",
              "      <td>4</td>\n",
              "      <td>High</td>\n",
              "      <td>Risky</td>\n",
              "      <td>0</td>\n",
              "      <td>Decrease in imports</td>\n",
              "    </tr>\n",
              "    <tr>\n",
              "      <th>1</th>\n",
              "      <td>IMP002</td>\n",
              "      <td>Sulphuric acid; oleum</td>\n",
              "      <td>26</td>\n",
              "      <td>3398</td>\n",
              "      <td>Brazil</td>\n",
              "      <td>Poor</td>\n",
              "      <td>1.0</td>\n",
              "      <td>1</td>\n",
              "      <td>High</td>\n",
              "      <td>Not Risky</td>\n",
              "      <td>-10</td>\n",
              "      <td>Decrease in imports</td>\n",
              "    </tr>\n",
              "    <tr>\n",
              "      <th>2</th>\n",
              "      <td>IMP003</td>\n",
              "      <td>Sulphuric acid; oleum</td>\n",
              "      <td>47</td>\n",
              "      <td>5626</td>\n",
              "      <td>India</td>\n",
              "      <td>Average</td>\n",
              "      <td>2.0</td>\n",
              "      <td>5</td>\n",
              "      <td>Medium</td>\n",
              "      <td>Risky</td>\n",
              "      <td>21</td>\n",
              "      <td>Increase in imports</td>\n",
              "    </tr>\n",
              "    <tr>\n",
              "      <th>3</th>\n",
              "      <td>IMP004</td>\n",
              "      <td>Cyanides and cyanide oxides: Of sodium</td>\n",
              "      <td>91</td>\n",
              "      <td>7700</td>\n",
              "      <td>India</td>\n",
              "      <td>Excellent</td>\n",
              "      <td>3.0</td>\n",
              "      <td>4</td>\n",
              "      <td>Medium</td>\n",
              "      <td>Not Risky</td>\n",
              "      <td>44</td>\n",
              "      <td>Increase in imports</td>\n",
              "    </tr>\n",
              "    <tr>\n",
              "      <th>4</th>\n",
              "      <td>IMP005</td>\n",
              "      <td>Nitric acid; sulphonitric acids</td>\n",
              "      <td>63</td>\n",
              "      <td>8377</td>\n",
              "      <td>China</td>\n",
              "      <td>Average</td>\n",
              "      <td>2.0</td>\n",
              "      <td>4</td>\n",
              "      <td>Low</td>\n",
              "      <td>Not Risky</td>\n",
              "      <td>-28</td>\n",
              "      <td>Decrease in imports</td>\n",
              "    </tr>\n",
              "  </tbody>\n",
              "</table>\n",
              "</div>\n",
              "    <div class=\"colab-df-buttons\">\n",
              "\n",
              "  <div class=\"colab-df-container\">\n",
              "    <button class=\"colab-df-convert\" onclick=\"convertToInteractive('df-b48ea253-d799-46f3-819d-c3d6ba574a2c')\"\n",
              "            title=\"Convert this dataframe to an interactive table.\"\n",
              "            style=\"display:none;\">\n",
              "\n",
              "  <svg xmlns=\"http://www.w3.org/2000/svg\" height=\"24px\" viewBox=\"0 -960 960 960\">\n",
              "    <path d=\"M120-120v-720h720v720H120Zm60-500h600v-160H180v160Zm220 220h160v-160H400v160Zm0 220h160v-160H400v160ZM180-400h160v-160H180v160Zm440 0h160v-160H620v160ZM180-180h160v-160H180v160Zm440 0h160v-160H620v160Z\"/>\n",
              "  </svg>\n",
              "    </button>\n",
              "\n",
              "  <style>\n",
              "    .colab-df-container {\n",
              "      display:flex;\n",
              "      gap: 12px;\n",
              "    }\n",
              "\n",
              "    .colab-df-convert {\n",
              "      background-color: #E8F0FE;\n",
              "      border: none;\n",
              "      border-radius: 50%;\n",
              "      cursor: pointer;\n",
              "      display: none;\n",
              "      fill: #1967D2;\n",
              "      height: 32px;\n",
              "      padding: 0 0 0 0;\n",
              "      width: 32px;\n",
              "    }\n",
              "\n",
              "    .colab-df-convert:hover {\n",
              "      background-color: #E2EBFA;\n",
              "      box-shadow: 0px 1px 2px rgba(60, 64, 67, 0.3), 0px 1px 3px 1px rgba(60, 64, 67, 0.15);\n",
              "      fill: #174EA6;\n",
              "    }\n",
              "\n",
              "    .colab-df-buttons div {\n",
              "      margin-bottom: 4px;\n",
              "    }\n",
              "\n",
              "    [theme=dark] .colab-df-convert {\n",
              "      background-color: #3B4455;\n",
              "      fill: #D2E3FC;\n",
              "    }\n",
              "\n",
              "    [theme=dark] .colab-df-convert:hover {\n",
              "      background-color: #434B5C;\n",
              "      box-shadow: 0px 1px 3px 1px rgba(0, 0, 0, 0.15);\n",
              "      filter: drop-shadow(0px 1px 2px rgba(0, 0, 0, 0.3));\n",
              "      fill: #FFFFFF;\n",
              "    }\n",
              "  </style>\n",
              "\n",
              "    <script>\n",
              "      const buttonEl =\n",
              "        document.querySelector('#df-b48ea253-d799-46f3-819d-c3d6ba574a2c button.colab-df-convert');\n",
              "      buttonEl.style.display =\n",
              "        google.colab.kernel.accessAllowed ? 'block' : 'none';\n",
              "\n",
              "      async function convertToInteractive(key) {\n",
              "        const element = document.querySelector('#df-b48ea253-d799-46f3-819d-c3d6ba574a2c');\n",
              "        const dataTable =\n",
              "          await google.colab.kernel.invokeFunction('convertToInteractive',\n",
              "                                                    [key], {});\n",
              "        if (!dataTable) return;\n",
              "\n",
              "        const docLinkHtml = 'Like what you see? Visit the ' +\n",
              "          '<a target=\"_blank\" href=https://colab.research.google.com/notebooks/data_table.ipynb>data table notebook</a>'\n",
              "          + ' to learn more about interactive tables.';\n",
              "        element.innerHTML = '';\n",
              "        dataTable['output_type'] = 'display_data';\n",
              "        await google.colab.output.renderOutput(dataTable, element);\n",
              "        const docLink = document.createElement('div');\n",
              "        docLink.innerHTML = docLinkHtml;\n",
              "        element.appendChild(docLink);\n",
              "      }\n",
              "    </script>\n",
              "  </div>\n",
              "\n",
              "\n",
              "<div id=\"df-0acfed67-7cb3-430c-bf39-1deca78188d0\">\n",
              "  <button class=\"colab-df-quickchart\" onclick=\"quickchart('df-0acfed67-7cb3-430c-bf39-1deca78188d0')\"\n",
              "            title=\"Suggest charts\"\n",
              "            style=\"display:none;\">\n",
              "\n",
              "<svg xmlns=\"http://www.w3.org/2000/svg\" height=\"24px\"viewBox=\"0 0 24 24\"\n",
              "     width=\"24px\">\n",
              "    <g>\n",
              "        <path d=\"M19 3H5c-1.1 0-2 .9-2 2v14c0 1.1.9 2 2 2h14c1.1 0 2-.9 2-2V5c0-1.1-.9-2-2-2zM9 17H7v-7h2v7zm4 0h-2V7h2v10zm4 0h-2v-4h2v4z\"/>\n",
              "    </g>\n",
              "</svg>\n",
              "  </button>\n",
              "\n",
              "<style>\n",
              "  .colab-df-quickchart {\n",
              "      --bg-color: #E8F0FE;\n",
              "      --fill-color: #1967D2;\n",
              "      --hover-bg-color: #E2EBFA;\n",
              "      --hover-fill-color: #174EA6;\n",
              "      --disabled-fill-color: #AAA;\n",
              "      --disabled-bg-color: #DDD;\n",
              "  }\n",
              "\n",
              "  [theme=dark] .colab-df-quickchart {\n",
              "      --bg-color: #3B4455;\n",
              "      --fill-color: #D2E3FC;\n",
              "      --hover-bg-color: #434B5C;\n",
              "      --hover-fill-color: #FFFFFF;\n",
              "      --disabled-bg-color: #3B4455;\n",
              "      --disabled-fill-color: #666;\n",
              "  }\n",
              "\n",
              "  .colab-df-quickchart {\n",
              "    background-color: var(--bg-color);\n",
              "    border: none;\n",
              "    border-radius: 50%;\n",
              "    cursor: pointer;\n",
              "    display: none;\n",
              "    fill: var(--fill-color);\n",
              "    height: 32px;\n",
              "    padding: 0;\n",
              "    width: 32px;\n",
              "  }\n",
              "\n",
              "  .colab-df-quickchart:hover {\n",
              "    background-color: var(--hover-bg-color);\n",
              "    box-shadow: 0 1px 2px rgba(60, 64, 67, 0.3), 0 1px 3px 1px rgba(60, 64, 67, 0.15);\n",
              "    fill: var(--button-hover-fill-color);\n",
              "  }\n",
              "\n",
              "  .colab-df-quickchart-complete:disabled,\n",
              "  .colab-df-quickchart-complete:disabled:hover {\n",
              "    background-color: var(--disabled-bg-color);\n",
              "    fill: var(--disabled-fill-color);\n",
              "    box-shadow: none;\n",
              "  }\n",
              "\n",
              "  .colab-df-spinner {\n",
              "    border: 2px solid var(--fill-color);\n",
              "    border-color: transparent;\n",
              "    border-bottom-color: var(--fill-color);\n",
              "    animation:\n",
              "      spin 1s steps(1) infinite;\n",
              "  }\n",
              "\n",
              "  @keyframes spin {\n",
              "    0% {\n",
              "      border-color: transparent;\n",
              "      border-bottom-color: var(--fill-color);\n",
              "      border-left-color: var(--fill-color);\n",
              "    }\n",
              "    20% {\n",
              "      border-color: transparent;\n",
              "      border-left-color: var(--fill-color);\n",
              "      border-top-color: var(--fill-color);\n",
              "    }\n",
              "    30% {\n",
              "      border-color: transparent;\n",
              "      border-left-color: var(--fill-color);\n",
              "      border-top-color: var(--fill-color);\n",
              "      border-right-color: var(--fill-color);\n",
              "    }\n",
              "    40% {\n",
              "      border-color: transparent;\n",
              "      border-right-color: var(--fill-color);\n",
              "      border-top-color: var(--fill-color);\n",
              "    }\n",
              "    60% {\n",
              "      border-color: transparent;\n",
              "      border-right-color: var(--fill-color);\n",
              "    }\n",
              "    80% {\n",
              "      border-color: transparent;\n",
              "      border-right-color: var(--fill-color);\n",
              "      border-bottom-color: var(--fill-color);\n",
              "    }\n",
              "    90% {\n",
              "      border-color: transparent;\n",
              "      border-bottom-color: var(--fill-color);\n",
              "    }\n",
              "  }\n",
              "</style>\n",
              "\n",
              "  <script>\n",
              "    async function quickchart(key) {\n",
              "      const quickchartButtonEl =\n",
              "        document.querySelector('#' + key + ' button');\n",
              "      quickchartButtonEl.disabled = true;  // To prevent multiple clicks.\n",
              "      quickchartButtonEl.classList.add('colab-df-spinner');\n",
              "      try {\n",
              "        const charts = await google.colab.kernel.invokeFunction(\n",
              "            'suggestCharts', [key], {});\n",
              "      } catch (error) {\n",
              "        console.error('Error during call to suggestCharts:', error);\n",
              "      }\n",
              "      quickchartButtonEl.classList.remove('colab-df-spinner');\n",
              "      quickchartButtonEl.classList.add('colab-df-quickchart-complete');\n",
              "    }\n",
              "    (() => {\n",
              "      let quickchartButtonEl =\n",
              "        document.querySelector('#df-0acfed67-7cb3-430c-bf39-1deca78188d0 button');\n",
              "      quickchartButtonEl.style.display =\n",
              "        google.colab.kernel.accessAllowed ? 'block' : 'none';\n",
              "    })();\n",
              "  </script>\n",
              "</div>\n",
              "\n",
              "    </div>\n",
              "  </div>\n"
            ],
            "application/vnd.google.colaboratory.intrinsic+json": {
              "type": "dataframe",
              "variable_name": "df",
              "summary": "{\n  \"name\": \"df\",\n  \"rows\": 400,\n  \"fields\": [\n    {\n      \"column\": \"Importer_ID\",\n      \"properties\": {\n        \"dtype\": \"string\",\n        \"num_unique_values\": 400,\n        \"samples\": [\n          \"IMP210\",\n          \"IMP281\",\n          \"IMP034\"\n        ],\n        \"semantic_type\": \"\",\n        \"description\": \"\"\n      }\n    },\n    {\n      \"column\": \"Chemical_Name\",\n      \"properties\": {\n        \"dtype\": \"category\",\n        \"num_unique_values\": 12,\n        \"samples\": [\n          \"Cyanides and cyanide oxides: Other\",\n          \"Mineral or chemical fertilizers, nitrogenous\",\n          \"Fluorides; fluorosilicates, fluoroaluminates, and other complex fluorine salts\"\n        ],\n        \"semantic_type\": \"\",\n        \"description\": \"\"\n      }\n    },\n    {\n      \"column\": \"Import_Frequency\",\n      \"properties\": {\n        \"dtype\": \"number\",\n        \"std\": 39,\n        \"min\": 5,\n        \"max\": 149,\n        \"num_unique_values\": 130,\n        \"samples\": [\n          77,\n          70,\n          54\n        ],\n        \"semantic_type\": \"\",\n        \"description\": \"\"\n      }\n    },\n    {\n      \"column\": \"Import_Quantity (kg)\",\n      \"properties\": {\n        \"dtype\": \"number\",\n        \"std\": 128844,\n        \"min\": 102,\n        \"max\": 494540,\n        \"num_unique_values\": 285,\n        \"samples\": [\n          15119,\n          5045,\n          126790\n        ],\n        \"semantic_type\": \"\",\n        \"description\": \"\"\n      }\n    },\n    {\n      \"column\": \"Country_of_Origin\",\n      \"properties\": {\n        \"dtype\": \"category\",\n        \"num_unique_values\": 12,\n        \"samples\": [\n          \"Japan\",\n          \"United Kingdom\",\n          \"Pakistan\"\n        ],\n        \"semantic_type\": \"\",\n        \"description\": \"\"\n      }\n    },\n    {\n      \"column\": \"Compliance_History\",\n      \"properties\": {\n        \"dtype\": \"category\",\n        \"num_unique_values\": 4,\n        \"samples\": [\n          \"Poor\",\n          \"Good\",\n          \"Excellent\"\n        ],\n        \"semantic_type\": \"\",\n        \"description\": \"\"\n      }\n    },\n    {\n      \"column\": \"Compliance_Score\",\n      \"properties\": {\n        \"dtype\": \"number\",\n        \"std\": 0.8360108915048382,\n        \"min\": 1.0,\n        \"max\": 3.0,\n        \"num_unique_values\": 3,\n        \"samples\": [\n          3.0,\n          1.0,\n          2.0\n        ],\n        \"semantic_type\": \"\",\n        \"description\": \"\"\n      }\n    },\n    {\n      \"column\": \"Past_Violations\",\n      \"properties\": {\n        \"dtype\": \"number\",\n        \"std\": 1,\n        \"min\": 0,\n        \"max\": 5,\n        \"num_unique_values\": 6,\n        \"samples\": [\n          4,\n          1,\n          0\n        ],\n        \"semantic_type\": \"\",\n        \"description\": \"\"\n      }\n    },\n    {\n      \"column\": \"Financial_Stability\",\n      \"properties\": {\n        \"dtype\": \"category\",\n        \"num_unique_values\": 3,\n        \"samples\": [\n          \"High\",\n          \"Medium\",\n          \"Low\"\n        ],\n        \"semantic_type\": \"\",\n        \"description\": \"\"\n      }\n    },\n    {\n      \"column\": \"Risk_Category\",\n      \"properties\": {\n        \"dtype\": \"category\",\n        \"num_unique_values\": 2,\n        \"samples\": [\n          \"Not Risky\",\n          \"Risky\"\n        ],\n        \"semantic_type\": \"\",\n        \"description\": \"\"\n      }\n    },\n    {\n      \"column\": \"Import_Trend\",\n      \"properties\": {\n        \"dtype\": \"number\",\n        \"std\": 55,\n        \"min\": -130,\n        \"max\": 132,\n        \"num_unique_values\": 180,\n        \"samples\": [\n          26,\n          35\n        ],\n        \"semantic_type\": \"\",\n        \"description\": \"\"\n      }\n    },\n    {\n      \"column\": \"Future_Prediction\",\n      \"properties\": {\n        \"dtype\": \"category\",\n        \"num_unique_values\": 2,\n        \"samples\": [\n          \"Increase in imports\",\n          \"Decrease in imports\"\n        ],\n        \"semantic_type\": \"\",\n        \"description\": \"\"\n      }\n    }\n  ]\n}"
            }
          },
          "metadata": {},
          "execution_count": 7
        }
      ]
    },
    {
      "cell_type": "code",
      "source": [
        "# Get data types, non-null counts\n",
        "print(df.info())"
      ],
      "metadata": {
        "colab": {
          "base_uri": "https://localhost:8080/"
        },
        "id": "Hh338rH8eUbh",
        "outputId": "49b2e18e-016e-4349-cd42-ef02f99c6230"
      },
      "execution_count": 8,
      "outputs": [
        {
          "output_type": "stream",
          "name": "stdout",
          "text": [
            "<class 'pandas.core.frame.DataFrame'>\n",
            "RangeIndex: 400 entries, 0 to 399\n",
            "Data columns (total 12 columns):\n",
            " #   Column                Non-Null Count  Dtype  \n",
            "---  ------                --------------  -----  \n",
            " 0   Importer_ID           400 non-null    object \n",
            " 1   Chemical_Name         400 non-null    object \n",
            " 2   Import_Frequency      400 non-null    int64  \n",
            " 3   Import_Quantity (kg)  400 non-null    int64  \n",
            " 4   Country_of_Origin     400 non-null    object \n",
            " 5   Compliance_History    400 non-null    object \n",
            " 6   Compliance_Score      290 non-null    float64\n",
            " 7   Past_Violations       400 non-null    int64  \n",
            " 8   Financial_Stability   400 non-null    object \n",
            " 9   Risk_Category         400 non-null    object \n",
            " 10  Import_Trend          400 non-null    int64  \n",
            " 11  Future_Prediction     400 non-null    object \n",
            "dtypes: float64(1), int64(4), object(7)\n",
            "memory usage: 37.6+ KB\n",
            "None\n"
          ]
        }
      ]
    },
    {
      "cell_type": "code",
      "source": [
        "# Summary Statistics (useful for numerical features)\n",
        "print(df.describe())"
      ],
      "metadata": {
        "colab": {
          "base_uri": "https://localhost:8080/"
        },
        "id": "LJyqCJfieUeh",
        "outputId": "19803ad7-86db-4c5e-b5d4-ad4b0df009ab"
      },
      "execution_count": 9,
      "outputs": [
        {
          "output_type": "stream",
          "name": "stdout",
          "text": [
            "       Import_Frequency  Import_Quantity (kg)  Compliance_Score  \\\n",
            "count        400.000000            400.000000        290.000000   \n",
            "mean          74.932500          72759.257500          1.993103   \n",
            "std           39.853088         128844.794138          0.836011   \n",
            "min            5.000000            102.000000          1.000000   \n",
            "25%           42.000000           3419.750000          1.000000   \n",
            "50%           69.500000           6738.500000          2.000000   \n",
            "75%          108.000000          43932.000000          3.000000   \n",
            "max          149.000000         494540.000000          3.000000   \n",
            "\n",
            "       Past_Violations  Import_Trend  \n",
            "count       400.000000    400.000000  \n",
            "mean          2.477500      0.077500  \n",
            "std           1.688675     55.002816  \n",
            "min           0.000000   -130.000000  \n",
            "25%           1.000000    -40.000000  \n",
            "50%           3.000000      4.000000  \n",
            "75%           4.000000     38.000000  \n",
            "max           5.000000    132.000000  \n"
          ]
        }
      ]
    },
    {
      "cell_type": "code",
      "source": [],
      "metadata": {
        "id": "NcHstvNjeUhX"
      },
      "execution_count": null,
      "outputs": []
    },
    {
      "cell_type": "code",
      "source": [],
      "metadata": {
        "id": "Pk73PpKKeUkO"
      },
      "execution_count": null,
      "outputs": []
    },
    {
      "cell_type": "code",
      "source": [],
      "metadata": {
        "id": "XA4DnS4seXCU"
      },
      "execution_count": null,
      "outputs": []
    },
    {
      "cell_type": "code",
      "source": [],
      "metadata": {
        "id": "nVZYaASneXFH"
      },
      "execution_count": null,
      "outputs": []
    },
    {
      "cell_type": "code",
      "source": [],
      "metadata": {
        "id": "0JPWVPaPeXH_"
      },
      "execution_count": null,
      "outputs": []
    },
    {
      "cell_type": "code",
      "source": [],
      "metadata": {
        "id": "4CxJjkESeXK2"
      },
      "execution_count": null,
      "outputs": []
    },
    {
      "cell_type": "code",
      "source": [],
      "metadata": {
        "id": "gseQa2oheXNu"
      },
      "execution_count": null,
      "outputs": []
    },
    {
      "cell_type": "code",
      "source": [],
      "metadata": {
        "id": "TaCr41TUeXQX"
      },
      "execution_count": null,
      "outputs": []
    },
    {
      "cell_type": "code",
      "source": [],
      "metadata": {
        "id": "GE7_VCkXeXTQ"
      },
      "execution_count": null,
      "outputs": []
    },
    {
      "cell_type": "code",
      "source": [],
      "metadata": {
        "id": "gq7hjdS_eXWA"
      },
      "execution_count": null,
      "outputs": []
    },
    {
      "cell_type": "code",
      "source": [],
      "metadata": {
        "id": "-I-n26WyeXYw"
      },
      "execution_count": null,
      "outputs": []
    },
    {
      "cell_type": "code",
      "source": [],
      "metadata": {
        "id": "Fh0UTpzVeXcS"
      },
      "execution_count": null,
      "outputs": []
    }
  ]
}