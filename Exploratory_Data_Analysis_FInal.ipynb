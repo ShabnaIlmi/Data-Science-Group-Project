{
  "nbformat": 4,
  "nbformat_minor": 0,
  "metadata": {
    "colab": {
      "provenance": [],
      "authorship_tag": "ABX9TyMSye4OJKQJAakkHr9muXCN",
      "include_colab_link": true
    },
    "kernelspec": {
      "name": "python3",
      "display_name": "Python 3"
    },
    "language_info": {
      "name": "python"
    }
  },
  "cells": [
    {
      "cell_type": "markdown",
      "metadata": {
        "id": "view-in-github",
        "colab_type": "text"
      },
      "source": [
        "<a href=\"https://colab.research.google.com/github/ShabnaIlmi/Data-Science-Group-Project/blob/Importer_Risk_Prediction/Exploratory_Data_Analysis_FInal.ipynb\" target=\"_parent\"><img src=\"https://colab.research.google.com/assets/colab-badge.svg\" alt=\"Open In Colab\"/></a>"
      ]
    },
    {
      "cell_type": "markdown",
      "source": [
        "# **Installing Necessary Libraries**"
      ],
      "metadata": {
        "id": "tvSgW28tKMO4"
      }
    },
    {
      "cell_type": "code",
      "execution_count": 44,
      "metadata": {
        "id": "js8HrB_nGoL9"
      },
      "outputs": [],
      "source": [
        "# Installing Required Libraries\n",
        "# !pip install --upgrade tensorflow\n",
        "# !pip install fancyimpute scikit-learn pandas"
      ]
    },
    {
      "cell_type": "code",
      "source": [
        "# Uninstalling the Pandas Library\n",
        "# !pip uninstall pandas"
      ],
      "metadata": {
        "id": "XgykgXGIMuEt"
      },
      "execution_count": 45,
      "outputs": []
    },
    {
      "cell_type": "code",
      "source": [
        "# Re-installing the Pandas Library\n",
        "# !pip install pandas==2.2.2"
      ],
      "metadata": {
        "id": "ucx6ULdIMwCj"
      },
      "execution_count": 46,
      "outputs": []
    },
    {
      "cell_type": "markdown",
      "source": [
        "# **Importing Necessary Libraries**"
      ],
      "metadata": {
        "id": "rSXNSyyRKWAV"
      }
    },
    {
      "cell_type": "code",
      "source": [
        "# Importing Necessary Libraries\n",
        "import pandas as pd\n",
        "import numpy as np\n",
        "import matplotlib.pyplot as plt\n",
        "import seaborn as sns\n",
        "from sklearn.preprocessing import StandardScaler\n",
        "from sklearn.impute import KNNImputer\n",
        "from sklearn.ensemble import RandomForestClassifier, RandomForestRegressor\n",
        "from sklearn.cluster import KMeans\n",
        "import warnings\n",
        "from imblearn.over_sampling import SMOTE\n",
        "from sklearn.model_selection import train_test_split\n",
        "from sklearn.preprocessing import LabelEncoder\n",
        "from sklearn.model_selection import train_test_split, GridSearchCV, cross_val_score, StratifiedKFold\n",
        "from sklearn.metrics import confusion_matrix, classification_report\n",
        "from sklearn.metrics import accuracy_score\n",
        "from sklearn.preprocessing import OneHotEncoder\n",
        "import shap\n",
        "import pickle\n",
        "import joblib"
      ],
      "metadata": {
        "id": "-pRsZWVaKgJX"
      },
      "execution_count": 47,
      "outputs": []
    },
    {
      "cell_type": "code",
      "source": [
        "# Mounting the Google Drive\n",
        "from google.colab import drive\n",
        "drive.mount('/content/drive')"
      ],
      "metadata": {
        "colab": {
          "base_uri": "https://localhost:8080/"
        },
        "id": "KTbg4GiSM3_J",
        "outputId": "66e35827-8067-45ea-d375-01d1b0747876"
      },
      "execution_count": 48,
      "outputs": [
        {
          "output_type": "stream",
          "name": "stdout",
          "text": [
            "Drive already mounted at /content/drive; to attempt to forcibly remount, call drive.mount(\"/content/drive\", force_remount=True).\n"
          ]
        }
      ]
    },
    {
      "cell_type": "markdown",
      "source": [
        "# **Loading the Dataset**"
      ],
      "metadata": {
        "id": "6kP3rpNoM5p5"
      }
    },
    {
      "cell_type": "code",
      "source": [
        "# Loading the dataset with the proper delimiter (semicolon)\n",
        "data = pd.read_excel('/content/drive/MyDrive/Importer_Risk_Prediction_2/Dataset/IMPORT STATISTICS - 2023.xlsx')"
      ],
      "metadata": {
        "id": "g8ul-5u1M9Up"
      },
      "execution_count": 49,
      "outputs": []
    },
    {
      "cell_type": "code",
      "source": [
        "# Displaying the first few rows of the data\n",
        "data.head()"
      ],
      "metadata": {
        "colab": {
          "base_uri": "https://localhost:8080/",
          "height": 486
        },
        "id": "HnY1-LicM_14",
        "outputId": "fce06bea-953d-46fd-854d-ed10edb1fe10"
      },
      "execution_count": 50,
      "outputs": [
        {
          "output_type": "execute_result",
          "data": {
            "text/plain": [
              "  IMPORTER    YEAR     MONTH  HSCODE     COUNTRY UNIT  QUANTITY    VALUE_RS  \\\n",
              "0  Unknown  2023.0   JANUARY  280110  BANGLADESH  Kg.  131600.0  13877114.0   \n",
              "1  Unknown  2023.0   JANUARY  280110       INDIA  Kg.   37800.0   3924989.0   \n",
              "2  Unknown  2023.0   JANUARY  280110    MALAYSIA  Kg.   12090.0   5390772.0   \n",
              "3  Unknown  2023.0  FEBRUARY  280110  BANGLADESH  Kg.   25200.0   3089445.0   \n",
              "4  Unknown  2023.0  FEBRUARY  280110       INDIA  Kg.   75599.0   6939860.0   \n",
              "\n",
              "                                      DESCRIPTION_01  \\\n",
              "0  Inorganic chemicals; Organic or inorganic comp...   \n",
              "1  Inorganic chemicals; Organic or inorganic comp...   \n",
              "2  Inorganic chemicals; Organic or inorganic comp...   \n",
              "3  Inorganic chemicals; Organic or inorganic comp...   \n",
              "4  Inorganic chemicals; Organic or inorganic comp...   \n",
              "\n",
              "                                      DESCRIPTION_02 DESCRIPTION_03  \n",
              "0  Fluorine, chlorine, bromine and iodine        ...       Chlorine  \n",
              "1  Fluorine, chlorine, bromine and iodine        ...       Chlorine  \n",
              "2  Fluorine, chlorine, bromine and iodine        ...       Chlorine  \n",
              "3  Fluorine, chlorine, bromine and iodine        ...       Chlorine  \n",
              "4  Fluorine, chlorine, bromine and iodine        ...       Chlorine  "
            ],
            "text/html": [
              "\n",
              "  <div id=\"df-810856fe-d817-4014-9c65-32f9e69baf42\" class=\"colab-df-container\">\n",
              "    <div>\n",
              "<style scoped>\n",
              "    .dataframe tbody tr th:only-of-type {\n",
              "        vertical-align: middle;\n",
              "    }\n",
              "\n",
              "    .dataframe tbody tr th {\n",
              "        vertical-align: top;\n",
              "    }\n",
              "\n",
              "    .dataframe thead th {\n",
              "        text-align: right;\n",
              "    }\n",
              "</style>\n",
              "<table border=\"1\" class=\"dataframe\">\n",
              "  <thead>\n",
              "    <tr style=\"text-align: right;\">\n",
              "      <th></th>\n",
              "      <th>IMPORTER</th>\n",
              "      <th>YEAR</th>\n",
              "      <th>MONTH</th>\n",
              "      <th>HSCODE</th>\n",
              "      <th>COUNTRY</th>\n",
              "      <th>UNIT</th>\n",
              "      <th>QUANTITY</th>\n",
              "      <th>VALUE_RS</th>\n",
              "      <th>DESCRIPTION_01</th>\n",
              "      <th>DESCRIPTION_02</th>\n",
              "      <th>DESCRIPTION_03</th>\n",
              "    </tr>\n",
              "  </thead>\n",
              "  <tbody>\n",
              "    <tr>\n",
              "      <th>0</th>\n",
              "      <td>Unknown</td>\n",
              "      <td>2023.0</td>\n",
              "      <td>JANUARY</td>\n",
              "      <td>280110</td>\n",
              "      <td>BANGLADESH</td>\n",
              "      <td>Kg.</td>\n",
              "      <td>131600.0</td>\n",
              "      <td>13877114.0</td>\n",
              "      <td>Inorganic chemicals; Organic or inorganic comp...</td>\n",
              "      <td>Fluorine, chlorine, bromine and iodine        ...</td>\n",
              "      <td>Chlorine</td>\n",
              "    </tr>\n",
              "    <tr>\n",
              "      <th>1</th>\n",
              "      <td>Unknown</td>\n",
              "      <td>2023.0</td>\n",
              "      <td>JANUARY</td>\n",
              "      <td>280110</td>\n",
              "      <td>INDIA</td>\n",
              "      <td>Kg.</td>\n",
              "      <td>37800.0</td>\n",
              "      <td>3924989.0</td>\n",
              "      <td>Inorganic chemicals; Organic or inorganic comp...</td>\n",
              "      <td>Fluorine, chlorine, bromine and iodine        ...</td>\n",
              "      <td>Chlorine</td>\n",
              "    </tr>\n",
              "    <tr>\n",
              "      <th>2</th>\n",
              "      <td>Unknown</td>\n",
              "      <td>2023.0</td>\n",
              "      <td>JANUARY</td>\n",
              "      <td>280110</td>\n",
              "      <td>MALAYSIA</td>\n",
              "      <td>Kg.</td>\n",
              "      <td>12090.0</td>\n",
              "      <td>5390772.0</td>\n",
              "      <td>Inorganic chemicals; Organic or inorganic comp...</td>\n",
              "      <td>Fluorine, chlorine, bromine and iodine        ...</td>\n",
              "      <td>Chlorine</td>\n",
              "    </tr>\n",
              "    <tr>\n",
              "      <th>3</th>\n",
              "      <td>Unknown</td>\n",
              "      <td>2023.0</td>\n",
              "      <td>FEBRUARY</td>\n",
              "      <td>280110</td>\n",
              "      <td>BANGLADESH</td>\n",
              "      <td>Kg.</td>\n",
              "      <td>25200.0</td>\n",
              "      <td>3089445.0</td>\n",
              "      <td>Inorganic chemicals; Organic or inorganic comp...</td>\n",
              "      <td>Fluorine, chlorine, bromine and iodine        ...</td>\n",
              "      <td>Chlorine</td>\n",
              "    </tr>\n",
              "    <tr>\n",
              "      <th>4</th>\n",
              "      <td>Unknown</td>\n",
              "      <td>2023.0</td>\n",
              "      <td>FEBRUARY</td>\n",
              "      <td>280110</td>\n",
              "      <td>INDIA</td>\n",
              "      <td>Kg.</td>\n",
              "      <td>75599.0</td>\n",
              "      <td>6939860.0</td>\n",
              "      <td>Inorganic chemicals; Organic or inorganic comp...</td>\n",
              "      <td>Fluorine, chlorine, bromine and iodine        ...</td>\n",
              "      <td>Chlorine</td>\n",
              "    </tr>\n",
              "  </tbody>\n",
              "</table>\n",
              "</div>\n",
              "    <div class=\"colab-df-buttons\">\n",
              "\n",
              "  <div class=\"colab-df-container\">\n",
              "    <button class=\"colab-df-convert\" onclick=\"convertToInteractive('df-810856fe-d817-4014-9c65-32f9e69baf42')\"\n",
              "            title=\"Convert this dataframe to an interactive table.\"\n",
              "            style=\"display:none;\">\n",
              "\n",
              "  <svg xmlns=\"http://www.w3.org/2000/svg\" height=\"24px\" viewBox=\"0 -960 960 960\">\n",
              "    <path d=\"M120-120v-720h720v720H120Zm60-500h600v-160H180v160Zm220 220h160v-160H400v160Zm0 220h160v-160H400v160ZM180-400h160v-160H180v160Zm440 0h160v-160H620v160ZM180-180h160v-160H180v160Zm440 0h160v-160H620v160Z\"/>\n",
              "  </svg>\n",
              "    </button>\n",
              "\n",
              "  <style>\n",
              "    .colab-df-container {\n",
              "      display:flex;\n",
              "      gap: 12px;\n",
              "    }\n",
              "\n",
              "    .colab-df-convert {\n",
              "      background-color: #E8F0FE;\n",
              "      border: none;\n",
              "      border-radius: 50%;\n",
              "      cursor: pointer;\n",
              "      display: none;\n",
              "      fill: #1967D2;\n",
              "      height: 32px;\n",
              "      padding: 0 0 0 0;\n",
              "      width: 32px;\n",
              "    }\n",
              "\n",
              "    .colab-df-convert:hover {\n",
              "      background-color: #E2EBFA;\n",
              "      box-shadow: 0px 1px 2px rgba(60, 64, 67, 0.3), 0px 1px 3px 1px rgba(60, 64, 67, 0.15);\n",
              "      fill: #174EA6;\n",
              "    }\n",
              "\n",
              "    .colab-df-buttons div {\n",
              "      margin-bottom: 4px;\n",
              "    }\n",
              "\n",
              "    [theme=dark] .colab-df-convert {\n",
              "      background-color: #3B4455;\n",
              "      fill: #D2E3FC;\n",
              "    }\n",
              "\n",
              "    [theme=dark] .colab-df-convert:hover {\n",
              "      background-color: #434B5C;\n",
              "      box-shadow: 0px 1px 3px 1px rgba(0, 0, 0, 0.15);\n",
              "      filter: drop-shadow(0px 1px 2px rgba(0, 0, 0, 0.3));\n",
              "      fill: #FFFFFF;\n",
              "    }\n",
              "  </style>\n",
              "\n",
              "    <script>\n",
              "      const buttonEl =\n",
              "        document.querySelector('#df-810856fe-d817-4014-9c65-32f9e69baf42 button.colab-df-convert');\n",
              "      buttonEl.style.display =\n",
              "        google.colab.kernel.accessAllowed ? 'block' : 'none';\n",
              "\n",
              "      async function convertToInteractive(key) {\n",
              "        const element = document.querySelector('#df-810856fe-d817-4014-9c65-32f9e69baf42');\n",
              "        const dataTable =\n",
              "          await google.colab.kernel.invokeFunction('convertToInteractive',\n",
              "                                                    [key], {});\n",
              "        if (!dataTable) return;\n",
              "\n",
              "        const docLinkHtml = 'Like what you see? Visit the ' +\n",
              "          '<a target=\"_blank\" href=https://colab.research.google.com/notebooks/data_table.ipynb>data table notebook</a>'\n",
              "          + ' to learn more about interactive tables.';\n",
              "        element.innerHTML = '';\n",
              "        dataTable['output_type'] = 'display_data';\n",
              "        await google.colab.output.renderOutput(dataTable, element);\n",
              "        const docLink = document.createElement('div');\n",
              "        docLink.innerHTML = docLinkHtml;\n",
              "        element.appendChild(docLink);\n",
              "      }\n",
              "    </script>\n",
              "  </div>\n",
              "\n",
              "\n",
              "<div id=\"df-da996c16-6ea5-4161-a7f1-f883a6c56973\">\n",
              "  <button class=\"colab-df-quickchart\" onclick=\"quickchart('df-da996c16-6ea5-4161-a7f1-f883a6c56973')\"\n",
              "            title=\"Suggest charts\"\n",
              "            style=\"display:none;\">\n",
              "\n",
              "<svg xmlns=\"http://www.w3.org/2000/svg\" height=\"24px\"viewBox=\"0 0 24 24\"\n",
              "     width=\"24px\">\n",
              "    <g>\n",
              "        <path d=\"M19 3H5c-1.1 0-2 .9-2 2v14c0 1.1.9 2 2 2h14c1.1 0 2-.9 2-2V5c0-1.1-.9-2-2-2zM9 17H7v-7h2v7zm4 0h-2V7h2v10zm4 0h-2v-4h2v4z\"/>\n",
              "    </g>\n",
              "</svg>\n",
              "  </button>\n",
              "\n",
              "<style>\n",
              "  .colab-df-quickchart {\n",
              "      --bg-color: #E8F0FE;\n",
              "      --fill-color: #1967D2;\n",
              "      --hover-bg-color: #E2EBFA;\n",
              "      --hover-fill-color: #174EA6;\n",
              "      --disabled-fill-color: #AAA;\n",
              "      --disabled-bg-color: #DDD;\n",
              "  }\n",
              "\n",
              "  [theme=dark] .colab-df-quickchart {\n",
              "      --bg-color: #3B4455;\n",
              "      --fill-color: #D2E3FC;\n",
              "      --hover-bg-color: #434B5C;\n",
              "      --hover-fill-color: #FFFFFF;\n",
              "      --disabled-bg-color: #3B4455;\n",
              "      --disabled-fill-color: #666;\n",
              "  }\n",
              "\n",
              "  .colab-df-quickchart {\n",
              "    background-color: var(--bg-color);\n",
              "    border: none;\n",
              "    border-radius: 50%;\n",
              "    cursor: pointer;\n",
              "    display: none;\n",
              "    fill: var(--fill-color);\n",
              "    height: 32px;\n",
              "    padding: 0;\n",
              "    width: 32px;\n",
              "  }\n",
              "\n",
              "  .colab-df-quickchart:hover {\n",
              "    background-color: var(--hover-bg-color);\n",
              "    box-shadow: 0 1px 2px rgba(60, 64, 67, 0.3), 0 1px 3px 1px rgba(60, 64, 67, 0.15);\n",
              "    fill: var(--button-hover-fill-color);\n",
              "  }\n",
              "\n",
              "  .colab-df-quickchart-complete:disabled,\n",
              "  .colab-df-quickchart-complete:disabled:hover {\n",
              "    background-color: var(--disabled-bg-color);\n",
              "    fill: var(--disabled-fill-color);\n",
              "    box-shadow: none;\n",
              "  }\n",
              "\n",
              "  .colab-df-spinner {\n",
              "    border: 2px solid var(--fill-color);\n",
              "    border-color: transparent;\n",
              "    border-bottom-color: var(--fill-color);\n",
              "    animation:\n",
              "      spin 1s steps(1) infinite;\n",
              "  }\n",
              "\n",
              "  @keyframes spin {\n",
              "    0% {\n",
              "      border-color: transparent;\n",
              "      border-bottom-color: var(--fill-color);\n",
              "      border-left-color: var(--fill-color);\n",
              "    }\n",
              "    20% {\n",
              "      border-color: transparent;\n",
              "      border-left-color: var(--fill-color);\n",
              "      border-top-color: var(--fill-color);\n",
              "    }\n",
              "    30% {\n",
              "      border-color: transparent;\n",
              "      border-left-color: var(--fill-color);\n",
              "      border-top-color: var(--fill-color);\n",
              "      border-right-color: var(--fill-color);\n",
              "    }\n",
              "    40% {\n",
              "      border-color: transparent;\n",
              "      border-right-color: var(--fill-color);\n",
              "      border-top-color: var(--fill-color);\n",
              "    }\n",
              "    60% {\n",
              "      border-color: transparent;\n",
              "      border-right-color: var(--fill-color);\n",
              "    }\n",
              "    80% {\n",
              "      border-color: transparent;\n",
              "      border-right-color: var(--fill-color);\n",
              "      border-bottom-color: var(--fill-color);\n",
              "    }\n",
              "    90% {\n",
              "      border-color: transparent;\n",
              "      border-bottom-color: var(--fill-color);\n",
              "    }\n",
              "  }\n",
              "</style>\n",
              "\n",
              "  <script>\n",
              "    async function quickchart(key) {\n",
              "      const quickchartButtonEl =\n",
              "        document.querySelector('#' + key + ' button');\n",
              "      quickchartButtonEl.disabled = true;  // To prevent multiple clicks.\n",
              "      quickchartButtonEl.classList.add('colab-df-spinner');\n",
              "      try {\n",
              "        const charts = await google.colab.kernel.invokeFunction(\n",
              "            'suggestCharts', [key], {});\n",
              "      } catch (error) {\n",
              "        console.error('Error during call to suggestCharts:', error);\n",
              "      }\n",
              "      quickchartButtonEl.classList.remove('colab-df-spinner');\n",
              "      quickchartButtonEl.classList.add('colab-df-quickchart-complete');\n",
              "    }\n",
              "    (() => {\n",
              "      let quickchartButtonEl =\n",
              "        document.querySelector('#df-da996c16-6ea5-4161-a7f1-f883a6c56973 button');\n",
              "      quickchartButtonEl.style.display =\n",
              "        google.colab.kernel.accessAllowed ? 'block' : 'none';\n",
              "    })();\n",
              "  </script>\n",
              "</div>\n",
              "\n",
              "    </div>\n",
              "  </div>\n"
            ],
            "application/vnd.google.colaboratory.intrinsic+json": {
              "type": "dataframe",
              "variable_name": "data",
              "summary": "{\n  \"name\": \"data\",\n  \"rows\": 1042,\n  \"fields\": [\n    {\n      \"column\": \"IMPORTER\",\n      \"properties\": {\n        \"dtype\": \"category\",\n        \"num_unique_values\": 1,\n        \"samples\": [\n          \"Unknown\"\n        ],\n        \"semantic_type\": \"\",\n        \"description\": \"\"\n      }\n    },\n    {\n      \"column\": \"YEAR\",\n      \"properties\": {\n        \"dtype\": \"number\",\n        \"std\": 3.409615319591779,\n        \"min\": 2016.0,\n        \"max\": 2023.0,\n        \"num_unique_values\": 2,\n        \"samples\": [\n          2016.0\n        ],\n        \"semantic_type\": \"\",\n        \"description\": \"\"\n      }\n    },\n    {\n      \"column\": \"MONTH\",\n      \"properties\": {\n        \"dtype\": \"category\",\n        \"num_unique_values\": 12,\n        \"samples\": [\n          \"NOVEMBER\"\n        ],\n        \"semantic_type\": \"\",\n        \"description\": \"\"\n      }\n    },\n    {\n      \"column\": \"HSCODE\",\n      \"properties\": {\n        \"dtype\": \"number\",\n        \"std\": 1326226917,\n        \"min\": 280110,\n        \"max\": 3102909000,\n        \"num_unique_values\": 131,\n        \"samples\": [\n          2801200042\n        ],\n        \"semantic_type\": \"\",\n        \"description\": \"\"\n      }\n    },\n    {\n      \"column\": \"COUNTRY\",\n      \"properties\": {\n        \"dtype\": \"category\",\n        \"num_unique_values\": 66,\n        \"samples\": [\n          \"italy\"\n        ],\n        \"semantic_type\": \"\",\n        \"description\": \"\"\n      }\n    },\n    {\n      \"column\": \"UNIT\",\n      \"properties\": {\n        \"dtype\": \"category\",\n        \"num_unique_values\": 9,\n        \"samples\": [\n          \"Kg\"\n        ],\n        \"semantic_type\": \"\",\n        \"description\": \"\"\n      }\n    },\n    {\n      \"column\": \"QUANTITY\",\n      \"properties\": {\n        \"dtype\": \"number\",\n        \"std\": 235249.2208540277,\n        \"min\": 0.0,\n        \"max\": 4000000.0,\n        \"num_unique_values\": 359,\n        \"samples\": [\n          12282.0\n        ],\n        \"semantic_type\": \"\",\n        \"description\": \"\"\n      }\n    },\n    {\n      \"column\": \"VALUE_RS\",\n      \"properties\": {\n        \"dtype\": \"number\",\n        \"std\": 7946637.087226704,\n        \"min\": 0.0,\n        \"max\": 47271723.0,\n        \"num_unique_values\": 263,\n        \"samples\": [\n          37.58\n        ],\n        \"semantic_type\": \"\",\n        \"description\": \"\"\n      }\n    },\n    {\n      \"column\": \"DESCRIPTION_01\",\n      \"properties\": {\n        \"dtype\": \"category\",\n        \"num_unique_values\": 2,\n        \"samples\": [\n          \"Fertilizers\"\n        ],\n        \"semantic_type\": \"\",\n        \"description\": \"\"\n      }\n    },\n    {\n      \"column\": \"DESCRIPTION_02\",\n      \"properties\": {\n        \"dtype\": \"category\",\n        \"num_unique_values\": 15,\n        \"samples\": [\n          \"Hydrogen peroxide, whether or not solidified with urea.  \"\n        ],\n        \"semantic_type\": \"\",\n        \"description\": \"\"\n      }\n    },\n    {\n      \"column\": \"DESCRIPTION_03\",\n      \"properties\": {\n        \"dtype\": \"category\",\n        \"num_unique_values\": 17,\n        \"samples\": [\n          \"Chlorine\"\n        ],\n        \"semantic_type\": \"\",\n        \"description\": \"\"\n      }\n    }\n  ]\n}"
            }
          },
          "metadata": {},
          "execution_count": 50
        }
      ]
    },
    {
      "cell_type": "markdown",
      "source": [
        "# **Exploratory Data Analysis**"
      ],
      "metadata": {
        "id": "oxxBoEcqNEWP"
      }
    },
    {
      "cell_type": "code",
      "source": [
        "# Displaying information\n",
        "print(\"Displaying data information\")\n",
        "data.info()"
      ],
      "metadata": {
        "colab": {
          "base_uri": "https://localhost:8080/"
        },
        "id": "HilhqMYhNHRW",
        "outputId": "acdd0ecf-c7e5-4b7e-9c4d-436c29bf8ac7"
      },
      "execution_count": 51,
      "outputs": [
        {
          "output_type": "stream",
          "name": "stdout",
          "text": [
            "Displaying data information\n",
            "<class 'pandas.core.frame.DataFrame'>\n",
            "RangeIndex: 1042 entries, 0 to 1041\n",
            "Data columns (total 11 columns):\n",
            " #   Column          Non-Null Count  Dtype  \n",
            "---  ------          --------------  -----  \n",
            " 0   IMPORTER        1042 non-null   object \n",
            " 1   YEAR            292 non-null    float64\n",
            " 2   MONTH           292 non-null    object \n",
            " 3   HSCODE          1042 non-null   int64  \n",
            " 4   COUNTRY         1038 non-null   object \n",
            " 5   UNIT            1042 non-null   object \n",
            " 6   QUANTITY        1039 non-null   float64\n",
            " 7   VALUE_RS        292 non-null    float64\n",
            " 8   DESCRIPTION_01  1042 non-null   object \n",
            " 9   DESCRIPTION_02  1042 non-null   object \n",
            " 10  DESCRIPTION_03  1042 non-null   object \n",
            "dtypes: float64(3), int64(1), object(7)\n",
            "memory usage: 89.7+ KB\n"
          ]
        }
      ]
    },
    {
      "cell_type": "markdown",
      "source": [
        "### **Identifying Categorical and Numerical Columns**"
      ],
      "metadata": {
        "id": "QfC9MNoyNW5u"
      }
    },
    {
      "cell_type": "code",
      "source": [
        "# Identifying categorical and numerical columns\n",
        "categorical_cols = data.select_dtypes(include=['object']).columns\n",
        "numerical_cols = data.select_dtypes(include=['int64', 'float64']).columns"
      ],
      "metadata": {
        "id": "JpvXepNGNacK"
      },
      "execution_count": 52,
      "outputs": []
    },
    {
      "cell_type": "markdown",
      "source": [
        "**Since 'HSCODE' column has been misintepreted as an int64 data type column due to the unavailability of data, reassigning it has an object type column.**"
      ],
      "metadata": {
        "id": "65HX8hK8NcUG"
      }
    },
    {
      "cell_type": "code",
      "source": [
        "# Converting 'IMPORTER' and 'HSCODE' columns to string type\n",
        "data['HSCODE'] = data['HSCODE'].astype(str)\n",
        "\n",
        "# Displaying the HSCODE column data type\n",
        "print(\"Data Type of HSCODE Columns:\")\n",
        "print(data[['HSCODE']].dtypes)"
      ],
      "metadata": {
        "colab": {
          "base_uri": "https://localhost:8080/"
        },
        "id": "lzKb7FI2NeGp",
        "outputId": "f67e6d17-9975-4205-b432-f052f1dd0c36"
      },
      "execution_count": 53,
      "outputs": [
        {
          "output_type": "stream",
          "name": "stdout",
          "text": [
            "Data Type of HSCODE Columns:\n",
            "HSCODE    object\n",
            "dtype: object\n"
          ]
        }
      ]
    },
    {
      "cell_type": "markdown",
      "source": [
        "## **Categorical Features**"
      ],
      "metadata": {
        "id": "qbNmZjIGNj2U"
      }
    },
    {
      "cell_type": "code",
      "source": [
        "# List of categorical features\n",
        "categorical_features = data.select_dtypes(include=['object']).columns\n",
        "\n",
        "# Displaying the categorical features\n",
        "print(\"Categorical Features:\")\n",
        "for feature in categorical_features:\n",
        "    print(f\"- {feature}\")\n",
        "\n",
        "# Display data type of the columns\n",
        "print(\"\\nData Type of Categorical Features:\")\n",
        "print(data[categorical_features].dtypes)"
      ],
      "metadata": {
        "colab": {
          "base_uri": "https://localhost:8080/"
        },
        "id": "XUSVSinWNmyh",
        "outputId": "161436f6-b5af-419b-a6be-d18348f57d76"
      },
      "execution_count": 54,
      "outputs": [
        {
          "output_type": "stream",
          "name": "stdout",
          "text": [
            "Categorical Features:\n",
            "- IMPORTER\n",
            "- MONTH\n",
            "- HSCODE\n",
            "- COUNTRY\n",
            "- UNIT\n",
            "- DESCRIPTION_01\n",
            "- DESCRIPTION_02\n",
            "- DESCRIPTION_03\n",
            "\n",
            "Data Type of Categorical Features:\n",
            "IMPORTER          object\n",
            "MONTH             object\n",
            "HSCODE            object\n",
            "COUNTRY           object\n",
            "UNIT              object\n",
            "DESCRIPTION_01    object\n",
            "DESCRIPTION_02    object\n",
            "DESCRIPTION_03    object\n",
            "dtype: object\n"
          ]
        }
      ]
    },
    {
      "cell_type": "markdown",
      "source": [
        "**Unique Values and Their Counts Relevant to Each Categorical Column**"
      ],
      "metadata": {
        "id": "pi1P5wh_Nphv"
      }
    },
    {
      "cell_type": "code",
      "source": [
        "# Displaying the unique values and their counts relevant to each categorical column\n",
        "print(\"Unique values and their count relevant to each categorical column:\\n\")\n",
        "for col in categorical_features:\n",
        "    unique_values = data[col].unique()\n",
        "    value_counts = data[col].value_counts()\n",
        "    print(value_counts)\n",
        "    print(\" \")"
      ],
      "metadata": {
        "colab": {
          "base_uri": "https://localhost:8080/"
        },
        "id": "qZ8vQETzNr6P",
        "outputId": "f7c10193-403e-4af2-e5a6-ad0d92fff831"
      },
      "execution_count": 55,
      "outputs": [
        {
          "output_type": "stream",
          "name": "stdout",
          "text": [
            "Unique values and their count relevant to each categorical column:\n",
            "\n",
            "IMPORTER\n",
            "Unknown    1042\n",
            "Name: count, dtype: int64\n",
            " \n",
            "MONTH\n",
            "NOVEMBER     191\n",
            "FEBRUARY      13\n",
            "JULY          13\n",
            "MAY           11\n",
            "SEPTEMBER     11\n",
            "JANUARY       10\n",
            "JUNE           9\n",
            "AUGUST         8\n",
            "OCTOBER        8\n",
            "MARCH          6\n",
            "APRIL          6\n",
            "DECEMBER       6\n",
            "Name: count, dtype: int64\n",
            " \n",
            "HSCODE\n",
            "28070010      85\n",
            "2847000000    84\n",
            "28080000      67\n",
            "3102401000    58\n",
            "28291100      54\n",
            "              ..\n",
            "2801200032     1\n",
            "2801200031     1\n",
            "2801200030     1\n",
            "2801200029     1\n",
            "2812101100     1\n",
            "Name: count, Length: 131, dtype: int64\n",
            " \n",
            "COUNTRY\n",
            "Vietnam    299\n",
            "Russia     109\n",
            "Kenya       71\n",
            "Ukraine     58\n",
            "germany     51\n",
            "          ... \n",
            "U.S.A.       1\n",
            "Mexico       1\n",
            "CANADA       1\n",
            "India        1\n",
            "Romania      1\n",
            "Name: count, Length: 66, dtype: int64\n",
            " \n",
            "UNIT\n",
            "Kg     750\n",
            "Kg.    112\n",
            "KGS     47\n",
            "PCS     39\n",
            "NOS     33\n",
            "GMS     23\n",
            "MTS     19\n",
            "LTR     18\n",
            "DRM      1\n",
            "Name: count, dtype: int64\n",
            " \n",
            "DESCRIPTION_01\n",
            "Inorganic chemicals; Organic or inorganic compounds of precious metals, of rare earth metals, of radioactive elements or of isotopes    922\n",
            "Fertilizers                                                                                                                             120\n",
            "Name: count, dtype: int64\n",
            " \n",
            "DESCRIPTION_02\n",
            "Chlorates and perchlorates; bromates and perbromates; iodates and periodates                            120\n",
            "Mineral or chemical fertilizers, nitrogenous                                                            120\n",
            "Sulphuric acid; oleum                                                                                   120\n",
            "Halides and halide oxides of non metals                                                                 120\n",
            "Fluorides; fluorosilicates, fluoroaluminates, and other complex fluorine salts                          116\n",
            "Hydrogen peroxide, whether or not solidified with urea.                                                 110\n",
            "Nitric acid; sulphonitric acids.                                                                        100\n",
            "Fluorine, chlorine, bromine and iodine                                                                   64\n",
            "Nitric acid; sulphonitric acids.                                                                  ..     36\n",
            "Hydrogen peroxide, whether or not solidified with urea.                                           ..     35\n",
            "Fluorine, chlorine, bromine and iodine                                                            ..     34\n",
            "Nitric acid; sulphonitric acids.                                                                         20\n",
            "Fluorine, chlorine, bromine and iodine                                                                   20\n",
            "Cyanides, cyanide oxides and complex cyanides.                                                           20\n",
            "Cyanides, cyanide oxides and complex cyanides.                                                    ..      7\n",
            "Name: count, dtype: int64\n",
            " \n",
            "DESCRIPTION_03\n",
            "Halides and halide oxides of non metals                                           120\n",
            "Sulphuric acid; oleum                                                             120\n",
            "Mineral or chemical fertilizers, nitrogenous                                      120\n",
            "Chlorates and perchlorates; bromates and perbromates; iodates and periodates      120\n",
            "Fluorides; fluorosilicates, fluoroaluminates, and other complex fluorine salts    116\n",
            "Hydrogen peroxide, whether or not solidified with urea.                           110\n",
            "Nitric acid; sulphonitric acids.                                                  100\n",
            "Iodine                                                                             80\n",
            "Nitric acid; sulphonitric acids                                                    36\n",
            "Hydrogen peroxide, whether or not solidified with urea.                            35\n",
            "Chlorine                                                                           34\n",
            "Nitric acid; sulphonitric acids.                                                   20\n",
            "Cyanides and cyanide oxides : Of sodium                                            11\n",
            "Cyanides and cyanide oxides : Other                                                10\n",
            "- Cyanides and cyanide oxides : Other                                               4\n",
            "Bromine                                                                             4\n",
            "- Cyanides and cyanide oxides : Of sodium                                           2\n",
            "Name: count, dtype: int64\n",
            " \n"
          ]
        }
      ]
    },
    {
      "cell_type": "code",
      "source": [
        "# Displaying the categorical columns which contains null values and their counts\n",
        "print(\"Categorical columns with null values and their counts:\")\n",
        "for col in categorical_features:\n",
        "    null_count = data[col].isnull().sum()\n",
        "    if null_count > 0:\n",
        "        print(f\"{col}: {null_count}\")"
      ],
      "metadata": {
        "colab": {
          "base_uri": "https://localhost:8080/"
        },
        "id": "pWnO2UuiNuaV",
        "outputId": "4cbea77b-beac-4536-aa81-c995a68efe8b"
      },
      "execution_count": 56,
      "outputs": [
        {
          "output_type": "stream",
          "name": "stdout",
          "text": [
            "Categorical columns with null values and their counts:\n",
            "MONTH: 750\n",
            "COUNTRY: 4\n"
          ]
        }
      ]
    },
    {
      "cell_type": "code",
      "source": [
        "# Displaying the categorical columns which contain 'Unknown' values and their relevant counts\n",
        "print(\"Categorical columns with 'Unknown' values and their counts:\")\n",
        "for col in categorical_features:\n",
        "    unknown_count = (data[col] == 'Unknown').sum()\n",
        "    if unknown_count > 0:\n",
        "        print(f\"{col}: {unknown_count}\")"
      ],
      "metadata": {
        "colab": {
          "base_uri": "https://localhost:8080/"
        },
        "id": "SVE1z5HoNv01",
        "outputId": "9bf76be2-5007-4295-96e6-cd9002ad73e0"
      },
      "execution_count": 57,
      "outputs": [
        {
          "output_type": "stream",
          "name": "stdout",
          "text": [
            "Categorical columns with 'Unknown' values and their counts:\n",
            "IMPORTER: 1042\n"
          ]
        }
      ]
    },
    {
      "cell_type": "markdown",
      "source": [
        "## **Numerical Features**"
      ],
      "metadata": {
        "id": "lfjcJTCONzZN"
      }
    },
    {
      "cell_type": "markdown",
      "source": [
        "**Since 'Year' column has been misintepreted as a float64 data type column reassigning it as a int64 type column**\n"
      ],
      "metadata": {
        "id": "atUhX4VJN2Em"
      }
    },
    {
      "cell_type": "code",
      "source": [
        "# Converting the 'Year' column to int64 data type\n",
        "# data['YEAR'] = data['YEAR'].astype(int)\n",
        "\n",
        "# Displaying the data type of the 'Year' column\n",
        "# print(\"Data Type of 'Year' Column:\")\n",
        "# print(data['YEAR'].dtype)"
      ],
      "metadata": {
        "id": "0CSdBNoqN40b"
      },
      "execution_count": 58,
      "outputs": []
    },
    {
      "cell_type": "markdown",
      "source": [
        "**The conversion cannot be done since the column contains missing values (both N/A and null values)**"
      ],
      "metadata": {
        "id": "BsO1OzvAN7L7"
      }
    },
    {
      "cell_type": "code",
      "source": [
        "# Numerical Features\n",
        "numerical_features = data.select_dtypes(include=['int64', 'float64']).columns\n",
        "\n",
        "# Displaying the Numerical Columns\n",
        "print(\"Numerical Features:\")\n",
        "print(numerical_features)"
      ],
      "metadata": {
        "colab": {
          "base_uri": "https://localhost:8080/"
        },
        "id": "ZjCUeduEN6m1",
        "outputId": "5e538e90-9c76-4e1c-c243-dfe499837030"
      },
      "execution_count": 59,
      "outputs": [
        {
          "output_type": "stream",
          "name": "stdout",
          "text": [
            "Numerical Features:\n",
            "Index(['YEAR', 'QUANTITY', 'VALUE_RS'], dtype='object')\n"
          ]
        }
      ]
    },
    {
      "cell_type": "markdown",
      "source": [
        "**Unique Values and Their Count Relevant to Each Numerical Column**"
      ],
      "metadata": {
        "id": "5caxygGwOBPV"
      }
    },
    {
      "cell_type": "code",
      "source": [
        "# Displaying the unique values and their count in the numerical columns\n",
        "print(\"Unique values and their count in the numerical columns:\\n\")\n",
        "for col in numerical_features:\n",
        "    unique_values = data[col].unique()\n",
        "    value_counts = data[col].value_counts()\n",
        "    print(value_counts)\n",
        "    print(\" \")"
      ],
      "metadata": {
        "colab": {
          "base_uri": "https://localhost:8080/"
        },
        "id": "Df-IbEyRODV0",
        "outputId": "f4ad49e1-8f93-407b-ad3f-4ffbebc59eba"
      },
      "execution_count": 60,
      "outputs": [
        {
          "output_type": "stream",
          "name": "stdout",
          "text": [
            "Unique values and their count in the numerical columns:\n",
            "\n",
            "YEAR\n",
            "2016.0    180\n",
            "2023.0    112\n",
            "Name: count, dtype: int64\n",
            " \n",
            "QUANTITY\n",
            "1000.0     55\n",
            "1.0        49\n",
            "16200.0    40\n",
            "5.0        31\n",
            "27.0       28\n",
            "           ..\n",
            "204.0       1\n",
            "23200.0     1\n",
            "22820.0     1\n",
            "22560.0     1\n",
            "19050.0     1\n",
            "Name: count, Length: 359, dtype: int64\n",
            " \n",
            "VALUE_RS\n",
            "0.40           4\n",
            "53.79          3\n",
            "188.55         3\n",
            "0.20           3\n",
            "21.15          2\n",
            "              ..\n",
            "350598.00      1\n",
            "2213950.00     1\n",
            "10318355.00    1\n",
            "24988179.00    1\n",
            "0.68           1\n",
            "Name: count, Length: 263, dtype: int64\n",
            " \n"
          ]
        }
      ]
    },
    {
      "cell_type": "markdown",
      "source": [
        "**Numerical columns with null values and their relevant counts**"
      ],
      "metadata": {
        "id": "KUs0shdqOGU5"
      }
    },
    {
      "cell_type": "code",
      "source": [
        "# Displaying the numerical columns with null values and their relevant counts\n",
        "print(\"Numerical columns with null values and their relevant counts:\")\n",
        "for col in numerical_cols:\n",
        "    null_count = data[col].isnull().sum()\n",
        "    if null_count > 0:\n",
        "        print(f\"{col}: {null_count}\")"
      ],
      "metadata": {
        "colab": {
          "base_uri": "https://localhost:8080/"
        },
        "id": "7TOb6tFHOJWz",
        "outputId": "26519ae3-9c10-45e2-e826-aad87d5e7ea3"
      },
      "execution_count": 61,
      "outputs": [
        {
          "output_type": "stream",
          "name": "stdout",
          "text": [
            "Numerical columns with null values and their relevant counts:\n",
            "YEAR: 750\n",
            "QUANTITY: 3\n",
            "VALUE_RS: 750\n"
          ]
        }
      ]
    },
    {
      "cell_type": "markdown",
      "source": [
        "# **Data Preprocessing**"
      ],
      "metadata": {
        "id": "avpa27v8OPDM"
      }
    },
    {
      "cell_type": "markdown",
      "source": [
        "## **Data Cleaning**"
      ],
      "metadata": {
        "id": "lK1nUaE-ORWH"
      }
    },
    {
      "cell_type": "code",
      "source": [
        "# Step 1: Removing whitespaces from the object type columns\n",
        "object_columns = data.select_dtypes(include=['object']).columns\n",
        "data[object_columns] = data[object_columns].apply(lambda x: x.str.strip())"
      ],
      "metadata": {
        "id": "ssWhLG4GwYWs"
      },
      "execution_count": 62,
      "outputs": []
    },
    {
      "cell_type": "code",
      "source": [
        "# Step 2: Dropping duplicate values\n",
        "data.drop_duplicates(inplace=True)\n",
        "data.reset_index(drop=True, inplace=True)"
      ],
      "metadata": {
        "id": "HiSZlPcOwZvN"
      },
      "execution_count": 63,
      "outputs": []
    },
    {
      "cell_type": "code",
      "source": [
        "# Display dataset information\n",
        "print(\"\\nDataset information after removing duplicates:\")\n",
        "data.info()"
      ],
      "metadata": {
        "colab": {
          "base_uri": "https://localhost:8080/"
        },
        "id": "C5RRInDPwbGc",
        "outputId": "ac536f79-9f83-47de-8093-684125e0dfe0"
      },
      "execution_count": 64,
      "outputs": [
        {
          "output_type": "stream",
          "name": "stdout",
          "text": [
            "\n",
            "Dataset information after removing duplicates:\n",
            "<class 'pandas.core.frame.DataFrame'>\n",
            "RangeIndex: 655 entries, 0 to 654\n",
            "Data columns (total 11 columns):\n",
            " #   Column          Non-Null Count  Dtype  \n",
            "---  ------          --------------  -----  \n",
            " 0   IMPORTER        655 non-null    object \n",
            " 1   YEAR            288 non-null    float64\n",
            " 2   MONTH           288 non-null    object \n",
            " 3   HSCODE          655 non-null    object \n",
            " 4   COUNTRY         652 non-null    object \n",
            " 5   UNIT            655 non-null    object \n",
            " 6   QUANTITY        653 non-null    float64\n",
            " 7   VALUE_RS        288 non-null    float64\n",
            " 8   DESCRIPTION_01  655 non-null    object \n",
            " 9   DESCRIPTION_02  655 non-null    object \n",
            " 10  DESCRIPTION_03  655 non-null    object \n",
            "dtypes: float64(3), object(8)\n",
            "memory usage: 56.4+ KB\n"
          ]
        }
      ]
    },
    {
      "cell_type": "code",
      "source": [
        "# Step 3: Removing unnecessary full stops(\".\") from the categorical columns\n",
        "data[categorical_cols] = data[categorical_cols].apply(lambda x: x.str.replace('.', ''))"
      ],
      "metadata": {
        "id": "NF7oDK8uwedB"
      },
      "execution_count": 65,
      "outputs": []
    },
    {
      "cell_type": "code",
      "source": [
        "# Step 4: Removing unnecessary special characters and trailing spaces from the 'DESCRIPTION_03' column\n",
        "# Removing the leading hyphen\n",
        "data['DESCRIPTION_03'] = data['DESCRIPTION_03'].str.lstrip('-')\n",
        "\n",
        "# Removing trailing spaces\n",
        "data['DESCRIPTION_03'] = data['DESCRIPTION_03'].str.strip()"
      ],
      "metadata": {
        "id": "cqtJi-4owgAm"
      },
      "execution_count": 66,
      "outputs": []
    },
    {
      "cell_type": "code",
      "source": [
        "# Step 5: Removing trailing spaces for the entire 'DESCRIPTION_02' column\n",
        "data['DESCRIPTION_02'] = data['DESCRIPTION_02'].str.strip()"
      ],
      "metadata": {
        "id": "2bLWJdTbwjA7"
      },
      "execution_count": 67,
      "outputs": []
    },
    {
      "cell_type": "code",
      "source": [
        "# Displaying the unique values and their counts relevant to each categorical column\n",
        "print(\"Unique values and their count relevant to each categorical column:\\n\")\n",
        "for col in categorical_features:\n",
        "    unique_values = data[col].unique()\n",
        "    value_counts = data[col].value_counts()\n",
        "    print(value_counts)\n",
        "    print(\" \")"
      ],
      "metadata": {
        "colab": {
          "base_uri": "https://localhost:8080/"
        },
        "id": "aYrwum3HwkWF",
        "outputId": "194d543f-d19d-4e63-fedf-3fae93cd3dc3"
      },
      "execution_count": 68,
      "outputs": [
        {
          "output_type": "stream",
          "name": "stdout",
          "text": [
            "Unique values and their count relevant to each categorical column:\n",
            "\n",
            "IMPORTER\n",
            "Unknown    655\n",
            "Name: count, dtype: int64\n",
            " \n",
            "MONTH\n",
            "NOVEMBER     187\n",
            "FEBRUARY      13\n",
            "JULY          13\n",
            "MAY           11\n",
            "SEPTEMBER     11\n",
            "JANUARY       10\n",
            "JUNE           9\n",
            "AUGUST         8\n",
            "OCTOBER        8\n",
            "MARCH          6\n",
            "APRIL          6\n",
            "DECEMBER       6\n",
            "Name: count, dtype: int64\n",
            " \n",
            "HSCODE\n",
            "2847000000    50\n",
            "28070010      37\n",
            "280800        36\n",
            "284700        35\n",
            "280110        34\n",
            "              ..\n",
            "2801200032     1\n",
            "2801200031     1\n",
            "2801200030     1\n",
            "2801200029     1\n",
            "2812101100     1\n",
            "Name: count, Length: 131, dtype: int64\n",
            " \n",
            "COUNTRY\n",
            "Russia       102\n",
            "Vietnam       74\n",
            "germany       48\n",
            "Ukraine       38\n",
            "Kenya         36\n",
            "            ... \n",
            "DENMARK        1\n",
            "indonesia      1\n",
            "AUSTRIA        1\n",
            "PAKISTAN       1\n",
            "egypt          1\n",
            "Name: count, Length: 66, dtype: int64\n",
            " \n",
            "UNIT\n",
            "Kg     479\n",
            "KGS     46\n",
            "PCS     36\n",
            "NOS     33\n",
            "GMS     23\n",
            "MTS     19\n",
            "LTR     18\n",
            "DRM      1\n",
            "Name: count, dtype: int64\n",
            " \n",
            "DESCRIPTION_01\n",
            "Inorganic chemicals; Organic or inorganic compounds of precious metals, of rare earth metals, of radioactive elements or of isotopes    581\n",
            "Fertilizers                                                                                                                              74\n",
            "Name: count, dtype: int64\n",
            " \n",
            "DESCRIPTION_02\n",
            "Fluorine, chlorine, bromine and iodine                                            117\n",
            "Hydrogen peroxide, whether or not solidified with urea                            109\n",
            "Nitric acid; sulphonitric acids                                                    94\n",
            "Mineral or chemical fertilizers, nitrogenous                                       74\n",
            "Halides and halide oxides of non metals                                            71\n",
            "Fluorides; fluorosilicates, fluoroaluminates, and other complex fluorine salts     67\n",
            "Sulphuric acid; oleum                                                              51\n",
            "Chlorates and perchlorates; bromates and perbromates; iodates and periodates       45\n",
            "Cyanides, cyanide oxides and complex cyanides                                      27\n",
            "Name: count, dtype: int64\n",
            " \n",
            "DESCRIPTION_03\n",
            "Hydrogen peroxide, whether or not solidified with urea                            109\n",
            "Nitric acid; sulphonitric acids                                                    94\n",
            "Iodine                                                                             79\n",
            "Mineral or chemical fertilizers, nitrogenous                                       74\n",
            "Halides and halide oxides of non metals                                            71\n",
            "Fluorides; fluorosilicates, fluoroaluminates, and other complex fluorine salts     67\n",
            "Sulphuric acid; oleum                                                              51\n",
            "Chlorates and perchlorates; bromates and perbromates; iodates and periodates       45\n",
            "Chlorine                                                                           34\n",
            "Cyanides and cyanide oxides : Other                                                14\n",
            "Cyanides and cyanide oxides : Of sodium                                            13\n",
            "Bromine                                                                             4\n",
            "Name: count, dtype: int64\n",
            " \n"
          ]
        }
      ]
    },
    {
      "cell_type": "code",
      "source": [
        "# Step 6: Converting all the values in the 'COUNTRY' and the 'UNIT' columns to uppercase values\n",
        "data['COUNTRY'] = data['COUNTRY'].str.upper()\n",
        "data['UNIT'] = data['UNIT'].str.upper()\n",
        "\n",
        "# Displaying the modified dataset\n",
        "print(data)"
      ],
      "metadata": {
        "colab": {
          "base_uri": "https://localhost:8080/"
        },
        "id": "ZonbrYyXwnXZ",
        "outputId": "c2a61dbb-635e-438c-ad22-123ea22c13d4"
      },
      "execution_count": 69,
      "outputs": [
        {
          "output_type": "stream",
          "name": "stdout",
          "text": [
            "    IMPORTER    YEAR     MONTH      HSCODE     COUNTRY UNIT  QUANTITY  \\\n",
            "0    Unknown  2023.0   JANUARY      280110  BANGLADESH   KG  131600.0   \n",
            "1    Unknown  2023.0   JANUARY      280110       INDIA   KG   37800.0   \n",
            "2    Unknown  2023.0   JANUARY      280110    MALAYSIA   KG   12090.0   \n",
            "3    Unknown  2023.0  FEBRUARY      280110  BANGLADESH   KG   25200.0   \n",
            "4    Unknown  2023.0  FEBRUARY      280110       INDIA   KG   75599.0   \n",
            "..       ...     ...       ...         ...         ...  ...       ...   \n",
            "650  Unknown     NaN       NaN    28121043     BELGIUM   KG   19740.0   \n",
            "651  Unknown     NaN       NaN  2812101100     UKRAINE   KG       NaN   \n",
            "652  Unknown     NaN       NaN    28121043     BELGIUM   KG   19320.0   \n",
            "653  Unknown     NaN       NaN    28121043     BELGIUM   KG   19050.0   \n",
            "654  Unknown     NaN       NaN  2812109900     UKRAINE   KG       NaN   \n",
            "\n",
            "       VALUE_RS                                     DESCRIPTION_01  \\\n",
            "0    13877114.0  Inorganic chemicals; Organic or inorganic comp...   \n",
            "1     3924989.0  Inorganic chemicals; Organic or inorganic comp...   \n",
            "2     5390772.0  Inorganic chemicals; Organic or inorganic comp...   \n",
            "3     3089445.0  Inorganic chemicals; Organic or inorganic comp...   \n",
            "4     6939860.0  Inorganic chemicals; Organic or inorganic comp...   \n",
            "..          ...                                                ...   \n",
            "650         NaN  Inorganic chemicals; Organic or inorganic comp...   \n",
            "651         NaN  Inorganic chemicals; Organic or inorganic comp...   \n",
            "652         NaN  Inorganic chemicals; Organic or inorganic comp...   \n",
            "653         NaN  Inorganic chemicals; Organic or inorganic comp...   \n",
            "654         NaN  Inorganic chemicals; Organic or inorganic comp...   \n",
            "\n",
            "                              DESCRIPTION_02  \\\n",
            "0     Fluorine, chlorine, bromine and iodine   \n",
            "1     Fluorine, chlorine, bromine and iodine   \n",
            "2     Fluorine, chlorine, bromine and iodine   \n",
            "3     Fluorine, chlorine, bromine and iodine   \n",
            "4     Fluorine, chlorine, bromine and iodine   \n",
            "..                                       ...   \n",
            "650  Halides and halide oxides of non metals   \n",
            "651  Halides and halide oxides of non metals   \n",
            "652  Halides and halide oxides of non metals   \n",
            "653  Halides and halide oxides of non metals   \n",
            "654  Halides and halide oxides of non metals   \n",
            "\n",
            "                              DESCRIPTION_03  \n",
            "0                                   Chlorine  \n",
            "1                                   Chlorine  \n",
            "2                                   Chlorine  \n",
            "3                                   Chlorine  \n",
            "4                                   Chlorine  \n",
            "..                                       ...  \n",
            "650  Halides and halide oxides of non metals  \n",
            "651  Halides and halide oxides of non metals  \n",
            "652  Halides and halide oxides of non metals  \n",
            "653  Halides and halide oxides of non metals  \n",
            "654  Halides and halide oxides of non metals  \n",
            "\n",
            "[655 rows x 11 columns]\n"
          ]
        }
      ]
    },
    {
      "cell_type": "code",
      "source": [
        "# Step 7: Handling the HSCODES\n",
        "\n",
        "# Checking the length of the HSCODES and determining the maximum length\n",
        "data['HSCODE_LENGTH'] = data['HSCODE'].apply(len)\n",
        "max_length = data['HSCODE_LENGTH'].max()\n",
        "\n",
        "# Padding HSCODE values with trailing zeros to match the maximum length\n",
        "data['HSCODE'] = data['HSCODE'].apply(lambda x: x.ljust(max_length, '0'))\n",
        "\n",
        "# Dropping the helper column 'HSCODE_LENGTH' as it's no longer needed\n",
        "data.drop(columns=['HSCODE_LENGTH'], inplace=True)\n",
        "\n",
        "# Displaying the modified dataset\n",
        "print(data)"
      ],
      "metadata": {
        "colab": {
          "base_uri": "https://localhost:8080/"
        },
        "id": "r_imTFzSwptf",
        "outputId": "cde8d98f-1547-4558-d24e-5d5a99b66af7"
      },
      "execution_count": 70,
      "outputs": [
        {
          "output_type": "stream",
          "name": "stdout",
          "text": [
            "    IMPORTER    YEAR     MONTH      HSCODE     COUNTRY UNIT  QUANTITY  \\\n",
            "0    Unknown  2023.0   JANUARY  2801100000  BANGLADESH   KG  131600.0   \n",
            "1    Unknown  2023.0   JANUARY  2801100000       INDIA   KG   37800.0   \n",
            "2    Unknown  2023.0   JANUARY  2801100000    MALAYSIA   KG   12090.0   \n",
            "3    Unknown  2023.0  FEBRUARY  2801100000  BANGLADESH   KG   25200.0   \n",
            "4    Unknown  2023.0  FEBRUARY  2801100000       INDIA   KG   75599.0   \n",
            "..       ...     ...       ...         ...         ...  ...       ...   \n",
            "650  Unknown     NaN       NaN  2812104300     BELGIUM   KG   19740.0   \n",
            "651  Unknown     NaN       NaN  2812101100     UKRAINE   KG       NaN   \n",
            "652  Unknown     NaN       NaN  2812104300     BELGIUM   KG   19320.0   \n",
            "653  Unknown     NaN       NaN  2812104300     BELGIUM   KG   19050.0   \n",
            "654  Unknown     NaN       NaN  2812109900     UKRAINE   KG       NaN   \n",
            "\n",
            "       VALUE_RS                                     DESCRIPTION_01  \\\n",
            "0    13877114.0  Inorganic chemicals; Organic or inorganic comp...   \n",
            "1     3924989.0  Inorganic chemicals; Organic or inorganic comp...   \n",
            "2     5390772.0  Inorganic chemicals; Organic or inorganic comp...   \n",
            "3     3089445.0  Inorganic chemicals; Organic or inorganic comp...   \n",
            "4     6939860.0  Inorganic chemicals; Organic or inorganic comp...   \n",
            "..          ...                                                ...   \n",
            "650         NaN  Inorganic chemicals; Organic or inorganic comp...   \n",
            "651         NaN  Inorganic chemicals; Organic or inorganic comp...   \n",
            "652         NaN  Inorganic chemicals; Organic or inorganic comp...   \n",
            "653         NaN  Inorganic chemicals; Organic or inorganic comp...   \n",
            "654         NaN  Inorganic chemicals; Organic or inorganic comp...   \n",
            "\n",
            "                              DESCRIPTION_02  \\\n",
            "0     Fluorine, chlorine, bromine and iodine   \n",
            "1     Fluorine, chlorine, bromine and iodine   \n",
            "2     Fluorine, chlorine, bromine and iodine   \n",
            "3     Fluorine, chlorine, bromine and iodine   \n",
            "4     Fluorine, chlorine, bromine and iodine   \n",
            "..                                       ...   \n",
            "650  Halides and halide oxides of non metals   \n",
            "651  Halides and halide oxides of non metals   \n",
            "652  Halides and halide oxides of non metals   \n",
            "653  Halides and halide oxides of non metals   \n",
            "654  Halides and halide oxides of non metals   \n",
            "\n",
            "                              DESCRIPTION_03  \n",
            "0                                   Chlorine  \n",
            "1                                   Chlorine  \n",
            "2                                   Chlorine  \n",
            "3                                   Chlorine  \n",
            "4                                   Chlorine  \n",
            "..                                       ...  \n",
            "650  Halides and halide oxides of non metals  \n",
            "651  Halides and halide oxides of non metals  \n",
            "652  Halides and halide oxides of non metals  \n",
            "653  Halides and halide oxides of non metals  \n",
            "654  Halides and halide oxides of non metals  \n",
            "\n",
            "[655 rows x 11 columns]\n"
          ]
        }
      ]
    },
    {
      "cell_type": "code",
      "source": [
        "# Step 8: Handling the 'COUNTRY' Column\n",
        "\n",
        "# Replacing specific country names\n",
        "data['COUNTRY'] = data['COUNTRY'].replace({\n",
        "    'United States': 'USA',\n",
        "    'United States of America': 'USA',\n",
        "    'United Kingdom': 'UK',\n",
        "    'Korea, Republic of': 'South Korea'\n",
        "})\n",
        "\n",
        "print(data)"
      ],
      "metadata": {
        "colab": {
          "base_uri": "https://localhost:8080/"
        },
        "id": "AyEi0HENwz94",
        "outputId": "09fdf1ec-95da-4a05-d70c-235794e46cb7"
      },
      "execution_count": 71,
      "outputs": [
        {
          "output_type": "stream",
          "name": "stdout",
          "text": [
            "    IMPORTER    YEAR     MONTH      HSCODE     COUNTRY UNIT  QUANTITY  \\\n",
            "0    Unknown  2023.0   JANUARY  2801100000  BANGLADESH   KG  131600.0   \n",
            "1    Unknown  2023.0   JANUARY  2801100000       INDIA   KG   37800.0   \n",
            "2    Unknown  2023.0   JANUARY  2801100000    MALAYSIA   KG   12090.0   \n",
            "3    Unknown  2023.0  FEBRUARY  2801100000  BANGLADESH   KG   25200.0   \n",
            "4    Unknown  2023.0  FEBRUARY  2801100000       INDIA   KG   75599.0   \n",
            "..       ...     ...       ...         ...         ...  ...       ...   \n",
            "650  Unknown     NaN       NaN  2812104300     BELGIUM   KG   19740.0   \n",
            "651  Unknown     NaN       NaN  2812101100     UKRAINE   KG       NaN   \n",
            "652  Unknown     NaN       NaN  2812104300     BELGIUM   KG   19320.0   \n",
            "653  Unknown     NaN       NaN  2812104300     BELGIUM   KG   19050.0   \n",
            "654  Unknown     NaN       NaN  2812109900     UKRAINE   KG       NaN   \n",
            "\n",
            "       VALUE_RS                                     DESCRIPTION_01  \\\n",
            "0    13877114.0  Inorganic chemicals; Organic or inorganic comp...   \n",
            "1     3924989.0  Inorganic chemicals; Organic or inorganic comp...   \n",
            "2     5390772.0  Inorganic chemicals; Organic or inorganic comp...   \n",
            "3     3089445.0  Inorganic chemicals; Organic or inorganic comp...   \n",
            "4     6939860.0  Inorganic chemicals; Organic or inorganic comp...   \n",
            "..          ...                                                ...   \n",
            "650         NaN  Inorganic chemicals; Organic or inorganic comp...   \n",
            "651         NaN  Inorganic chemicals; Organic or inorganic comp...   \n",
            "652         NaN  Inorganic chemicals; Organic or inorganic comp...   \n",
            "653         NaN  Inorganic chemicals; Organic or inorganic comp...   \n",
            "654         NaN  Inorganic chemicals; Organic or inorganic comp...   \n",
            "\n",
            "                              DESCRIPTION_02  \\\n",
            "0     Fluorine, chlorine, bromine and iodine   \n",
            "1     Fluorine, chlorine, bromine and iodine   \n",
            "2     Fluorine, chlorine, bromine and iodine   \n",
            "3     Fluorine, chlorine, bromine and iodine   \n",
            "4     Fluorine, chlorine, bromine and iodine   \n",
            "..                                       ...   \n",
            "650  Halides and halide oxides of non metals   \n",
            "651  Halides and halide oxides of non metals   \n",
            "652  Halides and halide oxides of non metals   \n",
            "653  Halides and halide oxides of non metals   \n",
            "654  Halides and halide oxides of non metals   \n",
            "\n",
            "                              DESCRIPTION_03  \n",
            "0                                   Chlorine  \n",
            "1                                   Chlorine  \n",
            "2                                   Chlorine  \n",
            "3                                   Chlorine  \n",
            "4                                   Chlorine  \n",
            "..                                       ...  \n",
            "650  Halides and halide oxides of non metals  \n",
            "651  Halides and halide oxides of non metals  \n",
            "652  Halides and halide oxides of non metals  \n",
            "653  Halides and halide oxides of non metals  \n",
            "654  Halides and halide oxides of non metals  \n",
            "\n",
            "[655 rows x 11 columns]\n"
          ]
        }
      ]
    },
    {
      "cell_type": "code",
      "source": [
        "# Displaying the unique values and their counts relevant to each categorical column\n",
        "print(\"Unique values and their count relevant to each categorical column:\\n\")\n",
        "for col in categorical_features:\n",
        "    unique_values = data[col].unique()\n",
        "    value_counts = data[col].value_counts()\n",
        "    print(value_counts)\n",
        "    print(\" \")"
      ],
      "metadata": {
        "colab": {
          "base_uri": "https://localhost:8080/"
        },
        "id": "cuP3dxqJw3N2",
        "outputId": "8edfbf99-27df-4c35-eb09-6755449ac889"
      },
      "execution_count": 72,
      "outputs": [
        {
          "output_type": "stream",
          "name": "stdout",
          "text": [
            "Unique values and their count relevant to each categorical column:\n",
            "\n",
            "IMPORTER\n",
            "Unknown    655\n",
            "Name: count, dtype: int64\n",
            " \n",
            "MONTH\n",
            "NOVEMBER     187\n",
            "FEBRUARY      13\n",
            "JULY          13\n",
            "MAY           11\n",
            "SEPTEMBER     11\n",
            "JANUARY       10\n",
            "JUNE           9\n",
            "AUGUST         8\n",
            "OCTOBER        8\n",
            "MARCH          6\n",
            "APRIL          6\n",
            "DECEMBER       6\n",
            "Name: count, dtype: int64\n",
            " \n",
            "HSCODE\n",
            "2847000000    109\n",
            "2808000000     74\n",
            "2807001000     37\n",
            "2801100000     34\n",
            "3102401000     22\n",
            "             ... \n",
            "2801200029      1\n",
            "2801200028      1\n",
            "2801200027      1\n",
            "2801200026      1\n",
            "2812101100      1\n",
            "Name: count, Length: 117, dtype: int64\n",
            " \n",
            "COUNTRY\n",
            "RUSSIA                  102\n",
            "VIETNAM                  74\n",
            "BELGIUM                  51\n",
            "GERMANY                  49\n",
            "UKRAINE                  38\n",
            "KENYA                    36\n",
            "INDIA                    29\n",
            "CHINA                    28\n",
            "COLOMBIA                 27\n",
            "BANGLADESH               26\n",
            "UNITED STATES            22\n",
            "MALAYSIA                 19\n",
            "SOUTH KOREA              18\n",
            "UNITED KINGDOM           17\n",
            "THAILAND                 17\n",
            "US VIRGIN ISLANDS        11\n",
            "URUGUAY                  10\n",
            "JAPAN                     9\n",
            "SRI LANKA                 8\n",
            "GERMENY                   6\n",
            "KOREA,REPUBLIC OF         4\n",
            "ISRAEL                    4\n",
            "SWITZERLAND               4\n",
            "CAMBODIA                  3\n",
            "CANADA                    3\n",
            "TAIWAN                    3\n",
            "TURKMENISTAN              3\n",
            "UK                        3\n",
            "CHILE                     2\n",
            "FRANCE                    2\n",
            "KAZAKHSTAN                2\n",
            "SINGAPORE                 2\n",
            "ARGENTINA                 1\n",
            "SLOVAKIA                  1\n",
            "BRAZIL                    1\n",
            "SOUTH AFRICA              1\n",
            "NIGERIA                   1\n",
            "UNITED ARAB EMIRATES      1\n",
            "ITALY                     1\n",
            "SAUDI ARABIA              1\n",
            "EGYPT                     1\n",
            "NETHERLANDS (HOLAND)      1\n",
            "ROMANIA                   1\n",
            "SLOVENIA                  1\n",
            "MEXICO                    1\n",
            "INDONESIA                 1\n",
            "AUSTRIA                   1\n",
            "PAKISTAN                  1\n",
            "USA                       1\n",
            "DENMARK                   1\n",
            "SPAIN                     1\n",
            "GEORGIA                   1\n",
            "Name: count, dtype: int64\n",
            " \n",
            "UNIT\n",
            "KG     479\n",
            "KGS     46\n",
            "PCS     36\n",
            "NOS     33\n",
            "GMS     23\n",
            "MTS     19\n",
            "LTR     18\n",
            "DRM      1\n",
            "Name: count, dtype: int64\n",
            " \n",
            "DESCRIPTION_01\n",
            "Inorganic chemicals; Organic or inorganic compounds of precious metals, of rare earth metals, of radioactive elements or of isotopes    581\n",
            "Fertilizers                                                                                                                              74\n",
            "Name: count, dtype: int64\n",
            " \n",
            "DESCRIPTION_02\n",
            "Fluorine, chlorine, bromine and iodine                                            117\n",
            "Hydrogen peroxide, whether or not solidified with urea                            109\n",
            "Nitric acid; sulphonitric acids                                                    94\n",
            "Mineral or chemical fertilizers, nitrogenous                                       74\n",
            "Halides and halide oxides of non metals                                            71\n",
            "Fluorides; fluorosilicates, fluoroaluminates, and other complex fluorine salts     67\n",
            "Sulphuric acid; oleum                                                              51\n",
            "Chlorates and perchlorates; bromates and perbromates; iodates and periodates       45\n",
            "Cyanides, cyanide oxides and complex cyanides                                      27\n",
            "Name: count, dtype: int64\n",
            " \n",
            "DESCRIPTION_03\n",
            "Hydrogen peroxide, whether or not solidified with urea                            109\n",
            "Nitric acid; sulphonitric acids                                                    94\n",
            "Iodine                                                                             79\n",
            "Mineral or chemical fertilizers, nitrogenous                                       74\n",
            "Halides and halide oxides of non metals                                            71\n",
            "Fluorides; fluorosilicates, fluoroaluminates, and other complex fluorine salts     67\n",
            "Sulphuric acid; oleum                                                              51\n",
            "Chlorates and perchlorates; bromates and perbromates; iodates and periodates       45\n",
            "Chlorine                                                                           34\n",
            "Cyanides and cyanide oxides : Other                                                14\n",
            "Cyanides and cyanide oxides : Of sodium                                            13\n",
            "Bromine                                                                             4\n",
            "Name: count, dtype: int64\n",
            " \n"
          ]
        }
      ]
    },
    {
      "cell_type": "markdown",
      "source": [
        "## **Handling Missing Values**"
      ],
      "metadata": {
        "id": "1V1GRWirw6dZ"
      }
    },
    {
      "cell_type": "markdown",
      "source": [
        "**Handling missing values in the categorical columns**"
      ],
      "metadata": {
        "id": "_blrRJs9w9Ae"
      }
    },
    {
      "cell_type": "markdown",
      "source": [
        "**Replacing all the missing values with 'Unknown'**"
      ],
      "metadata": {
        "id": "gyfrCUwExArg"
      }
    },
    {
      "cell_type": "code",
      "source": [
        "# Step 12: Handling missing values in the categorical columns\n",
        "\n",
        "# Replacing all the missing values in the categorical columns with 'Unknown' for imputation\n",
        "data[categorical_features] = data[categorical_features].fillna('Unknown')"
      ],
      "metadata": {
        "id": "gwZguTNVxC6V"
      },
      "execution_count": 73,
      "outputs": []
    },
    {
      "cell_type": "markdown",
      "source": [
        "**Checking for any missing values which is left behind when replacing with 'Unkown'**"
      ],
      "metadata": {
        "id": "9sRDfoJtxGii"
      }
    },
    {
      "cell_type": "code",
      "source": [
        "# Verifying the changes after replacing the missing values with 'Unknown'\n",
        "print(\"Checking for any missing values left behind after replacing with 'Unknown':\")\n",
        "for col in categorical_features:\n",
        "    null_count = data[col].isnull().sum()\n",
        "    if null_count > 0:\n",
        "        print(f\"{col}: {null_count} missing values\")\n",
        "    else:\n",
        "        print(f\"{col}: No missing values\")\n",
        "    print(\" \")"
      ],
      "metadata": {
        "colab": {
          "base_uri": "https://localhost:8080/"
        },
        "id": "_KOr4HMexU7u",
        "outputId": "d818b0c2-eb53-47f3-ac66-38c4881492e3"
      },
      "execution_count": 74,
      "outputs": [
        {
          "output_type": "stream",
          "name": "stdout",
          "text": [
            "Checking for any missing values left behind after replacing with 'Unknown':\n",
            "IMPORTER: No missing values\n",
            " \n",
            "MONTH: No missing values\n",
            " \n",
            "HSCODE: No missing values\n",
            " \n",
            "COUNTRY: No missing values\n",
            " \n",
            "UNIT: No missing values\n",
            " \n",
            "DESCRIPTION_01: No missing values\n",
            " \n",
            "DESCRIPTION_02: No missing values\n",
            " \n",
            "DESCRIPTION_03: No missing values\n",
            " \n"
          ]
        }
      ]
    },
    {
      "cell_type": "code",
      "source": [
        "# Handling the 'Unknown' values in the 'COUNTRY' column using the mode\n",
        "mode_country = data['COUNTRY'].mode()[0]\n",
        "data['COUNTRY'] = data['COUNTRY'].replace('Unknown', mode_country)"
      ],
      "metadata": {
        "id": "wvMFrWUXxvmn"
      },
      "execution_count": 75,
      "outputs": []
    },
    {
      "cell_type": "code",
      "source": [
        "# Dropping the 'MONTH' and 'IMPORTERS' Columns due to the significant amount of null values\n",
        "data.drop(columns=['MONTH', 'IMPORTER', 'DESCRIPTION_02'], inplace=True)"
      ],
      "metadata": {
        "id": "axai-dq0xxIL"
      },
      "execution_count": 76,
      "outputs": []
    },
    {
      "cell_type": "markdown",
      "source": [],
      "metadata": {
        "id": "i87LMfdD6duy"
      }
    },
    {
      "cell_type": "code",
      "source": [
        "# Displaying dataset information\n",
        "print(\"\\nDataset information after categorical imputation:\")\n",
        "data.info()"
      ],
      "metadata": {
        "colab": {
          "base_uri": "https://localhost:8080/"
        },
        "id": "P_3bsrzbxy-d",
        "outputId": "d0686638-061f-49de-e158-26a347f1dbb7"
      },
      "execution_count": 77,
      "outputs": [
        {
          "output_type": "stream",
          "name": "stdout",
          "text": [
            "\n",
            "Dataset information after categorical imputation:\n",
            "<class 'pandas.core.frame.DataFrame'>\n",
            "RangeIndex: 655 entries, 0 to 654\n",
            "Data columns (total 8 columns):\n",
            " #   Column          Non-Null Count  Dtype  \n",
            "---  ------          --------------  -----  \n",
            " 0   YEAR            288 non-null    float64\n",
            " 1   HSCODE          655 non-null    object \n",
            " 2   COUNTRY         655 non-null    object \n",
            " 3   UNIT            655 non-null    object \n",
            " 4   QUANTITY        653 non-null    float64\n",
            " 5   VALUE_RS        288 non-null    float64\n",
            " 6   DESCRIPTION_01  655 non-null    object \n",
            " 7   DESCRIPTION_03  655 non-null    object \n",
            "dtypes: float64(3), object(5)\n",
            "memory usage: 41.1+ KB\n"
          ]
        }
      ]
    },
    {
      "cell_type": "code",
      "source": [
        "# Display unique values in the 'COUNTRY' column\n",
        "unique_countries = data['COUNTRY'].unique()\n",
        "print(\"Unique Countries:\")\n",
        "print(unique_countries)"
      ],
      "metadata": {
        "colab": {
          "base_uri": "https://localhost:8080/"
        },
        "id": "XHxo0mG3x1vb",
        "outputId": "1c9d20bc-d581-4d93-8439-49f79b3e36e7"
      },
      "execution_count": 78,
      "outputs": [
        {
          "output_type": "stream",
          "name": "stdout",
          "text": [
            "Unique Countries:\n",
            "['BANGLADESH' 'INDIA' 'MALAYSIA' 'AUSTRIA' 'CHINA' 'USA' 'SOUTH KOREA'\n",
            " 'THAILAND' 'GERMENY' 'CANADA' 'DENMARK' 'UK' 'JAPAN' 'PAKISTAN'\n",
            " 'NETHERLANDS (HOLAND)' 'BELGIUM' 'SINGAPORE' 'SPAIN' 'FRANCE' 'GERMANY'\n",
            " 'ISRAEL' 'CHILE' 'SWITZERLAND' 'UNITED STATES' 'TURKMENISTAN'\n",
            " 'KOREA,REPUBLIC OF' 'UNITED KINGDOM' 'TAIWAN' 'RUSSIA' 'VIETNAM'\n",
            " 'US VIRGIN ISLANDS' 'KENYA' 'UKRAINE' 'URUGUAY' 'COLOMBIA' 'INDONESIA'\n",
            " 'KAZAKHSTAN' 'CAMBODIA' 'MEXICO' 'SLOVENIA' 'ROMANIA' 'SLOVAKIA' 'EGYPT'\n",
            " 'SAUDI ARABIA' 'ITALY' 'UNITED ARAB EMIRATES' 'NIGERIA' 'SOUTH AFRICA'\n",
            " 'SRI LANKA' 'ARGENTINA' 'BRAZIL' 'GEORGIA']\n"
          ]
        }
      ]
    },
    {
      "cell_type": "code",
      "source": [
        "# Display the unique values in the 'UNIT' column\n",
        "unique_units = data['UNIT'].unique()\n",
        "print(\"Unique Units:\")\n",
        "print(unique_units)"
      ],
      "metadata": {
        "colab": {
          "base_uri": "https://localhost:8080/"
        },
        "id": "YiZLSOUqx3et",
        "outputId": "b28ed194-ed43-496e-f9cc-3e33697e2d9a"
      },
      "execution_count": 79,
      "outputs": [
        {
          "output_type": "stream",
          "name": "stdout",
          "text": [
            "Unique Units:\n",
            "['KG' 'LTR' 'PCS' 'KGS' 'NOS' 'GMS' 'MTS' 'DRM']\n"
          ]
        }
      ]
    },
    {
      "cell_type": "code",
      "source": [
        "# Displaying the unique values in the 'DESCRIPTION_01' column\n",
        "unique_descriptions_01 = data['DESCRIPTION_01'].unique()\n",
        "print(\"Unique Descriptions_01:\")\n",
        "print(unique_descriptions_01)"
      ],
      "metadata": {
        "colab": {
          "base_uri": "https://localhost:8080/"
        },
        "id": "TEx8TCrZx4y_",
        "outputId": "4bd92c94-44e2-44f1-e247-5b04f78a68be"
      },
      "execution_count": 80,
      "outputs": [
        {
          "output_type": "stream",
          "name": "stdout",
          "text": [
            "Unique Descriptions_01:\n",
            "['Inorganic chemicals; Organic or inorganic compounds of precious metals, of rare earth metals, of radioactive elements or of isotopes'\n",
            " 'Fertilizers']\n"
          ]
        }
      ]
    },
    {
      "cell_type": "code",
      "source": [
        "# Displaying the unique values in the 'DESCRIPTION_02' column\n",
        "# unique_descriptions_02 = data['DESCRIPTION_02'].unique()\n",
        "# print(\"Unique Descriptions_02:\")\n",
        "# print(unique_descriptions_02)"
      ],
      "metadata": {
        "id": "Bxkt_Xs3x8JD"
      },
      "execution_count": 81,
      "outputs": []
    },
    {
      "cell_type": "code",
      "source": [
        "# Displaying the unique values in the 'DESCRIPTION_03' column\n",
        "unique_descriptions_03 = data['DESCRIPTION_03'].unique()\n",
        "print(\"Unique Descriptions_03:\")\n",
        "print(unique_descriptions_03)"
      ],
      "metadata": {
        "colab": {
          "base_uri": "https://localhost:8080/"
        },
        "id": "DrQ1FDcLx9vV",
        "outputId": "cad08dc3-61ad-4da2-a23d-33702f4a2f14"
      },
      "execution_count": 82,
      "outputs": [
        {
          "output_type": "stream",
          "name": "stdout",
          "text": [
            "Unique Descriptions_03:\n",
            "['Chlorine' 'Nitric acid; sulphonitric acids'\n",
            " 'Cyanides and cyanide oxides : Of sodium'\n",
            " 'Cyanides and cyanide oxides : Other'\n",
            " 'Hydrogen peroxide, whether or not solidified with urea' 'Iodine'\n",
            " 'Bromine'\n",
            " 'Chlorates and perchlorates; bromates and perbromates; iodates and periodates'\n",
            " 'Mineral or chemical fertilizers, nitrogenous' 'Sulphuric acid; oleum'\n",
            " 'Halides and halide oxides of non metals'\n",
            " 'Fluorides; fluorosilicates, fluoroaluminates, and other complex fluorine salts']\n"
          ]
        }
      ]
    },
    {
      "cell_type": "markdown",
      "source": [
        "# **Data Encoding**"
      ],
      "metadata": {
        "id": "NrOkIOX-yBI7"
      }
    },
    {
      "cell_type": "code",
      "source": [
        "import joblib\n",
        "from sklearn.preprocessing import OneHotEncoder\n",
        "import os\n",
        "import pandas as pd\n",
        "import numpy as np\n",
        "from sklearn.cluster import KMeans\n",
        "\n",
        "# Initialize a dictionary to store encoders\n",
        "encoders = {}\n",
        "\n",
        "# Define the directory where you want to save the encoders\n",
        "encoder_directory = '/content/drive/MyDrive/Importer_Risk_Prediction_2/encoders/'\n",
        "\n",
        "# Ensure the directory exists\n",
        "os.makedirs(encoder_directory, exist_ok=True)\n",
        "\n",
        "# Encoding categorical columns\n",
        "encoding_columns = ['HSCODE', 'COUNTRY', 'UNIT', 'DESCRIPTION_01','DESCRIPTION_03']\n",
        "for col in encoding_columns:\n",
        "    one_hot_encoder = OneHotEncoder(sparse_output=False, handle_unknown='ignore')\n",
        "    encoded = one_hot_encoder.fit_transform(data[[col]])\n",
        "    encoded_data = pd.DataFrame(encoded, columns=[f'{col}_{category}' for category in one_hot_encoder.categories_[0]])\n",
        "\n",
        "    # Concatenate the encoded columns with the original dataset, keeping the original column\n",
        "    data = pd.concat([data, encoded_data], axis=1)\n",
        "\n",
        "    # Save the encoder for the column with the column name as the file name in the specified directory\n",
        "    encoder_filename = os.path.join(encoder_directory, f'{col}_encoder.pkl')\n",
        "    joblib.dump(one_hot_encoder, encoder_filename)\n",
        "    encoders[col] = one_hot_encoder\n",
        "    print(f\"One-Hot Encoding applied to column: {col} and encoder saved as {encoder_filename}\")\n"
      ],
      "metadata": {
        "colab": {
          "base_uri": "https://localhost:8080/"
        },
        "id": "jnDDBkEGyDfj",
        "outputId": "9b92edbf-98fc-41c5-fdc0-b6a9cbd735cc"
      },
      "execution_count": 83,
      "outputs": [
        {
          "output_type": "stream",
          "name": "stdout",
          "text": [
            "One-Hot Encoding applied to column: HSCODE and encoder saved as /content/drive/MyDrive/Importer_Risk_Prediction_2/encoders/HSCODE_encoder.pkl\n",
            "One-Hot Encoding applied to column: COUNTRY and encoder saved as /content/drive/MyDrive/Importer_Risk_Prediction_2/encoders/COUNTRY_encoder.pkl\n",
            "One-Hot Encoding applied to column: UNIT and encoder saved as /content/drive/MyDrive/Importer_Risk_Prediction_2/encoders/UNIT_encoder.pkl\n",
            "One-Hot Encoding applied to column: DESCRIPTION_01 and encoder saved as /content/drive/MyDrive/Importer_Risk_Prediction_2/encoders/DESCRIPTION_01_encoder.pkl\n",
            "One-Hot Encoding applied to column: DESCRIPTION_03 and encoder saved as /content/drive/MyDrive/Importer_Risk_Prediction_2/encoders/DESCRIPTION_03_encoder.pkl\n"
          ]
        }
      ]
    },
    {
      "cell_type": "markdown",
      "source": [
        "## **Handling missing values in the numerical columns**"
      ],
      "metadata": {
        "id": "_-IyRBU7yUuZ"
      }
    },
    {
      "cell_type": "markdown",
      "source": [
        "**Using K-NN Imputaion to efficiently capture the small missing values and the captures local patterns in the 'Quantity' coulmn**"
      ],
      "metadata": {
        "id": "P89RWJGByXBd"
      }
    },
    {
      "cell_type": "code",
      "source": [
        "# Step 14: Handling missing values in the numerical columns\n",
        "\n",
        "# KNN Imputation for 'QUANTITY'\n",
        "knn_imputer = KNNImputer(n_neighbors=5)\n",
        "data[['QUANTITY']] = knn_imputer.fit_transform(data[['QUANTITY']])"
      ],
      "metadata": {
        "id": "XOdoNDMxyYzo"
      },
      "execution_count": 84,
      "outputs": []
    },
    {
      "cell_type": "code",
      "source": [
        "# Step 15: Dropping the 'YEAR' n the 'VALUE_RS' Column\n",
        "data.drop(columns=['YEAR', 'VALUE_RS'], inplace=True)"
      ],
      "metadata": {
        "id": "Ndm5RmBHyaSv"
      },
      "execution_count": 85,
      "outputs": []
    },
    {
      "cell_type": "markdown",
      "source": [
        "## **Handling the Outliers**"
      ],
      "metadata": {
        "id": "a0eiMCxxydc8"
      }
    },
    {
      "cell_type": "code",
      "source": [
        "# Step 16: Handling the outliers in the numerical columns\n",
        "\n",
        "# Assigning the Numerical Columns for the outlier analysis\n",
        "outlier_columns = [\"QUANTITY\"]\n",
        "\n",
        "# Creating an empty dictionary to store the outliers\n",
        "outlier_info = {}\n",
        "\n",
        "for column in outlier_columns:\n",
        "    Q1, Q3 = data[column].quantile([0.25, 0.75])\n",
        "    IQR = Q3 - Q1\n",
        "    lower_bound = Q1 - 1.5 * IQR\n",
        "    upper_bound = Q3 + 1.5 * IQR\n",
        "\n",
        "    # Detecting outliers\n",
        "    outliers = data[(data[column] < lower_bound) | (data[column] > upper_bound)]\n",
        "\n",
        "    outlier_info[column] = {\n",
        "        'Outliers': len(outliers),\n",
        "        'Lower Bound': lower_bound,\n",
        "        'Upper Bound': upper_bound\n",
        "    }\n",
        "\n",
        "    print(f\"Column: {column}\")\n",
        "    print(f\"  Outliers: {outlier_info[column]['Outliers']}, Lower: {lower_bound:.2f}, Upper: {upper_bound:.2f}\")\n",
        "    print(\" \")"
      ],
      "metadata": {
        "colab": {
          "base_uri": "https://localhost:8080/"
        },
        "id": "I7u3EZP8yhJG",
        "outputId": "5ce7b8ca-69f6-4b54-8f66-ae23d57de549"
      },
      "execution_count": 86,
      "outputs": [
        {
          "output_type": "stream",
          "name": "stdout",
          "text": [
            "Column: QUANTITY\n",
            "  Outliers: 87, Lower: -30370.00, Upper: 50670.00\n",
            " \n"
          ]
        }
      ]
    },
    {
      "cell_type": "markdown",
      "source": [
        "## **Visualization of the Outliers**"
      ],
      "metadata": {
        "id": "1zfhYUSWykaH"
      }
    },
    {
      "cell_type": "code",
      "source": [
        "# Visualizing the outliers for Quantity\n",
        "plt.figure(figsize=(10, 5))\n",
        "Q1 = data['QUANTITY'].quantile(0.25)\n",
        "Q3 = data['QUANTITY'].quantile(0.75)\n",
        "IQR = Q3 - Q1\n",
        "lower_bound = Q1 - 1.5 * IQR\n",
        "upper_bound = Q3 + 1.5 * IQR\n",
        "\n",
        "sns.boxplot(x=data['QUANTITY'], color='skyblue', flierprops=dict(marker='o', color='red', markersize=5))\n",
        "plt.axvline(lower_bound, color='red', linestyle='--', label='Lower Bound')\n",
        "plt.axvline(upper_bound, color='green', linestyle='--', label='Upper Bound')\n",
        "plt.title('Boxplot of Quantity')\n",
        "plt.xlabel('Quantity')\n",
        "plt.legend()\n",
        "plt.grid(axis='x', alpha=0.75)\n",
        "plt.tight_layout()\n",
        "plt.show()"
      ],
      "metadata": {
        "colab": {
          "base_uri": "https://localhost:8080/",
          "height": 336
        },
        "id": "1Epo4cafymLT",
        "outputId": "7b3fccf2-c4f4-44c0-fd1f-b5affe0f6113"
      },
      "execution_count": 87,
      "outputs": [
        {
          "output_type": "display_data",
          "data": {
            "text/plain": [
              "<Figure size 1000x500 with 1 Axes>"
            ],
            "image/png": "[encoded data removed]"
          },
          "metadata": {}
        }
      ]
    },
    {
      "cell_type": "code",
      "source": [
        "# Handling outliers by capping at the lower and upper bounds\n",
        "for column in outlier_columns:\n",
        "    data[column] = np.where(data[column] < outlier_info[column]['Lower Bound'], outlier_info[column]['Lower Bound'], data[column])\n",
        "    data[column] = np.where(data[column] > outlier_info[column]['Upper Bound'], outlier_info[column]['Upper Bound'], data[column])\n",
        "\n",
        "# Visualizing the QUANTITY column after outlier capping\n",
        "plt.figure(figsize=(10, 5))\n",
        "sns.boxplot(x=data['QUANTITY'], color='lightgreen', flierprops=dict(marker='o', color='red', markersize=5))\n",
        "plt.axvline(outlier_info['QUANTITY']['Lower Bound'], color='red', linestyle='--', label='Lower Bound')\n",
        "plt.axvline(outlier_info['QUANTITY']['Upper Bound'], color='green', linestyle='--', label='Upper Bound')\n",
        "plt.title('Boxplot of QUANTITY After Outlier Capping')\n",
        "plt.xlabel('Quantity')\n",
        "plt.legend()\n",
        "plt.grid(axis='x', alpha=0.75)\n",
        "plt.tight_layout()\n",
        "plt.show()\n",
        "\n",
        "# Displaying the cleaned dataset\n",
        "print(\"\\nCleaned Data (Outliers Capped):\\n\", data.head())"
      ],
      "metadata": {
        "colab": {
          "base_uri": "https://localhost:8080/",
          "height": 1000
        },
        "id": "aabQG4i6zq_q",
        "outputId": "fa404bfc-de2b-4b37-acbb-7c6c7feea2e7"
      },
      "execution_count": 88,
      "outputs": [
        {
          "output_type": "display_data",
          "data": {
            "text/plain": [
              "<Figure size 1000x500 with 1 Axes>"
            ],
            "image/png": "[encoded data removed]"
          },
          "metadata": {}
        },
        {
          "output_type": "stream",
          "name": "stdout",
          "text": [
            "\n",
            "Cleaned Data (Outliers Capped):\n",
            "        HSCODE     COUNTRY UNIT  QUANTITY  \\\n",
            "0  2801100000  BANGLADESH   KG   50670.0   \n",
            "1  2801100000       INDIA   KG   37800.0   \n",
            "2  2801100000    MALAYSIA   KG   12090.0   \n",
            "3  2801100000  BANGLADESH   KG   25200.0   \n",
            "4  2801100000       INDIA   KG   50670.0   \n",
            "\n",
            "                                      DESCRIPTION_01 DESCRIPTION_03  \\\n",
            "0  Inorganic chemicals; Organic or inorganic comp...       Chlorine   \n",
            "1  Inorganic chemicals; Organic or inorganic comp...       Chlorine   \n",
            "2  Inorganic chemicals; Organic or inorganic comp...       Chlorine   \n",
            "3  Inorganic chemicals; Organic or inorganic comp...       Chlorine   \n",
            "4  Inorganic chemicals; Organic or inorganic comp...       Chlorine   \n",
            "\n",
            "   HSCODE_2801100000  HSCODE_2801200000  HSCODE_2801200001  HSCODE_2801200002  \\\n",
            "0                1.0                0.0                0.0                0.0   \n",
            "1                1.0                0.0                0.0                0.0   \n",
            "2                1.0                0.0                0.0                0.0   \n",
            "3                1.0                0.0                0.0                0.0   \n",
            "4                1.0                0.0                0.0                0.0   \n",
            "\n",
            "   ...  DESCRIPTION_03_Chlorine  \\\n",
            "0  ...                      1.0   \n",
            "1  ...                      1.0   \n",
            "2  ...                      1.0   \n",
            "3  ...                      1.0   \n",
            "4  ...                      1.0   \n",
            "\n",
            "   DESCRIPTION_03_Cyanides and cyanide oxides : Of sodium  \\\n",
            "0                                                0.0        \n",
            "1                                                0.0        \n",
            "2                                                0.0        \n",
            "3                                                0.0        \n",
            "4                                                0.0        \n",
            "\n",
            "   DESCRIPTION_03_Cyanides and cyanide oxides : Other  \\\n",
            "0                                                0.0    \n",
            "1                                                0.0    \n",
            "2                                                0.0    \n",
            "3                                                0.0    \n",
            "4                                                0.0    \n",
            "\n",
            "   DESCRIPTION_03_Fluorides; fluorosilicates, fluoroaluminates, and other complex fluorine salts  \\\n",
            "0                                                0.0                                               \n",
            "1                                                0.0                                               \n",
            "2                                                0.0                                               \n",
            "3                                                0.0                                               \n",
            "4                                                0.0                                               \n",
            "\n",
            "   DESCRIPTION_03_Halides and halide oxides of non metals  \\\n",
            "0                                                0.0        \n",
            "1                                                0.0        \n",
            "2                                                0.0        \n",
            "3                                                0.0        \n",
            "4                                                0.0        \n",
            "\n",
            "   DESCRIPTION_03_Hydrogen peroxide, whether or not solidified with urea  \\\n",
            "0                                                0.0                       \n",
            "1                                                0.0                       \n",
            "2                                                0.0                       \n",
            "3                                                0.0                       \n",
            "4                                                0.0                       \n",
            "\n",
            "   DESCRIPTION_03_Iodine  \\\n",
            "0                    0.0   \n",
            "1                    0.0   \n",
            "2                    0.0   \n",
            "3                    0.0   \n",
            "4                    0.0   \n",
            "\n",
            "   DESCRIPTION_03_Mineral or chemical fertilizers, nitrogenous  \\\n",
            "0                                                0.0             \n",
            "1                                                0.0             \n",
            "2                                                0.0             \n",
            "3                                                0.0             \n",
            "4                                                0.0             \n",
            "\n",
            "   DESCRIPTION_03_Nitric acid; sulphonitric acids  \\\n",
            "0                                             0.0   \n",
            "1                                             0.0   \n",
            "2                                             0.0   \n",
            "3                                             0.0   \n",
            "4                                             0.0   \n",
            "\n",
            "   DESCRIPTION_03_Sulphuric acid; oleum  \n",
            "0                                   0.0  \n",
            "1                                   0.0  \n",
            "2                                   0.0  \n",
            "3                                   0.0  \n",
            "4                                   0.0  \n",
            "\n",
            "[5 rows x 197 columns]\n"
          ]
        }
      ]
    },
    {
      "cell_type": "code",
      "source": [
        "# Step 17: Normalizing Quantity\n",
        "from sklearn.preprocessing import RobustScaler\n",
        "\n",
        "scaler = RobustScaler()\n",
        "data['QUANTITY'] = scaler.fit_transform(data[['QUANTITY']])"
      ],
      "metadata": {
        "id": "BNr_52FD0iKN"
      },
      "execution_count": 89,
      "outputs": []
    },
    {
      "cell_type": "code",
      "source": [
        "# Displaying Dataset Information\n",
        "print(data.info())"
      ],
      "metadata": {
        "colab": {
          "base_uri": "https://localhost:8080/"
        },
        "id": "Cn_1tB7P0jte",
        "outputId": "cf5c7b17-0835-4093-ef90-66ce1886f38f"
      },
      "execution_count": 90,
      "outputs": [
        {
          "output_type": "stream",
          "name": "stdout",
          "text": [
            "<class 'pandas.core.frame.DataFrame'>\n",
            "RangeIndex: 655 entries, 0 to 654\n",
            "Columns: 197 entries, HSCODE to DESCRIPTION_03_Sulphuric acid; oleum\n",
            "dtypes: float64(192), object(5)\n",
            "memory usage: 1008.2+ KB\n",
            "None\n"
          ]
        }
      ]
    },
    {
      "cell_type": "code",
      "source": [
        "# Displaying Dataset Head\n",
        "print(data.head())"
      ],
      "metadata": {
        "colab": {
          "base_uri": "https://localhost:8080/"
        },
        "id": "ilPq_oWQ0kKE",
        "outputId": "76595981-c12b-4556-f570-594801a30dc4"
      },
      "execution_count": 91,
      "outputs": [
        {
          "output_type": "stream",
          "name": "stdout",
          "text": [
            "       HSCODE     COUNTRY UNIT  QUANTITY  \\\n",
            "0  2801100000  BANGLADESH   KG  2.428578   \n",
            "1  2801100000       INDIA   KG  1.793337   \n",
            "2  2801100000    MALAYSIA   KG  0.524334   \n",
            "3  2801100000  BANGLADESH   KG  1.171422   \n",
            "4  2801100000       INDIA   KG  2.428578   \n",
            "\n",
            "                                      DESCRIPTION_01 DESCRIPTION_03  \\\n",
            "0  Inorganic chemicals; Organic or inorganic comp...       Chlorine   \n",
            "1  Inorganic chemicals; Organic or inorganic comp...       Chlorine   \n",
            "2  Inorganic chemicals; Organic or inorganic comp...       Chlorine   \n",
            "3  Inorganic chemicals; Organic or inorganic comp...       Chlorine   \n",
            "4  Inorganic chemicals; Organic or inorganic comp...       Chlorine   \n",
            "\n",
            "   HSCODE_2801100000  HSCODE_2801200000  HSCODE_2801200001  HSCODE_2801200002  \\\n",
            "0                1.0                0.0                0.0                0.0   \n",
            "1                1.0                0.0                0.0                0.0   \n",
            "2                1.0                0.0                0.0                0.0   \n",
            "3                1.0                0.0                0.0                0.0   \n",
            "4                1.0                0.0                0.0                0.0   \n",
            "\n",
            "   ...  DESCRIPTION_03_Chlorine  \\\n",
            "0  ...                      1.0   \n",
            "1  ...                      1.0   \n",
            "2  ...                      1.0   \n",
            "3  ...                      1.0   \n",
            "4  ...                      1.0   \n",
            "\n",
            "   DESCRIPTION_03_Cyanides and cyanide oxides : Of sodium  \\\n",
            "0                                                0.0        \n",
            "1                                                0.0        \n",
            "2                                                0.0        \n",
            "3                                                0.0        \n",
            "4                                                0.0        \n",
            "\n",
            "   DESCRIPTION_03_Cyanides and cyanide oxides : Other  \\\n",
            "0                                                0.0    \n",
            "1                                                0.0    \n",
            "2                                                0.0    \n",
            "3                                                0.0    \n",
            "4                                                0.0    \n",
            "\n",
            "   DESCRIPTION_03_Fluorides; fluorosilicates, fluoroaluminates, and other complex fluorine salts  \\\n",
            "0                                                0.0                                               \n",
            "1                                                0.0                                               \n",
            "2                                                0.0                                               \n",
            "3                                                0.0                                               \n",
            "4                                                0.0                                               \n",
            "\n",
            "   DESCRIPTION_03_Halides and halide oxides of non metals  \\\n",
            "0                                                0.0        \n",
            "1                                                0.0        \n",
            "2                                                0.0        \n",
            "3                                                0.0        \n",
            "4                                                0.0        \n",
            "\n",
            "   DESCRIPTION_03_Hydrogen peroxide, whether or not solidified with urea  \\\n",
            "0                                                0.0                       \n",
            "1                                                0.0                       \n",
            "2                                                0.0                       \n",
            "3                                                0.0                       \n",
            "4                                                0.0                       \n",
            "\n",
            "   DESCRIPTION_03_Iodine  \\\n",
            "0                    0.0   \n",
            "1                    0.0   \n",
            "2                    0.0   \n",
            "3                    0.0   \n",
            "4                    0.0   \n",
            "\n",
            "   DESCRIPTION_03_Mineral or chemical fertilizers, nitrogenous  \\\n",
            "0                                                0.0             \n",
            "1                                                0.0             \n",
            "2                                                0.0             \n",
            "3                                                0.0             \n",
            "4                                                0.0             \n",
            "\n",
            "   DESCRIPTION_03_Nitric acid; sulphonitric acids  \\\n",
            "0                                             0.0   \n",
            "1                                             0.0   \n",
            "2                                             0.0   \n",
            "3                                             0.0   \n",
            "4                                             0.0   \n",
            "\n",
            "   DESCRIPTION_03_Sulphuric acid; oleum  \n",
            "0                                   0.0  \n",
            "1                                   0.0  \n",
            "2                                   0.0  \n",
            "3                                   0.0  \n",
            "4                                   0.0  \n",
            "\n",
            "[5 rows x 197 columns]\n"
          ]
        }
      ]
    },
    {
      "cell_type": "markdown",
      "source": [
        "## **Assigning the Target Variable**"
      ],
      "metadata": {
        "id": "zYhjD4Gv01qn"
      }
    },
    {
      "cell_type": "code",
      "source": [
        "import numpy as np\n",
        "from sklearn.cluster import KMeans\n",
        "\n",
        "# Selecting only the encoded columns for clustering\n",
        "encoded_columns = [f'{col}_{category}' for col in encoding_columns for category in encoders[col].categories_[0]]\n",
        "encoded_data = data[encoded_columns]\n",
        "\n",
        "# Performing K-means clustering\n",
        "kmeans = KMeans(n_clusters=4, random_state=42)\n",
        "clusters = kmeans.fit_predict(encoded_data)\n",
        "\n",
        "# Assigning numerical risk scores based on cluster\n",
        "data['RISK_SCORE'] = clusters * 25\n",
        "\n",
        "# Define Risk Score Thresholds\n",
        "high_risk_score_threshold = 50\n",
        "moderate_risk_score_threshold = 25\n",
        "low_risk_score_threshold = 0\n",
        "\n",
        "# Define Quantity Thresholds\n",
        "high_risk_quantity_threshold = 150000  # ≤ 150,000\n",
        "moderate_risk_quantity_threshold = 80000  # ≤ 80,000\n",
        "low_risk_quantity_threshold = 25000  # ≤ 25,000\n",
        "\n",
        "# Assigning Risk Labels Based on Score & Quantity\n",
        "def assign_risk_label(row):\n",
        "    if row['RISK_SCORE'] >= high_risk_score_threshold and row['QUANTITY'] <= high_risk_quantity_threshold:\n",
        "        return \"High Risk\"\n",
        "    elif row['RISK_SCORE'] >= moderate_risk_score_threshold and row['QUANTITY'] <= moderate_risk_quantity_threshold:\n",
        "        return \"Moderate Risk\"\n",
        "    elif row['RISK_SCORE'] >= low_risk_score_threshold and row['QUANTITY'] <= low_risk_quantity_threshold:\n",
        "        return \"Low Risk\"\n",
        "    else:\n",
        "        return \"No Risk\"\n",
        "\n",
        "# Apply risk label function\n",
        "data['RISK'] = data.apply(assign_risk_label, axis=1)\n",
        "\n",
        "# Dropping the numerical risk score column\n",
        "data.drop(columns=['RISK_SCORE'], inplace=True)\n",
        "\n",
        "print(\"Risk levels assigned based on risk score and quantity thresholds.\")"
      ],
      "metadata": {
        "colab": {
          "base_uri": "https://localhost:8080/"
        },
        "id": "BU8cMfE303hq",
        "outputId": "b2095bc2-087c-41c1-cbf4-14df5554ff9c"
      },
      "execution_count": 92,
      "outputs": [
        {
          "output_type": "stream",
          "name": "stdout",
          "text": [
            "Risk levels assigned based on risk score and quantity thresholds.\n"
          ]
        }
      ]
    },
    {
      "cell_type": "code",
      "source": [
        "# Display Dataset Information\n",
        "print(data.info())"
      ],
      "metadata": {
        "colab": {
          "base_uri": "https://localhost:8080/"
        },
        "id": "XEjK5Tdc08gF",
        "outputId": "1bc657b1-391a-4828-884d-353b0d5721a0"
      },
      "execution_count": 93,
      "outputs": [
        {
          "output_type": "stream",
          "name": "stdout",
          "text": [
            "<class 'pandas.core.frame.DataFrame'>\n",
            "RangeIndex: 655 entries, 0 to 654\n",
            "Columns: 198 entries, HSCODE to RISK\n",
            "dtypes: float64(192), object(6)\n",
            "memory usage: 1013.3+ KB\n",
            "None\n"
          ]
        }
      ]
    },
    {
      "cell_type": "code",
      "source": [
        "# Print Unique Values for All Columns\n",
        "for col in data.columns:\n",
        "    print(f\"Unique values in '{col}':\")\n",
        "    print(data[col].unique())\n",
        "    print('-' * 40)"
      ],
      "metadata": {
        "colab": {
          "base_uri": "https://localhost:8080/"
        },
        "id": "vQ9Ms39V0-O-",
        "outputId": "fefe440b-8708-4f05-fdf4-66f2a3cd78d8"
      },
      "execution_count": 94,
      "outputs": [
        {
          "output_type": "stream",
          "name": "stdout",
          "text": [
            "Unique values in 'HSCODE':\n",
            "['2801100000' '2808000000' '2837110000' '2837190000' '2847000000'\n",
            " '2808001000' '2801200000' '2801302000' '2837209000' '2837191000'\n",
            " '2837202000' '2837199000' '2801200001' '2801200002' '2801200003'\n",
            " '2801200004' '2801200005' '2801200006' '2801200007' '2801200008'\n",
            " '2801200009' '2801200010' '2801200011' '2801200012' '2801200013'\n",
            " '2801200014' '2801200015' '2801200016' '2801200017' '2801200018'\n",
            " '2801200019' '2801200020' '2801200021' '2801200022' '2801200023'\n",
            " '2801200024' '2801200025' '2801200026' '2801200027' '2801200028'\n",
            " '2801200029' '2801200030' '2801200031' '2801200032' '2801200033'\n",
            " '2801200034' '2801200035' '2801200036' '2801200037' '2801200038'\n",
            " '2801200039' '2801200040' '2801200041' '2801200042' '2801200043'\n",
            " '2801200044' '2801200045' '2801200046' '2801200047' '2801200048'\n",
            " '2801200049' '2801200050' '2801200051' '2801200052' '2801200053'\n",
            " '2801200054' '2801200055' '2801200056' '2801200057' '2801200058'\n",
            " '2801200059' '2801200060' '2801200061' '2801200062' '2801200063'\n",
            " '2829901000' '2829192000' '2829902000' '2829190000' '2829110000'\n",
            " '2829909000' '2829908000' '2829903000' '3102210000' '3102909000'\n",
            " '3102401000' '3102100000' '3102101000' '3102600100' '3102600000'\n",
            " '3102500000' '3102299000' '2807001000' '2807002000' '2812900000'\n",
            " '2812109000' '2812101000' '2812105000' '2826300000' '2826199000'\n",
            " '2826900000' '2826191000' '2826120000' '2807009000' '2826190000'\n",
            " '2826908000' '2812190000' '2812120000' '2812199000' '2812191900'\n",
            " '2812160000' '2812170000' '2812109900' '2812104300' '2812104700'\n",
            " '2812104200' '2812101100']\n",
            "----------------------------------------\n",
            "Unique values in 'COUNTRY':\n",
            "['BANGLADESH' 'INDIA' 'MALAYSIA' 'AUSTRIA' 'CHINA' 'USA' 'SOUTH KOREA'\n",
            " 'THAILAND' 'GERMENY' 'CANADA' 'DENMARK' 'UK' 'JAPAN' 'PAKISTAN'\n",
            " 'NETHERLANDS (HOLAND)' 'BELGIUM' 'SINGAPORE' 'SPAIN' 'FRANCE' 'GERMANY'\n",
            " 'ISRAEL' 'CHILE' 'SWITZERLAND' 'UNITED STATES' 'TURKMENISTAN'\n",
            " 'KOREA,REPUBLIC OF' 'UNITED KINGDOM' 'TAIWAN' 'RUSSIA' 'VIETNAM'\n",
            " 'US VIRGIN ISLANDS' 'KENYA' 'UKRAINE' 'URUGUAY' 'COLOMBIA' 'INDONESIA'\n",
            " 'KAZAKHSTAN' 'CAMBODIA' 'MEXICO' 'SLOVENIA' 'ROMANIA' 'SLOVAKIA' 'EGYPT'\n",
            " 'SAUDI ARABIA' 'ITALY' 'UNITED ARAB EMIRATES' 'NIGERIA' 'SOUTH AFRICA'\n",
            " 'SRI LANKA' 'ARGENTINA' 'BRAZIL' 'GEORGIA']\n",
            "----------------------------------------\n",
            "Unique values in 'UNIT':\n",
            "['KG' 'LTR' 'PCS' 'KGS' 'NOS' 'GMS' 'MTS' 'DRM']\n",
            "----------------------------------------\n",
            "Unique values in 'QUANTITY':\n",
            "[ 2.42857848e+00  1.79333662e+00  5.24333662e-01  1.17142152e+00\n",
            " -7.23840079e-02 -7.24017769e-02  4.21174729e-01  2.41525173e+00\n",
            "  2.00064166e+00  1.09244817e+00  2.13884501e+00  1.03321816e+00\n",
            " -6.48770977e-02 -2.83316881e-02  1.48716683e-01  8.95014808e-01\n",
            "  1.80715696e+00  9.64116486e-01 -6.37788746e-02 -7.21717670e-02\n",
            "  2.03223100e+00  1.25434353e+00 -6.77739388e-02 -7.22596249e-02\n",
            "  1.10182626e+00  2.39353406e+00 -7.23139191e-02 -7.23948667e-02\n",
            " -7.04343534e-02 -6.62388944e-02 -7.23524186e-02 -7.23884501e-02\n",
            " -7.14215202e-02  9.34995064e-01  1.82295163e+00 -7.23346496e-02\n",
            " -4.27936821e-02  9.95059230e-01  8.75271471e-01  9.34501481e-01\n",
            "  3.61796644e-02 -7.10809477e-02  3.52270484e-01 -7.22112537e-02\n",
            "  1.81850938e+00 -2.50246792e-02 -7.22606120e-02 -7.23198421e-02\n",
            "  1.70286278e-02 -6.99447187e-02 -7.23440276e-02 -7.21618954e-02\n",
            " -7.19151037e-02 -7.22852912e-02 -7.23099704e-02 -7.23593287e-02\n",
            " -7.21125370e-02 -6.74728529e-02  1.74383021e-01  8.01233959e-01\n",
            "  6.82773939e-01  3.22458045e-01  2.73099704e-01  6.77838105e-01\n",
            "  6.76850938e-01 -2.55182626e-02 -2.05824284e-02  4.60661402e-01\n",
            "  8.16041461e-01 -4.77295163e-02  7.17324778e-01  9.14758144e-01\n",
            " -7.15202369e-02 -2.79861797e-02  1.64363277e-02 -7.11747285e-02\n",
            "  1.01347483e+00 -6.00691017e-02 -2.02369200e-02  8.73642646e-03\n",
            " -1.54985192e-02 -1.85587364e-02  2.96150049e-01 -2.00888450e-02\n",
            " -6.19447187e-02  7.36920039e-02  8.91905232e-02  8.21816387e-02\n",
            "  3.06515301e-02  4.88647581e-03  1.85241856e-01  6.99407700e-02\n",
            "  1.25271471e-01  2.03356367e-02  3.02566634e-02  4.42892399e-01\n",
            " -4.35834156e-02  8.40572557e-02 -6.87068115e-02  5.49506417e-01\n",
            " -7.13721619e-02 -7.09772952e-02 -7.24086871e-02  1.87808490e-01\n",
            " -7.19644620e-02 -2.30503455e-02  9.99654492e-01 -7.20631787e-02\n",
            " -7.18163870e-02 -7.16189536e-02  2.63079961e-02  9.03899309e-01\n",
            " -4.13129319e-02 -6.99407700e-02 -7.02369200e-02  1.62882527e-03\n",
            "  9.22655479e-01  1.91771964e+00 -7.13228036e-02 -7.11253702e-02\n",
            " -6.98420533e-02 -5.51332675e-02 -8.24284304e-03  1.86243830e+00\n",
            " -3.78578480e-02 -3.05528134e-02 -3.90424482e-02 -6.23395854e-02\n",
            "  1.07270484e+00  1.05394867e+00  1.04111550e+00  1.04210267e+00\n",
            "  2.06317868e-02  1.15463968e+00  1.14378085e+00  1.11219151e+00\n",
            " -6.17472853e-02  2.05987167e+00  9.93731491e-01  6.43336624e-01\n",
            "  7.56663376e-02  6.84550839e-01  6.42991115e-01  2.72606120e-01\n",
            "  2.31638697e-01 -6.09081935e-02  9.15547878e-01 -5.66140178e-02\n",
            "  1.20695953e+00  1.54639684e-01  1.35977295e+00  9.49308983e-01\n",
            " -6.84600197e-02  6.42152024e-01  5.19891412e-01  5.31737414e-01\n",
            "  5.34106614e-01  2.14871668e+00  1.40834156e+00  9.73988154e-01\n",
            " -6.95656466e-02 -5.76011846e-02 -7.06811451e-02 -6.68805528e-02\n",
            "  1.94141165e+00 -6.25370188e-02 -7.03356367e-02  1.25024679e-01\n",
            " -7.10760118e-02 -6.84106614e-02 -6.97433366e-02 -3.53899309e-02\n",
            " -1.81145114e-02  5.33810464e-01  8.97828233e-02  5.09871668e-02\n",
            " -5.74531096e-02 -5.75518263e-02  2.60019743e-01  6.56120434e-01\n",
            " -4.67423495e-02  3.10957552e-02  5.83761106e-01  1.14017769e-01\n",
            "  1.66288253e-01  1.09985192e+00  0.00000000e+00  1.13687068e+00\n",
            " -5.73050346e-02  1.03815400e+00 -5.64165844e-02  1.09081935e-01\n",
            "  1.19249753e-01  4.39782823e-01 -5.87857848e-02 -4.79269497e-02\n",
            " -4.97532083e-02 -5.68114511e-02  1.06283317e+00  2.23741362e-01\n",
            " -1.41658440e-02 -1.73247779e-02 -4.91609082e-02 -6.70779862e-02\n",
            "  1.26026654e+00 -5.31589339e-02  1.49703850e-01 -5.50839092e-02\n",
            " -6.64383514e-02 -6.53484205e-02 -6.44126357e-02 -7.15695953e-02\n",
            " -7.19564166e-02 -5.26653504e-02  1.01495558e+00 -7.17176703e-02\n",
            "  5.13820336e-02 -7.24037512e-02  2.39550839e+00  1.16154985e+00\n",
            " -1.33267522e-03 -6.89536032e-02  6.67966436e-01  6.94126357e-01\n",
            " -4.87166831e-02 -5.80947680e-02  7.00542942e-01  1.05281343e-01\n",
            "  6.89190523e-01  3.50098717e-01  6.80306022e-01  2.23593287e-02\n",
            " -7.16683119e-02 -6.77196446e-02  1.01150049e+00  9.44768016e-01\n",
            " -7.09279368e-02  9.68854886e-01 -1.31786772e-02 -3.87956565e-02\n",
            "  1.08455084e+00 -7.08292201e-02  2.23805528e+00  2.97285291e-01\n",
            "  2.00740375e-01 -3.21322804e-02  2.02665350e-01  1.51826259e-01\n",
            "  8.59723593e-01  8.78084896e-01  5.75222113e-01  6.45113524e-02\n",
            "  6.13474827e-01 -6.50049358e-02 -6.64856861e-02  8.89091807e-01\n",
            "  8.71816387e-01  8.75765054e-01  8.81688055e-01  7.27196446e-01\n",
            "  8.61451135e-01  8.74777887e-01  8.90078973e-01  8.70335637e-01\n",
            "  8.62438302e-01  8.76258638e-01  8.87117473e-01 -5.28627838e-02\n",
            "  8.73297137e-01  3.71816387e-01  8.85636723e-01  8.86130306e-01\n",
            "  8.77245805e-01  8.57502468e-01  8.86623889e-01  6.97581441e-01\n",
            "  8.77739388e-01  9.01924975e-01  8.81194472e-01  8.67867720e-01]\n",
            "----------------------------------------\n",
            "Unique values in 'DESCRIPTION_01':\n",
            "['Inorganic chemicals; Organic or inorganic compounds of precious metals, of rare earth metals, of radioactive elements or of isotopes'\n",
            " 'Fertilizers']\n",
            "----------------------------------------\n",
            "Unique values in 'DESCRIPTION_03':\n",
            "['Chlorine' 'Nitric acid; sulphonitric acids'\n",
            " 'Cyanides and cyanide oxides : Of sodium'\n",
            " 'Cyanides and cyanide oxides : Other'\n",
            " 'Hydrogen peroxide, whether or not solidified with urea' 'Iodine'\n",
            " 'Bromine'\n",
            " 'Chlorates and perchlorates; bromates and perbromates; iodates and periodates'\n",
            " 'Mineral or chemical fertilizers, nitrogenous' 'Sulphuric acid; oleum'\n",
            " 'Halides and halide oxides of non metals'\n",
            " 'Fluorides; fluorosilicates, fluoroaluminates, and other complex fluorine salts']\n",
            "----------------------------------------\n",
            "Unique values in 'HSCODE_2801100000':\n",
            "[1. 0.]\n",
            "----------------------------------------\n",
            "Unique values in 'HSCODE_2801200000':\n",
            "[0. 1.]\n",
            "----------------------------------------\n",
            "Unique values in 'HSCODE_2801200001':\n",
            "[0. 1.]\n",
            "----------------------------------------\n",
            "Unique values in 'HSCODE_2801200002':\n",
            "[0. 1.]\n",
            "----------------------------------------\n",
            "Unique values in 'HSCODE_2801200003':\n",
            "[0. 1.]\n",
            "----------------------------------------\n",
            "Unique values in 'HSCODE_2801200004':\n",
            "[0. 1.]\n",
            "----------------------------------------\n",
            "Unique values in 'HSCODE_2801200005':\n",
            "[0. 1.]\n",
            "----------------------------------------\n",
            "Unique values in 'HSCODE_2801200006':\n",
            "[0. 1.]\n",
            "----------------------------------------\n",
            "Unique values in 'HSCODE_2801200007':\n",
            "[0. 1.]\n",
            "----------------------------------------\n",
            "Unique values in 'HSCODE_2801200008':\n",
            "[0. 1.]\n",
            "----------------------------------------\n",
            "Unique values in 'HSCODE_2801200009':\n",
            "[0. 1.]\n",
            "----------------------------------------\n",
            "Unique values in 'HSCODE_2801200010':\n",
            "[0. 1.]\n",
            "----------------------------------------\n",
            "Unique values in 'HSCODE_2801200011':\n",
            "[0. 1.]\n",
            "----------------------------------------\n",
            "Unique values in 'HSCODE_2801200012':\n",
            "[0. 1.]\n",
            "----------------------------------------\n",
            "Unique values in 'HSCODE_2801200013':\n",
            "[0. 1.]\n",
            "----------------------------------------\n",
            "Unique values in 'HSCODE_2801200014':\n",
            "[0. 1.]\n",
            "----------------------------------------\n",
            "Unique values in 'HSCODE_2801200015':\n",
            "[0. 1.]\n",
            "----------------------------------------\n",
            "Unique values in 'HSCODE_2801200016':\n",
            "[0. 1.]\n",
            "----------------------------------------\n",
            "Unique values in 'HSCODE_2801200017':\n",
            "[0. 1.]\n",
            "----------------------------------------\n",
            "Unique values in 'HSCODE_2801200018':\n",
            "[0. 1.]\n",
            "----------------------------------------\n",
            "Unique values in 'HSCODE_2801200019':\n",
            "[0. 1.]\n",
            "----------------------------------------\n",
            "Unique values in 'HSCODE_2801200020':\n",
            "[0. 1.]\n",
            "----------------------------------------\n",
            "Unique values in 'HSCODE_2801200021':\n",
            "[0. 1.]\n",
            "----------------------------------------\n",
            "Unique values in 'HSCODE_2801200022':\n",
            "[0. 1.]\n",
            "----------------------------------------\n",
            "Unique values in 'HSCODE_2801200023':\n",
            "[0. 1.]\n",
            "----------------------------------------\n",
            "Unique values in 'HSCODE_2801200024':\n",
            "[0. 1.]\n",
            "----------------------------------------\n",
            "Unique values in 'HSCODE_2801200025':\n",
            "[0. 1.]\n",
            "----------------------------------------\n",
            "Unique values in 'HSCODE_2801200026':\n",
            "[0. 1.]\n",
            "----------------------------------------\n",
            "Unique values in 'HSCODE_2801200027':\n",
            "[0. 1.]\n",
            "----------------------------------------\n",
            "Unique values in 'HSCODE_2801200028':\n",
            "[0. 1.]\n",
            "----------------------------------------\n",
            "Unique values in 'HSCODE_2801200029':\n",
            "[0. 1.]\n",
            "----------------------------------------\n",
            "Unique values in 'HSCODE_2801200030':\n",
            "[0. 1.]\n",
            "----------------------------------------\n",
            "Unique values in 'HSCODE_2801200031':\n",
            "[0. 1.]\n",
            "----------------------------------------\n",
            "Unique values in 'HSCODE_2801200032':\n",
            "[0. 1.]\n",
            "----------------------------------------\n",
            "Unique values in 'HSCODE_2801200033':\n",
            "[0. 1.]\n",
            "----------------------------------------\n",
            "Unique values in 'HSCODE_2801200034':\n",
            "[0. 1.]\n",
            "----------------------------------------\n",
            "Unique values in 'HSCODE_2801200035':\n",
            "[0. 1.]\n",
            "----------------------------------------\n",
            "Unique values in 'HSCODE_2801200036':\n",
            "[0. 1.]\n",
            "----------------------------------------\n",
            "Unique values in 'HSCODE_2801200037':\n",
            "[0. 1.]\n",
            "----------------------------------------\n",
            "Unique values in 'HSCODE_2801200038':\n",
            "[0. 1.]\n",
            "----------------------------------------\n",
            "Unique values in 'HSCODE_2801200039':\n",
            "[0. 1.]\n",
            "----------------------------------------\n",
            "Unique values in 'HSCODE_2801200040':\n",
            "[0. 1.]\n",
            "----------------------------------------\n",
            "Unique values in 'HSCODE_2801200041':\n",
            "[0. 1.]\n",
            "----------------------------------------\n",
            "Unique values in 'HSCODE_2801200042':\n",
            "[0. 1.]\n",
            "----------------------------------------\n",
            "Unique values in 'HSCODE_2801200043':\n",
            "[0. 1.]\n",
            "----------------------------------------\n",
            "Unique values in 'HSCODE_2801200044':\n",
            "[0. 1.]\n",
            "----------------------------------------\n",
            "Unique values in 'HSCODE_2801200045':\n",
            "[0. 1.]\n",
            "----------------------------------------\n",
            "Unique values in 'HSCODE_2801200046':\n",
            "[0. 1.]\n",
            "----------------------------------------\n",
            "Unique values in 'HSCODE_2801200047':\n",
            "[0. 1.]\n",
            "----------------------------------------\n",
            "Unique values in 'HSCODE_2801200048':\n",
            "[0. 1.]\n",
            "----------------------------------------\n",
            "Unique values in 'HSCODE_2801200049':\n",
            "[0. 1.]\n",
            "----------------------------------------\n",
            "Unique values in 'HSCODE_2801200050':\n",
            "[0. 1.]\n",
            "----------------------------------------\n",
            "Unique values in 'HSCODE_2801200051':\n",
            "[0. 1.]\n",
            "----------------------------------------\n",
            "Unique values in 'HSCODE_2801200052':\n",
            "[0. 1.]\n",
            "----------------------------------------\n",
            "Unique values in 'HSCODE_2801200053':\n",
            "[0. 1.]\n",
            "----------------------------------------\n",
            "Unique values in 'HSCODE_2801200054':\n",
            "[0. 1.]\n",
            "----------------------------------------\n",
            "Unique values in 'HSCODE_2801200055':\n",
            "[0. 1.]\n",
            "----------------------------------------\n",
            "Unique values in 'HSCODE_2801200056':\n",
            "[0. 1.]\n",
            "----------------------------------------\n",
            "Unique values in 'HSCODE_2801200057':\n",
            "[0. 1.]\n",
            "----------------------------------------\n",
            "Unique values in 'HSCODE_2801200058':\n",
            "[0. 1.]\n",
            "----------------------------------------\n",
            "Unique values in 'HSCODE_2801200059':\n",
            "[0. 1.]\n",
            "----------------------------------------\n",
            "Unique values in 'HSCODE_2801200060':\n",
            "[0. 1.]\n",
            "----------------------------------------\n",
            "Unique values in 'HSCODE_2801200061':\n",
            "[0. 1.]\n",
            "----------------------------------------\n",
            "Unique values in 'HSCODE_2801200062':\n",
            "[0. 1.]\n",
            "----------------------------------------\n",
            "Unique values in 'HSCODE_2801200063':\n",
            "[0. 1.]\n",
            "----------------------------------------\n",
            "Unique values in 'HSCODE_2801302000':\n",
            "[0. 1.]\n",
            "----------------------------------------\n",
            "Unique values in 'HSCODE_2807001000':\n",
            "[0. 1.]\n",
            "----------------------------------------\n",
            "Unique values in 'HSCODE_2807002000':\n",
            "[0. 1.]\n",
            "----------------------------------------\n",
            "Unique values in 'HSCODE_2807009000':\n",
            "[0. 1.]\n",
            "----------------------------------------\n",
            "Unique values in 'HSCODE_2808000000':\n",
            "[0. 1.]\n",
            "----------------------------------------\n",
            "Unique values in 'HSCODE_2808001000':\n",
            "[0. 1.]\n",
            "----------------------------------------\n",
            "Unique values in 'HSCODE_2812101000':\n",
            "[0. 1.]\n",
            "----------------------------------------\n",
            "Unique values in 'HSCODE_2812101100':\n",
            "[0. 1.]\n",
            "----------------------------------------\n",
            "Unique values in 'HSCODE_2812104200':\n",
            "[0. 1.]\n",
            "----------------------------------------\n",
            "Unique values in 'HSCODE_2812104300':\n",
            "[0. 1.]\n",
            "----------------------------------------\n",
            "Unique values in 'HSCODE_2812104700':\n",
            "[0. 1.]\n",
            "----------------------------------------\n",
            "Unique values in 'HSCODE_2812105000':\n",
            "[0. 1.]\n",
            "----------------------------------------\n",
            "Unique values in 'HSCODE_2812109000':\n",
            "[0. 1.]\n",
            "----------------------------------------\n",
            "Unique values in 'HSCODE_2812109900':\n",
            "[0. 1.]\n",
            "----------------------------------------\n",
            "Unique values in 'HSCODE_2812120000':\n",
            "[0. 1.]\n",
            "----------------------------------------\n",
            "Unique values in 'HSCODE_2812160000':\n",
            "[0. 1.]\n",
            "----------------------------------------\n",
            "Unique values in 'HSCODE_2812170000':\n",
            "[0. 1.]\n",
            "----------------------------------------\n",
            "Unique values in 'HSCODE_2812190000':\n",
            "[0. 1.]\n",
            "----------------------------------------\n",
            "Unique values in 'HSCODE_2812191900':\n",
            "[0. 1.]\n",
            "----------------------------------------\n",
            "Unique values in 'HSCODE_2812199000':\n",
            "[0. 1.]\n",
            "----------------------------------------\n",
            "Unique values in 'HSCODE_2812900000':\n",
            "[0. 1.]\n",
            "----------------------------------------\n",
            "Unique values in 'HSCODE_2826120000':\n",
            "[0. 1.]\n",
            "----------------------------------------\n",
            "Unique values in 'HSCODE_2826190000':\n",
            "[0. 1.]\n",
            "----------------------------------------\n",
            "Unique values in 'HSCODE_2826191000':\n",
            "[0. 1.]\n",
            "----------------------------------------\n",
            "Unique values in 'HSCODE_2826199000':\n",
            "[0. 1.]\n",
            "----------------------------------------\n",
            "Unique values in 'HSCODE_2826300000':\n",
            "[0. 1.]\n",
            "----------------------------------------\n",
            "Unique values in 'HSCODE_2826900000':\n",
            "[0. 1.]\n",
            "----------------------------------------\n",
            "Unique values in 'HSCODE_2826908000':\n",
            "[0. 1.]\n",
            "----------------------------------------\n",
            "Unique values in 'HSCODE_2829110000':\n",
            "[0. 1.]\n",
            "----------------------------------------\n",
            "Unique values in 'HSCODE_2829190000':\n",
            "[0. 1.]\n",
            "----------------------------------------\n",
            "Unique values in 'HSCODE_2829192000':\n",
            "[0. 1.]\n",
            "----------------------------------------\n",
            "Unique values in 'HSCODE_2829901000':\n",
            "[0. 1.]\n",
            "----------------------------------------\n",
            "Unique values in 'HSCODE_2829902000':\n",
            "[0. 1.]\n",
            "----------------------------------------\n",
            "Unique values in 'HSCODE_2829903000':\n",
            "[0. 1.]\n",
            "----------------------------------------\n",
            "Unique values in 'HSCODE_2829908000':\n",
            "[0. 1.]\n",
            "----------------------------------------\n",
            "Unique values in 'HSCODE_2829909000':\n",
            "[0. 1.]\n",
            "----------------------------------------\n",
            "Unique values in 'HSCODE_2837110000':\n",
            "[0. 1.]\n",
            "----------------------------------------\n",
            "Unique values in 'HSCODE_2837190000':\n",
            "[0. 1.]\n",
            "----------------------------------------\n",
            "Unique values in 'HSCODE_2837191000':\n",
            "[0. 1.]\n",
            "----------------------------------------\n",
            "Unique values in 'HSCODE_2837199000':\n",
            "[0. 1.]\n",
            "----------------------------------------\n",
            "Unique values in 'HSCODE_2837202000':\n",
            "[0. 1.]\n",
            "----------------------------------------\n",
            "Unique values in 'HSCODE_2837209000':\n",
            "[0. 1.]\n",
            "----------------------------------------\n",
            "Unique values in 'HSCODE_2847000000':\n",
            "[0. 1.]\n",
            "----------------------------------------\n",
            "Unique values in 'HSCODE_3102100000':\n",
            "[0. 1.]\n",
            "----------------------------------------\n",
            "Unique values in 'HSCODE_3102101000':\n",
            "[0. 1.]\n",
            "----------------------------------------\n",
            "Unique values in 'HSCODE_3102210000':\n",
            "[0. 1.]\n",
            "----------------------------------------\n",
            "Unique values in 'HSCODE_3102299000':\n",
            "[0. 1.]\n",
            "----------------------------------------\n",
            "Unique values in 'HSCODE_3102401000':\n",
            "[0. 1.]\n",
            "----------------------------------------\n",
            "Unique values in 'HSCODE_3102500000':\n",
            "[0. 1.]\n",
            "----------------------------------------\n",
            "Unique values in 'HSCODE_3102600000':\n",
            "[0. 1.]\n",
            "----------------------------------------\n",
            "Unique values in 'HSCODE_3102600100':\n",
            "[0. 1.]\n",
            "----------------------------------------\n",
            "Unique values in 'HSCODE_3102909000':\n",
            "[0. 1.]\n",
            "----------------------------------------\n",
            "Unique values in 'COUNTRY_ARGENTINA':\n",
            "[0. 1.]\n",
            "----------------------------------------\n",
            "Unique values in 'COUNTRY_AUSTRIA':\n",
            "[0. 1.]\n",
            "----------------------------------------\n",
            "Unique values in 'COUNTRY_BANGLADESH':\n",
            "[1. 0.]\n",
            "----------------------------------------\n",
            "Unique values in 'COUNTRY_BELGIUM':\n",
            "[0. 1.]\n",
            "----------------------------------------\n",
            "Unique values in 'COUNTRY_BRAZIL':\n",
            "[0. 1.]\n",
            "----------------------------------------\n",
            "Unique values in 'COUNTRY_CAMBODIA':\n",
            "[0. 1.]\n",
            "----------------------------------------\n",
            "Unique values in 'COUNTRY_CANADA':\n",
            "[0. 1.]\n",
            "----------------------------------------\n",
            "Unique values in 'COUNTRY_CHILE':\n",
            "[0. 1.]\n",
            "----------------------------------------\n",
            "Unique values in 'COUNTRY_CHINA':\n",
            "[0. 1.]\n",
            "----------------------------------------\n",
            "Unique values in 'COUNTRY_COLOMBIA':\n",
            "[0. 1.]\n",
            "----------------------------------------\n",
            "Unique values in 'COUNTRY_DENMARK':\n",
            "[0. 1.]\n",
            "----------------------------------------\n",
            "Unique values in 'COUNTRY_EGYPT':\n",
            "[0. 1.]\n",
            "----------------------------------------\n",
            "Unique values in 'COUNTRY_FRANCE':\n",
            "[0. 1.]\n",
            "----------------------------------------\n",
            "Unique values in 'COUNTRY_GEORGIA':\n",
            "[0. 1.]\n",
            "----------------------------------------\n",
            "Unique values in 'COUNTRY_GERMANY':\n",
            "[0. 1.]\n",
            "----------------------------------------\n",
            "Unique values in 'COUNTRY_GERMENY':\n",
            "[0. 1.]\n",
            "----------------------------------------\n",
            "Unique values in 'COUNTRY_INDIA':\n",
            "[0. 1.]\n",
            "----------------------------------------\n",
            "Unique values in 'COUNTRY_INDONESIA':\n",
            "[0. 1.]\n",
            "----------------------------------------\n",
            "Unique values in 'COUNTRY_ISRAEL':\n",
            "[0. 1.]\n",
            "----------------------------------------\n",
            "Unique values in 'COUNTRY_ITALY':\n",
            "[0. 1.]\n",
            "----------------------------------------\n",
            "Unique values in 'COUNTRY_JAPAN':\n",
            "[0. 1.]\n",
            "----------------------------------------\n",
            "Unique values in 'COUNTRY_KAZAKHSTAN':\n",
            "[0. 1.]\n",
            "----------------------------------------\n",
            "Unique values in 'COUNTRY_KENYA':\n",
            "[0. 1.]\n",
            "----------------------------------------\n",
            "Unique values in 'COUNTRY_KOREA,REPUBLIC OF':\n",
            "[0. 1.]\n",
            "----------------------------------------\n",
            "Unique values in 'COUNTRY_MALAYSIA':\n",
            "[0. 1.]\n",
            "----------------------------------------\n",
            "Unique values in 'COUNTRY_MEXICO':\n",
            "[0. 1.]\n",
            "----------------------------------------\n",
            "Unique values in 'COUNTRY_NETHERLANDS (HOLAND)':\n",
            "[0. 1.]\n",
            "----------------------------------------\n",
            "Unique values in 'COUNTRY_NIGERIA':\n",
            "[0. 1.]\n",
            "----------------------------------------\n",
            "Unique values in 'COUNTRY_PAKISTAN':\n",
            "[0. 1.]\n",
            "----------------------------------------\n",
            "Unique values in 'COUNTRY_ROMANIA':\n",
            "[0. 1.]\n",
            "----------------------------------------\n",
            "Unique values in 'COUNTRY_RUSSIA':\n",
            "[0. 1.]\n",
            "----------------------------------------\n",
            "Unique values in 'COUNTRY_SAUDI ARABIA':\n",
            "[0. 1.]\n",
            "----------------------------------------\n",
            "Unique values in 'COUNTRY_SINGAPORE':\n",
            "[0. 1.]\n",
            "----------------------------------------\n",
            "Unique values in 'COUNTRY_SLOVAKIA':\n",
            "[0. 1.]\n",
            "----------------------------------------\n",
            "Unique values in 'COUNTRY_SLOVENIA':\n",
            "[0. 1.]\n",
            "----------------------------------------\n",
            "Unique values in 'COUNTRY_SOUTH AFRICA':\n",
            "[0. 1.]\n",
            "----------------------------------------\n",
            "Unique values in 'COUNTRY_SOUTH KOREA':\n",
            "[0. 1.]\n",
            "----------------------------------------\n",
            "Unique values in 'COUNTRY_SPAIN':\n",
            "[0. 1.]\n",
            "----------------------------------------\n",
            "Unique values in 'COUNTRY_SRI LANKA':\n",
            "[0. 1.]\n",
            "----------------------------------------\n",
            "Unique values in 'COUNTRY_SWITZERLAND':\n",
            "[0. 1.]\n",
            "----------------------------------------\n",
            "Unique values in 'COUNTRY_TAIWAN':\n",
            "[0. 1.]\n",
            "----------------------------------------\n",
            "Unique values in 'COUNTRY_THAILAND':\n",
            "[0. 1.]\n",
            "----------------------------------------\n",
            "Unique values in 'COUNTRY_TURKMENISTAN':\n",
            "[0. 1.]\n",
            "----------------------------------------\n",
            "Unique values in 'COUNTRY_UK':\n",
            "[0. 1.]\n",
            "----------------------------------------\n",
            "Unique values in 'COUNTRY_UKRAINE':\n",
            "[0. 1.]\n",
            "----------------------------------------\n",
            "Unique values in 'COUNTRY_UNITED ARAB EMIRATES':\n",
            "[0. 1.]\n",
            "----------------------------------------\n",
            "Unique values in 'COUNTRY_UNITED KINGDOM':\n",
            "[0. 1.]\n",
            "----------------------------------------\n",
            "Unique values in 'COUNTRY_UNITED STATES':\n",
            "[0. 1.]\n",
            "----------------------------------------\n",
            "Unique values in 'COUNTRY_URUGUAY':\n",
            "[0. 1.]\n",
            "----------------------------------------\n",
            "Unique values in 'COUNTRY_US VIRGIN ISLANDS':\n",
            "[0. 1.]\n",
            "----------------------------------------\n",
            "Unique values in 'COUNTRY_USA':\n",
            "[0. 1.]\n",
            "----------------------------------------\n",
            "Unique values in 'COUNTRY_VIETNAM':\n",
            "[0. 1.]\n",
            "----------------------------------------\n",
            "Unique values in 'UNIT_DRM':\n",
            "[0. 1.]\n",
            "----------------------------------------\n",
            "Unique values in 'UNIT_GMS':\n",
            "[0. 1.]\n",
            "----------------------------------------\n",
            "Unique values in 'UNIT_KG':\n",
            "[1. 0.]\n",
            "----------------------------------------\n",
            "Unique values in 'UNIT_KGS':\n",
            "[0. 1.]\n",
            "----------------------------------------\n",
            "Unique values in 'UNIT_LTR':\n",
            "[0. 1.]\n",
            "----------------------------------------\n",
            "Unique values in 'UNIT_MTS':\n",
            "[0. 1.]\n",
            "----------------------------------------\n",
            "Unique values in 'UNIT_NOS':\n",
            "[0. 1.]\n",
            "----------------------------------------\n",
            "Unique values in 'UNIT_PCS':\n",
            "[0. 1.]\n",
            "----------------------------------------\n",
            "Unique values in 'DESCRIPTION_01_Fertilizers':\n",
            "[0. 1.]\n",
            "----------------------------------------\n",
            "Unique values in 'DESCRIPTION_01_Inorganic chemicals; Organic or inorganic compounds of precious metals, of rare earth metals, of radioactive elements or of isotopes':\n",
            "[1. 0.]\n",
            "----------------------------------------\n",
            "Unique values in 'DESCRIPTION_03_Bromine':\n",
            "[0. 1.]\n",
            "----------------------------------------\n",
            "Unique values in 'DESCRIPTION_03_Chlorates and perchlorates; bromates and perbromates; iodates and periodates':\n",
            "[0. 1.]\n",
            "----------------------------------------\n",
            "Unique values in 'DESCRIPTION_03_Chlorine':\n",
            "[1. 0.]\n",
            "----------------------------------------\n",
            "Unique values in 'DESCRIPTION_03_Cyanides and cyanide oxides : Of sodium':\n",
            "[0. 1.]\n",
            "----------------------------------------\n",
            "Unique values in 'DESCRIPTION_03_Cyanides and cyanide oxides : Other':\n",
            "[0. 1.]\n",
            "----------------------------------------\n",
            "Unique values in 'DESCRIPTION_03_Fluorides; fluorosilicates, fluoroaluminates, and other complex fluorine salts':\n",
            "[0. 1.]\n",
            "----------------------------------------\n",
            "Unique values in 'DESCRIPTION_03_Halides and halide oxides of non metals':\n",
            "[0. 1.]\n",
            "----------------------------------------\n",
            "Unique values in 'DESCRIPTION_03_Hydrogen peroxide, whether or not solidified with urea':\n",
            "[0. 1.]\n",
            "----------------------------------------\n",
            "Unique values in 'DESCRIPTION_03_Iodine':\n",
            "[0. 1.]\n",
            "----------------------------------------\n",
            "Unique values in 'DESCRIPTION_03_Mineral or chemical fertilizers, nitrogenous':\n",
            "[0. 1.]\n",
            "----------------------------------------\n",
            "Unique values in 'DESCRIPTION_03_Nitric acid; sulphonitric acids':\n",
            "[0. 1.]\n",
            "----------------------------------------\n",
            "Unique values in 'DESCRIPTION_03_Sulphuric acid; oleum':\n",
            "[0. 1.]\n",
            "----------------------------------------\n",
            "Unique values in 'RISK':\n",
            "['Low Risk' 'High Risk' 'Moderate Risk']\n",
            "----------------------------------------\n"
          ]
        }
      ]
    },
    {
      "cell_type": "code",
      "source": [
        "# Saving the Preprocessed Code\n",
        "data.to_csv('/content/drive/MyDrive/Importer_Risk_Prediction_2/Dataset/Preprocessed_before_data.csv', index=False)"
      ],
      "metadata": {
        "id": "_EQ2XvEs1A6Q"
      },
      "execution_count": 95,
      "outputs": []
    },
    {
      "cell_type": "code",
      "source": [
        "# Create a list to hold the one-hot encoded column names\n",
        "encoded_columns = [f'{col}_{category}' for col in encoding_columns for category in encoders[col].categories_[0]]\n",
        "\n",
        "# Loop through each encoded column name that was generated during one-hot encoding\n",
        "for col in encoding_columns:\n",
        "    # One-hot encode the columns\n",
        "    encoded_columns.extend([f'{col}_{category}' for category in encoders[col].categories_[0]])\n",
        "\n",
        "# Drop the one-hot encoded columns\n",
        "data.drop(columns=encoded_columns, inplace=True)\n",
        "\n",
        "print(\"One-hot encoded columns dropped while keeping the original columns.\")"
      ],
      "metadata": {
        "colab": {
          "base_uri": "https://localhost:8080/"
        },
        "id": "of6vNFpc1EoC",
        "outputId": "479a8b57-f28b-4154-fb4a-ca40b1733fc9"
      },
      "execution_count": 96,
      "outputs": [
        {
          "output_type": "stream",
          "name": "stdout",
          "text": [
            "One-hot encoded columns dropped while keeping the original columns.\n"
          ]
        }
      ]
    },
    {
      "cell_type": "code",
      "source": [
        "from sklearn.preprocessing import LabelEncoder\n",
        "import joblib\n",
        "\n",
        "# List of categorical columns to encode\n",
        "categorical_columns = ['HSCODE', 'COUNTRY', 'UNIT', 'DESCRIPTION_01', 'DESCRIPTION_03']\n",
        "\n",
        "# Initialize Label Encoder\n",
        "label_encoder = LabelEncoder()\n",
        "\n",
        "# Loop through each categorical column and apply label encoding\n",
        "for col in categorical_columns:\n",
        "    # Check if the column exists in the dataset\n",
        "    if col not in data.columns:\n",
        "        raise ValueError(f\"Column '{col}' not found in the dataset\")\n",
        "\n",
        "    # Convert the column to string type if it's not already (to ensure encoding works correctly)\n",
        "    data[col] = data[col].astype(str)\n",
        "\n",
        "    # Fit and transform the column\n",
        "    data[col] = label_encoder.fit_transform(data[col])\n",
        "\n",
        "    # Save the encoder for the column\n",
        "    encoder_filename = f'/content/drive/MyDrive/Importer_Risk_Prediction_2/encoders/{col}_label_encoder.pkl'\n",
        "    joblib.dump(label_encoder, encoder_filename)\n",
        "\n",
        "    print(f\"Label Encoding applied to column: {col} and encoder saved as {encoder_filename}\")\n",
        "\n",
        "# Preview Final Data\n",
        "print(data.head())"
      ],
      "metadata": {
        "colab": {
          "base_uri": "https://localhost:8080/"
        },
        "id": "qv_k-YMS1IH8",
        "outputId": "044c2215-d55b-4608-c7f9-f014d6103575"
      },
      "execution_count": 97,
      "outputs": [
        {
          "output_type": "stream",
          "name": "stdout",
          "text": [
            "Label Encoding applied to column: HSCODE and encoder saved as /content/drive/MyDrive/Importer_Risk_Prediction_2/encoders/HSCODE_label_encoder.pkl\n",
            "Label Encoding applied to column: COUNTRY and encoder saved as /content/drive/MyDrive/Importer_Risk_Prediction_2/encoders/COUNTRY_label_encoder.pkl\n",
            "Label Encoding applied to column: UNIT and encoder saved as /content/drive/MyDrive/Importer_Risk_Prediction_2/encoders/UNIT_label_encoder.pkl\n",
            "Label Encoding applied to column: DESCRIPTION_01 and encoder saved as /content/drive/MyDrive/Importer_Risk_Prediction_2/encoders/DESCRIPTION_01_label_encoder.pkl\n",
            "Label Encoding applied to column: DESCRIPTION_03 and encoder saved as /content/drive/MyDrive/Importer_Risk_Prediction_2/encoders/DESCRIPTION_03_label_encoder.pkl\n",
            "   HSCODE  COUNTRY  UNIT  QUANTITY  DESCRIPTION_01  DESCRIPTION_03      RISK\n",
            "0       0        2     2  2.428578               1               2  Low Risk\n",
            "1       0       16     2  1.793337               1               2  Low Risk\n",
            "2       0       24     2  0.524334               1               2  Low Risk\n",
            "3       0        2     2  1.171422               1               2  Low Risk\n",
            "4       0       16     2  2.428578               1               2  Low Risk\n"
          ]
        }
      ]
    },
    {
      "cell_type": "code",
      "source": [
        "# Check if 'RISK' column is present\n",
        "if 'RISK' not in data.columns:\n",
        "    raise ValueError(\"Column 'RISK' not found in the dataset\")\n",
        "\n",
        "# Convert RISK column to string type (if not already)\n",
        "data['RISK'] = data['RISK'].astype(str)\n",
        "\n",
        "# Debug: Check unique values\n",
        "print(\"Unique Values in RISK:\", data['RISK'].unique())\n",
        "\n",
        "# Initialize Label Encoder\n",
        "label_encoder = LabelEncoder()\n",
        "\n",
        "# Fit and transform the RISK column\n",
        "data['RISK'] = label_encoder.fit_transform(data['RISK'])\n",
        "\n",
        "# Debug: Check unique encoded labels\n",
        "print(\"Encoded Labels:\", label_encoder.classes_)\n",
        "\n",
        "# Save the Encoder using joblib\n",
        "joblib.dump(label_encoder, '/content/drive/MyDrive/Importer_Risk_Prediction_2/encoders/label_encoder.pkl')\n",
        "print(\"Label Encoder model saved as 'label_encoder.pkl'\")\n",
        "\n",
        "# Preview Final Data\n",
        "print(data.head())"
      ],
      "metadata": {
        "colab": {
          "base_uri": "https://localhost:8080/"
        },
        "id": "dZepRBeO1LQ-",
        "outputId": "9f966844-d80a-497c-c271-59d8ab0a9bfc"
      },
      "execution_count": 98,
      "outputs": [
        {
          "output_type": "stream",
          "name": "stdout",
          "text": [
            "Unique Values in RISK: ['Low Risk' 'High Risk' 'Moderate Risk']\n",
            "Encoded Labels: ['High Risk' 'Low Risk' 'Moderate Risk']\n",
            "Label Encoder model saved as 'label_encoder.pkl'\n",
            "   HSCODE  COUNTRY  UNIT  QUANTITY  DESCRIPTION_01  DESCRIPTION_03  RISK\n",
            "0       0        2     2  2.428578               1               2     1\n",
            "1       0       16     2  1.793337               1               2     1\n",
            "2       0       24     2  0.524334               1               2     1\n",
            "3       0        2     2  1.171422               1               2     1\n",
            "4       0       16     2  2.428578               1               2     1\n"
          ]
        }
      ]
    },
    {
      "cell_type": "code",
      "source": [
        "# Display the Dataset head\n",
        "print(data.head())"
      ],
      "metadata": {
        "colab": {
          "base_uri": "https://localhost:8080/"
        },
        "id": "MVsp-F-Q1Nxu",
        "outputId": "cae73a30-07e6-4580-b139-b28887419e67"
      },
      "execution_count": 99,
      "outputs": [
        {
          "output_type": "stream",
          "name": "stdout",
          "text": [
            "   HSCODE  COUNTRY  UNIT  QUANTITY  DESCRIPTION_01  DESCRIPTION_03  RISK\n",
            "0       0        2     2  2.428578               1               2     1\n",
            "1       0       16     2  1.793337               1               2     1\n",
            "2       0       24     2  0.524334               1               2     1\n",
            "3       0        2     2  1.171422               1               2     1\n",
            "4       0       16     2  2.428578               1               2     1\n"
          ]
        }
      ]
    },
    {
      "cell_type": "code",
      "source": [
        "# Set Style\n",
        "plt.figure(figsize=(8, 6))\n",
        "sns.countplot(x='RISK', data=data, palette='viridis')\n",
        "plt.title('Target Variable Distribution')\n",
        "plt.xlabel('Risk Category')\n",
        "plt.ylabel('Count')\n",
        "plt.show()"
      ],
      "metadata": {
        "colab": {
          "base_uri": "https://localhost:8080/",
          "height": 631
        },
        "id": "SfUxDtW91PIf",
        "outputId": "e81666bd-3652-47e7-9826-2248a845addc"
      },
      "execution_count": 100,
      "outputs": [
        {
          "output_type": "stream",
          "name": "stderr",
          "text": [
            "<ipython-input-100-ea0abebfd5fd>:3: FutureWarning: \n",
            "\n",
            "Passing `palette` without assigning `hue` is deprecated and will be removed in v0.14.0. Assign the `x` variable to `hue` and set `legend=False` for the same effect.\n",
            "\n",
            "  sns.countplot(x='RISK', data=data, palette='viridis')\n"
          ]
        },
        {
          "output_type": "display_data",
          "data": {
            "text/plain": [
              "<Figure size 800x600 with 1 Axes>"
            ],
            "image/png": "[encoded data removed]"
          },
          "metadata": {}
        }
      ]
    },
    {
      "cell_type": "code",
      "source": [
        "# Checking for the Multicollinearity in the Dataset\n",
        "correlation_matrix = data.corr()\n",
        "plt.figure(figsize=(12, 8))\n",
        "sns.heatmap(correlation_matrix, annot=True, cmap='coolwarm', fmt='.2f')\n",
        "plt.title('Correlation Matrix')\n",
        "plt.show()"
      ],
      "metadata": {
        "colab": {
          "base_uri": "https://localhost:8080/",
          "height": 518
        },
        "id": "ce6NIIcu1RKq",
        "outputId": "2d054445-9e56-4760-fd46-812a4a73038d"
      },
      "execution_count": 101,
      "outputs": [
        {
          "output_type": "display_data",
          "data": {
            "text/plain": [
              "<Figure size 1200x800 with 2 Axes>"
            ],
            "image/png": "[encoded data removed]"
          },
          "metadata": {}
        }
      ]
    },
    {
      "cell_type": "code",
      "source": [
        "# Increasing the influence of 'QUANTITY'\n",
        "data['QUANTITY'] *= 30"
      ],
      "metadata": {
        "id": "q1v2zmy_D6Zv"
      },
      "execution_count": 102,
      "outputs": []
    },
    {
      "cell_type": "code",
      "source": [
        "# Features (X) and Target (y)\n",
        "X = data.drop(['RISK'], axis=1)\n",
        "y = data['RISK']"
      ],
      "metadata": {
        "id": "oL_9YC0w1gPp"
      },
      "execution_count": 103,
      "outputs": []
    },
    {
      "cell_type": "code",
      "source": [
        "# Displaying the Columns in X\n",
        "print(\"Columns in X:\")\n",
        "print(X.columns)"
      ],
      "metadata": {
        "colab": {
          "base_uri": "https://localhost:8080/"
        },
        "id": "pEwBlyGV1hvT",
        "outputId": "ddfd5b99-7f42-4b69-813e-da78c5438c7e"
      },
      "execution_count": 104,
      "outputs": [
        {
          "output_type": "stream",
          "name": "stdout",
          "text": [
            "Columns in X:\n",
            "Index(['HSCODE', 'COUNTRY', 'UNIT', 'QUANTITY', 'DESCRIPTION_01',\n",
            "       'DESCRIPTION_03'],\n",
            "      dtype='object')\n"
          ]
        }
      ]
    },
    {
      "cell_type": "code",
      "source": [
        "# Splitting dataset into training and testing before SMOTE\n",
        "X_train, X_test, y_train, y_test = train_test_split(X, y, test_size=0.2, stratify=y, random_state=42)\n",
        "\n",
        "print(\"Training Set Size:\", X_train.shape[0])\n",
        "print(\"Testing Set Size:\", X_test.shape[0])"
      ],
      "metadata": {
        "colab": {
          "base_uri": "https://localhost:8080/"
        },
        "id": "HMUKsdav1jlo",
        "outputId": "8808fa28-0e20-4d9c-c518-dffe6f838a91"
      },
      "execution_count": 105,
      "outputs": [
        {
          "output_type": "stream",
          "name": "stdout",
          "text": [
            "Training Set Size: 524\n",
            "Testing Set Size: 131\n"
          ]
        }
      ]
    },
    {
      "cell_type": "markdown",
      "source": [
        "# **Balancing the Target Variable**"
      ],
      "metadata": {
        "id": "jioRIth81oK7"
      }
    },
    {
      "cell_type": "code",
      "source": [
        "# Handling the imbalance dataset\n",
        "\n",
        "# Suppressing the FutureWarnings\n",
        "warnings.filterwarnings(\"ignore\", category=FutureWarning)\n",
        "\n",
        "# Handling imbalanced dataset\n",
        "smote = SMOTE(sampling_strategy='auto', random_state=42)\n",
        "X_resampled, y_resampled = smote.fit_resample(X, y)\n",
        "\n",
        "print(\"Original dataset size:\", X.shape)\n",
        "print(\"Resampled dataset size:\", X_resampled.shape)"
      ],
      "metadata": {
        "colab": {
          "base_uri": "https://localhost:8080/"
        },
        "id": "r8KV8R7F1qfk",
        "outputId": "e2d17d01-e07f-4928-a4e0-d32654f5e9e0"
      },
      "execution_count": 106,
      "outputs": [
        {
          "output_type": "stream",
          "name": "stdout",
          "text": [
            "Original dataset size: (655, 6)\n",
            "Resampled dataset size: (906, 6)\n"
          ]
        }
      ]
    },
    {
      "cell_type": "code",
      "source": [
        "# Plotting class distribution after SMOTE\n",
        "sns.countplot(x=y_resampled, palette=\"viridis\")\n",
        "plt.title(\"Class Distribution After SMOTE\")\n",
        "plt.xlabel(\"Class\")\n",
        "plt.ylabel(\"Count\")\n",
        "plt.show()"
      ],
      "metadata": {
        "colab": {
          "base_uri": "https://localhost:8080/",
          "height": 472
        },
        "id": "n6_sI0Xw1vsi",
        "outputId": "f80de64b-3c30-4ec1-f3ef-ac4825345b40"
      },
      "execution_count": 107,
      "outputs": [
        {
          "output_type": "display_data",
          "data": {
            "text/plain": [
              "<Figure size 640x480 with 1 Axes>"
            ],
            "image/png": "[encoded data removed]"
          },
          "metadata": {}
        }
      ]
    },
    {
      "cell_type": "code",
      "source": [
        "# Displaying the dataset shape after applying the SMOTE\n",
        "print(f\"Shape of X_resampled: {X_resampled.shape}\")\n",
        "print(f\"Shape of y_resampled: {y_resampled.shape}\")"
      ],
      "metadata": {
        "colab": {
          "base_uri": "https://localhost:8080/"
        },
        "id": "MUsXhUyc1ySh",
        "outputId": "4e2b0dc0-e5a0-4db5-c619-846a259e96fb"
      },
      "execution_count": 108,
      "outputs": [
        {
          "output_type": "stream",
          "name": "stdout",
          "text": [
            "Shape of X_resampled: (906, 6)\n",
            "Shape of y_resampled: (906,)\n"
          ]
        }
      ]
    },
    {
      "cell_type": "code",
      "source": [
        "# Displaying the Columns in X\n",
        "print(\"Columns in X Resampled:\")\n",
        "print(X_resampled.columns)"
      ],
      "metadata": {
        "colab": {
          "base_uri": "https://localhost:8080/"
        },
        "id": "ZLc0spAu1zjQ",
        "outputId": "fb99abc7-b8b4-4a36-c180-4e63726885c6"
      },
      "execution_count": 109,
      "outputs": [
        {
          "output_type": "stream",
          "name": "stdout",
          "text": [
            "Columns in X Resampled:\n",
            "Index(['HSCODE', 'COUNTRY', 'UNIT', 'QUANTITY', 'DESCRIPTION_01',\n",
            "       'DESCRIPTION_03'],\n",
            "      dtype='object')\n"
          ]
        }
      ]
    },
    {
      "cell_type": "code",
      "source": [
        "# Standardizing the features\n",
        "scaler = StandardScaler()\n",
        "X_resampled_scaled = scaler.fit_transform(X_resampled)"
      ],
      "metadata": {
        "id": "CCb7QUP210zQ"
      },
      "execution_count": 110,
      "outputs": []
    },
    {
      "cell_type": "code",
      "source": [
        "# Splitting data\n",
        "X_train, X_test, y_train, y_test = train_test_split(X_resampled_scaled, y_resampled, test_size=0.2, stratify = y_resampled, random_state=42)"
      ],
      "metadata": {
        "id": "_kCV7hf413Vk"
      },
      "execution_count": 111,
      "outputs": []
    },
    {
      "cell_type": "code",
      "source": [
        "# Displaying the Dataset Information\n",
        "print(\"Dataset Information:\")\n",
        "print(data.info())"
      ],
      "metadata": {
        "colab": {
          "base_uri": "https://localhost:8080/"
        },
        "id": "ix0ex42U1-b0",
        "outputId": "b19e8bc4-523c-4d10-fdad-d74256ac2b2a"
      },
      "execution_count": 112,
      "outputs": [
        {
          "output_type": "stream",
          "name": "stdout",
          "text": [
            "Dataset Information:\n",
            "<class 'pandas.core.frame.DataFrame'>\n",
            "RangeIndex: 655 entries, 0 to 654\n",
            "Data columns (total 7 columns):\n",
            " #   Column          Non-Null Count  Dtype  \n",
            "---  ------          --------------  -----  \n",
            " 0   HSCODE          655 non-null    int64  \n",
            " 1   COUNTRY         655 non-null    int64  \n",
            " 2   UNIT            655 non-null    int64  \n",
            " 3   QUANTITY        655 non-null    float64\n",
            " 4   DESCRIPTION_01  655 non-null    int64  \n",
            " 5   DESCRIPTION_03  655 non-null    int64  \n",
            " 6   RISK            655 non-null    int64  \n",
            "dtypes: float64(1), int64(6)\n",
            "memory usage: 35.9 KB\n",
            "None\n"
          ]
        }
      ]
    },
    {
      "cell_type": "code",
      "source": [
        "# Saving the Preprocessed Code\n",
        "data.to_csv('/content/drive/MyDrive/Importer_Risk_Prediction_2/Dataset/Preprocessed_data.csv', index=False)"
      ],
      "metadata": {
        "id": "iEPXceIQ2ICo"
      },
      "execution_count": 113,
      "outputs": []
    },
    {
      "cell_type": "markdown",
      "source": [
        "# **Model Training**"
      ],
      "metadata": {
        "id": "DrC-kBCa2K82"
      }
    },
    {
      "cell_type": "code",
      "source": [
        "# Initialize the RandomForestClassifier (without hyperparameter tuning)\n",
        "rf = RandomForestClassifier(\n",
        "    n_estimators=200,\n",
        "    max_depth=None,\n",
        "    min_samples_split=10,\n",
        "    min_samples_leaf=5,\n",
        "    max_features='sqrt',\n",
        "    bootstrap=True,\n",
        "    random_state=42\n",
        ")"
      ],
      "metadata": {
        "id": "X2BlI8X82OiF"
      },
      "execution_count": 114,
      "outputs": []
    },
    {
      "cell_type": "code",
      "source": [
        "# Fit the model to the training data\n",
        "rf.fit(X_train, y_train)"
      ],
      "metadata": {
        "colab": {
          "base_uri": "https://localhost:8080/",
          "height": 97
        },
        "id": "8xad7etx2Pxb",
        "outputId": "530caad2-31c1-4aca-d5dd-983259ef4c11"
      },
      "execution_count": 115,
      "outputs": [
        {
          "output_type": "execute_result",
          "data": {
            "text/plain": [
              "RandomForestClassifier(min_samples_leaf=5, min_samples_split=10,\n",
              "                       n_estimators=200, random_state=42)"
            ],
            "text/html": [
              "<style>#sk-container-id-1 {\n",
              "  /* Definition of color scheme common for light and dark mode */\n",
              "  --sklearn-color-text: #000;\n",
              "  --sklearn-color-text-muted: #666;\n",
              "  --sklearn-color-line: gray;\n",
              "  /* Definition of color scheme for unfitted estimators */\n",
              "  --sklearn-color-unfitted-level-0: #fff5e6;\n",
              "  --sklearn-color-unfitted-level-1: #f6e4d2;\n",
              "  --sklearn-color-unfitted-level-2: #ffe0b3;\n",
              "  --sklearn-color-unfitted-level-3: chocolate;\n",
              "  /* Definition of color scheme for fitted estimators */\n",
              "  --sklearn-color-fitted-level-0: #f0f8ff;\n",
              "  --sklearn-color-fitted-level-1: #d4ebff;\n",
              "  --sklearn-color-fitted-level-2: #b3dbfd;\n",
              "  --sklearn-color-fitted-level-3: cornflowerblue;\n",
              "\n",
              "  /* Specific color for light theme */\n",
              "  --sklearn-color-text-on-default-background: var(--sg-text-color, var(--theme-code-foreground, var(--jp-content-font-color1, black)));\n",
              "  --sklearn-color-background: var(--sg-background-color, var(--theme-background, var(--jp-layout-color0, white)));\n",
              "  --sklearn-color-border-box: var(--sg-text-color, var(--theme-code-foreground, var(--jp-content-font-color1, black)));\n",
              "  --sklearn-color-icon: #696969;\n",
              "\n",
              "  @media (prefers-color-scheme: dark) {\n",
              "    /* Redefinition of color scheme for dark theme */\n",
              "    --sklearn-color-text-on-default-background: var(--sg-text-color, var(--theme-code-foreground, var(--jp-content-font-color1, white)));\n",
              "    --sklearn-color-background: var(--sg-background-color, var(--theme-background, var(--jp-layout-color0, #111)));\n",
              "    --sklearn-color-border-box: var(--sg-text-color, var(--theme-code-foreground, var(--jp-content-font-color1, white)));\n",
              "    --sklearn-color-icon: #878787;\n",
              "  }\n",
              "}\n",
              "\n",
              "#sk-container-id-1 {\n",
              "  color: var(--sklearn-color-text);\n",
              "}\n",
              "\n",
              "#sk-container-id-1 pre {\n",
              "  padding: 0;\n",
              "}\n",
              "\n",
              "#sk-container-id-1 input.sk-hidden--visually {\n",
              "  border: 0;\n",
              "  clip: rect(1px 1px 1px 1px);\n",
              "  clip: rect(1px, 1px, 1px, 1px);\n",
              "  height: 1px;\n",
              "  margin: -1px;\n",
              "  overflow: hidden;\n",
              "  padding: 0;\n",
              "  position: absolute;\n",
              "  width: 1px;\n",
              "}\n",
              "\n",
              "#sk-container-id-1 div.sk-dashed-wrapped {\n",
              "  border: 1px dashed var(--sklearn-color-line);\n",
              "  margin: 0 0.4em 0.5em 0.4em;\n",
              "  box-sizing: border-box;\n",
              "  padding-bottom: 0.4em;\n",
              "  background-color: var(--sklearn-color-background);\n",
              "}\n",
              "\n",
              "#sk-container-id-1 div.sk-container {\n",
              "  /* jupyter's `normalize.less` sets `[hidden] { display: none; }`\n",
              "     but bootstrap.min.css set `[hidden] { display: none !important; }`\n",
              "     so we also need the `!important` here to be able to override the\n",
              "     default hidden behavior on the sphinx rendered scikit-learn.org.\n",
              "     See: https://github.com/scikit-learn/scikit-learn/issues/21755 */\n",
              "  display: inline-block !important;\n",
              "  position: relative;\n",
              "}\n",
              "\n",
              "#sk-container-id-1 div.sk-text-repr-fallback {\n",
              "  display: none;\n",
              "}\n",
              "\n",
              "div.sk-parallel-item,\n",
              "div.sk-serial,\n",
              "div.sk-item {\n",
              "  /* draw centered vertical line to link estimators */\n",
              "  background-image: linear-gradient(var(--sklearn-color-text-on-default-background), var(--sklearn-color-text-on-default-background));\n",
              "  background-size: 2px 100%;\n",
              "  background-repeat: no-repeat;\n",
              "  background-position: center center;\n",
              "}\n",
              "\n",
              "/* Parallel-specific style estimator block */\n",
              "\n",
              "#sk-container-id-1 div.sk-parallel-item::after {\n",
              "  content: \"\";\n",
              "  width: 100%;\n",
              "  border-bottom: 2px solid var(--sklearn-color-text-on-default-background);\n",
              "  flex-grow: 1;\n",
              "}\n",
              "\n",
              "#sk-container-id-1 div.sk-parallel {\n",
              "  display: flex;\n",
              "  align-items: stretch;\n",
              "  justify-content: center;\n",
              "  background-color: var(--sklearn-color-background);\n",
              "  position: relative;\n",
              "}\n",
              "\n",
              "#sk-container-id-1 div.sk-parallel-item {\n",
              "  display: flex;\n",
              "  flex-direction: column;\n",
              "}\n",
              "\n",
              "#sk-container-id-1 div.sk-parallel-item:first-child::after {\n",
              "  align-self: flex-end;\n",
              "  width: 50%;\n",
              "}\n",
              "\n",
              "#sk-container-id-1 div.sk-parallel-item:last-child::after {\n",
              "  align-self: flex-start;\n",
              "  width: 50%;\n",
              "}\n",
              "\n",
              "#sk-container-id-1 div.sk-parallel-item:only-child::after {\n",
              "  width: 0;\n",
              "}\n",
              "\n",
              "/* Serial-specific style estimator block */\n",
              "\n",
              "#sk-container-id-1 div.sk-serial {\n",
              "  display: flex;\n",
              "  flex-direction: column;\n",
              "  align-items: center;\n",
              "  background-color: var(--sklearn-color-background);\n",
              "  padding-right: 1em;\n",
              "  padding-left: 1em;\n",
              "}\n",
              "\n",
              "\n",
              "/* Toggleable style: style used for estimator/Pipeline/ColumnTransformer box that is\n",
              "clickable and can be expanded/collapsed.\n",
              "- Pipeline and ColumnTransformer use this feature and define the default style\n",
              "- Estimators will overwrite some part of the style using the `sk-estimator` class\n",
              "*/\n",
              "\n",
              "/* Pipeline and ColumnTransformer style (default) */\n",
              "\n",
              "#sk-container-id-1 div.sk-toggleable {\n",
              "  /* Default theme specific background. It is overwritten whether we have a\n",
              "  specific estimator or a Pipeline/ColumnTransformer */\n",
              "  background-color: var(--sklearn-color-background);\n",
              "}\n",
              "\n",
              "/* Toggleable label */\n",
              "#sk-container-id-1 label.sk-toggleable__label {\n",
              "  cursor: pointer;\n",
              "  display: flex;\n",
              "  width: 100%;\n",
              "  margin-bottom: 0;\n",
              "  padding: 0.5em;\n",
              "  box-sizing: border-box;\n",
              "  text-align: center;\n",
              "  align-items: start;\n",
              "  justify-content: space-between;\n",
              "  gap: 0.5em;\n",
              "}\n",
              "\n",
              "#sk-container-id-1 label.sk-toggleable__label .caption {\n",
              "  font-size: 0.6rem;\n",
              "  font-weight: lighter;\n",
              "  color: var(--sklearn-color-text-muted);\n",
              "}\n",
              "\n",
              "#sk-container-id-1 label.sk-toggleable__label-arrow:before {\n",
              "  /* Arrow on the left of the label */\n",
              "  content: \"▸\";\n",
              "  float: left;\n",
              "  margin-right: 0.25em;\n",
              "  color: var(--sklearn-color-icon);\n",
              "}\n",
              "\n",
              "#sk-container-id-1 label.sk-toggleable__label-arrow:hover:before {\n",
              "  color: var(--sklearn-color-text);\n",
              "}\n",
              "\n",
              "/* Toggleable content - dropdown */\n",
              "\n",
              "#sk-container-id-1 div.sk-toggleable__content {\n",
              "  max-height: 0;\n",
              "  max-width: 0;\n",
              "  overflow: hidden;\n",
              "  text-align: left;\n",
              "  /* unfitted */\n",
              "  background-color: var(--sklearn-color-unfitted-level-0);\n",
              "}\n",
              "\n",
              "#sk-container-id-1 div.sk-toggleable__content.fitted {\n",
              "  /* fitted */\n",
              "  background-color: var(--sklearn-color-fitted-level-0);\n",
              "}\n",
              "\n",
              "#sk-container-id-1 div.sk-toggleable__content pre {\n",
              "  margin: 0.2em;\n",
              "  border-radius: 0.25em;\n",
              "  color: var(--sklearn-color-text);\n",
              "  /* unfitted */\n",
              "  background-color: var(--sklearn-color-unfitted-level-0);\n",
              "}\n",
              "\n",
              "#sk-container-id-1 div.sk-toggleable__content.fitted pre {\n",
              "  /* unfitted */\n",
              "  background-color: var(--sklearn-color-fitted-level-0);\n",
              "}\n",
              "\n",
              "#sk-container-id-1 input.sk-toggleable__control:checked~div.sk-toggleable__content {\n",
              "  /* Expand drop-down */\n",
              "  max-height: 200px;\n",
              "  max-width: 100%;\n",
              "  overflow: auto;\n",
              "}\n",
              "\n",
              "#sk-container-id-1 input.sk-toggleable__control:checked~label.sk-toggleable__label-arrow:before {\n",
              "  content: \"▾\";\n",
              "}\n",
              "\n",
              "/* Pipeline/ColumnTransformer-specific style */\n",
              "\n",
              "#sk-container-id-1 div.sk-label input.sk-toggleable__control:checked~label.sk-toggleable__label {\n",
              "  color: var(--sklearn-color-text);\n",
              "  background-color: var(--sklearn-color-unfitted-level-2);\n",
              "}\n",
              "\n",
              "#sk-container-id-1 div.sk-label.fitted input.sk-toggleable__control:checked~label.sk-toggleable__label {\n",
              "  background-color: var(--sklearn-color-fitted-level-2);\n",
              "}\n",
              "\n",
              "/* Estimator-specific style */\n",
              "\n",
              "/* Colorize estimator box */\n",
              "#sk-container-id-1 div.sk-estimator input.sk-toggleable__control:checked~label.sk-toggleable__label {\n",
              "  /* unfitted */\n",
              "  background-color: var(--sklearn-color-unfitted-level-2);\n",
              "}\n",
              "\n",
              "#sk-container-id-1 div.sk-estimator.fitted input.sk-toggleable__control:checked~label.sk-toggleable__label {\n",
              "  /* fitted */\n",
              "  background-color: var(--sklearn-color-fitted-level-2);\n",
              "}\n",
              "\n",
              "#sk-container-id-1 div.sk-label label.sk-toggleable__label,\n",
              "#sk-container-id-1 div.sk-label label {\n",
              "  /* The background is the default theme color */\n",
              "  color: var(--sklearn-color-text-on-default-background);\n",
              "}\n",
              "\n",
              "/* On hover, darken the color of the background */\n",
              "#sk-container-id-1 div.sk-label:hover label.sk-toggleable__label {\n",
              "  color: var(--sklearn-color-text);\n",
              "  background-color: var(--sklearn-color-unfitted-level-2);\n",
              "}\n",
              "\n",
              "/* Label box, darken color on hover, fitted */\n",
              "#sk-container-id-1 div.sk-label.fitted:hover label.sk-toggleable__label.fitted {\n",
              "  color: var(--sklearn-color-text);\n",
              "  background-color: var(--sklearn-color-fitted-level-2);\n",
              "}\n",
              "\n",
              "/* Estimator label */\n",
              "\n",
              "#sk-container-id-1 div.sk-label label {\n",
              "  font-family: monospace;\n",
              "  font-weight: bold;\n",
              "  display: inline-block;\n",
              "  line-height: 1.2em;\n",
              "}\n",
              "\n",
              "#sk-container-id-1 div.sk-label-container {\n",
              "  text-align: center;\n",
              "}\n",
              "\n",
              "/* Estimator-specific */\n",
              "#sk-container-id-1 div.sk-estimator {\n",
              "  font-family: monospace;\n",
              "  border: 1px dotted var(--sklearn-color-border-box);\n",
              "  border-radius: 0.25em;\n",
              "  box-sizing: border-box;\n",
              "  margin-bottom: 0.5em;\n",
              "  /* unfitted */\n",
              "  background-color: var(--sklearn-color-unfitted-level-0);\n",
              "}\n",
              "\n",
              "#sk-container-id-1 div.sk-estimator.fitted {\n",
              "  /* fitted */\n",
              "  background-color: var(--sklearn-color-fitted-level-0);\n",
              "}\n",
              "\n",
              "/* on hover */\n",
              "#sk-container-id-1 div.sk-estimator:hover {\n",
              "  /* unfitted */\n",
              "  background-color: var(--sklearn-color-unfitted-level-2);\n",
              "}\n",
              "\n",
              "#sk-container-id-1 div.sk-estimator.fitted:hover {\n",
              "  /* fitted */\n",
              "  background-color: var(--sklearn-color-fitted-level-2);\n",
              "}\n",
              "\n",
              "/* Specification for estimator info (e.g. \"i\" and \"?\") */\n",
              "\n",
              "/* Common style for \"i\" and \"?\" */\n",
              "\n",
              ".sk-estimator-doc-link,\n",
              "a:link.sk-estimator-doc-link,\n",
              "a:visited.sk-estimator-doc-link {\n",
              "  float: right;\n",
              "  font-size: smaller;\n",
              "  line-height: 1em;\n",
              "  font-family: monospace;\n",
              "  background-color: var(--sklearn-color-background);\n",
              "  border-radius: 1em;\n",
              "  height: 1em;\n",
              "  width: 1em;\n",
              "  text-decoration: none !important;\n",
              "  margin-left: 0.5em;\n",
              "  text-align: center;\n",
              "  /* unfitted */\n",
              "  border: var(--sklearn-color-unfitted-level-1) 1pt solid;\n",
              "  color: var(--sklearn-color-unfitted-level-1);\n",
              "}\n",
              "\n",
              ".sk-estimator-doc-link.fitted,\n",
              "a:link.sk-estimator-doc-link.fitted,\n",
              "a:visited.sk-estimator-doc-link.fitted {\n",
              "  /* fitted */\n",
              "  border: var(--sklearn-color-fitted-level-1) 1pt solid;\n",
              "  color: var(--sklearn-color-fitted-level-1);\n",
              "}\n",
              "\n",
              "/* On hover */\n",
              "div.sk-estimator:hover .sk-estimator-doc-link:hover,\n",
              ".sk-estimator-doc-link:hover,\n",
              "div.sk-label-container:hover .sk-estimator-doc-link:hover,\n",
              ".sk-estimator-doc-link:hover {\n",
              "  /* unfitted */\n",
              "  background-color: var(--sklearn-color-unfitted-level-3);\n",
              "  color: var(--sklearn-color-background);\n",
              "  text-decoration: none;\n",
              "}\n",
              "\n",
              "div.sk-estimator.fitted:hover .sk-estimator-doc-link.fitted:hover,\n",
              ".sk-estimator-doc-link.fitted:hover,\n",
              "div.sk-label-container:hover .sk-estimator-doc-link.fitted:hover,\n",
              ".sk-estimator-doc-link.fitted:hover {\n",
              "  /* fitted */\n",
              "  background-color: var(--sklearn-color-fitted-level-3);\n",
              "  color: var(--sklearn-color-background);\n",
              "  text-decoration: none;\n",
              "}\n",
              "\n",
              "/* Span, style for the box shown on hovering the info icon */\n",
              ".sk-estimator-doc-link span {\n",
              "  display: none;\n",
              "  z-index: 9999;\n",
              "  position: relative;\n",
              "  font-weight: normal;\n",
              "  right: .2ex;\n",
              "  padding: .5ex;\n",
              "  margin: .5ex;\n",
              "  width: min-content;\n",
              "  min-width: 20ex;\n",
              "  max-width: 50ex;\n",
              "  color: var(--sklearn-color-text);\n",
              "  box-shadow: 2pt 2pt 4pt #999;\n",
              "  /* unfitted */\n",
              "  background: var(--sklearn-color-unfitted-level-0);\n",
              "  border: .5pt solid var(--sklearn-color-unfitted-level-3);\n",
              "}\n",
              "\n",
              ".sk-estimator-doc-link.fitted span {\n",
              "  /* fitted */\n",
              "  background: var(--sklearn-color-fitted-level-0);\n",
              "  border: var(--sklearn-color-fitted-level-3);\n",
              "}\n",
              "\n",
              ".sk-estimator-doc-link:hover span {\n",
              "  display: block;\n",
              "}\n",
              "\n",
              "/* \"?\"-specific style due to the `<a>` HTML tag */\n",
              "\n",
              "#sk-container-id-1 a.estimator_doc_link {\n",
              "  float: right;\n",
              "  font-size: 1rem;\n",
              "  line-height: 1em;\n",
              "  font-family: monospace;\n",
              "  background-color: var(--sklearn-color-background);\n",
              "  border-radius: 1rem;\n",
              "  height: 1rem;\n",
              "  width: 1rem;\n",
              "  text-decoration: none;\n",
              "  /* unfitted */\n",
              "  color: var(--sklearn-color-unfitted-level-1);\n",
              "  border: var(--sklearn-color-unfitted-level-1) 1pt solid;\n",
              "}\n",
              "\n",
              "#sk-container-id-1 a.estimator_doc_link.fitted {\n",
              "  /* fitted */\n",
              "  border: var(--sklearn-color-fitted-level-1) 1pt solid;\n",
              "  color: var(--sklearn-color-fitted-level-1);\n",
              "}\n",
              "\n",
              "/* On hover */\n",
              "#sk-container-id-1 a.estimator_doc_link:hover {\n",
              "  /* unfitted */\n",
              "  background-color: var(--sklearn-color-unfitted-level-3);\n",
              "  color: var(--sklearn-color-background);\n",
              "  text-decoration: none;\n",
              "}\n",
              "\n",
              "#sk-container-id-1 a.estimator_doc_link.fitted:hover {\n",
              "  /* fitted */\n",
              "  background-color: var(--sklearn-color-fitted-level-3);\n",
              "}\n",
              "</style><div id=\"sk-container-id-1\" class=\"sk-top-container\"><div class=\"sk-text-repr-fallback\"><pre>RandomForestClassifier(min_samples_leaf=5, min_samples_split=10,\n",
              "                       n_estimators=200, random_state=42)</pre><b>In a Jupyter environment, please rerun this cell to show the HTML representation or trust the notebook. <br />On GitHub, the HTML representation is unable to render, please try loading this page with nbviewer.org.</b></div><div class=\"sk-container\" hidden><div class=\"sk-item\"><div class=\"sk-estimator fitted sk-toggleable\"><input class=\"sk-toggleable__control sk-hidden--visually\" id=\"sk-estimator-id-1\" type=\"checkbox\" checked><label for=\"sk-estimator-id-1\" class=\"sk-toggleable__label fitted sk-toggleable__label-arrow\"><div><div>RandomForestClassifier</div></div><div><a class=\"sk-estimator-doc-link fitted\" rel=\"noreferrer\" target=\"_blank\" href=\"https://scikit-learn.org/1.6/modules/generated/sklearn.ensemble.RandomForestClassifier.html\">?<span>Documentation for RandomForestClassifier</span></a><span class=\"sk-estimator-doc-link fitted\">i<span>Fitted</span></span></div></label><div class=\"sk-toggleable__content fitted\"><pre>RandomForestClassifier(min_samples_leaf=5, min_samples_split=10,\n",
              "                       n_estimators=200, random_state=42)</pre></div> </div></div></div></div>"
            ]
          },
          "metadata": {},
          "execution_count": 115
        }
      ]
    },
    {
      "cell_type": "code",
      "source": [
        "import shap\n",
        "\n",
        "# Initialize SHAP explainer for RandomForest model\n",
        "explainer = shap.TreeExplainer(rf)\n",
        "\n",
        "# Get SHAP values for the test set\n",
        "shap_values = explainer.shap_values(X_test)\n",
        "\n",
        "# Plot SHAP summary plot\n",
        "shap.summary_plot(shap_values, X_test, max_display=X_test.shape[1])"
      ],
      "metadata": {
        "colab": {
          "base_uri": "https://localhost:8080/",
          "height": 617
        },
        "id": "eYxX0R47bgCk",
        "outputId": "e07d4103-7550-4ac7-dc72-ae7ddb5077d4"
      },
      "execution_count": 116,
      "outputs": [
        {
          "output_type": "display_data",
          "data": {
            "text/plain": [
              "<Figure size 1000x580 with 3 Axes>"
            ],
            "image/png": "[encoded data removed]"
          },
          "metadata": {}
        }
      ]
    },
    {
      "cell_type": "code",
      "source": [
        "# Make predictions\n",
        "y_pred = rf.predict(X_test)"
      ],
      "metadata": {
        "id": "63PwxLTo2SSR"
      },
      "execution_count": 117,
      "outputs": []
    },
    {
      "cell_type": "code",
      "source": [
        "# Confusion Matrix\n",
        "cm = confusion_matrix(y_test, y_pred)\n",
        "print(f\"Confusion Matrix:\\n{cm}\")"
      ],
      "metadata": {
        "colab": {
          "base_uri": "https://localhost:8080/"
        },
        "id": "MFaY4L9f2TeV",
        "outputId": "a5135d5b-5da3-4209-bfa4-15a9534c409f"
      },
      "execution_count": 118,
      "outputs": [
        {
          "output_type": "stream",
          "name": "stdout",
          "text": [
            "Confusion Matrix:\n",
            "[[59  1  0]\n",
            " [ 0 61  0]\n",
            " [ 0  0 61]]\n"
          ]
        }
      ]
    },
    {
      "cell_type": "code",
      "source": [
        "# Plotting Confusion Matrix\n",
        "sns.heatmap(cm, annot=True, fmt='d', cmap='Blues', xticklabels=np.unique(y_resampled), yticklabels=np.unique(y_resampled))\n",
        "plt.title('Confusion Matrix')\n",
        "plt.ylabel('True Label')\n",
        "plt.xlabel('Predicted Label')\n",
        "plt.show()"
      ],
      "metadata": {
        "colab": {
          "base_uri": "https://localhost:8080/",
          "height": 472
        },
        "id": "LZunx6oZ2VOC",
        "outputId": "68f0f237-6f25-4943-af7a-e721ebc6e3fb"
      },
      "execution_count": 119,
      "outputs": [
        {
          "output_type": "display_data",
          "data": {
            "text/plain": [
              "<Figure size 640x480 with 2 Axes>"
            ],
            "image/png": "[encoded data removed]"
          },
          "metadata": {}
        }
      ]
    },
    {
      "cell_type": "code",
      "source": [
        "import numpy as np\n",
        "import matplotlib.pyplot as plt\n",
        "\n",
        "# Get feature importances\n",
        "feature_importances = rf.feature_importances_\n",
        "\n",
        "# If X_train is a DataFrame, get feature names; otherwise, provide a list manually\n",
        "try:\n",
        "    feature_names = X_train.columns  # Works if X_train is a DataFrame\n",
        "except AttributeError:\n",
        "    feature_names = [f\"Feature {i}\" for i in range(X_train.shape[1])]  # Generic names if X_train is a NumPy array\n",
        "\n",
        "# Sort features by importance\n",
        "indices = np.argsort(feature_importances)[::-1]\n",
        "\n",
        "# Plot feature importance\n",
        "plt.figure(figsize=(10, 6))\n",
        "plt.title(\"Feature Importances\")\n",
        "plt.bar(range(X_train.shape[1]), feature_importances[indices], color=\"r\", align=\"center\")\n",
        "plt.xticks(range(X_train.shape[1]), np.array(feature_names)[indices], rotation=90)\n",
        "plt.xlim([-1, X_train.shape[1]])\n",
        "plt.show()# Classification Report\n",
        "report = classification_report(y_test, y_pred)\n",
        "print(f\"Classification Report:\\n{report}\")"
      ],
      "metadata": {
        "colab": {
          "base_uri": "https://localhost:8080/",
          "height": 655
        },
        "id": "D3deBdKa2X_Z",
        "outputId": "9ae0136c-d033-458f-ddfb-2178ee0d832c"
      },
      "execution_count": 120,
      "outputs": [
        {
          "output_type": "display_data",
          "data": {
            "text/plain": [
              "<Figure size 1000x600 with 1 Axes>"
            ],
            "image/png": "[encoded data removed]"
          },
          "metadata": {}
        },
        {
          "output_type": "stream",
          "name": "stdout",
          "text": [
            "Classification Report:\n",
            "              precision    recall  f1-score   support\n",
            "\n",
            "           0       1.00      0.98      0.99        60\n",
            "           1       0.98      1.00      0.99        61\n",
            "           2       1.00      1.00      1.00        61\n",
            "\n",
            "    accuracy                           0.99       182\n",
            "   macro avg       0.99      0.99      0.99       182\n",
            "weighted avg       0.99      0.99      0.99       182\n",
            "\n"
          ]
        }
      ]
    },
    {
      "cell_type": "code",
      "source": [
        "# Accuracy score on the test set\n",
        "accuracy = accuracy_score(y_test, y_pred)\n",
        "print(f\"Accuracy on test set: {accuracy * 100:.2f}%\")"
      ],
      "metadata": {
        "colab": {
          "base_uri": "https://localhost:8080/"
        },
        "id": "hASsKp0w2bTp",
        "outputId": "dd8ffccb-c84f-4935-ebf7-0193731699ed"
      },
      "execution_count": 121,
      "outputs": [
        {
          "output_type": "stream",
          "name": "stdout",
          "text": [
            "Accuracy on test set: 99.45%\n"
          ]
        }
      ]
    },
    {
      "cell_type": "code",
      "source": [
        "import joblib\n",
        "\n",
        "# Save the Random Forest Model\n",
        "joblib.dump(rf, '/content/drive/MyDrive/Importer_Risk_Prediction_2/models/random_forest_model.joblib')\n",
        "print(\"Random Forest Model Saved Successfully!\")"
      ],
      "metadata": {
        "colab": {
          "base_uri": "https://localhost:8080/"
        },
        "id": "CYuMhxQY2clW",
        "outputId": "a944ae1f-0f89-46a8-b201-3a64acd021d1"
      },
      "execution_count": 122,
      "outputs": [
        {
          "output_type": "stream",
          "name": "stdout",
          "text": [
            "Random Forest Model Saved Successfully!\n"
          ]
        }
      ]
    },
    {
      "cell_type": "code",
      "source": [
        "\n",
        "import joblib\n",
        "import numpy as np\n",
        "import pandas as pd\n",
        "from sklearn.preprocessing import LabelEncoder\n",
        "import warnings\n",
        "from sklearn.exceptions import DataConversionWarning\n",
        "\n",
        "# Suppress DataConversionWarning\n",
        "warnings.filterwarnings(\"ignore\", category=DataConversionWarning)\n",
        "\n",
        "# Load trained model\n",
        "try:\n",
        "    model = joblib.load('/content/drive/MyDrive/Importer_Risk_Prediction_2/models/random_forest_model.joblib')\n",
        "    print(\"Model loaded successfully.\")\n",
        "except Exception as e:\n",
        "    print(f\"Error loading model: {e}\")\n",
        "    exit()\n",
        "\n",
        "# Load LabelEncoder for target variable (RISK)\n",
        "try:\n",
        "    label_encoder = joblib.load('/content/drive/MyDrive/Importer_Risk_Prediction_2/label_encoder.pkl')\n",
        "    print(\"Target LabelEncoder loaded successfully.\")\n",
        "except Exception as e:\n",
        "    print(f\"Error loading target LabelEncoder: {e}\")\n",
        "    exit()\n",
        "\n",
        "# Define categorical columns\n",
        "categorical_columns = ['HSCODE', 'COUNTRY', 'UNIT', 'DESCRIPTION_01', 'DESCRIPTION_03']\n",
        "\n",
        "# Load LabelEncoders for each categorical column\n",
        "encoders = {}\n",
        "for col in categorical_columns:\n",
        "    try:\n",
        "        encoder_file = f'/content/drive/MyDrive/Importer_Risk_Prediction_2/encoders/{col}_label_encoder.pkl'\n",
        "        encoders[col] = joblib.load(encoder_file)\n",
        "        print(f\"{col} LabelEncoder loaded successfully.\")\n",
        "    except Exception as e:\n",
        "        print(f\"Error loading LabelEncoder for {col}: {e}\")\n",
        "        exit()\n",
        "\n",
        "def get_user_input():\n",
        "    \"\"\"Get user input for the prediction.\"\"\"\n",
        "    print(\"\\nPlease enter the following details:\")\n",
        "    hscode = input(\"Enter HS Code: \")\n",
        "    country = input(\"Enter Country: \")\n",
        "    unit = input(\"Enter Unit: \")\n",
        "    description_01 = input(\"Enter Description 1: \")\n",
        "    description_03 = input(\"Enter Description 3: \")\n",
        "\n",
        "    try:\n",
        "        quantity = float(input(\"Enter Quantity: \"))\n",
        "    except ValueError:\n",
        "        print(\"Invalid quantity. Please enter a numeric value.\")\n",
        "        exit()\n",
        "\n",
        "    return pd.DataFrame({\n",
        "        'HSCODE': [hscode],\n",
        "        'COUNTRY': [country],\n",
        "        'UNIT': [unit],\n",
        "        'DESCRIPTION_01': [description_01],\n",
        "        'DESCRIPTION_03': [description_03],\n",
        "        'QUANTITY': [quantity]\n",
        "    })\n",
        "\n",
        "def preprocess_input(data):\n",
        "    \"\"\"Preprocess user input using saved LabelEncoders.\"\"\"\n",
        "    try:\n",
        "        # Prepare the encoded categorical data\n",
        "        encoded_features = []\n",
        "\n",
        "        for col in categorical_columns:\n",
        "            encoder = encoders.get(col)\n",
        "            if encoder:\n",
        "                # Transform the input and append the encoded feature\n",
        "                encoded = encoder.transform(data[[col]])\n",
        "                encoded_features.append(encoded)\n",
        "            else:\n",
        "                print(f\"Encoder not found for column: {col}\")\n",
        "                exit()\n",
        "\n",
        "        # Convert the list of encoded features to a single numpy array\n",
        "        encoded_features = np.column_stack(encoded_features)\n",
        "\n",
        "        # Keep numerical features (quantity)\n",
        "        numerical_features = data[['QUANTITY']].values\n",
        "\n",
        "        # Combine encoded categorical features with numerical features\n",
        "        final_features = np.hstack((encoded_features, numerical_features))\n",
        "\n",
        "        return final_features\n",
        "    except Exception as e:\n",
        "        print(f\"Error during preprocessing: {e}\")\n",
        "        exit()\n",
        "\n",
        "def predict_risk():\n",
        "    \"\"\"Predict risk level for user input.\"\"\"\n",
        "    user_data = get_user_input()\n",
        "    processed_data = preprocess_input(user_data)\n",
        "\n",
        "    try:\n",
        "        # Ensure the input is 2D for the model (shape should be (1, n_features))\n",
        "        processed_data = np.array(processed_data).reshape(1, -1)\n",
        "\n",
        "        # Make the prediction (numeric output)\n",
        "        risk_prediction_numeric = model.predict(processed_data)[0]\n",
        "\n",
        "        # Decode the predicted risk using the label encoder\n",
        "        risk_prediction = label_encoder.inverse_transform([risk_prediction_numeric])[0]\n",
        "\n",
        "        print(f\"Predicted Risk Level: {risk_prediction}\")\n",
        "\n",
        "    except Exception as e:\n",
        "        print(f\"Error during prediction: {e}\")\n",
        "\n",
        "if __name__ == \"__main__\":\n",
        "    predict_risk()"
      ],
      "metadata": {
        "colab": {
          "base_uri": "https://localhost:8080/"
        },
        "id": "M3wJXAj02eEU",
        "outputId": "ff74b227-5470-4dbe-8a9a-8e632c96ba73"
      },
      "execution_count": 123,
      "outputs": [
        {
          "output_type": "stream",
          "name": "stdout",
          "text": [
            "Model loaded successfully.\n",
            "Target LabelEncoder loaded successfully.\n",
            "HSCODE LabelEncoder loaded successfully.\n",
            "COUNTRY LabelEncoder loaded successfully.\n",
            "UNIT LabelEncoder loaded successfully.\n",
            "DESCRIPTION_01 LabelEncoder loaded successfully.\n",
            "DESCRIPTION_03 LabelEncoder loaded successfully.\n",
            "\n",
            "Please enter the following details:\n",
            "Enter HS Code: 3102401000\n",
            "Enter Country: UKRAINE\n",
            "Enter Unit: KG\n",
            "Enter Description 1: Fertilizers\n",
            "Enter Description 3: Mineral or chemical fertilizers, nitrogenous\n",
            "Enter Quantity: 2\n",
            "Predicted Risk Level: Moderate Risk\n"
          ]
        }
      ]
    }
  ]
}