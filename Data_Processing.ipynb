{
  "nbformat": 4,
  "nbformat_minor": 0,
  "metadata": {
    "colab": {
      "provenance": [],
      "mount_file_id": "1U-Pw-NCtPzb85AwuyekHZfhxKpIVarqx",
      "authorship_tag": "ABX9TyNuVhJApm9k1zEwPI/0ZJuh",
      "include_colab_link": true
    },
    "kernelspec": {
      "name": "python3",
      "display_name": "Python 3"
    },
    "language_info": {
      "name": "python"
    }
  },
  "cells": [
    {
      "cell_type": "markdown",
      "metadata": {
        "id": "view-in-github",
        "colab_type": "text"
      },
      "source": [
        "<a href=\"https://colab.research.google.com/github/ShabnaIlmi/Data-Science-Group-Project/blob/master/Data_Processing.ipynb\" target=\"_parent\"><img src=\"https://colab.research.google.com/assets/colab-badge.svg\" alt=\"Open In Colab\"/></a>"
      ]
    },
    {
      "cell_type": "code",
      "execution_count": 8,
      "metadata": {
        "colab": {
          "base_uri": "https://localhost:8080/"
        },
        "id": "UQ21luWiIaMR",
        "outputId": "444aceb8-e349-48e8-a578-8e564d5e769a"
      },
      "outputs": [
        {
          "output_type": "stream",
          "name": "stdout",
          "text": [
            "Requirement already satisfied: openpyxl in /usr/local/lib/python3.10/dist-packages (3.1.5)\n",
            "Requirement already satisfied: et-xmlfile in /usr/local/lib/python3.10/dist-packages (from openpyxl) (2.0.0)\n"
          ]
        }
      ],
      "source": [
        "# Installing the required libraries\n",
        "!pip install openpyxl\n",
        "\n",
        "# Importing the relevant libraries\n",
        "import pandas as pd\n",
        "import numpy as np\n",
        "from google.colab import drive\n",
        "from sklearn.preprocessing import LabelEncoder, MinMaxScaler\n"
      ]
    },
    {
      "cell_type": "code",
      "source": [
        "# Step 1: Mounting the google drive\n",
        "from google.colab import drive\n",
        "drive.mount('/content/drive')\n"
      ],
      "metadata": {
        "colab": {
          "base_uri": "https://localhost:8080/"
        },
        "id": "-BVTOOt1Jwtt",
        "outputId": "a6468dd9-5f27-44bd-8166-f549070d7794"
      },
      "execution_count": 10,
      "outputs": [
        {
          "output_type": "stream",
          "name": "stdout",
          "text": [
            "Drive already mounted at /content/drive; to attempt to forcibly remount, call drive.mount(\"/content/drive\", force_remount=True).\n"
          ]
        }
      ]
    },
    {
      "cell_type": "code",
      "source": [
        "# Step 2: Load the Excel file\n",
        "file_path = '/content/drive/MyDrive/CM2603 Data Science Group Project/Data Regardings/IMPORT STATISTICS - 2023.xlsx'  # Correct path\n",
        "excel_data = pd.ExcelFile(file_path)\n",
        "\n",
        "# Inspecting the Sheet Names\n",
        "print(\"Sheet Names:\", excel_data.sheet_names)"
      ],
      "metadata": {
        "colab": {
          "base_uri": "https://localhost:8080/"
        },
        "id": "QkDhJ6R0kZFm",
        "outputId": "520fdacb-cb85-4eff-f429-719a04a04277"
      },
      "execution_count": 9,
      "outputs": [
        {
          "output_type": "stream",
          "name": "stdout",
          "text": [
            "Sheet Names: ['Dataset_1', 'Dataset_2', 'Dataset_3', 'Dataset_4', 'Dataset_5', 'Dataset_6', 'Dataset_7', 'Dataset_8', 'Dataset_9', 'Dataset_10', 'Dataset_11', 'Dataset_12', 'Dataset_13', 'Dataset_14', 'Dataset_15', 'Dataset_16', 'Dataset_17', 'Dataset_18', 'Dataset_19', 'Dataset_20', 'Dataset_21', 'Dataset_22', 'Dataset_23', 'Dataset_24', 'Dataset_25', 'Dataset_26', 'Dataset_27', 'Dataset_28', 'Dataset_29', 'Dataset_30', 'Dataset_31', 'Dataset_32', 'Dataset_33', 'Dataset_34', 'Dataset_35', 'Dataset_36', 'Dataset_37', 'Dataset_38', 'Dataset_39', 'Dataset_40', 'Dataset_41', 'Dataset_42', 'Dataset_43', 'Dataset_44', 'Dataset_45', 'Dataset_46', 'Dataset_47', 'Dataset_48', 'Dataset_49', 'Dataset_50', 'Dataset_51', 'Dataset_52', 'Dataset_53', 'Dataset_54', 'Dataset_55', 'Dataset_56', 'Dataset_57', 'Dataset_58', 'Dataset_59', 'Dataset_60', 'Dataset_61', 'Dataset_62', 'Dataset_63', 'Dataset_64', 'Dataset_65', 'Dataset_66', 'Dataset_67', 'Dataset_68', 'Dataset_69', 'Dataset_70', 'Dataset_71', 'Dataset_72', 'Dataset_73', 'Dataset_74', 'Dataset_75', 'Dataset_76', 'Dataset_77', 'Dataset_78', 'Dataset_79', 'Dataset_80', 'Dataset_81', 'Dataset_82', 'Dataset_83', 'Dataset_84', 'Dataset_85', 'Dataset_86', 'Dataset_87', 'Dataset_88', 'Dataset_89', 'Dataset_90', 'Dataset_91', 'Dataset_92', 'Dataset_93', 'Dataset_94', 'Dataset_95', 'Dataset_96', 'Dataset_97', 'Dataset_98', 'Dataset_99', 'Dataset_100']\n"
          ]
        }
      ]
    },
    {
      "cell_type": "code",
      "source": [
        "# Step 3: Loading Data from All Sheets (Process only the first sheet as an example)\n",
        "data = excel_data.parse(excel_data.sheet_names[0])  # First sheet\n",
        "print(f\"\\nLoaded Sheet: {excel_data.sheet_names[0]}\")\n",
        "\n",
        "# Inspecting Data\n",
        "print(\"\\nFirst 5 rows of the dataset:\")\n",
        "print(data.head())\n",
        "print(\"\\nDataset Info:\")\n",
        "data.info()\n",
        "print(\"\\nMissing Values Summary:\")\n",
        "print(data.isnull().sum())"
      ],
      "metadata": {
        "colab": {
          "base_uri": "https://localhost:8080/"
        },
        "id": "_8m24HHJOhue",
        "outputId": "81a2bf91-e427-4430-98e7-72b1f4c01abe"
      },
      "execution_count": 11,
      "outputs": [
        {
          "output_type": "stream",
          "name": "stdout",
          "text": [
            "\n",
            "Loaded Sheet: Dataset_1\n",
            "\n",
            "First 5 rows of the dataset:\n",
            "                    IMPORTER  YEAR      MONTH  HSCODE      COUNTRY UNIT  \\\n",
            "0       TransWorld Chemicals  2023       JUNE  280110       FRANCE  Kg.   \n",
            "1  Horizon Industrial Supply  2023  SEPTEMBER  283719         U.K.  Kg.   \n",
            "2     Greenfield Enterprises  2023       JULY  284700  SOUTH KOREA  Kg.   \n",
            "3       Redwood Chemical Co.  2023   DECEMBER  280110      AUSTRIA  Kg.   \n",
            "4       Redwood Chemical Co.  2023      APRIL  280800        SPAIN  Kg.   \n",
            "\n",
            "   QUANTITY  VALUE_RS                                     DESCRIPTION_01  \\\n",
            "0    179640  13387839  Inorganic chemicals; Organic or inorganic comp...   \n",
            "1     53784  36871839  Inorganic chemicals; Organic or inorganic comp...   \n",
            "2     77028  35228981  Inorganic chemicals; Organic or inorganic comp...   \n",
            "3    137434  23393445  Inorganic chemicals; Organic or inorganic comp...   \n",
            "4    116881  11490994  Inorganic chemicals; Organic or inorganic comp...   \n",
            "\n",
            "                                      DESCRIPTION_02  \\\n",
            "0             Fluorine, chlorine, bromine and iodine   \n",
            "1     Cyanides, cyanide oxides and complex cyanides.   \n",
            "2  Hydrogen peroxide, whether or not solidified w...   \n",
            "3             Fluorine, chlorine, bromine and iodine   \n",
            "4                   Nitric acid; sulphonitric acids.   \n",
            "\n",
            "                                      DESCRIPTION_03  \n",
            "0             Fluorine, chlorine, bromine and iodine  \n",
            "1     Cyanides, cyanide oxides and complex cyanides.  \n",
            "2  Hydrogen peroxide, whether or not solidified w...  \n",
            "3             Fluorine, chlorine, bromine and iodine  \n",
            "4                   Nitric acid; sulphonitric acids.  \n",
            "\n",
            "Dataset Info:\n",
            "<class 'pandas.core.frame.DataFrame'>\n",
            "RangeIndex: 100 entries, 0 to 99\n",
            "Data columns (total 11 columns):\n",
            " #   Column          Non-Null Count  Dtype \n",
            "---  ------          --------------  ----- \n",
            " 0   IMPORTER        100 non-null    object\n",
            " 1   YEAR            100 non-null    int64 \n",
            " 2   MONTH           100 non-null    object\n",
            " 3   HSCODE          100 non-null    int64 \n",
            " 4   COUNTRY         100 non-null    object\n",
            " 5   UNIT            100 non-null    object\n",
            " 6   QUANTITY        100 non-null    int64 \n",
            " 7   VALUE_RS        100 non-null    int64 \n",
            " 8   DESCRIPTION_01  100 non-null    object\n",
            " 9   DESCRIPTION_02  100 non-null    object\n",
            " 10  DESCRIPTION_03  100 non-null    object\n",
            "dtypes: int64(4), object(7)\n",
            "memory usage: 8.7+ KB\n",
            "\n",
            "Missing Values Summary:\n",
            "IMPORTER          0\n",
            "YEAR              0\n",
            "MONTH             0\n",
            "HSCODE            0\n",
            "COUNTRY           0\n",
            "UNIT              0\n",
            "QUANTITY          0\n",
            "VALUE_RS          0\n",
            "DESCRIPTION_01    0\n",
            "DESCRIPTION_02    0\n",
            "DESCRIPTION_03    0\n",
            "dtype: int64\n"
          ]
        }
      ]
    },
    {
      "cell_type": "code",
      "source": [
        "# Step 4: Handle Missing Values\n",
        "# Filling missing numeric columns with the mean, and categorical columns with 'Unknown'\n",
        "for col in data.columns:\n",
        "    if data[col].dtype == 'object':\n",
        "        data[col].fillna('Unknown', inplace=True)\n",
        "    else:\n",
        "        data[col].fillna(data[col].mean(), inplace=True)\n",
        "\n",
        "print(\"\\nAfter Handling Missing Values:\")\n",
        "print(data.isnull().sum())"
      ],
      "metadata": {
        "colab": {
          "base_uri": "https://localhost:8080/"
        },
        "id": "9GnCTgDeOjTv",
        "outputId": "7983bfa9-dc95-4d9b-f640-4378f637b6b9"
      },
      "execution_count": 12,
      "outputs": [
        {
          "output_type": "stream",
          "name": "stdout",
          "text": [
            "\n",
            "After Handling Missing Values:\n",
            "IMPORTER          0\n",
            "YEAR              0\n",
            "MONTH             0\n",
            "HSCODE            0\n",
            "COUNTRY           0\n",
            "UNIT              0\n",
            "QUANTITY          0\n",
            "VALUE_RS          0\n",
            "DESCRIPTION_01    0\n",
            "DESCRIPTION_02    0\n",
            "DESCRIPTION_03    0\n",
            "dtype: int64\n"
          ]
        },
        {
          "output_type": "stream",
          "name": "stderr",
          "text": [
            "<ipython-input-12-4428f53fe442>:5: FutureWarning: A value is trying to be set on a copy of a DataFrame or Series through chained assignment using an inplace method.\n",
            "The behavior will change in pandas 3.0. This inplace method will never work because the intermediate object on which we are setting values always behaves as a copy.\n",
            "\n",
            "For example, when doing 'df[col].method(value, inplace=True)', try using 'df.method({col: value}, inplace=True)' or df[col] = df[col].method(value) instead, to perform the operation inplace on the original object.\n",
            "\n",
            "\n",
            "  data[col].fillna('Unknown', inplace=True)\n",
            "<ipython-input-12-4428f53fe442>:7: FutureWarning: A value is trying to be set on a copy of a DataFrame or Series through chained assignment using an inplace method.\n",
            "The behavior will change in pandas 3.0. This inplace method will never work because the intermediate object on which we are setting values always behaves as a copy.\n",
            "\n",
            "For example, when doing 'df[col].method(value, inplace=True)', try using 'df.method({col: value}, inplace=True)' or df[col] = df[col].method(value) instead, to perform the operation inplace on the original object.\n",
            "\n",
            "\n",
            "  data[col].fillna(data[col].mean(), inplace=True)\n"
          ]
        }
      ]
    },
    {
      "cell_type": "code",
      "source": [
        "# Step 5: Standardize Column Names\n",
        "data.columns = data.columns.str.strip().str.lower().str.replace(' ', '_')\n",
        "print(\"\\nColumns After Standardization:\")\n",
        "print(data.columns)"
      ],
      "metadata": {
        "colab": {
          "base_uri": "https://localhost:8080/"
        },
        "id": "ARkLU6L6OvA4",
        "outputId": "c3f36acb-f067-4612-c09b-53883ce23606"
      },
      "execution_count": 13,
      "outputs": [
        {
          "output_type": "stream",
          "name": "stdout",
          "text": [
            "\n",
            "Columns After Standardization:\n",
            "Index(['importer', 'year', 'month', 'hscode', 'country', 'unit', 'quantity',\n",
            "       'value_rs', 'description_01', 'description_02', 'description_03'],\n",
            "      dtype='object')\n"
          ]
        }
      ]
    },
    {
      "cell_type": "code",
      "source": [
        "# Step 6: Remove Duplicates\n",
        "data.drop_duplicates(inplace=True)\n",
        "print(\"\\nAfter Removing Duplicates:\")\n",
        "print(f\"Shape: {data.shape}\")"
      ],
      "metadata": {
        "colab": {
          "base_uri": "https://localhost:8080/"
        },
        "id": "FQ0yRkOhOySp",
        "outputId": "af1e0665-8407-41fa-cee2-c2024ec10ce9"
      },
      "execution_count": 14,
      "outputs": [
        {
          "output_type": "stream",
          "name": "stdout",
          "text": [
            "\n",
            "After Removing Duplicates:\n",
            "Shape: (100, 11)\n"
          ]
        }
      ]
    },
    {
      "cell_type": "code",
      "source": [
        "# Step 7: Handle Outliers (Cap numeric columns at the 1st and 99th percentiles)\n",
        "numeric_cols = data.select_dtypes(include=['number']).columns\n",
        "for col in numeric_cols:\n",
        "    lower_bound = data[col].quantile(0.01)\n",
        "    upper_bound = data[col].quantile(0.99)\n",
        "    data[col] = data[col].clip(lower=lower_bound, upper=upper_bound)\n",
        "\n",
        "print(\"\\nAfter Handling Outliers:\")\n",
        "print(data[numeric_cols].describe())"
      ],
      "metadata": {
        "colab": {
          "base_uri": "https://localhost:8080/"
        },
        "id": "nBMpN6RtOzIh",
        "outputId": "d1f635c0-3bf4-44fd-f8be-8d3eecb8b7aa"
      },
      "execution_count": 15,
      "outputs": [
        {
          "output_type": "stream",
          "name": "stdout",
          "text": [
            "\n",
            "After Handling Outliers:\n",
            "         year         hscode       quantity      value_rs\n",
            "count   100.0     100.000000     100.000000  1.000000e+02\n",
            "mean   2023.0  282323.510000   97047.523900  2.604947e+07\n",
            "std       0.0    1879.302366   58263.323467  1.401270e+07\n",
            "min    2023.0  280110.000000    4837.200000  8.980640e+05\n",
            "25%    2023.0  280110.000000   45205.750000  1.499321e+07\n",
            "50%    2023.0  283711.000000   90109.500000  2.549791e+07\n",
            "75%    2023.0  283719.000000  145189.000000  3.816808e+07\n",
            "max    2023.0  284700.000000  195717.190000  4.932748e+07\n"
          ]
        }
      ]
    },
    {
      "cell_type": "code",
      "source": [
        "# Step 8: Encode Categorical Variables\n",
        "# One-hot encode categorical columns\n",
        "categorical_cols = data.select_dtypes(include=['object']).columns\n",
        "data = pd.get_dummies(data, columns=categorical_cols, drop_first=True)\n",
        "\n",
        "print(\"\\nAfter Encoding Categorical Variables:\")\n",
        "print(data.head())"
      ],
      "metadata": {
        "colab": {
          "base_uri": "https://localhost:8080/"
        },
        "id": "smJ3uzf8O3MU",
        "outputId": "74fe9cf6-7525-4d14-f7e9-b00c74166c4a"
      },
      "execution_count": 16,
      "outputs": [
        {
          "output_type": "stream",
          "name": "stdout",
          "text": [
            "\n",
            "After Encoding Categorical Variables:\n",
            "   year  hscode  quantity    value_rs  importer_EcoTrade Ltd.  \\\n",
            "0  2023  280110  179640.0  13387839.0                   False   \n",
            "1  2023  283719   53784.0  36871839.0                   False   \n",
            "2  2023  284700   77028.0  35228981.0                   False   \n",
            "3  2023  280110  137434.0  23393445.0                   False   \n",
            "4  2023  280800  116881.0  11490994.0                   False   \n",
            "\n",
            "   importer_GlobalTech Imports  importer_Greenfield Enterprises  \\\n",
            "0                        False                            False   \n",
            "1                        False                            False   \n",
            "2                        False                             True   \n",
            "3                        False                            False   \n",
            "4                        False                            False   \n",
            "\n",
            "   importer_Horizon Industrial Supply  importer_IronGate Imports Ltd.  \\\n",
            "0                               False                           False   \n",
            "1                                True                           False   \n",
            "2                               False                           False   \n",
            "3                               False                           False   \n",
            "4                               False                           False   \n",
            "\n",
            "   importer_Nova International Trade  ...  country_U.K.  country_U.S.A  \\\n",
            "0                              False  ...         False          False   \n",
            "1                              False  ...          True          False   \n",
            "2                              False  ...         False          False   \n",
            "3                              False  ...         False          False   \n",
            "4                              False  ...         False          False   \n",
            "\n",
            "   description_02_Cyanides, cyanide oxides and complex cyanides.  \\\n",
            "0                                              False               \n",
            "1                                               True               \n",
            "2                                              False               \n",
            "3                                              False               \n",
            "4                                              False               \n",
            "\n",
            "   description_02_Fluorine, chlorine, bromine and iodine  \\\n",
            "0                                               True       \n",
            "1                                              False       \n",
            "2                                              False       \n",
            "3                                               True       \n",
            "4                                              False       \n",
            "\n",
            "   description_02_Hydrogen peroxide, whether or not solidified with urea.  \\\n",
            "0                                              False                        \n",
            "1                                              False                        \n",
            "2                                               True                        \n",
            "3                                              False                        \n",
            "4                                              False                        \n",
            "\n",
            "   description_02_Nitric acid; sulphonitric acids.  \\\n",
            "0                                            False   \n",
            "1                                            False   \n",
            "2                                            False   \n",
            "3                                            False   \n",
            "4                                             True   \n",
            "\n",
            "   description_03_Cyanides, cyanide oxides and complex cyanides.  \\\n",
            "0                                              False               \n",
            "1                                               True               \n",
            "2                                              False               \n",
            "3                                              False               \n",
            "4                                              False               \n",
            "\n",
            "   description_03_Fluorine, chlorine, bromine and iodine  \\\n",
            "0                                               True       \n",
            "1                                              False       \n",
            "2                                              False       \n",
            "3                                               True       \n",
            "4                                              False       \n",
            "\n",
            "   description_03_Hydrogen peroxide, whether or not solidified with urea.  \\\n",
            "0                                              False                        \n",
            "1                                              False                        \n",
            "2                                               True                        \n",
            "3                                              False                        \n",
            "4                                              False                        \n",
            "\n",
            "   description_03_Nitric acid; sulphonitric acids.  \n",
            "0                                            False  \n",
            "1                                            False  \n",
            "2                                            False  \n",
            "3                                            False  \n",
            "4                                             True  \n",
            "\n",
            "[5 rows x 47 columns]\n"
          ]
        }
      ]
    },
    {
      "cell_type": "code",
      "source": [],
      "metadata": {
        "id": "MCiHCwHbPRfs"
      },
      "execution_count": null,
      "outputs": []
    }
  ]
}