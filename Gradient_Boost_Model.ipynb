{
  "nbformat": 4,
  "nbformat_minor": 0,
  "metadata": {
    "colab": {
      "provenance": [],
      "mount_file_id": "1Uqmnkk2ae9rd-Tx_Db6VrgrXf01fBJLq",
      "authorship_tag": "ABX9TyM8+tdKtGEKVSBHRfNzhRiu",
      "include_colab_link": true
    },
    "kernelspec": {
      "name": "python3",
      "display_name": "Python 3"
    },
    "language_info": {
      "name": "python"
    }
  },
  "cells": [
    {
      "cell_type": "markdown",
      "metadata": {
        "id": "view-in-github",
        "colab_type": "text"
      },
      "source": [
        "<a href=\"https://colab.research.google.com/github/ShabnaIlmi/Data-Science-Group-Project/blob/Importer_Risk_Prediction/Gradient_Boost_Model.ipynb\" target=\"_parent\"><img src=\"https://colab.research.google.com/assets/colab-badge.svg\" alt=\"Open In Colab\"/></a>"
      ]
    },
    {
      "cell_type": "markdown",
      "source": [
        "# **Importing the Necessary Libraries**"
      ],
      "metadata": {
        "id": "x_LlCv-gBMAp"
      }
    },
    {
      "cell_type": "code",
      "source": [
        "# Importing Necessary Libraries\n",
        "import pandas as pd\n",
        "import numpy as np\n",
        "import matplotlib.pyplot as plt\n",
        "import seaborn as sns\n",
        "from sklearn.model_selection import train_test_split\n",
        "from sklearn.preprocessing import OneHotEncoder, StandardScaler, LabelEncoder\n",
        "from sklearn.ensemble import GradientBoostingClassifier\n",
        "from sklearn.metrics import accuracy_score, classification_report, confusion_matrix\n",
        "import joblib\n",
        "import warnings\n",
        "from imblearn.over_sampling import SMOTE\n",
        "from sklearn.model_selection import train_test_split"
      ],
      "metadata": {
        "id": "g4-dFVgsHRw_"
      },
      "execution_count": 176,
      "outputs": []
    },
    {
      "cell_type": "markdown",
      "source": [
        "# **Loading the Dataset**"
      ],
      "metadata": {
        "id": "tTC-V1diBcFO"
      }
    },
    {
      "cell_type": "code",
      "source": [
        "# Loading the Dataset\n",
        "data = pd.read_excel(\"/content/drive/MyDrive/risk-prediction/Dataset/updated_chemical_import_risk_data.xlsx\")"
      ],
      "metadata": {
        "id": "NHzrT0AZBaX1"
      },
      "execution_count": 177,
      "outputs": []
    },
    {
      "cell_type": "code",
      "source": [
        "# Displaying the Dataset Head\n",
        "data.head()"
      ],
      "metadata": {
        "colab": {
          "base_uri": "https://localhost:8080/",
          "height": 399
        },
        "id": "8kZk8si-By1q",
        "outputId": "9bbc663c-0ad2-4e09-a8fa-7ab13d593b43"
      },
      "execution_count": 178,
      "outputs": [
        {
          "output_type": "execute_result",
          "data": {
            "text/plain": [
              "  Importer_ID  Import_Frequency  Import_Quantity (kg)  \\\n",
              "0      IMP001                36                  5199   \n",
              "1      IMP002                26                  3398   \n",
              "2      IMP003                47                  5626   \n",
              "3      IMP004                91                  7700   \n",
              "4      IMP005                63                  8377   \n",
              "\n",
              "                                       Chemical_Name  HS Code  \\\n",
              "0  Fluorides; fluorosilicates, fluoroaluminates, ...   282619   \n",
              "1                              Sulphuric acid; oleum   280700   \n",
              "2                              Sulphuric acid; oleum   280700   \n",
              "3             Cyanides and cyanide oxides: Of sodium   283711   \n",
              "4                    Nitric acid; sulphonitric acids   280800   \n",
              "\n",
              "  Country_of_Origin                            Importation_Description  \\\n",
              "0          Pakistan    Used in aluminum smelting & glass manufacturing   \n",
              "1            Brazil            Petroleum refining & chemical synthesis   \n",
              "2             India            Petroleum refining & chemical synthesis   \n",
              "3             India              Gold mining & electroplating industry   \n",
              "4             China  Used in fertilizer manufacturing & explosives ...   \n",
              "\n",
              "  Compliance_History  Past_Violations Financial_Stability Risk_Category  \n",
              "0          Excellent                4                High         Risky  \n",
              "1               Poor                1                High     Not Risky  \n",
              "2            Average                5              Medium         Risky  \n",
              "3          Excellent                4              Medium     Not Risky  \n",
              "4            Average                4                 Low     Not Risky  "
            ],
            "text/html": [
              "\n",
              "  <div id=\"df-58345df0-aec4-4705-a945-c37bc20419a8\" class=\"colab-df-container\">\n",
              "    <div>\n",
              "<style scoped>\n",
              "    .dataframe tbody tr th:only-of-type {\n",
              "        vertical-align: middle;\n",
              "    }\n",
              "\n",
              "    .dataframe tbody tr th {\n",
              "        vertical-align: top;\n",
              "    }\n",
              "\n",
              "    .dataframe thead th {\n",
              "        text-align: right;\n",
              "    }\n",
              "</style>\n",
              "<table border=\"1\" class=\"dataframe\">\n",
              "  <thead>\n",
              "    <tr style=\"text-align: right;\">\n",
              "      <th></th>\n",
              "      <th>Importer_ID</th>\n",
              "      <th>Import_Frequency</th>\n",
              "      <th>Import_Quantity (kg)</th>\n",
              "      <th>Chemical_Name</th>\n",
              "      <th>HS Code</th>\n",
              "      <th>Country_of_Origin</th>\n",
              "      <th>Importation_Description</th>\n",
              "      <th>Compliance_History</th>\n",
              "      <th>Past_Violations</th>\n",
              "      <th>Financial_Stability</th>\n",
              "      <th>Risk_Category</th>\n",
              "    </tr>\n",
              "  </thead>\n",
              "  <tbody>\n",
              "    <tr>\n",
              "      <th>0</th>\n",
              "      <td>IMP001</td>\n",
              "      <td>36</td>\n",
              "      <td>5199</td>\n",
              "      <td>Fluorides; fluorosilicates, fluoroaluminates, ...</td>\n",
              "      <td>282619</td>\n",
              "      <td>Pakistan</td>\n",
              "      <td>Used in aluminum smelting &amp; glass manufacturing</td>\n",
              "      <td>Excellent</td>\n",
              "      <td>4</td>\n",
              "      <td>High</td>\n",
              "      <td>Risky</td>\n",
              "    </tr>\n",
              "    <tr>\n",
              "      <th>1</th>\n",
              "      <td>IMP002</td>\n",
              "      <td>26</td>\n",
              "      <td>3398</td>\n",
              "      <td>Sulphuric acid; oleum</td>\n",
              "      <td>280700</td>\n",
              "      <td>Brazil</td>\n",
              "      <td>Petroleum refining &amp; chemical synthesis</td>\n",
              "      <td>Poor</td>\n",
              "      <td>1</td>\n",
              "      <td>High</td>\n",
              "      <td>Not Risky</td>\n",
              "    </tr>\n",
              "    <tr>\n",
              "      <th>2</th>\n",
              "      <td>IMP003</td>\n",
              "      <td>47</td>\n",
              "      <td>5626</td>\n",
              "      <td>Sulphuric acid; oleum</td>\n",
              "      <td>280700</td>\n",
              "      <td>India</td>\n",
              "      <td>Petroleum refining &amp; chemical synthesis</td>\n",
              "      <td>Average</td>\n",
              "      <td>5</td>\n",
              "      <td>Medium</td>\n",
              "      <td>Risky</td>\n",
              "    </tr>\n",
              "    <tr>\n",
              "      <th>3</th>\n",
              "      <td>IMP004</td>\n",
              "      <td>91</td>\n",
              "      <td>7700</td>\n",
              "      <td>Cyanides and cyanide oxides: Of sodium</td>\n",
              "      <td>283711</td>\n",
              "      <td>India</td>\n",
              "      <td>Gold mining &amp; electroplating industry</td>\n",
              "      <td>Excellent</td>\n",
              "      <td>4</td>\n",
              "      <td>Medium</td>\n",
              "      <td>Not Risky</td>\n",
              "    </tr>\n",
              "    <tr>\n",
              "      <th>4</th>\n",
              "      <td>IMP005</td>\n",
              "      <td>63</td>\n",
              "      <td>8377</td>\n",
              "      <td>Nitric acid; sulphonitric acids</td>\n",
              "      <td>280800</td>\n",
              "      <td>China</td>\n",
              "      <td>Used in fertilizer manufacturing &amp; explosives ...</td>\n",
              "      <td>Average</td>\n",
              "      <td>4</td>\n",
              "      <td>Low</td>\n",
              "      <td>Not Risky</td>\n",
              "    </tr>\n",
              "  </tbody>\n",
              "</table>\n",
              "</div>\n",
              "    <div class=\"colab-df-buttons\">\n",
              "\n",
              "  <div class=\"colab-df-container\">\n",
              "    <button class=\"colab-df-convert\" onclick=\"convertToInteractive('df-58345df0-aec4-4705-a945-c37bc20419a8')\"\n",
              "            title=\"Convert this dataframe to an interactive table.\"\n",
              "            style=\"display:none;\">\n",
              "\n",
              "  <svg xmlns=\"http://www.w3.org/2000/svg\" height=\"24px\" viewBox=\"0 -960 960 960\">\n",
              "    <path d=\"M120-120v-720h720v720H120Zm60-500h600v-160H180v160Zm220 220h160v-160H400v160Zm0 220h160v-160H400v160ZM180-400h160v-160H180v160Zm440 0h160v-160H620v160ZM180-180h160v-160H180v160Zm440 0h160v-160H620v160Z\"/>\n",
              "  </svg>\n",
              "    </button>\n",
              "\n",
              "  <style>\n",
              "    .colab-df-container {\n",
              "      display:flex;\n",
              "      gap: 12px;\n",
              "    }\n",
              "\n",
              "    .colab-df-convert {\n",
              "      background-color: #E8F0FE;\n",
              "      border: none;\n",
              "      border-radius: 50%;\n",
              "      cursor: pointer;\n",
              "      display: none;\n",
              "      fill: #1967D2;\n",
              "      height: 32px;\n",
              "      padding: 0 0 0 0;\n",
              "      width: 32px;\n",
              "    }\n",
              "\n",
              "    .colab-df-convert:hover {\n",
              "      background-color: #E2EBFA;\n",
              "      box-shadow: 0px 1px 2px rgba(60, 64, 67, 0.3), 0px 1px 3px 1px rgba(60, 64, 67, 0.15);\n",
              "      fill: #174EA6;\n",
              "    }\n",
              "\n",
              "    .colab-df-buttons div {\n",
              "      margin-bottom: 4px;\n",
              "    }\n",
              "\n",
              "    [theme=dark] .colab-df-convert {\n",
              "      background-color: #3B4455;\n",
              "      fill: #D2E3FC;\n",
              "    }\n",
              "\n",
              "    [theme=dark] .colab-df-convert:hover {\n",
              "      background-color: #434B5C;\n",
              "      box-shadow: 0px 1px 3px 1px rgba(0, 0, 0, 0.15);\n",
              "      filter: drop-shadow(0px 1px 2px rgba(0, 0, 0, 0.3));\n",
              "      fill: #FFFFFF;\n",
              "    }\n",
              "  </style>\n",
              "\n",
              "    <script>\n",
              "      const buttonEl =\n",
              "        document.querySelector('#df-58345df0-aec4-4705-a945-c37bc20419a8 button.colab-df-convert');\n",
              "      buttonEl.style.display =\n",
              "        google.colab.kernel.accessAllowed ? 'block' : 'none';\n",
              "\n",
              "      async function convertToInteractive(key) {\n",
              "        const element = document.querySelector('#df-58345df0-aec4-4705-a945-c37bc20419a8');\n",
              "        const dataTable =\n",
              "          await google.colab.kernel.invokeFunction('convertToInteractive',\n",
              "                                                    [key], {});\n",
              "        if (!dataTable) return;\n",
              "\n",
              "        const docLinkHtml = 'Like what you see? Visit the ' +\n",
              "          '<a target=\"_blank\" href=https://colab.research.google.com/notebooks/data_table.ipynb>data table notebook</a>'\n",
              "          + ' to learn more about interactive tables.';\n",
              "        element.innerHTML = '';\n",
              "        dataTable['output_type'] = 'display_data';\n",
              "        await google.colab.output.renderOutput(dataTable, element);\n",
              "        const docLink = document.createElement('div');\n",
              "        docLink.innerHTML = docLinkHtml;\n",
              "        element.appendChild(docLink);\n",
              "      }\n",
              "    </script>\n",
              "  </div>\n",
              "\n",
              "\n",
              "<div id=\"df-1934deb0-1bc6-406a-a30c-e4c3599f8a59\">\n",
              "  <button class=\"colab-df-quickchart\" onclick=\"quickchart('df-1934deb0-1bc6-406a-a30c-e4c3599f8a59')\"\n",
              "            title=\"Suggest charts\"\n",
              "            style=\"display:none;\">\n",
              "\n",
              "<svg xmlns=\"http://www.w3.org/2000/svg\" height=\"24px\"viewBox=\"0 0 24 24\"\n",
              "     width=\"24px\">\n",
              "    <g>\n",
              "        <path d=\"M19 3H5c-1.1 0-2 .9-2 2v14c0 1.1.9 2 2 2h14c1.1 0 2-.9 2-2V5c0-1.1-.9-2-2-2zM9 17H7v-7h2v7zm4 0h-2V7h2v10zm4 0h-2v-4h2v4z\"/>\n",
              "    </g>\n",
              "</svg>\n",
              "  </button>\n",
              "\n",
              "<style>\n",
              "  .colab-df-quickchart {\n",
              "      --bg-color: #E8F0FE;\n",
              "      --fill-color: #1967D2;\n",
              "      --hover-bg-color: #E2EBFA;\n",
              "      --hover-fill-color: #174EA6;\n",
              "      --disabled-fill-color: #AAA;\n",
              "      --disabled-bg-color: #DDD;\n",
              "  }\n",
              "\n",
              "  [theme=dark] .colab-df-quickchart {\n",
              "      --bg-color: #3B4455;\n",
              "      --fill-color: #D2E3FC;\n",
              "      --hover-bg-color: #434B5C;\n",
              "      --hover-fill-color: #FFFFFF;\n",
              "      --disabled-bg-color: #3B4455;\n",
              "      --disabled-fill-color: #666;\n",
              "  }\n",
              "\n",
              "  .colab-df-quickchart {\n",
              "    background-color: var(--bg-color);\n",
              "    border: none;\n",
              "    border-radius: 50%;\n",
              "    cursor: pointer;\n",
              "    display: none;\n",
              "    fill: var(--fill-color);\n",
              "    height: 32px;\n",
              "    padding: 0;\n",
              "    width: 32px;\n",
              "  }\n",
              "\n",
              "  .colab-df-quickchart:hover {\n",
              "    background-color: var(--hover-bg-color);\n",
              "    box-shadow: 0 1px 2px rgba(60, 64, 67, 0.3), 0 1px 3px 1px rgba(60, 64, 67, 0.15);\n",
              "    fill: var(--button-hover-fill-color);\n",
              "  }\n",
              "\n",
              "  .colab-df-quickchart-complete:disabled,\n",
              "  .colab-df-quickchart-complete:disabled:hover {\n",
              "    background-color: var(--disabled-bg-color);\n",
              "    fill: var(--disabled-fill-color);\n",
              "    box-shadow: none;\n",
              "  }\n",
              "\n",
              "  .colab-df-spinner {\n",
              "    border: 2px solid var(--fill-color);\n",
              "    border-color: transparent;\n",
              "    border-bottom-color: var(--fill-color);\n",
              "    animation:\n",
              "      spin 1s steps(1) infinite;\n",
              "  }\n",
              "\n",
              "  @keyframes spin {\n",
              "    0% {\n",
              "      border-color: transparent;\n",
              "      border-bottom-color: var(--fill-color);\n",
              "      border-left-color: var(--fill-color);\n",
              "    }\n",
              "    20% {\n",
              "      border-color: transparent;\n",
              "      border-left-color: var(--fill-color);\n",
              "      border-top-color: var(--fill-color);\n",
              "    }\n",
              "    30% {\n",
              "      border-color: transparent;\n",
              "      border-left-color: var(--fill-color);\n",
              "      border-top-color: var(--fill-color);\n",
              "      border-right-color: var(--fill-color);\n",
              "    }\n",
              "    40% {\n",
              "      border-color: transparent;\n",
              "      border-right-color: var(--fill-color);\n",
              "      border-top-color: var(--fill-color);\n",
              "    }\n",
              "    60% {\n",
              "      border-color: transparent;\n",
              "      border-right-color: var(--fill-color);\n",
              "    }\n",
              "    80% {\n",
              "      border-color: transparent;\n",
              "      border-right-color: var(--fill-color);\n",
              "      border-bottom-color: var(--fill-color);\n",
              "    }\n",
              "    90% {\n",
              "      border-color: transparent;\n",
              "      border-bottom-color: var(--fill-color);\n",
              "    }\n",
              "  }\n",
              "</style>\n",
              "\n",
              "  <script>\n",
              "    async function quickchart(key) {\n",
              "      const quickchartButtonEl =\n",
              "        document.querySelector('#' + key + ' button');\n",
              "      quickchartButtonEl.disabled = true;  // To prevent multiple clicks.\n",
              "      quickchartButtonEl.classList.add('colab-df-spinner');\n",
              "      try {\n",
              "        const charts = await google.colab.kernel.invokeFunction(\n",
              "            'suggestCharts', [key], {});\n",
              "      } catch (error) {\n",
              "        console.error('Error during call to suggestCharts:', error);\n",
              "      }\n",
              "      quickchartButtonEl.classList.remove('colab-df-spinner');\n",
              "      quickchartButtonEl.classList.add('colab-df-quickchart-complete');\n",
              "    }\n",
              "    (() => {\n",
              "      let quickchartButtonEl =\n",
              "        document.querySelector('#df-1934deb0-1bc6-406a-a30c-e4c3599f8a59 button');\n",
              "      quickchartButtonEl.style.display =\n",
              "        google.colab.kernel.accessAllowed ? 'block' : 'none';\n",
              "    })();\n",
              "  </script>\n",
              "</div>\n",
              "\n",
              "    </div>\n",
              "  </div>\n"
            ],
            "application/vnd.google.colaboratory.intrinsic+json": {
              "type": "dataframe",
              "variable_name": "data",
              "summary": "{\n  \"name\": \"data\",\n  \"rows\": 100,\n  \"fields\": [\n    {\n      \"column\": \"Importer_ID\",\n      \"properties\": {\n        \"dtype\": \"string\",\n        \"num_unique_values\": 100,\n        \"samples\": [\n          \"IMP084\",\n          \"IMP054\",\n          \"IMP071\"\n        ],\n        \"semantic_type\": \"\",\n        \"description\": \"\"\n      }\n    },\n    {\n      \"column\": \"Import_Frequency\",\n      \"properties\": {\n        \"dtype\": \"number\",\n        \"std\": 26,\n        \"min\": 5,\n        \"max\": 100,\n        \"num_unique_values\": 59,\n        \"samples\": [\n          36,\n          33,\n          41\n        ],\n        \"semantic_type\": \"\",\n        \"description\": \"\"\n      }\n    },\n    {\n      \"column\": \"Import_Quantity (kg)\",\n      \"properties\": {\n        \"dtype\": \"number\",\n        \"std\": 6025,\n        \"min\": 102,\n        \"max\": 23414,\n        \"num_unique_values\": 100,\n        \"samples\": [\n          8015,\n          12552,\n          2296\n        ],\n        \"semantic_type\": \"\",\n        \"description\": \"\"\n      }\n    },\n    {\n      \"column\": \"Chemical_Name\",\n      \"properties\": {\n        \"dtype\": \"category\",\n        \"num_unique_values\": 12,\n        \"samples\": [\n          \"Cyanides and cyanide oxides: Other\",\n          \"Mineral or chemical fertilizers, nitrogenous\",\n          \"Fluorides; fluorosilicates, fluoroaluminates, and other complex fluorine salts\"\n        ],\n        \"semantic_type\": \"\",\n        \"description\": \"\"\n      }\n    },\n    {\n      \"column\": \"HS Code\",\n      \"properties\": {\n        \"dtype\": \"number\",\n        \"std\": 8298,\n        \"min\": 280110,\n        \"max\": 310210,\n        \"num_unique_values\": 12,\n        \"samples\": [\n          283719,\n          310210,\n          282619\n        ],\n        \"semantic_type\": \"\",\n        \"description\": \"\"\n      }\n    },\n    {\n      \"column\": \"Country_of_Origin\",\n      \"properties\": {\n        \"dtype\": \"category\",\n        \"num_unique_values\": 12,\n        \"samples\": [\n          \"Japan\",\n          \"United Kingdom\",\n          \"Pakistan\"\n        ],\n        \"semantic_type\": \"\",\n        \"description\": \"\"\n      }\n    },\n    {\n      \"column\": \"Importation_Description\",\n      \"properties\": {\n        \"dtype\": \"category\",\n        \"num_unique_values\": 12,\n        \"samples\": [\n          \"Used in synthetic organic chemistry & pest control\",\n          \"Agriculture sector, soil nutrient enhancement\",\n          \"Used in aluminum smelting & glass manufacturing\"\n        ],\n        \"semantic_type\": \"\",\n        \"description\": \"\"\n      }\n    },\n    {\n      \"column\": \"Compliance_History\",\n      \"properties\": {\n        \"dtype\": \"category\",\n        \"num_unique_values\": 4,\n        \"samples\": [\n          \"Poor\",\n          \"Good\",\n          \"Excellent\"\n        ],\n        \"semantic_type\": \"\",\n        \"description\": \"\"\n      }\n    },\n    {\n      \"column\": \"Past_Violations\",\n      \"properties\": {\n        \"dtype\": \"number\",\n        \"std\": 1,\n        \"min\": 0,\n        \"max\": 5,\n        \"num_unique_values\": 6,\n        \"samples\": [\n          4,\n          1,\n          0\n        ],\n        \"semantic_type\": \"\",\n        \"description\": \"\"\n      }\n    },\n    {\n      \"column\": \"Financial_Stability\",\n      \"properties\": {\n        \"dtype\": \"category\",\n        \"num_unique_values\": 3,\n        \"samples\": [\n          \"High\",\n          \"Medium\",\n          \"Low\"\n        ],\n        \"semantic_type\": \"\",\n        \"description\": \"\"\n      }\n    },\n    {\n      \"column\": \"Risk_Category\",\n      \"properties\": {\n        \"dtype\": \"category\",\n        \"num_unique_values\": 2,\n        \"samples\": [\n          \"Not Risky\",\n          \"Risky\"\n        ],\n        \"semantic_type\": \"\",\n        \"description\": \"\"\n      }\n    }\n  ]\n}"
            }
          },
          "metadata": {},
          "execution_count": 178
        }
      ]
    },
    {
      "cell_type": "markdown",
      "source": [
        "# **Exploratory Data Analysis**"
      ],
      "metadata": {
        "id": "hk58b8PNB2Tx"
      }
    },
    {
      "cell_type": "code",
      "source": [
        "# Displaying Dataset Information\n",
        "data.info()"
      ],
      "metadata": {
        "colab": {
          "base_uri": "https://localhost:8080/"
        },
        "id": "gfdLOGNXB8iB",
        "outputId": "a729bc65-c706-4aee-cf44-c03532f4b9f4"
      },
      "execution_count": 179,
      "outputs": [
        {
          "output_type": "stream",
          "name": "stdout",
          "text": [
            "<class 'pandas.core.frame.DataFrame'>\n",
            "RangeIndex: 100 entries, 0 to 99\n",
            "Data columns (total 11 columns):\n",
            " #   Column                   Non-Null Count  Dtype \n",
            "---  ------                   --------------  ----- \n",
            " 0   Importer_ID              100 non-null    object\n",
            " 1   Import_Frequency         100 non-null    int64 \n",
            " 2   Import_Quantity (kg)     100 non-null    int64 \n",
            " 3   Chemical_Name            100 non-null    object\n",
            " 4   HS Code                  100 non-null    int64 \n",
            " 5   Country_of_Origin        100 non-null    object\n",
            " 6   Importation_Description  100 non-null    object\n",
            " 7   Compliance_History       100 non-null    object\n",
            " 8   Past_Violations          100 non-null    int64 \n",
            " 9   Financial_Stability      100 non-null    object\n",
            " 10  Risk_Category            100 non-null    object\n",
            "dtypes: int64(4), object(7)\n",
            "memory usage: 8.7+ KB\n"
          ]
        }
      ]
    },
    {
      "cell_type": "markdown",
      "source": [
        "### **Identifying Categorical and Numerical Columns**"
      ],
      "metadata": {
        "id": "OBSQKxDtDUe6"
      }
    },
    {
      "cell_type": "code",
      "source": [
        "# Identifying categorical and numerical columns\n",
        "categorical_cols = data.select_dtypes(include=['object']).columns\n",
        "numerical_cols = data.select_dtypes(include=['int64', 'float64']).columns"
      ],
      "metadata": {
        "id": "5_kPx-VwCAK_"
      },
      "execution_count": 180,
      "outputs": []
    },
    {
      "cell_type": "markdown",
      "source": [
        "## **Categorical Features**"
      ],
      "metadata": {
        "id": "QzJ_HvciDbDp"
      }
    },
    {
      "cell_type": "code",
      "source": [
        "# List of categorical features\n",
        "categorical_features = data.select_dtypes(include=['object']).columns\n",
        "\n",
        "# Displaying the categorical features\n",
        "print(\"Categorical Features:\")\n",
        "for feature in categorical_features:\n",
        "    print(f\"- {feature}\")\n",
        "\n",
        "# Display data type of the columns\n",
        "print(\"\\nData Type of Categorical Features:\")\n",
        "print(data[categorical_features].dtypes)"
      ],
      "metadata": {
        "colab": {
          "base_uri": "https://localhost:8080/"
        },
        "id": "G0l31bPLDczN",
        "outputId": "af57fdcc-965b-447c-82ed-f01b0784760d"
      },
      "execution_count": 181,
      "outputs": [
        {
          "output_type": "stream",
          "name": "stdout",
          "text": [
            "Categorical Features:\n",
            "- Importer_ID\n",
            "- Chemical_Name\n",
            "- Country_of_Origin\n",
            "- Importation_Description\n",
            "- Compliance_History\n",
            "- Financial_Stability\n",
            "- Risk_Category\n",
            "\n",
            "Data Type of Categorical Features:\n",
            "Importer_ID                object\n",
            "Chemical_Name              object\n",
            "Country_of_Origin          object\n",
            "Importation_Description    object\n",
            "Compliance_History         object\n",
            "Financial_Stability        object\n",
            "Risk_Category              object\n",
            "dtype: object\n"
          ]
        }
      ]
    },
    {
      "cell_type": "markdown",
      "source": [
        "**Unique Values and Their Counts Relevant to Each Categorical Column**"
      ],
      "metadata": {
        "id": "ForvUH0HDhEo"
      }
    },
    {
      "cell_type": "code",
      "source": [
        "# Displaying the unique values and their counts relevant to each categorical column\n",
        "print(\"Unique values and their count relevant to each categorical column:\\n\")\n",
        "for col in categorical_features:\n",
        "    unique_values = data[col].unique()\n",
        "    value_counts = data[col].value_counts()\n",
        "    print(value_counts)\n",
        "    print(\" \")"
      ],
      "metadata": {
        "colab": {
          "base_uri": "https://localhost:8080/"
        },
        "id": "uAotjFscDip7",
        "outputId": "af2de209-ede5-4bdf-f25e-bae0732fb001"
      },
      "execution_count": 182,
      "outputs": [
        {
          "output_type": "stream",
          "name": "stdout",
          "text": [
            "Unique values and their count relevant to each categorical column:\n",
            "\n",
            "Importer_ID\n",
            "IMP001    1\n",
            "IMP064    1\n",
            "IMP074    1\n",
            "IMP073    1\n",
            "IMP072    1\n",
            "         ..\n",
            "IMP031    1\n",
            "IMP030    1\n",
            "IMP029    1\n",
            "IMP028    1\n",
            "IMP100    1\n",
            "Name: count, Length: 100, dtype: int64\n",
            " \n",
            "Chemical_Name\n",
            "Bromine                                                                           12\n",
            "Chlorine                                                                          11\n",
            "Chlorates and perchlorates; bromates and perbromates; iodates and periodates      11\n",
            "Iodine                                                                             9\n",
            "Mineral or chemical fertilizers, nitrogenous                                       9\n",
            "Fluorides; fluorosilicates, fluoroaluminates, and other complex fluorine salts     8\n",
            "Cyanides and cyanide oxides: Other                                                 8\n",
            "Hydrogen peroxide, whether or not solidified with urea                             8\n",
            "Sulphuric acid; oleum                                                              7\n",
            "Cyanides and cyanide oxides: Of sodium                                             6\n",
            "Halides and halide oxides of non-metals                                            6\n",
            "Nitric acid; sulphonitric acids                                                    5\n",
            "Name: count, dtype: int64\n",
            " \n",
            "Country_of_Origin\n",
            "India             11\n",
            "Japan             10\n",
            "Pakistan           9\n",
            "China              9\n",
            "USA                9\n",
            "France             9\n",
            "Russia             9\n",
            "Canada             9\n",
            "South Korea        8\n",
            "United Kingdom     7\n",
            "Brazil             6\n",
            "Germany            4\n",
            "Name: count, dtype: int64\n",
            " \n",
            "Importation_Description\n",
            "Used in flame retardants & water treatment                  12\n",
            "Industrial water purification & disinfection                11\n",
            "Manufacturing of explosives & oxidizing agents              11\n",
            "Pharmaceutical & medical applications                        9\n",
            "Agriculture sector, soil nutrient enhancement                9\n",
            "Used in aluminum smelting & glass manufacturing              8\n",
            "Used in synthetic organic chemistry & pest control           8\n",
            "Textile bleaching & paper pulp industry                      8\n",
            "Petroleum refining & chemical synthesis                      7\n",
            "Gold mining & electroplating industry                        6\n",
            "Semiconductor manufacturing & etching process                6\n",
            "Used in fertilizer manufacturing & explosives production     5\n",
            "Name: count, dtype: int64\n",
            " \n",
            "Compliance_History\n",
            "Excellent    27\n",
            "Poor         26\n",
            "Good         26\n",
            "Average      21\n",
            "Name: count, dtype: int64\n",
            " \n",
            "Financial_Stability\n",
            "Medium    36\n",
            "High      32\n",
            "Low       32\n",
            "Name: count, dtype: int64\n",
            " \n",
            "Risk_Category\n",
            "Not Risky    53\n",
            "Risky        47\n",
            "Name: count, dtype: int64\n",
            " \n"
          ]
        }
      ]
    },
    {
      "cell_type": "code",
      "source": [
        "# Displaying the categorical columns which contains null values and their counts\n",
        "print(\"Categorical columns with null values and their counts:\")\n",
        "for col in categorical_features:\n",
        "    null_count = data[col].isnull().sum()\n",
        "    if null_count > 0:\n",
        "        print(f\"{col}: {null_count}\")"
      ],
      "metadata": {
        "colab": {
          "base_uri": "https://localhost:8080/"
        },
        "id": "TQrwy-UpDmQP",
        "outputId": "8b2a9741-eea5-4280-f988-e29f50452c64"
      },
      "execution_count": 183,
      "outputs": [
        {
          "output_type": "stream",
          "name": "stdout",
          "text": [
            "Categorical columns with null values and their counts:\n"
          ]
        }
      ]
    },
    {
      "cell_type": "code",
      "source": [
        "# Displaying the categorical columns which contain 'Unknown' values and their relevant counts\n",
        "print(\"Categorical columns with 'Unknown' values and their counts:\")\n",
        "for col in categorical_features:\n",
        "    unknown_count = (data[col] == 'Unknown').sum()\n",
        "    if unknown_count > 0:\n",
        "        print(f\"{col}: {unknown_count}\")"
      ],
      "metadata": {
        "colab": {
          "base_uri": "https://localhost:8080/"
        },
        "id": "ItPj-cvMDos7",
        "outputId": "01fe59c1-93f8-499e-e70c-650c81c6a26a"
      },
      "execution_count": 184,
      "outputs": [
        {
          "output_type": "stream",
          "name": "stdout",
          "text": [
            "Categorical columns with 'Unknown' values and their counts:\n"
          ]
        }
      ]
    },
    {
      "cell_type": "markdown",
      "source": [
        "## **Numerical Features**"
      ],
      "metadata": {
        "id": "MGhTx7RCDra5"
      }
    },
    {
      "cell_type": "code",
      "source": [
        "# Numerical Features\n",
        "numerical_features = data.select_dtypes(include=['int64', 'float64']).columns\n",
        "\n",
        "# Displaying the Numerical Columns\n",
        "print(\"Numerical Features:\")\n",
        "print(numerical_features)"
      ],
      "metadata": {
        "colab": {
          "base_uri": "https://localhost:8080/"
        },
        "id": "upFf-00UDuba",
        "outputId": "cb111702-439d-45ad-fa1a-47faa9acb030"
      },
      "execution_count": 185,
      "outputs": [
        {
          "output_type": "stream",
          "name": "stdout",
          "text": [
            "Numerical Features:\n",
            "Index(['Import_Frequency', 'Import_Quantity (kg)', 'HS Code',\n",
            "       'Past_Violations'],\n",
            "      dtype='object')\n"
          ]
        }
      ]
    },
    {
      "cell_type": "code",
      "source": [
        "# Displaying the unique values and their count in the numerical columns\n",
        "print(\"Unique values and their count in the numerical columns:\\n\")\n",
        "for col in numerical_features:\n",
        "    unique_values = data[col].unique()\n",
        "    value_counts = data[col].value_counts()\n",
        "    print(value_counts)\n",
        "    print(\" \")"
      ],
      "metadata": {
        "colab": {
          "base_uri": "https://localhost:8080/"
        },
        "id": "JEMLGshDEExb",
        "outputId": "628643f2-b4ad-498a-f249-8016a49d6a59"
      },
      "execution_count": 186,
      "outputs": [
        {
          "output_type": "stream",
          "name": "stdout",
          "text": [
            "Unique values and their count in the numerical columns:\n",
            "\n",
            "Import_Frequency\n",
            "63     4\n",
            "66     3\n",
            "59     3\n",
            "37     3\n",
            "100    3\n",
            "26     3\n",
            "9      3\n",
            "25     3\n",
            "99     3\n",
            "78     2\n",
            "19     2\n",
            "58     2\n",
            "36     2\n",
            "21     2\n",
            "23     2\n",
            "32     2\n",
            "52     2\n",
            "67     2\n",
            "51     2\n",
            "73     2\n",
            "49     2\n",
            "82     2\n",
            "57     2\n",
            "91     2\n",
            "60     2\n",
            "33     2\n",
            "46     2\n",
            "7      2\n",
            "47     2\n",
            "95     2\n",
            "74     2\n",
            "62     1\n",
            "76     1\n",
            "80     1\n",
            "96     1\n",
            "22     1\n",
            "17     1\n",
            "15     1\n",
            "50     1\n",
            "77     1\n",
            "84     1\n",
            "40     1\n",
            "61     1\n",
            "70     1\n",
            "54     1\n",
            "55     1\n",
            "11     1\n",
            "12     1\n",
            "41     1\n",
            "5      1\n",
            "89     1\n",
            "85     1\n",
            "87     1\n",
            "81     1\n",
            "42     1\n",
            "83     1\n",
            "72     1\n",
            "90     1\n",
            "68     1\n",
            "Name: count, dtype: int64\n",
            " \n",
            "Import_Quantity (kg)\n",
            "5199     1\n",
            "1557     1\n",
            "10770    1\n",
            "16272    1\n",
            "9028     1\n",
            "        ..\n",
            "1793     1\n",
            "2175     1\n",
            "18176    1\n",
            "5145     1\n",
            "2622     1\n",
            "Name: count, Length: 100, dtype: int64\n",
            " \n",
            "HS Code\n",
            "280130    12\n",
            "280110    11\n",
            "282911    11\n",
            "280120     9\n",
            "310210     9\n",
            "282619     8\n",
            "283719     8\n",
            "284700     8\n",
            "280700     7\n",
            "283711     6\n",
            "282611     6\n",
            "280800     5\n",
            "Name: count, dtype: int64\n",
            " \n",
            "Past_Violations\n",
            "4    22\n",
            "1    19\n",
            "0    18\n",
            "3    17\n",
            "2    14\n",
            "5    10\n",
            "Name: count, dtype: int64\n",
            " \n"
          ]
        }
      ]
    },
    {
      "cell_type": "markdown",
      "source": [
        "**Numerical columns with null values and their relevant counts**"
      ],
      "metadata": {
        "id": "6C5qd2TWEH5h"
      }
    },
    {
      "cell_type": "code",
      "source": [
        "# Displaying the numerical columns with null values and their relevant counts\n",
        "print(\"Numerical columns with null values and their relevant counts:\")\n",
        "for col in numerical_cols:\n",
        "    null_count = data[col].isnull().sum()\n",
        "    if null_count > 0:\n",
        "        print(f\"{col}: {null_count}\")"
      ],
      "metadata": {
        "colab": {
          "base_uri": "https://localhost:8080/"
        },
        "id": "gSVFqt6wEKnd",
        "outputId": "4a7d65e4-7b7f-4826-b2a9-ec07f69c745f"
      },
      "execution_count": 187,
      "outputs": [
        {
          "output_type": "stream",
          "name": "stdout",
          "text": [
            "Numerical columns with null values and their relevant counts:\n"
          ]
        }
      ]
    },
    {
      "cell_type": "code",
      "source": [
        "# Plotting the Correlation HeatMap for the Numerical Features\n",
        "plt.figure(figsize=(10, 8))\n",
        "sns.heatmap(data[numerical_cols].corr(), annot=True, cmap='coolwarm')\n",
        "plt.title('Correlation Heatmap for Numerical Features')\n",
        "plt.show()"
      ],
      "metadata": {
        "colab": {
          "base_uri": "https://localhost:8080/",
          "height": 592
        },
        "id": "d-FStp4LQSur",
        "outputId": "0b7e1d2c-19eb-499d-f7c6-33583d258d15"
      },
      "execution_count": 188,
      "outputs": [
        {
          "output_type": "display_data",
          "data": {
            "text/plain": [
              "<Figure size 1000x800 with 2 Axes>"
            ],
            "image/png": "[encoded data removed]"
          },
          "metadata": {}
        }
      ]
    },
    {
      "cell_type": "markdown",
      "source": [
        "# **Data Preprocessing**"
      ],
      "metadata": {
        "id": "HmPjLsGvEVep"
      }
    },
    {
      "cell_type": "markdown",
      "source": [
        "## **Data Cleaning**"
      ],
      "metadata": {
        "id": "26Dg31MbEbWC"
      }
    },
    {
      "cell_type": "code",
      "source": [
        "# Step 1: Removing whitespaces from the object type columns\n",
        "object_columns = data.select_dtypes(include=['object']).columns\n",
        "data[object_columns] = data[object_columns].apply(lambda x: x.str.strip())"
      ],
      "metadata": {
        "id": "bPHr2Y_lEfAp"
      },
      "execution_count": 189,
      "outputs": []
    },
    {
      "cell_type": "code",
      "source": [
        "# Step 2: Dropping duplicate values\n",
        "data.drop_duplicates(inplace=True)\n",
        "data.reset_index(drop=True, inplace=True)"
      ],
      "metadata": {
        "id": "3k1SpNnoEgST"
      },
      "execution_count": 190,
      "outputs": []
    },
    {
      "cell_type": "code",
      "source": [
        "# Display dataset information\n",
        "print(\"\\nDataset information after removing duplicates:\")\n",
        "data.info()"
      ],
      "metadata": {
        "colab": {
          "base_uri": "https://localhost:8080/"
        },
        "id": "M2LkSD6KEhf2",
        "outputId": "27c8dc15-cc18-4a9a-b74f-903f2f694be9"
      },
      "execution_count": 191,
      "outputs": [
        {
          "output_type": "stream",
          "name": "stdout",
          "text": [
            "\n",
            "Dataset information after removing duplicates:\n",
            "<class 'pandas.core.frame.DataFrame'>\n",
            "RangeIndex: 100 entries, 0 to 99\n",
            "Data columns (total 11 columns):\n",
            " #   Column                   Non-Null Count  Dtype \n",
            "---  ------                   --------------  ----- \n",
            " 0   Importer_ID              100 non-null    object\n",
            " 1   Import_Frequency         100 non-null    int64 \n",
            " 2   Import_Quantity (kg)     100 non-null    int64 \n",
            " 3   Chemical_Name            100 non-null    object\n",
            " 4   HS Code                  100 non-null    int64 \n",
            " 5   Country_of_Origin        100 non-null    object\n",
            " 6   Importation_Description  100 non-null    object\n",
            " 7   Compliance_History       100 non-null    object\n",
            " 8   Past_Violations          100 non-null    int64 \n",
            " 9   Financial_Stability      100 non-null    object\n",
            " 10  Risk_Category            100 non-null    object\n",
            "dtypes: int64(4), object(7)\n",
            "memory usage: 8.7+ KB\n"
          ]
        }
      ]
    },
    {
      "cell_type": "code",
      "source": [
        "# Step 3: Dropping irrelevant columns if necessary\n",
        "data = data.drop(columns=[\"Importer_ID\"])"
      ],
      "metadata": {
        "id": "-QWq_UccEmkb"
      },
      "execution_count": 192,
      "outputs": []
    },
    {
      "cell_type": "markdown",
      "source": [
        "# **Data Encoding**"
      ],
      "metadata": {
        "id": "-p6HzxETE-Cu"
      }
    },
    {
      "cell_type": "code",
      "source": [
        "# Step 4: Handling categorical variables\n",
        "categorical_cols = [\"Chemical_Name\", \"Country_of_Origin\", \"Importation_Description\", \"Compliance_History\", \"Financial_Stability\"]\n",
        "encoder = OneHotEncoder(drop='first', sparse_output=False, handle_unknown='ignore')\n",
        "categorical_data = encoder.fit_transform(data[categorical_cols])\n",
        "\n",
        "# Convert to DataFrame\n",
        "cat_data = pd.DataFrame(categorical_data, columns=encoder.get_feature_names_out(categorical_cols))"
      ],
      "metadata": {
        "id": "NO3ZAReJFAyN"
      },
      "execution_count": 193,
      "outputs": []
    },
    {
      "cell_type": "markdown",
      "source": [
        "# **Handling Outliers in the Numerical Columns**"
      ],
      "metadata": {
        "id": "FrTijUg0JVFO"
      }
    },
    {
      "cell_type": "code",
      "source": [
        "# Step 5: Handling Numerical features\n",
        "numerical_cols = [\"Import_Frequency\", \"HS Code\", \"Past_Violations\", \"Import_Quantity (kg)\"]\n"
      ],
      "metadata": {
        "id": "1L_kKGGiFOxD"
      },
      "execution_count": 194,
      "outputs": []
    },
    {
      "cell_type": "code",
      "source": [
        "# Step 6: Scaling the Numerical Features\n",
        "scaler = StandardScaler()\n",
        "numerical_data = scaler.fit_transform(data[numerical_cols])\n",
        "num_data = pd.DataFrame(numerical_data, columns=numerical_cols)"
      ],
      "metadata": {
        "id": "pBYZImZHJjKH"
      },
      "execution_count": 195,
      "outputs": []
    },
    {
      "cell_type": "code",
      "source": [
        "# Step 7: Target variable\n",
        "label_encoder = LabelEncoder()\n",
        "y = label_encoder.fit_transform(data[\"Risk_Category\"])"
      ],
      "metadata": {
        "id": "B_1Es-MlFVnw"
      },
      "execution_count": 196,
      "outputs": []
    },
    {
      "cell_type": "code",
      "source": [
        "# Combining processed features\n",
        "X = pd.concat([num_data, cat_data], axis=1)"
      ],
      "metadata": {
        "id": "23mKkjzzFfcH"
      },
      "execution_count": 197,
      "outputs": []
    },
    {
      "cell_type": "code",
      "source": [
        "# Step 7: Train-test split\n",
        "import numpy as np\n",
        "\n",
        "# Check if the lengths are equal\n",
        "if len(X) == len(y):\n",
        "    X_train, X_test, y_train, y_test = train_test_split(X, y, test_size=0.2, random_state=42)\n",
        "else:\n",
        "    print(f\"Mismatch in number of samples: X has {len(X)} samples, y has {len(y)} samples.\")\n"
      ],
      "metadata": {
        "id": "IPQSrCUGFp41"
      },
      "execution_count": 198,
      "outputs": []
    },
    {
      "cell_type": "code",
      "source": [
        "# Set Style\n",
        "plt.figure(figsize=(8, 6))\n",
        "sns.countplot(x='Risk_Category', data=data, palette='viridis')\n",
        "plt.title('Target Variable Distribution')\n",
        "plt.xlabel('Risk Category')\n",
        "plt.ylabel('Count')\n",
        "plt.show()"
      ],
      "metadata": {
        "colab": {
          "base_uri": "https://localhost:8080/",
          "height": 531
        },
        "id": "7Tf-KPSkGFio",
        "outputId": "928b7827-c9de-4627-f38b-5aea50e65b95"
      },
      "execution_count": 199,
      "outputs": [
        {
          "output_type": "display_data",
          "data": {
            "text/plain": [
              "<Figure size 800x600 with 1 Axes>"
            ],
            "image/png": "[encoded data removed]"
          },
          "metadata": {}
        }
      ]
    },
    {
      "cell_type": "markdown",
      "source": [
        "# **Balancing the Target Variable**"
      ],
      "metadata": {
        "id": "otX15B9SG2kT"
      }
    },
    {
      "cell_type": "code",
      "source": [
        "# Handling the imbalance dataset\n",
        "\n",
        "# Suppressing the FutureWarnings\n",
        "warnings.filterwarnings(\"ignore\", category=FutureWarning)\n",
        "\n",
        "# Handling imbalanced dataset\n",
        "smote = SMOTE(sampling_strategy='auto', random_state=42)\n",
        "X_resampled, y_resampled = smote.fit_resample(X, y)\n",
        "\n",
        "print(\"Original dataset size:\", X.shape)\n",
        "print(\"Resampled dataset size:\", X_resampled.shape)"
      ],
      "metadata": {
        "colab": {
          "base_uri": "https://localhost:8080/"
        },
        "id": "7urH8NWWG9b5",
        "outputId": "20dde406-3fc7-4a0d-d5cb-58a112173fdf"
      },
      "execution_count": 200,
      "outputs": [
        {
          "output_type": "stream",
          "name": "stdout",
          "text": [
            "Original dataset size: (100, 42)\n",
            "Resampled dataset size: (106, 42)\n"
          ]
        }
      ]
    },
    {
      "cell_type": "code",
      "source": [
        "# Plotting class distribution after SMOTE\n",
        "sns.countplot(x=y_resampled, palette=\"viridis\")\n",
        "plt.title(\"Class Distribution After SMOTE\")\n",
        "plt.xlabel(\"Class\")\n",
        "plt.ylabel(\"Count\")\n",
        "plt.show()"
      ],
      "metadata": {
        "colab": {
          "base_uri": "https://localhost:8080/",
          "height": 472
        },
        "id": "xg3J7R4iG_x-",
        "outputId": "c48ba589-55c4-4dac-b69a-d8775fc60cd9"
      },
      "execution_count": 201,
      "outputs": [
        {
          "output_type": "display_data",
          "data": {
            "text/plain": [
              "<Figure size 640x480 with 1 Axes>"
            ],
            "image/png": "[encoded data removed]"
          },
          "metadata": {}
        }
      ]
    },
    {
      "cell_type": "code",
      "source": [
        "# Displaying the dataset shape after applying the SMOTE\n",
        "print(f\"Shape of X_resampled: {X_resampled.shape}\")\n",
        "print(f\"Shape of y_resampled: {y_resampled.shape}\")"
      ],
      "metadata": {
        "colab": {
          "base_uri": "https://localhost:8080/"
        },
        "id": "T6S7fi4XHB-d",
        "outputId": "6aacc4a2-ba76-49d0-fdae-72baaf61fd37"
      },
      "execution_count": 202,
      "outputs": [
        {
          "output_type": "stream",
          "name": "stdout",
          "text": [
            "Shape of X_resampled: (106, 42)\n",
            "Shape of y_resampled: (106,)\n"
          ]
        }
      ]
    },
    {
      "cell_type": "code",
      "source": [
        "# Displaying the Columns in X\n",
        "print(\"Columns in X Resampled:\")\n",
        "print(X_resampled.columns)"
      ],
      "metadata": {
        "colab": {
          "base_uri": "https://localhost:8080/"
        },
        "id": "TrIUeqHhHEGK",
        "outputId": "6e4df0f6-c402-4244-c6c5-07cdb7e07bd3"
      },
      "execution_count": 203,
      "outputs": [
        {
          "output_type": "stream",
          "name": "stdout",
          "text": [
            "Columns in X Resampled:\n",
            "Index(['Import_Frequency', 'HS Code', 'Past_Violations',\n",
            "       'Import_Quantity (kg)',\n",
            "       'Chemical_Name_Chlorates and perchlorates; bromates and perbromates; iodates and periodates',\n",
            "       'Chemical_Name_Chlorine',\n",
            "       'Chemical_Name_Cyanides and cyanide oxides: Of sodium',\n",
            "       'Chemical_Name_Cyanides and cyanide oxides: Other',\n",
            "       'Chemical_Name_Fluorides; fluorosilicates, fluoroaluminates, and other complex fluorine salts',\n",
            "       'Chemical_Name_Halides and halide oxides of non-metals',\n",
            "       'Chemical_Name_Hydrogen peroxide, whether or not solidified with urea',\n",
            "       'Chemical_Name_Iodine',\n",
            "       'Chemical_Name_Mineral or chemical fertilizers, nitrogenous',\n",
            "       'Chemical_Name_Nitric acid; sulphonitric acids',\n",
            "       'Chemical_Name_Sulphuric acid; oleum', 'Country_of_Origin_Canada',\n",
            "       'Country_of_Origin_China', 'Country_of_Origin_France',\n",
            "       'Country_of_Origin_Germany', 'Country_of_Origin_India',\n",
            "       'Country_of_Origin_Japan', 'Country_of_Origin_Pakistan',\n",
            "       'Country_of_Origin_Russia', 'Country_of_Origin_South Korea',\n",
            "       'Country_of_Origin_USA', 'Country_of_Origin_United Kingdom',\n",
            "       'Importation_Description_Gold mining & electroplating industry',\n",
            "       'Importation_Description_Industrial water purification & disinfection',\n",
            "       'Importation_Description_Manufacturing of explosives & oxidizing agents',\n",
            "       'Importation_Description_Petroleum refining & chemical synthesis',\n",
            "       'Importation_Description_Pharmaceutical & medical applications',\n",
            "       'Importation_Description_Semiconductor manufacturing & etching process',\n",
            "       'Importation_Description_Textile bleaching & paper pulp industry',\n",
            "       'Importation_Description_Used in aluminum smelting & glass manufacturing',\n",
            "       'Importation_Description_Used in fertilizer manufacturing & explosives production',\n",
            "       'Importation_Description_Used in flame retardants & water treatment',\n",
            "       'Importation_Description_Used in synthetic organic chemistry & pest control',\n",
            "       'Compliance_History_Excellent', 'Compliance_History_Good',\n",
            "       'Compliance_History_Poor', 'Financial_Stability_Low',\n",
            "       'Financial_Stability_Medium'],\n",
            "      dtype='object')\n"
          ]
        }
      ]
    },
    {
      "cell_type": "code",
      "source": [
        "# Standardizing the features\n",
        "scaler = StandardScaler()\n",
        "X_resampled_scaled = scaler.fit_transform(X_resampled)"
      ],
      "metadata": {
        "id": "zSxNXC92HFb8"
      },
      "execution_count": 204,
      "outputs": []
    },
    {
      "cell_type": "code",
      "source": [
        "# Splitting data\n",
        "X_train, X_test, y_train, y_test = train_test_split(X_resampled_scaled, y_resampled, test_size=0.2, stratify = y_resampled, random_state=42)"
      ],
      "metadata": {
        "id": "WBgARWuaHG0E"
      },
      "execution_count": 205,
      "outputs": []
    },
    {
      "cell_type": "code",
      "source": [
        "# Displaying the Dataset Information\n",
        "print(\"Dataset Information:\")\n",
        "print(data.info())"
      ],
      "metadata": {
        "colab": {
          "base_uri": "https://localhost:8080/"
        },
        "id": "cK0msbbwHIqh",
        "outputId": "bf12e3a5-903e-4a5e-ea53-06eb1e3ac6e9"
      },
      "execution_count": 206,
      "outputs": [
        {
          "output_type": "stream",
          "name": "stdout",
          "text": [
            "Dataset Information:\n",
            "<class 'pandas.core.frame.DataFrame'>\n",
            "RangeIndex: 100 entries, 0 to 99\n",
            "Data columns (total 10 columns):\n",
            " #   Column                   Non-Null Count  Dtype \n",
            "---  ------                   --------------  ----- \n",
            " 0   Import_Frequency         100 non-null    int64 \n",
            " 1   Import_Quantity (kg)     100 non-null    int64 \n",
            " 2   Chemical_Name            100 non-null    object\n",
            " 3   HS Code                  100 non-null    int64 \n",
            " 4   Country_of_Origin        100 non-null    object\n",
            " 5   Importation_Description  100 non-null    object\n",
            " 6   Compliance_History       100 non-null    object\n",
            " 7   Past_Violations          100 non-null    int64 \n",
            " 8   Financial_Stability      100 non-null    object\n",
            " 9   Risk_Category            100 non-null    object\n",
            "dtypes: int64(4), object(6)\n",
            "memory usage: 7.9+ KB\n",
            "None\n"
          ]
        }
      ]
    },
    {
      "cell_type": "markdown",
      "source": [
        "# **Model Training**"
      ],
      "metadata": {
        "id": "7lMwaJKoFxi9"
      }
    },
    {
      "cell_type": "markdown",
      "source": [
        "# **Model Based on Gradient Boost**"
      ],
      "metadata": {
        "id": "ftZzPRaQF1Rl"
      }
    },
    {
      "cell_type": "code",
      "source": [
        "# Initialize and train Gradient Boosting Classifier\n",
        "model = GradientBoostingClassifier(n_estimators=500, learning_rate=0.05, max_depth=4, subsample=0.8, random_state=42)\n",
        "model.fit(X_train, y_train)"
      ],
      "metadata": {
        "colab": {
          "base_uri": "https://localhost:8080/",
          "height": 97
        },
        "id": "f82a6XeKF8nf",
        "outputId": "40101e8f-9fdc-490a-b8c7-8512779daba3"
      },
      "execution_count": 207,
      "outputs": [
        {
          "output_type": "execute_result",
          "data": {
            "text/plain": [
              "GradientBoostingClassifier(learning_rate=0.05, max_depth=4, n_estimators=500,\n",
              "                           random_state=42, subsample=0.8)"
            ],
            "text/html": [
              "<style>#sk-container-id-2 {\n",
              "  /* Definition of color scheme common for light and dark mode */\n",
              "  --sklearn-color-text: #000;\n",
              "  --sklearn-color-text-muted: #666;\n",
              "  --sklearn-color-line: gray;\n",
              "  /* Definition of color scheme for unfitted estimators */\n",
              "  --sklearn-color-unfitted-level-0: #fff5e6;\n",
              "  --sklearn-color-unfitted-level-1: #f6e4d2;\n",
              "  --sklearn-color-unfitted-level-2: #ffe0b3;\n",
              "  --sklearn-color-unfitted-level-3: chocolate;\n",
              "  /* Definition of color scheme for fitted estimators */\n",
              "  --sklearn-color-fitted-level-0: #f0f8ff;\n",
              "  --sklearn-color-fitted-level-1: #d4ebff;\n",
              "  --sklearn-color-fitted-level-2: #b3dbfd;\n",
              "  --sklearn-color-fitted-level-3: cornflowerblue;\n",
              "\n",
              "  /* Specific color for light theme */\n",
              "  --sklearn-color-text-on-default-background: var(--sg-text-color, var(--theme-code-foreground, var(--jp-content-font-color1, black)));\n",
              "  --sklearn-color-background: var(--sg-background-color, var(--theme-background, var(--jp-layout-color0, white)));\n",
              "  --sklearn-color-border-box: var(--sg-text-color, var(--theme-code-foreground, var(--jp-content-font-color1, black)));\n",
              "  --sklearn-color-icon: #696969;\n",
              "\n",
              "  @media (prefers-color-scheme: dark) {\n",
              "    /* Redefinition of color scheme for dark theme */\n",
              "    --sklearn-color-text-on-default-background: var(--sg-text-color, var(--theme-code-foreground, var(--jp-content-font-color1, white)));\n",
              "    --sklearn-color-background: var(--sg-background-color, var(--theme-background, var(--jp-layout-color0, #111)));\n",
              "    --sklearn-color-border-box: var(--sg-text-color, var(--theme-code-foreground, var(--jp-content-font-color1, white)));\n",
              "    --sklearn-color-icon: #878787;\n",
              "  }\n",
              "}\n",
              "\n",
              "#sk-container-id-2 {\n",
              "  color: var(--sklearn-color-text);\n",
              "}\n",
              "\n",
              "#sk-container-id-2 pre {\n",
              "  padding: 0;\n",
              "}\n",
              "\n",
              "#sk-container-id-2 input.sk-hidden--visually {\n",
              "  border: 0;\n",
              "  clip: rect(1px 1px 1px 1px);\n",
              "  clip: rect(1px, 1px, 1px, 1px);\n",
              "  height: 1px;\n",
              "  margin: -1px;\n",
              "  overflow: hidden;\n",
              "  padding: 0;\n",
              "  position: absolute;\n",
              "  width: 1px;\n",
              "}\n",
              "\n",
              "#sk-container-id-2 div.sk-dashed-wrapped {\n",
              "  border: 1px dashed var(--sklearn-color-line);\n",
              "  margin: 0 0.4em 0.5em 0.4em;\n",
              "  box-sizing: border-box;\n",
              "  padding-bottom: 0.4em;\n",
              "  background-color: var(--sklearn-color-background);\n",
              "}\n",
              "\n",
              "#sk-container-id-2 div.sk-container {\n",
              "  /* jupyter's `normalize.less` sets `[hidden] { display: none; }`\n",
              "     but bootstrap.min.css set `[hidden] { display: none !important; }`\n",
              "     so we also need the `!important` here to be able to override the\n",
              "     default hidden behavior on the sphinx rendered scikit-learn.org.\n",
              "     See: https://github.com/scikit-learn/scikit-learn/issues/21755 */\n",
              "  display: inline-block !important;\n",
              "  position: relative;\n",
              "}\n",
              "\n",
              "#sk-container-id-2 div.sk-text-repr-fallback {\n",
              "  display: none;\n",
              "}\n",
              "\n",
              "div.sk-parallel-item,\n",
              "div.sk-serial,\n",
              "div.sk-item {\n",
              "  /* draw centered vertical line to link estimators */\n",
              "  background-image: linear-gradient(var(--sklearn-color-text-on-default-background), var(--sklearn-color-text-on-default-background));\n",
              "  background-size: 2px 100%;\n",
              "  background-repeat: no-repeat;\n",
              "  background-position: center center;\n",
              "}\n",
              "\n",
              "/* Parallel-specific style estimator block */\n",
              "\n",
              "#sk-container-id-2 div.sk-parallel-item::after {\n",
              "  content: \"\";\n",
              "  width: 100%;\n",
              "  border-bottom: 2px solid var(--sklearn-color-text-on-default-background);\n",
              "  flex-grow: 1;\n",
              "}\n",
              "\n",
              "#sk-container-id-2 div.sk-parallel {\n",
              "  display: flex;\n",
              "  align-items: stretch;\n",
              "  justify-content: center;\n",
              "  background-color: var(--sklearn-color-background);\n",
              "  position: relative;\n",
              "}\n",
              "\n",
              "#sk-container-id-2 div.sk-parallel-item {\n",
              "  display: flex;\n",
              "  flex-direction: column;\n",
              "}\n",
              "\n",
              "#sk-container-id-2 div.sk-parallel-item:first-child::after {\n",
              "  align-self: flex-end;\n",
              "  width: 50%;\n",
              "}\n",
              "\n",
              "#sk-container-id-2 div.sk-parallel-item:last-child::after {\n",
              "  align-self: flex-start;\n",
              "  width: 50%;\n",
              "}\n",
              "\n",
              "#sk-container-id-2 div.sk-parallel-item:only-child::after {\n",
              "  width: 0;\n",
              "}\n",
              "\n",
              "/* Serial-specific style estimator block */\n",
              "\n",
              "#sk-container-id-2 div.sk-serial {\n",
              "  display: flex;\n",
              "  flex-direction: column;\n",
              "  align-items: center;\n",
              "  background-color: var(--sklearn-color-background);\n",
              "  padding-right: 1em;\n",
              "  padding-left: 1em;\n",
              "}\n",
              "\n",
              "\n",
              "/* Toggleable style: style used for estimator/Pipeline/ColumnTransformer box that is\n",
              "clickable and can be expanded/collapsed.\n",
              "- Pipeline and ColumnTransformer use this feature and define the default style\n",
              "- Estimators will overwrite some part of the style using the `sk-estimator` class\n",
              "*/\n",
              "\n",
              "/* Pipeline and ColumnTransformer style (default) */\n",
              "\n",
              "#sk-container-id-2 div.sk-toggleable {\n",
              "  /* Default theme specific background. It is overwritten whether we have a\n",
              "  specific estimator or a Pipeline/ColumnTransformer */\n",
              "  background-color: var(--sklearn-color-background);\n",
              "}\n",
              "\n",
              "/* Toggleable label */\n",
              "#sk-container-id-2 label.sk-toggleable__label {\n",
              "  cursor: pointer;\n",
              "  display: flex;\n",
              "  width: 100%;\n",
              "  margin-bottom: 0;\n",
              "  padding: 0.5em;\n",
              "  box-sizing: border-box;\n",
              "  text-align: center;\n",
              "  align-items: start;\n",
              "  justify-content: space-between;\n",
              "  gap: 0.5em;\n",
              "}\n",
              "\n",
              "#sk-container-id-2 label.sk-toggleable__label .caption {\n",
              "  font-size: 0.6rem;\n",
              "  font-weight: lighter;\n",
              "  color: var(--sklearn-color-text-muted);\n",
              "}\n",
              "\n",
              "#sk-container-id-2 label.sk-toggleable__label-arrow:before {\n",
              "  /* Arrow on the left of the label */\n",
              "  content: \"▸\";\n",
              "  float: left;\n",
              "  margin-right: 0.25em;\n",
              "  color: var(--sklearn-color-icon);\n",
              "}\n",
              "\n",
              "#sk-container-id-2 label.sk-toggleable__label-arrow:hover:before {\n",
              "  color: var(--sklearn-color-text);\n",
              "}\n",
              "\n",
              "/* Toggleable content - dropdown */\n",
              "\n",
              "#sk-container-id-2 div.sk-toggleable__content {\n",
              "  max-height: 0;\n",
              "  max-width: 0;\n",
              "  overflow: hidden;\n",
              "  text-align: left;\n",
              "  /* unfitted */\n",
              "  background-color: var(--sklearn-color-unfitted-level-0);\n",
              "}\n",
              "\n",
              "#sk-container-id-2 div.sk-toggleable__content.fitted {\n",
              "  /* fitted */\n",
              "  background-color: var(--sklearn-color-fitted-level-0);\n",
              "}\n",
              "\n",
              "#sk-container-id-2 div.sk-toggleable__content pre {\n",
              "  margin: 0.2em;\n",
              "  border-radius: 0.25em;\n",
              "  color: var(--sklearn-color-text);\n",
              "  /* unfitted */\n",
              "  background-color: var(--sklearn-color-unfitted-level-0);\n",
              "}\n",
              "\n",
              "#sk-container-id-2 div.sk-toggleable__content.fitted pre {\n",
              "  /* unfitted */\n",
              "  background-color: var(--sklearn-color-fitted-level-0);\n",
              "}\n",
              "\n",
              "#sk-container-id-2 input.sk-toggleable__control:checked~div.sk-toggleable__content {\n",
              "  /* Expand drop-down */\n",
              "  max-height: 200px;\n",
              "  max-width: 100%;\n",
              "  overflow: auto;\n",
              "}\n",
              "\n",
              "#sk-container-id-2 input.sk-toggleable__control:checked~label.sk-toggleable__label-arrow:before {\n",
              "  content: \"▾\";\n",
              "}\n",
              "\n",
              "/* Pipeline/ColumnTransformer-specific style */\n",
              "\n",
              "#sk-container-id-2 div.sk-label input.sk-toggleable__control:checked~label.sk-toggleable__label {\n",
              "  color: var(--sklearn-color-text);\n",
              "  background-color: var(--sklearn-color-unfitted-level-2);\n",
              "}\n",
              "\n",
              "#sk-container-id-2 div.sk-label.fitted input.sk-toggleable__control:checked~label.sk-toggleable__label {\n",
              "  background-color: var(--sklearn-color-fitted-level-2);\n",
              "}\n",
              "\n",
              "/* Estimator-specific style */\n",
              "\n",
              "/* Colorize estimator box */\n",
              "#sk-container-id-2 div.sk-estimator input.sk-toggleable__control:checked~label.sk-toggleable__label {\n",
              "  /* unfitted */\n",
              "  background-color: var(--sklearn-color-unfitted-level-2);\n",
              "}\n",
              "\n",
              "#sk-container-id-2 div.sk-estimator.fitted input.sk-toggleable__control:checked~label.sk-toggleable__label {\n",
              "  /* fitted */\n",
              "  background-color: var(--sklearn-color-fitted-level-2);\n",
              "}\n",
              "\n",
              "#sk-container-id-2 div.sk-label label.sk-toggleable__label,\n",
              "#sk-container-id-2 div.sk-label label {\n",
              "  /* The background is the default theme color */\n",
              "  color: var(--sklearn-color-text-on-default-background);\n",
              "}\n",
              "\n",
              "/* On hover, darken the color of the background */\n",
              "#sk-container-id-2 div.sk-label:hover label.sk-toggleable__label {\n",
              "  color: var(--sklearn-color-text);\n",
              "  background-color: var(--sklearn-color-unfitted-level-2);\n",
              "}\n",
              "\n",
              "/* Label box, darken color on hover, fitted */\n",
              "#sk-container-id-2 div.sk-label.fitted:hover label.sk-toggleable__label.fitted {\n",
              "  color: var(--sklearn-color-text);\n",
              "  background-color: var(--sklearn-color-fitted-level-2);\n",
              "}\n",
              "\n",
              "/* Estimator label */\n",
              "\n",
              "#sk-container-id-2 div.sk-label label {\n",
              "  font-family: monospace;\n",
              "  font-weight: bold;\n",
              "  display: inline-block;\n",
              "  line-height: 1.2em;\n",
              "}\n",
              "\n",
              "#sk-container-id-2 div.sk-label-container {\n",
              "  text-align: center;\n",
              "}\n",
              "\n",
              "/* Estimator-specific */\n",
              "#sk-container-id-2 div.sk-estimator {\n",
              "  font-family: monospace;\n",
              "  border: 1px dotted var(--sklearn-color-border-box);\n",
              "  border-radius: 0.25em;\n",
              "  box-sizing: border-box;\n",
              "  margin-bottom: 0.5em;\n",
              "  /* unfitted */\n",
              "  background-color: var(--sklearn-color-unfitted-level-0);\n",
              "}\n",
              "\n",
              "#sk-container-id-2 div.sk-estimator.fitted {\n",
              "  /* fitted */\n",
              "  background-color: var(--sklearn-color-fitted-level-0);\n",
              "}\n",
              "\n",
              "/* on hover */\n",
              "#sk-container-id-2 div.sk-estimator:hover {\n",
              "  /* unfitted */\n",
              "  background-color: var(--sklearn-color-unfitted-level-2);\n",
              "}\n",
              "\n",
              "#sk-container-id-2 div.sk-estimator.fitted:hover {\n",
              "  /* fitted */\n",
              "  background-color: var(--sklearn-color-fitted-level-2);\n",
              "}\n",
              "\n",
              "/* Specification for estimator info (e.g. \"i\" and \"?\") */\n",
              "\n",
              "/* Common style for \"i\" and \"?\" */\n",
              "\n",
              ".sk-estimator-doc-link,\n",
              "a:link.sk-estimator-doc-link,\n",
              "a:visited.sk-estimator-doc-link {\n",
              "  float: right;\n",
              "  font-size: smaller;\n",
              "  line-height: 1em;\n",
              "  font-family: monospace;\n",
              "  background-color: var(--sklearn-color-background);\n",
              "  border-radius: 1em;\n",
              "  height: 1em;\n",
              "  width: 1em;\n",
              "  text-decoration: none !important;\n",
              "  margin-left: 0.5em;\n",
              "  text-align: center;\n",
              "  /* unfitted */\n",
              "  border: var(--sklearn-color-unfitted-level-1) 1pt solid;\n",
              "  color: var(--sklearn-color-unfitted-level-1);\n",
              "}\n",
              "\n",
              ".sk-estimator-doc-link.fitted,\n",
              "a:link.sk-estimator-doc-link.fitted,\n",
              "a:visited.sk-estimator-doc-link.fitted {\n",
              "  /* fitted */\n",
              "  border: var(--sklearn-color-fitted-level-1) 1pt solid;\n",
              "  color: var(--sklearn-color-fitted-level-1);\n",
              "}\n",
              "\n",
              "/* On hover */\n",
              "div.sk-estimator:hover .sk-estimator-doc-link:hover,\n",
              ".sk-estimator-doc-link:hover,\n",
              "div.sk-label-container:hover .sk-estimator-doc-link:hover,\n",
              ".sk-estimator-doc-link:hover {\n",
              "  /* unfitted */\n",
              "  background-color: var(--sklearn-color-unfitted-level-3);\n",
              "  color: var(--sklearn-color-background);\n",
              "  text-decoration: none;\n",
              "}\n",
              "\n",
              "div.sk-estimator.fitted:hover .sk-estimator-doc-link.fitted:hover,\n",
              ".sk-estimator-doc-link.fitted:hover,\n",
              "div.sk-label-container:hover .sk-estimator-doc-link.fitted:hover,\n",
              ".sk-estimator-doc-link.fitted:hover {\n",
              "  /* fitted */\n",
              "  background-color: var(--sklearn-color-fitted-level-3);\n",
              "  color: var(--sklearn-color-background);\n",
              "  text-decoration: none;\n",
              "}\n",
              "\n",
              "/* Span, style for the box shown on hovering the info icon */\n",
              ".sk-estimator-doc-link span {\n",
              "  display: none;\n",
              "  z-index: 9999;\n",
              "  position: relative;\n",
              "  font-weight: normal;\n",
              "  right: .2ex;\n",
              "  padding: .5ex;\n",
              "  margin: .5ex;\n",
              "  width: min-content;\n",
              "  min-width: 20ex;\n",
              "  max-width: 50ex;\n",
              "  color: var(--sklearn-color-text);\n",
              "  box-shadow: 2pt 2pt 4pt #999;\n",
              "  /* unfitted */\n",
              "  background: var(--sklearn-color-unfitted-level-0);\n",
              "  border: .5pt solid var(--sklearn-color-unfitted-level-3);\n",
              "}\n",
              "\n",
              ".sk-estimator-doc-link.fitted span {\n",
              "  /* fitted */\n",
              "  background: var(--sklearn-color-fitted-level-0);\n",
              "  border: var(--sklearn-color-fitted-level-3);\n",
              "}\n",
              "\n",
              ".sk-estimator-doc-link:hover span {\n",
              "  display: block;\n",
              "}\n",
              "\n",
              "/* \"?\"-specific style due to the `<a>` HTML tag */\n",
              "\n",
              "#sk-container-id-2 a.estimator_doc_link {\n",
              "  float: right;\n",
              "  font-size: 1rem;\n",
              "  line-height: 1em;\n",
              "  font-family: monospace;\n",
              "  background-color: var(--sklearn-color-background);\n",
              "  border-radius: 1rem;\n",
              "  height: 1rem;\n",
              "  width: 1rem;\n",
              "  text-decoration: none;\n",
              "  /* unfitted */\n",
              "  color: var(--sklearn-color-unfitted-level-1);\n",
              "  border: var(--sklearn-color-unfitted-level-1) 1pt solid;\n",
              "}\n",
              "\n",
              "#sk-container-id-2 a.estimator_doc_link.fitted {\n",
              "  /* fitted */\n",
              "  border: var(--sklearn-color-fitted-level-1) 1pt solid;\n",
              "  color: var(--sklearn-color-fitted-level-1);\n",
              "}\n",
              "\n",
              "/* On hover */\n",
              "#sk-container-id-2 a.estimator_doc_link:hover {\n",
              "  /* unfitted */\n",
              "  background-color: var(--sklearn-color-unfitted-level-3);\n",
              "  color: var(--sklearn-color-background);\n",
              "  text-decoration: none;\n",
              "}\n",
              "\n",
              "#sk-container-id-2 a.estimator_doc_link.fitted:hover {\n",
              "  /* fitted */\n",
              "  background-color: var(--sklearn-color-fitted-level-3);\n",
              "}\n",
              "</style><div id=\"sk-container-id-2\" class=\"sk-top-container\"><div class=\"sk-text-repr-fallback\"><pre>GradientBoostingClassifier(learning_rate=0.05, max_depth=4, n_estimators=500,\n",
              "                           random_state=42, subsample=0.8)</pre><b>In a Jupyter environment, please rerun this cell to show the HTML representation or trust the notebook. <br />On GitHub, the HTML representation is unable to render, please try loading this page with nbviewer.org.</b></div><div class=\"sk-container\" hidden><div class=\"sk-item\"><div class=\"sk-estimator fitted sk-toggleable\"><input class=\"sk-toggleable__control sk-hidden--visually\" id=\"sk-estimator-id-2\" type=\"checkbox\" checked><label for=\"sk-estimator-id-2\" class=\"sk-toggleable__label fitted sk-toggleable__label-arrow\"><div><div>GradientBoostingClassifier</div></div><div><a class=\"sk-estimator-doc-link fitted\" rel=\"noreferrer\" target=\"_blank\" href=\"https://scikit-learn.org/1.6/modules/generated/sklearn.ensemble.GradientBoostingClassifier.html\">?<span>Documentation for GradientBoostingClassifier</span></a><span class=\"sk-estimator-doc-link fitted\">i<span>Fitted</span></span></div></label><div class=\"sk-toggleable__content fitted\"><pre>GradientBoostingClassifier(learning_rate=0.05, max_depth=4, n_estimators=500,\n",
              "                           random_state=42, subsample=0.8)</pre></div> </div></div></div></div>"
            ]
          },
          "metadata": {},
          "execution_count": 207
        }
      ]
    },
    {
      "cell_type": "code",
      "source": [
        "# Predictions\n",
        "y_pred = model.predict(X_test)"
      ],
      "metadata": {
        "id": "2jYmLag3HdHL"
      },
      "execution_count": 208,
      "outputs": []
    },
    {
      "cell_type": "code",
      "source": [
        "# Calculate Accuracy\n",
        "accuracy = accuracy_score(y_test, y_pred)\n",
        "print(f\"Optimized Model Accuracy: {accuracy:.2f}\")"
      ],
      "metadata": {
        "colab": {
          "base_uri": "https://localhost:8080/"
        },
        "id": "bQN-LlKvJJck",
        "outputId": "95fbec56-f580-40cb-9f65-bb17683679f3"
      },
      "execution_count": 209,
      "outputs": [
        {
          "output_type": "stream",
          "name": "stdout",
          "text": [
            "Optimized Model Accuracy: 0.50\n"
          ]
        }
      ]
    },
    {
      "cell_type": "code",
      "source": [
        "# Generate the Classification Report\n",
        "print(\"Classification Report:\\n\", classification_report(y_test, y_pred))"
      ],
      "metadata": {
        "colab": {
          "base_uri": "https://localhost:8080/"
        },
        "id": "YT_7RtamJMjV",
        "outputId": "84b55f34-10ad-44ad-fdda-6b1cca3fa92e"
      },
      "execution_count": 210,
      "outputs": [
        {
          "output_type": "stream",
          "name": "stdout",
          "text": [
            "Classification Report:\n",
            "               precision    recall  f1-score   support\n",
            "\n",
            "           0       0.50      0.45      0.48        11\n",
            "           1       0.50      0.55      0.52        11\n",
            "\n",
            "    accuracy                           0.50        22\n",
            "   macro avg       0.50      0.50      0.50        22\n",
            "weighted avg       0.50      0.50      0.50        22\n",
            "\n"
          ]
        }
      ]
    },
    {
      "cell_type": "code",
      "source": [
        "import pandas as pd\n",
        "\n",
        "# Convert X_train to a DataFrame if it's a NumPy array\n",
        "X_train_df = pd.DataFrame(X_train)\n",
        "\n",
        "# Then, you can plot using the DataFrame's columns\n",
        "plt.barh(X_train_df.columns[sorted_idx], feature_importance[sorted_idx], color='skyblue')\n",
        "plt.xlabel(\"Feature Importance\")\n",
        "plt.ylabel(\"Features\")\n",
        "plt.title(\"Feature Importance Plot\")\n",
        "plt.gca().invert_yaxis()\n",
        "plt.show()"
      ],
      "metadata": {
        "colab": {
          "base_uri": "https://localhost:8080/",
          "height": 472
        },
        "id": "2eBobLy7Pz1Z",
        "outputId": "91a7bd72-6eab-4547-b27b-6e8df1fa07eb"
      },
      "execution_count": 212,
      "outputs": [
        {
          "output_type": "display_data",
          "data": {
            "text/plain": [
              "<Figure size 640x480 with 1 Axes>"
            ],
            "image/png": "[encoded data removed]"
          },
          "metadata": {}
        }
      ]
    }
  ]
}