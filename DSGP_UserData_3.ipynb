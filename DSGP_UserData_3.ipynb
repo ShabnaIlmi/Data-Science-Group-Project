{
  "nbformat": 4,
  "nbformat_minor": 0,
  "metadata": {
    "colab": {
      "provenance": [],
      "mount_file_id": "1kkOactXcg_1ggeR75AnCCcGe7LdgF2s6",
      "authorship_tag": "ABX9TyPs/iV7I7OYa6/gDaaZDAVI",
      "include_colab_link": true
    },
    "kernelspec": {
      "name": "python3",
      "display_name": "Python 3"
    },
    "language_info": {
      "name": "python"
    }
  },
  "cells": [
    {
      "cell_type": "markdown",
      "metadata": {
        "id": "view-in-github",
        "colab_type": "text"
      },
      "source": [
        "<a href=\"https://colab.research.google.com/github/ShabnaIlmi/Data-Science-Group-Project/blob/main/DSGP_UserData_3.ipynb\" target=\"_parent\"><img src=\"https://colab.research.google.com/assets/colab-badge.svg\" alt=\"Open In Colab\"/></a>"
      ]
    },
    {
      "cell_type": "code",
      "source": [
        "# import libraries\n",
        "import numpy as np\n",
        "import pandas as pd\n",
        "import matplotlib.pyplot as plt\n",
        "from scipy import stats\n",
        "import seaborn as sns\n",
        "from matplotlib.ticker import LogLocator, FuncFormatter\n",
        "from sklearn.preprocessing import LabelEncoder\n",
        "from sklearn.preprocessing import StandardScaler\n",
        "from sklearn.model_selection import train_test_split\n",
        "from imblearn.over_sampling import SMOTE\n",
        "from sklearn.impute import SimpleImputer\n",
        "from datetime import datetime, timedelta\n",
        "import os\n",
        "import warnings\n",
        "warnings.filterwarnings(\"ignore\", category=FutureWarning)\n"
      ],
      "metadata": {
        "id": "jipAmzBwpedQ"
      },
      "execution_count": null,
      "outputs": []
    },
    {
      "cell_type": "code",
      "source": [
        "# Mounting the google drive\n",
        "from google.colab import drive\n",
        "drive.mount('/content/drive')"
      ],
      "metadata": {
        "colab": {
          "base_uri": "https://localhost:8080/"
        },
        "id": "kGAGj7kHzMIw",
        "outputId": "26711772-93b5-4fff-f0f3-a2d50646461b"
      },
      "execution_count": null,
      "outputs": [
        {
          "output_type": "stream",
          "name": "stdout",
          "text": [
            "Drive already mounted at /content/drive; to attempt to forcibly remount, call drive.mount(\"/content/drive\", force_remount=True).\n"
          ]
        }
      ]
    },
    {
      "cell_type": "code",
      "source": [
        "# Loading the dataset with the proper delimiter (semicolon)\n",
        "data = pd.read_excel('/content/drive/MyDrive/DSGP_User/Liquid chlorine  Stock report (1).xlsx', sheet_name='Sheet2')\n",
        "\n",
        "# Displaying the first few rows of the data\n",
        "data.head()\n"
      ],
      "metadata": {
        "colab": {
          "base_uri": "https://localhost:8080/",
          "height": 206
        },
        "id": "IoU-KxSc4ueo",
        "outputId": "8d1723d2-c113-460b-b373-26574365a5c0"
      },
      "execution_count": null,
      "outputs": [
        {
          "output_type": "execute_result",
          "data": {
            "text/plain": [
              "  Warehouse       Product code      Invoice No Transaction Date UOM  \\\n",
              "0     WH-75  LC-IG-ISGEC-INDIA  SI-N/07/24/001       2024-07-26  KG   \n",
              "1     WH-75  LC-IG-ISGEC-INDIA  SI-N/08/24/002       2024-08-02  KG   \n",
              "2     WH-75  LC-IG-ISGEC-INDIA  SI-N/08/24/003       2024-08-06  KG   \n",
              "3     WH-75  LC-IG-ISGEC-INDIA  SI-N/08/24/004       2024-08-07  KG   \n",
              "4     WH-75  LC-IG-ISGEC-INDIA  SI-N/08/24/005       2024-08-12  KG   \n",
              "\n",
              "   Received Qty  Issued Qty           Customer name  \n",
              "0           NaN          900   Hayleys Advantis Ltd  \n",
              "1           NaN         1800      Ceylon Oxygen Ltd  \n",
              "2           NaN         1800  Union Chemicals Lanka  \n",
              "3           NaN          900        Laugfs Holdings  \n",
              "4           NaN          900           Ansell Lanka  "
            ],
            "text/html": [
              "\n",
              "  <div id=\"df-2543cdc9-79f8-4db3-9b84-4656cf377d87\" class=\"colab-df-container\">\n",
              "    <div>\n",
              "<style scoped>\n",
              "    .dataframe tbody tr th:only-of-type {\n",
              "        vertical-align: middle;\n",
              "    }\n",
              "\n",
              "    .dataframe tbody tr th {\n",
              "        vertical-align: top;\n",
              "    }\n",
              "\n",
              "    .dataframe thead th {\n",
              "        text-align: right;\n",
              "    }\n",
              "</style>\n",
              "<table border=\"1\" class=\"dataframe\">\n",
              "  <thead>\n",
              "    <tr style=\"text-align: right;\">\n",
              "      <th></th>\n",
              "      <th>Warehouse</th>\n",
              "      <th>Product code</th>\n",
              "      <th>Invoice No</th>\n",
              "      <th>Transaction Date</th>\n",
              "      <th>UOM</th>\n",
              "      <th>Received Qty</th>\n",
              "      <th>Issued Qty</th>\n",
              "      <th>Customer name</th>\n",
              "    </tr>\n",
              "  </thead>\n",
              "  <tbody>\n",
              "    <tr>\n",
              "      <th>0</th>\n",
              "      <td>WH-75</td>\n",
              "      <td>LC-IG-ISGEC-INDIA</td>\n",
              "      <td>SI-N/07/24/001</td>\n",
              "      <td>2024-07-26</td>\n",
              "      <td>KG</td>\n",
              "      <td>NaN</td>\n",
              "      <td>900</td>\n",
              "      <td>Hayleys Advantis Ltd</td>\n",
              "    </tr>\n",
              "    <tr>\n",
              "      <th>1</th>\n",
              "      <td>WH-75</td>\n",
              "      <td>LC-IG-ISGEC-INDIA</td>\n",
              "      <td>SI-N/08/24/002</td>\n",
              "      <td>2024-08-02</td>\n",
              "      <td>KG</td>\n",
              "      <td>NaN</td>\n",
              "      <td>1800</td>\n",
              "      <td>Ceylon Oxygen Ltd</td>\n",
              "    </tr>\n",
              "    <tr>\n",
              "      <th>2</th>\n",
              "      <td>WH-75</td>\n",
              "      <td>LC-IG-ISGEC-INDIA</td>\n",
              "      <td>SI-N/08/24/003</td>\n",
              "      <td>2024-08-06</td>\n",
              "      <td>KG</td>\n",
              "      <td>NaN</td>\n",
              "      <td>1800</td>\n",
              "      <td>Union Chemicals Lanka</td>\n",
              "    </tr>\n",
              "    <tr>\n",
              "      <th>3</th>\n",
              "      <td>WH-75</td>\n",
              "      <td>LC-IG-ISGEC-INDIA</td>\n",
              "      <td>SI-N/08/24/004</td>\n",
              "      <td>2024-08-07</td>\n",
              "      <td>KG</td>\n",
              "      <td>NaN</td>\n",
              "      <td>900</td>\n",
              "      <td>Laugfs Holdings</td>\n",
              "    </tr>\n",
              "    <tr>\n",
              "      <th>4</th>\n",
              "      <td>WH-75</td>\n",
              "      <td>LC-IG-ISGEC-INDIA</td>\n",
              "      <td>SI-N/08/24/005</td>\n",
              "      <td>2024-08-12</td>\n",
              "      <td>KG</td>\n",
              "      <td>NaN</td>\n",
              "      <td>900</td>\n",
              "      <td>Ansell Lanka</td>\n",
              "    </tr>\n",
              "  </tbody>\n",
              "</table>\n",
              "</div>\n",
              "    <div class=\"colab-df-buttons\">\n",
              "\n",
              "  <div class=\"colab-df-container\">\n",
              "    <button class=\"colab-df-convert\" onclick=\"convertToInteractive('df-2543cdc9-79f8-4db3-9b84-4656cf377d87')\"\n",
              "            title=\"Convert this dataframe to an interactive table.\"\n",
              "            style=\"display:none;\">\n",
              "\n",
              "  <svg xmlns=\"http://www.w3.org/2000/svg\" height=\"24px\" viewBox=\"0 -960 960 960\">\n",
              "    <path d=\"M120-120v-720h720v720H120Zm60-500h600v-160H180v160Zm220 220h160v-160H400v160Zm0 220h160v-160H400v160ZM180-400h160v-160H180v160Zm440 0h160v-160H620v160ZM180-180h160v-160H180v160Zm440 0h160v-160H620v160Z\"/>\n",
              "  </svg>\n",
              "    </button>\n",
              "\n",
              "  <style>\n",
              "    .colab-df-container {\n",
              "      display:flex;\n",
              "      gap: 12px;\n",
              "    }\n",
              "\n",
              "    .colab-df-convert {\n",
              "      background-color: #E8F0FE;\n",
              "      border: none;\n",
              "      border-radius: 50%;\n",
              "      cursor: pointer;\n",
              "      display: none;\n",
              "      fill: #1967D2;\n",
              "      height: 32px;\n",
              "      padding: 0 0 0 0;\n",
              "      width: 32px;\n",
              "    }\n",
              "\n",
              "    .colab-df-convert:hover {\n",
              "      background-color: #E2EBFA;\n",
              "      box-shadow: 0px 1px 2px rgba(60, 64, 67, 0.3), 0px 1px 3px 1px rgba(60, 64, 67, 0.15);\n",
              "      fill: #174EA6;\n",
              "    }\n",
              "\n",
              "    .colab-df-buttons div {\n",
              "      margin-bottom: 4px;\n",
              "    }\n",
              "\n",
              "    [theme=dark] .colab-df-convert {\n",
              "      background-color: #3B4455;\n",
              "      fill: #D2E3FC;\n",
              "    }\n",
              "\n",
              "    [theme=dark] .colab-df-convert:hover {\n",
              "      background-color: #434B5C;\n",
              "      box-shadow: 0px 1px 3px 1px rgba(0, 0, 0, 0.15);\n",
              "      filter: drop-shadow(0px 1px 2px rgba(0, 0, 0, 0.3));\n",
              "      fill: #FFFFFF;\n",
              "    }\n",
              "  </style>\n",
              "\n",
              "    <script>\n",
              "      const buttonEl =\n",
              "        document.querySelector('#df-2543cdc9-79f8-4db3-9b84-4656cf377d87 button.colab-df-convert');\n",
              "      buttonEl.style.display =\n",
              "        google.colab.kernel.accessAllowed ? 'block' : 'none';\n",
              "\n",
              "      async function convertToInteractive(key) {\n",
              "        const element = document.querySelector('#df-2543cdc9-79f8-4db3-9b84-4656cf377d87');\n",
              "        const dataTable =\n",
              "          await google.colab.kernel.invokeFunction('convertToInteractive',\n",
              "                                                    [key], {});\n",
              "        if (!dataTable) return;\n",
              "\n",
              "        const docLinkHtml = 'Like what you see? Visit the ' +\n",
              "          '<a target=\"_blank\" href=https://colab.research.google.com/notebooks/data_table.ipynb>data table notebook</a>'\n",
              "          + ' to learn more about interactive tables.';\n",
              "        element.innerHTML = '';\n",
              "        dataTable['output_type'] = 'display_data';\n",
              "        await google.colab.output.renderOutput(dataTable, element);\n",
              "        const docLink = document.createElement('div');\n",
              "        docLink.innerHTML = docLinkHtml;\n",
              "        element.appendChild(docLink);\n",
              "      }\n",
              "    </script>\n",
              "  </div>\n",
              "\n",
              "\n",
              "<div id=\"df-848e9885-0bee-43f4-9483-1acb9a1434c4\">\n",
              "  <button class=\"colab-df-quickchart\" onclick=\"quickchart('df-848e9885-0bee-43f4-9483-1acb9a1434c4')\"\n",
              "            title=\"Suggest charts\"\n",
              "            style=\"display:none;\">\n",
              "\n",
              "<svg xmlns=\"http://www.w3.org/2000/svg\" height=\"24px\"viewBox=\"0 0 24 24\"\n",
              "     width=\"24px\">\n",
              "    <g>\n",
              "        <path d=\"M19 3H5c-1.1 0-2 .9-2 2v14c0 1.1.9 2 2 2h14c1.1 0 2-.9 2-2V5c0-1.1-.9-2-2-2zM9 17H7v-7h2v7zm4 0h-2V7h2v10zm4 0h-2v-4h2v4z\"/>\n",
              "    </g>\n",
              "</svg>\n",
              "  </button>\n",
              "\n",
              "<style>\n",
              "  .colab-df-quickchart {\n",
              "      --bg-color: #E8F0FE;\n",
              "      --fill-color: #1967D2;\n",
              "      --hover-bg-color: #E2EBFA;\n",
              "      --hover-fill-color: #174EA6;\n",
              "      --disabled-fill-color: #AAA;\n",
              "      --disabled-bg-color: #DDD;\n",
              "  }\n",
              "\n",
              "  [theme=dark] .colab-df-quickchart {\n",
              "      --bg-color: #3B4455;\n",
              "      --fill-color: #D2E3FC;\n",
              "      --hover-bg-color: #434B5C;\n",
              "      --hover-fill-color: #FFFFFF;\n",
              "      --disabled-bg-color: #3B4455;\n",
              "      --disabled-fill-color: #666;\n",
              "  }\n",
              "\n",
              "  .colab-df-quickchart {\n",
              "    background-color: var(--bg-color);\n",
              "    border: none;\n",
              "    border-radius: 50%;\n",
              "    cursor: pointer;\n",
              "    display: none;\n",
              "    fill: var(--fill-color);\n",
              "    height: 32px;\n",
              "    padding: 0;\n",
              "    width: 32px;\n",
              "  }\n",
              "\n",
              "  .colab-df-quickchart:hover {\n",
              "    background-color: var(--hover-bg-color);\n",
              "    box-shadow: 0 1px 2px rgba(60, 64, 67, 0.3), 0 1px 3px 1px rgba(60, 64, 67, 0.15);\n",
              "    fill: var(--button-hover-fill-color);\n",
              "  }\n",
              "\n",
              "  .colab-df-quickchart-complete:disabled,\n",
              "  .colab-df-quickchart-complete:disabled:hover {\n",
              "    background-color: var(--disabled-bg-color);\n",
              "    fill: var(--disabled-fill-color);\n",
              "    box-shadow: none;\n",
              "  }\n",
              "\n",
              "  .colab-df-spinner {\n",
              "    border: 2px solid var(--fill-color);\n",
              "    border-color: transparent;\n",
              "    border-bottom-color: var(--fill-color);\n",
              "    animation:\n",
              "      spin 1s steps(1) infinite;\n",
              "  }\n",
              "\n",
              "  @keyframes spin {\n",
              "    0% {\n",
              "      border-color: transparent;\n",
              "      border-bottom-color: var(--fill-color);\n",
              "      border-left-color: var(--fill-color);\n",
              "    }\n",
              "    20% {\n",
              "      border-color: transparent;\n",
              "      border-left-color: var(--fill-color);\n",
              "      border-top-color: var(--fill-color);\n",
              "    }\n",
              "    30% {\n",
              "      border-color: transparent;\n",
              "      border-left-color: var(--fill-color);\n",
              "      border-top-color: var(--fill-color);\n",
              "      border-right-color: var(--fill-color);\n",
              "    }\n",
              "    40% {\n",
              "      border-color: transparent;\n",
              "      border-right-color: var(--fill-color);\n",
              "      border-top-color: var(--fill-color);\n",
              "    }\n",
              "    60% {\n",
              "      border-color: transparent;\n",
              "      border-right-color: var(--fill-color);\n",
              "    }\n",
              "    80% {\n",
              "      border-color: transparent;\n",
              "      border-right-color: var(--fill-color);\n",
              "      border-bottom-color: var(--fill-color);\n",
              "    }\n",
              "    90% {\n",
              "      border-color: transparent;\n",
              "      border-bottom-color: var(--fill-color);\n",
              "    }\n",
              "  }\n",
              "</style>\n",
              "\n",
              "  <script>\n",
              "    async function quickchart(key) {\n",
              "      const quickchartButtonEl =\n",
              "        document.querySelector('#' + key + ' button');\n",
              "      quickchartButtonEl.disabled = true;  // To prevent multiple clicks.\n",
              "      quickchartButtonEl.classList.add('colab-df-spinner');\n",
              "      try {\n",
              "        const charts = await google.colab.kernel.invokeFunction(\n",
              "            'suggestCharts', [key], {});\n",
              "      } catch (error) {\n",
              "        console.error('Error during call to suggestCharts:', error);\n",
              "      }\n",
              "      quickchartButtonEl.classList.remove('colab-df-spinner');\n",
              "      quickchartButtonEl.classList.add('colab-df-quickchart-complete');\n",
              "    }\n",
              "    (() => {\n",
              "      let quickchartButtonEl =\n",
              "        document.querySelector('#df-848e9885-0bee-43f4-9483-1acb9a1434c4 button');\n",
              "      quickchartButtonEl.style.display =\n",
              "        google.colab.kernel.accessAllowed ? 'block' : 'none';\n",
              "    })();\n",
              "  </script>\n",
              "</div>\n",
              "\n",
              "    </div>\n",
              "  </div>\n"
            ],
            "application/vnd.google.colaboratory.intrinsic+json": {
              "type": "dataframe",
              "variable_name": "data",
              "summary": "{\n  \"name\": \"data\",\n  \"rows\": 33,\n  \"fields\": [\n    {\n      \"column\": \"Warehouse\",\n      \"properties\": {\n        \"dtype\": \"category\",\n        \"num_unique_values\": 1,\n        \"samples\": [\n          \"WH-75\"\n        ],\n        \"semantic_type\": \"\",\n        \"description\": \"\"\n      }\n    },\n    {\n      \"column\": \"Product code\",\n      \"properties\": {\n        \"dtype\": \"category\",\n        \"num_unique_values\": 2,\n        \"samples\": [\n          \"LC-IG-PCIPL-INDIA\"\n        ],\n        \"semantic_type\": \"\",\n        \"description\": \"\"\n      }\n    },\n    {\n      \"column\": \"Invoice No\",\n      \"properties\": {\n        \"dtype\": \"string\",\n        \"num_unique_values\": 33,\n        \"samples\": [\n          \"SI-N/08/24/032\"\n        ],\n        \"semantic_type\": \"\",\n        \"description\": \"\"\n      }\n    },\n    {\n      \"column\": \"Transaction Date\",\n      \"properties\": {\n        \"dtype\": \"date\",\n        \"min\": \"2024-07-26 00:00:00\",\n        \"max\": \"2024-10-08 00:00:00\",\n        \"num_unique_values\": 21,\n        \"samples\": [\n          \"2024-07-26 00:00:00\"\n        ],\n        \"semantic_type\": \"\",\n        \"description\": \"\"\n      }\n    },\n    {\n      \"column\": \"UOM\",\n      \"properties\": {\n        \"dtype\": \"category\",\n        \"num_unique_values\": 1,\n        \"samples\": [\n          \"KG\"\n        ],\n        \"semantic_type\": \"\",\n        \"description\": \"\"\n      }\n    },\n    {\n      \"column\": \"Received Qty\",\n      \"properties\": {\n        \"dtype\": \"number\",\n        \"std\": null,\n        \"min\": null,\n        \"max\": null,\n        \"num_unique_values\": 0,\n        \"samples\": [],\n        \"semantic_type\": \"\",\n        \"description\": \"\"\n      }\n    },\n    {\n      \"column\": \"Issued Qty \",\n      \"properties\": {\n        \"dtype\": \"number\",\n        \"std\": 1271,\n        \"min\": 900,\n        \"max\": 8100,\n        \"num_unique_values\": 3,\n        \"samples\": [],\n        \"semantic_type\": \"\",\n        \"description\": \"\"\n      }\n    },\n    {\n      \"column\": \"Customer name\",\n      \"properties\": {\n        \"dtype\": \"string\",\n        \"num_unique_values\": 21,\n        \"samples\": [],\n        \"semantic_type\": \"\",\n        \"description\": \"\"\n      }\n    }\n  ]\n}"
            }
          },
          "metadata": {},
          "execution_count": 92
        }
      ]
    },
    {
      "cell_type": "code",
      "source": [
        "# Displaying information\n",
        "print(\"Displaying data information\")\n",
        "data.info()"
      ],
      "metadata": {
        "colab": {
          "base_uri": "https://localhost:8080/"
        },
        "id": "mtbaOtZb4xo-",
        "outputId": "4a330497-82e2-4f94-b757-d1f4f9e9e4a3"
      },
      "execution_count": null,
      "outputs": [
        {
          "output_type": "stream",
          "name": "stdout",
          "text": [
            "Displaying data information\n",
            "<class 'pandas.core.frame.DataFrame'>\n",
            "RangeIndex: 33 entries, 0 to 32\n",
            "Data columns (total 8 columns):\n",
            " #   Column            Non-Null Count  Dtype         \n",
            "---  ------            --------------  -----         \n",
            " 0   Warehouse         33 non-null     object        \n",
            " 1   Product code      33 non-null     object        \n",
            " 2   Invoice No        33 non-null     object        \n",
            " 3   Transaction Date  33 non-null     datetime64[ns]\n",
            " 4   UOM               33 non-null     object        \n",
            " 5   Received Qty      0 non-null      float64       \n",
            " 6   Issued Qty        33 non-null     int64         \n",
            " 7   Customer name     33 non-null     object        \n",
            "dtypes: datetime64[ns](1), float64(1), int64(1), object(5)\n",
            "memory usage: 2.2+ KB\n"
          ]
        }
      ]
    },
    {
      "cell_type": "code",
      "source": [
        "# Identifying categorical and numerical columns\n",
        "categorical_cols = data.select_dtypes(include=['object']).columns\n",
        "numerical_cols = data.select_dtypes(include=['int64', 'float64']).columns\n",
        "\n",
        "# Displaying the categorical features\n",
        "print(\"Categorical Features:\")\n",
        "print(categorical_cols)\n"
      ],
      "metadata": {
        "colab": {
          "base_uri": "https://localhost:8080/"
        },
        "id": "oZNE8ueL5Bqn",
        "outputId": "1ab78f39-cfcc-4770-aa86-c2b4ccf4239d"
      },
      "execution_count": null,
      "outputs": [
        {
          "output_type": "stream",
          "name": "stdout",
          "text": [
            "Categorical Features:\n",
            "Index(['Warehouse', 'Product code', 'Invoice No', 'UOM', 'Customer name'], dtype='object')\n"
          ]
        }
      ]
    },
    {
      "cell_type": "code",
      "source": [
        "# Displaying the unique values and their counts relevant to each categorical column\n",
        "for col in categorical_cols:\n",
        "    print(f\"\\nColumn: {col}\")\n",
        "    print(data[col].value_counts(), \"\\n\")"
      ],
      "metadata": {
        "colab": {
          "base_uri": "https://localhost:8080/"
        },
        "id": "PfpNFLX95Tu3",
        "outputId": "77c5acde-2b29-44b6-aa50-d618f08ffcb1"
      },
      "execution_count": null,
      "outputs": [
        {
          "output_type": "stream",
          "name": "stdout",
          "text": [
            "\n",
            "Column: Warehouse\n",
            "Warehouse\n",
            "WH-75    33\n",
            "Name: count, dtype: int64 \n",
            "\n",
            "\n",
            "Column: Product code\n",
            "Product code\n",
            "LC-IG-ISGEC-INDIA    21\n",
            "LC-IG-PCIPL-INDIA    12\n",
            "Name: count, dtype: int64 \n",
            "\n",
            "\n",
            "Column: Invoice No\n",
            "Invoice No\n",
            "SI-N/07/24/001    1\n",
            "SI-N/09/24/018    1\n",
            "SI-N/08/24/032    1\n",
            "SI-N/08/24/031    1\n",
            "SI-N/08/24/030    1\n",
            "SI-N/08/24/029    1\n",
            "SI-N/08/24/028    1\n",
            "SI-N/08/24/027    1\n",
            "SI-N/08/24/026    1\n",
            "SI-N/08/24/025    1\n",
            "SI-N/08/24/024    1\n",
            "SI-N/08/24/023    1\n",
            "SI-N/08/24/022    1\n",
            "SI-N/10/24/021    1\n",
            "SI-N/09/24/020    1\n",
            "SI-N/09/24/019    1\n",
            "SI-N/09/24/017    1\n",
            "SI-N/08/24/002    1\n",
            "SI-N/08/24/016    1\n",
            "SI-N/08/24/015    1\n",
            "SI-N/08/24/014    1\n",
            "SI-N/08/24/013    1\n",
            "SI-N/08/24/012    1\n",
            "SI-N/08/24/011    1\n",
            "SI-N/08/24/010    1\n",
            "SI-N/08/24/009    1\n",
            "SI-N/08/24/008    1\n",
            "SI-N/08/24/007    1\n",
            "SI-N/08/24/006    1\n",
            "SI-N/08/24/005    1\n",
            "SI-N/08/24/004    1\n",
            "SI-N/08/24/003    1\n",
            "SI-N/08/24/033    1\n",
            "Name: count, dtype: int64 \n",
            "\n",
            "\n",
            "Column: UOM\n",
            "UOM\n",
            "KG    33\n",
            "Name: count, dtype: int64 \n",
            "\n",
            "\n",
            "Column: Customer name\n",
            "Customer name\n",
            "Ansell Lanka                 3\n",
            "Piramal Glass Ceylon         3\n",
            "Hayleys Advantis Ltd         2\n",
            "AquaPur Lanka                2\n",
            "CleanFlow Lanka              2\n",
            "Ceylon Cold Stores           2\n",
            "HydroPure Systems            2\n",
            "Dipped Products PLC          2\n",
            "Laugfs Holdings              2\n",
            "Lanka Chlorine Ltd           2\n",
            "EcoClean Solutions           1\n",
            "Crystal Waters Pvt Ltd       1\n",
            "Ceylon Oxygen Ltd            1\n",
            "Brandix Essentials           1\n",
            "FreshAgro Solutions          1\n",
            "Tokyo Cement Company         1\n",
            "Union Chemicals Lanka        1\n",
            "Sanitech Chemicals           1\n",
            "ChlorinePlus Pvt Ltd         1\n",
            "WaterCare Solutions          1\n",
            "Chemicals Corporation Ltd    1\n",
            "Name: count, dtype: int64 \n",
            "\n"
          ]
        }
      ]
    },
    {
      "cell_type": "code",
      "source": [
        "# Displaying the numerical features\n",
        "print(\"Numerical Features:\")\n",
        "print(numerical_cols)"
      ],
      "metadata": {
        "colab": {
          "base_uri": "https://localhost:8080/"
        },
        "id": "B0zVKFHq5b66",
        "outputId": "2efe1bbd-05f2-4093-aa5b-a113f3f8c61c"
      },
      "execution_count": null,
      "outputs": [
        {
          "output_type": "stream",
          "name": "stdout",
          "text": [
            "Numerical Features:\n",
            "Index(['Received Qty', 'Issued Qty '], dtype='object')\n"
          ]
        }
      ]
    },
    {
      "cell_type": "code",
      "source": [
        "# Unique values and their counts relevant to each numerical columns\n",
        "for col in numerical_cols:\n",
        "    print(f\"\\nColumn: {col}\")\n",
        "    print(data[col].value_counts(), \"\\n\")"
      ],
      "metadata": {
        "colab": {
          "base_uri": "https://localhost:8080/"
        },
        "id": "Oui4jZ5v5kln",
        "outputId": "a3de9168-d9c1-42c6-b60e-232456d4f7f4"
      },
      "execution_count": null,
      "outputs": [
        {
          "output_type": "stream",
          "name": "stdout",
          "text": [
            "\n",
            "Column: Received Qty\n",
            "Series([], Name: count, dtype: int64) \n",
            "\n",
            "\n",
            "Column: Issued Qty \n",
            "Issued Qty \n",
            "900     27\n",
            "1800     5\n",
            "8100     1\n",
            "Name: count, dtype: int64 \n",
            "\n"
          ]
        }
      ]
    },
    {
      "cell_type": "code",
      "source": [
        "# Strip any leading or trailing spaces from column names\n",
        "data.columns = data.columns.str.strip()\n",
        "\n",
        "# Convert 'Transaction Date' to datetime if not already done\n",
        "data['Transaction Date'] = pd.to_datetime(data['Transaction Date'], errors='coerce')\n",
        "\n",
        "# Define thresholds\n",
        "high_usage_limit = 1800\n",
        "unusual_transaction_limit = 5\n",
        "\n",
        "# Define the current date (e.g., January 2025) and the 3-month cutoff\n",
        "current_date = datetime(2024, 10, 20)\n",
        "three_months_ago = current_date - timedelta(days=90)\n",
        "\n",
        "# Filter data for the last 3 months\n",
        "recent_data = data[data['Transaction Date'] >= three_months_ago]\n",
        "\n",
        "# Group by customer and calculate total issued quantity and transaction count for the recent data\n",
        "# For transaction_count, count the number of rows per customer\n",
        "recent_customer_summary = recent_data.groupby('Customer name').agg(\n",
        "    total_issued=('Issued Qty', 'sum'),\n",
        "    transaction_count=('Customer name', 'count')  # Count occurrences of Customer name\n",
        ").reset_index()\n",
        "\n",
        "# Define risk level based on thresholds\n",
        "def determine_risk(row):\n",
        "    if row['total_issued'] > high_usage_limit or row['transaction_count'] > unusual_transaction_limit:\n",
        "        return 'High Risk'  # High Risk\n",
        "    elif row['total_issued'] > high_usage_limit * 0.75 or row['transaction_count'] > unusual_transaction_limit * 0.75:\n",
        "        return 'Medium Risk'  # Medium Risk\n",
        "    else:\n",
        "        return 'Low Risk'  # Low Risk\n",
        "\n",
        "# Apply the risk determination function to the recent customer summary\n",
        "recent_customer_summary['Risk Level'] = recent_customer_summary.apply(determine_risk, axis=1)\n",
        "\n",
        "# Drop existing 'Risk Level' column from the original data if it exists\n",
        "if 'Risk Level' in data.columns:\n",
        "    data.drop(columns=['Risk Level'], inplace=True)\n",
        "\n",
        "# Merge back the risk levels to the original dataset (add \"Low Risk\" for customers with no recent activity)\n",
        "data = data.merge(\n",
        "    recent_customer_summary[['Customer name', 'Risk Level']],\n",
        "    on='Customer name',\n",
        "    how='left'\n",
        ")\n",
        "\n",
        "# Display the updated DataFrame with the new target variable\n",
        "print(data[['Customer name', 'Issued Qty', 'Transaction Date', 'Risk Level']].head())"
      ],
      "metadata": {
        "colab": {
          "base_uri": "https://localhost:8080/"
        },
        "id": "ICvu36SSkhW9",
        "outputId": "44088293-13e6-4abc-9c06-13dd15fbefb6"
      },
      "execution_count": null,
      "outputs": [
        {
          "output_type": "stream",
          "name": "stdout",
          "text": [
            "           Customer name  Issued Qty Transaction Date   Risk Level\n",
            "0   Hayleys Advantis Ltd         900       2024-07-26  Medium Risk\n",
            "1      Ceylon Oxygen Ltd        1800       2024-08-02  Medium Risk\n",
            "2  Union Chemicals Lanka        1800       2024-08-06  Medium Risk\n",
            "3        Laugfs Holdings         900       2024-08-07  Medium Risk\n",
            "4           Ansell Lanka         900       2024-08-12    High Risk\n"
          ]
        }
      ]
    },
    {
      "cell_type": "code",
      "source": [
        "# Visualizing the distribution of the target variable 'Risk Level'\n",
        "plt.figure(figsize=(10, 6))\n",
        "sns.countplot(data=data, x='Risk Level', palette='viridis')\n",
        "plt.title('Distribution of Customer Risk Levels')\n",
        "plt.xlabel('Risk Level')\n",
        "plt.ylabel('Count')\n",
        "plt.xticks(rotation=45)\n",
        "plt.show()"
      ],
      "metadata": {
        "colab": {
          "base_uri": "https://localhost:8080/",
          "height": 623
        },
        "id": "uJlvJ0ekQ8Dw",
        "outputId": "92b04624-3edb-4a7c-949a-7b2b594e9374"
      },
      "execution_count": null,
      "outputs": [
        {
          "output_type": "display_data",
          "data": {
            "text/plain": [
              "<Figure size 1000x600 with 1 Axes>"
            ],
            "image/png": "[encoded data removed]"
          },
          "metadata": {}
        }
      ]
    },
    {
      "cell_type": "code",
      "source": [
        "# Visualizing the correlation heatmap for the numerical columns\n",
        "plt.figure(figsize=(10, 8))\n",
        "\n",
        " # Update numerical_cols to reflect stripped column names\n",
        "numerical_cols = data.select_dtypes(include=['int64', 'float64']).columns\n",
        "\n",
        "# The Correlation Heatmap\n",
        "sns.heatmap(\n",
        "    data[numerical_cols].corr(),\n",
        "    annot=True,\n",
        "    cmap='coolwarm',\n",
        "    cbar_kws={'label': 'Correlation Coefficient'},\n",
        "    linewidths=1,\n",
        "    linecolor='black'\n",
        ")\n",
        "\n",
        "# Adding title and labels with formatting\n",
        "plt.title('Correlation Heatmap', fontsize=16, fontweight='bold', color='darkblue')\n",
        "plt.xlabel('Features', fontsize=12, fontweight='bold', color='darkred')\n",
        "plt.ylabel('Features', fontsize=12, fontweight='bold', color='darkred')\n",
        "\n",
        "# Customizing tick labels for better readability\n",
        "plt.xticks(fontsize=10, rotation=45, color='darkgreen')\n",
        "plt.yticks(fontsize=10, rotation=0, color='darkgreen')\n",
        "\n",
        "# Display the heatmap\n",
        "plt.show()"
      ],
      "metadata": {
        "colab": {
          "base_uri": "https://localhost:8080/",
          "height": 785
        },
        "id": "jAFSv8joTla_",
        "outputId": "a7f04c3b-fe1b-4c98-de4c-56c5df9ba25d"
      },
      "execution_count": null,
      "outputs": [
        {
          "output_type": "display_data",
          "data": {
            "text/plain": [
              "<Figure size 1000x800 with 2 Axes>"
            ],
            "image/png": "[encoded data removed]"
          },
          "metadata": {}
        }
      ]
    },
    {
      "cell_type": "code",
      "source": [
        "# Defining a list to store the categorical variables\n",
        "categorical_columns = [ 'Customer name']\n",
        "\n",
        "# Set up the matplotlib figure\n",
        "plt.figure(figsize=(15, 10))\n",
        "\n",
        "# Loop through each categorical column and create a bar plot\n",
        "for i, column in enumerate(categorical_columns):\n",
        "    plt.subplot(len(categorical_columns), 1, i + 1)  # Create a subplot for each column\n",
        "    sns.countplot(data=data, x=column, palette='viridis')\n",
        "    plt.title(f'Distribution of {column}')\n",
        "    plt.xlabel(column)\n",
        "    plt.ylabel('Count')\n",
        "    plt.xticks(rotation=45)  # Rotate x labels for better readability\n",
        "\n",
        "plt.tight_layout()  # Adjust layout to prevent overlap\n",
        "plt.show()\n"
      ],
      "metadata": {
        "colab": {
          "base_uri": "https://localhost:8080/",
          "height": 959
        },
        "id": "0ePBmXnXWRZv",
        "outputId": "f22ff312-15cf-4f67-dd36-527b13f5938e"
      },
      "execution_count": null,
      "outputs": [
        {
          "output_type": "display_data",
          "data": {
            "text/plain": [
              "<Figure size 1500x1000 with 1 Axes>"
            ],
            "image/png": "[encoded data removed]"
          },
          "metadata": {}
        }
      ]
    },
    {
      "source": [
        "# Defining a list to store the numerical variables\n",
        "numerical_columns = [ 'Issued Qty'] # Remove trailing spaces\n",
        "\n",
        "# Set up the matplotlib figure\n",
        "plt.figure(figsize=(15, 10))\n",
        "\n",
        "# Loop through each categorical column and create a bar plot\n",
        "for i, column in enumerate(numerical_columns):\n",
        "    plt.subplot(len(numerical_columns), 1, i + 1)  # Create a subplot for each column\n",
        "    sns.countplot(data=data, x=column, palette='viridis')\n",
        "    plt.title(f'Distribution of {column}')\n",
        "    plt.xlabel(column)\n",
        "    plt.ylabel('Count')\n",
        "    plt.xticks(rotation=45)  # Rotate x labels for better readability\n",
        "\n",
        "plt.tight_layout()  # Adjust layout to prevent overlap\n",
        "plt.show()"
      ],
      "cell_type": "code",
      "metadata": {
        "colab": {
          "base_uri": "https://localhost:8080/",
          "height": 956
        },
        "id": "ChlS0gWptMft",
        "outputId": "e078e55c-c5ac-40ae-9060-7d5e812937e3"
      },
      "execution_count": null,
      "outputs": [
        {
          "output_type": "display_data",
          "data": {
            "text/plain": [
              "<Figure size 1500x1000 with 1 Axes>"
            ],
            "image/png": "[encoded data removed]"
          },
          "metadata": {}
        }
      ]
    },
    {
      "cell_type": "code",
      "source": [
        "# Strip any leading or trailing spaces from column names\n",
        "data.columns = data.columns.str.strip()\n",
        "\n",
        "# Select numerical columns for outlier detection\n",
        "numerical_columns = data.select_dtypes(include=['float64', 'int64']).columns\n",
        "\n",
        "# Function to detect outliers using the IQR method\n",
        "def detect_outliers_iqr(df, column):\n",
        "    Q1 = df[column].quantile(0.25)\n",
        "    Q3 = df[column].quantile(0.75)\n",
        "    IQR = Q3 - Q1\n",
        "    lower_bound = Q1 - 1.5 * IQR\n",
        "    upper_bound = Q3 + 1.5 * IQR\n",
        "    return df[(df[column] < lower_bound) | (df[column] > upper_bound)]\n",
        "\n",
        "# Check for outliers in each numerical column\n",
        "outlier_summary = {}\n",
        "for col in numerical_columns:\n",
        "    outliers = detect_outliers_iqr(data, col)\n",
        "    outlier_summary[col] = len(outliers)\n",
        "\n",
        "# Display the number of outliers for each numerical column\n",
        "outlier_summary_df = pd.DataFrame(outlier_summary.items(), columns=['Column', 'Number of Outliers'])\n",
        "print(outlier_summary_df)"
      ],
      "metadata": {
        "colab": {
          "base_uri": "https://localhost:8080/"
        },
        "id": "tXTxlJHSuDKH",
        "outputId": "5aa85aed-d185-41f2-a209-47a889fc7730"
      },
      "execution_count": null,
      "outputs": [
        {
          "output_type": "stream",
          "name": "stdout",
          "text": [
            "         Column  Number of Outliers\n",
            "0  Received Qty                   0\n",
            "1    Issued Qty                   6\n"
          ]
        }
      ]
    },
    {
      "cell_type": "markdown",
      "source": [
        "#**Data Preprocessing**\n",
        "\n",
        "---\n",
        "\n"
      ],
      "metadata": {
        "id": "yA16ZqUpwKeK"
      }
    },
    {
      "cell_type": "code",
      "source": [
        "# Step 1: Removing whitespaces from the object type columns\n",
        "object_columns = data.select_dtypes(include=['object']).columns\n",
        "data[object_columns] = data[object_columns].apply(lambda x: x.str.strip())\n",
        "\n",
        "# Step 2: Identifying and displaying duplicate values\n",
        "print(f\"Initial dataset shape: {data.shape}\")\n",
        "\n",
        "# Identify duplicates\n",
        "duplicates = data[data.duplicated(keep=False)]  # Keep all duplicates for display\n",
        "print(f\"Number of duplicate rows found: {duplicates.shape[0]}\")\n",
        "\n",
        "# Remove duplicate values\n",
        "data = data.drop_duplicates()\n",
        "print(f\"Shape after removing duplicates: {data.shape}\")"
      ],
      "metadata": {
        "colab": {
          "base_uri": "https://localhost:8080/"
        },
        "id": "6vQkHuliu6so",
        "outputId": "bc120860-58e2-4019-854e-0cfa9d3c77d7"
      },
      "execution_count": null,
      "outputs": [
        {
          "output_type": "stream",
          "name": "stdout",
          "text": [
            "Initial dataset shape: (33, 9)\n",
            "Number of duplicate rows found: 0\n",
            "Shape after removing duplicates: (33, 9)\n"
          ]
        }
      ]
    },
    {
      "cell_type": "code",
      "source": [
        "# Step 3: Handling missing values in the Categorical Columns\n",
        "\n",
        "# Checking for missing values in the Categorical Columns\n",
        "for column in categorical_cols:\n",
        "    print(f\"Missing values for column {column}: {data[column].isnull().sum()}\")"
      ],
      "metadata": {
        "colab": {
          "base_uri": "https://localhost:8080/"
        },
        "id": "H1bTxzFry7c7",
        "outputId": "edfdaccb-9d09-4808-f353-ead496598040"
      },
      "execution_count": null,
      "outputs": [
        {
          "output_type": "stream",
          "name": "stdout",
          "text": [
            "Missing values for column Warehouse: 0\n",
            "Missing values for column Product code: 0\n",
            "Missing values for column Invoice No: 0\n",
            "Missing values for column UOM: 0\n",
            "Missing values for column Customer name: 0\n"
          ]
        }
      ]
    },
    {
      "cell_type": "code",
      "source": [
        "# Step 4: Handling missing values in the Numerical Columns\n",
        "\n",
        "# Checking for missing values in the Numerical Columns\n",
        "for column in numerical_cols:\n",
        "    print(f\"Missing values for column {column}: {data[column].isnull().sum()}\")"
      ],
      "metadata": {
        "colab": {
          "base_uri": "https://localhost:8080/"
        },
        "id": "7tPIKsZe0mW0",
        "outputId": "62fd0c18-0baa-4c33-c893-e29351f826a0"
      },
      "execution_count": null,
      "outputs": [
        {
          "output_type": "stream",
          "name": "stdout",
          "text": [
            "Missing values for column Received Qty: 33\n",
            "Missing values for column Issued Qty: 0\n"
          ]
        }
      ]
    },
    {
      "cell_type": "code",
      "source": [
        "# Drop the 'Received Qty' column\n",
        "data = data.drop(columns=['Received Qty'])\n",
        "\n",
        "# Display the updated DataFrame to confirm the column has been removed\n",
        "print(data.head())"
      ],
      "metadata": {
        "colab": {
          "base_uri": "https://localhost:8080/"
        },
        "id": "Wj4hfahnS4LX",
        "outputId": "0771c5e5-a601-4c9e-f7bc-0787aa1f5727"
      },
      "execution_count": null,
      "outputs": [
        {
          "output_type": "stream",
          "name": "stdout",
          "text": [
            "  Warehouse       Product code      Invoice No Transaction Date UOM  \\\n",
            "0     WH-75  LC-IG-ISGEC-INDIA  SI-N/07/24/001       2024-07-26  KG   \n",
            "1     WH-75  LC-IG-ISGEC-INDIA  SI-N/08/24/002       2024-08-02  KG   \n",
            "2     WH-75  LC-IG-ISGEC-INDIA  SI-N/08/24/003       2024-08-06  KG   \n",
            "3     WH-75  LC-IG-ISGEC-INDIA  SI-N/08/24/004       2024-08-07  KG   \n",
            "4     WH-75  LC-IG-ISGEC-INDIA  SI-N/08/24/005       2024-08-12  KG   \n",
            "\n",
            "   Issued Qty          Customer name   Risk Level  \n",
            "0         900   Hayleys Advantis Ltd  Medium Risk  \n",
            "1        1800      Ceylon Oxygen Ltd  Medium Risk  \n",
            "2        1800  Union Chemicals Lanka  Medium Risk  \n",
            "3         900        Laugfs Holdings  Medium Risk  \n",
            "4         900           Ansell Lanka    High Risk  \n"
          ]
        }
      ]
    },
    {
      "cell_type": "code",
      "source": [
        "# Select numerical columns for outlier detection\n",
        "numerical_columns = data.select_dtypes(include=['float64', 'int64']).columns\n",
        "\n",
        "# Function to cap outliers using the IQR method\n",
        "def cap_outliers_iqr(df, column):\n",
        "    Q1 = df[column].quantile(0.25)\n",
        "    Q3 = df[column].quantile(0.75)\n",
        "    IQR = Q3 - Q1\n",
        "    lower_bound = Q1 - 1.5 * IQR\n",
        "    upper_bound = Q3 + 1.5 * IQR\n",
        "\n",
        "    # Cap the outliers\n",
        "    df[column] = df[column].clip(lower=lower_bound, upper=upper_bound)\n",
        "    return df\n",
        "\n",
        "# Apply capping for outliers in each numerical column\n",
        "for col in numerical_columns:\n",
        "    data = cap_outliers_iqr(data, col)\n",
        "\n",
        "# Display the updated DataFrame with capped outliers\n",
        "print(data[numerical_columns].describe())"
      ],
      "metadata": {
        "colab": {
          "base_uri": "https://localhost:8080/"
        },
        "id": "7KTUVXWVTVnz",
        "outputId": "265797ff-1e67-4340-9c10-48669015a614"
      },
      "execution_count": null,
      "outputs": [
        {
          "output_type": "stream",
          "name": "stdout",
          "text": [
            "       Issued Qty\n",
            "count        33.0\n",
            "mean        900.0\n",
            "std           0.0\n",
            "min         900.0\n",
            "25%         900.0\n",
            "50%         900.0\n",
            "75%         900.0\n",
            "max         900.0\n"
          ]
        }
      ]
    },
    {
      "cell_type": "code",
      "source": [
        "# All categorical columns are encoded using the label encoding since the categorical data contained within the dataset are ordinal\n",
        "\n",
        "# Step 5: Encoding the categorical columns\n",
        "\n",
        "# Defining the columns to be encoded\n",
        "encoding_cols = ['Warehouse', 'Product code','Invoice No', 'UOM', 'Customer name', 'Risk Level']\n",
        "\n",
        "# Initialize the LabelEncoder\n",
        "label_encoder = LabelEncoder()\n",
        "\n",
        "# Apply label encoding to each categorical column\n",
        "for column in encoding_cols:\n",
        "    data[column] = label_encoder.fit_transform(data[column])  # Convert to string to handle NaN values\n",
        "\n",
        "# Display the first few rows of the updated DataFrame\n",
        "data.head()"
      ],
      "metadata": {
        "colab": {
          "base_uri": "https://localhost:8080/",
          "height": 206
        },
        "id": "cuSjjfoB0q55",
        "outputId": "0ed400ae-a0cf-421d-cb26-72e0f81f87be"
      },
      "execution_count": null,
      "outputs": [
        {
          "output_type": "execute_result",
          "data": {
            "text/plain": [
              "   Warehouse  Product code  Invoice No Transaction Date  UOM  Issued Qty  \\\n",
              "0          0             0           0       2024-07-26    0         900   \n",
              "1          0             0           1       2024-08-02    0         900   \n",
              "2          0             0           2       2024-08-06    0         900   \n",
              "3          0             0           3       2024-08-07    0         900   \n",
              "4          0             0           4       2024-08-12    0         900   \n",
              "\n",
              "   Customer name  Risk Level  \n",
              "0             12           2  \n",
              "1              4           2  \n",
              "2             19           2  \n",
              "3             15           2  \n",
              "4              0           0  "
            ],
            "text/html": [
              "\n",
              "  <div id=\"df-886e51f5-2097-41cf-896f-8f68870e8ae7\" class=\"colab-df-container\">\n",
              "    <div>\n",
              "<style scoped>\n",
              "    .dataframe tbody tr th:only-of-type {\n",
              "        vertical-align: middle;\n",
              "    }\n",
              "\n",
              "    .dataframe tbody tr th {\n",
              "        vertical-align: top;\n",
              "    }\n",
              "\n",
              "    .dataframe thead th {\n",
              "        text-align: right;\n",
              "    }\n",
              "</style>\n",
              "<table border=\"1\" class=\"dataframe\">\n",
              "  <thead>\n",
              "    <tr style=\"text-align: right;\">\n",
              "      <th></th>\n",
              "      <th>Warehouse</th>\n",
              "      <th>Product code</th>\n",
              "      <th>Invoice No</th>\n",
              "      <th>Transaction Date</th>\n",
              "      <th>UOM</th>\n",
              "      <th>Issued Qty</th>\n",
              "      <th>Customer name</th>\n",
              "      <th>Risk Level</th>\n",
              "    </tr>\n",
              "  </thead>\n",
              "  <tbody>\n",
              "    <tr>\n",
              "      <th>0</th>\n",
              "      <td>0</td>\n",
              "      <td>0</td>\n",
              "      <td>0</td>\n",
              "      <td>2024-07-26</td>\n",
              "      <td>0</td>\n",
              "      <td>900</td>\n",
              "      <td>12</td>\n",
              "      <td>2</td>\n",
              "    </tr>\n",
              "    <tr>\n",
              "      <th>1</th>\n",
              "      <td>0</td>\n",
              "      <td>0</td>\n",
              "      <td>1</td>\n",
              "      <td>2024-08-02</td>\n",
              "      <td>0</td>\n",
              "      <td>900</td>\n",
              "      <td>4</td>\n",
              "      <td>2</td>\n",
              "    </tr>\n",
              "    <tr>\n",
              "      <th>2</th>\n",
              "      <td>0</td>\n",
              "      <td>0</td>\n",
              "      <td>2</td>\n",
              "      <td>2024-08-06</td>\n",
              "      <td>0</td>\n",
              "      <td>900</td>\n",
              "      <td>19</td>\n",
              "      <td>2</td>\n",
              "    </tr>\n",
              "    <tr>\n",
              "      <th>3</th>\n",
              "      <td>0</td>\n",
              "      <td>0</td>\n",
              "      <td>3</td>\n",
              "      <td>2024-08-07</td>\n",
              "      <td>0</td>\n",
              "      <td>900</td>\n",
              "      <td>15</td>\n",
              "      <td>2</td>\n",
              "    </tr>\n",
              "    <tr>\n",
              "      <th>4</th>\n",
              "      <td>0</td>\n",
              "      <td>0</td>\n",
              "      <td>4</td>\n",
              "      <td>2024-08-12</td>\n",
              "      <td>0</td>\n",
              "      <td>900</td>\n",
              "      <td>0</td>\n",
              "      <td>0</td>\n",
              "    </tr>\n",
              "  </tbody>\n",
              "</table>\n",
              "</div>\n",
              "    <div class=\"colab-df-buttons\">\n",
              "\n",
              "  <div class=\"colab-df-container\">\n",
              "    <button class=\"colab-df-convert\" onclick=\"convertToInteractive('df-886e51f5-2097-41cf-896f-8f68870e8ae7')\"\n",
              "            title=\"Convert this dataframe to an interactive table.\"\n",
              "            style=\"display:none;\">\n",
              "\n",
              "  <svg xmlns=\"http://www.w3.org/2000/svg\" height=\"24px\" viewBox=\"0 -960 960 960\">\n",
              "    <path d=\"M120-120v-720h720v720H120Zm60-500h600v-160H180v160Zm220 220h160v-160H400v160Zm0 220h160v-160H400v160ZM180-400h160v-160H180v160Zm440 0h160v-160H620v160ZM180-180h160v-160H180v160Zm440 0h160v-160H620v160Z\"/>\n",
              "  </svg>\n",
              "    </button>\n",
              "\n",
              "  <style>\n",
              "    .colab-df-container {\n",
              "      display:flex;\n",
              "      gap: 12px;\n",
              "    }\n",
              "\n",
              "    .colab-df-convert {\n",
              "      background-color: #E8F0FE;\n",
              "      border: none;\n",
              "      border-radius: 50%;\n",
              "      cursor: pointer;\n",
              "      display: none;\n",
              "      fill: #1967D2;\n",
              "      height: 32px;\n",
              "      padding: 0 0 0 0;\n",
              "      width: 32px;\n",
              "    }\n",
              "\n",
              "    .colab-df-convert:hover {\n",
              "      background-color: #E2EBFA;\n",
              "      box-shadow: 0px 1px 2px rgba(60, 64, 67, 0.3), 0px 1px 3px 1px rgba(60, 64, 67, 0.15);\n",
              "      fill: #174EA6;\n",
              "    }\n",
              "\n",
              "    .colab-df-buttons div {\n",
              "      margin-bottom: 4px;\n",
              "    }\n",
              "\n",
              "    [theme=dark] .colab-df-convert {\n",
              "      background-color: #3B4455;\n",
              "      fill: #D2E3FC;\n",
              "    }\n",
              "\n",
              "    [theme=dark] .colab-df-convert:hover {\n",
              "      background-color: #434B5C;\n",
              "      box-shadow: 0px 1px 3px 1px rgba(0, 0, 0, 0.15);\n",
              "      filter: drop-shadow(0px 1px 2px rgba(0, 0, 0, 0.3));\n",
              "      fill: #FFFFFF;\n",
              "    }\n",
              "  </style>\n",
              "\n",
              "    <script>\n",
              "      const buttonEl =\n",
              "        document.querySelector('#df-886e51f5-2097-41cf-896f-8f68870e8ae7 button.colab-df-convert');\n",
              "      buttonEl.style.display =\n",
              "        google.colab.kernel.accessAllowed ? 'block' : 'none';\n",
              "\n",
              "      async function convertToInteractive(key) {\n",
              "        const element = document.querySelector('#df-886e51f5-2097-41cf-896f-8f68870e8ae7');\n",
              "        const dataTable =\n",
              "          await google.colab.kernel.invokeFunction('convertToInteractive',\n",
              "                                                    [key], {});\n",
              "        if (!dataTable) return;\n",
              "\n",
              "        const docLinkHtml = 'Like what you see? Visit the ' +\n",
              "          '<a target=\"_blank\" href=https://colab.research.google.com/notebooks/data_table.ipynb>data table notebook</a>'\n",
              "          + ' to learn more about interactive tables.';\n",
              "        element.innerHTML = '';\n",
              "        dataTable['output_type'] = 'display_data';\n",
              "        await google.colab.output.renderOutput(dataTable, element);\n",
              "        const docLink = document.createElement('div');\n",
              "        docLink.innerHTML = docLinkHtml;\n",
              "        element.appendChild(docLink);\n",
              "      }\n",
              "    </script>\n",
              "  </div>\n",
              "\n",
              "\n",
              "<div id=\"df-209d365b-6df2-494c-b8bb-1620b0cb3a22\">\n",
              "  <button class=\"colab-df-quickchart\" onclick=\"quickchart('df-209d365b-6df2-494c-b8bb-1620b0cb3a22')\"\n",
              "            title=\"Suggest charts\"\n",
              "            style=\"display:none;\">\n",
              "\n",
              "<svg xmlns=\"http://www.w3.org/2000/svg\" height=\"24px\"viewBox=\"0 0 24 24\"\n",
              "     width=\"24px\">\n",
              "    <g>\n",
              "        <path d=\"M19 3H5c-1.1 0-2 .9-2 2v14c0 1.1.9 2 2 2h14c1.1 0 2-.9 2-2V5c0-1.1-.9-2-2-2zM9 17H7v-7h2v7zm4 0h-2V7h2v10zm4 0h-2v-4h2v4z\"/>\n",
              "    </g>\n",
              "</svg>\n",
              "  </button>\n",
              "\n",
              "<style>\n",
              "  .colab-df-quickchart {\n",
              "      --bg-color: #E8F0FE;\n",
              "      --fill-color: #1967D2;\n",
              "      --hover-bg-color: #E2EBFA;\n",
              "      --hover-fill-color: #174EA6;\n",
              "      --disabled-fill-color: #AAA;\n",
              "      --disabled-bg-color: #DDD;\n",
              "  }\n",
              "\n",
              "  [theme=dark] .colab-df-quickchart {\n",
              "      --bg-color: #3B4455;\n",
              "      --fill-color: #D2E3FC;\n",
              "      --hover-bg-color: #434B5C;\n",
              "      --hover-fill-color: #FFFFFF;\n",
              "      --disabled-bg-color: #3B4455;\n",
              "      --disabled-fill-color: #666;\n",
              "  }\n",
              "\n",
              "  .colab-df-quickchart {\n",
              "    background-color: var(--bg-color);\n",
              "    border: none;\n",
              "    border-radius: 50%;\n",
              "    cursor: pointer;\n",
              "    display: none;\n",
              "    fill: var(--fill-color);\n",
              "    height: 32px;\n",
              "    padding: 0;\n",
              "    width: 32px;\n",
              "  }\n",
              "\n",
              "  .colab-df-quickchart:hover {\n",
              "    background-color: var(--hover-bg-color);\n",
              "    box-shadow: 0 1px 2px rgba(60, 64, 67, 0.3), 0 1px 3px 1px rgba(60, 64, 67, 0.15);\n",
              "    fill: var(--button-hover-fill-color);\n",
              "  }\n",
              "\n",
              "  .colab-df-quickchart-complete:disabled,\n",
              "  .colab-df-quickchart-complete:disabled:hover {\n",
              "    background-color: var(--disabled-bg-color);\n",
              "    fill: var(--disabled-fill-color);\n",
              "    box-shadow: none;\n",
              "  }\n",
              "\n",
              "  .colab-df-spinner {\n",
              "    border: 2px solid var(--fill-color);\n",
              "    border-color: transparent;\n",
              "    border-bottom-color: var(--fill-color);\n",
              "    animation:\n",
              "      spin 1s steps(1) infinite;\n",
              "  }\n",
              "\n",
              "  @keyframes spin {\n",
              "    0% {\n",
              "      border-color: transparent;\n",
              "      border-bottom-color: var(--fill-color);\n",
              "      border-left-color: var(--fill-color);\n",
              "    }\n",
              "    20% {\n",
              "      border-color: transparent;\n",
              "      border-left-color: var(--fill-color);\n",
              "      border-top-color: var(--fill-color);\n",
              "    }\n",
              "    30% {\n",
              "      border-color: transparent;\n",
              "      border-left-color: var(--fill-color);\n",
              "      border-top-color: var(--fill-color);\n",
              "      border-right-color: var(--fill-color);\n",
              "    }\n",
              "    40% {\n",
              "      border-color: transparent;\n",
              "      border-right-color: var(--fill-color);\n",
              "      border-top-color: var(--fill-color);\n",
              "    }\n",
              "    60% {\n",
              "      border-color: transparent;\n",
              "      border-right-color: var(--fill-color);\n",
              "    }\n",
              "    80% {\n",
              "      border-color: transparent;\n",
              "      border-right-color: var(--fill-color);\n",
              "      border-bottom-color: var(--fill-color);\n",
              "    }\n",
              "    90% {\n",
              "      border-color: transparent;\n",
              "      border-bottom-color: var(--fill-color);\n",
              "    }\n",
              "  }\n",
              "</style>\n",
              "\n",
              "  <script>\n",
              "    async function quickchart(key) {\n",
              "      const quickchartButtonEl =\n",
              "        document.querySelector('#' + key + ' button');\n",
              "      quickchartButtonEl.disabled = true;  // To prevent multiple clicks.\n",
              "      quickchartButtonEl.classList.add('colab-df-spinner');\n",
              "      try {\n",
              "        const charts = await google.colab.kernel.invokeFunction(\n",
              "            'suggestCharts', [key], {});\n",
              "      } catch (error) {\n",
              "        console.error('Error during call to suggestCharts:', error);\n",
              "      }\n",
              "      quickchartButtonEl.classList.remove('colab-df-spinner');\n",
              "      quickchartButtonEl.classList.add('colab-df-quickchart-complete');\n",
              "    }\n",
              "    (() => {\n",
              "      let quickchartButtonEl =\n",
              "        document.querySelector('#df-209d365b-6df2-494c-b8bb-1620b0cb3a22 button');\n",
              "      quickchartButtonEl.style.display =\n",
              "        google.colab.kernel.accessAllowed ? 'block' : 'none';\n",
              "    })();\n",
              "  </script>\n",
              "</div>\n",
              "\n",
              "    </div>\n",
              "  </div>\n"
            ],
            "application/vnd.google.colaboratory.intrinsic+json": {
              "type": "dataframe",
              "variable_name": "data",
              "summary": "{\n  \"name\": \"data\",\n  \"rows\": 33,\n  \"fields\": [\n    {\n      \"column\": \"Warehouse\",\n      \"properties\": {\n        \"dtype\": \"number\",\n        \"std\": 0,\n        \"min\": 0,\n        \"max\": 0,\n        \"num_unique_values\": 1,\n        \"samples\": [\n          0\n        ],\n        \"semantic_type\": \"\",\n        \"description\": \"\"\n      }\n    },\n    {\n      \"column\": \"Product code\",\n      \"properties\": {\n        \"dtype\": \"number\",\n        \"std\": 0,\n        \"min\": 0,\n        \"max\": 1,\n        \"num_unique_values\": 2,\n        \"samples\": [\n          1\n        ],\n        \"semantic_type\": \"\",\n        \"description\": \"\"\n      }\n    },\n    {\n      \"column\": \"Invoice No\",\n      \"properties\": {\n        \"dtype\": \"number\",\n        \"std\": 9,\n        \"min\": 0,\n        \"max\": 32,\n        \"num_unique_values\": 33,\n        \"samples\": [\n          26\n        ],\n        \"semantic_type\": \"\",\n        \"description\": \"\"\n      }\n    },\n    {\n      \"column\": \"Transaction Date\",\n      \"properties\": {\n        \"dtype\": \"date\",\n        \"min\": \"2024-07-26 00:00:00\",\n        \"max\": \"2024-10-08 00:00:00\",\n        \"num_unique_values\": 21,\n        \"samples\": [\n          \"2024-07-26 00:00:00\"\n        ],\n        \"semantic_type\": \"\",\n        \"description\": \"\"\n      }\n    },\n    {\n      \"column\": \"UOM\",\n      \"properties\": {\n        \"dtype\": \"number\",\n        \"std\": 0,\n        \"min\": 0,\n        \"max\": 0,\n        \"num_unique_values\": 1,\n        \"samples\": [\n          0\n        ],\n        \"semantic_type\": \"\",\n        \"description\": \"\"\n      }\n    },\n    {\n      \"column\": \"Issued Qty\",\n      \"properties\": {\n        \"dtype\": \"number\",\n        \"std\": 0,\n        \"min\": 900,\n        \"max\": 900,\n        \"num_unique_values\": 1,\n        \"samples\": [\n          900\n        ],\n        \"semantic_type\": \"\",\n        \"description\": \"\"\n      }\n    },\n    {\n      \"column\": \"Customer name\",\n      \"properties\": {\n        \"dtype\": \"number\",\n        \"std\": 6,\n        \"min\": 0,\n        \"max\": 20,\n        \"num_unique_values\": 21,\n        \"samples\": [\n          12\n        ],\n        \"semantic_type\": \"\",\n        \"description\": \"\"\n      }\n    },\n    {\n      \"column\": \"Risk Level\",\n      \"properties\": {\n        \"dtype\": \"number\",\n        \"std\": 0,\n        \"min\": 0,\n        \"max\": 2,\n        \"num_unique_values\": 3,\n        \"samples\": [\n          2\n        ],\n        \"semantic_type\": \"\",\n        \"description\": \"\"\n      }\n    }\n  ]\n}"
            }
          },
          "metadata": {},
          "execution_count": 110
        }
      ]
    },
    {
      "cell_type": "code",
      "source": [
        "# Redefine numerical_cols after dropping 'Received Qty'\n",
        "numerical_cols = data.select_dtypes(include=['float64', 'int64']).columns\n",
        "\n",
        "# Step 5: Scaling the Numerical Features\n",
        "scaler = StandardScaler()\n",
        "scaled_data = scaler.fit_transform(data[numerical_cols])\n",
        "\n",
        "# Step 6: Handling the columns with low correlation coefficients with the target column\n",
        "\n",
        "correlation_with_target = data.corr()['Risk Level'].sort_values(ascending=False)\n",
        "\n",
        "# Print the correlation values\n",
        "print(\"Correlation with Risk Level:\")\n",
        "print(correlation_with_target)"
      ],
      "metadata": {
        "colab": {
          "base_uri": "https://localhost:8080/"
        },
        "id": "5VmrLHXk4Bmz",
        "outputId": "736ed45a-efb4-4f1b-c2e1-0b9fb27cbab0"
      },
      "execution_count": null,
      "outputs": [
        {
          "output_type": "stream",
          "name": "stdout",
          "text": [
            "Correlation with Risk Level:\n",
            "Risk Level          1.000000\n",
            "Customer name       0.106920\n",
            "Product code        0.080481\n",
            "Transaction Date   -0.389440\n",
            "Invoice No         -0.413703\n",
            "Warehouse                NaN\n",
            "UOM                      NaN\n",
            "Issued Qty               NaN\n",
            "Name: Risk Level, dtype: float64\n"
          ]
        }
      ]
    },
    {
      "cell_type": "code",
      "source": [
        "# Dropping the columns with no correlation (Constant Columns)\n",
        "columns_to_drop = ['Warehouse', 'UOM','Issued Qty']\n",
        "data = data.drop(columns=columns_to_drop)\n"
      ],
      "metadata": {
        "id": "V2ImLcjDYqd5"
      },
      "execution_count": null,
      "outputs": []
    },
    {
      "cell_type": "code",
      "source": [
        "# Dropping the columns with low correlation\n",
        "columns_to_drop = [ 'Transaction Date', 'Invoice No']\n",
        "data = data.drop(columns=columns_to_drop)"
      ],
      "metadata": {
        "id": "_HW73jpS6tjh"
      },
      "execution_count": null,
      "outputs": []
    },
    {
      "cell_type": "code",
      "source": [
        "# Dataset Information\n",
        "data.info()"
      ],
      "metadata": {
        "colab": {
          "base_uri": "https://localhost:8080/"
        },
        "id": "31WF4JTG740d",
        "outputId": "eb61a5e8-7aa8-439c-f99d-9165a17d6055"
      },
      "execution_count": null,
      "outputs": [
        {
          "output_type": "stream",
          "name": "stdout",
          "text": [
            "<class 'pandas.core.frame.DataFrame'>\n",
            "RangeIndex: 33 entries, 0 to 32\n",
            "Data columns (total 3 columns):\n",
            " #   Column         Non-Null Count  Dtype\n",
            "---  ------         --------------  -----\n",
            " 0   Product code   33 non-null     int64\n",
            " 1   Customer name  33 non-null     int64\n",
            " 2   Risk Level     33 non-null     int64\n",
            "dtypes: int64(3)\n",
            "memory usage: 924.0 bytes\n"
          ]
        }
      ]
    },
    {
      "cell_type": "code",
      "source": [
        "# Step 7: Splitting Features and the Target Variable\n",
        "X = data.drop(columns=['Risk Level'])\n",
        "y = data['Risk Level']\n",
        "\n",
        "# Step 8: Splitting data\n",
        "X_train, X_test, y_train, y_test = train_test_split(X, y, test_size=0.2, random_state=42)\n",
        "\n",
        "# Analyzing the distribution of the y train dataset\n",
        "y_train.value_counts(normalize=True)"
      ],
      "metadata": {
        "colab": {
          "base_uri": "https://localhost:8080/",
          "height": 209
        },
        "id": "J2qd0oSe78eY",
        "outputId": "8a195879-5145-430e-d483-f6cf1cbca7d2"
      },
      "execution_count": null,
      "outputs": [
        {
          "output_type": "execute_result",
          "data": {
            "text/plain": [
              "Risk Level\n",
              "2    0.576923\n",
              "0    0.269231\n",
              "1    0.153846\n",
              "Name: proportion, dtype: float64"
            ],
            "text/html": [
              "<div>\n",
              "<style scoped>\n",
              "    .dataframe tbody tr th:only-of-type {\n",
              "        vertical-align: middle;\n",
              "    }\n",
              "\n",
              "    .dataframe tbody tr th {\n",
              "        vertical-align: top;\n",
              "    }\n",
              "\n",
              "    .dataframe thead th {\n",
              "        text-align: right;\n",
              "    }\n",
              "</style>\n",
              "<table border=\"1\" class=\"dataframe\">\n",
              "  <thead>\n",
              "    <tr style=\"text-align: right;\">\n",
              "      <th></th>\n",
              "      <th>proportion</th>\n",
              "    </tr>\n",
              "    <tr>\n",
              "      <th>Risk Level</th>\n",
              "      <th></th>\n",
              "    </tr>\n",
              "  </thead>\n",
              "  <tbody>\n",
              "    <tr>\n",
              "      <th>2</th>\n",
              "      <td>0.576923</td>\n",
              "    </tr>\n",
              "    <tr>\n",
              "      <th>0</th>\n",
              "      <td>0.269231</td>\n",
              "    </tr>\n",
              "    <tr>\n",
              "      <th>1</th>\n",
              "      <td>0.153846</td>\n",
              "    </tr>\n",
              "  </tbody>\n",
              "</table>\n",
              "</div><br><label><b>dtype:</b> float64</label>"
            ]
          },
          "metadata": {},
          "execution_count": 115
        }
      ]
    },
    {
      "cell_type": "code",
      "source": [
        "# Visualizing the distribution of the target variable\n",
        "plt.figure(figsize=(10, 6))\n",
        "sns.countplot(data=data, x='Risk Level')\n",
        "plt.xticks(rotation=0)\n",
        "plt.title('Distribution of Target Variable')\n",
        "plt.xlabel('Risk Level')\n",
        "plt.ylabel('Count')\n",
        "plt.show()"
      ],
      "metadata": {
        "colab": {
          "base_uri": "https://localhost:8080/",
          "height": 564
        },
        "id": "u3mnOED182n3",
        "outputId": "d1c7cfa0-691d-477a-d0b5-f264f6fe5520"
      },
      "execution_count": null,
      "outputs": [
        {
          "output_type": "display_data",
          "data": {
            "text/plain": [
              "<Figure size 1000x600 with 1 Axes>"
            ],
            "image/png": "[encoded data removed]"
          },
          "metadata": {}
        }
      ]
    },
    {
      "cell_type": "code",
      "source": [
        "# Displaying the dataset shape\n",
        "print(f\"Shape of X_train: {X_train.shape}\")\n",
        "print(f\"Shape of X_test: {X_test.shape}\")\n",
        "print(f\"Shape of y_train: {y_train.shape}\")\n",
        "print(f\"Shape of y_test: {y_test.shape}\")"
      ],
      "metadata": {
        "colab": {
          "base_uri": "https://localhost:8080/"
        },
        "id": "JLC8K2dl8-5X",
        "outputId": "adfd6b6c-6e67-4044-d611-ca880a75db3f"
      },
      "execution_count": null,
      "outputs": [
        {
          "output_type": "stream",
          "name": "stdout",
          "text": [
            "Shape of X_train: (26, 2)\n",
            "Shape of X_test: (7, 2)\n",
            "Shape of y_train: (26,)\n",
            "Shape of y_test: (7,)\n"
          ]
        }
      ]
    },
    {
      "cell_type": "code",
      "source": [
        "# Step 1: Check for class imbalance in the 'Risk Level' column\n",
        "class_distribution = data['Risk Level'].value_counts()\n",
        "\n",
        "# Print the distribution of classes\n",
        "print(\"Class distribution in 'Risk Level':\")\n",
        "print(class_distribution)\n"
      ],
      "metadata": {
        "colab": {
          "base_uri": "https://localhost:8080/"
        },
        "id": "Ww3XNbte-bvl",
        "outputId": "98b3593d-aacf-4807-bc3b-98ffc2ffcaa3"
      },
      "execution_count": null,
      "outputs": [
        {
          "output_type": "stream",
          "name": "stdout",
          "text": [
            "Class distribution in 'Risk Level':\n",
            "Risk Level\n",
            "2    17\n",
            "0     9\n",
            "1     7\n",
            "Name: count, dtype: int64\n"
          ]
        }
      ]
    },
    {
      "cell_type": "code",
      "source": [
        "# Suppressing the FutureWarnings\n",
        "warnings.filterwarnings(\"ignore\", category=FutureWarning)\n",
        "\n",
        "# Handling imbalanced dataset\n",
        "smote = SMOTE(sampling_strategy='auto', random_state=42, k_neighbors=1)\n",
        "X_resampled, y_resampled = smote.fit_resample(X, y)\n",
        "\n",
        "print(\"Original dataset size:\", X.shape)\n",
        "print(\"Resampled dataset size:\", X_resampled.shape)\n",
        "\n",
        "# Plotting class distribution after SMOTE\n",
        "sns.countplot(x=y_resampled, palette=\"viridis\")\n",
        "plt.title(\"Class Distribution After SMOTE\")\n",
        "plt.xlabel(\"Class\")\n",
        "plt.ylabel(\"Count\")\n",
        "plt.show()"
      ],
      "metadata": {
        "colab": {
          "base_uri": "https://localhost:8080/",
          "height": 507
        },
        "id": "_3P3AMhC_1dh",
        "outputId": "8d6cddbf-1018-4ad9-8dff-860623cf345d"
      },
      "execution_count": null,
      "outputs": [
        {
          "output_type": "stream",
          "name": "stdout",
          "text": [
            "Original dataset size: (33, 2)\n",
            "Resampled dataset size: (51, 2)\n"
          ]
        },
        {
          "output_type": "display_data",
          "data": {
            "text/plain": [
              "<Figure size 640x480 with 1 Axes>"
            ],
            "image/png": "[encoded data removed]"
          },
          "metadata": {}
        }
      ]
    },
    {
      "cell_type": "code",
      "source": [
        "# Define the new folder path\n",
        "folder_path = '/content/drive/MyDrive/DSGP_User/Pre Processed data'\n",
        "\n",
        "# Define the file name for the saved dataset\n",
        "file_name = 'preprocessed_stock_report 3.xlsx'\n",
        "\n",
        "# Save the pre-processed DataFrame to the new folder\n",
        "data.to_excel(os.path.join(folder_path, file_name), index=False)\n",
        "\n",
        "print(f\"Pre-processed dataset saved to: {os.path.join(folder_path, file_name)}\")"
      ],
      "metadata": {
        "colab": {
          "base_uri": "https://localhost:8080/"
        },
        "id": "OH5nK0QTWSkU",
        "outputId": "eeffed6b-5779-47c9-be23-de5bb0ba49da"
      },
      "execution_count": null,
      "outputs": [
        {
          "output_type": "stream",
          "name": "stdout",
          "text": [
            "Pre-processed dataset saved to: /content/drive/MyDrive/DSGP_User/Pre Processed data/preprocessed_stock_report 3.xlsx\n"
          ]
        }
      ]
    }
  ]
}