{
  "nbformat": 4,
  "nbformat_minor": 0,
  "metadata": {
    "colab": {
      "provenance": []
    },
    "kernelspec": {
      "name": "python3",
      "display_name": "Python 3"
    },
    "language_info": {
      "name": "python"
    }
  },
  "cells": [
    {
      "cell_type": "code",
      "execution_count": 5,
      "metadata": {
        "colab": {
          "base_uri": "https://localhost:8080/"
        },
        "id": "CTvCnN4XmbfJ",
        "outputId": "f7a5aa7c-ebba-438d-c675-af51f79f5a69"
      },
      "outputs": [
        {
          "output_type": "stream",
          "name": "stdout",
          "text": [
            "Requirement already satisfied: pandas in /usr/local/lib/python3.10/dist-packages (2.2.2)\n",
            "Requirement already satisfied: openpyxl in /usr/local/lib/python3.10/dist-packages (3.1.5)\n",
            "Requirement already satisfied: numpy>=1.22.4 in /usr/local/lib/python3.10/dist-packages (from pandas) (1.26.4)\n",
            "Requirement already satisfied: python-dateutil>=2.8.2 in /usr/local/lib/python3.10/dist-packages (from pandas) (2.8.2)\n",
            "Requirement already satisfied: pytz>=2020.1 in /usr/local/lib/python3.10/dist-packages (from pandas) (2024.2)\n",
            "Requirement already satisfied: tzdata>=2022.7 in /usr/local/lib/python3.10/dist-packages (from pandas) (2024.2)\n",
            "Requirement already satisfied: et-xmlfile in /usr/local/lib/python3.10/dist-packages (from openpyxl) (2.0.0)\n",
            "Requirement already satisfied: six>=1.5 in /usr/local/lib/python3.10/dist-packages (from python-dateutil>=2.8.2->pandas) (1.16.0)\n"
          ]
        }
      ],
      "source": [
        "# Installing the necessary libraries\n",
        "!pip install pandas openpyxl\n",
        "\n",
        "import random\n",
        "import pandas as pd\n",
        "from openpyxl import Workbook\n"
      ]
    },
    {
      "cell_type": "code",
      "source": [
        "# Defining a mapping between HS codes and their corresponding descriptions.\n",
        "HS_CODE_MAPPING = {\n",
        "    \"280110\": \"Fluorine, chlorine, bromine and iodine\",\n",
        "    \"280800\": \"Nitric acid; sulphonitric acids.\",\n",
        "    \"283711\": \"Cyanides and cyanide oxides : Of sodium\",\n",
        "    \"283719\": \"Cyanides, cyanide oxides and complex cyanides.\",\n",
        "    \"284700\": \"Hydrogen peroxide, whether or not solidified with urea.\"\n",
        "}\n",
        "\n",
        "# List of importers as provided.\n",
        "IMPORTERS = [\n",
        "    \"TransWorld Chemicals\", \"Prime Logistics Group\", \"Redwood Chemical Co.\", \"Greenfield Enterprises\",\n",
        "    \"AquaPro Solutions\", \"EcoTrade Ltd.\", \"GlobalTech Imports\", \"IronGate Imports Ltd.\",\n",
        "    \"Nova International Trade\", \"Horizon Industrial Supply\"\n",
        "]\n",
        "\n",
        "# Defining the function to generate a random dataset based on the provided structure.\n",
        "def generate_random_dataset():\n",
        "    data = []\n",
        "    for _ in range(100):\n",
        "        hs_code = random.choice(list(HS_CODE_MAPPING.keys()))\n",
        "        description = HS_CODE_MAPPING[hs_code]\n",
        "        row = {\n",
        "            \"IMPORTER\": random.choice(IMPORTERS),\n",
        "            \"YEAR\": 2023,\n",
        "            \"MONTH\": random.choice(\n",
        "                [\"JANUARY\", \"FEBRUARY\", \"MARCH\", \"APRIL\", \"MAY\", \"JUNE\", \"JULY\", \"AUGUST\", \"SEPTEMBER\", \"OCTOBER\", \"NOVEMBER\", \"DECEMBER\"]\n",
        "            ),\n",
        "            \"HSCODE\": hs_code,\n",
        "            \"COUNTRY\": random.choice([\"BANGLADESH\", \"INDIA\", \"MALAYSIA\", \"AUSTRIA\", \"CHINA\", \"U.S.A\", \"SOUTH KOREA\", \"THAILAND\", \"GERMANY\", \"DENMARK\", \"JAPAN\", \"PAKISTAN\", \"SINGAPORE\", \"SPAIN\", \"U.K.\", \"FRANCE\"]),\n",
        "            \"UNIT\": \"Kg.\",\n",
        "            \"QUANTITY\": random.randint(1000, 200000),\n",
        "            \"VALUE_RS\": random.randint(100000, 50000000),\n",
        "            \"DESCRIPTION_01\": \"Inorganic chemicals; Organic or inorganic compounds of precious metals\",\n",
        "            \"DESCRIPTION_02\": description,\n",
        "            \"DESCRIPTION_03\": description,\n",
        "        }\n",
        "        data.append(row)\n",
        "    return pd.DataFrame(data)\n",
        "\n",
        "# Creating an Excel workbook to store all datasets.\n",
        "output_path = \"/content/drive/MyDrive/CM2603 Data Science Group Project/Data Regardings/IMPORT STATISTICS - 2023.xlsx\"\n",
        "wb = Workbook()\n",
        "wb.remove(wb.active)\n",
        "\n",
        "# Generate 100 datasets and add them as separate sheets.\n",
        "for i in range(1, 101):\n",
        "    df = generate_random_dataset()\n",
        "    sheet_name = f\"Dataset_{i}\"\n",
        "    ws = wb.create_sheet(title=sheet_name)\n",
        "    # Write headers.\n",
        "    ws.append(df.columns.tolist())\n",
        "    # Write data rows.\n",
        "    for row in df.itertuples(index=False, name=None):\n",
        "        ws.append(row)\n",
        "\n",
        "# Save the workbook.\n",
        "wb.save(output_path)\n",
        "\n",
        "# Download the file\n",
        "from google.colab import files\n",
        "files.download(output_path)\n"
      ],
      "metadata": {
        "colab": {
          "base_uri": "https://localhost:8080/",
          "height": 17
        },
        "id": "UmX9i-lcmvpz",
        "outputId": "35904acf-312a-4527-8a9a-966f5b26eed2"
      },
      "execution_count": 6,
      "outputs": [
        {
          "output_type": "display_data",
          "data": {
            "text/plain": [
              "<IPython.core.display.Javascript object>"
            ],
            "application/javascript": [
              "\n",
              "    async function download(id, filename, size) {\n",
              "      if (!google.colab.kernel.accessAllowed) {\n",
              "        return;\n",
              "      }\n",
              "      const div = document.createElement('div');\n",
              "      const label = document.createElement('label');\n",
              "      label.textContent = `Downloading \"${filename}\": `;\n",
              "      div.appendChild(label);\n",
              "      const progress = document.createElement('progress');\n",
              "      progress.max = size;\n",
              "      div.appendChild(progress);\n",
              "      document.body.appendChild(div);\n",
              "\n",
              "      const buffers = [];\n",
              "      let downloaded = 0;\n",
              "\n",
              "      const channel = await google.colab.kernel.comms.open(id);\n",
              "      // Send a message to notify the kernel that we're ready.\n",
              "      channel.send({})\n",
              "\n",
              "      for await (const message of channel.messages) {\n",
              "        // Send a message to notify the kernel that we're ready.\n",
              "        channel.send({})\n",
              "        if (message.buffers) {\n",
              "          for (const buffer of message.buffers) {\n",
              "            buffers.push(buffer);\n",
              "            downloaded += buffer.byteLength;\n",
              "            progress.value = downloaded;\n",
              "          }\n",
              "        }\n",
              "      }\n",
              "      const blob = new Blob(buffers, {type: 'application/binary'});\n",
              "      const a = document.createElement('a');\n",
              "      a.href = window.URL.createObjectURL(blob);\n",
              "      a.download = filename;\n",
              "      div.appendChild(a);\n",
              "      a.click();\n",
              "      div.remove();\n",
              "    }\n",
              "  "
            ]
          },
          "metadata": {}
        },
        {
          "output_type": "display_data",
          "data": {
            "text/plain": [
              "<IPython.core.display.Javascript object>"
            ],
            "application/javascript": [
              "download(\"download_c83a4a54-4bfd-48d2-a9e6-2c719dac0698\", \"IMPORT STATISTICS - 2023.xlsx\", 685799)"
            ]
          },
          "metadata": {}
        }
      ]
    }
  ]
}