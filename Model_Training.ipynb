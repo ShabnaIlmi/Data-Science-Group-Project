{
  "cells": [
    {
      "cell_type": "markdown",
      "metadata": {
        "id": "view-in-github",
        "colab_type": "text"
      },
      "source": [
        "<a href=\"https://colab.research.google.com/github/ShabnaIlmi/Data-Science-Group-Project/blob/Importer_Risk_Prediction/Model_Training.ipynb\" target=\"_parent\"><img src=\"https://colab.research.google.com/assets/colab-badge.svg\" alt=\"Open In Colab\"/></a>"
      ]
    },
    {
      "cell_type": "markdown",
      "source": [
        "# **Installing Necessary Libraries**"
      ],
      "metadata": {
        "id": "M3GU45qxl_w3"
      }
    },
    {
      "cell_type": "code",
      "execution_count": 507,
      "metadata": {
        "id": "KpJO0Ib3RGsE"
      },
      "outputs": [],
      "source": [
        "# Installing required libraries\n",
        "# !pip install --upgrade tensorflow\n",
        "# !pip install fancyimpute scikit-learn pandas"
      ]
    },
    {
      "cell_type": "markdown",
      "source": [
        "# **Importing Necessary Libraries**"
      ],
      "metadata": {
        "id": "zl7IDspHmFNk"
      }
    },
    {
      "cell_type": "code",
      "execution_count": 508,
      "metadata": {
        "id": "8Q2eNv9ERdHW"
      },
      "outputs": [],
      "source": [
        "# Importing necessary libraries\n",
        "import pandas as pd\n",
        "import numpy as np\n",
        "import matplotlib.pyplot as plt\n",
        "import seaborn as sns\n",
        "from sklearn.experimental import enable_iterative_imputer\n",
        "from sklearn.preprocessing import StandardScaler\n",
        "from sklearn.impute import IterativeImputer, KNNImputer\n",
        "from sklearn.ensemble import RandomForestClassifier, RandomForestRegressor\n",
        "from sklearn.cluster import KMeans\n",
        "from sklearn.ensemble import RandomForestRegressor\n",
        "from sklearn.experimental import enable_iterative_imputer\n",
        "import warnings\n",
        "from imblearn.over_sampling import SMOTE\n",
        "from sklearn.impute import IterativeImputer\n",
        "from sklearn.model_selection import train_test_split\n",
        "from sklearn.preprocessing import LabelEncoder\n",
        "from sklearn.model_selection import train_test_split, GridSearchCV, cross_val_score, StratifiedKFold\n",
        "from sklearn.preprocessing import StandardScaler\n",
        "from sklearn.ensemble import GradientBoostingClassifier\n",
        "import tensorflow as tf\n",
        "from tensorflow.keras.models import load_model\n",
        "from tensorflow.keras.models import Sequential\n",
        "from tensorflow.keras.layers import LSTM, Dense, Dropout\n",
        "from sklearn.preprocessing import MinMaxScaler\n",
        "from sklearn.metrics import confusion_matrix, classification_report\n",
        "from sklearn.metrics import accuracy_score, classification_report\n",
        "import seaborn as sns\n",
        "from sklearn.preprocessing import LabelEncoder\n",
        "from sklearn.impute import KNNImputer\n",
        "import random\n",
        "import pickle\n",
        "import joblib"
      ]
    },
    {
      "cell_type": "markdown",
      "source": [
        "# **Mounting the Google Drive**"
      ],
      "metadata": {
        "id": "I1gzwvSYmKs6"
      }
    },
    {
      "cell_type": "code",
      "execution_count": 509,
      "metadata": {
        "id": "ZQeCGQRxRggh",
        "colab": {
          "base_uri": "https://localhost:8080/"
        },
        "outputId": "1cd61f67-18c4-431c-b751-8233209e765a"
      },
      "outputs": [
        {
          "output_type": "stream",
          "name": "stdout",
          "text": [
            "Drive already mounted at /content/drive; to attempt to forcibly remount, call drive.mount(\"/content/drive\", force_remount=True).\n"
          ]
        }
      ],
      "source": [
        "# Mounting the google drive\n",
        "from google.colab import drive\n",
        "drive.mount('/content/drive')"
      ]
    },
    {
      "cell_type": "markdown",
      "source": [
        "# **Loading the Dataset**"
      ],
      "metadata": {
        "id": "RdyGCw8XmQLK"
      }
    },
    {
      "cell_type": "code",
      "execution_count": 510,
      "metadata": {
        "id": "Oa7Fm_pIRjd5"
      },
      "outputs": [],
      "source": [
        "# Loading the dataset with the proper delimiter (semicolon)\n",
        "data = pd.read_excel('/content/drive/MyDrive/Comprehensive_Chemical_Risk_Prediction_Model/IMPORT STATISTICS - 2023.xlsx')"
      ]
    },
    {
      "cell_type": "code",
      "execution_count": 511,
      "metadata": {
        "id": "7sLb40_ERmHc",
        "colab": {
          "base_uri": "https://localhost:8080/",
          "height": 486
        },
        "outputId": "d5460e1c-263b-40d1-9fa6-fc3971adc200"
      },
      "outputs": [
        {
          "output_type": "execute_result",
          "data": {
            "text/plain": [
              "  IMPORTER    YEAR     MONTH  HSCODE     COUNTRY UNIT  QUANTITY    VALUE_RS  \\\n",
              "0  Unknown  2023.0   JANUARY  280110  BANGLADESH  Kg.  131600.0  13877114.0   \n",
              "1  Unknown  2023.0   JANUARY  280110       INDIA  Kg.   37800.0   3924989.0   \n",
              "2  Unknown  2023.0   JANUARY  280110    MALAYSIA  Kg.   12090.0   5390772.0   \n",
              "3  Unknown  2023.0  FEBRUARY  280110  BANGLADESH  Kg.   25200.0   3089445.0   \n",
              "4  Unknown  2023.0  FEBRUARY  280110       INDIA  Kg.   75599.0   6939860.0   \n",
              "\n",
              "                                      DESCRIPTION_01  \\\n",
              "0  Inorganic chemicals; Organic or inorganic comp...   \n",
              "1  Inorganic chemicals; Organic or inorganic comp...   \n",
              "2  Inorganic chemicals; Organic or inorganic comp...   \n",
              "3  Inorganic chemicals; Organic or inorganic comp...   \n",
              "4  Inorganic chemicals; Organic or inorganic comp...   \n",
              "\n",
              "                                      DESCRIPTION_02 DESCRIPTION_03  \n",
              "0  Fluorine, chlorine, bromine and iodine        ...       Chlorine  \n",
              "1  Fluorine, chlorine, bromine and iodine        ...       Chlorine  \n",
              "2  Fluorine, chlorine, bromine and iodine        ...       Chlorine  \n",
              "3  Fluorine, chlorine, bromine and iodine        ...       Chlorine  \n",
              "4  Fluorine, chlorine, bromine and iodine        ...       Chlorine  "
            ],
            "text/html": [
              "\n",
              "  <div id=\"df-2ba7c26d-301e-4982-964b-3100c0f92986\" class=\"colab-df-container\">\n",
              "    <div>\n",
              "<style scoped>\n",
              "    .dataframe tbody tr th:only-of-type {\n",
              "        vertical-align: middle;\n",
              "    }\n",
              "\n",
              "    .dataframe tbody tr th {\n",
              "        vertical-align: top;\n",
              "    }\n",
              "\n",
              "    .dataframe thead th {\n",
              "        text-align: right;\n",
              "    }\n",
              "</style>\n",
              "<table border=\"1\" class=\"dataframe\">\n",
              "  <thead>\n",
              "    <tr style=\"text-align: right;\">\n",
              "      <th></th>\n",
              "      <th>IMPORTER</th>\n",
              "      <th>YEAR</th>\n",
              "      <th>MONTH</th>\n",
              "      <th>HSCODE</th>\n",
              "      <th>COUNTRY</th>\n",
              "      <th>UNIT</th>\n",
              "      <th>QUANTITY</th>\n",
              "      <th>VALUE_RS</th>\n",
              "      <th>DESCRIPTION_01</th>\n",
              "      <th>DESCRIPTION_02</th>\n",
              "      <th>DESCRIPTION_03</th>\n",
              "    </tr>\n",
              "  </thead>\n",
              "  <tbody>\n",
              "    <tr>\n",
              "      <th>0</th>\n",
              "      <td>Unknown</td>\n",
              "      <td>2023.0</td>\n",
              "      <td>JANUARY</td>\n",
              "      <td>280110</td>\n",
              "      <td>BANGLADESH</td>\n",
              "      <td>Kg.</td>\n",
              "      <td>131600.0</td>\n",
              "      <td>13877114.0</td>\n",
              "      <td>Inorganic chemicals; Organic or inorganic comp...</td>\n",
              "      <td>Fluorine, chlorine, bromine and iodine        ...</td>\n",
              "      <td>Chlorine</td>\n",
              "    </tr>\n",
              "    <tr>\n",
              "      <th>1</th>\n",
              "      <td>Unknown</td>\n",
              "      <td>2023.0</td>\n",
              "      <td>JANUARY</td>\n",
              "      <td>280110</td>\n",
              "      <td>INDIA</td>\n",
              "      <td>Kg.</td>\n",
              "      <td>37800.0</td>\n",
              "      <td>3924989.0</td>\n",
              "      <td>Inorganic chemicals; Organic or inorganic comp...</td>\n",
              "      <td>Fluorine, chlorine, bromine and iodine        ...</td>\n",
              "      <td>Chlorine</td>\n",
              "    </tr>\n",
              "    <tr>\n",
              "      <th>2</th>\n",
              "      <td>Unknown</td>\n",
              "      <td>2023.0</td>\n",
              "      <td>JANUARY</td>\n",
              "      <td>280110</td>\n",
              "      <td>MALAYSIA</td>\n",
              "      <td>Kg.</td>\n",
              "      <td>12090.0</td>\n",
              "      <td>5390772.0</td>\n",
              "      <td>Inorganic chemicals; Organic or inorganic comp...</td>\n",
              "      <td>Fluorine, chlorine, bromine and iodine        ...</td>\n",
              "      <td>Chlorine</td>\n",
              "    </tr>\n",
              "    <tr>\n",
              "      <th>3</th>\n",
              "      <td>Unknown</td>\n",
              "      <td>2023.0</td>\n",
              "      <td>FEBRUARY</td>\n",
              "      <td>280110</td>\n",
              "      <td>BANGLADESH</td>\n",
              "      <td>Kg.</td>\n",
              "      <td>25200.0</td>\n",
              "      <td>3089445.0</td>\n",
              "      <td>Inorganic chemicals; Organic or inorganic comp...</td>\n",
              "      <td>Fluorine, chlorine, bromine and iodine        ...</td>\n",
              "      <td>Chlorine</td>\n",
              "    </tr>\n",
              "    <tr>\n",
              "      <th>4</th>\n",
              "      <td>Unknown</td>\n",
              "      <td>2023.0</td>\n",
              "      <td>FEBRUARY</td>\n",
              "      <td>280110</td>\n",
              "      <td>INDIA</td>\n",
              "      <td>Kg.</td>\n",
              "      <td>75599.0</td>\n",
              "      <td>6939860.0</td>\n",
              "      <td>Inorganic chemicals; Organic or inorganic comp...</td>\n",
              "      <td>Fluorine, chlorine, bromine and iodine        ...</td>\n",
              "      <td>Chlorine</td>\n",
              "    </tr>\n",
              "  </tbody>\n",
              "</table>\n",
              "</div>\n",
              "    <div class=\"colab-df-buttons\">\n",
              "\n",
              "  <div class=\"colab-df-container\">\n",
              "    <button class=\"colab-df-convert\" onclick=\"convertToInteractive('df-2ba7c26d-301e-4982-964b-3100c0f92986')\"\n",
              "            title=\"Convert this dataframe to an interactive table.\"\n",
              "            style=\"display:none;\">\n",
              "\n",
              "  <svg xmlns=\"http://www.w3.org/2000/svg\" height=\"24px\" viewBox=\"0 -960 960 960\">\n",
              "    <path d=\"M120-120v-720h720v720H120Zm60-500h600v-160H180v160Zm220 220h160v-160H400v160Zm0 220h160v-160H400v160ZM180-400h160v-160H180v160Zm440 0h160v-160H620v160ZM180-180h160v-160H180v160Zm440 0h160v-160H620v160Z\"/>\n",
              "  </svg>\n",
              "    </button>\n",
              "\n",
              "  <style>\n",
              "    .colab-df-container {\n",
              "      display:flex;\n",
              "      gap: 12px;\n",
              "    }\n",
              "\n",
              "    .colab-df-convert {\n",
              "      background-color: #E8F0FE;\n",
              "      border: none;\n",
              "      border-radius: 50%;\n",
              "      cursor: pointer;\n",
              "      display: none;\n",
              "      fill: #1967D2;\n",
              "      height: 32px;\n",
              "      padding: 0 0 0 0;\n",
              "      width: 32px;\n",
              "    }\n",
              "\n",
              "    .colab-df-convert:hover {\n",
              "      background-color: #E2EBFA;\n",
              "      box-shadow: 0px 1px 2px rgba(60, 64, 67, 0.3), 0px 1px 3px 1px rgba(60, 64, 67, 0.15);\n",
              "      fill: #174EA6;\n",
              "    }\n",
              "\n",
              "    .colab-df-buttons div {\n",
              "      margin-bottom: 4px;\n",
              "    }\n",
              "\n",
              "    [theme=dark] .colab-df-convert {\n",
              "      background-color: #3B4455;\n",
              "      fill: #D2E3FC;\n",
              "    }\n",
              "\n",
              "    [theme=dark] .colab-df-convert:hover {\n",
              "      background-color: #434B5C;\n",
              "      box-shadow: 0px 1px 3px 1px rgba(0, 0, 0, 0.15);\n",
              "      filter: drop-shadow(0px 1px 2px rgba(0, 0, 0, 0.3));\n",
              "      fill: #FFFFFF;\n",
              "    }\n",
              "  </style>\n",
              "\n",
              "    <script>\n",
              "      const buttonEl =\n",
              "        document.querySelector('#df-2ba7c26d-301e-4982-964b-3100c0f92986 button.colab-df-convert');\n",
              "      buttonEl.style.display =\n",
              "        google.colab.kernel.accessAllowed ? 'block' : 'none';\n",
              "\n",
              "      async function convertToInteractive(key) {\n",
              "        const element = document.querySelector('#df-2ba7c26d-301e-4982-964b-3100c0f92986');\n",
              "        const dataTable =\n",
              "          await google.colab.kernel.invokeFunction('convertToInteractive',\n",
              "                                                    [key], {});\n",
              "        if (!dataTable) return;\n",
              "\n",
              "        const docLinkHtml = 'Like what you see? Visit the ' +\n",
              "          '<a target=\"_blank\" href=https://colab.research.google.com/notebooks/data_table.ipynb>data table notebook</a>'\n",
              "          + ' to learn more about interactive tables.';\n",
              "        element.innerHTML = '';\n",
              "        dataTable['output_type'] = 'display_data';\n",
              "        await google.colab.output.renderOutput(dataTable, element);\n",
              "        const docLink = document.createElement('div');\n",
              "        docLink.innerHTML = docLinkHtml;\n",
              "        element.appendChild(docLink);\n",
              "      }\n",
              "    </script>\n",
              "  </div>\n",
              "\n",
              "\n",
              "<div id=\"df-dd39d97b-f240-4737-9443-2b4b5de6b7bc\">\n",
              "  <button class=\"colab-df-quickchart\" onclick=\"quickchart('df-dd39d97b-f240-4737-9443-2b4b5de6b7bc')\"\n",
              "            title=\"Suggest charts\"\n",
              "            style=\"display:none;\">\n",
              "\n",
              "<svg xmlns=\"http://www.w3.org/2000/svg\" height=\"24px\"viewBox=\"0 0 24 24\"\n",
              "     width=\"24px\">\n",
              "    <g>\n",
              "        <path d=\"M19 3H5c-1.1 0-2 .9-2 2v14c0 1.1.9 2 2 2h14c1.1 0 2-.9 2-2V5c0-1.1-.9-2-2-2zM9 17H7v-7h2v7zm4 0h-2V7h2v10zm4 0h-2v-4h2v4z\"/>\n",
              "    </g>\n",
              "</svg>\n",
              "  </button>\n",
              "\n",
              "<style>\n",
              "  .colab-df-quickchart {\n",
              "      --bg-color: #E8F0FE;\n",
              "      --fill-color: #1967D2;\n",
              "      --hover-bg-color: #E2EBFA;\n",
              "      --hover-fill-color: #174EA6;\n",
              "      --disabled-fill-color: #AAA;\n",
              "      --disabled-bg-color: #DDD;\n",
              "  }\n",
              "\n",
              "  [theme=dark] .colab-df-quickchart {\n",
              "      --bg-color: #3B4455;\n",
              "      --fill-color: #D2E3FC;\n",
              "      --hover-bg-color: #434B5C;\n",
              "      --hover-fill-color: #FFFFFF;\n",
              "      --disabled-bg-color: #3B4455;\n",
              "      --disabled-fill-color: #666;\n",
              "  }\n",
              "\n",
              "  .colab-df-quickchart {\n",
              "    background-color: var(--bg-color);\n",
              "    border: none;\n",
              "    border-radius: 50%;\n",
              "    cursor: pointer;\n",
              "    display: none;\n",
              "    fill: var(--fill-color);\n",
              "    height: 32px;\n",
              "    padding: 0;\n",
              "    width: 32px;\n",
              "  }\n",
              "\n",
              "  .colab-df-quickchart:hover {\n",
              "    background-color: var(--hover-bg-color);\n",
              "    box-shadow: 0 1px 2px rgba(60, 64, 67, 0.3), 0 1px 3px 1px rgba(60, 64, 67, 0.15);\n",
              "    fill: var(--button-hover-fill-color);\n",
              "  }\n",
              "\n",
              "  .colab-df-quickchart-complete:disabled,\n",
              "  .colab-df-quickchart-complete:disabled:hover {\n",
              "    background-color: var(--disabled-bg-color);\n",
              "    fill: var(--disabled-fill-color);\n",
              "    box-shadow: none;\n",
              "  }\n",
              "\n",
              "  .colab-df-spinner {\n",
              "    border: 2px solid var(--fill-color);\n",
              "    border-color: transparent;\n",
              "    border-bottom-color: var(--fill-color);\n",
              "    animation:\n",
              "      spin 1s steps(1) infinite;\n",
              "  }\n",
              "\n",
              "  @keyframes spin {\n",
              "    0% {\n",
              "      border-color: transparent;\n",
              "      border-bottom-color: var(--fill-color);\n",
              "      border-left-color: var(--fill-color);\n",
              "    }\n",
              "    20% {\n",
              "      border-color: transparent;\n",
              "      border-left-color: var(--fill-color);\n",
              "      border-top-color: var(--fill-color);\n",
              "    }\n",
              "    30% {\n",
              "      border-color: transparent;\n",
              "      border-left-color: var(--fill-color);\n",
              "      border-top-color: var(--fill-color);\n",
              "      border-right-color: var(--fill-color);\n",
              "    }\n",
              "    40% {\n",
              "      border-color: transparent;\n",
              "      border-right-color: var(--fill-color);\n",
              "      border-top-color: var(--fill-color);\n",
              "    }\n",
              "    60% {\n",
              "      border-color: transparent;\n",
              "      border-right-color: var(--fill-color);\n",
              "    }\n",
              "    80% {\n",
              "      border-color: transparent;\n",
              "      border-right-color: var(--fill-color);\n",
              "      border-bottom-color: var(--fill-color);\n",
              "    }\n",
              "    90% {\n",
              "      border-color: transparent;\n",
              "      border-bottom-color: var(--fill-color);\n",
              "    }\n",
              "  }\n",
              "</style>\n",
              "\n",
              "  <script>\n",
              "    async function quickchart(key) {\n",
              "      const quickchartButtonEl =\n",
              "        document.querySelector('#' + key + ' button');\n",
              "      quickchartButtonEl.disabled = true;  // To prevent multiple clicks.\n",
              "      quickchartButtonEl.classList.add('colab-df-spinner');\n",
              "      try {\n",
              "        const charts = await google.colab.kernel.invokeFunction(\n",
              "            'suggestCharts', [key], {});\n",
              "      } catch (error) {\n",
              "        console.error('Error during call to suggestCharts:', error);\n",
              "      }\n",
              "      quickchartButtonEl.classList.remove('colab-df-spinner');\n",
              "      quickchartButtonEl.classList.add('colab-df-quickchart-complete');\n",
              "    }\n",
              "    (() => {\n",
              "      let quickchartButtonEl =\n",
              "        document.querySelector('#df-dd39d97b-f240-4737-9443-2b4b5de6b7bc button');\n",
              "      quickchartButtonEl.style.display =\n",
              "        google.colab.kernel.accessAllowed ? 'block' : 'none';\n",
              "    })();\n",
              "  </script>\n",
              "</div>\n",
              "\n",
              "    </div>\n",
              "  </div>\n"
            ],
            "application/vnd.google.colaboratory.intrinsic+json": {
              "type": "dataframe",
              "variable_name": "data",
              "summary": "{\n  \"name\": \"data\",\n  \"rows\": 1042,\n  \"fields\": [\n    {\n      \"column\": \"IMPORTER\",\n      \"properties\": {\n        \"dtype\": \"category\",\n        \"num_unique_values\": 1,\n        \"samples\": [\n          \"Unknown\"\n        ],\n        \"semantic_type\": \"\",\n        \"description\": \"\"\n      }\n    },\n    {\n      \"column\": \"YEAR\",\n      \"properties\": {\n        \"dtype\": \"number\",\n        \"std\": 3.409615319591779,\n        \"min\": 2016.0,\n        \"max\": 2023.0,\n        \"num_unique_values\": 2,\n        \"samples\": [\n          2016.0\n        ],\n        \"semantic_type\": \"\",\n        \"description\": \"\"\n      }\n    },\n    {\n      \"column\": \"MONTH\",\n      \"properties\": {\n        \"dtype\": \"category\",\n        \"num_unique_values\": 12,\n        \"samples\": [\n          \"NOVEMBER\"\n        ],\n        \"semantic_type\": \"\",\n        \"description\": \"\"\n      }\n    },\n    {\n      \"column\": \"HSCODE\",\n      \"properties\": {\n        \"dtype\": \"number\",\n        \"std\": 1326226917,\n        \"min\": 280110,\n        \"max\": 3102909000,\n        \"num_unique_values\": 131,\n        \"samples\": [\n          2801200042\n        ],\n        \"semantic_type\": \"\",\n        \"description\": \"\"\n      }\n    },\n    {\n      \"column\": \"COUNTRY\",\n      \"properties\": {\n        \"dtype\": \"category\",\n        \"num_unique_values\": 66,\n        \"samples\": [\n          \"italy\"\n        ],\n        \"semantic_type\": \"\",\n        \"description\": \"\"\n      }\n    },\n    {\n      \"column\": \"UNIT\",\n      \"properties\": {\n        \"dtype\": \"category\",\n        \"num_unique_values\": 9,\n        \"samples\": [\n          \"Kg\"\n        ],\n        \"semantic_type\": \"\",\n        \"description\": \"\"\n      }\n    },\n    {\n      \"column\": \"QUANTITY\",\n      \"properties\": {\n        \"dtype\": \"number\",\n        \"std\": 235249.2208540277,\n        \"min\": 0.0,\n        \"max\": 4000000.0,\n        \"num_unique_values\": 359,\n        \"samples\": [\n          12282.0\n        ],\n        \"semantic_type\": \"\",\n        \"description\": \"\"\n      }\n    },\n    {\n      \"column\": \"VALUE_RS\",\n      \"properties\": {\n        \"dtype\": \"number\",\n        \"std\": 7946637.087226704,\n        \"min\": 0.0,\n        \"max\": 47271723.0,\n        \"num_unique_values\": 263,\n        \"samples\": [\n          37.58\n        ],\n        \"semantic_type\": \"\",\n        \"description\": \"\"\n      }\n    },\n    {\n      \"column\": \"DESCRIPTION_01\",\n      \"properties\": {\n        \"dtype\": \"category\",\n        \"num_unique_values\": 2,\n        \"samples\": [\n          \"Fertilizers\"\n        ],\n        \"semantic_type\": \"\",\n        \"description\": \"\"\n      }\n    },\n    {\n      \"column\": \"DESCRIPTION_02\",\n      \"properties\": {\n        \"dtype\": \"category\",\n        \"num_unique_values\": 15,\n        \"samples\": [\n          \"Hydrogen peroxide, whether or not solidified with urea.  \"\n        ],\n        \"semantic_type\": \"\",\n        \"description\": \"\"\n      }\n    },\n    {\n      \"column\": \"DESCRIPTION_03\",\n      \"properties\": {\n        \"dtype\": \"category\",\n        \"num_unique_values\": 17,\n        \"samples\": [\n          \"Chlorine\"\n        ],\n        \"semantic_type\": \"\",\n        \"description\": \"\"\n      }\n    }\n  ]\n}"
            }
          },
          "metadata": {},
          "execution_count": 511
        }
      ],
      "source": [
        "# Displaying the first few rows of the data\n",
        "data.head()"
      ]
    },
    {
      "cell_type": "markdown",
      "source": [
        "# **Exploratary Data Analysis**"
      ],
      "metadata": {
        "id": "ddYF66VFmWyp"
      }
    },
    {
      "cell_type": "code",
      "execution_count": 512,
      "metadata": {
        "id": "l0JSg4yoRrHl",
        "colab": {
          "base_uri": "https://localhost:8080/"
        },
        "outputId": "2051a82b-f9c0-4ddd-e461-726e7b3a3b73"
      },
      "outputs": [
        {
          "output_type": "stream",
          "name": "stdout",
          "text": [
            "Displaying data information\n",
            "<class 'pandas.core.frame.DataFrame'>\n",
            "RangeIndex: 1042 entries, 0 to 1041\n",
            "Data columns (total 11 columns):\n",
            " #   Column          Non-Null Count  Dtype  \n",
            "---  ------          --------------  -----  \n",
            " 0   IMPORTER        1042 non-null   object \n",
            " 1   YEAR            292 non-null    float64\n",
            " 2   MONTH           292 non-null    object \n",
            " 3   HSCODE          1042 non-null   int64  \n",
            " 4   COUNTRY         1038 non-null   object \n",
            " 5   UNIT            1042 non-null   object \n",
            " 6   QUANTITY        1039 non-null   float64\n",
            " 7   VALUE_RS        292 non-null    float64\n",
            " 8   DESCRIPTION_01  1042 non-null   object \n",
            " 9   DESCRIPTION_02  1042 non-null   object \n",
            " 10  DESCRIPTION_03  1042 non-null   object \n",
            "dtypes: float64(3), int64(1), object(7)\n",
            "memory usage: 89.7+ KB\n"
          ]
        }
      ],
      "source": [
        "# Displaying information\n",
        "print(\"Displaying data information\")\n",
        "data.info()"
      ]
    },
    {
      "cell_type": "markdown",
      "source": [
        "## **Identifying Categorical and Numerical Features**"
      ],
      "metadata": {
        "id": "tmIIo74ZmcQT"
      }
    },
    {
      "cell_type": "code",
      "execution_count": 513,
      "metadata": {
        "id": "EKJcjkaJRuce"
      },
      "outputs": [],
      "source": [
        "# Identifying categorical and numerical columns\n",
        "categorical_cols = data.select_dtypes(include=['object']).columns\n",
        "numerical_cols = data.select_dtypes(include=['int64', 'float64']).columns"
      ]
    },
    {
      "cell_type": "code",
      "execution_count": 514,
      "metadata": {
        "id": "lDQiGa86Rzue",
        "colab": {
          "base_uri": "https://localhost:8080/"
        },
        "outputId": "225a1eb2-edda-4580-ed09-7473cf663954"
      },
      "outputs": [
        {
          "output_type": "stream",
          "name": "stdout",
          "text": [
            "Categorical Columns:\n",
            "Index(['IMPORTER', 'MONTH', 'COUNTRY', 'UNIT', 'DESCRIPTION_01',\n",
            "       'DESCRIPTION_02', 'DESCRIPTION_03'],\n",
            "      dtype='object')\n",
            "\n",
            "Numerical Columns:\n",
            "Index(['YEAR', 'HSCODE', 'QUANTITY', 'VALUE_RS'], dtype='object')\n"
          ]
        }
      ],
      "source": [
        "# Displaying the Categorical and the Numerical columns'\n",
        "print(\"Categorical Columns:\")\n",
        "print(categorical_cols)\n",
        "\n",
        "print(\"\\nNumerical Columns:\")\n",
        "print(numerical_cols)"
      ]
    },
    {
      "cell_type": "markdown",
      "source": [
        "**Since 'HSCODE' column has been misintepreted as an int64 data type column due to the unavailability of data, reassigning it has an object type column.**"
      ],
      "metadata": {
        "id": "YsP7x7FimgSo"
      }
    },
    {
      "cell_type": "code",
      "execution_count": 515,
      "metadata": {
        "id": "O5WdVMqAR2h9",
        "colab": {
          "base_uri": "https://localhost:8080/"
        },
        "outputId": "3f1fdb4a-1578-4305-fc82-2357cf97a10f"
      },
      "outputs": [
        {
          "output_type": "stream",
          "name": "stdout",
          "text": [
            "Data Type of HSCODE Columns:\n",
            "HSCODE    object\n",
            "dtype: object\n"
          ]
        }
      ],
      "source": [
        "# Converting 'IMPORTER' and 'HSCODE' columns to string type\n",
        "data['HSCODE'] = data['HSCODE'].astype(str)\n",
        "\n",
        "# Displaying the HSCODE column data type\n",
        "print(\"Data Type of HSCODE Columns:\")\n",
        "print(data[['HSCODE']].dtypes)"
      ]
    },
    {
      "cell_type": "markdown",
      "source": [
        "### **Categorical Features**"
      ],
      "metadata": {
        "id": "OhKz7UydojR1"
      }
    },
    {
      "cell_type": "code",
      "execution_count": 516,
      "metadata": {
        "id": "wytyIHToR59b",
        "colab": {
          "base_uri": "https://localhost:8080/"
        },
        "outputId": "32ab1fee-b538-4a18-e0e2-416aed93ce47"
      },
      "outputs": [
        {
          "output_type": "stream",
          "name": "stdout",
          "text": [
            "Categorical Features:\n",
            "- IMPORTER\n",
            "- MONTH\n",
            "- COUNTRY\n",
            "- HSCODE\n",
            "- UNIT\n",
            "- DESCRIPTION_01\n",
            "- DESCRIPTION_02\n",
            "- DESCRIPTION_03\n",
            "\n",
            "Data Type of Categorical Features:\n",
            "IMPORTER          object\n",
            "MONTH             object\n",
            "COUNTRY           object\n",
            "HSCODE            object\n",
            "UNIT              object\n",
            "DESCRIPTION_01    object\n",
            "DESCRIPTION_02    object\n",
            "DESCRIPTION_03    object\n",
            "dtype: object\n"
          ]
        }
      ],
      "source": [
        "# List of categorical features\n",
        "categorical_features = ['IMPORTER', 'MONTH', 'COUNTRY', 'HSCODE', 'UNIT', 'DESCRIPTION_01', 'DESCRIPTION_02', 'DESCRIPTION_03']\n",
        "\n",
        "# Displaying the categorical features\n",
        "print(\"Categorical Features:\")\n",
        "for feature in categorical_features:\n",
        "    print(f\"- {feature}\")\n",
        "\n",
        "# Display data type of the columns\n",
        "print(\"\\nData Type of Categorical Features:\")\n",
        "print(data[categorical_features].dtypes)"
      ]
    },
    {
      "cell_type": "markdown",
      "source": [
        "**Unique values and their counts relevant to each categorical column**"
      ],
      "metadata": {
        "id": "aTWPEbd_oo_n"
      }
    },
    {
      "cell_type": "code",
      "execution_count": 517,
      "metadata": {
        "id": "S5cnbjbNR8Ym",
        "colab": {
          "base_uri": "https://localhost:8080/"
        },
        "outputId": "0feed2fa-bf87-4df2-9a63-1118607ad31f"
      },
      "outputs": [
        {
          "output_type": "stream",
          "name": "stdout",
          "text": [
            "Unique values and their count relevant to each categorical column:\n",
            "\n",
            "IMPORTER\n",
            "Unknown    1042\n",
            "Name: count, dtype: int64\n",
            " \n",
            "MONTH\n",
            "NOVEMBER     191\n",
            "FEBRUARY      13\n",
            "JULY          13\n",
            "MAY           11\n",
            "SEPTEMBER     11\n",
            "JANUARY       10\n",
            "JUNE           9\n",
            "AUGUST         8\n",
            "OCTOBER        8\n",
            "MARCH          6\n",
            "APRIL          6\n",
            "DECEMBER       6\n",
            "Name: count, dtype: int64\n",
            " \n",
            "COUNTRY\n",
            "Vietnam    299\n",
            "Russia     109\n",
            "Kenya       71\n",
            "Ukraine     58\n",
            "germany     51\n",
            "          ... \n",
            "U.S.A.       1\n",
            "Mexico       1\n",
            "CANADA       1\n",
            "India        1\n",
            "Romania      1\n",
            "Name: count, Length: 66, dtype: int64\n",
            " \n",
            "HSCODE\n",
            "28070010      85\n",
            "2847000000    84\n",
            "28080000      67\n",
            "3102401000    58\n",
            "28291100      54\n",
            "              ..\n",
            "2801200032     1\n",
            "2801200031     1\n",
            "2801200030     1\n",
            "2801200029     1\n",
            "2812101100     1\n",
            "Name: count, Length: 131, dtype: int64\n",
            " \n",
            "UNIT\n",
            "Kg     750\n",
            "Kg.    112\n",
            "KGS     47\n",
            "PCS     39\n",
            "NOS     33\n",
            "GMS     23\n",
            "MTS     19\n",
            "LTR     18\n",
            "DRM      1\n",
            "Name: count, dtype: int64\n",
            " \n",
            "DESCRIPTION_01\n",
            "Inorganic chemicals; Organic or inorganic compounds of precious metals, of rare earth metals, of radioactive elements or of isotopes    922\n",
            "Fertilizers                                                                                                                             120\n",
            "Name: count, dtype: int64\n",
            " \n",
            "DESCRIPTION_02\n",
            "Chlorates and perchlorates; bromates and perbromates; iodates and periodates                            120\n",
            "Mineral or chemical fertilizers, nitrogenous                                                            120\n",
            "Sulphuric acid; oleum                                                                                   120\n",
            "Halides and halide oxides of non metals                                                                 120\n",
            "Fluorides; fluorosilicates, fluoroaluminates, and other complex fluorine salts                          116\n",
            "Hydrogen peroxide, whether or not solidified with urea.                                                 110\n",
            "Nitric acid; sulphonitric acids.                                                                        100\n",
            "Fluorine, chlorine, bromine and iodine                                                                   64\n",
            "Nitric acid; sulphonitric acids.                                                                  ..     36\n",
            "Hydrogen peroxide, whether or not solidified with urea.                                           ..     35\n",
            "Fluorine, chlorine, bromine and iodine                                                            ..     34\n",
            "Nitric acid; sulphonitric acids.                                                                         20\n",
            "Fluorine, chlorine, bromine and iodine                                                                   20\n",
            "Cyanides, cyanide oxides and complex cyanides.                                                           20\n",
            "Cyanides, cyanide oxides and complex cyanides.                                                    ..      7\n",
            "Name: count, dtype: int64\n",
            " \n",
            "DESCRIPTION_03\n",
            "Halides and halide oxides of non metals                                           120\n",
            "Sulphuric acid; oleum                                                             120\n",
            "Mineral or chemical fertilizers, nitrogenous                                      120\n",
            "Chlorates and perchlorates; bromates and perbromates; iodates and periodates      120\n",
            "Fluorides; fluorosilicates, fluoroaluminates, and other complex fluorine salts    116\n",
            "Hydrogen peroxide, whether or not solidified with urea.                           110\n",
            "Nitric acid; sulphonitric acids.                                                  100\n",
            "Iodine                                                                             80\n",
            "Nitric acid; sulphonitric acids                                                    36\n",
            "Hydrogen peroxide, whether or not solidified with urea.                            35\n",
            "Chlorine                                                                           34\n",
            "Nitric acid; sulphonitric acids.                                                   20\n",
            "Cyanides and cyanide oxides : Of sodium                                            11\n",
            "Cyanides and cyanide oxides : Other                                                10\n",
            "- Cyanides and cyanide oxides : Other                                               4\n",
            "Bromine                                                                             4\n",
            "- Cyanides and cyanide oxides : Of sodium                                           2\n",
            "Name: count, dtype: int64\n",
            " \n"
          ]
        }
      ],
      "source": [
        "# Displaying the unique values and their counts relevant to each categorical column\n",
        "print(\"Unique values and their count relevant to each categorical column:\\n\")\n",
        "for col in categorical_features:\n",
        "    unique_values = data[col].unique()\n",
        "    value_counts = data[col].value_counts()\n",
        "    print(value_counts)\n",
        "    print(\" \")"
      ]
    },
    {
      "cell_type": "markdown",
      "source": [
        "**Categorical columns with null values and their relevant counts**"
      ],
      "metadata": {
        "id": "lkUggp0YpI_j"
      }
    },
    {
      "cell_type": "code",
      "execution_count": 518,
      "metadata": {
        "id": "UIrR9X6OR_OD",
        "colab": {
          "base_uri": "https://localhost:8080/"
        },
        "outputId": "00063b0e-854f-45f2-ac41-6cdb7c8eb8c4"
      },
      "outputs": [
        {
          "output_type": "stream",
          "name": "stdout",
          "text": [
            "Categorical columns with null values and their counts:\n",
            "MONTH: 750\n",
            "COUNTRY: 4\n"
          ]
        }
      ],
      "source": [
        "# Displaying the categorical columns which contains null values and their counts\n",
        "print(\"Categorical columns with null values and their counts:\")\n",
        "for col in categorical_features:\n",
        "    null_count = data[col].isnull().sum()\n",
        "    if null_count > 0:\n",
        "        print(f\"{col}: {null_count}\")"
      ]
    },
    {
      "cell_type": "markdown",
      "source": [
        "**Categorical columns with 'Unknown' values and their relevant counts**"
      ],
      "metadata": {
        "id": "5eJWoeKkpPaJ"
      }
    },
    {
      "cell_type": "code",
      "execution_count": 519,
      "metadata": {
        "id": "ooeL5t2MSBgx",
        "colab": {
          "base_uri": "https://localhost:8080/"
        },
        "outputId": "de9d2fd8-7071-419a-de4a-dd5293cfc8d3"
      },
      "outputs": [
        {
          "output_type": "stream",
          "name": "stdout",
          "text": [
            "Categorical columns with 'Unknown' values and their counts:\n",
            "IMPORTER: 1042\n"
          ]
        }
      ],
      "source": [
        "# Displaying the categorical columns which contain 'Unknown' values and their relevant counts\n",
        "print(\"Categorical columns with 'Unknown' values and their counts:\")\n",
        "for col in categorical_features:\n",
        "    unknown_count = (data[col] == 'Unknown').sum()\n",
        "    if unknown_count > 0:\n",
        "        print(f\"{col}: {unknown_count}\")"
      ]
    },
    {
      "cell_type": "markdown",
      "source": [
        "## **Numerical Features**"
      ],
      "metadata": {
        "id": "oaAlkEI5pWK7"
      }
    },
    {
      "cell_type": "markdown",
      "source": [
        "**Since 'Year' column has been misintepreted as a float64 data type column reassigning it as a int64 type column**"
      ],
      "metadata": {
        "id": "b8YbE2q2pZQ3"
      }
    },
    {
      "cell_type": "code",
      "execution_count": 520,
      "metadata": {
        "id": "Ce0s8spZSEr0"
      },
      "outputs": [],
      "source": [
        "# Converting the 'Year' column to int64 data type\n",
        "# data['YEAR'] = data['YEAR'].astype(int)\n",
        "\n",
        "# Displaying the data type of the 'Year' column\n",
        "# print(\"Data Type of 'Year' Column:\")\n",
        "# print(data['YEAR'].dtype)"
      ]
    },
    {
      "cell_type": "markdown",
      "source": [
        "**The conversion cannot be done since the column contains missing values (both N/A and null values)**"
      ],
      "metadata": {
        "id": "A4C_Vzbppe4w"
      }
    },
    {
      "cell_type": "code",
      "execution_count": 521,
      "metadata": {
        "id": "iTCh_JNLSHqw",
        "colab": {
          "base_uri": "https://localhost:8080/"
        },
        "outputId": "09794fd9-96dc-4360-be38-fbe90565eb75"
      },
      "outputs": [
        {
          "output_type": "stream",
          "name": "stdout",
          "text": [
            "Numerical Features:\n",
            "- YEAR\n",
            "- QUANTITY\n",
            "- VALUE_RS\n",
            "\n",
            "Data Type of Numerical Features:\n",
            "YEAR        float64\n",
            "QUANTITY    float64\n",
            "VALUE_RS    float64\n",
            "dtype: object\n"
          ]
        }
      ],
      "source": [
        "# List of numerical features\n",
        "numerical_features = ['YEAR', 'QUANTITY', 'VALUE_RS']\n",
        "\n",
        "# Displaying the numerical features\n",
        "print(\"Numerical Features:\")\n",
        "for feature in numerical_features:\n",
        "    print(f\"- {feature}\")\n",
        "\n",
        "# Display the data type of the numerical features\n",
        "print(\"\\nData Type of Numerical Features:\")\n",
        "print(data[numerical_features].dtypes)"
      ]
    },
    {
      "cell_type": "markdown",
      "source": [
        "**Unique values and their counts in the numerical columns**"
      ],
      "metadata": {
        "id": "odxlwxWRplVq"
      }
    },
    {
      "cell_type": "code",
      "execution_count": 522,
      "metadata": {
        "id": "CT0tHUB-SKL3",
        "colab": {
          "base_uri": "https://localhost:8080/"
        },
        "outputId": "85a131dd-a060-4033-dd1d-aa4f2e91d523"
      },
      "outputs": [
        {
          "output_type": "stream",
          "name": "stdout",
          "text": [
            "Unique values and their count in the numerical columns:\n",
            "\n",
            "YEAR\n",
            "2016.0    180\n",
            "2023.0    112\n",
            "Name: count, dtype: int64\n",
            " \n",
            "QUANTITY\n",
            "1000.0     55\n",
            "1.0        49\n",
            "16200.0    40\n",
            "5.0        31\n",
            "27.0       28\n",
            "           ..\n",
            "204.0       1\n",
            "23200.0     1\n",
            "22820.0     1\n",
            "22560.0     1\n",
            "19050.0     1\n",
            "Name: count, Length: 359, dtype: int64\n",
            " \n",
            "VALUE_RS\n",
            "0.40           4\n",
            "53.79          3\n",
            "188.55         3\n",
            "0.20           3\n",
            "21.15          2\n",
            "              ..\n",
            "350598.00      1\n",
            "2213950.00     1\n",
            "10318355.00    1\n",
            "24988179.00    1\n",
            "0.68           1\n",
            "Name: count, Length: 263, dtype: int64\n",
            " \n"
          ]
        }
      ],
      "source": [
        "# Displaying the unique values and their count in the numerical columns\n",
        "print(\"Unique values and their count in the numerical columns:\\n\")\n",
        "for col in numerical_features:\n",
        "    unique_values = data[col].unique()\n",
        "    value_counts = data[col].value_counts()\n",
        "    print(value_counts)\n",
        "    print(\" \")"
      ]
    },
    {
      "cell_type": "markdown",
      "source": [
        "**Numerical columns with null values and their relevant counts**"
      ],
      "metadata": {
        "id": "PFckVAa-psxR"
      }
    },
    {
      "cell_type": "code",
      "execution_count": 523,
      "metadata": {
        "id": "mL2TVR5VSMv5",
        "colab": {
          "base_uri": "https://localhost:8080/"
        },
        "outputId": "2af85ec6-6eff-4e45-bc59-b707f0d3391f"
      },
      "outputs": [
        {
          "output_type": "stream",
          "name": "stdout",
          "text": [
            "Numerical columns with null values and their relevant counts:\n",
            "YEAR: 750\n",
            "QUANTITY: 3\n",
            "VALUE_RS: 750\n"
          ]
        }
      ],
      "source": [
        "# Displaying the numerical columns with null values and their relevant counts\n",
        "print(\"Numerical columns with null values and their relevant counts:\")\n",
        "for col in numerical_cols:\n",
        "    null_count = data[col].isnull().sum()\n",
        "    if null_count > 0:\n",
        "        print(f\"{col}: {null_count}\")"
      ]
    },
    {
      "cell_type": "markdown",
      "source": [
        "# **Data Preprocessing**"
      ],
      "metadata": {
        "id": "9NWsfqKMpxEH"
      }
    },
    {
      "cell_type": "markdown",
      "source": [
        "## **Data Cleaning**"
      ],
      "metadata": {
        "id": "OAS4qv9Np0UY"
      }
    },
    {
      "cell_type": "code",
      "execution_count": 524,
      "metadata": {
        "id": "CEra36rPSPBF"
      },
      "outputs": [],
      "source": [
        "# Step 1: Removing whitespaces from the object type columns\n",
        "object_columns = data.select_dtypes(include=['object']).columns\n",
        "data[object_columns] = data[object_columns].apply(lambda x: x.str.strip())"
      ]
    },
    {
      "cell_type": "code",
      "execution_count": 525,
      "metadata": {
        "id": "X08Ns0uwSRFn"
      },
      "outputs": [],
      "source": [
        "# Step 2: Removing unnecessary full stops(\".\") from the categorical columns\n",
        "data[categorical_cols] = data[categorical_cols].apply(lambda x: x.str.replace('.', ''))"
      ]
    },
    {
      "cell_type": "code",
      "execution_count": 526,
      "metadata": {
        "id": "NCTf04M2r0r5"
      },
      "outputs": [],
      "source": [
        "# Step 3: Removing unnecessary special characters and trailing spaces from the 'DESCRIPTION_03' column\n",
        "# Removing the leading hyphen\n",
        "data['DESCRIPTION_03'] = data['DESCRIPTION_03'].str.lstrip('-')\n",
        "\n",
        "# Removing trailing spaces\n",
        "data['DESCRIPTION_03'] = data['DESCRIPTION_03'].str.strip()"
      ]
    },
    {
      "cell_type": "code",
      "execution_count": 527,
      "metadata": {
        "id": "7ILWIdOS0OfY"
      },
      "outputs": [],
      "source": [
        "# Step 4: Removing trailing spaces for the entire 'DESCRIPTION_02' column\n",
        "data['DESCRIPTION_02'] = data['DESCRIPTION_02'].str.strip()"
      ]
    },
    {
      "cell_type": "code",
      "execution_count": 528,
      "metadata": {
        "id": "ERYwXLY0STrB",
        "colab": {
          "base_uri": "https://localhost:8080/"
        },
        "outputId": "4d334e0a-0e48-4c1f-811a-baf284aef647"
      },
      "outputs": [
        {
          "output_type": "stream",
          "name": "stdout",
          "text": [
            "Unique values and their count relevant to each categorical column:\n",
            "\n",
            "IMPORTER\n",
            "Unknown    1042\n",
            "Name: count, dtype: int64\n",
            " \n",
            "MONTH\n",
            "NOVEMBER     191\n",
            "FEBRUARY      13\n",
            "JULY          13\n",
            "MAY           11\n",
            "SEPTEMBER     11\n",
            "JANUARY       10\n",
            "JUNE           9\n",
            "AUGUST         8\n",
            "OCTOBER        8\n",
            "MARCH          6\n",
            "APRIL          6\n",
            "DECEMBER       6\n",
            "Name: count, dtype: int64\n",
            " \n",
            "COUNTRY\n",
            "Vietnam    299\n",
            "Russia     109\n",
            "Kenya       71\n",
            "Ukraine     58\n",
            "germany     51\n",
            "          ... \n",
            "USA          1\n",
            "Mexico       1\n",
            "CANADA       1\n",
            "India        1\n",
            "Romania      1\n",
            "Name: count, Length: 66, dtype: int64\n",
            " \n",
            "HSCODE\n",
            "28070010      85\n",
            "2847000000    84\n",
            "28080000      67\n",
            "3102401000    58\n",
            "28291100      54\n",
            "              ..\n",
            "2801200032     1\n",
            "2801200031     1\n",
            "2801200030     1\n",
            "2801200029     1\n",
            "2812101100     1\n",
            "Name: count, Length: 131, dtype: int64\n",
            " \n",
            "UNIT\n",
            "Kg     862\n",
            "KGS     47\n",
            "PCS     39\n",
            "NOS     33\n",
            "GMS     23\n",
            "MTS     19\n",
            "LTR     18\n",
            "DRM      1\n",
            "Name: count, dtype: int64\n",
            " \n",
            "DESCRIPTION_01\n",
            "Inorganic chemicals; Organic or inorganic compounds of precious metals, of rare earth metals, of radioactive elements or of isotopes    922\n",
            "Fertilizers                                                                                                                             120\n",
            "Name: count, dtype: int64\n",
            " \n",
            "DESCRIPTION_02\n",
            "Nitric acid; sulphonitric acids                                                   156\n",
            "Hydrogen peroxide, whether or not solidified with urea                            145\n",
            "Chlorates and perchlorates; bromates and perbromates; iodates and periodates      120\n",
            "Mineral or chemical fertilizers, nitrogenous                                      120\n",
            "Sulphuric acid; oleum                                                             120\n",
            "Halides and halide oxides of non metals                                           120\n",
            "Fluorine, chlorine, bromine and iodine                                            118\n",
            "Fluorides; fluorosilicates, fluoroaluminates, and other complex fluorine salts    116\n",
            "Cyanides, cyanide oxides and complex cyanides                                      27\n",
            "Name: count, dtype: int64\n",
            " \n",
            "DESCRIPTION_03\n",
            "Nitric acid; sulphonitric acids                                                   156\n",
            "Hydrogen peroxide, whether or not solidified with urea                            145\n",
            "Chlorates and perchlorates; bromates and perbromates; iodates and periodates      120\n",
            "Mineral or chemical fertilizers, nitrogenous                                      120\n",
            "Sulphuric acid; oleum                                                             120\n",
            "Halides and halide oxides of non metals                                           120\n",
            "Fluorides; fluorosilicates, fluoroaluminates, and other complex fluorine salts    116\n",
            "Iodine                                                                             80\n",
            "Chlorine                                                                           34\n",
            "Cyanides and cyanide oxides : Other                                                14\n",
            "Cyanides and cyanide oxides : Of sodium                                            13\n",
            "Bromine                                                                             4\n",
            "Name: count, dtype: int64\n",
            " \n"
          ]
        }
      ],
      "source": [
        "# Displaying the unique values and their counts relevant to each categorical column\n",
        "print(\"Unique values and their count relevant to each categorical column:\\n\")\n",
        "for col in categorical_features:\n",
        "    unique_values = data[col].unique()\n",
        "    value_counts = data[col].value_counts()\n",
        "    print(value_counts)\n",
        "    print(\" \")"
      ]
    },
    {
      "cell_type": "code",
      "execution_count": 529,
      "metadata": {
        "id": "9WRCVTgJSXZ1",
        "colab": {
          "base_uri": "https://localhost:8080/"
        },
        "outputId": "c217c756-2443-4436-d380-38f149d89ef4"
      },
      "outputs": [
        {
          "output_type": "stream",
          "name": "stdout",
          "text": [
            "     IMPORTER    YEAR     MONTH      HSCODE      COUNTRY UNIT  QUANTITY  \\\n",
            "0     Unknown  2023.0   JANUARY      280110   BANGLADESH   KG  131600.0   \n",
            "1     Unknown  2023.0   JANUARY      280110        INDIA   KG   37800.0   \n",
            "2     Unknown  2023.0   JANUARY      280110     MALAYSIA   KG   12090.0   \n",
            "3     Unknown  2023.0  FEBRUARY      280110   BANGLADESH   KG   25200.0   \n",
            "4     Unknown  2023.0  FEBRUARY      280110        INDIA   KG   75599.0   \n",
            "...       ...     ...       ...         ...          ...  ...       ...   \n",
            "1037  Unknown     NaN       NaN    28121047  SOUTH KOREA   KG   16200.0   \n",
            "1038  Unknown     NaN       NaN    28121047  SOUTH KOREA   KG   16200.0   \n",
            "1039  Unknown     NaN       NaN  2812109900      UKRAINE   KG       NaN   \n",
            "1040  Unknown     NaN       NaN  2812109900      UKRAINE   KG       NaN   \n",
            "1041  Unknown     NaN       NaN    28121047  SOUTH KOREA   KG   16200.0   \n",
            "\n",
            "        VALUE_RS                                     DESCRIPTION_01  \\\n",
            "0     13877114.0  Inorganic chemicals; Organic or inorganic comp...   \n",
            "1      3924989.0  Inorganic chemicals; Organic or inorganic comp...   \n",
            "2      5390772.0  Inorganic chemicals; Organic or inorganic comp...   \n",
            "3      3089445.0  Inorganic chemicals; Organic or inorganic comp...   \n",
            "4      6939860.0  Inorganic chemicals; Organic or inorganic comp...   \n",
            "...          ...                                                ...   \n",
            "1037         NaN  Inorganic chemicals; Organic or inorganic comp...   \n",
            "1038         NaN  Inorganic chemicals; Organic or inorganic comp...   \n",
            "1039         NaN  Inorganic chemicals; Organic or inorganic comp...   \n",
            "1040         NaN  Inorganic chemicals; Organic or inorganic comp...   \n",
            "1041         NaN  Inorganic chemicals; Organic or inorganic comp...   \n",
            "\n",
            "                               DESCRIPTION_02  \\\n",
            "0      Fluorine, chlorine, bromine and iodine   \n",
            "1      Fluorine, chlorine, bromine and iodine   \n",
            "2      Fluorine, chlorine, bromine and iodine   \n",
            "3      Fluorine, chlorine, bromine and iodine   \n",
            "4      Fluorine, chlorine, bromine and iodine   \n",
            "...                                       ...   \n",
            "1037  Halides and halide oxides of non metals   \n",
            "1038  Halides and halide oxides of non metals   \n",
            "1039  Halides and halide oxides of non metals   \n",
            "1040  Halides and halide oxides of non metals   \n",
            "1041  Halides and halide oxides of non metals   \n",
            "\n",
            "                               DESCRIPTION_03  \n",
            "0                                    Chlorine  \n",
            "1                                    Chlorine  \n",
            "2                                    Chlorine  \n",
            "3                                    Chlorine  \n",
            "4                                    Chlorine  \n",
            "...                                       ...  \n",
            "1037  Halides and halide oxides of non metals  \n",
            "1038  Halides and halide oxides of non metals  \n",
            "1039  Halides and halide oxides of non metals  \n",
            "1040  Halides and halide oxides of non metals  \n",
            "1041  Halides and halide oxides of non metals  \n",
            "\n",
            "[1042 rows x 11 columns]\n"
          ]
        }
      ],
      "source": [
        "# Step 5: Converting all the values in the 'COUNTRY' and the 'UNIT' columns to uppercase values\n",
        "data['COUNTRY'] = data['COUNTRY'].str.upper()\n",
        "data['UNIT'] = data['UNIT'].str.upper()\n",
        "\n",
        "# Displaying the modified dataset\n",
        "print(data)"
      ]
    },
    {
      "cell_type": "code",
      "execution_count": 530,
      "metadata": {
        "id": "HJk0FvSvSaLk",
        "colab": {
          "base_uri": "https://localhost:8080/"
        },
        "outputId": "7d9b93a3-268b-49b8-b197-359ce6cda841"
      },
      "outputs": [
        {
          "output_type": "stream",
          "name": "stdout",
          "text": [
            "     IMPORTER    YEAR     MONTH      HSCODE      COUNTRY UNIT  QUANTITY  \\\n",
            "0     Unknown  2023.0   JANUARY      280110   BANGLADESH   KG  131600.0   \n",
            "1     Unknown  2023.0   JANUARY      280110        INDIA   KG   37800.0   \n",
            "2     Unknown  2023.0   JANUARY      280110     MALAYSIA   KG   12090.0   \n",
            "3     Unknown  2023.0  FEBRUARY      280110   BANGLADESH   KG   25200.0   \n",
            "4     Unknown  2023.0  FEBRUARY      280110        INDIA   KG   75599.0   \n",
            "...       ...     ...       ...         ...          ...  ...       ...   \n",
            "1037  Unknown     NaN       NaN    28121047  SOUTH KOREA   KG   16200.0   \n",
            "1038  Unknown     NaN       NaN    28121047  SOUTH KOREA   KG   16200.0   \n",
            "1039  Unknown     NaN       NaN  2812109900      UKRAINE   KG       NaN   \n",
            "1040  Unknown     NaN       NaN  2812109900      UKRAINE   KG       NaN   \n",
            "1041  Unknown     NaN       NaN    28121047  SOUTH KOREA   KG   16200.0   \n",
            "\n",
            "        VALUE_RS                                     DESCRIPTION_01  \\\n",
            "0     13877114.0  Inorganic chemicals; Organic or inorganic comp...   \n",
            "1      3924989.0  Inorganic chemicals; Organic or inorganic comp...   \n",
            "2      5390772.0  Inorganic chemicals; Organic or inorganic comp...   \n",
            "3      3089445.0  Inorganic chemicals; Organic or inorganic comp...   \n",
            "4      6939860.0  Inorganic chemicals; Organic or inorganic comp...   \n",
            "...          ...                                                ...   \n",
            "1037         NaN  Inorganic chemicals; Organic or inorganic comp...   \n",
            "1038         NaN  Inorganic chemicals; Organic or inorganic comp...   \n",
            "1039         NaN  Inorganic chemicals; Organic or inorganic comp...   \n",
            "1040         NaN  Inorganic chemicals; Organic or inorganic comp...   \n",
            "1041         NaN  Inorganic chemicals; Organic or inorganic comp...   \n",
            "\n",
            "                               DESCRIPTION_02  \\\n",
            "0      Fluorine, chlorine, bromine and iodine   \n",
            "1      Fluorine, chlorine, bromine and iodine   \n",
            "2      Fluorine, chlorine, bromine and iodine   \n",
            "3      Fluorine, chlorine, bromine and iodine   \n",
            "4      Fluorine, chlorine, bromine and iodine   \n",
            "...                                       ...   \n",
            "1037  Halides and halide oxides of non metals   \n",
            "1038  Halides and halide oxides of non metals   \n",
            "1039  Halides and halide oxides of non metals   \n",
            "1040  Halides and halide oxides of non metals   \n",
            "1041  Halides and halide oxides of non metals   \n",
            "\n",
            "                               DESCRIPTION_03  \n",
            "0                                    Chlorine  \n",
            "1                                    Chlorine  \n",
            "2                                    Chlorine  \n",
            "3                                    Chlorine  \n",
            "4                                    Chlorine  \n",
            "...                                       ...  \n",
            "1037  Halides and halide oxides of non metals  \n",
            "1038  Halides and halide oxides of non metals  \n",
            "1039  Halides and halide oxides of non metals  \n",
            "1040  Halides and halide oxides of non metals  \n",
            "1041  Halides and halide oxides of non metals  \n",
            "\n",
            "[1042 rows x 11 columns]\n"
          ]
        }
      ],
      "source": [
        "# Step 6: Converting the 'KGS' values in the 'Unit' columns to 'KG'\n",
        "data.loc[data['UNIT'] == 'KGS', 'UNIT'] = 'KG'\n",
        "\n",
        "# Displaying the modified dataset\n",
        "print(data)"
      ]
    },
    {
      "cell_type": "code",
      "execution_count": 531,
      "metadata": {
        "id": "r6dhxlqYSdO_",
        "colab": {
          "base_uri": "https://localhost:8080/"
        },
        "outputId": "3ab20bb4-5af6-4d78-98e3-adca9b2113da"
      },
      "outputs": [
        {
          "output_type": "stream",
          "name": "stdout",
          "text": [
            "     IMPORTER    YEAR     MONTH      HSCODE      COUNTRY UNIT  QUANTITY  \\\n",
            "0     Unknown  2023.0   JANUARY  2801100000   BANGLADESH   KG  131600.0   \n",
            "1     Unknown  2023.0   JANUARY  2801100000        INDIA   KG   37800.0   \n",
            "2     Unknown  2023.0   JANUARY  2801100000     MALAYSIA   KG   12090.0   \n",
            "3     Unknown  2023.0  FEBRUARY  2801100000   BANGLADESH   KG   25200.0   \n",
            "4     Unknown  2023.0  FEBRUARY  2801100000        INDIA   KG   75599.0   \n",
            "...       ...     ...       ...         ...          ...  ...       ...   \n",
            "1037  Unknown     NaN       NaN  2812104700  SOUTH KOREA   KG   16200.0   \n",
            "1038  Unknown     NaN       NaN  2812104700  SOUTH KOREA   KG   16200.0   \n",
            "1039  Unknown     NaN       NaN  2812109900      UKRAINE   KG       NaN   \n",
            "1040  Unknown     NaN       NaN  2812109900      UKRAINE   KG       NaN   \n",
            "1041  Unknown     NaN       NaN  2812104700  SOUTH KOREA   KG   16200.0   \n",
            "\n",
            "        VALUE_RS                                     DESCRIPTION_01  \\\n",
            "0     13877114.0  Inorganic chemicals; Organic or inorganic comp...   \n",
            "1      3924989.0  Inorganic chemicals; Organic or inorganic comp...   \n",
            "2      5390772.0  Inorganic chemicals; Organic or inorganic comp...   \n",
            "3      3089445.0  Inorganic chemicals; Organic or inorganic comp...   \n",
            "4      6939860.0  Inorganic chemicals; Organic or inorganic comp...   \n",
            "...          ...                                                ...   \n",
            "1037         NaN  Inorganic chemicals; Organic or inorganic comp...   \n",
            "1038         NaN  Inorganic chemicals; Organic or inorganic comp...   \n",
            "1039         NaN  Inorganic chemicals; Organic or inorganic comp...   \n",
            "1040         NaN  Inorganic chemicals; Organic or inorganic comp...   \n",
            "1041         NaN  Inorganic chemicals; Organic or inorganic comp...   \n",
            "\n",
            "                               DESCRIPTION_02  \\\n",
            "0      Fluorine, chlorine, bromine and iodine   \n",
            "1      Fluorine, chlorine, bromine and iodine   \n",
            "2      Fluorine, chlorine, bromine and iodine   \n",
            "3      Fluorine, chlorine, bromine and iodine   \n",
            "4      Fluorine, chlorine, bromine and iodine   \n",
            "...                                       ...   \n",
            "1037  Halides and halide oxides of non metals   \n",
            "1038  Halides and halide oxides of non metals   \n",
            "1039  Halides and halide oxides of non metals   \n",
            "1040  Halides and halide oxides of non metals   \n",
            "1041  Halides and halide oxides of non metals   \n",
            "\n",
            "                               DESCRIPTION_03  \n",
            "0                                    Chlorine  \n",
            "1                                    Chlorine  \n",
            "2                                    Chlorine  \n",
            "3                                    Chlorine  \n",
            "4                                    Chlorine  \n",
            "...                                       ...  \n",
            "1037  Halides and halide oxides of non metals  \n",
            "1038  Halides and halide oxides of non metals  \n",
            "1039  Halides and halide oxides of non metals  \n",
            "1040  Halides and halide oxides of non metals  \n",
            "1041  Halides and halide oxides of non metals  \n",
            "\n",
            "[1042 rows x 11 columns]\n"
          ]
        }
      ],
      "source": [
        "# Step 7: Handling the HSCODES\n",
        "\n",
        "# Checking the length of the HSCODES and determining the maximum length\n",
        "data['HSCODE_LENGTH'] = data['HSCODE'].apply(len)\n",
        "max_length = data['HSCODE_LENGTH'].max()\n",
        "\n",
        "# Padding HSCODE values with trailing zeros to match the maximum length\n",
        "data['HSCODE'] = data['HSCODE'].apply(lambda x: x.ljust(max_length, '0'))\n",
        "\n",
        "# Dropping the helper column 'HSCODE_LENGTH' as it's no longer needed\n",
        "data.drop(columns=['HSCODE_LENGTH'], inplace=True)\n",
        "\n",
        "# Displaying the modified dataset\n",
        "print(data)"
      ]
    },
    {
      "cell_type": "code",
      "execution_count": 532,
      "metadata": {
        "id": "BZ5JxIXg6fcG",
        "colab": {
          "base_uri": "https://localhost:8080/"
        },
        "outputId": "545dd362-5873-4874-babe-6eba6b06ecf0"
      },
      "outputs": [
        {
          "output_type": "stream",
          "name": "stdout",
          "text": [
            "     IMPORTER    YEAR     MONTH      HSCODE      COUNTRY UNIT  QUANTITY  \\\n",
            "0     Unknown  2023.0   JANUARY  2801100000   BANGLADESH   KG  131600.0   \n",
            "1     Unknown  2023.0   JANUARY  2801100000        INDIA   KG   37800.0   \n",
            "2     Unknown  2023.0   JANUARY  2801100000     MALAYSIA   KG   12090.0   \n",
            "3     Unknown  2023.0  FEBRUARY  2801100000   BANGLADESH   KG   25200.0   \n",
            "4     Unknown  2023.0  FEBRUARY  2801100000        INDIA   KG   75599.0   \n",
            "...       ...     ...       ...         ...          ...  ...       ...   \n",
            "1037  Unknown     NaN       NaN  2812104700  SOUTH KOREA   KG   16200.0   \n",
            "1038  Unknown     NaN       NaN  2812104700  SOUTH KOREA   KG   16200.0   \n",
            "1039  Unknown     NaN       NaN  2812109900      UKRAINE   KG       NaN   \n",
            "1040  Unknown     NaN       NaN  2812109900      UKRAINE   KG       NaN   \n",
            "1041  Unknown     NaN       NaN  2812104700  SOUTH KOREA   KG   16200.0   \n",
            "\n",
            "        VALUE_RS                                     DESCRIPTION_01  \\\n",
            "0     13877114.0  Inorganic chemicals; Organic or inorganic comp...   \n",
            "1      3924989.0  Inorganic chemicals; Organic or inorganic comp...   \n",
            "2      5390772.0  Inorganic chemicals; Organic or inorganic comp...   \n",
            "3      3089445.0  Inorganic chemicals; Organic or inorganic comp...   \n",
            "4      6939860.0  Inorganic chemicals; Organic or inorganic comp...   \n",
            "...          ...                                                ...   \n",
            "1037         NaN  Inorganic chemicals; Organic or inorganic comp...   \n",
            "1038         NaN  Inorganic chemicals; Organic or inorganic comp...   \n",
            "1039         NaN  Inorganic chemicals; Organic or inorganic comp...   \n",
            "1040         NaN  Inorganic chemicals; Organic or inorganic comp...   \n",
            "1041         NaN  Inorganic chemicals; Organic or inorganic comp...   \n",
            "\n",
            "                               DESCRIPTION_02  \\\n",
            "0      Fluorine, chlorine, bromine and iodine   \n",
            "1      Fluorine, chlorine, bromine and iodine   \n",
            "2      Fluorine, chlorine, bromine and iodine   \n",
            "3      Fluorine, chlorine, bromine and iodine   \n",
            "4      Fluorine, chlorine, bromine and iodine   \n",
            "...                                       ...   \n",
            "1037  Halides and halide oxides of non metals   \n",
            "1038  Halides and halide oxides of non metals   \n",
            "1039  Halides and halide oxides of non metals   \n",
            "1040  Halides and halide oxides of non metals   \n",
            "1041  Halides and halide oxides of non metals   \n",
            "\n",
            "                               DESCRIPTION_03  \n",
            "0                                    Chlorine  \n",
            "1                                    Chlorine  \n",
            "2                                    Chlorine  \n",
            "3                                    Chlorine  \n",
            "4                                    Chlorine  \n",
            "...                                       ...  \n",
            "1037  Halides and halide oxides of non metals  \n",
            "1038  Halides and halide oxides of non metals  \n",
            "1039  Halides and halide oxides of non metals  \n",
            "1040  Halides and halide oxides of non metals  \n",
            "1041  Halides and halide oxides of non metals  \n",
            "\n",
            "[1042 rows x 11 columns]\n"
          ]
        }
      ],
      "source": [
        "# Step 8: Handling the 'COUNTRY' Column\n",
        "\n",
        "# Replacing specific country names\n",
        "data['COUNTRY'] = data['COUNTRY'].replace({\n",
        "    'United States': 'USA',\n",
        "    'United States of America': 'USA',\n",
        "    'United Kingdom': 'UK',\n",
        "    'Korea, Republic of': 'South Korea'\n",
        "})\n",
        "\n",
        "print(data)"
      ]
    },
    {
      "cell_type": "code",
      "execution_count": 533,
      "metadata": {
        "id": "zxPMdYRKSivJ",
        "colab": {
          "base_uri": "https://localhost:8080/"
        },
        "outputId": "517fdc16-6cfc-4313-b686-c6457e74dae6"
      },
      "outputs": [
        {
          "output_type": "stream",
          "name": "stdout",
          "text": [
            "Unique values and their count relevant to each categorical column:\n",
            "\n",
            "IMPORTER\n",
            "Unknown    1042\n",
            "Name: count, dtype: int64\n",
            " \n",
            "MONTH\n",
            "NOVEMBER     191\n",
            "FEBRUARY      13\n",
            "JULY          13\n",
            "MAY           11\n",
            "SEPTEMBER     11\n",
            "JANUARY       10\n",
            "JUNE           9\n",
            "AUGUST         8\n",
            "OCTOBER        8\n",
            "MARCH          6\n",
            "APRIL          6\n",
            "DECEMBER       6\n",
            "Name: count, dtype: int64\n",
            " \n",
            "COUNTRY\n",
            "VIETNAM                 299\n",
            "RUSSIA                  109\n",
            "KENYA                    71\n",
            "BELGIUM                  59\n",
            "SOUTH KOREA              58\n",
            "UKRAINE                  58\n",
            "GERMANY                  53\n",
            "COLOMBIA                 29\n",
            "INDIA                    29\n",
            "CHINA                    28\n",
            "BANGLADESH               27\n",
            "SLOVENIA                 24\n",
            "UNITED STATES            23\n",
            "MALAYSIA                 19\n",
            "US VIRGIN ISLANDS        19\n",
            "URUGUAY                  18\n",
            "UNITED KINGDOM           17\n",
            "THAILAND                 17\n",
            "JAPAN                    10\n",
            "SRI LANKA                 8\n",
            "GERMENY                   6\n",
            "CAMBODIA                  5\n",
            "ISRAEL                    4\n",
            "SWITZERLAND               4\n",
            "KOREA,REPUBLIC OF         4\n",
            "UK                        3\n",
            "CANADA                    3\n",
            "TAIWAN                    3\n",
            "TURKMENISTAN              3\n",
            "CHILE                     2\n",
            "SINGAPORE                 2\n",
            "FRANCE                    2\n",
            "INDONESIA                 2\n",
            "KAZAKHSTAN                2\n",
            "NIGERIA                   1\n",
            "SOUTH AFRICA              1\n",
            "UNITED ARAB EMIRATES      1\n",
            "SPAIN                     1\n",
            "SAUDI ARABIA              1\n",
            "ARGENTINA                 1\n",
            "BRAZIL                    1\n",
            "ITALY                     1\n",
            "USA                       1\n",
            "EGYPT                     1\n",
            "SLOVAKIA                  1\n",
            "ROMANIA                   1\n",
            "AUSTRIA                   1\n",
            "MEXICO                    1\n",
            "DENMARK                   1\n",
            "PAKISTAN                  1\n",
            "NETHERLANDS (HOLAND)      1\n",
            "GEORGIA                   1\n",
            "Name: count, dtype: int64\n",
            " \n",
            "HSCODE\n",
            "2847000000    145\n",
            "2808000000    136\n",
            "2807001000     85\n",
            "3102401000     58\n",
            "2829110000     54\n",
            "             ... \n",
            "2801200029      1\n",
            "2801200028      1\n",
            "2801200027      1\n",
            "2801200026      1\n",
            "2812101100      1\n",
            "Name: count, Length: 117, dtype: int64\n",
            " \n",
            "UNIT\n",
            "KG     909\n",
            "PCS     39\n",
            "NOS     33\n",
            "GMS     23\n",
            "MTS     19\n",
            "LTR     18\n",
            "DRM      1\n",
            "Name: count, dtype: int64\n",
            " \n",
            "DESCRIPTION_01\n",
            "Inorganic chemicals; Organic or inorganic compounds of precious metals, of rare earth metals, of radioactive elements or of isotopes    922\n",
            "Fertilizers                                                                                                                             120\n",
            "Name: count, dtype: int64\n",
            " \n",
            "DESCRIPTION_02\n",
            "Nitric acid; sulphonitric acids                                                   156\n",
            "Hydrogen peroxide, whether or not solidified with urea                            145\n",
            "Chlorates and perchlorates; bromates and perbromates; iodates and periodates      120\n",
            "Mineral or chemical fertilizers, nitrogenous                                      120\n",
            "Sulphuric acid; oleum                                                             120\n",
            "Halides and halide oxides of non metals                                           120\n",
            "Fluorine, chlorine, bromine and iodine                                            118\n",
            "Fluorides; fluorosilicates, fluoroaluminates, and other complex fluorine salts    116\n",
            "Cyanides, cyanide oxides and complex cyanides                                      27\n",
            "Name: count, dtype: int64\n",
            " \n",
            "DESCRIPTION_03\n",
            "Nitric acid; sulphonitric acids                                                   156\n",
            "Hydrogen peroxide, whether or not solidified with urea                            145\n",
            "Chlorates and perchlorates; bromates and perbromates; iodates and periodates      120\n",
            "Mineral or chemical fertilizers, nitrogenous                                      120\n",
            "Sulphuric acid; oleum                                                             120\n",
            "Halides and halide oxides of non metals                                           120\n",
            "Fluorides; fluorosilicates, fluoroaluminates, and other complex fluorine salts    116\n",
            "Iodine                                                                             80\n",
            "Chlorine                                                                           34\n",
            "Cyanides and cyanide oxides : Other                                                14\n",
            "Cyanides and cyanide oxides : Of sodium                                            13\n",
            "Bromine                                                                             4\n",
            "Name: count, dtype: int64\n",
            " \n"
          ]
        }
      ],
      "source": [
        "# Displaying the unique values and their counts relevant to each categorical column\n",
        "print(\"Unique values and their count relevant to each categorical column:\\n\")\n",
        "for col in categorical_features:\n",
        "    unique_values = data[col].unique()\n",
        "    value_counts = data[col].value_counts()\n",
        "    print(value_counts)\n",
        "    print(\" \")"
      ]
    },
    {
      "cell_type": "markdown",
      "source": [
        "## **Handling Missing Values**"
      ],
      "metadata": {
        "id": "AxDQ2aX6qUEO"
      }
    },
    {
      "cell_type": "markdown",
      "source": [
        "**Handling missing values in the categorical columns**"
      ],
      "metadata": {
        "id": "ohUKtfkhqbBh"
      }
    },
    {
      "cell_type": "markdown",
      "source": [
        "**Replacing all the missing values with 'Unknown'**"
      ],
      "metadata": {
        "id": "cVvHBcAqqeEg"
      }
    },
    {
      "cell_type": "code",
      "execution_count": 534,
      "metadata": {
        "id": "yqu-lfU2Sl-L"
      },
      "outputs": [],
      "source": [
        "# Step 9: Handling missing values in the categorical columns\n",
        "\n",
        "# Replacing all the missing values in the categorical columns with 'Unknown' for imputation\n",
        "data[categorical_features] = data[categorical_features].fillna('Unknown')"
      ]
    },
    {
      "cell_type": "markdown",
      "source": [
        "**Checking for any missing values which is left behind when replacing with 'Unkown'**"
      ],
      "metadata": {
        "id": "pKQS6siNqgtZ"
      }
    },
    {
      "cell_type": "code",
      "execution_count": 535,
      "metadata": {
        "id": "WjyZ8UrHSnTj",
        "colab": {
          "base_uri": "https://localhost:8080/"
        },
        "outputId": "38f07f30-3657-47b8-e36e-c1ea1164e316"
      },
      "outputs": [
        {
          "output_type": "stream",
          "name": "stdout",
          "text": [
            "Checking for any missing values left behind after replacing with 'Unknown':\n",
            "IMPORTER: No missing values\n",
            " \n",
            "MONTH: No missing values\n",
            " \n",
            "COUNTRY: No missing values\n",
            " \n",
            "HSCODE: No missing values\n",
            " \n",
            "UNIT: No missing values\n",
            " \n",
            "DESCRIPTION_01: No missing values\n",
            " \n",
            "DESCRIPTION_02: No missing values\n",
            " \n",
            "DESCRIPTION_03: No missing values\n",
            " \n"
          ]
        }
      ],
      "source": [
        "# Verifying the changes after replacing the missing values with 'Unknown'\n",
        "print(\"Checking for any missing values left behind after replacing with 'Unknown':\")\n",
        "for col in categorical_features:\n",
        "    null_count = data[col].isnull().sum()\n",
        "    if null_count > 0:\n",
        "        print(f\"{col}: {null_count} missing values\")\n",
        "    else:\n",
        "        print(f\"{col}: No missing values\")\n",
        "    print(\" \")"
      ]
    },
    {
      "cell_type": "code",
      "execution_count": 536,
      "metadata": {
        "id": "wr14utC4H7BD"
      },
      "outputs": [],
      "source": [
        "# Handling the 'UNknown' values in the 'COUNTRY' column using the mode\n",
        "mode_country = data['COUNTRY'].mode()[0]\n",
        "data['COUNTRY'] = data['COUNTRY'].replace('Unknown', mode_country)"
      ]
    },
    {
      "cell_type": "code",
      "execution_count": 537,
      "metadata": {
        "id": "ubphmTAASp_c",
        "colab": {
          "base_uri": "https://localhost:8080/"
        },
        "outputId": "c6224926-6757-4b15-feb1-4e0310fb0949"
      },
      "outputs": [
        {
          "output_type": "stream",
          "name": "stdout",
          "text": [
            "\n",
            "Dataset information after categorical imputation:\n",
            "<class 'pandas.core.frame.DataFrame'>\n",
            "RangeIndex: 1042 entries, 0 to 1041\n",
            "Data columns (total 11 columns):\n",
            " #   Column          Non-Null Count  Dtype  \n",
            "---  ------          --------------  -----  \n",
            " 0   IMPORTER        1042 non-null   object \n",
            " 1   YEAR            292 non-null    float64\n",
            " 2   MONTH           1042 non-null   object \n",
            " 3   HSCODE          1042 non-null   object \n",
            " 4   COUNTRY         1042 non-null   object \n",
            " 5   UNIT            1042 non-null   object \n",
            " 6   QUANTITY        1039 non-null   float64\n",
            " 7   VALUE_RS        292 non-null    float64\n",
            " 8   DESCRIPTION_01  1042 non-null   object \n",
            " 9   DESCRIPTION_02  1042 non-null   object \n",
            " 10  DESCRIPTION_03  1042 non-null   object \n",
            "dtypes: float64(3), object(8)\n",
            "memory usage: 89.7+ KB\n"
          ]
        }
      ],
      "source": [
        "# Displaying dataset information post-imputation\n",
        "print(\"\\nDataset information after categorical imputation:\")\n",
        "data.info()"
      ]
    },
    {
      "cell_type": "code",
      "execution_count": 538,
      "metadata": {
        "id": "Epz9uWmBoR7X",
        "colab": {
          "base_uri": "https://localhost:8080/"
        },
        "outputId": "0bb586f1-46ef-4266-bcc0-692068d2717c"
      },
      "outputs": [
        {
          "output_type": "stream",
          "name": "stdout",
          "text": [
            "Unique Importers:\n",
            "['Unknown']\n"
          ]
        }
      ],
      "source": [
        "# Displaying the unique values in the 'IMPORTER' column\n",
        "unique_importers = data['IMPORTER'].unique()\n",
        "print(\"Unique Importers:\")\n",
        "print(unique_importers)"
      ]
    },
    {
      "cell_type": "code",
      "execution_count": 539,
      "metadata": {
        "id": "bh41X8vjoYl-",
        "colab": {
          "base_uri": "https://localhost:8080/"
        },
        "outputId": "e128f4db-6c0a-4eac-e36a-adb84b098b8c"
      },
      "outputs": [
        {
          "output_type": "stream",
          "name": "stdout",
          "text": [
            "Unique MONTH:\n",
            "['JANUARY' 'FEBRUARY' 'MARCH' 'APRIL' 'MAY' 'JUNE' 'JULY' 'AUGUST'\n",
            " 'SEPTEMBER' 'OCTOBER' 'NOVEMBER' 'DECEMBER' 'Unknown']\n"
          ]
        }
      ],
      "source": [
        "# Display the unique values in the 'YEAR' column\n",
        "unique_years = data['MONTH'].unique()\n",
        "print(\"Unique MONTH:\")\n",
        "print(unique_years)"
      ]
    },
    {
      "cell_type": "code",
      "execution_count": 540,
      "metadata": {
        "id": "l-4Ls8YnopoZ",
        "colab": {
          "base_uri": "https://localhost:8080/"
        },
        "outputId": "28492c1a-cb83-472c-929d-2d8326b19f48"
      },
      "outputs": [
        {
          "output_type": "stream",
          "name": "stdout",
          "text": [
            "Unique Countries:\n",
            "['BANGLADESH' 'INDIA' 'MALAYSIA' 'AUSTRIA' 'CHINA' 'USA' 'SOUTH KOREA'\n",
            " 'THAILAND' 'GERMENY' 'CANADA' 'DENMARK' 'UK' 'JAPAN' 'PAKISTAN'\n",
            " 'NETHERLANDS (HOLAND)' 'BELGIUM' 'SINGAPORE' 'SPAIN' 'FRANCE' 'GERMANY'\n",
            " 'ISRAEL' 'CHILE' 'SWITZERLAND' 'UNITED STATES' 'TURKMENISTAN'\n",
            " 'KOREA,REPUBLIC OF' 'UNITED KINGDOM' 'TAIWAN' 'RUSSIA' 'VIETNAM'\n",
            " 'US VIRGIN ISLANDS' 'KENYA' 'UKRAINE' 'URUGUAY' 'COLOMBIA' 'INDONESIA'\n",
            " 'KAZAKHSTAN' 'CAMBODIA' 'MEXICO' 'SLOVENIA' 'ROMANIA' 'SLOVAKIA' 'EGYPT'\n",
            " 'SAUDI ARABIA' 'ITALY' 'UNITED ARAB EMIRATES' 'NIGERIA' 'SOUTH AFRICA'\n",
            " 'SRI LANKA' 'ARGENTINA' 'BRAZIL' 'GEORGIA']\n"
          ]
        }
      ],
      "source": [
        "# Display unique values in the 'COUNTRY' column\n",
        "unique_countries = data['COUNTRY'].unique()\n",
        "print(\"Unique Countries:\")\n",
        "print(unique_countries)"
      ]
    },
    {
      "cell_type": "code",
      "execution_count": 541,
      "metadata": {
        "id": "koOoypOBowDQ",
        "colab": {
          "base_uri": "https://localhost:8080/"
        },
        "outputId": "ee4c0a79-ec68-46f4-e122-9dff6c41e238"
      },
      "outputs": [
        {
          "output_type": "stream",
          "name": "stdout",
          "text": [
            "Unique HSCodes:\n",
            "['2801100000' '2808000000' '2837110000' '2837190000' '2847000000'\n",
            " '2808001000' '2801200000' '2801302000' '2837209000' '2837191000'\n",
            " '2837202000' '2837199000' '2801200001' '2801200002' '2801200003'\n",
            " '2801200004' '2801200005' '2801200006' '2801200007' '2801200008'\n",
            " '2801200009' '2801200010' '2801200011' '2801200012' '2801200013'\n",
            " '2801200014' '2801200015' '2801200016' '2801200017' '2801200018'\n",
            " '2801200019' '2801200020' '2801200021' '2801200022' '2801200023'\n",
            " '2801200024' '2801200025' '2801200026' '2801200027' '2801200028'\n",
            " '2801200029' '2801200030' '2801200031' '2801200032' '2801200033'\n",
            " '2801200034' '2801200035' '2801200036' '2801200037' '2801200038'\n",
            " '2801200039' '2801200040' '2801200041' '2801200042' '2801200043'\n",
            " '2801200044' '2801200045' '2801200046' '2801200047' '2801200048'\n",
            " '2801200049' '2801200050' '2801200051' '2801200052' '2801200053'\n",
            " '2801200054' '2801200055' '2801200056' '2801200057' '2801200058'\n",
            " '2801200059' '2801200060' '2801200061' '2801200062' '2801200063'\n",
            " '2829901000' '2829192000' '2829902000' '2829190000' '2829110000'\n",
            " '2829909000' '2829908000' '2829903000' '3102210000' '3102909000'\n",
            " '3102401000' '3102100000' '3102101000' '3102600100' '3102600000'\n",
            " '3102500000' '3102299000' '2807001000' '2807002000' '2812900000'\n",
            " '2812109000' '2812101000' '2812105000' '2826300000' '2826199000'\n",
            " '2826900000' '2826191000' '2826120000' '2807009000' '2826190000'\n",
            " '2826908000' '2812190000' '2812120000' '2812199000' '2812191900'\n",
            " '2812160000' '2812170000' '2812109900' '2812104300' '2812104700'\n",
            " '2812104200' '2812101100']\n"
          ]
        }
      ],
      "source": [
        "# Display unique values in the 'HSCODE' column\n",
        "unique_hscodes = data['HSCODE'].unique()\n",
        "print(\"Unique HSCodes:\")\n",
        "print(unique_hscodes)"
      ]
    },
    {
      "cell_type": "code",
      "execution_count": 542,
      "metadata": {
        "id": "nj5O3B2qofyU",
        "colab": {
          "base_uri": "https://localhost:8080/"
        },
        "outputId": "f7b1df72-cdfb-4fd6-cf9b-62db005d7d53"
      },
      "outputs": [
        {
          "output_type": "stream",
          "name": "stdout",
          "text": [
            "Unique Units:\n",
            "['KG' 'LTR' 'PCS' 'NOS' 'GMS' 'MTS' 'DRM']\n"
          ]
        }
      ],
      "source": [
        "# Display the unique values in the 'UNIT' column\n",
        "unique_units = data['UNIT'].unique()\n",
        "print(\"Unique Units:\")\n",
        "print(unique_units)"
      ]
    },
    {
      "cell_type": "code",
      "execution_count": 543,
      "metadata": {
        "id": "OhumfU-YpMR7",
        "colab": {
          "base_uri": "https://localhost:8080/"
        },
        "outputId": "c1501031-0bd7-469e-8e34-521602a8e24e"
      },
      "outputs": [
        {
          "output_type": "stream",
          "name": "stdout",
          "text": [
            "Unique Descriptions_01:\n",
            "['Inorganic chemicals; Organic or inorganic compounds of precious metals, of rare earth metals, of radioactive elements or of isotopes'\n",
            " 'Fertilizers']\n"
          ]
        }
      ],
      "source": [
        "# Displaying the unique values in the 'DESCRIPTION_01' column\n",
        "unique_descriptions_01 = data['DESCRIPTION_01'].unique()\n",
        "print(\"Unique Descriptions_01:\")\n",
        "print(unique_descriptions_01)"
      ]
    },
    {
      "cell_type": "code",
      "execution_count": 544,
      "metadata": {
        "id": "-OyLqe_NqPb1",
        "colab": {
          "base_uri": "https://localhost:8080/"
        },
        "outputId": "5a197192-6183-4f34-ce31-6458a0bba7c1"
      },
      "outputs": [
        {
          "output_type": "stream",
          "name": "stdout",
          "text": [
            "Unique Descriptions_02:\n",
            "['Fluorine, chlorine, bromine and iodine'\n",
            " 'Nitric acid; sulphonitric acids'\n",
            " 'Cyanides, cyanide oxides and complex cyanides'\n",
            " 'Hydrogen peroxide, whether or not solidified with urea'\n",
            " 'Chlorates and perchlorates; bromates and perbromates; iodates and periodates'\n",
            " 'Mineral or chemical fertilizers, nitrogenous' 'Sulphuric acid; oleum'\n",
            " 'Halides and halide oxides of non metals'\n",
            " 'Fluorides; fluorosilicates, fluoroaluminates, and other complex fluorine salts']\n"
          ]
        }
      ],
      "source": [
        "# Displaying the unique values in the 'DESCRIPTION_02' column\n",
        "unique_descriptions_02 = data['DESCRIPTION_02'].unique()\n",
        "print(\"Unique Descriptions_02:\")\n",
        "print(unique_descriptions_02)"
      ]
    },
    {
      "cell_type": "code",
      "execution_count": 545,
      "metadata": {
        "id": "lTOexEiIqUzW",
        "colab": {
          "base_uri": "https://localhost:8080/"
        },
        "outputId": "179b5d55-ed05-4771-e1bf-cc1a62acbaf5"
      },
      "outputs": [
        {
          "output_type": "stream",
          "name": "stdout",
          "text": [
            "Unique Descriptions_03:\n",
            "['Chlorine' 'Nitric acid; sulphonitric acids'\n",
            " 'Cyanides and cyanide oxides : Of sodium'\n",
            " 'Cyanides and cyanide oxides : Other'\n",
            " 'Hydrogen peroxide, whether or not solidified with urea' 'Iodine'\n",
            " 'Bromine'\n",
            " 'Chlorates and perchlorates; bromates and perbromates; iodates and periodates'\n",
            " 'Mineral or chemical fertilizers, nitrogenous' 'Sulphuric acid; oleum'\n",
            " 'Halides and halide oxides of non metals'\n",
            " 'Fluorides; fluorosilicates, fluoroaluminates, and other complex fluorine salts']\n"
          ]
        }
      ],
      "source": [
        "# Displaying the unique values in the 'DESCRIPTION_03' column\n",
        "unique_descriptions_03 = data['DESCRIPTION_03'].unique()\n",
        "print(\"Unique Descriptions_03:\")\n",
        "print(unique_descriptions_03)"
      ]
    },
    {
      "cell_type": "markdown",
      "source": [
        "# **Data Encoding**"
      ],
      "metadata": {
        "id": "NzTzmuZbqpmO"
      }
    },
    {
      "cell_type": "code",
      "execution_count": 546,
      "metadata": {
        "id": "u1bNJsIuStN_",
        "colab": {
          "base_uri": "https://localhost:8080/"
        },
        "outputId": "ab892b81-3f07-46d5-d9de-e6e74edb9b61"
      },
      "outputs": [
        {
          "output_type": "stream",
          "name": "stdout",
          "text": [
            "Encoded column: IMPORTER, but encoder not saved.\n",
            "Encoded column: MONTH saved successfully\n",
            "Encoded column: HSCODE saved successfully\n",
            "Encoded column: UNIT saved successfully\n",
            "Encoded column: DESCRIPTION_01 saved successfully\n",
            "Encoded column: DESCRIPTION_02 saved successfully\n"
          ]
        }
      ],
      "source": [
        "# Step 10: Encoding the Categorical Columns\n",
        "\n",
        "# List of categorical columns to encode (excluding 'DESCRIPTION_03' which will be handled separately)\n",
        "encoding_columns = ['IMPORTER', 'MONTH', 'HSCODE', 'UNIT', 'DESCRIPTION_01', 'DESCRIPTION_02']\n",
        "\n",
        "# Creating a label encoder object\n",
        "label_encoder = LabelEncoder()\n",
        "\n",
        "# Encoding and saving columns\n",
        "for col in encoding_columns:\n",
        "    # Encoding the column\n",
        "    data[col] = label_encoder.fit_transform(data[col])\n",
        "\n",
        "    # If the column is not one of the specific columns, save the encoder\n",
        "    if col not in ['IMPORTER']:\n",
        "        with open(f'encoded_{col}.pkl', 'wb') as f:\n",
        "            pickle.dump(label_encoder, f)\n",
        "        print(f\"Encoded column: {col} saved successfully\")\n",
        "    else:\n",
        "        print(f\"Encoded column: {col}, but encoder not saved.\")\n",
        "\n",
        "# Separate encoding for 'DESCRIPTION_03'\n",
        "description_03_encoder = LabelEncoder()\n",
        "data['ENCODED_DESCRIPTION_03'] = description_03_encoder.fit_transform(data['DESCRIPTION_03'])\n",
        "\n",
        "# Separate encoding for 'COUNTRY'\n",
        "country_encoder = LabelEncoder()\n",
        "data['ENCODED_COUNTRY'] = country_encoder.fit_transform(data['COUNTRY'])"
      ]
    },
    {
      "cell_type": "code",
      "execution_count": 547,
      "metadata": {
        "id": "o3oqY5pj7Piy",
        "colab": {
          "base_uri": "https://localhost:8080/"
        },
        "outputId": "95f591f7-6910-4905-b1b4-63908539fd88"
      },
      "outputs": [
        {
          "output_type": "stream",
          "name": "stdout",
          "text": [
            "Categorical columns after encoding:\n",
            "      IMPORTER  MONTH  HSCODE  UNIT  DESCRIPTION_01  DESCRIPTION_02\n",
            "0            0      4       0     2               1               3\n",
            "1            0      4       0     2               1               3\n",
            "2            0      4       0     2               1               3\n",
            "3            0      3       0     2               1               3\n",
            "4            0      3       0     2               1               3\n",
            "...        ...    ...     ...   ...             ...             ...\n",
            "1037         0     12      75     2               1               4\n",
            "1038         0     12      75     2               1               4\n",
            "1039         0     12      78     2               1               4\n",
            "1040         0     12      78     2               1               4\n",
            "1041         0     12      75     2               1               4\n",
            "\n",
            "[1042 rows x 6 columns]\n"
          ]
        }
      ],
      "source": [
        "# Displaying the categorical columns after the encoding\n",
        "print(\"Categorical columns after encoding:\")\n",
        "print(data[encoding_columns])"
      ]
    },
    {
      "cell_type": "markdown",
      "source": [
        "**Handling missing values in the 'MONTH' column using the K-NN Imputer for the efficient handling of the missing values**"
      ],
      "metadata": {
        "id": "CC8pL7oGqzr8"
      }
    },
    {
      "cell_type": "code",
      "execution_count": 548,
      "metadata": {
        "id": "A-yEqVFjSwcq"
      },
      "outputs": [],
      "source": [
        "# Imputing the 'MONTH' column with K-NN Imputer\n",
        "\n",
        "# Initialize the KNNImputer with 5 neighbors\n",
        "knn_imputer = KNNImputer(n_neighbors=5)\n",
        "\n",
        "# Applying the imputation to the 'MONTH' column\n",
        "data['MONTH'] = knn_imputer.fit_transform(data[['MONTH']])"
      ]
    },
    {
      "cell_type": "markdown",
      "source": [
        "**Handling the missing values in the 'IMPORTER' column after handling the missing values in the numerical coumns since all the values contained within the 'IMPORTER' column are 'Unknown' values and using K-Means clustering crucially expect the intepretation of the 'YEAR' column to be handled first.**"
      ],
      "metadata": {
        "id": "pJYI8Qxbrm1i"
      }
    },
    {
      "cell_type": "markdown",
      "source": [
        "## **Handling missing values in the numerical columns**"
      ],
      "metadata": {
        "id": "q94efQJjrR5q"
      }
    },
    {
      "cell_type": "markdown",
      "source": [
        "**Using Multiple Imputation to handle the missing values in the numerical columns since the nature of the missing values in each numerical column varies from one another.**"
      ],
      "metadata": {
        "id": "bE0Y2XKmrT9A"
      }
    },
    {
      "cell_type": "markdown",
      "source": [
        "**Using K-NN Imputaion to efficiently capture the small missing values and the captures local patterns in the 'Quantity' coulmn**"
      ],
      "metadata": {
        "id": "7e8e3rx7rWGX"
      }
    },
    {
      "cell_type": "code",
      "execution_count": 549,
      "metadata": {
        "id": "SD5_nJb_S207"
      },
      "outputs": [],
      "source": [
        "# Step 11: Handling missing values in the numerical columns\n",
        "\n",
        "# KNN Imputation for 'QUANTITY'\n",
        "knn_imputer = KNNImputer(n_neighbors=5)\n",
        "data[['QUANTITY']] = knn_imputer.fit_transform(data[['QUANTITY']])"
      ]
    },
    {
      "cell_type": "markdown",
      "source": [
        "**Using Predictive Imputaion to capture the complex relationships.**"
      ],
      "metadata": {
        "id": "7HObUrxyr6XF"
      }
    },
    {
      "cell_type": "code",
      "execution_count": 550,
      "metadata": {
        "id": "WZ2ZD-DkS6XC",
        "outputId": "843c17ad-b95c-411b-ae51-717a5916c8ac",
        "colab": {
          "base_uri": "https://localhost:8080/"
        }
      },
      "outputs": [
        {
          "output_type": "stream",
          "name": "stdout",
          "text": [
            "Missing VALUE_RS values successfully predicted and imputed.\n"
          ]
        }
      ],
      "source": [
        "import numpy as np\n",
        "import pandas as pd\n",
        "from sklearn.ensemble import RandomForestRegressor\n",
        "\n",
        "# Splitting data into missing and non-missing VALUE_RS\n",
        "missing_value_rs = data[data['VALUE_RS'].isnull()].copy()\n",
        "non_missing_value_rs = data[data['VALUE_RS'].notnull()].copy()\n",
        "\n",
        "# Dropping 'VALUE_RS' and using 'ENCODED_DESCRIPTION_03' instead of 'DESCRIPTION_03'\n",
        "X_value_rs = non_missing_value_rs.drop(columns=['VALUE_RS', 'DESCRIPTION_03'])\n",
        "X_value_rs = X_value_rs[['ENCODED_DESCRIPTION_03', 'ENCODED_COUNTRY']]  # Keeping only encoded features\n",
        "\n",
        "# Defining the target variable\n",
        "y_value_rs = non_missing_value_rs['VALUE_RS']\n",
        "\n",
        "# Training Random Forest Regressor\n",
        "rf_regressor = RandomForestRegressor(random_state=42, n_estimators=100)\n",
        "rf_regressor.fit(X_value_rs, y_value_rs)\n",
        "\n",
        "# Preparing data for missing VALUE_RS prediction\n",
        "X_missing_value_rs = missing_value_rs[['ENCODED_DESCRIPTION_03', 'ENCODED_COUNTRY']]\n",
        "\n",
        "# Predicting missing 'VALUE_RS' values and imputing them back into the original dataframe\n",
        "data.loc[data['VALUE_RS'].isnull(), 'VALUE_RS'] = rf_regressor.predict(X_missing_value_rs)\n",
        "\n",
        "print(\"Missing VALUE_RS values successfully predicted and imputed.\")"
      ]
    },
    {
      "cell_type": "markdown",
      "source": [
        "**Using Iterative Imputation for the 'YEAR' column**"
      ],
      "metadata": {
        "id": "kQ2I8ZZ7r_mG"
      }
    },
    {
      "cell_type": "code",
      "execution_count": 551,
      "metadata": {
        "id": "xpARMjn_S92Q"
      },
      "outputs": [],
      "source": [
        "# Iterative Imputation for 'YEAR'\n",
        "iterative_imputer = IterativeImputer(random_state=42)\n",
        "data['YEAR'] = iterative_imputer.fit_transform(data[['YEAR', 'MONTH', 'QUANTITY', 'VALUE_RS']])"
      ]
    },
    {
      "cell_type": "markdown",
      "source": [
        "## **Handling Missing Values in the Categorical Columns**"
      ],
      "metadata": {
        "id": "ZZm9_ySHsOIq"
      }
    },
    {
      "cell_type": "markdown",
      "source": [
        "**Handling the missing data in the 'IMPORTER' column using K-Means Clustering for more accurate predictions of the missing values.**"
      ],
      "metadata": {
        "id": "qv9lmphDsQ9k"
      }
    },
    {
      "cell_type": "code",
      "execution_count": 552,
      "metadata": {
        "id": "SuX-1fWdTAbL",
        "colab": {
          "base_uri": "https://localhost:8080/"
        },
        "outputId": "54192dd7-a15f-467b-a8ca-aa67b3ff469a"
      },
      "outputs": [
        {
          "output_type": "stream",
          "name": "stdout",
          "text": [
            "                   IMPORTER         YEAR  MONTH  HSCODE      COUNTRY  UNIT  \\\n",
            "0      Eastern Imports Ltd.  2023.000000    4.0       0   BANGLADESH     2   \n",
            "1       Pacific Exports Co.  2023.000000    4.0       0        INDIA     2   \n",
            "2       Pacific Exports Co.  2023.000000    4.0       0     MALAYSIA     2   \n",
            "3       Global Traders Inc.  2023.000000    3.0       0   BANGLADESH     2   \n",
            "4       Pacific Exports Co.  2023.000000    3.0       0        INDIA     2   \n",
            "...                     ...          ...    ...     ...          ...   ...   \n",
            "1037    Pacific Exports Co.  2017.107194   12.0      75  SOUTH KOREA     2   \n",
            "1038    Pacific Exports Co.  2017.107194   12.0      75  SOUTH KOREA     2   \n",
            "1039  EverGreen Enterprises  2015.413991   12.0      78      UKRAINE     2   \n",
            "1040  EverGreen Enterprises  2015.413991   12.0      78      UKRAINE     2   \n",
            "1041    Pacific Exports Co.  2017.107194   12.0      75  SOUTH KOREA     2   \n",
            "\n",
            "           QUANTITY      VALUE_RS  DESCRIPTION_01  DESCRIPTION_02  \\\n",
            "0     131600.000000  1.387711e+07               1               3   \n",
            "1      37800.000000  3.924989e+06               1               3   \n",
            "2      12090.000000  5.390772e+06               1               3   \n",
            "3      25200.000000  3.089445e+06               1               3   \n",
            "4      75599.000000  6.939860e+06               1               3   \n",
            "...             ...           ...             ...             ...   \n",
            "1037   16200.000000  5.767211e+06               1               4   \n",
            "1038   16200.000000  5.767211e+06               1               4   \n",
            "1039   42416.789127  2.300774e+04               1               4   \n",
            "1040   42416.789127  2.300774e+04               1               4   \n",
            "1041   16200.000000  5.767211e+06               1               4   \n",
            "\n",
            "                               DESCRIPTION_03  ENCODED_DESCRIPTION_03  \\\n",
            "0                                    Chlorine                       2   \n",
            "1                                    Chlorine                       2   \n",
            "2                                    Chlorine                       2   \n",
            "3                                    Chlorine                       2   \n",
            "4                                    Chlorine                       2   \n",
            "...                                       ...                     ...   \n",
            "1037  Halides and halide oxides of non metals                       6   \n",
            "1038  Halides and halide oxides of non metals                       6   \n",
            "1039  Halides and halide oxides of non metals                       6   \n",
            "1040  Halides and halide oxides of non metals                       6   \n",
            "1041  Halides and halide oxides of non metals                       6   \n",
            "\n",
            "      ENCODED_COUNTRY  \n",
            "0                   2  \n",
            "1                  16  \n",
            "2                  24  \n",
            "3                   2  \n",
            "4                  16  \n",
            "...               ...  \n",
            "1037               36  \n",
            "1038               36  \n",
            "1039               44  \n",
            "1040               44  \n",
            "1041               36  \n",
            "\n",
            "[1042 rows x 13 columns]\n"
          ]
        }
      ],
      "source": [
        "# Step 12: Handling the missing values in the 'IMPORTER' Column (Categorical Column)\n",
        "\n",
        "# Imputing the 'IMPORTER' column using the K-Means Clustering\n",
        "\n",
        "# Preparing features for clustering\n",
        "X = data[['ENCODED_COUNTRY', 'HSCODE', 'QUANTITY', 'VALUE_RS']]\n",
        "\n",
        "# Applying K-Means clustering\n",
        "kmeans = KMeans(n_clusters=5, random_state=42)  # Adjust n_clusters as needed\n",
        "data['CLUSTER'] = kmeans.fit_predict(X)\n",
        "\n",
        "# Assigning importer names based on clusters\n",
        "importer_names = [\n",
        "    \"Global Traders Inc.\", \"Eastern Imports Ltd.\", \"Pacific Exports Co.\",\n",
        "    \"Summit Commerce\", \"EverGreen Enterprises\"\n",
        "]\n",
        "data['IMPORTER'] = data['CLUSTER'].apply(lambda x: importer_names[x])\n",
        "\n",
        "# Dropping the helper columns(encoded categorical columns)\n",
        "data = data.drop(columns=['CLUSTER'])\n",
        "\n",
        "# Displaying the updated dataset\n",
        "print(data)"
      ]
    },
    {
      "cell_type": "code",
      "execution_count": 553,
      "metadata": {
        "id": "8zma89b2TDr0",
        "colab": {
          "base_uri": "https://localhost:8080/"
        },
        "outputId": "3d776bc9-b68d-49dd-ec96-9bfce9e124f3"
      },
      "outputs": [
        {
          "output_type": "stream",
          "name": "stdout",
          "text": [
            "                   IMPORTER  YEAR  MONTH  HSCODE      COUNTRY  UNIT  \\\n",
            "0      Eastern Imports Ltd.  2023    4.0       0   BANGLADESH     2   \n",
            "1       Pacific Exports Co.  2023    4.0       0        INDIA     2   \n",
            "2       Pacific Exports Co.  2023    4.0       0     MALAYSIA     2   \n",
            "3       Global Traders Inc.  2023    3.0       0   BANGLADESH     2   \n",
            "4       Pacific Exports Co.  2023    3.0       0        INDIA     2   \n",
            "...                     ...   ...    ...     ...          ...   ...   \n",
            "1037    Pacific Exports Co.  2017   12.0      75  SOUTH KOREA     2   \n",
            "1038    Pacific Exports Co.  2017   12.0      75  SOUTH KOREA     2   \n",
            "1039  EverGreen Enterprises  2015   12.0      78      UKRAINE     2   \n",
            "1040  EverGreen Enterprises  2015   12.0      78      UKRAINE     2   \n",
            "1041    Pacific Exports Co.  2017   12.0      75  SOUTH KOREA     2   \n",
            "\n",
            "           QUANTITY      VALUE_RS  DESCRIPTION_01  DESCRIPTION_02  \\\n",
            "0     131600.000000  1.387711e+07               1               3   \n",
            "1      37800.000000  3.924989e+06               1               3   \n",
            "2      12090.000000  5.390772e+06               1               3   \n",
            "3      25200.000000  3.089445e+06               1               3   \n",
            "4      75599.000000  6.939860e+06               1               3   \n",
            "...             ...           ...             ...             ...   \n",
            "1037   16200.000000  5.767211e+06               1               4   \n",
            "1038   16200.000000  5.767211e+06               1               4   \n",
            "1039   42416.789127  2.300774e+04               1               4   \n",
            "1040   42416.789127  2.300774e+04               1               4   \n",
            "1041   16200.000000  5.767211e+06               1               4   \n",
            "\n",
            "                               DESCRIPTION_03  ENCODED_DESCRIPTION_03  \\\n",
            "0                                    Chlorine                       2   \n",
            "1                                    Chlorine                       2   \n",
            "2                                    Chlorine                       2   \n",
            "3                                    Chlorine                       2   \n",
            "4                                    Chlorine                       2   \n",
            "...                                       ...                     ...   \n",
            "1037  Halides and halide oxides of non metals                       6   \n",
            "1038  Halides and halide oxides of non metals                       6   \n",
            "1039  Halides and halide oxides of non metals                       6   \n",
            "1040  Halides and halide oxides of non metals                       6   \n",
            "1041  Halides and halide oxides of non metals                       6   \n",
            "\n",
            "      ENCODED_COUNTRY  \n",
            "0                   2  \n",
            "1                  16  \n",
            "2                  24  \n",
            "3                   2  \n",
            "4                  16  \n",
            "...               ...  \n",
            "1037               36  \n",
            "1038               36  \n",
            "1039               44  \n",
            "1040               44  \n",
            "1041               36  \n",
            "\n",
            "[1042 rows x 13 columns]\n"
          ]
        }
      ],
      "source": [
        "# Step 13: Handling the 'YEAR' Column\n",
        "# Converting the year data type into int64\n",
        "data['YEAR'] = data['YEAR'].astype(int)\n",
        "\n",
        "# Displaying the dataset information\n",
        "print(data)"
      ]
    },
    {
      "cell_type": "markdown",
      "source": [
        "**Re-encoding the missing values after handling the missing values**"
      ],
      "metadata": {
        "id": "4jhgaBLNsauf"
      }
    },
    {
      "cell_type": "code",
      "execution_count": 554,
      "metadata": {
        "id": "X0LRj2OfTFrc",
        "colab": {
          "base_uri": "https://localhost:8080/"
        },
        "outputId": "efa27362-0051-4301-b89a-9b9b912d0550"
      },
      "outputs": [
        {
          "output_type": "stream",
          "name": "stdout",
          "text": [
            "      IMPORTER  YEAR  MONTH  HSCODE      COUNTRY  UNIT       QUANTITY  \\\n",
            "0            0  2023    4.0       0   BANGLADESH     2  131600.000000   \n",
            "1            3  2023    4.0       0        INDIA     2   37800.000000   \n",
            "2            3  2023    4.0       0     MALAYSIA     2   12090.000000   \n",
            "3            2  2023    3.0       0   BANGLADESH     2   25200.000000   \n",
            "4            3  2023    3.0       0        INDIA     2   75599.000000   \n",
            "...        ...   ...    ...     ...          ...   ...            ...   \n",
            "1037         3  2017   12.0      75  SOUTH KOREA     2   16200.000000   \n",
            "1038         3  2017   12.0      75  SOUTH KOREA     2   16200.000000   \n",
            "1039         1  2015   12.0      78      UKRAINE     2   42416.789127   \n",
            "1040         1  2015   12.0      78      UKRAINE     2   42416.789127   \n",
            "1041         3  2017   12.0      75  SOUTH KOREA     2   16200.000000   \n",
            "\n",
            "          VALUE_RS  DESCRIPTION_01  DESCRIPTION_02  \\\n",
            "0     1.387711e+07               1               3   \n",
            "1     3.924989e+06               1               3   \n",
            "2     5.390772e+06               1               3   \n",
            "3     3.089445e+06               1               3   \n",
            "4     6.939860e+06               1               3   \n",
            "...            ...             ...             ...   \n",
            "1037  5.767211e+06               1               4   \n",
            "1038  5.767211e+06               1               4   \n",
            "1039  2.300774e+04               1               4   \n",
            "1040  2.300774e+04               1               4   \n",
            "1041  5.767211e+06               1               4   \n",
            "\n",
            "                               DESCRIPTION_03  ENCODED_DESCRIPTION_03  \\\n",
            "0                                    Chlorine                       2   \n",
            "1                                    Chlorine                       2   \n",
            "2                                    Chlorine                       2   \n",
            "3                                    Chlorine                       2   \n",
            "4                                    Chlorine                       2   \n",
            "...                                       ...                     ...   \n",
            "1037  Halides and halide oxides of non metals                       6   \n",
            "1038  Halides and halide oxides of non metals                       6   \n",
            "1039  Halides and halide oxides of non metals                       6   \n",
            "1040  Halides and halide oxides of non metals                       6   \n",
            "1041  Halides and halide oxides of non metals                       6   \n",
            "\n",
            "      ENCODED_COUNTRY  \n",
            "0                   2  \n",
            "1                  16  \n",
            "2                  24  \n",
            "3                   2  \n",
            "4                  16  \n",
            "...               ...  \n",
            "1037               36  \n",
            "1038               36  \n",
            "1039               44  \n",
            "1040               44  \n",
            "1041               36  \n",
            "\n",
            "[1042 rows x 13 columns]\n"
          ]
        }
      ],
      "source": [
        "# Step 14: Re-encode the Importer column\n",
        "label_encoder = LabelEncoder()\n",
        "data['IMPORTER'] = label_encoder.fit_transform(data['IMPORTER'])\n",
        "\n",
        "# Saving the encoder for 'IMPORTER' column\n",
        "with open('encoded_IMPORTER.pkl', 'wb') as f:\n",
        "    pickle.dump(label_encoder, f)\n",
        "\n",
        "# Displaying the encoded details\n",
        "print(data)"
      ]
    },
    {
      "cell_type": "markdown",
      "source": [
        "**Handling the missing values in the 'IMPORTER' column after handling the missing values in the numerical coumns since all the values contained within the 'IMPORTER' column are 'Unknown' values and using K-Means clustering crucially expect the intepretation of the 'YEAR' column to be handled first.**"
      ],
      "metadata": {
        "id": "fq9V-Kk6q8b4"
      }
    },
    {
      "cell_type": "markdown",
      "source": [
        "## **Handling the Outliers**"
      ],
      "metadata": {
        "id": "OQeGW2b3sld2"
      }
    },
    {
      "cell_type": "code",
      "execution_count": 555,
      "metadata": {
        "id": "upSYv0QpTJFZ",
        "colab": {
          "base_uri": "https://localhost:8080/"
        },
        "outputId": "0489d5fc-a6f5-4798-9e57-acb63709e325"
      },
      "outputs": [
        {
          "output_type": "stream",
          "name": "stdout",
          "text": [
            "Column: YEAR\n",
            "  Outliers: 142, Lower: 2013.50, Upper: 2017.50\n",
            " \n",
            "Column: QUANTITY\n",
            "  Outliers: 98, Lower: -29912.50, Upper: 49947.50\n",
            " \n",
            "Column: VALUE_RS\n",
            "  Outliers: 189, Lower: -1522085.13, Upper: 2551788.41\n",
            " \n"
          ]
        }
      ],
      "source": [
        "# Step 15: Handling the outliers in the numerical columns\n",
        "\n",
        "# Creating an empty dictionary to store the outliers\n",
        "outlier_info = {}\n",
        "\n",
        "for column in numerical_features:\n",
        "    Q1, Q3 = data[column].quantile([0.25, 0.75])\n",
        "    IQR = Q3 - Q1\n",
        "    lower_bound, upper_bound = Q1 - 1.5 * IQR, Q3 + 1.5 * IQR\n",
        "\n",
        "    # Detecting outliers\n",
        "    outliers = data[(data[column] < lower_bound) | (data[column] > upper_bound)]\n",
        "\n",
        "    outlier_info[column] = {\n",
        "        'Outliers': outliers.shape[0],\n",
        "        'Lower Bound': lower_bound,\n",
        "        'Upper Bound': upper_bound\n",
        "    }\n",
        "\n",
        "    print(f\"Column: {column}\")\n",
        "    print(f\"  Outliers: {outlier_info[column]['Outliers']}, \"\n",
        "          f\"Lower: {lower_bound:.2f}, Upper: {upper_bound:.2f}\")\n",
        "    print(\" \")"
      ]
    },
    {
      "cell_type": "markdown",
      "source": [
        "## **Visualization of the Outliers**"
      ],
      "metadata": {
        "id": "rW7K8VGdsvDf"
      }
    },
    {
      "cell_type": "code",
      "execution_count": 556,
      "metadata": {
        "id": "ziMsMAUMTMtB",
        "colab": {
          "base_uri": "https://localhost:8080/",
          "height": 229
        },
        "outputId": "ddf831d2-1ffa-4af5-f826-9c9e2ed546ef"
      },
      "outputs": [
        {
          "output_type": "display_data",
          "data": {
            "text/plain": [
              "<Figure size 1500x500 with 3 Axes>"
            ],
            "image/png": "[encoded data removed]"
          },
          "metadata": {}
        }
      ],
      "source": [
        "# Visualizing the outliers\n",
        "# Calculating the number of rows and columns based on the number of numerical columns\n",
        "num_columns = len(numerical_features)\n",
        "num_rows = int(np.ceil(num_columns / 3))\n",
        "\n",
        "# Creating a figure and axes array for subplots\n",
        "fig, axes = plt.subplots(num_rows, 3, figsize=(15, 5 * num_rows))\n",
        "axes = axes.flatten()\n",
        "\n",
        "# Plotting boxplots for each numerical column\n",
        "for i, column in enumerate(numerical_features):\n",
        "    ax = axes[i]\n",
        "\n",
        "    # Calculating IQR and bounds\n",
        "    Q1 = data[column].quantile(0.25)\n",
        "    Q3 = data[column].quantile(0.75)\n",
        "    IQR = Q3 - Q1\n",
        "    lower_bound = Q1 - 1.5 * IQR\n",
        "    upper_bound = Q3 + 1.5 * IQR\n",
        "\n",
        "    # Plotting the boxplot\n",
        "    sns.boxplot(x=data[column], color='skyblue', flierprops=dict(marker='o', color='red', markersize=5), ax=ax)\n",
        "    ax.axvline(lower_bound, color='red', linestyle='--', label='Lower Bound')\n",
        "    ax.axvline(upper_bound, color='green', linestyle='--', label='Upper Bound')\n",
        "    ax.set_title(f'Boxplot of {column}')\n",
        "    ax.set_xlabel(column)\n",
        "    ax.legend()\n",
        "    ax.grid(axis='x', alpha=0.75)\n",
        "\n",
        "\n",
        "for i in range(num_columns, len(axes)):\n",
        "    axes[i].axis('off')\n",
        "\n",
        "plt.tight_layout()\n",
        "plt.show()"
      ]
    },
    {
      "cell_type": "code",
      "execution_count": 557,
      "metadata": {
        "id": "MwZOvLZ8TP9r",
        "colab": {
          "base_uri": "https://localhost:8080/"
        },
        "outputId": "52f6f465-92dd-49a7-e1d3-fd9e33d28245"
      },
      "outputs": [
        {
          "output_type": "stream",
          "name": "stdout",
          "text": [
            "   IMPORTER  YEAR  MONTH  HSCODE     COUNTRY  UNIT  QUANTITY  VALUE_RS  \\\n",
            "0         0   0.5    4.0       0  BANGLADESH     2      0.03     -0.19   \n",
            "1         3   0.5    4.0       0       INDIA     2      0.03     -0.19   \n",
            "2         3   0.5    4.0       0    MALAYSIA     2      0.03     -0.19   \n",
            "3         2   0.5    3.0       0  BANGLADESH     2      0.03     -0.19   \n",
            "4         3   0.5    3.0       0       INDIA     2      0.03     -0.19   \n",
            "\n",
            "   DESCRIPTION_01  DESCRIPTION_02 DESCRIPTION_03  ENCODED_DESCRIPTION_03  \\\n",
            "0               1               3       Chlorine                       2   \n",
            "1               1               3       Chlorine                       2   \n",
            "2               1               3       Chlorine                       2   \n",
            "3               1               3       Chlorine                       2   \n",
            "4               1               3       Chlorine                       2   \n",
            "\n",
            "   ENCODED_COUNTRY  \n",
            "0                2  \n",
            "1               16  \n",
            "2               24  \n",
            "3                2  \n",
            "4               16  \n"
          ]
        }
      ],
      "source": [
        "# Function to handle outliers by capping\n",
        "def handle_outliers(data, method='cap'):\n",
        "    for column in data.columns:\n",
        "        if column == 'YEAR':\n",
        "            lower_bound, upper_bound = -0.86, 0.50\n",
        "            data[column] = data[column].apply(lambda x: min(max(x, lower_bound), upper_bound) if method == 'cap' else x)\n",
        "\n",
        "        elif column == 'QUANTITY':\n",
        "            lower_bound, upper_bound = -0.31, 0.03\n",
        "            data[column] = data[column].apply(lambda x: min(max(x, lower_bound), upper_bound) if method == 'cap' else x)\n",
        "\n",
        "        elif column == 'VALUE_RS':\n",
        "            lower_bound, upper_bound = -0.39, -0.19\n",
        "            data[column] = data[column].apply(lambda x: min(max(x, lower_bound), upper_bound) if method == 'cap' else x)\n",
        "\n",
        "    return data\n",
        "\n",
        "\n",
        "# Applying the function to handle outliers\n",
        "data_cleaned = handle_outliers(data.copy(), method='cap')\n",
        "\n",
        "# Displaying the cleaned dataset\n",
        "print(data_cleaned.head())"
      ]
    },
    {
      "cell_type": "markdown",
      "source": [
        "## **Handling the Multicollinearity in the dataset**"
      ],
      "metadata": {
        "id": "PAf3I0nLs1w5"
      }
    },
    {
      "cell_type": "code",
      "execution_count": 558,
      "metadata": {
        "id": "3kUHUKoYTTBB",
        "colab": {
          "base_uri": "https://localhost:8080/"
        },
        "outputId": "bae475c1-65e1-4a8d-bed8-37c30f71a597"
      },
      "outputs": [
        {
          "output_type": "stream",
          "name": "stdout",
          "text": [
            "              YEAR  QUANTITY  VALUE_RS\n",
            "YEAR      1.000000 -0.631417  0.481140\n",
            "QUANTITY -0.631417  1.000000  0.093436\n",
            "VALUE_RS  0.481140  0.093436  1.000000\n"
          ]
        }
      ],
      "source": [
        "# Step 16: Handling the multicollinearity in the numerical columns\n",
        "\n",
        "# Computing the correlation for numerical features\n",
        "correlation_matrix = data[numerical_features].corr()\n",
        "\n",
        "# Displaying the correlation matrix\n",
        "print(correlation_matrix)"
      ]
    },
    {
      "cell_type": "code",
      "execution_count": 559,
      "metadata": {
        "id": "If3OFYocWC0l",
        "colab": {
          "base_uri": "https://localhost:8080/",
          "height": 584
        },
        "outputId": "5b48b096-d657-4b83-8e5e-489845a01482"
      },
      "outputs": [
        {
          "output_type": "display_data",
          "data": {
            "text/plain": [
              "<Figure size 1000x800 with 2 Axes>"
            ],
            "image/png": "[encoded data removed]"
          },
          "metadata": {}
        }
      ],
      "source": [
        "# Plotting the correlation heatmap\n",
        "plt.figure(figsize=(10, 8))\n",
        "sns.heatmap(correlation_matrix, annot=True, cmap='coolwarm', fmt=\".2f\")\n",
        "plt.title('Correlation Heatmap')\n",
        "plt.show()"
      ]
    },
    {
      "cell_type": "markdown",
      "source": [
        "**There is no visible multicollinearity among the numerical features in the dataset**"
      ],
      "metadata": {
        "id": "O3839CETtEOD"
      }
    },
    {
      "cell_type": "markdown",
      "source": [
        "## **The Target Column**"
      ],
      "metadata": {
        "id": "u1vRlOtztJR-"
      }
    },
    {
      "cell_type": "markdown",
      "source": [
        "### **Assigning the Target Variable**"
      ],
      "metadata": {
        "id": "i7ap-mvAtOU_"
      }
    },
    {
      "cell_type": "code",
      "execution_count": 560,
      "metadata": {
        "id": "8GQyW05GWFnc"
      },
      "outputs": [],
      "source": [
        "# Step 17: Assignining the Target Variable\n",
        "\n",
        "# Risk mapping for DESCRIPTION_03\n",
        "risk_mapping = {\n",
        "    'Chlorine': 'Low',\n",
        "    'Nitric acid; sulphonitric acids': 'High',\n",
        "    'Cyanides and cyanide oxides: of sodium': 'High',\n",
        "    'Cyanides and cyanide oxides: other': 'High',\n",
        "    'Hydrogen peroxide, whether or not solidified with urea.': 'High',\n",
        "    'Iodine': 'Low',\n",
        "    'Bromine': 'Low',\n",
        "    'Chlorates and perchlorates; bromates and perbromates; iodates and periodates': 'High',\n",
        "    'Mineral or chemical fertilizers, nitrogenous': 'Low',\n",
        "    'Sulphuric acid; oleum': 'High',\n",
        "    'Halides and halide oxides of non metals': 'Low',\n",
        "    'Fluorides; fluorosilicates, fluoroaluminates, and other complex fluorine salts': 'Low'\n",
        "}\n",
        "\n",
        "# Define quantity thresholds\n",
        "high_quantity_threshold = 10000\n",
        "medium_quantity_threshold = 5000\n",
        "\n",
        "# Function to calculate risk\n",
        "def calculate_risk(description, quantity):\n",
        "    description_risk = risk_mapping.get(description.lower(), 'Low')\n",
        "    if description_risk == 'High' or quantity > high_quantity_threshold:\n",
        "        return 'High'\n",
        "    else:\n",
        "        return 'Low'\n",
        "\n",
        "# Applying the function\n",
        "data['RISK'] = data.apply(\n",
        "    lambda row: calculate_risk(row['DESCRIPTION_03'], row['QUANTITY']),\n",
        "    axis=1\n",
        ")"
      ]
    },
    {
      "cell_type": "markdown",
      "source": [
        "## **Visualizing the Target Variable**"
      ],
      "metadata": {
        "id": "1mXpqLALtVNs"
      }
    },
    {
      "cell_type": "code",
      "execution_count": 561,
      "metadata": {
        "id": "OHoph2DiWIhq",
        "colab": {
          "base_uri": "https://localhost:8080/",
          "height": 524
        },
        "outputId": "8d8fcee3-8573-4a3c-e2af-d121f0d2c61c"
      },
      "outputs": [
        {
          "output_type": "display_data",
          "data": {
            "text/plain": [
              "<Figure size 800x600 with 1 Axes>"
            ],
            "image/png": "[encoded data removed]"
          },
          "metadata": {}
        }
      ],
      "source": [
        "# Visualizing the target variable\n",
        "plt.figure(figsize=(8, 6))\n",
        "sns.countplot(x='RISK', data=data)\n",
        "plt.title('Risk Distribution')\n",
        "plt.xlabel('Risk')\n",
        "plt.ylabel('Count')\n",
        "plt.show()"
      ]
    },
    {
      "cell_type": "code",
      "execution_count": 562,
      "metadata": {
        "id": "6ORBRZr2WLSV",
        "outputId": "9545c48a-50ad-4fa4-a451-e27c79af542b",
        "colab": {
          "base_uri": "https://localhost:8080/"
        }
      },
      "outputs": [
        {
          "output_type": "execute_result",
          "data": {
            "text/plain": [
              "['encoded_COUNTRY.pkl']"
            ]
          },
          "metadata": {},
          "execution_count": 562
        }
      ],
      "source": [
        "from sklearn.preprocessing import LabelEncoder\n",
        "import joblib\n",
        "\n",
        "# Encoding the 'DESCRIPTION_03' column with label encoder\n",
        "label_encoder_03 = LabelEncoder()\n",
        "data['DESCRIPTION_03'] = label_encoder_03.fit_transform(data['DESCRIPTION_03'])\n",
        "data.drop(columns=['ENCODED_DESCRIPTION_03'], inplace=True)\n",
        "\n",
        "# Save the label encoder for 'DESCRIPTION_03'\n",
        "joblib.dump(label_encoder_03, 'encoded_DESCRIPTION_03.pkl')\n",
        "\n",
        "# Encoding the 'COUNTRY' column with label encoder\n",
        "label_encoder_country = LabelEncoder()\n",
        "data['COUNTRY'] = label_encoder_country.fit_transform(data['COUNTRY'])\n",
        "data.drop(columns=['ENCODED_COUNTRY'], inplace=True)\n",
        "\n",
        "# Save the label encoder for 'COUNTRY'\n",
        "joblib.dump(label_encoder_country, 'encoded_COUNTRY.pkl')"
      ]
    },
    {
      "cell_type": "code",
      "execution_count": 563,
      "metadata": {
        "id": "CkM9P9hYWMo2"
      },
      "outputs": [],
      "source": [
        "# Step 19: Encoding the 'RISK' variable\n",
        "label_encoder = LabelEncoder()\n",
        "data['RISK'] = label_encoder.fit_transform(data['RISK'])"
      ]
    },
    {
      "cell_type": "code",
      "execution_count": 564,
      "metadata": {
        "id": "ZMGuuEaoWN-q"
      },
      "outputs": [],
      "source": [
        "# Step 20: Scaling the numerical features\n",
        "scaler = StandardScaler()\n",
        "data[numerical_features] = scaler.fit_transform(data[numerical_features])"
      ]
    },
    {
      "cell_type": "code",
      "execution_count": 565,
      "metadata": {
        "id": "UpMu6UGGWPMS"
      },
      "outputs": [],
      "source": [
        "# Step 21: Splitting features and target\n",
        "X = data.drop(columns=['RISK'])\n",
        "y = data['RISK']"
      ]
    },
    {
      "cell_type": "code",
      "execution_count": 566,
      "metadata": {
        "id": "oy97kZpfWTIT"
      },
      "outputs": [],
      "source": [
        "# Step 22: Splitting data\n",
        "X_train, X_test, y_train, y_test = train_test_split(X, y, test_size=0.2, random_state=42)"
      ]
    },
    {
      "cell_type": "code",
      "execution_count": 567,
      "metadata": {
        "id": "j0Sv-J7iWWAK",
        "colab": {
          "base_uri": "https://localhost:8080/"
        },
        "outputId": "35265887-632d-427b-fa2e-6b971921d78c"
      },
      "outputs": [
        {
          "output_type": "stream",
          "name": "stdout",
          "text": [
            "Value: 0, Count: 319\n",
            "Value: 1, Count: 514\n"
          ]
        }
      ],
      "source": [
        "# Analyzing the distribution of the y train dataset\n",
        "unique_values, counts = np.unique(y_train, return_counts=True)\n",
        "for value, count in zip(unique_values, counts):\n",
        "    print(f\"Value: {value}, Count: {count}\")"
      ]
    },
    {
      "cell_type": "code",
      "execution_count": 568,
      "metadata": {
        "id": "AIk63PNEWYaW",
        "colab": {
          "base_uri": "https://localhost:8080/",
          "height": 472
        },
        "outputId": "1ff20924-dbce-418c-9ad6-843937dd1363"
      },
      "outputs": [
        {
          "output_type": "display_data",
          "data": {
            "text/plain": [
              "<Figure size 640x480 with 1 Axes>"
            ],
            "image/png": "[encoded data removed]"
          },
          "metadata": {}
        }
      ],
      "source": [
        "# Visualizing the distribution of the target variable\n",
        "sns.countplot(data=data, x='RISK')\n",
        "plt.title('Target Variable Distribution')\n",
        "plt.show()"
      ]
    },
    {
      "cell_type": "code",
      "execution_count": 569,
      "metadata": {
        "id": "kdHFke_fWbY_",
        "colab": {
          "base_uri": "https://localhost:8080/"
        },
        "outputId": "f45acab2-3766-4967-c0d6-55fead97aeda"
      },
      "outputs": [
        {
          "output_type": "stream",
          "name": "stdout",
          "text": [
            "Shape of X_train: (833, 11)\n",
            "Shape of y_train: (833,)\n"
          ]
        }
      ],
      "source": [
        "# Displaying the dataset shape\n",
        "print(f\"Shape of X_train: {X_train.shape}\")\n",
        "print(f\"Shape of y_train: {y_train.shape}\")"
      ]
    },
    {
      "cell_type": "code",
      "execution_count": 570,
      "metadata": {
        "id": "tsvewUCZWclb",
        "colab": {
          "base_uri": "https://localhost:8080/"
        },
        "outputId": "2563e5e3-6b35-4ef4-87c2-bf58d64e4fdc"
      },
      "outputs": [
        {
          "output_type": "stream",
          "name": "stdout",
          "text": [
            "Dataset Information:\n",
            "<class 'pandas.core.frame.DataFrame'>\n",
            "RangeIndex: 1042 entries, 0 to 1041\n",
            "Data columns (total 12 columns):\n",
            " #   Column          Non-Null Count  Dtype  \n",
            "---  ------          --------------  -----  \n",
            " 0   IMPORTER        1042 non-null   int64  \n",
            " 1   YEAR            1042 non-null   float64\n",
            " 2   MONTH           1042 non-null   float64\n",
            " 3   HSCODE          1042 non-null   int64  \n",
            " 4   COUNTRY         1042 non-null   int64  \n",
            " 5   UNIT            1042 non-null   int64  \n",
            " 6   QUANTITY        1042 non-null   float64\n",
            " 7   VALUE_RS        1042 non-null   float64\n",
            " 8   DESCRIPTION_01  1042 non-null   int64  \n",
            " 9   DESCRIPTION_02  1042 non-null   int64  \n",
            " 10  DESCRIPTION_03  1042 non-null   int64  \n",
            " 11  RISK            1042 non-null   int64  \n",
            "dtypes: float64(4), int64(8)\n",
            "memory usage: 97.8 KB\n",
            "None\n"
          ]
        }
      ],
      "source": [
        "# Display dataset information\n",
        "print(\"Dataset Information:\")\n",
        "print(data.info())"
      ]
    },
    {
      "cell_type": "code",
      "execution_count": 571,
      "metadata": {
        "id": "bnGcn6YiWfKN",
        "colab": {
          "base_uri": "https://localhost:8080/"
        },
        "outputId": "dae0e60c-293b-4f01-bada-b1e8cf0c45c6"
      },
      "outputs": [
        {
          "output_type": "stream",
          "name": "stdout",
          "text": [
            "Dataset Information:\n",
            "<bound method NDFrame.head of       IMPORTER      YEAR  MONTH  HSCODE  COUNTRY  UNIT      QUANTITY  \\\n",
            "0            0  2.066552    4.0       0        2     2  3.798307e-01   \n",
            "1            3  2.066552    4.0       0       16     2 -1.966288e-02   \n",
            "2            3  2.066552    4.0       0       24     2 -1.291616e-01   \n",
            "3            2  2.066552    3.0       0        2     2 -7.332619e-02   \n",
            "4            3  2.066552    3.0       0       16     2  1.413228e-01   \n",
            "...        ...       ...    ...     ...      ...   ...           ...   \n",
            "1037         3  0.284963   12.0      75       36     2 -1.116571e-01   \n",
            "1038         3  0.284963   12.0      75       36     2 -1.116571e-01   \n",
            "1039         1 -0.308900   12.0      78       44     2 -3.098826e-17   \n",
            "1040         1 -0.308900   12.0      78       44     2 -3.098826e-17   \n",
            "1041         3  0.284963   12.0      75       36     2 -1.116571e-01   \n",
            "\n",
            "      VALUE_RS  DESCRIPTION_01  DESCRIPTION_02  DESCRIPTION_03  RISK  \n",
            "0     2.508052               1               3               2     0  \n",
            "1     0.440413               1               3               2     0  \n",
            "2     0.744942               1               3               2     0  \n",
            "3     0.266822               1               3               2     0  \n",
            "4     1.066778               1               3               2     0  \n",
            "...        ...             ...             ...             ...   ...  \n",
            "1037  0.823150               1               4               6     0  \n",
            "1038  0.823150               1               4               6     0  \n",
            "1039 -0.370257               1               4               6     0  \n",
            "1040 -0.370257               1               4               6     0  \n",
            "1041  0.823150               1               4               6     0  \n",
            "\n",
            "[1042 rows x 12 columns]>\n"
          ]
        }
      ],
      "source": [
        "# Display dataset information\n",
        "print(\"Dataset Information:\")\n",
        "print(data.head)"
      ]
    },
    {
      "cell_type": "markdown",
      "source": [
        "## **Balancing the Target Variable**"
      ],
      "metadata": {
        "id": "ZqBFx7-Qtcnu"
      }
    },
    {
      "cell_type": "code",
      "execution_count": 572,
      "metadata": {
        "id": "VJALpjd5WiXf",
        "colab": {
          "base_uri": "https://localhost:8080/"
        },
        "outputId": "27a53883-3254-4e3c-89da-1ed7f44b7c24"
      },
      "outputs": [
        {
          "output_type": "stream",
          "name": "stdout",
          "text": [
            "Original dataset size: (1042, 11)\n",
            "Resampled dataset size: (1280, 11)\n"
          ]
        }
      ],
      "source": [
        "# Handling the imbalance dataset\n",
        "\n",
        "# Suppressing the FutureWarnings\n",
        "warnings.filterwarnings(\"ignore\", category=FutureWarning)\n",
        "\n",
        "# Handling imbalanced dataset\n",
        "smote = SMOTE(sampling_strategy='auto', random_state=42)\n",
        "X_resampled, y_resampled = smote.fit_resample(X, y)\n",
        "\n",
        "print(\"Original dataset size:\", X.shape)\n",
        "print(\"Resampled dataset size:\", X_resampled.shape)"
      ]
    },
    {
      "cell_type": "code",
      "execution_count": 573,
      "metadata": {
        "id": "zUwdji5AWlGO",
        "colab": {
          "base_uri": "https://localhost:8080/",
          "height": 472
        },
        "outputId": "ea4a73c9-822a-4d7c-e57b-58c5e4c69374"
      },
      "outputs": [
        {
          "output_type": "display_data",
          "data": {
            "text/plain": [
              "<Figure size 640x480 with 1 Axes>"
            ],
            "image/png": "[encoded data removed]"
          },
          "metadata": {}
        }
      ],
      "source": [
        "# Plotting class distribution after SMOTE\n",
        "sns.countplot(x=y_resampled, palette=\"viridis\")\n",
        "plt.title(\"Class Distribution After SMOTE\")\n",
        "plt.xlabel(\"Class\")\n",
        "plt.ylabel(\"Count\")\n",
        "plt.show()"
      ]
    },
    {
      "cell_type": "code",
      "execution_count": 574,
      "metadata": {
        "id": "-DV3t_x-Wnap",
        "colab": {
          "base_uri": "https://localhost:8080/"
        },
        "outputId": "df1d4879-dae7-4648-bead-84b955bac856"
      },
      "outputs": [
        {
          "output_type": "stream",
          "name": "stdout",
          "text": [
            "Shape of X_resampled: (1280, 11)\n",
            "Shape of y_resampled: (1280,)\n"
          ]
        }
      ],
      "source": [
        "# Displaying the dataset shape after applying the SMOTE\n",
        "print(f\"Shape of X_resampled: {X_resampled.shape}\")\n",
        "print(f\"Shape of y_resampled: {y_resampled.shape}\")"
      ]
    },
    {
      "cell_type": "code",
      "execution_count": 575,
      "metadata": {
        "id": "Fq-6bCFMWoxd"
      },
      "outputs": [],
      "source": [
        "# Standardizing the features\n",
        "scaler = StandardScaler()\n",
        "X_resampled_scaled = scaler.fit_transform(X_resampled)"
      ]
    },
    {
      "cell_type": "code",
      "execution_count": 576,
      "metadata": {
        "id": "zKKCxYzoWqBW"
      },
      "outputs": [],
      "source": [
        "# Splitting data\n",
        "X_train, X_test, y_train, y_test = train_test_split(X_resampled_scaled, y_resampled, test_size=0.2, stratify = y_resampled, random_state=42)"
      ]
    },
    {
      "cell_type": "code",
      "execution_count": 577,
      "metadata": {
        "id": "1TT2I8hvWr3K",
        "colab": {
          "base_uri": "https://localhost:8080/"
        },
        "outputId": "cbf56b55-02b6-4dce-feed-71633641a459"
      },
      "outputs": [
        {
          "output_type": "stream",
          "name": "stdout",
          "text": [
            "Dataset Information:\n",
            "<class 'pandas.core.frame.DataFrame'>\n",
            "RangeIndex: 1042 entries, 0 to 1041\n",
            "Data columns (total 12 columns):\n",
            " #   Column          Non-Null Count  Dtype  \n",
            "---  ------          --------------  -----  \n",
            " 0   IMPORTER        1042 non-null   int64  \n",
            " 1   YEAR            1042 non-null   float64\n",
            " 2   MONTH           1042 non-null   float64\n",
            " 3   HSCODE          1042 non-null   int64  \n",
            " 4   COUNTRY         1042 non-null   int64  \n",
            " 5   UNIT            1042 non-null   int64  \n",
            " 6   QUANTITY        1042 non-null   float64\n",
            " 7   VALUE_RS        1042 non-null   float64\n",
            " 8   DESCRIPTION_01  1042 non-null   int64  \n",
            " 9   DESCRIPTION_02  1042 non-null   int64  \n",
            " 10  DESCRIPTION_03  1042 non-null   int64  \n",
            " 11  RISK            1042 non-null   int64  \n",
            "dtypes: float64(4), int64(8)\n",
            "memory usage: 97.8 KB\n",
            "None\n"
          ]
        }
      ],
      "source": [
        "# Display dataset information\n",
        "print(\"Dataset Information:\")\n",
        "print(data.info())"
      ]
    },
    {
      "cell_type": "markdown",
      "source": [
        "# **Building the Model**"
      ],
      "metadata": {
        "id": "bneXr1Aftkpp"
      }
    },
    {
      "cell_type": "markdown",
      "source": [
        "## **Model based on LSTM and Gradient Boost**"
      ],
      "metadata": {
        "id": "Ayi04F-wtnJf"
      }
    },
    {
      "cell_type": "code",
      "execution_count": 578,
      "metadata": {
        "id": "KTkSM9zLWuKR"
      },
      "outputs": [],
      "source": [
        "# Scaling the features\n",
        "scaler = StandardScaler()\n",
        "X_scaled = scaler.fit_transform(X)"
      ]
    },
    {
      "cell_type": "code",
      "execution_count": 579,
      "metadata": {
        "id": "skZKRUh-WvU7"
      },
      "outputs": [],
      "source": [
        "# Splitting the data into training (60%) and temporary (40%) sets\n",
        "X_train_scaled, X_temp, y_train, y_temp = train_test_split(X_scaled, y, test_size=0.4, random_state=42, stratify=y)\n",
        "\n",
        "# Splitting the temporary set into validation (50% of temp, i.e., 20% of total) and test (50% of temp, i.e., 20% of total)\n",
        "X_val_scaled, X_test_scaled, y_val, y_test = train_test_split(X_temp, y_temp, test_size=0.5, random_state=42, stratify=y_temp)"
      ]
    },
    {
      "cell_type": "code",
      "execution_count": 580,
      "metadata": {
        "id": "qLfYLaWhWxNT"
      },
      "outputs": [],
      "source": [
        "# Standard scaling for the splits\n",
        "X_train_scaled = scaler.fit_transform(X_train_scaled)\n",
        "X_val_scaled = scaler.transform(X_val_scaled)\n",
        "X_test_scaled = scaler.transform(X_test_scaled)"
      ]
    },
    {
      "cell_type": "code",
      "execution_count": 581,
      "metadata": {
        "id": "dZEs_ApuW1Ra"
      },
      "outputs": [],
      "source": [
        "# Setting a global seed for reproducibility\n",
        "def set_seed(seed_value=42):\n",
        "    np.random.seed(seed_value)\n",
        "    random.seed(seed_value)\n",
        "    tf.random.set_seed(seed_value)\n",
        "\n",
        "# Defining the LSTM model\n",
        "def create_lstm_model(input_shape, seed_value=42):\n",
        "    # Setting the seed before building the model\n",
        "    set_seed(seed_value)\n",
        "\n",
        "    model = Sequential()\n",
        "    model.add(LSTM(units=64, return_sequences=False, input_shape=input_shape))\n",
        "    model.add(Dropout(0.2))\n",
        "    model.add(Dense(32, activation='relu'))\n",
        "    model.add(Dense(1, activation='linear'))\n",
        "    model.compile(optimizer='adam', loss='mean_squared_error')\n",
        "    return model"
      ]
    },
    {
      "cell_type": "code",
      "execution_count": 582,
      "metadata": {
        "id": "Ya1G8atHW2es",
        "colab": {
          "base_uri": "https://localhost:8080/"
        },
        "outputId": "60a1b8f8-36d5-4ede-b345-a1a3a0a3d11c"
      },
      "outputs": [
        {
          "output_type": "stream",
          "name": "stderr",
          "text": [
            "/usr/local/lib/python3.11/dist-packages/keras/src/layers/rnn/rnn.py:200: UserWarning: Do not pass an `input_shape`/`input_dim` argument to a layer. When using Sequential models, prefer using an `Input(shape)` object as the first layer in the model instead.\n",
            "  super().__init__(**kwargs)\n"
          ]
        },
        {
          "output_type": "stream",
          "name": "stdout",
          "text": [
            "Epoch 1/20\n",
            "\u001b[1m20/20\u001b[0m \u001b[32m━━━━━━━━━━━━━━━━━━━━\u001b[0m\u001b[37m\u001b[0m \u001b[1m4s\u001b[0m 41ms/step - loss: 0.4693 - val_loss: 0.2747\n",
            "Epoch 2/20\n",
            "\u001b[1m20/20\u001b[0m \u001b[32m━━━━━━━━━━━━━━━━━━━━\u001b[0m\u001b[37m\u001b[0m \u001b[1m1s\u001b[0m 13ms/step - loss: 0.2343 - val_loss: 0.1544\n",
            "Epoch 3/20\n",
            "\u001b[1m20/20\u001b[0m \u001b[32m━━━━━━━━━━━━━━━━━━━━\u001b[0m\u001b[37m\u001b[0m \u001b[1m0s\u001b[0m 19ms/step - loss: 0.1594 - val_loss: 0.1421\n",
            "Epoch 4/20\n",
            "\u001b[1m20/20\u001b[0m \u001b[32m━━━━━━━━━━━━━━━━━━━━\u001b[0m\u001b[37m\u001b[0m \u001b[1m1s\u001b[0m 14ms/step - loss: 0.1537 - val_loss: 0.1362\n",
            "Epoch 5/20\n",
            "\u001b[1m20/20\u001b[0m \u001b[32m━━━━━━━━━━━━━━━━━━━━\u001b[0m\u001b[37m\u001b[0m \u001b[1m0s\u001b[0m 15ms/step - loss: 0.1413 - val_loss: 0.1319\n",
            "Epoch 6/20\n",
            "\u001b[1m20/20\u001b[0m \u001b[32m━━━━━━━━━━━━━━━━━━━━\u001b[0m\u001b[37m\u001b[0m \u001b[1m0s\u001b[0m 14ms/step - loss: 0.1437 - val_loss: 0.1281\n",
            "Epoch 7/20\n",
            "\u001b[1m20/20\u001b[0m \u001b[32m━━━━━━━━━━━━━━━━━━━━\u001b[0m\u001b[37m\u001b[0m \u001b[1m0s\u001b[0m 8ms/step - loss: 0.1372 - val_loss: 0.1253\n",
            "Epoch 8/20\n",
            "\u001b[1m20/20\u001b[0m \u001b[32m━━━━━━━━━━━━━━━━━━━━\u001b[0m\u001b[37m\u001b[0m \u001b[1m0s\u001b[0m 9ms/step - loss: 0.1357 - val_loss: 0.1226\n",
            "Epoch 9/20\n",
            "\u001b[1m20/20\u001b[0m \u001b[32m━━━━━━━━━━━━━━━━━━━━\u001b[0m\u001b[37m\u001b[0m \u001b[1m0s\u001b[0m 11ms/step - loss: 0.1316 - val_loss: 0.1211\n",
            "Epoch 10/20\n",
            "\u001b[1m20/20\u001b[0m \u001b[32m━━━━━━━━━━━━━━━━━━━━\u001b[0m\u001b[37m\u001b[0m \u001b[1m0s\u001b[0m 10ms/step - loss: 0.1307 - val_loss: 0.1188\n",
            "Epoch 11/20\n",
            "\u001b[1m20/20\u001b[0m \u001b[32m━━━━━━━━━━━━━━━━━━━━\u001b[0m\u001b[37m\u001b[0m \u001b[1m0s\u001b[0m 8ms/step - loss: 0.1287 - val_loss: 0.1171\n",
            "Epoch 12/20\n",
            "\u001b[1m20/20\u001b[0m \u001b[32m━━━━━━━━━━━━━━━━━━━━\u001b[0m\u001b[37m\u001b[0m \u001b[1m0s\u001b[0m 9ms/step - loss: 0.1261 - val_loss: 0.1152\n",
            "Epoch 13/20\n",
            "\u001b[1m20/20\u001b[0m \u001b[32m━━━━━━━━━━━━━━━━━━━━\u001b[0m\u001b[37m\u001b[0m \u001b[1m0s\u001b[0m 10ms/step - loss: 0.1237 - val_loss: 0.1140\n",
            "Epoch 14/20\n",
            "\u001b[1m20/20\u001b[0m \u001b[32m━━━━━━━━━━━━━━━━━━━━\u001b[0m\u001b[37m\u001b[0m \u001b[1m0s\u001b[0m 8ms/step - loss: 0.1214 - val_loss: 0.1124\n",
            "Epoch 15/20\n",
            "\u001b[1m20/20\u001b[0m \u001b[32m━━━━━━━━━━━━━━━━━━━━\u001b[0m\u001b[37m\u001b[0m \u001b[1m0s\u001b[0m 9ms/step - loss: 0.1182 - val_loss: 0.1098\n",
            "Epoch 16/20\n",
            "\u001b[1m20/20\u001b[0m \u001b[32m━━━━━━━━━━━━━━━━━━━━\u001b[0m\u001b[37m\u001b[0m \u001b[1m0s\u001b[0m 11ms/step - loss: 0.1160 - val_loss: 0.1080\n",
            "Epoch 17/20\n",
            "\u001b[1m20/20\u001b[0m \u001b[32m━━━━━━━━━━━━━━━━━━━━\u001b[0m\u001b[37m\u001b[0m \u001b[1m1s\u001b[0m 25ms/step - loss: 0.1186 - val_loss: 0.1057\n",
            "Epoch 18/20\n",
            "\u001b[1m20/20\u001b[0m \u001b[32m━━━━━━━━━━━━━━━━━━━━\u001b[0m\u001b[37m\u001b[0m \u001b[1m0s\u001b[0m 21ms/step - loss: 0.1144 - val_loss: 0.1045\n",
            "Epoch 19/20\n",
            "\u001b[1m20/20\u001b[0m \u001b[32m━━━━━━━━━━━━━━━━━━━━\u001b[0m\u001b[37m\u001b[0m \u001b[1m0s\u001b[0m 17ms/step - loss: 0.1135 - val_loss: 0.1027\n",
            "Epoch 20/20\n",
            "\u001b[1m20/20\u001b[0m \u001b[32m━━━━━━━━━━━━━━━━━━━━\u001b[0m\u001b[37m\u001b[0m \u001b[1m0s\u001b[0m 13ms/step - loss: 0.1114 - val_loss: 0.1008\n",
            "\u001b[1m20/20\u001b[0m \u001b[32m━━━━━━━━━━━━━━━━━━━━\u001b[0m\u001b[37m\u001b[0m \u001b[1m1s\u001b[0m 20ms/step\n",
            "\u001b[1m7/7\u001b[0m \u001b[32m━━━━━━━━━━━━━━━━━━━━\u001b[0m\u001b[37m\u001b[0m \u001b[1m0s\u001b[0m 10ms/step\n",
            "\u001b[1m7/7\u001b[0m \u001b[32m━━━━━━━━━━━━━━━━━━━━\u001b[0m\u001b[37m\u001b[0m \u001b[1m0s\u001b[0m 26ms/step\n"
          ]
        }
      ],
      "source": [
        "# Reshaping input data for LSTM (3D input required: samples, timesteps, features)\n",
        "X_train_lstm = X_train_scaled.reshape(X_train_scaled.shape[0], 1, X_train_scaled.shape[1])\n",
        "X_val_lstm = X_val_scaled.reshape(X_val_scaled.shape[0], 1, X_val_scaled.shape[1])\n",
        "X_test_lstm = X_test_scaled.reshape(X_test_scaled.shape[0], 1, X_test_scaled.shape[1])\n",
        "\n",
        "# Creating and train the LSTM model\n",
        "lstm_model = create_lstm_model((X_train_lstm.shape[1], X_train_lstm.shape[2]))\n",
        "lstm_model.fit(X_train_lstm, y_train, epochs=20, batch_size=32, validation_data=(X_val_lstm, y_val))\n",
        "\n",
        "# Extracting LSTM features (use LSTM's output as features for Gradient Boosting)\n",
        "lstm_train_features = lstm_model.predict(X_train_lstm)\n",
        "lstm_val_features = lstm_model.predict(X_val_lstm)\n",
        "lstm_test_features = lstm_model.predict(X_test_lstm)"
      ]
    },
    {
      "cell_type": "code",
      "execution_count": 583,
      "metadata": {
        "id": "izAjaecjW627"
      },
      "outputs": [],
      "source": [
        "# Reshape features for Gradient Boosting\n",
        "lstm_train_features = lstm_train_features.reshape(-1, 1)\n",
        "lstm_val_features = lstm_val_features.reshape(-1, 1)\n",
        "lstm_test_features = lstm_test_features.reshape(-1, 1)"
      ]
    },
    {
      "cell_type": "code",
      "execution_count": 584,
      "metadata": {
        "colab": {
          "base_uri": "https://localhost:8080/"
        },
        "id": "6smI81k1W8Hu",
        "outputId": "2afe318b-3655-4515-f21a-eb8ce9d085f5"
      },
      "outputs": [
        {
          "output_type": "stream",
          "name": "stdout",
          "text": [
            "Fitting 5 folds for each of 81 candidates, totalling 405 fits\n",
            "Best Parameters for Gradient Boosting:  {'learning_rate': 0.1, 'max_depth': 3, 'min_samples_split': 10, 'n_estimators': 100}\n"
          ]
        }
      ],
      "source": [
        "# Hyperparameter tuning for Gradient Boosting using GridSearchCV\n",
        "param_grid = {\n",
        "    'n_estimators': [50, 100, 150],\n",
        "    'learning_rate': [0.01, 0.05, 0.1],\n",
        "    'max_depth': [3, 5, 7],\n",
        "    'min_samples_split': [2, 5, 10]\n",
        "}\n",
        "\n",
        "# Grid search cross-validation for Gradient Boosting\n",
        "grid_search = GridSearchCV(GradientBoostingClassifier(), param_grid, cv=5, scoring='accuracy', n_jobs=-1, verbose=1)\n",
        "grid_search.fit(lstm_train_features, y_train)\n",
        "\n",
        "# Best parameters from grid search\n",
        "print(\"Best Parameters for Gradient Boosting: \", grid_search.best_params_)\n",
        "\n",
        "# Train Gradient Boosting on the best parameters\n",
        "gb_model_class = grid_search.best_estimator_\n"
      ]
    },
    {
      "cell_type": "code",
      "execution_count": 585,
      "metadata": {
        "colab": {
          "base_uri": "https://localhost:8080/"
        },
        "id": "BqlVPG3wXAV-",
        "outputId": "abd441f8-c2a1-4790-d701-2784ecd8f742"
      },
      "outputs": [
        {
          "output_type": "stream",
          "name": "stdout",
          "text": [
            "Cross-validation Accuracy: 0.9088 ± 0.011973303637676623\n"
          ]
        }
      ],
      "source": [
        "# Cross-validation on Gradient Boosting\n",
        "cv_scores = cross_val_score(gb_model_class, lstm_train_features, y_train, cv=StratifiedKFold(5), scoring='accuracy')\n",
        "print(f\"Cross-validation Accuracy: {np.mean(cv_scores)} ± {np.std(cv_scores)}\")"
      ]
    },
    {
      "cell_type": "code",
      "execution_count": 586,
      "metadata": {
        "id": "NQ_9guDXXBpT",
        "colab": {
          "base_uri": "https://localhost:8080/"
        },
        "outputId": "51f336c5-9073-4d3f-8cac-0e178ca45bed"
      },
      "outputs": [
        {
          "output_type": "stream",
          "name": "stdout",
          "text": [
            "\n",
            "Classification Evaluation:\n",
            "Accuracy:  0.9138755980861244\n",
            "Classification Report:\n",
            "               precision    recall  f1-score   support\n",
            "\n",
            "           0       0.90      0.88      0.89        81\n",
            "           1       0.92      0.94      0.93       128\n",
            "\n",
            "    accuracy                           0.91       209\n",
            "   macro avg       0.91      0.91      0.91       209\n",
            "weighted avg       0.91      0.91      0.91       209\n",
            "\n"
          ]
        }
      ],
      "source": [
        "# Predicting on test data\n",
        "y_pred_class = gb_model_class.predict(lstm_test_features)\n",
        "\n",
        "# Evaluation for classification\n",
        "print(\"\\nClassification Evaluation:\")\n",
        "print(\"Accuracy: \", accuracy_score(y_test, y_pred_class))\n",
        "print(\"Classification Report:\\n\", classification_report(y_test, y_pred_class))"
      ]
    },
    {
      "cell_type": "code",
      "execution_count": 587,
      "metadata": {
        "id": "JiHMHAfVXEqD",
        "colab": {
          "base_uri": "https://localhost:8080/",
          "height": 515
        },
        "outputId": "46f4cd66-c03b-4dda-a2e5-50278236e559"
      },
      "outputs": [
        {
          "output_type": "display_data",
          "data": {
            "text/plain": [
              "<Figure size 800x600 with 1 Axes>"
            ],
            "image/png": "[encoded data removed]"
          },
          "metadata": {}
        }
      ],
      "source": [
        "# Generate the confusion matrix\n",
        "cm = confusion_matrix(y_test, y_pred_class)\n",
        "\n",
        "# Plotting the confusion matrix\n",
        "plt.figure(figsize=(8, 6))\n",
        "sns.heatmap(cm, annot=True, fmt=\"d\", cmap=\"Blues\", cbar=False, xticklabels=['Class 0', 'Class 1', 'Class 2'], yticklabels=['Class 0', 'Class 1', 'Class 2'])\n",
        "plt.title('Confusion Matrix')\n",
        "plt.xlabel('Predicted Labels')\n",
        "plt.ylabel('True Labels')\n",
        "plt.show()"
      ]
    },
    {
      "cell_type": "code",
      "execution_count": 588,
      "metadata": {
        "id": "c-ggWYefXHUO",
        "colab": {
          "base_uri": "https://localhost:8080/"
        },
        "outputId": "81fdc10a-80f9-4d82-b273-92f95d302742"
      },
      "outputs": [
        {
          "output_type": "stream",
          "name": "stdout",
          "text": [
            "Train Accuracy:  0.9712\n",
            "Test Accuracy:  0.9138755980861244\n",
            "The model has balanced performance on train and test sets.\n"
          ]
        }
      ],
      "source": [
        "# Overfitting Score: Train vs Test Accuracy\n",
        "y_pred_train = gb_model_class.predict(lstm_train_features)\n",
        "train_accuracy = accuracy_score(y_train, y_pred_train)\n",
        "print(\"Train Accuracy: \", train_accuracy)\n",
        "\n",
        "y_pred_test = gb_model_class.predict(lstm_test_features)\n",
        "test_accuracy = accuracy_score(y_test, y_pred_test)\n",
        "print(\"Test Accuracy: \", test_accuracy)\n",
        "\n",
        "# Check for overfitting\n",
        "if train_accuracy - test_accuracy > 0.1:\n",
        "    print(\"The model might be overfitting. Consider regularization, reducing model complexity, or adding more data.\")\n",
        "else:\n",
        "    print(\"The model has balanced performance on train and test sets.\")"
      ]
    },
    {
      "cell_type": "code",
      "execution_count": 589,
      "metadata": {
        "id": "HWLyfipQXJZZ",
        "colab": {
          "base_uri": "https://localhost:8080/"
        },
        "outputId": "ed894738-362a-4d83-cdb4-c8c2bb7e588e"
      },
      "outputs": [
        {
          "output_type": "stream",
          "name": "stderr",
          "text": [
            "WARNING:absl:You are saving your model as an HDF5 file via `model.save()` or `keras.saving.save_model(model)`. This file format is considered legacy. We recommend using instead the native Keras format, e.g. `model.save('my_model.keras')` or `keras.saving.save_model(model, 'my_model.keras')`. \n"
          ]
        },
        {
          "output_type": "stream",
          "name": "stdout",
          "text": [
            "Models saved successfully!\n"
          ]
        }
      ],
      "source": [
        "# Saving Scaler\n",
        "joblib.dump(scaler, '/content/drive/MyDrive/Comprehensive_Chemical_Risk_Prediction_Model/scaler.pkl')\n",
        "\n",
        "# Saving LSTM Model\n",
        "lstm_model.save('/content/drive/MyDrive/Comprehensive_Chemical_Risk_Prediction_Model/lstm_model.h5')\n",
        "\n",
        "# Saving Gradient Boosting Model\n",
        "joblib.dump(gb_model_class, '/content/drive/MyDrive/Comprehensive_Chemical_Risk_Prediction_Model/gb_model_class.pkl')\n",
        "\n",
        "print(\"Models saved successfully!\")"
      ]
    },
    {
      "cell_type": "code",
      "execution_count": 590,
      "metadata": {
        "id": "Uj6pF0wcXLaV",
        "colab": {
          "base_uri": "https://localhost:8080/"
        },
        "outputId": "70206932-1a75-4aa2-be03-98e6c5baf829"
      },
      "outputs": [
        {
          "output_type": "stream",
          "name": "stderr",
          "text": [
            "WARNING:absl:Compiled the loaded model, but the compiled metrics have yet to be built. `model.compile_metrics` will be empty until you train or evaluate the model.\n"
          ]
        }
      ],
      "source": [
        "# Loading the Scaler\n",
        "scaler = joblib.load('/content/drive/MyDrive/Comprehensive_Chemical_Risk_Prediction_Model/scaler.pkl')\n",
        "\n",
        "# Loading the LSTM Model\n",
        "lstm_model = load_model('/content/drive/MyDrive/Comprehensive_Chemical_Risk_Prediction_Model/lstm_model.h5')\n",
        "\n",
        "# Loading the Gradient Boosting Model\n",
        "gb_model_class = joblib.load('/content/drive/MyDrive/Comprehensive_Chemical_Risk_Prediction_Model/gb_model_class.pkl')"
      ]
    },
    {
      "cell_type": "markdown",
      "source": [
        "# **Model Prediction**"
      ],
      "metadata": {
        "id": "R6Y8y2rtk4Ns"
      }
    },
    {
      "cell_type": "code",
      "source": [
        "import numpy as np\n",
        "import joblib\n",
        "from keras.models import load_model\n",
        "\n",
        "# Load saved encoders\n",
        "importer_encoder = joblib.load('encoded_IMPORTER.pkl')\n",
        "description_01_encoder = joblib.load('encoded_DESCRIPTION_01.pkl')\n",
        "description_02_encoder = joblib.load('encoded_DESCRIPTION_02.pkl')\n",
        "description_03_encoder = joblib.load('encoded_DESCRIPTION_03.pkl')\n",
        "hscode_encoder = joblib.load('encoded_HSCODE.pkl')\n",
        "month_encoder = joblib.load('encoded_MONTH.pkl')\n",
        "country_encoder = joblib.load('encoded_COUNTRY.pkl')\n",
        "unit_encoder = joblib.load('encoded_UNIT.pkl')\n",
        "\n",
        "# Load pre-trained models and scalers\n",
        "scaler = joblib.load('/content/drive/MyDrive/Comprehensive_Chemical_Risk_Prediction_Model/scaler.pkl')\n",
        "lstm_model = load_model('/content/drive/MyDrive/Comprehensive_Chemical_Risk_Prediction_Model/lstm_model.h5')\n",
        "gb_model_class = joblib.load('/content/drive/MyDrive/Comprehensive_Chemical_Risk_Prediction_Model/gb_model_class.pkl')\n",
        "\n",
        "# Risk mapping dictionary\n",
        "risk_mapping = {\n",
        "    'chlorine': 'Low',\n",
        "    'nitric acid; sulphonitric acids': 'High',\n",
        "    'cyanides and cyanide oxides: of sodium': 'High',\n",
        "    'hydrogen peroxide, whether or not solidified with urea.': 'High',\n",
        "    'iodine': 'Low',\n",
        "    'bromine': 'Low',\n",
        "    'chlorates and perchlorates; bromates and perbromates; iodates and periodates': 'High',\n",
        "    'mineral or chemical fertilizers, nitrogenous': 'Low',\n",
        "    'sulphuric acid; oleum': 'High',\n",
        "    'halides and halide oxides of non-metals': 'Low',\n",
        "    'fluorides; fluorosilicates, fluoroaluminates, and other complex fluorine salts': 'Low'\n",
        "}\n",
        "\n",
        "# Define quantity thresholds\n",
        "high_quantity_threshold = 150000\n",
        "\n",
        "# Function to encode the inputs\n",
        "def encode_inputs(importer_input, month_input, country_input, unit_input, year_input, hscode_input, description_1_input, description_2_input, description_3_input, quantity_input, value_input):\n",
        "    try:\n",
        "        # Encoding categorical features\n",
        "        importer_encoded = importer_encoder.transform([importer_input])[0] if importer_input in importer_encoder.classes_ else len(importer_encoder.classes_)\n",
        "        month_encoded = month_encoder.transform([month_input])[0] if month_input in month_encoder.classes_ else len(month_encoder.classes_)\n",
        "        country_encoded = country_encoder.transform([country_input])[0] if country_input in country_encoder.classes_ else len(country_encoder.classes_)\n",
        "        unit_encoded = unit_encoder.transform([unit_input])[0] if unit_input in unit_encoder.classes_ else len(unit_encoder.classes_)\n",
        "\n",
        "        # Encode descriptions as well (strings to integers)\n",
        "        description_1_encoded = description_01_encoder.transform([description_1_input])[0] if description_1_input in description_01_encoder.classes_ else len(description_01_encoder.classes_)\n",
        "        description_2_encoded = description_02_encoder.transform([description_2_input])[0] if description_2_input in description_02_encoder.classes_ else len(description_02_encoder.classes_)\n",
        "        description_3_encoded = description_03_encoder.transform([description_3_input])[0] if description_3_input in description_03_encoder.classes_ else len(description_03_encoder.classes_)\n",
        "\n",
        "        # Return the encoded values (description_3_input is now encoded as well)\n",
        "        return (importer_encoded, month_encoded, country_encoded, unit_encoded, year_input, hscode_input,\n",
        "                description_1_encoded, description_2_encoded, description_3_encoded, quantity_input, value_input)\n",
        "    except Exception as e:\n",
        "        raise ValueError(f\"Encoding failed: {e}\")\n",
        "\n",
        "# Function to calculate risk\n",
        "def calculate_risk(description, quantity):\n",
        "    description_risk = risk_mapping.get(description.lower(), 'Low')\n",
        "    if description_risk == 'High' or quantity > high_quantity_threshold:\n",
        "        return 'High'\n",
        "    else:\n",
        "        return 'Low'\n",
        "\n",
        "# Main function\n",
        "def main():\n",
        "    try:\n",
        "        # Take user inputs\n",
        "        importer_input = input(\"Enter importer: \").capitalize()\n",
        "        year_input = int(input(\"Enter year: \"))\n",
        "        country_input = input(\"Enter country: \").upper()\n",
        "        description_1_input = input(\"Enter description 1: \").capitalize()\n",
        "        description_2_input = input(\"Enter description 2: \").capitalize()\n",
        "        description_3_input = input(\"Enter description 3: \").capitalize()\n",
        "        quantity_input = float(input(\"Enter quantity: \"))\n",
        "        value_input = float(input(\"Enter value: \"))\n",
        "        hscode_input = int(input(\"Enter HS code: \"))\n",
        "        unit_input = input(\"Enter unit: \").upper()\n",
        "\n",
        "        # Validate inputs\n",
        "        if not all([importer_input, year_input, country_input, description_1_input, description_2_input, description_3_input, quantity_input, value_input, hscode_input, unit_input]):\n",
        "            print(\"Error: Missing required inputs\")\n",
        "            return\n",
        "\n",
        "        # Encode inputs\n",
        "        encoded_values = encode_inputs(\n",
        "            importer_input, year_input, country_input, unit_input,\n",
        "            year_input, hscode_input, description_1_input, description_2_input, description_3_input, quantity_input, value_input\n",
        "        )\n",
        "\n",
        "        # Preprocess features for models\n",
        "        features = np.array(encoded_values).reshape(1, -1)\n",
        "        features_scaled = scaler.transform(features)\n",
        "\n",
        "        # Prepare LSTM input format\n",
        "        features_lstm = features_scaled.reshape(features_scaled.shape[0], 1, features_scaled.shape[1])\n",
        "\n",
        "        # LSTM feature extraction\n",
        "        lstm_features = lstm_model.predict(features_lstm)\n",
        "        lstm_features = lstm_features.reshape(-1, 1)\n",
        "\n",
        "        # Risk classification using Gradient Boosting\n",
        "        prediction = gb_model_class.predict(lstm_features)\n",
        "        classification = 'risky' if prediction == 1 else 'not risky'\n",
        "\n",
        "        # Display the results\n",
        "        print(f\"Classification: {classification}\")\n",
        "\n",
        "        # Show risk category only if classified as risky\n",
        "        if classification == 'risky':\n",
        "            risk_category = calculate_risk(description_3_input, quantity_input)\n",
        "            print(f\"Risk category: {risk_category}\")\n",
        "\n",
        "    except Exception as e:\n",
        "        print(f\"Error: {e}\")\n",
        "\n",
        "# Run the script\n",
        "if __name__ == \"__main__\":\n",
        "    main()"
      ],
      "metadata": {
        "colab": {
          "base_uri": "https://localhost:8080/"
        },
        "id": "YZRKSBQthV8_",
        "outputId": "5ec4aba2-ee74-4f2d-be32-b8d7655cf50d"
      },
      "execution_count": 597,
      "outputs": [
        {
          "output_type": "stream",
          "name": "stderr",
          "text": [
            "WARNING:absl:Compiled the loaded model, but the compiled metrics have yet to be built. `model.compile_metrics` will be empty until you train or evaluate the model.\n"
          ]
        },
        {
          "name": "stdout",
          "output_type": "stream",
          "text": [
            "Enter importer: Shabna Inc\n",
            "Enter year: 2023\n",
            "Enter country: INDIA4\n",
            "Enter description 1: Inorganic chemicals; Organic or inorganic compounds of precious metals, of rare earth metals, of radioactive elements or of isotopes\n",
            "Enter description 2: Fluorine, chlorine, bromine and iodine\n",
            "Enter description 3: Chlorine\n",
            "Enter quantity: 130000\n",
            "Enter value: 150000\n",
            "Enter HS code: 2801100000\n",
            "Enter unit: Kg\n"
          ]
        },
        {
          "output_type": "stream",
          "name": "stderr",
          "text": [
            "WARNING:tensorflow:6 out of the last 20 calls to <function TensorFlowTrainer.make_predict_function.<locals>.one_step_on_data_distributed at 0x7a64aa93afc0> triggered tf.function retracing. Tracing is expensive and the excessive number of tracings could be due to (1) creating @tf.function repeatedly in a loop, (2) passing tensors with different shapes, (3) passing Python objects instead of tensors. For (1), please define your @tf.function outside of the loop. For (2), @tf.function has reduce_retracing=True option that can avoid unnecessary retracing. For (3), please refer to https://www.tensorflow.org/guide/function#controlling_retracing and https://www.tensorflow.org/api_docs/python/tf/function for  more details.\n"
          ]
        },
        {
          "output_type": "stream",
          "name": "stdout",
          "text": [
            "\u001b[1m1/1\u001b[0m \u001b[32m━━━━━━━━━━━━━━━━━━━━\u001b[0m\u001b[37m\u001b[0m \u001b[1m0s\u001b[0m 245ms/step\n",
            "Classification: risky\n",
            "Risk category: Low\n"
          ]
        }
      ]
    }
  ],
  "metadata": {
    "colab": {
      "provenance": [],
      "authorship_tag": "ABX9TyMsW1shCOAobgFSsltghLb9",
      "include_colab_link": true
    },
    "kernelspec": {
      "display_name": "Python 3",
      "name": "python3"
    },
    "language_info": {
      "name": "python"
    }
  },
  "nbformat": 4,
  "nbformat_minor": 0
}