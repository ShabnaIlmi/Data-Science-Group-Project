{
  "cells": [
    {
      "cell_type": "markdown",
      "metadata": {
        "id": "view-in-github",
        "colab_type": "text"
      },
      "source": [
        "<a href=\"https://colab.research.google.com/github/ShabnaIlmi/Data-Science-Group-Project/blob/main/Model_Training.ipynb\" target=\"_parent\"><img src=\"https://colab.research.google.com/assets/colab-badge.svg\" alt=\"Open In Colab\"/></a>"
      ]
    },
    {
      "cell_type": "markdown",
      "source": [
        "# **Installing Necessary Libraries**"
      ],
      "metadata": {
        "id": "M3GU45qxl_w3"
      }
    },
    {
      "cell_type": "code",
      "execution_count": 255,
      "metadata": {
        "id": "KpJO0Ib3RGsE"
      },
      "outputs": [],
      "source": [
        "# Installing required libraries\n",
        "# !pip install --upgrade tensorflow\n",
        "# !pip install fancyimpute scikit-learn pandas"
      ]
    },
    {
      "cell_type": "markdown",
      "source": [
        "# **Importing Necessary Libraries**"
      ],
      "metadata": {
        "id": "zl7IDspHmFNk"
      }
    },
    {
      "cell_type": "code",
      "execution_count": 256,
      "metadata": {
        "id": "8Q2eNv9ERdHW"
      },
      "outputs": [],
      "source": [
        "# Importing necessary libraries\n",
        "import pandas as pd\n",
        "import numpy as np\n",
        "import matplotlib.pyplot as plt\n",
        "import seaborn as sns\n",
        "from sklearn.experimental import enable_iterative_imputer\n",
        "from sklearn.preprocessing import StandardScaler\n",
        "from sklearn.impute import IterativeImputer, KNNImputer\n",
        "from sklearn.ensemble import RandomForestClassifier, RandomForestRegressor\n",
        "from sklearn.cluster import KMeans\n",
        "from sklearn.ensemble import RandomForestRegressor\n",
        "from sklearn.experimental import enable_iterative_imputer\n",
        "import warnings\n",
        "from imblearn.over_sampling import SMOTE\n",
        "from sklearn.impute import IterativeImputer\n",
        "from sklearn.model_selection import train_test_split\n",
        "from sklearn.preprocessing import LabelEncoder\n",
        "from sklearn.model_selection import train_test_split, GridSearchCV, cross_val_score, StratifiedKFold\n",
        "from sklearn.preprocessing import StandardScaler\n",
        "from sklearn.ensemble import GradientBoostingClassifier\n",
        "import tensorflow as tf\n",
        "from tensorflow.keras.models import load_model\n",
        "from tensorflow.keras.models import Sequential\n",
        "from tensorflow.keras.layers import LSTM, Dense, Dropout\n",
        "from sklearn.preprocessing import MinMaxScaler\n",
        "from sklearn.metrics import confusion_matrix, classification_report\n",
        "from sklearn.metrics import accuracy_score, classification_report\n",
        "import seaborn as sns\n",
        "from sklearn.preprocessing import LabelEncoder\n",
        "from sklearn.impute import KNNImputer\n",
        "import random\n",
        "import pickle\n",
        "import joblib"
      ]
    },
    {
      "cell_type": "markdown",
      "source": [
        "# **Mounting the Google Drive**"
      ],
      "metadata": {
        "id": "I1gzwvSYmKs6"
      }
    },
    {
      "cell_type": "code",
      "execution_count": 257,
      "metadata": {
        "id": "ZQeCGQRxRggh",
        "colab": {
          "base_uri": "https://localhost:8080/"
        },
        "outputId": "28d775c5-34c3-4fd3-c5f5-4f7669d89b34"
      },
      "outputs": [
        {
          "output_type": "stream",
          "name": "stdout",
          "text": [
            "Drive already mounted at /content/drive; to attempt to forcibly remount, call drive.mount(\"/content/drive\", force_remount=True).\n"
          ]
        }
      ],
      "source": [
        "# Mounting the google drive\n",
        "from google.colab import drive\n",
        "drive.mount('/content/drive')"
      ]
    },
    {
      "cell_type": "markdown",
      "source": [
        "# **Loading the Dataset**"
      ],
      "metadata": {
        "id": "RdyGCw8XmQLK"
      }
    },
    {
      "cell_type": "code",
      "execution_count": 258,
      "metadata": {
        "id": "Oa7Fm_pIRjd5"
      },
      "outputs": [],
      "source": [
        "# Loading the dataset with the proper delimiter (semicolon)\n",
        "data = pd.read_excel('/content/drive/MyDrive/Comprehensive_Chemical_Risk_Prediction_Model/IMPORT STATISTICS - 2023.xlsx')"
      ]
    },
    {
      "cell_type": "code",
      "execution_count": 259,
      "metadata": {
        "id": "7sLb40_ERmHc",
        "colab": {
          "base_uri": "https://localhost:8080/",
          "height": 206
        },
        "outputId": "cf332dc9-1148-4c18-a680-c62118f0f4ba"
      },
      "outputs": [
        {
          "output_type": "execute_result",
          "data": {
            "text/plain": [
              "  IMPORTER    YEAR     MONTH  HSCODE     COUNTRY UNIT  QUANTITY    VALUE_RS  \\\n",
              "0  Unknown  2023.0   JANUARY  280110  BANGLADESH  Kg.  131600.0  13877114.0   \n",
              "1  Unknown  2023.0   JANUARY  280110       INDIA  Kg.   37800.0   3924989.0   \n",
              "2  Unknown  2023.0   JANUARY  280110    MALAYSIA  Kg.   12090.0   5390772.0   \n",
              "3  Unknown  2023.0  FEBRUARY  280110  BANGLADESH  Kg.   25200.0   3089445.0   \n",
              "4  Unknown  2023.0  FEBRUARY  280110       INDIA  Kg.   75599.0   6939860.0   \n",
              "\n",
              "                                      DESCRIPTION_01  \\\n",
              "0  Inorganic chemicals; Organic or inorganic comp...   \n",
              "1  Inorganic chemicals; Organic or inorganic comp...   \n",
              "2  Inorganic chemicals; Organic or inorganic comp...   \n",
              "3  Inorganic chemicals; Organic or inorganic comp...   \n",
              "4  Inorganic chemicals; Organic or inorganic comp...   \n",
              "\n",
              "                                      DESCRIPTION_02 DESCRIPTION_03  \n",
              "0  Fluorine, chlorine, bromine and iodine        ...       Chlorine  \n",
              "1  Fluorine, chlorine, bromine and iodine        ...       Chlorine  \n",
              "2  Fluorine, chlorine, bromine and iodine        ...       Chlorine  \n",
              "3  Fluorine, chlorine, bromine and iodine        ...       Chlorine  \n",
              "4  Fluorine, chlorine, bromine and iodine        ...       Chlorine  "
            ],
            "text/html": [
              "\n",
              "  <div id=\"df-85673116-f17c-4d8a-8cae-19d121275403\" class=\"colab-df-container\">\n",
              "    <div>\n",
              "<style scoped>\n",
              "    .dataframe tbody tr th:only-of-type {\n",
              "        vertical-align: middle;\n",
              "    }\n",
              "\n",
              "    .dataframe tbody tr th {\n",
              "        vertical-align: top;\n",
              "    }\n",
              "\n",
              "    .dataframe thead th {\n",
              "        text-align: right;\n",
              "    }\n",
              "</style>\n",
              "<table border=\"1\" class=\"dataframe\">\n",
              "  <thead>\n",
              "    <tr style=\"text-align: right;\">\n",
              "      <th></th>\n",
              "      <th>IMPORTER</th>\n",
              "      <th>YEAR</th>\n",
              "      <th>MONTH</th>\n",
              "      <th>HSCODE</th>\n",
              "      <th>COUNTRY</th>\n",
              "      <th>UNIT</th>\n",
              "      <th>QUANTITY</th>\n",
              "      <th>VALUE_RS</th>\n",
              "      <th>DESCRIPTION_01</th>\n",
              "      <th>DESCRIPTION_02</th>\n",
              "      <th>DESCRIPTION_03</th>\n",
              "    </tr>\n",
              "  </thead>\n",
              "  <tbody>\n",
              "    <tr>\n",
              "      <th>0</th>\n",
              "      <td>Unknown</td>\n",
              "      <td>2023.0</td>\n",
              "      <td>JANUARY</td>\n",
              "      <td>280110</td>\n",
              "      <td>BANGLADESH</td>\n",
              "      <td>Kg.</td>\n",
              "      <td>131600.0</td>\n",
              "      <td>13877114.0</td>\n",
              "      <td>Inorganic chemicals; Organic or inorganic comp...</td>\n",
              "      <td>Fluorine, chlorine, bromine and iodine        ...</td>\n",
              "      <td>Chlorine</td>\n",
              "    </tr>\n",
              "    <tr>\n",
              "      <th>1</th>\n",
              "      <td>Unknown</td>\n",
              "      <td>2023.0</td>\n",
              "      <td>JANUARY</td>\n",
              "      <td>280110</td>\n",
              "      <td>INDIA</td>\n",
              "      <td>Kg.</td>\n",
              "      <td>37800.0</td>\n",
              "      <td>3924989.0</td>\n",
              "      <td>Inorganic chemicals; Organic or inorganic comp...</td>\n",
              "      <td>Fluorine, chlorine, bromine and iodine        ...</td>\n",
              "      <td>Chlorine</td>\n",
              "    </tr>\n",
              "    <tr>\n",
              "      <th>2</th>\n",
              "      <td>Unknown</td>\n",
              "      <td>2023.0</td>\n",
              "      <td>JANUARY</td>\n",
              "      <td>280110</td>\n",
              "      <td>MALAYSIA</td>\n",
              "      <td>Kg.</td>\n",
              "      <td>12090.0</td>\n",
              "      <td>5390772.0</td>\n",
              "      <td>Inorganic chemicals; Organic or inorganic comp...</td>\n",
              "      <td>Fluorine, chlorine, bromine and iodine        ...</td>\n",
              "      <td>Chlorine</td>\n",
              "    </tr>\n",
              "    <tr>\n",
              "      <th>3</th>\n",
              "      <td>Unknown</td>\n",
              "      <td>2023.0</td>\n",
              "      <td>FEBRUARY</td>\n",
              "      <td>280110</td>\n",
              "      <td>BANGLADESH</td>\n",
              "      <td>Kg.</td>\n",
              "      <td>25200.0</td>\n",
              "      <td>3089445.0</td>\n",
              "      <td>Inorganic chemicals; Organic or inorganic comp...</td>\n",
              "      <td>Fluorine, chlorine, bromine and iodine        ...</td>\n",
              "      <td>Chlorine</td>\n",
              "    </tr>\n",
              "    <tr>\n",
              "      <th>4</th>\n",
              "      <td>Unknown</td>\n",
              "      <td>2023.0</td>\n",
              "      <td>FEBRUARY</td>\n",
              "      <td>280110</td>\n",
              "      <td>INDIA</td>\n",
              "      <td>Kg.</td>\n",
              "      <td>75599.0</td>\n",
              "      <td>6939860.0</td>\n",
              "      <td>Inorganic chemicals; Organic or inorganic comp...</td>\n",
              "      <td>Fluorine, chlorine, bromine and iodine        ...</td>\n",
              "      <td>Chlorine</td>\n",
              "    </tr>\n",
              "  </tbody>\n",
              "</table>\n",
              "</div>\n",
              "    <div class=\"colab-df-buttons\">\n",
              "\n",
              "  <div class=\"colab-df-container\">\n",
              "    <button class=\"colab-df-convert\" onclick=\"convertToInteractive('df-85673116-f17c-4d8a-8cae-19d121275403')\"\n",
              "            title=\"Convert this dataframe to an interactive table.\"\n",
              "            style=\"display:none;\">\n",
              "\n",
              "  <svg xmlns=\"http://www.w3.org/2000/svg\" height=\"24px\" viewBox=\"0 -960 960 960\">\n",
              "    <path d=\"M120-120v-720h720v720H120Zm60-500h600v-160H180v160Zm220 220h160v-160H400v160Zm0 220h160v-160H400v160ZM180-400h160v-160H180v160Zm440 0h160v-160H620v160ZM180-180h160v-160H180v160Zm440 0h160v-160H620v160Z\"/>\n",
              "  </svg>\n",
              "    </button>\n",
              "\n",
              "  <style>\n",
              "    .colab-df-container {\n",
              "      display:flex;\n",
              "      gap: 12px;\n",
              "    }\n",
              "\n",
              "    .colab-df-convert {\n",
              "      background-color: #E8F0FE;\n",
              "      border: none;\n",
              "      border-radius: 50%;\n",
              "      cursor: pointer;\n",
              "      display: none;\n",
              "      fill: #1967D2;\n",
              "      height: 32px;\n",
              "      padding: 0 0 0 0;\n",
              "      width: 32px;\n",
              "    }\n",
              "\n",
              "    .colab-df-convert:hover {\n",
              "      background-color: #E2EBFA;\n",
              "      box-shadow: 0px 1px 2px rgba(60, 64, 67, 0.3), 0px 1px 3px 1px rgba(60, 64, 67, 0.15);\n",
              "      fill: #174EA6;\n",
              "    }\n",
              "\n",
              "    .colab-df-buttons div {\n",
              "      margin-bottom: 4px;\n",
              "    }\n",
              "\n",
              "    [theme=dark] .colab-df-convert {\n",
              "      background-color: #3B4455;\n",
              "      fill: #D2E3FC;\n",
              "    }\n",
              "\n",
              "    [theme=dark] .colab-df-convert:hover {\n",
              "      background-color: #434B5C;\n",
              "      box-shadow: 0px 1px 3px 1px rgba(0, 0, 0, 0.15);\n",
              "      filter: drop-shadow(0px 1px 2px rgba(0, 0, 0, 0.3));\n",
              "      fill: #FFFFFF;\n",
              "    }\n",
              "  </style>\n",
              "\n",
              "    <script>\n",
              "      const buttonEl =\n",
              "        document.querySelector('#df-85673116-f17c-4d8a-8cae-19d121275403 button.colab-df-convert');\n",
              "      buttonEl.style.display =\n",
              "        google.colab.kernel.accessAllowed ? 'block' : 'none';\n",
              "\n",
              "      async function convertToInteractive(key) {\n",
              "        const element = document.querySelector('#df-85673116-f17c-4d8a-8cae-19d121275403');\n",
              "        const dataTable =\n",
              "          await google.colab.kernel.invokeFunction('convertToInteractive',\n",
              "                                                    [key], {});\n",
              "        if (!dataTable) return;\n",
              "\n",
              "        const docLinkHtml = 'Like what you see? Visit the ' +\n",
              "          '<a target=\"_blank\" href=https://colab.research.google.com/notebooks/data_table.ipynb>data table notebook</a>'\n",
              "          + ' to learn more about interactive tables.';\n",
              "        element.innerHTML = '';\n",
              "        dataTable['output_type'] = 'display_data';\n",
              "        await google.colab.output.renderOutput(dataTable, element);\n",
              "        const docLink = document.createElement('div');\n",
              "        docLink.innerHTML = docLinkHtml;\n",
              "        element.appendChild(docLink);\n",
              "      }\n",
              "    </script>\n",
              "  </div>\n",
              "\n",
              "\n",
              "<div id=\"df-4639eba2-e3d1-457d-93c7-3cbe1d6eab65\">\n",
              "  <button class=\"colab-df-quickchart\" onclick=\"quickchart('df-4639eba2-e3d1-457d-93c7-3cbe1d6eab65')\"\n",
              "            title=\"Suggest charts\"\n",
              "            style=\"display:none;\">\n",
              "\n",
              "<svg xmlns=\"http://www.w3.org/2000/svg\" height=\"24px\"viewBox=\"0 0 24 24\"\n",
              "     width=\"24px\">\n",
              "    <g>\n",
              "        <path d=\"M19 3H5c-1.1 0-2 .9-2 2v14c0 1.1.9 2 2 2h14c1.1 0 2-.9 2-2V5c0-1.1-.9-2-2-2zM9 17H7v-7h2v7zm4 0h-2V7h2v10zm4 0h-2v-4h2v4z\"/>\n",
              "    </g>\n",
              "</svg>\n",
              "  </button>\n",
              "\n",
              "<style>\n",
              "  .colab-df-quickchart {\n",
              "      --bg-color: #E8F0FE;\n",
              "      --fill-color: #1967D2;\n",
              "      --hover-bg-color: #E2EBFA;\n",
              "      --hover-fill-color: #174EA6;\n",
              "      --disabled-fill-color: #AAA;\n",
              "      --disabled-bg-color: #DDD;\n",
              "  }\n",
              "\n",
              "  [theme=dark] .colab-df-quickchart {\n",
              "      --bg-color: #3B4455;\n",
              "      --fill-color: #D2E3FC;\n",
              "      --hover-bg-color: #434B5C;\n",
              "      --hover-fill-color: #FFFFFF;\n",
              "      --disabled-bg-color: #3B4455;\n",
              "      --disabled-fill-color: #666;\n",
              "  }\n",
              "\n",
              "  .colab-df-quickchart {\n",
              "    background-color: var(--bg-color);\n",
              "    border: none;\n",
              "    border-radius: 50%;\n",
              "    cursor: pointer;\n",
              "    display: none;\n",
              "    fill: var(--fill-color);\n",
              "    height: 32px;\n",
              "    padding: 0;\n",
              "    width: 32px;\n",
              "  }\n",
              "\n",
              "  .colab-df-quickchart:hover {\n",
              "    background-color: var(--hover-bg-color);\n",
              "    box-shadow: 0 1px 2px rgba(60, 64, 67, 0.3), 0 1px 3px 1px rgba(60, 64, 67, 0.15);\n",
              "    fill: var(--button-hover-fill-color);\n",
              "  }\n",
              "\n",
              "  .colab-df-quickchart-complete:disabled,\n",
              "  .colab-df-quickchart-complete:disabled:hover {\n",
              "    background-color: var(--disabled-bg-color);\n",
              "    fill: var(--disabled-fill-color);\n",
              "    box-shadow: none;\n",
              "  }\n",
              "\n",
              "  .colab-df-spinner {\n",
              "    border: 2px solid var(--fill-color);\n",
              "    border-color: transparent;\n",
              "    border-bottom-color: var(--fill-color);\n",
              "    animation:\n",
              "      spin 1s steps(1) infinite;\n",
              "  }\n",
              "\n",
              "  @keyframes spin {\n",
              "    0% {\n",
              "      border-color: transparent;\n",
              "      border-bottom-color: var(--fill-color);\n",
              "      border-left-color: var(--fill-color);\n",
              "    }\n",
              "    20% {\n",
              "      border-color: transparent;\n",
              "      border-left-color: var(--fill-color);\n",
              "      border-top-color: var(--fill-color);\n",
              "    }\n",
              "    30% {\n",
              "      border-color: transparent;\n",
              "      border-left-color: var(--fill-color);\n",
              "      border-top-color: var(--fill-color);\n",
              "      border-right-color: var(--fill-color);\n",
              "    }\n",
              "    40% {\n",
              "      border-color: transparent;\n",
              "      border-right-color: var(--fill-color);\n",
              "      border-top-color: var(--fill-color);\n",
              "    }\n",
              "    60% {\n",
              "      border-color: transparent;\n",
              "      border-right-color: var(--fill-color);\n",
              "    }\n",
              "    80% {\n",
              "      border-color: transparent;\n",
              "      border-right-color: var(--fill-color);\n",
              "      border-bottom-color: var(--fill-color);\n",
              "    }\n",
              "    90% {\n",
              "      border-color: transparent;\n",
              "      border-bottom-color: var(--fill-color);\n",
              "    }\n",
              "  }\n",
              "</style>\n",
              "\n",
              "  <script>\n",
              "    async function quickchart(key) {\n",
              "      const quickchartButtonEl =\n",
              "        document.querySelector('#' + key + ' button');\n",
              "      quickchartButtonEl.disabled = true;  // To prevent multiple clicks.\n",
              "      quickchartButtonEl.classList.add('colab-df-spinner');\n",
              "      try {\n",
              "        const charts = await google.colab.kernel.invokeFunction(\n",
              "            'suggestCharts', [key], {});\n",
              "      } catch (error) {\n",
              "        console.error('Error during call to suggestCharts:', error);\n",
              "      }\n",
              "      quickchartButtonEl.classList.remove('colab-df-spinner');\n",
              "      quickchartButtonEl.classList.add('colab-df-quickchart-complete');\n",
              "    }\n",
              "    (() => {\n",
              "      let quickchartButtonEl =\n",
              "        document.querySelector('#df-4639eba2-e3d1-457d-93c7-3cbe1d6eab65 button');\n",
              "      quickchartButtonEl.style.display =\n",
              "        google.colab.kernel.accessAllowed ? 'block' : 'none';\n",
              "    })();\n",
              "  </script>\n",
              "</div>\n",
              "\n",
              "    </div>\n",
              "  </div>\n"
            ],
            "application/vnd.google.colaboratory.intrinsic+json": {
              "type": "dataframe",
              "variable_name": "data",
              "summary": "{\n  \"name\": \"data\",\n  \"rows\": 1042,\n  \"fields\": [\n    {\n      \"column\": \"IMPORTER\",\n      \"properties\": {\n        \"dtype\": \"category\",\n        \"num_unique_values\": 1,\n        \"samples\": [\n          \"Unknown\"\n        ],\n        \"semantic_type\": \"\",\n        \"description\": \"\"\n      }\n    },\n    {\n      \"column\": \"YEAR\",\n      \"properties\": {\n        \"dtype\": \"number\",\n        \"std\": 3.409615319591779,\n        \"min\": 2016.0,\n        \"max\": 2023.0,\n        \"num_unique_values\": 2,\n        \"samples\": [\n          2016.0\n        ],\n        \"semantic_type\": \"\",\n        \"description\": \"\"\n      }\n    },\n    {\n      \"column\": \"MONTH\",\n      \"properties\": {\n        \"dtype\": \"category\",\n        \"num_unique_values\": 12,\n        \"samples\": [\n          \"NOVEMBER\"\n        ],\n        \"semantic_type\": \"\",\n        \"description\": \"\"\n      }\n    },\n    {\n      \"column\": \"HSCODE\",\n      \"properties\": {\n        \"dtype\": \"number\",\n        \"std\": 1326226917,\n        \"min\": 280110,\n        \"max\": 3102909000,\n        \"num_unique_values\": 131,\n        \"samples\": [\n          2801200042\n        ],\n        \"semantic_type\": \"\",\n        \"description\": \"\"\n      }\n    },\n    {\n      \"column\": \"COUNTRY\",\n      \"properties\": {\n        \"dtype\": \"category\",\n        \"num_unique_values\": 66,\n        \"samples\": [\n          \"italy\"\n        ],\n        \"semantic_type\": \"\",\n        \"description\": \"\"\n      }\n    },\n    {\n      \"column\": \"UNIT\",\n      \"properties\": {\n        \"dtype\": \"category\",\n        \"num_unique_values\": 9,\n        \"samples\": [\n          \"Kg\"\n        ],\n        \"semantic_type\": \"\",\n        \"description\": \"\"\n      }\n    },\n    {\n      \"column\": \"QUANTITY\",\n      \"properties\": {\n        \"dtype\": \"number\",\n        \"std\": 235249.2208540277,\n        \"min\": 0.0,\n        \"max\": 4000000.0,\n        \"num_unique_values\": 359,\n        \"samples\": [\n          12282.0\n        ],\n        \"semantic_type\": \"\",\n        \"description\": \"\"\n      }\n    },\n    {\n      \"column\": \"VALUE_RS\",\n      \"properties\": {\n        \"dtype\": \"number\",\n        \"std\": 7946637.087226704,\n        \"min\": 0.0,\n        \"max\": 47271723.0,\n        \"num_unique_values\": 263,\n        \"samples\": [\n          37.58\n        ],\n        \"semantic_type\": \"\",\n        \"description\": \"\"\n      }\n    },\n    {\n      \"column\": \"DESCRIPTION_01\",\n      \"properties\": {\n        \"dtype\": \"category\",\n        \"num_unique_values\": 2,\n        \"samples\": [\n          \"Fertilizers\"\n        ],\n        \"semantic_type\": \"\",\n        \"description\": \"\"\n      }\n    },\n    {\n      \"column\": \"DESCRIPTION_02\",\n      \"properties\": {\n        \"dtype\": \"category\",\n        \"num_unique_values\": 15,\n        \"samples\": [\n          \"Hydrogen peroxide, whether or not solidified with urea.  \"\n        ],\n        \"semantic_type\": \"\",\n        \"description\": \"\"\n      }\n    },\n    {\n      \"column\": \"DESCRIPTION_03\",\n      \"properties\": {\n        \"dtype\": \"category\",\n        \"num_unique_values\": 17,\n        \"samples\": [\n          \"Chlorine\"\n        ],\n        \"semantic_type\": \"\",\n        \"description\": \"\"\n      }\n    }\n  ]\n}"
            }
          },
          "metadata": {},
          "execution_count": 259
        }
      ],
      "source": [
        "# Displaying the first few rows of the data\n",
        "data.head()"
      ]
    },
    {
      "cell_type": "markdown",
      "source": [
        "# **Exploratary Data Analysis**"
      ],
      "metadata": {
        "id": "ddYF66VFmWyp"
      }
    },
    {
      "cell_type": "code",
      "execution_count": 260,
      "metadata": {
        "id": "l0JSg4yoRrHl",
        "colab": {
          "base_uri": "https://localhost:8080/"
        },
        "outputId": "b9244f53-0009-4fc4-8caf-de58ee20e1ec"
      },
      "outputs": [
        {
          "output_type": "stream",
          "name": "stdout",
          "text": [
            "Displaying data information\n",
            "<class 'pandas.core.frame.DataFrame'>\n",
            "RangeIndex: 1042 entries, 0 to 1041\n",
            "Data columns (total 11 columns):\n",
            " #   Column          Non-Null Count  Dtype  \n",
            "---  ------          --------------  -----  \n",
            " 0   IMPORTER        1042 non-null   object \n",
            " 1   YEAR            292 non-null    float64\n",
            " 2   MONTH           292 non-null    object \n",
            " 3   HSCODE          1042 non-null   int64  \n",
            " 4   COUNTRY         1038 non-null   object \n",
            " 5   UNIT            1042 non-null   object \n",
            " 6   QUANTITY        1039 non-null   float64\n",
            " 7   VALUE_RS        292 non-null    float64\n",
            " 8   DESCRIPTION_01  1042 non-null   object \n",
            " 9   DESCRIPTION_02  1042 non-null   object \n",
            " 10  DESCRIPTION_03  1042 non-null   object \n",
            "dtypes: float64(3), int64(1), object(7)\n",
            "memory usage: 89.7+ KB\n"
          ]
        }
      ],
      "source": [
        "# Displaying information\n",
        "print(\"Displaying data information\")\n",
        "data.info()"
      ]
    },
    {
      "cell_type": "markdown",
      "source": [
        "## **Identifying Categorical and Numerical Features**"
      ],
      "metadata": {
        "id": "tmIIo74ZmcQT"
      }
    },
    {
      "cell_type": "code",
      "execution_count": 261,
      "metadata": {
        "id": "EKJcjkaJRuce"
      },
      "outputs": [],
      "source": [
        "# Identifying categorical and numerical columns\n",
        "categorical_cols = data.select_dtypes(include=['object']).columns\n",
        "numerical_cols = data.select_dtypes(include=['int64', 'float64']).columns"
      ]
    },
    {
      "cell_type": "code",
      "execution_count": 262,
      "metadata": {
        "id": "lDQiGa86Rzue",
        "colab": {
          "base_uri": "https://localhost:8080/"
        },
        "outputId": "8018c457-b060-40bd-ee73-31596e55e060"
      },
      "outputs": [
        {
          "output_type": "stream",
          "name": "stdout",
          "text": [
            "Categorical Columns:\n",
            "Index(['IMPORTER', 'MONTH', 'COUNTRY', 'UNIT', 'DESCRIPTION_01',\n",
            "       'DESCRIPTION_02', 'DESCRIPTION_03'],\n",
            "      dtype='object')\n",
            "\n",
            "Numerical Columns:\n",
            "Index(['YEAR', 'HSCODE', 'QUANTITY', 'VALUE_RS'], dtype='object')\n"
          ]
        }
      ],
      "source": [
        "# Displaying the Categorical and the Numerical columns'\n",
        "print(\"Categorical Columns:\")\n",
        "print(categorical_cols)\n",
        "\n",
        "print(\"\\nNumerical Columns:\")\n",
        "print(numerical_cols)"
      ]
    },
    {
      "cell_type": "markdown",
      "source": [
        "**Since 'HSCODE' column has been misintepreted as an int64 data type column due to the unavailability of data, reassigning it has an object type column.**"
      ],
      "metadata": {
        "id": "YsP7x7FimgSo"
      }
    },
    {
      "cell_type": "code",
      "execution_count": 263,
      "metadata": {
        "id": "O5WdVMqAR2h9",
        "colab": {
          "base_uri": "https://localhost:8080/"
        },
        "outputId": "74314a17-ddc9-405f-a7ac-557c7804d512"
      },
      "outputs": [
        {
          "output_type": "stream",
          "name": "stdout",
          "text": [
            "Data Type of HSCODE Columns:\n",
            "HSCODE    object\n",
            "dtype: object\n"
          ]
        }
      ],
      "source": [
        "# Converting 'IMPORTER' and 'HSCODE' columns to string type\n",
        "data['HSCODE'] = data['HSCODE'].astype(str)\n",
        "\n",
        "# Displaying the HSCODE column data type\n",
        "print(\"Data Type of HSCODE Columns:\")\n",
        "print(data[['HSCODE']].dtypes)"
      ]
    },
    {
      "cell_type": "markdown",
      "source": [
        "### **Categorical Features**"
      ],
      "metadata": {
        "id": "OhKz7UydojR1"
      }
    },
    {
      "cell_type": "code",
      "execution_count": 264,
      "metadata": {
        "id": "wytyIHToR59b",
        "colab": {
          "base_uri": "https://localhost:8080/"
        },
        "outputId": "761473b1-3108-4332-adbc-85c952baf2d9"
      },
      "outputs": [
        {
          "output_type": "stream",
          "name": "stdout",
          "text": [
            "Categorical Features:\n",
            "- IMPORTER\n",
            "- MONTH\n",
            "- COUNTRY\n",
            "- HSCODE\n",
            "- UNIT\n",
            "- DESCRIPTION_01\n",
            "- DESCRIPTION_02\n",
            "- DESCRIPTION_03\n",
            "\n",
            "Data Type of Categorical Features:\n",
            "IMPORTER          object\n",
            "MONTH             object\n",
            "COUNTRY           object\n",
            "HSCODE            object\n",
            "UNIT              object\n",
            "DESCRIPTION_01    object\n",
            "DESCRIPTION_02    object\n",
            "DESCRIPTION_03    object\n",
            "dtype: object\n"
          ]
        }
      ],
      "source": [
        "# List of categorical features\n",
        "categorical_features = ['IMPORTER', 'MONTH', 'COUNTRY', 'HSCODE', 'UNIT', 'DESCRIPTION_01', 'DESCRIPTION_02', 'DESCRIPTION_03']\n",
        "\n",
        "# Displaying the categorical features\n",
        "print(\"Categorical Features:\")\n",
        "for feature in categorical_features:\n",
        "    print(f\"- {feature}\")\n",
        "\n",
        "# Display data type of the columns\n",
        "print(\"\\nData Type of Categorical Features:\")\n",
        "print(data[categorical_features].dtypes)"
      ]
    },
    {
      "cell_type": "markdown",
      "source": [
        "**Unique values and their counts relevant to each categorical column**"
      ],
      "metadata": {
        "id": "aTWPEbd_oo_n"
      }
    },
    {
      "cell_type": "code",
      "execution_count": 265,
      "metadata": {
        "id": "S5cnbjbNR8Ym",
        "colab": {
          "base_uri": "https://localhost:8080/"
        },
        "outputId": "e6f0bfde-dedc-46a1-8712-9439337a6dd0"
      },
      "outputs": [
        {
          "output_type": "stream",
          "name": "stdout",
          "text": [
            "Unique values and their count relevant to each categorical column:\n",
            "\n",
            "IMPORTER\n",
            "Unknown    1042\n",
            "Name: count, dtype: int64\n",
            " \n",
            "MONTH\n",
            "NOVEMBER     191\n",
            "FEBRUARY      13\n",
            "JULY          13\n",
            "MAY           11\n",
            "SEPTEMBER     11\n",
            "JANUARY       10\n",
            "JUNE           9\n",
            "AUGUST         8\n",
            "OCTOBER        8\n",
            "MARCH          6\n",
            "APRIL          6\n",
            "DECEMBER       6\n",
            "Name: count, dtype: int64\n",
            " \n",
            "COUNTRY\n",
            "Vietnam    299\n",
            "Russia     109\n",
            "Kenya       71\n",
            "Ukraine     58\n",
            "germany     51\n",
            "          ... \n",
            "U.S.A.       1\n",
            "Mexico       1\n",
            "CANADA       1\n",
            "India        1\n",
            "Romania      1\n",
            "Name: count, Length: 66, dtype: int64\n",
            " \n",
            "HSCODE\n",
            "28070010      85\n",
            "2847000000    84\n",
            "28080000      67\n",
            "3102401000    58\n",
            "28291100      54\n",
            "              ..\n",
            "2801200032     1\n",
            "2801200031     1\n",
            "2801200030     1\n",
            "2801200029     1\n",
            "2812101100     1\n",
            "Name: count, Length: 131, dtype: int64\n",
            " \n",
            "UNIT\n",
            "Kg     750\n",
            "Kg.    112\n",
            "KGS     47\n",
            "PCS     39\n",
            "NOS     33\n",
            "GMS     23\n",
            "MTS     19\n",
            "LTR     18\n",
            "DRM      1\n",
            "Name: count, dtype: int64\n",
            " \n",
            "DESCRIPTION_01\n",
            "Inorganic chemicals; Organic or inorganic compounds of precious metals, of rare earth metals, of radioactive elements or of isotopes    922\n",
            "Fertilizers                                                                                                                             120\n",
            "Name: count, dtype: int64\n",
            " \n",
            "DESCRIPTION_02\n",
            "Chlorates and perchlorates; bromates and perbromates; iodates and periodates                            120\n",
            "Mineral or chemical fertilizers, nitrogenous                                                            120\n",
            "Sulphuric acid; oleum                                                                                   120\n",
            "Halides and halide oxides of non metals                                                                 120\n",
            "Fluorides; fluorosilicates, fluoroaluminates, and other complex fluorine salts                          116\n",
            "Hydrogen peroxide, whether or not solidified with urea.                                                 110\n",
            "Nitric acid; sulphonitric acids.                                                                        100\n",
            "Fluorine, chlorine, bromine and iodine                                                                   64\n",
            "Nitric acid; sulphonitric acids.                                                                  ..     36\n",
            "Hydrogen peroxide, whether or not solidified with urea.                                           ..     35\n",
            "Fluorine, chlorine, bromine and iodine                                                            ..     34\n",
            "Nitric acid; sulphonitric acids.                                                                         20\n",
            "Fluorine, chlorine, bromine and iodine                                                                   20\n",
            "Cyanides, cyanide oxides and complex cyanides.                                                           20\n",
            "Cyanides, cyanide oxides and complex cyanides.                                                    ..      7\n",
            "Name: count, dtype: int64\n",
            " \n",
            "DESCRIPTION_03\n",
            "Halides and halide oxides of non metals                                           120\n",
            "Sulphuric acid; oleum                                                             120\n",
            "Mineral or chemical fertilizers, nitrogenous                                      120\n",
            "Chlorates and perchlorates; bromates and perbromates; iodates and periodates      120\n",
            "Fluorides; fluorosilicates, fluoroaluminates, and other complex fluorine salts    116\n",
            "Hydrogen peroxide, whether or not solidified with urea.                           110\n",
            "Nitric acid; sulphonitric acids.                                                  100\n",
            "Iodine                                                                             80\n",
            "Nitric acid; sulphonitric acids                                                    36\n",
            "Hydrogen peroxide, whether or not solidified with urea.                            35\n",
            "Chlorine                                                                           34\n",
            "Nitric acid; sulphonitric acids.                                                   20\n",
            "Cyanides and cyanide oxides : Of sodium                                            11\n",
            "Cyanides and cyanide oxides : Other                                                10\n",
            "- Cyanides and cyanide oxides : Other                                               4\n",
            "Bromine                                                                             4\n",
            "- Cyanides and cyanide oxides : Of sodium                                           2\n",
            "Name: count, dtype: int64\n",
            " \n"
          ]
        }
      ],
      "source": [
        "# Displaying the unique values and their counts relevant to each categorical column\n",
        "print(\"Unique values and their count relevant to each categorical column:\\n\")\n",
        "for col in categorical_features:\n",
        "    unique_values = data[col].unique()\n",
        "    value_counts = data[col].value_counts()\n",
        "    print(value_counts)\n",
        "    print(\" \")"
      ]
    },
    {
      "cell_type": "markdown",
      "source": [
        "**Categorical columns with null values and their relevant counts**"
      ],
      "metadata": {
        "id": "lkUggp0YpI_j"
      }
    },
    {
      "cell_type": "code",
      "execution_count": 266,
      "metadata": {
        "id": "UIrR9X6OR_OD",
        "colab": {
          "base_uri": "https://localhost:8080/"
        },
        "outputId": "19f0c793-b0da-4167-9a35-e991568511ef"
      },
      "outputs": [
        {
          "output_type": "stream",
          "name": "stdout",
          "text": [
            "Categorical columns with null values and their counts:\n",
            "MONTH: 750\n",
            "COUNTRY: 4\n"
          ]
        }
      ],
      "source": [
        "# Displaying the categorical columns which contains null values and their counts\n",
        "print(\"Categorical columns with null values and their counts:\")\n",
        "for col in categorical_features:\n",
        "    null_count = data[col].isnull().sum()\n",
        "    if null_count > 0:\n",
        "        print(f\"{col}: {null_count}\")"
      ]
    },
    {
      "cell_type": "markdown",
      "source": [
        "**Categorical columns with 'Unknown' values and their relevant counts**"
      ],
      "metadata": {
        "id": "5eJWoeKkpPaJ"
      }
    },
    {
      "cell_type": "code",
      "execution_count": 267,
      "metadata": {
        "id": "ooeL5t2MSBgx",
        "colab": {
          "base_uri": "https://localhost:8080/"
        },
        "outputId": "dba7c449-c71f-43e7-ca90-0232c114dcdd"
      },
      "outputs": [
        {
          "output_type": "stream",
          "name": "stdout",
          "text": [
            "Categorical columns with 'Unknown' values and their counts:\n",
            "IMPORTER: 1042\n"
          ]
        }
      ],
      "source": [
        "# Displaying the categorical columns which contain 'Unknown' values and their relevant counts\n",
        "print(\"Categorical columns with 'Unknown' values and their counts:\")\n",
        "for col in categorical_features:\n",
        "    unknown_count = (data[col] == 'Unknown').sum()\n",
        "    if unknown_count > 0:\n",
        "        print(f\"{col}: {unknown_count}\")"
      ]
    },
    {
      "cell_type": "markdown",
      "source": [
        "## **Numerical Features**"
      ],
      "metadata": {
        "id": "oaAlkEI5pWK7"
      }
    },
    {
      "cell_type": "markdown",
      "source": [
        "**Since 'Year' column has been misintepreted as a float64 data type column reassigning it as a int64 type column**"
      ],
      "metadata": {
        "id": "b8YbE2q2pZQ3"
      }
    },
    {
      "cell_type": "code",
      "execution_count": 268,
      "metadata": {
        "id": "Ce0s8spZSEr0"
      },
      "outputs": [],
      "source": [
        "# Converting the 'Year' column to int64 data type\n",
        "# data['YEAR'] = data['YEAR'].astype(int)\n",
        "\n",
        "# Displaying the data type of the 'Year' column\n",
        "# print(\"Data Type of 'Year' Column:\")\n",
        "# print(data['YEAR'].dtype)"
      ]
    },
    {
      "cell_type": "markdown",
      "source": [
        "**The conversion cannot be done since the column contains missing values (both N/A and null values)**"
      ],
      "metadata": {
        "id": "A4C_Vzbppe4w"
      }
    },
    {
      "cell_type": "code",
      "execution_count": 269,
      "metadata": {
        "id": "iTCh_JNLSHqw",
        "colab": {
          "base_uri": "https://localhost:8080/"
        },
        "outputId": "eaa0f400-8f37-46fb-9668-ff1b19f30543"
      },
      "outputs": [
        {
          "output_type": "stream",
          "name": "stdout",
          "text": [
            "Numerical Features:\n",
            "- YEAR\n",
            "- QUANTITY\n",
            "- VALUE_RS\n",
            "\n",
            "Data Type of Numerical Features:\n",
            "YEAR        float64\n",
            "QUANTITY    float64\n",
            "VALUE_RS    float64\n",
            "dtype: object\n"
          ]
        }
      ],
      "source": [
        "# List of numerical features\n",
        "numerical_features = ['YEAR', 'QUANTITY', 'VALUE_RS']\n",
        "\n",
        "# Displaying the numerical features\n",
        "print(\"Numerical Features:\")\n",
        "for feature in numerical_features:\n",
        "    print(f\"- {feature}\")\n",
        "\n",
        "# Display the data type of the numerical features\n",
        "print(\"\\nData Type of Numerical Features:\")\n",
        "print(data[numerical_features].dtypes)"
      ]
    },
    {
      "cell_type": "markdown",
      "source": [
        "**Unique values and their counts in the numerical columns**"
      ],
      "metadata": {
        "id": "odxlwxWRplVq"
      }
    },
    {
      "cell_type": "code",
      "execution_count": 270,
      "metadata": {
        "id": "CT0tHUB-SKL3",
        "colab": {
          "base_uri": "https://localhost:8080/"
        },
        "outputId": "a6ecec82-38ba-401f-8c82-dfdd244de378"
      },
      "outputs": [
        {
          "output_type": "stream",
          "name": "stdout",
          "text": [
            "Unique values and their count in the numerical columns:\n",
            "\n",
            "YEAR\n",
            "2016.0    180\n",
            "2023.0    112\n",
            "Name: count, dtype: int64\n",
            " \n",
            "QUANTITY\n",
            "1000.0     55\n",
            "1.0        49\n",
            "16200.0    40\n",
            "5.0        31\n",
            "27.0       28\n",
            "           ..\n",
            "204.0       1\n",
            "23200.0     1\n",
            "22820.0     1\n",
            "22560.0     1\n",
            "19050.0     1\n",
            "Name: count, Length: 359, dtype: int64\n",
            " \n",
            "VALUE_RS\n",
            "0.40           4\n",
            "53.79          3\n",
            "188.55         3\n",
            "0.20           3\n",
            "21.15          2\n",
            "              ..\n",
            "350598.00      1\n",
            "2213950.00     1\n",
            "10318355.00    1\n",
            "24988179.00    1\n",
            "0.68           1\n",
            "Name: count, Length: 263, dtype: int64\n",
            " \n"
          ]
        }
      ],
      "source": [
        "# Displaying the unique values and their count in the numerical columns\n",
        "print(\"Unique values and their count in the numerical columns:\\n\")\n",
        "for col in numerical_features:\n",
        "    unique_values = data[col].unique()\n",
        "    value_counts = data[col].value_counts()\n",
        "    print(value_counts)\n",
        "    print(\" \")"
      ]
    },
    {
      "cell_type": "markdown",
      "source": [
        "**Numerical columns with null values and their relevant counts**"
      ],
      "metadata": {
        "id": "PFckVAa-psxR"
      }
    },
    {
      "cell_type": "code",
      "execution_count": 271,
      "metadata": {
        "id": "mL2TVR5VSMv5",
        "colab": {
          "base_uri": "https://localhost:8080/"
        },
        "outputId": "74a1fb66-0d3b-4929-f6af-a3f435d24bca"
      },
      "outputs": [
        {
          "output_type": "stream",
          "name": "stdout",
          "text": [
            "Numerical columns with null values and their relevant counts:\n",
            "YEAR: 750\n",
            "QUANTITY: 3\n",
            "VALUE_RS: 750\n"
          ]
        }
      ],
      "source": [
        "# Displaying the numerical columns with null values and their relevant counts\n",
        "print(\"Numerical columns with null values and their relevant counts:\")\n",
        "for col in numerical_cols:\n",
        "    null_count = data[col].isnull().sum()\n",
        "    if null_count > 0:\n",
        "        print(f\"{col}: {null_count}\")"
      ]
    },
    {
      "cell_type": "markdown",
      "source": [
        "# **Data Preprocessing**"
      ],
      "metadata": {
        "id": "9NWsfqKMpxEH"
      }
    },
    {
      "cell_type": "markdown",
      "source": [
        "## **Data Cleaning**"
      ],
      "metadata": {
        "id": "OAS4qv9Np0UY"
      }
    },
    {
      "cell_type": "code",
      "execution_count": 272,
      "metadata": {
        "id": "CEra36rPSPBF"
      },
      "outputs": [],
      "source": [
        "# Step 1: Removing whitespaces from the object type columns\n",
        "object_columns = data.select_dtypes(include=['object']).columns\n",
        "data[object_columns] = data[object_columns].apply(lambda x: x.str.strip())"
      ]
    },
    {
      "cell_type": "code",
      "execution_count": 273,
      "metadata": {
        "id": "X08Ns0uwSRFn"
      },
      "outputs": [],
      "source": [
        "# Step 2: Removing unnecessary full stops(\".\") from the categorical columns\n",
        "data[categorical_cols] = data[categorical_cols].apply(lambda x: x.str.replace('.', ''))"
      ]
    },
    {
      "cell_type": "code",
      "execution_count": 274,
      "metadata": {
        "id": "NCTf04M2r0r5"
      },
      "outputs": [],
      "source": [
        "# Step 3: Removing unnecessary special characters and trailing spaces from the 'DESCRIPTION_03' column\n",
        "# Removing the leading hyphen\n",
        "data['DESCRIPTION_03'] = data['DESCRIPTION_03'].str.lstrip('-')\n",
        "\n",
        "# Removing trailing spaces\n",
        "data['DESCRIPTION_03'] = data['DESCRIPTION_03'].str.strip()"
      ]
    },
    {
      "cell_type": "code",
      "execution_count": 275,
      "metadata": {
        "id": "7ILWIdOS0OfY"
      },
      "outputs": [],
      "source": [
        "# Step 4: Removing trailing spaces for the entire 'DESCRIPTION_02' column\n",
        "data['DESCRIPTION_02'] = data['DESCRIPTION_02'].str.strip()"
      ]
    },
    {
      "cell_type": "code",
      "execution_count": 276,
      "metadata": {
        "id": "ERYwXLY0STrB",
        "colab": {
          "base_uri": "https://localhost:8080/"
        },
        "outputId": "46b1359d-8433-4b92-8299-278669cb1bc5"
      },
      "outputs": [
        {
          "output_type": "stream",
          "name": "stdout",
          "text": [
            "Unique values and their count relevant to each categorical column:\n",
            "\n",
            "IMPORTER\n",
            "Unknown    1042\n",
            "Name: count, dtype: int64\n",
            " \n",
            "MONTH\n",
            "NOVEMBER     191\n",
            "FEBRUARY      13\n",
            "JULY          13\n",
            "MAY           11\n",
            "SEPTEMBER     11\n",
            "JANUARY       10\n",
            "JUNE           9\n",
            "AUGUST         8\n",
            "OCTOBER        8\n",
            "MARCH          6\n",
            "APRIL          6\n",
            "DECEMBER       6\n",
            "Name: count, dtype: int64\n",
            " \n",
            "COUNTRY\n",
            "Vietnam    299\n",
            "Russia     109\n",
            "Kenya       71\n",
            "Ukraine     58\n",
            "germany     51\n",
            "          ... \n",
            "USA          1\n",
            "Mexico       1\n",
            "CANADA       1\n",
            "India        1\n",
            "Romania      1\n",
            "Name: count, Length: 66, dtype: int64\n",
            " \n",
            "HSCODE\n",
            "28070010      85\n",
            "2847000000    84\n",
            "28080000      67\n",
            "3102401000    58\n",
            "28291100      54\n",
            "              ..\n",
            "2801200032     1\n",
            "2801200031     1\n",
            "2801200030     1\n",
            "2801200029     1\n",
            "2812101100     1\n",
            "Name: count, Length: 131, dtype: int64\n",
            " \n",
            "UNIT\n",
            "Kg     862\n",
            "KGS     47\n",
            "PCS     39\n",
            "NOS     33\n",
            "GMS     23\n",
            "MTS     19\n",
            "LTR     18\n",
            "DRM      1\n",
            "Name: count, dtype: int64\n",
            " \n",
            "DESCRIPTION_01\n",
            "Inorganic chemicals; Organic or inorganic compounds of precious metals, of rare earth metals, of radioactive elements or of isotopes    922\n",
            "Fertilizers                                                                                                                             120\n",
            "Name: count, dtype: int64\n",
            " \n",
            "DESCRIPTION_02\n",
            "Nitric acid; sulphonitric acids                                                   156\n",
            "Hydrogen peroxide, whether or not solidified with urea                            145\n",
            "Chlorates and perchlorates; bromates and perbromates; iodates and periodates      120\n",
            "Mineral or chemical fertilizers, nitrogenous                                      120\n",
            "Sulphuric acid; oleum                                                             120\n",
            "Halides and halide oxides of non metals                                           120\n",
            "Fluorine, chlorine, bromine and iodine                                            118\n",
            "Fluorides; fluorosilicates, fluoroaluminates, and other complex fluorine salts    116\n",
            "Cyanides, cyanide oxides and complex cyanides                                      27\n",
            "Name: count, dtype: int64\n",
            " \n",
            "DESCRIPTION_03\n",
            "Nitric acid sulphonitric acids                                                 156\n",
            "Hydrogen peroxide whether or not solidified with urea                          145\n",
            "Chlorates and perchlorates bromates and perbromates iodates and periodates     120\n",
            "Mineral or chemical fertilizers nitrogenous                                    120\n",
            "Sulphuric acid oleum                                                           120\n",
            "Halides and halide oxides of non metals                                        120\n",
            "Fluorides fluorosilicates fluoroaluminates and other complex fluorine salts    116\n",
            "Iodine                                                                          80\n",
            "Chlorine                                                                        34\n",
            "Cyanides and cyanide oxides  Other                                              14\n",
            "Cyanides and cyanide oxides  Of sodium                                          13\n",
            "Bromine                                                                          4\n",
            "Name: count, dtype: int64\n",
            " \n"
          ]
        }
      ],
      "source": [
        "# Displaying the unique values and their counts relevant to each categorical column\n",
        "print(\"Unique values and their count relevant to each categorical column:\\n\")\n",
        "for col in categorical_features:\n",
        "    unique_values = data[col].unique()\n",
        "    value_counts = data[col].value_counts()\n",
        "    print(value_counts)\n",
        "    print(\" \")"
      ]
    },
    {
      "cell_type": "code",
      "execution_count": 277,
      "metadata": {
        "id": "9WRCVTgJSXZ1",
        "colab": {
          "base_uri": "https://localhost:8080/"
        },
        "outputId": "666820b7-ec67-40c0-9764-8569491b8913"
      },
      "outputs": [
        {
          "output_type": "stream",
          "name": "stdout",
          "text": [
            "     IMPORTER    YEAR     MONTH      HSCODE      COUNTRY UNIT  QUANTITY  \\\n",
            "0     Unknown  2023.0   JANUARY      280110   BANGLADESH   KG  131600.0   \n",
            "1     Unknown  2023.0   JANUARY      280110        INDIA   KG   37800.0   \n",
            "2     Unknown  2023.0   JANUARY      280110     MALAYSIA   KG   12090.0   \n",
            "3     Unknown  2023.0  FEBRUARY      280110   BANGLADESH   KG   25200.0   \n",
            "4     Unknown  2023.0  FEBRUARY      280110        INDIA   KG   75599.0   \n",
            "...       ...     ...       ...         ...          ...  ...       ...   \n",
            "1037  Unknown     NaN       NaN    28121047  SOUTH KOREA   KG   16200.0   \n",
            "1038  Unknown     NaN       NaN    28121047  SOUTH KOREA   KG   16200.0   \n",
            "1039  Unknown     NaN       NaN  2812109900      UKRAINE   KG       NaN   \n",
            "1040  Unknown     NaN       NaN  2812109900      UKRAINE   KG       NaN   \n",
            "1041  Unknown     NaN       NaN    28121047  SOUTH KOREA   KG   16200.0   \n",
            "\n",
            "        VALUE_RS                                     DESCRIPTION_01  \\\n",
            "0     13877114.0  Inorganic chemicals; Organic or inorganic comp...   \n",
            "1      3924989.0  Inorganic chemicals; Organic or inorganic comp...   \n",
            "2      5390772.0  Inorganic chemicals; Organic or inorganic comp...   \n",
            "3      3089445.0  Inorganic chemicals; Organic or inorganic comp...   \n",
            "4      6939860.0  Inorganic chemicals; Organic or inorganic comp...   \n",
            "...          ...                                                ...   \n",
            "1037         NaN  Inorganic chemicals; Organic or inorganic comp...   \n",
            "1038         NaN  Inorganic chemicals; Organic or inorganic comp...   \n",
            "1039         NaN  Inorganic chemicals; Organic or inorganic comp...   \n",
            "1040         NaN  Inorganic chemicals; Organic or inorganic comp...   \n",
            "1041         NaN  Inorganic chemicals; Organic or inorganic comp...   \n",
            "\n",
            "                               DESCRIPTION_02  \\\n",
            "0      Fluorine, chlorine, bromine and iodine   \n",
            "1      Fluorine, chlorine, bromine and iodine   \n",
            "2      Fluorine, chlorine, bromine and iodine   \n",
            "3      Fluorine, chlorine, bromine and iodine   \n",
            "4      Fluorine, chlorine, bromine and iodine   \n",
            "...                                       ...   \n",
            "1037  Halides and halide oxides of non metals   \n",
            "1038  Halides and halide oxides of non metals   \n",
            "1039  Halides and halide oxides of non metals   \n",
            "1040  Halides and halide oxides of non metals   \n",
            "1041  Halides and halide oxides of non metals   \n",
            "\n",
            "                               DESCRIPTION_03  \n",
            "0                                    Chlorine  \n",
            "1                                    Chlorine  \n",
            "2                                    Chlorine  \n",
            "3                                    Chlorine  \n",
            "4                                    Chlorine  \n",
            "...                                       ...  \n",
            "1037  Halides and halide oxides of non metals  \n",
            "1038  Halides and halide oxides of non metals  \n",
            "1039  Halides and halide oxides of non metals  \n",
            "1040  Halides and halide oxides of non metals  \n",
            "1041  Halides and halide oxides of non metals  \n",
            "\n",
            "[1042 rows x 11 columns]\n"
          ]
        }
      ],
      "source": [
        "# Step 5: Converting all the values in the 'COUNTRY' and the 'UNIT' columns to uppercase values\n",
        "data['COUNTRY'] = data['COUNTRY'].str.upper()\n",
        "data['UNIT'] = data['UNIT'].str.upper()\n",
        "\n",
        "# Displaying the modified dataset\n",
        "print(data)"
      ]
    },
    {
      "cell_type": "code",
      "execution_count": 278,
      "metadata": {
        "id": "HJk0FvSvSaLk",
        "colab": {
          "base_uri": "https://localhost:8080/"
        },
        "outputId": "1087fc0d-08b8-481f-f86e-3c86ab9bcb25"
      },
      "outputs": [
        {
          "output_type": "stream",
          "name": "stdout",
          "text": [
            "     IMPORTER    YEAR     MONTH      HSCODE      COUNTRY UNIT  QUANTITY  \\\n",
            "0     Unknown  2023.0   JANUARY      280110   BANGLADESH   KG  131600.0   \n",
            "1     Unknown  2023.0   JANUARY      280110        INDIA   KG   37800.0   \n",
            "2     Unknown  2023.0   JANUARY      280110     MALAYSIA   KG   12090.0   \n",
            "3     Unknown  2023.0  FEBRUARY      280110   BANGLADESH   KG   25200.0   \n",
            "4     Unknown  2023.0  FEBRUARY      280110        INDIA   KG   75599.0   \n",
            "...       ...     ...       ...         ...          ...  ...       ...   \n",
            "1037  Unknown     NaN       NaN    28121047  SOUTH KOREA   KG   16200.0   \n",
            "1038  Unknown     NaN       NaN    28121047  SOUTH KOREA   KG   16200.0   \n",
            "1039  Unknown     NaN       NaN  2812109900      UKRAINE   KG       NaN   \n",
            "1040  Unknown     NaN       NaN  2812109900      UKRAINE   KG       NaN   \n",
            "1041  Unknown     NaN       NaN    28121047  SOUTH KOREA   KG   16200.0   \n",
            "\n",
            "        VALUE_RS                                     DESCRIPTION_01  \\\n",
            "0     13877114.0  Inorganic chemicals; Organic or inorganic comp...   \n",
            "1      3924989.0  Inorganic chemicals; Organic or inorganic comp...   \n",
            "2      5390772.0  Inorganic chemicals; Organic or inorganic comp...   \n",
            "3      3089445.0  Inorganic chemicals; Organic or inorganic comp...   \n",
            "4      6939860.0  Inorganic chemicals; Organic or inorganic comp...   \n",
            "...          ...                                                ...   \n",
            "1037         NaN  Inorganic chemicals; Organic or inorganic comp...   \n",
            "1038         NaN  Inorganic chemicals; Organic or inorganic comp...   \n",
            "1039         NaN  Inorganic chemicals; Organic or inorganic comp...   \n",
            "1040         NaN  Inorganic chemicals; Organic or inorganic comp...   \n",
            "1041         NaN  Inorganic chemicals; Organic or inorganic comp...   \n",
            "\n",
            "                               DESCRIPTION_02  \\\n",
            "0      Fluorine, chlorine, bromine and iodine   \n",
            "1      Fluorine, chlorine, bromine and iodine   \n",
            "2      Fluorine, chlorine, bromine and iodine   \n",
            "3      Fluorine, chlorine, bromine and iodine   \n",
            "4      Fluorine, chlorine, bromine and iodine   \n",
            "...                                       ...   \n",
            "1037  Halides and halide oxides of non metals   \n",
            "1038  Halides and halide oxides of non metals   \n",
            "1039  Halides and halide oxides of non metals   \n",
            "1040  Halides and halide oxides of non metals   \n",
            "1041  Halides and halide oxides of non metals   \n",
            "\n",
            "                               DESCRIPTION_03  \n",
            "0                                    Chlorine  \n",
            "1                                    Chlorine  \n",
            "2                                    Chlorine  \n",
            "3                                    Chlorine  \n",
            "4                                    Chlorine  \n",
            "...                                       ...  \n",
            "1037  Halides and halide oxides of non metals  \n",
            "1038  Halides and halide oxides of non metals  \n",
            "1039  Halides and halide oxides of non metals  \n",
            "1040  Halides and halide oxides of non metals  \n",
            "1041  Halides and halide oxides of non metals  \n",
            "\n",
            "[1042 rows x 11 columns]\n"
          ]
        }
      ],
      "source": [
        "# Step 6: Converting the 'KGS' values in the 'Unit' columns to 'KG'\n",
        "data.loc[data['UNIT'] == 'KGS', 'UNIT'] = 'KG'\n",
        "\n",
        "# Displaying the modified dataset\n",
        "print(data)"
      ]
    },
    {
      "cell_type": "code",
      "execution_count": 279,
      "metadata": {
        "id": "r6dhxlqYSdO_",
        "colab": {
          "base_uri": "https://localhost:8080/"
        },
        "outputId": "65d780dc-fd02-4e8e-d23f-4081c268ac7f"
      },
      "outputs": [
        {
          "output_type": "stream",
          "name": "stdout",
          "text": [
            "     IMPORTER    YEAR     MONTH      HSCODE      COUNTRY UNIT  QUANTITY  \\\n",
            "0     Unknown  2023.0   JANUARY  2801100000   BANGLADESH   KG  131600.0   \n",
            "1     Unknown  2023.0   JANUARY  2801100000        INDIA   KG   37800.0   \n",
            "2     Unknown  2023.0   JANUARY  2801100000     MALAYSIA   KG   12090.0   \n",
            "3     Unknown  2023.0  FEBRUARY  2801100000   BANGLADESH   KG   25200.0   \n",
            "4     Unknown  2023.0  FEBRUARY  2801100000        INDIA   KG   75599.0   \n",
            "...       ...     ...       ...         ...          ...  ...       ...   \n",
            "1037  Unknown     NaN       NaN  2812104700  SOUTH KOREA   KG   16200.0   \n",
            "1038  Unknown     NaN       NaN  2812104700  SOUTH KOREA   KG   16200.0   \n",
            "1039  Unknown     NaN       NaN  2812109900      UKRAINE   KG       NaN   \n",
            "1040  Unknown     NaN       NaN  2812109900      UKRAINE   KG       NaN   \n",
            "1041  Unknown     NaN       NaN  2812104700  SOUTH KOREA   KG   16200.0   \n",
            "\n",
            "        VALUE_RS                                     DESCRIPTION_01  \\\n",
            "0     13877114.0  Inorganic chemicals; Organic or inorganic comp...   \n",
            "1      3924989.0  Inorganic chemicals; Organic or inorganic comp...   \n",
            "2      5390772.0  Inorganic chemicals; Organic or inorganic comp...   \n",
            "3      3089445.0  Inorganic chemicals; Organic or inorganic comp...   \n",
            "4      6939860.0  Inorganic chemicals; Organic or inorganic comp...   \n",
            "...          ...                                                ...   \n",
            "1037         NaN  Inorganic chemicals; Organic or inorganic comp...   \n",
            "1038         NaN  Inorganic chemicals; Organic or inorganic comp...   \n",
            "1039         NaN  Inorganic chemicals; Organic or inorganic comp...   \n",
            "1040         NaN  Inorganic chemicals; Organic or inorganic comp...   \n",
            "1041         NaN  Inorganic chemicals; Organic or inorganic comp...   \n",
            "\n",
            "                               DESCRIPTION_02  \\\n",
            "0      Fluorine, chlorine, bromine and iodine   \n",
            "1      Fluorine, chlorine, bromine and iodine   \n",
            "2      Fluorine, chlorine, bromine and iodine   \n",
            "3      Fluorine, chlorine, bromine and iodine   \n",
            "4      Fluorine, chlorine, bromine and iodine   \n",
            "...                                       ...   \n",
            "1037  Halides and halide oxides of non metals   \n",
            "1038  Halides and halide oxides of non metals   \n",
            "1039  Halides and halide oxides of non metals   \n",
            "1040  Halides and halide oxides of non metals   \n",
            "1041  Halides and halide oxides of non metals   \n",
            "\n",
            "                               DESCRIPTION_03  \n",
            "0                                    Chlorine  \n",
            "1                                    Chlorine  \n",
            "2                                    Chlorine  \n",
            "3                                    Chlorine  \n",
            "4                                    Chlorine  \n",
            "...                                       ...  \n",
            "1037  Halides and halide oxides of non metals  \n",
            "1038  Halides and halide oxides of non metals  \n",
            "1039  Halides and halide oxides of non metals  \n",
            "1040  Halides and halide oxides of non metals  \n",
            "1041  Halides and halide oxides of non metals  \n",
            "\n",
            "[1042 rows x 11 columns]\n"
          ]
        }
      ],
      "source": [
        "# Step 7: Handling the HSCODES\n",
        "\n",
        "# Checking the length of the HSCODES and determining the maximum length\n",
        "data['HSCODE_LENGTH'] = data['HSCODE'].apply(len)\n",
        "max_length = data['HSCODE_LENGTH'].max()\n",
        "\n",
        "# Padding HSCODE values with trailing zeros to match the maximum length\n",
        "data['HSCODE'] = data['HSCODE'].apply(lambda x: x.ljust(max_length, '0'))\n",
        "\n",
        "# Dropping the helper column 'HSCODE_LENGTH' as it's no longer needed\n",
        "data.drop(columns=['HSCODE_LENGTH'], inplace=True)\n",
        "\n",
        "# Displaying the modified dataset\n",
        "print(data)"
      ]
    },
    {
      "cell_type": "code",
      "execution_count": 280,
      "metadata": {
        "id": "BZ5JxIXg6fcG",
        "colab": {
          "base_uri": "https://localhost:8080/"
        },
        "outputId": "e5ae9b38-2775-4451-e917-b9034f1c9af6"
      },
      "outputs": [
        {
          "output_type": "stream",
          "name": "stdout",
          "text": [
            "     IMPORTER    YEAR     MONTH      HSCODE      COUNTRY UNIT  QUANTITY  \\\n",
            "0     Unknown  2023.0   JANUARY  2801100000   BANGLADESH   KG  131600.0   \n",
            "1     Unknown  2023.0   JANUARY  2801100000        INDIA   KG   37800.0   \n",
            "2     Unknown  2023.0   JANUARY  2801100000     MALAYSIA   KG   12090.0   \n",
            "3     Unknown  2023.0  FEBRUARY  2801100000   BANGLADESH   KG   25200.0   \n",
            "4     Unknown  2023.0  FEBRUARY  2801100000        INDIA   KG   75599.0   \n",
            "...       ...     ...       ...         ...          ...  ...       ...   \n",
            "1037  Unknown     NaN       NaN  2812104700  SOUTH KOREA   KG   16200.0   \n",
            "1038  Unknown     NaN       NaN  2812104700  SOUTH KOREA   KG   16200.0   \n",
            "1039  Unknown     NaN       NaN  2812109900      UKRAINE   KG       NaN   \n",
            "1040  Unknown     NaN       NaN  2812109900      UKRAINE   KG       NaN   \n",
            "1041  Unknown     NaN       NaN  2812104700  SOUTH KOREA   KG   16200.0   \n",
            "\n",
            "        VALUE_RS                                     DESCRIPTION_01  \\\n",
            "0     13877114.0  Inorganic chemicals; Organic or inorganic comp...   \n",
            "1      3924989.0  Inorganic chemicals; Organic or inorganic comp...   \n",
            "2      5390772.0  Inorganic chemicals; Organic or inorganic comp...   \n",
            "3      3089445.0  Inorganic chemicals; Organic or inorganic comp...   \n",
            "4      6939860.0  Inorganic chemicals; Organic or inorganic comp...   \n",
            "...          ...                                                ...   \n",
            "1037         NaN  Inorganic chemicals; Organic or inorganic comp...   \n",
            "1038         NaN  Inorganic chemicals; Organic or inorganic comp...   \n",
            "1039         NaN  Inorganic chemicals; Organic or inorganic comp...   \n",
            "1040         NaN  Inorganic chemicals; Organic or inorganic comp...   \n",
            "1041         NaN  Inorganic chemicals; Organic or inorganic comp...   \n",
            "\n",
            "                               DESCRIPTION_02  \\\n",
            "0      Fluorine, chlorine, bromine and iodine   \n",
            "1      Fluorine, chlorine, bromine and iodine   \n",
            "2      Fluorine, chlorine, bromine and iodine   \n",
            "3      Fluorine, chlorine, bromine and iodine   \n",
            "4      Fluorine, chlorine, bromine and iodine   \n",
            "...                                       ...   \n",
            "1037  Halides and halide oxides of non metals   \n",
            "1038  Halides and halide oxides of non metals   \n",
            "1039  Halides and halide oxides of non metals   \n",
            "1040  Halides and halide oxides of non metals   \n",
            "1041  Halides and halide oxides of non metals   \n",
            "\n",
            "                               DESCRIPTION_03  \n",
            "0                                    Chlorine  \n",
            "1                                    Chlorine  \n",
            "2                                    Chlorine  \n",
            "3                                    Chlorine  \n",
            "4                                    Chlorine  \n",
            "...                                       ...  \n",
            "1037  Halides and halide oxides of non metals  \n",
            "1038  Halides and halide oxides of non metals  \n",
            "1039  Halides and halide oxides of non metals  \n",
            "1040  Halides and halide oxides of non metals  \n",
            "1041  Halides and halide oxides of non metals  \n",
            "\n",
            "[1042 rows x 11 columns]\n"
          ]
        }
      ],
      "source": [
        "# Step 8: Handling the 'COUNTRY' Column\n",
        "\n",
        "# Replacing specific country names\n",
        "data['COUNTRY'] = data['COUNTRY'].replace({\n",
        "    'United States': 'USA',\n",
        "    'United States of America': 'USA',\n",
        "    'United Kingdom': 'UK',\n",
        "    'Korea, Republic of': 'South Korea'\n",
        "})\n",
        "\n",
        "print(data)"
      ]
    },
    {
      "cell_type": "code",
      "execution_count": 281,
      "metadata": {
        "id": "zxPMdYRKSivJ",
        "colab": {
          "base_uri": "https://localhost:8080/"
        },
        "outputId": "68086a46-cbfd-4ddb-abef-9240e67e6d45"
      },
      "outputs": [
        {
          "output_type": "stream",
          "name": "stdout",
          "text": [
            "Unique values and their count relevant to each categorical column:\n",
            "\n",
            "IMPORTER\n",
            "Unknown    1042\n",
            "Name: count, dtype: int64\n",
            " \n",
            "MONTH\n",
            "NOVEMBER     191\n",
            "FEBRUARY      13\n",
            "JULY          13\n",
            "MAY           11\n",
            "SEPTEMBER     11\n",
            "JANUARY       10\n",
            "JUNE           9\n",
            "AUGUST         8\n",
            "OCTOBER        8\n",
            "MARCH          6\n",
            "APRIL          6\n",
            "DECEMBER       6\n",
            "Name: count, dtype: int64\n",
            " \n",
            "COUNTRY\n",
            "VIETNAM                 299\n",
            "RUSSIA                  109\n",
            "KENYA                    71\n",
            "BELGIUM                  59\n",
            "SOUTH KOREA              58\n",
            "UKRAINE                  58\n",
            "GERMANY                  53\n",
            "COLOMBIA                 29\n",
            "INDIA                    29\n",
            "CHINA                    28\n",
            "BANGLADESH               27\n",
            "SLOVENIA                 24\n",
            "UNITED STATES            23\n",
            "MALAYSIA                 19\n",
            "US VIRGIN ISLANDS        19\n",
            "URUGUAY                  18\n",
            "UNITED KINGDOM           17\n",
            "THAILAND                 17\n",
            "JAPAN                    10\n",
            "SRI LANKA                 8\n",
            "GERMENY                   6\n",
            "CAMBODIA                  5\n",
            "ISRAEL                    4\n",
            "SWITZERLAND               4\n",
            "KOREA,REPUBLIC OF         4\n",
            "UK                        3\n",
            "CANADA                    3\n",
            "TAIWAN                    3\n",
            "TURKMENISTAN              3\n",
            "CHILE                     2\n",
            "SINGAPORE                 2\n",
            "FRANCE                    2\n",
            "INDONESIA                 2\n",
            "KAZAKHSTAN                2\n",
            "NIGERIA                   1\n",
            "SOUTH AFRICA              1\n",
            "UNITED ARAB EMIRATES      1\n",
            "SPAIN                     1\n",
            "SAUDI ARABIA              1\n",
            "ARGENTINA                 1\n",
            "BRAZIL                    1\n",
            "ITALY                     1\n",
            "USA                       1\n",
            "EGYPT                     1\n",
            "SLOVAKIA                  1\n",
            "ROMANIA                   1\n",
            "AUSTRIA                   1\n",
            "MEXICO                    1\n",
            "DENMARK                   1\n",
            "PAKISTAN                  1\n",
            "NETHERLANDS (HOLAND)      1\n",
            "GEORGIA                   1\n",
            "Name: count, dtype: int64\n",
            " \n",
            "HSCODE\n",
            "2847000000    145\n",
            "2808000000    136\n",
            "2807001000     85\n",
            "3102401000     58\n",
            "2829110000     54\n",
            "             ... \n",
            "2801200029      1\n",
            "2801200028      1\n",
            "2801200027      1\n",
            "2801200026      1\n",
            "2812101100      1\n",
            "Name: count, Length: 117, dtype: int64\n",
            " \n",
            "UNIT\n",
            "KG     909\n",
            "PCS     39\n",
            "NOS     33\n",
            "GMS     23\n",
            "MTS     19\n",
            "LTR     18\n",
            "DRM      1\n",
            "Name: count, dtype: int64\n",
            " \n",
            "DESCRIPTION_01\n",
            "Inorganic chemicals; Organic or inorganic compounds of precious metals, of rare earth metals, of radioactive elements or of isotopes    922\n",
            "Fertilizers                                                                                                                             120\n",
            "Name: count, dtype: int64\n",
            " \n",
            "DESCRIPTION_02\n",
            "Nitric acid; sulphonitric acids                                                   156\n",
            "Hydrogen peroxide, whether or not solidified with urea                            145\n",
            "Chlorates and perchlorates; bromates and perbromates; iodates and periodates      120\n",
            "Mineral or chemical fertilizers, nitrogenous                                      120\n",
            "Sulphuric acid; oleum                                                             120\n",
            "Halides and halide oxides of non metals                                           120\n",
            "Fluorine, chlorine, bromine and iodine                                            118\n",
            "Fluorides; fluorosilicates, fluoroaluminates, and other complex fluorine salts    116\n",
            "Cyanides, cyanide oxides and complex cyanides                                      27\n",
            "Name: count, dtype: int64\n",
            " \n",
            "DESCRIPTION_03\n",
            "Nitric acid sulphonitric acids                                                 156\n",
            "Hydrogen peroxide whether or not solidified with urea                          145\n",
            "Chlorates and perchlorates bromates and perbromates iodates and periodates     120\n",
            "Mineral or chemical fertilizers nitrogenous                                    120\n",
            "Sulphuric acid oleum                                                           120\n",
            "Halides and halide oxides of non metals                                        120\n",
            "Fluorides fluorosilicates fluoroaluminates and other complex fluorine salts    116\n",
            "Iodine                                                                          80\n",
            "Chlorine                                                                        34\n",
            "Cyanides and cyanide oxides  Other                                              14\n",
            "Cyanides and cyanide oxides  Of sodium                                          13\n",
            "Bromine                                                                          4\n",
            "Name: count, dtype: int64\n",
            " \n"
          ]
        }
      ],
      "source": [
        "# Displaying the unique values and their counts relevant to each categorical column\n",
        "print(\"Unique values and their count relevant to each categorical column:\\n\")\n",
        "for col in categorical_features:\n",
        "    unique_values = data[col].unique()\n",
        "    value_counts = data[col].value_counts()\n",
        "    print(value_counts)\n",
        "    print(\" \")"
      ]
    },
    {
      "cell_type": "markdown",
      "source": [
        "## **Handling Missing Values**"
      ],
      "metadata": {
        "id": "AxDQ2aX6qUEO"
      }
    },
    {
      "cell_type": "markdown",
      "source": [
        "**Handling missing values in the categorical columns**"
      ],
      "metadata": {
        "id": "ohUKtfkhqbBh"
      }
    },
    {
      "cell_type": "markdown",
      "source": [
        "**Replacing all the missing values with 'Unknown'**"
      ],
      "metadata": {
        "id": "cVvHBcAqqeEg"
      }
    },
    {
      "cell_type": "code",
      "execution_count": 282,
      "metadata": {
        "id": "yqu-lfU2Sl-L"
      },
      "outputs": [],
      "source": [
        "# Step 9: Handling missing values in the categorical columns\n",
        "\n",
        "# Replacing all the missing values in the categorical columns with 'Unknown' for imputation\n",
        "data[categorical_features] = data[categorical_features].fillna('Unknown')"
      ]
    },
    {
      "cell_type": "markdown",
      "source": [
        "**Checking for any missing values which is left behind when replacing with 'Unkown'**"
      ],
      "metadata": {
        "id": "pKQS6siNqgtZ"
      }
    },
    {
      "cell_type": "code",
      "execution_count": 283,
      "metadata": {
        "id": "WjyZ8UrHSnTj",
        "colab": {
          "base_uri": "https://localhost:8080/"
        },
        "outputId": "5c356b48-6b42-4ded-b7cf-96d14dbfd033"
      },
      "outputs": [
        {
          "output_type": "stream",
          "name": "stdout",
          "text": [
            "Checking for any missing values left behind after replacing with 'Unknown':\n",
            "IMPORTER: No missing values\n",
            " \n",
            "MONTH: No missing values\n",
            " \n",
            "COUNTRY: No missing values\n",
            " \n",
            "HSCODE: No missing values\n",
            " \n",
            "UNIT: No missing values\n",
            " \n",
            "DESCRIPTION_01: No missing values\n",
            " \n",
            "DESCRIPTION_02: No missing values\n",
            " \n",
            "DESCRIPTION_03: No missing values\n",
            " \n"
          ]
        }
      ],
      "source": [
        "# Verifying the changes after replacing the missing values with 'Unknown'\n",
        "print(\"Checking for any missing values left behind after replacing with 'Unknown':\")\n",
        "for col in categorical_features:\n",
        "    null_count = data[col].isnull().sum()\n",
        "    if null_count > 0:\n",
        "        print(f\"{col}: {null_count} missing values\")\n",
        "    else:\n",
        "        print(f\"{col}: No missing values\")\n",
        "    print(\" \")"
      ]
    },
    {
      "cell_type": "code",
      "execution_count": 284,
      "metadata": {
        "id": "wr14utC4H7BD"
      },
      "outputs": [],
      "source": [
        "# Handling the 'UNknown' values in the 'COUNTRY' column using the mode\n",
        "mode_country = data['COUNTRY'].mode()[0]\n",
        "data['COUNTRY'] = data['COUNTRY'].replace('Unknown', mode_country)"
      ]
    },
    {
      "cell_type": "code",
      "execution_count": 285,
      "metadata": {
        "id": "ubphmTAASp_c",
        "colab": {
          "base_uri": "https://localhost:8080/"
        },
        "outputId": "1b6196bc-dd01-47c3-e23f-1f47cf3e5141"
      },
      "outputs": [
        {
          "output_type": "stream",
          "name": "stdout",
          "text": [
            "\n",
            "Dataset information after categorical imputation:\n",
            "<class 'pandas.core.frame.DataFrame'>\n",
            "RangeIndex: 1042 entries, 0 to 1041\n",
            "Data columns (total 11 columns):\n",
            " #   Column          Non-Null Count  Dtype  \n",
            "---  ------          --------------  -----  \n",
            " 0   IMPORTER        1042 non-null   object \n",
            " 1   YEAR            292 non-null    float64\n",
            " 2   MONTH           1042 non-null   object \n",
            " 3   HSCODE          1042 non-null   object \n",
            " 4   COUNTRY         1042 non-null   object \n",
            " 5   UNIT            1042 non-null   object \n",
            " 6   QUANTITY        1039 non-null   float64\n",
            " 7   VALUE_RS        292 non-null    float64\n",
            " 8   DESCRIPTION_01  1042 non-null   object \n",
            " 9   DESCRIPTION_02  1042 non-null   object \n",
            " 10  DESCRIPTION_03  1042 non-null   object \n",
            "dtypes: float64(3), object(8)\n",
            "memory usage: 89.7+ KB\n"
          ]
        }
      ],
      "source": [
        "# Displaying dataset information post-imputation\n",
        "print(\"\\nDataset information after categorical imputation:\")\n",
        "data.info()"
      ]
    },
    {
      "cell_type": "code",
      "execution_count": 286,
      "metadata": {
        "id": "Epz9uWmBoR7X",
        "colab": {
          "base_uri": "https://localhost:8080/"
        },
        "outputId": "8473cdf9-a960-4bab-9957-b32c026a31f9"
      },
      "outputs": [
        {
          "output_type": "stream",
          "name": "stdout",
          "text": [
            "Unique Importers:\n",
            "['Unknown']\n"
          ]
        }
      ],
      "source": [
        "# Displaying the unique values in the 'IMPORTER' column\n",
        "unique_importers = data['IMPORTER'].unique()\n",
        "print(\"Unique Importers:\")\n",
        "print(unique_importers)"
      ]
    },
    {
      "cell_type": "code",
      "execution_count": 287,
      "metadata": {
        "id": "bh41X8vjoYl-",
        "colab": {
          "base_uri": "https://localhost:8080/"
        },
        "outputId": "8993e586-88a9-445f-d5e4-e224f0d6da96"
      },
      "outputs": [
        {
          "output_type": "stream",
          "name": "stdout",
          "text": [
            "Unique MONTH:\n",
            "['JANUARY' 'FEBRUARY' 'MARCH' 'APRIL' 'MAY' 'JUNE' 'JULY' 'AUGUST'\n",
            " 'SEPTEMBER' 'OCTOBER' 'NOVEMBER' 'DECEMBER' 'Unknown']\n"
          ]
        }
      ],
      "source": [
        "# Display the unique values in the 'YEAR' column\n",
        "unique_years = data['MONTH'].unique()\n",
        "print(\"Unique MONTH:\")\n",
        "print(unique_years)"
      ]
    },
    {
      "cell_type": "code",
      "execution_count": 288,
      "metadata": {
        "id": "l-4Ls8YnopoZ",
        "colab": {
          "base_uri": "https://localhost:8080/"
        },
        "outputId": "60072a9a-7a1a-4704-ea5e-8cc93c14995d"
      },
      "outputs": [
        {
          "output_type": "stream",
          "name": "stdout",
          "text": [
            "Unique Countries:\n",
            "['BANGLADESH' 'INDIA' 'MALAYSIA' 'AUSTRIA' 'CHINA' 'USA' 'SOUTH KOREA'\n",
            " 'THAILAND' 'GERMENY' 'CANADA' 'DENMARK' 'UK' 'JAPAN' 'PAKISTAN'\n",
            " 'NETHERLANDS (HOLAND)' 'BELGIUM' 'SINGAPORE' 'SPAIN' 'FRANCE' 'GERMANY'\n",
            " 'ISRAEL' 'CHILE' 'SWITZERLAND' 'UNITED STATES' 'TURKMENISTAN'\n",
            " 'KOREA,REPUBLIC OF' 'UNITED KINGDOM' 'TAIWAN' 'RUSSIA' 'VIETNAM'\n",
            " 'US VIRGIN ISLANDS' 'KENYA' 'UKRAINE' 'URUGUAY' 'COLOMBIA' 'INDONESIA'\n",
            " 'KAZAKHSTAN' 'CAMBODIA' 'MEXICO' 'SLOVENIA' 'ROMANIA' 'SLOVAKIA' 'EGYPT'\n",
            " 'SAUDI ARABIA' 'ITALY' 'UNITED ARAB EMIRATES' 'NIGERIA' 'SOUTH AFRICA'\n",
            " 'SRI LANKA' 'ARGENTINA' 'BRAZIL' 'GEORGIA']\n"
          ]
        }
      ],
      "source": [
        "# Display unique values in the 'COUNTRY' column\n",
        "unique_countries = data['COUNTRY'].unique()\n",
        "print(\"Unique Countries:\")\n",
        "print(unique_countries)"
      ]
    },
    {
      "cell_type": "code",
      "execution_count": 289,
      "metadata": {
        "id": "koOoypOBowDQ",
        "colab": {
          "base_uri": "https://localhost:8080/"
        },
        "outputId": "991eaae6-fc9d-4a5b-a1ad-c0af3291817d"
      },
      "outputs": [
        {
          "output_type": "stream",
          "name": "stdout",
          "text": [
            "Unique HSCodes:\n",
            "['2801100000' '2808000000' '2837110000' '2837190000' '2847000000'\n",
            " '2808001000' '2801200000' '2801302000' '2837209000' '2837191000'\n",
            " '2837202000' '2837199000' '2801200001' '2801200002' '2801200003'\n",
            " '2801200004' '2801200005' '2801200006' '2801200007' '2801200008'\n",
            " '2801200009' '2801200010' '2801200011' '2801200012' '2801200013'\n",
            " '2801200014' '2801200015' '2801200016' '2801200017' '2801200018'\n",
            " '2801200019' '2801200020' '2801200021' '2801200022' '2801200023'\n",
            " '2801200024' '2801200025' '2801200026' '2801200027' '2801200028'\n",
            " '2801200029' '2801200030' '2801200031' '2801200032' '2801200033'\n",
            " '2801200034' '2801200035' '2801200036' '2801200037' '2801200038'\n",
            " '2801200039' '2801200040' '2801200041' '2801200042' '2801200043'\n",
            " '2801200044' '2801200045' '2801200046' '2801200047' '2801200048'\n",
            " '2801200049' '2801200050' '2801200051' '2801200052' '2801200053'\n",
            " '2801200054' '2801200055' '2801200056' '2801200057' '2801200058'\n",
            " '2801200059' '2801200060' '2801200061' '2801200062' '2801200063'\n",
            " '2829901000' '2829192000' '2829902000' '2829190000' '2829110000'\n",
            " '2829909000' '2829908000' '2829903000' '3102210000' '3102909000'\n",
            " '3102401000' '3102100000' '3102101000' '3102600100' '3102600000'\n",
            " '3102500000' '3102299000' '2807001000' '2807002000' '2812900000'\n",
            " '2812109000' '2812101000' '2812105000' '2826300000' '2826199000'\n",
            " '2826900000' '2826191000' '2826120000' '2807009000' '2826190000'\n",
            " '2826908000' '2812190000' '2812120000' '2812199000' '2812191900'\n",
            " '2812160000' '2812170000' '2812109900' '2812104300' '2812104700'\n",
            " '2812104200' '2812101100']\n"
          ]
        }
      ],
      "source": [
        "# Display unique values in the 'HSCODE' column\n",
        "unique_hscodes = data['HSCODE'].unique()\n",
        "print(\"Unique HSCodes:\")\n",
        "print(unique_hscodes)"
      ]
    },
    {
      "cell_type": "code",
      "execution_count": 290,
      "metadata": {
        "id": "nj5O3B2qofyU",
        "colab": {
          "base_uri": "https://localhost:8080/"
        },
        "outputId": "6f314604-6a7c-4fb6-da8e-893e33d3a474"
      },
      "outputs": [
        {
          "output_type": "stream",
          "name": "stdout",
          "text": [
            "Unique Units:\n",
            "['KG' 'LTR' 'PCS' 'NOS' 'GMS' 'MTS' 'DRM']\n"
          ]
        }
      ],
      "source": [
        "# Display the unique values in the 'UNIT' column\n",
        "unique_units = data['UNIT'].unique()\n",
        "print(\"Unique Units:\")\n",
        "print(unique_units)"
      ]
    },
    {
      "cell_type": "code",
      "execution_count": 291,
      "metadata": {
        "id": "OhumfU-YpMR7",
        "colab": {
          "base_uri": "https://localhost:8080/"
        },
        "outputId": "48b968d2-a13c-42fd-b1df-dfefc8005865"
      },
      "outputs": [
        {
          "output_type": "stream",
          "name": "stdout",
          "text": [
            "Unique Descriptions_01:\n",
            "['Inorganic chemicals; Organic or inorganic compounds of precious metals, of rare earth metals, of radioactive elements or of isotopes'\n",
            " 'Fertilizers']\n"
          ]
        }
      ],
      "source": [
        "# Displaying the unique values in the 'DESCRIPTION_01' column\n",
        "unique_descriptions_01 = data['DESCRIPTION_01'].unique()\n",
        "print(\"Unique Descriptions_01:\")\n",
        "print(unique_descriptions_01)"
      ]
    },
    {
      "cell_type": "code",
      "execution_count": 292,
      "metadata": {
        "id": "-OyLqe_NqPb1",
        "colab": {
          "base_uri": "https://localhost:8080/"
        },
        "outputId": "58b16bf4-9e16-4ec9-c5c6-3425d8baf3a8"
      },
      "outputs": [
        {
          "output_type": "stream",
          "name": "stdout",
          "text": [
            "Unique Descriptions_02:\n",
            "['Fluorine, chlorine, bromine and iodine'\n",
            " 'Nitric acid; sulphonitric acids'\n",
            " 'Cyanides, cyanide oxides and complex cyanides'\n",
            " 'Hydrogen peroxide, whether or not solidified with urea'\n",
            " 'Chlorates and perchlorates; bromates and perbromates; iodates and periodates'\n",
            " 'Mineral or chemical fertilizers, nitrogenous' 'Sulphuric acid; oleum'\n",
            " 'Halides and halide oxides of non metals'\n",
            " 'Fluorides; fluorosilicates, fluoroaluminates, and other complex fluorine salts']\n"
          ]
        }
      ],
      "source": [
        "# Displaying the unique values in the 'DESCRIPTION_02' column\n",
        "unique_descriptions_02 = data['DESCRIPTION_02'].unique()\n",
        "print(\"Unique Descriptions_02:\")\n",
        "print(unique_descriptions_02)"
      ]
    },
    {
      "cell_type": "code",
      "execution_count": 293,
      "metadata": {
        "id": "lTOexEiIqUzW",
        "colab": {
          "base_uri": "https://localhost:8080/"
        },
        "outputId": "dc492577-97fd-449c-9ae5-be194518251c"
      },
      "outputs": [
        {
          "output_type": "stream",
          "name": "stdout",
          "text": [
            "Unique Descriptions_03:\n",
            "['Chlorine' 'Nitric acid sulphonitric acids'\n",
            " 'Cyanides and cyanide oxides  Of sodium'\n",
            " 'Cyanides and cyanide oxides  Other'\n",
            " 'Hydrogen peroxide whether or not solidified with urea' 'Iodine'\n",
            " 'Bromine'\n",
            " 'Chlorates and perchlorates bromates and perbromates iodates and periodates'\n",
            " 'Mineral or chemical fertilizers nitrogenous' 'Sulphuric acid oleum'\n",
            " 'Halides and halide oxides of non metals'\n",
            " 'Fluorides fluorosilicates fluoroaluminates and other complex fluorine salts']\n"
          ]
        }
      ],
      "source": [
        "# Displaying the unique values in the 'DESCRIPTION_03' column\n",
        "unique_descriptions_03 = data['DESCRIPTION_03'].unique()\n",
        "print(\"Unique Descriptions_03:\")\n",
        "print(unique_descriptions_03)"
      ]
    },
    {
      "cell_type": "markdown",
      "source": [
        "# **Data Encoding**"
      ],
      "metadata": {
        "id": "NzTzmuZbqpmO"
      }
    },
    {
      "cell_type": "code",
      "execution_count": 294,
      "metadata": {
        "id": "u1bNJsIuStN_",
        "colab": {
          "base_uri": "https://localhost:8080/"
        },
        "outputId": "ebcd670a-4688-4152-854d-62c61cafdc70"
      },
      "outputs": [
        {
          "output_type": "stream",
          "name": "stdout",
          "text": [
            "Encoded column: IMPORTER, but encoder not saved.\n",
            "Encoded column: MONTH, but encoder not saved.\n",
            "Encoded column: COUNTRY saved successfully\n",
            "Encoded column: HSCODE saved successfully\n",
            "Encoded column: UNIT saved successfully\n",
            "Encoded column: DESCRIPTION_01 saved successfully\n",
            "Encoded column: DESCRIPTION_02 saved successfully\n",
            "Encoded column: DESCRIPTION_03 saved successfully\n"
          ]
        }
      ],
      "source": [
        "# Step 10: Encoding the Categorical Columns\n",
        "\n",
        "# List of categorical columns to encode (excluding 'DESCRIPTION_03' which will be handled separately)\n",
        "encoding_columns = ['IMPORTER', 'MONTH', 'COUNTRY', 'HSCODE', 'UNIT', 'DESCRIPTION_01', 'DESCRIPTION_02']\n",
        "\n",
        "# Creating a label encoder object\n",
        "label_encoder = LabelEncoder()\n",
        "\n",
        "# Encoding and saving columns\n",
        "for col in encoding_columns:\n",
        "    # Encoding the column\n",
        "    data[col] = label_encoder.fit_transform(data[col])\n",
        "\n",
        "    # If the column is not one of the specific columns, save the encoder\n",
        "    if col not in ['IMPORTER']:\n",
        "        with open(f'encoded_{col}.pkl', 'wb') as f:\n",
        "            pickle.dump(label_encoder, f)\n",
        "        print(f\"Encoded column: {col} saved successfully\")\n",
        "    else:\n",
        "        print(f\"Encoded column: {col}, but encoder not saved.\")\n",
        "\n",
        "# Separate encoding for 'DESCRIPTION_03'\n",
        "description_03_encoder = LabelEncoder()\n",
        "data['ENCODED_DESCRIPTION_03'] = description_03_encoder.fit_transform(data['DESCRIPTION_03'])\n",
        "\n",
        "# Saving the encoder for 'DESCRIPTION_03'\n",
        "with open('encoded_DESCRIPTION_03.pkl', 'wb') as f:\n",
        "    pickle.dump(description_03_encoder, f)\n",
        "\n",
        "print(\"Encoded column: DESCRIPTION_03 saved successfully\")"
      ]
    },
    {
      "cell_type": "code",
      "execution_count": 295,
      "metadata": {
        "id": "o3oqY5pj7Piy",
        "colab": {
          "base_uri": "https://localhost:8080/"
        },
        "outputId": "ff522829-00f0-425f-f169-0b44d59aa215"
      },
      "outputs": [
        {
          "output_type": "stream",
          "name": "stdout",
          "text": [
            "Categorical columns after encoding:\n",
            "      IMPORTER  MONTH  COUNTRY  HSCODE  UNIT  DESCRIPTION_01  DESCRIPTION_02\n",
            "0            0      4        2       0     2               1               3\n",
            "1            0      4       16       0     2               1               3\n",
            "2            0      4       24       0     2               1               3\n",
            "3            0      3        2       0     2               1               3\n",
            "4            0      3       16       0     2               1               3\n",
            "...        ...    ...      ...     ...   ...             ...             ...\n",
            "1037         0     12       36      75     2               1               4\n",
            "1038         0     12       36      75     2               1               4\n",
            "1039         0     12       44      78     2               1               4\n",
            "1040         0     12       44      78     2               1               4\n",
            "1041         0     12       36      75     2               1               4\n",
            "\n",
            "[1042 rows x 7 columns]\n"
          ]
        }
      ],
      "source": [
        "# Displaying the categorical columns after the encoding\n",
        "print(\"Categorical columns after encoding:\")\n",
        "print(data[encoding_columns])"
      ]
    },
    {
      "cell_type": "markdown",
      "source": [
        "**Handling missing values in the 'MONTH' column using the K-NN Imputer for the efficient handling of the missing values**"
      ],
      "metadata": {
        "id": "CC8pL7oGqzr8"
      }
    },
    {
      "cell_type": "code",
      "execution_count": 296,
      "metadata": {
        "id": "A-yEqVFjSwcq"
      },
      "outputs": [],
      "source": [
        "# Imputing the 'MONTH' column with K-NN Imputer\n",
        "\n",
        "# Initialize the KNNImputer with 5 neighbors\n",
        "knn_imputer = KNNImputer(n_neighbors=5)\n",
        "\n",
        "# Applying the imputation to the 'MONTH' column\n",
        "data['MONTH'] = knn_imputer.fit_transform(data[['MONTH']])"
      ]
    },
    {
      "cell_type": "markdown",
      "source": [
        "**Handling the missing values in the 'IMPORTER' column after handling the missing values in the numerical coumns since all the values contained within the 'IMPORTER' column are 'Unknown' values and using K-Means clustering crucially expect the intepretation of the 'YEAR' column to be handled first.**"
      ],
      "metadata": {
        "id": "pJYI8Qxbrm1i"
      }
    },
    {
      "cell_type": "markdown",
      "source": [
        "## **Handling missing values in the numerical columns**"
      ],
      "metadata": {
        "id": "q94efQJjrR5q"
      }
    },
    {
      "cell_type": "markdown",
      "source": [
        "**Using Multiple Imputation to handle the missing values in the numerical columns since the nature of the missing values in each numerical column varies from one another.**"
      ],
      "metadata": {
        "id": "bE0Y2XKmrT9A"
      }
    },
    {
      "cell_type": "markdown",
      "source": [
        "**Using K-NN Imputaion to efficiently capture the small missing values and the captures local patterns in the 'Quantity' coulmn**"
      ],
      "metadata": {
        "id": "7e8e3rx7rWGX"
      }
    },
    {
      "cell_type": "code",
      "execution_count": 297,
      "metadata": {
        "id": "SD5_nJb_S207"
      },
      "outputs": [],
      "source": [
        "# Step 11: Handling missing values in the numerical columns\n",
        "\n",
        "# KNN Imputation for 'QUANTITY'\n",
        "knn_imputer = KNNImputer(n_neighbors=5)\n",
        "data[['QUANTITY']] = knn_imputer.fit_transform(data[['QUANTITY']])"
      ]
    },
    {
      "cell_type": "markdown",
      "source": [
        "**Using Predictive Imputaion to capture the complex relationships.**"
      ],
      "metadata": {
        "id": "7HObUrxyr6XF"
      }
    },
    {
      "cell_type": "code",
      "execution_count": 298,
      "metadata": {
        "id": "WZ2ZD-DkS6XC"
      },
      "outputs": [],
      "source": [
        "# Preparing the data, using the separately encoded 'ENCODED_DESCRIPTION_03' and ignoring 'DESCRIPTION_03'\n",
        "missing_value_rs = data[data['VALUE_RS'].isnull()]\n",
        "non_missing_value_rs = data[data['VALUE_RS'].notnull()]\n",
        "\n",
        "# Dropping the 'VALUE_RS' and 'DESCRIPTION_03', use 'ENCODED_DESCRIPTION_03' instead\n",
        "X_value_rs = non_missing_value_rs.drop(columns=['VALUE_RS', 'DESCRIPTION_03'])\n",
        "X_value_rs['ENCODED_DESCRIPTION_03'] = non_missing_value_rs['ENCODED_DESCRIPTION_03']\n",
        "\n",
        "# Considering the 'VALUE_RS' as the target variable\n",
        "y_value_rs = non_missing_value_rs['VALUE_RS']\n",
        "\n",
        "# Training Random Forest Regressor\n",
        "rf_regressor = RandomForestRegressor(random_state=42, n_estimators=100)\n",
        "rf_regressor.fit(X_value_rs, y_value_rs)\n",
        "\n",
        "# Preparing the missing data using 'ENCODED_DESCRIPTION_03' for prediction\n",
        "X_missing_value_rs = missing_value_rs.drop(columns=['VALUE_RS', 'DESCRIPTION_03'])\n",
        "X_missing_value_rs['ENCODED_DESCRIPTION_03'] = missing_value_rs['ENCODED_DESCRIPTION_03']\n",
        "\n",
        "# Predicting missing 'VALUE_RS' values and impute them back into the original dataframe\n",
        "data.loc[data['VALUE_RS'].isnull(), 'VALUE_RS'] = rf_regressor.predict(X_missing_value_rs)\n"
      ]
    },
    {
      "cell_type": "markdown",
      "source": [
        "**Using Iterative Imputation for the 'YEAR' column**"
      ],
      "metadata": {
        "id": "kQ2I8ZZ7r_mG"
      }
    },
    {
      "cell_type": "code",
      "execution_count": 299,
      "metadata": {
        "id": "xpARMjn_S92Q"
      },
      "outputs": [],
      "source": [
        "# Iterative Imputation for 'YEAR'\n",
        "iterative_imputer = IterativeImputer(random_state=42)\n",
        "data['YEAR'] = iterative_imputer.fit_transform(data[['YEAR', 'MONTH', 'QUANTITY', 'VALUE_RS']])"
      ]
    },
    {
      "cell_type": "markdown",
      "source": [
        "## **Handling Missing Values in the Categorical Columns**"
      ],
      "metadata": {
        "id": "ZZm9_ySHsOIq"
      }
    },
    {
      "cell_type": "markdown",
      "source": [
        "**Handling the missing data in the 'IMPORTER' column using K-Means Clustering for more accurate predictions of the missing values.**"
      ],
      "metadata": {
        "id": "qv9lmphDsQ9k"
      }
    },
    {
      "cell_type": "code",
      "execution_count": 300,
      "metadata": {
        "id": "SuX-1fWdTAbL",
        "colab": {
          "base_uri": "https://localhost:8080/"
        },
        "outputId": "50659cb3-6123-4203-c32c-f185a8228c0d"
      },
      "outputs": [
        {
          "output_type": "stream",
          "name": "stdout",
          "text": [
            "                 IMPORTER         YEAR  MONTH  UNIT       QUANTITY  \\\n",
            "0     Pacific Exports Co.  2023.000000    4.0     2  131600.000000   \n",
            "1         Summit Commerce  2023.000000    4.0     2   37800.000000   \n",
            "2         Summit Commerce  2023.000000    4.0     2   12090.000000   \n",
            "3     Global Traders Inc.  2023.000000    3.0     2   25200.000000   \n",
            "4         Summit Commerce  2023.000000    3.0     2   75599.000000   \n",
            "...                   ...          ...    ...   ...            ...   \n",
            "1037  Global Traders Inc.  2015.722018   12.0     2   16200.000000   \n",
            "1038  Global Traders Inc.  2015.722018   12.0     2   16200.000000   \n",
            "1039  Global Traders Inc.  2015.679163   12.0     2   42416.789127   \n",
            "1040  Global Traders Inc.  2015.679163   12.0     2   42416.789127   \n",
            "1041  Global Traders Inc.  2015.722018   12.0     2   16200.000000   \n",
            "\n",
            "          VALUE_RS  DESCRIPTION_01  DESCRIPTION_02  \\\n",
            "0     1.387711e+07               1               3   \n",
            "1     3.924989e+06               1               3   \n",
            "2     5.390772e+06               1               3   \n",
            "3     3.089445e+06               1               3   \n",
            "4     6.939860e+06               1               3   \n",
            "...            ...             ...             ...   \n",
            "1037  2.485620e+05               1               4   \n",
            "1038  2.485620e+05               1               4   \n",
            "1039  1.079473e+06               1               4   \n",
            "1040  1.079473e+06               1               4   \n",
            "1041  2.485620e+05               1               4   \n",
            "\n",
            "                               DESCRIPTION_03  ENCODED_DESCRIPTION_03  \n",
            "0                                    Chlorine                       2  \n",
            "1                                    Chlorine                       2  \n",
            "2                                    Chlorine                       2  \n",
            "3                                    Chlorine                       2  \n",
            "4                                    Chlorine                       2  \n",
            "...                                       ...                     ...  \n",
            "1037  Halides and halide oxides of non metals                       6  \n",
            "1038  Halides and halide oxides of non metals                       6  \n",
            "1039  Halides and halide oxides of non metals                       6  \n",
            "1040  Halides and halide oxides of non metals                       6  \n",
            "1041  Halides and halide oxides of non metals                       6  \n",
            "\n",
            "[1042 rows x 10 columns]\n"
          ]
        }
      ],
      "source": [
        "# Step 12: Handling the missing values in the 'IMPORTER' Column (Categorical Column)\n",
        "\n",
        "# Imputing the 'IMPORTER' column using the K-Means Clustering\n",
        "\n",
        "# Preparing features for clustering\n",
        "X = data[['COUNTRY', 'HSCODE', 'QUANTITY', 'VALUE_RS']]\n",
        "\n",
        "# Applying K-Means clustering\n",
        "kmeans = KMeans(n_clusters=5, random_state=42)  # Adjust n_clusters as needed\n",
        "data['CLUSTER'] = kmeans.fit_predict(X)\n",
        "\n",
        "# Assigning importer names based on clusters\n",
        "importer_names = [\n",
        "    \"Global Traders Inc.\", \"Eastern Imports Ltd.\", \"Pacific Exports Co.\",\n",
        "    \"Summit Commerce\", \"EverGreen Enterprises\"\n",
        "]\n",
        "data['IMPORTER'] = data['CLUSTER'].apply(lambda x: importer_names[x])\n",
        "\n",
        "# Dropping the helper columns(encoded categorical columns)\n",
        "data = data.drop(columns=['COUNTRY', 'HSCODE', 'CLUSTER'])\n",
        "\n",
        "# Displaying the updated dataset\n",
        "print(data)"
      ]
    },
    {
      "cell_type": "code",
      "execution_count": 301,
      "metadata": {
        "id": "8zma89b2TDr0",
        "colab": {
          "base_uri": "https://localhost:8080/"
        },
        "outputId": "b06d3228-2195-45f0-b926-feaf51abd23d"
      },
      "outputs": [
        {
          "output_type": "stream",
          "name": "stdout",
          "text": [
            "                 IMPORTER  YEAR  MONTH  UNIT       QUANTITY      VALUE_RS  \\\n",
            "0     Pacific Exports Co.  2023    4.0     2  131600.000000  1.387711e+07   \n",
            "1         Summit Commerce  2023    4.0     2   37800.000000  3.924989e+06   \n",
            "2         Summit Commerce  2023    4.0     2   12090.000000  5.390772e+06   \n",
            "3     Global Traders Inc.  2023    3.0     2   25200.000000  3.089445e+06   \n",
            "4         Summit Commerce  2023    3.0     2   75599.000000  6.939860e+06   \n",
            "...                   ...   ...    ...   ...            ...           ...   \n",
            "1037  Global Traders Inc.  2015   12.0     2   16200.000000  2.485620e+05   \n",
            "1038  Global Traders Inc.  2015   12.0     2   16200.000000  2.485620e+05   \n",
            "1039  Global Traders Inc.  2015   12.0     2   42416.789127  1.079473e+06   \n",
            "1040  Global Traders Inc.  2015   12.0     2   42416.789127  1.079473e+06   \n",
            "1041  Global Traders Inc.  2015   12.0     2   16200.000000  2.485620e+05   \n",
            "\n",
            "      DESCRIPTION_01  DESCRIPTION_02                           DESCRIPTION_03  \\\n",
            "0                  1               3                                 Chlorine   \n",
            "1                  1               3                                 Chlorine   \n",
            "2                  1               3                                 Chlorine   \n",
            "3                  1               3                                 Chlorine   \n",
            "4                  1               3                                 Chlorine   \n",
            "...              ...             ...                                      ...   \n",
            "1037               1               4  Halides and halide oxides of non metals   \n",
            "1038               1               4  Halides and halide oxides of non metals   \n",
            "1039               1               4  Halides and halide oxides of non metals   \n",
            "1040               1               4  Halides and halide oxides of non metals   \n",
            "1041               1               4  Halides and halide oxides of non metals   \n",
            "\n",
            "      ENCODED_DESCRIPTION_03  \n",
            "0                          2  \n",
            "1                          2  \n",
            "2                          2  \n",
            "3                          2  \n",
            "4                          2  \n",
            "...                      ...  \n",
            "1037                       6  \n",
            "1038                       6  \n",
            "1039                       6  \n",
            "1040                       6  \n",
            "1041                       6  \n",
            "\n",
            "[1042 rows x 10 columns]\n"
          ]
        }
      ],
      "source": [
        "# Step 13: Handling the 'YEAR' Column\n",
        "# Converting the year data type into int64\n",
        "data['YEAR'] = data['YEAR'].astype(int)\n",
        "\n",
        "# Displaying the dataset information\n",
        "print(data)"
      ]
    },
    {
      "cell_type": "markdown",
      "source": [
        "**Re-encoding the missing values after handling the missing values**"
      ],
      "metadata": {
        "id": "4jhgaBLNsauf"
      }
    },
    {
      "cell_type": "code",
      "execution_count": 302,
      "metadata": {
        "id": "X0LRj2OfTFrc",
        "colab": {
          "base_uri": "https://localhost:8080/"
        },
        "outputId": "5c2e8ee5-cc4b-4668-9aa2-77673a762d89"
      },
      "outputs": [
        {
          "output_type": "stream",
          "name": "stdout",
          "text": [
            "      IMPORTER  YEAR  MONTH  UNIT       QUANTITY      VALUE_RS  \\\n",
            "0            3  2023    4.0     2  131600.000000  1.387711e+07   \n",
            "1            4  2023    4.0     2   37800.000000  3.924989e+06   \n",
            "2            4  2023    4.0     2   12090.000000  5.390772e+06   \n",
            "3            2  2023    3.0     2   25200.000000  3.089445e+06   \n",
            "4            4  2023    3.0     2   75599.000000  6.939860e+06   \n",
            "...        ...   ...    ...   ...            ...           ...   \n",
            "1037         2  2015   12.0     2   16200.000000  2.485620e+05   \n",
            "1038         2  2015   12.0     2   16200.000000  2.485620e+05   \n",
            "1039         2  2015   12.0     2   42416.789127  1.079473e+06   \n",
            "1040         2  2015   12.0     2   42416.789127  1.079473e+06   \n",
            "1041         2  2015   12.0     2   16200.000000  2.485620e+05   \n",
            "\n",
            "      DESCRIPTION_01  DESCRIPTION_02                           DESCRIPTION_03  \\\n",
            "0                  1               3                                 Chlorine   \n",
            "1                  1               3                                 Chlorine   \n",
            "2                  1               3                                 Chlorine   \n",
            "3                  1               3                                 Chlorine   \n",
            "4                  1               3                                 Chlorine   \n",
            "...              ...             ...                                      ...   \n",
            "1037               1               4  Halides and halide oxides of non metals   \n",
            "1038               1               4  Halides and halide oxides of non metals   \n",
            "1039               1               4  Halides and halide oxides of non metals   \n",
            "1040               1               4  Halides and halide oxides of non metals   \n",
            "1041               1               4  Halides and halide oxides of non metals   \n",
            "\n",
            "      ENCODED_DESCRIPTION_03  \n",
            "0                          2  \n",
            "1                          2  \n",
            "2                          2  \n",
            "3                          2  \n",
            "4                          2  \n",
            "...                      ...  \n",
            "1037                       6  \n",
            "1038                       6  \n",
            "1039                       6  \n",
            "1040                       6  \n",
            "1041                       6  \n",
            "\n",
            "[1042 rows x 10 columns]\n"
          ]
        }
      ],
      "source": [
        "# Step 14: Re-encode the Importer column\n",
        "label_encoder = LabelEncoder()\n",
        "data['IMPORTER'] = label_encoder.fit_transform(data['IMPORTER'])\n",
        "\n",
        "# Saving the encoder for 'IMPORTER' column\n",
        "with open('encoded_IMPORTER.pkl', 'wb') as f:\n",
        "    pickle.dump(label_encoder, f)\n",
        "\n",
        "# Displaying the encoded details\n",
        "print(data)"
      ]
    },
    {
      "cell_type": "markdown",
      "source": [
        "**Handling the missing values in the 'IMPORTER' column after handling the missing values in the numerical coumns since all the values contained within the 'IMPORTER' column are 'Unknown' values and using K-Means clustering crucially expect the intepretation of the 'YEAR' column to be handled first.**"
      ],
      "metadata": {
        "id": "fq9V-Kk6q8b4"
      }
    },
    {
      "cell_type": "markdown",
      "source": [
        "## **Handling the Outliers**"
      ],
      "metadata": {
        "id": "OQeGW2b3sld2"
      }
    },
    {
      "cell_type": "code",
      "execution_count": 303,
      "metadata": {
        "id": "upSYv0QpTJFZ",
        "colab": {
          "base_uri": "https://localhost:8080/"
        },
        "outputId": "41d0816c-3675-47d8-f296-fe974059d7d3"
      },
      "outputs": [
        {
          "output_type": "stream",
          "name": "stdout",
          "text": [
            "Column: YEAR\n",
            "  Outliers: 142, Lower: 2013.50, Upper: 2017.50\n",
            " \n",
            "Column: QUANTITY\n",
            "  Outliers: 98, Lower: -29912.50, Upper: 49947.50\n",
            " \n",
            "Column: VALUE_RS\n",
            "  Outliers: 156, Lower: -518876.93, Upper: 864992.33\n",
            " \n"
          ]
        }
      ],
      "source": [
        "# Step 15: Handling the outliers in the numerical columns\n",
        "\n",
        "# Creating an empty dictionary to store the outliers\n",
        "outlier_info = {}\n",
        "\n",
        "for column in numerical_features:\n",
        "    Q1, Q3 = data[column].quantile([0.25, 0.75])\n",
        "    IQR = Q3 - Q1\n",
        "    lower_bound, upper_bound = Q1 - 1.5 * IQR, Q3 + 1.5 * IQR\n",
        "\n",
        "    # Detecting outliers\n",
        "    outliers = data[(data[column] < lower_bound) | (data[column] > upper_bound)]\n",
        "\n",
        "    outlier_info[column] = {\n",
        "        'Outliers': outliers.shape[0],\n",
        "        'Lower Bound': lower_bound,\n",
        "        'Upper Bound': upper_bound\n",
        "    }\n",
        "\n",
        "    print(f\"Column: {column}\")\n",
        "    print(f\"  Outliers: {outlier_info[column]['Outliers']}, \"\n",
        "          f\"Lower: {lower_bound:.2f}, Upper: {upper_bound:.2f}\")\n",
        "    print(\" \")"
      ]
    },
    {
      "cell_type": "markdown",
      "source": [
        "## **Visualization of the Outliers**"
      ],
      "metadata": {
        "id": "rW7K8VGdsvDf"
      }
    },
    {
      "cell_type": "code",
      "execution_count": 304,
      "metadata": {
        "id": "ziMsMAUMTMtB",
        "colab": {
          "base_uri": "https://localhost:8080/",
          "height": 482
        },
        "outputId": "e68a748b-75c9-41ea-dcd6-4f7445124897"
      },
      "outputs": [
        {
          "output_type": "display_data",
          "data": {
            "text/plain": [
              "<Figure size 1500x500 with 3 Axes>"
            ],
            "image/png": "[encoded data removed]"
          },
          "metadata": {}
        }
      ],
      "source": [
        "# Visualizing the outliers\n",
        "# Calculating the number of rows and columns based on the number of numerical columns\n",
        "num_columns = len(numerical_features)\n",
        "num_rows = int(np.ceil(num_columns / 3))\n",
        "\n",
        "# Creating a figure and axes array for subplots\n",
        "fig, axes = plt.subplots(num_rows, 3, figsize=(15, 5 * num_rows))\n",
        "axes = axes.flatten()\n",
        "\n",
        "# Plotting boxplots for each numerical column\n",
        "for i, column in enumerate(numerical_features):\n",
        "    ax = axes[i]\n",
        "\n",
        "    # Calculating IQR and bounds\n",
        "    Q1 = data[column].quantile(0.25)\n",
        "    Q3 = data[column].quantile(0.75)\n",
        "    IQR = Q3 - Q1\n",
        "    lower_bound = Q1 - 1.5 * IQR\n",
        "    upper_bound = Q3 + 1.5 * IQR\n",
        "\n",
        "    # Plotting the boxplot\n",
        "    sns.boxplot(x=data[column], color='skyblue', flierprops=dict(marker='o', color='red', markersize=5), ax=ax)\n",
        "    ax.axvline(lower_bound, color='red', linestyle='--', label='Lower Bound')\n",
        "    ax.axvline(upper_bound, color='green', linestyle='--', label='Upper Bound')\n",
        "    ax.set_title(f'Boxplot of {column}')\n",
        "    ax.set_xlabel(column)\n",
        "    ax.legend()\n",
        "    ax.grid(axis='x', alpha=0.75)\n",
        "\n",
        "\n",
        "for i in range(num_columns, len(axes)):\n",
        "    axes[i].axis('off')\n",
        "\n",
        "plt.tight_layout()\n",
        "plt.show()"
      ]
    },
    {
      "cell_type": "code",
      "execution_count": 305,
      "metadata": {
        "id": "MwZOvLZ8TP9r",
        "colab": {
          "base_uri": "https://localhost:8080/"
        },
        "outputId": "c2ad8be1-6c79-4f64-b86d-4abe5a65fe40"
      },
      "outputs": [
        {
          "output_type": "stream",
          "name": "stdout",
          "text": [
            "   IMPORTER  YEAR  MONTH  UNIT  QUANTITY  VALUE_RS  DESCRIPTION_01  \\\n",
            "0         3   0.5    4.0     2      0.03     -0.19               1   \n",
            "1         4   0.5    4.0     2      0.03     -0.19               1   \n",
            "2         4   0.5    4.0     2      0.03     -0.19               1   \n",
            "3         2   0.5    3.0     2      0.03     -0.19               1   \n",
            "4         4   0.5    3.0     2      0.03     -0.19               1   \n",
            "\n",
            "   DESCRIPTION_02 DESCRIPTION_03  ENCODED_DESCRIPTION_03  \n",
            "0               3       Chlorine                       2  \n",
            "1               3       Chlorine                       2  \n",
            "2               3       Chlorine                       2  \n",
            "3               3       Chlorine                       2  \n",
            "4               3       Chlorine                       2  \n"
          ]
        }
      ],
      "source": [
        "# Function to handle outliers by capping\n",
        "def handle_outliers(data, method='cap'):\n",
        "    for column in data.columns:\n",
        "        if column == 'YEAR':\n",
        "            lower_bound, upper_bound = -0.86, 0.50\n",
        "            data[column] = data[column].apply(lambda x: min(max(x, lower_bound), upper_bound) if method == 'cap' else x)\n",
        "\n",
        "        elif column == 'QUANTITY':\n",
        "            lower_bound, upper_bound = -0.31, 0.03\n",
        "            data[column] = data[column].apply(lambda x: min(max(x, lower_bound), upper_bound) if method == 'cap' else x)\n",
        "\n",
        "        elif column == 'VALUE_RS':\n",
        "            lower_bound, upper_bound = -0.39, -0.19\n",
        "            data[column] = data[column].apply(lambda x: min(max(x, lower_bound), upper_bound) if method == 'cap' else x)\n",
        "\n",
        "    return data\n",
        "\n",
        "\n",
        "# Applying the function to handle outliers\n",
        "data_cleaned = handle_outliers(data.copy(), method='cap')\n",
        "\n",
        "# Displaying the cleaned dataset\n",
        "print(data_cleaned.head())"
      ]
    },
    {
      "cell_type": "markdown",
      "source": [
        "## **Handling the Multicollinearity in the dataset**"
      ],
      "metadata": {
        "id": "PAf3I0nLs1w5"
      }
    },
    {
      "cell_type": "code",
      "execution_count": 306,
      "metadata": {
        "id": "3kUHUKoYTTBB",
        "colab": {
          "base_uri": "https://localhost:8080/"
        },
        "outputId": "473f02a0-d6e9-4e2f-a954-6aedd526eb77"
      },
      "outputs": [
        {
          "output_type": "stream",
          "name": "stdout",
          "text": [
            "              YEAR  QUANTITY  VALUE_RS\n",
            "YEAR      1.000000 -0.406381  0.255802\n",
            "QUANTITY -0.406381  1.000000  0.609191\n",
            "VALUE_RS  0.255802  0.609191  1.000000\n"
          ]
        }
      ],
      "source": [
        "# Step 16: Handling the multicollinearity in the numerical columns\n",
        "\n",
        "# Computing the correlation for numerical features\n",
        "correlation_matrix = data[numerical_features].corr()\n",
        "\n",
        "# Displaying the correlation matrix\n",
        "print(correlation_matrix)"
      ]
    },
    {
      "cell_type": "code",
      "execution_count": 307,
      "metadata": {
        "id": "If3OFYocWC0l",
        "colab": {
          "base_uri": "https://localhost:8080/",
          "height": 699
        },
        "outputId": "ae6487e4-7c37-4c20-c32e-1416974d5497"
      },
      "outputs": [
        {
          "output_type": "display_data",
          "data": {
            "text/plain": [
              "<Figure size 1000x800 with 2 Axes>"
            ],
            "image/png": "[encoded data removed]"
          },
          "metadata": {}
        }
      ],
      "source": [
        "# Plotting the correlation heatmap\n",
        "plt.figure(figsize=(10, 8))\n",
        "sns.heatmap(correlation_matrix, annot=True, cmap='coolwarm', fmt=\".2f\")\n",
        "plt.title('Correlation Heatmap')\n",
        "plt.show()"
      ]
    },
    {
      "cell_type": "markdown",
      "source": [
        "**There is no visible multicollinearity among the numerical features in the dataset**"
      ],
      "metadata": {
        "id": "O3839CETtEOD"
      }
    },
    {
      "cell_type": "markdown",
      "source": [
        "## **The Target Column**"
      ],
      "metadata": {
        "id": "u1vRlOtztJR-"
      }
    },
    {
      "cell_type": "markdown",
      "source": [
        "### **Assigning the Target Variable**"
      ],
      "metadata": {
        "id": "i7ap-mvAtOU_"
      }
    },
    {
      "cell_type": "code",
      "execution_count": 308,
      "metadata": {
        "id": "8GQyW05GWFnc"
      },
      "outputs": [],
      "source": [
        "# Step 17: Assignining the Target Variable\n",
        "\n",
        "# Risk mapping for DESCRIPTION_03\n",
        "risk_mapping = {\n",
        "    'Chlorine': 'Low',\n",
        "    'Nitric acid; sulphonitric acids': 'High',\n",
        "    'Cyanides and cyanide oxides: of sodium': 'High',\n",
        "    'Cyanides and cyanide oxides: other': 'High',\n",
        "    'Hydrogen peroxide, whether or not solidified with urea.': 'High',\n",
        "    'Iodine': 'Low',\n",
        "    'Bromine': 'Low',\n",
        "    'Chlorates and perchlorates; bromates and perbromates; iodates and periodates': 'High',\n",
        "    'Mineral or chemical fertilizers, nitrogenous': 'Low',\n",
        "    'Sulphuric acid; oleum': 'High',\n",
        "    'Halides and halide oxides of non metals': 'Low',\n",
        "    'Fluorides; fluorosilicates, fluoroaluminates, and other complex fluorine salts': 'Low'\n",
        "}\n",
        "\n",
        "# Define quantity thresholds\n",
        "high_quantity_threshold = 10000\n",
        "medium_quantity_threshold = 5000\n",
        "\n",
        "# Function to calculate risk\n",
        "def calculate_risk(description, quantity):\n",
        "    description_risk = risk_mapping.get(description.lower(), 'Low')\n",
        "    if description_risk == 'High' or quantity > high_quantity_threshold:\n",
        "        return 'High'\n",
        "    else:\n",
        "        return 'Low'\n",
        "\n",
        "# Applying the function\n",
        "data['RISK'] = data.apply(\n",
        "    lambda row: calculate_risk(row['DESCRIPTION_03'], row['QUANTITY']),\n",
        "    axis=1\n",
        ")"
      ]
    },
    {
      "cell_type": "markdown",
      "source": [
        "## **Visualizing the Target Variable**"
      ],
      "metadata": {
        "id": "1mXpqLALtVNs"
      }
    },
    {
      "cell_type": "code",
      "execution_count": 309,
      "metadata": {
        "id": "OHoph2DiWIhq",
        "colab": {
          "base_uri": "https://localhost:8080/",
          "height": 564
        },
        "outputId": "4b84ebd5-4d1e-4c4c-c4a1-3bbd5745aa47"
      },
      "outputs": [
        {
          "output_type": "display_data",
          "data": {
            "text/plain": [
              "<Figure size 800x600 with 1 Axes>"
            ],
            "image/png": "[encoded data removed]"
          },
          "metadata": {}
        }
      ],
      "source": [
        "# Visualizing the target variable\n",
        "plt.figure(figsize=(8, 6))\n",
        "sns.countplot(x='RISK', data=data)\n",
        "plt.title('Risk Distribution')\n",
        "plt.xlabel('Risk')\n",
        "plt.ylabel('Count')\n",
        "plt.show()"
      ]
    },
    {
      "cell_type": "code",
      "execution_count": 310,
      "metadata": {
        "id": "6ORBRZr2WLSV"
      },
      "outputs": [],
      "source": [
        "# Step 18: Encoding the 'DESCRIPTION_03' column with label encoder and dropping the 'ENCODED_DESCRIPTION_03' column\n",
        "label_encoder = LabelEncoder()\n",
        "data['DESCRIPTION_03'] = label_encoder.fit_transform(data['DESCRIPTION_03'])\n",
        "data.drop(columns=['ENCODED_DESCRIPTION_03'], inplace=True)"
      ]
    },
    {
      "cell_type": "code",
      "execution_count": 311,
      "metadata": {
        "id": "CkM9P9hYWMo2"
      },
      "outputs": [],
      "source": [
        "# Step 19: Encoding the 'RISK' variable\n",
        "label_encoder = LabelEncoder()\n",
        "data['RISK'] = label_encoder.fit_transform(data['RISK'])"
      ]
    },
    {
      "cell_type": "code",
      "execution_count": 312,
      "metadata": {
        "id": "ZMGuuEaoWN-q"
      },
      "outputs": [],
      "source": [
        "# Step 20: Scaling the numerical features\n",
        "scaler = StandardScaler()\n",
        "data[numerical_features] = scaler.fit_transform(data[numerical_features])"
      ]
    },
    {
      "cell_type": "code",
      "execution_count": 313,
      "metadata": {
        "id": "UpMu6UGGWPMS"
      },
      "outputs": [],
      "source": [
        "# Step 21: Splitting features and target\n",
        "X = data.drop(columns=['RISK'])\n",
        "y = data['RISK']"
      ]
    },
    {
      "cell_type": "code",
      "execution_count": 314,
      "metadata": {
        "id": "oy97kZpfWTIT"
      },
      "outputs": [],
      "source": [
        "# Step 22: Splitting data\n",
        "X_train, X_test, y_train, y_test = train_test_split(X, y, test_size=0.2, random_state=42)"
      ]
    },
    {
      "cell_type": "code",
      "execution_count": 315,
      "metadata": {
        "id": "j0Sv-J7iWWAK",
        "colab": {
          "base_uri": "https://localhost:8080/"
        },
        "outputId": "16e4bcd5-3679-43d2-b4f9-ed406457ea48"
      },
      "outputs": [
        {
          "output_type": "stream",
          "name": "stdout",
          "text": [
            "Value: 0, Count: 319\n",
            "Value: 1, Count: 514\n"
          ]
        }
      ],
      "source": [
        "# Analyzing the distribution of the y train dataset\n",
        "unique_values, counts = np.unique(y_train, return_counts=True)\n",
        "for value, count in zip(unique_values, counts):\n",
        "    print(f\"Value: {value}, Count: {count}\")"
      ]
    },
    {
      "cell_type": "code",
      "execution_count": 316,
      "metadata": {
        "id": "AIk63PNEWYaW",
        "colab": {
          "base_uri": "https://localhost:8080/",
          "height": 472
        },
        "outputId": "866e859e-8cda-4f5c-a8c7-df4011e7677b"
      },
      "outputs": [
        {
          "output_type": "display_data",
          "data": {
            "text/plain": [
              "<Figure size 640x480 with 1 Axes>"
            ],
            "image/png": "[encoded data removed]"
          },
          "metadata": {}
        }
      ],
      "source": [
        "# Visualizing the distribution of the target variable\n",
        "sns.countplot(data=data, x='RISK')\n",
        "plt.title('Target Variable Distribution')\n",
        "plt.show()"
      ]
    },
    {
      "cell_type": "code",
      "execution_count": 317,
      "metadata": {
        "id": "kdHFke_fWbY_",
        "colab": {
          "base_uri": "https://localhost:8080/"
        },
        "outputId": "bd0e7664-0e8c-4115-cdb1-41fd361ea4cf"
      },
      "outputs": [
        {
          "output_type": "stream",
          "name": "stdout",
          "text": [
            "Shape of X_train: (833, 9)\n",
            "Shape of y_train: (833,)\n"
          ]
        }
      ],
      "source": [
        "# Displaying the dataset shape\n",
        "print(f\"Shape of X_train: {X_train.shape}\")\n",
        "print(f\"Shape of y_train: {y_train.shape}\")"
      ]
    },
    {
      "cell_type": "code",
      "execution_count": 318,
      "metadata": {
        "id": "tsvewUCZWclb",
        "colab": {
          "base_uri": "https://localhost:8080/"
        },
        "outputId": "94c95edf-ca05-45a7-959c-b46f084ad931"
      },
      "outputs": [
        {
          "output_type": "stream",
          "name": "stdout",
          "text": [
            "Dataset Information:\n",
            "<class 'pandas.core.frame.DataFrame'>\n",
            "RangeIndex: 1042 entries, 0 to 1041\n",
            "Data columns (total 10 columns):\n",
            " #   Column          Non-Null Count  Dtype  \n",
            "---  ------          --------------  -----  \n",
            " 0   IMPORTER        1042 non-null   int64  \n",
            " 1   YEAR            1042 non-null   float64\n",
            " 2   MONTH           1042 non-null   float64\n",
            " 3   UNIT            1042 non-null   int64  \n",
            " 4   QUANTITY        1042 non-null   float64\n",
            " 5   VALUE_RS        1042 non-null   float64\n",
            " 6   DESCRIPTION_01  1042 non-null   int64  \n",
            " 7   DESCRIPTION_02  1042 non-null   int64  \n",
            " 8   DESCRIPTION_03  1042 non-null   int64  \n",
            " 9   RISK            1042 non-null   int64  \n",
            "dtypes: float64(4), int64(6)\n",
            "memory usage: 81.5 KB\n",
            "None\n"
          ]
        }
      ],
      "source": [
        "# Display dataset information\n",
        "print(\"Dataset Information:\")\n",
        "print(data.info())"
      ]
    },
    {
      "cell_type": "code",
      "execution_count": 319,
      "metadata": {
        "id": "bnGcn6YiWfKN",
        "colab": {
          "base_uri": "https://localhost:8080/"
        },
        "outputId": "99322ed2-d305-458c-9eca-5a5e7012034d"
      },
      "outputs": [
        {
          "output_type": "stream",
          "name": "stdout",
          "text": [
            "Dataset Information:\n",
            "<bound method NDFrame.head of       IMPORTER      YEAR  MONTH  UNIT      QUANTITY  VALUE_RS  DESCRIPTION_01  \\\n",
            "0            3  2.379968    4.0     2  3.798307e-01  1.733808               1   \n",
            "1            4  2.379968    4.0     2 -1.966288e-02  0.264543               1   \n",
            "2            4  2.379968    4.0     2 -1.291616e-01  0.480941               1   \n",
            "3            2  2.379968    3.0     2 -7.332619e-02  0.141188               1   \n",
            "4            4  2.379968    3.0     2  1.413228e-01  0.709638               1   \n",
            "...        ...       ...    ...   ...           ...       ...             ...   \n",
            "1037         2 -0.349350   12.0     2 -1.116571e-01 -0.278221               1   \n",
            "1038         2 -0.349350   12.0     2 -1.116571e-01 -0.278221               1   \n",
            "1039         2 -0.349350   12.0     2 -3.098826e-17 -0.155550               1   \n",
            "1040         2 -0.349350   12.0     2 -3.098826e-17 -0.155550               1   \n",
            "1041         2 -0.349350   12.0     2 -1.116571e-01 -0.278221               1   \n",
            "\n",
            "      DESCRIPTION_02  DESCRIPTION_03  RISK  \n",
            "0                  3               2     0  \n",
            "1                  3               2     0  \n",
            "2                  3               2     0  \n",
            "3                  3               2     0  \n",
            "4                  3               2     0  \n",
            "...              ...             ...   ...  \n",
            "1037               4               6     0  \n",
            "1038               4               6     0  \n",
            "1039               4               6     0  \n",
            "1040               4               6     0  \n",
            "1041               4               6     0  \n",
            "\n",
            "[1042 rows x 10 columns]>\n"
          ]
        }
      ],
      "source": [
        "# Display dataset information\n",
        "print(\"Dataset Information:\")\n",
        "print(data.head)"
      ]
    },
    {
      "cell_type": "markdown",
      "source": [
        "## **Balancing the Target Variable**"
      ],
      "metadata": {
        "id": "ZqBFx7-Qtcnu"
      }
    },
    {
      "cell_type": "code",
      "execution_count": 320,
      "metadata": {
        "id": "VJALpjd5WiXf",
        "colab": {
          "base_uri": "https://localhost:8080/"
        },
        "outputId": "3e2952b9-32b9-4daa-d5ee-84ee7b003069"
      },
      "outputs": [
        {
          "output_type": "stream",
          "name": "stdout",
          "text": [
            "Original dataset size: (1042, 9)\n",
            "Resampled dataset size: (1280, 9)\n"
          ]
        }
      ],
      "source": [
        "# Handling the imbalance dataset\n",
        "\n",
        "# Suppressing the FutureWarnings\n",
        "warnings.filterwarnings(\"ignore\", category=FutureWarning)\n",
        "\n",
        "# Handling imbalanced dataset\n",
        "smote = SMOTE(sampling_strategy='auto', random_state=42)\n",
        "X_resampled, y_resampled = smote.fit_resample(X, y)\n",
        "\n",
        "print(\"Original dataset size:\", X.shape)\n",
        "print(\"Resampled dataset size:\", X_resampled.shape)"
      ]
    },
    {
      "cell_type": "code",
      "execution_count": 321,
      "metadata": {
        "id": "zUwdji5AWlGO",
        "colab": {
          "base_uri": "https://localhost:8080/",
          "height": 472
        },
        "outputId": "619e7861-922d-4172-931a-7718b480b462"
      },
      "outputs": [
        {
          "output_type": "display_data",
          "data": {
            "text/plain": [
              "<Figure size 640x480 with 1 Axes>"
            ],
            "image/png": "[encoded data removed]"
          },
          "metadata": {}
        }
      ],
      "source": [
        "# Plotting class distribution after SMOTE\n",
        "sns.countplot(x=y_resampled, palette=\"viridis\")\n",
        "plt.title(\"Class Distribution After SMOTE\")\n",
        "plt.xlabel(\"Class\")\n",
        "plt.ylabel(\"Count\")\n",
        "plt.show()"
      ]
    },
    {
      "cell_type": "code",
      "execution_count": 322,
      "metadata": {
        "id": "-DV3t_x-Wnap",
        "colab": {
          "base_uri": "https://localhost:8080/"
        },
        "outputId": "7e594a5c-6d78-482e-9ae4-90a2b27909f7"
      },
      "outputs": [
        {
          "output_type": "stream",
          "name": "stdout",
          "text": [
            "Shape of X_resampled: (1280, 9)\n",
            "Shape of y_resampled: (1280,)\n"
          ]
        }
      ],
      "source": [
        "# Displaying the dataset shape after applying the SMOTE\n",
        "print(f\"Shape of X_resampled: {X_resampled.shape}\")\n",
        "print(f\"Shape of y_resampled: {y_resampled.shape}\")"
      ]
    },
    {
      "cell_type": "code",
      "execution_count": 323,
      "metadata": {
        "id": "Fq-6bCFMWoxd"
      },
      "outputs": [],
      "source": [
        "# Standardizing the features\n",
        "scaler = StandardScaler()\n",
        "X_resampled_scaled = scaler.fit_transform(X_resampled)"
      ]
    },
    {
      "cell_type": "code",
      "execution_count": 324,
      "metadata": {
        "id": "zKKCxYzoWqBW"
      },
      "outputs": [],
      "source": [
        "# Splitting data\n",
        "X_train, X_test, y_train, y_test = train_test_split(X_resampled_scaled, y_resampled, test_size=0.2, stratify = y_resampled, random_state=42)"
      ]
    },
    {
      "cell_type": "code",
      "execution_count": 325,
      "metadata": {
        "id": "1TT2I8hvWr3K",
        "colab": {
          "base_uri": "https://localhost:8080/"
        },
        "outputId": "3e64ce3b-77b0-4920-823f-6f696f13a1d6"
      },
      "outputs": [
        {
          "output_type": "stream",
          "name": "stdout",
          "text": [
            "Dataset Information:\n",
            "<class 'pandas.core.frame.DataFrame'>\n",
            "RangeIndex: 1042 entries, 0 to 1041\n",
            "Data columns (total 10 columns):\n",
            " #   Column          Non-Null Count  Dtype  \n",
            "---  ------          --------------  -----  \n",
            " 0   IMPORTER        1042 non-null   int64  \n",
            " 1   YEAR            1042 non-null   float64\n",
            " 2   MONTH           1042 non-null   float64\n",
            " 3   UNIT            1042 non-null   int64  \n",
            " 4   QUANTITY        1042 non-null   float64\n",
            " 5   VALUE_RS        1042 non-null   float64\n",
            " 6   DESCRIPTION_01  1042 non-null   int64  \n",
            " 7   DESCRIPTION_02  1042 non-null   int64  \n",
            " 8   DESCRIPTION_03  1042 non-null   int64  \n",
            " 9   RISK            1042 non-null   int64  \n",
            "dtypes: float64(4), int64(6)\n",
            "memory usage: 81.5 KB\n",
            "None\n"
          ]
        }
      ],
      "source": [
        "# Display dataset information\n",
        "print(\"Dataset Information:\")\n",
        "print(data.info())"
      ]
    },
    {
      "cell_type": "markdown",
      "source": [
        "# **Building the Model**"
      ],
      "metadata": {
        "id": "bneXr1Aftkpp"
      }
    },
    {
      "cell_type": "markdown",
      "source": [
        "## **Model based on LSTM and Gradient Boost**"
      ],
      "metadata": {
        "id": "Ayi04F-wtnJf"
      }
    },
    {
      "cell_type": "code",
      "execution_count": 326,
      "metadata": {
        "id": "KTkSM9zLWuKR"
      },
      "outputs": [],
      "source": [
        "# Scaling the features\n",
        "scaler = StandardScaler()\n",
        "X_scaled = scaler.fit_transform(X)"
      ]
    },
    {
      "cell_type": "code",
      "execution_count": 327,
      "metadata": {
        "id": "skZKRUh-WvU7"
      },
      "outputs": [],
      "source": [
        "# Splitting the data into training (60%) and temporary (40%) sets\n",
        "X_train_scaled, X_temp, y_train, y_temp = train_test_split(X_scaled, y, test_size=0.4, random_state=42, stratify=y)\n",
        "\n",
        "# Splitting the temporary set into validation (50% of temp, i.e., 20% of total) and test (50% of temp, i.e., 20% of total)\n",
        "X_val_scaled, X_test_scaled, y_val, y_test = train_test_split(X_temp, y_temp, test_size=0.5, random_state=42, stratify=y_temp)"
      ]
    },
    {
      "cell_type": "code",
      "execution_count": 328,
      "metadata": {
        "id": "qLfYLaWhWxNT"
      },
      "outputs": [],
      "source": [
        "# Standard scaling for the splits\n",
        "X_train_scaled = scaler.fit_transform(X_train_scaled)\n",
        "X_val_scaled = scaler.transform(X_val_scaled)\n",
        "X_test_scaled = scaler.transform(X_test_scaled)"
      ]
    },
    {
      "cell_type": "code",
      "execution_count": 329,
      "metadata": {
        "id": "dZEs_ApuW1Ra"
      },
      "outputs": [],
      "source": [
        "# Setting a global seed for reproducibility\n",
        "def set_seed(seed_value=42):\n",
        "    np.random.seed(seed_value)\n",
        "    random.seed(seed_value)\n",
        "    tf.random.set_seed(seed_value)\n",
        "\n",
        "# Defining the LSTM model\n",
        "def create_lstm_model(input_shape, seed_value=42):\n",
        "    # Setting the seed before building the model\n",
        "    set_seed(seed_value)\n",
        "\n",
        "    model = Sequential()\n",
        "    model.add(LSTM(units=64, return_sequences=False, input_shape=input_shape))\n",
        "    model.add(Dropout(0.2))\n",
        "    model.add(Dense(32, activation='relu'))\n",
        "    model.add(Dense(1, activation='linear'))\n",
        "    model.compile(optimizer='adam', loss='mean_squared_error')\n",
        "    return model"
      ]
    },
    {
      "cell_type": "code",
      "execution_count": 330,
      "metadata": {
        "id": "Ya1G8atHW2es",
        "colab": {
          "base_uri": "https://localhost:8080/"
        },
        "outputId": "da0a8325-f860-4627-9472-a41c0d9c231a"
      },
      "outputs": [
        {
          "output_type": "stream",
          "name": "stderr",
          "text": [
            "/usr/local/lib/python3.11/dist-packages/keras/src/layers/rnn/rnn.py:204: UserWarning: Do not pass an `input_shape`/`input_dim` argument to a layer. When using Sequential models, prefer using an `Input(shape)` object as the first layer in the model instead.\n",
            "  super().__init__(**kwargs)\n"
          ]
        },
        {
          "output_type": "stream",
          "name": "stdout",
          "text": [
            "Epoch 1/20\n",
            "\u001b[1m20/20\u001b[0m \u001b[32m━━━━━━━━━━━━━━━━━━━━\u001b[0m\u001b[37m\u001b[0m \u001b[1m6s\u001b[0m 61ms/step - loss: 0.5015 - val_loss: 0.3159\n",
            "Epoch 2/20\n",
            "\u001b[1m20/20\u001b[0m \u001b[32m━━━━━━━━━━━━━━━━━━━━\u001b[0m\u001b[37m\u001b[0m \u001b[1m0s\u001b[0m 11ms/step - loss: 0.2761 - val_loss: 0.1749\n",
            "Epoch 3/20\n",
            "\u001b[1m20/20\u001b[0m \u001b[32m━━━━━━━━━━━━━━━━━━━━\u001b[0m\u001b[37m\u001b[0m \u001b[1m0s\u001b[0m 12ms/step - loss: 0.1713 - val_loss: 0.1500\n",
            "Epoch 4/20\n",
            "\u001b[1m20/20\u001b[0m \u001b[32m━━━━━━━━━━━━━━━━━━━━\u001b[0m\u001b[37m\u001b[0m \u001b[1m1s\u001b[0m 22ms/step - loss: 0.1615 - val_loss: 0.1464\n",
            "Epoch 5/20\n",
            "\u001b[1m20/20\u001b[0m \u001b[32m━━━━━━━━━━━━━━━━━━━━\u001b[0m\u001b[37m\u001b[0m \u001b[1m0s\u001b[0m 15ms/step - loss: 0.1545 - val_loss: 0.1437\n",
            "Epoch 6/20\n",
            "\u001b[1m20/20\u001b[0m \u001b[32m━━━━━━━━━━━━━━━━━━━━\u001b[0m\u001b[37m\u001b[0m \u001b[1m0s\u001b[0m 12ms/step - loss: 0.1545 - val_loss: 0.1411\n",
            "Epoch 7/20\n",
            "\u001b[1m20/20\u001b[0m \u001b[32m━━━━━━━━━━━━━━━━━━━━\u001b[0m\u001b[37m\u001b[0m \u001b[1m1s\u001b[0m 23ms/step - loss: 0.1560 - val_loss: 0.1392\n",
            "Epoch 8/20\n",
            "\u001b[1m20/20\u001b[0m \u001b[32m━━━━━━━━━━━━━━━━━━━━\u001b[0m\u001b[37m\u001b[0m \u001b[1m1s\u001b[0m 23ms/step - loss: 0.1483 - val_loss: 0.1374\n",
            "Epoch 9/20\n",
            "\u001b[1m20/20\u001b[0m \u001b[32m━━━━━━━━━━━━━━━━━━━━\u001b[0m\u001b[37m\u001b[0m \u001b[1m1s\u001b[0m 24ms/step - loss: 0.1484 - val_loss: 0.1350\n",
            "Epoch 10/20\n",
            "\u001b[1m20/20\u001b[0m \u001b[32m━━━━━━━━━━━━━━━━━━━━\u001b[0m\u001b[37m\u001b[0m \u001b[1m0s\u001b[0m 17ms/step - loss: 0.1398 - val_loss: 0.1331\n",
            "Epoch 11/20\n",
            "\u001b[1m20/20\u001b[0m \u001b[32m━━━━━━━━━━━━━━━━━━━━\u001b[0m\u001b[37m\u001b[0m \u001b[1m1s\u001b[0m 34ms/step - loss: 0.1433 - val_loss: 0.1303\n",
            "Epoch 12/20\n",
            "\u001b[1m20/20\u001b[0m \u001b[32m━━━━━━━━━━━━━━━━━━━━\u001b[0m\u001b[37m\u001b[0m \u001b[1m0s\u001b[0m 14ms/step - loss: 0.1378 - val_loss: 0.1281\n",
            "Epoch 13/20\n",
            "\u001b[1m20/20\u001b[0m \u001b[32m━━━━━━━━━━━━━━━━━━━━\u001b[0m\u001b[37m\u001b[0m \u001b[1m0s\u001b[0m 19ms/step - loss: 0.1419 - val_loss: 0.1268\n",
            "Epoch 14/20\n",
            "\u001b[1m20/20\u001b[0m \u001b[32m━━━━━━━━━━━━━━━━━━━━\u001b[0m\u001b[37m\u001b[0m \u001b[1m1s\u001b[0m 17ms/step - loss: 0.1342 - val_loss: 0.1250\n",
            "Epoch 15/20\n",
            "\u001b[1m20/20\u001b[0m \u001b[32m━━━━━━━━━━━━━━━━━━━━\u001b[0m\u001b[37m\u001b[0m \u001b[1m1s\u001b[0m 25ms/step - loss: 0.1348 - val_loss: 0.1223\n",
            "Epoch 16/20\n",
            "\u001b[1m20/20\u001b[0m \u001b[32m━━━━━━━━━━━━━━━━━━━━\u001b[0m\u001b[37m\u001b[0m \u001b[1m1s\u001b[0m 30ms/step - loss: 0.1297 - val_loss: 0.1203\n",
            "Epoch 17/20\n",
            "\u001b[1m20/20\u001b[0m \u001b[32m━━━━━━━━━━━━━━━━━━━━\u001b[0m\u001b[37m\u001b[0m \u001b[1m1s\u001b[0m 26ms/step - loss: 0.1311 - val_loss: 0.1175\n",
            "Epoch 18/20\n",
            "\u001b[1m20/20\u001b[0m \u001b[32m━━━━━━━━━━━━━━━━━━━━\u001b[0m\u001b[37m\u001b[0m \u001b[1m0s\u001b[0m 18ms/step - loss: 0.1298 - val_loss: 0.1152\n",
            "Epoch 19/20\n",
            "\u001b[1m20/20\u001b[0m \u001b[32m━━━━━━━━━━━━━━━━━━━━\u001b[0m\u001b[37m\u001b[0m \u001b[1m0s\u001b[0m 13ms/step - loss: 0.1254 - val_loss: 0.1129\n",
            "Epoch 20/20\n",
            "\u001b[1m20/20\u001b[0m \u001b[32m━━━━━━━━━━━━━━━━━━━━\u001b[0m\u001b[37m\u001b[0m \u001b[1m1s\u001b[0m 16ms/step - loss: 0.1211 - val_loss: 0.1096\n",
            "\u001b[1m20/20\u001b[0m \u001b[32m━━━━━━━━━━━━━━━━━━━━\u001b[0m\u001b[37m\u001b[0m \u001b[1m1s\u001b[0m 26ms/step\n",
            "\u001b[1m7/7\u001b[0m \u001b[32m━━━━━━━━━━━━━━━━━━━━\u001b[0m\u001b[37m\u001b[0m \u001b[1m0s\u001b[0m 5ms/step \n",
            "\u001b[1m7/7\u001b[0m \u001b[32m━━━━━━━━━━━━━━━━━━━━\u001b[0m\u001b[37m\u001b[0m \u001b[1m0s\u001b[0m 3ms/step \n"
          ]
        }
      ],
      "source": [
        "# Reshaping input data for LSTM (3D input required: samples, timesteps, features)\n",
        "X_train_lstm = X_train_scaled.reshape(X_train_scaled.shape[0], 1, X_train_scaled.shape[1])\n",
        "X_val_lstm = X_val_scaled.reshape(X_val_scaled.shape[0], 1, X_val_scaled.shape[1])\n",
        "X_test_lstm = X_test_scaled.reshape(X_test_scaled.shape[0], 1, X_test_scaled.shape[1])\n",
        "\n",
        "# Creating and train the LSTM model\n",
        "lstm_model = create_lstm_model((X_train_lstm.shape[1], X_train_lstm.shape[2]))\n",
        "lstm_model.fit(X_train_lstm, y_train, epochs=20, batch_size=32, validation_data=(X_val_lstm, y_val))\n",
        "\n",
        "# Extracting LSTM features (use LSTM's output as features for Gradient Boosting)\n",
        "lstm_train_features = lstm_model.predict(X_train_lstm)\n",
        "lstm_val_features = lstm_model.predict(X_val_lstm)\n",
        "lstm_test_features = lstm_model.predict(X_test_lstm)"
      ]
    },
    {
      "cell_type": "code",
      "execution_count": 331,
      "metadata": {
        "id": "izAjaecjW627"
      },
      "outputs": [],
      "source": [
        "# Reshape features for Gradient Boosting\n",
        "lstm_train_features = lstm_train_features.reshape(-1, 1)\n",
        "lstm_val_features = lstm_val_features.reshape(-1, 1)\n",
        "lstm_test_features = lstm_test_features.reshape(-1, 1)"
      ]
    },
    {
      "cell_type": "code",
      "execution_count": 332,
      "metadata": {
        "colab": {
          "base_uri": "https://localhost:8080/"
        },
        "id": "6smI81k1W8Hu",
        "outputId": "2385fc45-e94d-45cd-9635-20ae16d13d78"
      },
      "outputs": [
        {
          "output_type": "stream",
          "name": "stdout",
          "text": [
            "Fitting 5 folds for each of 81 candidates, totalling 405 fits\n",
            "Best Parameters for Gradient Boosting:  {'learning_rate': 0.1, 'max_depth': 3, 'min_samples_split': 2, 'n_estimators': 100}\n"
          ]
        }
      ],
      "source": [
        "# Hyperparameter tuning for Gradient Boosting using GridSearchCV\n",
        "param_grid = {\n",
        "    'n_estimators': [50, 100, 150],\n",
        "    'learning_rate': [0.01, 0.05, 0.1],\n",
        "    'max_depth': [3, 5, 7],\n",
        "    'min_samples_split': [2, 5, 10]\n",
        "}\n",
        "\n",
        "# Grid search cross-validation for Gradient Boosting\n",
        "grid_search = GridSearchCV(GradientBoostingClassifier(), param_grid, cv=5, scoring='accuracy', n_jobs=-1, verbose=1)\n",
        "grid_search.fit(lstm_train_features, y_train)\n",
        "\n",
        "# Best parameters from grid search\n",
        "print(\"Best Parameters for Gradient Boosting: \", grid_search.best_params_)\n",
        "\n",
        "# Train Gradient Boosting on the best parameters\n",
        "gb_model_class = grid_search.best_estimator_\n"
      ]
    },
    {
      "cell_type": "code",
      "execution_count": 333,
      "metadata": {
        "colab": {
          "base_uri": "https://localhost:8080/"
        },
        "id": "BqlVPG3wXAV-",
        "outputId": "a06f2cb3-937a-4da5-f021-da4bb4bc19aa"
      },
      "outputs": [
        {
          "output_type": "stream",
          "name": "stdout",
          "text": [
            "Cross-validation Accuracy: 0.9408 ± 0.018659046063504936\n"
          ]
        }
      ],
      "source": [
        "# Cross-validation on Gradient Boosting\n",
        "cv_scores = cross_val_score(gb_model_class, lstm_train_features, y_train, cv=StratifiedKFold(5), scoring='accuracy')\n",
        "print(f\"Cross-validation Accuracy: {np.mean(cv_scores)} ± {np.std(cv_scores)}\")"
      ]
    },
    {
      "cell_type": "code",
      "execution_count": 334,
      "metadata": {
        "id": "NQ_9guDXXBpT",
        "colab": {
          "base_uri": "https://localhost:8080/"
        },
        "outputId": "568ae380-9c16-4e94-8cc5-37057b18d58e"
      },
      "outputs": [
        {
          "output_type": "stream",
          "name": "stdout",
          "text": [
            "\n",
            "Classification Evaluation:\n",
            "Accuracy:  0.937799043062201\n",
            "Classification Report:\n",
            "               precision    recall  f1-score   support\n",
            "\n",
            "           0       0.95      0.89      0.92        81\n",
            "           1       0.93      0.97      0.95       128\n",
            "\n",
            "    accuracy                           0.94       209\n",
            "   macro avg       0.94      0.93      0.93       209\n",
            "weighted avg       0.94      0.94      0.94       209\n",
            "\n"
          ]
        }
      ],
      "source": [
        "# Predicting on test data\n",
        "y_pred_class = gb_model_class.predict(lstm_test_features)\n",
        "\n",
        "# Evaluation for classification\n",
        "print(\"\\nClassification Evaluation:\")\n",
        "print(\"Accuracy: \", accuracy_score(y_test, y_pred_class))\n",
        "print(\"Classification Report:\\n\", classification_report(y_test, y_pred_class))"
      ]
    },
    {
      "cell_type": "code",
      "execution_count": 335,
      "metadata": {
        "id": "JiHMHAfVXEqD",
        "colab": {
          "base_uri": "https://localhost:8080/",
          "height": 564
        },
        "outputId": "8420a66c-9b9d-4b55-9c02-43f0054a4554"
      },
      "outputs": [
        {
          "output_type": "display_data",
          "data": {
            "text/plain": [
              "<Figure size 800x600 with 1 Axes>"
            ],
            "image/png": "[encoded data removed]"
          },
          "metadata": {}
        }
      ],
      "source": [
        "# Generate the confusion matrix\n",
        "cm = confusion_matrix(y_test, y_pred_class)\n",
        "\n",
        "# Plotting the confusion matrix\n",
        "plt.figure(figsize=(8, 6))\n",
        "sns.heatmap(cm, annot=True, fmt=\"d\", cmap=\"Blues\", cbar=False, xticklabels=['Class 0', 'Class 1', 'Class 2'], yticklabels=['Class 0', 'Class 1', 'Class 2'])\n",
        "plt.title('Confusion Matrix')\n",
        "plt.xlabel('Predicted Labels')\n",
        "plt.ylabel('True Labels')\n",
        "plt.show()"
      ]
    },
    {
      "cell_type": "code",
      "execution_count": 336,
      "metadata": {
        "id": "c-ggWYefXHUO",
        "colab": {
          "base_uri": "https://localhost:8080/"
        },
        "outputId": "16baf129-2209-46d2-926c-62d99a704e34"
      },
      "outputs": [
        {
          "output_type": "stream",
          "name": "stdout",
          "text": [
            "Train Accuracy:  0.984\n",
            "Test Accuracy:  0.937799043062201\n",
            "The model has balanced performance on train and test sets.\n"
          ]
        }
      ],
      "source": [
        "# Overfitting Score: Train vs Test Accuracy\n",
        "y_pred_train = gb_model_class.predict(lstm_train_features)\n",
        "train_accuracy = accuracy_score(y_train, y_pred_train)\n",
        "print(\"Train Accuracy: \", train_accuracy)\n",
        "\n",
        "y_pred_test = gb_model_class.predict(lstm_test_features)\n",
        "test_accuracy = accuracy_score(y_test, y_pred_test)\n",
        "print(\"Test Accuracy: \", test_accuracy)\n",
        "\n",
        "# Check for overfitting\n",
        "if train_accuracy - test_accuracy > 0.1:\n",
        "    print(\"The model might be overfitting. Consider regularization, reducing model complexity, or adding more data.\")\n",
        "else:\n",
        "    print(\"The model has balanced performance on train and test sets.\")"
      ]
    },
    {
      "cell_type": "code",
      "execution_count": 337,
      "metadata": {
        "id": "HWLyfipQXJZZ",
        "colab": {
          "base_uri": "https://localhost:8080/"
        },
        "outputId": "10b1f107-28bd-4297-f25f-c1fac99a0f41"
      },
      "outputs": [
        {
          "output_type": "stream",
          "name": "stderr",
          "text": [
            "WARNING:absl:You are saving your model as an HDF5 file via `model.save()` or `keras.saving.save_model(model)`. This file format is considered legacy. We recommend using instead the native Keras format, e.g. `model.save('my_model.keras')` or `keras.saving.save_model(model, 'my_model.keras')`. \n"
          ]
        },
        {
          "output_type": "stream",
          "name": "stdout",
          "text": [
            "Models saved successfully!\n"
          ]
        }
      ],
      "source": [
        "# Saving Scaler\n",
        "joblib.dump(scaler, '/content/drive/MyDrive/Comprehensive_Chemical_Risk_Prediction_Model/scaler.pkl')\n",
        "\n",
        "# Saving LSTM Model\n",
        "lstm_model.save('/content/drive/MyDrive/Comprehensive_Chemical_Risk_Prediction_Model/lstm_model.h5')\n",
        "\n",
        "# Saving Gradient Boosting Model\n",
        "joblib.dump(gb_model_class, '/content/drive/MyDrive/Comprehensive_Chemical_Risk_Prediction_Model/gb_model_class.pkl')\n",
        "\n",
        "print(\"Models saved successfully!\")"
      ]
    },
    {
      "cell_type": "code",
      "execution_count": 338,
      "metadata": {
        "id": "Uj6pF0wcXLaV",
        "colab": {
          "base_uri": "https://localhost:8080/"
        },
        "outputId": "5e6fc548-af8d-4053-e684-c90f2a82e509"
      },
      "outputs": [
        {
          "output_type": "stream",
          "name": "stderr",
          "text": [
            "WARNING:absl:Compiled the loaded model, but the compiled metrics have yet to be built. `model.compile_metrics` will be empty until you train or evaluate the model.\n"
          ]
        }
      ],
      "source": [
        "# Loading the Scaler\n",
        "scaler = joblib.load('/content/drive/MyDrive/Comprehensive_Chemical_Risk_Prediction_Model/scaler.pkl')\n",
        "\n",
        "# Loading the LSTM Model\n",
        "lstm_model = load_model('/content/drive/MyDrive/Comprehensive_Chemical_Risk_Prediction_Model/lstm_model.h5')\n",
        "\n",
        "# Loading the Gradient Boosting Model\n",
        "gb_model_class = joblib.load('/content/drive/MyDrive/Comprehensive_Chemical_Risk_Prediction_Model/gb_model_class.pkl')"
      ]
    },
    {
      "cell_type": "markdown",
      "source": [
        "# **Model Prediction**"
      ],
      "metadata": {
        "id": "R6Y8y2rtk4Ns"
      }
    },
    {
      "cell_type": "code",
      "source": [
        "import numpy as np\n",
        "import joblib\n",
        "from keras.models import load_model\n",
        "\n",
        "# Load saved encoders\n",
        "importer_encoder = joblib.load('encoded_IMPORTER.pkl')\n",
        "description_01_encoder = joblib.load('encoded_DESCRIPTION_01.pkl')\n",
        "description_02_encoder = joblib.load('encoded_DESCRIPTION_02.pkl')\n",
        "description_03_encoder = joblib.load('encoded_DESCRIPTION_03.pkl')\n",
        "hscode_encoder = joblib.load('encoded_HSCODE.pkl')\n",
        "month_encoder = joblib.load('encoded_MONTH.pkl')\n",
        "country_encoder = joblib.load('encoded_COUNTRY.pkl')\n",
        "unit_encoder = joblib.load('encoded_UNIT.pkl')\n",
        "\n",
        "# Load pre-trained models and scalers\n",
        "scaler = joblib.load('/content/drive/MyDrive/Comprehensive_Chemical_Risk_Prediction_Model/scaler.pkl')\n",
        "lstm_model = load_model('/content/drive/MyDrive/Comprehensive_Chemical_Risk_Prediction_Model/lstm_model.h5')\n",
        "gb_model_class = joblib.load('/content/drive/MyDrive/Comprehensive_Chemical_Risk_Prediction_Model/gb_model_class.pkl')\n",
        "\n",
        "# Risk mapping dictionary\n",
        "risk_mapping = {\n",
        "    'Chlorine': 'Low',\n",
        "    'Nitric acid; sulphonitric acids': 'High',\n",
        "    'Cyanides and cyanide oxides: of sodium': 'High',\n",
        "    'Hydrogen peroxide, whether or not solidified with urea.': 'High',\n",
        "    'Iodine': 'Low',\n",
        "    'Bromine': 'Low',\n",
        "    'Chlorates and perchlorates; bromates and perbromates; iodates and periodates': 'High',\n",
        "    'Mineral or chemical fertilizers, nitrogenous': 'Low',\n",
        "    'Sulphuric acid; oleum': 'High',\n",
        "    'Halides and halide oxides of non-metals': 'Low',\n",
        "    'Fluorides; fluorosilicates, fluoroaluminates, and other complex fluorine salts': 'Low'\n",
        "}\n",
        "\n",
        "# Define quantity thresholds\n",
        "high_quantity_threshold = 10000\n",
        "medium_quantity_threshold = 5000\n",
        "\n",
        "# Function to encode the inputs\n",
        "def encode_inputs(importer_input, month_input, country_input, unit_input, year_input, hscode_input, description_3_input, quantity_input, value_input):\n",
        "    try:\n",
        "        importer_encoded = importer_encoder.transform([importer_input])[0] if importer_input in importer_encoder.classes_ else len(importer_encoder.classes_)\n",
        "        month_encoded = month_encoder.transform([month_input])[0] if month_input in month_encoder.classes_ else len(month_encoder.classes_)\n",
        "        country_encoded = country_encoder.transform([country_input])[0] if country_input in country_encoder.classes_ else len(country_encoder.classes_)\n",
        "        unit_encoded = unit_encoder.transform([unit_input])[0] if unit_input in unit_encoder.classes_ else len(unit_encoder.classes_)\n",
        "\n",
        "        return (importer_encoded, month_encoded, country_encoded, unit_encoded, year_input, hscode_input, len(description_3_input), quantity_input, value_input)\n",
        "    except Exception as e:\n",
        "        raise ValueError(f\"Encoding failed: {e}\")\n",
        "\n",
        "# Function to calculate risk\n",
        "def calculate_risk(description, quantity):\n",
        "    description_risk = risk_mapping.get(description.lower(), 'Low')\n",
        "    if description_risk == 'High' or quantity > high_quantity_threshold:\n",
        "        return 'High'\n",
        "    else:\n",
        "        return 'Low'\n",
        "\n",
        "# Main function\n",
        "def main():\n",
        "    try:\n",
        "        # Take user inputs\n",
        "        importer_input = input(\"Enter importer: \").capitalize()\n",
        "        year_input = int(input(\"Enter year: \"))\n",
        "        country_input = input(\"Enter country: \").upper()\n",
        "        description_3_input = input(\"Enter description: \").capitalize()\n",
        "        quantity_input = float(input(\"Enter quantity: \"))\n",
        "        value_input = float(input(\"Enter value: \"))\n",
        "        hscode_input = int(input(\"Enter HS code: \"))\n",
        "        unit_input = input(\"Enter unit: \").upper()\n",
        "\n",
        "        # Validate inputs\n",
        "        if not all([importer_input, year_input, country_input, description_3_input, quantity_input, value_input, hscode_input, unit_input]):\n",
        "            print(\"Error: Missing required inputs\")\n",
        "            return\n",
        "\n",
        "        # Encode inputs\n",
        "        encoded_values = encode_inputs(\n",
        "            importer_input, year_input, country_input, unit_input,\n",
        "            year_input, hscode_input, description_3_input, quantity_input, value_input\n",
        "        )\n",
        "\n",
        "        # Preprocess features for models\n",
        "        features = np.array(encoded_values).reshape(1, -1)\n",
        "        features_scaled = scaler.transform(features)\n",
        "\n",
        "        # Prepare LSTM input format\n",
        "        features_lstm = features_scaled.reshape(features_scaled.shape[0], 1, features_scaled.shape[1])\n",
        "\n",
        "        # LSTM feature extraction\n",
        "        lstm_features = lstm_model.predict(features_lstm)\n",
        "        lstm_features = lstm_features.reshape(-1, 1)\n",
        "\n",
        "        # Risk classification using Gradient Boosting\n",
        "        prediction = gb_model_class.predict(lstm_features)\n",
        "        classification = 'risky' if prediction == 1 else 'not risky'\n",
        "\n",
        "        # Risk category assessment\n",
        "        risk_category = calculate_risk(description_3_input, quantity_input)\n",
        "\n",
        "        # Display the results\n",
        "        print(f\"Classification: {classification}\")\n",
        "        print(f\"Risk category: {risk_category}\")\n",
        "\n",
        "    except Exception as e:\n",
        "        print(f\"Error: {e}\")\n",
        "\n",
        "# Run the script\n",
        "if __name__ == \"__main__\":\n",
        "    main()"
      ],
      "metadata": {
        "colab": {
          "base_uri": "https://localhost:8080/",
          "height": 339
        },
        "id": "YZRKSBQthV8_",
        "outputId": "da6a285e-567a-4c16-bd14-036991d0d664"
      },
      "execution_count": 339,
      "outputs": [
        {
          "output_type": "stream",
          "name": "stderr",
          "text": [
            "WARNING:absl:Compiled the loaded model, but the compiled metrics have yet to be built. `model.compile_metrics` will be empty until you train or evaluate the model.\n"
          ]
        },
        {
          "output_type": "error",
          "ename": "KeyboardInterrupt",
          "evalue": "Interrupted by user",
          "traceback": [
            "\u001b[0;31m---------------------------------------------------------------------------\u001b[0m",
            "\u001b[0;31mKeyboardInterrupt\u001b[0m                         Traceback (most recent call last)",
            "\u001b[0;32m<ipython-input-339-747710a3e26b>\u001b[0m in \u001b[0;36m<cell line: 0>\u001b[0;34m()\u001b[0m\n\u001b[1;32m    108\u001b[0m \u001b[0;31m# Run the script\u001b[0m\u001b[0;34m\u001b[0m\u001b[0;34m\u001b[0m\u001b[0m\n\u001b[1;32m    109\u001b[0m \u001b[0;32mif\u001b[0m \u001b[0m__name__\u001b[0m \u001b[0;34m==\u001b[0m \u001b[0;34m\"__main__\"\u001b[0m\u001b[0;34m:\u001b[0m\u001b[0;34m\u001b[0m\u001b[0;34m\u001b[0m\u001b[0m\n\u001b[0;32m--> 110\u001b[0;31m     \u001b[0mmain\u001b[0m\u001b[0;34m(\u001b[0m\u001b[0;34m)\u001b[0m\u001b[0;34m\u001b[0m\u001b[0;34m\u001b[0m\u001b[0m\n\u001b[0m",
            "\u001b[0;32m<ipython-input-339-747710a3e26b>\u001b[0m in \u001b[0;36mmain\u001b[0;34m()\u001b[0m\n\u001b[1;32m     61\u001b[0m     \u001b[0;32mtry\u001b[0m\u001b[0;34m:\u001b[0m\u001b[0;34m\u001b[0m\u001b[0;34m\u001b[0m\u001b[0m\n\u001b[1;32m     62\u001b[0m         \u001b[0;31m# Take user inputs\u001b[0m\u001b[0;34m\u001b[0m\u001b[0;34m\u001b[0m\u001b[0m\n\u001b[0;32m---> 63\u001b[0;31m         \u001b[0mimporter_input\u001b[0m \u001b[0;34m=\u001b[0m \u001b[0minput\u001b[0m\u001b[0;34m(\u001b[0m\u001b[0;34m\"Enter importer: \"\u001b[0m\u001b[0;34m)\u001b[0m\u001b[0;34m.\u001b[0m\u001b[0mcapitalize\u001b[0m\u001b[0;34m(\u001b[0m\u001b[0;34m)\u001b[0m\u001b[0;34m\u001b[0m\u001b[0;34m\u001b[0m\u001b[0m\n\u001b[0m\u001b[1;32m     64\u001b[0m         \u001b[0myear_input\u001b[0m \u001b[0;34m=\u001b[0m \u001b[0mint\u001b[0m\u001b[0;34m(\u001b[0m\u001b[0minput\u001b[0m\u001b[0;34m(\u001b[0m\u001b[0;34m\"Enter year: \"\u001b[0m\u001b[0;34m)\u001b[0m\u001b[0;34m)\u001b[0m\u001b[0;34m\u001b[0m\u001b[0;34m\u001b[0m\u001b[0m\n\u001b[1;32m     65\u001b[0m         \u001b[0mcountry_input\u001b[0m \u001b[0;34m=\u001b[0m \u001b[0minput\u001b[0m\u001b[0;34m(\u001b[0m\u001b[0;34m\"Enter country: \"\u001b[0m\u001b[0;34m)\u001b[0m\u001b[0;34m.\u001b[0m\u001b[0mupper\u001b[0m\u001b[0;34m(\u001b[0m\u001b[0;34m)\u001b[0m\u001b[0;34m\u001b[0m\u001b[0;34m\u001b[0m\u001b[0m\n",
            "\u001b[0;32m/usr/local/lib/python3.11/dist-packages/ipykernel/kernelbase.py\u001b[0m in \u001b[0;36mraw_input\u001b[0;34m(self, prompt)\u001b[0m\n\u001b[1;32m    849\u001b[0m                 \u001b[0;34m\"raw_input was called, but this frontend does not support input requests.\"\u001b[0m\u001b[0;34m\u001b[0m\u001b[0;34m\u001b[0m\u001b[0m\n\u001b[1;32m    850\u001b[0m             )\n\u001b[0;32m--> 851\u001b[0;31m         return self._input_request(str(prompt),\n\u001b[0m\u001b[1;32m    852\u001b[0m             \u001b[0mself\u001b[0m\u001b[0;34m.\u001b[0m\u001b[0m_parent_ident\u001b[0m\u001b[0;34m,\u001b[0m\u001b[0;34m\u001b[0m\u001b[0;34m\u001b[0m\u001b[0m\n\u001b[1;32m    853\u001b[0m             \u001b[0mself\u001b[0m\u001b[0;34m.\u001b[0m\u001b[0m_parent_header\u001b[0m\u001b[0;34m,\u001b[0m\u001b[0;34m\u001b[0m\u001b[0;34m\u001b[0m\u001b[0m\n",
            "\u001b[0;32m/usr/local/lib/python3.11/dist-packages/ipykernel/kernelbase.py\u001b[0m in \u001b[0;36m_input_request\u001b[0;34m(self, prompt, ident, parent, password)\u001b[0m\n\u001b[1;32m    893\u001b[0m             \u001b[0;32mexcept\u001b[0m \u001b[0mKeyboardInterrupt\u001b[0m\u001b[0;34m:\u001b[0m\u001b[0;34m\u001b[0m\u001b[0;34m\u001b[0m\u001b[0m\n\u001b[1;32m    894\u001b[0m                 \u001b[0;31m# re-raise KeyboardInterrupt, to truncate traceback\u001b[0m\u001b[0;34m\u001b[0m\u001b[0;34m\u001b[0m\u001b[0m\n\u001b[0;32m--> 895\u001b[0;31m                 \u001b[0;32mraise\u001b[0m \u001b[0mKeyboardInterrupt\u001b[0m\u001b[0;34m(\u001b[0m\u001b[0;34m\"Interrupted by user\"\u001b[0m\u001b[0;34m)\u001b[0m \u001b[0;32mfrom\u001b[0m \u001b[0;32mNone\u001b[0m\u001b[0;34m\u001b[0m\u001b[0;34m\u001b[0m\u001b[0m\n\u001b[0m\u001b[1;32m    896\u001b[0m             \u001b[0;32mexcept\u001b[0m \u001b[0mException\u001b[0m \u001b[0;32mas\u001b[0m \u001b[0me\u001b[0m\u001b[0;34m:\u001b[0m\u001b[0;34m\u001b[0m\u001b[0;34m\u001b[0m\u001b[0m\n\u001b[1;32m    897\u001b[0m                 \u001b[0mself\u001b[0m\u001b[0;34m.\u001b[0m\u001b[0mlog\u001b[0m\u001b[0;34m.\u001b[0m\u001b[0mwarning\u001b[0m\u001b[0;34m(\u001b[0m\u001b[0;34m\"Invalid Message:\"\u001b[0m\u001b[0;34m,\u001b[0m \u001b[0mexc_info\u001b[0m\u001b[0;34m=\u001b[0m\u001b[0;32mTrue\u001b[0m\u001b[0;34m)\u001b[0m\u001b[0;34m\u001b[0m\u001b[0;34m\u001b[0m\u001b[0m\n",
            "\u001b[0;31mKeyboardInterrupt\u001b[0m: Interrupted by user"
          ]
        }
      ]
    }
  ],
  "metadata": {
    "colab": {
      "provenance": [],
      "authorship_tag": "ABX9TyOi91eFAwvGxSJHUjcaKM34",
      "include_colab_link": true
    },
    "kernelspec": {
      "display_name": "Python 3",
      "name": "python3"
    },
    "language_info": {
      "name": "python"
    }
  },
  "nbformat": 4,
  "nbformat_minor": 0
}