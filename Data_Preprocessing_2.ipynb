{
  "nbformat": 4,
  "nbformat_minor": 0,
  "metadata": {
    "colab": {
      "provenance": []
    },
    "kernelspec": {
      "name": "python3",
      "display_name": "Python 3"
    },
    "language_info": {
      "name": "python"
    }
  },
  "cells": [
    {
      "cell_type": "markdown",
      "source": [
        "1. Installing the required libraries and importing the relevant libraries"
      ],
      "metadata": {
        "id": "EKwBWc8vc7sI"
      }
    },
    {
      "cell_type": "code",
      "execution_count": 9,
      "metadata": {
        "colab": {
          "base_uri": "https://localhost:8080/"
        },
        "id": "oTD2JvjiPx4F",
        "outputId": "90d07e24-2e14-41d6-d394-9321161d4c73"
      },
      "outputs": [
        {
          "output_type": "stream",
          "name": "stdout",
          "text": [
            "Requirement already satisfied: openpyxl in /usr/local/lib/python3.10/dist-packages (3.1.5)\n",
            "Requirement already satisfied: et-xmlfile in /usr/local/lib/python3.10/dist-packages (from openpyxl) (2.0.0)\n"
          ]
        }
      ],
      "source": [
        "# Installing the required libraries\n",
        "!pip install openpyxl\n",
        "\n",
        "# Importing the relevant libraries\n",
        "import pandas as pd\n",
        "import numpy as np\n",
        "from sklearn.preprocessing import LabelEncoder, MinMaxScaler\n"
      ]
    },
    {
      "cell_type": "markdown",
      "source": [
        "2. Mounting the Google Drive"
      ],
      "metadata": {
        "id": "HKxGzljydy_m"
      }
    },
    {
      "cell_type": "code",
      "source": [
        "# Mounting the google drive\n",
        "from google.colab import drive\n",
        "drive.mount('/content/drive')"
      ],
      "metadata": {
        "colab": {
          "base_uri": "https://localhost:8080/"
        },
        "id": "uLYLQgUhaZ82",
        "outputId": "4adf2187-95b7-4bc1-cd7f-1108c3c453e9"
      },
      "execution_count": 10,
      "outputs": [
        {
          "output_type": "stream",
          "name": "stdout",
          "text": [
            "Drive already mounted at /content/drive; to attempt to forcibly remount, call drive.mount(\"/content/drive\", force_remount=True).\n"
          ]
        }
      ]
    },
    {
      "cell_type": "markdown",
      "source": [
        "3. Loading the Excel File"
      ],
      "metadata": {
        "id": "XCYNBR-2demS"
      }
    },
    {
      "cell_type": "code",
      "source": [
        "# Loading the Excel file\n",
        "file_path = '/content/drive/MyDrive/CM2603 Data Science Group Project/Data Regardings/IMPORT STATISTICS - 2023.xlsx'\n",
        "excel_data = pd.ExcelFile(file_path)\n",
        "\n",
        "# Inspecting the Sheet Names\n",
        "print(\"Sheet Names:\", excel_data.sheet_names)"
      ],
      "metadata": {
        "colab": {
          "base_uri": "https://localhost:8080/"
        },
        "id": "l9bU2PmiajFJ",
        "outputId": "ef36bd65-5c0b-4c9d-bdac-afedbebf68e4"
      },
      "execution_count": 11,
      "outputs": [
        {
          "output_type": "stream",
          "name": "stdout",
          "text": [
            "Sheet Names: ['Dataset_1', 'Dataset_2', 'Dataset_3', 'Dataset_4', 'Dataset_5', 'Dataset_6', 'Dataset_7', 'Dataset_8', 'Dataset_9', 'Dataset_10', 'Dataset_11', 'Dataset_12', 'Dataset_13', 'Dataset_14', 'Dataset_15', 'Dataset_16', 'Dataset_17', 'Dataset_18', 'Dataset_19', 'Dataset_20', 'Dataset_21', 'Dataset_22', 'Dataset_23', 'Dataset_24', 'Dataset_25', 'Dataset_26', 'Dataset_27', 'Dataset_28', 'Dataset_29', 'Dataset_30', 'Dataset_31', 'Dataset_32', 'Dataset_33', 'Dataset_34', 'Dataset_35', 'Dataset_36', 'Dataset_37', 'Dataset_38', 'Dataset_39', 'Dataset_40', 'Dataset_41', 'Dataset_42', 'Dataset_43', 'Dataset_44', 'Dataset_45', 'Dataset_46', 'Dataset_47', 'Dataset_48', 'Dataset_49', 'Dataset_50', 'Dataset_51', 'Dataset_52', 'Dataset_53', 'Dataset_54', 'Dataset_55', 'Dataset_56', 'Dataset_57', 'Dataset_58', 'Dataset_59', 'Dataset_60', 'Dataset_61', 'Dataset_62', 'Dataset_63', 'Dataset_64', 'Dataset_65', 'Dataset_66', 'Dataset_67', 'Dataset_68', 'Dataset_69', 'Dataset_70', 'Dataset_71', 'Dataset_72', 'Dataset_73', 'Dataset_74', 'Dataset_75', 'Dataset_76', 'Dataset_77', 'Dataset_78', 'Dataset_79', 'Dataset_80', 'Dataset_81', 'Dataset_82', 'Dataset_83', 'Dataset_84', 'Dataset_85', 'Dataset_86', 'Dataset_87', 'Dataset_88', 'Dataset_89', 'Dataset_90', 'Dataset_91', 'Dataset_92', 'Dataset_93', 'Dataset_94', 'Dataset_95', 'Dataset_96', 'Dataset_97', 'Dataset_98', 'Dataset_99', 'Dataset_100']\n"
          ]
        }
      ]
    },
    {
      "cell_type": "markdown",
      "source": [
        "4. Loading the data from all the existing sheets"
      ],
      "metadata": {
        "id": "qX34Anf4eCYb"
      }
    },
    {
      "cell_type": "code",
      "source": [
        "# Loading Data from All Sheets (Process only the first sheet as an example)\n",
        "data = excel_data.parse(excel_data.sheet_names[0])  # First sheet\n",
        "print(f\"\\nLoaded Sheet: {excel_data.sheet_names[0]}\")\n",
        "\n",
        "# Inspecting Data\n",
        "print(\"\\nFirst 5 rows of the dataset:\")\n",
        "print(data.head())\n",
        "print(\"\\nDataset Info:\")\n",
        "data.info()\n",
        "print(\"\\nMissing Values Summary:\")\n",
        "print(data.isnull().sum())"
      ],
      "metadata": {
        "colab": {
          "base_uri": "https://localhost:8080/"
        },
        "id": "E7D1IwdiatbN",
        "outputId": "828c9476-ff5c-471a-9444-9fcb738beaa0"
      },
      "execution_count": 12,
      "outputs": [
        {
          "output_type": "stream",
          "name": "stdout",
          "text": [
            "\n",
            "Loaded Sheet: Dataset_1\n",
            "\n",
            "First 5 rows of the dataset:\n",
            "                    IMPORTER  YEAR      MONTH  HSCODE      COUNTRY UNIT  \\\n",
            "0       TransWorld Chemicals  2023       JUNE  280110       FRANCE  Kg.   \n",
            "1  Horizon Industrial Supply  2023  SEPTEMBER  283719         U.K.  Kg.   \n",
            "2     Greenfield Enterprises  2023       JULY  284700  SOUTH KOREA  Kg.   \n",
            "3       Redwood Chemical Co.  2023   DECEMBER  280110      AUSTRIA  Kg.   \n",
            "4       Redwood Chemical Co.  2023      APRIL  280800        SPAIN  Kg.   \n",
            "\n",
            "   QUANTITY  VALUE_RS                                     DESCRIPTION_01  \\\n",
            "0    179640  13387839  Inorganic chemicals; Organic or inorganic comp...   \n",
            "1     53784  36871839  Inorganic chemicals; Organic or inorganic comp...   \n",
            "2     77028  35228981  Inorganic chemicals; Organic or inorganic comp...   \n",
            "3    137434  23393445  Inorganic chemicals; Organic or inorganic comp...   \n",
            "4    116881  11490994  Inorganic chemicals; Organic or inorganic comp...   \n",
            "\n",
            "                                      DESCRIPTION_02  \\\n",
            "0             Fluorine, chlorine, bromine and iodine   \n",
            "1     Cyanides, cyanide oxides and complex cyanides.   \n",
            "2  Hydrogen peroxide, whether or not solidified w...   \n",
            "3             Fluorine, chlorine, bromine and iodine   \n",
            "4                   Nitric acid; sulphonitric acids.   \n",
            "\n",
            "                                      DESCRIPTION_03  \n",
            "0             Fluorine, chlorine, bromine and iodine  \n",
            "1     Cyanides, cyanide oxides and complex cyanides.  \n",
            "2  Hydrogen peroxide, whether or not solidified w...  \n",
            "3             Fluorine, chlorine, bromine and iodine  \n",
            "4                   Nitric acid; sulphonitric acids.  \n",
            "\n",
            "Dataset Info:\n",
            "<class 'pandas.core.frame.DataFrame'>\n",
            "RangeIndex: 100 entries, 0 to 99\n",
            "Data columns (total 11 columns):\n",
            " #   Column          Non-Null Count  Dtype \n",
            "---  ------          --------------  ----- \n",
            " 0   IMPORTER        100 non-null    object\n",
            " 1   YEAR            100 non-null    int64 \n",
            " 2   MONTH           100 non-null    object\n",
            " 3   HSCODE          100 non-null    int64 \n",
            " 4   COUNTRY         100 non-null    object\n",
            " 5   UNIT            100 non-null    object\n",
            " 6   QUANTITY        100 non-null    int64 \n",
            " 7   VALUE_RS        100 non-null    int64 \n",
            " 8   DESCRIPTION_01  100 non-null    object\n",
            " 9   DESCRIPTION_02  100 non-null    object\n",
            " 10  DESCRIPTION_03  100 non-null    object\n",
            "dtypes: int64(4), object(7)\n",
            "memory usage: 8.7+ KB\n",
            "\n",
            "Missing Values Summary:\n",
            "IMPORTER          0\n",
            "YEAR              0\n",
            "MONTH             0\n",
            "HSCODE            0\n",
            "COUNTRY           0\n",
            "UNIT              0\n",
            "QUANTITY          0\n",
            "VALUE_RS          0\n",
            "DESCRIPTION_01    0\n",
            "DESCRIPTION_02    0\n",
            "DESCRIPTION_03    0\n",
            "dtype: int64\n"
          ]
        }
      ]
    },
    {
      "cell_type": "markdown",
      "source": [
        "5. Cleaning the column names"
      ],
      "metadata": {
        "id": "v1lkPp0ieK-G"
      }
    },
    {
      "cell_type": "code",
      "source": [
        "# Cleaning column names\n",
        "data.columns = [col.strip().upper().replace(\" \", \"_\") for col in data.columns]\n",
        "data.head()\n"
      ],
      "metadata": {
        "colab": {
          "base_uri": "https://localhost:8080/",
          "height": 293
        },
        "id": "3SE26HfKcC_U",
        "outputId": "4042c3cb-91bb-4f6a-abdd-a4c8d9958b01"
      },
      "execution_count": 13,
      "outputs": [
        {
          "output_type": "execute_result",
          "data": {
            "text/plain": [
              "                    IMPORTER  YEAR      MONTH  HSCODE      COUNTRY UNIT  \\\n",
              "0       TransWorld Chemicals  2023       JUNE  280110       FRANCE  Kg.   \n",
              "1  Horizon Industrial Supply  2023  SEPTEMBER  283719         U.K.  Kg.   \n",
              "2     Greenfield Enterprises  2023       JULY  284700  SOUTH KOREA  Kg.   \n",
              "3       Redwood Chemical Co.  2023   DECEMBER  280110      AUSTRIA  Kg.   \n",
              "4       Redwood Chemical Co.  2023      APRIL  280800        SPAIN  Kg.   \n",
              "\n",
              "   QUANTITY  VALUE_RS                                     DESCRIPTION_01  \\\n",
              "0    179640  13387839  Inorganic chemicals; Organic or inorganic comp...   \n",
              "1     53784  36871839  Inorganic chemicals; Organic or inorganic comp...   \n",
              "2     77028  35228981  Inorganic chemicals; Organic or inorganic comp...   \n",
              "3    137434  23393445  Inorganic chemicals; Organic or inorganic comp...   \n",
              "4    116881  11490994  Inorganic chemicals; Organic or inorganic comp...   \n",
              "\n",
              "                                      DESCRIPTION_02  \\\n",
              "0             Fluorine, chlorine, bromine and iodine   \n",
              "1     Cyanides, cyanide oxides and complex cyanides.   \n",
              "2  Hydrogen peroxide, whether or not solidified w...   \n",
              "3             Fluorine, chlorine, bromine and iodine   \n",
              "4                   Nitric acid; sulphonitric acids.   \n",
              "\n",
              "                                      DESCRIPTION_03  \n",
              "0             Fluorine, chlorine, bromine and iodine  \n",
              "1     Cyanides, cyanide oxides and complex cyanides.  \n",
              "2  Hydrogen peroxide, whether or not solidified w...  \n",
              "3             Fluorine, chlorine, bromine and iodine  \n",
              "4                   Nitric acid; sulphonitric acids.  "
            ],
            "text/html": [
              "\n",
              "  <div id=\"df-6dc7cc62-142b-42d4-aebc-8b2eb5b8edf0\" class=\"colab-df-container\">\n",
              "    <div>\n",
              "<style scoped>\n",
              "    .dataframe tbody tr th:only-of-type {\n",
              "        vertical-align: middle;\n",
              "    }\n",
              "\n",
              "    .dataframe tbody tr th {\n",
              "        vertical-align: top;\n",
              "    }\n",
              "\n",
              "    .dataframe thead th {\n",
              "        text-align: right;\n",
              "    }\n",
              "</style>\n",
              "<table border=\"1\" class=\"dataframe\">\n",
              "  <thead>\n",
              "    <tr style=\"text-align: right;\">\n",
              "      <th></th>\n",
              "      <th>IMPORTER</th>\n",
              "      <th>YEAR</th>\n",
              "      <th>MONTH</th>\n",
              "      <th>HSCODE</th>\n",
              "      <th>COUNTRY</th>\n",
              "      <th>UNIT</th>\n",
              "      <th>QUANTITY</th>\n",
              "      <th>VALUE_RS</th>\n",
              "      <th>DESCRIPTION_01</th>\n",
              "      <th>DESCRIPTION_02</th>\n",
              "      <th>DESCRIPTION_03</th>\n",
              "    </tr>\n",
              "  </thead>\n",
              "  <tbody>\n",
              "    <tr>\n",
              "      <th>0</th>\n",
              "      <td>TransWorld Chemicals</td>\n",
              "      <td>2023</td>\n",
              "      <td>JUNE</td>\n",
              "      <td>280110</td>\n",
              "      <td>FRANCE</td>\n",
              "      <td>Kg.</td>\n",
              "      <td>179640</td>\n",
              "      <td>13387839</td>\n",
              "      <td>Inorganic chemicals; Organic or inorganic comp...</td>\n",
              "      <td>Fluorine, chlorine, bromine and iodine</td>\n",
              "      <td>Fluorine, chlorine, bromine and iodine</td>\n",
              "    </tr>\n",
              "    <tr>\n",
              "      <th>1</th>\n",
              "      <td>Horizon Industrial Supply</td>\n",
              "      <td>2023</td>\n",
              "      <td>SEPTEMBER</td>\n",
              "      <td>283719</td>\n",
              "      <td>U.K.</td>\n",
              "      <td>Kg.</td>\n",
              "      <td>53784</td>\n",
              "      <td>36871839</td>\n",
              "      <td>Inorganic chemicals; Organic or inorganic comp...</td>\n",
              "      <td>Cyanides, cyanide oxides and complex cyanides.</td>\n",
              "      <td>Cyanides, cyanide oxides and complex cyanides.</td>\n",
              "    </tr>\n",
              "    <tr>\n",
              "      <th>2</th>\n",
              "      <td>Greenfield Enterprises</td>\n",
              "      <td>2023</td>\n",
              "      <td>JULY</td>\n",
              "      <td>284700</td>\n",
              "      <td>SOUTH KOREA</td>\n",
              "      <td>Kg.</td>\n",
              "      <td>77028</td>\n",
              "      <td>35228981</td>\n",
              "      <td>Inorganic chemicals; Organic or inorganic comp...</td>\n",
              "      <td>Hydrogen peroxide, whether or not solidified w...</td>\n",
              "      <td>Hydrogen peroxide, whether or not solidified w...</td>\n",
              "    </tr>\n",
              "    <tr>\n",
              "      <th>3</th>\n",
              "      <td>Redwood Chemical Co.</td>\n",
              "      <td>2023</td>\n",
              "      <td>DECEMBER</td>\n",
              "      <td>280110</td>\n",
              "      <td>AUSTRIA</td>\n",
              "      <td>Kg.</td>\n",
              "      <td>137434</td>\n",
              "      <td>23393445</td>\n",
              "      <td>Inorganic chemicals; Organic or inorganic comp...</td>\n",
              "      <td>Fluorine, chlorine, bromine and iodine</td>\n",
              "      <td>Fluorine, chlorine, bromine and iodine</td>\n",
              "    </tr>\n",
              "    <tr>\n",
              "      <th>4</th>\n",
              "      <td>Redwood Chemical Co.</td>\n",
              "      <td>2023</td>\n",
              "      <td>APRIL</td>\n",
              "      <td>280800</td>\n",
              "      <td>SPAIN</td>\n",
              "      <td>Kg.</td>\n",
              "      <td>116881</td>\n",
              "      <td>11490994</td>\n",
              "      <td>Inorganic chemicals; Organic or inorganic comp...</td>\n",
              "      <td>Nitric acid; sulphonitric acids.</td>\n",
              "      <td>Nitric acid; sulphonitric acids.</td>\n",
              "    </tr>\n",
              "  </tbody>\n",
              "</table>\n",
              "</div>\n",
              "    <div class=\"colab-df-buttons\">\n",
              "\n",
              "  <div class=\"colab-df-container\">\n",
              "    <button class=\"colab-df-convert\" onclick=\"convertToInteractive('df-6dc7cc62-142b-42d4-aebc-8b2eb5b8edf0')\"\n",
              "            title=\"Convert this dataframe to an interactive table.\"\n",
              "            style=\"display:none;\">\n",
              "\n",
              "  <svg xmlns=\"http://www.w3.org/2000/svg\" height=\"24px\" viewBox=\"0 -960 960 960\">\n",
              "    <path d=\"M120-120v-720h720v720H120Zm60-500h600v-160H180v160Zm220 220h160v-160H400v160Zm0 220h160v-160H400v160ZM180-400h160v-160H180v160Zm440 0h160v-160H620v160ZM180-180h160v-160H180v160Zm440 0h160v-160H620v160Z\"/>\n",
              "  </svg>\n",
              "    </button>\n",
              "\n",
              "  <style>\n",
              "    .colab-df-container {\n",
              "      display:flex;\n",
              "      gap: 12px;\n",
              "    }\n",
              "\n",
              "    .colab-df-convert {\n",
              "      background-color: #E8F0FE;\n",
              "      border: none;\n",
              "      border-radius: 50%;\n",
              "      cursor: pointer;\n",
              "      display: none;\n",
              "      fill: #1967D2;\n",
              "      height: 32px;\n",
              "      padding: 0 0 0 0;\n",
              "      width: 32px;\n",
              "    }\n",
              "\n",
              "    .colab-df-convert:hover {\n",
              "      background-color: #E2EBFA;\n",
              "      box-shadow: 0px 1px 2px rgba(60, 64, 67, 0.3), 0px 1px 3px 1px rgba(60, 64, 67, 0.15);\n",
              "      fill: #174EA6;\n",
              "    }\n",
              "\n",
              "    .colab-df-buttons div {\n",
              "      margin-bottom: 4px;\n",
              "    }\n",
              "\n",
              "    [theme=dark] .colab-df-convert {\n",
              "      background-color: #3B4455;\n",
              "      fill: #D2E3FC;\n",
              "    }\n",
              "\n",
              "    [theme=dark] .colab-df-convert:hover {\n",
              "      background-color: #434B5C;\n",
              "      box-shadow: 0px 1px 3px 1px rgba(0, 0, 0, 0.15);\n",
              "      filter: drop-shadow(0px 1px 2px rgba(0, 0, 0, 0.3));\n",
              "      fill: #FFFFFF;\n",
              "    }\n",
              "  </style>\n",
              "\n",
              "    <script>\n",
              "      const buttonEl =\n",
              "        document.querySelector('#df-6dc7cc62-142b-42d4-aebc-8b2eb5b8edf0 button.colab-df-convert');\n",
              "      buttonEl.style.display =\n",
              "        google.colab.kernel.accessAllowed ? 'block' : 'none';\n",
              "\n",
              "      async function convertToInteractive(key) {\n",
              "        const element = document.querySelector('#df-6dc7cc62-142b-42d4-aebc-8b2eb5b8edf0');\n",
              "        const dataTable =\n",
              "          await google.colab.kernel.invokeFunction('convertToInteractive',\n",
              "                                                    [key], {});\n",
              "        if (!dataTable) return;\n",
              "\n",
              "        const docLinkHtml = 'Like what you see? Visit the ' +\n",
              "          '<a target=\"_blank\" href=https://colab.research.google.com/notebooks/data_table.ipynb>data table notebook</a>'\n",
              "          + ' to learn more about interactive tables.';\n",
              "        element.innerHTML = '';\n",
              "        dataTable['output_type'] = 'display_data';\n",
              "        await google.colab.output.renderOutput(dataTable, element);\n",
              "        const docLink = document.createElement('div');\n",
              "        docLink.innerHTML = docLinkHtml;\n",
              "        element.appendChild(docLink);\n",
              "      }\n",
              "    </script>\n",
              "  </div>\n",
              "\n",
              "\n",
              "<div id=\"df-adee8efb-cba9-4b65-b9f9-9681e0bd525b\">\n",
              "  <button class=\"colab-df-quickchart\" onclick=\"quickchart('df-adee8efb-cba9-4b65-b9f9-9681e0bd525b')\"\n",
              "            title=\"Suggest charts\"\n",
              "            style=\"display:none;\">\n",
              "\n",
              "<svg xmlns=\"http://www.w3.org/2000/svg\" height=\"24px\"viewBox=\"0 0 24 24\"\n",
              "     width=\"24px\">\n",
              "    <g>\n",
              "        <path d=\"M19 3H5c-1.1 0-2 .9-2 2v14c0 1.1.9 2 2 2h14c1.1 0 2-.9 2-2V5c0-1.1-.9-2-2-2zM9 17H7v-7h2v7zm4 0h-2V7h2v10zm4 0h-2v-4h2v4z\"/>\n",
              "    </g>\n",
              "</svg>\n",
              "  </button>\n",
              "\n",
              "<style>\n",
              "  .colab-df-quickchart {\n",
              "      --bg-color: #E8F0FE;\n",
              "      --fill-color: #1967D2;\n",
              "      --hover-bg-color: #E2EBFA;\n",
              "      --hover-fill-color: #174EA6;\n",
              "      --disabled-fill-color: #AAA;\n",
              "      --disabled-bg-color: #DDD;\n",
              "  }\n",
              "\n",
              "  [theme=dark] .colab-df-quickchart {\n",
              "      --bg-color: #3B4455;\n",
              "      --fill-color: #D2E3FC;\n",
              "      --hover-bg-color: #434B5C;\n",
              "      --hover-fill-color: #FFFFFF;\n",
              "      --disabled-bg-color: #3B4455;\n",
              "      --disabled-fill-color: #666;\n",
              "  }\n",
              "\n",
              "  .colab-df-quickchart {\n",
              "    background-color: var(--bg-color);\n",
              "    border: none;\n",
              "    border-radius: 50%;\n",
              "    cursor: pointer;\n",
              "    display: none;\n",
              "    fill: var(--fill-color);\n",
              "    height: 32px;\n",
              "    padding: 0;\n",
              "    width: 32px;\n",
              "  }\n",
              "\n",
              "  .colab-df-quickchart:hover {\n",
              "    background-color: var(--hover-bg-color);\n",
              "    box-shadow: 0 1px 2px rgba(60, 64, 67, 0.3), 0 1px 3px 1px rgba(60, 64, 67, 0.15);\n",
              "    fill: var(--button-hover-fill-color);\n",
              "  }\n",
              "\n",
              "  .colab-df-quickchart-complete:disabled,\n",
              "  .colab-df-quickchart-complete:disabled:hover {\n",
              "    background-color: var(--disabled-bg-color);\n",
              "    fill: var(--disabled-fill-color);\n",
              "    box-shadow: none;\n",
              "  }\n",
              "\n",
              "  .colab-df-spinner {\n",
              "    border: 2px solid var(--fill-color);\n",
              "    border-color: transparent;\n",
              "    border-bottom-color: var(--fill-color);\n",
              "    animation:\n",
              "      spin 1s steps(1) infinite;\n",
              "  }\n",
              "\n",
              "  @keyframes spin {\n",
              "    0% {\n",
              "      border-color: transparent;\n",
              "      border-bottom-color: var(--fill-color);\n",
              "      border-left-color: var(--fill-color);\n",
              "    }\n",
              "    20% {\n",
              "      border-color: transparent;\n",
              "      border-left-color: var(--fill-color);\n",
              "      border-top-color: var(--fill-color);\n",
              "    }\n",
              "    30% {\n",
              "      border-color: transparent;\n",
              "      border-left-color: var(--fill-color);\n",
              "      border-top-color: var(--fill-color);\n",
              "      border-right-color: var(--fill-color);\n",
              "    }\n",
              "    40% {\n",
              "      border-color: transparent;\n",
              "      border-right-color: var(--fill-color);\n",
              "      border-top-color: var(--fill-color);\n",
              "    }\n",
              "    60% {\n",
              "      border-color: transparent;\n",
              "      border-right-color: var(--fill-color);\n",
              "    }\n",
              "    80% {\n",
              "      border-color: transparent;\n",
              "      border-right-color: var(--fill-color);\n",
              "      border-bottom-color: var(--fill-color);\n",
              "    }\n",
              "    90% {\n",
              "      border-color: transparent;\n",
              "      border-bottom-color: var(--fill-color);\n",
              "    }\n",
              "  }\n",
              "</style>\n",
              "\n",
              "  <script>\n",
              "    async function quickchart(key) {\n",
              "      const quickchartButtonEl =\n",
              "        document.querySelector('#' + key + ' button');\n",
              "      quickchartButtonEl.disabled = true;  // To prevent multiple clicks.\n",
              "      quickchartButtonEl.classList.add('colab-df-spinner');\n",
              "      try {\n",
              "        const charts = await google.colab.kernel.invokeFunction(\n",
              "            'suggestCharts', [key], {});\n",
              "      } catch (error) {\n",
              "        console.error('Error during call to suggestCharts:', error);\n",
              "      }\n",
              "      quickchartButtonEl.classList.remove('colab-df-spinner');\n",
              "      quickchartButtonEl.classList.add('colab-df-quickchart-complete');\n",
              "    }\n",
              "    (() => {\n",
              "      let quickchartButtonEl =\n",
              "        document.querySelector('#df-adee8efb-cba9-4b65-b9f9-9681e0bd525b button');\n",
              "      quickchartButtonEl.style.display =\n",
              "        google.colab.kernel.accessAllowed ? 'block' : 'none';\n",
              "    })();\n",
              "  </script>\n",
              "</div>\n",
              "\n",
              "    </div>\n",
              "  </div>\n"
            ],
            "application/vnd.google.colaboratory.intrinsic+json": {
              "type": "dataframe",
              "variable_name": "data",
              "summary": "{\n  \"name\": \"data\",\n  \"rows\": 100,\n  \"fields\": [\n    {\n      \"column\": \"IMPORTER\",\n      \"properties\": {\n        \"dtype\": \"category\",\n        \"num_unique_values\": 10,\n        \"samples\": [\n          \"EcoTrade Ltd.\",\n          \"Horizon Industrial Supply\",\n          \"AquaPro Solutions\"\n        ],\n        \"semantic_type\": \"\",\n        \"description\": \"\"\n      }\n    },\n    {\n      \"column\": \"YEAR\",\n      \"properties\": {\n        \"dtype\": \"number\",\n        \"std\": 0,\n        \"min\": 2023,\n        \"max\": 2023,\n        \"num_unique_values\": 1,\n        \"samples\": [\n          2023\n        ],\n        \"semantic_type\": \"\",\n        \"description\": \"\"\n      }\n    },\n    {\n      \"column\": \"MONTH\",\n      \"properties\": {\n        \"dtype\": \"category\",\n        \"num_unique_values\": 12,\n        \"samples\": [\n          \"OCTOBER\"\n        ],\n        \"semantic_type\": \"\",\n        \"description\": \"\"\n      }\n    },\n    {\n      \"column\": \"HSCODE\",\n      \"properties\": {\n        \"dtype\": \"number\",\n        \"std\": 1879,\n        \"min\": 280110,\n        \"max\": 284700,\n        \"num_unique_values\": 5,\n        \"samples\": [\n          283719\n        ],\n        \"semantic_type\": \"\",\n        \"description\": \"\"\n      }\n    },\n    {\n      \"column\": \"COUNTRY\",\n      \"properties\": {\n        \"dtype\": \"category\",\n        \"num_unique_values\": 16,\n        \"samples\": [\n          \"FRANCE\"\n        ],\n        \"semantic_type\": \"\",\n        \"description\": \"\"\n      }\n    },\n    {\n      \"column\": \"UNIT\",\n      \"properties\": {\n        \"dtype\": \"category\",\n        \"num_unique_values\": 1,\n        \"samples\": [\n          \"Kg.\"\n        ],\n        \"semantic_type\": \"\",\n        \"description\": \"\"\n      }\n    },\n    {\n      \"column\": \"QUANTITY\",\n      \"properties\": {\n        \"dtype\": \"number\",\n        \"std\": 58321,\n        \"min\": 3570,\n        \"max\": 197914,\n        \"num_unique_values\": 100,\n        \"samples\": [\n          172819\n        ],\n        \"semantic_type\": \"\",\n        \"description\": \"\"\n      }\n    },\n    {\n      \"column\": \"VALUE_RS\",\n      \"properties\": {\n        \"dtype\": \"number\",\n        \"std\": 14020364,\n        \"min\": 696006,\n        \"max\": 49563966,\n        \"num_unique_values\": 100,\n        \"samples\": [\n          3923069\n        ],\n        \"semantic_type\": \"\",\n        \"description\": \"\"\n      }\n    },\n    {\n      \"column\": \"DESCRIPTION_01\",\n      \"properties\": {\n        \"dtype\": \"category\",\n        \"num_unique_values\": 1,\n        \"samples\": [\n          \"Inorganic chemicals; Organic or inorganic compounds of precious metals\"\n        ],\n        \"semantic_type\": \"\",\n        \"description\": \"\"\n      }\n    },\n    {\n      \"column\": \"DESCRIPTION_02\",\n      \"properties\": {\n        \"dtype\": \"category\",\n        \"num_unique_values\": 5,\n        \"samples\": [\n          \"Cyanides, cyanide oxides and complex cyanides.\"\n        ],\n        \"semantic_type\": \"\",\n        \"description\": \"\"\n      }\n    },\n    {\n      \"column\": \"DESCRIPTION_03\",\n      \"properties\": {\n        \"dtype\": \"category\",\n        \"num_unique_values\": 5,\n        \"samples\": [\n          \"Cyanides, cyanide oxides and complex cyanides.\"\n        ],\n        \"semantic_type\": \"\",\n        \"description\": \"\"\n      }\n    }\n  ]\n}"
            }
          },
          "metadata": {},
          "execution_count": 13
        }
      ]
    },
    {
      "cell_type": "markdown",
      "source": [
        "6. Handling the missing values"
      ],
      "metadata": {
        "id": "klSiN1lOeRCl"
      }
    },
    {
      "cell_type": "code",
      "source": [
        "# Filling missing categorical values with \"UNKNOWN\"\n",
        "categorical_cols = [\"IMPORTER\", \"MONTH\", \"HSCODE\", \"COUNTRY\", \"UNIT\",\n",
        "                    \"DESCRIPTION_01\", \"DESCRIPTION_02\", \"DESCRIPTION_03\"]\n",
        "for col in categorical_cols:\n",
        "    data[col] = data[col].fillna(\"UNKNOWN\")\n"
      ],
      "metadata": {
        "id": "042k6u8JcLQZ"
      },
      "execution_count": 14,
      "outputs": []
    },
    {
      "cell_type": "code",
      "source": [
        "# Filling missing numerical values\n",
        "numerical_cols = [\"YEAR\", \"QUANTITY\", \"VALUE_RS\"]\n",
        "for col in numerical_cols:\n",
        "    if col == \"YEAR\":\n",
        "        data[col] = data[col].fillna(data[col].mode()[0] if not data[col].mode().empty else 2023)\n",
        "    elif col == \"QUANTITY\":\n",
        "        data[col] = data[col].fillna(data[col].median())\n",
        "    else:\n",
        "        data[col] = data[col].fillna(0)\n"
      ],
      "metadata": {
        "id": "oPHamjBJc0pE"
      },
      "execution_count": 15,
      "outputs": []
    },
    {
      "cell_type": "markdown",
      "source": [
        "7. Standardize Text Values"
      ],
      "metadata": {
        "id": "nVaBxKrredB-"
      }
    },
    {
      "cell_type": "code",
      "source": [
        "# Defining the categorical columns\n",
        "categorical_cols = [\"IMPORTER\", \"MONTH\", \"COUNTRY\", \"UNIT\", \"DESCRIPTION_01\", \"DESCRIPTION_02\", \"DESCRIPTION_03\"]\n",
        "\n",
        "# Standardize the text columns\n",
        "for col in categorical_cols:\n",
        "    data[col] = data[col].fillna(\"\").astype(str).str.strip().str.upper()\n",
        "\n"
      ],
      "metadata": {
        "id": "Q-BRewakenkS"
      },
      "execution_count": 18,
      "outputs": []
    },
    {
      "cell_type": "markdown",
      "source": [
        "8. Convert Data Types"
      ],
      "metadata": {
        "id": "WHA2Q9jEeq27"
      }
    },
    {
      "cell_type": "code",
      "source": [
        "# Converting data types for numeric columns\n",
        "data[\"YEAR\"] = pd.to_numeric(data[\"YEAR\"], errors=\"coerce\").fillna(2023).astype(int)\n",
        "data[\"QUANTITY\"] = pd.to_numeric(data[\"QUANTITY\"], errors=\"coerce\").fillna(0).astype(int)\n",
        "data[\"VALUE_RS\"] = pd.to_numeric(data[\"VALUE_RS\"], errors=\"coerce\").fillna(0).astype(float)\n"
      ],
      "metadata": {
        "id": "tqWh5fNGeyF5"
      },
      "execution_count": 19,
      "outputs": []
    },
    {
      "cell_type": "markdown",
      "source": [
        "9. Handle Outliers"
      ],
      "metadata": {
        "id": "1YPcH5_ne1kR"
      }
    },
    {
      "cell_type": "code",
      "source": [
        "# Handling outliers in numerical columns\n",
        "for col in [\"QUANTITY\", \"VALUE_RS\"]:\n",
        "    Q1 = data[col].quantile(0.25)\n",
        "    Q3 = data[col].quantile(0.75)\n",
        "    IQR = Q3 - Q1\n",
        "    lower_bound = Q1 - 1.5 * IQR\n",
        "    upper_bound = Q3 + 1.5 * IQR\n",
        "    data[col] = np.clip(data[col], lower_bound, upper_bound)\n"
      ],
      "metadata": {
        "id": "qDPFCT-fe8FH"
      },
      "execution_count": 20,
      "outputs": []
    },
    {
      "cell_type": "markdown",
      "source": [
        "10. Feature Engineering"
      ],
      "metadata": {
        "id": "yxZxmhpFe_Si"
      }
    },
    {
      "cell_type": "code",
      "source": [
        "# Creating a VALUE_PER_UNIT feature\n",
        "data[\"VALUE_PER_UNIT\"] = data[\"VALUE_RS\"] / data[\"QUANTITY\"].replace(0, np.nan)\n",
        "\n"
      ],
      "metadata": {
        "id": "IloKb_qofSCP"
      },
      "execution_count": 21,
      "outputs": []
    },
    {
      "cell_type": "code",
      "source": [
        "# Mapping months to numeric values\n",
        "month_mapping = {\n",
        "    \"JANUARY\": 1, \"FEBRUARY\": 2, \"MARCH\": 3, \"APRIL\": 4, \"MAY\": 5, \"JUNE\": 6,\n",
        "    \"JULY\": 7, \"AUGUST\": 8, \"SEPTEMBER\": 9, \"OCTOBER\": 10, \"NOVEMBER\": 11, \"DECEMBER\": 12\n",
        "}\n",
        "data[\"MONTH_NUMBER\"] = data[\"MONTH\"].map(month_mapping).fillna(0).astype(int)\n"
      ],
      "metadata": {
        "id": "2QTN3PI-f0MB"
      },
      "execution_count": 22,
      "outputs": []
    },
    {
      "cell_type": "code",
      "source": [
        "# Categorizing importers based on total value\n",
        "data[\"IMPORTER_CATEGORY\"] = pd.qcut(data[\"VALUE_RS\"], q=4, labels=[\"Low\", \"Medium\", \"High\", \"Very High\"])\n"
      ],
      "metadata": {
        "id": "-HAhSCmgf2Vq"
      },
      "execution_count": 23,
      "outputs": []
    },
    {
      "cell_type": "markdown",
      "source": [
        "11. Encode Categorical Variables"
      ],
      "metadata": {
        "id": "Pnexe4L2f-M8"
      }
    },
    {
      "cell_type": "code",
      "source": [
        "# Encoding the categorical variables\n",
        "label_encoders = {}\n",
        "for col in categorical_cols:\n",
        "    le = LabelEncoder()\n",
        "    data[col] = le.fit_transform(data[col])\n",
        "    label_encoders[col] = le\n"
      ],
      "metadata": {
        "id": "COczd9bdgCnC"
      },
      "execution_count": 24,
      "outputs": []
    },
    {
      "cell_type": "markdown",
      "source": [
        "12. Scale Numerical Data"
      ],
      "metadata": {
        "id": "rcZ_-ppNgPbz"
      }
    },
    {
      "cell_type": "code",
      "source": [
        "# Scale numerical data\n",
        "scaler = MinMaxScaler()\n",
        "numerical_cols_to_scale = [\"QUANTITY\", \"VALUE_RS\", \"VALUE_PER_UNIT\"]\n",
        "data[numerical_cols_to_scale] = scaler.fit_transform(data[numerical_cols_to_scale])\n"
      ],
      "metadata": {
        "id": "JHzNp_3kgYu9"
      },
      "execution_count": 25,
      "outputs": []
    },
    {
      "cell_type": "markdown",
      "source": [
        "13. Final Integration"
      ],
      "metadata": {
        "id": "8z86uba7ggDi"
      }
    },
    {
      "cell_type": "code",
      "source": [
        "# Save preprocessed data\n",
        "output_file = \"Advanced_Preprocessed_Import_Statistics_2023.xlsx\"\n",
        "data.to_excel(output_file, index=False)\n",
        "print(f\"Advanced preprocessed data saved to {output_file}\")\n"
      ],
      "metadata": {
        "colab": {
          "base_uri": "https://localhost:8080/"
        },
        "id": "kyGlfOWjgieA",
        "outputId": "e040d5cb-154a-42eb-ee04-25a0c1686e46"
      },
      "execution_count": 26,
      "outputs": [
        {
          "output_type": "stream",
          "name": "stdout",
          "text": [
            "Advanced preprocessed data saved to Advanced_Preprocessed_Import_Statistics_2023.xlsx\n"
          ]
        }
      ]
    }
  ]
}