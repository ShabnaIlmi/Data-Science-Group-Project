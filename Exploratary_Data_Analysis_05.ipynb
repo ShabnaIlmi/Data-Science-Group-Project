{
  "nbformat": 4,
  "nbformat_minor": 0,
  "metadata": {
    "colab": {
      "provenance": [],
      "authorship_tag": "ABX9TyMCpf57Iyn9YkbZpfFl5cOz",
      "include_colab_link": true
    },
    "kernelspec": {
      "name": "python3",
      "display_name": "Python 3"
    },
    "language_info": {
      "name": "python"
    }
  },
  "cells": [
    {
      "cell_type": "markdown",
      "metadata": {
        "id": "view-in-github",
        "colab_type": "text"
      },
      "source": [
        "<a href=\"https://colab.research.google.com/github/ShabnaIlmi/Data-Science-Group-Project/blob/Importer_Risk_Prediction/Exploratary_Data_Analysis_05.ipynb\" target=\"_parent\"><img src=\"https://colab.research.google.com/assets/colab-badge.svg\" alt=\"Open In Colab\"/></a>"
      ]
    },
    {
      "cell_type": "markdown",
      "source": [
        "# **Installing Necessary Libraries**"
      ],
      "metadata": {
        "id": "OYYTge9I8GPT"
      }
    },
    {
      "cell_type": "code",
      "execution_count": null,
      "metadata": {
        "id": "OPoSbhIC6UZQ"
      },
      "outputs": [],
      "source": [
        "# Installing Required Libraries\n",
        "# !pip install --upgrade tensorflow\n",
        "# !pip install fancyimpute scikit-learn pandas"
      ]
    },
    {
      "cell_type": "markdown",
      "source": [
        "# **Importing the Relevant Libraries**"
      ],
      "metadata": {
        "id": "h--5ArzY8O4b"
      }
    },
    {
      "cell_type": "code",
      "source": [
        "# Importing necessary libraries\n",
        "import pandas as pd\n",
        "import numpy as np\n",
        "import matplotlib.pyplot as plt\n",
        "import seaborn as sns\n",
        "from sklearn.experimental import enable_iterative_imputer\n",
        "from sklearn.preprocessing import StandardScaler\n",
        "from sklearn.impute import IterativeImputer, KNNImputer\n",
        "from sklearn.ensemble import RandomForestClassifier, RandomForestRegressor\n",
        "from sklearn.cluster import KMeans\n",
        "from sklearn.ensemble import RandomForestRegressor\n",
        "from sklearn.experimental import enable_iterative_imputer\n",
        "import warnings\n",
        "from imblearn.over_sampling import SMOTE\n",
        "from sklearn.impute import IterativeImputer\n",
        "from sklearn.model_selection import train_test_split\n",
        "from sklearn.preprocessing import LabelEncoder\n",
        "from sklearn.model_selection import train_test_split, GridSearchCV, cross_val_score, StratifiedKFold\n",
        "from sklearn.preprocessing import StandardScaler\n",
        "from sklearn.ensemble import GradientBoostingClassifier\n",
        "import tensorflow as tf\n",
        "from tensorflow.keras.models import load_model\n",
        "from tensorflow.keras.models import Sequential\n",
        "from tensorflow.keras.layers import LSTM, Dense, Dropout\n",
        "from sklearn.preprocessing import MinMaxScaler\n",
        "from sklearn.metrics import confusion_matrix, classification_report\n",
        "from sklearn.metrics import accuracy_score, classification_report\n",
        "import seaborn as sns\n",
        "from sklearn.preprocessing import LabelEncoder\n",
        "from sklearn.impute import KNNImputer\n",
        "import numpy as np\n",
        "import pandas as pd\n",
        "import shap\n",
        "import matplotlib.pyplot as plt\n",
        "import tensorflow as tf\n",
        "from tensorflow.keras import Sequential\n",
        "from tensorflow.keras.layers import LSTM, Dense\n",
        "from tensorflow.keras.callbacks import EarlyStopping\n",
        "from sklearn.ensemble import GradientBoostingClassifier\n",
        "from sklearn.model_selection import train_test_split, cross_val_score\n",
        "from sklearn.preprocessing import MinMaxScaler\n",
        "from sklearn.metrics import accuracy_score, classification_report, confusion_matrix\n",
        "from tensorflow.keras.models import Sequential\n",
        "from tensorflow.keras.layers import Embedding, Flatten\n",
        "import seaborn as sns\n",
        "from sklearn.preprocessing import OneHotEncoder\n",
        "import random\n",
        "import pickle\n",
        "import joblib"
      ],
      "metadata": {
        "id": "WyX8k6ktR4jH"
      },
      "execution_count": null,
      "outputs": []
    },
    {
      "cell_type": "code",
      "source": [
        "# Mounting the Google Drive\n",
        "from google.colab import drive\n",
        "drive.mount('/content/drive')"
      ],
      "metadata": {
        "colab": {
          "base_uri": "https://localhost:8080/"
        },
        "id": "HpksTyec8ie0",
        "outputId": "5b6e874e-a789-4b57-decf-e987ca35728a"
      },
      "execution_count": null,
      "outputs": [
        {
          "output_type": "stream",
          "name": "stdout",
          "text": [
            "Drive already mounted at /content/drive; to attempt to forcibly remount, call drive.mount(\"/content/drive\", force_remount=True).\n"
          ]
        }
      ]
    },
    {
      "cell_type": "markdown",
      "source": [
        "# **Loading the Dataset**"
      ],
      "metadata": {
        "id": "mWzlfw6T8knI"
      }
    },
    {
      "cell_type": "code",
      "source": [
        "# Loading the dataset with the proper delimiter (semicolon)\n",
        "data = pd.read_excel('/content/drive/MyDrive/Importer_Risk_Prediction_2/Dataset/IMPORT STATISTICS - 2023.xlsx')"
      ],
      "metadata": {
        "id": "qN8eyZZE8ooa"
      },
      "execution_count": null,
      "outputs": []
    },
    {
      "cell_type": "code",
      "source": [
        "# Displaying the first few rows of the data\n",
        "data.head()"
      ],
      "metadata": {
        "colab": {
          "base_uri": "https://localhost:8080/",
          "height": 206
        },
        "id": "KTvjjfnA8qjZ",
        "outputId": "a09ac999-a49a-4bff-d864-6e5905638c76"
      },
      "execution_count": null,
      "outputs": [
        {
          "output_type": "execute_result",
          "data": {
            "text/plain": [
              "  IMPORTER    YEAR     MONTH  HSCODE     COUNTRY UNIT  QUANTITY    VALUE_RS  \\\n",
              "0  Unknown  2023.0   JANUARY  280110  BANGLADESH  Kg.  131600.0  13877114.0   \n",
              "1  Unknown  2023.0   JANUARY  280110       INDIA  Kg.   37800.0   3924989.0   \n",
              "2  Unknown  2023.0   JANUARY  280110    MALAYSIA  Kg.   12090.0   5390772.0   \n",
              "3  Unknown  2023.0  FEBRUARY  280110  BANGLADESH  Kg.   25200.0   3089445.0   \n",
              "4  Unknown  2023.0  FEBRUARY  280110       INDIA  Kg.   75599.0   6939860.0   \n",
              "\n",
              "                                      DESCRIPTION_01  \\\n",
              "0  Inorganic chemicals; Organic or inorganic comp...   \n",
              "1  Inorganic chemicals; Organic or inorganic comp...   \n",
              "2  Inorganic chemicals; Organic or inorganic comp...   \n",
              "3  Inorganic chemicals; Organic or inorganic comp...   \n",
              "4  Inorganic chemicals; Organic or inorganic comp...   \n",
              "\n",
              "                                      DESCRIPTION_02 DESCRIPTION_03  \n",
              "0  Fluorine, chlorine, bromine and iodine        ...       Chlorine  \n",
              "1  Fluorine, chlorine, bromine and iodine        ...       Chlorine  \n",
              "2  Fluorine, chlorine, bromine and iodine        ...       Chlorine  \n",
              "3  Fluorine, chlorine, bromine and iodine        ...       Chlorine  \n",
              "4  Fluorine, chlorine, bromine and iodine        ...       Chlorine  "
            ],
            "text/html": [
              "\n",
              "  <div id=\"df-b3aa3ad8-9f73-4ab4-ab59-f2cf9763c264\" class=\"colab-df-container\">\n",
              "    <div>\n",
              "<style scoped>\n",
              "    .dataframe tbody tr th:only-of-type {\n",
              "        vertical-align: middle;\n",
              "    }\n",
              "\n",
              "    .dataframe tbody tr th {\n",
              "        vertical-align: top;\n",
              "    }\n",
              "\n",
              "    .dataframe thead th {\n",
              "        text-align: right;\n",
              "    }\n",
              "</style>\n",
              "<table border=\"1\" class=\"dataframe\">\n",
              "  <thead>\n",
              "    <tr style=\"text-align: right;\">\n",
              "      <th></th>\n",
              "      <th>IMPORTER</th>\n",
              "      <th>YEAR</th>\n",
              "      <th>MONTH</th>\n",
              "      <th>HSCODE</th>\n",
              "      <th>COUNTRY</th>\n",
              "      <th>UNIT</th>\n",
              "      <th>QUANTITY</th>\n",
              "      <th>VALUE_RS</th>\n",
              "      <th>DESCRIPTION_01</th>\n",
              "      <th>DESCRIPTION_02</th>\n",
              "      <th>DESCRIPTION_03</th>\n",
              "    </tr>\n",
              "  </thead>\n",
              "  <tbody>\n",
              "    <tr>\n",
              "      <th>0</th>\n",
              "      <td>Unknown</td>\n",
              "      <td>2023.0</td>\n",
              "      <td>JANUARY</td>\n",
              "      <td>280110</td>\n",
              "      <td>BANGLADESH</td>\n",
              "      <td>Kg.</td>\n",
              "      <td>131600.0</td>\n",
              "      <td>13877114.0</td>\n",
              "      <td>Inorganic chemicals; Organic or inorganic comp...</td>\n",
              "      <td>Fluorine, chlorine, bromine and iodine        ...</td>\n",
              "      <td>Chlorine</td>\n",
              "    </tr>\n",
              "    <tr>\n",
              "      <th>1</th>\n",
              "      <td>Unknown</td>\n",
              "      <td>2023.0</td>\n",
              "      <td>JANUARY</td>\n",
              "      <td>280110</td>\n",
              "      <td>INDIA</td>\n",
              "      <td>Kg.</td>\n",
              "      <td>37800.0</td>\n",
              "      <td>3924989.0</td>\n",
              "      <td>Inorganic chemicals; Organic or inorganic comp...</td>\n",
              "      <td>Fluorine, chlorine, bromine and iodine        ...</td>\n",
              "      <td>Chlorine</td>\n",
              "    </tr>\n",
              "    <tr>\n",
              "      <th>2</th>\n",
              "      <td>Unknown</td>\n",
              "      <td>2023.0</td>\n",
              "      <td>JANUARY</td>\n",
              "      <td>280110</td>\n",
              "      <td>MALAYSIA</td>\n",
              "      <td>Kg.</td>\n",
              "      <td>12090.0</td>\n",
              "      <td>5390772.0</td>\n",
              "      <td>Inorganic chemicals; Organic or inorganic comp...</td>\n",
              "      <td>Fluorine, chlorine, bromine and iodine        ...</td>\n",
              "      <td>Chlorine</td>\n",
              "    </tr>\n",
              "    <tr>\n",
              "      <th>3</th>\n",
              "      <td>Unknown</td>\n",
              "      <td>2023.0</td>\n",
              "      <td>FEBRUARY</td>\n",
              "      <td>280110</td>\n",
              "      <td>BANGLADESH</td>\n",
              "      <td>Kg.</td>\n",
              "      <td>25200.0</td>\n",
              "      <td>3089445.0</td>\n",
              "      <td>Inorganic chemicals; Organic or inorganic comp...</td>\n",
              "      <td>Fluorine, chlorine, bromine and iodine        ...</td>\n",
              "      <td>Chlorine</td>\n",
              "    </tr>\n",
              "    <tr>\n",
              "      <th>4</th>\n",
              "      <td>Unknown</td>\n",
              "      <td>2023.0</td>\n",
              "      <td>FEBRUARY</td>\n",
              "      <td>280110</td>\n",
              "      <td>INDIA</td>\n",
              "      <td>Kg.</td>\n",
              "      <td>75599.0</td>\n",
              "      <td>6939860.0</td>\n",
              "      <td>Inorganic chemicals; Organic or inorganic comp...</td>\n",
              "      <td>Fluorine, chlorine, bromine and iodine        ...</td>\n",
              "      <td>Chlorine</td>\n",
              "    </tr>\n",
              "  </tbody>\n",
              "</table>\n",
              "</div>\n",
              "    <div class=\"colab-df-buttons\">\n",
              "\n",
              "  <div class=\"colab-df-container\">\n",
              "    <button class=\"colab-df-convert\" onclick=\"convertToInteractive('df-b3aa3ad8-9f73-4ab4-ab59-f2cf9763c264')\"\n",
              "            title=\"Convert this dataframe to an interactive table.\"\n",
              "            style=\"display:none;\">\n",
              "\n",
              "  <svg xmlns=\"http://www.w3.org/2000/svg\" height=\"24px\" viewBox=\"0 -960 960 960\">\n",
              "    <path d=\"M120-120v-720h720v720H120Zm60-500h600v-160H180v160Zm220 220h160v-160H400v160Zm0 220h160v-160H400v160ZM180-400h160v-160H180v160Zm440 0h160v-160H620v160ZM180-180h160v-160H180v160Zm440 0h160v-160H620v160Z\"/>\n",
              "  </svg>\n",
              "    </button>\n",
              "\n",
              "  <style>\n",
              "    .colab-df-container {\n",
              "      display:flex;\n",
              "      gap: 12px;\n",
              "    }\n",
              "\n",
              "    .colab-df-convert {\n",
              "      background-color: #E8F0FE;\n",
              "      border: none;\n",
              "      border-radius: 50%;\n",
              "      cursor: pointer;\n",
              "      display: none;\n",
              "      fill: #1967D2;\n",
              "      height: 32px;\n",
              "      padding: 0 0 0 0;\n",
              "      width: 32px;\n",
              "    }\n",
              "\n",
              "    .colab-df-convert:hover {\n",
              "      background-color: #E2EBFA;\n",
              "      box-shadow: 0px 1px 2px rgba(60, 64, 67, 0.3), 0px 1px 3px 1px rgba(60, 64, 67, 0.15);\n",
              "      fill: #174EA6;\n",
              "    }\n",
              "\n",
              "    .colab-df-buttons div {\n",
              "      margin-bottom: 4px;\n",
              "    }\n",
              "\n",
              "    [theme=dark] .colab-df-convert {\n",
              "      background-color: #3B4455;\n",
              "      fill: #D2E3FC;\n",
              "    }\n",
              "\n",
              "    [theme=dark] .colab-df-convert:hover {\n",
              "      background-color: #434B5C;\n",
              "      box-shadow: 0px 1px 3px 1px rgba(0, 0, 0, 0.15);\n",
              "      filter: drop-shadow(0px 1px 2px rgba(0, 0, 0, 0.3));\n",
              "      fill: #FFFFFF;\n",
              "    }\n",
              "  </style>\n",
              "\n",
              "    <script>\n",
              "      const buttonEl =\n",
              "        document.querySelector('#df-b3aa3ad8-9f73-4ab4-ab59-f2cf9763c264 button.colab-df-convert');\n",
              "      buttonEl.style.display =\n",
              "        google.colab.kernel.accessAllowed ? 'block' : 'none';\n",
              "\n",
              "      async function convertToInteractive(key) {\n",
              "        const element = document.querySelector('#df-b3aa3ad8-9f73-4ab4-ab59-f2cf9763c264');\n",
              "        const dataTable =\n",
              "          await google.colab.kernel.invokeFunction('convertToInteractive',\n",
              "                                                    [key], {});\n",
              "        if (!dataTable) return;\n",
              "\n",
              "        const docLinkHtml = 'Like what you see? Visit the ' +\n",
              "          '<a target=\"_blank\" href=https://colab.research.google.com/notebooks/data_table.ipynb>data table notebook</a>'\n",
              "          + ' to learn more about interactive tables.';\n",
              "        element.innerHTML = '';\n",
              "        dataTable['output_type'] = 'display_data';\n",
              "        await google.colab.output.renderOutput(dataTable, element);\n",
              "        const docLink = document.createElement('div');\n",
              "        docLink.innerHTML = docLinkHtml;\n",
              "        element.appendChild(docLink);\n",
              "      }\n",
              "    </script>\n",
              "  </div>\n",
              "\n",
              "\n",
              "<div id=\"df-6dd1ee43-1ca8-4bab-a4f4-873d8530c8b9\">\n",
              "  <button class=\"colab-df-quickchart\" onclick=\"quickchart('df-6dd1ee43-1ca8-4bab-a4f4-873d8530c8b9')\"\n",
              "            title=\"Suggest charts\"\n",
              "            style=\"display:none;\">\n",
              "\n",
              "<svg xmlns=\"http://www.w3.org/2000/svg\" height=\"24px\"viewBox=\"0 0 24 24\"\n",
              "     width=\"24px\">\n",
              "    <g>\n",
              "        <path d=\"M19 3H5c-1.1 0-2 .9-2 2v14c0 1.1.9 2 2 2h14c1.1 0 2-.9 2-2V5c0-1.1-.9-2-2-2zM9 17H7v-7h2v7zm4 0h-2V7h2v10zm4 0h-2v-4h2v4z\"/>\n",
              "    </g>\n",
              "</svg>\n",
              "  </button>\n",
              "\n",
              "<style>\n",
              "  .colab-df-quickchart {\n",
              "      --bg-color: #E8F0FE;\n",
              "      --fill-color: #1967D2;\n",
              "      --hover-bg-color: #E2EBFA;\n",
              "      --hover-fill-color: #174EA6;\n",
              "      --disabled-fill-color: #AAA;\n",
              "      --disabled-bg-color: #DDD;\n",
              "  }\n",
              "\n",
              "  [theme=dark] .colab-df-quickchart {\n",
              "      --bg-color: #3B4455;\n",
              "      --fill-color: #D2E3FC;\n",
              "      --hover-bg-color: #434B5C;\n",
              "      --hover-fill-color: #FFFFFF;\n",
              "      --disabled-bg-color: #3B4455;\n",
              "      --disabled-fill-color: #666;\n",
              "  }\n",
              "\n",
              "  .colab-df-quickchart {\n",
              "    background-color: var(--bg-color);\n",
              "    border: none;\n",
              "    border-radius: 50%;\n",
              "    cursor: pointer;\n",
              "    display: none;\n",
              "    fill: var(--fill-color);\n",
              "    height: 32px;\n",
              "    padding: 0;\n",
              "    width: 32px;\n",
              "  }\n",
              "\n",
              "  .colab-df-quickchart:hover {\n",
              "    background-color: var(--hover-bg-color);\n",
              "    box-shadow: 0 1px 2px rgba(60, 64, 67, 0.3), 0 1px 3px 1px rgba(60, 64, 67, 0.15);\n",
              "    fill: var(--button-hover-fill-color);\n",
              "  }\n",
              "\n",
              "  .colab-df-quickchart-complete:disabled,\n",
              "  .colab-df-quickchart-complete:disabled:hover {\n",
              "    background-color: var(--disabled-bg-color);\n",
              "    fill: var(--disabled-fill-color);\n",
              "    box-shadow: none;\n",
              "  }\n",
              "\n",
              "  .colab-df-spinner {\n",
              "    border: 2px solid var(--fill-color);\n",
              "    border-color: transparent;\n",
              "    border-bottom-color: var(--fill-color);\n",
              "    animation:\n",
              "      spin 1s steps(1) infinite;\n",
              "  }\n",
              "\n",
              "  @keyframes spin {\n",
              "    0% {\n",
              "      border-color: transparent;\n",
              "      border-bottom-color: var(--fill-color);\n",
              "      border-left-color: var(--fill-color);\n",
              "    }\n",
              "    20% {\n",
              "      border-color: transparent;\n",
              "      border-left-color: var(--fill-color);\n",
              "      border-top-color: var(--fill-color);\n",
              "    }\n",
              "    30% {\n",
              "      border-color: transparent;\n",
              "      border-left-color: var(--fill-color);\n",
              "      border-top-color: var(--fill-color);\n",
              "      border-right-color: var(--fill-color);\n",
              "    }\n",
              "    40% {\n",
              "      border-color: transparent;\n",
              "      border-right-color: var(--fill-color);\n",
              "      border-top-color: var(--fill-color);\n",
              "    }\n",
              "    60% {\n",
              "      border-color: transparent;\n",
              "      border-right-color: var(--fill-color);\n",
              "    }\n",
              "    80% {\n",
              "      border-color: transparent;\n",
              "      border-right-color: var(--fill-color);\n",
              "      border-bottom-color: var(--fill-color);\n",
              "    }\n",
              "    90% {\n",
              "      border-color: transparent;\n",
              "      border-bottom-color: var(--fill-color);\n",
              "    }\n",
              "  }\n",
              "</style>\n",
              "\n",
              "  <script>\n",
              "    async function quickchart(key) {\n",
              "      const quickchartButtonEl =\n",
              "        document.querySelector('#' + key + ' button');\n",
              "      quickchartButtonEl.disabled = true;  // To prevent multiple clicks.\n",
              "      quickchartButtonEl.classList.add('colab-df-spinner');\n",
              "      try {\n",
              "        const charts = await google.colab.kernel.invokeFunction(\n",
              "            'suggestCharts', [key], {});\n",
              "      } catch (error) {\n",
              "        console.error('Error during call to suggestCharts:', error);\n",
              "      }\n",
              "      quickchartButtonEl.classList.remove('colab-df-spinner');\n",
              "      quickchartButtonEl.classList.add('colab-df-quickchart-complete');\n",
              "    }\n",
              "    (() => {\n",
              "      let quickchartButtonEl =\n",
              "        document.querySelector('#df-6dd1ee43-1ca8-4bab-a4f4-873d8530c8b9 button');\n",
              "      quickchartButtonEl.style.display =\n",
              "        google.colab.kernel.accessAllowed ? 'block' : 'none';\n",
              "    })();\n",
              "  </script>\n",
              "</div>\n",
              "\n",
              "    </div>\n",
              "  </div>\n"
            ],
            "application/vnd.google.colaboratory.intrinsic+json": {
              "type": "dataframe",
              "variable_name": "data",
              "summary": "{\n  \"name\": \"data\",\n  \"rows\": 1042,\n  \"fields\": [\n    {\n      \"column\": \"IMPORTER\",\n      \"properties\": {\n        \"dtype\": \"category\",\n        \"num_unique_values\": 1,\n        \"samples\": [\n          \"Unknown\"\n        ],\n        \"semantic_type\": \"\",\n        \"description\": \"\"\n      }\n    },\n    {\n      \"column\": \"YEAR\",\n      \"properties\": {\n        \"dtype\": \"number\",\n        \"std\": 3.409615319591779,\n        \"min\": 2016.0,\n        \"max\": 2023.0,\n        \"num_unique_values\": 2,\n        \"samples\": [\n          2016.0\n        ],\n        \"semantic_type\": \"\",\n        \"description\": \"\"\n      }\n    },\n    {\n      \"column\": \"MONTH\",\n      \"properties\": {\n        \"dtype\": \"category\",\n        \"num_unique_values\": 12,\n        \"samples\": [\n          \"NOVEMBER\"\n        ],\n        \"semantic_type\": \"\",\n        \"description\": \"\"\n      }\n    },\n    {\n      \"column\": \"HSCODE\",\n      \"properties\": {\n        \"dtype\": \"number\",\n        \"std\": 1326226917,\n        \"min\": 280110,\n        \"max\": 3102909000,\n        \"num_unique_values\": 131,\n        \"samples\": [\n          2801200042\n        ],\n        \"semantic_type\": \"\",\n        \"description\": \"\"\n      }\n    },\n    {\n      \"column\": \"COUNTRY\",\n      \"properties\": {\n        \"dtype\": \"category\",\n        \"num_unique_values\": 66,\n        \"samples\": [\n          \"italy\"\n        ],\n        \"semantic_type\": \"\",\n        \"description\": \"\"\n      }\n    },\n    {\n      \"column\": \"UNIT\",\n      \"properties\": {\n        \"dtype\": \"category\",\n        \"num_unique_values\": 9,\n        \"samples\": [\n          \"Kg\"\n        ],\n        \"semantic_type\": \"\",\n        \"description\": \"\"\n      }\n    },\n    {\n      \"column\": \"QUANTITY\",\n      \"properties\": {\n        \"dtype\": \"number\",\n        \"std\": 235249.2208540277,\n        \"min\": 0.0,\n        \"max\": 4000000.0,\n        \"num_unique_values\": 359,\n        \"samples\": [\n          12282.0\n        ],\n        \"semantic_type\": \"\",\n        \"description\": \"\"\n      }\n    },\n    {\n      \"column\": \"VALUE_RS\",\n      \"properties\": {\n        \"dtype\": \"number\",\n        \"std\": 7946637.087226704,\n        \"min\": 0.0,\n        \"max\": 47271723.0,\n        \"num_unique_values\": 263,\n        \"samples\": [\n          37.58\n        ],\n        \"semantic_type\": \"\",\n        \"description\": \"\"\n      }\n    },\n    {\n      \"column\": \"DESCRIPTION_01\",\n      \"properties\": {\n        \"dtype\": \"category\",\n        \"num_unique_values\": 2,\n        \"samples\": [\n          \"Fertilizers\"\n        ],\n        \"semantic_type\": \"\",\n        \"description\": \"\"\n      }\n    },\n    {\n      \"column\": \"DESCRIPTION_02\",\n      \"properties\": {\n        \"dtype\": \"category\",\n        \"num_unique_values\": 15,\n        \"samples\": [\n          \"Hydrogen peroxide, whether or not solidified with urea.  \"\n        ],\n        \"semantic_type\": \"\",\n        \"description\": \"\"\n      }\n    },\n    {\n      \"column\": \"DESCRIPTION_03\",\n      \"properties\": {\n        \"dtype\": \"category\",\n        \"num_unique_values\": 17,\n        \"samples\": [\n          \"Chlorine\"\n        ],\n        \"semantic_type\": \"\",\n        \"description\": \"\"\n      }\n    }\n  ]\n}"
            }
          },
          "metadata": {},
          "execution_count": 285
        }
      ]
    },
    {
      "cell_type": "markdown",
      "source": [
        "# **Exploratory Data Analysis**"
      ],
      "metadata": {
        "id": "UO79Bapj9j8q"
      }
    },
    {
      "cell_type": "code",
      "source": [
        "# Displaying information\n",
        "print(\"Displaying data information\")\n",
        "data.info()"
      ],
      "metadata": {
        "colab": {
          "base_uri": "https://localhost:8080/"
        },
        "id": "tqzoA-ED9mFM",
        "outputId": "35181bf9-38bd-4b0a-8eb7-5005998485a6"
      },
      "execution_count": null,
      "outputs": [
        {
          "output_type": "stream",
          "name": "stdout",
          "text": [
            "Displaying data information\n",
            "<class 'pandas.core.frame.DataFrame'>\n",
            "RangeIndex: 1042 entries, 0 to 1041\n",
            "Data columns (total 11 columns):\n",
            " #   Column          Non-Null Count  Dtype  \n",
            "---  ------          --------------  -----  \n",
            " 0   IMPORTER        1042 non-null   object \n",
            " 1   YEAR            292 non-null    float64\n",
            " 2   MONTH           292 non-null    object \n",
            " 3   HSCODE          1042 non-null   int64  \n",
            " 4   COUNTRY         1038 non-null   object \n",
            " 5   UNIT            1042 non-null   object \n",
            " 6   QUANTITY        1039 non-null   float64\n",
            " 7   VALUE_RS        292 non-null    float64\n",
            " 8   DESCRIPTION_01  1042 non-null   object \n",
            " 9   DESCRIPTION_02  1042 non-null   object \n",
            " 10  DESCRIPTION_03  1042 non-null   object \n",
            "dtypes: float64(3), int64(1), object(7)\n",
            "memory usage: 89.7+ KB\n"
          ]
        }
      ]
    },
    {
      "cell_type": "markdown",
      "source": [
        "### **Identifying Categorical and Numerical Columns**"
      ],
      "metadata": {
        "id": "wlGynzWyAi3t"
      }
    },
    {
      "cell_type": "code",
      "source": [
        "# Identifying categorical and numerical columns\n",
        "categorical_cols = data.select_dtypes(include=['object']).columns\n",
        "numerical_cols = data.select_dtypes(include=['int64', 'float64']).columns"
      ],
      "metadata": {
        "id": "YnzurPy5Ak3F"
      },
      "execution_count": null,
      "outputs": []
    },
    {
      "cell_type": "markdown",
      "source": [
        "**Since 'HSCODE' column has been misintepreted as an int64 data type column due to the unavailability of data, reassigning it has an object type column.**"
      ],
      "metadata": {
        "id": "BMmSEcp9AmfP"
      }
    },
    {
      "cell_type": "code",
      "source": [
        "# Converting 'IMPORTER' and 'HSCODE' columns to string type\n",
        "data['HSCODE'] = data['HSCODE'].astype(str)\n",
        "\n",
        "# Displaying the HSCODE column data type\n",
        "print(\"Data Type of HSCODE Columns:\")\n",
        "print(data[['HSCODE']].dtypes)"
      ],
      "metadata": {
        "colab": {
          "base_uri": "https://localhost:8080/"
        },
        "id": "QWxIkJ7sAqCV",
        "outputId": "7334e052-0253-4b7b-8e6d-ea3cc67491d7"
      },
      "execution_count": null,
      "outputs": [
        {
          "output_type": "stream",
          "name": "stdout",
          "text": [
            "Data Type of HSCODE Columns:\n",
            "HSCODE    object\n",
            "dtype: object\n"
          ]
        }
      ]
    },
    {
      "cell_type": "markdown",
      "source": [
        "## **Categorical Features**"
      ],
      "metadata": {
        "id": "MAlAa-aoAs_l"
      }
    },
    {
      "cell_type": "code",
      "source": [
        "# List of categorical features\n",
        "categorical_features = data.select_dtypes(include=['object']).columns\n",
        "\n",
        "# Displaying the categorical features\n",
        "print(\"Categorical Features:\")\n",
        "for feature in categorical_features:\n",
        "    print(f\"- {feature}\")\n",
        "\n",
        "# Display data type of the columns\n",
        "print(\"\\nData Type of Categorical Features:\")\n",
        "print(data[categorical_features].dtypes)"
      ],
      "metadata": {
        "colab": {
          "base_uri": "https://localhost:8080/"
        },
        "id": "f6CqNJqnAxxH",
        "outputId": "cc53f7e5-ba87-4674-d197-4103198051e1"
      },
      "execution_count": null,
      "outputs": [
        {
          "output_type": "stream",
          "name": "stdout",
          "text": [
            "Categorical Features:\n",
            "- IMPORTER\n",
            "- MONTH\n",
            "- HSCODE\n",
            "- COUNTRY\n",
            "- UNIT\n",
            "- DESCRIPTION_01\n",
            "- DESCRIPTION_02\n",
            "- DESCRIPTION_03\n",
            "\n",
            "Data Type of Categorical Features:\n",
            "IMPORTER          object\n",
            "MONTH             object\n",
            "HSCODE            object\n",
            "COUNTRY           object\n",
            "UNIT              object\n",
            "DESCRIPTION_01    object\n",
            "DESCRIPTION_02    object\n",
            "DESCRIPTION_03    object\n",
            "dtype: object\n"
          ]
        }
      ]
    },
    {
      "cell_type": "markdown",
      "source": [
        "**Unique Values and Their Counts Relevant to Each Categorical Column**"
      ],
      "metadata": {
        "id": "TWNh9w1BA1NB"
      }
    },
    {
      "cell_type": "code",
      "source": [
        "# Displaying the unique values and their counts relevant to each categorical column\n",
        "print(\"Unique values and their count relevant to each categorical column:\\n\")\n",
        "for col in categorical_features:\n",
        "    unique_values = data[col].unique()\n",
        "    value_counts = data[col].value_counts()\n",
        "    print(value_counts)\n",
        "    print(\" \")"
      ],
      "metadata": {
        "colab": {
          "base_uri": "https://localhost:8080/"
        },
        "id": "P4FVhDRTA3oa",
        "outputId": "becd0163-a3cd-42e0-9173-9b7b45efea08"
      },
      "execution_count": null,
      "outputs": [
        {
          "output_type": "stream",
          "name": "stdout",
          "text": [
            "Unique values and their count relevant to each categorical column:\n",
            "\n",
            "IMPORTER\n",
            "Unknown    1042\n",
            "Name: count, dtype: int64\n",
            " \n",
            "MONTH\n",
            "NOVEMBER     191\n",
            "FEBRUARY      13\n",
            "JULY          13\n",
            "MAY           11\n",
            "SEPTEMBER     11\n",
            "JANUARY       10\n",
            "JUNE           9\n",
            "AUGUST         8\n",
            "OCTOBER        8\n",
            "MARCH          6\n",
            "APRIL          6\n",
            "DECEMBER       6\n",
            "Name: count, dtype: int64\n",
            " \n",
            "HSCODE\n",
            "28070010      85\n",
            "2847000000    84\n",
            "28080000      67\n",
            "3102401000    58\n",
            "28291100      54\n",
            "              ..\n",
            "2801200032     1\n",
            "2801200031     1\n",
            "2801200030     1\n",
            "2801200029     1\n",
            "2812101100     1\n",
            "Name: count, Length: 131, dtype: int64\n",
            " \n",
            "COUNTRY\n",
            "Vietnam    299\n",
            "Russia     109\n",
            "Kenya       71\n",
            "Ukraine     58\n",
            "germany     51\n",
            "          ... \n",
            "U.S.A.       1\n",
            "Mexico       1\n",
            "CANADA       1\n",
            "India        1\n",
            "Romania      1\n",
            "Name: count, Length: 66, dtype: int64\n",
            " \n",
            "UNIT\n",
            "Kg     750\n",
            "Kg.    112\n",
            "KGS     47\n",
            "PCS     39\n",
            "NOS     33\n",
            "GMS     23\n",
            "MTS     19\n",
            "LTR     18\n",
            "DRM      1\n",
            "Name: count, dtype: int64\n",
            " \n",
            "DESCRIPTION_01\n",
            "Inorganic chemicals; Organic or inorganic compounds of precious metals, of rare earth metals, of radioactive elements or of isotopes    922\n",
            "Fertilizers                                                                                                                             120\n",
            "Name: count, dtype: int64\n",
            " \n",
            "DESCRIPTION_02\n",
            "Chlorates and perchlorates; bromates and perbromates; iodates and periodates                            120\n",
            "Mineral or chemical fertilizers, nitrogenous                                                            120\n",
            "Sulphuric acid; oleum                                                                                   120\n",
            "Halides and halide oxides of non metals                                                                 120\n",
            "Fluorides; fluorosilicates, fluoroaluminates, and other complex fluorine salts                          116\n",
            "Hydrogen peroxide, whether or not solidified with urea.                                                 110\n",
            "Nitric acid; sulphonitric acids.                                                                        100\n",
            "Fluorine, chlorine, bromine and iodine                                                                   64\n",
            "Nitric acid; sulphonitric acids.                                                                  ..     36\n",
            "Hydrogen peroxide, whether or not solidified with urea.                                           ..     35\n",
            "Fluorine, chlorine, bromine and iodine                                                            ..     34\n",
            "Nitric acid; sulphonitric acids.                                                                         20\n",
            "Fluorine, chlorine, bromine and iodine                                                                   20\n",
            "Cyanides, cyanide oxides and complex cyanides.                                                           20\n",
            "Cyanides, cyanide oxides and complex cyanides.                                                    ..      7\n",
            "Name: count, dtype: int64\n",
            " \n",
            "DESCRIPTION_03\n",
            "Halides and halide oxides of non metals                                           120\n",
            "Sulphuric acid; oleum                                                             120\n",
            "Mineral or chemical fertilizers, nitrogenous                                      120\n",
            "Chlorates and perchlorates; bromates and perbromates; iodates and periodates      120\n",
            "Fluorides; fluorosilicates, fluoroaluminates, and other complex fluorine salts    116\n",
            "Hydrogen peroxide, whether or not solidified with urea.                           110\n",
            "Nitric acid; sulphonitric acids.                                                  100\n",
            "Iodine                                                                             80\n",
            "Nitric acid; sulphonitric acids                                                    36\n",
            "Hydrogen peroxide, whether or not solidified with urea.                            35\n",
            "Chlorine                                                                           34\n",
            "Nitric acid; sulphonitric acids.                                                   20\n",
            "Cyanides and cyanide oxides : Of sodium                                            11\n",
            "Cyanides and cyanide oxides : Other                                                10\n",
            "- Cyanides and cyanide oxides : Other                                               4\n",
            "Bromine                                                                             4\n",
            "- Cyanides and cyanide oxides : Of sodium                                           2\n",
            "Name: count, dtype: int64\n",
            " \n"
          ]
        }
      ]
    },
    {
      "cell_type": "code",
      "source": [
        "# Displaying the categorical columns which contains null values and their counts\n",
        "print(\"Categorical columns with null values and their counts:\")\n",
        "for col in categorical_features:\n",
        "    null_count = data[col].isnull().sum()\n",
        "    if null_count > 0:\n",
        "        print(f\"{col}: {null_count}\")"
      ],
      "metadata": {
        "colab": {
          "base_uri": "https://localhost:8080/"
        },
        "id": "GioatFqCA7ij",
        "outputId": "bba1f72e-ea04-41a6-bb37-bf0fd77c5844"
      },
      "execution_count": null,
      "outputs": [
        {
          "output_type": "stream",
          "name": "stdout",
          "text": [
            "Categorical columns with null values and their counts:\n",
            "MONTH: 750\n",
            "COUNTRY: 4\n"
          ]
        }
      ]
    },
    {
      "cell_type": "code",
      "source": [
        "# Displaying the categorical columns which contain 'Unknown' values and their relevant counts\n",
        "print(\"Categorical columns with 'Unknown' values and their counts:\")\n",
        "for col in categorical_features:\n",
        "    unknown_count = (data[col] == 'Unknown').sum()\n",
        "    if unknown_count > 0:\n",
        "        print(f\"{col}: {unknown_count}\")"
      ],
      "metadata": {
        "colab": {
          "base_uri": "https://localhost:8080/"
        },
        "id": "xdC5PHXgA9Fx",
        "outputId": "08f5bee1-de97-4dea-8587-24746aa0806c"
      },
      "execution_count": null,
      "outputs": [
        {
          "output_type": "stream",
          "name": "stdout",
          "text": [
            "Categorical columns with 'Unknown' values and their counts:\n",
            "IMPORTER: 1042\n"
          ]
        }
      ]
    },
    {
      "cell_type": "markdown",
      "source": [
        "## **Numerical Features**"
      ],
      "metadata": {
        "id": "cS1RfvF5BBO_"
      }
    },
    {
      "cell_type": "markdown",
      "source": [
        "**Since 'Year' column has been misintepreted as a float64 data type column reassigning it as a int64 type column**"
      ],
      "metadata": {
        "id": "5JiGaPjBBENa"
      }
    },
    {
      "cell_type": "code",
      "source": [
        "# Converting the 'Year' column to int64 data type\n",
        "# data['YEAR'] = data['YEAR'].astype(int)\n",
        "\n",
        "# Displaying the data type of the 'Year' column\n",
        "# print(\"Data Type of 'Year' Column:\")\n",
        "# print(data['YEAR'].dtype)"
      ],
      "metadata": {
        "id": "xoZXpCjSBGV4"
      },
      "execution_count": null,
      "outputs": []
    },
    {
      "cell_type": "markdown",
      "source": [
        "**The conversion cannot be done since the column contains missing values (both N/A and null values)**"
      ],
      "metadata": {
        "id": "k61Ebt72BIUH"
      }
    },
    {
      "cell_type": "code",
      "source": [
        "# Numerical Features\n",
        "numerical_features = data.select_dtypes(include=['int64', 'float64']).columns\n",
        "\n",
        "# Displaying the Numerical Columns\n",
        "print(\"Numerical Features:\")\n",
        "print(numerical_features)"
      ],
      "metadata": {
        "colab": {
          "base_uri": "https://localhost:8080/"
        },
        "id": "yHDT8jBYBd4y",
        "outputId": "2addc9b9-57bd-4939-b81e-f5603f2b46d6"
      },
      "execution_count": null,
      "outputs": [
        {
          "output_type": "stream",
          "name": "stdout",
          "text": [
            "Numerical Features:\n",
            "Index(['YEAR', 'QUANTITY', 'VALUE_RS'], dtype='object')\n"
          ]
        }
      ]
    },
    {
      "cell_type": "markdown",
      "source": [
        "**Unique Values and Their Count Relevant to Each Numerical Column**"
      ],
      "metadata": {
        "id": "ZpzIVQjABhC-"
      }
    },
    {
      "cell_type": "code",
      "source": [
        "# Displaying the unique values and their count in the numerical columns\n",
        "print(\"Unique values and their count in the numerical columns:\\n\")\n",
        "for col in numerical_features:\n",
        "    unique_values = data[col].unique()\n",
        "    value_counts = data[col].value_counts()\n",
        "    print(value_counts)\n",
        "    print(\" \")"
      ],
      "metadata": {
        "colab": {
          "base_uri": "https://localhost:8080/"
        },
        "id": "NrYaMzC7Bq01",
        "outputId": "90d9ee28-a1e7-49d0-be15-36e36a863f37"
      },
      "execution_count": null,
      "outputs": [
        {
          "output_type": "stream",
          "name": "stdout",
          "text": [
            "Unique values and their count in the numerical columns:\n",
            "\n",
            "YEAR\n",
            "2016.0    180\n",
            "2023.0    112\n",
            "Name: count, dtype: int64\n",
            " \n",
            "QUANTITY\n",
            "1000.0     55\n",
            "1.0        49\n",
            "16200.0    40\n",
            "5.0        31\n",
            "27.0       28\n",
            "           ..\n",
            "204.0       1\n",
            "23200.0     1\n",
            "22820.0     1\n",
            "22560.0     1\n",
            "19050.0     1\n",
            "Name: count, Length: 359, dtype: int64\n",
            " \n",
            "VALUE_RS\n",
            "0.40           4\n",
            "53.79          3\n",
            "188.55         3\n",
            "0.20           3\n",
            "21.15          2\n",
            "              ..\n",
            "350598.00      1\n",
            "2213950.00     1\n",
            "10318355.00    1\n",
            "24988179.00    1\n",
            "0.68           1\n",
            "Name: count, Length: 263, dtype: int64\n",
            " \n"
          ]
        }
      ]
    },
    {
      "cell_type": "markdown",
      "source": [
        "**Numerical columns with null values and their relevant counts**"
      ],
      "metadata": {
        "id": "YFjllzAsBuT8"
      }
    },
    {
      "cell_type": "code",
      "source": [
        "# Displaying the numerical columns with null values and their relevant counts\n",
        "print(\"Numerical columns with null values and their relevant counts:\")\n",
        "for col in numerical_cols:\n",
        "    null_count = data[col].isnull().sum()\n",
        "    if null_count > 0:\n",
        "        print(f\"{col}: {null_count}\")"
      ],
      "metadata": {
        "colab": {
          "base_uri": "https://localhost:8080/"
        },
        "id": "nd9l3Ut1BwXa",
        "outputId": "d7f6ddc1-83b3-4b73-8d5f-3f4074178af5"
      },
      "execution_count": null,
      "outputs": [
        {
          "output_type": "stream",
          "name": "stdout",
          "text": [
            "Numerical columns with null values and their relevant counts:\n",
            "YEAR: 750\n",
            "QUANTITY: 3\n",
            "VALUE_RS: 750\n"
          ]
        }
      ]
    },
    {
      "cell_type": "markdown",
      "source": [
        "# **Data Preprocessing**"
      ],
      "metadata": {
        "id": "79zB4WHtCOdb"
      }
    },
    {
      "cell_type": "markdown",
      "source": [
        "## **Data Cleaning**"
      ],
      "metadata": {
        "id": "uIFg1V0kCSXQ"
      }
    },
    {
      "cell_type": "code",
      "source": [
        "# Step 1: Removing whitespaces from the object type columns\n",
        "object_columns = data.select_dtypes(include=['object']).columns\n",
        "data[object_columns] = data[object_columns].apply(lambda x: x.str.strip())"
      ],
      "metadata": {
        "id": "OfzJDJDGCWsP"
      },
      "execution_count": null,
      "outputs": []
    },
    {
      "cell_type": "code",
      "source": [
        "# Step 2: Dropping duplicate values\n",
        "data.drop_duplicates(inplace=True)\n",
        "data.reset_index(drop=True, inplace=True)"
      ],
      "metadata": {
        "id": "wViKEDcAsajd"
      },
      "execution_count": null,
      "outputs": []
    },
    {
      "cell_type": "code",
      "source": [
        "# Display dataset information\n",
        "print(\"\\nDataset information after removing duplicates:\")\n",
        "data.info()"
      ],
      "metadata": {
        "id": "gRf6uNsWBcW7",
        "outputId": "b3358d9f-72b9-4768-e799-cbaf3a5af038",
        "colab": {
          "base_uri": "https://localhost:8080/"
        }
      },
      "execution_count": null,
      "outputs": [
        {
          "output_type": "stream",
          "name": "stdout",
          "text": [
            "\n",
            "Dataset information after removing duplicates:\n",
            "<class 'pandas.core.frame.DataFrame'>\n",
            "RangeIndex: 655 entries, 0 to 654\n",
            "Data columns (total 11 columns):\n",
            " #   Column          Non-Null Count  Dtype  \n",
            "---  ------          --------------  -----  \n",
            " 0   IMPORTER        655 non-null    object \n",
            " 1   YEAR            288 non-null    float64\n",
            " 2   MONTH           288 non-null    object \n",
            " 3   HSCODE          655 non-null    object \n",
            " 4   COUNTRY         652 non-null    object \n",
            " 5   UNIT            655 non-null    object \n",
            " 6   QUANTITY        653 non-null    float64\n",
            " 7   VALUE_RS        288 non-null    float64\n",
            " 8   DESCRIPTION_01  655 non-null    object \n",
            " 9   DESCRIPTION_02  655 non-null    object \n",
            " 10  DESCRIPTION_03  655 non-null    object \n",
            "dtypes: float64(3), object(8)\n",
            "memory usage: 56.4+ KB\n"
          ]
        }
      ]
    },
    {
      "cell_type": "code",
      "source": [
        "# Step 3: Removing unnecessary full stops(\".\") from the categorical columns\n",
        "data[categorical_cols] = data[categorical_cols].apply(lambda x: x.str.replace('.', ''))"
      ],
      "metadata": {
        "id": "1u7mE0RGCYtq"
      },
      "execution_count": null,
      "outputs": []
    },
    {
      "cell_type": "code",
      "source": [
        "# Step 4: Removing unnecessary special characters and trailing spaces from the 'DESCRIPTION_03' column\n",
        "# Removing the leading hyphen\n",
        "data['DESCRIPTION_03'] = data['DESCRIPTION_03'].str.lstrip('-')\n",
        "\n",
        "# Removing trailing spaces\n",
        "data['DESCRIPTION_03'] = data['DESCRIPTION_03'].str.strip()"
      ],
      "metadata": {
        "id": "cPcbX7_7Cas1"
      },
      "execution_count": null,
      "outputs": []
    },
    {
      "cell_type": "code",
      "source": [
        "# Step 5: Removing trailing spaces for the entire 'DESCRIPTION_02' column\n",
        "data['DESCRIPTION_02'] = data['DESCRIPTION_02'].str.strip()"
      ],
      "metadata": {
        "id": "d9s_cRp9CdIK"
      },
      "execution_count": null,
      "outputs": []
    },
    {
      "cell_type": "code",
      "source": [
        "# Displaying the unique values and their counts relevant to each categorical column\n",
        "print(\"Unique values and their count relevant to each categorical column:\\n\")\n",
        "for col in categorical_features:\n",
        "    unique_values = data[col].unique()\n",
        "    value_counts = data[col].value_counts()\n",
        "    print(value_counts)\n",
        "    print(\" \")"
      ],
      "metadata": {
        "colab": {
          "base_uri": "https://localhost:8080/"
        },
        "id": "l9iqBOELChQf",
        "outputId": "3f280999-c156-461c-b4a8-0d3b5186f701"
      },
      "execution_count": null,
      "outputs": [
        {
          "output_type": "stream",
          "name": "stdout",
          "text": [
            "Unique values and their count relevant to each categorical column:\n",
            "\n",
            "IMPORTER\n",
            "Unknown    655\n",
            "Name: count, dtype: int64\n",
            " \n",
            "MONTH\n",
            "NOVEMBER     187\n",
            "FEBRUARY      13\n",
            "JULY          13\n",
            "MAY           11\n",
            "SEPTEMBER     11\n",
            "JANUARY       10\n",
            "JUNE           9\n",
            "AUGUST         8\n",
            "OCTOBER        8\n",
            "MARCH          6\n",
            "APRIL          6\n",
            "DECEMBER       6\n",
            "Name: count, dtype: int64\n",
            " \n",
            "HSCODE\n",
            "2847000000    50\n",
            "28070010      37\n",
            "280800        36\n",
            "284700        35\n",
            "280110        34\n",
            "              ..\n",
            "2801200032     1\n",
            "2801200031     1\n",
            "2801200030     1\n",
            "2801200029     1\n",
            "2812101100     1\n",
            "Name: count, Length: 131, dtype: int64\n",
            " \n",
            "COUNTRY\n",
            "Russia       102\n",
            "Vietnam       74\n",
            "germany       48\n",
            "Ukraine       38\n",
            "Kenya         36\n",
            "            ... \n",
            "DENMARK        1\n",
            "indonesia      1\n",
            "AUSTRIA        1\n",
            "PAKISTAN       1\n",
            "egypt          1\n",
            "Name: count, Length: 66, dtype: int64\n",
            " \n",
            "UNIT\n",
            "Kg     479\n",
            "KGS     46\n",
            "PCS     36\n",
            "NOS     33\n",
            "GMS     23\n",
            "MTS     19\n",
            "LTR     18\n",
            "DRM      1\n",
            "Name: count, dtype: int64\n",
            " \n",
            "DESCRIPTION_01\n",
            "Inorganic chemicals; Organic or inorganic compounds of precious metals, of rare earth metals, of radioactive elements or of isotopes    581\n",
            "Fertilizers                                                                                                                              74\n",
            "Name: count, dtype: int64\n",
            " \n",
            "DESCRIPTION_02\n",
            "Fluorine, chlorine, bromine and iodine                                            117\n",
            "Hydrogen peroxide, whether or not solidified with urea                            109\n",
            "Nitric acid; sulphonitric acids                                                    94\n",
            "Mineral or chemical fertilizers, nitrogenous                                       74\n",
            "Halides and halide oxides of non metals                                            71\n",
            "Fluorides; fluorosilicates, fluoroaluminates, and other complex fluorine salts     67\n",
            "Sulphuric acid; oleum                                                              51\n",
            "Chlorates and perchlorates; bromates and perbromates; iodates and periodates       45\n",
            "Cyanides, cyanide oxides and complex cyanides                                      27\n",
            "Name: count, dtype: int64\n",
            " \n",
            "DESCRIPTION_03\n",
            "Hydrogen peroxide, whether or not solidified with urea                            109\n",
            "Nitric acid; sulphonitric acids                                                    94\n",
            "Iodine                                                                             79\n",
            "Mineral or chemical fertilizers, nitrogenous                                       74\n",
            "Halides and halide oxides of non metals                                            71\n",
            "Fluorides; fluorosilicates, fluoroaluminates, and other complex fluorine salts     67\n",
            "Sulphuric acid; oleum                                                              51\n",
            "Chlorates and perchlorates; bromates and perbromates; iodates and periodates       45\n",
            "Chlorine                                                                           34\n",
            "Cyanides and cyanide oxides : Other                                                14\n",
            "Cyanides and cyanide oxides : Of sodium                                            13\n",
            "Bromine                                                                             4\n",
            "Name: count, dtype: int64\n",
            " \n"
          ]
        }
      ]
    },
    {
      "cell_type": "code",
      "source": [
        "# Step 6: Converting all the values in the 'COUNTRY' and the 'UNIT' columns to uppercase values\n",
        "data['COUNTRY'] = data['COUNTRY'].str.upper()\n",
        "data['UNIT'] = data['UNIT'].str.upper()\n",
        "\n",
        "# Displaying the modified dataset\n",
        "print(data)"
      ],
      "metadata": {
        "colab": {
          "base_uri": "https://localhost:8080/"
        },
        "id": "DTg6jZ6rCkAn",
        "outputId": "c809bfd4-8ac9-4dc5-ea26-898f2afec3c3"
      },
      "execution_count": null,
      "outputs": [
        {
          "output_type": "stream",
          "name": "stdout",
          "text": [
            "    IMPORTER    YEAR     MONTH      HSCODE     COUNTRY UNIT  QUANTITY  \\\n",
            "0    Unknown  2023.0   JANUARY      280110  BANGLADESH   KG  131600.0   \n",
            "1    Unknown  2023.0   JANUARY      280110       INDIA   KG   37800.0   \n",
            "2    Unknown  2023.0   JANUARY      280110    MALAYSIA   KG   12090.0   \n",
            "3    Unknown  2023.0  FEBRUARY      280110  BANGLADESH   KG   25200.0   \n",
            "4    Unknown  2023.0  FEBRUARY      280110       INDIA   KG   75599.0   \n",
            "..       ...     ...       ...         ...         ...  ...       ...   \n",
            "650  Unknown     NaN       NaN    28121043     BELGIUM   KG   19740.0   \n",
            "651  Unknown     NaN       NaN  2812101100     UKRAINE   KG       NaN   \n",
            "652  Unknown     NaN       NaN    28121043     BELGIUM   KG   19320.0   \n",
            "653  Unknown     NaN       NaN    28121043     BELGIUM   KG   19050.0   \n",
            "654  Unknown     NaN       NaN  2812109900     UKRAINE   KG       NaN   \n",
            "\n",
            "       VALUE_RS                                     DESCRIPTION_01  \\\n",
            "0    13877114.0  Inorganic chemicals; Organic or inorganic comp...   \n",
            "1     3924989.0  Inorganic chemicals; Organic or inorganic comp...   \n",
            "2     5390772.0  Inorganic chemicals; Organic or inorganic comp...   \n",
            "3     3089445.0  Inorganic chemicals; Organic or inorganic comp...   \n",
            "4     6939860.0  Inorganic chemicals; Organic or inorganic comp...   \n",
            "..          ...                                                ...   \n",
            "650         NaN  Inorganic chemicals; Organic or inorganic comp...   \n",
            "651         NaN  Inorganic chemicals; Organic or inorganic comp...   \n",
            "652         NaN  Inorganic chemicals; Organic or inorganic comp...   \n",
            "653         NaN  Inorganic chemicals; Organic or inorganic comp...   \n",
            "654         NaN  Inorganic chemicals; Organic or inorganic comp...   \n",
            "\n",
            "                              DESCRIPTION_02  \\\n",
            "0     Fluorine, chlorine, bromine and iodine   \n",
            "1     Fluorine, chlorine, bromine and iodine   \n",
            "2     Fluorine, chlorine, bromine and iodine   \n",
            "3     Fluorine, chlorine, bromine and iodine   \n",
            "4     Fluorine, chlorine, bromine and iodine   \n",
            "..                                       ...   \n",
            "650  Halides and halide oxides of non metals   \n",
            "651  Halides and halide oxides of non metals   \n",
            "652  Halides and halide oxides of non metals   \n",
            "653  Halides and halide oxides of non metals   \n",
            "654  Halides and halide oxides of non metals   \n",
            "\n",
            "                              DESCRIPTION_03  \n",
            "0                                   Chlorine  \n",
            "1                                   Chlorine  \n",
            "2                                   Chlorine  \n",
            "3                                   Chlorine  \n",
            "4                                   Chlorine  \n",
            "..                                       ...  \n",
            "650  Halides and halide oxides of non metals  \n",
            "651  Halides and halide oxides of non metals  \n",
            "652  Halides and halide oxides of non metals  \n",
            "653  Halides and halide oxides of non metals  \n",
            "654  Halides and halide oxides of non metals  \n",
            "\n",
            "[655 rows x 11 columns]\n"
          ]
        }
      ]
    },
    {
      "cell_type": "code",
      "source": [
        "# Step 7: Handling the HSCODES\n",
        "\n",
        "# Checking the length of the HSCODES and determining the maximum length\n",
        "data['HSCODE_LENGTH'] = data['HSCODE'].apply(len)\n",
        "max_length = data['HSCODE_LENGTH'].max()\n",
        "\n",
        "# Padding HSCODE values with trailing zeros to match the maximum length\n",
        "data['HSCODE'] = data['HSCODE'].apply(lambda x: x.ljust(max_length, '0'))\n",
        "\n",
        "# Dropping the helper column 'HSCODE_LENGTH' as it's no longer needed\n",
        "data.drop(columns=['HSCODE_LENGTH'], inplace=True)\n",
        "\n",
        "# Displaying the modified dataset\n",
        "print(data)"
      ],
      "metadata": {
        "colab": {
          "base_uri": "https://localhost:8080/"
        },
        "id": "J97ByA3YCnLl",
        "outputId": "6e9d8332-c1f0-422b-8b50-5d8ac1c9a478"
      },
      "execution_count": null,
      "outputs": [
        {
          "output_type": "stream",
          "name": "stdout",
          "text": [
            "    IMPORTER    YEAR     MONTH      HSCODE     COUNTRY UNIT  QUANTITY  \\\n",
            "0    Unknown  2023.0   JANUARY  2801100000  BANGLADESH   KG  131600.0   \n",
            "1    Unknown  2023.0   JANUARY  2801100000       INDIA   KG   37800.0   \n",
            "2    Unknown  2023.0   JANUARY  2801100000    MALAYSIA   KG   12090.0   \n",
            "3    Unknown  2023.0  FEBRUARY  2801100000  BANGLADESH   KG   25200.0   \n",
            "4    Unknown  2023.0  FEBRUARY  2801100000       INDIA   KG   75599.0   \n",
            "..       ...     ...       ...         ...         ...  ...       ...   \n",
            "650  Unknown     NaN       NaN  2812104300     BELGIUM   KG   19740.0   \n",
            "651  Unknown     NaN       NaN  2812101100     UKRAINE   KG       NaN   \n",
            "652  Unknown     NaN       NaN  2812104300     BELGIUM   KG   19320.0   \n",
            "653  Unknown     NaN       NaN  2812104300     BELGIUM   KG   19050.0   \n",
            "654  Unknown     NaN       NaN  2812109900     UKRAINE   KG       NaN   \n",
            "\n",
            "       VALUE_RS                                     DESCRIPTION_01  \\\n",
            "0    13877114.0  Inorganic chemicals; Organic or inorganic comp...   \n",
            "1     3924989.0  Inorganic chemicals; Organic or inorganic comp...   \n",
            "2     5390772.0  Inorganic chemicals; Organic or inorganic comp...   \n",
            "3     3089445.0  Inorganic chemicals; Organic or inorganic comp...   \n",
            "4     6939860.0  Inorganic chemicals; Organic or inorganic comp...   \n",
            "..          ...                                                ...   \n",
            "650         NaN  Inorganic chemicals; Organic or inorganic comp...   \n",
            "651         NaN  Inorganic chemicals; Organic or inorganic comp...   \n",
            "652         NaN  Inorganic chemicals; Organic or inorganic comp...   \n",
            "653         NaN  Inorganic chemicals; Organic or inorganic comp...   \n",
            "654         NaN  Inorganic chemicals; Organic or inorganic comp...   \n",
            "\n",
            "                              DESCRIPTION_02  \\\n",
            "0     Fluorine, chlorine, bromine and iodine   \n",
            "1     Fluorine, chlorine, bromine and iodine   \n",
            "2     Fluorine, chlorine, bromine and iodine   \n",
            "3     Fluorine, chlorine, bromine and iodine   \n",
            "4     Fluorine, chlorine, bromine and iodine   \n",
            "..                                       ...   \n",
            "650  Halides and halide oxides of non metals   \n",
            "651  Halides and halide oxides of non metals   \n",
            "652  Halides and halide oxides of non metals   \n",
            "653  Halides and halide oxides of non metals   \n",
            "654  Halides and halide oxides of non metals   \n",
            "\n",
            "                              DESCRIPTION_03  \n",
            "0                                   Chlorine  \n",
            "1                                   Chlorine  \n",
            "2                                   Chlorine  \n",
            "3                                   Chlorine  \n",
            "4                                   Chlorine  \n",
            "..                                       ...  \n",
            "650  Halides and halide oxides of non metals  \n",
            "651  Halides and halide oxides of non metals  \n",
            "652  Halides and halide oxides of non metals  \n",
            "653  Halides and halide oxides of non metals  \n",
            "654  Halides and halide oxides of non metals  \n",
            "\n",
            "[655 rows x 11 columns]\n"
          ]
        }
      ]
    },
    {
      "cell_type": "code",
      "source": [
        "# Step 8: Handling the 'COUNTRY' Column\n",
        "\n",
        "# Replacing specific country names\n",
        "data['COUNTRY'] = data['COUNTRY'].replace({\n",
        "    'United States': 'USA',\n",
        "    'United States of America': 'USA',\n",
        "    'United Kingdom': 'UK',\n",
        "    'Korea, Republic of': 'South Korea'\n",
        "})\n",
        "\n",
        "print(data)"
      ],
      "metadata": {
        "colab": {
          "base_uri": "https://localhost:8080/"
        },
        "id": "t4EA9rqHCpgp",
        "outputId": "936751c5-037c-4a3c-c1fa-bbe6fb9b2f12"
      },
      "execution_count": null,
      "outputs": [
        {
          "output_type": "stream",
          "name": "stdout",
          "text": [
            "    IMPORTER    YEAR     MONTH      HSCODE     COUNTRY UNIT  QUANTITY  \\\n",
            "0    Unknown  2023.0   JANUARY  2801100000  BANGLADESH   KG  131600.0   \n",
            "1    Unknown  2023.0   JANUARY  2801100000       INDIA   KG   37800.0   \n",
            "2    Unknown  2023.0   JANUARY  2801100000    MALAYSIA   KG   12090.0   \n",
            "3    Unknown  2023.0  FEBRUARY  2801100000  BANGLADESH   KG   25200.0   \n",
            "4    Unknown  2023.0  FEBRUARY  2801100000       INDIA   KG   75599.0   \n",
            "..       ...     ...       ...         ...         ...  ...       ...   \n",
            "650  Unknown     NaN       NaN  2812104300     BELGIUM   KG   19740.0   \n",
            "651  Unknown     NaN       NaN  2812101100     UKRAINE   KG       NaN   \n",
            "652  Unknown     NaN       NaN  2812104300     BELGIUM   KG   19320.0   \n",
            "653  Unknown     NaN       NaN  2812104300     BELGIUM   KG   19050.0   \n",
            "654  Unknown     NaN       NaN  2812109900     UKRAINE   KG       NaN   \n",
            "\n",
            "       VALUE_RS                                     DESCRIPTION_01  \\\n",
            "0    13877114.0  Inorganic chemicals; Organic or inorganic comp...   \n",
            "1     3924989.0  Inorganic chemicals; Organic or inorganic comp...   \n",
            "2     5390772.0  Inorganic chemicals; Organic or inorganic comp...   \n",
            "3     3089445.0  Inorganic chemicals; Organic or inorganic comp...   \n",
            "4     6939860.0  Inorganic chemicals; Organic or inorganic comp...   \n",
            "..          ...                                                ...   \n",
            "650         NaN  Inorganic chemicals; Organic or inorganic comp...   \n",
            "651         NaN  Inorganic chemicals; Organic or inorganic comp...   \n",
            "652         NaN  Inorganic chemicals; Organic or inorganic comp...   \n",
            "653         NaN  Inorganic chemicals; Organic or inorganic comp...   \n",
            "654         NaN  Inorganic chemicals; Organic or inorganic comp...   \n",
            "\n",
            "                              DESCRIPTION_02  \\\n",
            "0     Fluorine, chlorine, bromine and iodine   \n",
            "1     Fluorine, chlorine, bromine and iodine   \n",
            "2     Fluorine, chlorine, bromine and iodine   \n",
            "3     Fluorine, chlorine, bromine and iodine   \n",
            "4     Fluorine, chlorine, bromine and iodine   \n",
            "..                                       ...   \n",
            "650  Halides and halide oxides of non metals   \n",
            "651  Halides and halide oxides of non metals   \n",
            "652  Halides and halide oxides of non metals   \n",
            "653  Halides and halide oxides of non metals   \n",
            "654  Halides and halide oxides of non metals   \n",
            "\n",
            "                              DESCRIPTION_03  \n",
            "0                                   Chlorine  \n",
            "1                                   Chlorine  \n",
            "2                                   Chlorine  \n",
            "3                                   Chlorine  \n",
            "4                                   Chlorine  \n",
            "..                                       ...  \n",
            "650  Halides and halide oxides of non metals  \n",
            "651  Halides and halide oxides of non metals  \n",
            "652  Halides and halide oxides of non metals  \n",
            "653  Halides and halide oxides of non metals  \n",
            "654  Halides and halide oxides of non metals  \n",
            "\n",
            "[655 rows x 11 columns]\n"
          ]
        }
      ]
    },
    {
      "cell_type": "code",
      "source": [
        "# Displaying the unique values and their counts relevant to each categorical column\n",
        "print(\"Unique values and their count relevant to each categorical column:\\n\")\n",
        "for col in categorical_features:\n",
        "    unique_values = data[col].unique()\n",
        "    value_counts = data[col].value_counts()\n",
        "    print(value_counts)\n",
        "    print(\" \")"
      ],
      "metadata": {
        "colab": {
          "base_uri": "https://localhost:8080/"
        },
        "id": "28TiCorQCs7V",
        "outputId": "0a1844f1-9725-41ab-d511-56753b40e801"
      },
      "execution_count": null,
      "outputs": [
        {
          "output_type": "stream",
          "name": "stdout",
          "text": [
            "Unique values and their count relevant to each categorical column:\n",
            "\n",
            "IMPORTER\n",
            "Unknown    655\n",
            "Name: count, dtype: int64\n",
            " \n",
            "MONTH\n",
            "NOVEMBER     187\n",
            "FEBRUARY      13\n",
            "JULY          13\n",
            "MAY           11\n",
            "SEPTEMBER     11\n",
            "JANUARY       10\n",
            "JUNE           9\n",
            "AUGUST         8\n",
            "OCTOBER        8\n",
            "MARCH          6\n",
            "APRIL          6\n",
            "DECEMBER       6\n",
            "Name: count, dtype: int64\n",
            " \n",
            "HSCODE\n",
            "2847000000    109\n",
            "2808000000     74\n",
            "2807001000     37\n",
            "2801100000     34\n",
            "3102401000     22\n",
            "             ... \n",
            "2801200029      1\n",
            "2801200028      1\n",
            "2801200027      1\n",
            "2801200026      1\n",
            "2812101100      1\n",
            "Name: count, Length: 117, dtype: int64\n",
            " \n",
            "COUNTRY\n",
            "RUSSIA                  102\n",
            "VIETNAM                  74\n",
            "BELGIUM                  51\n",
            "GERMANY                  49\n",
            "UKRAINE                  38\n",
            "KENYA                    36\n",
            "INDIA                    29\n",
            "CHINA                    28\n",
            "COLOMBIA                 27\n",
            "BANGLADESH               26\n",
            "UNITED STATES            22\n",
            "MALAYSIA                 19\n",
            "SOUTH KOREA              18\n",
            "UNITED KINGDOM           17\n",
            "THAILAND                 17\n",
            "US VIRGIN ISLANDS        11\n",
            "URUGUAY                  10\n",
            "JAPAN                     9\n",
            "SRI LANKA                 8\n",
            "GERMENY                   6\n",
            "KOREA,REPUBLIC OF         4\n",
            "ISRAEL                    4\n",
            "SWITZERLAND               4\n",
            "CAMBODIA                  3\n",
            "CANADA                    3\n",
            "TAIWAN                    3\n",
            "TURKMENISTAN              3\n",
            "UK                        3\n",
            "CHILE                     2\n",
            "FRANCE                    2\n",
            "KAZAKHSTAN                2\n",
            "SINGAPORE                 2\n",
            "ARGENTINA                 1\n",
            "SLOVAKIA                  1\n",
            "BRAZIL                    1\n",
            "SOUTH AFRICA              1\n",
            "NIGERIA                   1\n",
            "UNITED ARAB EMIRATES      1\n",
            "ITALY                     1\n",
            "SAUDI ARABIA              1\n",
            "EGYPT                     1\n",
            "NETHERLANDS (HOLAND)      1\n",
            "ROMANIA                   1\n",
            "SLOVENIA                  1\n",
            "MEXICO                    1\n",
            "INDONESIA                 1\n",
            "AUSTRIA                   1\n",
            "PAKISTAN                  1\n",
            "USA                       1\n",
            "DENMARK                   1\n",
            "SPAIN                     1\n",
            "GEORGIA                   1\n",
            "Name: count, dtype: int64\n",
            " \n",
            "UNIT\n",
            "KG     479\n",
            "KGS     46\n",
            "PCS     36\n",
            "NOS     33\n",
            "GMS     23\n",
            "MTS     19\n",
            "LTR     18\n",
            "DRM      1\n",
            "Name: count, dtype: int64\n",
            " \n",
            "DESCRIPTION_01\n",
            "Inorganic chemicals; Organic or inorganic compounds of precious metals, of rare earth metals, of radioactive elements or of isotopes    581\n",
            "Fertilizers                                                                                                                              74\n",
            "Name: count, dtype: int64\n",
            " \n",
            "DESCRIPTION_02\n",
            "Fluorine, chlorine, bromine and iodine                                            117\n",
            "Hydrogen peroxide, whether or not solidified with urea                            109\n",
            "Nitric acid; sulphonitric acids                                                    94\n",
            "Mineral or chemical fertilizers, nitrogenous                                       74\n",
            "Halides and halide oxides of non metals                                            71\n",
            "Fluorides; fluorosilicates, fluoroaluminates, and other complex fluorine salts     67\n",
            "Sulphuric acid; oleum                                                              51\n",
            "Chlorates and perchlorates; bromates and perbromates; iodates and periodates       45\n",
            "Cyanides, cyanide oxides and complex cyanides                                      27\n",
            "Name: count, dtype: int64\n",
            " \n",
            "DESCRIPTION_03\n",
            "Hydrogen peroxide, whether or not solidified with urea                            109\n",
            "Nitric acid; sulphonitric acids                                                    94\n",
            "Iodine                                                                             79\n",
            "Mineral or chemical fertilizers, nitrogenous                                       74\n",
            "Halides and halide oxides of non metals                                            71\n",
            "Fluorides; fluorosilicates, fluoroaluminates, and other complex fluorine salts     67\n",
            "Sulphuric acid; oleum                                                              51\n",
            "Chlorates and perchlorates; bromates and perbromates; iodates and periodates       45\n",
            "Chlorine                                                                           34\n",
            "Cyanides and cyanide oxides : Other                                                14\n",
            "Cyanides and cyanide oxides : Of sodium                                            13\n",
            "Bromine                                                                             4\n",
            "Name: count, dtype: int64\n",
            " \n"
          ]
        }
      ]
    },
    {
      "cell_type": "markdown",
      "source": [
        "## **Handling Missing Values**"
      ],
      "metadata": {
        "id": "8EkA5UWJQEUW"
      }
    },
    {
      "cell_type": "markdown",
      "source": [
        "**Handling missing values in the categorical columns**"
      ],
      "metadata": {
        "id": "jyyT1PH2QGni"
      }
    },
    {
      "cell_type": "markdown",
      "source": [
        "**Replacing all the missing values with 'Unknown'**"
      ],
      "metadata": {
        "id": "7_OnbJJlQJCb"
      }
    },
    {
      "cell_type": "code",
      "source": [
        "# Step 12: Handling missing values in the categorical columns\n",
        "\n",
        "# Replacing all the missing values in the categorical columns with 'Unknown' for imputation\n",
        "data[categorical_features] = data[categorical_features].fillna('Unknown')"
      ],
      "metadata": {
        "id": "18n-W_bbQPId"
      },
      "execution_count": null,
      "outputs": []
    },
    {
      "cell_type": "markdown",
      "source": [
        "**Checking for any missing values which is left behind when replacing with 'Unkown'**"
      ],
      "metadata": {
        "id": "_F_Yig3hQSNY"
      }
    },
    {
      "cell_type": "code",
      "source": [
        "# Verifying the changes after replacing the missing values with 'Unknown'\n",
        "print(\"Checking for any missing values left behind after replacing with 'Unknown':\")\n",
        "for col in categorical_features:\n",
        "    null_count = data[col].isnull().sum()\n",
        "    if null_count > 0:\n",
        "        print(f\"{col}: {null_count} missing values\")\n",
        "    else:\n",
        "        print(f\"{col}: No missing values\")\n",
        "    print(\" \")"
      ],
      "metadata": {
        "colab": {
          "base_uri": "https://localhost:8080/"
        },
        "id": "-UzaNtiQQXWB",
        "outputId": "a866505a-a0bb-4fa7-f796-04b4be5a5b41"
      },
      "execution_count": null,
      "outputs": [
        {
          "output_type": "stream",
          "name": "stdout",
          "text": [
            "Checking for any missing values left behind after replacing with 'Unknown':\n",
            "IMPORTER: No missing values\n",
            " \n",
            "MONTH: No missing values\n",
            " \n",
            "HSCODE: No missing values\n",
            " \n",
            "COUNTRY: No missing values\n",
            " \n",
            "UNIT: No missing values\n",
            " \n",
            "DESCRIPTION_01: No missing values\n",
            " \n",
            "DESCRIPTION_02: No missing values\n",
            " \n",
            "DESCRIPTION_03: No missing values\n",
            " \n"
          ]
        }
      ]
    },
    {
      "cell_type": "code",
      "source": [
        "# Handling the 'Unknown' values in the 'COUNTRY' column using the mode\n",
        "mode_country = data['COUNTRY'].mode()[0]\n",
        "data['COUNTRY'] = data['COUNTRY'].replace('Unknown', mode_country)"
      ],
      "metadata": {
        "id": "IlJAYVg9QaS0"
      },
      "execution_count": null,
      "outputs": []
    },
    {
      "cell_type": "code",
      "source": [
        "# Dropping the 'MONTH' and 'IMPORTERS' Columns due to the significant amount of null values\n",
        "data.drop(columns=['MONTH', 'IMPORTER'], inplace=True)"
      ],
      "metadata": {
        "id": "nPLd4_MEQc8G"
      },
      "execution_count": null,
      "outputs": []
    },
    {
      "cell_type": "code",
      "source": [
        "# Displaying dataset information\n",
        "print(\"\\nDataset information after categorical imputation:\")\n",
        "data.info()"
      ],
      "metadata": {
        "colab": {
          "base_uri": "https://localhost:8080/"
        },
        "id": "hZXhr0JhQeIR",
        "outputId": "1b553e7b-9ee8-4735-da8c-eba71c90d52e"
      },
      "execution_count": null,
      "outputs": [
        {
          "output_type": "stream",
          "name": "stdout",
          "text": [
            "\n",
            "Dataset information after categorical imputation:\n",
            "<class 'pandas.core.frame.DataFrame'>\n",
            "RangeIndex: 655 entries, 0 to 654\n",
            "Data columns (total 9 columns):\n",
            " #   Column          Non-Null Count  Dtype  \n",
            "---  ------          --------------  -----  \n",
            " 0   YEAR            288 non-null    float64\n",
            " 1   HSCODE          655 non-null    object \n",
            " 2   COUNTRY         655 non-null    object \n",
            " 3   UNIT            655 non-null    object \n",
            " 4   QUANTITY        653 non-null    float64\n",
            " 5   VALUE_RS        288 non-null    float64\n",
            " 6   DESCRIPTION_01  655 non-null    object \n",
            " 7   DESCRIPTION_02  655 non-null    object \n",
            " 8   DESCRIPTION_03  655 non-null    object \n",
            "dtypes: float64(3), object(6)\n",
            "memory usage: 46.2+ KB\n"
          ]
        }
      ]
    },
    {
      "cell_type": "code",
      "source": [
        "# Display unique values in the 'COUNTRY' column\n",
        "unique_countries = data['COUNTRY'].unique()\n",
        "print(\"Unique Countries:\")\n",
        "print(unique_countries)"
      ],
      "metadata": {
        "colab": {
          "base_uri": "https://localhost:8080/"
        },
        "id": "aG-YBRIAQhHe",
        "outputId": "1261071a-1d1e-4e1f-f5c7-61f5fb51401a"
      },
      "execution_count": null,
      "outputs": [
        {
          "output_type": "stream",
          "name": "stdout",
          "text": [
            "Unique Countries:\n",
            "['BANGLADESH' 'INDIA' 'MALAYSIA' 'AUSTRIA' 'CHINA' 'USA' 'SOUTH KOREA'\n",
            " 'THAILAND' 'GERMENY' 'CANADA' 'DENMARK' 'UK' 'JAPAN' 'PAKISTAN'\n",
            " 'NETHERLANDS (HOLAND)' 'BELGIUM' 'SINGAPORE' 'SPAIN' 'FRANCE' 'GERMANY'\n",
            " 'ISRAEL' 'CHILE' 'SWITZERLAND' 'UNITED STATES' 'TURKMENISTAN'\n",
            " 'KOREA,REPUBLIC OF' 'UNITED KINGDOM' 'TAIWAN' 'RUSSIA' 'VIETNAM'\n",
            " 'US VIRGIN ISLANDS' 'KENYA' 'UKRAINE' 'URUGUAY' 'COLOMBIA' 'INDONESIA'\n",
            " 'KAZAKHSTAN' 'CAMBODIA' 'MEXICO' 'SLOVENIA' 'ROMANIA' 'SLOVAKIA' 'EGYPT'\n",
            " 'SAUDI ARABIA' 'ITALY' 'UNITED ARAB EMIRATES' 'NIGERIA' 'SOUTH AFRICA'\n",
            " 'SRI LANKA' 'ARGENTINA' 'BRAZIL' 'GEORGIA']\n"
          ]
        }
      ]
    },
    {
      "cell_type": "code",
      "source": [
        "# Display unique values in the 'HSCODE' column\n",
        "unique_hscodes = data['HSCODE'].unique()\n",
        "print(\"Unique HSCodes:\")\n",
        "print(unique_hscodes)"
      ],
      "metadata": {
        "colab": {
          "base_uri": "https://localhost:8080/"
        },
        "id": "TdNAzQj5Qvf3",
        "outputId": "4fb9141e-4705-49a6-a3f7-0b70f3575926"
      },
      "execution_count": null,
      "outputs": [
        {
          "output_type": "stream",
          "name": "stdout",
          "text": [
            "Unique HSCodes:\n",
            "['2801100000' '2808000000' '2837110000' '2837190000' '2847000000'\n",
            " '2808001000' '2801200000' '2801302000' '2837209000' '2837191000'\n",
            " '2837202000' '2837199000' '2801200001' '2801200002' '2801200003'\n",
            " '2801200004' '2801200005' '2801200006' '2801200007' '2801200008'\n",
            " '2801200009' '2801200010' '2801200011' '2801200012' '2801200013'\n",
            " '2801200014' '2801200015' '2801200016' '2801200017' '2801200018'\n",
            " '2801200019' '2801200020' '2801200021' '2801200022' '2801200023'\n",
            " '2801200024' '2801200025' '2801200026' '2801200027' '2801200028'\n",
            " '2801200029' '2801200030' '2801200031' '2801200032' '2801200033'\n",
            " '2801200034' '2801200035' '2801200036' '2801200037' '2801200038'\n",
            " '2801200039' '2801200040' '2801200041' '2801200042' '2801200043'\n",
            " '2801200044' '2801200045' '2801200046' '2801200047' '2801200048'\n",
            " '2801200049' '2801200050' '2801200051' '2801200052' '2801200053'\n",
            " '2801200054' '2801200055' '2801200056' '2801200057' '2801200058'\n",
            " '2801200059' '2801200060' '2801200061' '2801200062' '2801200063'\n",
            " '2829901000' '2829192000' '2829902000' '2829190000' '2829110000'\n",
            " '2829909000' '2829908000' '2829903000' '3102210000' '3102909000'\n",
            " '3102401000' '3102100000' '3102101000' '3102600100' '3102600000'\n",
            " '3102500000' '3102299000' '2807001000' '2807002000' '2812900000'\n",
            " '2812109000' '2812101000' '2812105000' '2826300000' '2826199000'\n",
            " '2826900000' '2826191000' '2826120000' '2807009000' '2826190000'\n",
            " '2826908000' '2812190000' '2812120000' '2812199000' '2812191900'\n",
            " '2812160000' '2812170000' '2812109900' '2812104300' '2812104700'\n",
            " '2812104200' '2812101100']\n"
          ]
        }
      ]
    },
    {
      "cell_type": "code",
      "source": [
        "# Display the unique values in the 'UNIT' column\n",
        "unique_units = data['UNIT'].unique()\n",
        "print(\"Unique Units:\")\n",
        "print(unique_units)"
      ],
      "metadata": {
        "colab": {
          "base_uri": "https://localhost:8080/"
        },
        "id": "wptcjQW_QyAE",
        "outputId": "42d7ae7e-4614-42c5-e2f0-9e5a376a6363"
      },
      "execution_count": null,
      "outputs": [
        {
          "output_type": "stream",
          "name": "stdout",
          "text": [
            "Unique Units:\n",
            "['KG' 'LTR' 'PCS' 'KGS' 'NOS' 'GMS' 'MTS' 'DRM']\n"
          ]
        }
      ]
    },
    {
      "cell_type": "code",
      "source": [
        "# Displaying the unique values in the 'DESCRIPTION_01' column\n",
        "unique_descriptions_01 = data['DESCRIPTION_01'].unique()\n",
        "print(\"Unique Descriptions_01:\")\n",
        "print(unique_descriptions_01)"
      ],
      "metadata": {
        "colab": {
          "base_uri": "https://localhost:8080/"
        },
        "id": "t5lk4pY8QzQR",
        "outputId": "9f44b3fb-5608-4a81-d783-1adfd1952b4c"
      },
      "execution_count": null,
      "outputs": [
        {
          "output_type": "stream",
          "name": "stdout",
          "text": [
            "Unique Descriptions_01:\n",
            "['Inorganic chemicals; Organic or inorganic compounds of precious metals, of rare earth metals, of radioactive elements or of isotopes'\n",
            " 'Fertilizers']\n"
          ]
        }
      ]
    },
    {
      "cell_type": "code",
      "source": [
        "# Displaying the unique values in the 'DESCRIPTION_02' column\n",
        "unique_descriptions_02 = data['DESCRIPTION_02'].unique()\n",
        "print(\"Unique Descriptions_02:\")\n",
        "print(unique_descriptions_02)"
      ],
      "metadata": {
        "colab": {
          "base_uri": "https://localhost:8080/"
        },
        "id": "Xk5F-dOHQ1uf",
        "outputId": "c0b7a57f-97a3-4dcb-abd0-5c42e49524fb"
      },
      "execution_count": null,
      "outputs": [
        {
          "output_type": "stream",
          "name": "stdout",
          "text": [
            "Unique Descriptions_02:\n",
            "['Fluorine, chlorine, bromine and iodine'\n",
            " 'Nitric acid; sulphonitric acids'\n",
            " 'Cyanides, cyanide oxides and complex cyanides'\n",
            " 'Hydrogen peroxide, whether or not solidified with urea'\n",
            " 'Chlorates and perchlorates; bromates and perbromates; iodates and periodates'\n",
            " 'Mineral or chemical fertilizers, nitrogenous' 'Sulphuric acid; oleum'\n",
            " 'Halides and halide oxides of non metals'\n",
            " 'Fluorides; fluorosilicates, fluoroaluminates, and other complex fluorine salts']\n"
          ]
        }
      ]
    },
    {
      "cell_type": "code",
      "source": [
        "# Displaying the unique values in the 'DESCRIPTION_03' column\n",
        "unique_descriptions_03 = data['DESCRIPTION_03'].unique()\n",
        "print(\"Unique Descriptions_03:\")\n",
        "print(unique_descriptions_03)"
      ],
      "metadata": {
        "colab": {
          "base_uri": "https://localhost:8080/"
        },
        "id": "5DesnmIJQ3ip",
        "outputId": "f071789f-3e54-49eb-a1e2-8b23741b7b44"
      },
      "execution_count": null,
      "outputs": [
        {
          "output_type": "stream",
          "name": "stdout",
          "text": [
            "Unique Descriptions_03:\n",
            "['Chlorine' 'Nitric acid; sulphonitric acids'\n",
            " 'Cyanides and cyanide oxides : Of sodium'\n",
            " 'Cyanides and cyanide oxides : Other'\n",
            " 'Hydrogen peroxide, whether or not solidified with urea' 'Iodine'\n",
            " 'Bromine'\n",
            " 'Chlorates and perchlorates; bromates and perbromates; iodates and periodates'\n",
            " 'Mineral or chemical fertilizers, nitrogenous' 'Sulphuric acid; oleum'\n",
            " 'Halides and halide oxides of non metals'\n",
            " 'Fluorides; fluorosilicates, fluoroaluminates, and other complex fluorine salts']\n"
          ]
        }
      ]
    },
    {
      "cell_type": "markdown",
      "source": [
        "# **Data Encoding**"
      ],
      "metadata": {
        "id": "7U6pNi46Q7Gp"
      }
    },
    {
      "cell_type": "code",
      "source": [
        "# Step 13: Encoding the Categorical variables\n",
        "\n",
        "import joblib\n",
        "from sklearn.preprocessing import OneHotEncoder\n",
        "import os\n",
        "\n",
        "# Initialize a dictionary to store encoders\n",
        "encoders = {}\n",
        "\n",
        "# Define the directory where you want to save the encoders\n",
        "encoder_directory = '/content/drive/MyDrive/Importer_Risk_Prediction_2/encoders/'\n",
        "\n",
        "# Ensure the directory exists\n",
        "os.makedirs(encoder_directory, exist_ok=True)\n",
        "\n",
        "# Encoding categorical columns\n",
        "encoding_columns = ['HSCODE', 'COUNTRY', 'UNIT', 'DESCRIPTION_01', 'DESCRIPTION_02', 'DESCRIPTION_03']\n",
        "for col in encoding_columns:\n",
        "    one_hot_encoder = OneHotEncoder(sparse_output=False, handle_unknown='ignore')\n",
        "    encoded = one_hot_encoder.fit_transform(data[[col]])\n",
        "    encoded_df = pd.DataFrame(encoded, columns=[f'{col}_{category}' for category in one_hot_encoder.categories_[0]])\n",
        "    data = pd.concat([data, encoded_df], axis=1)\n",
        "    data.drop(columns=[col], inplace=True)\n",
        "\n",
        "    # Save the encoder for the column with the column name as the file name in the specified directory\n",
        "    encoder_filename = os.path.join(encoder_directory, f'{col}_encoder.pkl')\n",
        "    joblib.dump(one_hot_encoder, encoder_filename)\n",
        "    encoders[col] = one_hot_encoder\n",
        "    print(f\"One-Hot Encoding applied to column: {col} and encoder saved as {encoder_filename}\")\n",
        "\n",
        "print(\"All categorical columns encoded and encoders saved successfully.\")\n"
      ],
      "metadata": {
        "colab": {
          "base_uri": "https://localhost:8080/"
        },
        "id": "99voN165RpPP",
        "outputId": "56b98a17-ea63-4da7-f365-556bf26cd91c"
      },
      "execution_count": null,
      "outputs": [
        {
          "output_type": "stream",
          "name": "stdout",
          "text": [
            "One-Hot Encoding applied to column: HSCODE and encoder saved as /content/drive/MyDrive/Importer_Risk_Prediction_2/encoders/HSCODE_encoder.pkl\n",
            "One-Hot Encoding applied to column: COUNTRY and encoder saved as /content/drive/MyDrive/Importer_Risk_Prediction_2/encoders/COUNTRY_encoder.pkl\n",
            "One-Hot Encoding applied to column: UNIT and encoder saved as /content/drive/MyDrive/Importer_Risk_Prediction_2/encoders/UNIT_encoder.pkl\n",
            "One-Hot Encoding applied to column: DESCRIPTION_01 and encoder saved as /content/drive/MyDrive/Importer_Risk_Prediction_2/encoders/DESCRIPTION_01_encoder.pkl\n",
            "One-Hot Encoding applied to column: DESCRIPTION_02 and encoder saved as /content/drive/MyDrive/Importer_Risk_Prediction_2/encoders/DESCRIPTION_02_encoder.pkl\n",
            "One-Hot Encoding applied to column: DESCRIPTION_03 and encoder saved as /content/drive/MyDrive/Importer_Risk_Prediction_2/encoders/DESCRIPTION_03_encoder.pkl\n",
            "All categorical columns encoded and encoders saved successfully.\n"
          ]
        }
      ]
    },
    {
      "cell_type": "markdown",
      "source": [
        "## **Handling missing values in the numerical columns**"
      ],
      "metadata": {
        "id": "YCLc_4uJSASv"
      }
    },
    {
      "cell_type": "markdown",
      "source": [
        "**Using K-NN Imputaion to efficiently capture the small missing values and the captures local patterns in the 'Quantity' coulmn**"
      ],
      "metadata": {
        "id": "IQRfv_yNSCa_"
      }
    },
    {
      "cell_type": "code",
      "source": [
        "# Step 14: Handling missing values in the numerical columns\n",
        "\n",
        "# KNN Imputation for 'QUANTITY'\n",
        "knn_imputer = KNNImputer(n_neighbors=5)\n",
        "data[['QUANTITY']] = knn_imputer.fit_transform(data[['QUANTITY']])"
      ],
      "metadata": {
        "id": "FutjUBGbSFNB"
      },
      "execution_count": null,
      "outputs": []
    },
    {
      "cell_type": "code",
      "source": [
        "# Step 15: Dropping the 'YEAR' n the 'VALUE_RS' Column\n",
        "data.drop(columns=['YEAR', 'VALUE_RS'], inplace=True)"
      ],
      "metadata": {
        "id": "zhLkTaQZSGqe"
      },
      "execution_count": null,
      "outputs": []
    },
    {
      "cell_type": "markdown",
      "source": [
        "## **Handling the Outliers**"
      ],
      "metadata": {
        "id": "CX5h1YNNSKaw"
      }
    },
    {
      "cell_type": "code",
      "source": [
        "# Step 16: Handling the outliers in the numerical columns\n",
        "\n",
        "# Assigning the Numerical Columns for the outlier analysis\n",
        "outlier_columns = [\"QUANTITY\"]\n",
        "\n",
        "# Creating an empty dictionary to store the outliers\n",
        "outlier_info = {}\n",
        "\n",
        "for column in outlier_columns:\n",
        "    Q1, Q3 = data[column].quantile([0.25, 0.75])\n",
        "    IQR = Q3 - Q1\n",
        "    lower_bound = Q1 - 1.5 * IQR\n",
        "    upper_bound = Q3 + 1.5 * IQR\n",
        "\n",
        "    # Detecting outliers\n",
        "    outliers = data[(data[column] < lower_bound) | (data[column] > upper_bound)]\n",
        "\n",
        "    outlier_info[column] = {\n",
        "        'Outliers': len(outliers),\n",
        "        'Lower Bound': lower_bound,\n",
        "        'Upper Bound': upper_bound\n",
        "    }\n",
        "\n",
        "    print(f\"Column: {column}\")\n",
        "    print(f\"  Outliers: {outlier_info[column]['Outliers']}, Lower: {lower_bound:.2f}, Upper: {upper_bound:.2f}\")\n",
        "    print(\" \")"
      ],
      "metadata": {
        "colab": {
          "base_uri": "https://localhost:8080/"
        },
        "id": "x2Kro7E2SOkT",
        "outputId": "a2bef685-8e8e-4be7-aa18-ba04da6041e3"
      },
      "execution_count": null,
      "outputs": [
        {
          "output_type": "stream",
          "name": "stdout",
          "text": [
            "Column: QUANTITY\n",
            "  Outliers: 87, Lower: -30370.00, Upper: 50670.00\n",
            " \n"
          ]
        }
      ]
    },
    {
      "cell_type": "markdown",
      "source": [
        "## **Visualization of the Outliers**"
      ],
      "metadata": {
        "id": "T2N_o-fkSSqS"
      }
    },
    {
      "cell_type": "code",
      "source": [
        "# Visualizing the outliers for Quantity\n",
        "plt.figure(figsize=(10, 5))\n",
        "Q1 = data['QUANTITY'].quantile(0.25)\n",
        "Q3 = data['QUANTITY'].quantile(0.75)\n",
        "IQR = Q3 - Q1\n",
        "lower_bound = Q1 - 1.5 * IQR\n",
        "upper_bound = Q3 + 1.5 * IQR\n",
        "\n",
        "sns.boxplot(x=data['QUANTITY'], color='skyblue', flierprops=dict(marker='o', color='red', markersize=5))\n",
        "plt.axvline(lower_bound, color='red', linestyle='--', label='Lower Bound')\n",
        "plt.axvline(upper_bound, color='green', linestyle='--', label='Upper Bound')\n",
        "plt.title('Boxplot of Quantity')\n",
        "plt.xlabel('Quantity')\n",
        "plt.legend()\n",
        "plt.grid(axis='x', alpha=0.75)\n",
        "plt.tight_layout()\n",
        "plt.show()"
      ],
      "metadata": {
        "colab": {
          "base_uri": "https://localhost:8080/",
          "height": 507
        },
        "id": "P5WydpJRSVKG",
        "outputId": "09bc8ade-7234-4666-e9fc-aa53a692e13b"
      },
      "execution_count": null,
      "outputs": [
        {
          "output_type": "display_data",
          "data": {
            "text/plain": [
              "<Figure size 1000x500 with 1 Axes>"
            ],
            "image/png": "[encoded data removed]"
          },
          "metadata": {}
        }
      ]
    },
    {
      "cell_type": "code",
      "source": [
        "# Function to handle outliers by capping\n",
        "def handle_outliers(data, method='cap'):\n",
        "    for column in data.columns:\n",
        "      if column == 'QUANTITY':\n",
        "            lower_bound, upper_bound = -0.31, 0.03\n",
        "            data[column] = data[column].apply(lambda x: min(max(x, lower_bound), upper_bound) if method == 'cap' else x)\n",
        "\n",
        "    return data\n",
        "\n",
        "\n",
        "# Applying the function to handle outliers\n",
        "data = handle_outliers(data.copy(), method='cap')\n",
        "\n",
        "# Displaying the cleaned dataset\n",
        "print(data.head())"
      ],
      "metadata": {
        "colab": {
          "base_uri": "https://localhost:8080/"
        },
        "id": "2vz9KPWOSYVm",
        "outputId": "00f8a068-28c5-48d8-c7fe-d09f94ad6b63"
      },
      "execution_count": null,
      "outputs": [
        {
          "output_type": "stream",
          "name": "stdout",
          "text": [
            "   QUANTITY  HSCODE_2801100000  HSCODE_2801200000  HSCODE_2801200001  \\\n",
            "0      0.03                1.0                0.0                0.0   \n",
            "1      0.03                1.0                0.0                0.0   \n",
            "2      0.03                1.0                0.0                0.0   \n",
            "3      0.03                1.0                0.0                0.0   \n",
            "4      0.03                1.0                0.0                0.0   \n",
            "\n",
            "   HSCODE_2801200002  HSCODE_2801200003  HSCODE_2801200004  HSCODE_2801200005  \\\n",
            "0                0.0                0.0                0.0                0.0   \n",
            "1                0.0                0.0                0.0                0.0   \n",
            "2                0.0                0.0                0.0                0.0   \n",
            "3                0.0                0.0                0.0                0.0   \n",
            "4                0.0                0.0                0.0                0.0   \n",
            "\n",
            "   HSCODE_2801200006  HSCODE_2801200007  ...  DESCRIPTION_03_Chlorine  \\\n",
            "0                0.0                0.0  ...                      1.0   \n",
            "1                0.0                0.0  ...                      1.0   \n",
            "2                0.0                0.0  ...                      1.0   \n",
            "3                0.0                0.0  ...                      1.0   \n",
            "4                0.0                0.0  ...                      1.0   \n",
            "\n",
            "   DESCRIPTION_03_Cyanides and cyanide oxides : Of sodium  \\\n",
            "0                                                0.0        \n",
            "1                                                0.0        \n",
            "2                                                0.0        \n",
            "3                                                0.0        \n",
            "4                                                0.0        \n",
            "\n",
            "   DESCRIPTION_03_Cyanides and cyanide oxides : Other  \\\n",
            "0                                                0.0    \n",
            "1                                                0.0    \n",
            "2                                                0.0    \n",
            "3                                                0.0    \n",
            "4                                                0.0    \n",
            "\n",
            "   DESCRIPTION_03_Fluorides; fluorosilicates, fluoroaluminates, and other complex fluorine salts  \\\n",
            "0                                                0.0                                               \n",
            "1                                                0.0                                               \n",
            "2                                                0.0                                               \n",
            "3                                                0.0                                               \n",
            "4                                                0.0                                               \n",
            "\n",
            "   DESCRIPTION_03_Halides and halide oxides of non metals  \\\n",
            "0                                                0.0        \n",
            "1                                                0.0        \n",
            "2                                                0.0        \n",
            "3                                                0.0        \n",
            "4                                                0.0        \n",
            "\n",
            "   DESCRIPTION_03_Hydrogen peroxide, whether or not solidified with urea  \\\n",
            "0                                                0.0                       \n",
            "1                                                0.0                       \n",
            "2                                                0.0                       \n",
            "3                                                0.0                       \n",
            "4                                                0.0                       \n",
            "\n",
            "   DESCRIPTION_03_Iodine  \\\n",
            "0                    0.0   \n",
            "1                    0.0   \n",
            "2                    0.0   \n",
            "3                    0.0   \n",
            "4                    0.0   \n",
            "\n",
            "   DESCRIPTION_03_Mineral or chemical fertilizers, nitrogenous  \\\n",
            "0                                                0.0             \n",
            "1                                                0.0             \n",
            "2                                                0.0             \n",
            "3                                                0.0             \n",
            "4                                                0.0             \n",
            "\n",
            "   DESCRIPTION_03_Nitric acid; sulphonitric acids  \\\n",
            "0                                             0.0   \n",
            "1                                             0.0   \n",
            "2                                             0.0   \n",
            "3                                             0.0   \n",
            "4                                             0.0   \n",
            "\n",
            "   DESCRIPTION_03_Sulphuric acid; oleum  \n",
            "0                                   0.0  \n",
            "1                                   0.0  \n",
            "2                                   0.0  \n",
            "3                                   0.0  \n",
            "4                                   0.0  \n",
            "\n",
            "[5 rows x 201 columns]\n"
          ]
        }
      ]
    },
    {
      "cell_type": "code",
      "source": [
        "# Step 17: Normalizing Quantity\n",
        "scaler = StandardScaler()\n",
        "quantity_scaled = scaler.fit_transform(data[['QUANTITY']])"
      ],
      "metadata": {
        "id": "iVCXzcdNSasa"
      },
      "execution_count": null,
      "outputs": []
    },
    {
      "cell_type": "code",
      "source": [
        "from sklearn.cluster import KMeans\n",
        "import numpy as np\n",
        "\n",
        "# Assuming 'data' is your DataFrame with relevant features for clustering\n",
        "\n",
        "# Performing K-means clustering\n",
        "kmeans = KMeans(n_clusters=4, random_state=42)\n",
        "clusters = kmeans.fit_predict(data)\n",
        "\n",
        "# Assigning risk levels directly\n",
        "risk_levels = np.array([\"Low Risk\", \"Moderate Risk\", \"High Risk\", \"No Risk\"])\n",
        "data['RISK'] = risk_levels[clusters]\n",
        "\n",
        "print(\"Clustering completed successfully. Risk levels assigned.\")"
      ],
      "metadata": {
        "colab": {
          "base_uri": "https://localhost:8080/"
        },
        "id": "IL6C0ejZSeJd",
        "outputId": "d8089556-81c4-4cf2-c98c-e567454b8d74"
      },
      "execution_count": null,
      "outputs": [
        {
          "output_type": "stream",
          "name": "stdout",
          "text": [
            "Clustering completed successfully. Risk levels assigned.\n"
          ]
        }
      ]
    },
    {
      "cell_type": "code",
      "source": [
        "# Display Dataset Information\n",
        "print(data.info())"
      ],
      "metadata": {
        "colab": {
          "base_uri": "https://localhost:8080/"
        },
        "id": "jWaQ7qyMSjp4",
        "outputId": "cf14c05e-71ff-494e-dd9e-a97730ab71dc"
      },
      "execution_count": null,
      "outputs": [
        {
          "output_type": "stream",
          "name": "stdout",
          "text": [
            "<class 'pandas.core.frame.DataFrame'>\n",
            "RangeIndex: 655 entries, 0 to 654\n",
            "Columns: 202 entries, QUANTITY to RISK\n",
            "dtypes: float64(201), object(1)\n",
            "memory usage: 1.0+ MB\n",
            "None\n"
          ]
        }
      ]
    },
    {
      "cell_type": "code",
      "source": [
        "# Print Unique Values for All Columns\n",
        "for col in data.columns:\n",
        "    print(f\"Unique values in '{col}':\")\n",
        "    print(data[col].unique())\n",
        "    print('-' * 40)"
      ],
      "metadata": {
        "colab": {
          "base_uri": "https://localhost:8080/"
        },
        "id": "kDpR3F5ySlok",
        "outputId": "29885828-c931-4562-c2e5-55200e9490ed"
      },
      "execution_count": null,
      "outputs": [
        {
          "output_type": "stream",
          "name": "stdout",
          "text": [
            "Unique values in 'QUANTITY':\n",
            "[0.03 0.  ]\n",
            "----------------------------------------\n",
            "Unique values in 'HSCODE_2801100000':\n",
            "[1. 0.]\n",
            "----------------------------------------\n",
            "Unique values in 'HSCODE_2801200000':\n",
            "[0. 1.]\n",
            "----------------------------------------\n",
            "Unique values in 'HSCODE_2801200001':\n",
            "[0. 1.]\n",
            "----------------------------------------\n",
            "Unique values in 'HSCODE_2801200002':\n",
            "[0. 1.]\n",
            "----------------------------------------\n",
            "Unique values in 'HSCODE_2801200003':\n",
            "[0. 1.]\n",
            "----------------------------------------\n",
            "Unique values in 'HSCODE_2801200004':\n",
            "[0. 1.]\n",
            "----------------------------------------\n",
            "Unique values in 'HSCODE_2801200005':\n",
            "[0. 1.]\n",
            "----------------------------------------\n",
            "Unique values in 'HSCODE_2801200006':\n",
            "[0. 1.]\n",
            "----------------------------------------\n",
            "Unique values in 'HSCODE_2801200007':\n",
            "[0. 1.]\n",
            "----------------------------------------\n",
            "Unique values in 'HSCODE_2801200008':\n",
            "[0. 1.]\n",
            "----------------------------------------\n",
            "Unique values in 'HSCODE_2801200009':\n",
            "[0. 1.]\n",
            "----------------------------------------\n",
            "Unique values in 'HSCODE_2801200010':\n",
            "[0. 1.]\n",
            "----------------------------------------\n",
            "Unique values in 'HSCODE_2801200011':\n",
            "[0. 1.]\n",
            "----------------------------------------\n",
            "Unique values in 'HSCODE_2801200012':\n",
            "[0. 1.]\n",
            "----------------------------------------\n",
            "Unique values in 'HSCODE_2801200013':\n",
            "[0. 1.]\n",
            "----------------------------------------\n",
            "Unique values in 'HSCODE_2801200014':\n",
            "[0. 1.]\n",
            "----------------------------------------\n",
            "Unique values in 'HSCODE_2801200015':\n",
            "[0. 1.]\n",
            "----------------------------------------\n",
            "Unique values in 'HSCODE_2801200016':\n",
            "[0. 1.]\n",
            "----------------------------------------\n",
            "Unique values in 'HSCODE_2801200017':\n",
            "[0. 1.]\n",
            "----------------------------------------\n",
            "Unique values in 'HSCODE_2801200018':\n",
            "[0. 1.]\n",
            "----------------------------------------\n",
            "Unique values in 'HSCODE_2801200019':\n",
            "[0. 1.]\n",
            "----------------------------------------\n",
            "Unique values in 'HSCODE_2801200020':\n",
            "[0. 1.]\n",
            "----------------------------------------\n",
            "Unique values in 'HSCODE_2801200021':\n",
            "[0. 1.]\n",
            "----------------------------------------\n",
            "Unique values in 'HSCODE_2801200022':\n",
            "[0. 1.]\n",
            "----------------------------------------\n",
            "Unique values in 'HSCODE_2801200023':\n",
            "[0. 1.]\n",
            "----------------------------------------\n",
            "Unique values in 'HSCODE_2801200024':\n",
            "[0. 1.]\n",
            "----------------------------------------\n",
            "Unique values in 'HSCODE_2801200025':\n",
            "[0. 1.]\n",
            "----------------------------------------\n",
            "Unique values in 'HSCODE_2801200026':\n",
            "[0. 1.]\n",
            "----------------------------------------\n",
            "Unique values in 'HSCODE_2801200027':\n",
            "[0. 1.]\n",
            "----------------------------------------\n",
            "Unique values in 'HSCODE_2801200028':\n",
            "[0. 1.]\n",
            "----------------------------------------\n",
            "Unique values in 'HSCODE_2801200029':\n",
            "[0. 1.]\n",
            "----------------------------------------\n",
            "Unique values in 'HSCODE_2801200030':\n",
            "[0. 1.]\n",
            "----------------------------------------\n",
            "Unique values in 'HSCODE_2801200031':\n",
            "[0. 1.]\n",
            "----------------------------------------\n",
            "Unique values in 'HSCODE_2801200032':\n",
            "[0. 1.]\n",
            "----------------------------------------\n",
            "Unique values in 'HSCODE_2801200033':\n",
            "[0. 1.]\n",
            "----------------------------------------\n",
            "Unique values in 'HSCODE_2801200034':\n",
            "[0. 1.]\n",
            "----------------------------------------\n",
            "Unique values in 'HSCODE_2801200035':\n",
            "[0. 1.]\n",
            "----------------------------------------\n",
            "Unique values in 'HSCODE_2801200036':\n",
            "[0. 1.]\n",
            "----------------------------------------\n",
            "Unique values in 'HSCODE_2801200037':\n",
            "[0. 1.]\n",
            "----------------------------------------\n",
            "Unique values in 'HSCODE_2801200038':\n",
            "[0. 1.]\n",
            "----------------------------------------\n",
            "Unique values in 'HSCODE_2801200039':\n",
            "[0. 1.]\n",
            "----------------------------------------\n",
            "Unique values in 'HSCODE_2801200040':\n",
            "[0. 1.]\n",
            "----------------------------------------\n",
            "Unique values in 'HSCODE_2801200041':\n",
            "[0. 1.]\n",
            "----------------------------------------\n",
            "Unique values in 'HSCODE_2801200042':\n",
            "[0. 1.]\n",
            "----------------------------------------\n",
            "Unique values in 'HSCODE_2801200043':\n",
            "[0. 1.]\n",
            "----------------------------------------\n",
            "Unique values in 'HSCODE_2801200044':\n",
            "[0. 1.]\n",
            "----------------------------------------\n",
            "Unique values in 'HSCODE_2801200045':\n",
            "[0. 1.]\n",
            "----------------------------------------\n",
            "Unique values in 'HSCODE_2801200046':\n",
            "[0. 1.]\n",
            "----------------------------------------\n",
            "Unique values in 'HSCODE_2801200047':\n",
            "[0. 1.]\n",
            "----------------------------------------\n",
            "Unique values in 'HSCODE_2801200048':\n",
            "[0. 1.]\n",
            "----------------------------------------\n",
            "Unique values in 'HSCODE_2801200049':\n",
            "[0. 1.]\n",
            "----------------------------------------\n",
            "Unique values in 'HSCODE_2801200050':\n",
            "[0. 1.]\n",
            "----------------------------------------\n",
            "Unique values in 'HSCODE_2801200051':\n",
            "[0. 1.]\n",
            "----------------------------------------\n",
            "Unique values in 'HSCODE_2801200052':\n",
            "[0. 1.]\n",
            "----------------------------------------\n",
            "Unique values in 'HSCODE_2801200053':\n",
            "[0. 1.]\n",
            "----------------------------------------\n",
            "Unique values in 'HSCODE_2801200054':\n",
            "[0. 1.]\n",
            "----------------------------------------\n",
            "Unique values in 'HSCODE_2801200055':\n",
            "[0. 1.]\n",
            "----------------------------------------\n",
            "Unique values in 'HSCODE_2801200056':\n",
            "[0. 1.]\n",
            "----------------------------------------\n",
            "Unique values in 'HSCODE_2801200057':\n",
            "[0. 1.]\n",
            "----------------------------------------\n",
            "Unique values in 'HSCODE_2801200058':\n",
            "[0. 1.]\n",
            "----------------------------------------\n",
            "Unique values in 'HSCODE_2801200059':\n",
            "[0. 1.]\n",
            "----------------------------------------\n",
            "Unique values in 'HSCODE_2801200060':\n",
            "[0. 1.]\n",
            "----------------------------------------\n",
            "Unique values in 'HSCODE_2801200061':\n",
            "[0. 1.]\n",
            "----------------------------------------\n",
            "Unique values in 'HSCODE_2801200062':\n",
            "[0. 1.]\n",
            "----------------------------------------\n",
            "Unique values in 'HSCODE_2801200063':\n",
            "[0. 1.]\n",
            "----------------------------------------\n",
            "Unique values in 'HSCODE_2801302000':\n",
            "[0. 1.]\n",
            "----------------------------------------\n",
            "Unique values in 'HSCODE_2807001000':\n",
            "[0. 1.]\n",
            "----------------------------------------\n",
            "Unique values in 'HSCODE_2807002000':\n",
            "[0. 1.]\n",
            "----------------------------------------\n",
            "Unique values in 'HSCODE_2807009000':\n",
            "[0. 1.]\n",
            "----------------------------------------\n",
            "Unique values in 'HSCODE_2808000000':\n",
            "[0. 1.]\n",
            "----------------------------------------\n",
            "Unique values in 'HSCODE_2808001000':\n",
            "[0. 1.]\n",
            "----------------------------------------\n",
            "Unique values in 'HSCODE_2812101000':\n",
            "[0. 1.]\n",
            "----------------------------------------\n",
            "Unique values in 'HSCODE_2812101100':\n",
            "[0. 1.]\n",
            "----------------------------------------\n",
            "Unique values in 'HSCODE_2812104200':\n",
            "[0. 1.]\n",
            "----------------------------------------\n",
            "Unique values in 'HSCODE_2812104300':\n",
            "[0. 1.]\n",
            "----------------------------------------\n",
            "Unique values in 'HSCODE_2812104700':\n",
            "[0. 1.]\n",
            "----------------------------------------\n",
            "Unique values in 'HSCODE_2812105000':\n",
            "[0. 1.]\n",
            "----------------------------------------\n",
            "Unique values in 'HSCODE_2812109000':\n",
            "[0. 1.]\n",
            "----------------------------------------\n",
            "Unique values in 'HSCODE_2812109900':\n",
            "[0. 1.]\n",
            "----------------------------------------\n",
            "Unique values in 'HSCODE_2812120000':\n",
            "[0. 1.]\n",
            "----------------------------------------\n",
            "Unique values in 'HSCODE_2812160000':\n",
            "[0. 1.]\n",
            "----------------------------------------\n",
            "Unique values in 'HSCODE_2812170000':\n",
            "[0. 1.]\n",
            "----------------------------------------\n",
            "Unique values in 'HSCODE_2812190000':\n",
            "[0. 1.]\n",
            "----------------------------------------\n",
            "Unique values in 'HSCODE_2812191900':\n",
            "[0. 1.]\n",
            "----------------------------------------\n",
            "Unique values in 'HSCODE_2812199000':\n",
            "[0. 1.]\n",
            "----------------------------------------\n",
            "Unique values in 'HSCODE_2812900000':\n",
            "[0. 1.]\n",
            "----------------------------------------\n",
            "Unique values in 'HSCODE_2826120000':\n",
            "[0. 1.]\n",
            "----------------------------------------\n",
            "Unique values in 'HSCODE_2826190000':\n",
            "[0. 1.]\n",
            "----------------------------------------\n",
            "Unique values in 'HSCODE_2826191000':\n",
            "[0. 1.]\n",
            "----------------------------------------\n",
            "Unique values in 'HSCODE_2826199000':\n",
            "[0. 1.]\n",
            "----------------------------------------\n",
            "Unique values in 'HSCODE_2826300000':\n",
            "[0. 1.]\n",
            "----------------------------------------\n",
            "Unique values in 'HSCODE_2826900000':\n",
            "[0. 1.]\n",
            "----------------------------------------\n",
            "Unique values in 'HSCODE_2826908000':\n",
            "[0. 1.]\n",
            "----------------------------------------\n",
            "Unique values in 'HSCODE_2829110000':\n",
            "[0. 1.]\n",
            "----------------------------------------\n",
            "Unique values in 'HSCODE_2829190000':\n",
            "[0. 1.]\n",
            "----------------------------------------\n",
            "Unique values in 'HSCODE_2829192000':\n",
            "[0. 1.]\n",
            "----------------------------------------\n",
            "Unique values in 'HSCODE_2829901000':\n",
            "[0. 1.]\n",
            "----------------------------------------\n",
            "Unique values in 'HSCODE_2829902000':\n",
            "[0. 1.]\n",
            "----------------------------------------\n",
            "Unique values in 'HSCODE_2829903000':\n",
            "[0. 1.]\n",
            "----------------------------------------\n",
            "Unique values in 'HSCODE_2829908000':\n",
            "[0. 1.]\n",
            "----------------------------------------\n",
            "Unique values in 'HSCODE_2829909000':\n",
            "[0. 1.]\n",
            "----------------------------------------\n",
            "Unique values in 'HSCODE_2837110000':\n",
            "[0. 1.]\n",
            "----------------------------------------\n",
            "Unique values in 'HSCODE_2837190000':\n",
            "[0. 1.]\n",
            "----------------------------------------\n",
            "Unique values in 'HSCODE_2837191000':\n",
            "[0. 1.]\n",
            "----------------------------------------\n",
            "Unique values in 'HSCODE_2837199000':\n",
            "[0. 1.]\n",
            "----------------------------------------\n",
            "Unique values in 'HSCODE_2837202000':\n",
            "[0. 1.]\n",
            "----------------------------------------\n",
            "Unique values in 'HSCODE_2837209000':\n",
            "[0. 1.]\n",
            "----------------------------------------\n",
            "Unique values in 'HSCODE_2847000000':\n",
            "[0. 1.]\n",
            "----------------------------------------\n",
            "Unique values in 'HSCODE_3102100000':\n",
            "[0. 1.]\n",
            "----------------------------------------\n",
            "Unique values in 'HSCODE_3102101000':\n",
            "[0. 1.]\n",
            "----------------------------------------\n",
            "Unique values in 'HSCODE_3102210000':\n",
            "[0. 1.]\n",
            "----------------------------------------\n",
            "Unique values in 'HSCODE_3102299000':\n",
            "[0. 1.]\n",
            "----------------------------------------\n",
            "Unique values in 'HSCODE_3102401000':\n",
            "[0. 1.]\n",
            "----------------------------------------\n",
            "Unique values in 'HSCODE_3102500000':\n",
            "[0. 1.]\n",
            "----------------------------------------\n",
            "Unique values in 'HSCODE_3102600000':\n",
            "[0. 1.]\n",
            "----------------------------------------\n",
            "Unique values in 'HSCODE_3102600100':\n",
            "[0. 1.]\n",
            "----------------------------------------\n",
            "Unique values in 'HSCODE_3102909000':\n",
            "[0. 1.]\n",
            "----------------------------------------\n",
            "Unique values in 'COUNTRY_ARGENTINA':\n",
            "[0. 1.]\n",
            "----------------------------------------\n",
            "Unique values in 'COUNTRY_AUSTRIA':\n",
            "[0. 1.]\n",
            "----------------------------------------\n",
            "Unique values in 'COUNTRY_BANGLADESH':\n",
            "[1. 0.]\n",
            "----------------------------------------\n",
            "Unique values in 'COUNTRY_BELGIUM':\n",
            "[0. 1.]\n",
            "----------------------------------------\n",
            "Unique values in 'COUNTRY_BRAZIL':\n",
            "[0. 1.]\n",
            "----------------------------------------\n",
            "Unique values in 'COUNTRY_CAMBODIA':\n",
            "[0. 1.]\n",
            "----------------------------------------\n",
            "Unique values in 'COUNTRY_CANADA':\n",
            "[0. 1.]\n",
            "----------------------------------------\n",
            "Unique values in 'COUNTRY_CHILE':\n",
            "[0. 1.]\n",
            "----------------------------------------\n",
            "Unique values in 'COUNTRY_CHINA':\n",
            "[0. 1.]\n",
            "----------------------------------------\n",
            "Unique values in 'COUNTRY_COLOMBIA':\n",
            "[0. 1.]\n",
            "----------------------------------------\n",
            "Unique values in 'COUNTRY_DENMARK':\n",
            "[0. 1.]\n",
            "----------------------------------------\n",
            "Unique values in 'COUNTRY_EGYPT':\n",
            "[0. 1.]\n",
            "----------------------------------------\n",
            "Unique values in 'COUNTRY_FRANCE':\n",
            "[0. 1.]\n",
            "----------------------------------------\n",
            "Unique values in 'COUNTRY_GEORGIA':\n",
            "[0. 1.]\n",
            "----------------------------------------\n",
            "Unique values in 'COUNTRY_GERMANY':\n",
            "[0. 1.]\n",
            "----------------------------------------\n",
            "Unique values in 'COUNTRY_GERMENY':\n",
            "[0. 1.]\n",
            "----------------------------------------\n",
            "Unique values in 'COUNTRY_INDIA':\n",
            "[0. 1.]\n",
            "----------------------------------------\n",
            "Unique values in 'COUNTRY_INDONESIA':\n",
            "[0. 1.]\n",
            "----------------------------------------\n",
            "Unique values in 'COUNTRY_ISRAEL':\n",
            "[0. 1.]\n",
            "----------------------------------------\n",
            "Unique values in 'COUNTRY_ITALY':\n",
            "[0. 1.]\n",
            "----------------------------------------\n",
            "Unique values in 'COUNTRY_JAPAN':\n",
            "[0. 1.]\n",
            "----------------------------------------\n",
            "Unique values in 'COUNTRY_KAZAKHSTAN':\n",
            "[0. 1.]\n",
            "----------------------------------------\n",
            "Unique values in 'COUNTRY_KENYA':\n",
            "[0. 1.]\n",
            "----------------------------------------\n",
            "Unique values in 'COUNTRY_KOREA,REPUBLIC OF':\n",
            "[0. 1.]\n",
            "----------------------------------------\n",
            "Unique values in 'COUNTRY_MALAYSIA':\n",
            "[0. 1.]\n",
            "----------------------------------------\n",
            "Unique values in 'COUNTRY_MEXICO':\n",
            "[0. 1.]\n",
            "----------------------------------------\n",
            "Unique values in 'COUNTRY_NETHERLANDS (HOLAND)':\n",
            "[0. 1.]\n",
            "----------------------------------------\n",
            "Unique values in 'COUNTRY_NIGERIA':\n",
            "[0. 1.]\n",
            "----------------------------------------\n",
            "Unique values in 'COUNTRY_PAKISTAN':\n",
            "[0. 1.]\n",
            "----------------------------------------\n",
            "Unique values in 'COUNTRY_ROMANIA':\n",
            "[0. 1.]\n",
            "----------------------------------------\n",
            "Unique values in 'COUNTRY_RUSSIA':\n",
            "[0. 1.]\n",
            "----------------------------------------\n",
            "Unique values in 'COUNTRY_SAUDI ARABIA':\n",
            "[0. 1.]\n",
            "----------------------------------------\n",
            "Unique values in 'COUNTRY_SINGAPORE':\n",
            "[0. 1.]\n",
            "----------------------------------------\n",
            "Unique values in 'COUNTRY_SLOVAKIA':\n",
            "[0. 1.]\n",
            "----------------------------------------\n",
            "Unique values in 'COUNTRY_SLOVENIA':\n",
            "[0. 1.]\n",
            "----------------------------------------\n",
            "Unique values in 'COUNTRY_SOUTH AFRICA':\n",
            "[0. 1.]\n",
            "----------------------------------------\n",
            "Unique values in 'COUNTRY_SOUTH KOREA':\n",
            "[0. 1.]\n",
            "----------------------------------------\n",
            "Unique values in 'COUNTRY_SPAIN':\n",
            "[0. 1.]\n",
            "----------------------------------------\n",
            "Unique values in 'COUNTRY_SRI LANKA':\n",
            "[0. 1.]\n",
            "----------------------------------------\n",
            "Unique values in 'COUNTRY_SWITZERLAND':\n",
            "[0. 1.]\n",
            "----------------------------------------\n",
            "Unique values in 'COUNTRY_TAIWAN':\n",
            "[0. 1.]\n",
            "----------------------------------------\n",
            "Unique values in 'COUNTRY_THAILAND':\n",
            "[0. 1.]\n",
            "----------------------------------------\n",
            "Unique values in 'COUNTRY_TURKMENISTAN':\n",
            "[0. 1.]\n",
            "----------------------------------------\n",
            "Unique values in 'COUNTRY_UK':\n",
            "[0. 1.]\n",
            "----------------------------------------\n",
            "Unique values in 'COUNTRY_UKRAINE':\n",
            "[0. 1.]\n",
            "----------------------------------------\n",
            "Unique values in 'COUNTRY_UNITED ARAB EMIRATES':\n",
            "[0. 1.]\n",
            "----------------------------------------\n",
            "Unique values in 'COUNTRY_UNITED KINGDOM':\n",
            "[0. 1.]\n",
            "----------------------------------------\n",
            "Unique values in 'COUNTRY_UNITED STATES':\n",
            "[0. 1.]\n",
            "----------------------------------------\n",
            "Unique values in 'COUNTRY_URUGUAY':\n",
            "[0. 1.]\n",
            "----------------------------------------\n",
            "Unique values in 'COUNTRY_US VIRGIN ISLANDS':\n",
            "[0. 1.]\n",
            "----------------------------------------\n",
            "Unique values in 'COUNTRY_USA':\n",
            "[0. 1.]\n",
            "----------------------------------------\n",
            "Unique values in 'COUNTRY_VIETNAM':\n",
            "[0. 1.]\n",
            "----------------------------------------\n",
            "Unique values in 'UNIT_DRM':\n",
            "[0. 1.]\n",
            "----------------------------------------\n",
            "Unique values in 'UNIT_GMS':\n",
            "[0. 1.]\n",
            "----------------------------------------\n",
            "Unique values in 'UNIT_KG':\n",
            "[1. 0.]\n",
            "----------------------------------------\n",
            "Unique values in 'UNIT_KGS':\n",
            "[0. 1.]\n",
            "----------------------------------------\n",
            "Unique values in 'UNIT_LTR':\n",
            "[0. 1.]\n",
            "----------------------------------------\n",
            "Unique values in 'UNIT_MTS':\n",
            "[0. 1.]\n",
            "----------------------------------------\n",
            "Unique values in 'UNIT_NOS':\n",
            "[0. 1.]\n",
            "----------------------------------------\n",
            "Unique values in 'UNIT_PCS':\n",
            "[0. 1.]\n",
            "----------------------------------------\n",
            "Unique values in 'DESCRIPTION_01_Fertilizers':\n",
            "[0. 1.]\n",
            "----------------------------------------\n",
            "Unique values in 'DESCRIPTION_01_Inorganic chemicals; Organic or inorganic compounds of precious metals, of rare earth metals, of radioactive elements or of isotopes':\n",
            "[1. 0.]\n",
            "----------------------------------------\n",
            "Unique values in 'DESCRIPTION_02_Chlorates and perchlorates; bromates and perbromates; iodates and periodates':\n",
            "[0. 1.]\n",
            "----------------------------------------\n",
            "Unique values in 'DESCRIPTION_02_Cyanides, cyanide oxides and complex cyanides':\n",
            "[0. 1.]\n",
            "----------------------------------------\n",
            "Unique values in 'DESCRIPTION_02_Fluorides; fluorosilicates, fluoroaluminates, and other complex fluorine salts':\n",
            "[0. 1.]\n",
            "----------------------------------------\n",
            "Unique values in 'DESCRIPTION_02_Fluorine, chlorine, bromine and iodine':\n",
            "[1. 0.]\n",
            "----------------------------------------\n",
            "Unique values in 'DESCRIPTION_02_Halides and halide oxides of non metals':\n",
            "[0. 1.]\n",
            "----------------------------------------\n",
            "Unique values in 'DESCRIPTION_02_Hydrogen peroxide, whether or not solidified with urea':\n",
            "[0. 1.]\n",
            "----------------------------------------\n",
            "Unique values in 'DESCRIPTION_02_Mineral or chemical fertilizers, nitrogenous':\n",
            "[0. 1.]\n",
            "----------------------------------------\n",
            "Unique values in 'DESCRIPTION_02_Nitric acid; sulphonitric acids':\n",
            "[0. 1.]\n",
            "----------------------------------------\n",
            "Unique values in 'DESCRIPTION_02_Sulphuric acid; oleum':\n",
            "[0. 1.]\n",
            "----------------------------------------\n",
            "Unique values in 'DESCRIPTION_03_Bromine':\n",
            "[0. 1.]\n",
            "----------------------------------------\n",
            "Unique values in 'DESCRIPTION_03_Chlorates and perchlorates; bromates and perbromates; iodates and periodates':\n",
            "[0. 1.]\n",
            "----------------------------------------\n",
            "Unique values in 'DESCRIPTION_03_Chlorine':\n",
            "[1. 0.]\n",
            "----------------------------------------\n",
            "Unique values in 'DESCRIPTION_03_Cyanides and cyanide oxides : Of sodium':\n",
            "[0. 1.]\n",
            "----------------------------------------\n",
            "Unique values in 'DESCRIPTION_03_Cyanides and cyanide oxides : Other':\n",
            "[0. 1.]\n",
            "----------------------------------------\n",
            "Unique values in 'DESCRIPTION_03_Fluorides; fluorosilicates, fluoroaluminates, and other complex fluorine salts':\n",
            "[0. 1.]\n",
            "----------------------------------------\n",
            "Unique values in 'DESCRIPTION_03_Halides and halide oxides of non metals':\n",
            "[0. 1.]\n",
            "----------------------------------------\n",
            "Unique values in 'DESCRIPTION_03_Hydrogen peroxide, whether or not solidified with urea':\n",
            "[0. 1.]\n",
            "----------------------------------------\n",
            "Unique values in 'DESCRIPTION_03_Iodine':\n",
            "[0. 1.]\n",
            "----------------------------------------\n",
            "Unique values in 'DESCRIPTION_03_Mineral or chemical fertilizers, nitrogenous':\n",
            "[0. 1.]\n",
            "----------------------------------------\n",
            "Unique values in 'DESCRIPTION_03_Nitric acid; sulphonitric acids':\n",
            "[0. 1.]\n",
            "----------------------------------------\n",
            "Unique values in 'DESCRIPTION_03_Sulphuric acid; oleum':\n",
            "[0. 1.]\n",
            "----------------------------------------\n",
            "Unique values in 'RISK':\n",
            "['Low Risk' 'High Risk' 'Moderate Risk' 'No Risk']\n",
            "----------------------------------------\n"
          ]
        }
      ]
    },
    {
      "cell_type": "code",
      "source": [
        "# Saving the Preprocessed Code\n",
        "data.to_csv('/content/drive/MyDrive/Importer_Risk_Prediction_2/Dataset/Preprocessed_before_data.csv', index=False)"
      ],
      "metadata": {
        "id": "04LU5ku_cADD"
      },
      "execution_count": null,
      "outputs": []
    },
    {
      "cell_type": "code",
      "source": [
        "# Check if 'RISK' column is present\n",
        "if 'RISK' not in data.columns:\n",
        "    raise ValueError(\"Column 'RISK' not found in the dataset\")\n",
        "\n",
        "# Convert RISK column to string type (if not already)\n",
        "data['RISK'] = data['RISK'].astype(str)\n",
        "\n",
        "# Debug: Check unique values\n",
        "print(\"Unique Values in RISK:\", data['RISK'].unique())\n",
        "\n",
        "# Initialize Label Encoder\n",
        "label_encoder = LabelEncoder()\n",
        "\n",
        "# Fit and transform the RISK column\n",
        "data['RISK'] = label_encoder.fit_transform(data['RISK'])\n",
        "\n",
        "# Debug: Check unique encoded labels\n",
        "print(\"Encoded Labels:\", label_encoder.classes_)\n",
        "\n",
        "# Save the Encoder using joblib\n",
        "joblib.dump(label_encoder, '/content/drive/MyDrive/Importer_Risk_Prediction_2/encoders/label_encoder.pkl')\n",
        "print(\"Label Encoder model saved as 'label_encoder.pkl'\")\n",
        "\n",
        "# Preview Final Data\n",
        "print(data.head())"
      ],
      "metadata": {
        "colab": {
          "base_uri": "https://localhost:8080/"
        },
        "id": "KcCQh34TSoRa",
        "outputId": "30567580-0fd1-4b2f-d89e-bec412a2660a"
      },
      "execution_count": null,
      "outputs": [
        {
          "output_type": "stream",
          "name": "stdout",
          "text": [
            "Unique Values in RISK: ['Low Risk' 'High Risk' 'Moderate Risk' 'No Risk']\n",
            "Encoded Labels: ['High Risk' 'Low Risk' 'Moderate Risk' 'No Risk']\n",
            "Label Encoder model saved as 'label_encoder.pkl'\n",
            "   QUANTITY  HSCODE_2801100000  HSCODE_2801200000  HSCODE_2801200001  \\\n",
            "0      0.03                1.0                0.0                0.0   \n",
            "1      0.03                1.0                0.0                0.0   \n",
            "2      0.03                1.0                0.0                0.0   \n",
            "3      0.03                1.0                0.0                0.0   \n",
            "4      0.03                1.0                0.0                0.0   \n",
            "\n",
            "   HSCODE_2801200002  HSCODE_2801200003  HSCODE_2801200004  HSCODE_2801200005  \\\n",
            "0                0.0                0.0                0.0                0.0   \n",
            "1                0.0                0.0                0.0                0.0   \n",
            "2                0.0                0.0                0.0                0.0   \n",
            "3                0.0                0.0                0.0                0.0   \n",
            "4                0.0                0.0                0.0                0.0   \n",
            "\n",
            "   HSCODE_2801200006  HSCODE_2801200007  ...  \\\n",
            "0                0.0                0.0  ...   \n",
            "1                0.0                0.0  ...   \n",
            "2                0.0                0.0  ...   \n",
            "3                0.0                0.0  ...   \n",
            "4                0.0                0.0  ...   \n",
            "\n",
            "   DESCRIPTION_03_Cyanides and cyanide oxides : Of sodium  \\\n",
            "0                                                0.0        \n",
            "1                                                0.0        \n",
            "2                                                0.0        \n",
            "3                                                0.0        \n",
            "4                                                0.0        \n",
            "\n",
            "   DESCRIPTION_03_Cyanides and cyanide oxides : Other  \\\n",
            "0                                                0.0    \n",
            "1                                                0.0    \n",
            "2                                                0.0    \n",
            "3                                                0.0    \n",
            "4                                                0.0    \n",
            "\n",
            "   DESCRIPTION_03_Fluorides; fluorosilicates, fluoroaluminates, and other complex fluorine salts  \\\n",
            "0                                                0.0                                               \n",
            "1                                                0.0                                               \n",
            "2                                                0.0                                               \n",
            "3                                                0.0                                               \n",
            "4                                                0.0                                               \n",
            "\n",
            "   DESCRIPTION_03_Halides and halide oxides of non metals  \\\n",
            "0                                                0.0        \n",
            "1                                                0.0        \n",
            "2                                                0.0        \n",
            "3                                                0.0        \n",
            "4                                                0.0        \n",
            "\n",
            "   DESCRIPTION_03_Hydrogen peroxide, whether or not solidified with urea  \\\n",
            "0                                                0.0                       \n",
            "1                                                0.0                       \n",
            "2                                                0.0                       \n",
            "3                                                0.0                       \n",
            "4                                                0.0                       \n",
            "\n",
            "   DESCRIPTION_03_Iodine  \\\n",
            "0                    0.0   \n",
            "1                    0.0   \n",
            "2                    0.0   \n",
            "3                    0.0   \n",
            "4                    0.0   \n",
            "\n",
            "   DESCRIPTION_03_Mineral or chemical fertilizers, nitrogenous  \\\n",
            "0                                                0.0             \n",
            "1                                                0.0             \n",
            "2                                                0.0             \n",
            "3                                                0.0             \n",
            "4                                                0.0             \n",
            "\n",
            "   DESCRIPTION_03_Nitric acid; sulphonitric acids  \\\n",
            "0                                             0.0   \n",
            "1                                             0.0   \n",
            "2                                             0.0   \n",
            "3                                             0.0   \n",
            "4                                             0.0   \n",
            "\n",
            "   DESCRIPTION_03_Sulphuric acid; oleum  RISK  \n",
            "0                                   0.0     1  \n",
            "1                                   0.0     1  \n",
            "2                                   0.0     1  \n",
            "3                                   0.0     1  \n",
            "4                                   0.0     1  \n",
            "\n",
            "[5 rows x 202 columns]\n"
          ]
        }
      ]
    },
    {
      "cell_type": "code",
      "source": [
        "# Display the Dataset head\n",
        "print(data.head())"
      ],
      "metadata": {
        "colab": {
          "base_uri": "https://localhost:8080/"
        },
        "id": "VNR-okz4cQGs",
        "outputId": "9676de88-c0ad-493f-e212-3840d214dfee"
      },
      "execution_count": null,
      "outputs": [
        {
          "output_type": "stream",
          "name": "stdout",
          "text": [
            "   QUANTITY  HSCODE_2801100000  HSCODE_2801200000  HSCODE_2801200001  \\\n",
            "0      0.03                1.0                0.0                0.0   \n",
            "1      0.03                1.0                0.0                0.0   \n",
            "2      0.03                1.0                0.0                0.0   \n",
            "3      0.03                1.0                0.0                0.0   \n",
            "4      0.03                1.0                0.0                0.0   \n",
            "\n",
            "   HSCODE_2801200002  HSCODE_2801200003  HSCODE_2801200004  HSCODE_2801200005  \\\n",
            "0                0.0                0.0                0.0                0.0   \n",
            "1                0.0                0.0                0.0                0.0   \n",
            "2                0.0                0.0                0.0                0.0   \n",
            "3                0.0                0.0                0.0                0.0   \n",
            "4                0.0                0.0                0.0                0.0   \n",
            "\n",
            "   HSCODE_2801200006  HSCODE_2801200007  ...  \\\n",
            "0                0.0                0.0  ...   \n",
            "1                0.0                0.0  ...   \n",
            "2                0.0                0.0  ...   \n",
            "3                0.0                0.0  ...   \n",
            "4                0.0                0.0  ...   \n",
            "\n",
            "   DESCRIPTION_03_Cyanides and cyanide oxides : Of sodium  \\\n",
            "0                                                0.0        \n",
            "1                                                0.0        \n",
            "2                                                0.0        \n",
            "3                                                0.0        \n",
            "4                                                0.0        \n",
            "\n",
            "   DESCRIPTION_03_Cyanides and cyanide oxides : Other  \\\n",
            "0                                                0.0    \n",
            "1                                                0.0    \n",
            "2                                                0.0    \n",
            "3                                                0.0    \n",
            "4                                                0.0    \n",
            "\n",
            "   DESCRIPTION_03_Fluorides; fluorosilicates, fluoroaluminates, and other complex fluorine salts  \\\n",
            "0                                                0.0                                               \n",
            "1                                                0.0                                               \n",
            "2                                                0.0                                               \n",
            "3                                                0.0                                               \n",
            "4                                                0.0                                               \n",
            "\n",
            "   DESCRIPTION_03_Halides and halide oxides of non metals  \\\n",
            "0                                                0.0        \n",
            "1                                                0.0        \n",
            "2                                                0.0        \n",
            "3                                                0.0        \n",
            "4                                                0.0        \n",
            "\n",
            "   DESCRIPTION_03_Hydrogen peroxide, whether or not solidified with urea  \\\n",
            "0                                                0.0                       \n",
            "1                                                0.0                       \n",
            "2                                                0.0                       \n",
            "3                                                0.0                       \n",
            "4                                                0.0                       \n",
            "\n",
            "   DESCRIPTION_03_Iodine  \\\n",
            "0                    0.0   \n",
            "1                    0.0   \n",
            "2                    0.0   \n",
            "3                    0.0   \n",
            "4                    0.0   \n",
            "\n",
            "   DESCRIPTION_03_Mineral or chemical fertilizers, nitrogenous  \\\n",
            "0                                                0.0             \n",
            "1                                                0.0             \n",
            "2                                                0.0             \n",
            "3                                                0.0             \n",
            "4                                                0.0             \n",
            "\n",
            "   DESCRIPTION_03_Nitric acid; sulphonitric acids  \\\n",
            "0                                             0.0   \n",
            "1                                             0.0   \n",
            "2                                             0.0   \n",
            "3                                             0.0   \n",
            "4                                             0.0   \n",
            "\n",
            "   DESCRIPTION_03_Sulphuric acid; oleum  RISK  \n",
            "0                                   0.0     1  \n",
            "1                                   0.0     1  \n",
            "2                                   0.0     1  \n",
            "3                                   0.0     1  \n",
            "4                                   0.0     1  \n",
            "\n",
            "[5 rows x 202 columns]\n"
          ]
        }
      ]
    },
    {
      "cell_type": "code",
      "source": [
        "# Set Style\n",
        "plt.figure(figsize=(8, 6))\n",
        "sns.countplot(x='RISK', data=data, palette='viridis')\n",
        "plt.title('Target Variable Distribution')\n",
        "plt.xlabel('Risk Category')\n",
        "plt.ylabel('Count')\n",
        "plt.show()"
      ],
      "metadata": {
        "colab": {
          "base_uri": "https://localhost:8080/",
          "height": 564
        },
        "id": "fxtA0Xa2SqE7",
        "outputId": "8ba17ed6-74f4-401b-a81f-01ba9eac49e9"
      },
      "execution_count": null,
      "outputs": [
        {
          "output_type": "display_data",
          "data": {
            "text/plain": [
              "<Figure size 800x600 with 1 Axes>"
            ],
            "image/png": "[encoded data removed]"
          },
          "metadata": {}
        }
      ]
    },
    {
      "cell_type": "code",
      "source": [
        "# Features (X) and Target (y)\n",
        "X = data.drop(['RISK'], axis=1)\n",
        "y = data['RISK']"
      ],
      "metadata": {
        "id": "nN6JBsU0Ssj9"
      },
      "execution_count": null,
      "outputs": []
    },
    {
      "cell_type": "code",
      "source": [
        "# Splitting dataset into training and testing before SMOTE\n",
        "X_train, X_test, y_train, y_test = train_test_split(X, y, test_size=0.2, stratify=y, random_state=42)\n",
        "\n",
        "print(\"Training Set Size:\", X_train.shape[0])\n",
        "print(\"Testing Set Size:\", X_test.shape[0])"
      ],
      "metadata": {
        "colab": {
          "base_uri": "https://localhost:8080/"
        },
        "id": "9DHyMS-NSuDv",
        "outputId": "14eec612-d42d-4395-9040-c92c375ba05d"
      },
      "execution_count": null,
      "outputs": [
        {
          "output_type": "stream",
          "name": "stdout",
          "text": [
            "Training Set Size: 524\n",
            "Testing Set Size: 131\n"
          ]
        }
      ]
    },
    {
      "cell_type": "markdown",
      "source": [
        "# **Balancing the Target Variable**"
      ],
      "metadata": {
        "id": "0JHK-_x6Sw4V"
      }
    },
    {
      "cell_type": "code",
      "source": [
        "# Handling the imbalance dataset\n",
        "\n",
        "# Suppressing the FutureWarnings\n",
        "warnings.filterwarnings(\"ignore\", category=FutureWarning)\n",
        "\n",
        "# Handling imbalanced dataset\n",
        "smote = SMOTE(sampling_strategy='auto', random_state=42)\n",
        "X_resampled, y_resampled = smote.fit_resample(X, y)\n",
        "\n",
        "print(\"Original dataset size:\", X.shape)\n",
        "print(\"Resampled dataset size:\", X_resampled.shape)"
      ],
      "metadata": {
        "colab": {
          "base_uri": "https://localhost:8080/"
        },
        "id": "g6VDm2-6SzZ7",
        "outputId": "ae3d2374-f532-40de-df2a-0a551eb73e1a"
      },
      "execution_count": null,
      "outputs": [
        {
          "output_type": "stream",
          "name": "stdout",
          "text": [
            "Original dataset size: (655, 201)\n",
            "Resampled dataset size: (1492, 201)\n"
          ]
        }
      ]
    },
    {
      "cell_type": "code",
      "source": [
        "# Plotting class distribution after SMOTE\n",
        "sns.countplot(x=y_resampled, palette=\"viridis\")\n",
        "plt.title(\"Class Distribution After SMOTE\")\n",
        "plt.xlabel(\"Class\")\n",
        "plt.ylabel(\"Count\")\n",
        "plt.show()"
      ],
      "metadata": {
        "colab": {
          "base_uri": "https://localhost:8080/",
          "height": 472
        },
        "id": "P7Zrl0HrS0lU",
        "outputId": "1ca4beaf-cf12-4b13-d426-b1b7eeba4ea6"
      },
      "execution_count": null,
      "outputs": [
        {
          "output_type": "display_data",
          "data": {
            "text/plain": [
              "<Figure size 640x480 with 1 Axes>"
            ],
            "image/png": "[encoded data removed]"
          },
          "metadata": {}
        }
      ]
    },
    {
      "cell_type": "code",
      "source": [
        "# Displaying the dataset shape after applying the SMOTE\n",
        "print(f\"Shape of X_resampled: {X_resampled.shape}\")\n",
        "print(f\"Shape of y_resampled: {y_resampled.shape}\")"
      ],
      "metadata": {
        "colab": {
          "base_uri": "https://localhost:8080/"
        },
        "id": "uo2Ip6FAS4ED",
        "outputId": "aa8b8b44-19d2-42be-9132-d5ed13212b55"
      },
      "execution_count": null,
      "outputs": [
        {
          "output_type": "stream",
          "name": "stdout",
          "text": [
            "Shape of X_resampled: (1492, 201)\n",
            "Shape of y_resampled: (1492,)\n"
          ]
        }
      ]
    },
    {
      "cell_type": "code",
      "source": [
        "# Standardizing the features\n",
        "scaler = StandardScaler()\n",
        "X_resampled_scaled = scaler.fit_transform(X_resampled)"
      ],
      "metadata": {
        "id": "YU1fxB_hS7ea"
      },
      "execution_count": null,
      "outputs": []
    },
    {
      "cell_type": "code",
      "source": [
        "# Splitting data\n",
        "X_train, X_test, y_train, y_test = train_test_split(X_resampled_scaled, y_resampled, test_size=0.2, stratify = y_resampled, random_state=42)"
      ],
      "metadata": {
        "id": "g41iPPK5S8t7"
      },
      "execution_count": null,
      "outputs": []
    },
    {
      "cell_type": "code",
      "source": [
        "# Displaying the Dataset Information\n",
        "print(\"Dataset Information:\")\n",
        "print(data.info())"
      ],
      "metadata": {
        "colab": {
          "base_uri": "https://localhost:8080/"
        },
        "id": "nZATsR0YS-ex",
        "outputId": "f77a2ae1-678b-48aa-df10-57e8af4fa7c1"
      },
      "execution_count": null,
      "outputs": [
        {
          "output_type": "stream",
          "name": "stdout",
          "text": [
            "Dataset Information:\n",
            "<class 'pandas.core.frame.DataFrame'>\n",
            "RangeIndex: 655 entries, 0 to 654\n",
            "Columns: 202 entries, QUANTITY to RISK\n",
            "dtypes: float64(201), int64(1)\n",
            "memory usage: 1.0 MB\n",
            "None\n"
          ]
        }
      ]
    },
    {
      "cell_type": "code",
      "source": [
        "# Saving the Preprocessed Code\n",
        "data.to_csv('/content/drive/MyDrive/Importer_Risk_Prediction_2/Dataset/Preprocessed_data.csv', index=False)"
      ],
      "metadata": {
        "id": "EjaGfhw_Veuq"
      },
      "execution_count": null,
      "outputs": []
    },
    {
      "cell_type": "markdown",
      "source": [
        "# **Model Training**"
      ],
      "metadata": {
        "id": "N1Za5KdFTEne"
      }
    },
    {
      "cell_type": "code",
      "source": [
        "# Initialize the RandomForestClassifier (without hyperparameter tuning)\n",
        "rf = RandomForestClassifier(random_state=42)"
      ],
      "metadata": {
        "id": "BWwxFj7fTIwY"
      },
      "execution_count": null,
      "outputs": []
    },
    {
      "cell_type": "code",
      "source": [
        "# Train the RandomForest model on the training data\n",
        "rf.fit(X_train, y_train)"
      ],
      "metadata": {
        "colab": {
          "base_uri": "https://localhost:8080/",
          "height": 80
        },
        "id": "g32YIMtETKBZ",
        "outputId": "ab95c8d2-d73c-47bd-db19-36247a5d1978"
      },
      "execution_count": null,
      "outputs": [
        {
          "output_type": "execute_result",
          "data": {
            "text/plain": [
              "RandomForestClassifier(random_state=42)"
            ],
            "text/html": [
              "<style>#sk-container-id-2 {\n",
              "  /* Definition of color scheme common for light and dark mode */\n",
              "  --sklearn-color-text: #000;\n",
              "  --sklearn-color-text-muted: #666;\n",
              "  --sklearn-color-line: gray;\n",
              "  /* Definition of color scheme for unfitted estimators */\n",
              "  --sklearn-color-unfitted-level-0: #fff5e6;\n",
              "  --sklearn-color-unfitted-level-1: #f6e4d2;\n",
              "  --sklearn-color-unfitted-level-2: #ffe0b3;\n",
              "  --sklearn-color-unfitted-level-3: chocolate;\n",
              "  /* Definition of color scheme for fitted estimators */\n",
              "  --sklearn-color-fitted-level-0: #f0f8ff;\n",
              "  --sklearn-color-fitted-level-1: #d4ebff;\n",
              "  --sklearn-color-fitted-level-2: #b3dbfd;\n",
              "  --sklearn-color-fitted-level-3: cornflowerblue;\n",
              "\n",
              "  /* Specific color for light theme */\n",
              "  --sklearn-color-text-on-default-background: var(--sg-text-color, var(--theme-code-foreground, var(--jp-content-font-color1, black)));\n",
              "  --sklearn-color-background: var(--sg-background-color, var(--theme-background, var(--jp-layout-color0, white)));\n",
              "  --sklearn-color-border-box: var(--sg-text-color, var(--theme-code-foreground, var(--jp-content-font-color1, black)));\n",
              "  --sklearn-color-icon: #696969;\n",
              "\n",
              "  @media (prefers-color-scheme: dark) {\n",
              "    /* Redefinition of color scheme for dark theme */\n",
              "    --sklearn-color-text-on-default-background: var(--sg-text-color, var(--theme-code-foreground, var(--jp-content-font-color1, white)));\n",
              "    --sklearn-color-background: var(--sg-background-color, var(--theme-background, var(--jp-layout-color0, #111)));\n",
              "    --sklearn-color-border-box: var(--sg-text-color, var(--theme-code-foreground, var(--jp-content-font-color1, white)));\n",
              "    --sklearn-color-icon: #878787;\n",
              "  }\n",
              "}\n",
              "\n",
              "#sk-container-id-2 {\n",
              "  color: var(--sklearn-color-text);\n",
              "}\n",
              "\n",
              "#sk-container-id-2 pre {\n",
              "  padding: 0;\n",
              "}\n",
              "\n",
              "#sk-container-id-2 input.sk-hidden--visually {\n",
              "  border: 0;\n",
              "  clip: rect(1px 1px 1px 1px);\n",
              "  clip: rect(1px, 1px, 1px, 1px);\n",
              "  height: 1px;\n",
              "  margin: -1px;\n",
              "  overflow: hidden;\n",
              "  padding: 0;\n",
              "  position: absolute;\n",
              "  width: 1px;\n",
              "}\n",
              "\n",
              "#sk-container-id-2 div.sk-dashed-wrapped {\n",
              "  border: 1px dashed var(--sklearn-color-line);\n",
              "  margin: 0 0.4em 0.5em 0.4em;\n",
              "  box-sizing: border-box;\n",
              "  padding-bottom: 0.4em;\n",
              "  background-color: var(--sklearn-color-background);\n",
              "}\n",
              "\n",
              "#sk-container-id-2 div.sk-container {\n",
              "  /* jupyter's `normalize.less` sets `[hidden] { display: none; }`\n",
              "     but bootstrap.min.css set `[hidden] { display: none !important; }`\n",
              "     so we also need the `!important` here to be able to override the\n",
              "     default hidden behavior on the sphinx rendered scikit-learn.org.\n",
              "     See: https://github.com/scikit-learn/scikit-learn/issues/21755 */\n",
              "  display: inline-block !important;\n",
              "  position: relative;\n",
              "}\n",
              "\n",
              "#sk-container-id-2 div.sk-text-repr-fallback {\n",
              "  display: none;\n",
              "}\n",
              "\n",
              "div.sk-parallel-item,\n",
              "div.sk-serial,\n",
              "div.sk-item {\n",
              "  /* draw centered vertical line to link estimators */\n",
              "  background-image: linear-gradient(var(--sklearn-color-text-on-default-background), var(--sklearn-color-text-on-default-background));\n",
              "  background-size: 2px 100%;\n",
              "  background-repeat: no-repeat;\n",
              "  background-position: center center;\n",
              "}\n",
              "\n",
              "/* Parallel-specific style estimator block */\n",
              "\n",
              "#sk-container-id-2 div.sk-parallel-item::after {\n",
              "  content: \"\";\n",
              "  width: 100%;\n",
              "  border-bottom: 2px solid var(--sklearn-color-text-on-default-background);\n",
              "  flex-grow: 1;\n",
              "}\n",
              "\n",
              "#sk-container-id-2 div.sk-parallel {\n",
              "  display: flex;\n",
              "  align-items: stretch;\n",
              "  justify-content: center;\n",
              "  background-color: var(--sklearn-color-background);\n",
              "  position: relative;\n",
              "}\n",
              "\n",
              "#sk-container-id-2 div.sk-parallel-item {\n",
              "  display: flex;\n",
              "  flex-direction: column;\n",
              "}\n",
              "\n",
              "#sk-container-id-2 div.sk-parallel-item:first-child::after {\n",
              "  align-self: flex-end;\n",
              "  width: 50%;\n",
              "}\n",
              "\n",
              "#sk-container-id-2 div.sk-parallel-item:last-child::after {\n",
              "  align-self: flex-start;\n",
              "  width: 50%;\n",
              "}\n",
              "\n",
              "#sk-container-id-2 div.sk-parallel-item:only-child::after {\n",
              "  width: 0;\n",
              "}\n",
              "\n",
              "/* Serial-specific style estimator block */\n",
              "\n",
              "#sk-container-id-2 div.sk-serial {\n",
              "  display: flex;\n",
              "  flex-direction: column;\n",
              "  align-items: center;\n",
              "  background-color: var(--sklearn-color-background);\n",
              "  padding-right: 1em;\n",
              "  padding-left: 1em;\n",
              "}\n",
              "\n",
              "\n",
              "/* Toggleable style: style used for estimator/Pipeline/ColumnTransformer box that is\n",
              "clickable and can be expanded/collapsed.\n",
              "- Pipeline and ColumnTransformer use this feature and define the default style\n",
              "- Estimators will overwrite some part of the style using the `sk-estimator` class\n",
              "*/\n",
              "\n",
              "/* Pipeline and ColumnTransformer style (default) */\n",
              "\n",
              "#sk-container-id-2 div.sk-toggleable {\n",
              "  /* Default theme specific background. It is overwritten whether we have a\n",
              "  specific estimator or a Pipeline/ColumnTransformer */\n",
              "  background-color: var(--sklearn-color-background);\n",
              "}\n",
              "\n",
              "/* Toggleable label */\n",
              "#sk-container-id-2 label.sk-toggleable__label {\n",
              "  cursor: pointer;\n",
              "  display: flex;\n",
              "  width: 100%;\n",
              "  margin-bottom: 0;\n",
              "  padding: 0.5em;\n",
              "  box-sizing: border-box;\n",
              "  text-align: center;\n",
              "  align-items: start;\n",
              "  justify-content: space-between;\n",
              "  gap: 0.5em;\n",
              "}\n",
              "\n",
              "#sk-container-id-2 label.sk-toggleable__label .caption {\n",
              "  font-size: 0.6rem;\n",
              "  font-weight: lighter;\n",
              "  color: var(--sklearn-color-text-muted);\n",
              "}\n",
              "\n",
              "#sk-container-id-2 label.sk-toggleable__label-arrow:before {\n",
              "  /* Arrow on the left of the label */\n",
              "  content: \"▸\";\n",
              "  float: left;\n",
              "  margin-right: 0.25em;\n",
              "  color: var(--sklearn-color-icon);\n",
              "}\n",
              "\n",
              "#sk-container-id-2 label.sk-toggleable__label-arrow:hover:before {\n",
              "  color: var(--sklearn-color-text);\n",
              "}\n",
              "\n",
              "/* Toggleable content - dropdown */\n",
              "\n",
              "#sk-container-id-2 div.sk-toggleable__content {\n",
              "  max-height: 0;\n",
              "  max-width: 0;\n",
              "  overflow: hidden;\n",
              "  text-align: left;\n",
              "  /* unfitted */\n",
              "  background-color: var(--sklearn-color-unfitted-level-0);\n",
              "}\n",
              "\n",
              "#sk-container-id-2 div.sk-toggleable__content.fitted {\n",
              "  /* fitted */\n",
              "  background-color: var(--sklearn-color-fitted-level-0);\n",
              "}\n",
              "\n",
              "#sk-container-id-2 div.sk-toggleable__content pre {\n",
              "  margin: 0.2em;\n",
              "  border-radius: 0.25em;\n",
              "  color: var(--sklearn-color-text);\n",
              "  /* unfitted */\n",
              "  background-color: var(--sklearn-color-unfitted-level-0);\n",
              "}\n",
              "\n",
              "#sk-container-id-2 div.sk-toggleable__content.fitted pre {\n",
              "  /* unfitted */\n",
              "  background-color: var(--sklearn-color-fitted-level-0);\n",
              "}\n",
              "\n",
              "#sk-container-id-2 input.sk-toggleable__control:checked~div.sk-toggleable__content {\n",
              "  /* Expand drop-down */\n",
              "  max-height: 200px;\n",
              "  max-width: 100%;\n",
              "  overflow: auto;\n",
              "}\n",
              "\n",
              "#sk-container-id-2 input.sk-toggleable__control:checked~label.sk-toggleable__label-arrow:before {\n",
              "  content: \"▾\";\n",
              "}\n",
              "\n",
              "/* Pipeline/ColumnTransformer-specific style */\n",
              "\n",
              "#sk-container-id-2 div.sk-label input.sk-toggleable__control:checked~label.sk-toggleable__label {\n",
              "  color: var(--sklearn-color-text);\n",
              "  background-color: var(--sklearn-color-unfitted-level-2);\n",
              "}\n",
              "\n",
              "#sk-container-id-2 div.sk-label.fitted input.sk-toggleable__control:checked~label.sk-toggleable__label {\n",
              "  background-color: var(--sklearn-color-fitted-level-2);\n",
              "}\n",
              "\n",
              "/* Estimator-specific style */\n",
              "\n",
              "/* Colorize estimator box */\n",
              "#sk-container-id-2 div.sk-estimator input.sk-toggleable__control:checked~label.sk-toggleable__label {\n",
              "  /* unfitted */\n",
              "  background-color: var(--sklearn-color-unfitted-level-2);\n",
              "}\n",
              "\n",
              "#sk-container-id-2 div.sk-estimator.fitted input.sk-toggleable__control:checked~label.sk-toggleable__label {\n",
              "  /* fitted */\n",
              "  background-color: var(--sklearn-color-fitted-level-2);\n",
              "}\n",
              "\n",
              "#sk-container-id-2 div.sk-label label.sk-toggleable__label,\n",
              "#sk-container-id-2 div.sk-label label {\n",
              "  /* The background is the default theme color */\n",
              "  color: var(--sklearn-color-text-on-default-background);\n",
              "}\n",
              "\n",
              "/* On hover, darken the color of the background */\n",
              "#sk-container-id-2 div.sk-label:hover label.sk-toggleable__label {\n",
              "  color: var(--sklearn-color-text);\n",
              "  background-color: var(--sklearn-color-unfitted-level-2);\n",
              "}\n",
              "\n",
              "/* Label box, darken color on hover, fitted */\n",
              "#sk-container-id-2 div.sk-label.fitted:hover label.sk-toggleable__label.fitted {\n",
              "  color: var(--sklearn-color-text);\n",
              "  background-color: var(--sklearn-color-fitted-level-2);\n",
              "}\n",
              "\n",
              "/* Estimator label */\n",
              "\n",
              "#sk-container-id-2 div.sk-label label {\n",
              "  font-family: monospace;\n",
              "  font-weight: bold;\n",
              "  display: inline-block;\n",
              "  line-height: 1.2em;\n",
              "}\n",
              "\n",
              "#sk-container-id-2 div.sk-label-container {\n",
              "  text-align: center;\n",
              "}\n",
              "\n",
              "/* Estimator-specific */\n",
              "#sk-container-id-2 div.sk-estimator {\n",
              "  font-family: monospace;\n",
              "  border: 1px dotted var(--sklearn-color-border-box);\n",
              "  border-radius: 0.25em;\n",
              "  box-sizing: border-box;\n",
              "  margin-bottom: 0.5em;\n",
              "  /* unfitted */\n",
              "  background-color: var(--sklearn-color-unfitted-level-0);\n",
              "}\n",
              "\n",
              "#sk-container-id-2 div.sk-estimator.fitted {\n",
              "  /* fitted */\n",
              "  background-color: var(--sklearn-color-fitted-level-0);\n",
              "}\n",
              "\n",
              "/* on hover */\n",
              "#sk-container-id-2 div.sk-estimator:hover {\n",
              "  /* unfitted */\n",
              "  background-color: var(--sklearn-color-unfitted-level-2);\n",
              "}\n",
              "\n",
              "#sk-container-id-2 div.sk-estimator.fitted:hover {\n",
              "  /* fitted */\n",
              "  background-color: var(--sklearn-color-fitted-level-2);\n",
              "}\n",
              "\n",
              "/* Specification for estimator info (e.g. \"i\" and \"?\") */\n",
              "\n",
              "/* Common style for \"i\" and \"?\" */\n",
              "\n",
              ".sk-estimator-doc-link,\n",
              "a:link.sk-estimator-doc-link,\n",
              "a:visited.sk-estimator-doc-link {\n",
              "  float: right;\n",
              "  font-size: smaller;\n",
              "  line-height: 1em;\n",
              "  font-family: monospace;\n",
              "  background-color: var(--sklearn-color-background);\n",
              "  border-radius: 1em;\n",
              "  height: 1em;\n",
              "  width: 1em;\n",
              "  text-decoration: none !important;\n",
              "  margin-left: 0.5em;\n",
              "  text-align: center;\n",
              "  /* unfitted */\n",
              "  border: var(--sklearn-color-unfitted-level-1) 1pt solid;\n",
              "  color: var(--sklearn-color-unfitted-level-1);\n",
              "}\n",
              "\n",
              ".sk-estimator-doc-link.fitted,\n",
              "a:link.sk-estimator-doc-link.fitted,\n",
              "a:visited.sk-estimator-doc-link.fitted {\n",
              "  /* fitted */\n",
              "  border: var(--sklearn-color-fitted-level-1) 1pt solid;\n",
              "  color: var(--sklearn-color-fitted-level-1);\n",
              "}\n",
              "\n",
              "/* On hover */\n",
              "div.sk-estimator:hover .sk-estimator-doc-link:hover,\n",
              ".sk-estimator-doc-link:hover,\n",
              "div.sk-label-container:hover .sk-estimator-doc-link:hover,\n",
              ".sk-estimator-doc-link:hover {\n",
              "  /* unfitted */\n",
              "  background-color: var(--sklearn-color-unfitted-level-3);\n",
              "  color: var(--sklearn-color-background);\n",
              "  text-decoration: none;\n",
              "}\n",
              "\n",
              "div.sk-estimator.fitted:hover .sk-estimator-doc-link.fitted:hover,\n",
              ".sk-estimator-doc-link.fitted:hover,\n",
              "div.sk-label-container:hover .sk-estimator-doc-link.fitted:hover,\n",
              ".sk-estimator-doc-link.fitted:hover {\n",
              "  /* fitted */\n",
              "  background-color: var(--sklearn-color-fitted-level-3);\n",
              "  color: var(--sklearn-color-background);\n",
              "  text-decoration: none;\n",
              "}\n",
              "\n",
              "/* Span, style for the box shown on hovering the info icon */\n",
              ".sk-estimator-doc-link span {\n",
              "  display: none;\n",
              "  z-index: 9999;\n",
              "  position: relative;\n",
              "  font-weight: normal;\n",
              "  right: .2ex;\n",
              "  padding: .5ex;\n",
              "  margin: .5ex;\n",
              "  width: min-content;\n",
              "  min-width: 20ex;\n",
              "  max-width: 50ex;\n",
              "  color: var(--sklearn-color-text);\n",
              "  box-shadow: 2pt 2pt 4pt #999;\n",
              "  /* unfitted */\n",
              "  background: var(--sklearn-color-unfitted-level-0);\n",
              "  border: .5pt solid var(--sklearn-color-unfitted-level-3);\n",
              "}\n",
              "\n",
              ".sk-estimator-doc-link.fitted span {\n",
              "  /* fitted */\n",
              "  background: var(--sklearn-color-fitted-level-0);\n",
              "  border: var(--sklearn-color-fitted-level-3);\n",
              "}\n",
              "\n",
              ".sk-estimator-doc-link:hover span {\n",
              "  display: block;\n",
              "}\n",
              "\n",
              "/* \"?\"-specific style due to the `<a>` HTML tag */\n",
              "\n",
              "#sk-container-id-2 a.estimator_doc_link {\n",
              "  float: right;\n",
              "  font-size: 1rem;\n",
              "  line-height: 1em;\n",
              "  font-family: monospace;\n",
              "  background-color: var(--sklearn-color-background);\n",
              "  border-radius: 1rem;\n",
              "  height: 1rem;\n",
              "  width: 1rem;\n",
              "  text-decoration: none;\n",
              "  /* unfitted */\n",
              "  color: var(--sklearn-color-unfitted-level-1);\n",
              "  border: var(--sklearn-color-unfitted-level-1) 1pt solid;\n",
              "}\n",
              "\n",
              "#sk-container-id-2 a.estimator_doc_link.fitted {\n",
              "  /* fitted */\n",
              "  border: var(--sklearn-color-fitted-level-1) 1pt solid;\n",
              "  color: var(--sklearn-color-fitted-level-1);\n",
              "}\n",
              "\n",
              "/* On hover */\n",
              "#sk-container-id-2 a.estimator_doc_link:hover {\n",
              "  /* unfitted */\n",
              "  background-color: var(--sklearn-color-unfitted-level-3);\n",
              "  color: var(--sklearn-color-background);\n",
              "  text-decoration: none;\n",
              "}\n",
              "\n",
              "#sk-container-id-2 a.estimator_doc_link.fitted:hover {\n",
              "  /* fitted */\n",
              "  background-color: var(--sklearn-color-fitted-level-3);\n",
              "}\n",
              "</style><div id=\"sk-container-id-2\" class=\"sk-top-container\"><div class=\"sk-text-repr-fallback\"><pre>RandomForestClassifier(random_state=42)</pre><b>In a Jupyter environment, please rerun this cell to show the HTML representation or trust the notebook. <br />On GitHub, the HTML representation is unable to render, please try loading this page with nbviewer.org.</b></div><div class=\"sk-container\" hidden><div class=\"sk-item\"><div class=\"sk-estimator fitted sk-toggleable\"><input class=\"sk-toggleable__control sk-hidden--visually\" id=\"sk-estimator-id-2\" type=\"checkbox\" checked><label for=\"sk-estimator-id-2\" class=\"sk-toggleable__label fitted sk-toggleable__label-arrow\"><div><div>RandomForestClassifier</div></div><div><a class=\"sk-estimator-doc-link fitted\" rel=\"noreferrer\" target=\"_blank\" href=\"https://scikit-learn.org/1.6/modules/generated/sklearn.ensemble.RandomForestClassifier.html\">?<span>Documentation for RandomForestClassifier</span></a><span class=\"sk-estimator-doc-link fitted\">i<span>Fitted</span></span></div></label><div class=\"sk-toggleable__content fitted\"><pre>RandomForestClassifier(random_state=42)</pre></div> </div></div></div></div>"
            ]
          },
          "metadata": {},
          "execution_count": 343
        }
      ]
    },
    {
      "cell_type": "code",
      "source": [
        "# Predict on the test set\n",
        "y_pred = rf.predict(X_test)"
      ],
      "metadata": {
        "id": "ztA_4F3ETLJo"
      },
      "execution_count": null,
      "outputs": []
    },
    {
      "cell_type": "code",
      "source": [
        "# Confusion Matrix\n",
        "cm = confusion_matrix(y_test, y_pred)\n",
        "print(f\"Confusion Matrix:\\n{cm}\")"
      ],
      "metadata": {
        "colab": {
          "base_uri": "https://localhost:8080/"
        },
        "id": "cnsWFMQxTOW0",
        "outputId": "04e6173c-3e9e-4199-c3ea-50506a433d41"
      },
      "execution_count": null,
      "outputs": [
        {
          "output_type": "stream",
          "name": "stdout",
          "text": [
            "Confusion Matrix:\n",
            "[[75  0  0  0]\n",
            " [ 0 74  0  0]\n",
            " [ 0  0 75  0]\n",
            " [ 0  0  0 75]]\n"
          ]
        }
      ]
    },
    {
      "cell_type": "code",
      "source": [
        "# Plotting Confusion Matrix\n",
        "sns.heatmap(cm, annot=True, fmt='d', cmap='Blues', xticklabels=np.unique(y_resampled), yticklabels=np.unique(y_resampled))\n",
        "plt.title('Confusion Matrix')\n",
        "plt.ylabel('True Label')\n",
        "plt.xlabel('Predicted Label')\n",
        "plt.show()"
      ],
      "metadata": {
        "colab": {
          "base_uri": "https://localhost:8080/",
          "height": 472
        },
        "id": "9066f00rTRT1",
        "outputId": "3f9feec0-1946-4583-9b8c-dcabdab2326e"
      },
      "execution_count": null,
      "outputs": [
        {
          "output_type": "display_data",
          "data": {
            "text/plain": [
              "<Figure size 640x480 with 2 Axes>"
            ],
            "image/png": "[encoded data removed]"
          },
          "metadata": {}
        }
      ]
    },
    {
      "cell_type": "code",
      "source": [
        "# Classification Report\n",
        "report = classification_report(y_test, y_pred)\n",
        "print(f\"Classification Report:\\n{report}\")"
      ],
      "metadata": {
        "colab": {
          "base_uri": "https://localhost:8080/"
        },
        "id": "Y_BQ4HEMTVZn",
        "outputId": "27d17f39-b32b-4f65-9762-0a2067aee82f"
      },
      "execution_count": null,
      "outputs": [
        {
          "output_type": "stream",
          "name": "stdout",
          "text": [
            "Classification Report:\n",
            "              precision    recall  f1-score   support\n",
            "\n",
            "           0       1.00      1.00      1.00        75\n",
            "           1       1.00      1.00      1.00        74\n",
            "           2       1.00      1.00      1.00        75\n",
            "           3       1.00      1.00      1.00        75\n",
            "\n",
            "    accuracy                           1.00       299\n",
            "   macro avg       1.00      1.00      1.00       299\n",
            "weighted avg       1.00      1.00      1.00       299\n",
            "\n"
          ]
        }
      ]
    },
    {
      "cell_type": "code",
      "source": [
        "# Accuracy score on the test set\n",
        "accuracy = accuracy_score(y_test, y_pred)\n",
        "print(f\"Accuracy on test set: {accuracy * 100:.2f}%\")"
      ],
      "metadata": {
        "colab": {
          "base_uri": "https://localhost:8080/"
        },
        "id": "r0eH-e0aTZLr",
        "outputId": "957fbbb0-8029-44e2-91b2-8fee2d7d371f"
      },
      "execution_count": null,
      "outputs": [
        {
          "output_type": "stream",
          "name": "stdout",
          "text": [
            "Accuracy on test set: 100.00%\n"
          ]
        }
      ]
    },
    {
      "cell_type": "code",
      "source": [
        "import joblib\n",
        "\n",
        "# Save the Random Forest Model\n",
        "joblib.dump(rf, '/content/drive/MyDrive/Importer_Risk_Prediction_2/models/random_forest_model.joblib')\n",
        "print(\"Random Forest Model Saved Successfully!\")"
      ],
      "metadata": {
        "colab": {
          "base_uri": "https://localhost:8080/"
        },
        "id": "UEMDHJmVTffe",
        "outputId": "293a4b40-386a-4e94-9172-71fd74f6dd67"
      },
      "execution_count": null,
      "outputs": [
        {
          "output_type": "stream",
          "name": "stdout",
          "text": [
            "Random Forest Model Saved Successfully!\n"
          ]
        }
      ]
    },
    {
      "cell_type": "markdown",
      "source": [
        "# **The Predictions**"
      ],
      "metadata": {
        "id": "LJOwoulykDX-"
      }
    },
    {
      "cell_type": "code",
      "source": [
        "import joblib\n",
        "import numpy as np\n",
        "import pandas as pd\n",
        "from sklearn.preprocessing import OneHotEncoder, LabelEncoder\n",
        "\n",
        "# Load trained model\n",
        "try:\n",
        "    model = joblib.load('/content/drive/MyDrive/Importer_Risk_Prediction_2/models/random_forest_model.joblib')\n",
        "    print(\"Model loaded successfully.\")\n",
        "except Exception as e:\n",
        "    print(f\"Error loading model: {e}\")\n",
        "    exit()\n",
        "\n",
        "# Load LabelEncoder for target variable\n",
        "try:\n",
        "    label_encoder = joblib.load('/content/drive/MyDrive/Importer_Risk_Prediction_2/encoders/target_label_encoder.pkl')\n",
        "    print(\"Target LabelEncoder loaded successfully.\")\n",
        "except Exception as e:\n",
        "    print(f\"Error loading target LabelEncoder: {e}\")\n",
        "    exit()\n",
        "\n",
        "# Define categorical columns\n",
        "categorical_columns = ['HSCODE', 'COUNTRY', 'UNIT', 'DESCRIPTION_01', 'DESCRIPTION_02', 'DESCRIPTION_03']\n",
        "\n",
        "# Load OneHotEncoders for each categorical column\n",
        "encoders = {}\n",
        "for col in categorical_columns:\n",
        "    try:\n",
        "        encoder_file = f'/content/drive/MyDrive/Importer_Risk_Prediction_2/encoders/{col}_encoder.pkl'\n",
        "        encoders[col] = joblib.load(encoder_file)\n",
        "        print(f\"{col} encoder loaded successfully.\")\n",
        "    except Exception as e:\n",
        "        print(f\"Error loading encoder for {col}: {e}\")\n",
        "        exit()\n",
        "\n",
        "def get_user_input():\n",
        "    \"\"\"Get user input for the prediction.\"\"\"\n",
        "    print(\"\\nPlease enter the following details:\")\n",
        "    hscode = input(\"Enter HS Code: \")\n",
        "    country = input(\"Enter Country: \")\n",
        "    unit = input(\"Enter Unit: \")\n",
        "    description_01 = input(\"Enter Description 1: \")\n",
        "    description_02 = input(\"Enter Description 2: \")\n",
        "    description_03 = input(\"Enter Description 3: \")\n",
        "\n",
        "    try:\n",
        "        quantity = float(input(\"Enter Quantity: \"))\n",
        "    except ValueError:\n",
        "        print(\"Invalid quantity. Please enter a numeric value.\")\n",
        "        exit()\n",
        "\n",
        "    return pd.DataFrame({\n",
        "        'HSCODE': [hscode],\n",
        "        'COUNTRY': [country],\n",
        "        'UNIT': [unit],\n",
        "        'DESCRIPTION_01': [description_01],\n",
        "        'DESCRIPTION_02': [description_02],\n",
        "        'DESCRIPTION_03': [description_03],\n",
        "        'QUANTITY': [quantity]\n",
        "    })\n",
        "\n",
        "def preprocess_input(data):\n",
        "    \"\"\"Preprocess user input using saved OneHotEncoders.\"\"\"\n",
        "    try:\n",
        "        # Prepare the encoded categorical data\n",
        "        encoded_features = []\n",
        "\n",
        "        for col in categorical_columns:\n",
        "            encoder = encoders.get(col)\n",
        "            if encoder:\n",
        "                # Transform the input and convert to array if needed\n",
        "                encoded = encoder.transform(data[[col]])\n",
        "                if hasattr(encoded, \"toarray\"):  # Convert sparse to dense array\n",
        "                    encoded = encoded.toarray()\n",
        "                encoded_features.append(encoded)\n",
        "            else:\n",
        "                print(f\"Encoder not found for column: {col}\")\n",
        "                exit()\n",
        "\n",
        "        # Convert the list of encoded features to a single numpy array\n",
        "        encoded_features = np.hstack(encoded_features)\n",
        "\n",
        "        # Keep numerical features (quantity)\n",
        "        numerical_features = data[['QUANTITY']].values\n",
        "\n",
        "        # Combine encoded categorical features with numerical features\n",
        "        final_features = np.hstack((encoded_features, numerical_features))\n",
        "\n",
        "        return final_features\n",
        "    except Exception as e:\n",
        "        print(f\"Error during preprocessing: {e}\")\n",
        "        exit()\n",
        "\n",
        "def predict_risk():\n",
        "    \"\"\"Predict risk level for user input.\"\"\"\n",
        "    user_data = get_user_input()\n",
        "    processed_data = preprocess_input(user_data)\n",
        "\n",
        "    try:\n",
        "        # Ensure the input is 2D for the model (shape should be (1, n_features))\n",
        "        processed_data = np.array(processed_data).reshape(1, -1)\n",
        "\n",
        "        # Make the prediction (numeric output)\n",
        "        risk_prediction_numeric = model.predict(processed_data)[0]\n",
        "\n",
        "        # Convert numerical prediction back to original label\n",
        "        risk_prediction_label = label_encoder.inverse_transform([risk_prediction_numeric])[0]\n",
        "\n",
        "        print(f\"Predicted Risk Level: {risk_prediction_label}\")\n",
        "\n",
        "    except Exception as e:\n",
        "        print(f\"Error during prediction: {e}\")\n",
        "\n",
        "if __name__ == \"__main__\":\n",
        "    predict_risk()\n"
      ],
      "metadata": {
        "colab": {
          "base_uri": "https://localhost:8080/",
          "height": 477
        },
        "id": "nDtMO03okHQf",
        "outputId": "7bea1843-64f7-4e71-fc13-c001718ea4f2"
      },
      "execution_count": null,
      "outputs": [
        {
          "output_type": "stream",
          "name": "stdout",
          "text": [
            "Model loaded successfully.\n",
            "HSCODE encoder loaded successfully.\n",
            "COUNTRY encoder loaded successfully.\n",
            "UNIT encoder loaded successfully.\n",
            "DESCRIPTION_01 encoder loaded successfully.\n",
            "DESCRIPTION_02 encoder loaded successfully.\n",
            "DESCRIPTION_03 encoder loaded successfully.\n",
            "\n",
            "Please enter the following details:\n"
          ]
        },
        {
          "output_type": "error",
          "ename": "KeyboardInterrupt",
          "evalue": "Interrupted by user",
          "traceback": [
            "\u001b[0;31m---------------------------------------------------------------------------\u001b[0m",
            "\u001b[0;31mKeyboardInterrupt\u001b[0m                         Traceback (most recent call last)",
            "\u001b[0;32m<ipython-input-351-c27e4075e3a1>\u001b[0m in \u001b[0;36m<cell line: 0>\u001b[0;34m()\u001b[0m\n\u001b[1;32m     96\u001b[0m \u001b[0;34m\u001b[0m\u001b[0m\n\u001b[1;32m     97\u001b[0m \u001b[0;32mif\u001b[0m \u001b[0m__name__\u001b[0m \u001b[0;34m==\u001b[0m \u001b[0;34m\"__main__\"\u001b[0m\u001b[0;34m:\u001b[0m\u001b[0;34m\u001b[0m\u001b[0;34m\u001b[0m\u001b[0m\n\u001b[0;32m---> 98\u001b[0;31m     \u001b[0mpredict_risk\u001b[0m\u001b[0;34m(\u001b[0m\u001b[0;34m)\u001b[0m\u001b[0;34m\u001b[0m\u001b[0;34m\u001b[0m\u001b[0m\n\u001b[0m",
            "\u001b[0;32m<ipython-input-351-c27e4075e3a1>\u001b[0m in \u001b[0;36mpredict_risk\u001b[0;34m()\u001b[0m\n\u001b[1;32m     80\u001b[0m \u001b[0;32mdef\u001b[0m \u001b[0mpredict_risk\u001b[0m\u001b[0;34m(\u001b[0m\u001b[0;34m)\u001b[0m\u001b[0;34m:\u001b[0m\u001b[0;34m\u001b[0m\u001b[0;34m\u001b[0m\u001b[0m\n\u001b[1;32m     81\u001b[0m     \u001b[0;34m\"\"\"Predict risk level for user input.\"\"\"\u001b[0m\u001b[0;34m\u001b[0m\u001b[0;34m\u001b[0m\u001b[0m\n\u001b[0;32m---> 82\u001b[0;31m     \u001b[0muser_data\u001b[0m \u001b[0;34m=\u001b[0m \u001b[0mget_user_input\u001b[0m\u001b[0;34m(\u001b[0m\u001b[0;34m)\u001b[0m\u001b[0;34m\u001b[0m\u001b[0;34m\u001b[0m\u001b[0m\n\u001b[0m\u001b[1;32m     83\u001b[0m     \u001b[0mprocessed_data\u001b[0m \u001b[0;34m=\u001b[0m \u001b[0mpreprocess_input\u001b[0m\u001b[0;34m(\u001b[0m\u001b[0muser_data\u001b[0m\u001b[0;34m)\u001b[0m\u001b[0;34m\u001b[0m\u001b[0;34m\u001b[0m\u001b[0m\n\u001b[1;32m     84\u001b[0m \u001b[0;34m\u001b[0m\u001b[0m\n",
            "\u001b[0;32m<ipython-input-351-c27e4075e3a1>\u001b[0m in \u001b[0;36mget_user_input\u001b[0;34m()\u001b[0m\n\u001b[1;32m     28\u001b[0m     \u001b[0;34m\"\"\"Get user input for the prediction.\"\"\"\u001b[0m\u001b[0;34m\u001b[0m\u001b[0;34m\u001b[0m\u001b[0m\n\u001b[1;32m     29\u001b[0m     \u001b[0mprint\u001b[0m\u001b[0;34m(\u001b[0m\u001b[0;34m\"\\nPlease enter the following details:\"\u001b[0m\u001b[0;34m)\u001b[0m\u001b[0;34m\u001b[0m\u001b[0;34m\u001b[0m\u001b[0m\n\u001b[0;32m---> 30\u001b[0;31m     \u001b[0mhscode\u001b[0m \u001b[0;34m=\u001b[0m \u001b[0minput\u001b[0m\u001b[0;34m(\u001b[0m\u001b[0;34m\"Enter HS Code: \"\u001b[0m\u001b[0;34m)\u001b[0m\u001b[0;34m\u001b[0m\u001b[0;34m\u001b[0m\u001b[0m\n\u001b[0m\u001b[1;32m     31\u001b[0m     \u001b[0mcountry\u001b[0m \u001b[0;34m=\u001b[0m \u001b[0minput\u001b[0m\u001b[0;34m(\u001b[0m\u001b[0;34m\"Enter Country: \"\u001b[0m\u001b[0;34m)\u001b[0m\u001b[0;34m\u001b[0m\u001b[0;34m\u001b[0m\u001b[0m\n\u001b[1;32m     32\u001b[0m     \u001b[0munit\u001b[0m \u001b[0;34m=\u001b[0m \u001b[0minput\u001b[0m\u001b[0;34m(\u001b[0m\u001b[0;34m\"Enter Unit: \"\u001b[0m\u001b[0;34m)\u001b[0m\u001b[0;34m\u001b[0m\u001b[0;34m\u001b[0m\u001b[0m\n",
            "\u001b[0;32m/usr/local/lib/python3.11/dist-packages/ipykernel/kernelbase.py\u001b[0m in \u001b[0;36mraw_input\u001b[0;34m(self, prompt)\u001b[0m\n\u001b[1;32m   1175\u001b[0m                 \u001b[0;34m\"raw_input was called, but this frontend does not support input requests.\"\u001b[0m\u001b[0;34m\u001b[0m\u001b[0;34m\u001b[0m\u001b[0m\n\u001b[1;32m   1176\u001b[0m             )\n\u001b[0;32m-> 1177\u001b[0;31m         return self._input_request(\n\u001b[0m\u001b[1;32m   1178\u001b[0m             \u001b[0mstr\u001b[0m\u001b[0;34m(\u001b[0m\u001b[0mprompt\u001b[0m\u001b[0;34m)\u001b[0m\u001b[0;34m,\u001b[0m\u001b[0;34m\u001b[0m\u001b[0;34m\u001b[0m\u001b[0m\n\u001b[1;32m   1179\u001b[0m             \u001b[0mself\u001b[0m\u001b[0;34m.\u001b[0m\u001b[0m_parent_ident\u001b[0m\u001b[0;34m[\u001b[0m\u001b[0;34m\"shell\"\u001b[0m\u001b[0;34m]\u001b[0m\u001b[0;34m,\u001b[0m\u001b[0;34m\u001b[0m\u001b[0;34m\u001b[0m\u001b[0m\n",
            "\u001b[0;32m/usr/local/lib/python3.11/dist-packages/ipykernel/kernelbase.py\u001b[0m in \u001b[0;36m_input_request\u001b[0;34m(self, prompt, ident, parent, password)\u001b[0m\n\u001b[1;32m   1217\u001b[0m             \u001b[0;32mexcept\u001b[0m \u001b[0mKeyboardInterrupt\u001b[0m\u001b[0;34m:\u001b[0m\u001b[0;34m\u001b[0m\u001b[0;34m\u001b[0m\u001b[0m\n\u001b[1;32m   1218\u001b[0m                 \u001b[0;31m# re-raise KeyboardInterrupt, to truncate traceback\u001b[0m\u001b[0;34m\u001b[0m\u001b[0;34m\u001b[0m\u001b[0m\n\u001b[0;32m-> 1219\u001b[0;31m                 \u001b[0;32mraise\u001b[0m \u001b[0mKeyboardInterrupt\u001b[0m\u001b[0;34m(\u001b[0m\u001b[0;34m\"Interrupted by user\"\u001b[0m\u001b[0;34m)\u001b[0m \u001b[0;32mfrom\u001b[0m \u001b[0;32mNone\u001b[0m\u001b[0;34m\u001b[0m\u001b[0;34m\u001b[0m\u001b[0m\n\u001b[0m\u001b[1;32m   1220\u001b[0m             \u001b[0;32mexcept\u001b[0m \u001b[0mException\u001b[0m\u001b[0;34m:\u001b[0m\u001b[0;34m\u001b[0m\u001b[0;34m\u001b[0m\u001b[0m\n\u001b[1;32m   1221\u001b[0m                 \u001b[0mself\u001b[0m\u001b[0;34m.\u001b[0m\u001b[0mlog\u001b[0m\u001b[0;34m.\u001b[0m\u001b[0mwarning\u001b[0m\u001b[0;34m(\u001b[0m\u001b[0;34m\"Invalid Message:\"\u001b[0m\u001b[0;34m,\u001b[0m \u001b[0mexc_info\u001b[0m\u001b[0;34m=\u001b[0m\u001b[0;32mTrue\u001b[0m\u001b[0;34m)\u001b[0m\u001b[0;34m\u001b[0m\u001b[0;34m\u001b[0m\u001b[0m\n",
            "\u001b[0;31mKeyboardInterrupt\u001b[0m: Interrupted by user"
          ]
        }
      ]
    }
  ]
}