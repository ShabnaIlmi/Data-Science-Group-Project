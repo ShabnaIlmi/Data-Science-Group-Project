{
  "nbformat": 4,
  "nbformat_minor": 0,
  "metadata": {
    "colab": {
      "provenance": [],
      "mount_file_id": "16Cn3gbMSqkhtjDLog-ihTSPF_t2Y_f-U",
      "authorship_tag": "ABX9TyO56kLKKEmjHQO6dkK6j+69",
      "include_colab_link": true
    },
    "kernelspec": {
      "name": "python3",
      "display_name": "Python 3"
    },
    "language_info": {
      "name": "python"
    }
  },
  "cells": [
    {
      "cell_type": "markdown",
      "metadata": {
        "id": "view-in-github",
        "colab_type": "text"
      },
      "source": [
        "<a href=\"https://colab.research.google.com/github/ShabnaIlmi/Data-Science-Group-Project/blob/main/Generate_More_Data.ipynb\" target=\"_parent\"><img src=\"https://colab.research.google.com/assets/colab-badge.svg\" alt=\"Open In Colab\"/></a>"
      ]
    },
    {
      "cell_type": "code",
      "source": [
        "# Mounting the google drive\n",
        "from google.colab import drive\n",
        "drive.mount('/content/drive')"
      ],
      "metadata": {
        "colab": {
          "base_uri": "https://localhost:8080/"
        },
        "id": "agZAHEwedRm7",
        "outputId": "7c53356e-6c9e-47f0-cfda-8217d1d99907"
      },
      "execution_count": null,
      "outputs": [
        {
          "output_type": "stream",
          "name": "stdout",
          "text": [
            "Drive already mounted at /content/drive; to attempt to forcibly remount, call drive.mount(\"/content/drive\", force_remount=True).\n"
          ]
        }
      ]
    },
    {
      "cell_type": "code",
      "execution_count": 23,
      "metadata": {
        "colab": {
          "base_uri": "https://localhost:8080/"
        },
        "id": "uyZ-kLHHK6JF",
        "outputId": "133fd2ce-a22e-43b2-de1f-73df53d2e21a"
      },
      "outputs": [
        {
          "output_type": "stream",
          "name": "stdout",
          "text": [
            "Excel file loaded successfully.\n",
            "\n",
            "--- Company Name Counts (Before) ---\n",
            "Customer name\n",
            "THARINDU WASHING PVT LTD           4\n",
            "OCEANPICK PVT LTD                  3\n",
            "Ansell Lanka                       3\n",
            "Piramal Glass Ceylon               3\n",
            "DYNAWASH LIMITED                   3\n",
            "                                  ..\n",
            "BEURO TEX CHEM PVT LTD             1\n",
            "DICK OYA DAIRY PRODUCTS PVT LTD    1\n",
            "RS EXPORTS                         1\n",
            "PIYARA WASHING ENTERPRISES         1\n",
            "COCO INTERNATIONAL (PVT) LTD       1\n",
            "Name: count, Length: 61, dtype: int64\n",
            "1500 rows of synthetic data generated and appended.\n",
            "\n",
            "--- Company Name Counts (After) ---\n",
            "Customer name\n",
            "SN PRODUCTS             49\n",
            "Laugfs Holdings         45\n",
            "Sanitech Chemicals      44\n",
            "Galagedara CHEMICAL     43\n",
            "Hirdaramani Group       41\n",
            "                        ..\n",
            "SACHITH  FARM            1\n",
            "LITEOL DETERGENT         1\n",
            "DAYANI WEAVING MILLS     1\n",
            "MALEESHA INDUSTRIES      1\n",
            "GLOW KEM LANKA           1\n",
            "Name: count, Length: 79, dtype: int64\n",
            "Updated data saved to '/content/drive/MyDrive/DSGP_User/Pre Processed data/Stock-report_generated.xlsx'\n"
          ]
        }
      ],
      "source": [
        "import pandas as pd\n",
        "import numpy as np\n",
        "import datetime\n",
        "\n",
        "# 1. Load the Excel file\n",
        "excel_file = '/content/drive/MyDrive/DSGP_User/Stock report Combined.xlsx'\n",
        "\n",
        "try:\n",
        "    df = pd.read_excel(excel_file, sheet_name='TCC')\n",
        "    print(\"Excel file loaded successfully.\")\n",
        "except FileNotFoundError:\n",
        "    print(f\"Error: File '{excel_file}' not found. Make sure you have uploaded it to Colab.\")\n",
        "    exit()\n",
        "except ValueError as e:\n",
        "    print(f\"Error loading sheet 'TCC': {e}\")\n",
        "    exit()\n",
        "\n",
        "# 2. Display company name counts BEFORE generating synthetic data\n",
        "print(\"\\n--- Company Name Counts (Before) ---\")\n",
        "print(df['Customer name'].value_counts())\n",
        "\n",
        "# 2.1. Define a function to generate a single row of synthetic data\n",
        "def generate_synthetic_data_row():\n",
        "    \"\"\"Generates a single row of synthetic data for the stock report.\"\"\"\n",
        "\n",
        "    # Generate realistic but random values for each column\n",
        "    warehouse = np.random.choice(['B4', 'WH-75']) # example add B5 and B6 to warehouse\n",
        "    product_code = np.random.choice(['H2O2-50%-IG-TCC-BANGLADESH','H2O2-50%-IG-ICL-BANGLADESH', 'LC-IG-ISGEC-INDIA','LC-IG-PCIPL-INDIA'])  # Keep this consistent as per your data\n",
        "    invoice_no = f\"SI-N/{np.random.randint(10, 12)}/25/{np.random.randint(100, 999)}\"  # Example pattern\n",
        "    start_date = datetime.date(2024, 11, 6)\n",
        "    end_date = datetime.date(2025, 2, 9)\n",
        "    time_between_dates = end_date - start_date\n",
        "    days_between_dates = time_between_dates.days\n",
        "    random_number_of_days = np.random.randint(0, days_between_dates)\n",
        "    transaction_date = start_date + datetime.timedelta(days=random_number_of_days)\n",
        "    uom = 'KG'  # Consistent unit of measure\n",
        "    # received_qty = np.random.randint(0, 10)    #Assuming mostly issued\n",
        "    issued_qty = np.random.randint(30, 3000) # Random quantity between 30 and 2000\n",
        "    customer_names = ['Galagedara CHEMICAL', 'PIYARA WASHING ENTERPRISES', 'RIVINTA DRY AND WASHING', 'SN PRODUCTS',\n",
        "                      'NEW BRILLIANT WASHING', 'KAVISHKA FIBRE', 'S & S CHEMICALS (PVT) LTD', 'OSPREY CLOTHING (PVT) LTD',\n",
        "                      'DYNAWASH LIMITED', 'ECO WASHING (PVT) LTD', 'LEXUS', 'ROSS DAIRIES PVT LTD', 'EAGLE COIR',\n",
        "                      'Hirdaramani Group ', 'Hayleys Advantis Ltd', 'Ceylon Oxygen Ltd', 'Union Chemicals Lanka', 'HydroPure Systems', 'Ansell Lanka',\n",
        "                      'CleanFlow Lanka', 'WaterCare Solutions', 'Brandix Essentials', 'FreshAgro Solutions','Lanka Walltile PLC ',\n",
        "                      'Laugfs Holdings', 'Chemicals Corporation Ltd', 'Tokyo Cement Company', 'Dipped Products PLC', 'Piramal Glass Ceylon', 'Sanitech Chemicals',\n",
        "                      'BPL Chemicals', 'SUMITH Cement Corporation', 'kAMAL Rubber Corporation', 'Kohinoor Chemicals', 'Prabha Chemicals', 'Sinopec', 'Unilever',\n",
        "                      'Hemas Pharmaceuticals ', 'George Steuart Health', 'Lanka Tiles PLC ', 'Richard Pieris & Company PLC', 'Lanka Phos Limited', 'Ceylon Paints Limited ', 'Ceylon Cold Stores (Elephant House)'] # Add more to this list\n",
        "    customer_name = np.random.choice(customer_names)\n",
        "\n",
        "    row = {\n",
        "        'Warehouse': warehouse,\n",
        "        'Product code': product_code,\n",
        "        'Invoice No': invoice_no,\n",
        "        'Transaction Date': transaction_date,\n",
        "        'UOM': uom,\n",
        "        # 'Received Qty': received_qty,\n",
        "        'Issued Qty ': issued_qty,\n",
        "        'Customer name': customer_name\n",
        "    }\n",
        "    return row\n",
        "\n",
        "# 3. Generate 1000 rows of synthetic data and append to the DataFrame\n",
        "num_rows_to_generate = 1500\n",
        "\n",
        "synthetic_data = []\n",
        "for _ in range(num_rows_to_generate):\n",
        "    synthetic_data.append(generate_synthetic_data_row())\n",
        "\n",
        "df_synthetic = pd.DataFrame(synthetic_data)\n",
        "df = pd.concat([df, df_synthetic], ignore_index=True)\n",
        "\n",
        "print(f\"{num_rows_to_generate} rows of synthetic data generated and appended.\")\n",
        "\n",
        "# 3.1. Display company name counts AFTER generating synthetic data\n",
        "print(\"\\n--- Company Name Counts (After) ---\")\n",
        "print(df['Customer name'].value_counts())\n",
        "\n",
        "# 4. Save the updated DataFrame back to the Excel file\n",
        "output_file = '/content/drive/MyDrive/DSGP_User/Pre Processed data/Stock-report_generated.xlsx'  # Use a different name to avoid overwriting\n",
        "df.to_excel(output_file, sheet_name='TCC', index=False)\n",
        "\n",
        "print(f\"Updated data saved to '{output_file}'\")\n"
      ]
    }
  ]
}