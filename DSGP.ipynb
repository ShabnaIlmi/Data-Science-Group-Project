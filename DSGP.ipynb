{
  "nbformat": 4,
  "nbformat_minor": 0,
  "metadata": {
    "colab": {
      "provenance": [],
      "gpuType": "V28",
      "authorship_tag": "ABX9TyOxFl7gypaRTToiIQxjE2Tc",
      "include_colab_link": true
    },
    "kernelspec": {
      "name": "python3",
      "display_name": "Python 3"
    },
    "language_info": {
      "name": "python"
    },
    "accelerator": "TPU"
  },
  "cells": [
    {
      "cell_type": "markdown",
      "metadata": {
        "id": "view-in-github",
        "colab_type": "text"
      },
      "source": [
        "<a href=\"https://colab.research.google.com/github/ShabnaIlmi/Data-Science-Group-Project/blob/recipe-risk-analyzer/DSGP.ipynb\" target=\"_parent\"><img src=\"https://colab.research.google.com/assets/colab-badge.svg\" alt=\"Open In Colab\"/></a>"
      ]
    },
    {
      "cell_type": "code",
      "source": [
        "import pandas as pd\n",
        "import numpy as np\n",
        "from sklearn.model_selection import train_test_split\n",
        "from sklearn.ensemble import RandomForestClassifier\n",
        "from sklearn.metrics import classification_report, confusion_matrix, accuracy_score\n",
        "from sklearn.preprocessing import LabelEncoder, StandardScaler\n"
      ],
      "metadata": {
        "id": "Dxv5RWe_xE-u"
      },
      "execution_count": null,
      "outputs": []
    },
    {
      "cell_type": "code",
      "source": [
        "# Load the dataset\n",
        "file_path = \"chemical_recipes_dataset.csv\"  # Replace with the actual file path if necessary\n",
        "data = pd.read_csv(file_path)\n",
        "\n",
        "# Display the first few rows of the dataset\n",
        "print(data.head())\n"
      ],
      "metadata": {
        "colab": {
          "base_uri": "https://localhost:8080/"
        },
        "id": "vessNO4bxFs0",
        "outputId": "d1555b99-8e3a-4be3-c1a8-54228087bb52"
      },
      "execution_count": null,
      "outputs": [
        {
          "output_type": "stream",
          "name": "stdout",
          "text": [
            "  Recipe ID                                     Chemical Names  \\\n",
            "0    R-0001  Methylphosphonyl Difluoride + Chlorine + Hydro...   \n",
            "1    R-0002        Sulfuric Acid + Methane + Hydrogen Peroxide   \n",
            "2    R-0003  Potassium Cyanide + Methane + Ammonium Nitrate...   \n",
            "3    R-0004                        Methane + Hydrogen Fluoride   \n",
            "4    R-0005  Sulfuric Acid + Ethanol + Methane + Potassium ...   \n",
            "\n",
            "                  Quantities  \\\n",
            "0         354g + 271g + 119g   \n",
            "1          442g + 62g + 194g   \n",
            "2  276g + 133g + 212g + 484g   \n",
            "3                491g + 136g   \n",
            "4   496g + 11g + 491g + 369g   \n",
            "\n",
            "                                            Category  \\\n",
            "0                            Toxic Liquid, Toxic Gas   \n",
            "1             Flammable Gas, Toxic Liquid, Explosive   \n",
            "2   Flammable Gas, Toxic Solid, Explosive, Toxic Gas   \n",
            "3                           Flammable Gas, Toxic Gas   \n",
            "4  Flammable Gas, Toxic Solid, Toxic Liquid, Flam...   \n",
            "\n",
            "                                  Potential Reaction Risk Level  \n",
            "0  Potential hazard due to interaction of Methylp...     Medium  \n",
            "1  Potential hazard due to interaction of Sulfuri...       High  \n",
            "2  Potential hazard due to interaction of Potassi...       High  \n",
            "3  Potential hazard due to interaction of Methane...     Medium  \n",
            "4  Potential hazard due to interaction of Sulfuri...     Medium  \n"
          ]
        }
      ]
    },
    {
      "cell_type": "code",
      "source": [
        "# Encode the 'Risk Level' (target variable)\n",
        "label_encoder = LabelEncoder()\n",
        "data['Risk Level Encoded'] = label_encoder.fit_transform(data['Risk Level'])\n",
        "\n",
        "# One-hot encode the 'Chemical Names' and 'Category'\n",
        "chemical_dummies = data['Chemical Names'].str.get_dummies(sep=' + ')\n",
        "category_dummies = data['Category'].str.get_dummies(sep=', ')\n",
        "\n",
        "# Extract numerical values from 'Quantities' (sum the grams for simplicity)\n",
        "data['Total Quantity (g)'] = data['Quantities'].str.extractall(r'(\\d+)').astype(int).groupby(level=0).sum()\n",
        "\n",
        "# Combine all features\n",
        "X = pd.concat([chemical_dummies, category_dummies, data['Total Quantity (g)']], axis=1)\n",
        "y = data['Risk Level Encoded']\n"
      ],
      "metadata": {
        "id": "cDAhdjzExKiF"
      },
      "execution_count": null,
      "outputs": []
    },
    {
      "cell_type": "code",
      "source": [
        "# Split into training and testing sets\n",
        "X_train, X_test, y_train, y_test = train_test_split(X, y, test_size=0.2, random_state=42)\n",
        "\n",
        "# Standardize the features\n",
        "scaler = StandardScaler()\n",
        "X_train = scaler.fit_transform(X_train)\n",
        "X_test = scaler.transform(X_test)\n"
      ],
      "metadata": {
        "id": "yJWc1LSSxOA1"
      },
      "execution_count": null,
      "outputs": []
    },
    {
      "cell_type": "code",
      "source": [
        "# Train a Random Forest Classifier\n",
        "model = RandomForestClassifier(n_estimators=100, random_state=42)\n",
        "model.fit(X_train, y_train)\n",
        "\n",
        "print(\"Model training complete.\")\n"
      ],
      "metadata": {
        "colab": {
          "base_uri": "https://localhost:8080/"
        },
        "id": "QOPI8ZVdxQet",
        "outputId": "161fd787-2585-496a-b614-e650fe119908"
      },
      "execution_count": null,
      "outputs": [
        {
          "output_type": "stream",
          "name": "stdout",
          "text": [
            "Model training complete.\n"
          ]
        }
      ]
    },
    {
      "cell_type": "code",
      "source": [
        "# Make predictions\n",
        "y_pred = model.predict(X_test)\n",
        "\n",
        "# Evaluate the model\n",
        "print(\"Confusion Matrix:\")\n",
        "print(confusion_matrix(y_test, y_pred))\n",
        "print(\"\\nClassification Report:\")\n",
        "print(classification_report(y_test, y_pred))\n",
        "print(\"\\nAccuracy Score:\", accuracy_score(y_test, y_pred))\n"
      ],
      "metadata": {
        "colab": {
          "base_uri": "https://localhost:8080/"
        },
        "id": "v4CMhlsCxSdd",
        "outputId": "6b2e2df7-e0c9-46e0-918c-39f3d70f179d"
      },
      "execution_count": null,
      "outputs": [
        {
          "output_type": "stream",
          "name": "stdout",
          "text": [
            "Confusion Matrix:\n",
            "[[114   0   0]\n",
            " [  0   0   1]\n",
            " [  0   0  85]]\n",
            "\n",
            "Classification Report:\n",
            "              precision    recall  f1-score   support\n",
            "\n",
            "           0       1.00      1.00      1.00       114\n",
            "           1       0.00      0.00      0.00         1\n",
            "           2       0.99      1.00      0.99        85\n",
            "\n",
            "    accuracy                           0.99       200\n",
            "   macro avg       0.66      0.67      0.66       200\n",
            "weighted avg       0.99      0.99      0.99       200\n",
            "\n",
            "\n",
            "Accuracy Score: 0.995\n"
          ]
        },
        {
          "output_type": "stream",
          "name": "stderr",
          "text": [
            "/usr/local/lib/python3.10/dist-packages/sklearn/metrics/_classification.py:1531: UndefinedMetricWarning: Precision is ill-defined and being set to 0.0 in labels with no predicted samples. Use `zero_division` parameter to control this behavior.\n",
            "  _warn_prf(average, modifier, f\"{metric.capitalize()} is\", len(result))\n",
            "/usr/local/lib/python3.10/dist-packages/sklearn/metrics/_classification.py:1531: UndefinedMetricWarning: Precision is ill-defined and being set to 0.0 in labels with no predicted samples. Use `zero_division` parameter to control this behavior.\n",
            "  _warn_prf(average, modifier, f\"{metric.capitalize()} is\", len(result))\n",
            "/usr/local/lib/python3.10/dist-packages/sklearn/metrics/_classification.py:1531: UndefinedMetricWarning: Precision is ill-defined and being set to 0.0 in labels with no predicted samples. Use `zero_division` parameter to control this behavior.\n",
            "  _warn_prf(average, modifier, f\"{metric.capitalize()} is\", len(result))\n"
          ]
        }
      ]
    },
    {
      "cell_type": "code",
      "source": [
        "import joblib\n",
        "\n",
        "# Save the trained model to a file\n",
        "joblib.dump(model, \"risk_prediction_model.pkl\")\n",
        "print(\"Model saved as 'risk_prediction_model.pkl'\")\n"
      ],
      "metadata": {
        "colab": {
          "base_uri": "https://localhost:8080/"
        },
        "id": "Pk1BwUepxVeM",
        "outputId": "c781ad5d-18a7-4269-c729-35e53c0c97de"
      },
      "execution_count": null,
      "outputs": [
        {
          "output_type": "stream",
          "name": "stdout",
          "text": [
            "Model saved as 'risk_prediction_model.pkl'\n"
          ]
        }
      ]
    },
    {
      "cell_type": "code",
      "source": [
        "# Example: Predict risk for a new chemical combination\n",
        "new_data = pd.DataFrame({\n",
        "    \"Chemical Names\": [\"Ammonium Nitrate + Hydrogen Peroxide\"],\n",
        "    \"Category\": [\"Explosive, Toxic Liquid\"],\n",
        "    \"Quantities\": [\"200g + 100g\"]\n",
        "})\n",
        "\n",
        "# Preprocess the new data\n",
        "new_data['Total Quantity (g)'] = new_data['Quantities'].str.extractall(r'(\\d+)').astype(int).groupby(level=0).sum()\n",
        "\n",
        "# Create dummy features matching training data\n",
        "chemical_features = pd.DataFrame(columns=chemical_dummies.columns)\n",
        "category_features = pd.DataFrame(columns=category_dummies.columns)\n",
        "\n",
        "# Fill in the matching dummy values\n",
        "for col in chemical_features.columns:\n",
        "    chemical_features.at[0, col] = 1 if col in new_data['Chemical Names'][0].split(\" + \") else 0\n",
        "\n",
        "for col in category_features.columns:\n",
        "    category_features.at[0, col] = 1 if col in new_data['Category'][0].split(\", \") else 0\n",
        "\n",
        "# Combine all features\n",
        "new_features = pd.concat([chemical_features, category_features], axis=1)\n",
        "new_features['Total Quantity (g)'] = new_data['Total Quantity (g)']\n",
        "\n",
        "# Fill missing columns with zeros to match training data\n",
        "new_features = new_features.reindex(columns=X.columns, fill_value=0)\n",
        "\n",
        "# Standardize\n",
        "new_features_scaled = scaler.transform(new_features)\n",
        "\n",
        "# Predict\n",
        "predicted_risk = model.predict(new_features_scaled)\n",
        "predicted_risk_label = label_encoder.inverse_transform(predicted_risk)\n",
        "\n",
        "print(\"Predicted Risk Level:\", predicted_risk_label[0])\n"
      ],
      "metadata": {
        "colab": {
          "base_uri": "https://localhost:8080/"
        },
        "id": "qAWTudRIyCel",
        "outputId": "96059ca2-893e-4fba-f752-547dca98d1b4"
      },
      "execution_count": null,
      "outputs": [
        {
          "output_type": "stream",
          "name": "stdout",
          "text": [
            "Predicted Risk Level: High\n"
          ]
        }
      ]
    },
    {
      "cell_type": "code",
      "source": [
        "import joblib\n",
        "\n",
        "# Save the trained scaler and label encoder\n",
        "joblib.dump(scaler, \"scaler.pkl\")\n",
        "joblib.dump(label_encoder, \"label_encoder.pkl\")\n"
      ],
      "metadata": {
        "colab": {
          "base_uri": "https://localhost:8080/"
        },
        "id": "nhOCzZsbzXE9",
        "outputId": "0254f303-c040-4768-a223-16135e61f710"
      },
      "execution_count": null,
      "outputs": [
        {
          "output_type": "execute_result",
          "data": {
            "text/plain": [
              "['label_encoder.pkl']"
            ]
          },
          "metadata": {},
          "execution_count": 16
        }
      ]
    },
    {
      "cell_type": "code",
      "source": [
        "import pandas as pd\n",
        "import random\n",
        "from sklearn.preprocessing import StandardScaler, LabelEncoder\n",
        "\n",
        "# Load the previously trained model and preprocessing objects\n",
        "import joblib\n",
        "model = joblib.load(\"risk_prediction_model.pkl\")  # Load your trained model\n",
        "scaler = joblib.load(\"scaler.pkl\")  # Assuming you saved the scaler\n",
        "label_encoder = joblib.load(\"label_encoder.pkl\")  # Assuming you saved the label encoder\n",
        "\n",
        "# Define function to process input chemicals and make prediction\n",
        "def predict_chemical_risk(chemical_names, quantities, categories):\n",
        "    # Creating the dataframe from the input\n",
        "    input_data = pd.DataFrame({\n",
        "        \"Chemical Names\": [chemical_names],\n",
        "        \"Quantities\": [quantities],\n",
        "        \"Category\": [categories]\n",
        "    })\n",
        "\n",
        "    # Extracting and summing the quantities\n",
        "    input_data['Total Quantity (g)'] = input_data['Quantities'].str.extractall(r'(\\d+)').astype(int).groupby(level=0).sum()\n",
        "\n",
        "    # Creating feature columns for one-hot encoding\n",
        "    chemical_features = pd.DataFrame(columns=chemical_dummies.columns)\n",
        "    category_features = pd.DataFrame(columns=category_dummies.columns)\n",
        "\n",
        "    # Fill the chemical features based on input data\n",
        "    for col in chemical_features.columns:\n",
        "        chemical_features.at[0, col] = 1 if col in chemical_names.split(\" + \") else 0\n",
        "\n",
        "    # Fill the category features based on input data\n",
        "    for col in category_features.columns:\n",
        "        category_features.at[0, col] = 1 if col in categories.split(\", \") else 0\n",
        "\n",
        "    # Combine the features\n",
        "    new_features = pd.concat([chemical_features, category_features], axis=1)\n",
        "    new_features['Total Quantity (g)'] = input_data['Total Quantity (g)']\n",
        "\n",
        "    # Fill any missing columns from the training data\n",
        "    new_features = new_features.reindex(columns=X.columns, fill_value=0)\n",
        "\n",
        "    # Standardize the new data using the same scaler\n",
        "    new_features_scaled = scaler.transform(new_features)\n",
        "\n",
        "    # Predict risk\n",
        "    predicted_risk = model.predict(new_features_scaled)\n",
        "    predicted_risk_label = label_encoder.inverse_transform(predicted_risk)\n",
        "\n",
        "    return predicted_risk_label[0]\n",
        "\n",
        "# Example usage\n",
        "chemical_input = input(\"Enter chemical names (separate by ' + '): \")\n",
        "quantity_input = input(\"Enter quantities (separate by ' + '): \")\n",
        "category_input = input(\"Enter categories (separate by ', '): \")\n",
        "\n",
        "predicted_risk = predict_chemical_risk(chemical_input, quantity_input, category_input)\n",
        "\n",
        "print(\"Predicted Risk Level:\", predicted_risk)\n"
      ],
      "metadata": {
        "colab": {
          "base_uri": "https://localhost:8080/"
        },
        "id": "JZn_ahc0y0PV",
        "outputId": "2f8131b2-4ee7-4e07-9bc5-68cab5cc3ec4"
      },
      "execution_count": null,
      "outputs": [
        {
          "output_type": "stream",
          "name": "stdout",
          "text": [
            "Enter chemical names (separate by ' + '): Water +  Water\n",
            "Enter quantities (separate by ' + '): 1000g + 2000g\n",
            "Enter categories (separate by ', '): Explosive, Toxic Liquid\n",
            "Predicted Risk Level: High\n"
          ]
        }
      ]
    }
  ]
}