{
  "nbformat": 4,
  "nbformat_minor": 0,
  "metadata": {
    "colab": {
      "provenance": [],
      "mount_file_id": "1-aM65XYR8y-cfBGFlXT7Lb1Rj0MaNhEG",
      "authorship_tag": "ABX9TyMJ1AvXGEgy9XHKj0SGMrNz",
      "include_colab_link": true
    },
    "kernelspec": {
      "name": "python3",
      "display_name": "Python 3"
    },
    "language_info": {
      "name": "python"
    }
  },
  "cells": [
    {
      "cell_type": "markdown",
      "metadata": {
        "id": "view-in-github",
        "colab_type": "text"
      },
      "source": [
        "<a href=\"https://colab.research.google.com/github/ShabnaIlmi/Data-Science-Group-Project/blob/Importer_Risk_Prediction_2/Exploratory_Data_Analysis.ipynb\" target=\"_parent\"><img src=\"https://colab.research.google.com/assets/colab-badge.svg\" alt=\"Open In Colab\"/></a>"
      ]
    },
    {
      "cell_type": "markdown",
      "source": [
        "# **Installing Necessary Libraries**"
      ],
      "metadata": {
        "id": "LFJzgAD54KDi"
      }
    },
    {
      "cell_type": "code",
      "source": [
        "# Installing required libraries\n",
        "# !pip install --upgrade tensorflow\n",
        "# !pip install fancyimpute scikit-learn pandas"
      ],
      "metadata": {
        "id": "h0kIvhYN4Jcc"
      },
      "execution_count": null,
      "outputs": []
    },
    {
      "cell_type": "markdown",
      "source": [
        "# **Importing the Relevant Libraries**"
      ],
      "metadata": {
        "id": "6DPydGU1HqDn"
      }
    },
    {
      "cell_type": "code",
      "source": [
        "# Importing the Relevant Libraries\n",
        "import numpy as np\n",
        "import pandas as pd\n",
        "import matplotlib.pyplot as plt\n",
        "import seaborn as sns\n",
        "import warnings\n",
        "warnings.filterwarnings('ignore')"
      ],
      "metadata": {
        "id": "50apy7lJH0Sl"
      },
      "execution_count": 17,
      "outputs": []
    },
    {
      "cell_type": "code",
      "source": [
        "# Mounting the google drive\n",
        "from google.colab import drive\n",
        "drive.mount('/content/drive')"
      ],
      "metadata": {
        "colab": {
          "base_uri": "https://localhost:8080/"
        },
        "id": "GvYu5saRH-yl",
        "outputId": "a20b4346-a9e6-4893-d10e-418642a56c25"
      },
      "execution_count": 18,
      "outputs": [
        {
          "output_type": "stream",
          "name": "stdout",
          "text": [
            "Drive already mounted at /content/drive; to attempt to forcibly remount, call drive.mount(\"/content/drive\", force_remount=True).\n"
          ]
        }
      ]
    },
    {
      "cell_type": "markdown",
      "source": [
        "# **Loading the Dataset**"
      ],
      "metadata": {
        "id": "WMtrboYDH3Dt"
      }
    },
    {
      "cell_type": "code",
      "source": [
        "# Loading the dataset with the proper delimiter (semicolon)\n",
        "data = pd.read_excel('/content/drive/MyDrive/Importer_Risk_Prediction_2/Dataset/IMPORT STATISTICS - 2023.xlsx')"
      ],
      "metadata": {
        "id": "XOk8841-IBk2"
      },
      "execution_count": 19,
      "outputs": []
    },
    {
      "cell_type": "code",
      "source": [
        "# Displaying the first few rows of the data\n",
        "data.head()"
      ],
      "metadata": {
        "colab": {
          "base_uri": "https://localhost:8080/",
          "height": 486
        },
        "id": "qBWC2iJxL64M",
        "outputId": "25aee032-f26c-4865-f945-a811ca534acd"
      },
      "execution_count": 20,
      "outputs": [
        {
          "output_type": "execute_result",
          "data": {
            "text/plain": [
              "  IMPORTER    YEAR     MONTH  HSCODE     COUNTRY UNIT  QUANTITY    VALUE_RS  \\\n",
              "0  Unknown  2023.0   JANUARY  280110  BANGLADESH  Kg.  131600.0  13877114.0   \n",
              "1  Unknown  2023.0   JANUARY  280110       INDIA  Kg.   37800.0   3924989.0   \n",
              "2  Unknown  2023.0   JANUARY  280110    MALAYSIA  Kg.   12090.0   5390772.0   \n",
              "3  Unknown  2023.0  FEBRUARY  280110  BANGLADESH  Kg.   25200.0   3089445.0   \n",
              "4  Unknown  2023.0  FEBRUARY  280110       INDIA  Kg.   75599.0   6939860.0   \n",
              "\n",
              "                                      DESCRIPTION_01  \\\n",
              "0  Inorganic chemicals; Organic or inorganic comp...   \n",
              "1  Inorganic chemicals; Organic or inorganic comp...   \n",
              "2  Inorganic chemicals; Organic or inorganic comp...   \n",
              "3  Inorganic chemicals; Organic or inorganic comp...   \n",
              "4  Inorganic chemicals; Organic or inorganic comp...   \n",
              "\n",
              "                                      DESCRIPTION_02 DESCRIPTION_03  \n",
              "0  Fluorine, chlorine, bromine and iodine        ...       Chlorine  \n",
              "1  Fluorine, chlorine, bromine and iodine        ...       Chlorine  \n",
              "2  Fluorine, chlorine, bromine and iodine        ...       Chlorine  \n",
              "3  Fluorine, chlorine, bromine and iodine        ...       Chlorine  \n",
              "4  Fluorine, chlorine, bromine and iodine        ...       Chlorine  "
            ],
            "text/html": [
              "\n",
              "  <div id=\"df-baf5a701-83b4-42a4-8229-defb9ae2a911\" class=\"colab-df-container\">\n",
              "    <div>\n",
              "<style scoped>\n",
              "    .dataframe tbody tr th:only-of-type {\n",
              "        vertical-align: middle;\n",
              "    }\n",
              "\n",
              "    .dataframe tbody tr th {\n",
              "        vertical-align: top;\n",
              "    }\n",
              "\n",
              "    .dataframe thead th {\n",
              "        text-align: right;\n",
              "    }\n",
              "</style>\n",
              "<table border=\"1\" class=\"dataframe\">\n",
              "  <thead>\n",
              "    <tr style=\"text-align: right;\">\n",
              "      <th></th>\n",
              "      <th>IMPORTER</th>\n",
              "      <th>YEAR</th>\n",
              "      <th>MONTH</th>\n",
              "      <th>HSCODE</th>\n",
              "      <th>COUNTRY</th>\n",
              "      <th>UNIT</th>\n",
              "      <th>QUANTITY</th>\n",
              "      <th>VALUE_RS</th>\n",
              "      <th>DESCRIPTION_01</th>\n",
              "      <th>DESCRIPTION_02</th>\n",
              "      <th>DESCRIPTION_03</th>\n",
              "    </tr>\n",
              "  </thead>\n",
              "  <tbody>\n",
              "    <tr>\n",
              "      <th>0</th>\n",
              "      <td>Unknown</td>\n",
              "      <td>2023.0</td>\n",
              "      <td>JANUARY</td>\n",
              "      <td>280110</td>\n",
              "      <td>BANGLADESH</td>\n",
              "      <td>Kg.</td>\n",
              "      <td>131600.0</td>\n",
              "      <td>13877114.0</td>\n",
              "      <td>Inorganic chemicals; Organic or inorganic comp...</td>\n",
              "      <td>Fluorine, chlorine, bromine and iodine        ...</td>\n",
              "      <td>Chlorine</td>\n",
              "    </tr>\n",
              "    <tr>\n",
              "      <th>1</th>\n",
              "      <td>Unknown</td>\n",
              "      <td>2023.0</td>\n",
              "      <td>JANUARY</td>\n",
              "      <td>280110</td>\n",
              "      <td>INDIA</td>\n",
              "      <td>Kg.</td>\n",
              "      <td>37800.0</td>\n",
              "      <td>3924989.0</td>\n",
              "      <td>Inorganic chemicals; Organic or inorganic comp...</td>\n",
              "      <td>Fluorine, chlorine, bromine and iodine        ...</td>\n",
              "      <td>Chlorine</td>\n",
              "    </tr>\n",
              "    <tr>\n",
              "      <th>2</th>\n",
              "      <td>Unknown</td>\n",
              "      <td>2023.0</td>\n",
              "      <td>JANUARY</td>\n",
              "      <td>280110</td>\n",
              "      <td>MALAYSIA</td>\n",
              "      <td>Kg.</td>\n",
              "      <td>12090.0</td>\n",
              "      <td>5390772.0</td>\n",
              "      <td>Inorganic chemicals; Organic or inorganic comp...</td>\n",
              "      <td>Fluorine, chlorine, bromine and iodine        ...</td>\n",
              "      <td>Chlorine</td>\n",
              "    </tr>\n",
              "    <tr>\n",
              "      <th>3</th>\n",
              "      <td>Unknown</td>\n",
              "      <td>2023.0</td>\n",
              "      <td>FEBRUARY</td>\n",
              "      <td>280110</td>\n",
              "      <td>BANGLADESH</td>\n",
              "      <td>Kg.</td>\n",
              "      <td>25200.0</td>\n",
              "      <td>3089445.0</td>\n",
              "      <td>Inorganic chemicals; Organic or inorganic comp...</td>\n",
              "      <td>Fluorine, chlorine, bromine and iodine        ...</td>\n",
              "      <td>Chlorine</td>\n",
              "    </tr>\n",
              "    <tr>\n",
              "      <th>4</th>\n",
              "      <td>Unknown</td>\n",
              "      <td>2023.0</td>\n",
              "      <td>FEBRUARY</td>\n",
              "      <td>280110</td>\n",
              "      <td>INDIA</td>\n",
              "      <td>Kg.</td>\n",
              "      <td>75599.0</td>\n",
              "      <td>6939860.0</td>\n",
              "      <td>Inorganic chemicals; Organic or inorganic comp...</td>\n",
              "      <td>Fluorine, chlorine, bromine and iodine        ...</td>\n",
              "      <td>Chlorine</td>\n",
              "    </tr>\n",
              "  </tbody>\n",
              "</table>\n",
              "</div>\n",
              "    <div class=\"colab-df-buttons\">\n",
              "\n",
              "  <div class=\"colab-df-container\">\n",
              "    <button class=\"colab-df-convert\" onclick=\"convertToInteractive('df-baf5a701-83b4-42a4-8229-defb9ae2a911')\"\n",
              "            title=\"Convert this dataframe to an interactive table.\"\n",
              "            style=\"display:none;\">\n",
              "\n",
              "  <svg xmlns=\"http://www.w3.org/2000/svg\" height=\"24px\" viewBox=\"0 -960 960 960\">\n",
              "    <path d=\"M120-120v-720h720v720H120Zm60-500h600v-160H180v160Zm220 220h160v-160H400v160Zm0 220h160v-160H400v160ZM180-400h160v-160H180v160Zm440 0h160v-160H620v160ZM180-180h160v-160H180v160Zm440 0h160v-160H620v160Z\"/>\n",
              "  </svg>\n",
              "    </button>\n",
              "\n",
              "  <style>\n",
              "    .colab-df-container {\n",
              "      display:flex;\n",
              "      gap: 12px;\n",
              "    }\n",
              "\n",
              "    .colab-df-convert {\n",
              "      background-color: #E8F0FE;\n",
              "      border: none;\n",
              "      border-radius: 50%;\n",
              "      cursor: pointer;\n",
              "      display: none;\n",
              "      fill: #1967D2;\n",
              "      height: 32px;\n",
              "      padding: 0 0 0 0;\n",
              "      width: 32px;\n",
              "    }\n",
              "\n",
              "    .colab-df-convert:hover {\n",
              "      background-color: #E2EBFA;\n",
              "      box-shadow: 0px 1px 2px rgba(60, 64, 67, 0.3), 0px 1px 3px 1px rgba(60, 64, 67, 0.15);\n",
              "      fill: #174EA6;\n",
              "    }\n",
              "\n",
              "    .colab-df-buttons div {\n",
              "      margin-bottom: 4px;\n",
              "    }\n",
              "\n",
              "    [theme=dark] .colab-df-convert {\n",
              "      background-color: #3B4455;\n",
              "      fill: #D2E3FC;\n",
              "    }\n",
              "\n",
              "    [theme=dark] .colab-df-convert:hover {\n",
              "      background-color: #434B5C;\n",
              "      box-shadow: 0px 1px 3px 1px rgba(0, 0, 0, 0.15);\n",
              "      filter: drop-shadow(0px 1px 2px rgba(0, 0, 0, 0.3));\n",
              "      fill: #FFFFFF;\n",
              "    }\n",
              "  </style>\n",
              "\n",
              "    <script>\n",
              "      const buttonEl =\n",
              "        document.querySelector('#df-baf5a701-83b4-42a4-8229-defb9ae2a911 button.colab-df-convert');\n",
              "      buttonEl.style.display =\n",
              "        google.colab.kernel.accessAllowed ? 'block' : 'none';\n",
              "\n",
              "      async function convertToInteractive(key) {\n",
              "        const element = document.querySelector('#df-baf5a701-83b4-42a4-8229-defb9ae2a911');\n",
              "        const dataTable =\n",
              "          await google.colab.kernel.invokeFunction('convertToInteractive',\n",
              "                                                    [key], {});\n",
              "        if (!dataTable) return;\n",
              "\n",
              "        const docLinkHtml = 'Like what you see? Visit the ' +\n",
              "          '<a target=\"_blank\" href=https://colab.research.google.com/notebooks/data_table.ipynb>data table notebook</a>'\n",
              "          + ' to learn more about interactive tables.';\n",
              "        element.innerHTML = '';\n",
              "        dataTable['output_type'] = 'display_data';\n",
              "        await google.colab.output.renderOutput(dataTable, element);\n",
              "        const docLink = document.createElement('div');\n",
              "        docLink.innerHTML = docLinkHtml;\n",
              "        element.appendChild(docLink);\n",
              "      }\n",
              "    </script>\n",
              "  </div>\n",
              "\n",
              "\n",
              "<div id=\"df-431750e8-7c0b-422f-b82b-9e3a0ab78849\">\n",
              "  <button class=\"colab-df-quickchart\" onclick=\"quickchart('df-431750e8-7c0b-422f-b82b-9e3a0ab78849')\"\n",
              "            title=\"Suggest charts\"\n",
              "            style=\"display:none;\">\n",
              "\n",
              "<svg xmlns=\"http://www.w3.org/2000/svg\" height=\"24px\"viewBox=\"0 0 24 24\"\n",
              "     width=\"24px\">\n",
              "    <g>\n",
              "        <path d=\"M19 3H5c-1.1 0-2 .9-2 2v14c0 1.1.9 2 2 2h14c1.1 0 2-.9 2-2V5c0-1.1-.9-2-2-2zM9 17H7v-7h2v7zm4 0h-2V7h2v10zm4 0h-2v-4h2v4z\"/>\n",
              "    </g>\n",
              "</svg>\n",
              "  </button>\n",
              "\n",
              "<style>\n",
              "  .colab-df-quickchart {\n",
              "      --bg-color: #E8F0FE;\n",
              "      --fill-color: #1967D2;\n",
              "      --hover-bg-color: #E2EBFA;\n",
              "      --hover-fill-color: #174EA6;\n",
              "      --disabled-fill-color: #AAA;\n",
              "      --disabled-bg-color: #DDD;\n",
              "  }\n",
              "\n",
              "  [theme=dark] .colab-df-quickchart {\n",
              "      --bg-color: #3B4455;\n",
              "      --fill-color: #D2E3FC;\n",
              "      --hover-bg-color: #434B5C;\n",
              "      --hover-fill-color: #FFFFFF;\n",
              "      --disabled-bg-color: #3B4455;\n",
              "      --disabled-fill-color: #666;\n",
              "  }\n",
              "\n",
              "  .colab-df-quickchart {\n",
              "    background-color: var(--bg-color);\n",
              "    border: none;\n",
              "    border-radius: 50%;\n",
              "    cursor: pointer;\n",
              "    display: none;\n",
              "    fill: var(--fill-color);\n",
              "    height: 32px;\n",
              "    padding: 0;\n",
              "    width: 32px;\n",
              "  }\n",
              "\n",
              "  .colab-df-quickchart:hover {\n",
              "    background-color: var(--hover-bg-color);\n",
              "    box-shadow: 0 1px 2px rgba(60, 64, 67, 0.3), 0 1px 3px 1px rgba(60, 64, 67, 0.15);\n",
              "    fill: var(--button-hover-fill-color);\n",
              "  }\n",
              "\n",
              "  .colab-df-quickchart-complete:disabled,\n",
              "  .colab-df-quickchart-complete:disabled:hover {\n",
              "    background-color: var(--disabled-bg-color);\n",
              "    fill: var(--disabled-fill-color);\n",
              "    box-shadow: none;\n",
              "  }\n",
              "\n",
              "  .colab-df-spinner {\n",
              "    border: 2px solid var(--fill-color);\n",
              "    border-color: transparent;\n",
              "    border-bottom-color: var(--fill-color);\n",
              "    animation:\n",
              "      spin 1s steps(1) infinite;\n",
              "  }\n",
              "\n",
              "  @keyframes spin {\n",
              "    0% {\n",
              "      border-color: transparent;\n",
              "      border-bottom-color: var(--fill-color);\n",
              "      border-left-color: var(--fill-color);\n",
              "    }\n",
              "    20% {\n",
              "      border-color: transparent;\n",
              "      border-left-color: var(--fill-color);\n",
              "      border-top-color: var(--fill-color);\n",
              "    }\n",
              "    30% {\n",
              "      border-color: transparent;\n",
              "      border-left-color: var(--fill-color);\n",
              "      border-top-color: var(--fill-color);\n",
              "      border-right-color: var(--fill-color);\n",
              "    }\n",
              "    40% {\n",
              "      border-color: transparent;\n",
              "      border-right-color: var(--fill-color);\n",
              "      border-top-color: var(--fill-color);\n",
              "    }\n",
              "    60% {\n",
              "      border-color: transparent;\n",
              "      border-right-color: var(--fill-color);\n",
              "    }\n",
              "    80% {\n",
              "      border-color: transparent;\n",
              "      border-right-color: var(--fill-color);\n",
              "      border-bottom-color: var(--fill-color);\n",
              "    }\n",
              "    90% {\n",
              "      border-color: transparent;\n",
              "      border-bottom-color: var(--fill-color);\n",
              "    }\n",
              "  }\n",
              "</style>\n",
              "\n",
              "  <script>\n",
              "    async function quickchart(key) {\n",
              "      const quickchartButtonEl =\n",
              "        document.querySelector('#' + key + ' button');\n",
              "      quickchartButtonEl.disabled = true;  // To prevent multiple clicks.\n",
              "      quickchartButtonEl.classList.add('colab-df-spinner');\n",
              "      try {\n",
              "        const charts = await google.colab.kernel.invokeFunction(\n",
              "            'suggestCharts', [key], {});\n",
              "      } catch (error) {\n",
              "        console.error('Error during call to suggestCharts:', error);\n",
              "      }\n",
              "      quickchartButtonEl.classList.remove('colab-df-spinner');\n",
              "      quickchartButtonEl.classList.add('colab-df-quickchart-complete');\n",
              "    }\n",
              "    (() => {\n",
              "      let quickchartButtonEl =\n",
              "        document.querySelector('#df-431750e8-7c0b-422f-b82b-9e3a0ab78849 button');\n",
              "      quickchartButtonEl.style.display =\n",
              "        google.colab.kernel.accessAllowed ? 'block' : 'none';\n",
              "    })();\n",
              "  </script>\n",
              "</div>\n",
              "\n",
              "    </div>\n",
              "  </div>\n"
            ],
            "application/vnd.google.colaboratory.intrinsic+json": {
              "type": "dataframe",
              "variable_name": "data",
              "summary": "{\n  \"name\": \"data\",\n  \"rows\": 1042,\n  \"fields\": [\n    {\n      \"column\": \"IMPORTER\",\n      \"properties\": {\n        \"dtype\": \"category\",\n        \"num_unique_values\": 1,\n        \"samples\": [\n          \"Unknown\"\n        ],\n        \"semantic_type\": \"\",\n        \"description\": \"\"\n      }\n    },\n    {\n      \"column\": \"YEAR\",\n      \"properties\": {\n        \"dtype\": \"number\",\n        \"std\": 3.409615319591779,\n        \"min\": 2016.0,\n        \"max\": 2023.0,\n        \"num_unique_values\": 2,\n        \"samples\": [\n          2016.0\n        ],\n        \"semantic_type\": \"\",\n        \"description\": \"\"\n      }\n    },\n    {\n      \"column\": \"MONTH\",\n      \"properties\": {\n        \"dtype\": \"category\",\n        \"num_unique_values\": 12,\n        \"samples\": [\n          \"NOVEMBER\"\n        ],\n        \"semantic_type\": \"\",\n        \"description\": \"\"\n      }\n    },\n    {\n      \"column\": \"HSCODE\",\n      \"properties\": {\n        \"dtype\": \"number\",\n        \"std\": 1326226917,\n        \"min\": 280110,\n        \"max\": 3102909000,\n        \"num_unique_values\": 131,\n        \"samples\": [\n          2801200042\n        ],\n        \"semantic_type\": \"\",\n        \"description\": \"\"\n      }\n    },\n    {\n      \"column\": \"COUNTRY\",\n      \"properties\": {\n        \"dtype\": \"category\",\n        \"num_unique_values\": 66,\n        \"samples\": [\n          \"italy\"\n        ],\n        \"semantic_type\": \"\",\n        \"description\": \"\"\n      }\n    },\n    {\n      \"column\": \"UNIT\",\n      \"properties\": {\n        \"dtype\": \"category\",\n        \"num_unique_values\": 9,\n        \"samples\": [\n          \"Kg\"\n        ],\n        \"semantic_type\": \"\",\n        \"description\": \"\"\n      }\n    },\n    {\n      \"column\": \"QUANTITY\",\n      \"properties\": {\n        \"dtype\": \"number\",\n        \"std\": 235249.2208540277,\n        \"min\": 0.0,\n        \"max\": 4000000.0,\n        \"num_unique_values\": 359,\n        \"samples\": [\n          12282.0\n        ],\n        \"semantic_type\": \"\",\n        \"description\": \"\"\n      }\n    },\n    {\n      \"column\": \"VALUE_RS\",\n      \"properties\": {\n        \"dtype\": \"number\",\n        \"std\": 7946637.087226704,\n        \"min\": 0.0,\n        \"max\": 47271723.0,\n        \"num_unique_values\": 263,\n        \"samples\": [\n          37.58\n        ],\n        \"semantic_type\": \"\",\n        \"description\": \"\"\n      }\n    },\n    {\n      \"column\": \"DESCRIPTION_01\",\n      \"properties\": {\n        \"dtype\": \"category\",\n        \"num_unique_values\": 2,\n        \"samples\": [\n          \"Fertilizers\"\n        ],\n        \"semantic_type\": \"\",\n        \"description\": \"\"\n      }\n    },\n    {\n      \"column\": \"DESCRIPTION_02\",\n      \"properties\": {\n        \"dtype\": \"category\",\n        \"num_unique_values\": 15,\n        \"samples\": [\n          \"Hydrogen peroxide, whether or not solidified with urea.  \"\n        ],\n        \"semantic_type\": \"\",\n        \"description\": \"\"\n      }\n    },\n    {\n      \"column\": \"DESCRIPTION_03\",\n      \"properties\": {\n        \"dtype\": \"category\",\n        \"num_unique_values\": 17,\n        \"samples\": [\n          \"Chlorine\"\n        ],\n        \"semantic_type\": \"\",\n        \"description\": \"\"\n      }\n    }\n  ]\n}"
            }
          },
          "metadata": {},
          "execution_count": 20
        }
      ]
    },
    {
      "cell_type": "markdown",
      "source": [
        "# **Exploratary Data Analysis and Data Preprocessing**"
      ],
      "metadata": {
        "id": "_BeGKOA6MH2e"
      }
    },
    {
      "cell_type": "code",
      "source": [
        "# Displaying information\n",
        "print(\"Displaying data information\")\n",
        "data.info()"
      ],
      "metadata": {
        "colab": {
          "base_uri": "https://localhost:8080/"
        },
        "id": "NTffHQoaMLB0",
        "outputId": "285e64f4-93b3-4e1a-ea0c-b09bdd380076"
      },
      "execution_count": 21,
      "outputs": [
        {
          "output_type": "stream",
          "name": "stdout",
          "text": [
            "Displaying data information\n",
            "<class 'pandas.core.frame.DataFrame'>\n",
            "RangeIndex: 1042 entries, 0 to 1041\n",
            "Data columns (total 11 columns):\n",
            " #   Column          Non-Null Count  Dtype  \n",
            "---  ------          --------------  -----  \n",
            " 0   IMPORTER        1042 non-null   object \n",
            " 1   YEAR            292 non-null    float64\n",
            " 2   MONTH           292 non-null    object \n",
            " 3   HSCODE          1042 non-null   int64  \n",
            " 4   COUNTRY         1038 non-null   object \n",
            " 5   UNIT            1042 non-null   object \n",
            " 6   QUANTITY        1039 non-null   float64\n",
            " 7   VALUE_RS        292 non-null    float64\n",
            " 8   DESCRIPTION_01  1042 non-null   object \n",
            " 9   DESCRIPTION_02  1042 non-null   object \n",
            " 10  DESCRIPTION_03  1042 non-null   object \n",
            "dtypes: float64(3), int64(1), object(7)\n",
            "memory usage: 89.7+ KB\n"
          ]
        }
      ]
    },
    {
      "cell_type": "markdown",
      "source": [
        "### **Identifying Categorical and Numerical Columns**"
      ],
      "metadata": {
        "id": "BQdnKMi8MrH1"
      }
    },
    {
      "cell_type": "code",
      "source": [
        "# Identifying categorical and numerical columns\n",
        "categorical_cols = data.select_dtypes(include=['object']).columns\n",
        "numerical_cols = data.select_dtypes(include=['int64', 'float64']).columns"
      ],
      "metadata": {
        "id": "6qchsnCsMuKB"
      },
      "execution_count": 22,
      "outputs": []
    },
    {
      "cell_type": "markdown",
      "source": [
        "**Since 'HSCODE' column has been misintepreted as an int64 data type column due to the unavailability of data, reassigning it has an object type column.**"
      ],
      "metadata": {
        "id": "ITAT1SErTBxj"
      }
    },
    {
      "cell_type": "code",
      "source": [
        "# Converting 'IMPORTER' and 'HSCODE' columns to string type\n",
        "data['HSCODE'] = data['HSCODE'].astype(str)\n",
        "\n",
        "# Displaying the HSCODE column data type\n",
        "print(\"Data Type of HSCODE Columns:\")\n",
        "print(data[['HSCODE']].dtypes)"
      ],
      "metadata": {
        "colab": {
          "base_uri": "https://localhost:8080/"
        },
        "id": "l4j4WEULTE2S",
        "outputId": "fb9ea584-9335-4089-95ad-e3c837ac9e68"
      },
      "execution_count": 23,
      "outputs": [
        {
          "output_type": "stream",
          "name": "stdout",
          "text": [
            "Data Type of HSCODE Columns:\n",
            "HSCODE    object\n",
            "dtype: object\n"
          ]
        }
      ]
    },
    {
      "cell_type": "markdown",
      "source": [
        "## **Categorical Features**"
      ],
      "metadata": {
        "id": "ZywJq7BvMxtF"
      }
    },
    {
      "cell_type": "code",
      "source": [
        "# List of categorical features\n",
        "categorical_features = ['IMPORTER', 'MONTH', 'COUNTRY', 'HSCODE', 'UNIT', 'DESCRIPTION_01', 'DESCRIPTION_02', 'DESCRIPTION_03']\n",
        "\n",
        "# Displaying the categorical features\n",
        "print(\"Categorical Features:\")\n",
        "for feature in categorical_features:\n",
        "    print(f\"- {feature}\")\n",
        "\n",
        "# Display data type of the columns\n",
        "print(\"\\nData Type of Categorical Features:\")\n",
        "print(data[categorical_features].dtypes)"
      ],
      "metadata": {
        "colab": {
          "base_uri": "https://localhost:8080/"
        },
        "id": "T51rP_0eM1di",
        "outputId": "b768be7d-b666-4a9a-ccd2-d0786b1f8267"
      },
      "execution_count": 24,
      "outputs": [
        {
          "output_type": "stream",
          "name": "stdout",
          "text": [
            "Categorical Features:\n",
            "- IMPORTER\n",
            "- MONTH\n",
            "- COUNTRY\n",
            "- HSCODE\n",
            "- UNIT\n",
            "- DESCRIPTION_01\n",
            "- DESCRIPTION_02\n",
            "- DESCRIPTION_03\n",
            "\n",
            "Data Type of Categorical Features:\n",
            "IMPORTER          object\n",
            "MONTH             object\n",
            "COUNTRY           object\n",
            "HSCODE            object\n",
            "UNIT              object\n",
            "DESCRIPTION_01    object\n",
            "DESCRIPTION_02    object\n",
            "DESCRIPTION_03    object\n",
            "dtype: object\n"
          ]
        }
      ]
    },
    {
      "cell_type": "markdown",
      "source": [
        "**Unique Values and Their Counts Relevant to Each Categorical Column**"
      ],
      "metadata": {
        "id": "up81EAP-M5fb"
      }
    },
    {
      "cell_type": "code",
      "source": [
        "# Displaying the unique values and their counts relevant to each categorical column\n",
        "print(\"Unique values and their count relevant to each categorical column:\\n\")\n",
        "for col in categorical_features:\n",
        "    unique_values = data[col].unique()\n",
        "    value_counts = data[col].value_counts()\n",
        "    print(value_counts)\n",
        "    print(\" \")"
      ],
      "metadata": {
        "colab": {
          "base_uri": "https://localhost:8080/"
        },
        "id": "Ed9dvAs2M8c6",
        "outputId": "6a5f4fce-5686-408a-fc92-ca103fdcc52e"
      },
      "execution_count": 25,
      "outputs": [
        {
          "output_type": "stream",
          "name": "stdout",
          "text": [
            "Unique values and their count relevant to each categorical column:\n",
            "\n",
            "IMPORTER\n",
            "Unknown    1042\n",
            "Name: count, dtype: int64\n",
            " \n",
            "MONTH\n",
            "NOVEMBER     191\n",
            "FEBRUARY      13\n",
            "JULY          13\n",
            "MAY           11\n",
            "SEPTEMBER     11\n",
            "JANUARY       10\n",
            "JUNE           9\n",
            "AUGUST         8\n",
            "OCTOBER        8\n",
            "MARCH          6\n",
            "APRIL          6\n",
            "DECEMBER       6\n",
            "Name: count, dtype: int64\n",
            " \n",
            "COUNTRY\n",
            "Vietnam    299\n",
            "Russia     109\n",
            "Kenya       71\n",
            "Ukraine     58\n",
            "germany     51\n",
            "          ... \n",
            "U.S.A.       1\n",
            "Mexico       1\n",
            "CANADA       1\n",
            "India        1\n",
            "Romania      1\n",
            "Name: count, Length: 66, dtype: int64\n",
            " \n",
            "HSCODE\n",
            "28070010      85\n",
            "2847000000    84\n",
            "28080000      67\n",
            "3102401000    58\n",
            "28291100      54\n",
            "              ..\n",
            "2801200032     1\n",
            "2801200031     1\n",
            "2801200030     1\n",
            "2801200029     1\n",
            "2812101100     1\n",
            "Name: count, Length: 131, dtype: int64\n",
            " \n",
            "UNIT\n",
            "Kg     750\n",
            "Kg.    112\n",
            "KGS     47\n",
            "PCS     39\n",
            "NOS     33\n",
            "GMS     23\n",
            "MTS     19\n",
            "LTR     18\n",
            "DRM      1\n",
            "Name: count, dtype: int64\n",
            " \n",
            "DESCRIPTION_01\n",
            "Inorganic chemicals; Organic or inorganic compounds of precious metals, of rare earth metals, of radioactive elements or of isotopes    922\n",
            "Fertilizers                                                                                                                             120\n",
            "Name: count, dtype: int64\n",
            " \n",
            "DESCRIPTION_02\n",
            "Chlorates and perchlorates; bromates and perbromates; iodates and periodates                            120\n",
            "Mineral or chemical fertilizers, nitrogenous                                                            120\n",
            "Sulphuric acid; oleum                                                                                   120\n",
            "Halides and halide oxides of non metals                                                                 120\n",
            "Fluorides; fluorosilicates, fluoroaluminates, and other complex fluorine salts                          116\n",
            "Hydrogen peroxide, whether or not solidified with urea.                                                 110\n",
            "Nitric acid; sulphonitric acids.                                                                        100\n",
            "Fluorine, chlorine, bromine and iodine                                                                   64\n",
            "Nitric acid; sulphonitric acids.                                                                  ..     36\n",
            "Hydrogen peroxide, whether or not solidified with urea.                                           ..     35\n",
            "Fluorine, chlorine, bromine and iodine                                                            ..     34\n",
            "Nitric acid; sulphonitric acids.                                                                         20\n",
            "Fluorine, chlorine, bromine and iodine                                                                   20\n",
            "Cyanides, cyanide oxides and complex cyanides.                                                           20\n",
            "Cyanides, cyanide oxides and complex cyanides.                                                    ..      7\n",
            "Name: count, dtype: int64\n",
            " \n",
            "DESCRIPTION_03\n",
            "Halides and halide oxides of non metals                                           120\n",
            "Sulphuric acid; oleum                                                             120\n",
            "Mineral or chemical fertilizers, nitrogenous                                      120\n",
            "Chlorates and perchlorates; bromates and perbromates; iodates and periodates      120\n",
            "Fluorides; fluorosilicates, fluoroaluminates, and other complex fluorine salts    116\n",
            "Hydrogen peroxide, whether or not solidified with urea.                           110\n",
            "Nitric acid; sulphonitric acids.                                                  100\n",
            "Iodine                                                                             80\n",
            "Nitric acid; sulphonitric acids                                                    36\n",
            "Hydrogen peroxide, whether or not solidified with urea.                            35\n",
            "Chlorine                                                                           34\n",
            "Nitric acid; sulphonitric acids.                                                   20\n",
            "Cyanides and cyanide oxides : Of sodium                                            11\n",
            "Cyanides and cyanide oxides : Other                                                10\n",
            "- Cyanides and cyanide oxides : Other                                               4\n",
            "Bromine                                                                             4\n",
            "- Cyanides and cyanide oxides : Of sodium                                           2\n",
            "Name: count, dtype: int64\n",
            " \n"
          ]
        }
      ]
    },
    {
      "cell_type": "markdown",
      "source": [
        "**Categorical columns with null values and their relevant counts**"
      ],
      "metadata": {
        "id": "XF5maAMFTkVt"
      }
    },
    {
      "cell_type": "code",
      "source": [
        "# Displaying the categorical columns which contains null values and their counts\n",
        "print(\"Categorical columns with null values and their counts:\")\n",
        "for col in categorical_features:\n",
        "    null_count = data[col].isnull().sum()\n",
        "    if null_count > 0:\n",
        "        print(f\"{col}: {null_count}\")"
      ],
      "metadata": {
        "colab": {
          "base_uri": "https://localhost:8080/"
        },
        "id": "kXGYrF76TnCK",
        "outputId": "096e530f-ce64-4e78-8210-3c2cbc26c7d7"
      },
      "execution_count": 26,
      "outputs": [
        {
          "output_type": "stream",
          "name": "stdout",
          "text": [
            "Categorical columns with null values and their counts:\n",
            "MONTH: 750\n",
            "COUNTRY: 4\n"
          ]
        }
      ]
    },
    {
      "cell_type": "markdown",
      "source": [
        "**Categorical columns with 'Unknown' values and their relevant counts**"
      ],
      "metadata": {
        "id": "Ym8qQ_UqTsI4"
      }
    },
    {
      "cell_type": "code",
      "source": [
        "# Displaying the categorical columns which contain 'Unknown' values and their relevant counts\n",
        "print(\"Categorical columns with 'Unknown' values and their counts:\")\n",
        "for col in categorical_features:\n",
        "    unknown_count = (data[col] == 'Unknown').sum()\n",
        "    if unknown_count > 0:\n",
        "        print(f\"{col}: {unknown_count}\")"
      ],
      "metadata": {
        "colab": {
          "base_uri": "https://localhost:8080/"
        },
        "id": "F4T2vGyOT7iG",
        "outputId": "fe0f0171-6f92-41a6-f518-e86a259f65e7"
      },
      "execution_count": 27,
      "outputs": [
        {
          "output_type": "stream",
          "name": "stdout",
          "text": [
            "Categorical columns with 'Unknown' values and their counts:\n",
            "IMPORTER: 1042\n"
          ]
        }
      ]
    },
    {
      "cell_type": "markdown",
      "source": [
        "## **Numerical Features**"
      ],
      "metadata": {
        "id": "wVjsl_v7NCIh"
      }
    },
    {
      "cell_type": "markdown",
      "source": [
        "**Since 'Year' column has been misintepreted as a float64 data type column reassigning it as a int64 type column**"
      ],
      "metadata": {
        "id": "S1ed_jWlUD9Z"
      }
    },
    {
      "cell_type": "code",
      "source": [
        "# Converting the 'Year' column to int64 data type\n",
        "# data['YEAR'] = data['YEAR'].astype(int)\n",
        "\n",
        "# Displaying the data type of the 'Year' column\n",
        "# print(\"Data Type of 'Year' Column:\")\n",
        "# print(data['YEAR'].dtype)"
      ],
      "metadata": {
        "id": "x_3OP0_LUGcH"
      },
      "execution_count": 28,
      "outputs": []
    },
    {
      "cell_type": "markdown",
      "source": [
        "**The conversion cannot be done since the column contains missing values (both N/A and null values)**"
      ],
      "metadata": {
        "id": "YdQtws2_UJD3"
      }
    },
    {
      "cell_type": "code",
      "source": [
        "# Numerical Features\n",
        "print(\"Numerical Features:\")\n",
        "print(numerical_cols)"
      ],
      "metadata": {
        "colab": {
          "base_uri": "https://localhost:8080/"
        },
        "id": "KhKK8yenNi08",
        "outputId": "9f97d5e5-c8d4-4fdb-b859-d63eee711abf"
      },
      "execution_count": 29,
      "outputs": [
        {
          "output_type": "stream",
          "name": "stdout",
          "text": [
            "Numerical Features:\n",
            "Index(['YEAR', 'HSCODE', 'QUANTITY', 'VALUE_RS'], dtype='object')\n"
          ]
        }
      ]
    },
    {
      "cell_type": "code",
      "source": [
        "# List of numerical features\n",
        "numerical_features = ['YEAR', 'QUANTITY', 'VALUE_RS']\n",
        "\n",
        "# Displaying the numerical features\n",
        "print(\"Numerical Features:\")\n",
        "for feature in numerical_features:\n",
        "    print(f\"- {feature}\")\n",
        "\n",
        "# Display the data type of the numerical features\n",
        "print(\"\\nData Type of Numerical Features:\")\n",
        "print(data[numerical_features].dtypes)"
      ],
      "metadata": {
        "colab": {
          "base_uri": "https://localhost:8080/"
        },
        "id": "q_GlG9DcUO_m",
        "outputId": "8b190cf5-60e5-488f-b930-649bcecf0bb5"
      },
      "execution_count": 30,
      "outputs": [
        {
          "output_type": "stream",
          "name": "stdout",
          "text": [
            "Numerical Features:\n",
            "- YEAR\n",
            "- QUANTITY\n",
            "- VALUE_RS\n",
            "\n",
            "Data Type of Numerical Features:\n",
            "YEAR        float64\n",
            "QUANTITY    float64\n",
            "VALUE_RS    float64\n",
            "dtype: object\n"
          ]
        }
      ]
    },
    {
      "cell_type": "markdown",
      "source": [
        "**Unique Values and Their Count Relevant to Each Numerical Column**"
      ],
      "metadata": {
        "id": "FDt1KlIkNmaA"
      }
    },
    {
      "cell_type": "code",
      "source": [
        "# Displaying the unique values and their count in the numerical columns\n",
        "print(\"Unique values and their count in the numerical columns:\\n\")\n",
        "for col in numerical_features:\n",
        "    unique_values = data[col].unique()\n",
        "    value_counts = data[col].value_counts()\n",
        "    print(value_counts)\n",
        "    print(\" \")"
      ],
      "metadata": {
        "colab": {
          "base_uri": "https://localhost:8080/"
        },
        "id": "wVATwxPnNp_T",
        "outputId": "60b11bd8-b415-4502-fd1f-4949ad5acd3e"
      },
      "execution_count": 31,
      "outputs": [
        {
          "output_type": "stream",
          "name": "stdout",
          "text": [
            "Unique values and their count in the numerical columns:\n",
            "\n",
            "YEAR\n",
            "2016.0    180\n",
            "2023.0    112\n",
            "Name: count, dtype: int64\n",
            " \n",
            "QUANTITY\n",
            "1000.0     55\n",
            "1.0        49\n",
            "16200.0    40\n",
            "5.0        31\n",
            "27.0       28\n",
            "           ..\n",
            "204.0       1\n",
            "23200.0     1\n",
            "22820.0     1\n",
            "22560.0     1\n",
            "19050.0     1\n",
            "Name: count, Length: 359, dtype: int64\n",
            " \n",
            "VALUE_RS\n",
            "0.40           4\n",
            "53.79          3\n",
            "188.55         3\n",
            "0.20           3\n",
            "21.15          2\n",
            "              ..\n",
            "350598.00      1\n",
            "2213950.00     1\n",
            "10318355.00    1\n",
            "24988179.00    1\n",
            "0.68           1\n",
            "Name: count, Length: 263, dtype: int64\n",
            " \n"
          ]
        }
      ]
    },
    {
      "cell_type": "markdown",
      "source": [
        "**Numerical columns with null values and their relevant counts**"
      ],
      "metadata": {
        "id": "NGHEpTv7UbqG"
      }
    },
    {
      "cell_type": "code",
      "source": [
        "# Displaying the numerical columns with null values and their relevant counts\n",
        "print(\"Numerical columns with null values and their relevant counts:\")\n",
        "for col in numerical_cols:\n",
        "    null_count = data[col].isnull().sum()\n",
        "    if null_count > 0:\n",
        "        print(f\"{col}: {null_count}\")"
      ],
      "metadata": {
        "colab": {
          "base_uri": "https://localhost:8080/"
        },
        "id": "s6DL2Xe3UeWo",
        "outputId": "c767e1e9-99a1-49c1-8ba1-5c9c01b081f5"
      },
      "execution_count": 32,
      "outputs": [
        {
          "output_type": "stream",
          "name": "stdout",
          "text": [
            "Numerical columns with null values and their relevant counts:\n",
            "YEAR: 750\n",
            "QUANTITY: 3\n",
            "VALUE_RS: 750\n"
          ]
        }
      ]
    },
    {
      "cell_type": "markdown",
      "source": [
        "# **Data Preprocessing**"
      ],
      "metadata": {
        "id": "usTp9zmyUw1d"
      }
    },
    {
      "cell_type": "markdown",
      "source": [
        "## **Data Cleaning**"
      ],
      "metadata": {
        "id": "qoVeIUs-U11p"
      }
    },
    {
      "cell_type": "code",
      "source": [
        "# Step 1: Removing whitespaces from the object type columns\n",
        "object_columns = data.select_dtypes(include=['object']).columns\n",
        "data[object_columns] = data[object_columns].apply(lambda x: x.str.strip())"
      ],
      "metadata": {
        "id": "F9QKHs8WU5J3"
      },
      "execution_count": null,
      "outputs": []
    },
    {
      "cell_type": "code",
      "source": [
        "# Step 2: Removing unnecessary full stops(\".\") from the categorical columns\n",
        "data[categorical_cols] = data[categorical_cols].apply(lambda x: x.str.replace('.', ''))"
      ],
      "metadata": {
        "id": "ArtbTGn_VD3P"
      },
      "execution_count": null,
      "outputs": []
    },
    {
      "cell_type": "code",
      "source": [
        "# Step 3: Removing unnecessary special characters and trailing spaces from the 'DESCRIPTION_03' column\n",
        "# Removing the leading hyphen\n",
        "data['DESCRIPTION_03'] = data['DESCRIPTION_03'].str.lstrip('-')\n",
        "\n",
        "# Removing trailing spaces\n",
        "data['DESCRIPTION_03'] = data['DESCRIPTION_03'].str.strip()"
      ],
      "metadata": {
        "id": "mPP0Wl1kVF6H"
      },
      "execution_count": null,
      "outputs": []
    },
    {
      "cell_type": "code",
      "source": [
        "# Step 4: Removing trailing spaces for the entire 'DESCRIPTION_02' column\n",
        "data['DESCRIPTION_02'] = data['DESCRIPTION_02'].str.strip()"
      ],
      "metadata": {
        "id": "ZXbI7l7RVKKf"
      },
      "execution_count": null,
      "outputs": []
    },
    {
      "cell_type": "code",
      "source": [
        "# Displaying the unique values and their counts relevant to each categorical column\n",
        "print(\"Unique values and their count relevant to each categorical column:\\n\")\n",
        "for col in categorical_features:\n",
        "    unique_values = data[col].unique()\n",
        "    value_counts = data[col].value_counts()\n",
        "    print(value_counts)\n",
        "    print(\" \")"
      ],
      "metadata": {
        "id": "t0QhxZ9xVtZK"
      },
      "execution_count": null,
      "outputs": []
    },
    {
      "cell_type": "code",
      "source": [
        "# Step 5: Converting all the values in the 'COUNTRY' and the 'UNIT' columns to uppercase values\n",
        "data['COUNTRY'] = data['COUNTRY'].str.upper()\n",
        "data['UNIT'] = data['UNIT'].str.upper()\n",
        "\n",
        "# Displaying the modified dataset\n",
        "print(data)"
      ],
      "metadata": {
        "id": "ljEBfr6MV071"
      },
      "execution_count": null,
      "outputs": []
    },
    {
      "cell_type": "code",
      "source": [
        "# Step 6: Converting the 'KGS' values in the 'Unit' columns to 'KG'\n",
        "data.loc[data['UNIT'] == 'KGS', 'UNIT'] = 'KG'\n",
        "\n",
        "# Displaying the modified dataset\n",
        "print(data)"
      ],
      "metadata": {
        "id": "8W47Rl00V6o5"
      },
      "execution_count": null,
      "outputs": []
    },
    {
      "cell_type": "code",
      "source": [
        "# Step 7: Handling the HSCODES\n",
        "\n",
        "# Checking the length of the HSCODES and determining the maximum length\n",
        "data['HSCODE_LENGTH'] = data['HSCODE'].apply(len)\n",
        "max_length = data['HSCODE_LENGTH'].max()\n",
        "\n",
        "# Padding HSCODE values with trailing zeros to match the maximum length\n",
        "data['HSCODE'] = data['HSCODE'].apply(lambda x: x.ljust(max_length, '0'))\n",
        "\n",
        "# Dropping the helper column 'HSCODE_LENGTH' as it's no longer needed\n",
        "data.drop(columns=['HSCODE_LENGTH'], inplace=True)\n",
        "\n",
        "# Displaying the modified dataset\n",
        "print(data)"
      ],
      "metadata": {
        "id": "2PCNY1MtV-HS"
      },
      "execution_count": null,
      "outputs": []
    },
    {
      "cell_type": "code",
      "source": [
        "# Step 8: Handling the 'COUNTRY' Column\n",
        "\n",
        "# Replacing specific country names\n",
        "data['COUNTRY'] = data['COUNTRY'].replace({\n",
        "    'United States': 'USA',\n",
        "    'United States of America': 'USA',\n",
        "    'United Kingdom': 'UK',\n",
        "    'Korea, Republic of': 'South Korea'\n",
        "})\n",
        "\n",
        "print(data)"
      ],
      "metadata": {
        "id": "2XFA-Y9NWC_v"
      },
      "execution_count": null,
      "outputs": []
    },
    {
      "cell_type": "code",
      "source": [
        "# Displaying the unique values and their counts relevant to each categorical column\n",
        "print(\"Unique values and their count relevant to each categorical column:\\n\")\n",
        "for col in categorical_features:\n",
        "    unique_values = data[col].unique()\n",
        "    value_counts = data[col].value_counts()\n",
        "    print(value_counts)\n",
        "    print(\" \")"
      ],
      "metadata": {
        "id": "m1qEEOHpWLzQ"
      },
      "execution_count": null,
      "outputs": []
    },
    {
      "cell_type": "markdown",
      "source": [
        "## **Handling Missing Values**"
      ],
      "metadata": {
        "id": "mWJ8kiFrXoqi"
      }
    },
    {
      "cell_type": "markdown",
      "source": [
        "**Handling missing values in the categorical columns**"
      ],
      "metadata": {
        "id": "ZdOQhL-_XsD2"
      }
    },
    {
      "cell_type": "markdown",
      "source": [
        "**Replacing all the missing values with 'Unknown'**"
      ],
      "metadata": {
        "id": "bjKrKhgEXvWw"
      }
    },
    {
      "cell_type": "code",
      "source": [
        "# Step 9: Handling missing values in the categorical columns\n",
        "\n",
        "# Replacing all the missing values in the categorical columns with 'Unknown' for imputation\n",
        "data[categorical_features] = data[categorical_features].fillna('Unknown')"
      ],
      "metadata": {
        "id": "rh4iUaD1XzGn"
      },
      "execution_count": null,
      "outputs": []
    },
    {
      "cell_type": "markdown",
      "source": [
        "**Checking for any missing values which is left behind when replacing with 'Unkown'**"
      ],
      "metadata": {
        "id": "cWk601JIX2Sx"
      }
    },
    {
      "cell_type": "code",
      "source": [
        "# Verifying the changes after replacing the missing values with 'Unknown'\n",
        "print(\"Checking for any missing values left behind after replacing with 'Unknown':\")\n",
        "for col in categorical_features:\n",
        "    null_count = data[col].isnull().sum()\n",
        "    if null_count > 0:\n",
        "        print(f\"{col}: {null_count} missing values\")\n",
        "    else:\n",
        "        print(f\"{col}: No missing values\")\n",
        "    print(\" \")"
      ],
      "metadata": {
        "id": "9bP_Dx9RX5g_"
      },
      "execution_count": null,
      "outputs": []
    },
    {
      "cell_type": "code",
      "source": [
        "# Handling the 'UNknown' values in the 'COUNTRY' column using the mode\n",
        "mode_country = data['COUNTRY'].mode()[0]\n",
        "data['COUNTRY'] = data['COUNTRY'].replace('Unknown', mode_country)"
      ],
      "metadata": {
        "id": "9SH7JHgNX8mw"
      },
      "execution_count": null,
      "outputs": []
    },
    {
      "cell_type": "code",
      "source": [
        "# Displaying dataset information post-imputation\n",
        "print(\"\\nDataset information after categorical imputation:\")\n",
        "data.info()"
      ],
      "metadata": {
        "id": "S9BRwOKqX_Gk"
      },
      "execution_count": null,
      "outputs": []
    },
    {
      "cell_type": "code",
      "source": [
        "# Displaying the unique values in the 'IMPORTER' column\n",
        "unique_importers = data['IMPORTER'].unique()\n",
        "print(\"Unique Importers:\")\n",
        "print(unique_importers)"
      ],
      "metadata": {
        "id": "WiQwXJ97YDkC"
      },
      "execution_count": null,
      "outputs": []
    },
    {
      "cell_type": "code",
      "source": [
        "# Display unique values in the 'COUNTRY' column\n",
        "unique_countries = data['COUNTRY'].unique()\n",
        "print(\"Unique Countries:\")\n",
        "print(unique_countries)"
      ],
      "metadata": {
        "id": "EQirEELIYJU9"
      },
      "execution_count": null,
      "outputs": []
    },
    {
      "cell_type": "code",
      "source": [
        "# Display unique values in the 'HSCODE' column\n",
        "unique_hscodes = data['HSCODE'].unique()\n",
        "print(\"Unique HSCodes:\")\n",
        "print(unique_hscodes)"
      ],
      "metadata": {
        "id": "dOjpd1kuYLco"
      },
      "execution_count": null,
      "outputs": []
    },
    {
      "cell_type": "code",
      "source": [
        "# Display the unique values in the 'UNIT' column\n",
        "unique_units = data['UNIT'].unique()\n",
        "print(\"Unique Units:\")\n",
        "print(unique_units)"
      ],
      "metadata": {
        "id": "N0uCISFMYOba"
      },
      "execution_count": null,
      "outputs": []
    },
    {
      "cell_type": "code",
      "source": [
        "# Displaying the unique values in the 'DESCRIPTION_01' column\n",
        "unique_descriptions_01 = data['DESCRIPTION_01'].unique()\n",
        "print(\"Unique Descriptions_01:\")\n",
        "print(unique_descriptions_01)"
      ],
      "metadata": {
        "id": "lUYvoNcGYRUG"
      },
      "execution_count": null,
      "outputs": []
    },
    {
      "cell_type": "code",
      "source": [
        "# Displaying the unique values in the 'DESCRIPTION_02' column\n",
        "unique_descriptions_02 = data['DESCRIPTION_02'].unique()\n",
        "print(\"Unique Descriptions_02:\")\n",
        "print(unique_descriptions_02)"
      ],
      "metadata": {
        "id": "vF7O9a-TYTMO"
      },
      "execution_count": null,
      "outputs": []
    },
    {
      "cell_type": "code",
      "source": [
        "# Displaying the unique values in the 'DESCRIPTION_03' column\n",
        "unique_descriptions_03 = data['DESCRIPTION_03'].unique()\n",
        "print(\"Unique Descriptions_03:\")\n",
        "print(unique_descriptions_03)"
      ],
      "metadata": {
        "id": "-06Gi2pAYWdp"
      },
      "execution_count": null,
      "outputs": []
    }
  ]
}