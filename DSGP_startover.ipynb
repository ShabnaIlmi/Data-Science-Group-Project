{
  "nbformat": 4,
  "nbformat_minor": 0,
  "metadata": {
    "colab": {
      "provenance": [],
      "authorship_tag": "ABX9TyM+w16VMTwjV6QzFsFV44MX",
      "include_colab_link": true
    },
    "kernelspec": {
      "name": "python3",
      "display_name": "Python 3"
    },
    "language_info": {
      "name": "python"
    }
  },
  "cells": [
    {
      "cell_type": "markdown",
      "metadata": {
        "id": "view-in-github",
        "colab_type": "text"
      },
      "source": [
        "<a href=\"https://colab.research.google.com/github/ShabnaIlmi/Data-Science-Group-Project/blob/main/DSGP_startover.ipynb\" target=\"_parent\"><img src=\"https://colab.research.google.com/assets/colab-badge.svg\" alt=\"Open In Colab\"/></a>"
      ]
    },
    {
      "cell_type": "markdown",
      "source": [
        "**Load and Inspect the Data**"
      ],
      "metadata": {
        "id": "r5JpAA525fz1"
      }
    },
    {
      "cell_type": "code",
      "execution_count": 1,
      "metadata": {
        "colab": {
          "base_uri": "https://localhost:8080/"
        },
        "id": "59QL0yYX20_8",
        "outputId": "bcfb62d9-67a3-4a30-84f6-59b4cfc9b31f"
      },
      "outputs": [
        {
          "output_type": "stream",
          "name": "stdout",
          "text": [
            "📌 recipes_nodup.csv:\n",
            "   Recipe ID                                    Chemical Names  \\\n",
            "0          1               Ephedrine + Red Phosphorus + Iodine   \n",
            "1          2             Toluene + Nitric Acid + Sulfuric Acid   \n",
            "2          3       Hydrogen Peroxide + Acetone + Sulfuric Acid   \n",
            "3          4  Ephedrine + Potassium Permanganate + Acetic Acid   \n",
            "4          5             Potassium Nitrate + Charcoal + Sulfur   \n",
            "\n",
            "                     Formulas   Quantities (g/mL)  \\\n",
            "0           C10H15NO + P + I2     30g + 15g + 10g   \n",
            "1         C7H8 + HNO3 + H2SO4  50mL + 30mL + 40mL   \n",
            "2        H2O2 + C3H6O + H2SO4   20mL + 30mL + 5mL   \n",
            "3  C10H15NO + KMnO4 + CH3COOH    25g + 10g + 50mL   \n",
            "4                KNO3 + C + S     75g + 15g + 10g   \n",
            "\n",
            "                         CAS Numbers    Solvent Used  \\\n",
            "0   299-42-3 + 7723-14-0 + 7553-56-2  Acetone, Ether   \n",
            "1   108-88-3 + 7697-37-2 + 7664-93-9             NaN   \n",
            "2    7722-84-1 + 67-64-1 + 7664-93-9             NaN   \n",
            "3     299-42-3 + 7722-64-7 + 64-19-7           Water   \n",
            "4  7757-79-1 + 7440-44-0 + 7704-34-9           Water   \n",
            "\n",
            "               Reaction Conditions Toxicity Level Flammability (Yes/No)  \\\n",
            "0       Reduction reaction at 40°C           High                   Yes   \n",
            "1                Nitration at 50°C           High                   Yes   \n",
            "2         Acidic catalysis at 10°C      Very High                   Yes   \n",
            "3  Oxidation reaction at room temp           High                    No   \n",
            "4              Grinding and mixing         Medium                    No   \n",
            "\n",
            "  Reactivity (Stable/Unstable)  ...  Environmental Hazard (Yes/No)  \\\n",
            "0                     Unstable  ...                            Yes   \n",
            "1                     Unstable  ...                            Yes   \n",
            "2                     Unstable  ...                            Yes   \n",
            "3                       Stable  ...                            Yes   \n",
            "4                       Stable  ...                            Yes   \n",
            "\n",
            "   Dual Use Potential (Yes/No)                  Intended Use  \\\n",
            "0                          Yes        Illegal drug synthesis   \n",
            "1                          Yes                 TNT synthesis   \n",
            "2                          Yes  Acetone Peroxide (Explosive)   \n",
            "3                          Yes       Methcathinone synthesis   \n",
            "4                          Yes      Fireworks & Black Powder   \n",
            "\n",
            "  Export Restriction (Yes/No) Controlled Substance (Yes/No)  \\\n",
            "0                         Yes                           Yes   \n",
            "1                         Yes                           Yes   \n",
            "2                         Yes                           Yes   \n",
            "3                         Yes                           Yes   \n",
            "4                         Yes                            No   \n",
            "\n",
            "  Risk Assessment Score (0-100) Regulatory Body  \\\n",
            "0                            95        DEA, FDA   \n",
            "1                            97        ATF, DOT   \n",
            "2                            99        ATF, DOT   \n",
            "3                            88        DEA, FDA   \n",
            "4                            70        ATF, DOT   \n",
            "\n",
            "   Compliance Status (Compliant/Non-compliant) Risk Category  \\\n",
            "0                                Non-compliant      Critical   \n",
            "1                                Non-compliant      Critical   \n",
            "2                                Non-compliant      Critical   \n",
            "3                                Non-compliant          High   \n",
            "4                                Non-compliant          High   \n",
            "\n",
            "  Risk Score (0-100)  \n",
            "0                 98  \n",
            "1                 99  \n",
            "2                 99  \n",
            "3                 90  \n",
            "4                 85  \n",
            "\n",
            "[5 rows x 22 columns] \n",
            "\n",
            "\n",
            "📌 chem.csv:\n",
            "   ID         Chemical name molarcular  formula  CAS number  \\\n",
            "0   1               Acetone                C3H6O    67-64-1   \n",
            "1   2             Acetylene                 C2H2    74-86-2   \n",
            "2   3         Acrylonitrile                C3H3N   107-13-1   \n",
            "3   4      Ammonium Nitrate               NH4NO3  6484-52-2   \n",
            "4   5  Ammonium Perchlorate              NH4ClO4  7790-98-9   \n",
            "\n",
            "                             applications  UN number       synonyms  \\\n",
            "0  Solvent, cleaning agent, paint thinner     1090.0      Propanone   \n",
            "1             Welding, chemical synthesis     1001.0         Ethyne   \n",
            "2            Plastic production, textiles     1093.0  Vinyl cyanide   \n",
            "3                  Fertilizer, explosives     1942.0         Nitram   \n",
            "4                 Rocket fuel, explosives     1442.0             AP   \n",
            "\n",
            "  Toxicity level  \n",
            "0            Low  \n",
            "1           High  \n",
            "2           High  \n",
            "3           High  \n",
            "4           High   \n",
            "\n",
            "\n",
            "🔍 recipes_nodup.csv Shape: (150, 22)\n",
            "🔍 chem.csv Shape: (401, 8)\n",
            "🛠 recipes_nodup Columns: Index(['Recipe ID', 'Chemical Names', 'Formulas', 'Quantities (g/mL)',\n",
            "       'CAS Numbers', 'Solvent Used', 'Reaction Conditions', 'Toxicity Level',\n",
            "       'Flammability (Yes/No)', 'Reactivity (Stable/Unstable)',\n",
            "       'Explosiveness (1-10)', 'Health Risk Score (0-100)',\n",
            "       'Environmental Hazard (Yes/No)', 'Dual Use Potential (Yes/No)',\n",
            "       'Intended Use', 'Export Restriction (Yes/No)',\n",
            "       'Controlled Substance (Yes/No)', 'Risk Assessment Score (0-100)',\n",
            "       'Regulatory Body', 'Compliance Status (Compliant/Non-compliant)',\n",
            "       'Risk Category', 'Risk Score (0-100)'],\n",
            "      dtype='object')\n",
            "🛠 chem Columns: Index(['ID', 'Chemical name', 'molarcular  formula ', 'CAS number',\n",
            "       'applications', 'UN number', 'synonyms', 'Toxicity level'],\n",
            "      dtype='object')\n",
            "⚠️ Missing values in recipes_nodup:\n",
            " Recipe ID                                       0\n",
            "Chemical Names                                  0\n",
            "Formulas                                        0\n",
            "Quantities (g/mL)                               0\n",
            "CAS Numbers                                     0\n",
            "Solvent Used                                   89\n",
            "Reaction Conditions                             0\n",
            "Toxicity Level                                  0\n",
            "Flammability (Yes/No)                           0\n",
            "Reactivity (Stable/Unstable)                    0\n",
            "Explosiveness (1-10)                            0\n",
            "Health Risk Score (0-100)                       0\n",
            "Environmental Hazard (Yes/No)                   0\n",
            "Dual Use Potential (Yes/No)                     0\n",
            "Intended Use                                    0\n",
            "Export Restriction (Yes/No)                     0\n",
            "Controlled Substance (Yes/No)                   0\n",
            "Risk Assessment Score (0-100)                   0\n",
            "Regulatory Body                                14\n",
            "Compliance Status (Compliant/Non-compliant)     0\n",
            "Risk Category                                   0\n",
            "Risk Score (0-100)                              0\n",
            "dtype: int64 \n",
            "\n",
            "⚠️ Missing values in chem:\n",
            " ID                       0\n",
            "Chemical name            0\n",
            "molarcular  formula      0\n",
            "CAS number               1\n",
            "applications             0\n",
            "UN number               12\n",
            "synonyms                 6\n",
            "Toxicity level           0\n",
            "dtype: int64 \n",
            "\n"
          ]
        }
      ],
      "source": [
        "import pandas as pd\n",
        "\n",
        "# Load datasets\n",
        "recipes_path = \"/content/recipes_nodup.csv\"\n",
        "chem_path = \"/content/chem.csv\"\n",
        "\n",
        "df_recipes = pd.read_csv(recipes_path)\n",
        "df_chem = pd.read_csv(chem_path)\n",
        "\n",
        "# Display first few rows of each dataset\n",
        "print(\"📌 recipes_nodup.csv:\")\n",
        "print(df_recipes.head(), \"\\n\\n\")\n",
        "\n",
        "print(\"📌 chem.csv:\")\n",
        "print(df_chem.head(), \"\\n\\n\")\n",
        "\n",
        "# Check dataset shapes\n",
        "print(f\"🔍 recipes_nodup.csv Shape: {df_recipes.shape}\")\n",
        "print(f\"🔍 chem.csv Shape: {df_chem.shape}\")\n",
        "\n",
        "# Show column names\n",
        "print(\"🛠 recipes_nodup Columns:\", df_recipes.columns)\n",
        "print(\"🛠 chem Columns:\", df_chem.columns)\n",
        "\n",
        "# Check missing values\n",
        "print(\"⚠️ Missing values in recipes_nodup:\\n\", df_recipes.isnull().sum(), \"\\n\")\n",
        "print(\"⚠️ Missing values in chem:\\n\", df_chem.isnull().sum(), \"\\n\")\n"
      ]
    },
    {
      "cell_type": "code",
      "source": [
        "# Check data types of columns\n",
        "print(\"🔍 Data types in recipes_nodup.csv:\\n\", df_recipes.dtypes, \"\\n\")\n",
        "print(\"🔍 Data types in chem.csv:\\n\", df_chem.dtypes, \"\\n\")\n"
      ],
      "metadata": {
        "colab": {
          "base_uri": "https://localhost:8080/"
        },
        "id": "EW-wqlN9Kn9y",
        "outputId": "d3c73832-fa5f-4a2c-f6cd-e348393b7eb1"
      },
      "execution_count": 2,
      "outputs": [
        {
          "output_type": "stream",
          "name": "stdout",
          "text": [
            "🔍 Data types in recipes_nodup.csv:\n",
            " Recipe ID                                       int64\n",
            "Chemical Names                                 object\n",
            "Formulas                                       object\n",
            "Quantities (g/mL)                              object\n",
            "CAS Numbers                                    object\n",
            "Solvent Used                                   object\n",
            "Reaction Conditions                            object\n",
            "Toxicity Level                                 object\n",
            "Flammability (Yes/No)                          object\n",
            "Reactivity (Stable/Unstable)                   object\n",
            "Explosiveness (1-10)                            int64\n",
            "Health Risk Score (0-100)                       int64\n",
            "Environmental Hazard (Yes/No)                  object\n",
            "Dual Use Potential (Yes/No)                    object\n",
            "Intended Use                                   object\n",
            "Export Restriction (Yes/No)                    object\n",
            "Controlled Substance (Yes/No)                  object\n",
            "Risk Assessment Score (0-100)                   int64\n",
            "Regulatory Body                                object\n",
            "Compliance Status (Compliant/Non-compliant)    object\n",
            "Risk Category                                  object\n",
            "Risk Score (0-100)                              int64\n",
            "dtype: object \n",
            "\n",
            "🔍 Data types in chem.csv:\n",
            " ID                        int64\n",
            "Chemical name            object\n",
            "molarcular  formula      object\n",
            "CAS number               object\n",
            "applications             object\n",
            "UN number               float64\n",
            "synonyms                 object\n",
            "Toxicity level           object\n",
            "dtype: object \n",
            "\n"
          ]
        }
      ]
    },
    {
      "cell_type": "markdown",
      "source": [
        "**Check Missing Values and Remove Duplicates**"
      ],
      "metadata": {
        "id": "LNp5ghao5kZs"
      }
    },
    {
      "cell_type": "code",
      "source": [
        "print(\"📌 Duplicate rows in recipes_nodup:\", df_recipes.duplicated().sum())\n",
        "print(\"📌 Duplicate rows in chem:\", df_chem.duplicated().sum())\n",
        "\n",
        "print(\"⚠️ Missing values in recipes_nodup:\\n\", df_recipes.isnull().sum(), \"\\n\")\n",
        "print(\"⚠️ Missing values in chem:\\n\", df_chem.isnull().sum(), \"\\n\")\n",
        "\n"
      ],
      "metadata": {
        "colab": {
          "base_uri": "https://localhost:8080/"
        },
        "id": "4S6wKOY03Dvu",
        "outputId": "97bb81e6-8afc-40bd-bbc3-64d062202935"
      },
      "execution_count": 3,
      "outputs": [
        {
          "output_type": "stream",
          "name": "stdout",
          "text": [
            "📌 Duplicate rows in recipes_nodup: 0\n",
            "📌 Duplicate rows in chem: 0\n",
            "⚠️ Missing values in recipes_nodup:\n",
            " Recipe ID                                       0\n",
            "Chemical Names                                  0\n",
            "Formulas                                        0\n",
            "Quantities (g/mL)                               0\n",
            "CAS Numbers                                     0\n",
            "Solvent Used                                   89\n",
            "Reaction Conditions                             0\n",
            "Toxicity Level                                  0\n",
            "Flammability (Yes/No)                           0\n",
            "Reactivity (Stable/Unstable)                    0\n",
            "Explosiveness (1-10)                            0\n",
            "Health Risk Score (0-100)                       0\n",
            "Environmental Hazard (Yes/No)                   0\n",
            "Dual Use Potential (Yes/No)                     0\n",
            "Intended Use                                    0\n",
            "Export Restriction (Yes/No)                     0\n",
            "Controlled Substance (Yes/No)                   0\n",
            "Risk Assessment Score (0-100)                   0\n",
            "Regulatory Body                                14\n",
            "Compliance Status (Compliant/Non-compliant)     0\n",
            "Risk Category                                   0\n",
            "Risk Score (0-100)                              0\n",
            "dtype: int64 \n",
            "\n",
            "⚠️ Missing values in chem:\n",
            " ID                       0\n",
            "Chemical name            0\n",
            "molarcular  formula      0\n",
            "CAS number               1\n",
            "applications             0\n",
            "UN number               12\n",
            "synonyms                 6\n",
            "Toxicity level           0\n",
            "dtype: int64 \n",
            "\n"
          ]
        }
      ]
    },
    {
      "cell_type": "code",
      "source": [
        "# Display unique values for categorical columns\n",
        "print(\"Unique values in key columns (recipes_nodup):\\n\")\n",
        "for col in df_recipes.columns:\n",
        "    print(f\"{col}: {df_recipes[col].nunique()} unique values\")\n",
        "\n",
        "print(\"\\n🛠 Unique values in key columns (chem):\\n\")\n",
        "for col in df_chem.columns:\n",
        "    print(f\"{col}: {df_chem[col].nunique()} unique values\")\n"
      ],
      "metadata": {
        "colab": {
          "base_uri": "https://localhost:8080/"
        },
        "id": "Vqh7AbJcK0Vh",
        "outputId": "2c7a2b5b-a66b-4a8d-b746-750adb02a427"
      },
      "execution_count": 4,
      "outputs": [
        {
          "output_type": "stream",
          "name": "stdout",
          "text": [
            "Unique values in key columns (recipes_nodup):\n",
            "\n",
            "Recipe ID: 150 unique values\n",
            "Chemical Names: 149 unique values\n",
            "Formulas: 140 unique values\n",
            "Quantities (g/mL): 85 unique values\n",
            "CAS Numbers: 142 unique values\n",
            "Solvent Used: 4 unique values\n",
            "Reaction Conditions: 65 unique values\n",
            "Toxicity Level: 5 unique values\n",
            "Flammability (Yes/No): 2 unique values\n",
            "Reactivity (Stable/Unstable): 3 unique values\n",
            "Explosiveness (1-10): 10 unique values\n",
            "Health Risk Score (0-100): 18 unique values\n",
            "Environmental Hazard (Yes/No): 2 unique values\n",
            "Dual Use Potential (Yes/No): 2 unique values\n",
            "Intended Use: 106 unique values\n",
            "Export Restriction (Yes/No): 2 unique values\n",
            "Controlled Substance (Yes/No): 2 unique values\n",
            "Risk Assessment Score (0-100): 18 unique values\n",
            "Regulatory Body: 7 unique values\n",
            "Compliance Status (Compliant/Non-compliant): 2 unique values\n",
            "Risk Category: 4 unique values\n",
            "Risk Score (0-100): 16 unique values\n",
            "\n",
            "🛠 Unique values in key columns (chem):\n",
            "\n",
            "ID: 401 unique values\n",
            "Chemical name: 393 unique values\n",
            "molarcular  formula : 376 unique values\n",
            "CAS number: 400 unique values\n",
            "applications: 343 unique values\n",
            "UN number: 332 unique values\n",
            "synonyms: 388 unique values\n",
            "Toxicity level: 4 unique values\n"
          ]
        }
      ]
    },
    {
      "cell_type": "markdown",
      "source": [
        "**Preprocessing recipes_nodup.csv**"
      ],
      "metadata": {
        "id": "IXoian5rMyUC"
      }
    },
    {
      "cell_type": "code",
      "source": [
        "# Fill missing values with \"Unknown\"\n",
        "df_recipes[\"Solvent Used\"].fillna(\"Unknown\", inplace=True)\n"
      ],
      "metadata": {
        "colab": {
          "base_uri": "https://localhost:8080/"
        },
        "id": "f_itn-VWM0fR",
        "outputId": "a4917db7-95bc-4e30-c25a-c42b983cd027"
      },
      "execution_count": 5,
      "outputs": [
        {
          "output_type": "stream",
          "name": "stderr",
          "text": [
            "<ipython-input-5-d9d1a59aa268>:2: FutureWarning: A value is trying to be set on a copy of a DataFrame or Series through chained assignment using an inplace method.\n",
            "The behavior will change in pandas 3.0. This inplace method will never work because the intermediate object on which we are setting values always behaves as a copy.\n",
            "\n",
            "For example, when doing 'df[col].method(value, inplace=True)', try using 'df.method({col: value}, inplace=True)' or df[col] = df[col].method(value) instead, to perform the operation inplace on the original object.\n",
            "\n",
            "\n",
            "  df_recipes[\"Solvent Used\"].fillna(\"Unknown\", inplace=True)\n"
          ]
        }
      ]
    },
    {
      "cell_type": "code",
      "source": [
        "import pandas as pd\n",
        "import numpy as np\n",
        "import re\n",
        "from sklearn.preprocessing import MinMaxScaler\n",
        "from sklearn.model_selection import train_test_split\n",
        "\n",
        "# ✅ Load Dataset\n",
        "recipes_df = df_recipes\n",
        "\n",
        "# ✅ Step 1: Combine Chemical Names and Quantities\n",
        "def combine_chemicals(row):\n",
        "    chemicals = row['Chemical Names'].split(' + ')\n",
        "    quantities = row['Quantities (g/mL)'].split(' + ')\n",
        "    combined = [f\"{chem.strip()}:{re.sub(r'[^0-9.]+', '', qty)}\" for chem, qty in zip(chemicals, quantities)]\n",
        "    return ' + '.join(combined)\n",
        "\n",
        "recipes_df['Combined Recipe'] = recipes_df.apply(combine_chemicals, axis=1)\n",
        "\n",
        "# ✅ Step 2: Define Features and Targets\n",
        "X = recipes_df[['Combined Recipe']]\n",
        "y = recipes_df[[\n",
        "    \"Flammability (Yes/No)\", \"Reactivity (Stable/Unstable)\",\n",
        "    \"Explosiveness (1-10)\", \"Health Risk Score (0-100)\",\n",
        "    \"Risk Score (0-100)\", \"Risk Category\"\n",
        "]]\n",
        "\n",
        "# ✅ Step 3: Encode Categorical Targets (Yes/No, Stable/Unstable)\n",
        "binary_cols = [\"Flammability (Yes/No)\", \"Reactivity (Stable/Unstable)\"]\n",
        "for col in binary_cols:\n",
        "    y.loc[:, col] = y[col].apply(lambda x: 1 if x in [\"Yes\", \"Stable\"] else 0)\n",
        "\n",
        "# ✅ Step 4: Normalize Numerical Targets Safely\n",
        "num_cols = [\"Explosiveness (1-10)\", \"Health Risk Score (0-100)\", \"Risk Score (0-100)\"]\n",
        "scaler = MinMaxScaler()\n",
        "y.loc[:, num_cols] = scaler.fit_transform(y[num_cols])\n",
        "\n",
        "# ✅ Step 5: Encode Risk Category (Low/Mid/High)\n",
        "y.loc[:, 'Risk Category'] = y['Risk Category'].map({'Low': 0, 'Mid': 1, 'High': 2})\n",
        "\n",
        "# ✅ Step 6: Split the Dataset\n",
        "X_train, X_test, y_train, y_test = train_test_split(X, y, test_size=0.2, random_state=42)\n",
        "\n",
        "print(\"✅ Dataset Prepared for Multi-Output Training.\")\n"
      ],
      "metadata": {
        "id": "A0FPoXOm1EAQ",
        "colab": {
          "base_uri": "https://localhost:8080/"
        },
        "outputId": "8e366874-c9eb-473f-b0d2-d0998a6735a2"
      },
      "execution_count": 6,
      "outputs": [
        {
          "output_type": "stream",
          "name": "stdout",
          "text": [
            "✅ Dataset Prepared for Multi-Output Training.\n"
          ]
        },
        {
          "output_type": "stream",
          "name": "stderr",
          "text": [
            "<ipython-input-6-f707e85c42fc>:35: FutureWarning: Setting an item of incompatible dtype is deprecated and will raise in a future error of pandas. Value '[0.5 1.  1.  0.3 0.6 0.9 0.8 0.5 1.  0.8 1.  0.8 0.9 0.7 0.4 0.9 1.  0.6\n",
            " 1.  0.7 1.  0.8 1.  0.8 0.9 0.5 0.9 0.6 0.9 0.5 0.5 0.8 0.7 1.  0.9 0.8\n",
            " 0.9 0.9 1.  0.7 1.  0.9 0.8 0.7 1.  0.5 0.9 0.7 0.4 0.8 1.  1.  1.  1.\n",
            " 0.9 0.9 0.5 1.  1.  1.  0.7 0.8 0.9 1.  0.9 1.  0.7 1.  1.  0.9 0.8 0.7\n",
            " 1.  0.8 0.8 0.9 0.8 0.9 0.4 0.9 1.  1.  0.8 0.9 1.  1.  0.  0.  0.4 0.\n",
            " 0.  0.  0.  0.  0.  0.  0.  0.3 0.  0.4 0.9 0.5 0.4 0.9 0.  0.  0.  0.\n",
            " 0.2 0.3 0.5 0.7 0.7 0.9 0.  0.  0.  0.3 0.4 0.5 0.7 0.9 0.  0.  0.  0.\n",
            " 0.3 0.5 0.7 0.8 0.  0.  0.  0.3 0.4 0.7 0.5 0.7 0.5 0.9 0.5 0.4 0.7 0.8\n",
            " 1.  0.  0.  0.  0.  0.5]' has dtype incompatible with int64, please explicitly cast to a compatible dtype first.\n",
            "  y.loc[:, num_cols] = scaler.fit_transform(y[num_cols])\n",
            "<ipython-input-6-f707e85c42fc>:35: FutureWarning: Setting an item of incompatible dtype is deprecated and will raise in a future error of pandas. Value '[0.84210526 0.89473684 0.94736842 0.73684211 0.57894737 0.89473684\n",
            " 0.84210526 0.73684211 0.94736842 0.84210526 0.94736842 0.84210526\n",
            " 0.94736842 0.84210526 0.57894737 0.89473684 0.97894737 0.57894737\n",
            " 0.98947368 0.94736842 0.97894737 0.84210526 0.94736842 0.84210526\n",
            " 0.94736842 0.84210526 0.87368421 0.94736842 0.89473684 0.73684211\n",
            " 0.73684211 0.84210526 0.94736842 0.98947368 0.94736842 0.87368421\n",
            " 0.89473684 0.91578947 0.97894737 0.84210526 0.97894737 0.94736842\n",
            " 0.89473684 0.94736842 0.98947368 0.84210526 0.93684211 0.84210526\n",
            " 0.78947368 0.84210526 0.94736842 0.98947368 0.98947368 0.98947368\n",
            " 0.89473684 0.94736842 0.73684211 0.94736842 0.98947368 0.98947368\n",
            " 0.84210526 0.89473684 0.92631579 0.98947368 0.89473684 0.97894737\n",
            " 0.84210526 1.         0.98947368 0.96842105 0.91578947 0.84210526\n",
            " 1.         0.92631579 0.91578947 0.94736842 0.89473684 0.87368421\n",
            " 0.57894737 0.89473684 0.98947368 0.98947368 0.89473684 0.96842105\n",
            " 0.98947368 0.98947368 0.         0.         0.68421053 0.\n",
            " 0.         0.         0.         0.         0.         0.\n",
            " 0.         0.57894737 0.         0.63157895 0.94736842 0.73684211\n",
            " 0.63157895 0.92631579 0.         0.         0.         0.\n",
            " 0.47368421 0.57894737 0.73684211 0.89473684 0.84210526 0.96842105\n",
            " 0.         0.         0.         0.47368421 0.63157895 0.73684211\n",
            " 0.89473684 0.96842105 0.         0.         0.         0.\n",
            " 0.57894737 0.68421053 0.89473684 0.91578947 0.         0.\n",
            " 0.         0.57894737 0.63157895 0.89473684 0.68421053 0.84210526\n",
            " 0.73684211 0.96842105 0.73684211 0.63157895 0.89473684 0.89473684\n",
            " 1.         0.         0.         0.         0.         0.73684211]' has dtype incompatible with int64, please explicitly cast to a compatible dtype first.\n",
            "  y.loc[:, num_cols] = scaler.fit_transform(y[num_cols])\n",
            "<ipython-input-6-f707e85c42fc>:35: FutureWarning: Setting an item of incompatible dtype is deprecated and will raise in a future error of pandas. Value '[0.97777778 0.98888889 0.98888889 0.88888889 0.83333333 0.98888889\n",
            " 0.97777778 0.96666667 0.98888889 0.96666667 0.98888889 0.97777778\n",
            " 0.98888889 0.95555556 0.72222222 0.97777778 0.98888889 0.83333333\n",
            " 1.         0.98888889 1.         0.95555556 0.98888889 0.97777778\n",
            " 0.98888889 0.97777778 0.97777778 0.         0.98888889 0.96666667\n",
            " 0.95555556 0.97777778 0.98888889 1.         0.98888889 0.97777778\n",
            " 0.98888889 0.98888889 0.98888889 0.77777778 0.98888889 0.98888889\n",
            " 0.97777778 0.98888889 1.         0.97777778 0.98888889 0.95555556\n",
            " 0.97777778 0.97777778 0.98888889 1.         1.         1.\n",
            " 0.97777778 0.98888889 0.96666667 0.98888889 1.         1.\n",
            " 0.88888889 0.97777778 0.97777778 1.         0.97777778 0.98888889\n",
            " 0.88888889 1.         1.         0.98888889 0.97777778 0.95555556\n",
            " 1.         0.97777778 0.95555556 0.98888889 0.98888889 0.97777778\n",
            " 0.72222222 0.97777778 1.         1.         0.97777778 0.98888889\n",
            " 1.         1.         0.         0.         0.61111111 0.\n",
            " 0.         0.         0.         0.         0.         0.\n",
            " 0.         0.55555556 0.         0.61111111 0.98888889 0.72222222\n",
            " 0.61111111 0.97777778 0.         0.         0.         0.\n",
            " 0.5        0.61111111 0.72222222 0.88888889 0.88888889 0.98888889\n",
            " 0.         0.         0.         0.55555556 0.61111111 0.72222222\n",
            " 0.88888889 0.98888889 0.         0.         0.         0.\n",
            " 0.55555556 0.66666667 0.88888889 0.91111111 0.         0.\n",
            " 0.         0.55555556 0.61111111 0.88888889 0.66666667 0.95555556\n",
            " 0.72222222 0.98888889 0.72222222 0.61111111 0.88888889 0.94444444\n",
            " 1.         0.         0.         0.         0.         0.72222222]' has dtype incompatible with int64, please explicitly cast to a compatible dtype first.\n",
            "  y.loc[:, num_cols] = scaler.fit_transform(y[num_cols])\n"
          ]
        }
      ]
    },
    {
      "cell_type": "code",
      "source": [
        "# Check for missing values in y_train\n",
        "print(\"🔍 Missing Values in y_train:\")\n",
        "print(y_train.isnull().sum())\n"
      ],
      "metadata": {
        "id": "TcDyOfyzHWoc",
        "colab": {
          "base_uri": "https://localhost:8080/"
        },
        "outputId": "9801df83-bc7a-4e0b-cd38-5c6ed60f0096"
      },
      "execution_count": 7,
      "outputs": [
        {
          "output_type": "stream",
          "name": "stdout",
          "text": [
            "🔍 Missing Values in y_train:\n",
            "Flammability (Yes/No)            0\n",
            "Reactivity (Stable/Unstable)     0\n",
            "Explosiveness (1-10)             0\n",
            "Health Risk Score (0-100)        0\n",
            "Risk Score (0-100)               0\n",
            "Risk Category                   81\n",
            "dtype: int64\n"
          ]
        }
      ]
    },
    {
      "cell_type": "code",
      "source": [
        "# Fill missing numerical values with median and categorical with mode\n",
        "y_train.fillna({\n",
        "    \"Explosiveness (1-10)\": y_train[\"Explosiveness (1-10)\"].median(),\n",
        "    \"Health Risk Score (0-100)\": y_train[\"Health Risk Score (0-100)\"].median(),\n",
        "    \"Risk Score (0-100)\": y_train[\"Risk Score (0-100)\"].median(),\n",
        "    \"Flammability (Yes/No)\": y_train[\"Flammability (Yes/No)\"].mode()[0],\n",
        "    \"Reactivity (Stable/Unstable)\": y_train[\"Reactivity (Stable/Unstable)\"].mode()[0],\n",
        "    \"Risk Category\": y_train[\"Risk Category\"].mode()[0]\n",
        "}, inplace=True)\n"
      ],
      "metadata": {
        "id": "1INWZov9HWmK",
        "colab": {
          "base_uri": "https://localhost:8080/"
        },
        "outputId": "b4115acc-3b84-4758-ca49-1a0061cc67b1"
      },
      "execution_count": 8,
      "outputs": [
        {
          "output_type": "stream",
          "name": "stderr",
          "text": [
            "<ipython-input-8-9b50d04171f2>:2: FutureWarning: Downcasting object dtype arrays on .fillna, .ffill, .bfill is deprecated and will change in a future version. Call result.infer_objects(copy=False) instead. To opt-in to the future behavior, set `pd.set_option('future.no_silent_downcasting', True)`\n",
            "  y_train.fillna({\n"
          ]
        }
      ]
    },
    {
      "cell_type": "code",
      "source": [
        "# Split classification and regression targets\n",
        "classification_targets = [\"Flammability (Yes/No)\", \"Reactivity (Stable/Unstable)\", \"Risk Category\"]\n",
        "regression_targets = [\"Explosiveness (1-10)\", \"Health Risk Score (0-100)\", \"Risk Score (0-100)\"]\n",
        "\n",
        "y_train_class = y_train[classification_targets]\n",
        "y_train_reg = y_train[regression_targets]\n"
      ],
      "metadata": {
        "id": "EeFiSZw4HWLC"
      },
      "execution_count": 9,
      "outputs": []
    },
    {
      "cell_type": "code",
      "source": [
        "from sklearn.feature_extraction.text import TfidfVectorizer\n",
        "\n",
        "# Initialize and fit the vectorizer\n",
        "vectorizer = TfidfVectorizer(max_features=100)\n",
        "X_train_recipe_tfidf = vectorizer.fit_transform(X_train[\"Combined Recipe\"]).toarray()\n",
        "\n",
        "# Convert to DataFrame and reset the index\n",
        "X_train_recipe_tfidf = pd.DataFrame(X_train_recipe_tfidf, columns=vectorizer.get_feature_names_out())\n",
        "X_train_recipe_tfidf.reset_index(drop=True, inplace=True)\n",
        "\n",
        "# Drop the original text column and combine with the TF-IDF features\n",
        "X_train_processed = pd.concat([X_train.drop(columns=[\"Combined Recipe\"]).reset_index(drop=True), X_train_recipe_tfidf], axis=1)\n",
        "\n",
        "print(\"✅ TF-IDF Vectorization Done!\")\n"
      ],
      "metadata": {
        "id": "g__7FFc5HeAL",
        "colab": {
          "base_uri": "https://localhost:8080/"
        },
        "outputId": "227b2034-1751-4e25-8fe1-b6a4357f9305"
      },
      "execution_count": 10,
      "outputs": [
        {
          "output_type": "stream",
          "name": "stdout",
          "text": [
            "✅ TF-IDF Vectorization Done!\n"
          ]
        }
      ]
    },
    {
      "cell_type": "code",
      "source": [
        "from sklearn.multioutput import MultiOutputClassifier\n",
        "from sklearn.ensemble import RandomForestClassifier\n",
        "import joblib\n",
        "\n",
        "# Train classification model\n",
        "classifier = MultiOutputClassifier(RandomForestClassifier(random_state=42))\n",
        "classifier.fit(X_train_processed, y_train_class)\n",
        "\n",
        "# Save the classifier model\n",
        "joblib.dump(classifier, 'multi_output_classifier_model.pkl')\n",
        "print(\"✅ Classification Model Trained and Saved!\")\n"
      ],
      "metadata": {
        "id": "TD20AjVWHhGa",
        "colab": {
          "base_uri": "https://localhost:8080/"
        },
        "outputId": "5d180c93-ec55-46eb-8a61-ad2f7544807c"
      },
      "execution_count": 11,
      "outputs": [
        {
          "output_type": "stream",
          "name": "stdout",
          "text": [
            "✅ Classification Model Trained and Saved!\n"
          ]
        }
      ]
    },
    {
      "cell_type": "code",
      "source": [
        "from sklearn.feature_extraction.text import TfidfVectorizer\n",
        "\n",
        "# Initialize and fit the vectorizer\n",
        "vectorizer = TfidfVectorizer(max_features=100)\n",
        "X_train_recipe_tfidf = vectorizer.fit_transform(X_train[\"Combined Recipe\"]).toarray()\n",
        "\n",
        "# Convert TF-IDF results to DataFrame\n",
        "X_train_recipe_tfidf = pd.DataFrame(X_train_recipe_tfidf, columns=vectorizer.get_feature_names_out())\n",
        "X_train_recipe_tfidf.reset_index(drop=True, inplace=True)\n",
        "\n",
        "# Combine TF-IDF with other numerical features\n",
        "X_train_final = pd.concat([X_train.drop(columns=[\"Combined Recipe\"]).reset_index(drop=True), X_train_recipe_tfidf], axis=1)\n",
        "\n",
        "print(\"✅ TF-IDF Vectorization Done for Regression!\")\n"
      ],
      "metadata": {
        "id": "zqSebOLiHeyT",
        "colab": {
          "base_uri": "https://localhost:8080/"
        },
        "outputId": "07f12f1d-59c9-4318-c77c-0e4c3b11c7de"
      },
      "execution_count": 12,
      "outputs": [
        {
          "output_type": "stream",
          "name": "stdout",
          "text": [
            "✅ TF-IDF Vectorization Done for Regression!\n"
          ]
        }
      ]
    },
    {
      "cell_type": "code",
      "source": [
        "from sklearn.multioutput import MultiOutputRegressor\n",
        "from sklearn.ensemble import RandomForestRegressor\n",
        "import joblib\n",
        "\n",
        "# Initialize and train the regression model\n",
        "regressor = MultiOutputRegressor(RandomForestRegressor(random_state=42))\n",
        "regressor.fit(X_train_final, y_train_reg)\n",
        "\n",
        "# Save the trained model\n",
        "joblib.dump(regressor, 'multi_output_regressor_model.pkl')\n",
        "print(\"✅ Regression Model Trained and Saved!\")\n"
      ],
      "metadata": {
        "id": "Al59PQK1Heqz",
        "colab": {
          "base_uri": "https://localhost:8080/"
        },
        "outputId": "649fd624-8c72-452e-e245-d5a555dc0884"
      },
      "execution_count": 13,
      "outputs": [
        {
          "output_type": "stream",
          "name": "stdout",
          "text": [
            "✅ Regression Model Trained and Saved!\n"
          ]
        }
      ]
    },
    {
      "cell_type": "code",
      "source": [
        "import joblib\n",
        "\n",
        "# Save the trained vectorizer\n",
        "joblib.dump(vectorizer, 'tfidf_vectorizer.pkl')\n",
        "print(\"✅ TF-IDF Vectorizer Saved!\")\n"
      ],
      "metadata": {
        "id": "-UXiinvGHsU_",
        "colab": {
          "base_uri": "https://localhost:8080/"
        },
        "outputId": "1f0c89ef-3301-45da-a1f7-7fa991ac8740"
      },
      "execution_count": 14,
      "outputs": [
        {
          "output_type": "stream",
          "name": "stdout",
          "text": [
            "✅ TF-IDF Vectorizer Saved!\n"
          ]
        }
      ]
    },
    {
      "cell_type": "code",
      "source": [
        "def preprocess_new_recipe(new_recipe_raw):\n",
        "    import re\n",
        "\n",
        "    # Combine chemicals with quantities into the same format\n",
        "    def combine_chemicals(chemicals, quantities):\n",
        "        combined = [f\"{chem.strip()}:{re.sub(r'[^0-9.]+', '', qty)}\"\n",
        "                    for chem, qty in zip(chemicals.split(\"+\"), quantities.split(\"+\"))]\n",
        "        return \" + \".join(combined)\n",
        "\n",
        "    # Apply combination\n",
        "    new_recipe_raw[\"Combined Recipe\"] = new_recipe_raw.apply(\n",
        "        lambda row: combine_chemicals(row[\"Chemical Names\"], row[\"Quantities (g/mL)\"]), axis=1\n",
        "    )\n",
        "\n",
        "    return new_recipe_raw\n",
        "\n",
        "# Example new input\n",
        "new_recipe_raw = pd.DataFrame({\n",
        "    \"Chemical Names\": [\"Hydrazine + Red Fuming + Nitric Acid\"],\n",
        "    \"Quantities (g/mL)\": [\"300000000000 + 1000000000000 + 50000\"]\n",
        "})\n",
        "\n",
        "# Preprocess the input\n",
        "new_recipe_processed = preprocess_new_recipe(new_recipe_raw)\n",
        "print(\"✅ New Recipe Preprocessed!\")\n"
      ],
      "metadata": {
        "id": "M0izhufjHsSc",
        "colab": {
          "base_uri": "https://localhost:8080/"
        },
        "outputId": "46a1aaa2-4a67-4b37-c286-36379ccf7ac4"
      },
      "execution_count": 15,
      "outputs": [
        {
          "output_type": "stream",
          "name": "stdout",
          "text": [
            "✅ New Recipe Preprocessed!\n"
          ]
        }
      ]
    },
    {
      "cell_type": "code",
      "source": [
        "# Load the saved vectorizer and model\n",
        "vectorizer = joblib.load('tfidf_vectorizer.pkl')\n",
        "regressor = joblib.load('multi_output_regressor_model.pkl')\n",
        "\n",
        "# Vectorize the new recipe\n",
        "new_recipe_tfidf = vectorizer.transform(new_recipe_processed[\"Combined Recipe\"]).toarray()\n",
        "new_recipe_tfidf = pd.DataFrame(new_recipe_tfidf, columns=vectorizer.get_feature_names_out())\n",
        "\n",
        "# If there are additional numerical features, add them here\n",
        "# (In this case, we only have TF-IDF features)\n",
        "X_new = new_recipe_tfidf\n",
        "\n",
        "print(\"✅ New Recipe Vectorized and Ready for Prediction!\")\n"
      ],
      "metadata": {
        "id": "f8-6TTxCHsP6",
        "colab": {
          "base_uri": "https://localhost:8080/"
        },
        "outputId": "530c6d87-a1f9-45af-bbdb-e93c103e7e32"
      },
      "execution_count": 16,
      "outputs": [
        {
          "output_type": "stream",
          "name": "stdout",
          "text": [
            "✅ New Recipe Vectorized and Ready for Prediction!\n"
          ]
        }
      ]
    },
    {
      "cell_type": "code",
      "source": [
        "# Perform the prediction\n",
        "predictions = regressor.predict(X_new)\n",
        "\n",
        "# Format and display the results\n",
        "predicted_df = pd.DataFrame(predictions, columns=[\n",
        "    \"Explosiveness (1-10)\", \"Health Risk Score (0-100)\", \"Risk Score (0-100)\"\n",
        "])\n",
        "\n",
        "print(\"\\n🔍 Predicted Detailed Risk Analysis:\")\n",
        "print(predicted_df)\n"
      ],
      "metadata": {
        "id": "zQzrf7SdHvGV",
        "colab": {
          "base_uri": "https://localhost:8080/"
        },
        "outputId": "47057fbb-2036-4a7a-a535-4a11a5dd7113"
      },
      "execution_count": 17,
      "outputs": [
        {
          "output_type": "stream",
          "name": "stdout",
          "text": [
            "\n",
            "🔍 Predicted Detailed Risk Analysis:\n",
            "   Explosiveness (1-10)  Health Risk Score (0-100)  Risk Score (0-100)\n",
            "0                 0.963                   0.959579            0.991222\n"
          ]
        }
      ]
    },
    {
      "cell_type": "code",
      "source": [
        "def determine_risk_level(row):\n",
        "    if any([\n",
        "        row[\"Explosiveness (1-10)\"] > 90,\n",
        "        row[\"Health Risk Score (0-100)\"] > 90,\n",
        "        row[\"Risk Score (0-100)\"] > 90\n",
        "    ]):\n",
        "        return \"Very High Risk\"\n",
        "    elif any([\n",
        "        71 <= row[\"Explosiveness (1-10)\"] <= 90,\n",
        "        71 <= row[\"Health Risk Score (0-100)\"] <= 90,\n",
        "        71 <= row[\"Risk Score (0-100)\"] <= 90\n",
        "    ]):\n",
        "        return \"High Risk\"\n",
        "    elif any([\n",
        "        31 <= row[\"Explosiveness (1-10)\"] <= 70,\n",
        "        31 <= row[\"Health Risk Score (0-100)\"] <= 70,\n",
        "        31 <= row[\"Risk Score (0-100)\"] <= 70\n",
        "    ]):\n",
        "        return \"Medium Risk\"\n",
        "    else:\n",
        "        return \"Low Risk\"\n",
        "\n",
        "# Perform the prediction\n",
        "predictions = regressor.predict(X_new)\n",
        "\n",
        "# Rescale the predictions back to original scale\n",
        "predicted_df = pd.DataFrame({\n",
        "    \"Explosiveness (1-10)\": predictions[:, 0] * 10,\n",
        "    \"Health Risk Score (0-100)\": predictions[:, 1] * 100,\n",
        "    \"Risk Score (0-100)\": predictions[:, 2] * 100\n",
        "})\n",
        "\n",
        "# Determine overall risk level\n",
        "predicted_df[\"Overall Risk Level\"] = predicted_df.apply(determine_risk_level, axis=1)\n",
        "\n",
        "# Display the detailed analysis with overall risk level\n",
        "print(\"\\n🔍 Predicted Detailed Risk Analysis with Overall Risk Level:\")\n",
        "print(predicted_df)\n",
        "\n",
        "# Output overall risk level in text\n",
        "for idx, row in predicted_df.iterrows():\n",
        "    print(f\"\\n🔔 Overall Risk Level for Recipe {idx + 1}: {row['Overall Risk Level']}\")\n"
      ],
      "metadata": {
        "colab": {
          "base_uri": "https://localhost:8080/"
        },
        "id": "ZdTxgOjfMaeP",
        "outputId": "14214d5b-2ad8-453a-9efc-4bee20b35369"
      },
      "execution_count": 18,
      "outputs": [
        {
          "output_type": "stream",
          "name": "stdout",
          "text": [
            "\n",
            "🔍 Predicted Detailed Risk Analysis with Overall Risk Level:\n",
            "   Explosiveness (1-10)  Health Risk Score (0-100)  Risk Score (0-100)  \\\n",
            "0                  9.63                  95.957895           99.122222   \n",
            "\n",
            "  Overall Risk Level  \n",
            "0     Very High Risk  \n",
            "\n",
            "🔔 Overall Risk Level for Recipe 1: Very High Risk\n"
          ]
        }
      ]
    },
    {
      "cell_type": "code",
      "source": [
        "from sklearn.multioutput import MultiOutputClassifier, MultiOutputRegressor\n",
        "from sklearn.ensemble import RandomForestClassifier, RandomForestRegressor\n",
        "import joblib\n",
        "\n",
        "class CombinedModel:\n",
        "    def __init__(self):\n",
        "        # Initialize the classification and regression models\n",
        "        self.classifier = MultiOutputClassifier(RandomForestClassifier(random_state=42))\n",
        "        self.regressor = MultiOutputRegressor(RandomForestRegressor(random_state=42))\n",
        "\n",
        "    def fit(self, X, y_class, y_reg):\n",
        "        \"\"\"Train both classification and regression models.\"\"\"\n",
        "        self.classifier.fit(X, y_class)\n",
        "        self.regressor.fit(X, y_reg)\n",
        "\n",
        "    def predict(self, X):\n",
        "        \"\"\"Predict both classification and regression outcomes.\"\"\"\n",
        "        class_preds = self.classifier.predict(X)\n",
        "        reg_preds = self.regressor.predict(X)\n",
        "        return class_preds, reg_preds\n",
        "\n",
        "    def save(self, path):\n",
        "        \"\"\"Save the combined model.\"\"\"\n",
        "        joblib.dump(self, path)\n",
        "\n",
        "    @staticmethod\n",
        "    def load(path):\n",
        "        \"\"\"Load the combined model.\"\"\"\n",
        "        return joblib.load(path)\n"
      ],
      "metadata": {
        "id": "IF9zjIRsUzIF"
      },
      "execution_count": 21,
      "outputs": []
    },
    {
      "cell_type": "code",
      "source": [
        "# Initialize the combined model\n",
        "combined_model = CombinedModel()\n",
        "\n",
        "# Train the model using both classification and regression targets\n",
        "combined_model.fit(X_train_final, y_train_class, y_train_reg)\n",
        "\n",
        "# Save the trained combined model\n",
        "combined_model.save('combined_model.pkl')\n",
        "print(\"✅ Combined Model Trained and Saved!\")\n"
      ],
      "metadata": {
        "colab": {
          "base_uri": "https://localhost:8080/"
        },
        "id": "ntbq1leiW2mv",
        "outputId": "720ef82e-cb38-436b-9443-e01965f993c0"
      },
      "execution_count": 22,
      "outputs": [
        {
          "output_type": "stream",
          "name": "stdout",
          "text": [
            "✅ Combined Model Trained and Saved!\n"
          ]
        }
      ]
    },
    {
      "cell_type": "code",
      "source": [
        "# Fit the vectorizer with the training 'Combined Recipe'\n",
        "vectorizer = TfidfVectorizer()\n",
        "X_train_text = vectorizer.fit_transform(X_train[\"Combined Recipe\"]).toarray()\n",
        "\n",
        "# Save the fitted vectorizer\n",
        "joblib.dump(vectorizer, 'tfidf_vectorizer.pkl')\n",
        "\n",
        "print(\"✅ Vectorizer fitted and saved!\")\n",
        "\n"
      ],
      "metadata": {
        "colab": {
          "base_uri": "https://localhost:8080/"
        },
        "id": "-DV2NYM3XT7d",
        "outputId": "57b11b7c-5002-48a1-fa36-19f1f66dafd2"
      },
      "execution_count": 25,
      "outputs": [
        {
          "output_type": "stream",
          "name": "stdout",
          "text": [
            "✅ Vectorizer fitted and saved!\n"
          ]
        }
      ]
    },
    {
      "cell_type": "code",
      "source": [
        "# Load the fitted vectorizer (if not already in memory)\n",
        "vectorizer = joblib.load('tfidf_vectorizer.pkl')\n",
        "\n",
        "# Transform the 'Combined Recipe' in test data\n",
        "X_test_text = vectorizer.transform(X_test[\"Combined Recipe\"]).toarray()\n",
        "\n",
        "# Combine vectorized text with other features\n",
        "X_test_final = np.hstack([X_test_text, X_test.drop(columns=[\"Combined Recipe\"]).values])\n",
        "\n",
        "print(\"✅ Test data processed for prediction.\")\n"
      ],
      "metadata": {
        "colab": {
          "base_uri": "https://localhost:8080/"
        },
        "id": "tk8CYnX5X4rH",
        "outputId": "12dc4644-5430-4ef2-c998-dcf8d5bbf80d"
      },
      "execution_count": 26,
      "outputs": [
        {
          "output_type": "stream",
          "name": "stdout",
          "text": [
            "✅ Test data processed for prediction.\n"
          ]
        }
      ]
    },
    {
      "source": [
        "from sklearn.feature_extraction.text import TfidfVectorizer\n",
        "import joblib\n",
        "# Fit the vectorizer with the training 'Combined Recipe'\n",
        "# Setting max_features to 100 for consistent feature size\n",
        "vectorizer = TfidfVectorizer(max_features=100)\n",
        "X_train_text = vectorizer.fit_transform(X_train[\"Combined Recipe\"]).toarray()\n",
        "\n",
        "# Save the fitted vectorizer\n",
        "joblib.dump(vectorizer, 'tfidf_vectorizer.pkl')\n",
        "\n",
        "print(\"✅ Vectorizer fitted and saved!\")"
      ],
      "cell_type": "code",
      "metadata": {
        "colab": {
          "base_uri": "https://localhost:8080/"
        },
        "id": "1ZZ5D1mYceIm",
        "outputId": "c4dde1fa-7b2e-4ded-bba6-de95aa1e6a80"
      },
      "execution_count": 36,
      "outputs": [
        {
          "output_type": "stream",
          "name": "stdout",
          "text": [
            "✅ Vectorizer fitted and saved!\n"
          ]
        }
      ]
    },
    {
      "source": [
        "from sklearn.metrics import classification_report, confusion_matrix\n",
        "import seaborn as sns\n",
        "import matplotlib.pyplot as plt\n",
        "\n",
        "# ✅ Load the saved vectorizer to ensure consistent feature transformation\n",
        "vectorizer = joblib.load('tfidf_vectorizer.pkl')\n",
        "\n",
        "# ✅ Vectorize the test data using the same fitted vectorizer\n",
        "X_test_text = vectorizer.transform(X_test[\"Combined Recipe\"]).toarray()\n",
        "\n",
        "# ✅ Ensure other features align with training features (if any)\n",
        "# For this case, drop \"Combined Recipe\" from X_test if present\n",
        "X_test_others = X_test.drop(columns=[\"Combined Recipe\"], errors='ignore').values\n",
        "\n",
        "# ✅ Combine features\n",
        "X_test_final = np.hstack([X_test_text, X_test_others])\n",
        "\n",
        "# 🔄 Predict using the combined model\n",
        "class_preds, reg_preds = combined_model.predict(X_test_final)\n",
        "\n",
        "# ... (rest of your code for evaluation) ..."
      ],
      "cell_type": "code",
      "metadata": {
        "colab": {
          "base_uri": "https://localhost:8080/"
        },
        "id": "sTYflm3dceg0",
        "outputId": "6393a95d-b4d1-4174-dace-6686668e7503"
      },
      "execution_count": 37,
      "outputs": [
        {
          "output_type": "stream",
          "name": "stderr",
          "text": [
            "/usr/local/lib/python3.11/dist-packages/sklearn/utils/validation.py:2739: UserWarning: X does not have valid feature names, but RandomForestClassifier was fitted with feature names\n",
            "  warnings.warn(\n",
            "/usr/local/lib/python3.11/dist-packages/sklearn/utils/validation.py:2739: UserWarning: X does not have valid feature names, but RandomForestClassifier was fitted with feature names\n",
            "  warnings.warn(\n",
            "/usr/local/lib/python3.11/dist-packages/sklearn/utils/validation.py:2739: UserWarning: X does not have valid feature names, but RandomForestClassifier was fitted with feature names\n",
            "  warnings.warn(\n",
            "/usr/local/lib/python3.11/dist-packages/sklearn/utils/validation.py:2739: UserWarning: X does not have valid feature names, but RandomForestRegressor was fitted with feature names\n",
            "  warnings.warn(\n",
            "/usr/local/lib/python3.11/dist-packages/sklearn/utils/validation.py:2739: UserWarning: X does not have valid feature names, but RandomForestRegressor was fitted with feature names\n",
            "  warnings.warn(\n",
            "/usr/local/lib/python3.11/dist-packages/sklearn/utils/validation.py:2739: UserWarning: X does not have valid feature names, but RandomForestRegressor was fitted with feature names\n",
            "  warnings.warn(\n"
          ]
        }
      ]
    },
    {
      "source": [
        "# ipython-input-25-5c8121f8712c\n",
        "from sklearn.feature_extraction.text import TfidfVectorizer\n",
        "import joblib\n",
        "# Fit the vectorizer with the training 'Combined Recipe'\n",
        "# Setting max_features to 100 for consistent feature size\n",
        "vectorizer = TfidfVectorizer(max_features=100)\n",
        "X_train_text = vectorizer.fit_transform(X_train[\"Combined Recipe\"]).toarray()\n",
        "\n",
        "# Save the fitted vectorizer\n",
        "joblib.dump(vectorizer, 'tfidf_vectorizer.pkl')\n",
        "\n",
        "print(\"✅ Vectorizer fitted and saved!\")"
      ],
      "cell_type": "code",
      "metadata": {
        "colab": {
          "base_uri": "https://localhost:8080/"
        },
        "id": "Yi31TvetcAjm",
        "outputId": "ca4ffa8e-8220-4889-e1c7-0677725a07b5"
      },
      "execution_count": 35,
      "outputs": [
        {
          "output_type": "stream",
          "name": "stdout",
          "text": [
            "✅ Vectorizer fitted and saved!\n"
          ]
        }
      ]
    },
    {
      "source": [
        "from sklearn.metrics import classification_report, confusion_matrix\n",
        "import seaborn as sns\n",
        "import matplotlib.pyplot as plt\n",
        "import joblib\n",
        "import numpy as np\n",
        "\n",
        "# Load the saved vectorizer to ensure consistent feature transformation\n",
        "vectorizer = joblib.load('tfidf_vectorizer.pkl')\n",
        "\n",
        "# Vectorize the test data using the same fitted vectorizer\n",
        "X_test_text = vectorizer.transform(X_test[\"Combined Recipe\"]).toarray()\n",
        "\n",
        "# Ensure other features align with training features\n",
        "X_test_others = X_test.drop(columns=[\"Combined Recipe\"], errors='ignore').values\n",
        "\n",
        "# Combine features\n",
        "X_test_final = np.hstack([X_test_text, X_test_others])\n",
        "\n",
        "# Predict using the combined model\n",
        "class_preds, reg_preds = combined_model.predict(X_test_final)\n",
        "\n",
        "# Extract actual risk levels from test data\n",
        "actual_risk_levels = y_test[[\"Risk Score (0-100)\"]].applymap(\n",
        "    lambda x: \"Low Risk\" if x <= 0.3 else\n",
        "              \"Medium Risk\" if x <= 0.7 else\n",
        "              \"High Risk\" if x <= 0.9 else\n",
        "              \"Very High Risk\"\n",
        ").values.flatten()\n",
        "\n",
        "# Extract predicted risk levels from regression predictions\n",
        "predicted_risk_levels = [\n",
        "    \"Low Risk\" if score <= 0.3 else\n",
        "    \"Medium Risk\" if score <= 0.7 else\n",
        "    \"High Risk\" if score <= 0.9 else\n",
        "    \"Very High Risk\"\n",
        "    for score in reg_preds[:, 2]  # Assuming the third column is Risk Score\n",
        "]\n",
        "\n",
        "# Classification Report\n",
        "print(\"\\n📄 Overall Classification Report for Risk Levels:\")\n",
        "print(classification_report(actual_risk_levels, predicted_risk_levels, zero_division=0))\n",
        "\n",
        "# Confusion Matrix\n",
        "labels = [\"Low Risk\", \"Medium Risk\", \"High Risk\", \"Very High Risk\"]\n",
        "cm = confusion_matrix(actual_risk_levels, predicted_risk_levels, labels=labels)\n",
        "plt.figure(figsize=(8, 6))  # Adjust figure size for better visibility\n",
        "sns.heatmap(cm, annot=True, fmt=\"d\", cmap=\"Blues\", xticklabels=labels, yticklabels=labels)\n",
        "plt.title(\"Confusion Matrix for Overall Risk Levels\")\n",
        "plt.xlabel(\"Predicted Risk Level\")\n",
        "plt.ylabel(\"Actual Risk Level\")\n",
        "plt.xticks(rotation=45, ha='right')  # Rotate x-axis labels for better readability\n",
        "plt.yticks(rotation=0)  # Keep y-axis labels vertical\n",
        "plt.tight_layout()  # Adjust layout to prevent overlapping elements\n",
        "plt.show()"
      ],
      "cell_type": "code",
      "metadata": {
        "colab": {
          "base_uri": "https://localhost:8080/",
          "height": 1000
        },
        "id": "F2sNcuQacr_0",
        "outputId": "a75bb155-908e-4fbc-e97e-7165ba78abb2"
      },
      "execution_count": 38,
      "outputs": [
        {
          "output_type": "stream",
          "name": "stderr",
          "text": [
            "/usr/local/lib/python3.11/dist-packages/sklearn/utils/validation.py:2739: UserWarning: X does not have valid feature names, but RandomForestClassifier was fitted with feature names\n",
            "  warnings.warn(\n",
            "/usr/local/lib/python3.11/dist-packages/sklearn/utils/validation.py:2739: UserWarning: X does not have valid feature names, but RandomForestClassifier was fitted with feature names\n",
            "  warnings.warn(\n",
            "/usr/local/lib/python3.11/dist-packages/sklearn/utils/validation.py:2739: UserWarning: X does not have valid feature names, but RandomForestClassifier was fitted with feature names\n",
            "  warnings.warn(\n",
            "/usr/local/lib/python3.11/dist-packages/sklearn/utils/validation.py:2739: UserWarning: X does not have valid feature names, but RandomForestRegressor was fitted with feature names\n",
            "  warnings.warn(\n",
            "/usr/local/lib/python3.11/dist-packages/sklearn/utils/validation.py:2739: UserWarning: X does not have valid feature names, but RandomForestRegressor was fitted with feature names\n",
            "  warnings.warn(\n",
            "/usr/local/lib/python3.11/dist-packages/sklearn/utils/validation.py:2739: UserWarning: X does not have valid feature names, but RandomForestRegressor was fitted with feature names\n",
            "  warnings.warn(\n",
            "<ipython-input-38-7c094bc55de0>:23: FutureWarning: DataFrame.applymap has been deprecated. Use DataFrame.map instead.\n",
            "  actual_risk_levels = y_test[[\"Risk Score (0-100)\"]].applymap(\n"
          ]
        },
        {
          "output_type": "stream",
          "name": "stdout",
          "text": [
            "\n",
            "📄 Overall Classification Report for Risk Levels:\n",
            "                precision    recall  f1-score   support\n",
            "\n",
            "     High Risk       0.12      0.33      0.18         3\n",
            "      Low Risk       1.00      0.50      0.67         4\n",
            "   Medium Risk       0.33      0.25      0.29         4\n",
            "Very High Risk       0.82      0.74      0.78        19\n",
            "\n",
            "      accuracy                           0.60        30\n",
            "     macro avg       0.57      0.46      0.48        30\n",
            "  weighted avg       0.71      0.60      0.64        30\n",
            "\n"
          ]
        },
        {
          "output_type": "display_data",
          "data": {
            "text/plain": [
              "<Figure size 800x600 with 2 Axes>"
            ],
            "image/png": "[encoded data removed]"
          },
          "metadata": {}
        }
      ]
    }
  ]
}