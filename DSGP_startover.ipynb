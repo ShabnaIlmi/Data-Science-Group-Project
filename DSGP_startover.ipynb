{
  "nbformat": 4,
  "nbformat_minor": 0,
  "metadata": {
    "colab": {
      "provenance": [],
      "authorship_tag": "ABX9TyOu0EYfw+pbxgxm/zOjRNHU",
      "include_colab_link": true
    },
    "kernelspec": {
      "name": "python3",
      "display_name": "Python 3"
    },
    "language_info": {
      "name": "python"
    }
  },
  "cells": [
    {
      "cell_type": "markdown",
      "metadata": {
        "id": "view-in-github",
        "colab_type": "text"
      },
      "source": [
        "<a href=\"https://colab.research.google.com/github/ShabnaIlmi/Data-Science-Group-Project/blob/recipe-risk-analyzer/DSGP_startover.ipynb\" target=\"_parent\"><img src=\"https://colab.research.google.com/assets/colab-badge.svg\" alt=\"Open In Colab\"/></a>"
      ]
    },
    {
      "cell_type": "markdown",
      "source": [
        "**Load and Inspect the Data**"
      ],
      "metadata": {
        "id": "r5JpAA525fz1"
      }
    },
    {
      "cell_type": "code",
      "execution_count": 1,
      "metadata": {
        "colab": {
          "base_uri": "https://localhost:8080/"
        },
        "id": "59QL0yYX20_8",
        "outputId": "aa4a0ef2-1186-4bbe-a6fc-c772bc884d98"
      },
      "outputs": [
        {
          "output_type": "stream",
          "name": "stdout",
          "text": [
            "📌 recipes_nodup.csv:\n",
            "   Recipe ID                                    Chemical Names  \\\n",
            "0          1               Ephedrine + Red Phosphorus + Iodine   \n",
            "1          2             Toluene + Nitric Acid + Sulfuric Acid   \n",
            "2          3       Hydrogen Peroxide + Acetone + Sulfuric Acid   \n",
            "3          4  Ephedrine + Potassium Permanganate + Acetic Acid   \n",
            "4          5             Potassium Nitrate + Charcoal + Sulfur   \n",
            "\n",
            "                     Formulas   Quantities (g/mL)  \\\n",
            "0           C10H15NO + P + I2     30g + 15g + 10g   \n",
            "1         C7H8 + HNO3 + H2SO4  50mL + 30mL + 40mL   \n",
            "2        H2O2 + C3H6O + H2SO4   20mL + 30mL + 5mL   \n",
            "3  C10H15NO + KMnO4 + CH3COOH    25g + 10g + 50mL   \n",
            "4                KNO3 + C + S     75g + 15g + 10g   \n",
            "\n",
            "                         CAS Numbers    Solvent Used  \\\n",
            "0   299-42-3 + 7723-14-0 + 7553-56-2  Acetone, Ether   \n",
            "1   108-88-3 + 7697-37-2 + 7664-93-9             NaN   \n",
            "2    7722-84-1 + 67-64-1 + 7664-93-9             NaN   \n",
            "3     299-42-3 + 7722-64-7 + 64-19-7           Water   \n",
            "4  7757-79-1 + 7440-44-0 + 7704-34-9           Water   \n",
            "\n",
            "               Reaction Conditions Toxicity Level Flammability (Yes/No)  \\\n",
            "0       Reduction reaction at 40°C           High                   Yes   \n",
            "1                Nitration at 50°C           High                   Yes   \n",
            "2         Acidic catalysis at 10°C      Very High                   Yes   \n",
            "3  Oxidation reaction at room temp           High                    No   \n",
            "4              Grinding and mixing         Medium                    No   \n",
            "\n",
            "  Reactivity (Stable/Unstable)  ...  Environmental Hazard (Yes/No)  \\\n",
            "0                     Unstable  ...                            Yes   \n",
            "1                     Unstable  ...                            Yes   \n",
            "2                     Unstable  ...                            Yes   \n",
            "3                       Stable  ...                            Yes   \n",
            "4                       Stable  ...                            Yes   \n",
            "\n",
            "   Dual Use Potential (Yes/No)                  Intended Use  \\\n",
            "0                          Yes        Illegal drug synthesis   \n",
            "1                          Yes                 TNT synthesis   \n",
            "2                          Yes  Acetone Peroxide (Explosive)   \n",
            "3                          Yes       Methcathinone synthesis   \n",
            "4                          Yes      Fireworks & Black Powder   \n",
            "\n",
            "  Export Restriction (Yes/No) Controlled Substance (Yes/No)  \\\n",
            "0                         Yes                           Yes   \n",
            "1                         Yes                           Yes   \n",
            "2                         Yes                           Yes   \n",
            "3                         Yes                           Yes   \n",
            "4                         Yes                            No   \n",
            "\n",
            "  Risk Assessment Score (0-100) Regulatory Body  \\\n",
            "0                            95        DEA, FDA   \n",
            "1                            97        ATF, DOT   \n",
            "2                            99        ATF, DOT   \n",
            "3                            88        DEA, FDA   \n",
            "4                            70        ATF, DOT   \n",
            "\n",
            "   Compliance Status (Compliant/Non-compliant) Risk Category  \\\n",
            "0                                Non-compliant      Critical   \n",
            "1                                Non-compliant      Critical   \n",
            "2                                Non-compliant      Critical   \n",
            "3                                Non-compliant          High   \n",
            "4                                Non-compliant          High   \n",
            "\n",
            "  Risk Score (0-100)  \n",
            "0                 98  \n",
            "1                 99  \n",
            "2                 99  \n",
            "3                 90  \n",
            "4                 85  \n",
            "\n",
            "[5 rows x 22 columns] \n",
            "\n",
            "\n",
            "📌 chem.csv:\n",
            "   ID         Chemical name molarcular  formula  CAS number  \\\n",
            "0   1               Acetone                C3H6O    67-64-1   \n",
            "1   2             Acetylene                 C2H2    74-86-2   \n",
            "2   3         Acrylonitrile                C3H3N   107-13-1   \n",
            "3   4      Ammonium Nitrate               NH4NO3  6484-52-2   \n",
            "4   5  Ammonium Perchlorate              NH4ClO4  7790-98-9   \n",
            "\n",
            "                             applications  UN number       synonyms  \\\n",
            "0  Solvent, cleaning agent, paint thinner     1090.0      Propanone   \n",
            "1             Welding, chemical synthesis     1001.0         Ethyne   \n",
            "2            Plastic production, textiles     1093.0  Vinyl cyanide   \n",
            "3                  Fertilizer, explosives     1942.0         Nitram   \n",
            "4                 Rocket fuel, explosives     1442.0             AP   \n",
            "\n",
            "  Toxicity level  \n",
            "0            Low  \n",
            "1           High  \n",
            "2           High  \n",
            "3           High  \n",
            "4           High   \n",
            "\n",
            "\n",
            "🔍 recipes_nodup.csv Shape: (150, 22)\n",
            "🔍 chem.csv Shape: (401, 8)\n",
            "🛠 recipes_nodup Columns: Index(['Recipe ID', 'Chemical Names', 'Formulas', 'Quantities (g/mL)',\n",
            "       'CAS Numbers', 'Solvent Used', 'Reaction Conditions', 'Toxicity Level',\n",
            "       'Flammability (Yes/No)', 'Reactivity (Stable/Unstable)',\n",
            "       'Explosiveness (1-10)', 'Health Risk Score (0-100)',\n",
            "       'Environmental Hazard (Yes/No)', 'Dual Use Potential (Yes/No)',\n",
            "       'Intended Use', 'Export Restriction (Yes/No)',\n",
            "       'Controlled Substance (Yes/No)', 'Risk Assessment Score (0-100)',\n",
            "       'Regulatory Body', 'Compliance Status (Compliant/Non-compliant)',\n",
            "       'Risk Category', 'Risk Score (0-100)'],\n",
            "      dtype='object')\n",
            "🛠 chem Columns: Index(['ID', 'Chemical name', 'molarcular  formula ', 'CAS number',\n",
            "       'applications', 'UN number', 'synonyms', 'Toxicity level'],\n",
            "      dtype='object')\n",
            "⚠️ Missing values in recipes_nodup:\n",
            " Recipe ID                                       0\n",
            "Chemical Names                                  0\n",
            "Formulas                                        0\n",
            "Quantities (g/mL)                               0\n",
            "CAS Numbers                                     0\n",
            "Solvent Used                                   89\n",
            "Reaction Conditions                             0\n",
            "Toxicity Level                                  0\n",
            "Flammability (Yes/No)                           0\n",
            "Reactivity (Stable/Unstable)                    0\n",
            "Explosiveness (1-10)                            0\n",
            "Health Risk Score (0-100)                       0\n",
            "Environmental Hazard (Yes/No)                   0\n",
            "Dual Use Potential (Yes/No)                     0\n",
            "Intended Use                                    0\n",
            "Export Restriction (Yes/No)                     0\n",
            "Controlled Substance (Yes/No)                   0\n",
            "Risk Assessment Score (0-100)                   0\n",
            "Regulatory Body                                14\n",
            "Compliance Status (Compliant/Non-compliant)     0\n",
            "Risk Category                                   0\n",
            "Risk Score (0-100)                              0\n",
            "dtype: int64 \n",
            "\n",
            "⚠️ Missing values in chem:\n",
            " ID                       0\n",
            "Chemical name            0\n",
            "molarcular  formula      0\n",
            "CAS number               1\n",
            "applications             0\n",
            "UN number               12\n",
            "synonyms                 6\n",
            "Toxicity level           0\n",
            "dtype: int64 \n",
            "\n"
          ]
        }
      ],
      "source": [
        "import pandas as pd\n",
        "\n",
        "# Load datasets\n",
        "recipes_path = \"/content/recipes_nodup.csv\"\n",
        "chem_path = \"/content/chem.csv\"\n",
        "\n",
        "df_recipes = pd.read_csv(recipes_path)\n",
        "df_chem = pd.read_csv(chem_path)\n",
        "\n",
        "# Display first few rows of each dataset\n",
        "print(\"📌 recipes_nodup.csv:\")\n",
        "print(df_recipes.head(), \"\\n\\n\")\n",
        "\n",
        "print(\"📌 chem.csv:\")\n",
        "print(df_chem.head(), \"\\n\\n\")\n",
        "\n",
        "# Check dataset shapes\n",
        "print(f\"🔍 recipes_nodup.csv Shape: {df_recipes.shape}\")\n",
        "print(f\"🔍 chem.csv Shape: {df_chem.shape}\")\n",
        "\n",
        "# Show column names\n",
        "print(\"🛠 recipes_nodup Columns:\", df_recipes.columns)\n",
        "print(\"🛠 chem Columns:\", df_chem.columns)\n",
        "\n",
        "# Check missing values\n",
        "print(\"⚠️ Missing values in recipes_nodup:\\n\", df_recipes.isnull().sum(), \"\\n\")\n",
        "print(\"⚠️ Missing values in chem:\\n\", df_chem.isnull().sum(), \"\\n\")\n"
      ]
    },
    {
      "cell_type": "code",
      "source": [
        "# Check data types of columns\n",
        "print(\"🔍 Data types in recipes_nodup.csv:\\n\", df_recipes.dtypes, \"\\n\")\n",
        "print(\"🔍 Data types in chem.csv:\\n\", df_chem.dtypes, \"\\n\")\n"
      ],
      "metadata": {
        "colab": {
          "base_uri": "https://localhost:8080/"
        },
        "id": "EW-wqlN9Kn9y",
        "outputId": "0c150e42-9cd9-4a0d-aa18-df92e78bfd14"
      },
      "execution_count": 2,
      "outputs": [
        {
          "output_type": "stream",
          "name": "stdout",
          "text": [
            "🔍 Data types in recipes_nodup.csv:\n",
            " Recipe ID                                       int64\n",
            "Chemical Names                                 object\n",
            "Formulas                                       object\n",
            "Quantities (g/mL)                              object\n",
            "CAS Numbers                                    object\n",
            "Solvent Used                                   object\n",
            "Reaction Conditions                            object\n",
            "Toxicity Level                                 object\n",
            "Flammability (Yes/No)                          object\n",
            "Reactivity (Stable/Unstable)                   object\n",
            "Explosiveness (1-10)                            int64\n",
            "Health Risk Score (0-100)                       int64\n",
            "Environmental Hazard (Yes/No)                  object\n",
            "Dual Use Potential (Yes/No)                    object\n",
            "Intended Use                                   object\n",
            "Export Restriction (Yes/No)                    object\n",
            "Controlled Substance (Yes/No)                  object\n",
            "Risk Assessment Score (0-100)                   int64\n",
            "Regulatory Body                                object\n",
            "Compliance Status (Compliant/Non-compliant)    object\n",
            "Risk Category                                  object\n",
            "Risk Score (0-100)                              int64\n",
            "dtype: object \n",
            "\n",
            "🔍 Data types in chem.csv:\n",
            " ID                        int64\n",
            "Chemical name            object\n",
            "molarcular  formula      object\n",
            "CAS number               object\n",
            "applications             object\n",
            "UN number               float64\n",
            "synonyms                 object\n",
            "Toxicity level           object\n",
            "dtype: object \n",
            "\n"
          ]
        }
      ]
    },
    {
      "cell_type": "markdown",
      "source": [
        "**Check Missing Values and Remove Duplicates**"
      ],
      "metadata": {
        "id": "LNp5ghao5kZs"
      }
    },
    {
      "cell_type": "code",
      "source": [
        "print(\"📌 Duplicate rows in recipes_nodup:\", df_recipes.duplicated().sum())\n",
        "print(\"📌 Duplicate rows in chem:\", df_chem.duplicated().sum())\n",
        "\n",
        "print(\"⚠️ Missing values in recipes_nodup:\\n\", df_recipes.isnull().sum(), \"\\n\")\n",
        "print(\"⚠️ Missing values in chem:\\n\", df_chem.isnull().sum(), \"\\n\")\n",
        "\n"
      ],
      "metadata": {
        "colab": {
          "base_uri": "https://localhost:8080/"
        },
        "id": "4S6wKOY03Dvu",
        "outputId": "c6039a8b-d4b4-4fb3-d657-a9fd3fff46c2"
      },
      "execution_count": 3,
      "outputs": [
        {
          "output_type": "stream",
          "name": "stdout",
          "text": [
            "📌 Duplicate rows in recipes_nodup: 0\n",
            "📌 Duplicate rows in chem: 0\n",
            "⚠️ Missing values in recipes_nodup:\n",
            " Recipe ID                                       0\n",
            "Chemical Names                                  0\n",
            "Formulas                                        0\n",
            "Quantities (g/mL)                               0\n",
            "CAS Numbers                                     0\n",
            "Solvent Used                                   89\n",
            "Reaction Conditions                             0\n",
            "Toxicity Level                                  0\n",
            "Flammability (Yes/No)                           0\n",
            "Reactivity (Stable/Unstable)                    0\n",
            "Explosiveness (1-10)                            0\n",
            "Health Risk Score (0-100)                       0\n",
            "Environmental Hazard (Yes/No)                   0\n",
            "Dual Use Potential (Yes/No)                     0\n",
            "Intended Use                                    0\n",
            "Export Restriction (Yes/No)                     0\n",
            "Controlled Substance (Yes/No)                   0\n",
            "Risk Assessment Score (0-100)                   0\n",
            "Regulatory Body                                14\n",
            "Compliance Status (Compliant/Non-compliant)     0\n",
            "Risk Category                                   0\n",
            "Risk Score (0-100)                              0\n",
            "dtype: int64 \n",
            "\n",
            "⚠️ Missing values in chem:\n",
            " ID                       0\n",
            "Chemical name            0\n",
            "molarcular  formula      0\n",
            "CAS number               1\n",
            "applications             0\n",
            "UN number               12\n",
            "synonyms                 6\n",
            "Toxicity level           0\n",
            "dtype: int64 \n",
            "\n"
          ]
        }
      ]
    },
    {
      "cell_type": "code",
      "source": [
        "# Display unique values for categorical columns\n",
        "print(\"Unique values in key columns (recipes_nodup):\\n\")\n",
        "for col in df_recipes.columns:\n",
        "    print(f\"{col}: {df_recipes[col].nunique()} unique values\")\n",
        "\n",
        "print(\"\\n🛠 Unique values in key columns (chem):\\n\")\n",
        "for col in df_chem.columns:\n",
        "    print(f\"{col}: {df_chem[col].nunique()} unique values\")\n"
      ],
      "metadata": {
        "colab": {
          "base_uri": "https://localhost:8080/"
        },
        "id": "Vqh7AbJcK0Vh",
        "outputId": "49cad2fb-b9c8-495a-bbfc-d7c3be53c85c"
      },
      "execution_count": 4,
      "outputs": [
        {
          "output_type": "stream",
          "name": "stdout",
          "text": [
            "Unique values in key columns (recipes_nodup):\n",
            "\n",
            "Recipe ID: 150 unique values\n",
            "Chemical Names: 149 unique values\n",
            "Formulas: 140 unique values\n",
            "Quantities (g/mL): 85 unique values\n",
            "CAS Numbers: 142 unique values\n",
            "Solvent Used: 4 unique values\n",
            "Reaction Conditions: 65 unique values\n",
            "Toxicity Level: 5 unique values\n",
            "Flammability (Yes/No): 2 unique values\n",
            "Reactivity (Stable/Unstable): 3 unique values\n",
            "Explosiveness (1-10): 10 unique values\n",
            "Health Risk Score (0-100): 18 unique values\n",
            "Environmental Hazard (Yes/No): 2 unique values\n",
            "Dual Use Potential (Yes/No): 2 unique values\n",
            "Intended Use: 106 unique values\n",
            "Export Restriction (Yes/No): 2 unique values\n",
            "Controlled Substance (Yes/No): 2 unique values\n",
            "Risk Assessment Score (0-100): 18 unique values\n",
            "Regulatory Body: 7 unique values\n",
            "Compliance Status (Compliant/Non-compliant): 2 unique values\n",
            "Risk Category: 4 unique values\n",
            "Risk Score (0-100): 16 unique values\n",
            "\n",
            "🛠 Unique values in key columns (chem):\n",
            "\n",
            "ID: 401 unique values\n",
            "Chemical name: 393 unique values\n",
            "molarcular  formula : 376 unique values\n",
            "CAS number: 400 unique values\n",
            "applications: 343 unique values\n",
            "UN number: 332 unique values\n",
            "synonyms: 388 unique values\n",
            "Toxicity level: 4 unique values\n"
          ]
        }
      ]
    },
    {
      "cell_type": "markdown",
      "source": [
        "**Preprocessing recipes_nodup.csv**"
      ],
      "metadata": {
        "id": "IXoian5rMyUC"
      }
    },
    {
      "cell_type": "code",
      "source": [
        "# Fill missing values with \"Unknown\"\n",
        "df_recipes[\"Solvent Used\"].fillna(\"Unknown\", inplace=True)\n"
      ],
      "metadata": {
        "colab": {
          "base_uri": "https://localhost:8080/"
        },
        "id": "f_itn-VWM0fR",
        "outputId": "6556c829-5789-48d7-bb27-4fc413d0fa5c"
      },
      "execution_count": 5,
      "outputs": [
        {
          "output_type": "stream",
          "name": "stderr",
          "text": [
            "<ipython-input-5-d9d1a59aa268>:2: FutureWarning: A value is trying to be set on a copy of a DataFrame or Series through chained assignment using an inplace method.\n",
            "The behavior will change in pandas 3.0. This inplace method will never work because the intermediate object on which we are setting values always behaves as a copy.\n",
            "\n",
            "For example, when doing 'df[col].method(value, inplace=True)', try using 'df.method({col: value}, inplace=True)' or df[col] = df[col].method(value) instead, to perform the operation inplace on the original object.\n",
            "\n",
            "\n",
            "  df_recipes[\"Solvent Used\"].fillna(\"Unknown\", inplace=True)\n"
          ]
        }
      ]
    },
    {
      "cell_type": "code",
      "source": [
        "import pandas as pd\n",
        "import numpy as np\n",
        "import re\n",
        "from sklearn.preprocessing import MinMaxScaler\n",
        "from sklearn.model_selection import train_test_split\n",
        "\n",
        "# ✅ Load Dataset\n",
        "recipes_df = df_recipes\n",
        "\n",
        "# ✅ Step 1: Combine Chemical Names and Quantities\n",
        "def combine_chemicals(row):\n",
        "    chemicals = row['Chemical Names'].split(' + ')\n",
        "    quantities = row['Quantities (g/mL)'].split(' + ')\n",
        "    combined = [f\"{chem.strip()}:{re.sub(r'[^0-9.]+', '', qty)}\" for chem, qty in zip(chemicals, quantities)]\n",
        "    return ' + '.join(combined)\n",
        "\n",
        "recipes_df['Combined Recipe'] = recipes_df.apply(combine_chemicals, axis=1)\n",
        "\n",
        "# ✅ Step 2: Define Features and Targets\n",
        "X = recipes_df[['Combined Recipe']]\n",
        "y = recipes_df[[\n",
        "    \"Flammability (Yes/No)\", \"Reactivity (Stable/Unstable)\",\n",
        "    \"Explosiveness (1-10)\", \"Health Risk Score (0-100)\",\n",
        "    \"Risk Score (0-100)\", \"Risk Category\"\n",
        "]]\n",
        "\n",
        "# ✅ Step 3: Encode Categorical Targets (Yes/No, Stable/Unstable)\n",
        "binary_cols = [\"Flammability (Yes/No)\", \"Reactivity (Stable/Unstable)\"]\n",
        "for col in binary_cols:\n",
        "    y.loc[:, col] = y[col].apply(lambda x: 1 if x in [\"Yes\", \"Stable\"] else 0)\n",
        "\n",
        "# ✅ Step 4: Normalize Numerical Targets Safely\n",
        "num_cols = [\"Explosiveness (1-10)\", \"Health Risk Score (0-100)\", \"Risk Score (0-100)\"]\n",
        "scaler = MinMaxScaler()\n",
        "y.loc[:, num_cols] = scaler.fit_transform(y[num_cols])\n",
        "\n",
        "# ✅ Step 5: Encode Risk Category (Low/Mid/High)\n",
        "y.loc[:, 'Risk Category'] = y['Risk Category'].map({'Low': 0, 'Mid': 1, 'High': 2})\n",
        "\n",
        "# ✅ Step 6: Split the Dataset\n",
        "X_train, X_test, y_train, y_test = train_test_split(X, y, test_size=0.2, random_state=42)\n",
        "\n",
        "print(\"✅ Dataset Prepared for Multi-Output Training.\")\n"
      ],
      "metadata": {
        "id": "A0FPoXOm1EAQ",
        "colab": {
          "base_uri": "https://localhost:8080/"
        },
        "outputId": "15badc01-e282-4f2e-8f7f-e5c343c7404f"
      },
      "execution_count": 33,
      "outputs": [
        {
          "output_type": "stream",
          "name": "stdout",
          "text": [
            "✅ Dataset Prepared for Multi-Output Training.\n"
          ]
        },
        {
          "output_type": "stream",
          "name": "stderr",
          "text": [
            "<ipython-input-33-edb432b873c1>:35: FutureWarning: Setting an item of incompatible dtype is deprecated and will raise in a future error of pandas. Value '[0.5 1.  1.  0.3 0.6 0.9 0.8 0.5 1.  0.8 1.  0.8 0.9 0.7 0.4 0.9 1.  0.6\n",
            " 1.  0.7 1.  0.8 1.  0.8 0.9 0.5 0.9 0.6 0.9 0.5 0.5 0.8 0.7 1.  0.9 0.8\n",
            " 0.9 0.9 1.  0.7 1.  0.9 0.8 0.7 1.  0.5 0.9 0.7 0.4 0.8 1.  1.  1.  1.\n",
            " 0.9 0.9 0.5 1.  1.  1.  0.7 0.8 0.9 1.  0.9 1.  0.7 1.  1.  0.9 0.8 0.7\n",
            " 1.  0.8 0.8 0.9 0.8 0.9 0.4 0.9 1.  1.  0.8 0.9 1.  1.  0.  0.  0.4 0.\n",
            " 0.  0.  0.  0.  0.  0.  0.  0.3 0.  0.4 0.9 0.5 0.4 0.9 0.  0.  0.  0.\n",
            " 0.2 0.3 0.5 0.7 0.7 0.9 0.  0.  0.  0.3 0.4 0.5 0.7 0.9 0.  0.  0.  0.\n",
            " 0.3 0.5 0.7 0.8 0.  0.  0.  0.3 0.4 0.7 0.5 0.7 0.5 0.9 0.5 0.4 0.7 0.8\n",
            " 1.  0.  0.  0.  0.  0.5]' has dtype incompatible with int64, please explicitly cast to a compatible dtype first.\n",
            "  y.loc[:, num_cols] = scaler.fit_transform(y[num_cols])\n",
            "<ipython-input-33-edb432b873c1>:35: FutureWarning: Setting an item of incompatible dtype is deprecated and will raise in a future error of pandas. Value '[0.84210526 0.89473684 0.94736842 0.73684211 0.57894737 0.89473684\n",
            " 0.84210526 0.73684211 0.94736842 0.84210526 0.94736842 0.84210526\n",
            " 0.94736842 0.84210526 0.57894737 0.89473684 0.97894737 0.57894737\n",
            " 0.98947368 0.94736842 0.97894737 0.84210526 0.94736842 0.84210526\n",
            " 0.94736842 0.84210526 0.87368421 0.94736842 0.89473684 0.73684211\n",
            " 0.73684211 0.84210526 0.94736842 0.98947368 0.94736842 0.87368421\n",
            " 0.89473684 0.91578947 0.97894737 0.84210526 0.97894737 0.94736842\n",
            " 0.89473684 0.94736842 0.98947368 0.84210526 0.93684211 0.84210526\n",
            " 0.78947368 0.84210526 0.94736842 0.98947368 0.98947368 0.98947368\n",
            " 0.89473684 0.94736842 0.73684211 0.94736842 0.98947368 0.98947368\n",
            " 0.84210526 0.89473684 0.92631579 0.98947368 0.89473684 0.97894737\n",
            " 0.84210526 1.         0.98947368 0.96842105 0.91578947 0.84210526\n",
            " 1.         0.92631579 0.91578947 0.94736842 0.89473684 0.87368421\n",
            " 0.57894737 0.89473684 0.98947368 0.98947368 0.89473684 0.96842105\n",
            " 0.98947368 0.98947368 0.         0.         0.68421053 0.\n",
            " 0.         0.         0.         0.         0.         0.\n",
            " 0.         0.57894737 0.         0.63157895 0.94736842 0.73684211\n",
            " 0.63157895 0.92631579 0.         0.         0.         0.\n",
            " 0.47368421 0.57894737 0.73684211 0.89473684 0.84210526 0.96842105\n",
            " 0.         0.         0.         0.47368421 0.63157895 0.73684211\n",
            " 0.89473684 0.96842105 0.         0.         0.         0.\n",
            " 0.57894737 0.68421053 0.89473684 0.91578947 0.         0.\n",
            " 0.         0.57894737 0.63157895 0.89473684 0.68421053 0.84210526\n",
            " 0.73684211 0.96842105 0.73684211 0.63157895 0.89473684 0.89473684\n",
            " 1.         0.         0.         0.         0.         0.73684211]' has dtype incompatible with int64, please explicitly cast to a compatible dtype first.\n",
            "  y.loc[:, num_cols] = scaler.fit_transform(y[num_cols])\n",
            "<ipython-input-33-edb432b873c1>:35: FutureWarning: Setting an item of incompatible dtype is deprecated and will raise in a future error of pandas. Value '[0.97777778 0.98888889 0.98888889 0.88888889 0.83333333 0.98888889\n",
            " 0.97777778 0.96666667 0.98888889 0.96666667 0.98888889 0.97777778\n",
            " 0.98888889 0.95555556 0.72222222 0.97777778 0.98888889 0.83333333\n",
            " 1.         0.98888889 1.         0.95555556 0.98888889 0.97777778\n",
            " 0.98888889 0.97777778 0.97777778 0.         0.98888889 0.96666667\n",
            " 0.95555556 0.97777778 0.98888889 1.         0.98888889 0.97777778\n",
            " 0.98888889 0.98888889 0.98888889 0.77777778 0.98888889 0.98888889\n",
            " 0.97777778 0.98888889 1.         0.97777778 0.98888889 0.95555556\n",
            " 0.97777778 0.97777778 0.98888889 1.         1.         1.\n",
            " 0.97777778 0.98888889 0.96666667 0.98888889 1.         1.\n",
            " 0.88888889 0.97777778 0.97777778 1.         0.97777778 0.98888889\n",
            " 0.88888889 1.         1.         0.98888889 0.97777778 0.95555556\n",
            " 1.         0.97777778 0.95555556 0.98888889 0.98888889 0.97777778\n",
            " 0.72222222 0.97777778 1.         1.         0.97777778 0.98888889\n",
            " 1.         1.         0.         0.         0.61111111 0.\n",
            " 0.         0.         0.         0.         0.         0.\n",
            " 0.         0.55555556 0.         0.61111111 0.98888889 0.72222222\n",
            " 0.61111111 0.97777778 0.         0.         0.         0.\n",
            " 0.5        0.61111111 0.72222222 0.88888889 0.88888889 0.98888889\n",
            " 0.         0.         0.         0.55555556 0.61111111 0.72222222\n",
            " 0.88888889 0.98888889 0.         0.         0.         0.\n",
            " 0.55555556 0.66666667 0.88888889 0.91111111 0.         0.\n",
            " 0.         0.55555556 0.61111111 0.88888889 0.66666667 0.95555556\n",
            " 0.72222222 0.98888889 0.72222222 0.61111111 0.88888889 0.94444444\n",
            " 1.         0.         0.         0.         0.         0.72222222]' has dtype incompatible with int64, please explicitly cast to a compatible dtype first.\n",
            "  y.loc[:, num_cols] = scaler.fit_transform(y[num_cols])\n"
          ]
        }
      ]
    },
    {
      "cell_type": "code",
      "source": [
        "# Check for missing values in y_train\n",
        "print(\"🔍 Missing Values in y_train:\")\n",
        "print(y_train.isnull().sum())\n"
      ],
      "metadata": {
        "id": "TcDyOfyzHWoc"
      },
      "execution_count": null,
      "outputs": []
    },
    {
      "cell_type": "code",
      "source": [
        "# Fill missing numerical values with median and categorical with mode\n",
        "y_train.fillna({\n",
        "    \"Explosiveness (1-10)\": y_train[\"Explosiveness (1-10)\"].median(),\n",
        "    \"Health Risk Score (0-100)\": y_train[\"Health Risk Score (0-100)\"].median(),\n",
        "    \"Risk Score (0-100)\": y_train[\"Risk Score (0-100)\"].median(),\n",
        "    \"Flammability (Yes/No)\": y_train[\"Flammability (Yes/No)\"].mode()[0],\n",
        "    \"Reactivity (Stable/Unstable)\": y_train[\"Reactivity (Stable/Unstable)\"].mode()[0],\n",
        "    \"Risk Category\": y_train[\"Risk Category\"].mode()[0]\n",
        "}, inplace=True)\n"
      ],
      "metadata": {
        "id": "1INWZov9HWmK"
      },
      "execution_count": null,
      "outputs": []
    },
    {
      "cell_type": "code",
      "source": [
        "# Split classification and regression targets\n",
        "classification_targets = [\"Flammability (Yes/No)\", \"Reactivity (Stable/Unstable)\", \"Risk Category\"]\n",
        "regression_targets = [\"Explosiveness (1-10)\", \"Health Risk Score (0-100)\", \"Risk Score (0-100)\"]\n",
        "\n",
        "y_train_class = y_train[classification_targets]\n",
        "y_train_reg = y_train[regression_targets]\n"
      ],
      "metadata": {
        "id": "EeFiSZw4HWLC"
      },
      "execution_count": null,
      "outputs": []
    },
    {
      "cell_type": "code",
      "source": [
        "from sklearn.feature_extraction.text import TfidfVectorizer\n",
        "\n",
        "# Initialize and fit the vectorizer\n",
        "vectorizer = TfidfVectorizer(max_features=100)\n",
        "X_train_recipe_tfidf = vectorizer.fit_transform(X_train[\"Combined Recipe\"]).toarray()\n",
        "\n",
        "# Convert to DataFrame and reset the index\n",
        "X_train_recipe_tfidf = pd.DataFrame(X_train_recipe_tfidf, columns=vectorizer.get_feature_names_out())\n",
        "X_train_recipe_tfidf.reset_index(drop=True, inplace=True)\n",
        "\n",
        "# Drop the original text column and combine with the TF-IDF features\n",
        "X_train_processed = pd.concat([X_train.drop(columns=[\"Combined Recipe\"]).reset_index(drop=True), X_train_recipe_tfidf], axis=1)\n",
        "\n",
        "print(\"✅ TF-IDF Vectorization Done!\")\n"
      ],
      "metadata": {
        "id": "g__7FFc5HeAL"
      },
      "execution_count": null,
      "outputs": []
    },
    {
      "cell_type": "code",
      "source": [
        "from sklearn.multioutput import MultiOutputClassifier\n",
        "from sklearn.ensemble import RandomForestClassifier\n",
        "import joblib\n",
        "\n",
        "# Train classification model\n",
        "classifier = MultiOutputClassifier(RandomForestClassifier(random_state=42))\n",
        "classifier.fit(X_train_processed, y_train_class)\n",
        "\n",
        "# Save the classifier model\n",
        "joblib.dump(classifier, 'multi_output_classifier_model.pkl')\n",
        "print(\"✅ Classification Model Trained and Saved!\")\n"
      ],
      "metadata": {
        "id": "TD20AjVWHhGa"
      },
      "execution_count": null,
      "outputs": []
    },
    {
      "cell_type": "code",
      "source": [
        "from sklearn.feature_extraction.text import TfidfVectorizer\n",
        "\n",
        "# Initialize and fit the vectorizer\n",
        "vectorizer = TfidfVectorizer(max_features=100)\n",
        "X_train_recipe_tfidf = vectorizer.fit_transform(X_train[\"Combined Recipe\"]).toarray()\n",
        "\n",
        "# Convert TF-IDF results to DataFrame\n",
        "X_train_recipe_tfidf = pd.DataFrame(X_train_recipe_tfidf, columns=vectorizer.get_feature_names_out())\n",
        "X_train_recipe_tfidf.reset_index(drop=True, inplace=True)\n",
        "\n",
        "# Combine TF-IDF with other numerical features\n",
        "X_train_final = pd.concat([X_train.drop(columns=[\"Combined Recipe\"]).reset_index(drop=True), X_train_recipe_tfidf], axis=1)\n",
        "\n",
        "print(\"✅ TF-IDF Vectorization Done for Regression!\")\n"
      ],
      "metadata": {
        "id": "zqSebOLiHeyT"
      },
      "execution_count": null,
      "outputs": []
    },
    {
      "cell_type": "code",
      "source": [
        "from sklearn.multioutput import MultiOutputRegressor\n",
        "from sklearn.ensemble import RandomForestRegressor\n",
        "import joblib\n",
        "\n",
        "# Initialize and train the regression model\n",
        "regressor = MultiOutputRegressor(RandomForestRegressor(random_state=42))\n",
        "regressor.fit(X_train_final, y_train_reg)\n",
        "\n",
        "# Save the trained model\n",
        "joblib.dump(regressor, 'multi_output_regressor_model.pkl')\n",
        "print(\"✅ Regression Model Trained and Saved!\")\n"
      ],
      "metadata": {
        "id": "Al59PQK1Heqz"
      },
      "execution_count": null,
      "outputs": []
    },
    {
      "cell_type": "code",
      "source": [
        "import joblib\n",
        "\n",
        "# Save the trained vectorizer\n",
        "joblib.dump(vectorizer, 'tfidf_vectorizer.pkl')\n",
        "print(\"✅ TF-IDF Vectorizer Saved!\")\n"
      ],
      "metadata": {
        "id": "-UXiinvGHsU_"
      },
      "execution_count": null,
      "outputs": []
    },
    {
      "cell_type": "code",
      "source": [
        "def preprocess_new_recipe(new_recipe_raw):\n",
        "    import re\n",
        "\n",
        "    # Combine chemicals with quantities into the same format\n",
        "    def combine_chemicals(chemicals, quantities):\n",
        "        combined = [f\"{chem.strip()}:{re.sub(r'[^0-9.]+', '', qty)}\"\n",
        "                    for chem, qty in zip(chemicals.split(\"+\"), quantities.split(\"+\"))]\n",
        "        return \" + \".join(combined)\n",
        "\n",
        "    # Apply combination\n",
        "    new_recipe_raw[\"Combined Recipe\"] = new_recipe_raw.apply(\n",
        "        lambda row: combine_chemicals(row[\"Chemical Names\"], row[\"Quantities (g/mL)\"]), axis=1\n",
        "    )\n",
        "\n",
        "    return new_recipe_raw\n",
        "\n",
        "# Example new input\n",
        "new_recipe_raw = pd.DataFrame({\n",
        "    \"Chemical Names\": [\"Copper Sulfate + Iron Nail\"],\n",
        "    \"Quantities (g/mL)\": [\"300000000000 + 1000000000000\"]\n",
        "})\n",
        "\n",
        "# Preprocess the input\n",
        "new_recipe_processed = preprocess_new_recipe(new_recipe_raw)\n",
        "print(\"✅ New Recipe Preprocessed!\")\n"
      ],
      "metadata": {
        "id": "M0izhufjHsSc"
      },
      "execution_count": null,
      "outputs": []
    },
    {
      "cell_type": "code",
      "source": [
        "# Load the saved vectorizer and model\n",
        "vectorizer = joblib.load('tfidf_vectorizer.pkl')\n",
        "regressor = joblib.load('multi_output_regressor_model.pkl')\n",
        "\n",
        "# Vectorize the new recipe\n",
        "new_recipe_tfidf = vectorizer.transform(new_recipe_processed[\"Combined Recipe\"]).toarray()\n",
        "new_recipe_tfidf = pd.DataFrame(new_recipe_tfidf, columns=vectorizer.get_feature_names_out())\n",
        "\n",
        "# If there are additional numerical features, add them here\n",
        "# (In this case, we only have TF-IDF features)\n",
        "X_new = new_recipe_tfidf\n",
        "\n",
        "print(\"✅ New Recipe Vectorized and Ready for Prediction!\")\n"
      ],
      "metadata": {
        "id": "f8-6TTxCHsP6"
      },
      "execution_count": null,
      "outputs": []
    },
    {
      "cell_type": "code",
      "source": [
        "# Perform the prediction\n",
        "predictions = regressor.predict(X_new)\n",
        "\n",
        "# Format and display the results\n",
        "predicted_df = pd.DataFrame(predictions, columns=[\n",
        "    \"Explosiveness (1-10)\", \"Health Risk Score (0-100)\", \"Risk Score (0-100)\"\n",
        "])\n",
        "\n",
        "print(\"\\n🔍 Predicted Detailed Risk Analysis:\")\n",
        "print(predicted_df)\n"
      ],
      "metadata": {
        "id": "zQzrf7SdHvGV"
      },
      "execution_count": null,
      "outputs": []
    },
    {
      "cell_type": "code",
      "source": [
        "def classify_risk(score):\n",
        "    if score < 30:\n",
        "        return \"Low\"\n",
        "    elif 30 <= score < 70:\n",
        "        return \"Medium\"\n",
        "    else:\n",
        "        return \"High\"\n",
        "\n",
        "predicted_df[\"Risk Category\"] = predicted_df[\"Risk Score (0-100)\"].apply(classify_risk)\n",
        "print(\"\\n🔍 Final Prediction with Risk Category:\")\n",
        "print(predicted_df)\n"
      ],
      "metadata": {
        "id": "GBmlO529HvEO"
      },
      "execution_count": null,
      "outputs": []
    },
    {
      "cell_type": "code",
      "source": [],
      "metadata": {
        "id": "lnScRO0vHvCD"
      },
      "execution_count": null,
      "outputs": []
    },
    {
      "cell_type": "markdown",
      "source": [
        "Encode Categorical Features"
      ],
      "metadata": {
        "id": "uW_2fMnINDcp"
      }
    },
    {
      "cell_type": "code",
      "source": [
        "from sklearn.preprocessing import LabelEncoder\n",
        "\n",
        "binary_cols = [\n",
        "    \"Flammability (Yes/No)\", \"Reactivity (Stable/Unstable)\",\n",
        "    \"Environmental Hazard (Yes/No)\", \"Dual Use Potential (Yes/No)\",\n",
        "    \"Export Restriction (Yes/No)\", \"Controlled Substance (Yes/No)\",\n",
        "    \"Compliance Status (Compliant/Non-compliant)\"\n",
        "]\n",
        "\n",
        "# Convert Yes/No to 0/1\n",
        "for col in binary_cols:\n",
        "    df_recipes[col] = df_recipes[col].apply(lambda x: 1 if x in [\"Yes\", \"Compliant\", \"Stable\"] else 0)\n",
        "\n",
        "# Encode Risk Category\n",
        "df_recipes[\"Risk Category Encoded\"] = LabelEncoder().fit_transform(df_recipes[\"Risk Category\"])\n"
      ],
      "metadata": {
        "id": "IBRv4iCiNCRT"
      },
      "execution_count": 7,
      "outputs": []
    },
    {
      "cell_type": "markdown",
      "source": [
        "Normalize Numerical Features"
      ],
      "metadata": {
        "id": "161lBd1GNPGR"
      }
    },
    {
      "cell_type": "code",
      "source": [
        "from sklearn.preprocessing import MinMaxScaler\n",
        "\n",
        "scaler = MinMaxScaler()\n",
        "# Remove \"Total Quantity (g/mL)\" from num_cols as it is no longer present in df_recipes\n",
        "num_cols = [\"Risk Score (0-100)\", \"Health Risk Score (0-100)\", \"Risk Assessment Score (0-100)\"]\n",
        "\n",
        "df_recipes[num_cols] = scaler.fit_transform(df_recipes[num_cols])\n",
        "\n",
        "\n",
        "# Save processed data\n",
        "df_recipes.to_csv(\"/content/processed_recipes.csv\", index=False)\n",
        "print(\"✅ Successfully converted recipes into structured format!\")"
      ],
      "metadata": {
        "id": "pI1nG4GiNSWx",
        "colab": {
          "base_uri": "https://localhost:8080/"
        },
        "outputId": "89a3d0dd-007e-43b2-948e-8bf44f98ca16"
      },
      "execution_count": 8,
      "outputs": [
        {
          "output_type": "stream",
          "name": "stdout",
          "text": [
            "✅ Successfully converted recipes into structured format!\n"
          ]
        }
      ]
    },
    {
      "cell_type": "markdown",
      "source": [
        "**Preprocessing chem.csv**"
      ],
      "metadata": {
        "id": "m6W3F3tUNvkR"
      }
    },
    {
      "cell_type": "code",
      "source": [
        "# Fill missing values in chem.csv\n",
        "df_chem[\"CAS number\"].fillna(\"Unknown\", inplace=True)\n",
        "df_chem[\"UN number\"].fillna(\"Unknown\", inplace=True)\n",
        "df_chem[\"synonyms\"].fillna(\"Unknown\", inplace=True)\n",
        "\n",
        "# Standardize column names\n",
        "df_chem.columns = df_chem.columns.str.strip().str.lower().str.replace(\" \", \"_\")\n",
        "\n",
        "# Save preprocessed chem.csv\n",
        "df_chem.to_csv(\"/content/preprocessed_chem.csv\", index=False)\n",
        "print(\"Preprocessed chem.csv saved!\")\n"
      ],
      "metadata": {
        "id": "fnn0olrMNzyZ",
        "colab": {
          "base_uri": "https://localhost:8080/"
        },
        "outputId": "8d7c8087-b86c-4b2d-e769-a7bf9d2fa248"
      },
      "execution_count": 9,
      "outputs": [
        {
          "output_type": "stream",
          "name": "stdout",
          "text": [
            "Preprocessed chem.csv saved!\n"
          ]
        },
        {
          "output_type": "stream",
          "name": "stderr",
          "text": [
            "<ipython-input-9-e602f27998e5>:2: FutureWarning: A value is trying to be set on a copy of a DataFrame or Series through chained assignment using an inplace method.\n",
            "The behavior will change in pandas 3.0. This inplace method will never work because the intermediate object on which we are setting values always behaves as a copy.\n",
            "\n",
            "For example, when doing 'df[col].method(value, inplace=True)', try using 'df.method({col: value}, inplace=True)' or df[col] = df[col].method(value) instead, to perform the operation inplace on the original object.\n",
            "\n",
            "\n",
            "  df_chem[\"CAS number\"].fillna(\"Unknown\", inplace=True)\n",
            "<ipython-input-9-e602f27998e5>:3: FutureWarning: A value is trying to be set on a copy of a DataFrame or Series through chained assignment using an inplace method.\n",
            "The behavior will change in pandas 3.0. This inplace method will never work because the intermediate object on which we are setting values always behaves as a copy.\n",
            "\n",
            "For example, when doing 'df[col].method(value, inplace=True)', try using 'df.method({col: value}, inplace=True)' or df[col] = df[col].method(value) instead, to perform the operation inplace on the original object.\n",
            "\n",
            "\n",
            "  df_chem[\"UN number\"].fillna(\"Unknown\", inplace=True)\n",
            "<ipython-input-9-e602f27998e5>:3: FutureWarning: Setting an item of incompatible dtype is deprecated and will raise an error in a future version of pandas. Value 'Unknown' has dtype incompatible with float64, please explicitly cast to a compatible dtype first.\n",
            "  df_chem[\"UN number\"].fillna(\"Unknown\", inplace=True)\n",
            "<ipython-input-9-e602f27998e5>:4: FutureWarning: A value is trying to be set on a copy of a DataFrame or Series through chained assignment using an inplace method.\n",
            "The behavior will change in pandas 3.0. This inplace method will never work because the intermediate object on which we are setting values always behaves as a copy.\n",
            "\n",
            "For example, when doing 'df[col].method(value, inplace=True)', try using 'df.method({col: value}, inplace=True)' or df[col] = df[col].method(value) instead, to perform the operation inplace on the original object.\n",
            "\n",
            "\n",
            "  df_chem[\"synonyms\"].fillna(\"Unknown\", inplace=True)\n"
          ]
        }
      ]
    },
    {
      "cell_type": "markdown",
      "source": [
        "***Convert Recipes into Features***"
      ],
      "metadata": {
        "id": "bsidkfW25SRy"
      }
    },
    {
      "cell_type": "code",
      "source": [
        "from sklearn.feature_extraction.text import TfidfVectorizer\n",
        "\n",
        "# Convert \"Combined Recipe\" into TF-IDF vectors\n",
        "vectorizer = TfidfVectorizer(max_features=500)  # Keep top 500 most important features\n",
        "X_tfidf = vectorizer.fit_transform(df_recipes[\"Combined Recipe\"]).toarray()\n",
        "\n",
        "# Convert TF-IDF output to DataFrame and merge with other numerical features\n",
        "X_tfidf_df = pd.DataFrame(X_tfidf, columns=vectorizer.get_feature_names_out())\n",
        "\n",
        "# Drop \"Combined Recipe\" and merge TF-IDF features\n",
        "df_final = pd.concat([df_recipes.drop(columns=[\"Combined Recipe\"]), X_tfidf_df], axis=1)\n",
        "\n",
        "print(\"✅ TF-IDF transformation complete!\")\n"
      ],
      "metadata": {
        "colab": {
          "base_uri": "https://localhost:8080/"
        },
        "id": "rvjZUIHy6rFV",
        "outputId": "333e80f6-acf9-4a8d-c1d8-63b8e3f38b92"
      },
      "execution_count": 10,
      "outputs": [
        {
          "output_type": "stream",
          "name": "stdout",
          "text": [
            "✅ TF-IDF transformation complete!\n"
          ]
        }
      ]
    },
    {
      "cell_type": "code",
      "source": [
        "from sklearn.preprocessing import LabelEncoder\n",
        "import joblib\n",
        "\n",
        "# Define Label Encoder\n",
        "label_encoder = LabelEncoder()\n",
        "\n",
        "# Fit on the target variable (Risk Category)\n",
        "df_recipes[\"Risk Category Encoded\"] = label_encoder.fit_transform(df_recipes[\"Risk Category\"])\n",
        "\n",
        "# Save the trained LabelEncoder\n",
        "joblib.dump(label_encoder, \"risk_category_encoder.pkl\")\n",
        "\n",
        "print(\"✅ Label Encoder saved successfully!\")\n"
      ],
      "metadata": {
        "colab": {
          "base_uri": "https://localhost:8080/"
        },
        "id": "2vZiFz1IWIaV",
        "outputId": "71894719-3cd2-4d9b-957a-d98a40f8fb98"
      },
      "execution_count": 11,
      "outputs": [
        {
          "output_type": "stream",
          "name": "stdout",
          "text": [
            "✅ Label Encoder saved successfully!\n"
          ]
        }
      ]
    },
    {
      "cell_type": "markdown",
      "source": [
        "**Train ML Models**"
      ],
      "metadata": {
        "id": "_TIRdQzI5i9u"
      }
    },
    {
      "cell_type": "code",
      "source": [
        "import joblib\n",
        "\n",
        "joblib.dump(vectorizer, \"tfidf_vectorizer.pkl\")\n",
        "joblib.dump(scaler, \"minmax_scaler.pkl\")\n",
        "joblib.dump(label_encoder, \"risk_category_encoder.pkl\")\n",
        "\n",
        "print(\"✅ Preprocessing models saved!\")\n"
      ],
      "metadata": {
        "colab": {
          "base_uri": "https://localhost:8080/"
        },
        "id": "4M0FGzjsWO7H",
        "outputId": "7d2010e5-ffca-42d3-ce09-4c9fce9365ab"
      },
      "execution_count": 12,
      "outputs": [
        {
          "output_type": "stream",
          "name": "stdout",
          "text": [
            "✅ Preprocessing models saved!\n"
          ]
        }
      ]
    },
    {
      "cell_type": "code",
      "source": [
        "import re\n",
        "import pandas as pd\n",
        "import joblib\n",
        "from sklearn.preprocessing import MinMaxScaler, LabelEncoder\n",
        "from sklearn.feature_extraction.text import TfidfVectorizer\n",
        "\n",
        "# Load the trained vectorizer, scaler, and label encoders\n",
        "vectorizer = joblib.load(\"tfidf_vectorizer.pkl\")\n",
        "scaler = joblib.load(\"minmax_scaler.pkl\")\n",
        "label_encoder = joblib.load(\"risk_category_encoder.pkl\")\n",
        "\n",
        "def preprocess_new_input(df):\n",
        "    df = df.copy()\n",
        "\n",
        "    # Convert \"Combined Recipe\" into structured format\n",
        "    if \"Combined Recipe\" in df.columns:\n",
        "        def combine_chemicals(row):\n",
        "            chemicals = row.split(\" + \")\n",
        "            combined = [f\"{chem.split(':')[0]}:{re.sub(r'[^0-9.]', '', chem.split(':')[1])}\" for chem in chemicals]\n",
        "            return \" + \".join(combined)\n",
        "\n",
        "        df[\"Combined Recipe\"] = df[\"Combined Recipe\"].apply(combine_chemicals)\n",
        "\n",
        "    # Convert categorical Yes/No features to 0/1\n",
        "    binary_cols = [\n",
        "        \"Flammability (Yes/No)\", \"Reactivity (Stable/Unstable)\",\n",
        "        \"Environmental Hazard (Yes/No)\", \"Dual Use Potential (Yes/No)\",\n",
        "        \"Export Restriction (Yes/No)\", \"Controlled Substance (Yes/No)\",\n",
        "        \"Compliance Status (Compliant/Non-compliant)\"\n",
        "    ]\n",
        "    for col in binary_cols:\n",
        "        if col in df.columns:\n",
        "            df[col] = df[col].apply(lambda x: 1 if x in [\"Yes\", \"Compliant\", \"Stable\"] else 0)\n",
        "\n",
        "    # Scale numerical columns\n",
        "    num_cols = [\"Risk Score (0-100)\", \"Health Risk Score (0-100)\", \"Risk Assessment Score (0-100)\"]\n",
        "    if set(num_cols).issubset(df.columns):\n",
        "        df[num_cols] = scaler.transform(df[num_cols])  # Apply trained scaler\n",
        "\n",
        "    # Transform text using trained TF-IDF vectorizer\n",
        "    '''if \"Combined Recipe\" in df.columns:\n",
        "        tfidf_features = vectorizer.transform(df[\"Combined Recipe\"]).toarray()\n",
        "        tfidf_df = pd.DataFrame(tfidf_features, columns=vectorizer.get_feature_names_out())\n",
        "        df = pd.concat([df.drop(columns=[\"Combined Recipe\"], errors=\"ignore\"), tfidf_df], axis=1)\n",
        "\n",
        "    return df'''\n"
      ],
      "metadata": {
        "id": "iqxH5YzzVm0N"
      },
      "execution_count": 13,
      "outputs": []
    },
    {
      "cell_type": "code",
      "source": [
        "from sklearn.model_selection import train_test_split\n",
        "\n",
        "# Define features (X) and target variable (y)\n",
        "X = df_final.drop(columns=[\"Risk Category\", \"Risk Category Encoded\"])  # Features\n",
        "y = df_final[\"Risk Category Encoded\"]  # Target\n",
        "\n",
        "# Split into training (80%) and testing (20%) sets\n",
        "X_train, X_test, y_train, y_test = train_test_split(X, y, test_size=0.2, random_state=42, stratify=y)\n",
        "\n",
        "print(\"✅ Data split complete! Ready for training.\")\n"
      ],
      "metadata": {
        "colab": {
          "base_uri": "https://localhost:8080/"
        },
        "id": "iJplhCOF5ox_",
        "outputId": "7a9bc4c0-e8a5-44b3-a413-8421f04475af"
      },
      "execution_count": 14,
      "outputs": [
        {
          "output_type": "stream",
          "name": "stdout",
          "text": [
            "✅ Data split complete! Ready for training.\n"
          ]
        }
      ]
    },
    {
      "cell_type": "code",
      "source": [
        "from sklearn.feature_extraction.text import TfidfVectorizer\n",
        "\n",
        "vectorizer = TfidfVectorizer(max_features=100)\n",
        "\n",
        "# Transform text columns\n",
        "X_train_tfidf = vectorizer.fit_transform(X_train[\"Formulas\"].fillna(\"\")).toarray()\n",
        "X_test_tfidf = vectorizer.transform(X_test[\"Formulas\"].fillna(\"\")).toarray()\n",
        "\n",
        "# Convert to DataFrame and merge\n",
        "X_train_tfidf_df = pd.DataFrame(X_train_tfidf, columns=vectorizer.get_feature_names_out())\n",
        "X_test_tfidf_df = pd.DataFrame(X_test_tfidf, columns=vectorizer.get_feature_names_out())\n",
        "\n",
        "X_train = pd.concat([X_train.drop(columns=[\"Formulas\"]), X_train_tfidf_df], axis=1)\n",
        "X_test = pd.concat([X_test.drop(columns=[\"Formulas\"]), X_test_tfidf_df], axis=1)\n",
        "\n",
        "print(\"✅ TF-IDF applied to text columns!\")\n"
      ],
      "metadata": {
        "colab": {
          "base_uri": "https://localhost:8080/"
        },
        "id": "7810z9h59Zrk",
        "outputId": "b56d90b1-80ba-4b12-840c-579f8dc210be"
      },
      "execution_count": 15,
      "outputs": [
        {
          "output_type": "stream",
          "name": "stdout",
          "text": [
            "✅ TF-IDF applied to text columns!\n"
          ]
        }
      ]
    },
    {
      "cell_type": "code",
      "source": [
        "X_train = X_train.drop(columns=[\"Formulas\", \"CAS Numbers\"], errors=\"ignore\")\n",
        "X_test = X_test.drop(columns=[\"Formulas\", \"CAS Numbers\"], errors=\"ignore\")\n",
        "\n",
        "print(\"✅ Dropped Formulas & CAS Numbers (Not needed for model training).\")\n"
      ],
      "metadata": {
        "colab": {
          "base_uri": "https://localhost:8080/"
        },
        "id": "Z7MWSpgd9P7g",
        "outputId": "e280184c-59c3-4270-ddd4-1b8a8da697f6"
      },
      "execution_count": 16,
      "outputs": [
        {
          "output_type": "stream",
          "name": "stdout",
          "text": [
            "✅ Dropped Formulas & CAS Numbers (Not needed for model training).\n"
          ]
        }
      ]
    },
    {
      "cell_type": "code",
      "source": [
        "# Combine features and target into one DataFrame if not done already\n",
        "X = df_final.drop(columns=[\"Risk Category\", \"Risk Category Encoded\"])\n",
        "y = df_final[\"Risk Category Encoded\"]\n",
        "\n",
        "print(\"Before split - X shape:\", X.shape, \"y shape:\", y.shape)\n",
        "\n",
        "# Perform a stratified split to maintain class balance\n",
        "from sklearn.model_selection import train_test_split\n",
        "X_train, X_test, y_train, y_test = train_test_split(\n",
        "    X, y, test_size=0.2, random_state=42, stratify=y\n",
        ")\n",
        "\n",
        "print(\"After split - X_train shape:\", X_train.shape, \"y_train shape:\", y_train.shape)\n"
      ],
      "metadata": {
        "colab": {
          "base_uri": "https://localhost:8080/"
        },
        "id": "lezlj9QV1_rm",
        "outputId": "164615a1-d999-45f5-8e54-ea758db35e95"
      },
      "execution_count": 17,
      "outputs": [
        {
          "output_type": "stream",
          "name": "stdout",
          "text": [
            "Before split - X shape: (150, 171) y shape: (150,)\n",
            "After split - X_train shape: (120, 171) y_train shape: (120,)\n"
          ]
        }
      ]
    },
    {
      "cell_type": "code",
      "source": [
        "from sklearn.preprocessing import LabelEncoder\n",
        "\n",
        "# List of categorical columns\n",
        "cat_cols = [\"Solvent Used\", \"Reaction Conditions\", \"Toxicity Level\", \"Intended Use\", \"Regulatory Body\"]\n",
        "\n",
        "# Apply Label Encoding correctly\n",
        "for col in cat_cols:\n",
        "    encoder = LabelEncoder()\n",
        "\n",
        "    # Fit on both training & testing data\n",
        "    encoder.fit(pd.concat([X_train[col], X_test[col]], axis=0).astype(str))\n",
        "\n",
        "    # Transform both datasets\n",
        "    X_train[col] = encoder.transform(X_train[col].astype(str))\n",
        "    X_test[col] = encoder.transform(X_test[col].astype(str))\n",
        "\n",
        "print(\"✅ Successfully encoded categorical columns!\")\n",
        "\n"
      ],
      "metadata": {
        "colab": {
          "base_uri": "https://localhost:8080/"
        },
        "id": "IDi4MzRKw0Vg",
        "outputId": "e82eab9d-44e6-4a95-974a-c6ee81aa22aa"
      },
      "execution_count": 18,
      "outputs": [
        {
          "output_type": "stream",
          "name": "stdout",
          "text": [
            "✅ Successfully encoded categorical columns!\n"
          ]
        }
      ]
    },
    {
      "cell_type": "code",
      "source": [
        "print(\"🔍 Data Types in X_train:\\n\", X_train.dtypes[X_train.dtypes == \"object\"])\n"
      ],
      "metadata": {
        "colab": {
          "base_uri": "https://localhost:8080/"
        },
        "id": "r2GCCzh93Ld-",
        "outputId": "9c559097-d407-431c-f1a6-21cb2961f3b9"
      },
      "execution_count": 19,
      "outputs": [
        {
          "output_type": "stream",
          "name": "stdout",
          "text": [
            "🔍 Data Types in X_train:\n",
            " Formulas       object\n",
            "CAS Numbers    object\n",
            "dtype: object\n"
          ]
        }
      ]
    },
    {
      "cell_type": "code",
      "source": [
        "drop_cols = [\"Formulas\", \"CAS Numbers\"]  # Add any other text-based columns\n",
        "\n",
        "X_train = X_train.drop(columns=drop_cols, errors=\"ignore\")\n",
        "X_test = X_test.drop(columns=drop_cols, errors=\"ignore\")\n",
        "\n",
        "print(\"✅ Removed text columns from training data.\")\n"
      ],
      "metadata": {
        "colab": {
          "base_uri": "https://localhost:8080/"
        },
        "id": "jNhgGF8s3cxf",
        "outputId": "ce0014e8-68f4-4d8b-f6a5-bb4417f38833"
      },
      "execution_count": 20,
      "outputs": [
        {
          "output_type": "stream",
          "name": "stdout",
          "text": [
            "✅ Removed text columns from training data.\n"
          ]
        }
      ]
    },
    {
      "cell_type": "code",
      "source": [
        "X_train = X_train.astype(float)\n",
        "X_test = X_test.astype(float)\n",
        "\n",
        "print(\"✅ Confirmed all features are numeric!\")\n"
      ],
      "metadata": {
        "colab": {
          "base_uri": "https://localhost:8080/"
        },
        "id": "nAIkKENc40UI",
        "outputId": "2fce9db6-b689-4493-d1f8-71c6eb28e315"
      },
      "execution_count": 21,
      "outputs": [
        {
          "output_type": "stream",
          "name": "stdout",
          "text": [
            "✅ Confirmed all features are numeric!\n"
          ]
        }
      ]
    },
    {
      "cell_type": "code",
      "source": [
        "from imblearn.over_sampling import SMOTE\n",
        "\n",
        "# Adjust SMOTE settings\n",
        "smote = SMOTE(random_state=42, k_neighbors=1)  # Reduce k_neighbors\n",
        "X_train_balanced, y_train_balanced = smote.fit_resample(X_train, y_train)\n",
        "\n",
        "# Check new class distribution\n",
        "import numpy as np\n",
        "print(\"📊 Class distribution before SMOTE:\", dict(zip(*np.unique(y_train, return_counts=True))))\n",
        "print(\"📊 Class distribution after SMOTE:\", dict(zip(*np.unique(y_train_balanced, return_counts=True))))\n",
        "\n"
      ],
      "metadata": {
        "colab": {
          "base_uri": "https://localhost:8080/"
        },
        "id": "ACS-n7xpj2nn",
        "outputId": "ffe3c8b8-c79c-4723-8eff-61fa2c1ccbd9"
      },
      "execution_count": 22,
      "outputs": [
        {
          "output_type": "stream",
          "name": "stdout",
          "text": [
            "📊 Class distribution before SMOTE: {0: 65, 1: 13, 2: 23, 3: 19}\n",
            "📊 Class distribution after SMOTE: {0: 65, 1: 65, 2: 65, 3: 65}\n"
          ]
        }
      ]
    },
    {
      "cell_type": "code",
      "source": [
        "#RANDOM FORREST OPTIMIZED\n",
        "from sklearn.ensemble import RandomForestClassifier\n",
        "from sklearn.metrics import classification_report, accuracy_score\n",
        "\n",
        "# Train Random Forest model\n",
        "rf_model = RandomForestClassifier(n_estimators=100, random_state=42)\n",
        "\n",
        "\n",
        "\n",
        "from sklearn.model_selection import GridSearchCV\n",
        "\n",
        "# Define parameter grid\n",
        "param_grid = {\n",
        "    'n_estimators': [50, 100, 200],\n",
        "    'max_depth': [None, 10, 20],\n",
        "    'min_samples_split': [2, 5, 10]\n",
        "}\n",
        "\n",
        "# Grid search\n",
        "grid_search = GridSearchCV(RandomForestClassifier(random_state=42), param_grid, cv=5, scoring=\"accuracy\", n_jobs=-1)\n",
        "grid_search.fit(X_train_balanced, y_train_balanced)\n",
        "\n",
        "print(\"✅ Best Parameters:\", grid_search.best_params_)\n",
        "\n",
        "# Train optimized model\n",
        "best_rf = RandomForestClassifier(**grid_search.best_params_, random_state=42)\n",
        "best_rf.fit(X_train_balanced, y_train_balanced)\n",
        "\n",
        "# Make predictions\n",
        "y_pred_best_rf = best_rf.predict(X_test)\n",
        "\n",
        "# Evaluate performance\n",
        "print(\"📊 Optimized Random Forest Classification Report:\\n\", classification_report(y_test, y_pred_best_rf))\n",
        "print(\"✅ Optimized Random Forest Accuracy:\", accuracy_score(y_test, y_pred_best_rf))\n"
      ],
      "metadata": {
        "colab": {
          "base_uri": "https://localhost:8080/"
        },
        "id": "XEGrZLQklmow",
        "outputId": "5a11f7c1-e229-473f-e57e-c277c32f5a66"
      },
      "execution_count": 26,
      "outputs": [
        {
          "output_type": "stream",
          "name": "stdout",
          "text": [
            "✅ Best Parameters: {'max_depth': None, 'min_samples_split': 2, 'n_estimators': 200}\n",
            "📊 Optimized Random Forest Classification Report:\n",
            "               precision    recall  f1-score   support\n",
            "\n",
            "           0       1.00      1.00      1.00        16\n",
            "           1       0.75      1.00      0.86         3\n",
            "           2       1.00      1.00      1.00         6\n",
            "           3       1.00      0.80      0.89         5\n",
            "\n",
            "    accuracy                           0.97        30\n",
            "   macro avg       0.94      0.95      0.94        30\n",
            "weighted avg       0.97      0.97      0.97        30\n",
            "\n",
            "✅ Optimized Random Forest Accuracy: 0.9666666666666667\n"
          ]
        }
      ]
    },
    {
      "cell_type": "code",
      "source": [
        "from xgboost import XGBClassifier\n",
        "\n",
        "# Train XGBoost model\n",
        "xgb_model = XGBClassifier(use_label_encoder=False, eval_metric='mlogloss', scale_pos_weight=10, random_state=42)\n",
        "xgb_model.fit(X_train_balanced, y_train_balanced)\n",
        "\n",
        "# Make predictions\n",
        "y_pred_xgb = xgb_model.predict(X_test)\n",
        "\n",
        "# Evaluate performance\n",
        "from sklearn.metrics import classification_report, accuracy_score\n",
        "print(\"📊 XGBoost Classification Report:\\n\", classification_report(y_test, y_pred_xgb))\n",
        "print(\"✅ XGBoost Accuracy:\", accuracy_score(y_test, y_pred_xgb))\n"
      ],
      "metadata": {
        "colab": {
          "base_uri": "https://localhost:8080/"
        },
        "id": "jglR9iCemtAn",
        "outputId": "a34d3934-b7be-4fea-e9fa-42f0a48606fb"
      },
      "execution_count": 27,
      "outputs": [
        {
          "output_type": "stream",
          "name": "stdout",
          "text": [
            "📊 XGBoost Classification Report:\n",
            "               precision    recall  f1-score   support\n",
            "\n",
            "           0       1.00      0.94      0.97        16\n",
            "           1       0.75      1.00      0.86         3\n",
            "           2       1.00      1.00      1.00         6\n",
            "           3       0.80      0.80      0.80         5\n",
            "\n",
            "    accuracy                           0.93        30\n",
            "   macro avg       0.89      0.93      0.91        30\n",
            "weighted avg       0.94      0.93      0.94        30\n",
            "\n",
            "✅ XGBoost Accuracy: 0.9333333333333333\n"
          ]
        },
        {
          "output_type": "stream",
          "name": "stderr",
          "text": [
            "/usr/local/lib/python3.11/dist-packages/xgboost/core.py:158: UserWarning: [18:45:12] WARNING: /workspace/src/learner.cc:740: \n",
            "Parameters: { \"scale_pos_weight\", \"use_label_encoder\" } are not used.\n",
            "\n",
            "  warnings.warn(smsg, UserWarning)\n"
          ]
        }
      ]
    },
    {
      "cell_type": "code",
      "source": [
        "import joblib\n",
        "\n",
        "# Train and save model\n",
        "rf_model.fit(X_train_balanced, y_train_balanced)\n",
        "joblib.dump(rf_model, \"random_forest_risk_model.pkl\")\n",
        "\n",
        "xgb_model.fit(X_train_balanced, y_train_balanced)\n",
        "joblib.dump(xgb_model, \"xgboost_risk_model.pkl\")\n",
        "\n",
        "print(\"✅ Models saved successfully!\")\n",
        "\n"
      ],
      "metadata": {
        "colab": {
          "base_uri": "https://localhost:8080/"
        },
        "id": "SGSGdadQFE_r",
        "outputId": "951ef6ef-e437-458b-8ae9-75804af7dae5"
      },
      "execution_count": 28,
      "outputs": [
        {
          "output_type": "stream",
          "name": "stdout",
          "text": [
            "✅ Models saved successfully!\n"
          ]
        },
        {
          "output_type": "stream",
          "name": "stderr",
          "text": [
            "/usr/local/lib/python3.11/dist-packages/xgboost/core.py:158: UserWarning: [18:45:12] WARNING: /workspace/src/learner.cc:740: \n",
            "Parameters: { \"scale_pos_weight\", \"use_label_encoder\" } are not used.\n",
            "\n",
            "  warnings.warn(smsg, UserWarning)\n"
          ]
        }
      ]
    },
    {
      "cell_type": "code",
      "source": [
        "from sklearn.model_selection import cross_val_score\n",
        "\n",
        "cv_scores = cross_val_score(xgb_model, X_train_balanced, y_train_balanced, cv=5, scoring=\"accuracy\")\n",
        "\n",
        "print(\"📊 Cross-Validation Accuracy Scores:\", cv_scores)\n",
        "print(\"✅ Average Accuracy:\", cv_scores.mean())\n"
      ],
      "metadata": {
        "colab": {
          "base_uri": "https://localhost:8080/"
        },
        "id": "4iORXL3OFHp7",
        "outputId": "ef6ea3f4-16d6-46d2-9100-2e5618deb9ae"
      },
      "execution_count": 29,
      "outputs": [
        {
          "output_type": "stream",
          "name": "stderr",
          "text": [
            "/usr/local/lib/python3.11/dist-packages/xgboost/core.py:158: UserWarning: [18:45:12] WARNING: /workspace/src/learner.cc:740: \n",
            "Parameters: { \"scale_pos_weight\", \"use_label_encoder\" } are not used.\n",
            "\n",
            "  warnings.warn(smsg, UserWarning)\n",
            "/usr/local/lib/python3.11/dist-packages/xgboost/core.py:158: UserWarning: [18:45:13] WARNING: /workspace/src/learner.cc:740: \n",
            "Parameters: { \"scale_pos_weight\", \"use_label_encoder\" } are not used.\n",
            "\n",
            "  warnings.warn(smsg, UserWarning)\n",
            "/usr/local/lib/python3.11/dist-packages/xgboost/core.py:158: UserWarning: [18:45:13] WARNING: /workspace/src/learner.cc:740: \n",
            "Parameters: { \"scale_pos_weight\", \"use_label_encoder\" } are not used.\n",
            "\n",
            "  warnings.warn(smsg, UserWarning)\n",
            "/usr/local/lib/python3.11/dist-packages/xgboost/core.py:158: UserWarning: [18:45:13] WARNING: /workspace/src/learner.cc:740: \n",
            "Parameters: { \"scale_pos_weight\", \"use_label_encoder\" } are not used.\n",
            "\n",
            "  warnings.warn(smsg, UserWarning)\n"
          ]
        },
        {
          "output_type": "stream",
          "name": "stdout",
          "text": [
            "📊 Cross-Validation Accuracy Scores: [0.96153846 0.98076923 0.98076923 1.         0.96153846]\n",
            "✅ Average Accuracy: 0.9769230769230768\n"
          ]
        },
        {
          "output_type": "stream",
          "name": "stderr",
          "text": [
            "/usr/local/lib/python3.11/dist-packages/xgboost/core.py:158: UserWarning: [18:45:13] WARNING: /workspace/src/learner.cc:740: \n",
            "Parameters: { \"scale_pos_weight\", \"use_label_encoder\" } are not used.\n",
            "\n",
            "  warnings.warn(smsg, UserWarning)\n"
          ]
        }
      ]
    },
    {
      "cell_type": "code",
      "source": [
        "from sklearn.model_selection import train_test_split\n",
        "\n",
        "# Define feature columns (X) and target columns (y)\n",
        "X = df_recipes.drop(columns=[\"Flammability (Yes/No)\", \"Reactivity (Stable/Unstable)\",\n",
        "                             \"Explosiveness (1-10)\", \"Health Risk Score (0-100)\",\n",
        "                             \"Risk Score (0-100)\", \"Risk Category Encoded\"])\n",
        "\n",
        "y = df_recipes[[\"Flammability (Yes/No)\", \"Reactivity (Stable/Unstable)\", \"Explosiveness (1-10)\",\n",
        "                \"Health Risk Score (0-100)\", \"Risk Score (0-100)\", \"Risk Category Encoded\"]]\n",
        "\n",
        "# Split the dataset into training and testing sets\n",
        "X_train, X_test, y_train, y_test = train_test_split(X, y, test_size=0.2, random_state=42)\n",
        "\n",
        "print(\"✅ Data split successfully!\")\n"
      ],
      "metadata": {
        "colab": {
          "base_uri": "https://localhost:8080/"
        },
        "id": "A6aeyp5j1SP2",
        "outputId": "3edb620f-093c-4971-fc60-9f5fdbf96f02"
      },
      "execution_count": 30,
      "outputs": [
        {
          "output_type": "stream",
          "name": "stdout",
          "text": [
            "✅ Data split successfully!\n"
          ]
        }
      ]
    },
    {
      "cell_type": "code",
      "source": [
        "# Vectorize Combined Recipe\n",
        "X_train_text = vectorizer.fit_transform(X_train[\"Combined Recipe\"]).toarray()\n",
        "X_test_text = vectorizer.transform(X_test[\"Combined Recipe\"]).toarray()\n",
        "\n",
        "# Convert to DataFrames\n",
        "X_train_text_df = pd.DataFrame(X_train_text, columns=vectorizer.get_feature_names_out(), index=X_train.index)\n",
        "X_test_text_df = pd.DataFrame(X_test_text, columns=vectorizer.get_feature_names_out(), index=X_test.index)\n",
        "\n",
        "# Drop original text column\n",
        "X_train.drop(columns=[\"Combined Recipe\"], inplace=True)\n",
        "X_test.drop(columns=[\"Combined Recipe\"], inplace=True)\n",
        "\n",
        "# Merge TF-IDF Features\n",
        "X_train = pd.concat([X_train.reset_index(drop=True), X_train_text_df.reset_index(drop=True)], axis=1)\n",
        "X_test = pd.concat([X_test.reset_index(drop=True), X_test_text_df.reset_index(drop=True)], axis=1)\n",
        "\n",
        "print(\"✅ Combined Recipe converted into TF-IDF features!\")\n"
      ],
      "metadata": {
        "colab": {
          "base_uri": "https://localhost:8080/"
        },
        "id": "9Flo5aVn619J",
        "outputId": "5f63a5dd-518b-429b-83d7-787aaa543c5d"
      },
      "execution_count": 31,
      "outputs": [
        {
          "output_type": "stream",
          "name": "stdout",
          "text": [
            "✅ Combined Recipe converted into TF-IDF features!\n"
          ]
        }
      ]
    },
    {
      "cell_type": "code",
      "source": [
        "tfidf_features = vectorizer.transform(new_recipe[\"Combined Recipe\"]).toarray()\n",
        "print(\"🔍 TF-IDF Feature Vector:\", tfidf_features)\n"
      ],
      "metadata": {
        "id": "HYn8NKi0YHeN",
        "colab": {
          "base_uri": "https://localhost:8080/",
          "height": 159
        },
        "outputId": "e1b642a4-5430-4a39-e5b1-ac44f7b70937"
      },
      "execution_count": 32,
      "outputs": [
        {
          "output_type": "error",
          "ename": "NameError",
          "evalue": "name 'new_recipe' is not defined",
          "traceback": [
            "\u001b[0;31m---------------------------------------------------------------------------\u001b[0m",
            "\u001b[0;31mNameError\u001b[0m                                 Traceback (most recent call last)",
            "\u001b[0;32m<ipython-input-32-c93ed7b57eae>\u001b[0m in \u001b[0;36m<cell line: 0>\u001b[0;34m()\u001b[0m\n\u001b[0;32m----> 1\u001b[0;31m \u001b[0mtfidf_features\u001b[0m \u001b[0;34m=\u001b[0m \u001b[0mvectorizer\u001b[0m\u001b[0;34m.\u001b[0m\u001b[0mtransform\u001b[0m\u001b[0;34m(\u001b[0m\u001b[0mnew_recipe\u001b[0m\u001b[0;34m[\u001b[0m\u001b[0;34m\"Combined Recipe\"\u001b[0m\u001b[0;34m]\u001b[0m\u001b[0;34m)\u001b[0m\u001b[0;34m.\u001b[0m\u001b[0mtoarray\u001b[0m\u001b[0;34m(\u001b[0m\u001b[0;34m)\u001b[0m\u001b[0;34m\u001b[0m\u001b[0;34m\u001b[0m\u001b[0m\n\u001b[0m\u001b[1;32m      2\u001b[0m \u001b[0mprint\u001b[0m\u001b[0;34m(\u001b[0m\u001b[0;34m\"🔍 TF-IDF Feature Vector:\"\u001b[0m\u001b[0;34m,\u001b[0m \u001b[0mtfidf_features\u001b[0m\u001b[0;34m)\u001b[0m\u001b[0;34m\u001b[0m\u001b[0;34m\u001b[0m\u001b[0m\n",
            "\u001b[0;31mNameError\u001b[0m: name 'new_recipe' is not defined"
          ]
        }
      ]
    }
  ]
}