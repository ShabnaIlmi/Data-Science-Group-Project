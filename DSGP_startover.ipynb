{
  "nbformat": 4,
  "nbformat_minor": 0,
  "metadata": {
    "colab": {
      "provenance": [],
      "authorship_tag": "ABX9TyO4FZGHhnR1sN36z1+e9QpN",
      "include_colab_link": true
    },
    "kernelspec": {
      "name": "python3",
      "display_name": "Python 3"
    },
    "language_info": {
      "name": "python"
    }
  },
  "cells": [
    {
      "cell_type": "markdown",
      "metadata": {
        "id": "view-in-github",
        "colab_type": "text"
      },
      "source": [
        "<a href=\"https://colab.research.google.com/github/ShabnaIlmi/Data-Science-Group-Project/blob/main/DSGP_startover.ipynb\" target=\"_parent\"><img src=\"https://colab.research.google.com/assets/colab-badge.svg\" alt=\"Open In Colab\"/></a>"
      ]
    },
    {
      "cell_type": "markdown",
      "source": [
        "**Load and Inspect the Data**"
      ],
      "metadata": {
        "id": "r5JpAA525fz1"
      }
    },
    {
      "cell_type": "code",
      "execution_count": 96,
      "metadata": {
        "colab": {
          "base_uri": "https://localhost:8080/"
        },
        "id": "59QL0yYX20_8",
        "outputId": "2209b9dd-a7d6-4b74-a122-01c4b25aaaad"
      },
      "outputs": [
        {
          "output_type": "stream",
          "name": "stdout",
          "text": [
            "📌 recipes_nodup.csv:\n",
            "   Recipe ID                                    Chemical Names  \\\n",
            "0          1               Ephedrine + Red Phosphorus + Iodine   \n",
            "1          2             Toluene + Nitric Acid + Sulfuric Acid   \n",
            "2          3       Hydrogen Peroxide + Acetone + Sulfuric Acid   \n",
            "3          4  Ephedrine + Potassium Permanganate + Acetic Acid   \n",
            "4          5             Potassium Nitrate + Charcoal + Sulfur   \n",
            "\n",
            "                     Formulas   Quantities (g/mL)  \\\n",
            "0           C10H15NO + P + I2     30g + 15g + 10g   \n",
            "1         C7H8 + HNO3 + H2SO4  50mL + 30mL + 40mL   \n",
            "2        H2O2 + C3H6O + H2SO4   20mL + 30mL + 5mL   \n",
            "3  C10H15NO + KMnO4 + CH3COOH    25g + 10g + 50mL   \n",
            "4                KNO3 + C + S     75g + 15g + 10g   \n",
            "\n",
            "                         CAS Numbers    Solvent Used  \\\n",
            "0   299-42-3 + 7723-14-0 + 7553-56-2  Acetone, Ether   \n",
            "1   108-88-3 + 7697-37-2 + 7664-93-9             NaN   \n",
            "2    7722-84-1 + 67-64-1 + 7664-93-9             NaN   \n",
            "3     299-42-3 + 7722-64-7 + 64-19-7           Water   \n",
            "4  7757-79-1 + 7440-44-0 + 7704-34-9           Water   \n",
            "\n",
            "               Reaction Conditions Toxicity Level Flammability (Yes/No)  \\\n",
            "0       Reduction reaction at 40°C           High                   Yes   \n",
            "1                Nitration at 50°C           High                   Yes   \n",
            "2         Acidic catalysis at 10°C      Very High                   Yes   \n",
            "3  Oxidation reaction at room temp           High                    No   \n",
            "4              Grinding and mixing         Medium                    No   \n",
            "\n",
            "  Reactivity (Stable/Unstable)  ...  Environmental Hazard (Yes/No)  \\\n",
            "0                     Unstable  ...                            Yes   \n",
            "1                     Unstable  ...                            Yes   \n",
            "2                     Unstable  ...                            Yes   \n",
            "3                       Stable  ...                            Yes   \n",
            "4                       Stable  ...                            Yes   \n",
            "\n",
            "   Dual Use Potential (Yes/No)                  Intended Use  \\\n",
            "0                          Yes        Illegal drug synthesis   \n",
            "1                          Yes                 TNT synthesis   \n",
            "2                          Yes  Acetone Peroxide (Explosive)   \n",
            "3                          Yes       Methcathinone synthesis   \n",
            "4                          Yes      Fireworks & Black Powder   \n",
            "\n",
            "  Export Restriction (Yes/No) Controlled Substance (Yes/No)  \\\n",
            "0                         Yes                           Yes   \n",
            "1                         Yes                           Yes   \n",
            "2                         Yes                           Yes   \n",
            "3                         Yes                           Yes   \n",
            "4                         Yes                            No   \n",
            "\n",
            "  Risk Assessment Score (0-100) Regulatory Body  \\\n",
            "0                            95        DEA, FDA   \n",
            "1                            97        ATF, DOT   \n",
            "2                            99        ATF, DOT   \n",
            "3                            88        DEA, FDA   \n",
            "4                            70        ATF, DOT   \n",
            "\n",
            "   Compliance Status (Compliant/Non-compliant) Risk Category  \\\n",
            "0                                Non-compliant      Critical   \n",
            "1                                Non-compliant      Critical   \n",
            "2                                Non-compliant      Critical   \n",
            "3                                Non-compliant          High   \n",
            "4                                Non-compliant          High   \n",
            "\n",
            "  Risk Score (0-100)  \n",
            "0                 98  \n",
            "1                 99  \n",
            "2                 99  \n",
            "3                 90  \n",
            "4                 85  \n",
            "\n",
            "[5 rows x 22 columns] \n",
            "\n",
            "\n",
            "📌 chem.csv:\n",
            "   ID         Chemical name molarcular  formula  CAS number  \\\n",
            "0   1               Acetone                C3H6O    67-64-1   \n",
            "1   2             Acetylene                 C2H2    74-86-2   \n",
            "2   3         Acrylonitrile                C3H3N   107-13-1   \n",
            "3   4      Ammonium Nitrate               NH4NO3  6484-52-2   \n",
            "4   5  Ammonium Perchlorate              NH4ClO4  7790-98-9   \n",
            "\n",
            "                             applications  UN number       synonyms  \\\n",
            "0  Solvent, cleaning agent, paint thinner     1090.0      Propanone   \n",
            "1             Welding, chemical synthesis     1001.0         Ethyne   \n",
            "2            Plastic production, textiles     1093.0  Vinyl cyanide   \n",
            "3                  Fertilizer, explosives     1942.0         Nitram   \n",
            "4                 Rocket fuel, explosives     1442.0             AP   \n",
            "\n",
            "  Toxicity level  \n",
            "0            Low  \n",
            "1           High  \n",
            "2           High  \n",
            "3           High  \n",
            "4           High   \n",
            "\n",
            "\n",
            "🔍 recipes_nodup.csv Shape: (76, 22)\n",
            "🔍 chem.csv Shape: (401, 8)\n",
            "🛠 recipes_nodup Columns: Index(['Recipe ID', 'Chemical Names', 'Formulas', 'Quantities (g/mL)',\n",
            "       'CAS Numbers', 'Solvent Used', 'Reaction Conditions', 'Toxicity Level',\n",
            "       'Flammability (Yes/No)', 'Reactivity (Stable/Unstable)',\n",
            "       'Explosiveness (1-10)', 'Health Risk Score (0-100)',\n",
            "       'Environmental Hazard (Yes/No)', 'Dual Use Potential (Yes/No)',\n",
            "       'Intended Use', 'Export Restriction (Yes/No)',\n",
            "       'Controlled Substance (Yes/No)', 'Risk Assessment Score (0-100)',\n",
            "       'Regulatory Body', 'Compliance Status (Compliant/Non-compliant)',\n",
            "       'Risk Category', 'Risk Score (0-100)'],\n",
            "      dtype='object')\n",
            "🛠 chem Columns: Index(['ID', 'Chemical name', 'molarcular  formula ', 'CAS number',\n",
            "       'applications', 'UN number', 'synonyms', 'Toxicity level'],\n",
            "      dtype='object')\n",
            "⚠️ Missing values in recipes_nodup:\n",
            " Recipe ID                                       0\n",
            "Chemical Names                                  0\n",
            "Formulas                                        0\n",
            "Quantities (g/mL)                               0\n",
            "CAS Numbers                                     0\n",
            "Solvent Used                                   54\n",
            "Reaction Conditions                             0\n",
            "Toxicity Level                                  0\n",
            "Flammability (Yes/No)                           0\n",
            "Reactivity (Stable/Unstable)                    0\n",
            "Explosiveness (1-10)                            0\n",
            "Health Risk Score (0-100)                       0\n",
            "Environmental Hazard (Yes/No)                   0\n",
            "Dual Use Potential (Yes/No)                     0\n",
            "Intended Use                                    0\n",
            "Export Restriction (Yes/No)                     0\n",
            "Controlled Substance (Yes/No)                   0\n",
            "Risk Assessment Score (0-100)                   0\n",
            "Regulatory Body                                 0\n",
            "Compliance Status (Compliant/Non-compliant)     0\n",
            "Risk Category                                   0\n",
            "Risk Score (0-100)                              0\n",
            "dtype: int64 \n",
            "\n",
            "⚠️ Missing values in chem:\n",
            " ID                       0\n",
            "Chemical name            0\n",
            "molarcular  formula      0\n",
            "CAS number               1\n",
            "applications             0\n",
            "UN number               12\n",
            "synonyms                 6\n",
            "Toxicity level           0\n",
            "dtype: int64 \n",
            "\n"
          ]
        }
      ],
      "source": [
        "import pandas as pd\n",
        "\n",
        "# Load datasets\n",
        "recipes_path = \"/content/recipes_nodup.csv\"\n",
        "chem_path = \"/content/chem.csv\"\n",
        "\n",
        "df_recipes = pd.read_csv(recipes_path)\n",
        "df_chem = pd.read_csv(chem_path)\n",
        "\n",
        "# Display first few rows of each dataset\n",
        "print(\"📌 recipes_nodup.csv:\")\n",
        "print(df_recipes.head(), \"\\n\\n\")\n",
        "\n",
        "print(\"📌 chem.csv:\")\n",
        "print(df_chem.head(), \"\\n\\n\")\n",
        "\n",
        "# Check dataset shapes\n",
        "print(f\"🔍 recipes_nodup.csv Shape: {df_recipes.shape}\")\n",
        "print(f\"🔍 chem.csv Shape: {df_chem.shape}\")\n",
        "\n",
        "# Show column names\n",
        "print(\"🛠 recipes_nodup Columns:\", df_recipes.columns)\n",
        "print(\"🛠 chem Columns:\", df_chem.columns)\n",
        "\n",
        "# Check missing values\n",
        "print(\"⚠️ Missing values in recipes_nodup:\\n\", df_recipes.isnull().sum(), \"\\n\")\n",
        "print(\"⚠️ Missing values in chem:\\n\", df_chem.isnull().sum(), \"\\n\")\n"
      ]
    },
    {
      "cell_type": "code",
      "source": [
        "# Check data types of columns\n",
        "print(\"🔍 Data types in recipes_nodup.csv:\\n\", df_recipes.dtypes, \"\\n\")\n",
        "print(\"🔍 Data types in chem.csv:\\n\", df_chem.dtypes, \"\\n\")\n"
      ],
      "metadata": {
        "colab": {
          "base_uri": "https://localhost:8080/"
        },
        "id": "EW-wqlN9Kn9y",
        "outputId": "f3c85f0a-b9e3-4ea7-edfe-9ec51f85dfc9"
      },
      "execution_count": 97,
      "outputs": [
        {
          "output_type": "stream",
          "name": "stdout",
          "text": [
            "🔍 Data types in recipes_nodup.csv:\n",
            " Recipe ID                                       int64\n",
            "Chemical Names                                 object\n",
            "Formulas                                       object\n",
            "Quantities (g/mL)                              object\n",
            "CAS Numbers                                    object\n",
            "Solvent Used                                   object\n",
            "Reaction Conditions                            object\n",
            "Toxicity Level                                 object\n",
            "Flammability (Yes/No)                          object\n",
            "Reactivity (Stable/Unstable)                   object\n",
            "Explosiveness (1-10)                            int64\n",
            "Health Risk Score (0-100)                       int64\n",
            "Environmental Hazard (Yes/No)                  object\n",
            "Dual Use Potential (Yes/No)                    object\n",
            "Intended Use                                   object\n",
            "Export Restriction (Yes/No)                    object\n",
            "Controlled Substance (Yes/No)                  object\n",
            "Risk Assessment Score (0-100)                   int64\n",
            "Regulatory Body                                object\n",
            "Compliance Status (Compliant/Non-compliant)    object\n",
            "Risk Category                                  object\n",
            "Risk Score (0-100)                              int64\n",
            "dtype: object \n",
            "\n",
            "🔍 Data types in chem.csv:\n",
            " ID                        int64\n",
            "Chemical name            object\n",
            "molarcular  formula      object\n",
            "CAS number               object\n",
            "applications             object\n",
            "UN number               float64\n",
            "synonyms                 object\n",
            "Toxicity level           object\n",
            "dtype: object \n",
            "\n"
          ]
        }
      ]
    },
    {
      "cell_type": "markdown",
      "source": [
        "**Check Missing Values and Remove Duplicates**"
      ],
      "metadata": {
        "id": "LNp5ghao5kZs"
      }
    },
    {
      "cell_type": "code",
      "source": [
        "print(\"📌 Duplicate rows in recipes_nodup:\", df_recipes.duplicated().sum())\n",
        "print(\"📌 Duplicate rows in chem:\", df_chem.duplicated().sum())\n",
        "\n",
        "print(\"⚠️ Missing values in recipes_nodup:\\n\", df_recipes.isnull().sum(), \"\\n\")\n",
        "print(\"⚠️ Missing values in chem:\\n\", df_chem.isnull().sum(), \"\\n\")\n",
        "\n"
      ],
      "metadata": {
        "colab": {
          "base_uri": "https://localhost:8080/"
        },
        "id": "4S6wKOY03Dvu",
        "outputId": "d2a819ca-3f8e-49ba-b4a9-7cfcf1b586a1"
      },
      "execution_count": 98,
      "outputs": [
        {
          "output_type": "stream",
          "name": "stdout",
          "text": [
            "📌 Duplicate rows in recipes_nodup: 0\n",
            "📌 Duplicate rows in chem: 0\n",
            "⚠️ Missing values in recipes_nodup:\n",
            " Recipe ID                                       0\n",
            "Chemical Names                                  0\n",
            "Formulas                                        0\n",
            "Quantities (g/mL)                               0\n",
            "CAS Numbers                                     0\n",
            "Solvent Used                                   54\n",
            "Reaction Conditions                             0\n",
            "Toxicity Level                                  0\n",
            "Flammability (Yes/No)                           0\n",
            "Reactivity (Stable/Unstable)                    0\n",
            "Explosiveness (1-10)                            0\n",
            "Health Risk Score (0-100)                       0\n",
            "Environmental Hazard (Yes/No)                   0\n",
            "Dual Use Potential (Yes/No)                     0\n",
            "Intended Use                                    0\n",
            "Export Restriction (Yes/No)                     0\n",
            "Controlled Substance (Yes/No)                   0\n",
            "Risk Assessment Score (0-100)                   0\n",
            "Regulatory Body                                 0\n",
            "Compliance Status (Compliant/Non-compliant)     0\n",
            "Risk Category                                   0\n",
            "Risk Score (0-100)                              0\n",
            "dtype: int64 \n",
            "\n",
            "⚠️ Missing values in chem:\n",
            " ID                       0\n",
            "Chemical name            0\n",
            "molarcular  formula      0\n",
            "CAS number               1\n",
            "applications             0\n",
            "UN number               12\n",
            "synonyms                 6\n",
            "Toxicity level           0\n",
            "dtype: int64 \n",
            "\n"
          ]
        }
      ]
    },
    {
      "cell_type": "code",
      "source": [
        "# Display unique values for categorical columns\n",
        "print(\"Unique values in key columns (recipes_nodup):\\n\")\n",
        "for col in df_recipes.columns:\n",
        "    print(f\"{col}: {df_recipes[col].nunique()} unique values\")\n",
        "\n",
        "print(\"\\n🛠 Unique values in key columns (chem):\\n\")\n",
        "for col in df_chem.columns:\n",
        "    print(f\"{col}: {df_chem[col].nunique()} unique values\")\n"
      ],
      "metadata": {
        "colab": {
          "base_uri": "https://localhost:8080/"
        },
        "id": "Vqh7AbJcK0Vh",
        "outputId": "34371a4e-ee21-4c8a-bbeb-607b47581077"
      },
      "execution_count": 99,
      "outputs": [
        {
          "output_type": "stream",
          "name": "stdout",
          "text": [
            "Unique values in key columns (recipes_nodup):\n",
            "\n",
            "Recipe ID: 76 unique values\n",
            "Chemical Names: 76 unique values\n",
            "Formulas: 75 unique values\n",
            "Quantities (g/mL): 57 unique values\n",
            "CAS Numbers: 76 unique values\n",
            "Solvent Used: 3 unique values\n",
            "Reaction Conditions: 37 unique values\n",
            "Toxicity Level: 3 unique values\n",
            "Flammability (Yes/No): 2 unique values\n",
            "Reactivity (Stable/Unstable): 3 unique values\n",
            "Explosiveness (1-10): 8 unique values\n",
            "Health Risk Score (0-100): 14 unique values\n",
            "Environmental Hazard (Yes/No): 1 unique values\n",
            "Dual Use Potential (Yes/No): 1 unique values\n",
            "Intended Use: 46 unique values\n",
            "Export Restriction (Yes/No): 2 unique values\n",
            "Controlled Substance (Yes/No): 2 unique values\n",
            "Risk Assessment Score (0-100): 13 unique values\n",
            "Regulatory Body: 5 unique values\n",
            "Compliance Status (Compliant/Non-compliant): 2 unique values\n",
            "Risk Category: 3 unique values\n",
            "Risk Score (0-100): 10 unique values\n",
            "\n",
            "🛠 Unique values in key columns (chem):\n",
            "\n",
            "ID: 401 unique values\n",
            "Chemical name: 393 unique values\n",
            "molarcular  formula : 376 unique values\n",
            "CAS number: 400 unique values\n",
            "applications: 343 unique values\n",
            "UN number: 332 unique values\n",
            "synonyms: 388 unique values\n",
            "Toxicity level: 4 unique values\n"
          ]
        }
      ]
    },
    {
      "cell_type": "markdown",
      "source": [
        "**Preprocessing recipes_nodup.csv**"
      ],
      "metadata": {
        "id": "IXoian5rMyUC"
      }
    },
    {
      "cell_type": "code",
      "source": [
        "# Fill missing values with \"Unknown\"\n",
        "df_recipes[\"Solvent Used\"].fillna(\"Unknown\", inplace=True)\n"
      ],
      "metadata": {
        "colab": {
          "base_uri": "https://localhost:8080/"
        },
        "id": "f_itn-VWM0fR",
        "outputId": "1c8cc003-54c9-41e7-a1cf-9e5f0c918343"
      },
      "execution_count": 100,
      "outputs": [
        {
          "output_type": "stream",
          "name": "stderr",
          "text": [
            "<ipython-input-100-d9d1a59aa268>:2: FutureWarning: A value is trying to be set on a copy of a DataFrame or Series through chained assignment using an inplace method.\n",
            "The behavior will change in pandas 3.0. This inplace method will never work because the intermediate object on which we are setting values always behaves as a copy.\n",
            "\n",
            "For example, when doing 'df[col].method(value, inplace=True)', try using 'df.method({col: value}, inplace=True)' or df[col] = df[col].method(value) instead, to perform the operation inplace on the original object.\n",
            "\n",
            "\n",
            "  df_recipes[\"Solvent Used\"].fillna(\"Unknown\", inplace=True)\n"
          ]
        }
      ]
    },
    {
      "cell_type": "code",
      "source": [
        "import re\n",
        "import pandas as pd\n",
        "\n",
        "df_recipes = pd.read_csv(recipes_path)\n",
        "\n",
        "# Function to combine chemicals with their quantities\n",
        "def combine_chemicals(row):\n",
        "    chemicals = row[\"Chemical Names\"].split(\" + \")\n",
        "    quantities = row[\"Quantities (g/mL)\"].split(\" + \")\n",
        "\n",
        "    combined = []\n",
        "    for chem, qty in zip(chemicals, quantities):\n",
        "        qty_numeric = re.sub(r\"[^\\d.]\", \"\", qty)  # Remove non-numeric characters\n",
        "        combined.append(f\"{chem}:{qty_numeric}\")  # Format as \"Chemical:Quantity\"\n",
        "\n",
        "    return \" + \".join(combined)  # Join all pairs into a single text format\n",
        "\n",
        "# Apply transformation\n",
        "df_recipes[\"Combined Recipe\"] = df_recipes.apply(combine_chemicals, axis=1)\n",
        "\n",
        "# Drop old columns\n",
        "df_recipes.drop(columns=[\"Chemical Names\", \"Quantities (g/mL)\"], inplace=True)\n",
        "\n",
        "\n"
      ],
      "metadata": {
        "id": "A0FPoXOm1EAQ"
      },
      "execution_count": 101,
      "outputs": []
    },
    {
      "cell_type": "markdown",
      "source": [
        "Encode Categorical Features"
      ],
      "metadata": {
        "id": "uW_2fMnINDcp"
      }
    },
    {
      "cell_type": "code",
      "source": [
        "from sklearn.preprocessing import LabelEncoder\n",
        "\n",
        "binary_cols = [\n",
        "    \"Flammability (Yes/No)\", \"Reactivity (Stable/Unstable)\",\n",
        "    \"Environmental Hazard (Yes/No)\", \"Dual Use Potential (Yes/No)\",\n",
        "    \"Export Restriction (Yes/No)\", \"Controlled Substance (Yes/No)\",\n",
        "    \"Compliance Status (Compliant/Non-compliant)\"\n",
        "]\n",
        "\n",
        "# Convert Yes/No to 0/1\n",
        "for col in binary_cols:\n",
        "    df_recipes[col] = df_recipes[col].apply(lambda x: 1 if x in [\"Yes\", \"Compliant\", \"Stable\"] else 0)\n",
        "\n",
        "# Encode Risk Category\n",
        "df_recipes[\"Risk Category Encoded\"] = LabelEncoder().fit_transform(df_recipes[\"Risk Category\"])\n"
      ],
      "metadata": {
        "id": "IBRv4iCiNCRT"
      },
      "execution_count": 102,
      "outputs": []
    },
    {
      "cell_type": "markdown",
      "source": [
        "Normalize Numerical Features"
      ],
      "metadata": {
        "id": "161lBd1GNPGR"
      }
    },
    {
      "cell_type": "code",
      "source": [
        "from sklearn.preprocessing import MinMaxScaler\n",
        "\n",
        "scaler = MinMaxScaler()\n",
        "# Remove \"Total Quantity (g/mL)\" from num_cols as it is no longer present in df_recipes\n",
        "num_cols = [\"Risk Score (0-100)\", \"Health Risk Score (0-100)\", \"Risk Assessment Score (0-100)\"]\n",
        "\n",
        "df_recipes[num_cols] = scaler.fit_transform(df_recipes[num_cols])\n",
        "\n",
        "\n",
        "# Save processed data\n",
        "df_recipes.to_csv(\"/content/processed_recipes.csv\", index=False)\n",
        "print(\"✅ Successfully converted recipes into structured format!\")"
      ],
      "metadata": {
        "id": "pI1nG4GiNSWx",
        "colab": {
          "base_uri": "https://localhost:8080/"
        },
        "outputId": "fd758618-f48c-4422-8e66-825dd6ca0be1"
      },
      "execution_count": 103,
      "outputs": [
        {
          "output_type": "stream",
          "name": "stdout",
          "text": [
            "✅ Successfully converted recipes into structured format!\n"
          ]
        }
      ]
    },
    {
      "cell_type": "markdown",
      "source": [
        "**Preprocessing chem.csv**"
      ],
      "metadata": {
        "id": "m6W3F3tUNvkR"
      }
    },
    {
      "cell_type": "code",
      "source": [
        "# Fill missing values in chem.csv\n",
        "df_chem[\"CAS number\"].fillna(\"Unknown\", inplace=True)\n",
        "df_chem[\"UN number\"].fillna(\"Unknown\", inplace=True)\n",
        "df_chem[\"synonyms\"].fillna(\"Unknown\", inplace=True)\n",
        "\n",
        "# Standardize column names\n",
        "df_chem.columns = df_chem.columns.str.strip().str.lower().str.replace(\" \", \"_\")\n",
        "\n",
        "# Save preprocessed chem.csv\n",
        "df_chem.to_csv(\"/content/preprocessed_chem.csv\", index=False)\n",
        "print(\"Preprocessed chem.csv saved!\")\n"
      ],
      "metadata": {
        "id": "fnn0olrMNzyZ",
        "colab": {
          "base_uri": "https://localhost:8080/"
        },
        "outputId": "76b12858-c063-4e1b-b831-35fec51900f4"
      },
      "execution_count": 104,
      "outputs": [
        {
          "output_type": "stream",
          "name": "stdout",
          "text": [
            "Preprocessed chem.csv saved!\n"
          ]
        },
        {
          "output_type": "stream",
          "name": "stderr",
          "text": [
            "<ipython-input-104-e602f27998e5>:2: FutureWarning: A value is trying to be set on a copy of a DataFrame or Series through chained assignment using an inplace method.\n",
            "The behavior will change in pandas 3.0. This inplace method will never work because the intermediate object on which we are setting values always behaves as a copy.\n",
            "\n",
            "For example, when doing 'df[col].method(value, inplace=True)', try using 'df.method({col: value}, inplace=True)' or df[col] = df[col].method(value) instead, to perform the operation inplace on the original object.\n",
            "\n",
            "\n",
            "  df_chem[\"CAS number\"].fillna(\"Unknown\", inplace=True)\n",
            "<ipython-input-104-e602f27998e5>:3: FutureWarning: A value is trying to be set on a copy of a DataFrame or Series through chained assignment using an inplace method.\n",
            "The behavior will change in pandas 3.0. This inplace method will never work because the intermediate object on which we are setting values always behaves as a copy.\n",
            "\n",
            "For example, when doing 'df[col].method(value, inplace=True)', try using 'df.method({col: value}, inplace=True)' or df[col] = df[col].method(value) instead, to perform the operation inplace on the original object.\n",
            "\n",
            "\n",
            "  df_chem[\"UN number\"].fillna(\"Unknown\", inplace=True)\n",
            "<ipython-input-104-e602f27998e5>:3: FutureWarning: Setting an item of incompatible dtype is deprecated and will raise an error in a future version of pandas. Value 'Unknown' has dtype incompatible with float64, please explicitly cast to a compatible dtype first.\n",
            "  df_chem[\"UN number\"].fillna(\"Unknown\", inplace=True)\n",
            "<ipython-input-104-e602f27998e5>:4: FutureWarning: A value is trying to be set on a copy of a DataFrame or Series through chained assignment using an inplace method.\n",
            "The behavior will change in pandas 3.0. This inplace method will never work because the intermediate object on which we are setting values always behaves as a copy.\n",
            "\n",
            "For example, when doing 'df[col].method(value, inplace=True)', try using 'df.method({col: value}, inplace=True)' or df[col] = df[col].method(value) instead, to perform the operation inplace on the original object.\n",
            "\n",
            "\n",
            "  df_chem[\"synonyms\"].fillna(\"Unknown\", inplace=True)\n"
          ]
        }
      ]
    },
    {
      "cell_type": "markdown",
      "source": [
        "***Convert Recipes into Features***"
      ],
      "metadata": {
        "id": "bsidkfW25SRy"
      }
    },
    {
      "cell_type": "code",
      "source": [
        "from sklearn.feature_extraction.text import TfidfVectorizer\n",
        "\n",
        "# Convert text into numerical features using TF-IDF\n",
        "vectorizer = TfidfVectorizer(max_features=500)  # Limit to top 500 words\n",
        "X_tfidf = vectorizer.fit_transform(df_recipes[\"Combined Recipe\"]).toarray()\n",
        "\n",
        "# Convert to DataFrame and merge with the dataset\n",
        "X_tfidf_df = pd.DataFrame(X_tfidf, columns=vectorizer.get_feature_names_out())\n",
        "df_final = pd.concat([df_recipes.drop(columns=[\"Combined Recipe\"]), X_tfidf_df], axis=1)\n",
        "\n",
        "print(\"✅ TF-IDF transformation complete! Data ready for ML models.\")\n"
      ],
      "metadata": {
        "colab": {
          "base_uri": "https://localhost:8080/"
        },
        "id": "tExZjvp75Y8H",
        "outputId": "b151a2ef-a0ee-4659-d16d-e1d92e55cc1a"
      },
      "execution_count": 105,
      "outputs": [
        {
          "output_type": "stream",
          "name": "stdout",
          "text": [
            "✅ TF-IDF transformation complete! Data ready for ML models.\n"
          ]
        }
      ]
    },
    {
      "cell_type": "code",
      "source": [
        "from sklearn.feature_extraction.text import TfidfVectorizer\n",
        "\n",
        "# Convert \"Combined Recipe\" into TF-IDF vectors\n",
        "vectorizer = TfidfVectorizer(max_features=500)  # Keep top 500 most important features\n",
        "X_tfidf = vectorizer.fit_transform(df_recipes[\"Combined Recipe\"]).toarray()\n",
        "\n",
        "# Convert TF-IDF output to DataFrame and merge with other numerical features\n",
        "X_tfidf_df = pd.DataFrame(X_tfidf, columns=vectorizer.get_feature_names_out())\n",
        "\n",
        "# Drop \"Combined Recipe\" and merge TF-IDF features\n",
        "df_final = pd.concat([df_recipes.drop(columns=[\"Combined Recipe\"]), X_tfidf_df], axis=1)\n",
        "\n",
        "print(\"✅ TF-IDF transformation complete! Now we can train ML models.\")\n"
      ],
      "metadata": {
        "colab": {
          "base_uri": "https://localhost:8080/"
        },
        "id": "rvjZUIHy6rFV",
        "outputId": "b960c7bb-f0ff-45d0-d741-1fe34d9727ee"
      },
      "execution_count": 106,
      "outputs": [
        {
          "output_type": "stream",
          "name": "stdout",
          "text": [
            "✅ TF-IDF transformation complete! Now we can train ML models.\n"
          ]
        }
      ]
    },
    {
      "cell_type": "markdown",
      "source": [
        "**Train ML Models**"
      ],
      "metadata": {
        "id": "_TIRdQzI5i9u"
      }
    },
    {
      "cell_type": "code",
      "source": [
        "from sklearn.model_selection import train_test_split\n",
        "\n",
        "# Define features (X) and target variable (y)\n",
        "X = df_final.drop(columns=[\"Risk Category\", \"Risk Category Encoded\"])  # Features\n",
        "y = df_final[\"Risk Category Encoded\"]  # Target\n",
        "\n",
        "# Split into training (80%) and testing (20%) sets\n",
        "X_train, X_test, y_train, y_test = train_test_split(X, y, test_size=0.2, random_state=42, stratify=y)\n",
        "\n",
        "print(\"✅ Data split complete! Ready for training.\")\n"
      ],
      "metadata": {
        "colab": {
          "base_uri": "https://localhost:8080/"
        },
        "id": "iJplhCOF5ox_",
        "outputId": "f32013fc-89e7-4043-c487-0853663d8faf"
      },
      "execution_count": 107,
      "outputs": [
        {
          "output_type": "stream",
          "name": "stdout",
          "text": [
            "✅ Data split complete! Ready for training.\n"
          ]
        }
      ]
    },
    {
      "cell_type": "code",
      "source": [
        "from sklearn.feature_extraction.text import TfidfVectorizer\n",
        "\n",
        "vectorizer = TfidfVectorizer(max_features=100)\n",
        "\n",
        "# Transform text columns\n",
        "X_train_tfidf = vectorizer.fit_transform(X_train[\"Formulas\"].fillna(\"\")).toarray()\n",
        "X_test_tfidf = vectorizer.transform(X_test[\"Formulas\"].fillna(\"\")).toarray()\n",
        "\n",
        "# Convert to DataFrame and merge\n",
        "X_train_tfidf_df = pd.DataFrame(X_train_tfidf, columns=vectorizer.get_feature_names_out())\n",
        "X_test_tfidf_df = pd.DataFrame(X_test_tfidf, columns=vectorizer.get_feature_names_out())\n",
        "\n",
        "X_train = pd.concat([X_train.drop(columns=[\"Formulas\"]), X_train_tfidf_df], axis=1)\n",
        "X_test = pd.concat([X_test.drop(columns=[\"Formulas\"]), X_test_tfidf_df], axis=1)\n",
        "\n",
        "print(\"✅ TF-IDF applied to text columns!\")\n"
      ],
      "metadata": {
        "colab": {
          "base_uri": "https://localhost:8080/"
        },
        "id": "7810z9h59Zrk",
        "outputId": "62803b57-553c-4e9d-cde3-d3e397de5497"
      },
      "execution_count": 108,
      "outputs": [
        {
          "output_type": "stream",
          "name": "stdout",
          "text": [
            "✅ TF-IDF applied to text columns!\n"
          ]
        }
      ]
    },
    {
      "cell_type": "code",
      "source": [
        "X_train = X_train.drop(columns=[\"Formulas\", \"CAS Numbers\"], errors=\"ignore\")\n",
        "X_test = X_test.drop(columns=[\"Formulas\", \"CAS Numbers\"], errors=\"ignore\")\n",
        "\n",
        "print(\"✅ Dropped Formulas & CAS Numbers (Not needed for model training).\")\n"
      ],
      "metadata": {
        "colab": {
          "base_uri": "https://localhost:8080/"
        },
        "id": "Z7MWSpgd9P7g",
        "outputId": "6c143688-c076-4696-bf13-a4039d8636a8"
      },
      "execution_count": 122,
      "outputs": [
        {
          "output_type": "stream",
          "name": "stdout",
          "text": [
            "✅ Dropped Formulas & CAS Numbers (Not needed for model training).\n"
          ]
        }
      ]
    },
    {
      "cell_type": "code",
      "source": [
        "from sklearn.preprocessing import LabelEncoder\n",
        "\n",
        "# List of categorical columns\n",
        "cat_cols = [\"Solvent Used\", \"Reaction Conditions\", \"Toxicity Level\", \"Intended Use\", \"Regulatory Body\"]\n",
        "\n",
        "# Apply Label Encoding correctly\n",
        "for col in cat_cols:\n",
        "    encoder = LabelEncoder()\n",
        "\n",
        "    # Fit on both training & testing data\n",
        "    encoder.fit(pd.concat([X_train[col], X_test[col]], axis=0).astype(str))\n",
        "\n",
        "    # Transform both datasets\n",
        "    X_train[col] = encoder.transform(X_train[col].astype(str))\n",
        "    X_test[col] = encoder.transform(X_test[col].astype(str))\n",
        "\n",
        "print(\"✅ Successfully encoded categorical columns!\")\n",
        "\n"
      ],
      "metadata": {
        "colab": {
          "base_uri": "https://localhost:8080/"
        },
        "id": "IDi4MzRKw0Vg",
        "outputId": "eaf22ffd-43c3-411f-c7cf-3a1e03a61835"
      },
      "execution_count": 123,
      "outputs": [
        {
          "output_type": "stream",
          "name": "stdout",
          "text": [
            "✅ Successfully encoded categorical columns!\n"
          ]
        }
      ]
    },
    {
      "cell_type": "code",
      "source": [
        "# Combine features and target into one DataFrame if not done already\n",
        "X = df_final.drop(columns=[\"Risk Category\", \"Risk Category Encoded\"])\n",
        "y = df_final[\"Risk Category Encoded\"]\n",
        "\n",
        "print(\"Before split - X shape:\", X.shape, \"y shape:\", y.shape)\n",
        "\n",
        "# Perform a stratified split to maintain class balance\n",
        "from sklearn.model_selection import train_test_split\n",
        "X_train, X_test, y_train, y_test = train_test_split(\n",
        "    X, y, test_size=0.2, random_state=42, stratify=y\n",
        ")\n",
        "\n",
        "print(\"After split - X_train shape:\", X_train.shape, \"y_train shape:\", y_train.shape)\n"
      ],
      "metadata": {
        "colab": {
          "base_uri": "https://localhost:8080/"
        },
        "id": "lezlj9QV1_rm",
        "outputId": "3952cfce-a148-43aa-81c5-aec3bfc209f6"
      },
      "execution_count": 124,
      "outputs": [
        {
          "output_type": "stream",
          "name": "stdout",
          "text": [
            "Before split - X shape: (76, 120) y shape: (76,)\n",
            "After split - X_train shape: (60, 120) y_train shape: (60,)\n"
          ]
        }
      ]
    },
    {
      "cell_type": "code",
      "source": [
        "print(\"🔍 Data Types in X_train:\\n\", X_train.dtypes[X_train.dtypes == \"object\"])\n"
      ],
      "metadata": {
        "colab": {
          "base_uri": "https://localhost:8080/"
        },
        "id": "r2GCCzh93Ld-",
        "outputId": "75f604ea-6647-48f3-a17e-60068089cd89"
      },
      "execution_count": 125,
      "outputs": [
        {
          "output_type": "stream",
          "name": "stdout",
          "text": [
            "🔍 Data Types in X_train:\n",
            " Formulas               object\n",
            "CAS Numbers            object\n",
            "Solvent Used           object\n",
            "Reaction Conditions    object\n",
            "Toxicity Level         object\n",
            "Intended Use           object\n",
            "Regulatory Body        object\n",
            "dtype: object\n"
          ]
        }
      ]
    },
    {
      "cell_type": "code",
      "source": [
        "drop_cols = [\"Combined Recipe\", \"Formulas\", \"CAS Numbers\"]  # Add any other text-based columns\n",
        "\n",
        "X_train = X_train.drop(columns=drop_cols, errors=\"ignore\")\n",
        "X_test = X_test.drop(columns=drop_cols, errors=\"ignore\")\n",
        "\n",
        "print(\"✅ Removed text columns from training data.\")\n"
      ],
      "metadata": {
        "id": "jNhgGF8s3cxf"
      },
      "execution_count": null,
      "outputs": []
    },
    {
      "cell_type": "code",
      "source": [
        "from imblearn.over_sampling import SMOTE\n",
        "\n",
        "# Apply SMOTE correctly\n",
        "smote = SMOTE(random_state=42)\n",
        "X_train_balanced, y_train_balanced = smote.fit_resample(X_train, y_train)\n",
        "\n",
        "# Verify shapes after SMOTE\n",
        "print(\"✅ After SMOTE - X_train_balanced shape:\", X_train_balanced.shape)\n",
        "print(\"✅ After SMOTE - y_train_balanced shape:\", y_train_balanced.shape)\n"
      ],
      "metadata": {
        "colab": {
          "base_uri": "https://localhost:8080/",
          "height": 1000
        },
        "id": "jm7o7w6z2wqm",
        "outputId": "3d7bc3ed-18d0-4977-b967-23bc0d47b58c"
      },
      "execution_count": 120,
      "outputs": [
        {
          "output_type": "error",
          "ename": "ValueError",
          "evalue": "could not convert string to float: 'AgCNO + C3H6O'",
          "traceback": [
            "\u001b[0;31m---------------------------------------------------------------------------\u001b[0m",
            "\u001b[0;31mValueError\u001b[0m                                Traceback (most recent call last)",
            "\u001b[0;32m<ipython-input-120-d6f3220e54f3>\u001b[0m in \u001b[0;36m<cell line: 0>\u001b[0;34m()\u001b[0m\n\u001b[1;32m      3\u001b[0m \u001b[0;31m# Apply SMOTE correctly\u001b[0m\u001b[0;34m\u001b[0m\u001b[0;34m\u001b[0m\u001b[0m\n\u001b[1;32m      4\u001b[0m \u001b[0msmote\u001b[0m \u001b[0;34m=\u001b[0m \u001b[0mSMOTE\u001b[0m\u001b[0;34m(\u001b[0m\u001b[0mrandom_state\u001b[0m\u001b[0;34m=\u001b[0m\u001b[0;36m42\u001b[0m\u001b[0;34m)\u001b[0m\u001b[0;34m\u001b[0m\u001b[0;34m\u001b[0m\u001b[0m\n\u001b[0;32m----> 5\u001b[0;31m \u001b[0mX_train_balanced\u001b[0m\u001b[0;34m,\u001b[0m \u001b[0my_train_balanced\u001b[0m \u001b[0;34m=\u001b[0m \u001b[0msmote\u001b[0m\u001b[0;34m.\u001b[0m\u001b[0mfit_resample\u001b[0m\u001b[0;34m(\u001b[0m\u001b[0mX_train\u001b[0m\u001b[0;34m,\u001b[0m \u001b[0my_train\u001b[0m\u001b[0;34m)\u001b[0m\u001b[0;34m\u001b[0m\u001b[0;34m\u001b[0m\u001b[0m\n\u001b[0m\u001b[1;32m      6\u001b[0m \u001b[0;34m\u001b[0m\u001b[0m\n\u001b[1;32m      7\u001b[0m \u001b[0;31m# Verify shapes after SMOTE\u001b[0m\u001b[0;34m\u001b[0m\u001b[0;34m\u001b[0m\u001b[0m\n",
            "\u001b[0;32m/usr/local/lib/python3.11/dist-packages/imblearn/base.py\u001b[0m in \u001b[0;36mfit_resample\u001b[0;34m(self, X, y, **params)\u001b[0m\n\u001b[1;32m    200\u001b[0m             \u001b[0mThe\u001b[0m \u001b[0mcorresponding\u001b[0m \u001b[0mlabel\u001b[0m \u001b[0mof\u001b[0m\u001b[0;31m \u001b[0m\u001b[0;31m`\u001b[0m\u001b[0mX_resampled\u001b[0m\u001b[0;31m`\u001b[0m\u001b[0;34m.\u001b[0m\u001b[0;34m\u001b[0m\u001b[0;34m\u001b[0m\u001b[0m\n\u001b[1;32m    201\u001b[0m         \"\"\"\n\u001b[0;32m--> 202\u001b[0;31m         \u001b[0;32mreturn\u001b[0m \u001b[0msuper\u001b[0m\u001b[0;34m(\u001b[0m\u001b[0;34m)\u001b[0m\u001b[0;34m.\u001b[0m\u001b[0mfit_resample\u001b[0m\u001b[0;34m(\u001b[0m\u001b[0mX\u001b[0m\u001b[0;34m,\u001b[0m \u001b[0my\u001b[0m\u001b[0;34m,\u001b[0m \u001b[0;34m**\u001b[0m\u001b[0mparams\u001b[0m\u001b[0;34m)\u001b[0m\u001b[0;34m\u001b[0m\u001b[0;34m\u001b[0m\u001b[0m\n\u001b[0m\u001b[1;32m    203\u001b[0m \u001b[0;34m\u001b[0m\u001b[0m\n\u001b[1;32m    204\u001b[0m     \u001b[0;32mdef\u001b[0m \u001b[0m_more_tags\u001b[0m\u001b[0;34m(\u001b[0m\u001b[0mself\u001b[0m\u001b[0;34m)\u001b[0m\u001b[0;34m:\u001b[0m\u001b[0;34m\u001b[0m\u001b[0;34m\u001b[0m\u001b[0m\n",
            "\u001b[0;32m/usr/local/lib/python3.11/dist-packages/sklearn/base.py\u001b[0m in \u001b[0;36mwrapper\u001b[0;34m(estimator, *args, **kwargs)\u001b[0m\n\u001b[1;32m   1387\u001b[0m                 )\n\u001b[1;32m   1388\u001b[0m             ):\n\u001b[0;32m-> 1389\u001b[0;31m                 \u001b[0;32mreturn\u001b[0m \u001b[0mfit_method\u001b[0m\u001b[0;34m(\u001b[0m\u001b[0mestimator\u001b[0m\u001b[0;34m,\u001b[0m \u001b[0;34m*\u001b[0m\u001b[0margs\u001b[0m\u001b[0;34m,\u001b[0m \u001b[0;34m**\u001b[0m\u001b[0mkwargs\u001b[0m\u001b[0;34m)\u001b[0m\u001b[0;34m\u001b[0m\u001b[0;34m\u001b[0m\u001b[0m\n\u001b[0m\u001b[1;32m   1390\u001b[0m \u001b[0;34m\u001b[0m\u001b[0m\n\u001b[1;32m   1391\u001b[0m         \u001b[0;32mreturn\u001b[0m \u001b[0mwrapper\u001b[0m\u001b[0;34m\u001b[0m\u001b[0;34m\u001b[0m\u001b[0m\n",
            "\u001b[0;32m/usr/local/lib/python3.11/dist-packages/imblearn/base.py\u001b[0m in \u001b[0;36mfit_resample\u001b[0;34m(self, X, y, **params)\u001b[0m\n\u001b[1;32m     97\u001b[0m         \u001b[0mcheck_classification_targets\u001b[0m\u001b[0;34m(\u001b[0m\u001b[0my\u001b[0m\u001b[0;34m)\u001b[0m\u001b[0;34m\u001b[0m\u001b[0;34m\u001b[0m\u001b[0m\n\u001b[1;32m     98\u001b[0m         \u001b[0marrays_transformer\u001b[0m \u001b[0;34m=\u001b[0m \u001b[0mArraysTransformer\u001b[0m\u001b[0;34m(\u001b[0m\u001b[0mX\u001b[0m\u001b[0;34m,\u001b[0m \u001b[0my\u001b[0m\u001b[0;34m)\u001b[0m\u001b[0;34m\u001b[0m\u001b[0;34m\u001b[0m\u001b[0m\n\u001b[0;32m---> 99\u001b[0;31m         \u001b[0mX\u001b[0m\u001b[0;34m,\u001b[0m \u001b[0my\u001b[0m\u001b[0;34m,\u001b[0m \u001b[0mbinarize_y\u001b[0m \u001b[0;34m=\u001b[0m \u001b[0mself\u001b[0m\u001b[0;34m.\u001b[0m\u001b[0m_check_X_y\u001b[0m\u001b[0;34m(\u001b[0m\u001b[0mX\u001b[0m\u001b[0;34m,\u001b[0m \u001b[0my\u001b[0m\u001b[0;34m)\u001b[0m\u001b[0;34m\u001b[0m\u001b[0;34m\u001b[0m\u001b[0m\n\u001b[0m\u001b[1;32m    100\u001b[0m \u001b[0;34m\u001b[0m\u001b[0m\n\u001b[1;32m    101\u001b[0m         self.sampling_strategy_ = check_sampling_strategy(\n",
            "\u001b[0;32m/usr/local/lib/python3.11/dist-packages/imblearn/base.py\u001b[0m in \u001b[0;36m_check_X_y\u001b[0;34m(self, X, y, accept_sparse)\u001b[0m\n\u001b[1;32m    155\u001b[0m             \u001b[0maccept_sparse\u001b[0m \u001b[0;34m=\u001b[0m \u001b[0;34m[\u001b[0m\u001b[0;34m\"csr\"\u001b[0m\u001b[0;34m,\u001b[0m \u001b[0;34m\"csc\"\u001b[0m\u001b[0;34m]\u001b[0m\u001b[0;34m\u001b[0m\u001b[0;34m\u001b[0m\u001b[0m\n\u001b[1;32m    156\u001b[0m         \u001b[0my\u001b[0m\u001b[0;34m,\u001b[0m \u001b[0mbinarize_y\u001b[0m \u001b[0;34m=\u001b[0m \u001b[0mcheck_target_type\u001b[0m\u001b[0;34m(\u001b[0m\u001b[0my\u001b[0m\u001b[0;34m,\u001b[0m \u001b[0mindicate_one_vs_all\u001b[0m\u001b[0;34m=\u001b[0m\u001b[0;32mTrue\u001b[0m\u001b[0;34m)\u001b[0m\u001b[0;34m\u001b[0m\u001b[0;34m\u001b[0m\u001b[0m\n\u001b[0;32m--> 157\u001b[0;31m         \u001b[0mX\u001b[0m\u001b[0;34m,\u001b[0m \u001b[0my\u001b[0m \u001b[0;34m=\u001b[0m \u001b[0mvalidate_data\u001b[0m\u001b[0;34m(\u001b[0m\u001b[0mself\u001b[0m\u001b[0;34m,\u001b[0m \u001b[0mX\u001b[0m\u001b[0;34m=\u001b[0m\u001b[0mX\u001b[0m\u001b[0;34m,\u001b[0m \u001b[0my\u001b[0m\u001b[0;34m=\u001b[0m\u001b[0my\u001b[0m\u001b[0;34m,\u001b[0m \u001b[0mreset\u001b[0m\u001b[0;34m=\u001b[0m\u001b[0;32mTrue\u001b[0m\u001b[0;34m,\u001b[0m \u001b[0maccept_sparse\u001b[0m\u001b[0;34m=\u001b[0m\u001b[0maccept_sparse\u001b[0m\u001b[0;34m)\u001b[0m\u001b[0;34m\u001b[0m\u001b[0;34m\u001b[0m\u001b[0m\n\u001b[0m\u001b[1;32m    158\u001b[0m         \u001b[0;32mreturn\u001b[0m \u001b[0mX\u001b[0m\u001b[0;34m,\u001b[0m \u001b[0my\u001b[0m\u001b[0;34m,\u001b[0m \u001b[0mbinarize_y\u001b[0m\u001b[0;34m\u001b[0m\u001b[0;34m\u001b[0m\u001b[0m\n\u001b[1;32m    159\u001b[0m \u001b[0;34m\u001b[0m\u001b[0m\n",
            "\u001b[0;32m/usr/local/lib/python3.11/dist-packages/sklearn/utils/validation.py\u001b[0m in \u001b[0;36mvalidate_data\u001b[0;34m(_estimator, X, y, reset, validate_separately, skip_check_array, **check_params)\u001b[0m\n\u001b[1;32m   2959\u001b[0m             \u001b[0my\u001b[0m \u001b[0;34m=\u001b[0m \u001b[0mcheck_array\u001b[0m\u001b[0;34m(\u001b[0m\u001b[0my\u001b[0m\u001b[0;34m,\u001b[0m \u001b[0minput_name\u001b[0m\u001b[0;34m=\u001b[0m\u001b[0;34m\"y\"\u001b[0m\u001b[0;34m,\u001b[0m \u001b[0;34m**\u001b[0m\u001b[0mcheck_y_params\u001b[0m\u001b[0;34m)\u001b[0m\u001b[0;34m\u001b[0m\u001b[0;34m\u001b[0m\u001b[0m\n\u001b[1;32m   2960\u001b[0m         \u001b[0;32melse\u001b[0m\u001b[0;34m:\u001b[0m\u001b[0;34m\u001b[0m\u001b[0;34m\u001b[0m\u001b[0m\n\u001b[0;32m-> 2961\u001b[0;31m             \u001b[0mX\u001b[0m\u001b[0;34m,\u001b[0m \u001b[0my\u001b[0m \u001b[0;34m=\u001b[0m \u001b[0mcheck_X_y\u001b[0m\u001b[0;34m(\u001b[0m\u001b[0mX\u001b[0m\u001b[0;34m,\u001b[0m \u001b[0my\u001b[0m\u001b[0;34m,\u001b[0m \u001b[0;34m**\u001b[0m\u001b[0mcheck_params\u001b[0m\u001b[0;34m)\u001b[0m\u001b[0;34m\u001b[0m\u001b[0;34m\u001b[0m\u001b[0m\n\u001b[0m\u001b[1;32m   2962\u001b[0m         \u001b[0mout\u001b[0m \u001b[0;34m=\u001b[0m \u001b[0mX\u001b[0m\u001b[0;34m,\u001b[0m \u001b[0my\u001b[0m\u001b[0;34m\u001b[0m\u001b[0;34m\u001b[0m\u001b[0m\n\u001b[1;32m   2963\u001b[0m \u001b[0;34m\u001b[0m\u001b[0m\n",
            "\u001b[0;32m/usr/local/lib/python3.11/dist-packages/sklearn/utils/validation.py\u001b[0m in \u001b[0;36mcheck_X_y\u001b[0;34m(X, y, accept_sparse, accept_large_sparse, dtype, order, copy, force_writeable, force_all_finite, ensure_all_finite, ensure_2d, allow_nd, multi_output, ensure_min_samples, ensure_min_features, y_numeric, estimator)\u001b[0m\n\u001b[1;32m   1368\u001b[0m     \u001b[0mensure_all_finite\u001b[0m \u001b[0;34m=\u001b[0m \u001b[0m_deprecate_force_all_finite\u001b[0m\u001b[0;34m(\u001b[0m\u001b[0mforce_all_finite\u001b[0m\u001b[0;34m,\u001b[0m \u001b[0mensure_all_finite\u001b[0m\u001b[0;34m)\u001b[0m\u001b[0;34m\u001b[0m\u001b[0;34m\u001b[0m\u001b[0m\n\u001b[1;32m   1369\u001b[0m \u001b[0;34m\u001b[0m\u001b[0m\n\u001b[0;32m-> 1370\u001b[0;31m     X = check_array(\n\u001b[0m\u001b[1;32m   1371\u001b[0m         \u001b[0mX\u001b[0m\u001b[0;34m,\u001b[0m\u001b[0;34m\u001b[0m\u001b[0;34m\u001b[0m\u001b[0m\n\u001b[1;32m   1372\u001b[0m         \u001b[0maccept_sparse\u001b[0m\u001b[0;34m=\u001b[0m\u001b[0maccept_sparse\u001b[0m\u001b[0;34m,\u001b[0m\u001b[0;34m\u001b[0m\u001b[0;34m\u001b[0m\u001b[0m\n",
            "\u001b[0;32m/usr/local/lib/python3.11/dist-packages/sklearn/utils/validation.py\u001b[0m in \u001b[0;36mcheck_array\u001b[0;34m(array, accept_sparse, accept_large_sparse, dtype, order, copy, force_writeable, force_all_finite, ensure_all_finite, ensure_non_negative, ensure_2d, allow_nd, ensure_min_samples, ensure_min_features, estimator, input_name)\u001b[0m\n\u001b[1;32m   1053\u001b[0m                     \u001b[0marray\u001b[0m \u001b[0;34m=\u001b[0m \u001b[0mxp\u001b[0m\u001b[0;34m.\u001b[0m\u001b[0mastype\u001b[0m\u001b[0;34m(\u001b[0m\u001b[0marray\u001b[0m\u001b[0;34m,\u001b[0m \u001b[0mdtype\u001b[0m\u001b[0;34m,\u001b[0m \u001b[0mcopy\u001b[0m\u001b[0;34m=\u001b[0m\u001b[0;32mFalse\u001b[0m\u001b[0;34m)\u001b[0m\u001b[0;34m\u001b[0m\u001b[0;34m\u001b[0m\u001b[0m\n\u001b[1;32m   1054\u001b[0m                 \u001b[0;32melse\u001b[0m\u001b[0;34m:\u001b[0m\u001b[0;34m\u001b[0m\u001b[0;34m\u001b[0m\u001b[0m\n\u001b[0;32m-> 1055\u001b[0;31m                     \u001b[0marray\u001b[0m \u001b[0;34m=\u001b[0m \u001b[0m_asarray_with_order\u001b[0m\u001b[0;34m(\u001b[0m\u001b[0marray\u001b[0m\u001b[0;34m,\u001b[0m \u001b[0morder\u001b[0m\u001b[0;34m=\u001b[0m\u001b[0morder\u001b[0m\u001b[0;34m,\u001b[0m \u001b[0mdtype\u001b[0m\u001b[0;34m=\u001b[0m\u001b[0mdtype\u001b[0m\u001b[0;34m,\u001b[0m \u001b[0mxp\u001b[0m\u001b[0;34m=\u001b[0m\u001b[0mxp\u001b[0m\u001b[0;34m)\u001b[0m\u001b[0;34m\u001b[0m\u001b[0;34m\u001b[0m\u001b[0m\n\u001b[0m\u001b[1;32m   1056\u001b[0m             \u001b[0;32mexcept\u001b[0m \u001b[0mComplexWarning\u001b[0m \u001b[0;32mas\u001b[0m \u001b[0mcomplex_warning\u001b[0m\u001b[0;34m:\u001b[0m\u001b[0;34m\u001b[0m\u001b[0;34m\u001b[0m\u001b[0m\n\u001b[1;32m   1057\u001b[0m                 raise ValueError(\n",
            "\u001b[0;32m/usr/local/lib/python3.11/dist-packages/sklearn/utils/_array_api.py\u001b[0m in \u001b[0;36m_asarray_with_order\u001b[0;34m(array, dtype, order, copy, xp, device)\u001b[0m\n\u001b[1;32m    837\u001b[0m             \u001b[0marray\u001b[0m \u001b[0;34m=\u001b[0m \u001b[0mnumpy\u001b[0m\u001b[0;34m.\u001b[0m\u001b[0marray\u001b[0m\u001b[0;34m(\u001b[0m\u001b[0marray\u001b[0m\u001b[0;34m,\u001b[0m \u001b[0morder\u001b[0m\u001b[0;34m=\u001b[0m\u001b[0morder\u001b[0m\u001b[0;34m,\u001b[0m \u001b[0mdtype\u001b[0m\u001b[0;34m=\u001b[0m\u001b[0mdtype\u001b[0m\u001b[0;34m)\u001b[0m\u001b[0;34m\u001b[0m\u001b[0;34m\u001b[0m\u001b[0m\n\u001b[1;32m    838\u001b[0m         \u001b[0;32melse\u001b[0m\u001b[0;34m:\u001b[0m\u001b[0;34m\u001b[0m\u001b[0;34m\u001b[0m\u001b[0m\n\u001b[0;32m--> 839\u001b[0;31m             \u001b[0marray\u001b[0m \u001b[0;34m=\u001b[0m \u001b[0mnumpy\u001b[0m\u001b[0;34m.\u001b[0m\u001b[0masarray\u001b[0m\u001b[0;34m(\u001b[0m\u001b[0marray\u001b[0m\u001b[0;34m,\u001b[0m \u001b[0morder\u001b[0m\u001b[0;34m=\u001b[0m\u001b[0morder\u001b[0m\u001b[0;34m,\u001b[0m \u001b[0mdtype\u001b[0m\u001b[0;34m=\u001b[0m\u001b[0mdtype\u001b[0m\u001b[0;34m)\u001b[0m\u001b[0;34m\u001b[0m\u001b[0;34m\u001b[0m\u001b[0m\n\u001b[0m\u001b[1;32m    840\u001b[0m \u001b[0;34m\u001b[0m\u001b[0m\n\u001b[1;32m    841\u001b[0m         \u001b[0;31m# At this point array is a NumPy ndarray. We convert it to an array\u001b[0m\u001b[0;34m\u001b[0m\u001b[0;34m\u001b[0m\u001b[0m\n",
            "\u001b[0;32m/usr/local/lib/python3.11/dist-packages/pandas/core/generic.py\u001b[0m in \u001b[0;36m__array__\u001b[0;34m(self, dtype, copy)\u001b[0m\n\u001b[1;32m   2151\u001b[0m     ) -> np.ndarray:\n\u001b[1;32m   2152\u001b[0m         \u001b[0mvalues\u001b[0m \u001b[0;34m=\u001b[0m \u001b[0mself\u001b[0m\u001b[0;34m.\u001b[0m\u001b[0m_values\u001b[0m\u001b[0;34m\u001b[0m\u001b[0;34m\u001b[0m\u001b[0m\n\u001b[0;32m-> 2153\u001b[0;31m         \u001b[0marr\u001b[0m \u001b[0;34m=\u001b[0m \u001b[0mnp\u001b[0m\u001b[0;34m.\u001b[0m\u001b[0masarray\u001b[0m\u001b[0;34m(\u001b[0m\u001b[0mvalues\u001b[0m\u001b[0;34m,\u001b[0m \u001b[0mdtype\u001b[0m\u001b[0;34m=\u001b[0m\u001b[0mdtype\u001b[0m\u001b[0;34m)\u001b[0m\u001b[0;34m\u001b[0m\u001b[0;34m\u001b[0m\u001b[0m\n\u001b[0m\u001b[1;32m   2154\u001b[0m         if (\n\u001b[1;32m   2155\u001b[0m             \u001b[0mastype_is_view\u001b[0m\u001b[0;34m(\u001b[0m\u001b[0mvalues\u001b[0m\u001b[0;34m.\u001b[0m\u001b[0mdtype\u001b[0m\u001b[0;34m,\u001b[0m \u001b[0marr\u001b[0m\u001b[0;34m.\u001b[0m\u001b[0mdtype\u001b[0m\u001b[0;34m)\u001b[0m\u001b[0;34m\u001b[0m\u001b[0;34m\u001b[0m\u001b[0m\n",
            "\u001b[0;31mValueError\u001b[0m: could not convert string to float: 'AgCNO + C3H6O'"
          ]
        }
      ]
    },
    {
      "cell_type": "code",
      "source": [
        "from sklearn.ensemble import RandomForestClassifier\n",
        "from sklearn.metrics import classification_report, accuracy_score\n",
        "\n",
        "# Train Random Forest model\n",
        "rf_model = RandomForestClassifier(n_estimators=100, random_state=42)\n",
        "rf_model.fit(X_train, y_train)\n",
        "\n",
        "# Make predictions\n",
        "y_pred = rf_model.predict(X_test)\n",
        "\n",
        "# Evaluate performance\n",
        "print(\"📊 Classification Report:\\n\", classification_report(y_test, y_pred))\n",
        "print(\"✅ Random Forest Accuracy:\", accuracy_score(y_test, y_pred))\n"
      ],
      "metadata": {
        "colab": {
          "base_uri": "https://localhost:8080/",
          "height": 356
        },
        "id": "3JmV2tWUwcRf",
        "outputId": "21e40525-c46e-4589-e38a-e10e13d631e3"
      },
      "execution_count": 119,
      "outputs": [
        {
          "output_type": "error",
          "ename": "ValueError",
          "evalue": "could not convert string to float: 'AgCNO + C3H6O'",
          "traceback": [
            "\u001b[0;31m---------------------------------------------------------------------------\u001b[0m",
            "\u001b[0;31mValueError\u001b[0m                                Traceback (most recent call last)",
            "\u001b[0;32m<ipython-input-119-616a997ecef1>\u001b[0m in \u001b[0;36m<cell line: 0>\u001b[0;34m()\u001b[0m\n\u001b[1;32m      4\u001b[0m \u001b[0;31m# Train Random Forest model\u001b[0m\u001b[0;34m\u001b[0m\u001b[0;34m\u001b[0m\u001b[0m\n\u001b[1;32m      5\u001b[0m \u001b[0mrf_model\u001b[0m \u001b[0;34m=\u001b[0m \u001b[0mRandomForestClassifier\u001b[0m\u001b[0;34m(\u001b[0m\u001b[0mn_estimators\u001b[0m\u001b[0;34m=\u001b[0m\u001b[0;36m100\u001b[0m\u001b[0;34m,\u001b[0m \u001b[0mrandom_state\u001b[0m\u001b[0;34m=\u001b[0m\u001b[0;36m42\u001b[0m\u001b[0;34m)\u001b[0m\u001b[0;34m\u001b[0m\u001b[0;34m\u001b[0m\u001b[0m\n\u001b[0;32m----> 6\u001b[0;31m \u001b[0mrf_model\u001b[0m\u001b[0;34m.\u001b[0m\u001b[0mfit\u001b[0m\u001b[0;34m(\u001b[0m\u001b[0mX_train\u001b[0m\u001b[0;34m,\u001b[0m \u001b[0my_train\u001b[0m\u001b[0;34m)\u001b[0m\u001b[0;34m\u001b[0m\u001b[0;34m\u001b[0m\u001b[0m\n\u001b[0m\u001b[1;32m      7\u001b[0m \u001b[0;34m\u001b[0m\u001b[0m\n\u001b[1;32m      8\u001b[0m \u001b[0;31m# Make predictions\u001b[0m\u001b[0;34m\u001b[0m\u001b[0;34m\u001b[0m\u001b[0m\n",
            "\u001b[0;32m/usr/local/lib/python3.11/dist-packages/sklearn/base.py\u001b[0m in \u001b[0;36mwrapper\u001b[0;34m(estimator, *args, **kwargs)\u001b[0m\n\u001b[1;32m   1387\u001b[0m                 )\n\u001b[1;32m   1388\u001b[0m             ):\n\u001b[0;32m-> 1389\u001b[0;31m                 \u001b[0;32mreturn\u001b[0m \u001b[0mfit_method\u001b[0m\u001b[0;34m(\u001b[0m\u001b[0mestimator\u001b[0m\u001b[0;34m,\u001b[0m \u001b[0;34m*\u001b[0m\u001b[0margs\u001b[0m\u001b[0;34m,\u001b[0m \u001b[0;34m**\u001b[0m\u001b[0mkwargs\u001b[0m\u001b[0;34m)\u001b[0m\u001b[0;34m\u001b[0m\u001b[0;34m\u001b[0m\u001b[0m\n\u001b[0m\u001b[1;32m   1390\u001b[0m \u001b[0;34m\u001b[0m\u001b[0m\n\u001b[1;32m   1391\u001b[0m         \u001b[0;32mreturn\u001b[0m \u001b[0mwrapper\u001b[0m\u001b[0;34m\u001b[0m\u001b[0;34m\u001b[0m\u001b[0m\n",
            "\u001b[0;32m/usr/local/lib/python3.11/dist-packages/sklearn/ensemble/_forest.py\u001b[0m in \u001b[0;36mfit\u001b[0;34m(self, X, y, sample_weight)\u001b[0m\n\u001b[1;32m    358\u001b[0m             \u001b[0;32mraise\u001b[0m \u001b[0mValueError\u001b[0m\u001b[0;34m(\u001b[0m\u001b[0;34m\"sparse multilabel-indicator for y is not supported.\"\u001b[0m\u001b[0;34m)\u001b[0m\u001b[0;34m\u001b[0m\u001b[0;34m\u001b[0m\u001b[0m\n\u001b[1;32m    359\u001b[0m \u001b[0;34m\u001b[0m\u001b[0m\n\u001b[0;32m--> 360\u001b[0;31m         X, y = validate_data(\n\u001b[0m\u001b[1;32m    361\u001b[0m             \u001b[0mself\u001b[0m\u001b[0;34m,\u001b[0m\u001b[0;34m\u001b[0m\u001b[0;34m\u001b[0m\u001b[0m\n\u001b[1;32m    362\u001b[0m             \u001b[0mX\u001b[0m\u001b[0;34m,\u001b[0m\u001b[0;34m\u001b[0m\u001b[0;34m\u001b[0m\u001b[0m\n",
            "\u001b[0;32m/usr/local/lib/python3.11/dist-packages/sklearn/utils/validation.py\u001b[0m in \u001b[0;36mvalidate_data\u001b[0;34m(_estimator, X, y, reset, validate_separately, skip_check_array, **check_params)\u001b[0m\n\u001b[1;32m   2959\u001b[0m             \u001b[0my\u001b[0m \u001b[0;34m=\u001b[0m \u001b[0mcheck_array\u001b[0m\u001b[0;34m(\u001b[0m\u001b[0my\u001b[0m\u001b[0;34m,\u001b[0m \u001b[0minput_name\u001b[0m\u001b[0;34m=\u001b[0m\u001b[0;34m\"y\"\u001b[0m\u001b[0;34m,\u001b[0m \u001b[0;34m**\u001b[0m\u001b[0mcheck_y_params\u001b[0m\u001b[0;34m)\u001b[0m\u001b[0;34m\u001b[0m\u001b[0;34m\u001b[0m\u001b[0m\n\u001b[1;32m   2960\u001b[0m         \u001b[0;32melse\u001b[0m\u001b[0;34m:\u001b[0m\u001b[0;34m\u001b[0m\u001b[0;34m\u001b[0m\u001b[0m\n\u001b[0;32m-> 2961\u001b[0;31m             \u001b[0mX\u001b[0m\u001b[0;34m,\u001b[0m \u001b[0my\u001b[0m \u001b[0;34m=\u001b[0m \u001b[0mcheck_X_y\u001b[0m\u001b[0;34m(\u001b[0m\u001b[0mX\u001b[0m\u001b[0;34m,\u001b[0m \u001b[0my\u001b[0m\u001b[0;34m,\u001b[0m \u001b[0;34m**\u001b[0m\u001b[0mcheck_params\u001b[0m\u001b[0;34m)\u001b[0m\u001b[0;34m\u001b[0m\u001b[0;34m\u001b[0m\u001b[0m\n\u001b[0m\u001b[1;32m   2962\u001b[0m         \u001b[0mout\u001b[0m \u001b[0;34m=\u001b[0m \u001b[0mX\u001b[0m\u001b[0;34m,\u001b[0m \u001b[0my\u001b[0m\u001b[0;34m\u001b[0m\u001b[0;34m\u001b[0m\u001b[0m\n\u001b[1;32m   2963\u001b[0m \u001b[0;34m\u001b[0m\u001b[0m\n",
            "\u001b[0;32m/usr/local/lib/python3.11/dist-packages/sklearn/utils/validation.py\u001b[0m in \u001b[0;36mcheck_X_y\u001b[0;34m(X, y, accept_sparse, accept_large_sparse, dtype, order, copy, force_writeable, force_all_finite, ensure_all_finite, ensure_2d, allow_nd, multi_output, ensure_min_samples, ensure_min_features, y_numeric, estimator)\u001b[0m\n\u001b[1;32m   1368\u001b[0m     \u001b[0mensure_all_finite\u001b[0m \u001b[0;34m=\u001b[0m \u001b[0m_deprecate_force_all_finite\u001b[0m\u001b[0;34m(\u001b[0m\u001b[0mforce_all_finite\u001b[0m\u001b[0;34m,\u001b[0m \u001b[0mensure_all_finite\u001b[0m\u001b[0;34m)\u001b[0m\u001b[0;34m\u001b[0m\u001b[0;34m\u001b[0m\u001b[0m\n\u001b[1;32m   1369\u001b[0m \u001b[0;34m\u001b[0m\u001b[0m\n\u001b[0;32m-> 1370\u001b[0;31m     X = check_array(\n\u001b[0m\u001b[1;32m   1371\u001b[0m         \u001b[0mX\u001b[0m\u001b[0;34m,\u001b[0m\u001b[0;34m\u001b[0m\u001b[0;34m\u001b[0m\u001b[0m\n\u001b[1;32m   1372\u001b[0m         \u001b[0maccept_sparse\u001b[0m\u001b[0;34m=\u001b[0m\u001b[0maccept_sparse\u001b[0m\u001b[0;34m,\u001b[0m\u001b[0;34m\u001b[0m\u001b[0;34m\u001b[0m\u001b[0m\n",
            "\u001b[0;32m/usr/local/lib/python3.11/dist-packages/sklearn/utils/validation.py\u001b[0m in \u001b[0;36mcheck_array\u001b[0;34m(array, accept_sparse, accept_large_sparse, dtype, order, copy, force_writeable, force_all_finite, ensure_all_finite, ensure_non_negative, ensure_2d, allow_nd, ensure_min_samples, ensure_min_features, estimator, input_name)\u001b[0m\n\u001b[1;32m   1053\u001b[0m                     \u001b[0marray\u001b[0m \u001b[0;34m=\u001b[0m \u001b[0mxp\u001b[0m\u001b[0;34m.\u001b[0m\u001b[0mastype\u001b[0m\u001b[0;34m(\u001b[0m\u001b[0marray\u001b[0m\u001b[0;34m,\u001b[0m \u001b[0mdtype\u001b[0m\u001b[0;34m,\u001b[0m \u001b[0mcopy\u001b[0m\u001b[0;34m=\u001b[0m\u001b[0;32mFalse\u001b[0m\u001b[0;34m)\u001b[0m\u001b[0;34m\u001b[0m\u001b[0;34m\u001b[0m\u001b[0m\n\u001b[1;32m   1054\u001b[0m                 \u001b[0;32melse\u001b[0m\u001b[0;34m:\u001b[0m\u001b[0;34m\u001b[0m\u001b[0;34m\u001b[0m\u001b[0m\n\u001b[0;32m-> 1055\u001b[0;31m                     \u001b[0marray\u001b[0m \u001b[0;34m=\u001b[0m \u001b[0m_asarray_with_order\u001b[0m\u001b[0;34m(\u001b[0m\u001b[0marray\u001b[0m\u001b[0;34m,\u001b[0m \u001b[0morder\u001b[0m\u001b[0;34m=\u001b[0m\u001b[0morder\u001b[0m\u001b[0;34m,\u001b[0m \u001b[0mdtype\u001b[0m\u001b[0;34m=\u001b[0m\u001b[0mdtype\u001b[0m\u001b[0;34m,\u001b[0m \u001b[0mxp\u001b[0m\u001b[0;34m=\u001b[0m\u001b[0mxp\u001b[0m\u001b[0;34m)\u001b[0m\u001b[0;34m\u001b[0m\u001b[0;34m\u001b[0m\u001b[0m\n\u001b[0m\u001b[1;32m   1056\u001b[0m             \u001b[0;32mexcept\u001b[0m \u001b[0mComplexWarning\u001b[0m \u001b[0;32mas\u001b[0m \u001b[0mcomplex_warning\u001b[0m\u001b[0;34m:\u001b[0m\u001b[0;34m\u001b[0m\u001b[0;34m\u001b[0m\u001b[0m\n\u001b[1;32m   1057\u001b[0m                 raise ValueError(\n",
            "\u001b[0;32m/usr/local/lib/python3.11/dist-packages/sklearn/utils/_array_api.py\u001b[0m in \u001b[0;36m_asarray_with_order\u001b[0;34m(array, dtype, order, copy, xp, device)\u001b[0m\n\u001b[1;32m    837\u001b[0m             \u001b[0marray\u001b[0m \u001b[0;34m=\u001b[0m \u001b[0mnumpy\u001b[0m\u001b[0;34m.\u001b[0m\u001b[0marray\u001b[0m\u001b[0;34m(\u001b[0m\u001b[0marray\u001b[0m\u001b[0;34m,\u001b[0m \u001b[0morder\u001b[0m\u001b[0;34m=\u001b[0m\u001b[0morder\u001b[0m\u001b[0;34m,\u001b[0m \u001b[0mdtype\u001b[0m\u001b[0;34m=\u001b[0m\u001b[0mdtype\u001b[0m\u001b[0;34m)\u001b[0m\u001b[0;34m\u001b[0m\u001b[0;34m\u001b[0m\u001b[0m\n\u001b[1;32m    838\u001b[0m         \u001b[0;32melse\u001b[0m\u001b[0;34m:\u001b[0m\u001b[0;34m\u001b[0m\u001b[0;34m\u001b[0m\u001b[0m\n\u001b[0;32m--> 839\u001b[0;31m             \u001b[0marray\u001b[0m \u001b[0;34m=\u001b[0m \u001b[0mnumpy\u001b[0m\u001b[0;34m.\u001b[0m\u001b[0masarray\u001b[0m\u001b[0;34m(\u001b[0m\u001b[0marray\u001b[0m\u001b[0;34m,\u001b[0m \u001b[0morder\u001b[0m\u001b[0;34m=\u001b[0m\u001b[0morder\u001b[0m\u001b[0;34m,\u001b[0m \u001b[0mdtype\u001b[0m\u001b[0;34m=\u001b[0m\u001b[0mdtype\u001b[0m\u001b[0;34m)\u001b[0m\u001b[0;34m\u001b[0m\u001b[0;34m\u001b[0m\u001b[0m\n\u001b[0m\u001b[1;32m    840\u001b[0m \u001b[0;34m\u001b[0m\u001b[0m\n\u001b[1;32m    841\u001b[0m         \u001b[0;31m# At this point array is a NumPy ndarray. We convert it to an array\u001b[0m\u001b[0;34m\u001b[0m\u001b[0;34m\u001b[0m\u001b[0m\n",
            "\u001b[0;32m/usr/local/lib/python3.11/dist-packages/pandas/core/generic.py\u001b[0m in \u001b[0;36m__array__\u001b[0;34m(self, dtype, copy)\u001b[0m\n\u001b[1;32m   2151\u001b[0m     ) -> np.ndarray:\n\u001b[1;32m   2152\u001b[0m         \u001b[0mvalues\u001b[0m \u001b[0;34m=\u001b[0m \u001b[0mself\u001b[0m\u001b[0;34m.\u001b[0m\u001b[0m_values\u001b[0m\u001b[0;34m\u001b[0m\u001b[0;34m\u001b[0m\u001b[0m\n\u001b[0;32m-> 2153\u001b[0;31m         \u001b[0marr\u001b[0m \u001b[0;34m=\u001b[0m \u001b[0mnp\u001b[0m\u001b[0;34m.\u001b[0m\u001b[0masarray\u001b[0m\u001b[0;34m(\u001b[0m\u001b[0mvalues\u001b[0m\u001b[0;34m,\u001b[0m \u001b[0mdtype\u001b[0m\u001b[0;34m=\u001b[0m\u001b[0mdtype\u001b[0m\u001b[0;34m)\u001b[0m\u001b[0;34m\u001b[0m\u001b[0;34m\u001b[0m\u001b[0m\n\u001b[0m\u001b[1;32m   2154\u001b[0m         if (\n\u001b[1;32m   2155\u001b[0m             \u001b[0mastype_is_view\u001b[0m\u001b[0;34m(\u001b[0m\u001b[0mvalues\u001b[0m\u001b[0;34m.\u001b[0m\u001b[0mdtype\u001b[0m\u001b[0;34m,\u001b[0m \u001b[0marr\u001b[0m\u001b[0;34m.\u001b[0m\u001b[0mdtype\u001b[0m\u001b[0;34m)\u001b[0m\u001b[0;34m\u001b[0m\u001b[0;34m\u001b[0m\u001b[0m\n",
            "\u001b[0;31mValueError\u001b[0m: could not convert string to float: 'AgCNO + C3H6O'"
          ]
        }
      ]
    }
  ]
}