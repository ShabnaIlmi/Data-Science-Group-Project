{
  "nbformat": 4,
  "nbformat_minor": 0,
  "metadata": {
    "colab": {
      "provenance": [],
      "authorship_tag": "ABX9TyOeStDBBFgrPYk5DFHVZHHY",
      "include_colab_link": true
    },
    "kernelspec": {
      "name": "python3",
      "display_name": "Python 3"
    },
    "language_info": {
      "name": "python"
    }
  },
  "cells": [
    {
      "cell_type": "markdown",
      "metadata": {
        "id": "view-in-github",
        "colab_type": "text"
      },
      "source": [
        "<a href=\"https://colab.research.google.com/github/ShabnaIlmi/Data-Science-Group-Project/blob/Future_Risk_prediction/DSGP_startover.ipynb\" target=\"_parent\"><img src=\"https://colab.research.google.com/assets/colab-badge.svg\" alt=\"Open In Colab\"/></a>"
      ]
    },
    {
      "cell_type": "code",
      "execution_count": null,
      "metadata": {
        "id": "59QL0yYX20_8"
      },
      "outputs": [],
      "source": [
        "import pandas as pd\n",
        "\n",
        "# Load datasets\n",
        "file1 = \"/mnt/data/recipes_nodup.csv\"\n",
        "file2 = \"/mnt/data/chem.csv\"\n",
        "\n",
        "df1 = pd.read_csv(file1)\n",
        "df2 = pd.read_csv(file2)\n",
        "\n",
        "# Display first few rows\n",
        "print(\"📌 recipes_nodup.csv\")\n",
        "print(df1.head(), \"\\n\\n\")\n",
        "\n",
        "print(\"📌 chem.csv\")\n",
        "print(df2.head(), \"\\n\\n\")\n",
        "\n",
        "# Check for missing values\n",
        "print(\"🔍 Missing values in recipes_nodup:\\n\", df1.isnull().sum(), \"\\n\")\n",
        "print(\"🔍 Missing values in chem:\\n\", df2.isnull().sum(), \"\\n\")\n"
      ]
    },
    {
      "cell_type": "code",
      "source": [
        "# Drop rows with too many missing values\n",
        "df1 = df1.dropna()\n",
        "df2 = df2.dropna()\n",
        "\n",
        "print(f\"📉 recipes_nodup: {df1.shape}, chem: {df2.shape}\")  # Check new sizes\n",
        "\n",
        "\n",
        "df1 = df1.drop_duplicates()\n",
        "df2 = df2.drop_duplicates()\n"
      ],
      "metadata": {
        "id": "4S6wKOY03Dvu"
      },
      "execution_count": null,
      "outputs": []
    },
    {
      "cell_type": "code",
      "source": [
        "from sklearn.feature_extraction.text import TfidfVectorizer\n",
        "\n",
        "vectorizer = TfidfVectorizer(max_features=500)  # Limit to top 500 words\n",
        "df1_tfidf = vectorizer.fit_transform(df1[\"Chemical Names\"]).toarray()\n",
        "\n",
        "# Convert to DataFrame\n",
        "df1_tfidf = pd.DataFrame(df1_tfidf, columns=vectorizer.get_feature_names_out())\n",
        "\n",
        "# Merge back to dataset\n",
        "df1 = pd.concat([df1, df1_tfidf], axis=1).drop(columns=[\"Chemical Names\"])\n"
      ],
      "metadata": {
        "id": "_PtJddX33I3N"
      },
      "execution_count": null,
      "outputs": []
    },
    {
      "cell_type": "code",
      "source": [
        "from sklearn.preprocessing import MinMaxScaler\n",
        "\n",
        "scaler = MinMaxScaler()\n",
        "df1[[\"Quantities\"]] = scaler.fit_transform(df1[[\"Quantities\"]])\n"
      ],
      "metadata": {
        "id": "S7p-6vry3LU1"
      },
      "execution_count": null,
      "outputs": []
    },
    {
      "cell_type": "code",
      "source": [
        "from sklearn.preprocessing import LabelEncoder\n",
        "\n",
        "label_encoder = LabelEncoder()\n",
        "df1[\"Risk Level Encoded\"] = label_encoder.fit_transform(df1[\"Risk Level\"])\n"
      ],
      "metadata": {
        "id": "VSyvn6pP3NaV"
      },
      "execution_count": null,
      "outputs": []
    },
    {
      "cell_type": "code",
      "source": [
        "from sklearn.preprocessing import LabelEncoder\n",
        "\n",
        "label_encoder = LabelEncoder()\n",
        "df1[\"Risk Level Encoded\"] = label_encoder.fit_transform(df1[\"Risk Level\"])\n"
      ],
      "metadata": {
        "id": "PuRctqRt3PY9"
      },
      "execution_count": null,
      "outputs": []
    },
    {
      "cell_type": "code",
      "source": [
        "df1.to_csv(\"/mnt/data/processed_data.csv\", index=False)\n",
        "print(\"✅ Processed data saved as processed_data.csv\")\n"
      ],
      "metadata": {
        "id": "s9jWzbx53Qt8"
      },
      "execution_count": null,
      "outputs": []
    }
  ]
}