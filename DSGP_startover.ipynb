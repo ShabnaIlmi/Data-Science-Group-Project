{
  "nbformat": 4,
  "nbformat_minor": 0,
  "metadata": {
    "colab": {
      "provenance": [],
      "authorship_tag": "ABX9TyPh5heDrtRUvtyy63ULLJ7n",
      "include_colab_link": true
    },
    "kernelspec": {
      "name": "python3",
      "display_name": "Python 3"
    },
    "language_info": {
      "name": "python"
    }
  },
  "cells": [
    {
      "cell_type": "markdown",
      "metadata": {
        "id": "view-in-github",
        "colab_type": "text"
      },
      "source": [
        "<a href=\"https://colab.research.google.com/github/ShabnaIlmi/Data-Science-Group-Project/blob/main/DSGP_startover.ipynb\" target=\"_parent\"><img src=\"https://colab.research.google.com/assets/colab-badge.svg\" alt=\"Open In Colab\"/></a>"
      ]
    },
    {
      "cell_type": "markdown",
      "source": [
        "**Load and Inspect the Data**"
      ],
      "metadata": {
        "id": "r5JpAA525fz1"
      }
    },
    {
      "cell_type": "code",
      "execution_count": 23,
      "metadata": {
        "colab": {
          "base_uri": "https://localhost:8080/"
        },
        "id": "59QL0yYX20_8",
        "outputId": "55e30e97-f57e-402e-bc13-bfd4e5ecd2f1"
      },
      "outputs": [
        {
          "output_type": "stream",
          "name": "stdout",
          "text": [
            "📌 recipes_nodup.csv:\n",
            "   Recipe ID                                    Chemical Names  \\\n",
            "0          1               Ephedrine + Red Phosphorus + Iodine   \n",
            "1          2             Toluene + Nitric Acid + Sulfuric Acid   \n",
            "2          3       Hydrogen Peroxide + Acetone + Sulfuric Acid   \n",
            "3          4  Ephedrine + Potassium Permanganate + Acetic Acid   \n",
            "4          5             Potassium Nitrate + Charcoal + Sulfur   \n",
            "\n",
            "                     Formulas   Quantities (g/mL)  \\\n",
            "0           C10H15NO + P + I2     30g + 15g + 10g   \n",
            "1         C7H8 + HNO3 + H2SO4  50mL + 30mL + 40mL   \n",
            "2        H2O2 + C3H6O + H2SO4   20mL + 30mL + 5mL   \n",
            "3  C10H15NO + KMnO4 + CH3COOH    25g + 10g + 50mL   \n",
            "4                KNO3 + C + S     75g + 15g + 10g   \n",
            "\n",
            "                         CAS Numbers    Solvent Used  \\\n",
            "0   299-42-3 + 7723-14-0 + 7553-56-2  Acetone, Ether   \n",
            "1   108-88-3 + 7697-37-2 + 7664-93-9             NaN   \n",
            "2    7722-84-1 + 67-64-1 + 7664-93-9             NaN   \n",
            "3     299-42-3 + 7722-64-7 + 64-19-7           Water   \n",
            "4  7757-79-1 + 7440-44-0 + 7704-34-9           Water   \n",
            "\n",
            "               Reaction Conditions Toxicity Level Flammability (Yes/No)  \\\n",
            "0       Reduction reaction at 40°C           High                   Yes   \n",
            "1                Nitration at 50°C           High                   Yes   \n",
            "2         Acidic catalysis at 10°C      Very High                   Yes   \n",
            "3  Oxidation reaction at room temp           High                    No   \n",
            "4              Grinding and mixing         Medium                    No   \n",
            "\n",
            "  Reactivity (Stable/Unstable)  ...  Environmental Hazard (Yes/No)  \\\n",
            "0                     Unstable  ...                            Yes   \n",
            "1                     Unstable  ...                            Yes   \n",
            "2                     Unstable  ...                            Yes   \n",
            "3                       Stable  ...                            Yes   \n",
            "4                       Stable  ...                            Yes   \n",
            "\n",
            "   Dual Use Potential (Yes/No)                  Intended Use  \\\n",
            "0                          Yes        Illegal drug synthesis   \n",
            "1                          Yes                 TNT synthesis   \n",
            "2                          Yes  Acetone Peroxide (Explosive)   \n",
            "3                          Yes       Methcathinone synthesis   \n",
            "4                          Yes      Fireworks & Black Powder   \n",
            "\n",
            "  Export Restriction (Yes/No) Controlled Substance (Yes/No)  \\\n",
            "0                         Yes                           Yes   \n",
            "1                         Yes                           Yes   \n",
            "2                         Yes                           Yes   \n",
            "3                         Yes                           Yes   \n",
            "4                         Yes                            No   \n",
            "\n",
            "  Risk Assessment Score (0-100) Regulatory Body  \\\n",
            "0                            95        DEA, FDA   \n",
            "1                            97        ATF, DOT   \n",
            "2                            99        ATF, DOT   \n",
            "3                            88        DEA, FDA   \n",
            "4                            70        ATF, DOT   \n",
            "\n",
            "   Compliance Status (Compliant/Non-compliant) Risk Category  \\\n",
            "0                                Non-compliant      Critical   \n",
            "1                                Non-compliant      Critical   \n",
            "2                                Non-compliant      Critical   \n",
            "3                                Non-compliant          High   \n",
            "4                                Non-compliant          High   \n",
            "\n",
            "  Risk Score (0-100)  \n",
            "0                 98  \n",
            "1                 99  \n",
            "2                 99  \n",
            "3                 90  \n",
            "4                 85  \n",
            "\n",
            "[5 rows x 22 columns] \n",
            "\n",
            "\n",
            "📌 chem.csv:\n",
            "   ID         Chemical name molarcular  formula  CAS number  \\\n",
            "0   1               Acetone                C3H6O    67-64-1   \n",
            "1   2             Acetylene                 C2H2    74-86-2   \n",
            "2   3         Acrylonitrile                C3H3N   107-13-1   \n",
            "3   4      Ammonium Nitrate               NH4NO3  6484-52-2   \n",
            "4   5  Ammonium Perchlorate              NH4ClO4  7790-98-9   \n",
            "\n",
            "                             applications  UN number       synonyms  \\\n",
            "0  Solvent, cleaning agent, paint thinner     1090.0      Propanone   \n",
            "1             Welding, chemical synthesis     1001.0         Ethyne   \n",
            "2            Plastic production, textiles     1093.0  Vinyl cyanide   \n",
            "3                  Fertilizer, explosives     1942.0         Nitram   \n",
            "4                 Rocket fuel, explosives     1442.0             AP   \n",
            "\n",
            "  Toxicity level  \n",
            "0            Low  \n",
            "1           High  \n",
            "2           High  \n",
            "3           High  \n",
            "4           High   \n",
            "\n",
            "\n",
            "🔍 recipes_nodup.csv Shape: (76, 22)\n",
            "🔍 chem.csv Shape: (401, 8)\n",
            "🛠 recipes_nodup Columns: Index(['Recipe ID', 'Chemical Names', 'Formulas', 'Quantities (g/mL)',\n",
            "       'CAS Numbers', 'Solvent Used', 'Reaction Conditions', 'Toxicity Level',\n",
            "       'Flammability (Yes/No)', 'Reactivity (Stable/Unstable)',\n",
            "       'Explosiveness (1-10)', 'Health Risk Score (0-100)',\n",
            "       'Environmental Hazard (Yes/No)', 'Dual Use Potential (Yes/No)',\n",
            "       'Intended Use', 'Export Restriction (Yes/No)',\n",
            "       'Controlled Substance (Yes/No)', 'Risk Assessment Score (0-100)',\n",
            "       'Regulatory Body', 'Compliance Status (Compliant/Non-compliant)',\n",
            "       'Risk Category', 'Risk Score (0-100)'],\n",
            "      dtype='object')\n",
            "🛠 chem Columns: Index(['ID', 'Chemical name', 'molarcular  formula ', 'CAS number',\n",
            "       'applications', 'UN number', 'synonyms', 'Toxicity level'],\n",
            "      dtype='object')\n",
            "⚠️ Missing values in recipes_nodup:\n",
            " Recipe ID                                       0\n",
            "Chemical Names                                  0\n",
            "Formulas                                        0\n",
            "Quantities (g/mL)                               0\n",
            "CAS Numbers                                     0\n",
            "Solvent Used                                   54\n",
            "Reaction Conditions                             0\n",
            "Toxicity Level                                  0\n",
            "Flammability (Yes/No)                           0\n",
            "Reactivity (Stable/Unstable)                    0\n",
            "Explosiveness (1-10)                            0\n",
            "Health Risk Score (0-100)                       0\n",
            "Environmental Hazard (Yes/No)                   0\n",
            "Dual Use Potential (Yes/No)                     0\n",
            "Intended Use                                    0\n",
            "Export Restriction (Yes/No)                     0\n",
            "Controlled Substance (Yes/No)                   0\n",
            "Risk Assessment Score (0-100)                   0\n",
            "Regulatory Body                                 0\n",
            "Compliance Status (Compliant/Non-compliant)     0\n",
            "Risk Category                                   0\n",
            "Risk Score (0-100)                              0\n",
            "dtype: int64 \n",
            "\n",
            "⚠️ Missing values in chem:\n",
            " ID                       0\n",
            "Chemical name            0\n",
            "molarcular  formula      0\n",
            "CAS number               1\n",
            "applications             0\n",
            "UN number               12\n",
            "synonyms                 6\n",
            "Toxicity level           0\n",
            "dtype: int64 \n",
            "\n"
          ]
        }
      ],
      "source": [
        "import pandas as pd\n",
        "\n",
        "# Load datasets\n",
        "recipes_path = \"/content/recipes_nodup.csv\"\n",
        "chem_path = \"/content/chem.csv\"\n",
        "\n",
        "df_recipes = pd.read_csv(recipes_path)\n",
        "df_chem = pd.read_csv(chem_path)\n",
        "\n",
        "# Display first few rows of each dataset\n",
        "print(\"📌 recipes_nodup.csv:\")\n",
        "print(df_recipes.head(), \"\\n\\n\")\n",
        "\n",
        "print(\"📌 chem.csv:\")\n",
        "print(df_chem.head(), \"\\n\\n\")\n",
        "\n",
        "# Check dataset shapes\n",
        "print(f\"🔍 recipes_nodup.csv Shape: {df_recipes.shape}\")\n",
        "print(f\"🔍 chem.csv Shape: {df_chem.shape}\")\n",
        "\n",
        "# Show column names\n",
        "print(\"🛠 recipes_nodup Columns:\", df_recipes.columns)\n",
        "print(\"🛠 chem Columns:\", df_chem.columns)\n",
        "\n",
        "# Check missing values\n",
        "print(\"⚠️ Missing values in recipes_nodup:\\n\", df_recipes.isnull().sum(), \"\\n\")\n",
        "print(\"⚠️ Missing values in chem:\\n\", df_chem.isnull().sum(), \"\\n\")\n"
      ]
    },
    {
      "cell_type": "code",
      "source": [
        "# Check data types of columns\n",
        "print(\"🔍 Data types in recipes_nodup.csv:\\n\", df_recipes.dtypes, \"\\n\")\n",
        "print(\"🔍 Data types in chem.csv:\\n\", df_chem.dtypes, \"\\n\")\n"
      ],
      "metadata": {
        "colab": {
          "base_uri": "https://localhost:8080/"
        },
        "id": "EW-wqlN9Kn9y",
        "outputId": "c4327241-fb9b-49ab-e8e4-a9ee6e56f719"
      },
      "execution_count": 24,
      "outputs": [
        {
          "output_type": "stream",
          "name": "stdout",
          "text": [
            "🔍 Data types in recipes_nodup.csv:\n",
            " Recipe ID                                       int64\n",
            "Chemical Names                                 object\n",
            "Formulas                                       object\n",
            "Quantities (g/mL)                              object\n",
            "CAS Numbers                                    object\n",
            "Solvent Used                                   object\n",
            "Reaction Conditions                            object\n",
            "Toxicity Level                                 object\n",
            "Flammability (Yes/No)                          object\n",
            "Reactivity (Stable/Unstable)                   object\n",
            "Explosiveness (1-10)                            int64\n",
            "Health Risk Score (0-100)                       int64\n",
            "Environmental Hazard (Yes/No)                  object\n",
            "Dual Use Potential (Yes/No)                    object\n",
            "Intended Use                                   object\n",
            "Export Restriction (Yes/No)                    object\n",
            "Controlled Substance (Yes/No)                  object\n",
            "Risk Assessment Score (0-100)                   int64\n",
            "Regulatory Body                                object\n",
            "Compliance Status (Compliant/Non-compliant)    object\n",
            "Risk Category                                  object\n",
            "Risk Score (0-100)                              int64\n",
            "dtype: object \n",
            "\n",
            "🔍 Data types in chem.csv:\n",
            " ID                        int64\n",
            "Chemical name            object\n",
            "molarcular  formula      object\n",
            "CAS number               object\n",
            "applications             object\n",
            "UN number               float64\n",
            "synonyms                 object\n",
            "Toxicity level           object\n",
            "dtype: object \n",
            "\n"
          ]
        }
      ]
    },
    {
      "cell_type": "markdown",
      "source": [
        "**Handle Missing Values and Remove Duplicates**"
      ],
      "metadata": {
        "id": "LNp5ghao5kZs"
      }
    },
    {
      "cell_type": "code",
      "source": [
        "print(\"📌 Duplicate rows in recipes_nodup:\", df_recipes.duplicated().sum())\n",
        "print(\"📌 Duplicate rows in chem:\", df_chem.duplicated().sum())\n",
        "\n",
        "print(\"⚠️ Missing values in recipes_nodup:\\n\", df_recipes.isnull().sum(), \"\\n\")\n",
        "print(\"⚠️ Missing values in chem:\\n\", df_chem.isnull().sum(), \"\\n\")\n",
        "\n"
      ],
      "metadata": {
        "colab": {
          "base_uri": "https://localhost:8080/"
        },
        "id": "4S6wKOY03Dvu",
        "outputId": "953f32da-cec9-4484-da2d-a644f00edad0"
      },
      "execution_count": 26,
      "outputs": [
        {
          "output_type": "stream",
          "name": "stdout",
          "text": [
            "📌 Duplicate rows in recipes_nodup: 0\n",
            "📌 Duplicate rows in chem: 0\n",
            "⚠️ Missing values in recipes_nodup:\n",
            " Recipe ID                                       0\n",
            "Chemical Names                                  0\n",
            "Formulas                                        0\n",
            "Quantities (g/mL)                               0\n",
            "CAS Numbers                                     0\n",
            "Solvent Used                                   54\n",
            "Reaction Conditions                             0\n",
            "Toxicity Level                                  0\n",
            "Flammability (Yes/No)                           0\n",
            "Reactivity (Stable/Unstable)                    0\n",
            "Explosiveness (1-10)                            0\n",
            "Health Risk Score (0-100)                       0\n",
            "Environmental Hazard (Yes/No)                   0\n",
            "Dual Use Potential (Yes/No)                     0\n",
            "Intended Use                                    0\n",
            "Export Restriction (Yes/No)                     0\n",
            "Controlled Substance (Yes/No)                   0\n",
            "Risk Assessment Score (0-100)                   0\n",
            "Regulatory Body                                 0\n",
            "Compliance Status (Compliant/Non-compliant)     0\n",
            "Risk Category                                   0\n",
            "Risk Score (0-100)                              0\n",
            "dtype: int64 \n",
            "\n",
            "⚠️ Missing values in chem:\n",
            " ID                       0\n",
            "Chemical name            0\n",
            "molarcular  formula      0\n",
            "CAS number               1\n",
            "applications             0\n",
            "UN number               12\n",
            "synonyms                 6\n",
            "Toxicity level           0\n",
            "dtype: int64 \n",
            "\n"
          ]
        }
      ]
    },
    {
      "cell_type": "code",
      "source": [
        "# Display unique values for categorical columns\n",
        "print(\"Unique values in key columns (recipes_nodup):\\n\")\n",
        "for col in df_recipes.columns:\n",
        "    print(f\"{col}: {df_recipes[col].nunique()} unique values\")\n",
        "\n",
        "print(\"\\n🛠 Unique values in key columns (chem):\\n\")\n",
        "for col in df_chem.columns:\n",
        "    print(f\"{col}: {df_chem[col].nunique()} unique values\")\n"
      ],
      "metadata": {
        "colab": {
          "base_uri": "https://localhost:8080/"
        },
        "id": "Vqh7AbJcK0Vh",
        "outputId": "06b77fc6-f83a-4856-880f-806cf9b5e808"
      },
      "execution_count": 29,
      "outputs": [
        {
          "output_type": "stream",
          "name": "stdout",
          "text": [
            "Unique values in key columns (recipes_nodup):\n",
            "\n",
            "Recipe ID: 76 unique values\n",
            "Chemical Names: 76 unique values\n",
            "Formulas: 75 unique values\n",
            "Quantities (g/mL): 57 unique values\n",
            "CAS Numbers: 76 unique values\n",
            "Solvent Used: 3 unique values\n",
            "Reaction Conditions: 37 unique values\n",
            "Toxicity Level: 3 unique values\n",
            "Flammability (Yes/No): 2 unique values\n",
            "Reactivity (Stable/Unstable): 3 unique values\n",
            "Explosiveness (1-10): 8 unique values\n",
            "Health Risk Score (0-100): 14 unique values\n",
            "Environmental Hazard (Yes/No): 1 unique values\n",
            "Dual Use Potential (Yes/No): 1 unique values\n",
            "Intended Use: 46 unique values\n",
            "Export Restriction (Yes/No): 2 unique values\n",
            "Controlled Substance (Yes/No): 2 unique values\n",
            "Risk Assessment Score (0-100): 13 unique values\n",
            "Regulatory Body: 5 unique values\n",
            "Compliance Status (Compliant/Non-compliant): 2 unique values\n",
            "Risk Category: 3 unique values\n",
            "Risk Score (0-100): 10 unique values\n",
            "\n",
            "🛠 Unique values in key columns (chem):\n",
            "\n",
            "ID: 401 unique values\n",
            "Chemical name: 393 unique values\n",
            "molarcular  formula : 376 unique values\n",
            "CAS number: 400 unique values\n",
            "applications: 343 unique values\n",
            "UN number: 332 unique values\n",
            "synonyms: 388 unique values\n",
            "Toxicity level: 4 unique values\n"
          ]
        }
      ]
    },
    {
      "cell_type": "markdown",
      "source": [
        "**Convert Chemical Names to Vectorized Format**"
      ],
      "metadata": {
        "id": "v6VxDSRY5oMs"
      }
    },
    {
      "cell_type": "code",
      "source": [
        "from sklearn.feature_extraction.text import TfidfVectorizer\n",
        "\n",
        "vectorizer = TfidfVectorizer(max_features=500)  # Limit to top 500 words\n",
        "df1_tfidf = vectorizer.fit_transform(df1[\"Chemical Names\"]).toarray()\n",
        "\n",
        "# Convert to DataFrame\n",
        "df1_tfidf = pd.DataFrame(df1_tfidf, columns=vectorizer.get_feature_names_out())\n",
        "\n",
        "# Merge back to dataset\n",
        "df1 = pd.concat([df1, df1_tfidf], axis=1).drop(columns=[\"Chemical Names\"])\n"
      ],
      "metadata": {
        "id": "_PtJddX33I3N"
      },
      "execution_count": 12,
      "outputs": []
    },
    {
      "cell_type": "markdown",
      "source": [
        "**Normalize Numerical Columns**"
      ],
      "metadata": {
        "id": "2PmBxiWt50vV"
      }
    },
    {
      "cell_type": "code",
      "source": [
        "print(\"🔍 Column Names in df1:\", df1.columns)\n"
      ],
      "metadata": {
        "colab": {
          "base_uri": "https://localhost:8080/"
        },
        "id": "CFsRp-Am6J5N",
        "outputId": "1e298d85-d05a-4f5d-d485-a6d2f45bf628"
      },
      "execution_count": 14,
      "outputs": [
        {
          "output_type": "stream",
          "name": "stdout",
          "text": [
            "🔍 Column Names in df1: Index(['Recipe ID', 'Formulas', 'Quantities (g/mL)', 'CAS Numbers',\n",
            "       'Solvent Used', 'Reaction Conditions', 'Toxicity Level',\n",
            "       'Flammability (Yes/No)', 'Reactivity (Stable/Unstable)',\n",
            "       'Explosiveness (1-10)', 'Health Risk Score (0-100)',\n",
            "       'Environmental Hazard (Yes/No)', 'Dual Use Potential (Yes/No)',\n",
            "       'Intended Use', 'Export Restriction (Yes/No)',\n",
            "       'Controlled Substance (Yes/No)', 'Risk Assessment Score (0-100)',\n",
            "       'Regulatory Body', 'Compliance Status (Compliant/Non-compliant)',\n",
            "       'Risk Category', 'Risk Score (0-100)', 'acetic', 'acetone', 'acid',\n",
            "       'ammonia', 'charcoal', 'chlorine', 'chloropicrin', 'cyanide', 'dioxide',\n",
            "       'dust', 'ephedrine', 'ethanol', 'ethylene', 'gas', 'hydrochloric',\n",
            "       'hydrogen', 'hydroxide', 'iodine', 'lead', 'nitrate', 'nitrocellulose',\n",
            "       'oxide', 'permanganate', 'peroxide', 'phosphorus', 'picric',\n",
            "       'potassium', 'pseudoephedrine', 'red', 'sodium', 'sulfur',\n",
            "       'trichloride', 'zinc'],\n",
            "      dtype='object')\n"
          ]
        }
      ]
    },
    {
      "cell_type": "code",
      "source": [
        "import re\n",
        "\n",
        "# Function to extract and sum numerical values\n",
        "def extract_quantity(value):\n",
        "    numbers = re.findall(r\"\\d+\", str(value))  # Extract all numbers\n",
        "    return sum(map(int, numbers)) if numbers else 0  # Sum all extracted numbers\n",
        "\n",
        "# Apply function to convert text to numerical values\n",
        "df1[\"Quantities (g/mL)\"] = df1[\"Quantities (g/mL)\"].apply(extract_quantity)\n",
        "\n",
        "# Now apply MinMaxScaler\n",
        "from sklearn.preprocessing import MinMaxScaler\n",
        "scaler = MinMaxScaler()\n",
        "df1[[\"Quantities (g/mL)\"]] = scaler.fit_transform(df1[[\"Quantities (g/mL)\"]])\n",
        "\n",
        "print(\" Successfully converted and scaled Quantities!\")\n"
      ],
      "metadata": {
        "colab": {
          "base_uri": "https://localhost:8080/"
        },
        "id": "S7p-6vry3LU1",
        "outputId": "32c97372-9af5-4a93-f224-81ca5b735b76"
      },
      "execution_count": 17,
      "outputs": [
        {
          "output_type": "stream",
          "name": "stdout",
          "text": [
            " Successfully converted and scaled Quantities!\n"
          ]
        }
      ]
    },
    {
      "cell_type": "markdown",
      "source": [
        "**Encode Categorical Variables**"
      ],
      "metadata": {
        "id": "oR4YJBlD535c"
      }
    },
    {
      "cell_type": "code",
      "source": [
        "from sklearn.preprocessing import LabelEncoder\n",
        "\n",
        "label_encoder = LabelEncoder()\n",
        "df1[\"Risk Level Encoded\"] = label_encoder.fit_transform(df1[\"Risk Score (0-100)\"])\n",
        "\n",
        "print(\"Done !\")\n"
      ],
      "metadata": {
        "colab": {
          "base_uri": "https://localhost:8080/"
        },
        "id": "VSyvn6pP3NaV",
        "outputId": "aad2ca59-bf1a-4efa-caee-d4a059f79b8b"
      },
      "execution_count": 20,
      "outputs": [
        {
          "output_type": "stream",
          "name": "stdout",
          "text": [
            "Done !\n"
          ]
        }
      ]
    },
    {
      "cell_type": "markdown",
      "source": [
        "**Save the Cleaned Data**"
      ],
      "metadata": {
        "id": "1uh42S_x55PN"
      }
    },
    {
      "cell_type": "code",
      "source": [
        "df1.to_csv(\"/content/processed_data.csv\", index=False)\n",
        "print(\" Processed data saved as processed_data.csv\")\n"
      ],
      "metadata": {
        "colab": {
          "base_uri": "https://localhost:8080/"
        },
        "id": "s9jWzbx53Qt8",
        "outputId": "e8b92628-2f5a-4c35-f8da-591c1c4157af"
      },
      "execution_count": 22,
      "outputs": [
        {
          "output_type": "stream",
          "name": "stdout",
          "text": [
            " Processed data saved as processed_data.csv\n"
          ]
        }
      ]
    }
  ]
}