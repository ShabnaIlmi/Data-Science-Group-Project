{
  "nbformat": 4,
  "nbformat_minor": 0,
  "metadata": {
    "colab": {
      "provenance": [],
      "mount_file_id": "https://github.com/ShabnaIlmi/Data-Science-Group-Project/blob/Importer_Risk_Prediction/Exploratory_Data_Analysis_2.ipynb",
      "authorship_tag": "ABX9TyNNC4z5IxMamQE8LnVXm66I",
      "include_colab_link": true
    },
    "kernelspec": {
      "name": "python3",
      "display_name": "Python 3"
    },
    "language_info": {
      "name": "python"
    }
  },
  "cells": [
    {
      "cell_type": "markdown",
      "metadata": {
        "id": "view-in-github",
        "colab_type": "text"
      },
      "source": [
        "<a href=\"https://colab.research.google.com/github/ShabnaIlmi/Data-Science-Group-Project/blob/Importer_Risk_Prediction/Exploratory_Data_Analysis_2.ipynb\" target=\"_parent\"><img src=\"https://colab.research.google.com/assets/colab-badge.svg\" alt=\"Open In Colab\"/></a>"
      ]
    },
    {
      "cell_type": "markdown",
      "source": [
        "# **Installing Necessary Libraries**"
      ],
      "metadata": {
        "id": "PmB15JsQoyf0"
      }
    },
    {
      "cell_type": "code",
      "execution_count": 176,
      "metadata": {
        "id": "BiDQeBGhoN1X"
      },
      "outputs": [],
      "source": [
        "# Installing required libraries\n",
        "# !pip install --upgrade tensorflow\n",
        "# !pip install fancyimpute scikit-learn pandas"
      ]
    },
    {
      "cell_type": "markdown",
      "source": [
        "# **Importing the Relevant Libraries**"
      ],
      "metadata": {
        "id": "xM9vMaW2o3b2"
      }
    },
    {
      "cell_type": "code",
      "source": [
        "# Importing necessary libraries\n",
        "import pandas as pd\n",
        "import numpy as np\n",
        "import matplotlib.pyplot as plt\n",
        "import seaborn as sns\n",
        "from sklearn.experimental import enable_iterative_imputer\n",
        "from sklearn.preprocessing import StandardScaler\n",
        "from sklearn.impute import IterativeImputer, KNNImputer\n",
        "from sklearn.ensemble import RandomForestClassifier, RandomForestRegressor\n",
        "from sklearn.cluster import KMeans\n",
        "from sklearn.ensemble import RandomForestRegressor\n",
        "from sklearn.experimental import enable_iterative_imputer\n",
        "import warnings\n",
        "from imblearn.over_sampling import SMOTE\n",
        "from sklearn.impute import IterativeImputer\n",
        "from sklearn.model_selection import train_test_split\n",
        "from sklearn.preprocessing import LabelEncoder\n",
        "from sklearn.model_selection import train_test_split, GridSearchCV, cross_val_score, StratifiedKFold\n",
        "from sklearn.preprocessing import StandardScaler\n",
        "from sklearn.ensemble import GradientBoostingClassifier\n",
        "import tensorflow as tf\n",
        "from tensorflow.keras.models import load_model\n",
        "from tensorflow.keras.models import Sequential\n",
        "from tensorflow.keras.layers import LSTM, Dense, Dropout\n",
        "from sklearn.preprocessing import MinMaxScaler\n",
        "from sklearn.metrics import confusion_matrix, classification_report\n",
        "from sklearn.metrics import accuracy_score, classification_report\n",
        "import seaborn as sns\n",
        "from sklearn.preprocessing import LabelEncoder\n",
        "from sklearn.impute import KNNImputer\n",
        "import numpy as np\n",
        "import pandas as pd\n",
        "import shap\n",
        "import matplotlib.pyplot as plt\n",
        "import tensorflow as tf\n",
        "from tensorflow.keras import Sequential\n",
        "from tensorflow.keras.layers import LSTM, Dense\n",
        "from tensorflow.keras.callbacks import EarlyStopping\n",
        "from sklearn.ensemble import GradientBoostingClassifier\n",
        "from sklearn.model_selection import train_test_split, cross_val_score\n",
        "from sklearn.preprocessing import MinMaxScaler\n",
        "from sklearn.metrics import accuracy_score, classification_report, confusion_matrix\n",
        "from tensorflow.keras.models import Sequential\n",
        "from tensorflow.keras.layers import Embedding, Flatten\n",
        "import seaborn as sns\n",
        "import random\n",
        "import pickle\n",
        "import joblib"
      ],
      "metadata": {
        "id": "dzSgma53pRW1"
      },
      "execution_count": 177,
      "outputs": []
    },
    {
      "cell_type": "code",
      "source": [
        "# Mounting the Google Drive\n",
        "from google.colab import drive\n",
        "drive.mount('/content/drive')"
      ],
      "metadata": {
        "colab": {
          "base_uri": "https://localhost:8080/"
        },
        "id": "l8qhUM4Cpozw",
        "outputId": "acf20a1d-1af6-4ccc-a68c-7f1cb696ffe9"
      },
      "execution_count": 178,
      "outputs": [
        {
          "output_type": "stream",
          "name": "stdout",
          "text": [
            "Drive already mounted at /content/drive; to attempt to forcibly remount, call drive.mount(\"/content/drive\", force_remount=True).\n"
          ]
        }
      ]
    },
    {
      "cell_type": "markdown",
      "source": [
        "# **Loading the Dataset**"
      ],
      "metadata": {
        "id": "x97rNjWApvT6"
      }
    },
    {
      "cell_type": "code",
      "source": [
        "# Loading the dataset with the proper delimiter (semicolon)\n",
        "data = pd.read_excel('/content/drive/MyDrive/Importer_Risk_Prediction_2/Dataset/IMPORT STATISTICS - 2023.xlsx')"
      ],
      "metadata": {
        "id": "Kyi0P7zdpyrh"
      },
      "execution_count": 179,
      "outputs": []
    },
    {
      "cell_type": "code",
      "source": [
        "# Displaying the first few rows of the data\n",
        "data.head()"
      ],
      "metadata": {
        "colab": {
          "base_uri": "https://localhost:8080/",
          "height": 206
        },
        "id": "-WHOKTfEp0AV",
        "outputId": "80f108b9-8764-4e42-906e-22072dc8008d"
      },
      "execution_count": 180,
      "outputs": [
        {
          "output_type": "execute_result",
          "data": {
            "text/plain": [
              "  IMPORTER    YEAR     MONTH  HSCODE     COUNTRY UNIT  QUANTITY    VALUE_RS  \\\n",
              "0  Unknown  2023.0   JANUARY  280110  BANGLADESH  Kg.  131600.0  13877114.0   \n",
              "1  Unknown  2023.0   JANUARY  280110       INDIA  Kg.   37800.0   3924989.0   \n",
              "2  Unknown  2023.0   JANUARY  280110    MALAYSIA  Kg.   12090.0   5390772.0   \n",
              "3  Unknown  2023.0  FEBRUARY  280110  BANGLADESH  Kg.   25200.0   3089445.0   \n",
              "4  Unknown  2023.0  FEBRUARY  280110       INDIA  Kg.   75599.0   6939860.0   \n",
              "\n",
              "                                      DESCRIPTION_01  \\\n",
              "0  Inorganic chemicals; Organic or inorganic comp...   \n",
              "1  Inorganic chemicals; Organic or inorganic comp...   \n",
              "2  Inorganic chemicals; Organic or inorganic comp...   \n",
              "3  Inorganic chemicals; Organic or inorganic comp...   \n",
              "4  Inorganic chemicals; Organic or inorganic comp...   \n",
              "\n",
              "                                      DESCRIPTION_02 DESCRIPTION_03  \n",
              "0  Fluorine, chlorine, bromine and iodine        ...       Chlorine  \n",
              "1  Fluorine, chlorine, bromine and iodine        ...       Chlorine  \n",
              "2  Fluorine, chlorine, bromine and iodine        ...       Chlorine  \n",
              "3  Fluorine, chlorine, bromine and iodine        ...       Chlorine  \n",
              "4  Fluorine, chlorine, bromine and iodine        ...       Chlorine  "
            ],
            "text/html": [
              "\n",
              "  <div id=\"df-2817960b-7a1c-4128-bbdd-713b60de794d\" class=\"colab-df-container\">\n",
              "    <div>\n",
              "<style scoped>\n",
              "    .dataframe tbody tr th:only-of-type {\n",
              "        vertical-align: middle;\n",
              "    }\n",
              "\n",
              "    .dataframe tbody tr th {\n",
              "        vertical-align: top;\n",
              "    }\n",
              "\n",
              "    .dataframe thead th {\n",
              "        text-align: right;\n",
              "    }\n",
              "</style>\n",
              "<table border=\"1\" class=\"dataframe\">\n",
              "  <thead>\n",
              "    <tr style=\"text-align: right;\">\n",
              "      <th></th>\n",
              "      <th>IMPORTER</th>\n",
              "      <th>YEAR</th>\n",
              "      <th>MONTH</th>\n",
              "      <th>HSCODE</th>\n",
              "      <th>COUNTRY</th>\n",
              "      <th>UNIT</th>\n",
              "      <th>QUANTITY</th>\n",
              "      <th>VALUE_RS</th>\n",
              "      <th>DESCRIPTION_01</th>\n",
              "      <th>DESCRIPTION_02</th>\n",
              "      <th>DESCRIPTION_03</th>\n",
              "    </tr>\n",
              "  </thead>\n",
              "  <tbody>\n",
              "    <tr>\n",
              "      <th>0</th>\n",
              "      <td>Unknown</td>\n",
              "      <td>2023.0</td>\n",
              "      <td>JANUARY</td>\n",
              "      <td>280110</td>\n",
              "      <td>BANGLADESH</td>\n",
              "      <td>Kg.</td>\n",
              "      <td>131600.0</td>\n",
              "      <td>13877114.0</td>\n",
              "      <td>Inorganic chemicals; Organic or inorganic comp...</td>\n",
              "      <td>Fluorine, chlorine, bromine and iodine        ...</td>\n",
              "      <td>Chlorine</td>\n",
              "    </tr>\n",
              "    <tr>\n",
              "      <th>1</th>\n",
              "      <td>Unknown</td>\n",
              "      <td>2023.0</td>\n",
              "      <td>JANUARY</td>\n",
              "      <td>280110</td>\n",
              "      <td>INDIA</td>\n",
              "      <td>Kg.</td>\n",
              "      <td>37800.0</td>\n",
              "      <td>3924989.0</td>\n",
              "      <td>Inorganic chemicals; Organic or inorganic comp...</td>\n",
              "      <td>Fluorine, chlorine, bromine and iodine        ...</td>\n",
              "      <td>Chlorine</td>\n",
              "    </tr>\n",
              "    <tr>\n",
              "      <th>2</th>\n",
              "      <td>Unknown</td>\n",
              "      <td>2023.0</td>\n",
              "      <td>JANUARY</td>\n",
              "      <td>280110</td>\n",
              "      <td>MALAYSIA</td>\n",
              "      <td>Kg.</td>\n",
              "      <td>12090.0</td>\n",
              "      <td>5390772.0</td>\n",
              "      <td>Inorganic chemicals; Organic or inorganic comp...</td>\n",
              "      <td>Fluorine, chlorine, bromine and iodine        ...</td>\n",
              "      <td>Chlorine</td>\n",
              "    </tr>\n",
              "    <tr>\n",
              "      <th>3</th>\n",
              "      <td>Unknown</td>\n",
              "      <td>2023.0</td>\n",
              "      <td>FEBRUARY</td>\n",
              "      <td>280110</td>\n",
              "      <td>BANGLADESH</td>\n",
              "      <td>Kg.</td>\n",
              "      <td>25200.0</td>\n",
              "      <td>3089445.0</td>\n",
              "      <td>Inorganic chemicals; Organic or inorganic comp...</td>\n",
              "      <td>Fluorine, chlorine, bromine and iodine        ...</td>\n",
              "      <td>Chlorine</td>\n",
              "    </tr>\n",
              "    <tr>\n",
              "      <th>4</th>\n",
              "      <td>Unknown</td>\n",
              "      <td>2023.0</td>\n",
              "      <td>FEBRUARY</td>\n",
              "      <td>280110</td>\n",
              "      <td>INDIA</td>\n",
              "      <td>Kg.</td>\n",
              "      <td>75599.0</td>\n",
              "      <td>6939860.0</td>\n",
              "      <td>Inorganic chemicals; Organic or inorganic comp...</td>\n",
              "      <td>Fluorine, chlorine, bromine and iodine        ...</td>\n",
              "      <td>Chlorine</td>\n",
              "    </tr>\n",
              "  </tbody>\n",
              "</table>\n",
              "</div>\n",
              "    <div class=\"colab-df-buttons\">\n",
              "\n",
              "  <div class=\"colab-df-container\">\n",
              "    <button class=\"colab-df-convert\" onclick=\"convertToInteractive('df-2817960b-7a1c-4128-bbdd-713b60de794d')\"\n",
              "            title=\"Convert this dataframe to an interactive table.\"\n",
              "            style=\"display:none;\">\n",
              "\n",
              "  <svg xmlns=\"http://www.w3.org/2000/svg\" height=\"24px\" viewBox=\"0 -960 960 960\">\n",
              "    <path d=\"M120-120v-720h720v720H120Zm60-500h600v-160H180v160Zm220 220h160v-160H400v160Zm0 220h160v-160H400v160ZM180-400h160v-160H180v160Zm440 0h160v-160H620v160ZM180-180h160v-160H180v160Zm440 0h160v-160H620v160Z\"/>\n",
              "  </svg>\n",
              "    </button>\n",
              "\n",
              "  <style>\n",
              "    .colab-df-container {\n",
              "      display:flex;\n",
              "      gap: 12px;\n",
              "    }\n",
              "\n",
              "    .colab-df-convert {\n",
              "      background-color: #E8F0FE;\n",
              "      border: none;\n",
              "      border-radius: 50%;\n",
              "      cursor: pointer;\n",
              "      display: none;\n",
              "      fill: #1967D2;\n",
              "      height: 32px;\n",
              "      padding: 0 0 0 0;\n",
              "      width: 32px;\n",
              "    }\n",
              "\n",
              "    .colab-df-convert:hover {\n",
              "      background-color: #E2EBFA;\n",
              "      box-shadow: 0px 1px 2px rgba(60, 64, 67, 0.3), 0px 1px 3px 1px rgba(60, 64, 67, 0.15);\n",
              "      fill: #174EA6;\n",
              "    }\n",
              "\n",
              "    .colab-df-buttons div {\n",
              "      margin-bottom: 4px;\n",
              "    }\n",
              "\n",
              "    [theme=dark] .colab-df-convert {\n",
              "      background-color: #3B4455;\n",
              "      fill: #D2E3FC;\n",
              "    }\n",
              "\n",
              "    [theme=dark] .colab-df-convert:hover {\n",
              "      background-color: #434B5C;\n",
              "      box-shadow: 0px 1px 3px 1px rgba(0, 0, 0, 0.15);\n",
              "      filter: drop-shadow(0px 1px 2px rgba(0, 0, 0, 0.3));\n",
              "      fill: #FFFFFF;\n",
              "    }\n",
              "  </style>\n",
              "\n",
              "    <script>\n",
              "      const buttonEl =\n",
              "        document.querySelector('#df-2817960b-7a1c-4128-bbdd-713b60de794d button.colab-df-convert');\n",
              "      buttonEl.style.display =\n",
              "        google.colab.kernel.accessAllowed ? 'block' : 'none';\n",
              "\n",
              "      async function convertToInteractive(key) {\n",
              "        const element = document.querySelector('#df-2817960b-7a1c-4128-bbdd-713b60de794d');\n",
              "        const dataTable =\n",
              "          await google.colab.kernel.invokeFunction('convertToInteractive',\n",
              "                                                    [key], {});\n",
              "        if (!dataTable) return;\n",
              "\n",
              "        const docLinkHtml = 'Like what you see? Visit the ' +\n",
              "          '<a target=\"_blank\" href=https://colab.research.google.com/notebooks/data_table.ipynb>data table notebook</a>'\n",
              "          + ' to learn more about interactive tables.';\n",
              "        element.innerHTML = '';\n",
              "        dataTable['output_type'] = 'display_data';\n",
              "        await google.colab.output.renderOutput(dataTable, element);\n",
              "        const docLink = document.createElement('div');\n",
              "        docLink.innerHTML = docLinkHtml;\n",
              "        element.appendChild(docLink);\n",
              "      }\n",
              "    </script>\n",
              "  </div>\n",
              "\n",
              "\n",
              "<div id=\"df-42ae8ce1-729e-462c-9910-522d9e288950\">\n",
              "  <button class=\"colab-df-quickchart\" onclick=\"quickchart('df-42ae8ce1-729e-462c-9910-522d9e288950')\"\n",
              "            title=\"Suggest charts\"\n",
              "            style=\"display:none;\">\n",
              "\n",
              "<svg xmlns=\"http://www.w3.org/2000/svg\" height=\"24px\"viewBox=\"0 0 24 24\"\n",
              "     width=\"24px\">\n",
              "    <g>\n",
              "        <path d=\"M19 3H5c-1.1 0-2 .9-2 2v14c0 1.1.9 2 2 2h14c1.1 0 2-.9 2-2V5c0-1.1-.9-2-2-2zM9 17H7v-7h2v7zm4 0h-2V7h2v10zm4 0h-2v-4h2v4z\"/>\n",
              "    </g>\n",
              "</svg>\n",
              "  </button>\n",
              "\n",
              "<style>\n",
              "  .colab-df-quickchart {\n",
              "      --bg-color: #E8F0FE;\n",
              "      --fill-color: #1967D2;\n",
              "      --hover-bg-color: #E2EBFA;\n",
              "      --hover-fill-color: #174EA6;\n",
              "      --disabled-fill-color: #AAA;\n",
              "      --disabled-bg-color: #DDD;\n",
              "  }\n",
              "\n",
              "  [theme=dark] .colab-df-quickchart {\n",
              "      --bg-color: #3B4455;\n",
              "      --fill-color: #D2E3FC;\n",
              "      --hover-bg-color: #434B5C;\n",
              "      --hover-fill-color: #FFFFFF;\n",
              "      --disabled-bg-color: #3B4455;\n",
              "      --disabled-fill-color: #666;\n",
              "  }\n",
              "\n",
              "  .colab-df-quickchart {\n",
              "    background-color: var(--bg-color);\n",
              "    border: none;\n",
              "    border-radius: 50%;\n",
              "    cursor: pointer;\n",
              "    display: none;\n",
              "    fill: var(--fill-color);\n",
              "    height: 32px;\n",
              "    padding: 0;\n",
              "    width: 32px;\n",
              "  }\n",
              "\n",
              "  .colab-df-quickchart:hover {\n",
              "    background-color: var(--hover-bg-color);\n",
              "    box-shadow: 0 1px 2px rgba(60, 64, 67, 0.3), 0 1px 3px 1px rgba(60, 64, 67, 0.15);\n",
              "    fill: var(--button-hover-fill-color);\n",
              "  }\n",
              "\n",
              "  .colab-df-quickchart-complete:disabled,\n",
              "  .colab-df-quickchart-complete:disabled:hover {\n",
              "    background-color: var(--disabled-bg-color);\n",
              "    fill: var(--disabled-fill-color);\n",
              "    box-shadow: none;\n",
              "  }\n",
              "\n",
              "  .colab-df-spinner {\n",
              "    border: 2px solid var(--fill-color);\n",
              "    border-color: transparent;\n",
              "    border-bottom-color: var(--fill-color);\n",
              "    animation:\n",
              "      spin 1s steps(1) infinite;\n",
              "  }\n",
              "\n",
              "  @keyframes spin {\n",
              "    0% {\n",
              "      border-color: transparent;\n",
              "      border-bottom-color: var(--fill-color);\n",
              "      border-left-color: var(--fill-color);\n",
              "    }\n",
              "    20% {\n",
              "      border-color: transparent;\n",
              "      border-left-color: var(--fill-color);\n",
              "      border-top-color: var(--fill-color);\n",
              "    }\n",
              "    30% {\n",
              "      border-color: transparent;\n",
              "      border-left-color: var(--fill-color);\n",
              "      border-top-color: var(--fill-color);\n",
              "      border-right-color: var(--fill-color);\n",
              "    }\n",
              "    40% {\n",
              "      border-color: transparent;\n",
              "      border-right-color: var(--fill-color);\n",
              "      border-top-color: var(--fill-color);\n",
              "    }\n",
              "    60% {\n",
              "      border-color: transparent;\n",
              "      border-right-color: var(--fill-color);\n",
              "    }\n",
              "    80% {\n",
              "      border-color: transparent;\n",
              "      border-right-color: var(--fill-color);\n",
              "      border-bottom-color: var(--fill-color);\n",
              "    }\n",
              "    90% {\n",
              "      border-color: transparent;\n",
              "      border-bottom-color: var(--fill-color);\n",
              "    }\n",
              "  }\n",
              "</style>\n",
              "\n",
              "  <script>\n",
              "    async function quickchart(key) {\n",
              "      const quickchartButtonEl =\n",
              "        document.querySelector('#' + key + ' button');\n",
              "      quickchartButtonEl.disabled = true;  // To prevent multiple clicks.\n",
              "      quickchartButtonEl.classList.add('colab-df-spinner');\n",
              "      try {\n",
              "        const charts = await google.colab.kernel.invokeFunction(\n",
              "            'suggestCharts', [key], {});\n",
              "      } catch (error) {\n",
              "        console.error('Error during call to suggestCharts:', error);\n",
              "      }\n",
              "      quickchartButtonEl.classList.remove('colab-df-spinner');\n",
              "      quickchartButtonEl.classList.add('colab-df-quickchart-complete');\n",
              "    }\n",
              "    (() => {\n",
              "      let quickchartButtonEl =\n",
              "        document.querySelector('#df-42ae8ce1-729e-462c-9910-522d9e288950 button');\n",
              "      quickchartButtonEl.style.display =\n",
              "        google.colab.kernel.accessAllowed ? 'block' : 'none';\n",
              "    })();\n",
              "  </script>\n",
              "</div>\n",
              "\n",
              "    </div>\n",
              "  </div>\n"
            ],
            "application/vnd.google.colaboratory.intrinsic+json": {
              "type": "dataframe",
              "variable_name": "data",
              "summary": "{\n  \"name\": \"data\",\n  \"rows\": 1042,\n  \"fields\": [\n    {\n      \"column\": \"IMPORTER\",\n      \"properties\": {\n        \"dtype\": \"category\",\n        \"num_unique_values\": 1,\n        \"samples\": [\n          \"Unknown\"\n        ],\n        \"semantic_type\": \"\",\n        \"description\": \"\"\n      }\n    },\n    {\n      \"column\": \"YEAR\",\n      \"properties\": {\n        \"dtype\": \"number\",\n        \"std\": 3.409615319591779,\n        \"min\": 2016.0,\n        \"max\": 2023.0,\n        \"num_unique_values\": 2,\n        \"samples\": [\n          2016.0\n        ],\n        \"semantic_type\": \"\",\n        \"description\": \"\"\n      }\n    },\n    {\n      \"column\": \"MONTH\",\n      \"properties\": {\n        \"dtype\": \"category\",\n        \"num_unique_values\": 12,\n        \"samples\": [\n          \"NOVEMBER\"\n        ],\n        \"semantic_type\": \"\",\n        \"description\": \"\"\n      }\n    },\n    {\n      \"column\": \"HSCODE\",\n      \"properties\": {\n        \"dtype\": \"number\",\n        \"std\": 1326226917,\n        \"min\": 280110,\n        \"max\": 3102909000,\n        \"num_unique_values\": 131,\n        \"samples\": [\n          2801200042\n        ],\n        \"semantic_type\": \"\",\n        \"description\": \"\"\n      }\n    },\n    {\n      \"column\": \"COUNTRY\",\n      \"properties\": {\n        \"dtype\": \"category\",\n        \"num_unique_values\": 66,\n        \"samples\": [\n          \"italy\"\n        ],\n        \"semantic_type\": \"\",\n        \"description\": \"\"\n      }\n    },\n    {\n      \"column\": \"UNIT\",\n      \"properties\": {\n        \"dtype\": \"category\",\n        \"num_unique_values\": 9,\n        \"samples\": [\n          \"Kg\"\n        ],\n        \"semantic_type\": \"\",\n        \"description\": \"\"\n      }\n    },\n    {\n      \"column\": \"QUANTITY\",\n      \"properties\": {\n        \"dtype\": \"number\",\n        \"std\": 235249.2208540277,\n        \"min\": 0.0,\n        \"max\": 4000000.0,\n        \"num_unique_values\": 359,\n        \"samples\": [\n          12282.0\n        ],\n        \"semantic_type\": \"\",\n        \"description\": \"\"\n      }\n    },\n    {\n      \"column\": \"VALUE_RS\",\n      \"properties\": {\n        \"dtype\": \"number\",\n        \"std\": 7946637.087226704,\n        \"min\": 0.0,\n        \"max\": 47271723.0,\n        \"num_unique_values\": 263,\n        \"samples\": [\n          37.58\n        ],\n        \"semantic_type\": \"\",\n        \"description\": \"\"\n      }\n    },\n    {\n      \"column\": \"DESCRIPTION_01\",\n      \"properties\": {\n        \"dtype\": \"category\",\n        \"num_unique_values\": 2,\n        \"samples\": [\n          \"Fertilizers\"\n        ],\n        \"semantic_type\": \"\",\n        \"description\": \"\"\n      }\n    },\n    {\n      \"column\": \"DESCRIPTION_02\",\n      \"properties\": {\n        \"dtype\": \"category\",\n        \"num_unique_values\": 15,\n        \"samples\": [\n          \"Hydrogen peroxide, whether or not solidified with urea.  \"\n        ],\n        \"semantic_type\": \"\",\n        \"description\": \"\"\n      }\n    },\n    {\n      \"column\": \"DESCRIPTION_03\",\n      \"properties\": {\n        \"dtype\": \"category\",\n        \"num_unique_values\": 17,\n        \"samples\": [\n          \"Chlorine\"\n        ],\n        \"semantic_type\": \"\",\n        \"description\": \"\"\n      }\n    }\n  ]\n}"
            }
          },
          "metadata": {},
          "execution_count": 180
        }
      ]
    },
    {
      "cell_type": "markdown",
      "source": [
        "# **Exploratory Data Analysis**"
      ],
      "metadata": {
        "id": "MPwZ2KXTp2IU"
      }
    },
    {
      "cell_type": "code",
      "source": [
        "# Displaying information\n",
        "print(\"Displaying data information\")\n",
        "data.info()"
      ],
      "metadata": {
        "colab": {
          "base_uri": "https://localhost:8080/"
        },
        "id": "wF58P-akqb5Y",
        "outputId": "d058708f-2686-4097-90f6-71b212a89347"
      },
      "execution_count": 181,
      "outputs": [
        {
          "output_type": "stream",
          "name": "stdout",
          "text": [
            "Displaying data information\n",
            "<class 'pandas.core.frame.DataFrame'>\n",
            "RangeIndex: 1042 entries, 0 to 1041\n",
            "Data columns (total 11 columns):\n",
            " #   Column          Non-Null Count  Dtype  \n",
            "---  ------          --------------  -----  \n",
            " 0   IMPORTER        1042 non-null   object \n",
            " 1   YEAR            292 non-null    float64\n",
            " 2   MONTH           292 non-null    object \n",
            " 3   HSCODE          1042 non-null   int64  \n",
            " 4   COUNTRY         1038 non-null   object \n",
            " 5   UNIT            1042 non-null   object \n",
            " 6   QUANTITY        1039 non-null   float64\n",
            " 7   VALUE_RS        292 non-null    float64\n",
            " 8   DESCRIPTION_01  1042 non-null   object \n",
            " 9   DESCRIPTION_02  1042 non-null   object \n",
            " 10  DESCRIPTION_03  1042 non-null   object \n",
            "dtypes: float64(3), int64(1), object(7)\n",
            "memory usage: 89.7+ KB\n"
          ]
        }
      ]
    },
    {
      "cell_type": "markdown",
      "source": [
        "### **Identifying Categorical and Numerical Columns**"
      ],
      "metadata": {
        "id": "Atg6_iSLqeru"
      }
    },
    {
      "cell_type": "code",
      "source": [
        "# Identifying categorical and numerical columns\n",
        "categorical_cols = data.select_dtypes(include=['object']).columns\n",
        "numerical_cols = data.select_dtypes(include=['int64', 'float64']).columns"
      ],
      "metadata": {
        "id": "3IM2kxeYqg0g"
      },
      "execution_count": 182,
      "outputs": []
    },
    {
      "cell_type": "markdown",
      "source": [
        "**Since 'HSCODE' column has been misintepreted as an int64 data type column due to the unavailability of data, reassigning it has an object type column.**"
      ],
      "metadata": {
        "id": "PX9ZyK6oqsb_"
      }
    },
    {
      "cell_type": "code",
      "source": [
        "# Converting 'IMPORTER' and 'HSCODE' columns to string type\n",
        "data['HSCODE'] = data['HSCODE'].astype(str)\n",
        "\n",
        "# Displaying the HSCODE column data type\n",
        "print(\"Data Type of HSCODE Columns:\")\n",
        "print(data[['HSCODE']].dtypes)"
      ],
      "metadata": {
        "colab": {
          "base_uri": "https://localhost:8080/"
        },
        "id": "616mshXUr29U",
        "outputId": "130be5b3-c98b-4c14-91f9-460fbad6771a"
      },
      "execution_count": 183,
      "outputs": [
        {
          "output_type": "stream",
          "name": "stdout",
          "text": [
            "Data Type of HSCODE Columns:\n",
            "HSCODE    object\n",
            "dtype: object\n"
          ]
        }
      ]
    },
    {
      "cell_type": "markdown",
      "source": [
        "## **Categorical Features**"
      ],
      "metadata": {
        "id": "z3ie9dalr6ZU"
      }
    },
    {
      "cell_type": "code",
      "source": [
        "# List of categorical features\n",
        "categorical_features = data.select_dtypes(include=['object']).columns\n",
        "\n",
        "# Displaying the categorical features\n",
        "print(\"Categorical Features:\")\n",
        "for feature in categorical_features:\n",
        "    print(f\"- {feature}\")\n",
        "\n",
        "# Display data type of the columns\n",
        "print(\"\\nData Type of Categorical Features:\")\n",
        "print(data[categorical_features].dtypes)"
      ],
      "metadata": {
        "colab": {
          "base_uri": "https://localhost:8080/"
        },
        "id": "D0w-zFaQr9NN",
        "outputId": "20e8b82d-6c0e-4e99-8353-11864e5ada0d"
      },
      "execution_count": 184,
      "outputs": [
        {
          "output_type": "stream",
          "name": "stdout",
          "text": [
            "Categorical Features:\n",
            "- IMPORTER\n",
            "- MONTH\n",
            "- HSCODE\n",
            "- COUNTRY\n",
            "- UNIT\n",
            "- DESCRIPTION_01\n",
            "- DESCRIPTION_02\n",
            "- DESCRIPTION_03\n",
            "\n",
            "Data Type of Categorical Features:\n",
            "IMPORTER          object\n",
            "MONTH             object\n",
            "HSCODE            object\n",
            "COUNTRY           object\n",
            "UNIT              object\n",
            "DESCRIPTION_01    object\n",
            "DESCRIPTION_02    object\n",
            "DESCRIPTION_03    object\n",
            "dtype: object\n"
          ]
        }
      ]
    },
    {
      "cell_type": "markdown",
      "source": [
        "**Unique Values and Their Counts Relevant to Each Categorical Column**"
      ],
      "metadata": {
        "id": "xggRLcLtsNER"
      }
    },
    {
      "cell_type": "code",
      "source": [
        "# Displaying the unique values and their counts relevant to each categorical column\n",
        "print(\"Unique values and their count relevant to each categorical column:\\n\")\n",
        "for col in categorical_features:\n",
        "    unique_values = data[col].unique()\n",
        "    value_counts = data[col].value_counts()\n",
        "    print(value_counts)\n",
        "    print(\" \")"
      ],
      "metadata": {
        "colab": {
          "base_uri": "https://localhost:8080/"
        },
        "id": "32TdE8ZCsOj4",
        "outputId": "285fc592-db3a-47bd-e86b-c10e9dbb90ec"
      },
      "execution_count": 185,
      "outputs": [
        {
          "output_type": "stream",
          "name": "stdout",
          "text": [
            "Unique values and their count relevant to each categorical column:\n",
            "\n",
            "IMPORTER\n",
            "Unknown    1042\n",
            "Name: count, dtype: int64\n",
            " \n",
            "MONTH\n",
            "NOVEMBER     191\n",
            "FEBRUARY      13\n",
            "JULY          13\n",
            "MAY           11\n",
            "SEPTEMBER     11\n",
            "JANUARY       10\n",
            "JUNE           9\n",
            "AUGUST         8\n",
            "OCTOBER        8\n",
            "MARCH          6\n",
            "APRIL          6\n",
            "DECEMBER       6\n",
            "Name: count, dtype: int64\n",
            " \n",
            "HSCODE\n",
            "28070010      85\n",
            "2847000000    84\n",
            "28080000      67\n",
            "3102401000    58\n",
            "28291100      54\n",
            "              ..\n",
            "2801200032     1\n",
            "2801200031     1\n",
            "2801200030     1\n",
            "2801200029     1\n",
            "2812101100     1\n",
            "Name: count, Length: 131, dtype: int64\n",
            " \n",
            "COUNTRY\n",
            "Vietnam    299\n",
            "Russia     109\n",
            "Kenya       71\n",
            "Ukraine     58\n",
            "germany     51\n",
            "          ... \n",
            "U.S.A.       1\n",
            "Mexico       1\n",
            "CANADA       1\n",
            "India        1\n",
            "Romania      1\n",
            "Name: count, Length: 66, dtype: int64\n",
            " \n",
            "UNIT\n",
            "Kg     750\n",
            "Kg.    112\n",
            "KGS     47\n",
            "PCS     39\n",
            "NOS     33\n",
            "GMS     23\n",
            "MTS     19\n",
            "LTR     18\n",
            "DRM      1\n",
            "Name: count, dtype: int64\n",
            " \n",
            "DESCRIPTION_01\n",
            "Inorganic chemicals; Organic or inorganic compounds of precious metals, of rare earth metals, of radioactive elements or of isotopes    922\n",
            "Fertilizers                                                                                                                             120\n",
            "Name: count, dtype: int64\n",
            " \n",
            "DESCRIPTION_02\n",
            "Chlorates and perchlorates; bromates and perbromates; iodates and periodates                            120\n",
            "Mineral or chemical fertilizers, nitrogenous                                                            120\n",
            "Sulphuric acid; oleum                                                                                   120\n",
            "Halides and halide oxides of non metals                                                                 120\n",
            "Fluorides; fluorosilicates, fluoroaluminates, and other complex fluorine salts                          116\n",
            "Hydrogen peroxide, whether or not solidified with urea.                                                 110\n",
            "Nitric acid; sulphonitric acids.                                                                        100\n",
            "Fluorine, chlorine, bromine and iodine                                                                   64\n",
            "Nitric acid; sulphonitric acids.                                                                  ..     36\n",
            "Hydrogen peroxide, whether or not solidified with urea.                                           ..     35\n",
            "Fluorine, chlorine, bromine and iodine                                                            ..     34\n",
            "Nitric acid; sulphonitric acids.                                                                         20\n",
            "Fluorine, chlorine, bromine and iodine                                                                   20\n",
            "Cyanides, cyanide oxides and complex cyanides.                                                           20\n",
            "Cyanides, cyanide oxides and complex cyanides.                                                    ..      7\n",
            "Name: count, dtype: int64\n",
            " \n",
            "DESCRIPTION_03\n",
            "Halides and halide oxides of non metals                                           120\n",
            "Sulphuric acid; oleum                                                             120\n",
            "Mineral or chemical fertilizers, nitrogenous                                      120\n",
            "Chlorates and perchlorates; bromates and perbromates; iodates and periodates      120\n",
            "Fluorides; fluorosilicates, fluoroaluminates, and other complex fluorine salts    116\n",
            "Hydrogen peroxide, whether or not solidified with urea.                           110\n",
            "Nitric acid; sulphonitric acids.                                                  100\n",
            "Iodine                                                                             80\n",
            "Nitric acid; sulphonitric acids                                                    36\n",
            "Hydrogen peroxide, whether or not solidified with urea.                            35\n",
            "Chlorine                                                                           34\n",
            "Nitric acid; sulphonitric acids.                                                   20\n",
            "Cyanides and cyanide oxides : Of sodium                                            11\n",
            "Cyanides and cyanide oxides : Other                                                10\n",
            "- Cyanides and cyanide oxides : Other                                               4\n",
            "Bromine                                                                             4\n",
            "- Cyanides and cyanide oxides : Of sodium                                           2\n",
            "Name: count, dtype: int64\n",
            " \n"
          ]
        }
      ]
    },
    {
      "cell_type": "markdown",
      "source": [
        "**Categorical columns with null values and their relevant counts**"
      ],
      "metadata": {
        "id": "ZJyyuCf-sS-E"
      }
    },
    {
      "cell_type": "code",
      "source": [
        "# Displaying the categorical columns which contains null values and their counts\n",
        "print(\"Categorical columns with null values and their counts:\")\n",
        "for col in categorical_features:\n",
        "    null_count = data[col].isnull().sum()\n",
        "    if null_count > 0:\n",
        "        print(f\"{col}: {null_count}\")"
      ],
      "metadata": {
        "colab": {
          "base_uri": "https://localhost:8080/"
        },
        "id": "7QC_tUD5sSTW",
        "outputId": "aa2eb676-7518-4458-824a-374b2107b2f3"
      },
      "execution_count": 186,
      "outputs": [
        {
          "output_type": "stream",
          "name": "stdout",
          "text": [
            "Categorical columns with null values and their counts:\n",
            "MONTH: 750\n",
            "COUNTRY: 4\n"
          ]
        }
      ]
    },
    {
      "cell_type": "markdown",
      "source": [
        "**Categorical columns with 'Unknown' values and their relevant counts**"
      ],
      "metadata": {
        "id": "BwHzS2AluDM9"
      }
    },
    {
      "cell_type": "code",
      "source": [
        "# Displaying the categorical columns which contain 'Unknown' values and their relevant counts\n",
        "print(\"Categorical columns with 'Unknown' values and their counts:\")\n",
        "for col in categorical_features:\n",
        "    unknown_count = (data[col] == 'Unknown').sum()\n",
        "    if unknown_count > 0:\n",
        "        print(f\"{col}: {unknown_count}\")"
      ],
      "metadata": {
        "colab": {
          "base_uri": "https://localhost:8080/"
        },
        "id": "qb0Ai2DLuK_X",
        "outputId": "3957d6e0-f96f-43b2-fd59-5ed0e5530a54"
      },
      "execution_count": 187,
      "outputs": [
        {
          "output_type": "stream",
          "name": "stdout",
          "text": [
            "Categorical columns with 'Unknown' values and their counts:\n",
            "IMPORTER: 1042\n"
          ]
        }
      ]
    },
    {
      "cell_type": "markdown",
      "source": [
        "## **Numerical Features**"
      ],
      "metadata": {
        "id": "DJn62ShCuTo0"
      }
    },
    {
      "cell_type": "markdown",
      "source": [
        "**Since 'Year' column has been misintepreted as a float64 data type column reassigning it as a int64 type column**"
      ],
      "metadata": {
        "id": "sf-rFbbjuWQt"
      }
    },
    {
      "cell_type": "code",
      "source": [
        "# Converting the 'Year' column to int64 data type\n",
        "# data['YEAR'] = data['YEAR'].astype(int)\n",
        "\n",
        "# Displaying the data type of the 'Year' column\n",
        "# print(\"Data Type of 'Year' Column:\")\n",
        "# print(data['YEAR'].dtype)"
      ],
      "metadata": {
        "id": "eMlICaqpuY-q"
      },
      "execution_count": 188,
      "outputs": []
    },
    {
      "cell_type": "markdown",
      "source": [
        "**The conversion cannot be done since the column contains missing values (both N/A and null values)**"
      ],
      "metadata": {
        "id": "dS2TbAZYuc2f"
      }
    },
    {
      "cell_type": "code",
      "source": [
        "# Numerical Features\n",
        "numerical_features = data.select_dtypes(include=['int64', 'float64']).columns\n",
        "\n",
        "# Displaying the Numerical Columns\n",
        "print(\"Numerical Features:\")\n",
        "print(numerical_features)"
      ],
      "metadata": {
        "colab": {
          "base_uri": "https://localhost:8080/"
        },
        "id": "WMGPnE_Ouf_C",
        "outputId": "06f090d1-b81d-4840-f5ae-4e88decba446"
      },
      "execution_count": 189,
      "outputs": [
        {
          "output_type": "stream",
          "name": "stdout",
          "text": [
            "Numerical Features:\n",
            "Index(['YEAR', 'QUANTITY', 'VALUE_RS'], dtype='object')\n"
          ]
        }
      ]
    },
    {
      "cell_type": "markdown",
      "source": [
        "**Unique Values and Their Count Relevant to Each Numerical Column**"
      ],
      "metadata": {
        "id": "cr7FC_1EvGAp"
      }
    },
    {
      "cell_type": "code",
      "source": [
        "# Displaying the unique values and their count in the numerical columns\n",
        "print(\"Unique values and their count in the numerical columns:\\n\")\n",
        "for col in numerical_features:\n",
        "    unique_values = data[col].unique()\n",
        "    value_counts = data[col].value_counts()\n",
        "    print(value_counts)\n",
        "    print(\" \")"
      ],
      "metadata": {
        "colab": {
          "base_uri": "https://localhost:8080/"
        },
        "id": "tTLo2wMEvN8J",
        "outputId": "da56b19d-3efb-4692-cbac-f4d8eb4ad584"
      },
      "execution_count": 190,
      "outputs": [
        {
          "output_type": "stream",
          "name": "stdout",
          "text": [
            "Unique values and their count in the numerical columns:\n",
            "\n",
            "YEAR\n",
            "2016.0    180\n",
            "2023.0    112\n",
            "Name: count, dtype: int64\n",
            " \n",
            "QUANTITY\n",
            "1000.0     55\n",
            "1.0        49\n",
            "16200.0    40\n",
            "5.0        31\n",
            "27.0       28\n",
            "           ..\n",
            "204.0       1\n",
            "23200.0     1\n",
            "22820.0     1\n",
            "22560.0     1\n",
            "19050.0     1\n",
            "Name: count, Length: 359, dtype: int64\n",
            " \n",
            "VALUE_RS\n",
            "0.40           4\n",
            "53.79          3\n",
            "188.55         3\n",
            "0.20           3\n",
            "21.15          2\n",
            "              ..\n",
            "350598.00      1\n",
            "2213950.00     1\n",
            "10318355.00    1\n",
            "24988179.00    1\n",
            "0.68           1\n",
            "Name: count, Length: 263, dtype: int64\n",
            " \n"
          ]
        }
      ]
    },
    {
      "cell_type": "markdown",
      "source": [
        "**Numerical columns with null values and their relevant counts**"
      ],
      "metadata": {
        "id": "-nogZfiNvSP6"
      }
    },
    {
      "cell_type": "code",
      "source": [
        "# Displaying the numerical columns with null values and their relevant counts\n",
        "print(\"Numerical columns with null values and their relevant counts:\")\n",
        "for col in numerical_cols:\n",
        "    null_count = data[col].isnull().sum()\n",
        "    if null_count > 0:\n",
        "        print(f\"{col}: {null_count}\")"
      ],
      "metadata": {
        "colab": {
          "base_uri": "https://localhost:8080/"
        },
        "id": "peu8ZZNzvWOz",
        "outputId": "464bb0a3-f7a8-4264-97c1-0e659596998d"
      },
      "execution_count": 191,
      "outputs": [
        {
          "output_type": "stream",
          "name": "stdout",
          "text": [
            "Numerical columns with null values and their relevant counts:\n",
            "YEAR: 750\n",
            "QUANTITY: 3\n",
            "VALUE_RS: 750\n"
          ]
        }
      ]
    },
    {
      "cell_type": "markdown",
      "source": [
        "# **Data Preprocessing**"
      ],
      "metadata": {
        "id": "B6kYwgFRv_ZP"
      }
    },
    {
      "cell_type": "markdown",
      "source": [
        "## **Data Cleaning**"
      ],
      "metadata": {
        "id": "7TOn2qctwDi3"
      }
    },
    {
      "cell_type": "code",
      "source": [
        "# Step 1: Removing whitespaces from the object type columns\n",
        "object_columns = data.select_dtypes(include=['object']).columns\n",
        "data[object_columns] = data[object_columns].apply(lambda x: x.str.strip())"
      ],
      "metadata": {
        "id": "jM1Q_cgtwPvY"
      },
      "execution_count": 192,
      "outputs": []
    },
    {
      "cell_type": "code",
      "source": [
        "# Step 2: Removing unnecessary full stops(\".\") from the categorical columns\n",
        "data[categorical_cols] = data[categorical_cols].apply(lambda x: x.str.replace('.', ''))"
      ],
      "metadata": {
        "id": "g_Z1s7yfwTEK"
      },
      "execution_count": 193,
      "outputs": []
    },
    {
      "cell_type": "code",
      "source": [
        "# Step 3: Removing unnecessary special characters and trailing spaces from the 'DESCRIPTION_03' column\n",
        "# Removing the leading hyphen\n",
        "data['DESCRIPTION_03'] = data['DESCRIPTION_03'].str.lstrip('-')\n",
        "\n",
        "# Removing trailing spaces\n",
        "data['DESCRIPTION_03'] = data['DESCRIPTION_03'].str.strip()"
      ],
      "metadata": {
        "id": "e6b4y6q3wWty"
      },
      "execution_count": 194,
      "outputs": []
    },
    {
      "cell_type": "code",
      "source": [
        "# Step 4: Removing trailing spaces for the entire 'DESCRIPTION_02' column\n",
        "data['DESCRIPTION_02'] = data['DESCRIPTION_02'].str.strip()"
      ],
      "metadata": {
        "id": "oaEyhgBlwYTi"
      },
      "execution_count": 195,
      "outputs": []
    },
    {
      "cell_type": "code",
      "source": [
        "# Displaying the unique values and their counts relevant to each categorical column\n",
        "print(\"Unique values and their count relevant to each categorical column:\\n\")\n",
        "for col in categorical_features:\n",
        "    unique_values = data[col].unique()\n",
        "    value_counts = data[col].value_counts()\n",
        "    print(value_counts)\n",
        "    print(\" \")"
      ],
      "metadata": {
        "colab": {
          "base_uri": "https://localhost:8080/"
        },
        "id": "3yCwtxj4xBkT",
        "outputId": "3648e875-46fc-4c69-89ae-4c26d3df00d7"
      },
      "execution_count": 196,
      "outputs": [
        {
          "output_type": "stream",
          "name": "stdout",
          "text": [
            "Unique values and their count relevant to each categorical column:\n",
            "\n",
            "IMPORTER\n",
            "Unknown    1042\n",
            "Name: count, dtype: int64\n",
            " \n",
            "MONTH\n",
            "NOVEMBER     191\n",
            "FEBRUARY      13\n",
            "JULY          13\n",
            "MAY           11\n",
            "SEPTEMBER     11\n",
            "JANUARY       10\n",
            "JUNE           9\n",
            "AUGUST         8\n",
            "OCTOBER        8\n",
            "MARCH          6\n",
            "APRIL          6\n",
            "DECEMBER       6\n",
            "Name: count, dtype: int64\n",
            " \n",
            "HSCODE\n",
            "28070010      85\n",
            "2847000000    84\n",
            "28080000      67\n",
            "3102401000    58\n",
            "28291100      54\n",
            "              ..\n",
            "2801200032     1\n",
            "2801200031     1\n",
            "2801200030     1\n",
            "2801200029     1\n",
            "2812101100     1\n",
            "Name: count, Length: 131, dtype: int64\n",
            " \n",
            "COUNTRY\n",
            "Vietnam    299\n",
            "Russia     109\n",
            "Kenya       71\n",
            "Ukraine     58\n",
            "germany     51\n",
            "          ... \n",
            "USA          1\n",
            "Mexico       1\n",
            "CANADA       1\n",
            "India        1\n",
            "Romania      1\n",
            "Name: count, Length: 66, dtype: int64\n",
            " \n",
            "UNIT\n",
            "Kg     862\n",
            "KGS     47\n",
            "PCS     39\n",
            "NOS     33\n",
            "GMS     23\n",
            "MTS     19\n",
            "LTR     18\n",
            "DRM      1\n",
            "Name: count, dtype: int64\n",
            " \n",
            "DESCRIPTION_01\n",
            "Inorganic chemicals; Organic or inorganic compounds of precious metals, of rare earth metals, of radioactive elements or of isotopes    922\n",
            "Fertilizers                                                                                                                             120\n",
            "Name: count, dtype: int64\n",
            " \n",
            "DESCRIPTION_02\n",
            "Nitric acid; sulphonitric acids                                                   156\n",
            "Hydrogen peroxide, whether or not solidified with urea                            145\n",
            "Chlorates and perchlorates; bromates and perbromates; iodates and periodates      120\n",
            "Mineral or chemical fertilizers, nitrogenous                                      120\n",
            "Sulphuric acid; oleum                                                             120\n",
            "Halides and halide oxides of non metals                                           120\n",
            "Fluorine, chlorine, bromine and iodine                                            118\n",
            "Fluorides; fluorosilicates, fluoroaluminates, and other complex fluorine salts    116\n",
            "Cyanides, cyanide oxides and complex cyanides                                      27\n",
            "Name: count, dtype: int64\n",
            " \n",
            "DESCRIPTION_03\n",
            "Nitric acid; sulphonitric acids                                                   156\n",
            "Hydrogen peroxide, whether or not solidified with urea                            145\n",
            "Chlorates and perchlorates; bromates and perbromates; iodates and periodates      120\n",
            "Mineral or chemical fertilizers, nitrogenous                                      120\n",
            "Sulphuric acid; oleum                                                             120\n",
            "Halides and halide oxides of non metals                                           120\n",
            "Fluorides; fluorosilicates, fluoroaluminates, and other complex fluorine salts    116\n",
            "Iodine                                                                             80\n",
            "Chlorine                                                                           34\n",
            "Cyanides and cyanide oxides : Other                                                14\n",
            "Cyanides and cyanide oxides : Of sodium                                            13\n",
            "Bromine                                                                             4\n",
            "Name: count, dtype: int64\n",
            " \n"
          ]
        }
      ]
    },
    {
      "cell_type": "code",
      "source": [
        "# Step 5: Converting all the values in the 'COUNTRY' and the 'UNIT' columns to uppercase values\n",
        "data['COUNTRY'] = data['COUNTRY'].str.upper()\n",
        "data['UNIT'] = data['UNIT'].str.upper()\n",
        "\n",
        "# Displaying the modified dataset\n",
        "print(data)"
      ],
      "metadata": {
        "colab": {
          "base_uri": "https://localhost:8080/"
        },
        "id": "ZcLAz5MRxF2l",
        "outputId": "70f326eb-0d65-4fb2-fa8b-1247e8b3f0f2"
      },
      "execution_count": 197,
      "outputs": [
        {
          "output_type": "stream",
          "name": "stdout",
          "text": [
            "     IMPORTER    YEAR     MONTH      HSCODE      COUNTRY UNIT  QUANTITY  \\\n",
            "0     Unknown  2023.0   JANUARY      280110   BANGLADESH   KG  131600.0   \n",
            "1     Unknown  2023.0   JANUARY      280110        INDIA   KG   37800.0   \n",
            "2     Unknown  2023.0   JANUARY      280110     MALAYSIA   KG   12090.0   \n",
            "3     Unknown  2023.0  FEBRUARY      280110   BANGLADESH   KG   25200.0   \n",
            "4     Unknown  2023.0  FEBRUARY      280110        INDIA   KG   75599.0   \n",
            "...       ...     ...       ...         ...          ...  ...       ...   \n",
            "1037  Unknown     NaN       NaN    28121047  SOUTH KOREA   KG   16200.0   \n",
            "1038  Unknown     NaN       NaN    28121047  SOUTH KOREA   KG   16200.0   \n",
            "1039  Unknown     NaN       NaN  2812109900      UKRAINE   KG       NaN   \n",
            "1040  Unknown     NaN       NaN  2812109900      UKRAINE   KG       NaN   \n",
            "1041  Unknown     NaN       NaN    28121047  SOUTH KOREA   KG   16200.0   \n",
            "\n",
            "        VALUE_RS                                     DESCRIPTION_01  \\\n",
            "0     13877114.0  Inorganic chemicals; Organic or inorganic comp...   \n",
            "1      3924989.0  Inorganic chemicals; Organic or inorganic comp...   \n",
            "2      5390772.0  Inorganic chemicals; Organic or inorganic comp...   \n",
            "3      3089445.0  Inorganic chemicals; Organic or inorganic comp...   \n",
            "4      6939860.0  Inorganic chemicals; Organic or inorganic comp...   \n",
            "...          ...                                                ...   \n",
            "1037         NaN  Inorganic chemicals; Organic or inorganic comp...   \n",
            "1038         NaN  Inorganic chemicals; Organic or inorganic comp...   \n",
            "1039         NaN  Inorganic chemicals; Organic or inorganic comp...   \n",
            "1040         NaN  Inorganic chemicals; Organic or inorganic comp...   \n",
            "1041         NaN  Inorganic chemicals; Organic or inorganic comp...   \n",
            "\n",
            "                               DESCRIPTION_02  \\\n",
            "0      Fluorine, chlorine, bromine and iodine   \n",
            "1      Fluorine, chlorine, bromine and iodine   \n",
            "2      Fluorine, chlorine, bromine and iodine   \n",
            "3      Fluorine, chlorine, bromine and iodine   \n",
            "4      Fluorine, chlorine, bromine and iodine   \n",
            "...                                       ...   \n",
            "1037  Halides and halide oxides of non metals   \n",
            "1038  Halides and halide oxides of non metals   \n",
            "1039  Halides and halide oxides of non metals   \n",
            "1040  Halides and halide oxides of non metals   \n",
            "1041  Halides and halide oxides of non metals   \n",
            "\n",
            "                               DESCRIPTION_03  \n",
            "0                                    Chlorine  \n",
            "1                                    Chlorine  \n",
            "2                                    Chlorine  \n",
            "3                                    Chlorine  \n",
            "4                                    Chlorine  \n",
            "...                                       ...  \n",
            "1037  Halides and halide oxides of non metals  \n",
            "1038  Halides and halide oxides of non metals  \n",
            "1039  Halides and halide oxides of non metals  \n",
            "1040  Halides and halide oxides of non metals  \n",
            "1041  Halides and halide oxides of non metals  \n",
            "\n",
            "[1042 rows x 11 columns]\n"
          ]
        }
      ]
    },
    {
      "cell_type": "code",
      "source": [
        "# Step 7: Handling the HSCODES\n",
        "\n",
        "# Checking the length of the HSCODES and determining the maximum length\n",
        "data['HSCODE_LENGTH'] = data['HSCODE'].apply(len)\n",
        "max_length = data['HSCODE_LENGTH'].max()\n",
        "\n",
        "# Padding HSCODE values with trailing zeros to match the maximum length\n",
        "data['HSCODE'] = data['HSCODE'].apply(lambda x: x.ljust(max_length, '0'))\n",
        "\n",
        "# Dropping the helper column 'HSCODE_LENGTH' as it's no longer needed\n",
        "data.drop(columns=['HSCODE_LENGTH'], inplace=True)\n",
        "\n",
        "# Displaying the modified dataset\n",
        "print(data)"
      ],
      "metadata": {
        "colab": {
          "base_uri": "https://localhost:8080/"
        },
        "id": "YMb42luGx01n",
        "outputId": "3f182735-4373-4e50-cf7f-4e68b49bf372"
      },
      "execution_count": 198,
      "outputs": [
        {
          "output_type": "stream",
          "name": "stdout",
          "text": [
            "     IMPORTER    YEAR     MONTH      HSCODE      COUNTRY UNIT  QUANTITY  \\\n",
            "0     Unknown  2023.0   JANUARY  2801100000   BANGLADESH   KG  131600.0   \n",
            "1     Unknown  2023.0   JANUARY  2801100000        INDIA   KG   37800.0   \n",
            "2     Unknown  2023.0   JANUARY  2801100000     MALAYSIA   KG   12090.0   \n",
            "3     Unknown  2023.0  FEBRUARY  2801100000   BANGLADESH   KG   25200.0   \n",
            "4     Unknown  2023.0  FEBRUARY  2801100000        INDIA   KG   75599.0   \n",
            "...       ...     ...       ...         ...          ...  ...       ...   \n",
            "1037  Unknown     NaN       NaN  2812104700  SOUTH KOREA   KG   16200.0   \n",
            "1038  Unknown     NaN       NaN  2812104700  SOUTH KOREA   KG   16200.0   \n",
            "1039  Unknown     NaN       NaN  2812109900      UKRAINE   KG       NaN   \n",
            "1040  Unknown     NaN       NaN  2812109900      UKRAINE   KG       NaN   \n",
            "1041  Unknown     NaN       NaN  2812104700  SOUTH KOREA   KG   16200.0   \n",
            "\n",
            "        VALUE_RS                                     DESCRIPTION_01  \\\n",
            "0     13877114.0  Inorganic chemicals; Organic or inorganic comp...   \n",
            "1      3924989.0  Inorganic chemicals; Organic or inorganic comp...   \n",
            "2      5390772.0  Inorganic chemicals; Organic or inorganic comp...   \n",
            "3      3089445.0  Inorganic chemicals; Organic or inorganic comp...   \n",
            "4      6939860.0  Inorganic chemicals; Organic or inorganic comp...   \n",
            "...          ...                                                ...   \n",
            "1037         NaN  Inorganic chemicals; Organic or inorganic comp...   \n",
            "1038         NaN  Inorganic chemicals; Organic or inorganic comp...   \n",
            "1039         NaN  Inorganic chemicals; Organic or inorganic comp...   \n",
            "1040         NaN  Inorganic chemicals; Organic or inorganic comp...   \n",
            "1041         NaN  Inorganic chemicals; Organic or inorganic comp...   \n",
            "\n",
            "                               DESCRIPTION_02  \\\n",
            "0      Fluorine, chlorine, bromine and iodine   \n",
            "1      Fluorine, chlorine, bromine and iodine   \n",
            "2      Fluorine, chlorine, bromine and iodine   \n",
            "3      Fluorine, chlorine, bromine and iodine   \n",
            "4      Fluorine, chlorine, bromine and iodine   \n",
            "...                                       ...   \n",
            "1037  Halides and halide oxides of non metals   \n",
            "1038  Halides and halide oxides of non metals   \n",
            "1039  Halides and halide oxides of non metals   \n",
            "1040  Halides and halide oxides of non metals   \n",
            "1041  Halides and halide oxides of non metals   \n",
            "\n",
            "                               DESCRIPTION_03  \n",
            "0                                    Chlorine  \n",
            "1                                    Chlorine  \n",
            "2                                    Chlorine  \n",
            "3                                    Chlorine  \n",
            "4                                    Chlorine  \n",
            "...                                       ...  \n",
            "1037  Halides and halide oxides of non metals  \n",
            "1038  Halides and halide oxides of non metals  \n",
            "1039  Halides and halide oxides of non metals  \n",
            "1040  Halides and halide oxides of non metals  \n",
            "1041  Halides and halide oxides of non metals  \n",
            "\n",
            "[1042 rows x 11 columns]\n"
          ]
        }
      ]
    },
    {
      "cell_type": "code",
      "source": [
        "# Step 8: Handling the 'COUNTRY' Column\n",
        "\n",
        "# Replacing specific country names\n",
        "data['COUNTRY'] = data['COUNTRY'].replace({\n",
        "    'United States': 'USA',\n",
        "    'United States of America': 'USA',\n",
        "    'United Kingdom': 'UK',\n",
        "    'Korea, Republic of': 'South Korea'\n",
        "})\n",
        "\n",
        "print(data)"
      ],
      "metadata": {
        "colab": {
          "base_uri": "https://localhost:8080/"
        },
        "id": "jlmJS0GLx408",
        "outputId": "ea8cfb33-30cb-48a8-bbbf-de71adfc4aab"
      },
      "execution_count": 199,
      "outputs": [
        {
          "output_type": "stream",
          "name": "stdout",
          "text": [
            "     IMPORTER    YEAR     MONTH      HSCODE      COUNTRY UNIT  QUANTITY  \\\n",
            "0     Unknown  2023.0   JANUARY  2801100000   BANGLADESH   KG  131600.0   \n",
            "1     Unknown  2023.0   JANUARY  2801100000        INDIA   KG   37800.0   \n",
            "2     Unknown  2023.0   JANUARY  2801100000     MALAYSIA   KG   12090.0   \n",
            "3     Unknown  2023.0  FEBRUARY  2801100000   BANGLADESH   KG   25200.0   \n",
            "4     Unknown  2023.0  FEBRUARY  2801100000        INDIA   KG   75599.0   \n",
            "...       ...     ...       ...         ...          ...  ...       ...   \n",
            "1037  Unknown     NaN       NaN  2812104700  SOUTH KOREA   KG   16200.0   \n",
            "1038  Unknown     NaN       NaN  2812104700  SOUTH KOREA   KG   16200.0   \n",
            "1039  Unknown     NaN       NaN  2812109900      UKRAINE   KG       NaN   \n",
            "1040  Unknown     NaN       NaN  2812109900      UKRAINE   KG       NaN   \n",
            "1041  Unknown     NaN       NaN  2812104700  SOUTH KOREA   KG   16200.0   \n",
            "\n",
            "        VALUE_RS                                     DESCRIPTION_01  \\\n",
            "0     13877114.0  Inorganic chemicals; Organic or inorganic comp...   \n",
            "1      3924989.0  Inorganic chemicals; Organic or inorganic comp...   \n",
            "2      5390772.0  Inorganic chemicals; Organic or inorganic comp...   \n",
            "3      3089445.0  Inorganic chemicals; Organic or inorganic comp...   \n",
            "4      6939860.0  Inorganic chemicals; Organic or inorganic comp...   \n",
            "...          ...                                                ...   \n",
            "1037         NaN  Inorganic chemicals; Organic or inorganic comp...   \n",
            "1038         NaN  Inorganic chemicals; Organic or inorganic comp...   \n",
            "1039         NaN  Inorganic chemicals; Organic or inorganic comp...   \n",
            "1040         NaN  Inorganic chemicals; Organic or inorganic comp...   \n",
            "1041         NaN  Inorganic chemicals; Organic or inorganic comp...   \n",
            "\n",
            "                               DESCRIPTION_02  \\\n",
            "0      Fluorine, chlorine, bromine and iodine   \n",
            "1      Fluorine, chlorine, bromine and iodine   \n",
            "2      Fluorine, chlorine, bromine and iodine   \n",
            "3      Fluorine, chlorine, bromine and iodine   \n",
            "4      Fluorine, chlorine, bromine and iodine   \n",
            "...                                       ...   \n",
            "1037  Halides and halide oxides of non metals   \n",
            "1038  Halides and halide oxides of non metals   \n",
            "1039  Halides and halide oxides of non metals   \n",
            "1040  Halides and halide oxides of non metals   \n",
            "1041  Halides and halide oxides of non metals   \n",
            "\n",
            "                               DESCRIPTION_03  \n",
            "0                                    Chlorine  \n",
            "1                                    Chlorine  \n",
            "2                                    Chlorine  \n",
            "3                                    Chlorine  \n",
            "4                                    Chlorine  \n",
            "...                                       ...  \n",
            "1037  Halides and halide oxides of non metals  \n",
            "1038  Halides and halide oxides of non metals  \n",
            "1039  Halides and halide oxides of non metals  \n",
            "1040  Halides and halide oxides of non metals  \n",
            "1041  Halides and halide oxides of non metals  \n",
            "\n",
            "[1042 rows x 11 columns]\n"
          ]
        }
      ]
    },
    {
      "cell_type": "code",
      "source": [
        "# Displaying the unique values and their counts relevant to each categorical column\n",
        "print(\"Unique values and their count relevant to each categorical column:\\n\")\n",
        "for col in categorical_features:\n",
        "    unique_values = data[col].unique()\n",
        "    value_counts = data[col].value_counts()\n",
        "    print(value_counts)\n",
        "    print(\" \")"
      ],
      "metadata": {
        "colab": {
          "base_uri": "https://localhost:8080/"
        },
        "id": "TXhYCKYP4nMw",
        "outputId": "0d46b9c1-190a-4fcd-fd74-4032fd3a6649"
      },
      "execution_count": 200,
      "outputs": [
        {
          "output_type": "stream",
          "name": "stdout",
          "text": [
            "Unique values and their count relevant to each categorical column:\n",
            "\n",
            "IMPORTER\n",
            "Unknown    1042\n",
            "Name: count, dtype: int64\n",
            " \n",
            "MONTH\n",
            "NOVEMBER     191\n",
            "FEBRUARY      13\n",
            "JULY          13\n",
            "MAY           11\n",
            "SEPTEMBER     11\n",
            "JANUARY       10\n",
            "JUNE           9\n",
            "AUGUST         8\n",
            "OCTOBER        8\n",
            "MARCH          6\n",
            "APRIL          6\n",
            "DECEMBER       6\n",
            "Name: count, dtype: int64\n",
            " \n",
            "HSCODE\n",
            "2847000000    145\n",
            "2808000000    136\n",
            "2807001000     85\n",
            "3102401000     58\n",
            "2829110000     54\n",
            "             ... \n",
            "2801200029      1\n",
            "2801200028      1\n",
            "2801200027      1\n",
            "2801200026      1\n",
            "2812101100      1\n",
            "Name: count, Length: 117, dtype: int64\n",
            " \n",
            "COUNTRY\n",
            "VIETNAM                 299\n",
            "RUSSIA                  109\n",
            "KENYA                    71\n",
            "BELGIUM                  59\n",
            "SOUTH KOREA              58\n",
            "UKRAINE                  58\n",
            "GERMANY                  53\n",
            "COLOMBIA                 29\n",
            "INDIA                    29\n",
            "CHINA                    28\n",
            "BANGLADESH               27\n",
            "SLOVENIA                 24\n",
            "UNITED STATES            23\n",
            "MALAYSIA                 19\n",
            "US VIRGIN ISLANDS        19\n",
            "URUGUAY                  18\n",
            "UNITED KINGDOM           17\n",
            "THAILAND                 17\n",
            "JAPAN                    10\n",
            "SRI LANKA                 8\n",
            "GERMENY                   6\n",
            "CAMBODIA                  5\n",
            "ISRAEL                    4\n",
            "SWITZERLAND               4\n",
            "KOREA,REPUBLIC OF         4\n",
            "UK                        3\n",
            "CANADA                    3\n",
            "TAIWAN                    3\n",
            "TURKMENISTAN              3\n",
            "CHILE                     2\n",
            "SINGAPORE                 2\n",
            "FRANCE                    2\n",
            "INDONESIA                 2\n",
            "KAZAKHSTAN                2\n",
            "NIGERIA                   1\n",
            "SOUTH AFRICA              1\n",
            "UNITED ARAB EMIRATES      1\n",
            "SPAIN                     1\n",
            "SAUDI ARABIA              1\n",
            "ARGENTINA                 1\n",
            "BRAZIL                    1\n",
            "ITALY                     1\n",
            "USA                       1\n",
            "EGYPT                     1\n",
            "SLOVAKIA                  1\n",
            "ROMANIA                   1\n",
            "AUSTRIA                   1\n",
            "MEXICO                    1\n",
            "DENMARK                   1\n",
            "PAKISTAN                  1\n",
            "NETHERLANDS (HOLAND)      1\n",
            "GEORGIA                   1\n",
            "Name: count, dtype: int64\n",
            " \n",
            "UNIT\n",
            "KG     862\n",
            "KGS     47\n",
            "PCS     39\n",
            "NOS     33\n",
            "GMS     23\n",
            "MTS     19\n",
            "LTR     18\n",
            "DRM      1\n",
            "Name: count, dtype: int64\n",
            " \n",
            "DESCRIPTION_01\n",
            "Inorganic chemicals; Organic or inorganic compounds of precious metals, of rare earth metals, of radioactive elements or of isotopes    922\n",
            "Fertilizers                                                                                                                             120\n",
            "Name: count, dtype: int64\n",
            " \n",
            "DESCRIPTION_02\n",
            "Nitric acid; sulphonitric acids                                                   156\n",
            "Hydrogen peroxide, whether or not solidified with urea                            145\n",
            "Chlorates and perchlorates; bromates and perbromates; iodates and periodates      120\n",
            "Mineral or chemical fertilizers, nitrogenous                                      120\n",
            "Sulphuric acid; oleum                                                             120\n",
            "Halides and halide oxides of non metals                                           120\n",
            "Fluorine, chlorine, bromine and iodine                                            118\n",
            "Fluorides; fluorosilicates, fluoroaluminates, and other complex fluorine salts    116\n",
            "Cyanides, cyanide oxides and complex cyanides                                      27\n",
            "Name: count, dtype: int64\n",
            " \n",
            "DESCRIPTION_03\n",
            "Nitric acid; sulphonitric acids                                                   156\n",
            "Hydrogen peroxide, whether or not solidified with urea                            145\n",
            "Chlorates and perchlorates; bromates and perbromates; iodates and periodates      120\n",
            "Mineral or chemical fertilizers, nitrogenous                                      120\n",
            "Sulphuric acid; oleum                                                             120\n",
            "Halides and halide oxides of non metals                                           120\n",
            "Fluorides; fluorosilicates, fluoroaluminates, and other complex fluorine salts    116\n",
            "Iodine                                                                             80\n",
            "Chlorine                                                                           34\n",
            "Cyanides and cyanide oxides : Other                                                14\n",
            "Cyanides and cyanide oxides : Of sodium                                            13\n",
            "Bromine                                                                             4\n",
            "Name: count, dtype: int64\n",
            " \n"
          ]
        }
      ]
    },
    {
      "cell_type": "markdown",
      "source": [
        "## **Handling Missing Values**"
      ],
      "metadata": {
        "id": "cy2KAFdJ4tYe"
      }
    },
    {
      "cell_type": "markdown",
      "source": [
        "**Handling missing values in the categorical columns**"
      ],
      "metadata": {
        "id": "07ZMkY7Q4xAp"
      }
    },
    {
      "cell_type": "markdown",
      "source": [
        "**Replacing all the missing values with 'Unknown'**"
      ],
      "metadata": {
        "id": "slCr4s1c40XT"
      }
    },
    {
      "cell_type": "code",
      "source": [
        "# Step 9: Handling missing values in the categorical columns\n",
        "\n",
        "# Replacing all the missing values in the categorical columns with 'Unknown' for imputation\n",
        "data[categorical_features] = data[categorical_features].fillna('Unknown')"
      ],
      "metadata": {
        "id": "Il2YKC5a4214"
      },
      "execution_count": 201,
      "outputs": []
    },
    {
      "cell_type": "markdown",
      "source": [
        "**Checking for any missing values which is left behind when replacing with 'Unkown'**"
      ],
      "metadata": {
        "id": "lbfEWZsY45vA"
      }
    },
    {
      "cell_type": "code",
      "source": [
        "# Verifying the changes after replacing the missing values with 'Unknown'\n",
        "print(\"Checking for any missing values left behind after replacing with 'Unknown':\")\n",
        "for col in categorical_features:\n",
        "    null_count = data[col].isnull().sum()\n",
        "    if null_count > 0:\n",
        "        print(f\"{col}: {null_count} missing values\")\n",
        "    else:\n",
        "        print(f\"{col}: No missing values\")\n",
        "    print(\" \")"
      ],
      "metadata": {
        "colab": {
          "base_uri": "https://localhost:8080/"
        },
        "id": "E_4BAO_l5DJI",
        "outputId": "f760c1f6-f10c-4119-e221-6bfae2d58d5d"
      },
      "execution_count": 202,
      "outputs": [
        {
          "output_type": "stream",
          "name": "stdout",
          "text": [
            "Checking for any missing values left behind after replacing with 'Unknown':\n",
            "IMPORTER: No missing values\n",
            " \n",
            "MONTH: No missing values\n",
            " \n",
            "HSCODE: No missing values\n",
            " \n",
            "COUNTRY: No missing values\n",
            " \n",
            "UNIT: No missing values\n",
            " \n",
            "DESCRIPTION_01: No missing values\n",
            " \n",
            "DESCRIPTION_02: No missing values\n",
            " \n",
            "DESCRIPTION_03: No missing values\n",
            " \n"
          ]
        }
      ]
    },
    {
      "cell_type": "code",
      "source": [
        "# Handling the 'Unknown' values in the 'COUNTRY' column using the mode\n",
        "mode_country = data['COUNTRY'].mode()[0]\n",
        "data['COUNTRY'] = data['COUNTRY'].replace('Unknown', mode_country)"
      ],
      "metadata": {
        "id": "IEFBMCl95Mjr"
      },
      "execution_count": 203,
      "outputs": []
    },
    {
      "cell_type": "code",
      "source": [
        "# Dropping the 'MONTH' Columns due to the significant amount of null values\n",
        "data.drop(columns=['MONTH'], inplace=True)"
      ],
      "metadata": {
        "id": "Tz9bDs-M5OIv"
      },
      "execution_count": 204,
      "outputs": []
    },
    {
      "cell_type": "code",
      "source": [
        "# Displaying dataset information\n",
        "print(\"\\nDataset information after categorical imputation:\")\n",
        "data.info()"
      ],
      "metadata": {
        "colab": {
          "base_uri": "https://localhost:8080/"
        },
        "id": "weFibo5D5Qmk",
        "outputId": "c03933e0-8619-447b-adaf-90d55f9398ed"
      },
      "execution_count": 205,
      "outputs": [
        {
          "output_type": "stream",
          "name": "stdout",
          "text": [
            "\n",
            "Dataset information after categorical imputation:\n",
            "<class 'pandas.core.frame.DataFrame'>\n",
            "RangeIndex: 1042 entries, 0 to 1041\n",
            "Data columns (total 10 columns):\n",
            " #   Column          Non-Null Count  Dtype  \n",
            "---  ------          --------------  -----  \n",
            " 0   IMPORTER        1042 non-null   object \n",
            " 1   YEAR            292 non-null    float64\n",
            " 2   HSCODE          1042 non-null   object \n",
            " 3   COUNTRY         1042 non-null   object \n",
            " 4   UNIT            1042 non-null   object \n",
            " 5   QUANTITY        1039 non-null   float64\n",
            " 6   VALUE_RS        292 non-null    float64\n",
            " 7   DESCRIPTION_01  1042 non-null   object \n",
            " 8   DESCRIPTION_02  1042 non-null   object \n",
            " 9   DESCRIPTION_03  1042 non-null   object \n",
            "dtypes: float64(3), object(7)\n",
            "memory usage: 81.5+ KB\n"
          ]
        }
      ]
    },
    {
      "cell_type": "code",
      "source": [
        "# Displaying the unique values in the 'IMPORTER' column\n",
        "unique_importers = data['IMPORTER'].unique()\n",
        "print(\"Unique Importers:\")\n",
        "print(unique_importers)"
      ],
      "metadata": {
        "colab": {
          "base_uri": "https://localhost:8080/"
        },
        "id": "oCST03Ww5TDw",
        "outputId": "14c8fbe3-a1e7-4ecc-e613-62ac8cda2dbd"
      },
      "execution_count": 206,
      "outputs": [
        {
          "output_type": "stream",
          "name": "stdout",
          "text": [
            "Unique Importers:\n",
            "['Unknown']\n"
          ]
        }
      ]
    },
    {
      "cell_type": "code",
      "source": [
        "# Display unique values in the 'COUNTRY' column\n",
        "unique_countries = data['COUNTRY'].unique()\n",
        "print(\"Unique Countries:\")\n",
        "print(unique_countries)"
      ],
      "metadata": {
        "colab": {
          "base_uri": "https://localhost:8080/"
        },
        "id": "hp-nwjXS5UYW",
        "outputId": "2efa0d47-68ae-414f-8ee1-f4ef60362b71"
      },
      "execution_count": 207,
      "outputs": [
        {
          "output_type": "stream",
          "name": "stdout",
          "text": [
            "Unique Countries:\n",
            "['BANGLADESH' 'INDIA' 'MALAYSIA' 'AUSTRIA' 'CHINA' 'USA' 'SOUTH KOREA'\n",
            " 'THAILAND' 'GERMENY' 'CANADA' 'DENMARK' 'UK' 'JAPAN' 'PAKISTAN'\n",
            " 'NETHERLANDS (HOLAND)' 'BELGIUM' 'SINGAPORE' 'SPAIN' 'FRANCE' 'GERMANY'\n",
            " 'ISRAEL' 'CHILE' 'SWITZERLAND' 'UNITED STATES' 'TURKMENISTAN'\n",
            " 'KOREA,REPUBLIC OF' 'UNITED KINGDOM' 'TAIWAN' 'RUSSIA' 'VIETNAM'\n",
            " 'US VIRGIN ISLANDS' 'KENYA' 'UKRAINE' 'URUGUAY' 'COLOMBIA' 'INDONESIA'\n",
            " 'KAZAKHSTAN' 'CAMBODIA' 'MEXICO' 'SLOVENIA' 'ROMANIA' 'SLOVAKIA' 'EGYPT'\n",
            " 'SAUDI ARABIA' 'ITALY' 'UNITED ARAB EMIRATES' 'NIGERIA' 'SOUTH AFRICA'\n",
            " 'SRI LANKA' 'ARGENTINA' 'BRAZIL' 'GEORGIA']\n"
          ]
        }
      ]
    },
    {
      "cell_type": "code",
      "source": [
        "# Display unique values in the 'HSCODE' column\n",
        "unique_hscodes = data['HSCODE'].unique()\n",
        "print(\"Unique HSCodes:\")\n",
        "print(unique_hscodes)"
      ],
      "metadata": {
        "colab": {
          "base_uri": "https://localhost:8080/"
        },
        "id": "qLOoajLV5hfp",
        "outputId": "1d517bf8-464b-4de0-b2a0-60795c9704d6"
      },
      "execution_count": 208,
      "outputs": [
        {
          "output_type": "stream",
          "name": "stdout",
          "text": [
            "Unique HSCodes:\n",
            "['2801100000' '2808000000' '2837110000' '2837190000' '2847000000'\n",
            " '2808001000' '2801200000' '2801302000' '2837209000' '2837191000'\n",
            " '2837202000' '2837199000' '2801200001' '2801200002' '2801200003'\n",
            " '2801200004' '2801200005' '2801200006' '2801200007' '2801200008'\n",
            " '2801200009' '2801200010' '2801200011' '2801200012' '2801200013'\n",
            " '2801200014' '2801200015' '2801200016' '2801200017' '2801200018'\n",
            " '2801200019' '2801200020' '2801200021' '2801200022' '2801200023'\n",
            " '2801200024' '2801200025' '2801200026' '2801200027' '2801200028'\n",
            " '2801200029' '2801200030' '2801200031' '2801200032' '2801200033'\n",
            " '2801200034' '2801200035' '2801200036' '2801200037' '2801200038'\n",
            " '2801200039' '2801200040' '2801200041' '2801200042' '2801200043'\n",
            " '2801200044' '2801200045' '2801200046' '2801200047' '2801200048'\n",
            " '2801200049' '2801200050' '2801200051' '2801200052' '2801200053'\n",
            " '2801200054' '2801200055' '2801200056' '2801200057' '2801200058'\n",
            " '2801200059' '2801200060' '2801200061' '2801200062' '2801200063'\n",
            " '2829901000' '2829192000' '2829902000' '2829190000' '2829110000'\n",
            " '2829909000' '2829908000' '2829903000' '3102210000' '3102909000'\n",
            " '3102401000' '3102100000' '3102101000' '3102600100' '3102600000'\n",
            " '3102500000' '3102299000' '2807001000' '2807002000' '2812900000'\n",
            " '2812109000' '2812101000' '2812105000' '2826300000' '2826199000'\n",
            " '2826900000' '2826191000' '2826120000' '2807009000' '2826190000'\n",
            " '2826908000' '2812190000' '2812120000' '2812199000' '2812191900'\n",
            " '2812160000' '2812170000' '2812109900' '2812104300' '2812104700'\n",
            " '2812104200' '2812101100']\n"
          ]
        }
      ]
    },
    {
      "cell_type": "code",
      "source": [
        "# Display the unique values in the 'UNIT' column\n",
        "unique_units = data['UNIT'].unique()\n",
        "print(\"Unique Units:\")\n",
        "print(unique_units)"
      ],
      "metadata": {
        "colab": {
          "base_uri": "https://localhost:8080/"
        },
        "id": "5gQaObjP5kgP",
        "outputId": "6146ccc0-c2f3-45bc-85cc-3fd7dce12fba"
      },
      "execution_count": 209,
      "outputs": [
        {
          "output_type": "stream",
          "name": "stdout",
          "text": [
            "Unique Units:\n",
            "['KG' 'LTR' 'PCS' 'KGS' 'NOS' 'GMS' 'MTS' 'DRM']\n"
          ]
        }
      ]
    },
    {
      "cell_type": "code",
      "source": [
        "# Displaying the unique values in the 'DESCRIPTION_01' column\n",
        "unique_descriptions_01 = data['DESCRIPTION_01'].unique()\n",
        "print(\"Unique Descriptions_01:\")\n",
        "print(unique_descriptions_01)"
      ],
      "metadata": {
        "colab": {
          "base_uri": "https://localhost:8080/"
        },
        "id": "QTQcC48v5m4E",
        "outputId": "bf843464-ad77-47db-fb14-86d8907c810e"
      },
      "execution_count": 210,
      "outputs": [
        {
          "output_type": "stream",
          "name": "stdout",
          "text": [
            "Unique Descriptions_01:\n",
            "['Inorganic chemicals; Organic or inorganic compounds of precious metals, of rare earth metals, of radioactive elements or of isotopes'\n",
            " 'Fertilizers']\n"
          ]
        }
      ]
    },
    {
      "cell_type": "code",
      "source": [
        "# Displaying the unique values in the 'DESCRIPTION_02' column\n",
        "unique_descriptions_02 = data['DESCRIPTION_02'].unique()\n",
        "print(\"Unique Descriptions_02:\")\n",
        "print(unique_descriptions_02)"
      ],
      "metadata": {
        "colab": {
          "base_uri": "https://localhost:8080/"
        },
        "id": "LPSimJ9y5qYx",
        "outputId": "b9dd684a-6f36-4a9a-e0fa-df1753d355b5"
      },
      "execution_count": 211,
      "outputs": [
        {
          "output_type": "stream",
          "name": "stdout",
          "text": [
            "Unique Descriptions_02:\n",
            "['Fluorine, chlorine, bromine and iodine'\n",
            " 'Nitric acid; sulphonitric acids'\n",
            " 'Cyanides, cyanide oxides and complex cyanides'\n",
            " 'Hydrogen peroxide, whether or not solidified with urea'\n",
            " 'Chlorates and perchlorates; bromates and perbromates; iodates and periodates'\n",
            " 'Mineral or chemical fertilizers, nitrogenous' 'Sulphuric acid; oleum'\n",
            " 'Halides and halide oxides of non metals'\n",
            " 'Fluorides; fluorosilicates, fluoroaluminates, and other complex fluorine salts']\n"
          ]
        }
      ]
    },
    {
      "cell_type": "code",
      "source": [
        "# Displaying the unique values in the 'DESCRIPTION_03' column\n",
        "unique_descriptions_03 = data['DESCRIPTION_03'].unique()\n",
        "print(\"Unique Descriptions_03:\")\n",
        "print(unique_descriptions_03)"
      ],
      "metadata": {
        "colab": {
          "base_uri": "https://localhost:8080/"
        },
        "id": "n6fzgjZI5s18",
        "outputId": "d30dd141-118a-4287-da98-dfb35e121aea"
      },
      "execution_count": 212,
      "outputs": [
        {
          "output_type": "stream",
          "name": "stdout",
          "text": [
            "Unique Descriptions_03:\n",
            "['Chlorine' 'Nitric acid; sulphonitric acids'\n",
            " 'Cyanides and cyanide oxides : Of sodium'\n",
            " 'Cyanides and cyanide oxides : Other'\n",
            " 'Hydrogen peroxide, whether or not solidified with urea' 'Iodine'\n",
            " 'Bromine'\n",
            " 'Chlorates and perchlorates; bromates and perbromates; iodates and periodates'\n",
            " 'Mineral or chemical fertilizers, nitrogenous' 'Sulphuric acid; oleum'\n",
            " 'Halides and halide oxides of non metals'\n",
            " 'Fluorides; fluorosilicates, fluoroaluminates, and other complex fluorine salts']\n"
          ]
        }
      ]
    },
    {
      "cell_type": "markdown",
      "source": [
        "# **Data Encoding**"
      ],
      "metadata": {
        "id": "B9u-OzWL5wTc"
      }
    },
    {
      "cell_type": "code",
      "source": [
        "import numpy as np\n",
        "import pandas as pd\n",
        "import pickle\n",
        "from sklearn.preprocessing import LabelEncoder\n",
        "from tensorflow.keras.models import Sequential\n",
        "from tensorflow.keras.layers import Embedding, Flatten\n",
        "\n",
        "# Step 11: Encoding the Categorical Columns\n",
        "encoding_columns = ['IMPORTER', 'HSCODE', 'COUNTRY', 'UNIT', 'DESCRIPTION_01', 'DESCRIPTION_02', 'DESCRIPTION_03']\n",
        "label_encoders = {}\n",
        "\n",
        "# Creating a label encoder object and encoding columns\n",
        "for col in encoding_columns:\n",
        "    label_encoder = LabelEncoder()\n",
        "    data[col] = label_encoder.fit_transform(data[col])  # Label encode the column\n",
        "\n",
        "    # Save the encoder for each column (except 'IMPORTER')\n",
        "    if col != 'IMPORTER':\n",
        "        with open(f'/content/drive/MyDrive/Importer_Risk_Prediction_2/encoders/encoded_{col}.pkl', 'wb') as f:\n",
        "            pickle.dump(label_encoder, f)\n",
        "        label_encoders[col] = label_encoder  # Save encoder for later use\n",
        "        print(f\"Encoded column: {col} saved successfully\")\n",
        "    else:\n",
        "        print(f\"Encoded column: {col}, but encoder not saved.\")"
      ],
      "metadata": {
        "colab": {
          "base_uri": "https://localhost:8080/"
        },
        "id": "7goDcxfZ7ted",
        "outputId": "87810152-54dd-49cd-9d62-1558a0baff4f"
      },
      "execution_count": 213,
      "outputs": [
        {
          "output_type": "stream",
          "name": "stdout",
          "text": [
            "Encoded column: IMPORTER, but encoder not saved.\n",
            "Encoded column: HSCODE saved successfully\n",
            "Encoded column: COUNTRY saved successfully\n",
            "Encoded column: UNIT saved successfully\n",
            "Encoded column: DESCRIPTION_01 saved successfully\n",
            "Encoded column: DESCRIPTION_02 saved successfully\n",
            "Encoded column: DESCRIPTION_03 saved successfully\n"
          ]
        }
      ]
    },
    {
      "cell_type": "markdown",
      "source": [
        "## **Handling missing values in the numerical columns**"
      ],
      "metadata": {
        "id": "zFvbWQvzCwyF"
      }
    },
    {
      "cell_type": "markdown",
      "source": [
        "**Using K-NN Imputaion to efficiently capture the small missing values and the captures local patterns in the 'Quantity' coulmn**"
      ],
      "metadata": {
        "id": "_RiSrKapC0R9"
      }
    },
    {
      "cell_type": "code",
      "source": [
        "# Step 11: Handling missing values in the numerical columns\n",
        "\n",
        "# KNN Imputation for 'QUANTITY'\n",
        "knn_imputer = KNNImputer(n_neighbors=5)\n",
        "data[['QUANTITY']] = knn_imputer.fit_transform(data[['QUANTITY']])"
      ],
      "metadata": {
        "id": "cACoBV4HC3Fa"
      },
      "execution_count": 214,
      "outputs": []
    },
    {
      "cell_type": "markdown",
      "source": [
        "## **Handling Missing Values in the Categorical Columns**"
      ],
      "metadata": {
        "id": "EePQVAYQC8LY"
      }
    },
    {
      "cell_type": "markdown",
      "source": [
        "**Handling the missing data in the 'IMPORTER' column using K-Means Clustering for more accurate predictions of the missing values.**"
      ],
      "metadata": {
        "id": "FLyi3iXuDB0I"
      }
    },
    {
      "cell_type": "code",
      "source": [
        "# Step 12: Handling the missing values in the 'IMPORTER' Column (Categorical Column)\n",
        "\n",
        "# Imputing the 'IMPORTER' column using the K-Means Clustering\n",
        "\n",
        "# Preparing features for clustering\n",
        "X = data[['COUNTRY', 'HSCODE', 'QUANTITY']]\n",
        "\n",
        "# Applying K-Means clustering\n",
        "kmeans = KMeans(n_clusters=5, random_state=42)\n",
        "data['CLUSTER'] = kmeans.fit_predict(X)\n",
        "\n",
        "# Assigning importer names based on clusters\n",
        "importer_names = [\n",
        "    \"Global Traders Inc.\", \"Eastern Imports Ltd.\", \"Pacific Exports Co.\",\n",
        "    \"Summit Commerce\", \"EverGreen Enterprises\"\n",
        "]\n",
        "data['IMPORTER'] = data['CLUSTER'].apply(lambda x: importer_names[x])\n",
        "\n",
        "# Dropping the helper columns(encoded categorical columns)\n",
        "data = data.drop(columns=['CLUSTER'])\n",
        "\n",
        "# Displaying the updated dataset\n",
        "print(data)"
      ],
      "metadata": {
        "colab": {
          "base_uri": "https://localhost:8080/"
        },
        "id": "tJzC82jrDzos",
        "outputId": "8b7ce5fe-d2e0-4184-80e2-0f468fd6bfb2"
      },
      "execution_count": 215,
      "outputs": [
        {
          "output_type": "stream",
          "name": "stdout",
          "text": [
            "                 IMPORTER    YEAR  HSCODE  COUNTRY  UNIT       QUANTITY  \\\n",
            "0     Global Traders Inc.  2023.0       0        2     2  131600.000000   \n",
            "1     Global Traders Inc.  2023.0       0       16     2   37800.000000   \n",
            "2     Global Traders Inc.  2023.0       0       24     2   12090.000000   \n",
            "3     Global Traders Inc.  2023.0       0        2     2   25200.000000   \n",
            "4     Global Traders Inc.  2023.0       0       16     2   75599.000000   \n",
            "...                   ...     ...     ...      ...   ...            ...   \n",
            "1037  Global Traders Inc.     NaN      75       36     2   16200.000000   \n",
            "1038  Global Traders Inc.     NaN      75       36     2   16200.000000   \n",
            "1039  Global Traders Inc.     NaN      78       44     2   42416.789127   \n",
            "1040  Global Traders Inc.     NaN      78       44     2   42416.789127   \n",
            "1041  Global Traders Inc.     NaN      75       36     2   16200.000000   \n",
            "\n",
            "        VALUE_RS  DESCRIPTION_01  DESCRIPTION_02  DESCRIPTION_03  \n",
            "0     13877114.0               1               3               2  \n",
            "1      3924989.0               1               3               2  \n",
            "2      5390772.0               1               3               2  \n",
            "3      3089445.0               1               3               2  \n",
            "4      6939860.0               1               3               2  \n",
            "...          ...             ...             ...             ...  \n",
            "1037         NaN               1               4               6  \n",
            "1038         NaN               1               4               6  \n",
            "1039         NaN               1               4               6  \n",
            "1040         NaN               1               4               6  \n",
            "1041         NaN               1               4               6  \n",
            "\n",
            "[1042 rows x 10 columns]\n"
          ]
        }
      ]
    },
    {
      "cell_type": "code",
      "source": [
        "# Step 13: Dropping the 'YEAR' n the 'VALUE_RS' Column\n",
        "data.drop(columns=['YEAR', 'VALUE_RS'], inplace=True)"
      ],
      "metadata": {
        "id": "3WoYHgs4D4tV"
      },
      "execution_count": 216,
      "outputs": []
    },
    {
      "cell_type": "code",
      "source": [
        "# Step 14: Re-encode the Importer column\n",
        "label_encoder = LabelEncoder()\n",
        "data['IMPORTER'] = label_encoder.fit_transform(data['IMPORTER'])\n",
        "\n",
        "# Saving the encoder for 'IMPORTER' column\n",
        "with open('/content/drive/MyDrive/Importer_Risk_Prediction_2/encoders/encoded_IMPORTER.pkl', 'wb') as f:\n",
        "    pickle.dump(label_encoder, f)\n",
        "\n",
        "# Displaying the encoded details\n",
        "print(data)"
      ],
      "metadata": {
        "colab": {
          "base_uri": "https://localhost:8080/"
        },
        "id": "1SZ6rFRjD6qY",
        "outputId": "219a8bab-7bc7-485a-de80-1bd43fd1b46a"
      },
      "execution_count": 217,
      "outputs": [
        {
          "output_type": "stream",
          "name": "stdout",
          "text": [
            "      IMPORTER  HSCODE  COUNTRY  UNIT       QUANTITY  DESCRIPTION_01  \\\n",
            "0            2       0        2     2  131600.000000               1   \n",
            "1            2       0       16     2   37800.000000               1   \n",
            "2            2       0       24     2   12090.000000               1   \n",
            "3            2       0        2     2   25200.000000               1   \n",
            "4            2       0       16     2   75599.000000               1   \n",
            "...        ...     ...      ...   ...            ...             ...   \n",
            "1037         2      75       36     2   16200.000000               1   \n",
            "1038         2      75       36     2   16200.000000               1   \n",
            "1039         2      78       44     2   42416.789127               1   \n",
            "1040         2      78       44     2   42416.789127               1   \n",
            "1041         2      75       36     2   16200.000000               1   \n",
            "\n",
            "      DESCRIPTION_02  DESCRIPTION_03  \n",
            "0                  3               2  \n",
            "1                  3               2  \n",
            "2                  3               2  \n",
            "3                  3               2  \n",
            "4                  3               2  \n",
            "...              ...             ...  \n",
            "1037               4               6  \n",
            "1038               4               6  \n",
            "1039               4               6  \n",
            "1040               4               6  \n",
            "1041               4               6  \n",
            "\n",
            "[1042 rows x 8 columns]\n"
          ]
        }
      ]
    },
    {
      "cell_type": "markdown",
      "source": [
        "**Handling the missing values in the 'IMPORTER' column after handling the missing values in the numerical coumns since all the values contained within the 'IMPORTER' column are 'Unknown' values and using K-Means clustering crucially expect the intepretation of the 'QUANTITY' column to be handled first.**"
      ],
      "metadata": {
        "id": "hiKzSo48EDoI"
      }
    },
    {
      "cell_type": "markdown",
      "source": [
        "## **Handling the Outliers**"
      ],
      "metadata": {
        "id": "KXSsTjcuEJWz"
      }
    },
    {
      "cell_type": "code",
      "source": [
        "# Step 15: Handling the outliers in the numerical columns\n",
        "\n",
        "# Assigning the Numerical Columns for the outlier analysis\n",
        "outlier_columns = [\"QUANTITY\"]\n",
        "\n",
        "# Creating an empty dictionary to store the outliers\n",
        "outlier_info = {}\n",
        "\n",
        "for column in outlier_columns:\n",
        "    Q1, Q3 = data[column].quantile([0.25, 0.75])\n",
        "    IQR = Q3 - Q1\n",
        "    lower_bound = Q1 - 1.5 * IQR\n",
        "    upper_bound = Q3 + 1.5 * IQR\n",
        "\n",
        "    # Detecting outliers\n",
        "    outliers = data[(data[column] < lower_bound) | (data[column] > upper_bound)]\n",
        "\n",
        "    outlier_info[column] = {\n",
        "        'Outliers': len(outliers),\n",
        "        'Lower Bound': lower_bound,\n",
        "        'Upper Bound': upper_bound\n",
        "    }\n",
        "\n",
        "    print(f\"Column: {column}\")\n",
        "    print(f\"  Outliers: {outlier_info[column]['Outliers']}, Lower: {lower_bound:.2f}, Upper: {upper_bound:.2f}\")\n",
        "    print(\" \")"
      ],
      "metadata": {
        "colab": {
          "base_uri": "https://localhost:8080/"
        },
        "id": "zOv2WiUiEONP",
        "outputId": "ac0bcf4a-9d55-447b-8221-383510e61a9e"
      },
      "execution_count": 218,
      "outputs": [
        {
          "output_type": "stream",
          "name": "stdout",
          "text": [
            "Column: QUANTITY\n",
            "  Outliers: 98, Lower: -29912.50, Upper: 49947.50\n",
            " \n"
          ]
        }
      ]
    },
    {
      "cell_type": "markdown",
      "source": [
        "## **Visualization of the Outliers**"
      ],
      "metadata": {
        "id": "MwquZQr_EcXX"
      }
    },
    {
      "cell_type": "code",
      "source": [
        "# Visualizing the outliers for Quantity\n",
        "plt.figure(figsize=(10, 5))\n",
        "Q1 = data['QUANTITY'].quantile(0.25)\n",
        "Q3 = data['QUANTITY'].quantile(0.75)\n",
        "IQR = Q3 - Q1\n",
        "lower_bound = Q1 - 1.5 * IQR\n",
        "upper_bound = Q3 + 1.5 * IQR\n",
        "\n",
        "sns.boxplot(x=data['QUANTITY'], color='skyblue', flierprops=dict(marker='o', color='red', markersize=5))\n",
        "plt.axvline(lower_bound, color='red', linestyle='--', label='Lower Bound')\n",
        "plt.axvline(upper_bound, color='green', linestyle='--', label='Upper Bound')\n",
        "plt.title('Boxplot of Quantity')\n",
        "plt.xlabel('Quantity')\n",
        "plt.legend()\n",
        "plt.grid(axis='x', alpha=0.75)\n",
        "plt.tight_layout()\n",
        "plt.show()"
      ],
      "metadata": {
        "colab": {
          "base_uri": "https://localhost:8080/",
          "height": 507
        },
        "id": "M1R3w2yPEhut",
        "outputId": "2f492bf4-87fc-48ca-9eed-2494248aa41f"
      },
      "execution_count": 219,
      "outputs": [
        {
          "output_type": "display_data",
          "data": {
            "text/plain": [
              "<Figure size 1000x500 with 1 Axes>"
            ],
            "image/png": "[encoded data removed]"
          },
          "metadata": {}
        }
      ]
    },
    {
      "cell_type": "code",
      "source": [
        "# Function to handle outliers by capping\n",
        "def handle_outliers(data, method='cap'):\n",
        "    for column in data.columns:\n",
        "      if column == 'QUANTITY':\n",
        "            lower_bound, upper_bound = -0.31, 0.03\n",
        "            data[column] = data[column].apply(lambda x: min(max(x, lower_bound), upper_bound) if method == 'cap' else x)\n",
        "\n",
        "    return data\n",
        "\n",
        "\n",
        "# Applying the function to handle outliers\n",
        "data = handle_outliers(data.copy(), method='cap')\n",
        "\n",
        "# Displaying the cleaned dataset\n",
        "print(data.head())"
      ],
      "metadata": {
        "colab": {
          "base_uri": "https://localhost:8080/"
        },
        "id": "nE-pw4kpErzW",
        "outputId": "7b727d07-bcae-40b0-d28f-2e4a315b0c82"
      },
      "execution_count": 220,
      "outputs": [
        {
          "output_type": "stream",
          "name": "stdout",
          "text": [
            "   IMPORTER  HSCODE  COUNTRY  UNIT  QUANTITY  DESCRIPTION_01  DESCRIPTION_02  \\\n",
            "0         2       0        2     2      0.03               1               3   \n",
            "1         2       0       16     2      0.03               1               3   \n",
            "2         2       0       24     2      0.03               1               3   \n",
            "3         2       0        2     2      0.03               1               3   \n",
            "4         2       0       16     2      0.03               1               3   \n",
            "\n",
            "   DESCRIPTION_03  \n",
            "0               2  \n",
            "1               2  \n",
            "2               2  \n",
            "3               2  \n",
            "4               2  \n"
          ]
        }
      ]
    },
    {
      "cell_type": "code",
      "source": [
        "# Step 16: Building the Embedding Model\n",
        "def get_embeddings(column, dim, data):\n",
        "    model = Sequential()\n",
        "    model.add(Embedding(input_dim=data[column].nunique(), output_dim=dim, input_length=1))\n",
        "    model.add(Flatten())\n",
        "    model.compile(optimizer='adam', loss='mse')\n",
        "    return model\n",
        "\n",
        "embedding_dims = 5  # Set the dimension of embeddings\n",
        "embedding_data = []\n",
        "\n",
        "# Generate embeddings for the categorical columns\n",
        "for col in ['IMPORTER', 'HSCODE', 'COUNTRY', 'UNIT', 'DESCRIPTION_01', 'DESCRIPTION_02', 'DESCRIPTION_03']:\n",
        "    model = get_embeddings(col, embedding_dims, data)\n",
        "\n",
        "    # Reshaping data for the embedding layer to accept as input\n",
        "    reshaped_data = data[col].values.reshape(-1, 1)  # Reshaping to (n_samples, 1)\n",
        "\n",
        "    # Predict embeddings for the column\n",
        "    embeddings = model.predict(reshaped_data)\n",
        "    embedding_data.append(embeddings)\n",
        "\n",
        "# Step: Stacking All Embeddings\n",
        "embedding_matrix = np.hstack(embedding_data)  # Concatenate all embeddings horizontally\n",
        "\n",
        "print(f\"Generated embedding matrix with shape: {embedding_matrix.shape}\")\n"
      ],
      "metadata": {
        "colab": {
          "base_uri": "https://localhost:8080/"
        },
        "id": "Kc79BvnQITTC",
        "outputId": "afaf33b1-d9db-4f70-bd44-b98a99a3e9cf"
      },
      "execution_count": 221,
      "outputs": [
        {
          "output_type": "stream",
          "name": "stdout",
          "text": [
            "\u001b[1m33/33\u001b[0m \u001b[32m━━━━━━━━━━━━━━━━━━━━\u001b[0m\u001b[37m\u001b[0m \u001b[1m0s\u001b[0m 2ms/step \n"
          ]
        },
        {
          "output_type": "stream",
          "name": "stderr",
          "text": [
            "/usr/local/lib/python3.11/dist-packages/keras/src/layers/core/embedding.py:90: UserWarning: Argument `input_length` is deprecated. Just remove it.\n",
            "  warnings.warn(\n"
          ]
        },
        {
          "output_type": "stream",
          "name": "stdout",
          "text": [
            "\u001b[1m33/33\u001b[0m \u001b[32m━━━━━━━━━━━━━━━━━━━━\u001b[0m\u001b[37m\u001b[0m \u001b[1m0s\u001b[0m 2ms/step  \n",
            "\u001b[1m33/33\u001b[0m \u001b[32m━━━━━━━━━━━━━━━━━━━━\u001b[0m\u001b[37m\u001b[0m \u001b[1m0s\u001b[0m 2ms/step\n",
            "\u001b[1m33/33\u001b[0m \u001b[32m━━━━━━━━━━━━━━━━━━━━\u001b[0m\u001b[37m\u001b[0m \u001b[1m0s\u001b[0m 2ms/step \n",
            "\u001b[1m33/33\u001b[0m \u001b[32m━━━━━━━━━━━━━━━━━━━━\u001b[0m\u001b[37m\u001b[0m \u001b[1m0s\u001b[0m 2ms/step\n",
            "\u001b[1m33/33\u001b[0m \u001b[32m━━━━━━━━━━━━━━━━━━━━\u001b[0m\u001b[37m\u001b[0m \u001b[1m0s\u001b[0m 2ms/step\n",
            "\u001b[1m33/33\u001b[0m \u001b[32m━━━━━━━━━━━━━━━━━━━━\u001b[0m\u001b[37m\u001b[0m \u001b[1m0s\u001b[0m 2ms/step \n",
            "Generated embedding matrix with shape: (1042, 35)\n"
          ]
        }
      ]
    },
    {
      "cell_type": "code",
      "source": [
        "# Step 17: Normalizing Quantity\n",
        "scaler = StandardScaler()\n",
        "quantity_scaled = scaler.fit_transform(data[['QUANTITY']])"
      ],
      "metadata": {
        "id": "FoE9htFuJkoz"
      },
      "execution_count": 222,
      "outputs": []
    },
    {
      "cell_type": "code",
      "source": [
        "# Step 18: Combining All Features\n",
        "final_features = np.hstack([embedding_matrix, quantity_scaled])"
      ],
      "metadata": {
        "id": "_27ywBJ-KO22"
      },
      "execution_count": 223,
      "outputs": []
    },
    {
      "cell_type": "code",
      "source": [
        "# Step 19: Clustering using K-means\n",
        "kmeans = KMeans(n_clusters=3, random_state=42)\n",
        "data['Cluster'] = kmeans.fit_predict(final_features)"
      ],
      "metadata": {
        "id": "45fY6He1MJyA"
      },
      "execution_count": 224,
      "outputs": []
    },
    {
      "cell_type": "code",
      "source": [
        "# Step 20: Assign Risk Categories\n",
        "risk_map = {0: 'Low Risk', 1: 'Medium Risk', 2: 'High Risk'}\n",
        "data['RISK'] = data['Cluster'].map(risk_map)"
      ],
      "metadata": {
        "id": "NEwuOpSDMYNT"
      },
      "execution_count": 225,
      "outputs": []
    },
    {
      "cell_type": "code",
      "source": [
        "# Dropping the Cluster Column\n",
        "data.drop('Cluster', axis=1, inplace=True)"
      ],
      "metadata": {
        "id": "5xOPUxkDNhIK"
      },
      "execution_count": 226,
      "outputs": []
    },
    {
      "cell_type": "code",
      "source": [
        "# Display Dataset Information\n",
        "print(data.info())"
      ],
      "metadata": {
        "colab": {
          "base_uri": "https://localhost:8080/"
        },
        "id": "BY1DnoGeMoeE",
        "outputId": "829356f2-8f16-4036-8c16-710a9cb6d773"
      },
      "execution_count": 227,
      "outputs": [
        {
          "output_type": "stream",
          "name": "stdout",
          "text": [
            "<class 'pandas.core.frame.DataFrame'>\n",
            "RangeIndex: 1042 entries, 0 to 1041\n",
            "Data columns (total 9 columns):\n",
            " #   Column          Non-Null Count  Dtype  \n",
            "---  ------          --------------  -----  \n",
            " 0   IMPORTER        1042 non-null   int64  \n",
            " 1   HSCODE          1042 non-null   int64  \n",
            " 2   COUNTRY         1042 non-null   int64  \n",
            " 3   UNIT            1042 non-null   int64  \n",
            " 4   QUANTITY        1042 non-null   float64\n",
            " 5   DESCRIPTION_01  1042 non-null   int64  \n",
            " 6   DESCRIPTION_02  1042 non-null   int64  \n",
            " 7   DESCRIPTION_03  1042 non-null   int64  \n",
            " 8   RISK            1042 non-null   object \n",
            "dtypes: float64(1), int64(7), object(1)\n",
            "memory usage: 73.4+ KB\n",
            "None\n"
          ]
        }
      ]
    },
    {
      "cell_type": "code",
      "source": [
        "# Print Unique Values for All Columns\n",
        "for col in data.columns:\n",
        "    print(f\"Unique values in '{col}':\")\n",
        "    print(data[col].unique())\n",
        "    print('-' * 40)"
      ],
      "metadata": {
        "colab": {
          "base_uri": "https://localhost:8080/"
        },
        "id": "p9cu8P8aRWJ7",
        "outputId": "94518c3b-93e4-4345-96b4-87d6a9db2980"
      },
      "execution_count": 228,
      "outputs": [
        {
          "output_type": "stream",
          "name": "stdout",
          "text": [
            "Unique values in 'IMPORTER':\n",
            "[2 4 3 0 1]\n",
            "----------------------------------------\n",
            "Unique values in 'HSCODE':\n",
            "[  0  69 101 102 107  70   1  65 106 103 105 104   2   3   4   5   6   7\n",
            "   8   9  10  11  12  13  14  15  16  17  18  19  20  21  22  23  24  25\n",
            "  26  27  28  29  30  31  32  33  34  35  36  37  38  39  40  41  42  43\n",
            "  44  45  46  47  48  49  50  51  52  53  54  55  56  57  58  59  60  61\n",
            "  62  63  64  96  95  97  94  93 100  99  98 110 116 112 108 109 115 114\n",
            " 113 111  66  67  85  77  71  76  90  89  91  88  86  68  87  92  82  79\n",
            "  84  83  80  81  78  74  75  73  72]\n",
            "----------------------------------------\n",
            "Unique values in 'COUNTRY':\n",
            "[ 2 16 24  1  8 50 36 41 15  6 10 43 20 28 26  3 32 37 12 14 18  7 39 47\n",
            " 42 23 46 40 30 51 49 22 44 48  9 17 21  5 25 34 29 33 11 31 19 45 27 35\n",
            " 38  0  4 13]\n",
            "----------------------------------------\n",
            "Unique values in 'UNIT':\n",
            "[2 4 7 3 6 1 5 0]\n",
            "----------------------------------------\n",
            "Unique values in 'QUANTITY':\n",
            "[0.03 0.  ]\n",
            "----------------------------------------\n",
            "Unique values in 'DESCRIPTION_01':\n",
            "[1 0]\n",
            "----------------------------------------\n",
            "Unique values in 'DESCRIPTION_02':\n",
            "[3 7 1 5 0 6 8 4 2]\n",
            "----------------------------------------\n",
            "Unique values in 'DESCRIPTION_03':\n",
            "[ 2 10  3  4  7  8  0  1  9 11  6  5]\n",
            "----------------------------------------\n",
            "Unique values in 'RISK':\n",
            "['High Risk' 'Low Risk' 'Medium Risk']\n",
            "----------------------------------------\n"
          ]
        }
      ]
    },
    {
      "cell_type": "code",
      "source": [
        "# Encode Target Variable (Risk)\n",
        "target_encoder = LabelEncoder()\n",
        "data['RISK'] = target_encoder.fit_transform(data['RISK'])\n",
        "\n",
        "# Print Encoded Values\n",
        "print(\"Original Risk Categories:\")\n",
        "print(data['RISK'].unique())\n",
        "print(\"\\nEncoded Risk Categories:\")\n",
        "print(data['RISK'].unique())"
      ],
      "metadata": {
        "colab": {
          "base_uri": "https://localhost:8080/"
        },
        "id": "gRz5i7oJS0vn",
        "outputId": "f06e2e97-2f92-44ed-bb34-284de672338f"
      },
      "execution_count": 229,
      "outputs": [
        {
          "output_type": "stream",
          "name": "stdout",
          "text": [
            "Original Risk Categories:\n",
            "[0 1 2]\n",
            "\n",
            "Encoded Risk Categories:\n",
            "[0 1 2]\n"
          ]
        }
      ]
    },
    {
      "cell_type": "code",
      "source": [
        "# Set Style\n",
        "plt.figure(figsize=(8, 6))\n",
        "sns.countplot(x='RISK', data=data, palette='viridis')\n",
        "plt.title('Target Variable Distribution')\n",
        "plt.xlabel('Risk Category')\n",
        "plt.ylabel('Count')\n",
        "plt.show()"
      ],
      "metadata": {
        "colab": {
          "base_uri": "https://localhost:8080/",
          "height": 564
        },
        "id": "MCKfFkmgUPH9",
        "outputId": "22b53e57-cbad-4dfa-bf96-bbbebd31c00d"
      },
      "execution_count": 230,
      "outputs": [
        {
          "output_type": "display_data",
          "data": {
            "text/plain": [
              "<Figure size 800x600 with 1 Axes>"
            ],
            "image/png": "[encoded data removed]"
          },
          "metadata": {}
        }
      ]
    },
    {
      "cell_type": "code",
      "source": [
        "# Features (X) and Target (y)\n",
        "X = data.drop(['RISK'], axis=1)  # Drop target and encoded column\n",
        "y = data['RISK']  # Target variable"
      ],
      "metadata": {
        "id": "0rvQhynnUucW"
      },
      "execution_count": 231,
      "outputs": []
    },
    {
      "cell_type": "code",
      "source": [
        "# Splitting dataset into training and testing before SMOTE\n",
        "X_train, X_test, y_train, y_test = train_test_split(X, y, test_size=0.2, stratify=y, random_state=42)\n",
        "\n",
        "print(\"Training Set Size:\", X_train.shape[0])\n",
        "print(\"Testing Set Size:\", X_test.shape[0])"
      ],
      "metadata": {
        "colab": {
          "base_uri": "https://localhost:8080/"
        },
        "id": "xSytwQ0MpyeB",
        "outputId": "4b539a63-dea3-40db-fb7d-aad63419ae47"
      },
      "execution_count": 232,
      "outputs": [
        {
          "output_type": "stream",
          "name": "stdout",
          "text": [
            "Training Set Size: 833\n",
            "Testing Set Size: 209\n"
          ]
        }
      ]
    },
    {
      "cell_type": "markdown",
      "source": [
        "# **Balancing the Target Variable**"
      ],
      "metadata": {
        "id": "zwVYu9FLbmhm"
      }
    },
    {
      "cell_type": "code",
      "source": [
        "# Handling the imbalance dataset\n",
        "\n",
        "# Suppressing the FutureWarnings\n",
        "warnings.filterwarnings(\"ignore\", category=FutureWarning)\n",
        "\n",
        "# Handling imbalanced dataset\n",
        "smote = SMOTE(sampling_strategy='auto', random_state=42)\n",
        "X_resampled, y_resampled = smote.fit_resample(X, y)\n",
        "\n",
        "print(\"Original dataset size:\", X.shape)\n",
        "print(\"Resampled dataset size:\", X_resampled.shape)"
      ],
      "metadata": {
        "colab": {
          "base_uri": "https://localhost:8080/"
        },
        "id": "AUesN9nabqh5",
        "outputId": "d59f6c1b-bad4-4fcc-ccb7-f49987fb3806"
      },
      "execution_count": 233,
      "outputs": [
        {
          "output_type": "stream",
          "name": "stdout",
          "text": [
            "Original dataset size: (1042, 8)\n",
            "Resampled dataset size: (1875, 8)\n"
          ]
        }
      ]
    },
    {
      "cell_type": "code",
      "source": [
        "# Plotting class distribution after SMOTE\n",
        "sns.countplot(x=y_resampled, palette=\"viridis\")\n",
        "plt.title(\"Class Distribution After SMOTE\")\n",
        "plt.xlabel(\"Class\")\n",
        "plt.ylabel(\"Count\")\n",
        "plt.show()"
      ],
      "metadata": {
        "colab": {
          "base_uri": "https://localhost:8080/",
          "height": 472
        },
        "id": "Soq2-LyrbwJA",
        "outputId": "578b0ae9-08f3-4e38-9fdf-f0d6bdda9978"
      },
      "execution_count": 234,
      "outputs": [
        {
          "output_type": "display_data",
          "data": {
            "text/plain": [
              "<Figure size 640x480 with 1 Axes>"
            ],
            "image/png": "[encoded data removed]"
          },
          "metadata": {}
        }
      ]
    },
    {
      "cell_type": "code",
      "source": [
        "# Displaying the dataset shape after applying the SMOTE\n",
        "print(f\"Shape of X_resampled: {X_resampled.shape}\")\n",
        "print(f\"Shape of y_resampled: {y_resampled.shape}\")"
      ],
      "metadata": {
        "colab": {
          "base_uri": "https://localhost:8080/"
        },
        "id": "nvclRpslbzW3",
        "outputId": "335afb42-577e-4c1d-88fa-ac3a130913b4"
      },
      "execution_count": 235,
      "outputs": [
        {
          "output_type": "stream",
          "name": "stdout",
          "text": [
            "Shape of X_resampled: (1875, 8)\n",
            "Shape of y_resampled: (1875,)\n"
          ]
        }
      ]
    },
    {
      "cell_type": "code",
      "source": [
        "# Standardizing the features\n",
        "scaler = StandardScaler()\n",
        "X_resampled_scaled = scaler.fit_transform(X_resampled)"
      ],
      "metadata": {
        "id": "OIxcG7M_cUxT"
      },
      "execution_count": 236,
      "outputs": []
    },
    {
      "cell_type": "code",
      "source": [
        "# Splitting data\n",
        "X_train, X_test, y_train, y_test = train_test_split(X_resampled_scaled, y_resampled, test_size=0.2, stratify = y_resampled, random_state=42)"
      ],
      "metadata": {
        "id": "tzKC738PcW-9"
      },
      "execution_count": 237,
      "outputs": []
    },
    {
      "cell_type": "code",
      "source": [
        "# Displaying the Dataset Information\n",
        "print(\"Dataset Information:\")\n",
        "print(data.info())"
      ],
      "metadata": {
        "colab": {
          "base_uri": "https://localhost:8080/"
        },
        "id": "6oSd2jFAcZFV",
        "outputId": "3147613c-8e48-4203-b3c3-14d33aafd455"
      },
      "execution_count": 238,
      "outputs": [
        {
          "output_type": "stream",
          "name": "stdout",
          "text": [
            "Dataset Information:\n",
            "<class 'pandas.core.frame.DataFrame'>\n",
            "RangeIndex: 1042 entries, 0 to 1041\n",
            "Data columns (total 9 columns):\n",
            " #   Column          Non-Null Count  Dtype  \n",
            "---  ------          --------------  -----  \n",
            " 0   IMPORTER        1042 non-null   int64  \n",
            " 1   HSCODE          1042 non-null   int64  \n",
            " 2   COUNTRY         1042 non-null   int64  \n",
            " 3   UNIT            1042 non-null   int64  \n",
            " 4   QUANTITY        1042 non-null   float64\n",
            " 5   DESCRIPTION_01  1042 non-null   int64  \n",
            " 6   DESCRIPTION_02  1042 non-null   int64  \n",
            " 7   DESCRIPTION_03  1042 non-null   int64  \n",
            " 8   RISK            1042 non-null   int64  \n",
            "dtypes: float64(1), int64(8)\n",
            "memory usage: 73.4 KB\n",
            "None\n"
          ]
        }
      ]
    },
    {
      "cell_type": "markdown",
      "source": [
        "# **Building the Model**"
      ],
      "metadata": {
        "id": "cPTc98YEduNQ"
      }
    },
    {
      "cell_type": "markdown",
      "source": [
        "# **Model based on LSTM and Gradient Boost**"
      ],
      "metadata": {
        "id": "svNjjPozeQgh"
      }
    },
    {
      "cell_type": "code",
      "source": [
        "# LSTM Model\n",
        "# def build_lstm_model(input_shape):\n",
        "#    model = Sequential()\n",
        "#    model.add(LSTM(50, return_sequences=True, input_shape=input_shape))\n",
        "#    model.add(LSTM(50))\n",
        "#    model.add(Dense(1, activation='sigmoid'))\n",
        "#    model.compile(optimizer='adam', loss='binary_crossentropy', metrics=['accuracy'])\n",
        "#    return model"
      ],
      "metadata": {
        "id": "1Br2rJCpeL4U"
      },
      "execution_count": 239,
      "outputs": []
    },
    {
      "cell_type": "code",
      "source": [
        "# Reshape input for LSTM\n",
        "# X_train_lstm = X_train.reshape((X_train.shape[0], X_train.shape[1], 1))\n",
        "# X_test_lstm = X_test.reshape((X_test.shape[0], X_test.shape[1], 1))\n",
        "\n",
        "# lstm_model = build_lstm_model((X_train.shape[1], 1))\n",
        "# lstm_model.fit(X_train_lstm, y_train, epochs=10, batch_size=32, validation_split=0.1)\n",
        "# lstm_pred = lstm_model.predict(X_test_lstm)\n",
        "# lstm_pred = (lstm_pred > 0.5).astype(int).flatten()"
      ],
      "metadata": {
        "id": "GYweInDVeOX-"
      },
      "execution_count": 240,
      "outputs": []
    },
    {
      "cell_type": "code",
      "source": [
        "# Gradient Boosting Model\n",
        "# gb_model = GradientBoostingClassifier()\n",
        "# gb_model.fit(X_train, y_train)\n",
        "# gb_pred = gb_model.predict(X_test)"
      ],
      "metadata": {
        "id": "nnqiFTAoeVw4"
      },
      "execution_count": 241,
      "outputs": []
    },
    {
      "cell_type": "code",
      "source": [
        "# Hybrid Model (Averaging Both Models)\n",
        "# hybrid_pred = (lstm_pred + gb_pred) / 2\n",
        "# hybrid_pred = (hybrid_pred > 0.5).astype(int)"
      ],
      "metadata": {
        "id": "Fp8AewafeceK"
      },
      "execution_count": 242,
      "outputs": []
    },
    {
      "cell_type": "code",
      "source": [
        "# Evaluation\n",
        "# print(\"LSTM Accuracy:\", accuracy_score(y_test, lstm_pred))\n",
        "# print(\"GB Accuracy:\", accuracy_score(y_test, gb_pred))\n",
        "# print(\"Hybrid Accuracy:\", accuracy_score(y_test, hybrid_pred))\n",
        "\n",
        "# print(\"Classification Report for Hybrid Model:\\n\", classification_report(y_test, hybrid_pred))"
      ],
      "metadata": {
        "id": "4NtHbst8efRW"
      },
      "execution_count": 243,
      "outputs": []
    },
    {
      "cell_type": "code",
      "source": [
        "# Confusion Matrix\n",
        "# conf_matrix = confusion_matrix(y_test, hybrid_pred)\n",
        "# sns.heatmap(conf_matrix, annot=True, fmt='d', cmap='Blues')\n",
        "# plt.title(\"Confusion Matrix\")\n",
        "# plt.xlabel(\"Predicted\")\n",
        "# plt.ylabel(\"Actual\")\n",
        "# plt.show()"
      ],
      "metadata": {
        "id": "c7kDFg2IghAr"
      },
      "execution_count": 244,
      "outputs": []
    },
    {
      "cell_type": "code",
      "source": [
        "# Explainable AI using SHAP for Gradient Boosting\n",
        "# explainer = shap.Explainer(gb_model, X_train)\n",
        "# shap_values = explainer(X_test)"
      ],
      "metadata": {
        "id": "QfmSI8MJehKy"
      },
      "execution_count": 245,
      "outputs": []
    },
    {
      "cell_type": "code",
      "source": [
        "# Global Explanation\n",
        "# shap.summary_plot(shap_values, X_test)"
      ],
      "metadata": {
        "id": "rwI8IkEOeikw"
      },
      "execution_count": 246,
      "outputs": []
    },
    {
      "cell_type": "code",
      "source": [
        "# Local Explanation for a Single Prediction\n",
        "# shap.plots.waterfall(shap_values[0])"
      ],
      "metadata": {
        "id": "42AJ6poKek4N"
      },
      "execution_count": 247,
      "outputs": []
    },
    {
      "cell_type": "code",
      "source": [
        "# Explainable AI for LSTM (Gradient-based Feature Attribution)\n",
        "# def explain_lstm(model, data):\n",
        "#    gradient_explainer = shap.GradientExplainer(model, data)\n",
        "#    shap_values = gradient_explainer.shap_values(data)\n",
        "#    return shap_values"
      ],
      "metadata": {
        "id": "6WM-c8o1emrZ"
      },
      "execution_count": 248,
      "outputs": []
    },
    {
      "cell_type": "code",
      "source": [
        "# shap_values_lstm = explain_lstm(lstm_model, X_test_lstm)\n",
        "# shap.summary_plot(shap_values_lstm[0], X_test)"
      ],
      "metadata": {
        "id": "wdqLQZuMeqX0"
      },
      "execution_count": 249,
      "outputs": []
    },
    {
      "cell_type": "code",
      "source": [
        "# print(\"Explainable AI Integration Completed\")"
      ],
      "metadata": {
        "id": "ZtTy_NWxer-S"
      },
      "execution_count": 250,
      "outputs": []
    },
    {
      "cell_type": "markdown",
      "source": [
        "# **Model Based on Gradient Boost**"
      ],
      "metadata": {
        "id": "HPevpng_l3uD"
      }
    },
    {
      "cell_type": "code",
      "source": [
        "# Hyperparameter Tuning\n",
        "# param_grid = {\n",
        "#    'n_estimators': [100, 200, 300],\n",
        "#    'learning_rate': [0.01, 0.1, 0.2],\n",
        "#    'max_depth': [3, 4, 5],\n",
        "#    'subsample': [0.8, 1.0]\n",
        "# }\n",
        "# gb_model = GradientBoostingClassifier()\n",
        "# grid_search = GridSearchCV(estimator=gb_model, param_grid=param_grid, cv=5, scoring='accuracy', verbose=2, n_jobs=-1)\n",
        "# grid_search.fit(X_train, y_train)\n",
        "\n",
        "# print(\"Best Hyperparameters:\", grid_search.best_params_)"
      ],
      "metadata": {
        "id": "Ux-pKsGzmnhN"
      },
      "execution_count": 251,
      "outputs": []
    },
    {
      "cell_type": "code",
      "source": [
        "# Best Model\n",
        "# best_model = grid_search.best_estimator_\n",
        "# cv_scores = cross_val_score(best_model, X_resampled_scaled, y_resampled, cv=5)\n",
        "# print(\"Gradient Boosting Cross Validation Scores:\", cv_scores)\n",
        "\n",
        "# best_model.fit(X_train, y_train)\n",
        "# y_pred = best_model.predict(X_test)"
      ],
      "metadata": {
        "id": "h8AV6xt_myyK"
      },
      "execution_count": 252,
      "outputs": []
    },
    {
      "cell_type": "code",
      "source": [
        "# Evaluation\n",
        "# print(\"Gradient Boosting Accuracy:\", accuracy_score(y_test, y_pred))\n",
        "# print(\"Classification Report:\\n\", classification_report(y_test, y_pred))"
      ],
      "metadata": {
        "id": "QON_a24bm04k"
      },
      "execution_count": 253,
      "outputs": []
    },
    {
      "cell_type": "code",
      "source": [
        "# Confusion Matrix\n",
        "# conf_matrix = confusion_matrix(y_test, y_pred)\n",
        "# sns.heatmap(conf_matrix, annot=True, fmt='d', cmap='Blues')\n",
        "# plt.title(\"Confusion Matrix\")\n",
        "# plt.xlabel(\"Predicted\")\n",
        "# plt.ylabel(\"Actual\")\n",
        "# plt.show()"
      ],
      "metadata": {
        "id": "yJsNkGtzm4H3"
      },
      "execution_count": 254,
      "outputs": []
    },
    {
      "cell_type": "code",
      "source": [
        "# Explainable AI using SHAP\n",
        "# explainer = shap.Explainer(best_model, X_train)\n",
        "# shap_values = explainer(X_test)\n",
        "\n",
        "# Global Explanation\n",
        "# shap.summary_plot(shap_values, X_test)"
      ],
      "metadata": {
        "id": "SXcEMdDGnD4u"
      },
      "execution_count": 255,
      "outputs": []
    },
    {
      "cell_type": "code",
      "source": [
        "# Local Explanation for a Single Prediction\n",
        "# shap.plots.waterfall(shap_values[0])"
      ],
      "metadata": {
        "id": "KzqWPxRbnHx8"
      },
      "execution_count": 256,
      "outputs": []
    },
    {
      "cell_type": "code",
      "source": [
        "# Feature Importance Plot\n",
        "# importances = best_model.feature_importances_\n",
        "# indices = np.argsort(importances)[::-1]\n",
        "# plt.figure(figsize=(12, 8))\n",
        "# plt.title(\"Feature Importances\")\n",
        "# plt.bar(range(X.shape[1]), importances[indices], align=\"center\")\n",
        "# plt.xticks(range(X.shape[1]), X.columns[indices], rotation=90)\n",
        "# plt.show()\n",
        "\n",
        "# print(\"Explainable AI and Model Evaluation Completed\")"
      ],
      "metadata": {
        "id": "qXJcT8P_nJfY"
      },
      "execution_count": 257,
      "outputs": []
    },
    {
      "cell_type": "markdown",
      "source": [
        "# **Model Based on Random Forest**"
      ],
      "metadata": {
        "id": "LhjO0qqcvPDf"
      }
    },
    {
      "cell_type": "code",
      "source": [
        "# Initializing the RandomForestClassifier\n",
        "# rf = RandomForestClassifier(random_state=42)"
      ],
      "metadata": {
        "id": "g7WyxAOCv1UN"
      },
      "execution_count": 258,
      "outputs": []
    },
    {
      "cell_type": "code",
      "source": [
        "# Hyperparameter tuning using GridSearchCV\n",
        "# param_grid = {\n",
        "#    'n_estimators': [50, 100, 200],\n",
        "#    'max_depth': [None, 10, 20],\n",
        "#   'min_samples_split': [2, 5],\n",
        "#   'min_samples_leaf': [1, 2],\n",
        "#    'max_features': ['auto', 'sqrt', 'log2']\n",
        "#}"
      ],
      "metadata": {
        "id": "h1pB1BrPv3oi"
      },
      "execution_count": 259,
      "outputs": []
    },
    {
      "cell_type": "code",
      "source": [
        "# Perform GridSearchCV to find the best hyperparameters\n",
        "# grid_search = GridSearchCV(estimator=rf, param_grid=param_grid, cv=5, n_jobs=-1, verbose=2)\n",
        "# grid_search.fit(X_train, y_train)"
      ],
      "metadata": {
        "id": "YfmWUs-Qv-KE"
      },
      "execution_count": 260,
      "outputs": []
    },
    {
      "cell_type": "code",
      "source": [
        "# Best hyperparameters from GridSearchCV\n",
        "# print(f\"Best hyperparameters: {grid_search.best_params_}\")"
      ],
      "metadata": {
        "id": "S6BsIouRwBLK"
      },
      "execution_count": 261,
      "outputs": []
    },
    {
      "cell_type": "code",
      "source": [
        "# Train the RandomForest model with the best parameters\n",
        "# best_rf = grid_search.best_estimator_\n",
        "# best_rf.fit(X_train, y_train)\n",
        "\n",
        "# Predict on the test set\n",
        "# y_pred = best_rf.predict(X_test)"
      ],
      "metadata": {
        "id": "3oiRGpA3wDkj"
      },
      "execution_count": 262,
      "outputs": []
    },
    {
      "cell_type": "code",
      "source": [
        "# Classification Report\n",
        "# report = classification_report(y_test, y_pred)\n",
        "# print(f\"Classification Report:\\n{report}\")"
      ],
      "metadata": {
        "id": "Uqnl_EaowOd9"
      },
      "execution_count": 263,
      "outputs": []
    },
    {
      "cell_type": "code",
      "source": [
        "# Evaluation metrics\n",
        "# from sklearn.metrics import accuracy_score\n",
        "\n",
        "# Accuracy score on the test set\n",
        "# accuracy = accuracy_score(y_test, y_pred)\n",
        "# print(f\"Accuracy on test set: {accuracy * 100:.2f}%\")"
      ],
      "metadata": {
        "id": "zPkcfwIIwX7W"
      },
      "execution_count": 264,
      "outputs": []
    },
    {
      "cell_type": "code",
      "source": [
        "# Confusion Matrix\n",
        "# cm = confusion_matrix(y_test, y_pred)\n",
        "# print(f\"Confusion Matrix:\\n{cm}\")"
      ],
      "metadata": {
        "id": "qu-2Gz2uwb3d"
      },
      "execution_count": 265,
      "outputs": []
    },
    {
      "cell_type": "code",
      "source": [
        "# Plotting the Confusion Matrix\n",
        "# sns.heatmap(cm, annot=True, fmt='d', cmap='Blues', xticklabels=np.unique(y_resampled), yticklabels=np.unique(y_resampled))\n",
        "# plt.title('Confusion Matrix')\n",
        "# plt.ylabel('True Label')\n",
        "# plt.xlabel('Predicted Label')\n",
        "# plt.show()"
      ],
      "metadata": {
        "id": "C8_fCaIJwhUW"
      },
      "execution_count": 266,
      "outputs": []
    },
    {
      "cell_type": "code",
      "source": [
        "# Feature Importance\n",
        "# feature_importances = best_rf.feature_importances_\n",
        "# print(f\"Feature Importances: {feature_importances}\")"
      ],
      "metadata": {
        "id": "FigM49D1wQK6"
      },
      "execution_count": 267,
      "outputs": []
    },
    {
      "cell_type": "code",
      "source": [
        "# Plot Feature Importances\n",
        "# plt.figure(figsize=(8, 6))\n",
        "# plt.barh(range(len(feature_importances)), feature_importances, align='center')\n",
        "# plt.yticks(range(len(feature_importances)), np.array(X.columns)[feature_importances.argsort()])\n",
        "# plt.xlabel('Feature Importance')\n",
        "# plt.title('Random Forest Feature Importances')\n",
        "# plt.show()"
      ],
      "metadata": {
        "id": "gvGY9RtAwStR"
      },
      "execution_count": 268,
      "outputs": []
    },
    {
      "cell_type": "code",
      "source": [
        "# Initialize the RandomForestClassifier (without hyperparameter tuning)\n",
        "rf = RandomForestClassifier(random_state=42)"
      ],
      "metadata": {
        "id": "x8P9vfEnxSP8"
      },
      "execution_count": 269,
      "outputs": []
    },
    {
      "cell_type": "code",
      "source": [
        "# Train the RandomForest model on the training data\n",
        "rf.fit(X_train, y_train)"
      ],
      "metadata": {
        "colab": {
          "base_uri": "https://localhost:8080/",
          "height": 80
        },
        "id": "cZPRHfNwxTiK",
        "outputId": "bdb6008b-1a60-42c9-dd86-6570ba418486"
      },
      "execution_count": 270,
      "outputs": [
        {
          "output_type": "execute_result",
          "data": {
            "text/plain": [
              "RandomForestClassifier(random_state=42)"
            ],
            "text/html": [
              "<style>#sk-container-id-2 {\n",
              "  /* Definition of color scheme common for light and dark mode */\n",
              "  --sklearn-color-text: #000;\n",
              "  --sklearn-color-text-muted: #666;\n",
              "  --sklearn-color-line: gray;\n",
              "  /* Definition of color scheme for unfitted estimators */\n",
              "  --sklearn-color-unfitted-level-0: #fff5e6;\n",
              "  --sklearn-color-unfitted-level-1: #f6e4d2;\n",
              "  --sklearn-color-unfitted-level-2: #ffe0b3;\n",
              "  --sklearn-color-unfitted-level-3: chocolate;\n",
              "  /* Definition of color scheme for fitted estimators */\n",
              "  --sklearn-color-fitted-level-0: #f0f8ff;\n",
              "  --sklearn-color-fitted-level-1: #d4ebff;\n",
              "  --sklearn-color-fitted-level-2: #b3dbfd;\n",
              "  --sklearn-color-fitted-level-3: cornflowerblue;\n",
              "\n",
              "  /* Specific color for light theme */\n",
              "  --sklearn-color-text-on-default-background: var(--sg-text-color, var(--theme-code-foreground, var(--jp-content-font-color1, black)));\n",
              "  --sklearn-color-background: var(--sg-background-color, var(--theme-background, var(--jp-layout-color0, white)));\n",
              "  --sklearn-color-border-box: var(--sg-text-color, var(--theme-code-foreground, var(--jp-content-font-color1, black)));\n",
              "  --sklearn-color-icon: #696969;\n",
              "\n",
              "  @media (prefers-color-scheme: dark) {\n",
              "    /* Redefinition of color scheme for dark theme */\n",
              "    --sklearn-color-text-on-default-background: var(--sg-text-color, var(--theme-code-foreground, var(--jp-content-font-color1, white)));\n",
              "    --sklearn-color-background: var(--sg-background-color, var(--theme-background, var(--jp-layout-color0, #111)));\n",
              "    --sklearn-color-border-box: var(--sg-text-color, var(--theme-code-foreground, var(--jp-content-font-color1, white)));\n",
              "    --sklearn-color-icon: #878787;\n",
              "  }\n",
              "}\n",
              "\n",
              "#sk-container-id-2 {\n",
              "  color: var(--sklearn-color-text);\n",
              "}\n",
              "\n",
              "#sk-container-id-2 pre {\n",
              "  padding: 0;\n",
              "}\n",
              "\n",
              "#sk-container-id-2 input.sk-hidden--visually {\n",
              "  border: 0;\n",
              "  clip: rect(1px 1px 1px 1px);\n",
              "  clip: rect(1px, 1px, 1px, 1px);\n",
              "  height: 1px;\n",
              "  margin: -1px;\n",
              "  overflow: hidden;\n",
              "  padding: 0;\n",
              "  position: absolute;\n",
              "  width: 1px;\n",
              "}\n",
              "\n",
              "#sk-container-id-2 div.sk-dashed-wrapped {\n",
              "  border: 1px dashed var(--sklearn-color-line);\n",
              "  margin: 0 0.4em 0.5em 0.4em;\n",
              "  box-sizing: border-box;\n",
              "  padding-bottom: 0.4em;\n",
              "  background-color: var(--sklearn-color-background);\n",
              "}\n",
              "\n",
              "#sk-container-id-2 div.sk-container {\n",
              "  /* jupyter's `normalize.less` sets `[hidden] { display: none; }`\n",
              "     but bootstrap.min.css set `[hidden] { display: none !important; }`\n",
              "     so we also need the `!important` here to be able to override the\n",
              "     default hidden behavior on the sphinx rendered scikit-learn.org.\n",
              "     See: https://github.com/scikit-learn/scikit-learn/issues/21755 */\n",
              "  display: inline-block !important;\n",
              "  position: relative;\n",
              "}\n",
              "\n",
              "#sk-container-id-2 div.sk-text-repr-fallback {\n",
              "  display: none;\n",
              "}\n",
              "\n",
              "div.sk-parallel-item,\n",
              "div.sk-serial,\n",
              "div.sk-item {\n",
              "  /* draw centered vertical line to link estimators */\n",
              "  background-image: linear-gradient(var(--sklearn-color-text-on-default-background), var(--sklearn-color-text-on-default-background));\n",
              "  background-size: 2px 100%;\n",
              "  background-repeat: no-repeat;\n",
              "  background-position: center center;\n",
              "}\n",
              "\n",
              "/* Parallel-specific style estimator block */\n",
              "\n",
              "#sk-container-id-2 div.sk-parallel-item::after {\n",
              "  content: \"\";\n",
              "  width: 100%;\n",
              "  border-bottom: 2px solid var(--sklearn-color-text-on-default-background);\n",
              "  flex-grow: 1;\n",
              "}\n",
              "\n",
              "#sk-container-id-2 div.sk-parallel {\n",
              "  display: flex;\n",
              "  align-items: stretch;\n",
              "  justify-content: center;\n",
              "  background-color: var(--sklearn-color-background);\n",
              "  position: relative;\n",
              "}\n",
              "\n",
              "#sk-container-id-2 div.sk-parallel-item {\n",
              "  display: flex;\n",
              "  flex-direction: column;\n",
              "}\n",
              "\n",
              "#sk-container-id-2 div.sk-parallel-item:first-child::after {\n",
              "  align-self: flex-end;\n",
              "  width: 50%;\n",
              "}\n",
              "\n",
              "#sk-container-id-2 div.sk-parallel-item:last-child::after {\n",
              "  align-self: flex-start;\n",
              "  width: 50%;\n",
              "}\n",
              "\n",
              "#sk-container-id-2 div.sk-parallel-item:only-child::after {\n",
              "  width: 0;\n",
              "}\n",
              "\n",
              "/* Serial-specific style estimator block */\n",
              "\n",
              "#sk-container-id-2 div.sk-serial {\n",
              "  display: flex;\n",
              "  flex-direction: column;\n",
              "  align-items: center;\n",
              "  background-color: var(--sklearn-color-background);\n",
              "  padding-right: 1em;\n",
              "  padding-left: 1em;\n",
              "}\n",
              "\n",
              "\n",
              "/* Toggleable style: style used for estimator/Pipeline/ColumnTransformer box that is\n",
              "clickable and can be expanded/collapsed.\n",
              "- Pipeline and ColumnTransformer use this feature and define the default style\n",
              "- Estimators will overwrite some part of the style using the `sk-estimator` class\n",
              "*/\n",
              "\n",
              "/* Pipeline and ColumnTransformer style (default) */\n",
              "\n",
              "#sk-container-id-2 div.sk-toggleable {\n",
              "  /* Default theme specific background. It is overwritten whether we have a\n",
              "  specific estimator or a Pipeline/ColumnTransformer */\n",
              "  background-color: var(--sklearn-color-background);\n",
              "}\n",
              "\n",
              "/* Toggleable label */\n",
              "#sk-container-id-2 label.sk-toggleable__label {\n",
              "  cursor: pointer;\n",
              "  display: flex;\n",
              "  width: 100%;\n",
              "  margin-bottom: 0;\n",
              "  padding: 0.5em;\n",
              "  box-sizing: border-box;\n",
              "  text-align: center;\n",
              "  align-items: start;\n",
              "  justify-content: space-between;\n",
              "  gap: 0.5em;\n",
              "}\n",
              "\n",
              "#sk-container-id-2 label.sk-toggleable__label .caption {\n",
              "  font-size: 0.6rem;\n",
              "  font-weight: lighter;\n",
              "  color: var(--sklearn-color-text-muted);\n",
              "}\n",
              "\n",
              "#sk-container-id-2 label.sk-toggleable__label-arrow:before {\n",
              "  /* Arrow on the left of the label */\n",
              "  content: \"▸\";\n",
              "  float: left;\n",
              "  margin-right: 0.25em;\n",
              "  color: var(--sklearn-color-icon);\n",
              "}\n",
              "\n",
              "#sk-container-id-2 label.sk-toggleable__label-arrow:hover:before {\n",
              "  color: var(--sklearn-color-text);\n",
              "}\n",
              "\n",
              "/* Toggleable content - dropdown */\n",
              "\n",
              "#sk-container-id-2 div.sk-toggleable__content {\n",
              "  max-height: 0;\n",
              "  max-width: 0;\n",
              "  overflow: hidden;\n",
              "  text-align: left;\n",
              "  /* unfitted */\n",
              "  background-color: var(--sklearn-color-unfitted-level-0);\n",
              "}\n",
              "\n",
              "#sk-container-id-2 div.sk-toggleable__content.fitted {\n",
              "  /* fitted */\n",
              "  background-color: var(--sklearn-color-fitted-level-0);\n",
              "}\n",
              "\n",
              "#sk-container-id-2 div.sk-toggleable__content pre {\n",
              "  margin: 0.2em;\n",
              "  border-radius: 0.25em;\n",
              "  color: var(--sklearn-color-text);\n",
              "  /* unfitted */\n",
              "  background-color: var(--sklearn-color-unfitted-level-0);\n",
              "}\n",
              "\n",
              "#sk-container-id-2 div.sk-toggleable__content.fitted pre {\n",
              "  /* unfitted */\n",
              "  background-color: var(--sklearn-color-fitted-level-0);\n",
              "}\n",
              "\n",
              "#sk-container-id-2 input.sk-toggleable__control:checked~div.sk-toggleable__content {\n",
              "  /* Expand drop-down */\n",
              "  max-height: 200px;\n",
              "  max-width: 100%;\n",
              "  overflow: auto;\n",
              "}\n",
              "\n",
              "#sk-container-id-2 input.sk-toggleable__control:checked~label.sk-toggleable__label-arrow:before {\n",
              "  content: \"▾\";\n",
              "}\n",
              "\n",
              "/* Pipeline/ColumnTransformer-specific style */\n",
              "\n",
              "#sk-container-id-2 div.sk-label input.sk-toggleable__control:checked~label.sk-toggleable__label {\n",
              "  color: var(--sklearn-color-text);\n",
              "  background-color: var(--sklearn-color-unfitted-level-2);\n",
              "}\n",
              "\n",
              "#sk-container-id-2 div.sk-label.fitted input.sk-toggleable__control:checked~label.sk-toggleable__label {\n",
              "  background-color: var(--sklearn-color-fitted-level-2);\n",
              "}\n",
              "\n",
              "/* Estimator-specific style */\n",
              "\n",
              "/* Colorize estimator box */\n",
              "#sk-container-id-2 div.sk-estimator input.sk-toggleable__control:checked~label.sk-toggleable__label {\n",
              "  /* unfitted */\n",
              "  background-color: var(--sklearn-color-unfitted-level-2);\n",
              "}\n",
              "\n",
              "#sk-container-id-2 div.sk-estimator.fitted input.sk-toggleable__control:checked~label.sk-toggleable__label {\n",
              "  /* fitted */\n",
              "  background-color: var(--sklearn-color-fitted-level-2);\n",
              "}\n",
              "\n",
              "#sk-container-id-2 div.sk-label label.sk-toggleable__label,\n",
              "#sk-container-id-2 div.sk-label label {\n",
              "  /* The background is the default theme color */\n",
              "  color: var(--sklearn-color-text-on-default-background);\n",
              "}\n",
              "\n",
              "/* On hover, darken the color of the background */\n",
              "#sk-container-id-2 div.sk-label:hover label.sk-toggleable__label {\n",
              "  color: var(--sklearn-color-text);\n",
              "  background-color: var(--sklearn-color-unfitted-level-2);\n",
              "}\n",
              "\n",
              "/* Label box, darken color on hover, fitted */\n",
              "#sk-container-id-2 div.sk-label.fitted:hover label.sk-toggleable__label.fitted {\n",
              "  color: var(--sklearn-color-text);\n",
              "  background-color: var(--sklearn-color-fitted-level-2);\n",
              "}\n",
              "\n",
              "/* Estimator label */\n",
              "\n",
              "#sk-container-id-2 div.sk-label label {\n",
              "  font-family: monospace;\n",
              "  font-weight: bold;\n",
              "  display: inline-block;\n",
              "  line-height: 1.2em;\n",
              "}\n",
              "\n",
              "#sk-container-id-2 div.sk-label-container {\n",
              "  text-align: center;\n",
              "}\n",
              "\n",
              "/* Estimator-specific */\n",
              "#sk-container-id-2 div.sk-estimator {\n",
              "  font-family: monospace;\n",
              "  border: 1px dotted var(--sklearn-color-border-box);\n",
              "  border-radius: 0.25em;\n",
              "  box-sizing: border-box;\n",
              "  margin-bottom: 0.5em;\n",
              "  /* unfitted */\n",
              "  background-color: var(--sklearn-color-unfitted-level-0);\n",
              "}\n",
              "\n",
              "#sk-container-id-2 div.sk-estimator.fitted {\n",
              "  /* fitted */\n",
              "  background-color: var(--sklearn-color-fitted-level-0);\n",
              "}\n",
              "\n",
              "/* on hover */\n",
              "#sk-container-id-2 div.sk-estimator:hover {\n",
              "  /* unfitted */\n",
              "  background-color: var(--sklearn-color-unfitted-level-2);\n",
              "}\n",
              "\n",
              "#sk-container-id-2 div.sk-estimator.fitted:hover {\n",
              "  /* fitted */\n",
              "  background-color: var(--sklearn-color-fitted-level-2);\n",
              "}\n",
              "\n",
              "/* Specification for estimator info (e.g. \"i\" and \"?\") */\n",
              "\n",
              "/* Common style for \"i\" and \"?\" */\n",
              "\n",
              ".sk-estimator-doc-link,\n",
              "a:link.sk-estimator-doc-link,\n",
              "a:visited.sk-estimator-doc-link {\n",
              "  float: right;\n",
              "  font-size: smaller;\n",
              "  line-height: 1em;\n",
              "  font-family: monospace;\n",
              "  background-color: var(--sklearn-color-background);\n",
              "  border-radius: 1em;\n",
              "  height: 1em;\n",
              "  width: 1em;\n",
              "  text-decoration: none !important;\n",
              "  margin-left: 0.5em;\n",
              "  text-align: center;\n",
              "  /* unfitted */\n",
              "  border: var(--sklearn-color-unfitted-level-1) 1pt solid;\n",
              "  color: var(--sklearn-color-unfitted-level-1);\n",
              "}\n",
              "\n",
              ".sk-estimator-doc-link.fitted,\n",
              "a:link.sk-estimator-doc-link.fitted,\n",
              "a:visited.sk-estimator-doc-link.fitted {\n",
              "  /* fitted */\n",
              "  border: var(--sklearn-color-fitted-level-1) 1pt solid;\n",
              "  color: var(--sklearn-color-fitted-level-1);\n",
              "}\n",
              "\n",
              "/* On hover */\n",
              "div.sk-estimator:hover .sk-estimator-doc-link:hover,\n",
              ".sk-estimator-doc-link:hover,\n",
              "div.sk-label-container:hover .sk-estimator-doc-link:hover,\n",
              ".sk-estimator-doc-link:hover {\n",
              "  /* unfitted */\n",
              "  background-color: var(--sklearn-color-unfitted-level-3);\n",
              "  color: var(--sklearn-color-background);\n",
              "  text-decoration: none;\n",
              "}\n",
              "\n",
              "div.sk-estimator.fitted:hover .sk-estimator-doc-link.fitted:hover,\n",
              ".sk-estimator-doc-link.fitted:hover,\n",
              "div.sk-label-container:hover .sk-estimator-doc-link.fitted:hover,\n",
              ".sk-estimator-doc-link.fitted:hover {\n",
              "  /* fitted */\n",
              "  background-color: var(--sklearn-color-fitted-level-3);\n",
              "  color: var(--sklearn-color-background);\n",
              "  text-decoration: none;\n",
              "}\n",
              "\n",
              "/* Span, style for the box shown on hovering the info icon */\n",
              ".sk-estimator-doc-link span {\n",
              "  display: none;\n",
              "  z-index: 9999;\n",
              "  position: relative;\n",
              "  font-weight: normal;\n",
              "  right: .2ex;\n",
              "  padding: .5ex;\n",
              "  margin: .5ex;\n",
              "  width: min-content;\n",
              "  min-width: 20ex;\n",
              "  max-width: 50ex;\n",
              "  color: var(--sklearn-color-text);\n",
              "  box-shadow: 2pt 2pt 4pt #999;\n",
              "  /* unfitted */\n",
              "  background: var(--sklearn-color-unfitted-level-0);\n",
              "  border: .5pt solid var(--sklearn-color-unfitted-level-3);\n",
              "}\n",
              "\n",
              ".sk-estimator-doc-link.fitted span {\n",
              "  /* fitted */\n",
              "  background: var(--sklearn-color-fitted-level-0);\n",
              "  border: var(--sklearn-color-fitted-level-3);\n",
              "}\n",
              "\n",
              ".sk-estimator-doc-link:hover span {\n",
              "  display: block;\n",
              "}\n",
              "\n",
              "/* \"?\"-specific style due to the `<a>` HTML tag */\n",
              "\n",
              "#sk-container-id-2 a.estimator_doc_link {\n",
              "  float: right;\n",
              "  font-size: 1rem;\n",
              "  line-height: 1em;\n",
              "  font-family: monospace;\n",
              "  background-color: var(--sklearn-color-background);\n",
              "  border-radius: 1rem;\n",
              "  height: 1rem;\n",
              "  width: 1rem;\n",
              "  text-decoration: none;\n",
              "  /* unfitted */\n",
              "  color: var(--sklearn-color-unfitted-level-1);\n",
              "  border: var(--sklearn-color-unfitted-level-1) 1pt solid;\n",
              "}\n",
              "\n",
              "#sk-container-id-2 a.estimator_doc_link.fitted {\n",
              "  /* fitted */\n",
              "  border: var(--sklearn-color-fitted-level-1) 1pt solid;\n",
              "  color: var(--sklearn-color-fitted-level-1);\n",
              "}\n",
              "\n",
              "/* On hover */\n",
              "#sk-container-id-2 a.estimator_doc_link:hover {\n",
              "  /* unfitted */\n",
              "  background-color: var(--sklearn-color-unfitted-level-3);\n",
              "  color: var(--sklearn-color-background);\n",
              "  text-decoration: none;\n",
              "}\n",
              "\n",
              "#sk-container-id-2 a.estimator_doc_link.fitted:hover {\n",
              "  /* fitted */\n",
              "  background-color: var(--sklearn-color-fitted-level-3);\n",
              "}\n",
              "</style><div id=\"sk-container-id-2\" class=\"sk-top-container\"><div class=\"sk-text-repr-fallback\"><pre>RandomForestClassifier(random_state=42)</pre><b>In a Jupyter environment, please rerun this cell to show the HTML representation or trust the notebook. <br />On GitHub, the HTML representation is unable to render, please try loading this page with nbviewer.org.</b></div><div class=\"sk-container\" hidden><div class=\"sk-item\"><div class=\"sk-estimator fitted sk-toggleable\"><input class=\"sk-toggleable__control sk-hidden--visually\" id=\"sk-estimator-id-2\" type=\"checkbox\" checked><label for=\"sk-estimator-id-2\" class=\"sk-toggleable__label fitted sk-toggleable__label-arrow\"><div><div>RandomForestClassifier</div></div><div><a class=\"sk-estimator-doc-link fitted\" rel=\"noreferrer\" target=\"_blank\" href=\"https://scikit-learn.org/1.6/modules/generated/sklearn.ensemble.RandomForestClassifier.html\">?<span>Documentation for RandomForestClassifier</span></a><span class=\"sk-estimator-doc-link fitted\">i<span>Fitted</span></span></div></label><div class=\"sk-toggleable__content fitted\"><pre>RandomForestClassifier(random_state=42)</pre></div> </div></div></div></div>"
            ]
          },
          "metadata": {},
          "execution_count": 270
        }
      ]
    },
    {
      "cell_type": "code",
      "source": [
        "# Predict on the test set\n",
        "y_pred = rf.predict(X_test)"
      ],
      "metadata": {
        "id": "7sPiYvPVxUx_"
      },
      "execution_count": 271,
      "outputs": []
    },
    {
      "cell_type": "code",
      "source": [
        "# Confusion Matrix\n",
        "cm = confusion_matrix(y_test, y_pred)\n",
        "print(f\"Confusion Matrix:\\n{cm}\")"
      ],
      "metadata": {
        "colab": {
          "base_uri": "https://localhost:8080/"
        },
        "id": "i2VUDbR1xXY_",
        "outputId": "3fd45ead-b762-4e06-ea14-1c5ed6adeeb9"
      },
      "execution_count": 272,
      "outputs": [
        {
          "output_type": "stream",
          "name": "stdout",
          "text": [
            "Confusion Matrix:\n",
            "[[115  10   0]\n",
            " [  2 123   0]\n",
            " [  0   0 125]]\n"
          ]
        }
      ]
    },
    {
      "cell_type": "code",
      "source": [
        "# Plotting Confusion Matrix\n",
        "sns.heatmap(cm, annot=True, fmt='d', cmap='Blues', xticklabels=np.unique(y_resampled), yticklabels=np.unique(y_resampled))\n",
        "plt.title('Confusion Matrix')\n",
        "plt.ylabel('True Label')\n",
        "plt.xlabel('Predicted Label')\n",
        "plt.show()"
      ],
      "metadata": {
        "colab": {
          "base_uri": "https://localhost:8080/",
          "height": 472
        },
        "id": "_4CjOYawxYpS",
        "outputId": "ae32154f-87bf-4554-c8f4-546943452c49"
      },
      "execution_count": 273,
      "outputs": [
        {
          "output_type": "display_data",
          "data": {
            "text/plain": [
              "<Figure size 640x480 with 2 Axes>"
            ],
            "image/png": "[encoded data removed]"
          },
          "metadata": {}
        }
      ]
    },
    {
      "cell_type": "code",
      "source": [
        "# Classification Report\n",
        "report = classification_report(y_test, y_pred)\n",
        "print(f\"Classification Report:\\n{report}\")"
      ],
      "metadata": {
        "colab": {
          "base_uri": "https://localhost:8080/"
        },
        "id": "D_McmXzoxczZ",
        "outputId": "3c074aa3-3649-4f20-d2d7-285fd2f4fcb7"
      },
      "execution_count": 274,
      "outputs": [
        {
          "output_type": "stream",
          "name": "stdout",
          "text": [
            "Classification Report:\n",
            "              precision    recall  f1-score   support\n",
            "\n",
            "           0       0.98      0.92      0.95       125\n",
            "           1       0.92      0.98      0.95       125\n",
            "           2       1.00      1.00      1.00       125\n",
            "\n",
            "    accuracy                           0.97       375\n",
            "   macro avg       0.97      0.97      0.97       375\n",
            "weighted avg       0.97      0.97      0.97       375\n",
            "\n"
          ]
        }
      ]
    },
    {
      "cell_type": "code",
      "source": [
        "# Feature Importance\n",
        "feature_importances = rf.feature_importances_\n",
        "print(f\"Feature Importances: {feature_importances}\")"
      ],
      "metadata": {
        "colab": {
          "base_uri": "https://localhost:8080/"
        },
        "id": "pNzLidTJxe4A",
        "outputId": "a1a130a2-21f2-4baa-b984-42ef5e4ea10d"
      },
      "execution_count": 275,
      "outputs": [
        {
          "output_type": "stream",
          "name": "stdout",
          "text": [
            "Feature Importances: [0.00396708 0.21948362 0.13486025 0.01970886 0.34791391 0.00958464\n",
            " 0.14627251 0.11820912]\n"
          ]
        }
      ]
    },
    {
      "cell_type": "code",
      "source": [
        "# Plotting Feature Importances\n",
        "plt.figure(figsize=(8, 6))\n",
        "plt.barh(range(len(feature_importances)), feature_importances, align='center')\n",
        "plt.yticks(range(len(feature_importances)), np.array(X.columns)[feature_importances.argsort()])\n",
        "plt.xlabel('Feature Importance')\n",
        "plt.title('Random Forest Feature Importances')\n",
        "plt.show()"
      ],
      "metadata": {
        "colab": {
          "base_uri": "https://localhost:8080/",
          "height": 564
        },
        "id": "gJM9HF3BxgtK",
        "outputId": "46459f4f-c15e-475f-a69a-a75ab2f3ca20"
      },
      "execution_count": 276,
      "outputs": [
        {
          "output_type": "display_data",
          "data": {
            "text/plain": [
              "<Figure size 800x600 with 1 Axes>"
            ],
            "image/png": "[encoded data removed]"
          },
          "metadata": {}
        }
      ]
    },
    {
      "cell_type": "code",
      "source": [
        "# Accuracy score on the test set\n",
        "accuracy = accuracy_score(y_test, y_pred)\n",
        "print(f\"Accuracy on test set: {accuracy * 100:.2f}%\")"
      ],
      "metadata": {
        "colab": {
          "base_uri": "https://localhost:8080/"
        },
        "id": "2ilpSSwizB68",
        "outputId": "9769bddc-9a1b-4a05-bc2d-fde07260fd77"
      },
      "execution_count": 277,
      "outputs": [
        {
          "output_type": "stream",
          "name": "stdout",
          "text": [
            "Accuracy on test set: 96.80%\n"
          ]
        }
      ]
    },
    {
      "cell_type": "code",
      "source": [
        "import joblib\n",
        "\n",
        "# Saving the trained model and scaler to files\n",
        "model_filename = '/content/drive/MyDrive/Importer_Risk_Prediction_2/models/random_forest_model.joblib'\n",
        "scaler_filename = '/content/drive/MyDrive/Importer_Risk_Prediction_2/scalers/scaler.joblib'\n",
        "\n",
        "# Save model and scaler\n",
        "joblib.dump(rf, model_filename)\n",
        "joblib.dump(scaler, scaler_filename)\n",
        "print(f\"Model saved to {model_filename}\")\n",
        "print(f\"Scaler saved to {scaler_filename}\")\n",
        "\n",
        "# Reloading the model and scaler from files\n",
        "loaded_model = joblib.load(model_filename)\n",
        "loaded_scaler = joblib.load(scaler_filename)\n",
        "print(\"Model and Scaler loaded successfully\")\n",
        "\n",
        "# Scaling the test data with the loaded scaler\n",
        "X_test_scaled = loaded_scaler.transform(X_test)\n",
        "\n",
        "# Predicting with the loaded model on the scaled test set\n",
        "y_pred_loaded = loaded_model.predict(X_test_scaled)\n",
        "\n",
        "# Accuracy of the reloaded model\n",
        "accuracy_loaded = accuracy_score(y_test, y_pred_loaded)\n",
        "print(f\"Accuracy of the reloaded model on test set: {accuracy_loaded * 100:.2f}%\")"
      ],
      "metadata": {
        "colab": {
          "base_uri": "https://localhost:8080/"
        },
        "id": "zYPda2Ul5E5R",
        "outputId": "dd2fc195-886d-44e5-cddb-f315f76fd20c"
      },
      "execution_count": 278,
      "outputs": [
        {
          "output_type": "stream",
          "name": "stdout",
          "text": [
            "Model saved to /content/drive/MyDrive/Importer_Risk_Prediction_2/models/random_forest_model.joblib\n",
            "Scaler saved to /content/drive/MyDrive/Importer_Risk_Prediction_2/scalers/scaler.joblib\n",
            "Model and Scaler loaded successfully\n",
            "Accuracy of the reloaded model on test set: 66.67%\n"
          ]
        },
        {
          "output_type": "stream",
          "name": "stderr",
          "text": [
            "/usr/local/lib/python3.11/dist-packages/sklearn/utils/validation.py:2739: UserWarning: X does not have valid feature names, but StandardScaler was fitted with feature names\n",
            "  warnings.warn(\n"
          ]
        }
      ]
    },
    {
      "cell_type": "code",
      "source": [
        "import numpy as np\n",
        "import joblib\n",
        "import tensorflow as tf\n",
        "from tensorflow.keras.models import Sequential\n",
        "from tensorflow.keras.layers import Embedding, Flatten, Dense\n",
        "from sklearn.ensemble import RandomForestClassifier\n",
        "from sklearn.preprocessing import StandardScaler\n",
        "\n",
        "class ChemicalRiskPredictor:\n",
        "    def __init__(self,\n",
        "                 encoders_path='/content/drive/MyDrive/Importer_Risk_Prediction_2/encoders/',\n",
        "                 model_path='/content/drive/MyDrive/Importer_Risk_Prediction_2/models/',\n",
        "                 scaler_path='/content/drive/MyDrive/Importer_Risk_Prediction_2/scalers/'):\n",
        "        \"\"\"\n",
        "        Initialize the predictor by loading necessary components\n",
        "        \"\"\"\n",
        "        # Load label encoders\n",
        "        self.encoders = {\n",
        "            'IMPORTER': joblib.load(f'{encoders_path}encoded_IMPORTER.pkl'),\n",
        "            'DESCRIPTION_01': joblib.load(f'{encoders_path}encoded_DESCRIPTION_01.pkl'),\n",
        "            'DESCRIPTION_02': joblib.load(f'{encoders_path}encoded_DESCRIPTION_02.pkl'),\n",
        "            'DESCRIPTION_03': joblib.load(f'{encoders_path}encoded_DESCRIPTION_03.pkl'),\n",
        "            'HSCODE': joblib.load(f'{encoders_path}encoded_HSCODE.pkl'),\n",
        "            'COUNTRY': joblib.load(f'{encoders_path}encoded_COUNTRY.pkl'),\n",
        "            'UNIT': joblib.load(f'{encoders_path}encoded_UNIT.pkl')\n",
        "        }\n",
        "\n",
        "        # Load scaler\n",
        "        self.scaler = joblib.load(f'{scaler_path}scaler.joblib')\n",
        "\n",
        "        # Load Random Forest model\n",
        "        self.rf_model = joblib.load(f'{model_path}random_forest_model.joblib')\n",
        "\n",
        "        # Load embedding models\n",
        "        self.embedding_models = {}\n",
        "        embedding_columns = ['IMPORTER', 'HSCODE', 'COUNTRY', 'UNIT', 'DESCRIPTION_01', 'DESCRIPTION_02', 'DESCRIPTION_03']\n",
        "\n",
        "        for col in embedding_columns:\n",
        "            # Create embedding model\n",
        "            self.embedding_models[col] = self.create_embedding_model(\n",
        "                input_dim=len(self.encoders[col].classes_) + 1,  # +1 for unknown categories\n",
        "                output_dim=5  # Embedding dimension\n",
        "            )\n",
        "\n",
        "    def create_embedding_model(self, input_dim, output_dim):\n",
        "        \"\"\"\n",
        "        Create an embedding model for a column\n",
        "        \"\"\"\n",
        "        model = Sequential([\n",
        "            Embedding(input_dim=input_dim, output_dim=output_dim, input_length=1),\n",
        "            Flatten()\n",
        "        ])\n",
        "        return model\n",
        "\n",
        "    def encode_and_embed_input(self, column, input_value):\n",
        "        \"\"\"\n",
        "        Encode and embed input for a specific column\n",
        "        \"\"\"\n",
        "        encoder = self.encoders.get(column.upper())\n",
        "        embedding_model = self.embedding_models.get(column.upper())\n",
        "\n",
        "        if encoder is None or embedding_model is None:\n",
        "            raise ValueError(f\"No encoder or embedding model found for column: {column}\")\n",
        "\n",
        "        # Handle out-of-vocabulary inputs\n",
        "        if input_value in encoder.classes_:\n",
        "            encoded_input = encoder.transform([input_value])[0]\n",
        "        else:\n",
        "            # Use the index for unknown categories\n",
        "            encoded_input = len(encoder.classes_)\n",
        "\n",
        "        # Reshape for embedding\n",
        "        reshaped_input = np.array(encoded_input).reshape(1, 1)\n",
        "\n",
        "        # Get embedding\n",
        "        embedding = embedding_model.predict(reshaped_input)\n",
        "\n",
        "        return embedding[0]\n",
        "\n",
        "    def predict(self, input_data):\n",
        "        \"\"\"\n",
        "        Make prediction using the Random Forest model with embeddings\n",
        "        \"\"\"\n",
        "        try:\n",
        "            # Prepare embeddings for categorical columns\n",
        "            embedding_features = []\n",
        "            categorical_columns = ['IMPORTER', 'HSCODE', 'COUNTRY', 'UNIT', 'DESCRIPTION_01', 'DESCRIPTION_02', 'DESCRIPTION_03']\n",
        "\n",
        "            for col in categorical_columns:\n",
        "                embedding = self.encode_and_embed_input(col, input_data[col])\n",
        "                embedding_features.extend(embedding)\n",
        "\n",
        "            # Prepare other numeric features\n",
        "            numeric_features = [\n",
        "                input_data['QUANTITY'],\n",
        "            ]\n",
        "\n",
        "            # Combine all features\n",
        "            all_features = embedding_features + numeric_features\n",
        "\n",
        "            # Convert to numpy array and reshape\n",
        "            features = np.array(all_features).reshape(1, -1)\n",
        "\n",
        "            # Scale the features\n",
        "            scaled_features = self.scaler.transform(features)\n",
        "\n",
        "            # Make prediction\n",
        "            prediction = self.rf_model.predict(scaled_features)\n",
        "            prediction_proba = self.rf_model.predict_proba(scaled_features)\n",
        "\n",
        "            # Determine risk category\n",
        "            risk_categories = ['Low', 'Medium', 'High']\n",
        "            risk_index = np.argmax(prediction_proba)\n",
        "            risk_category = risk_categories[risk_index]\n",
        "\n",
        "            return {\n",
        "                'risk_category': risk_category,\n",
        "                'confidence': prediction_proba[0][risk_index],\n",
        "                'detailed_probabilities': {\n",
        "                    category: prob for category, prob in zip(risk_categories, prediction_proba[0])\n",
        "                }\n",
        "            }\n",
        "\n",
        "        except Exception as e:\n",
        "            print(f\"Prediction error: {e}\")\n",
        "            return None\n",
        "\n",
        "def main():\n",
        "    # Create predictor instance\n",
        "    predictor = ChemicalRiskPredictor()\n",
        "\n",
        "    # Collect user inputs\n",
        "    try:\n",
        "        input_data = {\n",
        "            'IMPORTER': input(\"Enter importer: \").capitalize(),\n",
        "            'COUNTRY': input(\"Enter country: \").upper(),\n",
        "            'UNIT': input(\"Enter unit: \").upper(),\n",
        "            'HSCODE': int(input(\"Enter HS code: \")),\n",
        "            'DESCRIPTION_01': input(\"Enter description 01: \").capitalize(),\n",
        "            'DESCRIPTION_02': input(\"Enter description 02: \").capitalize(),\n",
        "            'DESCRIPTION_03': input(\"Enter description 03: \").capitalize(),\n",
        "            'QUANTITY': float(input(\"Enter quantity: \")),\n",
        "        }\n",
        "\n",
        "        # Make prediction\n",
        "        result = predictor.predict(input_data)\n",
        "\n",
        "        # Display results\n",
        "        if result:\n",
        "            print(\"\\nPrediction Results:\")\n",
        "            print(f\"Risk Category: {result['risk_category']}\")\n",
        "            print(f\"Confidence: {result['confidence']:.2%}\")\n",
        "            print(\"\\nDetailed Probabilities:\")\n",
        "            for category, probability in result['detailed_probabilities'].items():\n",
        "                print(f\"{category} Risk: {probability:.2%}\")\n",
        "\n",
        "    except Exception as e:\n",
        "        print(f\"Error in prediction: {e}\")\n",
        "\n",
        "if __name__ == \"__main__\":\n",
        "    main()"
      ],
      "metadata": {
        "colab": {
          "base_uri": "https://localhost:8080/"
        },
        "id": "aEI3CAoRyHeg",
        "outputId": "db0b74a0-b2cb-4337-8678-9d1a65f2c971"
      },
      "execution_count": 279,
      "outputs": [
        {
          "output_type": "stream",
          "name": "stderr",
          "text": [
            "/usr/local/lib/python3.11/dist-packages/keras/src/layers/core/embedding.py:90: UserWarning: Argument `input_length` is deprecated. Just remove it.\n",
            "  warnings.warn(\n"
          ]
        },
        {
          "output_type": "stream",
          "name": "stdout",
          "text": [
            "Enter importer: Shabna Inc\n",
            "Enter country: INDIA\n",
            "Enter unit: KG\n",
            "Enter HS code: 2801100000\n",
            "Enter description 01: Fluorine, chlorine, bromine and iodine\n",
            "Enter description 02: Fluorine, chlorine, bromine and iodine\n",
            "Enter description 03: Chlorine\n",
            "Enter quantity: 2000\n",
            "\u001b[1m1/1\u001b[0m \u001b[32m━━━━━━━━━━━━━━━━━━━━\u001b[0m\u001b[37m\u001b[0m \u001b[1m0s\u001b[0m 97ms/step\n",
            "\u001b[1m1/1\u001b[0m \u001b[32m━━━━━━━━━━━━━━━━━━━━\u001b[0m\u001b[37m\u001b[0m \u001b[1m0s\u001b[0m 91ms/step\n",
            "\u001b[1m1/1\u001b[0m \u001b[32m━━━━━━━━━━━━━━━━━━━━\u001b[0m\u001b[37m\u001b[0m \u001b[1m0s\u001b[0m 91ms/step\n",
            "\u001b[1m1/1\u001b[0m \u001b[32m━━━━━━━━━━━━━━━━━━━━\u001b[0m\u001b[37m\u001b[0m \u001b[1m0s\u001b[0m 90ms/step\n",
            "\u001b[1m1/1\u001b[0m \u001b[32m━━━━━━━━━━━━━━━━━━━━\u001b[0m\u001b[37m\u001b[0m \u001b[1m0s\u001b[0m 93ms/step\n",
            "\u001b[1m1/1\u001b[0m \u001b[32m━━━━━━━━━━━━━━━━━━━━\u001b[0m\u001b[37m\u001b[0m \u001b[1m0s\u001b[0m 102ms/step\n",
            "\u001b[1m1/1\u001b[0m \u001b[32m━━━━━━━━━━━━━━━━━━━━\u001b[0m\u001b[37m\u001b[0m \u001b[1m0s\u001b[0m 103ms/step\n",
            "Prediction error: X has 36 features, but StandardScaler is expecting 8 features as input.\n"
          ]
        },
        {
          "output_type": "stream",
          "name": "stderr",
          "text": [
            "/usr/local/lib/python3.11/dist-packages/sklearn/utils/validation.py:2739: UserWarning: X does not have valid feature names, but StandardScaler was fitted with feature names\n",
            "  warnings.warn(\n"
          ]
        }
      ]
    }
  ]
}