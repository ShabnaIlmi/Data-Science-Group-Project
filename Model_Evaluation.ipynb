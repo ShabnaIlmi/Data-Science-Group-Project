{
  "nbformat": 4,
  "nbformat_minor": 0,
  "metadata": {
    "colab": {
      "provenance": [],
      "authorship_tag": "ABX9TyOljl1PN9Gl54n3g3tmkPyh",
      "include_colab_link": true
    },
    "kernelspec": {
      "name": "python3",
      "display_name": "Python 3"
    },
    "language_info": {
      "name": "python"
    }
  },
  "cells": [
    {
      "cell_type": "markdown",
      "metadata": {
        "id": "view-in-github",
        "colab_type": "text"
      },
      "source": [
        "<a href=\"https://colab.research.google.com/github/ShabnaIlmi/Data-Science-Group-Project/blob/Importer_Risk_Prediction/Model_Evaluation.ipynb\" target=\"_parent\"><img src=\"https://colab.research.google.com/assets/colab-badge.svg\" alt=\"Open In Colab\"/></a>"
      ]
    },
    {
      "cell_type": "markdown",
      "source": [
        "# **Installing Necessary Libraries**"
      ],
      "metadata": {
        "id": "APrJ04ms1RVE"
      }
    },
    {
      "cell_type": "code",
      "execution_count": 479,
      "metadata": {
        "id": "fxqtByuA1Mc-"
      },
      "outputs": [],
      "source": [
        "# Installing required libraries\n",
        "# !pip install --upgrade tensorflow\n",
        "# !pip install fancyimpute scikit-learn pandas\n",
        "# !pip install --upgrade scikit-learn imbalanced-learn"
      ]
    },
    {
      "cell_type": "markdown",
      "source": [
        "# **Importing Necessary Libraries**"
      ],
      "metadata": {
        "id": "I0O_E9lo1Yta"
      }
    },
    {
      "cell_type": "code",
      "source": [
        "# Importing necessary libraries\n",
        "import pandas as pd\n",
        "import numpy as np\n",
        "import matplotlib.pyplot as plt\n",
        "import seaborn as sns\n",
        "from sklearn.experimental import enable_iterative_imputer\n",
        "from sklearn.preprocessing import StandardScaler\n",
        "from sklearn.impute import IterativeImputer, KNNImputer\n",
        "from sklearn.ensemble import RandomForestClassifier, RandomForestRegressor\n",
        "from sklearn.cluster import KMeans\n",
        "from sklearn.ensemble import RandomForestRegressor\n",
        "from sklearn.experimental import enable_iterative_imputer\n",
        "import warnings\n",
        "from imblearn.over_sampling import SMOTE\n",
        "from sklearn.impute import IterativeImputer\n",
        "from sklearn.model_selection import train_test_split\n",
        "from sklearn.preprocessing import LabelEncoder\n",
        "from sklearn.model_selection import train_test_split, GridSearchCV, cross_val_score, StratifiedKFold\n",
        "from sklearn.preprocessing import StandardScaler\n",
        "from sklearn.ensemble import GradientBoostingClassifier\n",
        "import tensorflow as tf\n",
        "from tensorflow.keras.models import load_model\n",
        "from tensorflow.keras.models import Sequential\n",
        "from tensorflow.keras.layers import LSTM, Dense, Dropout\n",
        "from sklearn.preprocessing import MinMaxScaler\n",
        "from sklearn.metrics import confusion_matrix, classification_report\n",
        "from sklearn.metrics import accuracy_score, classification_report\n",
        "import seaborn as sns\n",
        "from sklearn.preprocessing import LabelEncoder\n",
        "from sklearn.impute import KNNImputer\n",
        "import random\n",
        "import pickle\n",
        "import joblib"
      ],
      "metadata": {
        "id": "OBdSeNeA1bqT"
      },
      "execution_count": 480,
      "outputs": []
    },
    {
      "cell_type": "markdown",
      "source": [
        "# **Mounting the Google Drive**"
      ],
      "metadata": {
        "id": "OaTLSxFg1gQQ"
      }
    },
    {
      "cell_type": "code",
      "source": [
        "# Mounting the google drive\n",
        "from google.colab import drive\n",
        "drive.mount('/content/drive')"
      ],
      "metadata": {
        "colab": {
          "base_uri": "https://localhost:8080/"
        },
        "id": "jjSUZs0t1imz",
        "outputId": "2063a019-186e-4b48-b27d-f3fabab88993"
      },
      "execution_count": 481,
      "outputs": [
        {
          "output_type": "stream",
          "name": "stdout",
          "text": [
            "Drive already mounted at /content/drive; to attempt to forcibly remount, call drive.mount(\"/content/drive\", force_remount=True).\n"
          ]
        }
      ]
    },
    {
      "cell_type": "markdown",
      "source": [
        "# **Loading the Dataset**"
      ],
      "metadata": {
        "id": "h_y992AU1kxC"
      }
    },
    {
      "cell_type": "code",
      "source": [
        "# Loading the dataset with the proper delimiter (semicolon)\n",
        "data = pd.read_excel('/content/drive/MyDrive/Comprehensive_Chemical_Risk_Prediction_Model/IMPORT STATISTICS - 2023.xlsx')"
      ],
      "metadata": {
        "id": "4__s9EXE1mln"
      },
      "execution_count": 482,
      "outputs": []
    },
    {
      "cell_type": "code",
      "source": [
        "# Displaying the first few rows of the data\n",
        "data.head()"
      ],
      "metadata": {
        "colab": {
          "base_uri": "https://localhost:8080/",
          "height": 206
        },
        "id": "sqPH8tVe1pvC",
        "outputId": "5f1fecc2-2d9c-4ab7-8c2f-0edf90ba4554"
      },
      "execution_count": 483,
      "outputs": [
        {
          "output_type": "execute_result",
          "data": {
            "text/plain": [
              "  IMPORTER    YEAR     MONTH  HSCODE     COUNTRY UNIT  QUANTITY    VALUE_RS  \\\n",
              "0  Unknown  2023.0   JANUARY  280110  BANGLADESH  Kg.  131600.0  13877114.0   \n",
              "1  Unknown  2023.0   JANUARY  280110       INDIA  Kg.   37800.0   3924989.0   \n",
              "2  Unknown  2023.0   JANUARY  280110    MALAYSIA  Kg.   12090.0   5390772.0   \n",
              "3  Unknown  2023.0  FEBRUARY  280110  BANGLADESH  Kg.   25200.0   3089445.0   \n",
              "4  Unknown  2023.0  FEBRUARY  280110       INDIA  Kg.   75599.0   6939860.0   \n",
              "\n",
              "                                      DESCRIPTION_01  \\\n",
              "0  Inorganic chemicals; Organic or inorganic comp...   \n",
              "1  Inorganic chemicals; Organic or inorganic comp...   \n",
              "2  Inorganic chemicals; Organic or inorganic comp...   \n",
              "3  Inorganic chemicals; Organic or inorganic comp...   \n",
              "4  Inorganic chemicals; Organic or inorganic comp...   \n",
              "\n",
              "                                      DESCRIPTION_02 DESCRIPTION_03  \n",
              "0  Fluorine, chlorine, bromine and iodine        ...       Chlorine  \n",
              "1  Fluorine, chlorine, bromine and iodine        ...       Chlorine  \n",
              "2  Fluorine, chlorine, bromine and iodine        ...       Chlorine  \n",
              "3  Fluorine, chlorine, bromine and iodine        ...       Chlorine  \n",
              "4  Fluorine, chlorine, bromine and iodine        ...       Chlorine  "
            ],
            "text/html": [
              "\n",
              "  <div id=\"df-cd415720-c28c-4f4b-9514-20351e715163\" class=\"colab-df-container\">\n",
              "    <div>\n",
              "<style scoped>\n",
              "    .dataframe tbody tr th:only-of-type {\n",
              "        vertical-align: middle;\n",
              "    }\n",
              "\n",
              "    .dataframe tbody tr th {\n",
              "        vertical-align: top;\n",
              "    }\n",
              "\n",
              "    .dataframe thead th {\n",
              "        text-align: right;\n",
              "    }\n",
              "</style>\n",
              "<table border=\"1\" class=\"dataframe\">\n",
              "  <thead>\n",
              "    <tr style=\"text-align: right;\">\n",
              "      <th></th>\n",
              "      <th>IMPORTER</th>\n",
              "      <th>YEAR</th>\n",
              "      <th>MONTH</th>\n",
              "      <th>HSCODE</th>\n",
              "      <th>COUNTRY</th>\n",
              "      <th>UNIT</th>\n",
              "      <th>QUANTITY</th>\n",
              "      <th>VALUE_RS</th>\n",
              "      <th>DESCRIPTION_01</th>\n",
              "      <th>DESCRIPTION_02</th>\n",
              "      <th>DESCRIPTION_03</th>\n",
              "    </tr>\n",
              "  </thead>\n",
              "  <tbody>\n",
              "    <tr>\n",
              "      <th>0</th>\n",
              "      <td>Unknown</td>\n",
              "      <td>2023.0</td>\n",
              "      <td>JANUARY</td>\n",
              "      <td>280110</td>\n",
              "      <td>BANGLADESH</td>\n",
              "      <td>Kg.</td>\n",
              "      <td>131600.0</td>\n",
              "      <td>13877114.0</td>\n",
              "      <td>Inorganic chemicals; Organic or inorganic comp...</td>\n",
              "      <td>Fluorine, chlorine, bromine and iodine        ...</td>\n",
              "      <td>Chlorine</td>\n",
              "    </tr>\n",
              "    <tr>\n",
              "      <th>1</th>\n",
              "      <td>Unknown</td>\n",
              "      <td>2023.0</td>\n",
              "      <td>JANUARY</td>\n",
              "      <td>280110</td>\n",
              "      <td>INDIA</td>\n",
              "      <td>Kg.</td>\n",
              "      <td>37800.0</td>\n",
              "      <td>3924989.0</td>\n",
              "      <td>Inorganic chemicals; Organic or inorganic comp...</td>\n",
              "      <td>Fluorine, chlorine, bromine and iodine        ...</td>\n",
              "      <td>Chlorine</td>\n",
              "    </tr>\n",
              "    <tr>\n",
              "      <th>2</th>\n",
              "      <td>Unknown</td>\n",
              "      <td>2023.0</td>\n",
              "      <td>JANUARY</td>\n",
              "      <td>280110</td>\n",
              "      <td>MALAYSIA</td>\n",
              "      <td>Kg.</td>\n",
              "      <td>12090.0</td>\n",
              "      <td>5390772.0</td>\n",
              "      <td>Inorganic chemicals; Organic or inorganic comp...</td>\n",
              "      <td>Fluorine, chlorine, bromine and iodine        ...</td>\n",
              "      <td>Chlorine</td>\n",
              "    </tr>\n",
              "    <tr>\n",
              "      <th>3</th>\n",
              "      <td>Unknown</td>\n",
              "      <td>2023.0</td>\n",
              "      <td>FEBRUARY</td>\n",
              "      <td>280110</td>\n",
              "      <td>BANGLADESH</td>\n",
              "      <td>Kg.</td>\n",
              "      <td>25200.0</td>\n",
              "      <td>3089445.0</td>\n",
              "      <td>Inorganic chemicals; Organic or inorganic comp...</td>\n",
              "      <td>Fluorine, chlorine, bromine and iodine        ...</td>\n",
              "      <td>Chlorine</td>\n",
              "    </tr>\n",
              "    <tr>\n",
              "      <th>4</th>\n",
              "      <td>Unknown</td>\n",
              "      <td>2023.0</td>\n",
              "      <td>FEBRUARY</td>\n",
              "      <td>280110</td>\n",
              "      <td>INDIA</td>\n",
              "      <td>Kg.</td>\n",
              "      <td>75599.0</td>\n",
              "      <td>6939860.0</td>\n",
              "      <td>Inorganic chemicals; Organic or inorganic comp...</td>\n",
              "      <td>Fluorine, chlorine, bromine and iodine        ...</td>\n",
              "      <td>Chlorine</td>\n",
              "    </tr>\n",
              "  </tbody>\n",
              "</table>\n",
              "</div>\n",
              "    <div class=\"colab-df-buttons\">\n",
              "\n",
              "  <div class=\"colab-df-container\">\n",
              "    <button class=\"colab-df-convert\" onclick=\"convertToInteractive('df-cd415720-c28c-4f4b-9514-20351e715163')\"\n",
              "            title=\"Convert this dataframe to an interactive table.\"\n",
              "            style=\"display:none;\">\n",
              "\n",
              "  <svg xmlns=\"http://www.w3.org/2000/svg\" height=\"24px\" viewBox=\"0 -960 960 960\">\n",
              "    <path d=\"M120-120v-720h720v720H120Zm60-500h600v-160H180v160Zm220 220h160v-160H400v160Zm0 220h160v-160H400v160ZM180-400h160v-160H180v160Zm440 0h160v-160H620v160ZM180-180h160v-160H180v160Zm440 0h160v-160H620v160Z\"/>\n",
              "  </svg>\n",
              "    </button>\n",
              "\n",
              "  <style>\n",
              "    .colab-df-container {\n",
              "      display:flex;\n",
              "      gap: 12px;\n",
              "    }\n",
              "\n",
              "    .colab-df-convert {\n",
              "      background-color: #E8F0FE;\n",
              "      border: none;\n",
              "      border-radius: 50%;\n",
              "      cursor: pointer;\n",
              "      display: none;\n",
              "      fill: #1967D2;\n",
              "      height: 32px;\n",
              "      padding: 0 0 0 0;\n",
              "      width: 32px;\n",
              "    }\n",
              "\n",
              "    .colab-df-convert:hover {\n",
              "      background-color: #E2EBFA;\n",
              "      box-shadow: 0px 1px 2px rgba(60, 64, 67, 0.3), 0px 1px 3px 1px rgba(60, 64, 67, 0.15);\n",
              "      fill: #174EA6;\n",
              "    }\n",
              "\n",
              "    .colab-df-buttons div {\n",
              "      margin-bottom: 4px;\n",
              "    }\n",
              "\n",
              "    [theme=dark] .colab-df-convert {\n",
              "      background-color: #3B4455;\n",
              "      fill: #D2E3FC;\n",
              "    }\n",
              "\n",
              "    [theme=dark] .colab-df-convert:hover {\n",
              "      background-color: #434B5C;\n",
              "      box-shadow: 0px 1px 3px 1px rgba(0, 0, 0, 0.15);\n",
              "      filter: drop-shadow(0px 1px 2px rgba(0, 0, 0, 0.3));\n",
              "      fill: #FFFFFF;\n",
              "    }\n",
              "  </style>\n",
              "\n",
              "    <script>\n",
              "      const buttonEl =\n",
              "        document.querySelector('#df-cd415720-c28c-4f4b-9514-20351e715163 button.colab-df-convert');\n",
              "      buttonEl.style.display =\n",
              "        google.colab.kernel.accessAllowed ? 'block' : 'none';\n",
              "\n",
              "      async function convertToInteractive(key) {\n",
              "        const element = document.querySelector('#df-cd415720-c28c-4f4b-9514-20351e715163');\n",
              "        const dataTable =\n",
              "          await google.colab.kernel.invokeFunction('convertToInteractive',\n",
              "                                                    [key], {});\n",
              "        if (!dataTable) return;\n",
              "\n",
              "        const docLinkHtml = 'Like what you see? Visit the ' +\n",
              "          '<a target=\"_blank\" href=https://colab.research.google.com/notebooks/data_table.ipynb>data table notebook</a>'\n",
              "          + ' to learn more about interactive tables.';\n",
              "        element.innerHTML = '';\n",
              "        dataTable['output_type'] = 'display_data';\n",
              "        await google.colab.output.renderOutput(dataTable, element);\n",
              "        const docLink = document.createElement('div');\n",
              "        docLink.innerHTML = docLinkHtml;\n",
              "        element.appendChild(docLink);\n",
              "      }\n",
              "    </script>\n",
              "  </div>\n",
              "\n",
              "\n",
              "<div id=\"df-8760a924-8947-435d-8a5f-c52bbdb20198\">\n",
              "  <button class=\"colab-df-quickchart\" onclick=\"quickchart('df-8760a924-8947-435d-8a5f-c52bbdb20198')\"\n",
              "            title=\"Suggest charts\"\n",
              "            style=\"display:none;\">\n",
              "\n",
              "<svg xmlns=\"http://www.w3.org/2000/svg\" height=\"24px\"viewBox=\"0 0 24 24\"\n",
              "     width=\"24px\">\n",
              "    <g>\n",
              "        <path d=\"M19 3H5c-1.1 0-2 .9-2 2v14c0 1.1.9 2 2 2h14c1.1 0 2-.9 2-2V5c0-1.1-.9-2-2-2zM9 17H7v-7h2v7zm4 0h-2V7h2v10zm4 0h-2v-4h2v4z\"/>\n",
              "    </g>\n",
              "</svg>\n",
              "  </button>\n",
              "\n",
              "<style>\n",
              "  .colab-df-quickchart {\n",
              "      --bg-color: #E8F0FE;\n",
              "      --fill-color: #1967D2;\n",
              "      --hover-bg-color: #E2EBFA;\n",
              "      --hover-fill-color: #174EA6;\n",
              "      --disabled-fill-color: #AAA;\n",
              "      --disabled-bg-color: #DDD;\n",
              "  }\n",
              "\n",
              "  [theme=dark] .colab-df-quickchart {\n",
              "      --bg-color: #3B4455;\n",
              "      --fill-color: #D2E3FC;\n",
              "      --hover-bg-color: #434B5C;\n",
              "      --hover-fill-color: #FFFFFF;\n",
              "      --disabled-bg-color: #3B4455;\n",
              "      --disabled-fill-color: #666;\n",
              "  }\n",
              "\n",
              "  .colab-df-quickchart {\n",
              "    background-color: var(--bg-color);\n",
              "    border: none;\n",
              "    border-radius: 50%;\n",
              "    cursor: pointer;\n",
              "    display: none;\n",
              "    fill: var(--fill-color);\n",
              "    height: 32px;\n",
              "    padding: 0;\n",
              "    width: 32px;\n",
              "  }\n",
              "\n",
              "  .colab-df-quickchart:hover {\n",
              "    background-color: var(--hover-bg-color);\n",
              "    box-shadow: 0 1px 2px rgba(60, 64, 67, 0.3), 0 1px 3px 1px rgba(60, 64, 67, 0.15);\n",
              "    fill: var(--button-hover-fill-color);\n",
              "  }\n",
              "\n",
              "  .colab-df-quickchart-complete:disabled,\n",
              "  .colab-df-quickchart-complete:disabled:hover {\n",
              "    background-color: var(--disabled-bg-color);\n",
              "    fill: var(--disabled-fill-color);\n",
              "    box-shadow: none;\n",
              "  }\n",
              "\n",
              "  .colab-df-spinner {\n",
              "    border: 2px solid var(--fill-color);\n",
              "    border-color: transparent;\n",
              "    border-bottom-color: var(--fill-color);\n",
              "    animation:\n",
              "      spin 1s steps(1) infinite;\n",
              "  }\n",
              "\n",
              "  @keyframes spin {\n",
              "    0% {\n",
              "      border-color: transparent;\n",
              "      border-bottom-color: var(--fill-color);\n",
              "      border-left-color: var(--fill-color);\n",
              "    }\n",
              "    20% {\n",
              "      border-color: transparent;\n",
              "      border-left-color: var(--fill-color);\n",
              "      border-top-color: var(--fill-color);\n",
              "    }\n",
              "    30% {\n",
              "      border-color: transparent;\n",
              "      border-left-color: var(--fill-color);\n",
              "      border-top-color: var(--fill-color);\n",
              "      border-right-color: var(--fill-color);\n",
              "    }\n",
              "    40% {\n",
              "      border-color: transparent;\n",
              "      border-right-color: var(--fill-color);\n",
              "      border-top-color: var(--fill-color);\n",
              "    }\n",
              "    60% {\n",
              "      border-color: transparent;\n",
              "      border-right-color: var(--fill-color);\n",
              "    }\n",
              "    80% {\n",
              "      border-color: transparent;\n",
              "      border-right-color: var(--fill-color);\n",
              "      border-bottom-color: var(--fill-color);\n",
              "    }\n",
              "    90% {\n",
              "      border-color: transparent;\n",
              "      border-bottom-color: var(--fill-color);\n",
              "    }\n",
              "  }\n",
              "</style>\n",
              "\n",
              "  <script>\n",
              "    async function quickchart(key) {\n",
              "      const quickchartButtonEl =\n",
              "        document.querySelector('#' + key + ' button');\n",
              "      quickchartButtonEl.disabled = true;  // To prevent multiple clicks.\n",
              "      quickchartButtonEl.classList.add('colab-df-spinner');\n",
              "      try {\n",
              "        const charts = await google.colab.kernel.invokeFunction(\n",
              "            'suggestCharts', [key], {});\n",
              "      } catch (error) {\n",
              "        console.error('Error during call to suggestCharts:', error);\n",
              "      }\n",
              "      quickchartButtonEl.classList.remove('colab-df-spinner');\n",
              "      quickchartButtonEl.classList.add('colab-df-quickchart-complete');\n",
              "    }\n",
              "    (() => {\n",
              "      let quickchartButtonEl =\n",
              "        document.querySelector('#df-8760a924-8947-435d-8a5f-c52bbdb20198 button');\n",
              "      quickchartButtonEl.style.display =\n",
              "        google.colab.kernel.accessAllowed ? 'block' : 'none';\n",
              "    })();\n",
              "  </script>\n",
              "</div>\n",
              "\n",
              "    </div>\n",
              "  </div>\n"
            ],
            "application/vnd.google.colaboratory.intrinsic+json": {
              "type": "dataframe",
              "variable_name": "data",
              "summary": "{\n  \"name\": \"data\",\n  \"rows\": 1042,\n  \"fields\": [\n    {\n      \"column\": \"IMPORTER\",\n      \"properties\": {\n        \"dtype\": \"category\",\n        \"num_unique_values\": 1,\n        \"samples\": [\n          \"Unknown\"\n        ],\n        \"semantic_type\": \"\",\n        \"description\": \"\"\n      }\n    },\n    {\n      \"column\": \"YEAR\",\n      \"properties\": {\n        \"dtype\": \"number\",\n        \"std\": 3.409615319591779,\n        \"min\": 2016.0,\n        \"max\": 2023.0,\n        \"num_unique_values\": 2,\n        \"samples\": [\n          2016.0\n        ],\n        \"semantic_type\": \"\",\n        \"description\": \"\"\n      }\n    },\n    {\n      \"column\": \"MONTH\",\n      \"properties\": {\n        \"dtype\": \"category\",\n        \"num_unique_values\": 12,\n        \"samples\": [\n          \"NOVEMBER\"\n        ],\n        \"semantic_type\": \"\",\n        \"description\": \"\"\n      }\n    },\n    {\n      \"column\": \"HSCODE\",\n      \"properties\": {\n        \"dtype\": \"number\",\n        \"std\": 1326226917,\n        \"min\": 280110,\n        \"max\": 3102909000,\n        \"num_unique_values\": 131,\n        \"samples\": [\n          2801200042\n        ],\n        \"semantic_type\": \"\",\n        \"description\": \"\"\n      }\n    },\n    {\n      \"column\": \"COUNTRY\",\n      \"properties\": {\n        \"dtype\": \"category\",\n        \"num_unique_values\": 66,\n        \"samples\": [\n          \"italy\"\n        ],\n        \"semantic_type\": \"\",\n        \"description\": \"\"\n      }\n    },\n    {\n      \"column\": \"UNIT\",\n      \"properties\": {\n        \"dtype\": \"category\",\n        \"num_unique_values\": 9,\n        \"samples\": [\n          \"Kg\"\n        ],\n        \"semantic_type\": \"\",\n        \"description\": \"\"\n      }\n    },\n    {\n      \"column\": \"QUANTITY\",\n      \"properties\": {\n        \"dtype\": \"number\",\n        \"std\": 235249.2208540277,\n        \"min\": 0.0,\n        \"max\": 4000000.0,\n        \"num_unique_values\": 359,\n        \"samples\": [\n          12282.0\n        ],\n        \"semantic_type\": \"\",\n        \"description\": \"\"\n      }\n    },\n    {\n      \"column\": \"VALUE_RS\",\n      \"properties\": {\n        \"dtype\": \"number\",\n        \"std\": 7946637.087226704,\n        \"min\": 0.0,\n        \"max\": 47271723.0,\n        \"num_unique_values\": 263,\n        \"samples\": [\n          37.58\n        ],\n        \"semantic_type\": \"\",\n        \"description\": \"\"\n      }\n    },\n    {\n      \"column\": \"DESCRIPTION_01\",\n      \"properties\": {\n        \"dtype\": \"category\",\n        \"num_unique_values\": 2,\n        \"samples\": [\n          \"Fertilizers\"\n        ],\n        \"semantic_type\": \"\",\n        \"description\": \"\"\n      }\n    },\n    {\n      \"column\": \"DESCRIPTION_02\",\n      \"properties\": {\n        \"dtype\": \"category\",\n        \"num_unique_values\": 15,\n        \"samples\": [\n          \"Hydrogen peroxide, whether or not solidified with urea.  \"\n        ],\n        \"semantic_type\": \"\",\n        \"description\": \"\"\n      }\n    },\n    {\n      \"column\": \"DESCRIPTION_03\",\n      \"properties\": {\n        \"dtype\": \"category\",\n        \"num_unique_values\": 17,\n        \"samples\": [\n          \"Chlorine\"\n        ],\n        \"semantic_type\": \"\",\n        \"description\": \"\"\n      }\n    }\n  ]\n}"
            }
          },
          "metadata": {},
          "execution_count": 483
        }
      ]
    },
    {
      "cell_type": "markdown",
      "source": [
        "# **Exploratary Data Analysis**"
      ],
      "metadata": {
        "id": "tcIHbB3h1tI3"
      }
    },
    {
      "cell_type": "code",
      "source": [
        "# Displaying information\n",
        "print(\"Displaying data information\")\n",
        "data.info()"
      ],
      "metadata": {
        "colab": {
          "base_uri": "https://localhost:8080/"
        },
        "id": "4_7K7itu2Cd5",
        "outputId": "65d6798c-8aec-4744-b5f7-d187508bae54"
      },
      "execution_count": 484,
      "outputs": [
        {
          "output_type": "stream",
          "name": "stdout",
          "text": [
            "Displaying data information\n",
            "<class 'pandas.core.frame.DataFrame'>\n",
            "RangeIndex: 1042 entries, 0 to 1041\n",
            "Data columns (total 11 columns):\n",
            " #   Column          Non-Null Count  Dtype  \n",
            "---  ------          --------------  -----  \n",
            " 0   IMPORTER        1042 non-null   object \n",
            " 1   YEAR            292 non-null    float64\n",
            " 2   MONTH           292 non-null    object \n",
            " 3   HSCODE          1042 non-null   int64  \n",
            " 4   COUNTRY         1038 non-null   object \n",
            " 5   UNIT            1042 non-null   object \n",
            " 6   QUANTITY        1039 non-null   float64\n",
            " 7   VALUE_RS        292 non-null    float64\n",
            " 8   DESCRIPTION_01  1042 non-null   object \n",
            " 9   DESCRIPTION_02  1042 non-null   object \n",
            " 10  DESCRIPTION_03  1042 non-null   object \n",
            "dtypes: float64(3), int64(1), object(7)\n",
            "memory usage: 89.7+ KB\n"
          ]
        }
      ]
    },
    {
      "cell_type": "markdown",
      "source": [
        "## **Identifying Categorical and Numerical Features**"
      ],
      "metadata": {
        "id": "eVfcq1o42HQB"
      }
    },
    {
      "cell_type": "code",
      "source": [
        "# Identifying categorical and numerical columns\n",
        "categorical_cols = data.select_dtypes(include=['object']).columns\n",
        "numerical_cols = data.select_dtypes(include=['int64', 'float64']).columns"
      ],
      "metadata": {
        "id": "WM1YdFYV2LCM"
      },
      "execution_count": 485,
      "outputs": []
    },
    {
      "cell_type": "code",
      "source": [
        "# Displaying the Categorical and the Numerical columns'\n",
        "print(\"Categorical Columns:\")\n",
        "print(categorical_cols)\n",
        "\n",
        "print(\"\\nNumerical Columns:\")\n",
        "print(numerical_cols)"
      ],
      "metadata": {
        "colab": {
          "base_uri": "https://localhost:8080/"
        },
        "id": "Zj7uZznj2Ma7",
        "outputId": "11fe1c18-0483-464f-bf70-d2814078af61"
      },
      "execution_count": 486,
      "outputs": [
        {
          "output_type": "stream",
          "name": "stdout",
          "text": [
            "Categorical Columns:\n",
            "Index(['IMPORTER', 'MONTH', 'COUNTRY', 'UNIT', 'DESCRIPTION_01',\n",
            "       'DESCRIPTION_02', 'DESCRIPTION_03'],\n",
            "      dtype='object')\n",
            "\n",
            "Numerical Columns:\n",
            "Index(['YEAR', 'HSCODE', 'QUANTITY', 'VALUE_RS'], dtype='object')\n"
          ]
        }
      ]
    },
    {
      "cell_type": "markdown",
      "source": [
        "**Since 'HSCODE' column has been misintepreted as an int64 data type column due to the unavailability of data, reassigning it has an object type column.**"
      ],
      "metadata": {
        "id": "QDLBW9462SZo"
      }
    },
    {
      "cell_type": "code",
      "source": [
        "# Converting 'IMPORTER' and 'HSCODE' columns to string type\n",
        "data['HSCODE'] = data['HSCODE'].astype(str)\n",
        "\n",
        "# Displaying the HSCODE column data type\n",
        "print(\"Data Type of HSCODE Columns:\")\n",
        "print(data[['HSCODE']].dtypes)"
      ],
      "metadata": {
        "colab": {
          "base_uri": "https://localhost:8080/"
        },
        "id": "DB20RBN22Rxs",
        "outputId": "67963784-4211-4982-96df-acb99ba6e02f"
      },
      "execution_count": 487,
      "outputs": [
        {
          "output_type": "stream",
          "name": "stdout",
          "text": [
            "Data Type of HSCODE Columns:\n",
            "HSCODE    object\n",
            "dtype: object\n"
          ]
        }
      ]
    },
    {
      "cell_type": "markdown",
      "source": [
        "### **Categorical Features**"
      ],
      "metadata": {
        "id": "c8oBuNpi2Wrf"
      }
    },
    {
      "cell_type": "code",
      "source": [
        "# List of categorical features\n",
        "categorical_features = ['IMPORTER', 'MONTH', 'COUNTRY', 'HSCODE', 'UNIT', 'DESCRIPTION_01', 'DESCRIPTION_02', 'DESCRIPTION_03']\n",
        "\n",
        "# Displaying the categorical features\n",
        "print(\"Categorical Features:\")\n",
        "for feature in categorical_features:\n",
        "    print(f\"- {feature}\")\n",
        "\n",
        "# Display data type of the columns\n",
        "print(\"\\nData Type of Categorical Features:\")\n",
        "print(data[categorical_features].dtypes)"
      ],
      "metadata": {
        "colab": {
          "base_uri": "https://localhost:8080/"
        },
        "id": "0cwI24gK2Z-J",
        "outputId": "95201e32-420c-4d01-dfd1-af1e72b83272"
      },
      "execution_count": 488,
      "outputs": [
        {
          "output_type": "stream",
          "name": "stdout",
          "text": [
            "Categorical Features:\n",
            "- IMPORTER\n",
            "- MONTH\n",
            "- COUNTRY\n",
            "- HSCODE\n",
            "- UNIT\n",
            "- DESCRIPTION_01\n",
            "- DESCRIPTION_02\n",
            "- DESCRIPTION_03\n",
            "\n",
            "Data Type of Categorical Features:\n",
            "IMPORTER          object\n",
            "MONTH             object\n",
            "COUNTRY           object\n",
            "HSCODE            object\n",
            "UNIT              object\n",
            "DESCRIPTION_01    object\n",
            "DESCRIPTION_02    object\n",
            "DESCRIPTION_03    object\n",
            "dtype: object\n"
          ]
        }
      ]
    },
    {
      "cell_type": "markdown",
      "source": [
        "**Unique values and their counts relevant to each categorical column**"
      ],
      "metadata": {
        "id": "l8ZNdIgW2dfh"
      }
    },
    {
      "cell_type": "code",
      "source": [
        "# Displaying the unique values and their counts relevant to each categorical column\n",
        "print(\"Unique values and their count relevant to each categorical column:\\n\")\n",
        "for col in categorical_features:\n",
        "    unique_values = data[col].unique()\n",
        "    value_counts = data[col].value_counts()\n",
        "    print(value_counts)\n",
        "    print(\" \")"
      ],
      "metadata": {
        "colab": {
          "base_uri": "https://localhost:8080/"
        },
        "id": "3AP2RGc62gnp",
        "outputId": "68898e57-4b5b-4a04-ffd5-7994dbaf9091"
      },
      "execution_count": 489,
      "outputs": [
        {
          "output_type": "stream",
          "name": "stdout",
          "text": [
            "Unique values and their count relevant to each categorical column:\n",
            "\n",
            "IMPORTER\n",
            "Unknown    1042\n",
            "Name: count, dtype: int64\n",
            " \n",
            "MONTH\n",
            "NOVEMBER     191\n",
            "FEBRUARY      13\n",
            "JULY          13\n",
            "MAY           11\n",
            "SEPTEMBER     11\n",
            "JANUARY       10\n",
            "JUNE           9\n",
            "AUGUST         8\n",
            "OCTOBER        8\n",
            "MARCH          6\n",
            "APRIL          6\n",
            "DECEMBER       6\n",
            "Name: count, dtype: int64\n",
            " \n",
            "COUNTRY\n",
            "Vietnam    299\n",
            "Russia     109\n",
            "Kenya       71\n",
            "Ukraine     58\n",
            "germany     51\n",
            "          ... \n",
            "U.S.A.       1\n",
            "Mexico       1\n",
            "CANADA       1\n",
            "India        1\n",
            "Romania      1\n",
            "Name: count, Length: 66, dtype: int64\n",
            " \n",
            "HSCODE\n",
            "28070010      85\n",
            "2847000000    84\n",
            "28080000      67\n",
            "3102401000    58\n",
            "28291100      54\n",
            "              ..\n",
            "2801200032     1\n",
            "2801200031     1\n",
            "2801200030     1\n",
            "2801200029     1\n",
            "2812101100     1\n",
            "Name: count, Length: 131, dtype: int64\n",
            " \n",
            "UNIT\n",
            "Kg     750\n",
            "Kg.    112\n",
            "KGS     47\n",
            "PCS     39\n",
            "NOS     33\n",
            "GMS     23\n",
            "MTS     19\n",
            "LTR     18\n",
            "DRM      1\n",
            "Name: count, dtype: int64\n",
            " \n",
            "DESCRIPTION_01\n",
            "Inorganic chemicals; Organic or inorganic compounds of precious metals, of rare earth metals, of radioactive elements or of isotopes    922\n",
            "Fertilizers                                                                                                                             120\n",
            "Name: count, dtype: int64\n",
            " \n",
            "DESCRIPTION_02\n",
            "Chlorates and perchlorates; bromates and perbromates; iodates and periodates                            120\n",
            "Mineral or chemical fertilizers, nitrogenous                                                            120\n",
            "Sulphuric acid; oleum                                                                                   120\n",
            "Halides and halide oxides of non metals                                                                 120\n",
            "Fluorides; fluorosilicates, fluoroaluminates, and other complex fluorine salts                          116\n",
            "Hydrogen peroxide, whether or not solidified with urea.                                                 110\n",
            "Nitric acid; sulphonitric acids.                                                                        100\n",
            "Fluorine, chlorine, bromine and iodine                                                                   64\n",
            "Nitric acid; sulphonitric acids.                                                                  ..     36\n",
            "Hydrogen peroxide, whether or not solidified with urea.                                           ..     35\n",
            "Fluorine, chlorine, bromine and iodine                                                            ..     34\n",
            "Nitric acid; sulphonitric acids.                                                                         20\n",
            "Fluorine, chlorine, bromine and iodine                                                                   20\n",
            "Cyanides, cyanide oxides and complex cyanides.                                                           20\n",
            "Cyanides, cyanide oxides and complex cyanides.                                                    ..      7\n",
            "Name: count, dtype: int64\n",
            " \n",
            "DESCRIPTION_03\n",
            "Halides and halide oxides of non metals                                           120\n",
            "Sulphuric acid; oleum                                                             120\n",
            "Mineral or chemical fertilizers, nitrogenous                                      120\n",
            "Chlorates and perchlorates; bromates and perbromates; iodates and periodates      120\n",
            "Fluorides; fluorosilicates, fluoroaluminates, and other complex fluorine salts    116\n",
            "Hydrogen peroxide, whether or not solidified with urea.                           110\n",
            "Nitric acid; sulphonitric acids.                                                  100\n",
            "Iodine                                                                             80\n",
            "Nitric acid; sulphonitric acids                                                    36\n",
            "Hydrogen peroxide, whether or not solidified with urea.                            35\n",
            "Chlorine                                                                           34\n",
            "Nitric acid; sulphonitric acids.                                                   20\n",
            "Cyanides and cyanide oxides : Of sodium                                            11\n",
            "Cyanides and cyanide oxides : Other                                                10\n",
            "- Cyanides and cyanide oxides : Other                                               4\n",
            "Bromine                                                                             4\n",
            "- Cyanides and cyanide oxides : Of sodium                                           2\n",
            "Name: count, dtype: int64\n",
            " \n"
          ]
        }
      ]
    },
    {
      "cell_type": "markdown",
      "source": [
        "**Categorical columns with null values and their relevant counts**"
      ],
      "metadata": {
        "id": "ZFaLLEym2j0h"
      }
    },
    {
      "cell_type": "code",
      "source": [
        "# Displaying the categorical columns which contains null values and their counts\n",
        "print(\"Categorical columns with null values and their counts:\")\n",
        "for col in categorical_features:\n",
        "    null_count = data[col].isnull().sum()\n",
        "    if null_count > 0:\n",
        "        print(f\"{col}: {null_count}\")"
      ],
      "metadata": {
        "colab": {
          "base_uri": "https://localhost:8080/"
        },
        "id": "V9rlWcLz2mjV",
        "outputId": "dd3ae8ca-9e43-446d-e452-beb85949d901"
      },
      "execution_count": 490,
      "outputs": [
        {
          "output_type": "stream",
          "name": "stdout",
          "text": [
            "Categorical columns with null values and their counts:\n",
            "MONTH: 750\n",
            "COUNTRY: 4\n"
          ]
        }
      ]
    },
    {
      "cell_type": "markdown",
      "source": [
        "**Categorical columns with 'Unknown' values and their relevant counts**"
      ],
      "metadata": {
        "id": "gf4kKCSC2pfP"
      }
    },
    {
      "cell_type": "code",
      "source": [
        "# Displaying the categorical columns which contain 'Unknown' values and their relevant counts\n",
        "print(\"Categorical columns with 'Unknown' values and their counts:\")\n",
        "for col in categorical_features:\n",
        "    unknown_count = (data[col] == 'Unknown').sum()\n",
        "    if unknown_count > 0:\n",
        "        print(f\"{col}: {unknown_count}\")"
      ],
      "metadata": {
        "colab": {
          "base_uri": "https://localhost:8080/"
        },
        "id": "DNVDhyHq2rrl",
        "outputId": "e4bd90d2-08fa-402a-c4ff-2e3a9a28a9bf"
      },
      "execution_count": 491,
      "outputs": [
        {
          "output_type": "stream",
          "name": "stdout",
          "text": [
            "Categorical columns with 'Unknown' values and their counts:\n",
            "IMPORTER: 1042\n"
          ]
        }
      ]
    },
    {
      "cell_type": "markdown",
      "source": [
        "## **Numerical Features**"
      ],
      "metadata": {
        "id": "vhuPp2QG2vQ6"
      }
    },
    {
      "cell_type": "markdown",
      "source": [
        "**Since 'Year' column has been misintepreted as a float64 data type column reassigning it as a int64 type column**"
      ],
      "metadata": {
        "id": "KU5PHcRJ2xcw"
      }
    },
    {
      "cell_type": "code",
      "source": [
        "# Converting the 'Year' column to int64 data type\n",
        "# data['YEAR'] = data['YEAR'].astype(int)\n",
        "\n",
        "# Displaying the data type of the 'Year' column\n",
        "# print(\"Data Type of 'Year' Column:\")\n",
        "# print(data['YEAR'].dtype)"
      ],
      "metadata": {
        "id": "opHH1vRe2zGu"
      },
      "execution_count": 492,
      "outputs": []
    },
    {
      "cell_type": "markdown",
      "source": [
        "**The conversion cannot be done since the column contains missing values (both N/A and null values)**"
      ],
      "metadata": {
        "id": "pWCjBjb921uX"
      }
    },
    {
      "cell_type": "code",
      "source": [
        "# List of numerical features\n",
        "numerical_features = ['YEAR', 'QUANTITY', 'VALUE_RS']\n",
        "\n",
        "# Displaying the numerical features\n",
        "print(\"Numerical Features:\")\n",
        "for feature in numerical_features:\n",
        "    print(f\"- {feature}\")\n",
        "\n",
        "# Display the data type of the numerical features\n",
        "print(\"\\nData Type of Numerical Features:\")\n",
        "print(data[numerical_features].dtypes)"
      ],
      "metadata": {
        "colab": {
          "base_uri": "https://localhost:8080/"
        },
        "id": "YLQDuVyw25EV",
        "outputId": "c2803d65-8acc-40a3-fb62-51f8d0286abb"
      },
      "execution_count": 493,
      "outputs": [
        {
          "output_type": "stream",
          "name": "stdout",
          "text": [
            "Numerical Features:\n",
            "- YEAR\n",
            "- QUANTITY\n",
            "- VALUE_RS\n",
            "\n",
            "Data Type of Numerical Features:\n",
            "YEAR        float64\n",
            "QUANTITY    float64\n",
            "VALUE_RS    float64\n",
            "dtype: object\n"
          ]
        }
      ]
    },
    {
      "cell_type": "markdown",
      "source": [
        "**Unique values and their counts in the numerical columns**"
      ],
      "metadata": {
        "id": "ekTA-YX428ag"
      }
    },
    {
      "cell_type": "code",
      "source": [
        "# Displaying the unique values and their count in the numerical columns\n",
        "print(\"Unique values and their count in the numerical columns:\\n\")\n",
        "for col in numerical_features:\n",
        "    unique_values = data[col].unique()\n",
        "    value_counts = data[col].value_counts()\n",
        "    print(value_counts)\n",
        "    print(\" \")"
      ],
      "metadata": {
        "colab": {
          "base_uri": "https://localhost:8080/"
        },
        "id": "1v0brqYr29-M",
        "outputId": "fc136cde-f9a8-4772-a734-d86549626da5"
      },
      "execution_count": 494,
      "outputs": [
        {
          "output_type": "stream",
          "name": "stdout",
          "text": [
            "Unique values and their count in the numerical columns:\n",
            "\n",
            "YEAR\n",
            "2016.0    180\n",
            "2023.0    112\n",
            "Name: count, dtype: int64\n",
            " \n",
            "QUANTITY\n",
            "1000.0     55\n",
            "1.0        49\n",
            "16200.0    40\n",
            "5.0        31\n",
            "27.0       28\n",
            "           ..\n",
            "204.0       1\n",
            "23200.0     1\n",
            "22820.0     1\n",
            "22560.0     1\n",
            "19050.0     1\n",
            "Name: count, Length: 359, dtype: int64\n",
            " \n",
            "VALUE_RS\n",
            "0.40           4\n",
            "53.79          3\n",
            "188.55         3\n",
            "0.20           3\n",
            "21.15          2\n",
            "              ..\n",
            "350598.00      1\n",
            "2213950.00     1\n",
            "10318355.00    1\n",
            "24988179.00    1\n",
            "0.68           1\n",
            "Name: count, Length: 263, dtype: int64\n",
            " \n"
          ]
        }
      ]
    },
    {
      "cell_type": "markdown",
      "source": [
        "**Numerical columns with null values and their relevant counts**"
      ],
      "metadata": {
        "id": "2Tct5fvv3Br2"
      }
    },
    {
      "cell_type": "code",
      "source": [
        "# Displaying the numerical columns with null values and their relevant counts\n",
        "print(\"Numerical columns with null values and their relevant counts:\")\n",
        "for col in numerical_cols:\n",
        "    null_count = data[col].isnull().sum()\n",
        "    if null_count > 0:\n",
        "        print(f\"{col}: {null_count}\")"
      ],
      "metadata": {
        "colab": {
          "base_uri": "https://localhost:8080/"
        },
        "id": "1Y56aSnm3DqS",
        "outputId": "af6b5a8b-ba30-4f47-a7de-616b17936498"
      },
      "execution_count": 495,
      "outputs": [
        {
          "output_type": "stream",
          "name": "stdout",
          "text": [
            "Numerical columns with null values and their relevant counts:\n",
            "YEAR: 750\n",
            "QUANTITY: 3\n",
            "VALUE_RS: 750\n"
          ]
        }
      ]
    },
    {
      "cell_type": "markdown",
      "source": [
        "# **Data Preprocessing**"
      ],
      "metadata": {
        "id": "mBZCFFr431Ob"
      }
    },
    {
      "cell_type": "markdown",
      "source": [
        "## **Data Cleaning**"
      ],
      "metadata": {
        "id": "pinl6QxC33yC"
      }
    },
    {
      "cell_type": "code",
      "source": [
        "# Step 1: Removing whitespaces from the object type columns\n",
        "object_columns = data.select_dtypes(include=['object']).columns\n",
        "data[object_columns] = data[object_columns].apply(lambda x: x.str.strip())"
      ],
      "metadata": {
        "id": "T1az--yL356O"
      },
      "execution_count": 496,
      "outputs": []
    },
    {
      "cell_type": "code",
      "source": [
        "# Step 2: Removing unnecessary full stops(\".\") from the categorical columns\n",
        "data[categorical_cols] = data[categorical_cols].apply(lambda x: x.str.replace('.', ''))"
      ],
      "metadata": {
        "id": "Fv3dygeZ37eU"
      },
      "execution_count": 497,
      "outputs": []
    },
    {
      "cell_type": "code",
      "source": [
        "# Step 3: Removing unnecessary special characters and trailing spaces from the 'DESCRIPTION_03' column\n",
        "# Removing the leading hyphen\n",
        "data['DESCRIPTION_03'] = data['DESCRIPTION_03'].str.lstrip('-')\n",
        "\n",
        "# Removing trailing spaces\n",
        "data['DESCRIPTION_03'] = data['DESCRIPTION_03'].str.strip()"
      ],
      "metadata": {
        "id": "hiUkqCis3-9c"
      },
      "execution_count": 498,
      "outputs": []
    },
    {
      "cell_type": "code",
      "source": [
        "# Step 4: Removing trailing spaces for the entire 'DESCRIPTION_02' column\n",
        "data['DESCRIPTION_02'] = data['DESCRIPTION_02'].str.strip()"
      ],
      "metadata": {
        "id": "dION8YGa4ARf"
      },
      "execution_count": 499,
      "outputs": []
    },
    {
      "cell_type": "code",
      "source": [
        "# Displaying the unique values and their counts relevant to each categorical column\n",
        "print(\"Unique values and their count relevant to each categorical column:\\n\")\n",
        "for col in categorical_features:\n",
        "    unique_values = data[col].unique()\n",
        "    value_counts = data[col].value_counts()\n",
        "    print(value_counts)\n",
        "    print(\" \")"
      ],
      "metadata": {
        "colab": {
          "base_uri": "https://localhost:8080/"
        },
        "id": "tS7rIsmO4Bk7",
        "outputId": "c87cd807-382f-4d66-d316-5cf762fb376d"
      },
      "execution_count": 500,
      "outputs": [
        {
          "output_type": "stream",
          "name": "stdout",
          "text": [
            "Unique values and their count relevant to each categorical column:\n",
            "\n",
            "IMPORTER\n",
            "Unknown    1042\n",
            "Name: count, dtype: int64\n",
            " \n",
            "MONTH\n",
            "NOVEMBER     191\n",
            "FEBRUARY      13\n",
            "JULY          13\n",
            "MAY           11\n",
            "SEPTEMBER     11\n",
            "JANUARY       10\n",
            "JUNE           9\n",
            "AUGUST         8\n",
            "OCTOBER        8\n",
            "MARCH          6\n",
            "APRIL          6\n",
            "DECEMBER       6\n",
            "Name: count, dtype: int64\n",
            " \n",
            "COUNTRY\n",
            "Vietnam    299\n",
            "Russia     109\n",
            "Kenya       71\n",
            "Ukraine     58\n",
            "germany     51\n",
            "          ... \n",
            "USA          1\n",
            "Mexico       1\n",
            "CANADA       1\n",
            "India        1\n",
            "Romania      1\n",
            "Name: count, Length: 66, dtype: int64\n",
            " \n",
            "HSCODE\n",
            "28070010      85\n",
            "2847000000    84\n",
            "28080000      67\n",
            "3102401000    58\n",
            "28291100      54\n",
            "              ..\n",
            "2801200032     1\n",
            "2801200031     1\n",
            "2801200030     1\n",
            "2801200029     1\n",
            "2812101100     1\n",
            "Name: count, Length: 131, dtype: int64\n",
            " \n",
            "UNIT\n",
            "Kg     862\n",
            "KGS     47\n",
            "PCS     39\n",
            "NOS     33\n",
            "GMS     23\n",
            "MTS     19\n",
            "LTR     18\n",
            "DRM      1\n",
            "Name: count, dtype: int64\n",
            " \n",
            "DESCRIPTION_01\n",
            "Inorganic chemicals; Organic or inorganic compounds of precious metals, of rare earth metals, of radioactive elements or of isotopes    922\n",
            "Fertilizers                                                                                                                             120\n",
            "Name: count, dtype: int64\n",
            " \n",
            "DESCRIPTION_02\n",
            "Nitric acid; sulphonitric acids                                                   156\n",
            "Hydrogen peroxide, whether or not solidified with urea                            145\n",
            "Chlorates and perchlorates; bromates and perbromates; iodates and periodates      120\n",
            "Mineral or chemical fertilizers, nitrogenous                                      120\n",
            "Sulphuric acid; oleum                                                             120\n",
            "Halides and halide oxides of non metals                                           120\n",
            "Fluorine, chlorine, bromine and iodine                                            118\n",
            "Fluorides; fluorosilicates, fluoroaluminates, and other complex fluorine salts    116\n",
            "Cyanides, cyanide oxides and complex cyanides                                      27\n",
            "Name: count, dtype: int64\n",
            " \n",
            "DESCRIPTION_03\n",
            "Nitric acid; sulphonitric acids                                                   156\n",
            "Hydrogen peroxide, whether or not solidified with urea                            145\n",
            "Chlorates and perchlorates; bromates and perbromates; iodates and periodates      120\n",
            "Mineral or chemical fertilizers, nitrogenous                                      120\n",
            "Sulphuric acid; oleum                                                             120\n",
            "Halides and halide oxides of non metals                                           120\n",
            "Fluorides; fluorosilicates, fluoroaluminates, and other complex fluorine salts    116\n",
            "Iodine                                                                             80\n",
            "Chlorine                                                                           34\n",
            "Cyanides and cyanide oxides : Other                                                14\n",
            "Cyanides and cyanide oxides : Of sodium                                            13\n",
            "Bromine                                                                             4\n",
            "Name: count, dtype: int64\n",
            " \n"
          ]
        }
      ]
    },
    {
      "cell_type": "code",
      "source": [
        "# Step 5: Converting all the values in the 'COUNTRY' and the 'UNIT' columns to uppercase values\n",
        "data['COUNTRY'] = data['COUNTRY'].str.upper()\n",
        "data['UNIT'] = data['UNIT'].str.upper()\n",
        "\n",
        "# Displaying the modified dataset\n",
        "print(data)"
      ],
      "metadata": {
        "colab": {
          "base_uri": "https://localhost:8080/"
        },
        "id": "giGJi1S-4Ksr",
        "outputId": "9f0c16ae-958e-4bab-aaaf-f4b89c8ac754"
      },
      "execution_count": 501,
      "outputs": [
        {
          "output_type": "stream",
          "name": "stdout",
          "text": [
            "     IMPORTER    YEAR     MONTH      HSCODE      COUNTRY UNIT  QUANTITY  \\\n",
            "0     Unknown  2023.0   JANUARY      280110   BANGLADESH   KG  131600.0   \n",
            "1     Unknown  2023.0   JANUARY      280110        INDIA   KG   37800.0   \n",
            "2     Unknown  2023.0   JANUARY      280110     MALAYSIA   KG   12090.0   \n",
            "3     Unknown  2023.0  FEBRUARY      280110   BANGLADESH   KG   25200.0   \n",
            "4     Unknown  2023.0  FEBRUARY      280110        INDIA   KG   75599.0   \n",
            "...       ...     ...       ...         ...          ...  ...       ...   \n",
            "1037  Unknown     NaN       NaN    28121047  SOUTH KOREA   KG   16200.0   \n",
            "1038  Unknown     NaN       NaN    28121047  SOUTH KOREA   KG   16200.0   \n",
            "1039  Unknown     NaN       NaN  2812109900      UKRAINE   KG       NaN   \n",
            "1040  Unknown     NaN       NaN  2812109900      UKRAINE   KG       NaN   \n",
            "1041  Unknown     NaN       NaN    28121047  SOUTH KOREA   KG   16200.0   \n",
            "\n",
            "        VALUE_RS                                     DESCRIPTION_01  \\\n",
            "0     13877114.0  Inorganic chemicals; Organic or inorganic comp...   \n",
            "1      3924989.0  Inorganic chemicals; Organic or inorganic comp...   \n",
            "2      5390772.0  Inorganic chemicals; Organic or inorganic comp...   \n",
            "3      3089445.0  Inorganic chemicals; Organic or inorganic comp...   \n",
            "4      6939860.0  Inorganic chemicals; Organic or inorganic comp...   \n",
            "...          ...                                                ...   \n",
            "1037         NaN  Inorganic chemicals; Organic or inorganic comp...   \n",
            "1038         NaN  Inorganic chemicals; Organic or inorganic comp...   \n",
            "1039         NaN  Inorganic chemicals; Organic or inorganic comp...   \n",
            "1040         NaN  Inorganic chemicals; Organic or inorganic comp...   \n",
            "1041         NaN  Inorganic chemicals; Organic or inorganic comp...   \n",
            "\n",
            "                               DESCRIPTION_02  \\\n",
            "0      Fluorine, chlorine, bromine and iodine   \n",
            "1      Fluorine, chlorine, bromine and iodine   \n",
            "2      Fluorine, chlorine, bromine and iodine   \n",
            "3      Fluorine, chlorine, bromine and iodine   \n",
            "4      Fluorine, chlorine, bromine and iodine   \n",
            "...                                       ...   \n",
            "1037  Halides and halide oxides of non metals   \n",
            "1038  Halides and halide oxides of non metals   \n",
            "1039  Halides and halide oxides of non metals   \n",
            "1040  Halides and halide oxides of non metals   \n",
            "1041  Halides and halide oxides of non metals   \n",
            "\n",
            "                               DESCRIPTION_03  \n",
            "0                                    Chlorine  \n",
            "1                                    Chlorine  \n",
            "2                                    Chlorine  \n",
            "3                                    Chlorine  \n",
            "4                                    Chlorine  \n",
            "...                                       ...  \n",
            "1037  Halides and halide oxides of non metals  \n",
            "1038  Halides and halide oxides of non metals  \n",
            "1039  Halides and halide oxides of non metals  \n",
            "1040  Halides and halide oxides of non metals  \n",
            "1041  Halides and halide oxides of non metals  \n",
            "\n",
            "[1042 rows x 11 columns]\n"
          ]
        }
      ]
    },
    {
      "cell_type": "code",
      "source": [
        "# Step 6: Converting the 'KGS' values in the 'Unit' columns to 'KG'\n",
        "data['UNIT'] = data['UNIT'].replace(['KGS', 'kg', 'Kg', 'kgs', 'kG', 'kGs'], 'KG')\n",
        "\n",
        "# Displaying the modified dataset\n",
        "print(data)"
      ],
      "metadata": {
        "colab": {
          "base_uri": "https://localhost:8080/"
        },
        "id": "25YXfHM-4NMC",
        "outputId": "ff00453d-2ac7-4fba-91ec-447eb444f9ff"
      },
      "execution_count": 502,
      "outputs": [
        {
          "output_type": "stream",
          "name": "stdout",
          "text": [
            "     IMPORTER    YEAR     MONTH      HSCODE      COUNTRY UNIT  QUANTITY  \\\n",
            "0     Unknown  2023.0   JANUARY      280110   BANGLADESH   KG  131600.0   \n",
            "1     Unknown  2023.0   JANUARY      280110        INDIA   KG   37800.0   \n",
            "2     Unknown  2023.0   JANUARY      280110     MALAYSIA   KG   12090.0   \n",
            "3     Unknown  2023.0  FEBRUARY      280110   BANGLADESH   KG   25200.0   \n",
            "4     Unknown  2023.0  FEBRUARY      280110        INDIA   KG   75599.0   \n",
            "...       ...     ...       ...         ...          ...  ...       ...   \n",
            "1037  Unknown     NaN       NaN    28121047  SOUTH KOREA   KG   16200.0   \n",
            "1038  Unknown     NaN       NaN    28121047  SOUTH KOREA   KG   16200.0   \n",
            "1039  Unknown     NaN       NaN  2812109900      UKRAINE   KG       NaN   \n",
            "1040  Unknown     NaN       NaN  2812109900      UKRAINE   KG       NaN   \n",
            "1041  Unknown     NaN       NaN    28121047  SOUTH KOREA   KG   16200.0   \n",
            "\n",
            "        VALUE_RS                                     DESCRIPTION_01  \\\n",
            "0     13877114.0  Inorganic chemicals; Organic or inorganic comp...   \n",
            "1      3924989.0  Inorganic chemicals; Organic or inorganic comp...   \n",
            "2      5390772.0  Inorganic chemicals; Organic or inorganic comp...   \n",
            "3      3089445.0  Inorganic chemicals; Organic or inorganic comp...   \n",
            "4      6939860.0  Inorganic chemicals; Organic or inorganic comp...   \n",
            "...          ...                                                ...   \n",
            "1037         NaN  Inorganic chemicals; Organic or inorganic comp...   \n",
            "1038         NaN  Inorganic chemicals; Organic or inorganic comp...   \n",
            "1039         NaN  Inorganic chemicals; Organic or inorganic comp...   \n",
            "1040         NaN  Inorganic chemicals; Organic or inorganic comp...   \n",
            "1041         NaN  Inorganic chemicals; Organic or inorganic comp...   \n",
            "\n",
            "                               DESCRIPTION_02  \\\n",
            "0      Fluorine, chlorine, bromine and iodine   \n",
            "1      Fluorine, chlorine, bromine and iodine   \n",
            "2      Fluorine, chlorine, bromine and iodine   \n",
            "3      Fluorine, chlorine, bromine and iodine   \n",
            "4      Fluorine, chlorine, bromine and iodine   \n",
            "...                                       ...   \n",
            "1037  Halides and halide oxides of non metals   \n",
            "1038  Halides and halide oxides of non metals   \n",
            "1039  Halides and halide oxides of non metals   \n",
            "1040  Halides and halide oxides of non metals   \n",
            "1041  Halides and halide oxides of non metals   \n",
            "\n",
            "                               DESCRIPTION_03  \n",
            "0                                    Chlorine  \n",
            "1                                    Chlorine  \n",
            "2                                    Chlorine  \n",
            "3                                    Chlorine  \n",
            "4                                    Chlorine  \n",
            "...                                       ...  \n",
            "1037  Halides and halide oxides of non metals  \n",
            "1038  Halides and halide oxides of non metals  \n",
            "1039  Halides and halide oxides of non metals  \n",
            "1040  Halides and halide oxides of non metals  \n",
            "1041  Halides and halide oxides of non metals  \n",
            "\n",
            "[1042 rows x 11 columns]\n"
          ]
        }
      ]
    },
    {
      "cell_type": "code",
      "source": [
        "# Step 7: Handling the HSCODES\n",
        "\n",
        "# Checking the length of the HSCODES and determining the maximum length\n",
        "data['HSCODE_LENGTH'] = data['HSCODE'].apply(len)\n",
        "max_length = data['HSCODE_LENGTH'].max()\n",
        "\n",
        "# Padding HSCODE values with trailing zeros to match the maximum length\n",
        "data['HSCODE'] = data['HSCODE'].apply(lambda x: x.ljust(max_length, '0'))\n",
        "\n",
        "# Dropping the helper column 'HSCODE_LENGTH' as it's no longer needed\n",
        "data.drop(columns=['HSCODE_LENGTH'], inplace=True)\n",
        "\n",
        "# Displaying the modified dataset\n",
        "print(data)"
      ],
      "metadata": {
        "colab": {
          "base_uri": "https://localhost:8080/"
        },
        "id": "HtlydAPO4RFb",
        "outputId": "89bdb9f4-90e5-4560-b9d6-fc027739e197"
      },
      "execution_count": 503,
      "outputs": [
        {
          "output_type": "stream",
          "name": "stdout",
          "text": [
            "     IMPORTER    YEAR     MONTH      HSCODE      COUNTRY UNIT  QUANTITY  \\\n",
            "0     Unknown  2023.0   JANUARY  2801100000   BANGLADESH   KG  131600.0   \n",
            "1     Unknown  2023.0   JANUARY  2801100000        INDIA   KG   37800.0   \n",
            "2     Unknown  2023.0   JANUARY  2801100000     MALAYSIA   KG   12090.0   \n",
            "3     Unknown  2023.0  FEBRUARY  2801100000   BANGLADESH   KG   25200.0   \n",
            "4     Unknown  2023.0  FEBRUARY  2801100000        INDIA   KG   75599.0   \n",
            "...       ...     ...       ...         ...          ...  ...       ...   \n",
            "1037  Unknown     NaN       NaN  2812104700  SOUTH KOREA   KG   16200.0   \n",
            "1038  Unknown     NaN       NaN  2812104700  SOUTH KOREA   KG   16200.0   \n",
            "1039  Unknown     NaN       NaN  2812109900      UKRAINE   KG       NaN   \n",
            "1040  Unknown     NaN       NaN  2812109900      UKRAINE   KG       NaN   \n",
            "1041  Unknown     NaN       NaN  2812104700  SOUTH KOREA   KG   16200.0   \n",
            "\n",
            "        VALUE_RS                                     DESCRIPTION_01  \\\n",
            "0     13877114.0  Inorganic chemicals; Organic or inorganic comp...   \n",
            "1      3924989.0  Inorganic chemicals; Organic or inorganic comp...   \n",
            "2      5390772.0  Inorganic chemicals; Organic or inorganic comp...   \n",
            "3      3089445.0  Inorganic chemicals; Organic or inorganic comp...   \n",
            "4      6939860.0  Inorganic chemicals; Organic or inorganic comp...   \n",
            "...          ...                                                ...   \n",
            "1037         NaN  Inorganic chemicals; Organic or inorganic comp...   \n",
            "1038         NaN  Inorganic chemicals; Organic or inorganic comp...   \n",
            "1039         NaN  Inorganic chemicals; Organic or inorganic comp...   \n",
            "1040         NaN  Inorganic chemicals; Organic or inorganic comp...   \n",
            "1041         NaN  Inorganic chemicals; Organic or inorganic comp...   \n",
            "\n",
            "                               DESCRIPTION_02  \\\n",
            "0      Fluorine, chlorine, bromine and iodine   \n",
            "1      Fluorine, chlorine, bromine and iodine   \n",
            "2      Fluorine, chlorine, bromine and iodine   \n",
            "3      Fluorine, chlorine, bromine and iodine   \n",
            "4      Fluorine, chlorine, bromine and iodine   \n",
            "...                                       ...   \n",
            "1037  Halides and halide oxides of non metals   \n",
            "1038  Halides and halide oxides of non metals   \n",
            "1039  Halides and halide oxides of non metals   \n",
            "1040  Halides and halide oxides of non metals   \n",
            "1041  Halides and halide oxides of non metals   \n",
            "\n",
            "                               DESCRIPTION_03  \n",
            "0                                    Chlorine  \n",
            "1                                    Chlorine  \n",
            "2                                    Chlorine  \n",
            "3                                    Chlorine  \n",
            "4                                    Chlorine  \n",
            "...                                       ...  \n",
            "1037  Halides and halide oxides of non metals  \n",
            "1038  Halides and halide oxides of non metals  \n",
            "1039  Halides and halide oxides of non metals  \n",
            "1040  Halides and halide oxides of non metals  \n",
            "1041  Halides and halide oxides of non metals  \n",
            "\n",
            "[1042 rows x 11 columns]\n"
          ]
        }
      ]
    },
    {
      "cell_type": "code",
      "source": [
        "# Step 8: Handling the 'COUNTRY' Column\n",
        "\n",
        "# Replacing specific country names\n",
        "data['COUNTRY'] = data['COUNTRY'].replace({\n",
        "    'United States': 'USA',\n",
        "    'United States of America': 'USA',\n",
        "    'United Kingdom': 'UK',\n",
        "    'Korea, Republic of': 'South Korea'\n",
        "})\n",
        "\n",
        "print(data)"
      ],
      "metadata": {
        "colab": {
          "base_uri": "https://localhost:8080/"
        },
        "id": "2t0WldGj4Ugq",
        "outputId": "6cdb3f19-6e47-46a0-c36a-440e02591d78"
      },
      "execution_count": 504,
      "outputs": [
        {
          "output_type": "stream",
          "name": "stdout",
          "text": [
            "     IMPORTER    YEAR     MONTH      HSCODE      COUNTRY UNIT  QUANTITY  \\\n",
            "0     Unknown  2023.0   JANUARY  2801100000   BANGLADESH   KG  131600.0   \n",
            "1     Unknown  2023.0   JANUARY  2801100000        INDIA   KG   37800.0   \n",
            "2     Unknown  2023.0   JANUARY  2801100000     MALAYSIA   KG   12090.0   \n",
            "3     Unknown  2023.0  FEBRUARY  2801100000   BANGLADESH   KG   25200.0   \n",
            "4     Unknown  2023.0  FEBRUARY  2801100000        INDIA   KG   75599.0   \n",
            "...       ...     ...       ...         ...          ...  ...       ...   \n",
            "1037  Unknown     NaN       NaN  2812104700  SOUTH KOREA   KG   16200.0   \n",
            "1038  Unknown     NaN       NaN  2812104700  SOUTH KOREA   KG   16200.0   \n",
            "1039  Unknown     NaN       NaN  2812109900      UKRAINE   KG       NaN   \n",
            "1040  Unknown     NaN       NaN  2812109900      UKRAINE   KG       NaN   \n",
            "1041  Unknown     NaN       NaN  2812104700  SOUTH KOREA   KG   16200.0   \n",
            "\n",
            "        VALUE_RS                                     DESCRIPTION_01  \\\n",
            "0     13877114.0  Inorganic chemicals; Organic or inorganic comp...   \n",
            "1      3924989.0  Inorganic chemicals; Organic or inorganic comp...   \n",
            "2      5390772.0  Inorganic chemicals; Organic or inorganic comp...   \n",
            "3      3089445.0  Inorganic chemicals; Organic or inorganic comp...   \n",
            "4      6939860.0  Inorganic chemicals; Organic or inorganic comp...   \n",
            "...          ...                                                ...   \n",
            "1037         NaN  Inorganic chemicals; Organic or inorganic comp...   \n",
            "1038         NaN  Inorganic chemicals; Organic or inorganic comp...   \n",
            "1039         NaN  Inorganic chemicals; Organic or inorganic comp...   \n",
            "1040         NaN  Inorganic chemicals; Organic or inorganic comp...   \n",
            "1041         NaN  Inorganic chemicals; Organic or inorganic comp...   \n",
            "\n",
            "                               DESCRIPTION_02  \\\n",
            "0      Fluorine, chlorine, bromine and iodine   \n",
            "1      Fluorine, chlorine, bromine and iodine   \n",
            "2      Fluorine, chlorine, bromine and iodine   \n",
            "3      Fluorine, chlorine, bromine and iodine   \n",
            "4      Fluorine, chlorine, bromine and iodine   \n",
            "...                                       ...   \n",
            "1037  Halides and halide oxides of non metals   \n",
            "1038  Halides and halide oxides of non metals   \n",
            "1039  Halides and halide oxides of non metals   \n",
            "1040  Halides and halide oxides of non metals   \n",
            "1041  Halides and halide oxides of non metals   \n",
            "\n",
            "                               DESCRIPTION_03  \n",
            "0                                    Chlorine  \n",
            "1                                    Chlorine  \n",
            "2                                    Chlorine  \n",
            "3                                    Chlorine  \n",
            "4                                    Chlorine  \n",
            "...                                       ...  \n",
            "1037  Halides and halide oxides of non metals  \n",
            "1038  Halides and halide oxides of non metals  \n",
            "1039  Halides and halide oxides of non metals  \n",
            "1040  Halides and halide oxides of non metals  \n",
            "1041  Halides and halide oxides of non metals  \n",
            "\n",
            "[1042 rows x 11 columns]\n"
          ]
        }
      ]
    },
    {
      "cell_type": "code",
      "source": [
        "# Displaying the unique values and their counts relevant to each categorical column\n",
        "print(\"Unique values and their count relevant to each categorical column:\\n\")\n",
        "for col in categorical_features:\n",
        "    unique_values = data[col].unique()\n",
        "    value_counts = data[col].value_counts()\n",
        "    print(value_counts)\n",
        "    print(\" \")"
      ],
      "metadata": {
        "colab": {
          "base_uri": "https://localhost:8080/"
        },
        "id": "m0fmdQ164YQJ",
        "outputId": "bf890fcb-b0ef-4b66-d28c-5cb52c61586b"
      },
      "execution_count": 505,
      "outputs": [
        {
          "output_type": "stream",
          "name": "stdout",
          "text": [
            "Unique values and their count relevant to each categorical column:\n",
            "\n",
            "IMPORTER\n",
            "Unknown    1042\n",
            "Name: count, dtype: int64\n",
            " \n",
            "MONTH\n",
            "NOVEMBER     191\n",
            "FEBRUARY      13\n",
            "JULY          13\n",
            "MAY           11\n",
            "SEPTEMBER     11\n",
            "JANUARY       10\n",
            "JUNE           9\n",
            "AUGUST         8\n",
            "OCTOBER        8\n",
            "MARCH          6\n",
            "APRIL          6\n",
            "DECEMBER       6\n",
            "Name: count, dtype: int64\n",
            " \n",
            "COUNTRY\n",
            "VIETNAM                 299\n",
            "RUSSIA                  109\n",
            "KENYA                    71\n",
            "BELGIUM                  59\n",
            "SOUTH KOREA              58\n",
            "UKRAINE                  58\n",
            "GERMANY                  53\n",
            "COLOMBIA                 29\n",
            "INDIA                    29\n",
            "CHINA                    28\n",
            "BANGLADESH               27\n",
            "SLOVENIA                 24\n",
            "UNITED STATES            23\n",
            "MALAYSIA                 19\n",
            "US VIRGIN ISLANDS        19\n",
            "URUGUAY                  18\n",
            "UNITED KINGDOM           17\n",
            "THAILAND                 17\n",
            "JAPAN                    10\n",
            "SRI LANKA                 8\n",
            "GERMENY                   6\n",
            "CAMBODIA                  5\n",
            "ISRAEL                    4\n",
            "SWITZERLAND               4\n",
            "KOREA,REPUBLIC OF         4\n",
            "UK                        3\n",
            "CANADA                    3\n",
            "TAIWAN                    3\n",
            "TURKMENISTAN              3\n",
            "CHILE                     2\n",
            "SINGAPORE                 2\n",
            "FRANCE                    2\n",
            "INDONESIA                 2\n",
            "KAZAKHSTAN                2\n",
            "NIGERIA                   1\n",
            "SOUTH AFRICA              1\n",
            "UNITED ARAB EMIRATES      1\n",
            "SPAIN                     1\n",
            "SAUDI ARABIA              1\n",
            "ARGENTINA                 1\n",
            "BRAZIL                    1\n",
            "ITALY                     1\n",
            "USA                       1\n",
            "EGYPT                     1\n",
            "SLOVAKIA                  1\n",
            "ROMANIA                   1\n",
            "AUSTRIA                   1\n",
            "MEXICO                    1\n",
            "DENMARK                   1\n",
            "PAKISTAN                  1\n",
            "NETHERLANDS (HOLAND)      1\n",
            "GEORGIA                   1\n",
            "Name: count, dtype: int64\n",
            " \n",
            "HSCODE\n",
            "2847000000    145\n",
            "2808000000    136\n",
            "2807001000     85\n",
            "3102401000     58\n",
            "2829110000     54\n",
            "             ... \n",
            "2801200029      1\n",
            "2801200028      1\n",
            "2801200027      1\n",
            "2801200026      1\n",
            "2812101100      1\n",
            "Name: count, Length: 117, dtype: int64\n",
            " \n",
            "UNIT\n",
            "KG     909\n",
            "PCS     39\n",
            "NOS     33\n",
            "GMS     23\n",
            "MTS     19\n",
            "LTR     18\n",
            "DRM      1\n",
            "Name: count, dtype: int64\n",
            " \n",
            "DESCRIPTION_01\n",
            "Inorganic chemicals; Organic or inorganic compounds of precious metals, of rare earth metals, of radioactive elements or of isotopes    922\n",
            "Fertilizers                                                                                                                             120\n",
            "Name: count, dtype: int64\n",
            " \n",
            "DESCRIPTION_02\n",
            "Nitric acid; sulphonitric acids                                                   156\n",
            "Hydrogen peroxide, whether or not solidified with urea                            145\n",
            "Chlorates and perchlorates; bromates and perbromates; iodates and periodates      120\n",
            "Mineral or chemical fertilizers, nitrogenous                                      120\n",
            "Sulphuric acid; oleum                                                             120\n",
            "Halides and halide oxides of non metals                                           120\n",
            "Fluorine, chlorine, bromine and iodine                                            118\n",
            "Fluorides; fluorosilicates, fluoroaluminates, and other complex fluorine salts    116\n",
            "Cyanides, cyanide oxides and complex cyanides                                      27\n",
            "Name: count, dtype: int64\n",
            " \n",
            "DESCRIPTION_03\n",
            "Nitric acid; sulphonitric acids                                                   156\n",
            "Hydrogen peroxide, whether or not solidified with urea                            145\n",
            "Chlorates and perchlorates; bromates and perbromates; iodates and periodates      120\n",
            "Mineral or chemical fertilizers, nitrogenous                                      120\n",
            "Sulphuric acid; oleum                                                             120\n",
            "Halides and halide oxides of non metals                                           120\n",
            "Fluorides; fluorosilicates, fluoroaluminates, and other complex fluorine salts    116\n",
            "Iodine                                                                             80\n",
            "Chlorine                                                                           34\n",
            "Cyanides and cyanide oxides : Other                                                14\n",
            "Cyanides and cyanide oxides : Of sodium                                            13\n",
            "Bromine                                                                             4\n",
            "Name: count, dtype: int64\n",
            " \n"
          ]
        }
      ]
    },
    {
      "cell_type": "markdown",
      "source": [
        "## **Handling Missing Values**"
      ],
      "metadata": {
        "id": "Dp-ry5ID4c5D"
      }
    },
    {
      "cell_type": "markdown",
      "source": [
        "**Handling missing values in the categorical columns**"
      ],
      "metadata": {
        "id": "spRZqmCm4glg"
      }
    },
    {
      "cell_type": "markdown",
      "source": [
        "**Replacing all the missing values with 'Unknown'**"
      ],
      "metadata": {
        "id": "KMTdPr3k4iyY"
      }
    },
    {
      "cell_type": "code",
      "source": [
        "# Step 9: Handling missing values in the categorical columns\n",
        "\n",
        "# Replacing all the missing values in the categorical columns with 'Unknown' for imputation\n",
        "data[categorical_features] = data[categorical_features].fillna('Unknown')"
      ],
      "metadata": {
        "id": "qA0_8yDt4lT0"
      },
      "execution_count": 506,
      "outputs": []
    },
    {
      "cell_type": "markdown",
      "source": [
        "**Checking for any missing values which is left behind when replacing with 'Unkown'**"
      ],
      "metadata": {
        "id": "nzPvSW6q4ovf"
      }
    },
    {
      "cell_type": "code",
      "source": [
        "# Verifying the changes after replacing the missing values with 'Unknown'\n",
        "print(\"Checking for any missing values left behind after replacing with 'Unknown':\")\n",
        "for col in categorical_features:\n",
        "    null_count = data[col].isnull().sum()\n",
        "    if null_count > 0:\n",
        "        print(f\"{col}: {null_count} missing values\")\n",
        "    else:\n",
        "        print(f\"{col}: No missing values\")\n",
        "    print(\" \")"
      ],
      "metadata": {
        "colab": {
          "base_uri": "https://localhost:8080/"
        },
        "id": "52BQXUPw4qsc",
        "outputId": "15d01d44-59cf-443b-ff41-aacc542fda8c"
      },
      "execution_count": 507,
      "outputs": [
        {
          "output_type": "stream",
          "name": "stdout",
          "text": [
            "Checking for any missing values left behind after replacing with 'Unknown':\n",
            "IMPORTER: No missing values\n",
            " \n",
            "MONTH: No missing values\n",
            " \n",
            "COUNTRY: No missing values\n",
            " \n",
            "HSCODE: No missing values\n",
            " \n",
            "UNIT: No missing values\n",
            " \n",
            "DESCRIPTION_01: No missing values\n",
            " \n",
            "DESCRIPTION_02: No missing values\n",
            " \n",
            "DESCRIPTION_03: No missing values\n",
            " \n"
          ]
        }
      ]
    },
    {
      "cell_type": "code",
      "source": [
        "# Handling the 'UNknown' values in the 'COUNTRY' column using the mode\n",
        "mode_country = data['COUNTRY'].mode()[0]\n",
        "data['COUNTRY'] = data['COUNTRY'].replace('Unknown', mode_country)"
      ],
      "metadata": {
        "id": "grLYr_BQ4tqp"
      },
      "execution_count": 508,
      "outputs": []
    },
    {
      "cell_type": "markdown",
      "source": [
        "**Dropping the 'MONTH' in column since 90% of the data is 'Unknown' in the column. So, dropping the column is considered as the most approriate solution.**"
      ],
      "metadata": {
        "id": "RU9bRDYs43UL"
      }
    },
    {
      "cell_type": "code",
      "source": [
        "# Dropping the 'MONTH' column\n",
        "data.drop(columns=['MONTH'], inplace=True)"
      ],
      "metadata": {
        "id": "M7_M2JBE5kXJ"
      },
      "execution_count": 509,
      "outputs": []
    },
    {
      "cell_type": "code",
      "source": [
        "# Displaying dataset information post-imputation\n",
        "print(\"\\nDataset information after categorical imputation:\")\n",
        "data.info()"
      ],
      "metadata": {
        "colab": {
          "base_uri": "https://localhost:8080/"
        },
        "id": "RX085Ijz4vZn",
        "outputId": "28511b66-3bb9-4780-83f6-20e95e0aedcf"
      },
      "execution_count": 510,
      "outputs": [
        {
          "output_type": "stream",
          "name": "stdout",
          "text": [
            "\n",
            "Dataset information after categorical imputation:\n",
            "<class 'pandas.core.frame.DataFrame'>\n",
            "RangeIndex: 1042 entries, 0 to 1041\n",
            "Data columns (total 10 columns):\n",
            " #   Column          Non-Null Count  Dtype  \n",
            "---  ------          --------------  -----  \n",
            " 0   IMPORTER        1042 non-null   object \n",
            " 1   YEAR            292 non-null    float64\n",
            " 2   HSCODE          1042 non-null   object \n",
            " 3   COUNTRY         1042 non-null   object \n",
            " 4   UNIT            1042 non-null   object \n",
            " 5   QUANTITY        1039 non-null   float64\n",
            " 6   VALUE_RS        292 non-null    float64\n",
            " 7   DESCRIPTION_01  1042 non-null   object \n",
            " 8   DESCRIPTION_02  1042 non-null   object \n",
            " 9   DESCRIPTION_03  1042 non-null   object \n",
            "dtypes: float64(3), object(7)\n",
            "memory usage: 81.5+ KB\n"
          ]
        }
      ]
    },
    {
      "cell_type": "code",
      "source": [
        "# Displaying the unique values in the 'IMPORTER' column\n",
        "unique_importers = data['IMPORTER'].unique()\n",
        "print(\"Unique Importers:\")\n",
        "print(unique_importers)"
      ],
      "metadata": {
        "colab": {
          "base_uri": "https://localhost:8080/"
        },
        "id": "lyem4Qjc54OU",
        "outputId": "4998adcf-b268-4d7d-b9f3-caa470ec29b2"
      },
      "execution_count": 511,
      "outputs": [
        {
          "output_type": "stream",
          "name": "stdout",
          "text": [
            "Unique Importers:\n",
            "['Unknown']\n"
          ]
        }
      ]
    },
    {
      "cell_type": "code",
      "source": [
        "# Display unique values in the 'COUNTRY' column\n",
        "unique_countries = data['COUNTRY'].unique()\n",
        "print(\"Unique Countries:\")\n",
        "print(unique_countries)"
      ],
      "metadata": {
        "colab": {
          "base_uri": "https://localhost:8080/"
        },
        "id": "of3lyUxc6KWI",
        "outputId": "a29acf3b-0b43-4a90-be0e-b31597165cf3"
      },
      "execution_count": 512,
      "outputs": [
        {
          "output_type": "stream",
          "name": "stdout",
          "text": [
            "Unique Countries:\n",
            "['BANGLADESH' 'INDIA' 'MALAYSIA' 'AUSTRIA' 'CHINA' 'USA' 'SOUTH KOREA'\n",
            " 'THAILAND' 'GERMENY' 'CANADA' 'DENMARK' 'UK' 'JAPAN' 'PAKISTAN'\n",
            " 'NETHERLANDS (HOLAND)' 'BELGIUM' 'SINGAPORE' 'SPAIN' 'FRANCE' 'GERMANY'\n",
            " 'ISRAEL' 'CHILE' 'SWITZERLAND' 'UNITED STATES' 'TURKMENISTAN'\n",
            " 'KOREA,REPUBLIC OF' 'UNITED KINGDOM' 'TAIWAN' 'RUSSIA' 'VIETNAM'\n",
            " 'US VIRGIN ISLANDS' 'KENYA' 'UKRAINE' 'URUGUAY' 'COLOMBIA' 'INDONESIA'\n",
            " 'KAZAKHSTAN' 'CAMBODIA' 'MEXICO' 'SLOVENIA' 'ROMANIA' 'SLOVAKIA' 'EGYPT'\n",
            " 'SAUDI ARABIA' 'ITALY' 'UNITED ARAB EMIRATES' 'NIGERIA' 'SOUTH AFRICA'\n",
            " 'SRI LANKA' 'ARGENTINA' 'BRAZIL' 'GEORGIA']\n"
          ]
        }
      ]
    },
    {
      "cell_type": "code",
      "source": [
        "# Display unique values in the 'HSCODE' column\n",
        "unique_hscodes = data['HSCODE'].unique()\n",
        "print(\"Unique HSCodes:\")\n",
        "print(unique_hscodes)"
      ],
      "metadata": {
        "colab": {
          "base_uri": "https://localhost:8080/"
        },
        "id": "nr9_UstH6Lv7",
        "outputId": "05c868ba-f723-4718-e4d5-b31076f2cacd"
      },
      "execution_count": 513,
      "outputs": [
        {
          "output_type": "stream",
          "name": "stdout",
          "text": [
            "Unique HSCodes:\n",
            "['2801100000' '2808000000' '2837110000' '2837190000' '2847000000'\n",
            " '2808001000' '2801200000' '2801302000' '2837209000' '2837191000'\n",
            " '2837202000' '2837199000' '2801200001' '2801200002' '2801200003'\n",
            " '2801200004' '2801200005' '2801200006' '2801200007' '2801200008'\n",
            " '2801200009' '2801200010' '2801200011' '2801200012' '2801200013'\n",
            " '2801200014' '2801200015' '2801200016' '2801200017' '2801200018'\n",
            " '2801200019' '2801200020' '2801200021' '2801200022' '2801200023'\n",
            " '2801200024' '2801200025' '2801200026' '2801200027' '2801200028'\n",
            " '2801200029' '2801200030' '2801200031' '2801200032' '2801200033'\n",
            " '2801200034' '2801200035' '2801200036' '2801200037' '2801200038'\n",
            " '2801200039' '2801200040' '2801200041' '2801200042' '2801200043'\n",
            " '2801200044' '2801200045' '2801200046' '2801200047' '2801200048'\n",
            " '2801200049' '2801200050' '2801200051' '2801200052' '2801200053'\n",
            " '2801200054' '2801200055' '2801200056' '2801200057' '2801200058'\n",
            " '2801200059' '2801200060' '2801200061' '2801200062' '2801200063'\n",
            " '2829901000' '2829192000' '2829902000' '2829190000' '2829110000'\n",
            " '2829909000' '2829908000' '2829903000' '3102210000' '3102909000'\n",
            " '3102401000' '3102100000' '3102101000' '3102600100' '3102600000'\n",
            " '3102500000' '3102299000' '2807001000' '2807002000' '2812900000'\n",
            " '2812109000' '2812101000' '2812105000' '2826300000' '2826199000'\n",
            " '2826900000' '2826191000' '2826120000' '2807009000' '2826190000'\n",
            " '2826908000' '2812190000' '2812120000' '2812199000' '2812191900'\n",
            " '2812160000' '2812170000' '2812109900' '2812104300' '2812104700'\n",
            " '2812104200' '2812101100']\n"
          ]
        }
      ]
    },
    {
      "cell_type": "code",
      "source": [
        "# Display the unique values in the 'UNIT' column\n",
        "unique_units = data['UNIT'].unique()\n",
        "print(\"Unique Units:\")\n",
        "print(unique_units)"
      ],
      "metadata": {
        "colab": {
          "base_uri": "https://localhost:8080/"
        },
        "id": "w206Slkl6NvB",
        "outputId": "90c3f775-7038-4857-b51d-904142104084"
      },
      "execution_count": 514,
      "outputs": [
        {
          "output_type": "stream",
          "name": "stdout",
          "text": [
            "Unique Units:\n",
            "['KG' 'LTR' 'PCS' 'NOS' 'GMS' 'MTS' 'DRM']\n"
          ]
        }
      ]
    },
    {
      "cell_type": "code",
      "source": [
        "# Displaying the unique values in the 'DESCRIPTION_01' column\n",
        "unique_descriptions_01 = data['DESCRIPTION_01'].unique()\n",
        "print(\"Unique Descriptions_01:\")\n",
        "print(unique_descriptions_01)"
      ],
      "metadata": {
        "colab": {
          "base_uri": "https://localhost:8080/"
        },
        "id": "JGLNZTCv6PB3",
        "outputId": "d736a148-f9d3-48d9-ba2f-835f800d916e"
      },
      "execution_count": 515,
      "outputs": [
        {
          "output_type": "stream",
          "name": "stdout",
          "text": [
            "Unique Descriptions_01:\n",
            "['Inorganic chemicals; Organic or inorganic compounds of precious metals, of rare earth metals, of radioactive elements or of isotopes'\n",
            " 'Fertilizers']\n"
          ]
        }
      ]
    },
    {
      "cell_type": "code",
      "source": [
        "# Displaying the unique values in the 'DESCRIPTION_02' column\n",
        "unique_descriptions_02 = data['DESCRIPTION_02'].unique()\n",
        "print(\"Unique Descriptions_02:\")\n",
        "print(unique_descriptions_02)"
      ],
      "metadata": {
        "colab": {
          "base_uri": "https://localhost:8080/"
        },
        "id": "OUclbELw6R8N",
        "outputId": "f4beda50-d456-440b-96e8-73df1ec2fd45"
      },
      "execution_count": 516,
      "outputs": [
        {
          "output_type": "stream",
          "name": "stdout",
          "text": [
            "Unique Descriptions_02:\n",
            "['Fluorine, chlorine, bromine and iodine'\n",
            " 'Nitric acid; sulphonitric acids'\n",
            " 'Cyanides, cyanide oxides and complex cyanides'\n",
            " 'Hydrogen peroxide, whether or not solidified with urea'\n",
            " 'Chlorates and perchlorates; bromates and perbromates; iodates and periodates'\n",
            " 'Mineral or chemical fertilizers, nitrogenous' 'Sulphuric acid; oleum'\n",
            " 'Halides and halide oxides of non metals'\n",
            " 'Fluorides; fluorosilicates, fluoroaluminates, and other complex fluorine salts']\n"
          ]
        }
      ]
    },
    {
      "cell_type": "code",
      "source": [
        "# Displaying the unique values in the 'DESCRIPTION_03' column\n",
        "unique_descriptions_03 = data['DESCRIPTION_03'].unique()\n",
        "print(\"Unique Descriptions_03:\")\n",
        "print(unique_descriptions_03)"
      ],
      "metadata": {
        "colab": {
          "base_uri": "https://localhost:8080/"
        },
        "id": "s4OeggpM6Tf5",
        "outputId": "252ac4e7-67d9-4558-e21d-79b953c8450e"
      },
      "execution_count": 517,
      "outputs": [
        {
          "output_type": "stream",
          "name": "stdout",
          "text": [
            "Unique Descriptions_03:\n",
            "['Chlorine' 'Nitric acid; sulphonitric acids'\n",
            " 'Cyanides and cyanide oxides : Of sodium'\n",
            " 'Cyanides and cyanide oxides : Other'\n",
            " 'Hydrogen peroxide, whether or not solidified with urea' 'Iodine'\n",
            " 'Bromine'\n",
            " 'Chlorates and perchlorates; bromates and perbromates; iodates and periodates'\n",
            " 'Mineral or chemical fertilizers, nitrogenous' 'Sulphuric acid; oleum'\n",
            " 'Halides and halide oxides of non metals'\n",
            " 'Fluorides; fluorosilicates, fluoroaluminates, and other complex fluorine salts']\n"
          ]
        }
      ]
    },
    {
      "cell_type": "markdown",
      "source": [
        "# **Data Encoding**"
      ],
      "metadata": {
        "id": "uk1hhzeA6ZvR"
      }
    },
    {
      "cell_type": "code",
      "source": [
        "# Step 10: Encoding the Categorical Columns\n",
        "\n",
        "# List of categorical columns to encode (excluding 'DESCRIPTION_03' which will be handled separately)\n",
        "encoding_columns = ['IMPORTER', 'HSCODE', 'UNIT', 'DESCRIPTION_01', 'DESCRIPTION_02']\n",
        "\n",
        "# Creating a label encoder object\n",
        "label_encoder = LabelEncoder()\n",
        "\n",
        "# Encoding and saving columns\n",
        "for col in encoding_columns:\n",
        "    # Encoding the column\n",
        "    data[col] = label_encoder.fit_transform(data[col])\n",
        "\n",
        "    # If the column is not one of the specific columns, save the encoder\n",
        "    if col not in ['IMPORTER']:\n",
        "        with open(f'encoded_{col}.pkl', 'wb') as f:\n",
        "            pickle.dump(label_encoder, f)\n",
        "        print(f\"Encoded column: {col} saved successfully\")\n",
        "    else:\n",
        "        print(f\"Encoded column: {col}, but encoder not saved.\")\n",
        "\n",
        "# Separate encoding for 'DESCRIPTION_03'\n",
        "description_03_encoder = LabelEncoder()\n",
        "data['ENCODED_DESCRIPTION_03'] = description_03_encoder.fit_transform(data['DESCRIPTION_03'])\n",
        "\n",
        "# Separate encoding for 'COUNTRY'\n",
        "country_encoder = LabelEncoder()\n",
        "data['ENCODED_COUNTRY'] = country_encoder.fit_transform(data['COUNTRY'])"
      ],
      "metadata": {
        "colab": {
          "base_uri": "https://localhost:8080/"
        },
        "id": "GDhByvt66cFW",
        "outputId": "b7e71dd8-8aac-406f-a2d4-c559769656d2"
      },
      "execution_count": 518,
      "outputs": [
        {
          "output_type": "stream",
          "name": "stdout",
          "text": [
            "Encoded column: IMPORTER, but encoder not saved.\n",
            "Encoded column: HSCODE saved successfully\n",
            "Encoded column: UNIT saved successfully\n",
            "Encoded column: DESCRIPTION_01 saved successfully\n",
            "Encoded column: DESCRIPTION_02 saved successfully\n"
          ]
        }
      ]
    },
    {
      "cell_type": "code",
      "source": [
        "# Displaying the categorical columns after the encoding\n",
        "print(\"Categorical columns after encoding:\")\n",
        "print(data[encoding_columns])"
      ],
      "metadata": {
        "id": "G4-W-S7a6gjT",
        "colab": {
          "base_uri": "https://localhost:8080/"
        },
        "outputId": "b55612e5-8944-452e-9608-f98ce30c85ba"
      },
      "execution_count": 519,
      "outputs": [
        {
          "output_type": "stream",
          "name": "stdout",
          "text": [
            "Categorical columns after encoding:\n",
            "      IMPORTER  HSCODE  UNIT  DESCRIPTION_01  DESCRIPTION_02\n",
            "0            0       0     2               1               3\n",
            "1            0       0     2               1               3\n",
            "2            0       0     2               1               3\n",
            "3            0       0     2               1               3\n",
            "4            0       0     2               1               3\n",
            "...        ...     ...   ...             ...             ...\n",
            "1037         0      75     2               1               4\n",
            "1038         0      75     2               1               4\n",
            "1039         0      78     2               1               4\n",
            "1040         0      78     2               1               4\n",
            "1041         0      75     2               1               4\n",
            "\n",
            "[1042 rows x 5 columns]\n"
          ]
        }
      ]
    },
    {
      "cell_type": "markdown",
      "source": [
        "**Handling the missing values in the 'IMPORTER' column after handling the missing values in the numerical coumns since all the values contained within the 'IMPORTER' column are 'Unknown' values and using K-Means clustering crucially expect the intepretation of the 'YEAR' column to be handled first.**"
      ],
      "metadata": {
        "id": "sAkkXN3D6l1Z"
      }
    },
    {
      "cell_type": "markdown",
      "source": [
        "## **Handling missing values in the numerical columns**"
      ],
      "metadata": {
        "id": "NH1JSCTa6o8w"
      }
    },
    {
      "cell_type": "markdown",
      "source": [
        "**Using Multiple Imputation to handle the missing values in the numerical columns since the nature of the missing values in each numerical column varies from one another.**"
      ],
      "metadata": {
        "id": "PZEdYSb46r44"
      }
    },
    {
      "cell_type": "markdown",
      "source": [
        "**Using K-NN Imputaion to efficiently capture the small missing values and the captures local patterns in the 'Quantity' coulmn**"
      ],
      "metadata": {
        "id": "HLa3zisO6uOw"
      }
    },
    {
      "cell_type": "code",
      "source": [
        "# Step 11: Handling missing values in the numerical columns\n",
        "\n",
        "# KNN Imputation for 'QUANTITY'\n",
        "knn_imputer = KNNImputer(n_neighbors=5)\n",
        "data[['QUANTITY']] = knn_imputer.fit_transform(data[['QUANTITY']])"
      ],
      "metadata": {
        "id": "68ouFhS_6xI1"
      },
      "execution_count": 520,
      "outputs": []
    },
    {
      "cell_type": "markdown",
      "source": [
        "Dropping the 'YEAR' and the 'VALUE_RS' columns since more than 90% of the data contained within the column is missing. So this is considered as the most approriate choice."
      ],
      "metadata": {
        "id": "VXCV2nvV66mt"
      }
    },
    {
      "cell_type": "code",
      "source": [
        "# Dropping the 'VALUE_RS' and the 'YEAR' columns\n",
        "data.drop(columns=['VALUE_RS', 'YEAR'], inplace=True)"
      ],
      "metadata": {
        "id": "TccAXzpO6yio"
      },
      "execution_count": 521,
      "outputs": []
    },
    {
      "cell_type": "markdown",
      "source": [
        "## **Handling Missing Values in the Categorical Columns**"
      ],
      "metadata": {
        "id": "yVrZ_04Y7kZe"
      }
    },
    {
      "cell_type": "markdown",
      "source": [
        "**Handling the missing data in the 'IMPORTER' column using K-Means Clustering for more accurate predictions of the missing values.**"
      ],
      "metadata": {
        "id": "Zf7DAgRn7nb9"
      }
    },
    {
      "cell_type": "code",
      "source": [
        "# Step 12: Handling the missing values in the 'IMPORTER' Column (Categorical Column)\n",
        "\n",
        "# Imputing the 'IMPORTER' column using the K-Means Clustering\n",
        "\n",
        "# Preparing features for clustering\n",
        "X = data[['ENCODED_COUNTRY', 'HSCODE', 'QUANTITY']]\n",
        "\n",
        "# Applying K-Means clustering\n",
        "kmeans = KMeans(n_clusters=5, random_state=42)\n",
        "data['CLUSTER'] = kmeans.fit_predict(X)\n",
        "\n",
        "# Assigning importer names based on clusters\n",
        "importer_names = [\n",
        "    \"Global Traders Inc.\", \"Eastern Imports Ltd.\", \"Pacific Exports Co.\",\n",
        "    \"Summit Commerce\", \"EverGreen Enterprises\"\n",
        "]\n",
        "data['IMPORTER'] = data['CLUSTER'].apply(lambda x: importer_names[x])\n",
        "\n",
        "# Dropping the helper columns(encoded categorical columns)\n",
        "data = data.drop(columns=['ENCODED_COUNTRY', 'CLUSTER'])\n",
        "\n",
        "# Displaying the updated dataset\n",
        "print(data)"
      ],
      "metadata": {
        "id": "f0l0taJ57qbB",
        "colab": {
          "base_uri": "https://localhost:8080/"
        },
        "outputId": "a7ddea47-378f-48ad-b5e6-70dc8244d286"
      },
      "execution_count": 522,
      "outputs": [
        {
          "output_type": "stream",
          "name": "stdout",
          "text": [
            "                 IMPORTER  HSCODE      COUNTRY  UNIT       QUANTITY  \\\n",
            "0     Global Traders Inc.       0   BANGLADESH     2  131600.000000   \n",
            "1     Global Traders Inc.       0        INDIA     2   37800.000000   \n",
            "2     Global Traders Inc.       0     MALAYSIA     2   12090.000000   \n",
            "3     Global Traders Inc.       0   BANGLADESH     2   25200.000000   \n",
            "4     Global Traders Inc.       0        INDIA     2   75599.000000   \n",
            "...                   ...     ...          ...   ...            ...   \n",
            "1037  Global Traders Inc.      75  SOUTH KOREA     2   16200.000000   \n",
            "1038  Global Traders Inc.      75  SOUTH KOREA     2   16200.000000   \n",
            "1039  Global Traders Inc.      78      UKRAINE     2   42416.789127   \n",
            "1040  Global Traders Inc.      78      UKRAINE     2   42416.789127   \n",
            "1041  Global Traders Inc.      75  SOUTH KOREA     2   16200.000000   \n",
            "\n",
            "      DESCRIPTION_01  DESCRIPTION_02                           DESCRIPTION_03  \\\n",
            "0                  1               3                                 Chlorine   \n",
            "1                  1               3                                 Chlorine   \n",
            "2                  1               3                                 Chlorine   \n",
            "3                  1               3                                 Chlorine   \n",
            "4                  1               3                                 Chlorine   \n",
            "...              ...             ...                                      ...   \n",
            "1037               1               4  Halides and halide oxides of non metals   \n",
            "1038               1               4  Halides and halide oxides of non metals   \n",
            "1039               1               4  Halides and halide oxides of non metals   \n",
            "1040               1               4  Halides and halide oxides of non metals   \n",
            "1041               1               4  Halides and halide oxides of non metals   \n",
            "\n",
            "      ENCODED_DESCRIPTION_03  \n",
            "0                          2  \n",
            "1                          2  \n",
            "2                          2  \n",
            "3                          2  \n",
            "4                          2  \n",
            "...                      ...  \n",
            "1037                       6  \n",
            "1038                       6  \n",
            "1039                       6  \n",
            "1040                       6  \n",
            "1041                       6  \n",
            "\n",
            "[1042 rows x 9 columns]\n"
          ]
        }
      ]
    },
    {
      "cell_type": "markdown",
      "source": [
        "**Re-encoding the missing values after handling the missing values**"
      ],
      "metadata": {
        "id": "3fg2mXTM7vR-"
      }
    },
    {
      "cell_type": "code",
      "source": [
        "# Step 13: Re-encode the Importer column\n",
        "label_encoder = LabelEncoder()\n",
        "data['IMPORTER'] = label_encoder.fit_transform(data['IMPORTER'])\n",
        "\n",
        "# Saving the encoder for 'IMPORTER' column\n",
        "with open('encoded_IMPORTER.pkl', 'wb') as f:\n",
        "    pickle.dump(label_encoder, f)\n",
        "\n",
        "# Displaying the encoded details\n",
        "print(data)"
      ],
      "metadata": {
        "id": "4vcPyV0e7wt4",
        "colab": {
          "base_uri": "https://localhost:8080/"
        },
        "outputId": "e3ca75b3-e4ef-4451-a2d4-b6f22a896a76"
      },
      "execution_count": 523,
      "outputs": [
        {
          "output_type": "stream",
          "name": "stdout",
          "text": [
            "      IMPORTER  HSCODE      COUNTRY  UNIT       QUANTITY  DESCRIPTION_01  \\\n",
            "0            2       0   BANGLADESH     2  131600.000000               1   \n",
            "1            2       0        INDIA     2   37800.000000               1   \n",
            "2            2       0     MALAYSIA     2   12090.000000               1   \n",
            "3            2       0   BANGLADESH     2   25200.000000               1   \n",
            "4            2       0        INDIA     2   75599.000000               1   \n",
            "...        ...     ...          ...   ...            ...             ...   \n",
            "1037         2      75  SOUTH KOREA     2   16200.000000               1   \n",
            "1038         2      75  SOUTH KOREA     2   16200.000000               1   \n",
            "1039         2      78      UKRAINE     2   42416.789127               1   \n",
            "1040         2      78      UKRAINE     2   42416.789127               1   \n",
            "1041         2      75  SOUTH KOREA     2   16200.000000               1   \n",
            "\n",
            "      DESCRIPTION_02                           DESCRIPTION_03  \\\n",
            "0                  3                                 Chlorine   \n",
            "1                  3                                 Chlorine   \n",
            "2                  3                                 Chlorine   \n",
            "3                  3                                 Chlorine   \n",
            "4                  3                                 Chlorine   \n",
            "...              ...                                      ...   \n",
            "1037               4  Halides and halide oxides of non metals   \n",
            "1038               4  Halides and halide oxides of non metals   \n",
            "1039               4  Halides and halide oxides of non metals   \n",
            "1040               4  Halides and halide oxides of non metals   \n",
            "1041               4  Halides and halide oxides of non metals   \n",
            "\n",
            "      ENCODED_DESCRIPTION_03  \n",
            "0                          2  \n",
            "1                          2  \n",
            "2                          2  \n",
            "3                          2  \n",
            "4                          2  \n",
            "...                      ...  \n",
            "1037                       6  \n",
            "1038                       6  \n",
            "1039                       6  \n",
            "1040                       6  \n",
            "1041                       6  \n",
            "\n",
            "[1042 rows x 9 columns]\n"
          ]
        }
      ]
    },
    {
      "cell_type": "markdown",
      "source": [
        "## **Handling the Outliers**"
      ],
      "metadata": {
        "id": "Anlz4t3p8B0L"
      }
    },
    {
      "cell_type": "code",
      "source": [
        "# Step 14: Handling the outliers in the numerical columns\n",
        "\n",
        "# Columns to handke the outliers\n",
        "outlier_cols = ['QUANTITY']\n",
        "\n",
        "# Creating an empty dictionary to store the outliers\n",
        "outlier_info = {}\n",
        "\n",
        "for column in outlier_cols:\n",
        "    Q1, Q3 = data[column].quantile([0.25, 0.75])\n",
        "    IQR = Q3 - Q1\n",
        "    lower_bound, upper_bound = Q1 - 1.5 * IQR, Q3 + 1.5 * IQR\n",
        "\n",
        "    # Detecting outliers\n",
        "    outliers = data[(data[column] < lower_bound) | (data[column] > upper_bound)]\n",
        "\n",
        "    outlier_info[column] = {\n",
        "        'Outliers': outliers.shape[0],\n",
        "        'Lower Bound': lower_bound,\n",
        "        'Upper Bound': upper_bound\n",
        "    }\n",
        "\n",
        "    print(f\"Column: {column}\")\n",
        "    print(f\"  Outliers: {outlier_info[column]['Outliers']}, \"\n",
        "          f\"Lower: {lower_bound:.2f}, Upper: {upper_bound:.2f}\")\n",
        "    print(\" \")"
      ],
      "metadata": {
        "id": "uB3mvyCv8F2B",
        "colab": {
          "base_uri": "https://localhost:8080/"
        },
        "outputId": "6cf31c11-9028-4bf9-87fc-0b78e7612591"
      },
      "execution_count": 524,
      "outputs": [
        {
          "output_type": "stream",
          "name": "stdout",
          "text": [
            "Column: QUANTITY\n",
            "  Outliers: 98, Lower: -29912.50, Upper: 49947.50\n",
            " \n"
          ]
        }
      ]
    },
    {
      "cell_type": "markdown",
      "source": [
        "## **Visualization of the Outliers**"
      ],
      "metadata": {
        "id": "TGZvpE8D8Y_a"
      }
    },
    {
      "cell_type": "code",
      "source": [
        "# Visualizing the outliers\n",
        "# Calculating the number of rows and columns based on the number of numerical columns\n",
        "num_columns = len(outlier_cols)\n",
        "num_rows = int(np.ceil(num_columns / 3))\n",
        "\n",
        "# Creating a figure and axes array for subplots\n",
        "fig, axes = plt.subplots(num_rows, 3, figsize=(15, 5 * num_rows))\n",
        "axes = axes.flatten()\n",
        "\n",
        "# Plotting boxplots for each numerical column\n",
        "for i, column in enumerate(outlier_cols):\n",
        "    ax = axes[i]\n",
        "\n",
        "    # Calculating IQR and bounds\n",
        "    Q1 = data[column].quantile(0.25)\n",
        "    Q3 = data[column].quantile(0.75)\n",
        "    IQR = Q3 - Q1\n",
        "    lower_bound = Q1 - 1.5 * IQR\n",
        "    upper_bound = Q3 + 1.5 * IQR\n",
        "\n",
        "    # Plotting the boxplot\n",
        "    sns.boxplot(x=data[column], color='skyblue', flierprops=dict(marker='o', color='red', markersize=5), ax=ax)\n",
        "    ax.axvline(lower_bound, color='red', linestyle='--', label='Lower Bound')\n",
        "    ax.axvline(upper_bound, color='green', linestyle='--', label='Upper Bound')\n",
        "    ax.set_title(f'Boxplot of {column}')\n",
        "    ax.set_xlabel(column)\n",
        "    ax.legend()\n",
        "    ax.grid(axis='x', alpha=0.75)\n",
        "\n",
        "\n",
        "for i in range(num_columns, len(axes)):\n",
        "    axes[i].axis('off')\n",
        "\n",
        "plt.tight_layout()\n",
        "plt.show()"
      ],
      "metadata": {
        "id": "HgHyzivt8cav",
        "colab": {
          "base_uri": "https://localhost:8080/",
          "height": 482
        },
        "outputId": "33d0c428-1179-46ba-f30f-47aafbbf40a8"
      },
      "execution_count": 525,
      "outputs": [
        {
          "output_type": "display_data",
          "data": {
            "text/plain": [
              "<Figure size 1500x500 with 3 Axes>"
            ],
            "image/png": "[encoded data removed]"
          },
          "metadata": {}
        }
      ]
    },
    {
      "cell_type": "code",
      "source": [
        "# Function to handle outliers by capping\n",
        "def handle_outliers(data, method='cap'):\n",
        "    for column in data.columns:\n",
        "        if column == 'QUANTITY':\n",
        "            lower_bound, upper_bound = -0.31, 0.03\n",
        "            data[column] = data[column].apply(lambda x: min(max(x, lower_bound), upper_bound) if method == 'cap' else x)\n",
        "\n",
        "    return data\n",
        "\n",
        "\n",
        "# Applying the function to handle outliers\n",
        "data_cleaned = handle_outliers(data.copy(), method='cap')\n",
        "\n",
        "# Displaying the cleaned dataset\n",
        "print(data_cleaned.head())"
      ],
      "metadata": {
        "id": "phJlf8xM8zkS",
        "colab": {
          "base_uri": "https://localhost:8080/"
        },
        "outputId": "e7beb243-8de8-4d79-bdc1-1d967bd64a04"
      },
      "execution_count": 526,
      "outputs": [
        {
          "output_type": "stream",
          "name": "stdout",
          "text": [
            "   IMPORTER  HSCODE     COUNTRY  UNIT  QUANTITY  DESCRIPTION_01  \\\n",
            "0         2       0  BANGLADESH     2      0.03               1   \n",
            "1         2       0       INDIA     2      0.03               1   \n",
            "2         2       0    MALAYSIA     2      0.03               1   \n",
            "3         2       0  BANGLADESH     2      0.03               1   \n",
            "4         2       0       INDIA     2      0.03               1   \n",
            "\n",
            "   DESCRIPTION_02 DESCRIPTION_03  ENCODED_DESCRIPTION_03  \n",
            "0               3       Chlorine                       2  \n",
            "1               3       Chlorine                       2  \n",
            "2               3       Chlorine                       2  \n",
            "3               3       Chlorine                       2  \n",
            "4               3       Chlorine                       2  \n"
          ]
        }
      ]
    },
    {
      "cell_type": "markdown",
      "source": [
        "### **Assigning the Target Variable**"
      ],
      "metadata": {
        "id": "JY5xe5gU9JnZ"
      }
    },
    {
      "cell_type": "markdown",
      "source": [
        "### **Assigning the Target Variable**"
      ],
      "metadata": {
        "id": "fH62eJsq9LNQ"
      }
    },
    {
      "cell_type": "code",
      "source": [
        "import pandas as pd\n",
        "\n",
        "# Risk mapping for DESCRIPTION_03\n",
        "risk_mapping = {\n",
        "    'Chlorine': 'Low',\n",
        "    'Nitric acid; sulphonitric acids': 'High',\n",
        "    'Cyanides and cyanide oxides: of sodium': 'High',\n",
        "    'Cyanides and cyanide oxides: other': 'High',\n",
        "    'Hydrogen peroxide, whether or not solidified with urea.': 'High',\n",
        "    'Iodine': 'Low',\n",
        "    'Bromine': 'Low',\n",
        "    'Chlorates and perchlorates; bromates and perbromates; iodates and periodates': 'High',\n",
        "    'Mineral or chemical fertilizers, nitrogenous': 'Low',\n",
        "    'Sulphuric acid; oleum': 'High',\n",
        "    'Halides and halide oxides of non metals': 'Low',\n",
        "    'Fluorides; fluorosilicates, fluoroaluminates, and other complex fluorine salts': 'Low'\n",
        "}\n",
        "\n",
        "# Defining the quantity thresholds\n",
        "high_quantity_threshold = 10000\n",
        "medium_quantity_threshold = 5000\n",
        "\n",
        "# Defining only risky countries\n",
        "risky_countries = {\n",
        "    \"NORTH KOREA\", \"IRAN\", \"SYRIA\", \"AFGHANISTAN\", \"PAKISTAN\",\n",
        "    \"IRAQ\", \"YEMEN\", \"SOMALIA\", \"LIBYA\", \"SUDAN\",\n",
        "    \"RUSSIA\", \"VENEZUELA\", \"MYANMAR\"\n",
        "}\n",
        "\n",
        "# Function to calculate risk\n",
        "def calculate_risk(description, quantity, country):\n",
        "    description_risk = risk_mapping.get(description, 'Low')\n",
        "    country_risk = 'High' if country.upper() in risky_countries else 'Low'\n",
        "\n",
        "    # Determine risk based on description, quantity, and country\n",
        "    if description_risk == 'High' and quantity > high_quantity_threshold:\n",
        "        return 'Risky'\n",
        "    elif description_risk == 'High' and country_risk == 'High' and quantity > medium_quantity_threshold:\n",
        "        return 'Risky'\n",
        "    elif country_risk == 'High' and quantity > medium_quantity_threshold:\n",
        "        return 'Risky'\n",
        "    elif quantity > high_quantity_threshold:\n",
        "        return 'Risky'\n",
        "    else:\n",
        "        return 'Not Risky'\n",
        "\n",
        "# Applying the function\n",
        "data['RISK'] = data.apply(\n",
        "    lambda row: calculate_risk(row['DESCRIPTION_03'], row['QUANTITY'], row['COUNTRY']),\n",
        "    axis=1\n",
        ")"
      ],
      "metadata": {
        "id": "sAX2JfTC9OZ_"
      },
      "execution_count": 527,
      "outputs": []
    },
    {
      "cell_type": "code",
      "source": [
        "# Displaying dataset head\n",
        "print(data.head())"
      ],
      "metadata": {
        "id": "qzMBZb549RZz",
        "colab": {
          "base_uri": "https://localhost:8080/"
        },
        "outputId": "fcb45a57-4dbc-42e1-f8f1-69709ff7323d"
      },
      "execution_count": 528,
      "outputs": [
        {
          "output_type": "stream",
          "name": "stdout",
          "text": [
            "   IMPORTER  HSCODE     COUNTRY  UNIT  QUANTITY  DESCRIPTION_01  \\\n",
            "0         2       0  BANGLADESH     2  131600.0               1   \n",
            "1         2       0       INDIA     2   37800.0               1   \n",
            "2         2       0    MALAYSIA     2   12090.0               1   \n",
            "3         2       0  BANGLADESH     2   25200.0               1   \n",
            "4         2       0       INDIA     2   75599.0               1   \n",
            "\n",
            "   DESCRIPTION_02 DESCRIPTION_03  ENCODED_DESCRIPTION_03   RISK  \n",
            "0               3       Chlorine                       2  Risky  \n",
            "1               3       Chlorine                       2  Risky  \n",
            "2               3       Chlorine                       2  Risky  \n",
            "3               3       Chlorine                       2  Risky  \n",
            "4               3       Chlorine                       2  Risky  \n"
          ]
        }
      ]
    },
    {
      "cell_type": "markdown",
      "source": [
        "## **Visualizing the Target Variable**"
      ],
      "metadata": {
        "id": "DUw1UZwn9WJ2"
      }
    },
    {
      "cell_type": "code",
      "source": [
        "# Visualizing the target variable\n",
        "plt.figure(figsize=(8, 6))\n",
        "sns.countplot(x='RISK', data=data)\n",
        "plt.title('Risk Distribution')\n",
        "plt.xlabel('Risk')\n",
        "plt.ylabel('Count')\n",
        "plt.show()"
      ],
      "metadata": {
        "id": "gsQDkWts9YHS",
        "colab": {
          "base_uri": "https://localhost:8080/",
          "height": 564
        },
        "outputId": "955f6bc1-8077-4c57-bbd0-63a1ec4f52c5"
      },
      "execution_count": 529,
      "outputs": [
        {
          "output_type": "display_data",
          "data": {
            "text/plain": [
              "<Figure size 800x600 with 1 Axes>"
            ],
            "image/png": "[encoded data removed]"
          },
          "metadata": {}
        }
      ]
    },
    {
      "cell_type": "code",
      "source": [
        "# Step 17: Encoding the 'DESCRIPTION_03' column with label encoder and dropping the 'ENCODED_DESCRIPTION_03' column and saving the encoder\n",
        "label_encoder = LabelEncoder()\n",
        "data['DESCRIPTION_03'] = label_encoder.fit_transform(data['DESCRIPTION_03'])\n",
        "data.drop(columns=['ENCODED_DESCRIPTION_03'], inplace=True)\n",
        "with open('encoded_DESCRIPTION_03.pkl', 'wb') as f:\n",
        "    pickle.dump(label_encoder, f)\n",
        "    print(\"Encoded column: DESCRIPTION_03 saved successfully\")\n",
        "\n",
        "# Encoding the 'COUNTRY' column with label encoder and saving the encoder\n",
        "label_encoder = LabelEncoder()\n",
        "data['COUNTRY'] = label_encoder.fit_transform(data['COUNTRY'])\n",
        "with open('encoded_COUNTRY.pkl', 'wb') as f:\n",
        "    pickle.dump(label_encoder, f)\n",
        "    print(\"Encoded column: COUNTRY saved successfully\")"
      ],
      "metadata": {
        "id": "yi8DY9jA9dKu",
        "colab": {
          "base_uri": "https://localhost:8080/"
        },
        "outputId": "050daa2e-d91d-4d20-a9a2-aa4dfe9db68e"
      },
      "execution_count": 530,
      "outputs": [
        {
          "output_type": "stream",
          "name": "stdout",
          "text": [
            "Encoded column: DESCRIPTION_03 saved successfully\n",
            "Encoded column: COUNTRY saved successfully\n"
          ]
        }
      ]
    },
    {
      "cell_type": "code",
      "source": [
        "# Step 18: Encoding the 'RISK' variable\n",
        "label_encoder = LabelEncoder()\n",
        "data['RISK'] = label_encoder.fit_transform(data['RISK'])"
      ],
      "metadata": {
        "id": "d_W1fzYz-XwQ"
      },
      "execution_count": 531,
      "outputs": []
    },
    {
      "cell_type": "code",
      "source": [
        "# Checking the correlation of the 'DESCRIPTION_03', 'QUANTITY' and the 'COUNTRY' columns to the target variable\n",
        "correlation_matrix = data[['DESCRIPTION_03', 'QUANTITY', 'COUNTRY', 'RISK']].corr()\n",
        "print(correlation_matrix)"
      ],
      "metadata": {
        "id": "9VoiGMUj-bCT",
        "colab": {
          "base_uri": "https://localhost:8080/"
        },
        "outputId": "931855c0-daae-4f6f-a211-952361a99db1"
      },
      "execution_count": 532,
      "outputs": [
        {
          "output_type": "stream",
          "name": "stdout",
          "text": [
            "                DESCRIPTION_03  QUANTITY   COUNTRY      RISK\n",
            "DESCRIPTION_03        1.000000  0.061423  0.053694  0.037440\n",
            "QUANTITY              0.061423  1.000000 -0.078168  0.221935\n",
            "COUNTRY               0.053694 -0.078168  1.000000 -0.237249\n",
            "RISK                  0.037440  0.221935 -0.237249  1.000000\n"
          ]
        }
      ]
    },
    {
      "cell_type": "markdown",
      "source": [
        "**Dropping the 'DESCRIPTION_03', 'COUNTRY', and the 'QUANTITY' columns since these columns has a high correlation with the target variable**"
      ],
      "metadata": {
        "id": "OfXOt8-HAZr-"
      }
    },
    {
      "cell_type": "code",
      "source": [
        "# Step 19: Dropping the 'DESCRIPTION_03', 'COUNTRY', and the 'QUANTITY' columns\n",
        "data.drop(columns=['DESCRIPTION_03', 'COUNTRY', 'QUANTITY'], inplace=True)"
      ],
      "metadata": {
        "id": "9BcSUtXECSfa"
      },
      "execution_count": 533,
      "outputs": []
    },
    {
      "cell_type": "markdown",
      "source": [
        "**Dropping the 'DESCRIPTION_01' column since the feature importatnce of the column is comparably very low.**"
      ],
      "metadata": {
        "id": "BPKZhugCmZB5"
      }
    },
    {
      "cell_type": "code",
      "source": [
        "# Step 20: Dropping the 'DESCRIPTION_01' column\n",
        "data.drop(columns=['DESCRIPTION_01'], inplace=True)"
      ],
      "metadata": {
        "id": "mdj1dbHYl6U6"
      },
      "execution_count": 534,
      "outputs": []
    },
    {
      "cell_type": "code",
      "source": [
        "# Step 20: Splitting features and target\n",
        "X = data.drop(columns=['RISK'])\n",
        "y = data['RISK']"
      ],
      "metadata": {
        "id": "C6JJ98CXCPK4"
      },
      "execution_count": 535,
      "outputs": []
    },
    {
      "cell_type": "code",
      "source": [
        "# Step 21: Splitting data\n",
        "X_train, X_test, y_train, y_test = train_test_split(X, y, test_size=0.2, random_state=42)"
      ],
      "metadata": {
        "id": "YPRoNLvg--x3"
      },
      "execution_count": 536,
      "outputs": []
    },
    {
      "cell_type": "code",
      "source": [
        "# Analyzing the distribution of the y train dataset\n",
        "unique_values, counts = np.unique(y_train, return_counts=True)\n",
        "for value, count in zip(unique_values, counts):\n",
        "    print(f\"Value: {value}, Count: {count}\")"
      ],
      "metadata": {
        "id": "KBrPLTRs_AAC",
        "colab": {
          "base_uri": "https://localhost:8080/"
        },
        "outputId": "bb91459e-63c4-45c9-8982-371377a806c2"
      },
      "execution_count": 537,
      "outputs": [
        {
          "output_type": "stream",
          "name": "stdout",
          "text": [
            "Value: 0, Count: 510\n",
            "Value: 1, Count: 323\n"
          ]
        }
      ]
    },
    {
      "cell_type": "code",
      "source": [
        "# Visualizing the distribution of the target variable\n",
        "sns.countplot(data=data, x='RISK')\n",
        "plt.title('Target Variable Distribution')\n",
        "plt.show()"
      ],
      "metadata": {
        "id": "gr-stJCz_C3Y",
        "colab": {
          "base_uri": "https://localhost:8080/",
          "height": 472
        },
        "outputId": "a24ea6b1-7e30-43ec-d226-2c999ae3a2b3"
      },
      "execution_count": 538,
      "outputs": [
        {
          "output_type": "display_data",
          "data": {
            "text/plain": [
              "<Figure size 640x480 with 1 Axes>"
            ],
            "image/png": "[encoded data removed]"
          },
          "metadata": {}
        }
      ]
    },
    {
      "cell_type": "code",
      "source": [
        "# Displaying the dataset shape\n",
        "print(f\"Shape of X_train: {X_train.shape}\")\n",
        "print(f\"Shape of y_train: {y_train.shape}\")"
      ],
      "metadata": {
        "id": "snVIoaFO_EcD",
        "colab": {
          "base_uri": "https://localhost:8080/"
        },
        "outputId": "20070dcc-81f3-4cbd-ad61-01317b802fa0"
      },
      "execution_count": 539,
      "outputs": [
        {
          "output_type": "stream",
          "name": "stdout",
          "text": [
            "Shape of X_train: (833, 4)\n",
            "Shape of y_train: (833,)\n"
          ]
        }
      ]
    },
    {
      "cell_type": "code",
      "source": [
        "# Display dataset information\n",
        "print(\"Dataset Information:\")\n",
        "print(data.info())"
      ],
      "metadata": {
        "id": "dsfhBRnx_HHi",
        "colab": {
          "base_uri": "https://localhost:8080/"
        },
        "outputId": "71aef29a-43b5-480d-cf11-599ad337e2e7"
      },
      "execution_count": 540,
      "outputs": [
        {
          "output_type": "stream",
          "name": "stdout",
          "text": [
            "Dataset Information:\n",
            "<class 'pandas.core.frame.DataFrame'>\n",
            "RangeIndex: 1042 entries, 0 to 1041\n",
            "Data columns (total 5 columns):\n",
            " #   Column          Non-Null Count  Dtype\n",
            "---  ------          --------------  -----\n",
            " 0   IMPORTER        1042 non-null   int64\n",
            " 1   HSCODE          1042 non-null   int64\n",
            " 2   UNIT            1042 non-null   int64\n",
            " 3   DESCRIPTION_02  1042 non-null   int64\n",
            " 4   RISK            1042 non-null   int64\n",
            "dtypes: int64(5)\n",
            "memory usage: 40.8 KB\n",
            "None\n"
          ]
        }
      ]
    },
    {
      "cell_type": "code",
      "source": [
        "# Display dataset information\n",
        "print(\"Dataset Information:\")\n",
        "print(data.head)"
      ],
      "metadata": {
        "id": "m-_imy69_Ij1",
        "colab": {
          "base_uri": "https://localhost:8080/"
        },
        "outputId": "ad1ad81e-0f22-4797-88fc-badd02fa84b4"
      },
      "execution_count": 541,
      "outputs": [
        {
          "output_type": "stream",
          "name": "stdout",
          "text": [
            "Dataset Information:\n",
            "<bound method NDFrame.head of       IMPORTER  HSCODE  UNIT  DESCRIPTION_02  RISK\n",
            "0            2       0     2               3     1\n",
            "1            2       0     2               3     1\n",
            "2            2       0     2               3     1\n",
            "3            2       0     2               3     1\n",
            "4            2       0     2               3     1\n",
            "...        ...     ...   ...             ...   ...\n",
            "1037         2      75     2               4     1\n",
            "1038         2      75     2               4     1\n",
            "1039         2      78     2               4     1\n",
            "1040         2      78     2               4     1\n",
            "1041         2      75     2               4     1\n",
            "\n",
            "[1042 rows x 5 columns]>\n"
          ]
        }
      ]
    },
    {
      "cell_type": "markdown",
      "source": [
        "## **Balancing the Target Variable**"
      ],
      "metadata": {
        "id": "UKDnDONvAm-z"
      }
    },
    {
      "cell_type": "code",
      "source": [
        "# Handling the imbalance dataset\n",
        "\n",
        "# Suppressing the FutureWarnings\n",
        "warnings.filterwarnings(\"ignore\", category=FutureWarning)\n",
        "\n",
        "# Handling imbalanced dataset\n",
        "smote = SMOTE(sampling_strategy='auto', random_state=42)\n",
        "X_resampled, y_resampled = smote.fit_resample(X, y)\n",
        "\n",
        "print(\"Original dataset size:\", X.shape)\n",
        "print(\"Resampled dataset size:\", X_resampled.shape)"
      ],
      "metadata": {
        "id": "Hyx0RpPuApN4",
        "colab": {
          "base_uri": "https://localhost:8080/"
        },
        "outputId": "81031c0f-b4e3-4dcc-d398-84f0e245b9a0"
      },
      "execution_count": 542,
      "outputs": [
        {
          "output_type": "stream",
          "name": "stdout",
          "text": [
            "Original dataset size: (1042, 4)\n",
            "Resampled dataset size: (1272, 4)\n"
          ]
        }
      ]
    },
    {
      "cell_type": "code",
      "source": [
        "# Plotting class distribution after SMOTE\n",
        "sns.countplot(x=y_resampled, palette=\"viridis\")\n",
        "plt.title(\"Class Distribution After SMOTE\")\n",
        "plt.xlabel(\"Class\")\n",
        "plt.ylabel(\"Count\")\n",
        "plt.show()"
      ],
      "metadata": {
        "id": "XAWpGniwAsAZ",
        "colab": {
          "base_uri": "https://localhost:8080/",
          "height": 472
        },
        "outputId": "72848da9-e909-4da7-e8ef-67a19dea380f"
      },
      "execution_count": 543,
      "outputs": [
        {
          "output_type": "display_data",
          "data": {
            "text/plain": [
              "<Figure size 640x480 with 1 Axes>"
            ],
            "image/png": "[encoded data removed]"
          },
          "metadata": {}
        }
      ]
    },
    {
      "cell_type": "code",
      "source": [
        "# Displaying the dataset shape after applying the SMOTE\n",
        "print(f\"Shape of X_resampled: {X_resampled.shape}\")\n",
        "print(f\"Shape of y_resampled: {y_resampled.shape}\")"
      ],
      "metadata": {
        "id": "sQ9uIU7IAt_B",
        "colab": {
          "base_uri": "https://localhost:8080/"
        },
        "outputId": "39b07e61-6952-451a-be43-132d02b5abb0"
      },
      "execution_count": 544,
      "outputs": [
        {
          "output_type": "stream",
          "name": "stdout",
          "text": [
            "Shape of X_resampled: (1272, 4)\n",
            "Shape of y_resampled: (1272,)\n"
          ]
        }
      ]
    },
    {
      "cell_type": "code",
      "source": [
        "# Standardizing the features\n",
        "scaler = StandardScaler()\n",
        "X_resampled_scaled = scaler.fit_transform(X_resampled)"
      ],
      "metadata": {
        "id": "ZL_YBbOhAvg8"
      },
      "execution_count": 545,
      "outputs": []
    },
    {
      "cell_type": "code",
      "source": [
        "# Splitting data\n",
        "X_train, X_test, y_train, y_test = train_test_split(X_resampled_scaled, y_resampled, test_size=0.2, stratify = y_resampled, random_state=42)"
      ],
      "metadata": {
        "id": "M_Aa0qUkAwvM"
      },
      "execution_count": 546,
      "outputs": []
    },
    {
      "cell_type": "code",
      "source": [
        "# Display dataset information\n",
        "print(\"Dataset Information:\")\n",
        "print(data.info())"
      ],
      "metadata": {
        "id": "plAGER8HAyYc",
        "colab": {
          "base_uri": "https://localhost:8080/"
        },
        "outputId": "0206b203-bba4-465d-b30b-fa5dde8899a7"
      },
      "execution_count": 547,
      "outputs": [
        {
          "output_type": "stream",
          "name": "stdout",
          "text": [
            "Dataset Information:\n",
            "<class 'pandas.core.frame.DataFrame'>\n",
            "RangeIndex: 1042 entries, 0 to 1041\n",
            "Data columns (total 5 columns):\n",
            " #   Column          Non-Null Count  Dtype\n",
            "---  ------          --------------  -----\n",
            " 0   IMPORTER        1042 non-null   int64\n",
            " 1   HSCODE          1042 non-null   int64\n",
            " 2   UNIT            1042 non-null   int64\n",
            " 3   DESCRIPTION_02  1042 non-null   int64\n",
            " 4   RISK            1042 non-null   int64\n",
            "dtypes: int64(5)\n",
            "memory usage: 40.8 KB\n",
            "None\n"
          ]
        }
      ]
    },
    {
      "cell_type": "markdown",
      "source": [
        "# **Building the Model**"
      ],
      "metadata": {
        "id": "tMCFvh0tA4u6"
      }
    },
    {
      "cell_type": "markdown",
      "source": [
        "## **Model based on Gradient Boost**"
      ],
      "metadata": {
        "id": "6FiSWxQ1A7c4"
      }
    },
    {
      "cell_type": "code",
      "source": [
        "# Defining Gradient Boosting Classifier\n",
        "gb = GradientBoostingClassifier()"
      ],
      "metadata": {
        "id": "cYSjzM8MBWPz"
      },
      "execution_count": 548,
      "outputs": []
    },
    {
      "cell_type": "code",
      "source": [
        "# Defining Hyperparameter Grid\n",
        "param_grid = {\n",
        "    'n_estimators': [50, 100, 200],\n",
        "    'learning_rate': [0.01, 0.1, 0.2],\n",
        "    'max_depth': [3, 4, 5],\n",
        "    'subsample': [0.8, 1.0]\n",
        "}"
      ],
      "metadata": {
        "id": "UmPe8lNzBaKv"
      },
      "execution_count": 549,
      "outputs": []
    },
    {
      "cell_type": "code",
      "source": [
        "# Performing GridSearchCV for Hyperparameter Tuning\n",
        "grid_search = GridSearchCV(gb, param_grid, cv=5, scoring='accuracy', n_jobs=-1, verbose=2)\n",
        "grid_search.fit(X_train, y_train)"
      ],
      "metadata": {
        "id": "64y9ZUHHBfUT",
        "colab": {
          "base_uri": "https://localhost:8080/",
          "height": 182
        },
        "outputId": "9708153a-d6dd-46b7-db82-2c4dafe0ac2f"
      },
      "execution_count": 550,
      "outputs": [
        {
          "output_type": "stream",
          "name": "stdout",
          "text": [
            "Fitting 5 folds for each of 54 candidates, totalling 270 fits\n"
          ]
        },
        {
          "output_type": "execute_result",
          "data": {
            "text/plain": [
              "GridSearchCV(cv=5, estimator=GradientBoostingClassifier(), n_jobs=-1,\n",
              "             param_grid={'learning_rate': [0.01, 0.1, 0.2],\n",
              "                         'max_depth': [3, 4, 5], 'n_estimators': [50, 100, 200],\n",
              "                         'subsample': [0.8, 1.0]},\n",
              "             scoring='accuracy', verbose=2)"
            ],
            "text/html": [
              "<style>#sk-container-id-8 {\n",
              "  /* Definition of color scheme common for light and dark mode */\n",
              "  --sklearn-color-text: #000;\n",
              "  --sklearn-color-text-muted: #666;\n",
              "  --sklearn-color-line: gray;\n",
              "  /* Definition of color scheme for unfitted estimators */\n",
              "  --sklearn-color-unfitted-level-0: #fff5e6;\n",
              "  --sklearn-color-unfitted-level-1: #f6e4d2;\n",
              "  --sklearn-color-unfitted-level-2: #ffe0b3;\n",
              "  --sklearn-color-unfitted-level-3: chocolate;\n",
              "  /* Definition of color scheme for fitted estimators */\n",
              "  --sklearn-color-fitted-level-0: #f0f8ff;\n",
              "  --sklearn-color-fitted-level-1: #d4ebff;\n",
              "  --sklearn-color-fitted-level-2: #b3dbfd;\n",
              "  --sklearn-color-fitted-level-3: cornflowerblue;\n",
              "\n",
              "  /* Specific color for light theme */\n",
              "  --sklearn-color-text-on-default-background: var(--sg-text-color, var(--theme-code-foreground, var(--jp-content-font-color1, black)));\n",
              "  --sklearn-color-background: var(--sg-background-color, var(--theme-background, var(--jp-layout-color0, white)));\n",
              "  --sklearn-color-border-box: var(--sg-text-color, var(--theme-code-foreground, var(--jp-content-font-color1, black)));\n",
              "  --sklearn-color-icon: #696969;\n",
              "\n",
              "  @media (prefers-color-scheme: dark) {\n",
              "    /* Redefinition of color scheme for dark theme */\n",
              "    --sklearn-color-text-on-default-background: var(--sg-text-color, var(--theme-code-foreground, var(--jp-content-font-color1, white)));\n",
              "    --sklearn-color-background: var(--sg-background-color, var(--theme-background, var(--jp-layout-color0, #111)));\n",
              "    --sklearn-color-border-box: var(--sg-text-color, var(--theme-code-foreground, var(--jp-content-font-color1, white)));\n",
              "    --sklearn-color-icon: #878787;\n",
              "  }\n",
              "}\n",
              "\n",
              "#sk-container-id-8 {\n",
              "  color: var(--sklearn-color-text);\n",
              "}\n",
              "\n",
              "#sk-container-id-8 pre {\n",
              "  padding: 0;\n",
              "}\n",
              "\n",
              "#sk-container-id-8 input.sk-hidden--visually {\n",
              "  border: 0;\n",
              "  clip: rect(1px 1px 1px 1px);\n",
              "  clip: rect(1px, 1px, 1px, 1px);\n",
              "  height: 1px;\n",
              "  margin: -1px;\n",
              "  overflow: hidden;\n",
              "  padding: 0;\n",
              "  position: absolute;\n",
              "  width: 1px;\n",
              "}\n",
              "\n",
              "#sk-container-id-8 div.sk-dashed-wrapped {\n",
              "  border: 1px dashed var(--sklearn-color-line);\n",
              "  margin: 0 0.4em 0.5em 0.4em;\n",
              "  box-sizing: border-box;\n",
              "  padding-bottom: 0.4em;\n",
              "  background-color: var(--sklearn-color-background);\n",
              "}\n",
              "\n",
              "#sk-container-id-8 div.sk-container {\n",
              "  /* jupyter's `normalize.less` sets `[hidden] { display: none; }`\n",
              "     but bootstrap.min.css set `[hidden] { display: none !important; }`\n",
              "     so we also need the `!important` here to be able to override the\n",
              "     default hidden behavior on the sphinx rendered scikit-learn.org.\n",
              "     See: https://github.com/scikit-learn/scikit-learn/issues/21755 */\n",
              "  display: inline-block !important;\n",
              "  position: relative;\n",
              "}\n",
              "\n",
              "#sk-container-id-8 div.sk-text-repr-fallback {\n",
              "  display: none;\n",
              "}\n",
              "\n",
              "div.sk-parallel-item,\n",
              "div.sk-serial,\n",
              "div.sk-item {\n",
              "  /* draw centered vertical line to link estimators */\n",
              "  background-image: linear-gradient(var(--sklearn-color-text-on-default-background), var(--sklearn-color-text-on-default-background));\n",
              "  background-size: 2px 100%;\n",
              "  background-repeat: no-repeat;\n",
              "  background-position: center center;\n",
              "}\n",
              "\n",
              "/* Parallel-specific style estimator block */\n",
              "\n",
              "#sk-container-id-8 div.sk-parallel-item::after {\n",
              "  content: \"\";\n",
              "  width: 100%;\n",
              "  border-bottom: 2px solid var(--sklearn-color-text-on-default-background);\n",
              "  flex-grow: 1;\n",
              "}\n",
              "\n",
              "#sk-container-id-8 div.sk-parallel {\n",
              "  display: flex;\n",
              "  align-items: stretch;\n",
              "  justify-content: center;\n",
              "  background-color: var(--sklearn-color-background);\n",
              "  position: relative;\n",
              "}\n",
              "\n",
              "#sk-container-id-8 div.sk-parallel-item {\n",
              "  display: flex;\n",
              "  flex-direction: column;\n",
              "}\n",
              "\n",
              "#sk-container-id-8 div.sk-parallel-item:first-child::after {\n",
              "  align-self: flex-end;\n",
              "  width: 50%;\n",
              "}\n",
              "\n",
              "#sk-container-id-8 div.sk-parallel-item:last-child::after {\n",
              "  align-self: flex-start;\n",
              "  width: 50%;\n",
              "}\n",
              "\n",
              "#sk-container-id-8 div.sk-parallel-item:only-child::after {\n",
              "  width: 0;\n",
              "}\n",
              "\n",
              "/* Serial-specific style estimator block */\n",
              "\n",
              "#sk-container-id-8 div.sk-serial {\n",
              "  display: flex;\n",
              "  flex-direction: column;\n",
              "  align-items: center;\n",
              "  background-color: var(--sklearn-color-background);\n",
              "  padding-right: 1em;\n",
              "  padding-left: 1em;\n",
              "}\n",
              "\n",
              "\n",
              "/* Toggleable style: style used for estimator/Pipeline/ColumnTransformer box that is\n",
              "clickable and can be expanded/collapsed.\n",
              "- Pipeline and ColumnTransformer use this feature and define the default style\n",
              "- Estimators will overwrite some part of the style using the `sk-estimator` class\n",
              "*/\n",
              "\n",
              "/* Pipeline and ColumnTransformer style (default) */\n",
              "\n",
              "#sk-container-id-8 div.sk-toggleable {\n",
              "  /* Default theme specific background. It is overwritten whether we have a\n",
              "  specific estimator or a Pipeline/ColumnTransformer */\n",
              "  background-color: var(--sklearn-color-background);\n",
              "}\n",
              "\n",
              "/* Toggleable label */\n",
              "#sk-container-id-8 label.sk-toggleable__label {\n",
              "  cursor: pointer;\n",
              "  display: flex;\n",
              "  width: 100%;\n",
              "  margin-bottom: 0;\n",
              "  padding: 0.5em;\n",
              "  box-sizing: border-box;\n",
              "  text-align: center;\n",
              "  align-items: start;\n",
              "  justify-content: space-between;\n",
              "  gap: 0.5em;\n",
              "}\n",
              "\n",
              "#sk-container-id-8 label.sk-toggleable__label .caption {\n",
              "  font-size: 0.6rem;\n",
              "  font-weight: lighter;\n",
              "  color: var(--sklearn-color-text-muted);\n",
              "}\n",
              "\n",
              "#sk-container-id-8 label.sk-toggleable__label-arrow:before {\n",
              "  /* Arrow on the left of the label */\n",
              "  content: \"▸\";\n",
              "  float: left;\n",
              "  margin-right: 0.25em;\n",
              "  color: var(--sklearn-color-icon);\n",
              "}\n",
              "\n",
              "#sk-container-id-8 label.sk-toggleable__label-arrow:hover:before {\n",
              "  color: var(--sklearn-color-text);\n",
              "}\n",
              "\n",
              "/* Toggleable content - dropdown */\n",
              "\n",
              "#sk-container-id-8 div.sk-toggleable__content {\n",
              "  max-height: 0;\n",
              "  max-width: 0;\n",
              "  overflow: hidden;\n",
              "  text-align: left;\n",
              "  /* unfitted */\n",
              "  background-color: var(--sklearn-color-unfitted-level-0);\n",
              "}\n",
              "\n",
              "#sk-container-id-8 div.sk-toggleable__content.fitted {\n",
              "  /* fitted */\n",
              "  background-color: var(--sklearn-color-fitted-level-0);\n",
              "}\n",
              "\n",
              "#sk-container-id-8 div.sk-toggleable__content pre {\n",
              "  margin: 0.2em;\n",
              "  border-radius: 0.25em;\n",
              "  color: var(--sklearn-color-text);\n",
              "  /* unfitted */\n",
              "  background-color: var(--sklearn-color-unfitted-level-0);\n",
              "}\n",
              "\n",
              "#sk-container-id-8 div.sk-toggleable__content.fitted pre {\n",
              "  /* unfitted */\n",
              "  background-color: var(--sklearn-color-fitted-level-0);\n",
              "}\n",
              "\n",
              "#sk-container-id-8 input.sk-toggleable__control:checked~div.sk-toggleable__content {\n",
              "  /* Expand drop-down */\n",
              "  max-height: 200px;\n",
              "  max-width: 100%;\n",
              "  overflow: auto;\n",
              "}\n",
              "\n",
              "#sk-container-id-8 input.sk-toggleable__control:checked~label.sk-toggleable__label-arrow:before {\n",
              "  content: \"▾\";\n",
              "}\n",
              "\n",
              "/* Pipeline/ColumnTransformer-specific style */\n",
              "\n",
              "#sk-container-id-8 div.sk-label input.sk-toggleable__control:checked~label.sk-toggleable__label {\n",
              "  color: var(--sklearn-color-text);\n",
              "  background-color: var(--sklearn-color-unfitted-level-2);\n",
              "}\n",
              "\n",
              "#sk-container-id-8 div.sk-label.fitted input.sk-toggleable__control:checked~label.sk-toggleable__label {\n",
              "  background-color: var(--sklearn-color-fitted-level-2);\n",
              "}\n",
              "\n",
              "/* Estimator-specific style */\n",
              "\n",
              "/* Colorize estimator box */\n",
              "#sk-container-id-8 div.sk-estimator input.sk-toggleable__control:checked~label.sk-toggleable__label {\n",
              "  /* unfitted */\n",
              "  background-color: var(--sklearn-color-unfitted-level-2);\n",
              "}\n",
              "\n",
              "#sk-container-id-8 div.sk-estimator.fitted input.sk-toggleable__control:checked~label.sk-toggleable__label {\n",
              "  /* fitted */\n",
              "  background-color: var(--sklearn-color-fitted-level-2);\n",
              "}\n",
              "\n",
              "#sk-container-id-8 div.sk-label label.sk-toggleable__label,\n",
              "#sk-container-id-8 div.sk-label label {\n",
              "  /* The background is the default theme color */\n",
              "  color: var(--sklearn-color-text-on-default-background);\n",
              "}\n",
              "\n",
              "/* On hover, darken the color of the background */\n",
              "#sk-container-id-8 div.sk-label:hover label.sk-toggleable__label {\n",
              "  color: var(--sklearn-color-text);\n",
              "  background-color: var(--sklearn-color-unfitted-level-2);\n",
              "}\n",
              "\n",
              "/* Label box, darken color on hover, fitted */\n",
              "#sk-container-id-8 div.sk-label.fitted:hover label.sk-toggleable__label.fitted {\n",
              "  color: var(--sklearn-color-text);\n",
              "  background-color: var(--sklearn-color-fitted-level-2);\n",
              "}\n",
              "\n",
              "/* Estimator label */\n",
              "\n",
              "#sk-container-id-8 div.sk-label label {\n",
              "  font-family: monospace;\n",
              "  font-weight: bold;\n",
              "  display: inline-block;\n",
              "  line-height: 1.2em;\n",
              "}\n",
              "\n",
              "#sk-container-id-8 div.sk-label-container {\n",
              "  text-align: center;\n",
              "}\n",
              "\n",
              "/* Estimator-specific */\n",
              "#sk-container-id-8 div.sk-estimator {\n",
              "  font-family: monospace;\n",
              "  border: 1px dotted var(--sklearn-color-border-box);\n",
              "  border-radius: 0.25em;\n",
              "  box-sizing: border-box;\n",
              "  margin-bottom: 0.5em;\n",
              "  /* unfitted */\n",
              "  background-color: var(--sklearn-color-unfitted-level-0);\n",
              "}\n",
              "\n",
              "#sk-container-id-8 div.sk-estimator.fitted {\n",
              "  /* fitted */\n",
              "  background-color: var(--sklearn-color-fitted-level-0);\n",
              "}\n",
              "\n",
              "/* on hover */\n",
              "#sk-container-id-8 div.sk-estimator:hover {\n",
              "  /* unfitted */\n",
              "  background-color: var(--sklearn-color-unfitted-level-2);\n",
              "}\n",
              "\n",
              "#sk-container-id-8 div.sk-estimator.fitted:hover {\n",
              "  /* fitted */\n",
              "  background-color: var(--sklearn-color-fitted-level-2);\n",
              "}\n",
              "\n",
              "/* Specification for estimator info (e.g. \"i\" and \"?\") */\n",
              "\n",
              "/* Common style for \"i\" and \"?\" */\n",
              "\n",
              ".sk-estimator-doc-link,\n",
              "a:link.sk-estimator-doc-link,\n",
              "a:visited.sk-estimator-doc-link {\n",
              "  float: right;\n",
              "  font-size: smaller;\n",
              "  line-height: 1em;\n",
              "  font-family: monospace;\n",
              "  background-color: var(--sklearn-color-background);\n",
              "  border-radius: 1em;\n",
              "  height: 1em;\n",
              "  width: 1em;\n",
              "  text-decoration: none !important;\n",
              "  margin-left: 0.5em;\n",
              "  text-align: center;\n",
              "  /* unfitted */\n",
              "  border: var(--sklearn-color-unfitted-level-1) 1pt solid;\n",
              "  color: var(--sklearn-color-unfitted-level-1);\n",
              "}\n",
              "\n",
              ".sk-estimator-doc-link.fitted,\n",
              "a:link.sk-estimator-doc-link.fitted,\n",
              "a:visited.sk-estimator-doc-link.fitted {\n",
              "  /* fitted */\n",
              "  border: var(--sklearn-color-fitted-level-1) 1pt solid;\n",
              "  color: var(--sklearn-color-fitted-level-1);\n",
              "}\n",
              "\n",
              "/* On hover */\n",
              "div.sk-estimator:hover .sk-estimator-doc-link:hover,\n",
              ".sk-estimator-doc-link:hover,\n",
              "div.sk-label-container:hover .sk-estimator-doc-link:hover,\n",
              ".sk-estimator-doc-link:hover {\n",
              "  /* unfitted */\n",
              "  background-color: var(--sklearn-color-unfitted-level-3);\n",
              "  color: var(--sklearn-color-background);\n",
              "  text-decoration: none;\n",
              "}\n",
              "\n",
              "div.sk-estimator.fitted:hover .sk-estimator-doc-link.fitted:hover,\n",
              ".sk-estimator-doc-link.fitted:hover,\n",
              "div.sk-label-container:hover .sk-estimator-doc-link.fitted:hover,\n",
              ".sk-estimator-doc-link.fitted:hover {\n",
              "  /* fitted */\n",
              "  background-color: var(--sklearn-color-fitted-level-3);\n",
              "  color: var(--sklearn-color-background);\n",
              "  text-decoration: none;\n",
              "}\n",
              "\n",
              "/* Span, style for the box shown on hovering the info icon */\n",
              ".sk-estimator-doc-link span {\n",
              "  display: none;\n",
              "  z-index: 9999;\n",
              "  position: relative;\n",
              "  font-weight: normal;\n",
              "  right: .2ex;\n",
              "  padding: .5ex;\n",
              "  margin: .5ex;\n",
              "  width: min-content;\n",
              "  min-width: 20ex;\n",
              "  max-width: 50ex;\n",
              "  color: var(--sklearn-color-text);\n",
              "  box-shadow: 2pt 2pt 4pt #999;\n",
              "  /* unfitted */\n",
              "  background: var(--sklearn-color-unfitted-level-0);\n",
              "  border: .5pt solid var(--sklearn-color-unfitted-level-3);\n",
              "}\n",
              "\n",
              ".sk-estimator-doc-link.fitted span {\n",
              "  /* fitted */\n",
              "  background: var(--sklearn-color-fitted-level-0);\n",
              "  border: var(--sklearn-color-fitted-level-3);\n",
              "}\n",
              "\n",
              ".sk-estimator-doc-link:hover span {\n",
              "  display: block;\n",
              "}\n",
              "\n",
              "/* \"?\"-specific style due to the `<a>` HTML tag */\n",
              "\n",
              "#sk-container-id-8 a.estimator_doc_link {\n",
              "  float: right;\n",
              "  font-size: 1rem;\n",
              "  line-height: 1em;\n",
              "  font-family: monospace;\n",
              "  background-color: var(--sklearn-color-background);\n",
              "  border-radius: 1rem;\n",
              "  height: 1rem;\n",
              "  width: 1rem;\n",
              "  text-decoration: none;\n",
              "  /* unfitted */\n",
              "  color: var(--sklearn-color-unfitted-level-1);\n",
              "  border: var(--sklearn-color-unfitted-level-1) 1pt solid;\n",
              "}\n",
              "\n",
              "#sk-container-id-8 a.estimator_doc_link.fitted {\n",
              "  /* fitted */\n",
              "  border: var(--sklearn-color-fitted-level-1) 1pt solid;\n",
              "  color: var(--sklearn-color-fitted-level-1);\n",
              "}\n",
              "\n",
              "/* On hover */\n",
              "#sk-container-id-8 a.estimator_doc_link:hover {\n",
              "  /* unfitted */\n",
              "  background-color: var(--sklearn-color-unfitted-level-3);\n",
              "  color: var(--sklearn-color-background);\n",
              "  text-decoration: none;\n",
              "}\n",
              "\n",
              "#sk-container-id-8 a.estimator_doc_link.fitted:hover {\n",
              "  /* fitted */\n",
              "  background-color: var(--sklearn-color-fitted-level-3);\n",
              "}\n",
              "</style><div id=\"sk-container-id-8\" class=\"sk-top-container\"><div class=\"sk-text-repr-fallback\"><pre>GridSearchCV(cv=5, estimator=GradientBoostingClassifier(), n_jobs=-1,\n",
              "             param_grid={&#x27;learning_rate&#x27;: [0.01, 0.1, 0.2],\n",
              "                         &#x27;max_depth&#x27;: [3, 4, 5], &#x27;n_estimators&#x27;: [50, 100, 200],\n",
              "                         &#x27;subsample&#x27;: [0.8, 1.0]},\n",
              "             scoring=&#x27;accuracy&#x27;, verbose=2)</pre><b>In a Jupyter environment, please rerun this cell to show the HTML representation or trust the notebook. <br />On GitHub, the HTML representation is unable to render, please try loading this page with nbviewer.org.</b></div><div class=\"sk-container\" hidden><div class=\"sk-item sk-dashed-wrapped\"><div class=\"sk-label-container\"><div class=\"sk-label fitted sk-toggleable\"><input class=\"sk-toggleable__control sk-hidden--visually\" id=\"sk-estimator-id-22\" type=\"checkbox\" ><label for=\"sk-estimator-id-22\" class=\"sk-toggleable__label fitted sk-toggleable__label-arrow\"><div><div>GridSearchCV</div></div><div><a class=\"sk-estimator-doc-link fitted\" rel=\"noreferrer\" target=\"_blank\" href=\"https://scikit-learn.org/1.6/modules/generated/sklearn.model_selection.GridSearchCV.html\">?<span>Documentation for GridSearchCV</span></a><span class=\"sk-estimator-doc-link fitted\">i<span>Fitted</span></span></div></label><div class=\"sk-toggleable__content fitted\"><pre>GridSearchCV(cv=5, estimator=GradientBoostingClassifier(), n_jobs=-1,\n",
              "             param_grid={&#x27;learning_rate&#x27;: [0.01, 0.1, 0.2],\n",
              "                         &#x27;max_depth&#x27;: [3, 4, 5], &#x27;n_estimators&#x27;: [50, 100, 200],\n",
              "                         &#x27;subsample&#x27;: [0.8, 1.0]},\n",
              "             scoring=&#x27;accuracy&#x27;, verbose=2)</pre></div> </div></div><div class=\"sk-parallel\"><div class=\"sk-parallel-item\"><div class=\"sk-item\"><div class=\"sk-label-container\"><div class=\"sk-label fitted sk-toggleable\"><input class=\"sk-toggleable__control sk-hidden--visually\" id=\"sk-estimator-id-23\" type=\"checkbox\" ><label for=\"sk-estimator-id-23\" class=\"sk-toggleable__label fitted sk-toggleable__label-arrow\"><div><div>best_estimator_: GradientBoostingClassifier</div></div></label><div class=\"sk-toggleable__content fitted\"><pre>GradientBoostingClassifier(subsample=0.8)</pre></div> </div></div><div class=\"sk-serial\"><div class=\"sk-item\"><div class=\"sk-estimator fitted sk-toggleable\"><input class=\"sk-toggleable__control sk-hidden--visually\" id=\"sk-estimator-id-24\" type=\"checkbox\" ><label for=\"sk-estimator-id-24\" class=\"sk-toggleable__label fitted sk-toggleable__label-arrow\"><div><div>GradientBoostingClassifier</div></div><div><a class=\"sk-estimator-doc-link fitted\" rel=\"noreferrer\" target=\"_blank\" href=\"https://scikit-learn.org/1.6/modules/generated/sklearn.ensemble.GradientBoostingClassifier.html\">?<span>Documentation for GradientBoostingClassifier</span></a></div></label><div class=\"sk-toggleable__content fitted\"><pre>GradientBoostingClassifier(subsample=0.8)</pre></div> </div></div></div></div></div></div></div></div></div>"
            ]
          },
          "metadata": {},
          "execution_count": 550
        }
      ]
    },
    {
      "cell_type": "code",
      "source": [
        "# Getting Best Model\n",
        "best_gb_model = grid_search.best_estimator_\n",
        "print(f\"Best Parameters: {grid_search.best_params_}\")"
      ],
      "metadata": {
        "id": "1ikoT8zRBj7a",
        "colab": {
          "base_uri": "https://localhost:8080/"
        },
        "outputId": "010f9591-220b-4820-bd44-e3ad9ada035c"
      },
      "execution_count": 551,
      "outputs": [
        {
          "output_type": "stream",
          "name": "stdout",
          "text": [
            "Best Parameters: {'learning_rate': 0.1, 'max_depth': 3, 'n_estimators': 100, 'subsample': 0.8}\n"
          ]
        }
      ]
    },
    {
      "cell_type": "code",
      "source": [
        "# Evaluating Model on Test Data\n",
        "y_pred = best_gb_model.predict(X_test)\n",
        "print(\"\\nAccuracy:\", accuracy_score(y_test, y_pred))\n",
        "print(\"\\nConfusion Matrix:\\n\", confusion_matrix(y_test, y_pred))\n",
        "print(\"\\nClassification Report:\\n\", classification_report(y_test, y_pred))"
      ],
      "metadata": {
        "id": "wKFVOG0nBnFF",
        "colab": {
          "base_uri": "https://localhost:8080/"
        },
        "outputId": "813faf88-0f26-4440-d90b-f8af1ae7c23b"
      },
      "execution_count": 552,
      "outputs": [
        {
          "output_type": "stream",
          "name": "stdout",
          "text": [
            "\n",
            "Accuracy: 0.8117647058823529\n",
            "\n",
            "Confusion Matrix:\n",
            " [[105  23]\n",
            " [ 25 102]]\n",
            "\n",
            "Classification Report:\n",
            "               precision    recall  f1-score   support\n",
            "\n",
            "           0       0.81      0.82      0.81       128\n",
            "           1       0.82      0.80      0.81       127\n",
            "\n",
            "    accuracy                           0.81       255\n",
            "   macro avg       0.81      0.81      0.81       255\n",
            "weighted avg       0.81      0.81      0.81       255\n",
            "\n"
          ]
        }
      ]
    },
    {
      "cell_type": "code",
      "source": [
        "from sklearn.model_selection import StratifiedKFold, cross_val_score\n",
        "\n",
        "cv = StratifiedKFold(n_splits=5, shuffle=True, random_state=42)\n",
        "scores = cross_val_score(best_gb_model, X, y, cv=cv, n_jobs=-1)\n",
        "\n",
        "print(f\"Cross-validation accuracy: {scores.mean():.2f}\")"
      ],
      "metadata": {
        "id": "fXXQhgHaBrBK",
        "colab": {
          "base_uri": "https://localhost:8080/"
        },
        "outputId": "b35cc602-5108-44e0-e121-ba9e3f6b4ef6"
      },
      "execution_count": 553,
      "outputs": [
        {
          "output_type": "stream",
          "name": "stdout",
          "text": [
            "Cross-validation accuracy: 0.83\n"
          ]
        }
      ]
    },
    {
      "cell_type": "code",
      "source": [
        "# Get feature importance\n",
        "feature_importance = best_gb_model.feature_importances_\n",
        "\n",
        "# Plot Feature Importance\n",
        "plt.figure(figsize=(10, 6))\n",
        "sns.barplot(x=feature_importance, y=X.columns)\n",
        "plt.xlabel(\"Importance\")\n",
        "plt.ylabel(\"Feature\")\n",
        "plt.title(\"Feature Importance in Gradient Boosting\")\n",
        "plt.show()"
      ],
      "metadata": {
        "id": "4D-Uv2TFDYws",
        "colab": {
          "base_uri": "https://localhost:8080/",
          "height": 564
        },
        "outputId": "a6e09c4b-6d52-47ae-ec15-67e2b399670b"
      },
      "execution_count": 554,
      "outputs": [
        {
          "output_type": "display_data",
          "data": {
            "text/plain": [
              "<Figure size 1000x600 with 1 Axes>"
            ],
            "image/png": "[encoded data removed]"
          },
          "metadata": {}
        }
      ]
    },
    {
      "cell_type": "code",
      "source": [
        "import joblib\n",
        "\n",
        "# Saving the trained scaler\n",
        "joblib.dump(scaler, '/content/drive/MyDrive/Comprehensive_Chemical_Risk_Prediction_Model/scaler_gb.pkl')\n",
        "\n",
        "# Saving the trained Gradient Boosting Model\n",
        "joblib.dump(best_gb_model, '/content/drive/MyDrive/Comprehensive_Chemical_Risk_Prediction_Model/gb_model_class.pkl')\n",
        "\n",
        "print(\"Gradient Boosting model and scaler saved successfully!\")"
      ],
      "metadata": {
        "colab": {
          "base_uri": "https://localhost:8080/"
        },
        "id": "iI1o9NHG4wqY",
        "outputId": "c4296673-d7eb-4e37-b5c6-6e1c66980e63"
      },
      "execution_count": 555,
      "outputs": [
        {
          "output_type": "stream",
          "name": "stdout",
          "text": [
            "Gradient Boosting model and scaler saved successfully!\n"
          ]
        }
      ]
    },
    {
      "cell_type": "code",
      "source": [
        "import joblib\n",
        "\n",
        "# Loading the Scaler\n",
        "scaler = joblib.load('/content/drive/MyDrive/Comprehensive_Chemical_Risk_Prediction_Model/scaler_gb.pkl')\n",
        "\n",
        "# Loading the trained Gradient Boosting Model\n",
        "gb_model_class = joblib.load('/content/drive/MyDrive/Comprehensive_Chemical_Risk_Prediction_Model/gb_model_class.pkl')\n",
        "\n",
        "print(\"Gradient Boosting model and scaler loaded successfully!\")\n",
        "\n",
        "# Checking the number of features in the scaler\n",
        "print(f\"Number of features in the scaler: {scaler.n_features_in_}\")"
      ],
      "metadata": {
        "colab": {
          "base_uri": "https://localhost:8080/"
        },
        "id": "WsrRK5ks5LIT",
        "outputId": "54cf2b26-52e4-4773-f6ba-01b7a1fe3097"
      },
      "execution_count": 556,
      "outputs": [
        {
          "output_type": "stream",
          "name": "stdout",
          "text": [
            "Gradient Boosting model and scaler loaded successfully!\n",
            "Number of features in the scaler: 4\n"
          ]
        }
      ]
    },
    {
      "cell_type": "code",
      "source": [
        "import numpy as np\n",
        "import joblib\n",
        "import warnings\n",
        "\n",
        "# Suppress the specific warning\n",
        "warnings.filterwarnings(\"ignore\", message=\"X does not have valid feature names\")\n",
        "\n",
        "# Load encoders\n",
        "description_03_encoder = joblib.load('encoded_DESCRIPTION_03.pkl')\n",
        "hscode_encoder = joblib.load('encoded_HSCODE.pkl')\n",
        "country_encoder = joblib.load('encoded_COUNTRY.pkl')\n",
        "unit_encoder = joblib.load('encoded_UNIT.pkl')\n",
        "\n",
        "# Function to encode inputs\n",
        "def encode_inputs(country, hscode, description, quantity):\n",
        "    try:\n",
        "        # Encoding the inputs using the appropriate encoder for each feature\n",
        "        country_encoded = country_encoder.transform([country])[0] if country in country_encoder.classes_ else len(country_encoder.classes_)\n",
        "        description_encoded = description_03_encoder.transform([description])[0] if description in description_03_encoder.classes_ else len(description_03_encoder.classes_)\n",
        "        hscode_encoded = hscode_encoder.transform([hscode])[0] if hscode in hscode_encoder.classes_ else len(hscode_encoder.classes_)\n",
        "\n",
        "        # Using the 4 relevant features: country, hscode, description, quantity\n",
        "        return (country_encoded, hscode_encoded, description_encoded, quantity)\n",
        "    except Exception as e:\n",
        "        raise ValueError(f\"Encoding failed: {e}\")\n",
        "\n",
        "# Main function\n",
        "def main():\n",
        "    try:\n",
        "        # User inputs\n",
        "        importer = input(\"Enter importer: \").capitalize()\n",
        "        year = int(input(\"Enter year: \"))\n",
        "        month = input(\"Enter month: \").capitalize()\n",
        "        country = input(\"Enter country: \").upper()\n",
        "        description = input(\"Enter description: \").capitalize()\n",
        "        quantity = float(input(\"Enter quantity: \"))\n",
        "        value = float(input(\"Enter value: \"))\n",
        "        hscode = int(input(\"Enter HS code: \"))\n",
        "        unit = input(\"Enter unit: \").upper()\n",
        "\n",
        "        # Encode inputs (now including country)\n",
        "        features = np.array(encode_inputs(country, hscode, description, quantity)).reshape(1, -1)\n",
        "\n",
        "        # Scale features using the loaded scaler\n",
        "        features_scaled = scaler.transform(features)\n",
        "\n",
        "        # Predict risk classification using the model\n",
        "        prediction = best_gb_model.predict(features_scaled)\n",
        "        classification = 'risky' if prediction == 1 else 'not risky'\n",
        "\n",
        "        # Output result\n",
        "        print(f\"Classification: {classification}\")\n",
        "\n",
        "    except Exception as e:\n",
        "        print(f\"Error: {e}\")\n",
        "\n",
        "if __name__ == \"__main__\":\n",
        "    main()"
      ],
      "metadata": {
        "colab": {
          "base_uri": "https://localhost:8080/"
        },
        "id": "o9q9JGZ69vcV",
        "outputId": "d04b6e2f-1067-4fe4-8896-5181c0921719"
      },
      "execution_count": 557,
      "outputs": [
        {
          "output_type": "stream",
          "name": "stdout",
          "text": [
            "Enter importer: Shabna Inc\n",
            "Enter year: 2019\n",
            "Enter month: JUNE\n",
            "Enter country: INDIA\n",
            "Enter description: Chlorine\n",
            "Enter quantity: 20\n",
            "Enter value: 2000\n",
            "Enter HS code: 2801100000\n",
            "Enter unit: KG\n",
            "Classification: risky\n"
          ]
        }
      ]
    },
    {
      "cell_type": "markdown",
      "source": [
        "# **Model Based on LightGBM**"
      ],
      "metadata": {
        "id": "LLPamQVpq7py"
      }
    },
    {
      "cell_type": "code",
      "source": [
        "# Importing the required libraries\n",
        "import lightgbm as lgb\n",
        "import numpy as np\n",
        "import pandas as pd\n",
        "from sklearn.model_selection import train_test_split, GridSearchCV, StratifiedKFold\n",
        "from sklearn.metrics import accuracy_score"
      ],
      "metadata": {
        "id": "fz4QF4GhrP15"
      },
      "execution_count": 559,
      "outputs": []
    },
    {
      "cell_type": "code",
      "source": [
        "# Defining the LightGBM model\n",
        "model = lgb.LGBMClassifier()"
      ],
      "metadata": {
        "id": "CtNyxX3qrEj6"
      },
      "execution_count": null,
      "outputs": []
    },
    {
      "cell_type": "code",
      "source": [
        "# Defining hyperparameter grid\n",
        "param_grid = {\n",
        "    'n_estimators': [100, 200, 300],\n",
        "    'learning_rate': [0.01, 0.05, 0.1],\n",
        "    'max_depth': [-1, 3, 5],\n",
        "    'num_leaves': [20, 31, 40],\n",
        "    'subsample': [0.7, 0.8, 1.0],\n",
        "    'colsample_bytree': [0.7, 0.8, 1.0]\n",
        "}"
      ],
      "metadata": {
        "id": "9_34JfDGrL06"
      },
      "execution_count": null,
      "outputs": []
    },
    {
      "cell_type": "code",
      "source": [
        "# Using Stratified K-Fold Cross Validation\n",
        "cv = StratifiedKFold(n_splits=5, shuffle=True, random_state=42)"
      ],
      "metadata": {
        "id": "_-YgzWm_rVhz"
      },
      "execution_count": null,
      "outputs": []
    },
    {
      "cell_type": "code",
      "source": [
        "# Performing Grid Search to find best hyperparameters\n",
        "grid_search = GridSearchCV(model, param_grid, cv=cv, n_jobs=-1, scoring='accuracy')\n",
        "grid_search.fit(X_train, y_train)"
      ],
      "metadata": {
        "id": "sbVNNG95rYJ2"
      },
      "execution_count": null,
      "outputs": []
    },
    {
      "cell_type": "code",
      "source": [
        "# Training the best model\n",
        "best_lgb_model = grid_search.best_estimator_"
      ],
      "metadata": {
        "id": "9oRqQXUhrbVp"
      },
      "execution_count": null,
      "outputs": []
    },
    {
      "cell_type": "code",
      "source": [
        "# Evaluating on the test set\n",
        "y_pred = best_lgb_model.predict(X_test)\n",
        "accuracy = accuracy_score(y_test, y_pred)"
      ],
      "metadata": {
        "id": "Xa_qxkC_rder"
      },
      "execution_count": null,
      "outputs": []
    },
    {
      "cell_type": "code",
      "source": [
        "# Displaying the results\n",
        "print(\"Best LightGBM Parameters:\", grid_search.best_params_)\n",
        "print(f\"Cross-validation Accuracy: {grid_search.best_score_:.2f}\")\n",
        "print(f\"Test Accuracy: {accuracy:.2f}\")"
      ],
      "metadata": {
        "id": "zJf3FUSerfjl"
      },
      "execution_count": null,
      "outputs": []
    },
    {
      "cell_type": "code",
      "source": [
        "# Get feature importance\n",
        "feature_importance = best_lgb_model.feature_importances_\n",
        "\n",
        "# Plot Feature Importance\n",
        "plt.figure(figsize=(10, 6))\n",
        "sns.barplot(x=feature_importance, y=X.columns)\n",
        "plt.xlabel(\"Importance\")\n",
        "plt.ylabel(\"Feature\")\n",
        "plt.title(\"Feature Importance in Gradient Boosting\")\n",
        "plt.show()"
      ],
      "metadata": {
        "id": "7aGc_3ap1wqR"
      },
      "execution_count": null,
      "outputs": []
    },
    {
      "cell_type": "code",
      "source": [
        "import joblib\n",
        "\n",
        "# Saving the trained scaler\n",
        "joblib.dump(scaler, '/content/drive/MyDrive/Comprehensive_Chemical_Risk_Prediction_Model/scaler_lgb.pkl')\n",
        "\n",
        "# Saving the trained LightGBM Model\n",
        "joblib.dump(best_lgb_model, '/content/drive/MyDrive/Comprehensive_Chemical_Risk_Prediction_Model/lightgbm_model.pkl')\n",
        "\n",
        "print(\"LightGBM model and scaler saved successfully!\")"
      ],
      "metadata": {
        "id": "TVCJ7I61heEY"
      },
      "execution_count": null,
      "outputs": []
    },
    {
      "cell_type": "code",
      "source": [
        "import joblib\n",
        "\n",
        "# Loading the Scaler\n",
        "scaler = joblib.load('/content/drive/MyDrive/Comprehensive_Chemical_Risk_Prediction_Model/scaler_lgb.pkl')\n",
        "\n",
        "# Loading the trained LightGBM Model\n",
        "best_lgb_model = joblib.load('/content/drive/MyDrive/Comprehensive_Chemical_Risk_Prediction_Model/lightgbm_model.pkl')\n",
        "\n",
        "print(\"LightGBM model and scaler loaded successfully!\")\n",
        "\n",
        "# Checking the number of features in the scaler\n",
        "print(f\"Number of features in the scaler: {scaler.n_features_in_}\")"
      ],
      "metadata": {
        "id": "ehq-PHXihkfw"
      },
      "execution_count": null,
      "outputs": []
    },
    {
      "cell_type": "code",
      "source": [
        "import numpy as np\n",
        "import joblib\n",
        "import warnings\n",
        "import lightgbm as lgb\n",
        "\n",
        "# Suppress the specific warning\n",
        "warnings.filterwarnings(\"ignore\", message=\"X does not have valid feature names\")\n",
        "\n",
        "# Load encoders\n",
        "importer_encoder = joblib.load('encoded_IMPORTER.pkl')\n",
        "description_01_encoder = joblib.load('encoded_DESCRIPTION_01.pkl')\n",
        "hscode_encoder = joblib.load('encoded_HSCODE.pkl')\n",
        "country_encoder = joblib.load('encoded_COUNTRY.pkl')\n",
        "unit_encoder = joblib.load('encoded_UNIT.pkl')\n",
        "\n",
        "\n",
        "# Function to encode inputs\n",
        "def encode_inputs(importer, hscode, description, quantity):\n",
        "    try:\n",
        "        importer_encoded = importer_encoder.transform([importer])[0] if importer in importer_encoder.classes_ else len(importer_encoder.classes_)\n",
        "        description_encoded = description_01_encoder.transform([description])[0] if description in description_01_encoder.classes_ else len(description_01_encoder.classes_)\n",
        "        hscode_encoded = hscode_encoder.transform([hscode])[0] if hscode in hscode_encoder.classes_ else len(hscode_encoder.classes_)\n",
        "\n",
        "        # Only using the 4 relevant features: importer, hscode, description, quantity\n",
        "        return (importer_encoded, hscode_encoded, description_encoded, quantity)\n",
        "    except Exception as e:\n",
        "        raise ValueError(f\"Encoding failed: {e}\")\n",
        "\n",
        "# Main function\n",
        "def main():\n",
        "    try:\n",
        "        # User inputs\n",
        "        importer = input(\"Enter importer: \").capitalize()\n",
        "        year = int(input(\"Enter year: \"))\n",
        "        month = input(\"Enter month: \").capitalize()\n",
        "        country = input(\"Enter country: \").upper()\n",
        "        description = input(\"Enter description: \").capitalize()\n",
        "        quantity = float(input(\"Enter quantity: \"))\n",
        "        value = float(input(\"Enter value: \"))\n",
        "        hscode = int(input(\"Enter HS code: \"))\n",
        "        unit = input(\"Enter unit: \").upper()\n",
        "\n",
        "        # Encode inputs (we now use only the 4 required features)\n",
        "        features = np.array(encode_inputs(importer, hscode, description, quantity)).reshape(1, -1)\n",
        "\n",
        "        # Scale features using the loaded scaler\n",
        "        features_scaled = scaler.transform(features)\n",
        "\n",
        "        # Predict risk classification using LightGBM model\n",
        "        prediction = best_lgb_model.predict(features_scaled)\n",
        "        classification = 'risky' if prediction == 1 else 'not risky'\n",
        "\n",
        "        print(f\"Classification: {classification}\")\n",
        "\n",
        "    except Exception as e:\n",
        "        print(f\"Error: {e}\")\n",
        "\n",
        "if __name__ == \"__main__\":\n",
        "    main()"
      ],
      "metadata": {
        "id": "Soc0-RSpita6"
      },
      "execution_count": null,
      "outputs": []
    },
    {
      "cell_type": "markdown",
      "source": [
        "# **Model Based on XGBoost**"
      ],
      "metadata": {
        "id": "yQ6TGzjfupdJ"
      }
    },
    {
      "cell_type": "code",
      "source": [
        "# pip install --upgrade xgboost scikit-learn"
      ],
      "metadata": {
        "id": "_mkknXQsz60H"
      },
      "execution_count": null,
      "outputs": []
    },
    {
      "cell_type": "code",
      "source": [
        "# Importing required libraries\n",
        "# import xgboost as xgb\n",
        "# from sklearn.model_selection import train_test_split, GridSearchCV, StratifiedKFold\n",
        "# from sklearn.metrics import accuracy_score"
      ],
      "metadata": {
        "id": "fH06twBlvYwK"
      },
      "execution_count": null,
      "outputs": []
    },
    {
      "cell_type": "code",
      "source": [
        "# Defining XGBoost model\n",
        "# xgb_model = xgb.XGBClassifier(\n",
        "#    objective='binary:logistic',\n",
        "#   eval_metric='logloss',\n",
        "#   use_label_encoder=False\n",
        "#)"
      ],
      "metadata": {
        "id": "hyAs-iRgvOfQ"
      },
      "execution_count": null,
      "outputs": []
    },
    {
      "cell_type": "code",
      "source": [
        "# Defining hyperparameter grid\n",
        "# param_grid = {\n",
        "#    'n_estimators': [100, 200, 300],\n",
        "#    'learning_rate': [0.01, 0.05, 0.1],\n",
        "#    'max_depth': [3, 5, 7],\n",
        "#    'subsample': [0.7, 0.8, 1.0],\n",
        "#    'colsample_bytree': [0.7, 0.8, 1.0],\n",
        "#   'gamma': [0, 0.1, 0.2]\n",
        "#}"
      ],
      "metadata": {
        "id": "u9-nZ_ERvfIq"
      },
      "execution_count": null,
      "outputs": []
    },
    {
      "cell_type": "code",
      "source": [
        "# Stratified K-Fold Cross Validation\n",
        "#cv = StratifiedKFold(n_splits=5, shuffle=True, random_state=42)"
      ],
      "metadata": {
        "id": "RAksnGMDvlXR"
      },
      "execution_count": null,
      "outputs": []
    },
    {
      "cell_type": "code",
      "source": [
        "# from sklearn.model_selection import RandomizedSearchCV\n",
        "\n",
        "# RandomizedSearchCV\n",
        "# random_search = RandomizedSearchCV(\n",
        "#   estimator=xgb_model,\n",
        "#   param_distributions=param_grid,\n",
        "#    n_iter=20,\n",
        "#    cv=cv,\n",
        "#    n_jobs=-1,\n",
        "#    scoring='accuracy',\n",
        "#    random_state=42\n",
        "#)"
      ],
      "metadata": {
        "id": "DkZuGOUpvrt-"
      },
      "execution_count": null,
      "outputs": []
    },
    {
      "cell_type": "code",
      "source": [
        "# Fitting the model\n",
        "# random_search.fit(X_train, y_train)"
      ],
      "metadata": {
        "id": "18cC3VJXv6gN"
      },
      "execution_count": null,
      "outputs": []
    },
    {
      "cell_type": "code",
      "source": [
        "# Displaying best parameters\n",
        "# print(\"Best XGBoost Parameters:\", random_search.best_params_)"
      ],
      "metadata": {
        "id": "nSElYN5yzrCA"
      },
      "execution_count": null,
      "outputs": []
    },
    {
      "cell_type": "code",
      "source": [
        "# Evaluating on test set\n",
        "# best_model = random_search.best_estimator_\n",
        "# y_pred = best_model.predict(X_test)\n",
        "# accuracy = accuracy_score(y_test, y_pred)\n",
        "# print(f\"Test Accuracy: {accuracy:.2f}\")"
      ],
      "metadata": {
        "id": "rNpeo4tTzvQP"
      },
      "execution_count": null,
      "outputs": []
    },
    {
      "cell_type": "code",
      "source": [
        "# Print results\n",
        "# print(\"Best LightGBM Parameters:\", grid_search.best_params_)\n",
        "# print(f\"Cross-validation Accuracy: {grid_search.best_score_:.2f}\")\n",
        "# print(f\"Test Accuracy: {accuracy:.2f}\")"
      ],
      "metadata": {
        "id": "aOAMtfIUv-Ny"
      },
      "execution_count": null,
      "outputs": []
    },
    {
      "cell_type": "markdown",
      "source": [
        "# **Model Based on CatBoost**"
      ],
      "metadata": {
        "id": "jYBC94UF0nYQ"
      }
    },
    {
      "cell_type": "code",
      "source": [
        "# Installing the necessary libraries\n",
        "!pip install catboost"
      ],
      "metadata": {
        "id": "7P-72nAi1fP2"
      },
      "execution_count": null,
      "outputs": []
    },
    {
      "cell_type": "code",
      "source": [
        "# Importing the necessary libraries\n",
        "from catboost import CatBoostClassifier\n",
        "from sklearn.model_selection import train_test_split, GridSearchCV, StratifiedKFold\n",
        "from sklearn.metrics import accuracy_score"
      ],
      "metadata": {
        "id": "U5sgoibA091G"
      },
      "execution_count": null,
      "outputs": []
    },
    {
      "cell_type": "code",
      "source": [
        "# Defining the CatBoost model\n",
        "model = CatBoostClassifier(verbose=0)"
      ],
      "metadata": {
        "id": "ejtxAaZ_0zgg"
      },
      "execution_count": null,
      "outputs": []
    },
    {
      "cell_type": "code",
      "source": [
        "# Defining hyperparameter grid\n",
        "param_grid = {\n",
        "    'iterations': [100, 200, 300],\n",
        "    'learning_rate': [0.01, 0.05, 0.1],\n",
        "    'depth': [3, 5, 7],\n",
        "    'l2_leaf_reg': [1, 3, 5],\n",
        "    'border_count': [32, 64, 128]\n",
        "}"
      ],
      "metadata": {
        "id": "tkxUQZBM053O"
      },
      "execution_count": null,
      "outputs": []
    },
    {
      "cell_type": "code",
      "source": [
        "# Stratified K-Fold Cross Validation\n",
        "cv = StratifiedKFold(n_splits=5, shuffle=True, random_state=42)"
      ],
      "metadata": {
        "id": "msclc0Lb1C7f"
      },
      "execution_count": null,
      "outputs": []
    },
    {
      "cell_type": "code",
      "source": [
        "# Grid Search for Best Parameters\n",
        "grid_search = GridSearchCV(model, param_grid, cv=cv, n_jobs=-1, scoring='accuracy')\n",
        "grid_search.fit(X_train, y_train)"
      ],
      "metadata": {
        "id": "LDJ8DN1t1KnZ"
      },
      "execution_count": null,
      "outputs": []
    },
    {
      "cell_type": "code",
      "source": [
        "# Train best model\n",
        "best_cat_model = grid_search.best_estimator_"
      ],
      "metadata": {
        "id": "nOtIlscE1Myn"
      },
      "execution_count": null,
      "outputs": []
    },
    {
      "cell_type": "code",
      "source": [
        "# Evaluating on test set\n",
        "y_pred = best_cat_model.predict(X_test)\n",
        "accuracy = accuracy_score(y_test, y_pred)"
      ],
      "metadata": {
        "id": "3WsCMMhU1O4w"
      },
      "execution_count": null,
      "outputs": []
    },
    {
      "cell_type": "code",
      "source": [
        "# Displaying the results\n",
        "print(\"Best CatBoost Parameters:\", grid_search.best_params_)\n",
        "print(f\"Cross-validation Accuracy: {grid_search.best_score_:.2f}\")\n",
        "print(f\"Test Accuracy: {accuracy:.2f}\")"
      ],
      "metadata": {
        "id": "vBKshEM11R1D"
      },
      "execution_count": null,
      "outputs": []
    },
    {
      "cell_type": "code",
      "source": [
        "# Get feature importance\n",
        "feature_importance = best_cat_model.feature_importances_\n",
        "\n",
        "# Plot Feature Importance\n",
        "plt.figure(figsize=(10, 6))\n",
        "sns.barplot(x=feature_importance, y=X.columns)\n",
        "plt.xlabel(\"Importance\")\n",
        "plt.ylabel(\"Feature\")\n",
        "plt.title(\"Feature Importance in Gradient Boosting\")\n",
        "plt.show()"
      ],
      "metadata": {
        "id": "FmgQOvQw1y7o"
      },
      "execution_count": null,
      "outputs": []
    },
    {
      "cell_type": "code",
      "source": [
        "import joblib\n",
        "\n",
        "# Saving the trained scaler\n",
        "joblib.dump(scaler, '/content/drive/MyDrive/Comprehensive_Chemical_Risk_Prediction_Model/scaler_cat.pkl')\n",
        "\n",
        "# Saving the trained CatBoost Model\n",
        "joblib.dump(best_cat_model, '/content/drive/MyDrive/Comprehensive_Chemical_Risk_Prediction_Model/catboost_model.pkl')\n",
        "\n",
        "print(\"CatBoost model and scaler saved successfully!\")"
      ],
      "metadata": {
        "id": "-tfaCLPEjLWk"
      },
      "execution_count": null,
      "outputs": []
    },
    {
      "cell_type": "code",
      "source": [
        "import joblib\n",
        "\n",
        "# Loading the Scaler\n",
        "scaler = joblib.load('/content/drive/MyDrive/Comprehensive_Chemical_Risk_Prediction_Model/scaler_cat.pkl')\n",
        "\n",
        "# Loading the trained CatBoost Model\n",
        "best_cat_model = joblib.load('/content/drive/MyDrive/Comprehensive_Chemical_Risk_Prediction_Model/catboost_model.pkl')\n",
        "\n",
        "print(\"CatBoost model and scaler loaded successfully!\")\n",
        "\n",
        "# Checking the number of features in the scaler\n",
        "print(f\"Number of features in the scaler: {scaler.n_features_in_}\")"
      ],
      "metadata": {
        "id": "Z1lk1R8ajOWg"
      },
      "execution_count": null,
      "outputs": []
    },
    {
      "cell_type": "code",
      "source": [
        "import numpy as np\n",
        "import joblib\n",
        "import warnings\n",
        "from catboost import CatBoostClassifier\n",
        "\n",
        "# Suppress the specific warning\n",
        "warnings.filterwarnings(\"ignore\", message=\"X does not have valid feature names\")\n",
        "\n",
        "# Load encoders\n",
        "importer_encoder = joblib.load('encoded_IMPORTER.pkl')\n",
        "description_01_encoder = joblib.load('encoded_DESCRIPTION_01.pkl')\n",
        "hscode_encoder = joblib.load('encoded_HSCODE.pkl')\n",
        "country_encoder = joblib.load('encoded_COUNTRY.pkl')\n",
        "unit_encoder = joblib.load('encoded_UNIT.pkl')\n",
        "\n",
        "# Function to encode inputs\n",
        "def encode_inputs(importer, hscode, description, quantity):\n",
        "    try:\n",
        "        importer_encoded = importer_encoder.transform([importer])[0] if importer in importer_encoder.classes_ else len(importer_encoder.classes_)\n",
        "        description_encoded = description_01_encoder.transform([description])[0] if description in description_01_encoder.classes_ else len(description_01_encoder.classes_)\n",
        "        hscode_encoded = hscode_encoder.transform([hscode])[0] if hscode in hscode_encoder.classes_ else len(hscode_encoder.classes_)\n",
        "\n",
        "        # Only using the 4 relevant features: importer, hscode, description, quantity\n",
        "        return (importer_encoded, hscode_encoded, description_encoded, quantity)\n",
        "    except Exception as e:\n",
        "        raise ValueError(f\"Encoding failed: {e}\")\n",
        "\n",
        "# Main function\n",
        "def main():\n",
        "    try:\n",
        "        # User inputs\n",
        "        importer = input(\"Enter importer: \").capitalize()\n",
        "        year = int(input(\"Enter year: \"))\n",
        "        month = input(\"Enter month: \").capitalize()\n",
        "        country = input(\"Enter country: \").upper()\n",
        "        description = input(\"Enter description: \").capitalize()\n",
        "        quantity = float(input(\"Enter quantity: \"))\n",
        "        value = float(input(\"Enter value: \"))\n",
        "        hscode = int(input(\"Enter HS code: \"))\n",
        "        unit = input(\"Enter unit: \").upper()\n",
        "\n",
        "        # Encode inputs (we now use only the 4 required features)\n",
        "        features = np.array(encode_inputs(importer, hscode, description, quantity)).reshape(1, -1)\n",
        "\n",
        "        # Scale features using the loaded scaler\n",
        "        features_scaled = scaler.transform(features)\n",
        "\n",
        "        # Predict risk classification using CatBoost model\n",
        "        prediction = best_cat_model.predict(features_scaled)\n",
        "        classification = 'risky' if prediction == 1 else 'not risky'\n",
        "\n",
        "        print(f\"Classification: {classification}\")\n",
        "\n",
        "    except Exception as e:\n",
        "        print(f\"Error: {e}\")\n",
        "\n",
        "if __name__ == \"__main__\":\n",
        "    main()"
      ],
      "metadata": {
        "id": "6rRhri6nkHwX"
      },
      "execution_count": null,
      "outputs": []
    }
  ]
}