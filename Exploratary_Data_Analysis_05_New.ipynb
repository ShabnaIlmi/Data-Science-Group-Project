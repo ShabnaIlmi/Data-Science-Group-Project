{
  "cells": [
    {
      "cell_type": "markdown",
      "metadata": {
        "id": "view-in-github",
        "colab_type": "text"
      },
      "source": [
        "<a href=\"https://colab.research.google.com/github/ShabnaIlmi/Data-Science-Group-Project/blob/Importer_Risk_Prediction/Exploratary_Data_Analysis_05_New.ipynb\" target=\"_parent\"><img src=\"https://colab.research.google.com/assets/colab-badge.svg\" alt=\"Open In Colab\"/></a>"
      ]
    },
    {
      "cell_type": "markdown",
      "metadata": {
        "id": "OYYTge9I8GPT"
      },
      "source": [
        "# **Installing Necessary Libraries**"
      ]
    },
    {
      "cell_type": "code",
      "execution_count": null,
      "metadata": {
        "id": "OPoSbhIC6UZQ"
      },
      "outputs": [],
      "source": [
        "# Installing Required Libraries\n",
        "# !pip install --upgrade tensorflow\n",
        "# !pip install fancyimpute scikit-learn pandas"
      ]
    },
    {
      "cell_type": "code",
      "execution_count": null,
      "metadata": {
        "id": "TofToVnDnlqN"
      },
      "outputs": [],
      "source": [
        "# Uninstalling the Pandas Library\n",
        "# !pip uninstall pandas"
      ]
    },
    {
      "cell_type": "code",
      "execution_count": null,
      "metadata": {
        "id": "ii46sK4-n2qS"
      },
      "outputs": [],
      "source": [
        "# Re-installing the Pandas Library\n",
        "# !pip install pandas==2.2.2"
      ]
    },
    {
      "cell_type": "markdown",
      "metadata": {
        "id": "h--5ArzY8O4b"
      },
      "source": [
        "# **Importing the Relevant Libraries**"
      ]
    },
    {
      "cell_type": "code",
      "execution_count": null,
      "metadata": {
        "id": "WyX8k6ktR4jH"
      },
      "outputs": [],
      "source": [
        "# Importing necessary libraries\n",
        "import pandas as pd\n",
        "import numpy as np\n",
        "import matplotlib.pyplot as plt\n",
        "import seaborn as sns\n",
        "from sklearn.preprocessing import StandardScaler\n",
        "from sklearn.impute import KNNImputer\n",
        "from sklearn.ensemble import RandomForestClassifier, RandomForestRegressor\n",
        "from sklearn.cluster import KMeans\n",
        "import warnings\n",
        "from imblearn.over_sampling import SMOTE\n",
        "from sklearn.model_selection import train_test_split\n",
        "from sklearn.preprocessing import LabelEncoder\n",
        "from sklearn.model_selection import train_test_split, GridSearchCV, cross_val_score, StratifiedKFold\n",
        "from sklearn.metrics import confusion_matrix, classification_report\n",
        "from sklearn.metrics import accuracy_score\n",
        "from sklearn.preprocessing import OneHotEncoder\n",
        "import shap\n",
        "import pickle\n",
        "import joblib"
      ]
    },
    {
      "cell_type": "code",
      "execution_count": null,
      "metadata": {
        "colab": {
          "base_uri": "https://localhost:8080/"
        },
        "id": "HpksTyec8ie0",
        "outputId": "04ae4212-f9d9-40a7-857f-e38ea6effcbd"
      },
      "outputs": [
        {
          "output_type": "stream",
          "name": "stdout",
          "text": [
            "Mounted at /content/drive\n"
          ]
        }
      ],
      "source": [
        "# Mounting the Google Drive\n",
        "from google.colab import drive\n",
        "drive.mount('/content/drive')"
      ]
    },
    {
      "cell_type": "markdown",
      "metadata": {
        "id": "mWzlfw6T8knI"
      },
      "source": [
        "# **Loading the Dataset**"
      ]
    },
    {
      "cell_type": "code",
      "execution_count": null,
      "metadata": {
        "id": "qN8eyZZE8ooa"
      },
      "outputs": [],
      "source": [
        "# Loading the dataset with the proper delimiter (semicolon)\n",
        "data = pd.read_excel('/content/drive/MyDrive/Importer_Risk_Prediction_2/Dataset/IMPORT STATISTICS - 2023.xlsx')"
      ]
    },
    {
      "cell_type": "code",
      "execution_count": null,
      "metadata": {
        "colab": {
          "base_uri": "https://localhost:8080/",
          "height": 206
        },
        "id": "KTvjjfnA8qjZ",
        "outputId": "cc720ce2-2273-483f-ca0b-0077762afb74"
      },
      "outputs": [
        {
          "output_type": "execute_result",
          "data": {
            "text/plain": [
              "  IMPORTER    YEAR     MONTH  HSCODE     COUNTRY UNIT  QUANTITY    VALUE_RS  \\\n",
              "0  Unknown  2023.0   JANUARY  280110  BANGLADESH  Kg.  131600.0  13877114.0   \n",
              "1  Unknown  2023.0   JANUARY  280110       INDIA  Kg.   37800.0   3924989.0   \n",
              "2  Unknown  2023.0   JANUARY  280110    MALAYSIA  Kg.   12090.0   5390772.0   \n",
              "3  Unknown  2023.0  FEBRUARY  280110  BANGLADESH  Kg.   25200.0   3089445.0   \n",
              "4  Unknown  2023.0  FEBRUARY  280110       INDIA  Kg.   75599.0   6939860.0   \n",
              "\n",
              "                                      DESCRIPTION_01  \\\n",
              "0  Inorganic chemicals; Organic or inorganic comp...   \n",
              "1  Inorganic chemicals; Organic or inorganic comp...   \n",
              "2  Inorganic chemicals; Organic or inorganic comp...   \n",
              "3  Inorganic chemicals; Organic or inorganic comp...   \n",
              "4  Inorganic chemicals; Organic or inorganic comp...   \n",
              "\n",
              "                                      DESCRIPTION_02 DESCRIPTION_03  \n",
              "0  Fluorine, chlorine, bromine and iodine        ...       Chlorine  \n",
              "1  Fluorine, chlorine, bromine and iodine        ...       Chlorine  \n",
              "2  Fluorine, chlorine, bromine and iodine        ...       Chlorine  \n",
              "3  Fluorine, chlorine, bromine and iodine        ...       Chlorine  \n",
              "4  Fluorine, chlorine, bromine and iodine        ...       Chlorine  "
            ],
            "text/html": [
              "\n",
              "  <div id=\"df-c02d8684-5330-4c90-9af8-1f0350f392e3\" class=\"colab-df-container\">\n",
              "    <div>\n",
              "<style scoped>\n",
              "    .dataframe tbody tr th:only-of-type {\n",
              "        vertical-align: middle;\n",
              "    }\n",
              "\n",
              "    .dataframe tbody tr th {\n",
              "        vertical-align: top;\n",
              "    }\n",
              "\n",
              "    .dataframe thead th {\n",
              "        text-align: right;\n",
              "    }\n",
              "</style>\n",
              "<table border=\"1\" class=\"dataframe\">\n",
              "  <thead>\n",
              "    <tr style=\"text-align: right;\">\n",
              "      <th></th>\n",
              "      <th>IMPORTER</th>\n",
              "      <th>YEAR</th>\n",
              "      <th>MONTH</th>\n",
              "      <th>HSCODE</th>\n",
              "      <th>COUNTRY</th>\n",
              "      <th>UNIT</th>\n",
              "      <th>QUANTITY</th>\n",
              "      <th>VALUE_RS</th>\n",
              "      <th>DESCRIPTION_01</th>\n",
              "      <th>DESCRIPTION_02</th>\n",
              "      <th>DESCRIPTION_03</th>\n",
              "    </tr>\n",
              "  </thead>\n",
              "  <tbody>\n",
              "    <tr>\n",
              "      <th>0</th>\n",
              "      <td>Unknown</td>\n",
              "      <td>2023.0</td>\n",
              "      <td>JANUARY</td>\n",
              "      <td>280110</td>\n",
              "      <td>BANGLADESH</td>\n",
              "      <td>Kg.</td>\n",
              "      <td>131600.0</td>\n",
              "      <td>13877114.0</td>\n",
              "      <td>Inorganic chemicals; Organic or inorganic comp...</td>\n",
              "      <td>Fluorine, chlorine, bromine and iodine        ...</td>\n",
              "      <td>Chlorine</td>\n",
              "    </tr>\n",
              "    <tr>\n",
              "      <th>1</th>\n",
              "      <td>Unknown</td>\n",
              "      <td>2023.0</td>\n",
              "      <td>JANUARY</td>\n",
              "      <td>280110</td>\n",
              "      <td>INDIA</td>\n",
              "      <td>Kg.</td>\n",
              "      <td>37800.0</td>\n",
              "      <td>3924989.0</td>\n",
              "      <td>Inorganic chemicals; Organic or inorganic comp...</td>\n",
              "      <td>Fluorine, chlorine, bromine and iodine        ...</td>\n",
              "      <td>Chlorine</td>\n",
              "    </tr>\n",
              "    <tr>\n",
              "      <th>2</th>\n",
              "      <td>Unknown</td>\n",
              "      <td>2023.0</td>\n",
              "      <td>JANUARY</td>\n",
              "      <td>280110</td>\n",
              "      <td>MALAYSIA</td>\n",
              "      <td>Kg.</td>\n",
              "      <td>12090.0</td>\n",
              "      <td>5390772.0</td>\n",
              "      <td>Inorganic chemicals; Organic or inorganic comp...</td>\n",
              "      <td>Fluorine, chlorine, bromine and iodine        ...</td>\n",
              "      <td>Chlorine</td>\n",
              "    </tr>\n",
              "    <tr>\n",
              "      <th>3</th>\n",
              "      <td>Unknown</td>\n",
              "      <td>2023.0</td>\n",
              "      <td>FEBRUARY</td>\n",
              "      <td>280110</td>\n",
              "      <td>BANGLADESH</td>\n",
              "      <td>Kg.</td>\n",
              "      <td>25200.0</td>\n",
              "      <td>3089445.0</td>\n",
              "      <td>Inorganic chemicals; Organic or inorganic comp...</td>\n",
              "      <td>Fluorine, chlorine, bromine and iodine        ...</td>\n",
              "      <td>Chlorine</td>\n",
              "    </tr>\n",
              "    <tr>\n",
              "      <th>4</th>\n",
              "      <td>Unknown</td>\n",
              "      <td>2023.0</td>\n",
              "      <td>FEBRUARY</td>\n",
              "      <td>280110</td>\n",
              "      <td>INDIA</td>\n",
              "      <td>Kg.</td>\n",
              "      <td>75599.0</td>\n",
              "      <td>6939860.0</td>\n",
              "      <td>Inorganic chemicals; Organic or inorganic comp...</td>\n",
              "      <td>Fluorine, chlorine, bromine and iodine        ...</td>\n",
              "      <td>Chlorine</td>\n",
              "    </tr>\n",
              "  </tbody>\n",
              "</table>\n",
              "</div>\n",
              "    <div class=\"colab-df-buttons\">\n",
              "\n",
              "  <div class=\"colab-df-container\">\n",
              "    <button class=\"colab-df-convert\" onclick=\"convertToInteractive('df-c02d8684-5330-4c90-9af8-1f0350f392e3')\"\n",
              "            title=\"Convert this dataframe to an interactive table.\"\n",
              "            style=\"display:none;\">\n",
              "\n",
              "  <svg xmlns=\"http://www.w3.org/2000/svg\" height=\"24px\" viewBox=\"0 -960 960 960\">\n",
              "    <path d=\"M120-120v-720h720v720H120Zm60-500h600v-160H180v160Zm220 220h160v-160H400v160Zm0 220h160v-160H400v160ZM180-400h160v-160H180v160Zm440 0h160v-160H620v160ZM180-180h160v-160H180v160Zm440 0h160v-160H620v160Z\"/>\n",
              "  </svg>\n",
              "    </button>\n",
              "\n",
              "  <style>\n",
              "    .colab-df-container {\n",
              "      display:flex;\n",
              "      gap: 12px;\n",
              "    }\n",
              "\n",
              "    .colab-df-convert {\n",
              "      background-color: #E8F0FE;\n",
              "      border: none;\n",
              "      border-radius: 50%;\n",
              "      cursor: pointer;\n",
              "      display: none;\n",
              "      fill: #1967D2;\n",
              "      height: 32px;\n",
              "      padding: 0 0 0 0;\n",
              "      width: 32px;\n",
              "    }\n",
              "\n",
              "    .colab-df-convert:hover {\n",
              "      background-color: #E2EBFA;\n",
              "      box-shadow: 0px 1px 2px rgba(60, 64, 67, 0.3), 0px 1px 3px 1px rgba(60, 64, 67, 0.15);\n",
              "      fill: #174EA6;\n",
              "    }\n",
              "\n",
              "    .colab-df-buttons div {\n",
              "      margin-bottom: 4px;\n",
              "    }\n",
              "\n",
              "    [theme=dark] .colab-df-convert {\n",
              "      background-color: #3B4455;\n",
              "      fill: #D2E3FC;\n",
              "    }\n",
              "\n",
              "    [theme=dark] .colab-df-convert:hover {\n",
              "      background-color: #434B5C;\n",
              "      box-shadow: 0px 1px 3px 1px rgba(0, 0, 0, 0.15);\n",
              "      filter: drop-shadow(0px 1px 2px rgba(0, 0, 0, 0.3));\n",
              "      fill: #FFFFFF;\n",
              "    }\n",
              "  </style>\n",
              "\n",
              "    <script>\n",
              "      const buttonEl =\n",
              "        document.querySelector('#df-c02d8684-5330-4c90-9af8-1f0350f392e3 button.colab-df-convert');\n",
              "      buttonEl.style.display =\n",
              "        google.colab.kernel.accessAllowed ? 'block' : 'none';\n",
              "\n",
              "      async function convertToInteractive(key) {\n",
              "        const element = document.querySelector('#df-c02d8684-5330-4c90-9af8-1f0350f392e3');\n",
              "        const dataTable =\n",
              "          await google.colab.kernel.invokeFunction('convertToInteractive',\n",
              "                                                    [key], {});\n",
              "        if (!dataTable) return;\n",
              "\n",
              "        const docLinkHtml = 'Like what you see? Visit the ' +\n",
              "          '<a target=\"_blank\" href=https://colab.research.google.com/notebooks/data_table.ipynb>data table notebook</a>'\n",
              "          + ' to learn more about interactive tables.';\n",
              "        element.innerHTML = '';\n",
              "        dataTable['output_type'] = 'display_data';\n",
              "        await google.colab.output.renderOutput(dataTable, element);\n",
              "        const docLink = document.createElement('div');\n",
              "        docLink.innerHTML = docLinkHtml;\n",
              "        element.appendChild(docLink);\n",
              "      }\n",
              "    </script>\n",
              "  </div>\n",
              "\n",
              "\n",
              "<div id=\"df-ee920547-9117-49c1-8f30-43828b1723aa\">\n",
              "  <button class=\"colab-df-quickchart\" onclick=\"quickchart('df-ee920547-9117-49c1-8f30-43828b1723aa')\"\n",
              "            title=\"Suggest charts\"\n",
              "            style=\"display:none;\">\n",
              "\n",
              "<svg xmlns=\"http://www.w3.org/2000/svg\" height=\"24px\"viewBox=\"0 0 24 24\"\n",
              "     width=\"24px\">\n",
              "    <g>\n",
              "        <path d=\"M19 3H5c-1.1 0-2 .9-2 2v14c0 1.1.9 2 2 2h14c1.1 0 2-.9 2-2V5c0-1.1-.9-2-2-2zM9 17H7v-7h2v7zm4 0h-2V7h2v10zm4 0h-2v-4h2v4z\"/>\n",
              "    </g>\n",
              "</svg>\n",
              "  </button>\n",
              "\n",
              "<style>\n",
              "  .colab-df-quickchart {\n",
              "      --bg-color: #E8F0FE;\n",
              "      --fill-color: #1967D2;\n",
              "      --hover-bg-color: #E2EBFA;\n",
              "      --hover-fill-color: #174EA6;\n",
              "      --disabled-fill-color: #AAA;\n",
              "      --disabled-bg-color: #DDD;\n",
              "  }\n",
              "\n",
              "  [theme=dark] .colab-df-quickchart {\n",
              "      --bg-color: #3B4455;\n",
              "      --fill-color: #D2E3FC;\n",
              "      --hover-bg-color: #434B5C;\n",
              "      --hover-fill-color: #FFFFFF;\n",
              "      --disabled-bg-color: #3B4455;\n",
              "      --disabled-fill-color: #666;\n",
              "  }\n",
              "\n",
              "  .colab-df-quickchart {\n",
              "    background-color: var(--bg-color);\n",
              "    border: none;\n",
              "    border-radius: 50%;\n",
              "    cursor: pointer;\n",
              "    display: none;\n",
              "    fill: var(--fill-color);\n",
              "    height: 32px;\n",
              "    padding: 0;\n",
              "    width: 32px;\n",
              "  }\n",
              "\n",
              "  .colab-df-quickchart:hover {\n",
              "    background-color: var(--hover-bg-color);\n",
              "    box-shadow: 0 1px 2px rgba(60, 64, 67, 0.3), 0 1px 3px 1px rgba(60, 64, 67, 0.15);\n",
              "    fill: var(--button-hover-fill-color);\n",
              "  }\n",
              "\n",
              "  .colab-df-quickchart-complete:disabled,\n",
              "  .colab-df-quickchart-complete:disabled:hover {\n",
              "    background-color: var(--disabled-bg-color);\n",
              "    fill: var(--disabled-fill-color);\n",
              "    box-shadow: none;\n",
              "  }\n",
              "\n",
              "  .colab-df-spinner {\n",
              "    border: 2px solid var(--fill-color);\n",
              "    border-color: transparent;\n",
              "    border-bottom-color: var(--fill-color);\n",
              "    animation:\n",
              "      spin 1s steps(1) infinite;\n",
              "  }\n",
              "\n",
              "  @keyframes spin {\n",
              "    0% {\n",
              "      border-color: transparent;\n",
              "      border-bottom-color: var(--fill-color);\n",
              "      border-left-color: var(--fill-color);\n",
              "    }\n",
              "    20% {\n",
              "      border-color: transparent;\n",
              "      border-left-color: var(--fill-color);\n",
              "      border-top-color: var(--fill-color);\n",
              "    }\n",
              "    30% {\n",
              "      border-color: transparent;\n",
              "      border-left-color: var(--fill-color);\n",
              "      border-top-color: var(--fill-color);\n",
              "      border-right-color: var(--fill-color);\n",
              "    }\n",
              "    40% {\n",
              "      border-color: transparent;\n",
              "      border-right-color: var(--fill-color);\n",
              "      border-top-color: var(--fill-color);\n",
              "    }\n",
              "    60% {\n",
              "      border-color: transparent;\n",
              "      border-right-color: var(--fill-color);\n",
              "    }\n",
              "    80% {\n",
              "      border-color: transparent;\n",
              "      border-right-color: var(--fill-color);\n",
              "      border-bottom-color: var(--fill-color);\n",
              "    }\n",
              "    90% {\n",
              "      border-color: transparent;\n",
              "      border-bottom-color: var(--fill-color);\n",
              "    }\n",
              "  }\n",
              "</style>\n",
              "\n",
              "  <script>\n",
              "    async function quickchart(key) {\n",
              "      const quickchartButtonEl =\n",
              "        document.querySelector('#' + key + ' button');\n",
              "      quickchartButtonEl.disabled = true;  // To prevent multiple clicks.\n",
              "      quickchartButtonEl.classList.add('colab-df-spinner');\n",
              "      try {\n",
              "        const charts = await google.colab.kernel.invokeFunction(\n",
              "            'suggestCharts', [key], {});\n",
              "      } catch (error) {\n",
              "        console.error('Error during call to suggestCharts:', error);\n",
              "      }\n",
              "      quickchartButtonEl.classList.remove('colab-df-spinner');\n",
              "      quickchartButtonEl.classList.add('colab-df-quickchart-complete');\n",
              "    }\n",
              "    (() => {\n",
              "      let quickchartButtonEl =\n",
              "        document.querySelector('#df-ee920547-9117-49c1-8f30-43828b1723aa button');\n",
              "      quickchartButtonEl.style.display =\n",
              "        google.colab.kernel.accessAllowed ? 'block' : 'none';\n",
              "    })();\n",
              "  </script>\n",
              "</div>\n",
              "\n",
              "    </div>\n",
              "  </div>\n"
            ],
            "application/vnd.google.colaboratory.intrinsic+json": {
              "type": "dataframe",
              "variable_name": "data",
              "summary": "{\n  \"name\": \"data\",\n  \"rows\": 1042,\n  \"fields\": [\n    {\n      \"column\": \"IMPORTER\",\n      \"properties\": {\n        \"dtype\": \"category\",\n        \"num_unique_values\": 1,\n        \"samples\": [\n          \"Unknown\"\n        ],\n        \"semantic_type\": \"\",\n        \"description\": \"\"\n      }\n    },\n    {\n      \"column\": \"YEAR\",\n      \"properties\": {\n        \"dtype\": \"number\",\n        \"std\": 3.409615319591779,\n        \"min\": 2016.0,\n        \"max\": 2023.0,\n        \"num_unique_values\": 2,\n        \"samples\": [\n          2016.0\n        ],\n        \"semantic_type\": \"\",\n        \"description\": \"\"\n      }\n    },\n    {\n      \"column\": \"MONTH\",\n      \"properties\": {\n        \"dtype\": \"category\",\n        \"num_unique_values\": 12,\n        \"samples\": [\n          \"NOVEMBER\"\n        ],\n        \"semantic_type\": \"\",\n        \"description\": \"\"\n      }\n    },\n    {\n      \"column\": \"HSCODE\",\n      \"properties\": {\n        \"dtype\": \"number\",\n        \"std\": 1326226917,\n        \"min\": 280110,\n        \"max\": 3102909000,\n        \"num_unique_values\": 131,\n        \"samples\": [\n          2801200042\n        ],\n        \"semantic_type\": \"\",\n        \"description\": \"\"\n      }\n    },\n    {\n      \"column\": \"COUNTRY\",\n      \"properties\": {\n        \"dtype\": \"category\",\n        \"num_unique_values\": 66,\n        \"samples\": [\n          \"italy\"\n        ],\n        \"semantic_type\": \"\",\n        \"description\": \"\"\n      }\n    },\n    {\n      \"column\": \"UNIT\",\n      \"properties\": {\n        \"dtype\": \"category\",\n        \"num_unique_values\": 9,\n        \"samples\": [\n          \"Kg\"\n        ],\n        \"semantic_type\": \"\",\n        \"description\": \"\"\n      }\n    },\n    {\n      \"column\": \"QUANTITY\",\n      \"properties\": {\n        \"dtype\": \"number\",\n        \"std\": 235249.2208540277,\n        \"min\": 0.0,\n        \"max\": 4000000.0,\n        \"num_unique_values\": 359,\n        \"samples\": [\n          12282.0\n        ],\n        \"semantic_type\": \"\",\n        \"description\": \"\"\n      }\n    },\n    {\n      \"column\": \"VALUE_RS\",\n      \"properties\": {\n        \"dtype\": \"number\",\n        \"std\": 7946637.087226704,\n        \"min\": 0.0,\n        \"max\": 47271723.0,\n        \"num_unique_values\": 263,\n        \"samples\": [\n          37.58\n        ],\n        \"semantic_type\": \"\",\n        \"description\": \"\"\n      }\n    },\n    {\n      \"column\": \"DESCRIPTION_01\",\n      \"properties\": {\n        \"dtype\": \"category\",\n        \"num_unique_values\": 2,\n        \"samples\": [\n          \"Fertilizers\"\n        ],\n        \"semantic_type\": \"\",\n        \"description\": \"\"\n      }\n    },\n    {\n      \"column\": \"DESCRIPTION_02\",\n      \"properties\": {\n        \"dtype\": \"category\",\n        \"num_unique_values\": 15,\n        \"samples\": [\n          \"Hydrogen peroxide, whether or not solidified with urea.  \"\n        ],\n        \"semantic_type\": \"\",\n        \"description\": \"\"\n      }\n    },\n    {\n      \"column\": \"DESCRIPTION_03\",\n      \"properties\": {\n        \"dtype\": \"category\",\n        \"num_unique_values\": 17,\n        \"samples\": [\n          \"Chlorine\"\n        ],\n        \"semantic_type\": \"\",\n        \"description\": \"\"\n      }\n    }\n  ]\n}"
            }
          },
          "metadata": {},
          "execution_count": 10
        }
      ],
      "source": [
        "# Displaying the first few rows of the data\n",
        "data.head()"
      ]
    },
    {
      "cell_type": "markdown",
      "metadata": {
        "id": "UO79Bapj9j8q"
      },
      "source": [
        "# **Exploratory Data Analysis**"
      ]
    },
    {
      "cell_type": "code",
      "execution_count": null,
      "metadata": {
        "id": "tqzoA-ED9mFM",
        "colab": {
          "base_uri": "https://localhost:8080/"
        },
        "outputId": "b84780ae-cace-4bed-f2b6-987ba1550628"
      },
      "outputs": [
        {
          "output_type": "stream",
          "name": "stdout",
          "text": [
            "Displaying data information\n",
            "<class 'pandas.core.frame.DataFrame'>\n",
            "RangeIndex: 1042 entries, 0 to 1041\n",
            "Data columns (total 11 columns):\n",
            " #   Column          Non-Null Count  Dtype  \n",
            "---  ------          --------------  -----  \n",
            " 0   IMPORTER        1042 non-null   object \n",
            " 1   YEAR            292 non-null    float64\n",
            " 2   MONTH           292 non-null    object \n",
            " 3   HSCODE          1042 non-null   int64  \n",
            " 4   COUNTRY         1038 non-null   object \n",
            " 5   UNIT            1042 non-null   object \n",
            " 6   QUANTITY        1039 non-null   float64\n",
            " 7   VALUE_RS        292 non-null    float64\n",
            " 8   DESCRIPTION_01  1042 non-null   object \n",
            " 9   DESCRIPTION_02  1042 non-null   object \n",
            " 10  DESCRIPTION_03  1042 non-null   object \n",
            "dtypes: float64(3), int64(1), object(7)\n",
            "memory usage: 89.7+ KB\n"
          ]
        }
      ],
      "source": [
        "# Displaying information\n",
        "print(\"Displaying data information\")\n",
        "data.info()"
      ]
    },
    {
      "cell_type": "markdown",
      "metadata": {
        "id": "wlGynzWyAi3t"
      },
      "source": [
        "### **Identifying Categorical and Numerical Columns**"
      ]
    },
    {
      "cell_type": "code",
      "execution_count": null,
      "metadata": {
        "id": "YnzurPy5Ak3F"
      },
      "outputs": [],
      "source": [
        "# Identifying categorical and numerical columns\n",
        "categorical_cols = data.select_dtypes(include=['object']).columns\n",
        "numerical_cols = data.select_dtypes(include=['int64', 'float64']).columns"
      ]
    },
    {
      "cell_type": "markdown",
      "metadata": {
        "id": "BMmSEcp9AmfP"
      },
      "source": [
        "**Since 'HSCODE' column has been misintepreted as an int64 data type column due to the unavailability of data, reassigning it has an object type column.**"
      ]
    },
    {
      "cell_type": "code",
      "execution_count": null,
      "metadata": {
        "id": "QWxIkJ7sAqCV",
        "colab": {
          "base_uri": "https://localhost:8080/"
        },
        "outputId": "58a60aa1-3477-4b4b-cecc-f73c8e6a5558"
      },
      "outputs": [
        {
          "output_type": "stream",
          "name": "stdout",
          "text": [
            "Data Type of HSCODE Columns:\n",
            "HSCODE    object\n",
            "dtype: object\n"
          ]
        }
      ],
      "source": [
        "# Converting 'IMPORTER' and 'HSCODE' columns to string type\n",
        "data['HSCODE'] = data['HSCODE'].astype(str)\n",
        "\n",
        "# Displaying the HSCODE column data type\n",
        "print(\"Data Type of HSCODE Columns:\")\n",
        "print(data[['HSCODE']].dtypes)"
      ]
    },
    {
      "cell_type": "markdown",
      "metadata": {
        "id": "MAlAa-aoAs_l"
      },
      "source": [
        "## **Categorical Features**"
      ]
    },
    {
      "cell_type": "code",
      "execution_count": null,
      "metadata": {
        "id": "f6CqNJqnAxxH",
        "colab": {
          "base_uri": "https://localhost:8080/"
        },
        "outputId": "2ecc3aa3-a205-4490-b53f-44b6b6eb9d1b"
      },
      "outputs": [
        {
          "output_type": "stream",
          "name": "stdout",
          "text": [
            "Categorical Features:\n",
            "- IMPORTER\n",
            "- MONTH\n",
            "- HSCODE\n",
            "- COUNTRY\n",
            "- UNIT\n",
            "- DESCRIPTION_01\n",
            "- DESCRIPTION_02\n",
            "- DESCRIPTION_03\n",
            "\n",
            "Data Type of Categorical Features:\n",
            "IMPORTER          object\n",
            "MONTH             object\n",
            "HSCODE            object\n",
            "COUNTRY           object\n",
            "UNIT              object\n",
            "DESCRIPTION_01    object\n",
            "DESCRIPTION_02    object\n",
            "DESCRIPTION_03    object\n",
            "dtype: object\n"
          ]
        }
      ],
      "source": [
        "# List of categorical features\n",
        "categorical_features = data.select_dtypes(include=['object']).columns\n",
        "\n",
        "# Displaying the categorical features\n",
        "print(\"Categorical Features:\")\n",
        "for feature in categorical_features:\n",
        "    print(f\"- {feature}\")\n",
        "\n",
        "# Display data type of the columns\n",
        "print(\"\\nData Type of Categorical Features:\")\n",
        "print(data[categorical_features].dtypes)"
      ]
    },
    {
      "cell_type": "markdown",
      "metadata": {
        "id": "TWNh9w1BA1NB"
      },
      "source": [
        "**Unique Values and Their Counts Relevant to Each Categorical Column**"
      ]
    },
    {
      "cell_type": "code",
      "execution_count": null,
      "metadata": {
        "id": "P4FVhDRTA3oa",
        "colab": {
          "base_uri": "https://localhost:8080/"
        },
        "outputId": "135476b8-a667-4ed9-cd65-6b080591dc62"
      },
      "outputs": [
        {
          "output_type": "stream",
          "name": "stdout",
          "text": [
            "Unique values and their count relevant to each categorical column:\n",
            "\n",
            "IMPORTER\n",
            "Unknown    1042\n",
            "Name: count, dtype: int64\n",
            " \n",
            "MONTH\n",
            "NOVEMBER     191\n",
            "FEBRUARY      13\n",
            "JULY          13\n",
            "MAY           11\n",
            "SEPTEMBER     11\n",
            "JANUARY       10\n",
            "JUNE           9\n",
            "AUGUST         8\n",
            "OCTOBER        8\n",
            "MARCH          6\n",
            "APRIL          6\n",
            "DECEMBER       6\n",
            "Name: count, dtype: int64\n",
            " \n",
            "HSCODE\n",
            "28070010      85\n",
            "2847000000    84\n",
            "28080000      67\n",
            "3102401000    58\n",
            "28291100      54\n",
            "              ..\n",
            "2801200032     1\n",
            "2801200031     1\n",
            "2801200030     1\n",
            "2801200029     1\n",
            "2812101100     1\n",
            "Name: count, Length: 131, dtype: int64\n",
            " \n",
            "COUNTRY\n",
            "Vietnam    299\n",
            "Russia     109\n",
            "Kenya       71\n",
            "Ukraine     58\n",
            "germany     51\n",
            "          ... \n",
            "U.S.A.       1\n",
            "Mexico       1\n",
            "CANADA       1\n",
            "India        1\n",
            "Romania      1\n",
            "Name: count, Length: 66, dtype: int64\n",
            " \n",
            "UNIT\n",
            "Kg     750\n",
            "Kg.    112\n",
            "KGS     47\n",
            "PCS     39\n",
            "NOS     33\n",
            "GMS     23\n",
            "MTS     19\n",
            "LTR     18\n",
            "DRM      1\n",
            "Name: count, dtype: int64\n",
            " \n",
            "DESCRIPTION_01\n",
            "Inorganic chemicals; Organic or inorganic compounds of precious metals, of rare earth metals, of radioactive elements or of isotopes    922\n",
            "Fertilizers                                                                                                                             120\n",
            "Name: count, dtype: int64\n",
            " \n",
            "DESCRIPTION_02\n",
            "Chlorates and perchlorates; bromates and perbromates; iodates and periodates                            120\n",
            "Mineral or chemical fertilizers, nitrogenous                                                            120\n",
            "Sulphuric acid; oleum                                                                                   120\n",
            "Halides and halide oxides of non metals                                                                 120\n",
            "Fluorides; fluorosilicates, fluoroaluminates, and other complex fluorine salts                          116\n",
            "Hydrogen peroxide, whether or not solidified with urea.                                                 110\n",
            "Nitric acid; sulphonitric acids.                                                                        100\n",
            "Fluorine, chlorine, bromine and iodine                                                                   64\n",
            "Nitric acid; sulphonitric acids.                                                                  ..     36\n",
            "Hydrogen peroxide, whether or not solidified with urea.                                           ..     35\n",
            "Fluorine, chlorine, bromine and iodine                                                            ..     34\n",
            "Nitric acid; sulphonitric acids.                                                                         20\n",
            "Fluorine, chlorine, bromine and iodine                                                                   20\n",
            "Cyanides, cyanide oxides and complex cyanides.                                                           20\n",
            "Cyanides, cyanide oxides and complex cyanides.                                                    ..      7\n",
            "Name: count, dtype: int64\n",
            " \n",
            "DESCRIPTION_03\n",
            "Halides and halide oxides of non metals                                           120\n",
            "Sulphuric acid; oleum                                                             120\n",
            "Mineral or chemical fertilizers, nitrogenous                                      120\n",
            "Chlorates and perchlorates; bromates and perbromates; iodates and periodates      120\n",
            "Fluorides; fluorosilicates, fluoroaluminates, and other complex fluorine salts    116\n",
            "Hydrogen peroxide, whether or not solidified with urea.                           110\n",
            "Nitric acid; sulphonitric acids.                                                  100\n",
            "Iodine                                                                             80\n",
            "Nitric acid; sulphonitric acids                                                    36\n",
            "Hydrogen peroxide, whether or not solidified with urea.                            35\n",
            "Chlorine                                                                           34\n",
            "Nitric acid; sulphonitric acids.                                                   20\n",
            "Cyanides and cyanide oxides : Of sodium                                            11\n",
            "Cyanides and cyanide oxides : Other                                                10\n",
            "- Cyanides and cyanide oxides : Other                                               4\n",
            "Bromine                                                                             4\n",
            "- Cyanides and cyanide oxides : Of sodium                                           2\n",
            "Name: count, dtype: int64\n",
            " \n"
          ]
        }
      ],
      "source": [
        "# Displaying the unique values and their counts relevant to each categorical column\n",
        "print(\"Unique values and their count relevant to each categorical column:\\n\")\n",
        "for col in categorical_features:\n",
        "    unique_values = data[col].unique()\n",
        "    value_counts = data[col].value_counts()\n",
        "    print(value_counts)\n",
        "    print(\" \")"
      ]
    },
    {
      "cell_type": "code",
      "execution_count": null,
      "metadata": {
        "id": "GioatFqCA7ij",
        "colab": {
          "base_uri": "https://localhost:8080/"
        },
        "outputId": "6d91870e-2d34-475a-f431-1aa419fa6b15"
      },
      "outputs": [
        {
          "output_type": "stream",
          "name": "stdout",
          "text": [
            "Categorical columns with null values and their counts:\n",
            "MONTH: 750\n",
            "COUNTRY: 4\n"
          ]
        }
      ],
      "source": [
        "# Displaying the categorical columns which contains null values and their counts\n",
        "print(\"Categorical columns with null values and their counts:\")\n",
        "for col in categorical_features:\n",
        "    null_count = data[col].isnull().sum()\n",
        "    if null_count > 0:\n",
        "        print(f\"{col}: {null_count}\")"
      ]
    },
    {
      "cell_type": "code",
      "execution_count": null,
      "metadata": {
        "id": "xdC5PHXgA9Fx",
        "colab": {
          "base_uri": "https://localhost:8080/"
        },
        "outputId": "da2765a0-93a7-4e87-c19c-035697e6f7b2"
      },
      "outputs": [
        {
          "output_type": "stream",
          "name": "stdout",
          "text": [
            "Categorical columns with 'Unknown' values and their counts:\n",
            "IMPORTER: 1042\n"
          ]
        }
      ],
      "source": [
        "# Displaying the categorical columns which contain 'Unknown' values and their relevant counts\n",
        "print(\"Categorical columns with 'Unknown' values and their counts:\")\n",
        "for col in categorical_features:\n",
        "    unknown_count = (data[col] == 'Unknown').sum()\n",
        "    if unknown_count > 0:\n",
        "        print(f\"{col}: {unknown_count}\")"
      ]
    },
    {
      "cell_type": "markdown",
      "metadata": {
        "id": "cS1RfvF5BBO_"
      },
      "source": [
        "## **Numerical Features**"
      ]
    },
    {
      "cell_type": "markdown",
      "metadata": {
        "id": "5JiGaPjBBENa"
      },
      "source": [
        "**Since 'Year' column has been misintepreted as a float64 data type column reassigning it as a int64 type column**"
      ]
    },
    {
      "cell_type": "code",
      "execution_count": null,
      "metadata": {
        "id": "xoZXpCjSBGV4"
      },
      "outputs": [],
      "source": [
        "# Converting the 'Year' column to int64 data type\n",
        "# data['YEAR'] = data['YEAR'].astype(int)\n",
        "\n",
        "# Displaying the data type of the 'Year' column\n",
        "# print(\"Data Type of 'Year' Column:\")\n",
        "# print(data['YEAR'].dtype)"
      ]
    },
    {
      "cell_type": "markdown",
      "metadata": {
        "id": "k61Ebt72BIUH"
      },
      "source": [
        "**The conversion cannot be done since the column contains missing values (both N/A and null values)**"
      ]
    },
    {
      "cell_type": "code",
      "execution_count": null,
      "metadata": {
        "id": "yHDT8jBYBd4y",
        "colab": {
          "base_uri": "https://localhost:8080/"
        },
        "outputId": "c2679fed-95ed-4aac-ef93-88c7ec4f2bc1"
      },
      "outputs": [
        {
          "output_type": "stream",
          "name": "stdout",
          "text": [
            "Numerical Features:\n",
            "Index(['YEAR', 'QUANTITY', 'VALUE_RS'], dtype='object')\n"
          ]
        }
      ],
      "source": [
        "# Numerical Features\n",
        "numerical_features = data.select_dtypes(include=['int64', 'float64']).columns\n",
        "\n",
        "# Displaying the Numerical Columns\n",
        "print(\"Numerical Features:\")\n",
        "print(numerical_features)"
      ]
    },
    {
      "cell_type": "markdown",
      "metadata": {
        "id": "ZpzIVQjABhC-"
      },
      "source": [
        "**Unique Values and Their Count Relevant to Each Numerical Column**"
      ]
    },
    {
      "cell_type": "code",
      "execution_count": null,
      "metadata": {
        "id": "NrYaMzC7Bq01",
        "colab": {
          "base_uri": "https://localhost:8080/"
        },
        "outputId": "087eebf5-4670-43e0-df7f-30937a5156bd"
      },
      "outputs": [
        {
          "output_type": "stream",
          "name": "stdout",
          "text": [
            "Unique values and their count in the numerical columns:\n",
            "\n",
            "YEAR\n",
            "2016.0    180\n",
            "2023.0    112\n",
            "Name: count, dtype: int64\n",
            " \n",
            "QUANTITY\n",
            "1000.0     55\n",
            "1.0        49\n",
            "16200.0    40\n",
            "5.0        31\n",
            "27.0       28\n",
            "           ..\n",
            "204.0       1\n",
            "23200.0     1\n",
            "22820.0     1\n",
            "22560.0     1\n",
            "19050.0     1\n",
            "Name: count, Length: 359, dtype: int64\n",
            " \n",
            "VALUE_RS\n",
            "0.40           4\n",
            "53.79          3\n",
            "188.55         3\n",
            "0.20           3\n",
            "21.15          2\n",
            "              ..\n",
            "350598.00      1\n",
            "2213950.00     1\n",
            "10318355.00    1\n",
            "24988179.00    1\n",
            "0.68           1\n",
            "Name: count, Length: 263, dtype: int64\n",
            " \n"
          ]
        }
      ],
      "source": [
        "# Displaying the unique values and their count in the numerical columns\n",
        "print(\"Unique values and their count in the numerical columns:\\n\")\n",
        "for col in numerical_features:\n",
        "    unique_values = data[col].unique()\n",
        "    value_counts = data[col].value_counts()\n",
        "    print(value_counts)\n",
        "    print(\" \")"
      ]
    },
    {
      "cell_type": "markdown",
      "metadata": {
        "id": "YFjllzAsBuT8"
      },
      "source": [
        "**Numerical columns with null values and their relevant counts**"
      ]
    },
    {
      "cell_type": "code",
      "execution_count": null,
      "metadata": {
        "id": "nd9l3Ut1BwXa",
        "colab": {
          "base_uri": "https://localhost:8080/"
        },
        "outputId": "96af124a-9ce6-491f-9be7-f11796d4e5fe"
      },
      "outputs": [
        {
          "output_type": "stream",
          "name": "stdout",
          "text": [
            "Numerical columns with null values and their relevant counts:\n",
            "YEAR: 750\n",
            "QUANTITY: 3\n",
            "VALUE_RS: 750\n"
          ]
        }
      ],
      "source": [
        "# Displaying the numerical columns with null values and their relevant counts\n",
        "print(\"Numerical columns with null values and their relevant counts:\")\n",
        "for col in numerical_cols:\n",
        "    null_count = data[col].isnull().sum()\n",
        "    if null_count > 0:\n",
        "        print(f\"{col}: {null_count}\")"
      ]
    },
    {
      "cell_type": "markdown",
      "metadata": {
        "id": "79zB4WHtCOdb"
      },
      "source": [
        "# **Data Preprocessing**"
      ]
    },
    {
      "cell_type": "markdown",
      "metadata": {
        "id": "uIFg1V0kCSXQ"
      },
      "source": [
        "## **Data Cleaning**"
      ]
    },
    {
      "cell_type": "code",
      "execution_count": null,
      "metadata": {
        "id": "OfzJDJDGCWsP"
      },
      "outputs": [],
      "source": [
        "# Step 1: Removing whitespaces from the object type columns\n",
        "object_columns = data.select_dtypes(include=['object']).columns\n",
        "data[object_columns] = data[object_columns].apply(lambda x: x.str.strip())"
      ]
    },
    {
      "cell_type": "code",
      "execution_count": null,
      "metadata": {
        "id": "wViKEDcAsajd"
      },
      "outputs": [],
      "source": [
        "# Step 2: Dropping duplicate values\n",
        "data.drop_duplicates(inplace=True)\n",
        "data.reset_index(drop=True, inplace=True)"
      ]
    },
    {
      "cell_type": "code",
      "execution_count": null,
      "metadata": {
        "id": "gRf6uNsWBcW7",
        "colab": {
          "base_uri": "https://localhost:8080/"
        },
        "outputId": "5933fb55-0192-4830-9de8-f680d32968c2"
      },
      "outputs": [
        {
          "output_type": "stream",
          "name": "stdout",
          "text": [
            "\n",
            "Dataset information after removing duplicates:\n",
            "<class 'pandas.core.frame.DataFrame'>\n",
            "RangeIndex: 655 entries, 0 to 654\n",
            "Data columns (total 11 columns):\n",
            " #   Column          Non-Null Count  Dtype  \n",
            "---  ------          --------------  -----  \n",
            " 0   IMPORTER        655 non-null    object \n",
            " 1   YEAR            288 non-null    float64\n",
            " 2   MONTH           288 non-null    object \n",
            " 3   HSCODE          655 non-null    object \n",
            " 4   COUNTRY         652 non-null    object \n",
            " 5   UNIT            655 non-null    object \n",
            " 6   QUANTITY        653 non-null    float64\n",
            " 7   VALUE_RS        288 non-null    float64\n",
            " 8   DESCRIPTION_01  655 non-null    object \n",
            " 9   DESCRIPTION_02  655 non-null    object \n",
            " 10  DESCRIPTION_03  655 non-null    object \n",
            "dtypes: float64(3), object(8)\n",
            "memory usage: 56.4+ KB\n"
          ]
        }
      ],
      "source": [
        "# Display dataset information\n",
        "print(\"\\nDataset information after removing duplicates:\")\n",
        "data.info()"
      ]
    },
    {
      "cell_type": "code",
      "execution_count": null,
      "metadata": {
        "id": "1u7mE0RGCYtq"
      },
      "outputs": [],
      "source": [
        "# Step 3: Removing unnecessary full stops(\".\") from the categorical columns\n",
        "data[categorical_cols] = data[categorical_cols].apply(lambda x: x.str.replace('.', ''))"
      ]
    },
    {
      "cell_type": "code",
      "execution_count": null,
      "metadata": {
        "id": "cPcbX7_7Cas1"
      },
      "outputs": [],
      "source": [
        "# Step 4: Removing unnecessary special characters and trailing spaces from the 'DESCRIPTION_03' column\n",
        "# Removing the leading hyphen\n",
        "data['DESCRIPTION_03'] = data['DESCRIPTION_03'].str.lstrip('-')\n",
        "\n",
        "# Removing trailing spaces\n",
        "data['DESCRIPTION_03'] = data['DESCRIPTION_03'].str.strip()"
      ]
    },
    {
      "cell_type": "code",
      "execution_count": null,
      "metadata": {
        "id": "d9s_cRp9CdIK"
      },
      "outputs": [],
      "source": [
        "# Step 5: Removing trailing spaces for the entire 'DESCRIPTION_02' column\n",
        "data['DESCRIPTION_02'] = data['DESCRIPTION_02'].str.strip()"
      ]
    },
    {
      "cell_type": "code",
      "execution_count": null,
      "metadata": {
        "id": "l9iqBOELChQf",
        "colab": {
          "base_uri": "https://localhost:8080/"
        },
        "outputId": "4a198be1-35c3-4855-f6b9-53627dda76b1"
      },
      "outputs": [
        {
          "output_type": "stream",
          "name": "stdout",
          "text": [
            "Unique values and their count relevant to each categorical column:\n",
            "\n",
            "IMPORTER\n",
            "Unknown    655\n",
            "Name: count, dtype: int64\n",
            " \n",
            "MONTH\n",
            "NOVEMBER     187\n",
            "FEBRUARY      13\n",
            "JULY          13\n",
            "MAY           11\n",
            "SEPTEMBER     11\n",
            "JANUARY       10\n",
            "JUNE           9\n",
            "AUGUST         8\n",
            "OCTOBER        8\n",
            "MARCH          6\n",
            "APRIL          6\n",
            "DECEMBER       6\n",
            "Name: count, dtype: int64\n",
            " \n",
            "HSCODE\n",
            "2847000000    50\n",
            "28070010      37\n",
            "280800        36\n",
            "284700        35\n",
            "280110        34\n",
            "              ..\n",
            "2801200032     1\n",
            "2801200031     1\n",
            "2801200030     1\n",
            "2801200029     1\n",
            "2812101100     1\n",
            "Name: count, Length: 131, dtype: int64\n",
            " \n",
            "COUNTRY\n",
            "Russia       102\n",
            "Vietnam       74\n",
            "germany       48\n",
            "Ukraine       38\n",
            "Kenya         36\n",
            "            ... \n",
            "DENMARK        1\n",
            "indonesia      1\n",
            "AUSTRIA        1\n",
            "PAKISTAN       1\n",
            "egypt          1\n",
            "Name: count, Length: 66, dtype: int64\n",
            " \n",
            "UNIT\n",
            "Kg     479\n",
            "KGS     46\n",
            "PCS     36\n",
            "NOS     33\n",
            "GMS     23\n",
            "MTS     19\n",
            "LTR     18\n",
            "DRM      1\n",
            "Name: count, dtype: int64\n",
            " \n",
            "DESCRIPTION_01\n",
            "Inorganic chemicals; Organic or inorganic compounds of precious metals, of rare earth metals, of radioactive elements or of isotopes    581\n",
            "Fertilizers                                                                                                                              74\n",
            "Name: count, dtype: int64\n",
            " \n",
            "DESCRIPTION_02\n",
            "Fluorine, chlorine, bromine and iodine                                            117\n",
            "Hydrogen peroxide, whether or not solidified with urea                            109\n",
            "Nitric acid; sulphonitric acids                                                    94\n",
            "Mineral or chemical fertilizers, nitrogenous                                       74\n",
            "Halides and halide oxides of non metals                                            71\n",
            "Fluorides; fluorosilicates, fluoroaluminates, and other complex fluorine salts     67\n",
            "Sulphuric acid; oleum                                                              51\n",
            "Chlorates and perchlorates; bromates and perbromates; iodates and periodates       45\n",
            "Cyanides, cyanide oxides and complex cyanides                                      27\n",
            "Name: count, dtype: int64\n",
            " \n",
            "DESCRIPTION_03\n",
            "Hydrogen peroxide, whether or not solidified with urea                            109\n",
            "Nitric acid; sulphonitric acids                                                    94\n",
            "Iodine                                                                             79\n",
            "Mineral or chemical fertilizers, nitrogenous                                       74\n",
            "Halides and halide oxides of non metals                                            71\n",
            "Fluorides; fluorosilicates, fluoroaluminates, and other complex fluorine salts     67\n",
            "Sulphuric acid; oleum                                                              51\n",
            "Chlorates and perchlorates; bromates and perbromates; iodates and periodates       45\n",
            "Chlorine                                                                           34\n",
            "Cyanides and cyanide oxides : Other                                                14\n",
            "Cyanides and cyanide oxides : Of sodium                                            13\n",
            "Bromine                                                                             4\n",
            "Name: count, dtype: int64\n",
            " \n"
          ]
        }
      ],
      "source": [
        "# Displaying the unique values and their counts relevant to each categorical column\n",
        "print(\"Unique values and their count relevant to each categorical column:\\n\")\n",
        "for col in categorical_features:\n",
        "    unique_values = data[col].unique()\n",
        "    value_counts = data[col].value_counts()\n",
        "    print(value_counts)\n",
        "    print(\" \")"
      ]
    },
    {
      "cell_type": "code",
      "execution_count": null,
      "metadata": {
        "id": "DTg6jZ6rCkAn",
        "colab": {
          "base_uri": "https://localhost:8080/"
        },
        "outputId": "199537a5-f208-4a55-d486-f2293eea35e2"
      },
      "outputs": [
        {
          "output_type": "stream",
          "name": "stdout",
          "text": [
            "    IMPORTER    YEAR     MONTH      HSCODE     COUNTRY UNIT  QUANTITY  \\\n",
            "0    Unknown  2023.0   JANUARY      280110  BANGLADESH   KG  131600.0   \n",
            "1    Unknown  2023.0   JANUARY      280110       INDIA   KG   37800.0   \n",
            "2    Unknown  2023.0   JANUARY      280110    MALAYSIA   KG   12090.0   \n",
            "3    Unknown  2023.0  FEBRUARY      280110  BANGLADESH   KG   25200.0   \n",
            "4    Unknown  2023.0  FEBRUARY      280110       INDIA   KG   75599.0   \n",
            "..       ...     ...       ...         ...         ...  ...       ...   \n",
            "650  Unknown     NaN       NaN    28121043     BELGIUM   KG   19740.0   \n",
            "651  Unknown     NaN       NaN  2812101100     UKRAINE   KG       NaN   \n",
            "652  Unknown     NaN       NaN    28121043     BELGIUM   KG   19320.0   \n",
            "653  Unknown     NaN       NaN    28121043     BELGIUM   KG   19050.0   \n",
            "654  Unknown     NaN       NaN  2812109900     UKRAINE   KG       NaN   \n",
            "\n",
            "       VALUE_RS                                     DESCRIPTION_01  \\\n",
            "0    13877114.0  Inorganic chemicals; Organic or inorganic comp...   \n",
            "1     3924989.0  Inorganic chemicals; Organic or inorganic comp...   \n",
            "2     5390772.0  Inorganic chemicals; Organic or inorganic comp...   \n",
            "3     3089445.0  Inorganic chemicals; Organic or inorganic comp...   \n",
            "4     6939860.0  Inorganic chemicals; Organic or inorganic comp...   \n",
            "..          ...                                                ...   \n",
            "650         NaN  Inorganic chemicals; Organic or inorganic comp...   \n",
            "651         NaN  Inorganic chemicals; Organic or inorganic comp...   \n",
            "652         NaN  Inorganic chemicals; Organic or inorganic comp...   \n",
            "653         NaN  Inorganic chemicals; Organic or inorganic comp...   \n",
            "654         NaN  Inorganic chemicals; Organic or inorganic comp...   \n",
            "\n",
            "                              DESCRIPTION_02  \\\n",
            "0     Fluorine, chlorine, bromine and iodine   \n",
            "1     Fluorine, chlorine, bromine and iodine   \n",
            "2     Fluorine, chlorine, bromine and iodine   \n",
            "3     Fluorine, chlorine, bromine and iodine   \n",
            "4     Fluorine, chlorine, bromine and iodine   \n",
            "..                                       ...   \n",
            "650  Halides and halide oxides of non metals   \n",
            "651  Halides and halide oxides of non metals   \n",
            "652  Halides and halide oxides of non metals   \n",
            "653  Halides and halide oxides of non metals   \n",
            "654  Halides and halide oxides of non metals   \n",
            "\n",
            "                              DESCRIPTION_03  \n",
            "0                                   Chlorine  \n",
            "1                                   Chlorine  \n",
            "2                                   Chlorine  \n",
            "3                                   Chlorine  \n",
            "4                                   Chlorine  \n",
            "..                                       ...  \n",
            "650  Halides and halide oxides of non metals  \n",
            "651  Halides and halide oxides of non metals  \n",
            "652  Halides and halide oxides of non metals  \n",
            "653  Halides and halide oxides of non metals  \n",
            "654  Halides and halide oxides of non metals  \n",
            "\n",
            "[655 rows x 11 columns]\n"
          ]
        }
      ],
      "source": [
        "# Step 6: Converting all the values in the 'COUNTRY' and the 'UNIT' columns to uppercase values\n",
        "data['COUNTRY'] = data['COUNTRY'].str.upper()\n",
        "data['UNIT'] = data['UNIT'].str.upper()\n",
        "\n",
        "# Displaying the modified dataset\n",
        "print(data)"
      ]
    },
    {
      "cell_type": "code",
      "execution_count": null,
      "metadata": {
        "id": "J97ByA3YCnLl",
        "colab": {
          "base_uri": "https://localhost:8080/"
        },
        "outputId": "6817bcee-84dd-4140-a0ca-7676c510de43"
      },
      "outputs": [
        {
          "output_type": "stream",
          "name": "stdout",
          "text": [
            "    IMPORTER    YEAR     MONTH      HSCODE     COUNTRY UNIT  QUANTITY  \\\n",
            "0    Unknown  2023.0   JANUARY  2801100000  BANGLADESH   KG  131600.0   \n",
            "1    Unknown  2023.0   JANUARY  2801100000       INDIA   KG   37800.0   \n",
            "2    Unknown  2023.0   JANUARY  2801100000    MALAYSIA   KG   12090.0   \n",
            "3    Unknown  2023.0  FEBRUARY  2801100000  BANGLADESH   KG   25200.0   \n",
            "4    Unknown  2023.0  FEBRUARY  2801100000       INDIA   KG   75599.0   \n",
            "..       ...     ...       ...         ...         ...  ...       ...   \n",
            "650  Unknown     NaN       NaN  2812104300     BELGIUM   KG   19740.0   \n",
            "651  Unknown     NaN       NaN  2812101100     UKRAINE   KG       NaN   \n",
            "652  Unknown     NaN       NaN  2812104300     BELGIUM   KG   19320.0   \n",
            "653  Unknown     NaN       NaN  2812104300     BELGIUM   KG   19050.0   \n",
            "654  Unknown     NaN       NaN  2812109900     UKRAINE   KG       NaN   \n",
            "\n",
            "       VALUE_RS                                     DESCRIPTION_01  \\\n",
            "0    13877114.0  Inorganic chemicals; Organic or inorganic comp...   \n",
            "1     3924989.0  Inorganic chemicals; Organic or inorganic comp...   \n",
            "2     5390772.0  Inorganic chemicals; Organic or inorganic comp...   \n",
            "3     3089445.0  Inorganic chemicals; Organic or inorganic comp...   \n",
            "4     6939860.0  Inorganic chemicals; Organic or inorganic comp...   \n",
            "..          ...                                                ...   \n",
            "650         NaN  Inorganic chemicals; Organic or inorganic comp...   \n",
            "651         NaN  Inorganic chemicals; Organic or inorganic comp...   \n",
            "652         NaN  Inorganic chemicals; Organic or inorganic comp...   \n",
            "653         NaN  Inorganic chemicals; Organic or inorganic comp...   \n",
            "654         NaN  Inorganic chemicals; Organic or inorganic comp...   \n",
            "\n",
            "                              DESCRIPTION_02  \\\n",
            "0     Fluorine, chlorine, bromine and iodine   \n",
            "1     Fluorine, chlorine, bromine and iodine   \n",
            "2     Fluorine, chlorine, bromine and iodine   \n",
            "3     Fluorine, chlorine, bromine and iodine   \n",
            "4     Fluorine, chlorine, bromine and iodine   \n",
            "..                                       ...   \n",
            "650  Halides and halide oxides of non metals   \n",
            "651  Halides and halide oxides of non metals   \n",
            "652  Halides and halide oxides of non metals   \n",
            "653  Halides and halide oxides of non metals   \n",
            "654  Halides and halide oxides of non metals   \n",
            "\n",
            "                              DESCRIPTION_03  \n",
            "0                                   Chlorine  \n",
            "1                                   Chlorine  \n",
            "2                                   Chlorine  \n",
            "3                                   Chlorine  \n",
            "4                                   Chlorine  \n",
            "..                                       ...  \n",
            "650  Halides and halide oxides of non metals  \n",
            "651  Halides and halide oxides of non metals  \n",
            "652  Halides and halide oxides of non metals  \n",
            "653  Halides and halide oxides of non metals  \n",
            "654  Halides and halide oxides of non metals  \n",
            "\n",
            "[655 rows x 11 columns]\n"
          ]
        }
      ],
      "source": [
        "# Step 7: Handling the HSCODES\n",
        "\n",
        "# Checking the length of the HSCODES and determining the maximum length\n",
        "data['HSCODE_LENGTH'] = data['HSCODE'].apply(len)\n",
        "max_length = data['HSCODE_LENGTH'].max()\n",
        "\n",
        "# Padding HSCODE values with trailing zeros to match the maximum length\n",
        "data['HSCODE'] = data['HSCODE'].apply(lambda x: x.ljust(max_length, '0'))\n",
        "\n",
        "# Dropping the helper column 'HSCODE_LENGTH' as it's no longer needed\n",
        "data.drop(columns=['HSCODE_LENGTH'], inplace=True)\n",
        "\n",
        "# Displaying the modified dataset\n",
        "print(data)"
      ]
    },
    {
      "cell_type": "code",
      "execution_count": null,
      "metadata": {
        "id": "t4EA9rqHCpgp",
        "colab": {
          "base_uri": "https://localhost:8080/"
        },
        "outputId": "b1eeefff-d40d-44fd-f661-cb133222ac41"
      },
      "outputs": [
        {
          "output_type": "stream",
          "name": "stdout",
          "text": [
            "    IMPORTER    YEAR     MONTH      HSCODE     COUNTRY UNIT  QUANTITY  \\\n",
            "0    Unknown  2023.0   JANUARY  2801100000  BANGLADESH   KG  131600.0   \n",
            "1    Unknown  2023.0   JANUARY  2801100000       INDIA   KG   37800.0   \n",
            "2    Unknown  2023.0   JANUARY  2801100000    MALAYSIA   KG   12090.0   \n",
            "3    Unknown  2023.0  FEBRUARY  2801100000  BANGLADESH   KG   25200.0   \n",
            "4    Unknown  2023.0  FEBRUARY  2801100000       INDIA   KG   75599.0   \n",
            "..       ...     ...       ...         ...         ...  ...       ...   \n",
            "650  Unknown     NaN       NaN  2812104300     BELGIUM   KG   19740.0   \n",
            "651  Unknown     NaN       NaN  2812101100     UKRAINE   KG       NaN   \n",
            "652  Unknown     NaN       NaN  2812104300     BELGIUM   KG   19320.0   \n",
            "653  Unknown     NaN       NaN  2812104300     BELGIUM   KG   19050.0   \n",
            "654  Unknown     NaN       NaN  2812109900     UKRAINE   KG       NaN   \n",
            "\n",
            "       VALUE_RS                                     DESCRIPTION_01  \\\n",
            "0    13877114.0  Inorganic chemicals; Organic or inorganic comp...   \n",
            "1     3924989.0  Inorganic chemicals; Organic or inorganic comp...   \n",
            "2     5390772.0  Inorganic chemicals; Organic or inorganic comp...   \n",
            "3     3089445.0  Inorganic chemicals; Organic or inorganic comp...   \n",
            "4     6939860.0  Inorganic chemicals; Organic or inorganic comp...   \n",
            "..          ...                                                ...   \n",
            "650         NaN  Inorganic chemicals; Organic or inorganic comp...   \n",
            "651         NaN  Inorganic chemicals; Organic or inorganic comp...   \n",
            "652         NaN  Inorganic chemicals; Organic or inorganic comp...   \n",
            "653         NaN  Inorganic chemicals; Organic or inorganic comp...   \n",
            "654         NaN  Inorganic chemicals; Organic or inorganic comp...   \n",
            "\n",
            "                              DESCRIPTION_02  \\\n",
            "0     Fluorine, chlorine, bromine and iodine   \n",
            "1     Fluorine, chlorine, bromine and iodine   \n",
            "2     Fluorine, chlorine, bromine and iodine   \n",
            "3     Fluorine, chlorine, bromine and iodine   \n",
            "4     Fluorine, chlorine, bromine and iodine   \n",
            "..                                       ...   \n",
            "650  Halides and halide oxides of non metals   \n",
            "651  Halides and halide oxides of non metals   \n",
            "652  Halides and halide oxides of non metals   \n",
            "653  Halides and halide oxides of non metals   \n",
            "654  Halides and halide oxides of non metals   \n",
            "\n",
            "                              DESCRIPTION_03  \n",
            "0                                   Chlorine  \n",
            "1                                   Chlorine  \n",
            "2                                   Chlorine  \n",
            "3                                   Chlorine  \n",
            "4                                   Chlorine  \n",
            "..                                       ...  \n",
            "650  Halides and halide oxides of non metals  \n",
            "651  Halides and halide oxides of non metals  \n",
            "652  Halides and halide oxides of non metals  \n",
            "653  Halides and halide oxides of non metals  \n",
            "654  Halides and halide oxides of non metals  \n",
            "\n",
            "[655 rows x 11 columns]\n"
          ]
        }
      ],
      "source": [
        "# Step 8: Handling the 'COUNTRY' Column\n",
        "\n",
        "# Replacing specific country names\n",
        "data['COUNTRY'] = data['COUNTRY'].replace({\n",
        "    'United States': 'USA',\n",
        "    'United States of America': 'USA',\n",
        "    'United Kingdom': 'UK',\n",
        "    'Korea, Republic of': 'South Korea'\n",
        "})\n",
        "\n",
        "print(data)"
      ]
    },
    {
      "cell_type": "code",
      "execution_count": null,
      "metadata": {
        "id": "28TiCorQCs7V",
        "colab": {
          "base_uri": "https://localhost:8080/"
        },
        "outputId": "b2dc3547-55b4-4229-b6f5-48b399c37c9e"
      },
      "outputs": [
        {
          "output_type": "stream",
          "name": "stdout",
          "text": [
            "Unique values and their count relevant to each categorical column:\n",
            "\n",
            "IMPORTER\n",
            "Unknown    655\n",
            "Name: count, dtype: int64\n",
            " \n",
            "MONTH\n",
            "NOVEMBER     187\n",
            "FEBRUARY      13\n",
            "JULY          13\n",
            "MAY           11\n",
            "SEPTEMBER     11\n",
            "JANUARY       10\n",
            "JUNE           9\n",
            "AUGUST         8\n",
            "OCTOBER        8\n",
            "MARCH          6\n",
            "APRIL          6\n",
            "DECEMBER       6\n",
            "Name: count, dtype: int64\n",
            " \n",
            "HSCODE\n",
            "2847000000    109\n",
            "2808000000     74\n",
            "2807001000     37\n",
            "2801100000     34\n",
            "3102401000     22\n",
            "             ... \n",
            "2801200029      1\n",
            "2801200028      1\n",
            "2801200027      1\n",
            "2801200026      1\n",
            "2812101100      1\n",
            "Name: count, Length: 117, dtype: int64\n",
            " \n",
            "COUNTRY\n",
            "RUSSIA                  102\n",
            "VIETNAM                  74\n",
            "BELGIUM                  51\n",
            "GERMANY                  49\n",
            "UKRAINE                  38\n",
            "KENYA                    36\n",
            "INDIA                    29\n",
            "CHINA                    28\n",
            "COLOMBIA                 27\n",
            "BANGLADESH               26\n",
            "UNITED STATES            22\n",
            "MALAYSIA                 19\n",
            "SOUTH KOREA              18\n",
            "UNITED KINGDOM           17\n",
            "THAILAND                 17\n",
            "US VIRGIN ISLANDS        11\n",
            "URUGUAY                  10\n",
            "JAPAN                     9\n",
            "SRI LANKA                 8\n",
            "GERMENY                   6\n",
            "KOREA,REPUBLIC OF         4\n",
            "ISRAEL                    4\n",
            "SWITZERLAND               4\n",
            "CAMBODIA                  3\n",
            "CANADA                    3\n",
            "TAIWAN                    3\n",
            "TURKMENISTAN              3\n",
            "UK                        3\n",
            "CHILE                     2\n",
            "FRANCE                    2\n",
            "KAZAKHSTAN                2\n",
            "SINGAPORE                 2\n",
            "ARGENTINA                 1\n",
            "SLOVAKIA                  1\n",
            "BRAZIL                    1\n",
            "SOUTH AFRICA              1\n",
            "NIGERIA                   1\n",
            "UNITED ARAB EMIRATES      1\n",
            "ITALY                     1\n",
            "SAUDI ARABIA              1\n",
            "EGYPT                     1\n",
            "NETHERLANDS (HOLAND)      1\n",
            "ROMANIA                   1\n",
            "SLOVENIA                  1\n",
            "MEXICO                    1\n",
            "INDONESIA                 1\n",
            "AUSTRIA                   1\n",
            "PAKISTAN                  1\n",
            "USA                       1\n",
            "DENMARK                   1\n",
            "SPAIN                     1\n",
            "GEORGIA                   1\n",
            "Name: count, dtype: int64\n",
            " \n",
            "UNIT\n",
            "KG     479\n",
            "KGS     46\n",
            "PCS     36\n",
            "NOS     33\n",
            "GMS     23\n",
            "MTS     19\n",
            "LTR     18\n",
            "DRM      1\n",
            "Name: count, dtype: int64\n",
            " \n",
            "DESCRIPTION_01\n",
            "Inorganic chemicals; Organic or inorganic compounds of precious metals, of rare earth metals, of radioactive elements or of isotopes    581\n",
            "Fertilizers                                                                                                                              74\n",
            "Name: count, dtype: int64\n",
            " \n",
            "DESCRIPTION_02\n",
            "Fluorine, chlorine, bromine and iodine                                            117\n",
            "Hydrogen peroxide, whether or not solidified with urea                            109\n",
            "Nitric acid; sulphonitric acids                                                    94\n",
            "Mineral or chemical fertilizers, nitrogenous                                       74\n",
            "Halides and halide oxides of non metals                                            71\n",
            "Fluorides; fluorosilicates, fluoroaluminates, and other complex fluorine salts     67\n",
            "Sulphuric acid; oleum                                                              51\n",
            "Chlorates and perchlorates; bromates and perbromates; iodates and periodates       45\n",
            "Cyanides, cyanide oxides and complex cyanides                                      27\n",
            "Name: count, dtype: int64\n",
            " \n",
            "DESCRIPTION_03\n",
            "Hydrogen peroxide, whether or not solidified with urea                            109\n",
            "Nitric acid; sulphonitric acids                                                    94\n",
            "Iodine                                                                             79\n",
            "Mineral or chemical fertilizers, nitrogenous                                       74\n",
            "Halides and halide oxides of non metals                                            71\n",
            "Fluorides; fluorosilicates, fluoroaluminates, and other complex fluorine salts     67\n",
            "Sulphuric acid; oleum                                                              51\n",
            "Chlorates and perchlorates; bromates and perbromates; iodates and periodates       45\n",
            "Chlorine                                                                           34\n",
            "Cyanides and cyanide oxides : Other                                                14\n",
            "Cyanides and cyanide oxides : Of sodium                                            13\n",
            "Bromine                                                                             4\n",
            "Name: count, dtype: int64\n",
            " \n"
          ]
        }
      ],
      "source": [
        "# Displaying the unique values and their counts relevant to each categorical column\n",
        "print(\"Unique values and their count relevant to each categorical column:\\n\")\n",
        "for col in categorical_features:\n",
        "    unique_values = data[col].unique()\n",
        "    value_counts = data[col].value_counts()\n",
        "    print(value_counts)\n",
        "    print(\" \")"
      ]
    },
    {
      "cell_type": "markdown",
      "metadata": {
        "id": "8EkA5UWJQEUW"
      },
      "source": [
        "## **Handling Missing Values**"
      ]
    },
    {
      "cell_type": "markdown",
      "metadata": {
        "id": "jyyT1PH2QGni"
      },
      "source": [
        "**Handling missing values in the categorical columns**"
      ]
    },
    {
      "cell_type": "markdown",
      "metadata": {
        "id": "7_OnbJJlQJCb"
      },
      "source": [
        "**Replacing all the missing values with 'Unknown'**"
      ]
    },
    {
      "cell_type": "code",
      "execution_count": null,
      "metadata": {
        "id": "18n-W_bbQPId"
      },
      "outputs": [],
      "source": [
        "# Step 12: Handling missing values in the categorical columns\n",
        "\n",
        "# Replacing all the missing values in the categorical columns with 'Unknown' for imputation\n",
        "data[categorical_features] = data[categorical_features].fillna('Unknown')"
      ]
    },
    {
      "cell_type": "markdown",
      "metadata": {
        "id": "_F_Yig3hQSNY"
      },
      "source": [
        "**Checking for any missing values which is left behind when replacing with 'Unkown'**"
      ]
    },
    {
      "cell_type": "code",
      "execution_count": null,
      "metadata": {
        "id": "-UzaNtiQQXWB",
        "colab": {
          "base_uri": "https://localhost:8080/"
        },
        "outputId": "2397e046-3343-4b61-9334-98370b5e12be"
      },
      "outputs": [
        {
          "output_type": "stream",
          "name": "stdout",
          "text": [
            "Checking for any missing values left behind after replacing with 'Unknown':\n",
            "IMPORTER: No missing values\n",
            " \n",
            "MONTH: No missing values\n",
            " \n",
            "HSCODE: No missing values\n",
            " \n",
            "COUNTRY: No missing values\n",
            " \n",
            "UNIT: No missing values\n",
            " \n",
            "DESCRIPTION_01: No missing values\n",
            " \n",
            "DESCRIPTION_02: No missing values\n",
            " \n",
            "DESCRIPTION_03: No missing values\n",
            " \n"
          ]
        }
      ],
      "source": [
        "# Verifying the changes after replacing the missing values with 'Unknown'\n",
        "print(\"Checking for any missing values left behind after replacing with 'Unknown':\")\n",
        "for col in categorical_features:\n",
        "    null_count = data[col].isnull().sum()\n",
        "    if null_count > 0:\n",
        "        print(f\"{col}: {null_count} missing values\")\n",
        "    else:\n",
        "        print(f\"{col}: No missing values\")\n",
        "    print(\" \")"
      ]
    },
    {
      "cell_type": "code",
      "execution_count": null,
      "metadata": {
        "id": "IlJAYVg9QaS0"
      },
      "outputs": [],
      "source": [
        "# Handling the 'Unknown' values in the 'COUNTRY' column using the mode\n",
        "mode_country = data['COUNTRY'].mode()[0]\n",
        "data['COUNTRY'] = data['COUNTRY'].replace('Unknown', mode_country)"
      ]
    },
    {
      "cell_type": "code",
      "execution_count": null,
      "metadata": {
        "id": "nPLd4_MEQc8G"
      },
      "outputs": [],
      "source": [
        "# Dropping the 'MONTH' and 'IMPORTERS' Columns due to the significant amount of null values\n",
        "data.drop(columns=['MONTH', 'IMPORTER'], inplace=True)"
      ]
    },
    {
      "cell_type": "code",
      "execution_count": null,
      "metadata": {
        "id": "hZXhr0JhQeIR",
        "colab": {
          "base_uri": "https://localhost:8080/"
        },
        "outputId": "894f0785-75ed-4550-89ea-4f9d17bd4262"
      },
      "outputs": [
        {
          "output_type": "stream",
          "name": "stdout",
          "text": [
            "\n",
            "Dataset information after categorical imputation:\n",
            "<class 'pandas.core.frame.DataFrame'>\n",
            "RangeIndex: 655 entries, 0 to 654\n",
            "Data columns (total 9 columns):\n",
            " #   Column          Non-Null Count  Dtype  \n",
            "---  ------          --------------  -----  \n",
            " 0   YEAR            288 non-null    float64\n",
            " 1   HSCODE          655 non-null    object \n",
            " 2   COUNTRY         655 non-null    object \n",
            " 3   UNIT            655 non-null    object \n",
            " 4   QUANTITY        653 non-null    float64\n",
            " 5   VALUE_RS        288 non-null    float64\n",
            " 6   DESCRIPTION_01  655 non-null    object \n",
            " 7   DESCRIPTION_02  655 non-null    object \n",
            " 8   DESCRIPTION_03  655 non-null    object \n",
            "dtypes: float64(3), object(6)\n",
            "memory usage: 46.2+ KB\n"
          ]
        }
      ],
      "source": [
        "# Displaying dataset information\n",
        "print(\"\\nDataset information after categorical imputation:\")\n",
        "data.info()"
      ]
    },
    {
      "cell_type": "code",
      "execution_count": null,
      "metadata": {
        "id": "aG-YBRIAQhHe",
        "colab": {
          "base_uri": "https://localhost:8080/"
        },
        "outputId": "9d27a1c0-d2f1-4792-9867-8fde4d75cf23"
      },
      "outputs": [
        {
          "output_type": "stream",
          "name": "stdout",
          "text": [
            "Unique Countries:\n",
            "['BANGLADESH' 'INDIA' 'MALAYSIA' 'AUSTRIA' 'CHINA' 'USA' 'SOUTH KOREA'\n",
            " 'THAILAND' 'GERMENY' 'CANADA' 'DENMARK' 'UK' 'JAPAN' 'PAKISTAN'\n",
            " 'NETHERLANDS (HOLAND)' 'BELGIUM' 'SINGAPORE' 'SPAIN' 'FRANCE' 'GERMANY'\n",
            " 'ISRAEL' 'CHILE' 'SWITZERLAND' 'UNITED STATES' 'TURKMENISTAN'\n",
            " 'KOREA,REPUBLIC OF' 'UNITED KINGDOM' 'TAIWAN' 'RUSSIA' 'VIETNAM'\n",
            " 'US VIRGIN ISLANDS' 'KENYA' 'UKRAINE' 'URUGUAY' 'COLOMBIA' 'INDONESIA'\n",
            " 'KAZAKHSTAN' 'CAMBODIA' 'MEXICO' 'SLOVENIA' 'ROMANIA' 'SLOVAKIA' 'EGYPT'\n",
            " 'SAUDI ARABIA' 'ITALY' 'UNITED ARAB EMIRATES' 'NIGERIA' 'SOUTH AFRICA'\n",
            " 'SRI LANKA' 'ARGENTINA' 'BRAZIL' 'GEORGIA']\n"
          ]
        }
      ],
      "source": [
        "# Display unique values in the 'COUNTRY' column\n",
        "unique_countries = data['COUNTRY'].unique()\n",
        "print(\"Unique Countries:\")\n",
        "print(unique_countries)"
      ]
    },
    {
      "cell_type": "code",
      "execution_count": null,
      "metadata": {
        "id": "wptcjQW_QyAE",
        "colab": {
          "base_uri": "https://localhost:8080/"
        },
        "outputId": "cb64eabb-da4c-4027-f48c-82d83ff55f69"
      },
      "outputs": [
        {
          "output_type": "stream",
          "name": "stdout",
          "text": [
            "Unique Units:\n",
            "['KG' 'LTR' 'PCS' 'KGS' 'NOS' 'GMS' 'MTS' 'DRM']\n"
          ]
        }
      ],
      "source": [
        "# Display the unique values in the 'UNIT' column\n",
        "unique_units = data['UNIT'].unique()\n",
        "print(\"Unique Units:\")\n",
        "print(unique_units)"
      ]
    },
    {
      "cell_type": "code",
      "execution_count": null,
      "metadata": {
        "id": "t5lk4pY8QzQR",
        "colab": {
          "base_uri": "https://localhost:8080/"
        },
        "outputId": "60b0fb8f-a0e5-4df5-f704-a728202616e6"
      },
      "outputs": [
        {
          "output_type": "stream",
          "name": "stdout",
          "text": [
            "Unique Descriptions_01:\n",
            "['Inorganic chemicals; Organic or inorganic compounds of precious metals, of rare earth metals, of radioactive elements or of isotopes'\n",
            " 'Fertilizers']\n"
          ]
        }
      ],
      "source": [
        "# Displaying the unique values in the 'DESCRIPTION_01' column\n",
        "unique_descriptions_01 = data['DESCRIPTION_01'].unique()\n",
        "print(\"Unique Descriptions_01:\")\n",
        "print(unique_descriptions_01)"
      ]
    },
    {
      "cell_type": "code",
      "execution_count": null,
      "metadata": {
        "id": "Xk5F-dOHQ1uf",
        "colab": {
          "base_uri": "https://localhost:8080/"
        },
        "outputId": "6dadf1b5-e90d-4a7f-a404-40a715ab8998"
      },
      "outputs": [
        {
          "output_type": "stream",
          "name": "stdout",
          "text": [
            "Unique Descriptions_02:\n",
            "['Fluorine, chlorine, bromine and iodine'\n",
            " 'Nitric acid; sulphonitric acids'\n",
            " 'Cyanides, cyanide oxides and complex cyanides'\n",
            " 'Hydrogen peroxide, whether or not solidified with urea'\n",
            " 'Chlorates and perchlorates; bromates and perbromates; iodates and periodates'\n",
            " 'Mineral or chemical fertilizers, nitrogenous' 'Sulphuric acid; oleum'\n",
            " 'Halides and halide oxides of non metals'\n",
            " 'Fluorides; fluorosilicates, fluoroaluminates, and other complex fluorine salts']\n"
          ]
        }
      ],
      "source": [
        "# Displaying the unique values in the 'DESCRIPTION_02' column\n",
        "unique_descriptions_02 = data['DESCRIPTION_02'].unique()\n",
        "print(\"Unique Descriptions_02:\")\n",
        "print(unique_descriptions_02)"
      ]
    },
    {
      "cell_type": "code",
      "execution_count": null,
      "metadata": {
        "id": "5DesnmIJQ3ip",
        "colab": {
          "base_uri": "https://localhost:8080/"
        },
        "outputId": "3996e1c4-fc16-4955-aa28-7438d56ea8c6"
      },
      "outputs": [
        {
          "output_type": "stream",
          "name": "stdout",
          "text": [
            "Unique Descriptions_03:\n",
            "['Chlorine' 'Nitric acid; sulphonitric acids'\n",
            " 'Cyanides and cyanide oxides : Of sodium'\n",
            " 'Cyanides and cyanide oxides : Other'\n",
            " 'Hydrogen peroxide, whether or not solidified with urea' 'Iodine'\n",
            " 'Bromine'\n",
            " 'Chlorates and perchlorates; bromates and perbromates; iodates and periodates'\n",
            " 'Mineral or chemical fertilizers, nitrogenous' 'Sulphuric acid; oleum'\n",
            " 'Halides and halide oxides of non metals'\n",
            " 'Fluorides; fluorosilicates, fluoroaluminates, and other complex fluorine salts']\n"
          ]
        }
      ],
      "source": [
        "# Displaying the unique values in the 'DESCRIPTION_03' column\n",
        "unique_descriptions_03 = data['DESCRIPTION_03'].unique()\n",
        "print(\"Unique Descriptions_03:\")\n",
        "print(unique_descriptions_03)"
      ]
    },
    {
      "cell_type": "markdown",
      "metadata": {
        "id": "7U6pNi46Q7Gp"
      },
      "source": [
        "# **Data Encoding**"
      ]
    },
    {
      "cell_type": "code",
      "execution_count": null,
      "metadata": {
        "id": "99voN165RpPP",
        "colab": {
          "base_uri": "https://localhost:8080/"
        },
        "outputId": "5fa29ec6-7cf2-486d-f5d6-18d7a668c1c0"
      },
      "outputs": [
        {
          "output_type": "stream",
          "name": "stdout",
          "text": [
            "One-Hot Encoding applied to column: HSCODE and encoder saved as /content/drive/MyDrive/Importer_Risk_Prediction_2/encoders/HSCODE_encoder.pkl\n",
            "One-Hot Encoding applied to column: COUNTRY and encoder saved as /content/drive/MyDrive/Importer_Risk_Prediction_2/encoders/COUNTRY_encoder.pkl\n",
            "One-Hot Encoding applied to column: UNIT and encoder saved as /content/drive/MyDrive/Importer_Risk_Prediction_2/encoders/UNIT_encoder.pkl\n",
            "One-Hot Encoding applied to column: DESCRIPTION_01 and encoder saved as /content/drive/MyDrive/Importer_Risk_Prediction_2/encoders/DESCRIPTION_01_encoder.pkl\n",
            "One-Hot Encoding applied to column: DESCRIPTION_02 and encoder saved as /content/drive/MyDrive/Importer_Risk_Prediction_2/encoders/DESCRIPTION_02_encoder.pkl\n",
            "One-Hot Encoding applied to column: DESCRIPTION_03 and encoder saved as /content/drive/MyDrive/Importer_Risk_Prediction_2/encoders/DESCRIPTION_03_encoder.pkl\n",
            "All categorical columns encoded and encoders saved successfully.\n"
          ]
        }
      ],
      "source": [
        "# Step 13: Encoding the Categorical variables\n",
        "\n",
        "import joblib\n",
        "from sklearn.preprocessing import OneHotEncoder\n",
        "import os\n",
        "\n",
        "# Initialize a dictionary to store encoders\n",
        "encoders = {}\n",
        "\n",
        "# Define the directory where you want to save the encoders\n",
        "encoder_directory = '/content/drive/MyDrive/Importer_Risk_Prediction_2/encoders/'\n",
        "\n",
        "# Ensure the directory exists\n",
        "os.makedirs(encoder_directory, exist_ok=True)\n",
        "\n",
        "# Encoding categorical columns\n",
        "encoding_columns = ['HSCODE', 'COUNTRY', 'UNIT', 'DESCRIPTION_01', 'DESCRIPTION_02', 'DESCRIPTION_03']\n",
        "for col in encoding_columns:\n",
        "    one_hot_encoder = OneHotEncoder(sparse_output=False, handle_unknown='ignore')\n",
        "    encoded = one_hot_encoder.fit_transform(data[[col]])\n",
        "    encoded_df = pd.DataFrame(encoded, columns=[f'{col}_{category}' for category in one_hot_encoder.categories_[0]])\n",
        "    data = pd.concat([data, encoded_df], axis=1)\n",
        "    data.drop(columns=[col], inplace=True)\n",
        "\n",
        "    # Save the encoder for the column with the column name as the file name in the specified directory\n",
        "    encoder_filename = os.path.join(encoder_directory, f'{col}_encoder.pkl')\n",
        "    joblib.dump(one_hot_encoder, encoder_filename)\n",
        "    encoders[col] = one_hot_encoder\n",
        "    print(f\"One-Hot Encoding applied to column: {col} and encoder saved as {encoder_filename}\")\n",
        "\n",
        "print(\"All categorical columns encoded and encoders saved successfully.\")\n"
      ]
    },
    {
      "cell_type": "markdown",
      "metadata": {
        "id": "YCLc_4uJSASv"
      },
      "source": [
        "## **Handling missing values in the numerical columns**"
      ]
    },
    {
      "cell_type": "markdown",
      "metadata": {
        "id": "IQRfv_yNSCa_"
      },
      "source": [
        "**Using K-NN Imputaion to efficiently capture the small missing values and the captures local patterns in the 'Quantity' coulmn**"
      ]
    },
    {
      "cell_type": "code",
      "execution_count": null,
      "metadata": {
        "id": "FutjUBGbSFNB"
      },
      "outputs": [],
      "source": [
        "# Step 14: Handling missing values in the numerical columns\n",
        "\n",
        "# KNN Imputation for 'QUANTITY'\n",
        "knn_imputer = KNNImputer(n_neighbors=5)\n",
        "data[['QUANTITY']] = knn_imputer.fit_transform(data[['QUANTITY']])"
      ]
    },
    {
      "cell_type": "code",
      "execution_count": null,
      "metadata": {
        "id": "zhLkTaQZSGqe"
      },
      "outputs": [],
      "source": [
        "# Step 15: Dropping the 'YEAR' n the 'VALUE_RS' Column\n",
        "data.drop(columns=['YEAR', 'VALUE_RS'], inplace=True)"
      ]
    },
    {
      "cell_type": "markdown",
      "metadata": {
        "id": "CX5h1YNNSKaw"
      },
      "source": [
        "## **Handling the Outliers**"
      ]
    },
    {
      "cell_type": "code",
      "execution_count": null,
      "metadata": {
        "id": "x2Kro7E2SOkT",
        "colab": {
          "base_uri": "https://localhost:8080/"
        },
        "outputId": "06b6f4a4-ef66-41e4-d3f7-d6fb110565f5"
      },
      "outputs": [
        {
          "output_type": "stream",
          "name": "stdout",
          "text": [
            "Column: QUANTITY\n",
            "  Outliers: 87, Lower: -30370.00, Upper: 50670.00\n",
            " \n"
          ]
        }
      ],
      "source": [
        "# Step 16: Handling the outliers in the numerical columns\n",
        "\n",
        "# Assigning the Numerical Columns for the outlier analysis\n",
        "outlier_columns = [\"QUANTITY\"]\n",
        "\n",
        "# Creating an empty dictionary to store the outliers\n",
        "outlier_info = {}\n",
        "\n",
        "for column in outlier_columns:\n",
        "    Q1, Q3 = data[column].quantile([0.25, 0.75])\n",
        "    IQR = Q3 - Q1\n",
        "    lower_bound = Q1 - 1.5 * IQR\n",
        "    upper_bound = Q3 + 1.5 * IQR\n",
        "\n",
        "    # Detecting outliers\n",
        "    outliers = data[(data[column] < lower_bound) | (data[column] > upper_bound)]\n",
        "\n",
        "    outlier_info[column] = {\n",
        "        'Outliers': len(outliers),\n",
        "        'Lower Bound': lower_bound,\n",
        "        'Upper Bound': upper_bound\n",
        "    }\n",
        "\n",
        "    print(f\"Column: {column}\")\n",
        "    print(f\"  Outliers: {outlier_info[column]['Outliers']}, Lower: {lower_bound:.2f}, Upper: {upper_bound:.2f}\")\n",
        "    print(\" \")"
      ]
    },
    {
      "cell_type": "markdown",
      "metadata": {
        "id": "T2N_o-fkSSqS"
      },
      "source": [
        "## **Visualization of the Outliers**"
      ]
    },
    {
      "cell_type": "code",
      "execution_count": null,
      "metadata": {
        "id": "P5WydpJRSVKG",
        "colab": {
          "base_uri": "https://localhost:8080/",
          "height": 507
        },
        "outputId": "092aad32-0e9f-4433-b953-78b91ae67d3a"
      },
      "outputs": [
        {
          "output_type": "display_data",
          "data": {
            "text/plain": [
              "<Figure size 1000x500 with 1 Axes>"
            ],
            "image/png": "[encoded data removed]"
          },
          "metadata": {}
        }
      ],
      "source": [
        "# Visualizing the outliers for Quantity\n",
        "plt.figure(figsize=(10, 5))\n",
        "Q1 = data['QUANTITY'].quantile(0.25)\n",
        "Q3 = data['QUANTITY'].quantile(0.75)\n",
        "IQR = Q3 - Q1\n",
        "lower_bound = Q1 - 1.5 * IQR\n",
        "upper_bound = Q3 + 1.5 * IQR\n",
        "\n",
        "sns.boxplot(x=data['QUANTITY'], color='skyblue', flierprops=dict(marker='o', color='red', markersize=5))\n",
        "plt.axvline(lower_bound, color='red', linestyle='--', label='Lower Bound')\n",
        "plt.axvline(upper_bound, color='green', linestyle='--', label='Upper Bound')\n",
        "plt.title('Boxplot of Quantity')\n",
        "plt.xlabel('Quantity')\n",
        "plt.legend()\n",
        "plt.grid(axis='x', alpha=0.75)\n",
        "plt.tight_layout()\n",
        "plt.show()"
      ]
    },
    {
      "cell_type": "code",
      "execution_count": null,
      "metadata": {
        "id": "2vz9KPWOSYVm",
        "colab": {
          "base_uri": "https://localhost:8080/"
        },
        "outputId": "3339f025-bf41-4e2d-e490-d81ee51b8eb4"
      },
      "outputs": [
        {
          "output_type": "stream",
          "name": "stdout",
          "text": [
            "   QUANTITY  HSCODE_2801100000  HSCODE_2801200000  HSCODE_2801200001  \\\n",
            "0      0.03                1.0                0.0                0.0   \n",
            "1      0.03                1.0                0.0                0.0   \n",
            "2      0.03                1.0                0.0                0.0   \n",
            "3      0.03                1.0                0.0                0.0   \n",
            "4      0.03                1.0                0.0                0.0   \n",
            "\n",
            "   HSCODE_2801200002  HSCODE_2801200003  HSCODE_2801200004  HSCODE_2801200005  \\\n",
            "0                0.0                0.0                0.0                0.0   \n",
            "1                0.0                0.0                0.0                0.0   \n",
            "2                0.0                0.0                0.0                0.0   \n",
            "3                0.0                0.0                0.0                0.0   \n",
            "4                0.0                0.0                0.0                0.0   \n",
            "\n",
            "   HSCODE_2801200006  HSCODE_2801200007  ...  DESCRIPTION_03_Chlorine  \\\n",
            "0                0.0                0.0  ...                      1.0   \n",
            "1                0.0                0.0  ...                      1.0   \n",
            "2                0.0                0.0  ...                      1.0   \n",
            "3                0.0                0.0  ...                      1.0   \n",
            "4                0.0                0.0  ...                      1.0   \n",
            "\n",
            "   DESCRIPTION_03_Cyanides and cyanide oxides : Of sodium  \\\n",
            "0                                                0.0        \n",
            "1                                                0.0        \n",
            "2                                                0.0        \n",
            "3                                                0.0        \n",
            "4                                                0.0        \n",
            "\n",
            "   DESCRIPTION_03_Cyanides and cyanide oxides : Other  \\\n",
            "0                                                0.0    \n",
            "1                                                0.0    \n",
            "2                                                0.0    \n",
            "3                                                0.0    \n",
            "4                                                0.0    \n",
            "\n",
            "   DESCRIPTION_03_Fluorides; fluorosilicates, fluoroaluminates, and other complex fluorine salts  \\\n",
            "0                                                0.0                                               \n",
            "1                                                0.0                                               \n",
            "2                                                0.0                                               \n",
            "3                                                0.0                                               \n",
            "4                                                0.0                                               \n",
            "\n",
            "   DESCRIPTION_03_Halides and halide oxides of non metals  \\\n",
            "0                                                0.0        \n",
            "1                                                0.0        \n",
            "2                                                0.0        \n",
            "3                                                0.0        \n",
            "4                                                0.0        \n",
            "\n",
            "   DESCRIPTION_03_Hydrogen peroxide, whether or not solidified with urea  \\\n",
            "0                                                0.0                       \n",
            "1                                                0.0                       \n",
            "2                                                0.0                       \n",
            "3                                                0.0                       \n",
            "4                                                0.0                       \n",
            "\n",
            "   DESCRIPTION_03_Iodine  \\\n",
            "0                    0.0   \n",
            "1                    0.0   \n",
            "2                    0.0   \n",
            "3                    0.0   \n",
            "4                    0.0   \n",
            "\n",
            "   DESCRIPTION_03_Mineral or chemical fertilizers, nitrogenous  \\\n",
            "0                                                0.0             \n",
            "1                                                0.0             \n",
            "2                                                0.0             \n",
            "3                                                0.0             \n",
            "4                                                0.0             \n",
            "\n",
            "   DESCRIPTION_03_Nitric acid; sulphonitric acids  \\\n",
            "0                                             0.0   \n",
            "1                                             0.0   \n",
            "2                                             0.0   \n",
            "3                                             0.0   \n",
            "4                                             0.0   \n",
            "\n",
            "   DESCRIPTION_03_Sulphuric acid; oleum  \n",
            "0                                   0.0  \n",
            "1                                   0.0  \n",
            "2                                   0.0  \n",
            "3                                   0.0  \n",
            "4                                   0.0  \n",
            "\n",
            "[5 rows x 201 columns]\n"
          ]
        }
      ],
      "source": [
        "# Function to handle outliers by capping\n",
        "def handle_outliers(data, method='cap'):\n",
        "    for column in data.columns:\n",
        "      if column == 'QUANTITY':\n",
        "            lower_bound, upper_bound = -0.31, 0.03\n",
        "            data[column] = data[column].apply(lambda x: min(max(x, lower_bound), upper_bound) if method == 'cap' else x)\n",
        "\n",
        "    return data\n",
        "\n",
        "\n",
        "# Applying the function to handle outliers\n",
        "data = handle_outliers(data.copy(), method='cap')\n",
        "\n",
        "# Displaying the cleaned dataset\n",
        "print(data.head())"
      ]
    },
    {
      "cell_type": "code",
      "execution_count": null,
      "metadata": {
        "id": "iVCXzcdNSasa"
      },
      "outputs": [],
      "source": [
        "# Step 17: Normalizing Quantity\n",
        "scaler = StandardScaler()\n",
        "quantity_scaled = scaler.fit_transform(data[['QUANTITY']])"
      ]
    },
    {
      "cell_type": "code",
      "execution_count": null,
      "metadata": {
        "id": "51XRepj7ZoC8",
        "colab": {
          "base_uri": "https://localhost:8080/"
        },
        "outputId": "b1f9d45c-9466-48a1-f689-5f6a33fb4fac"
      },
      "outputs": [
        {
          "output_type": "stream",
          "name": "stdout",
          "text": [
            "Clustering completed successfully. Importers assigned.\n"
          ]
        }
      ],
      "source": [
        "# Step 18: Normalizing Quantity\n",
        "\n",
        "# Performing K-means clustering\n",
        "kmeans = KMeans(n_clusters=3, random_state=42)\n",
        "clusters = kmeans.fit_predict(data)\n",
        "\n",
        "# Assigning risk levels directly\n",
        "importers = np.array(['GlobalChem Corp', 'EcoImports Ltd', 'SafeChem Traders', 'Prime Chemicals Inc', 'ChemTrade Solutions',\n",
        "             'GreenEarth Supplies', 'BioChem Imports', 'Reliable Chemicals Co', 'TransGlobal Imports', 'PureChem Ltd'])\n",
        "\n",
        "data['IMPORTER'] = importers[clusters]\n",
        "\n",
        "print(\"Clustering completed successfully. Importers assigned.\")"
      ]
    },
    {
      "cell_type": "code",
      "execution_count": null,
      "metadata": {
        "id": "DEaWeuRqaGUi",
        "colab": {
          "base_uri": "https://localhost:8080/"
        },
        "outputId": "54bafc62-576c-45b5-ea86-75ee7f8dc04e"
      },
      "outputs": [
        {
          "output_type": "stream",
          "name": "stdout",
          "text": [
            "One-Hot Encoding applied to 'IMPORTER' and encoder saved as /content/drive/MyDrive/Importer_Risk_Prediction_2/encoders/IMPORTER_encoder.pkl\n",
            "   QUANTITY  HSCODE_2801100000  HSCODE_2801200000  HSCODE_2801200001  \\\n",
            "0      0.03                1.0                0.0                0.0   \n",
            "1      0.03                1.0                0.0                0.0   \n",
            "2      0.03                1.0                0.0                0.0   \n",
            "3      0.03                1.0                0.0                0.0   \n",
            "4      0.03                1.0                0.0                0.0   \n",
            "\n",
            "   HSCODE_2801200002  HSCODE_2801200003  HSCODE_2801200004  HSCODE_2801200005  \\\n",
            "0                0.0                0.0                0.0                0.0   \n",
            "1                0.0                0.0                0.0                0.0   \n",
            "2                0.0                0.0                0.0                0.0   \n",
            "3                0.0                0.0                0.0                0.0   \n",
            "4                0.0                0.0                0.0                0.0   \n",
            "\n",
            "   HSCODE_2801200006  HSCODE_2801200007  ...  \\\n",
            "0                0.0                0.0  ...   \n",
            "1                0.0                0.0  ...   \n",
            "2                0.0                0.0  ...   \n",
            "3                0.0                0.0  ...   \n",
            "4                0.0                0.0  ...   \n",
            "\n",
            "   DESCRIPTION_03_Fluorides; fluorosilicates, fluoroaluminates, and other complex fluorine salts  \\\n",
            "0                                                0.0                                               \n",
            "1                                                0.0                                               \n",
            "2                                                0.0                                               \n",
            "3                                                0.0                                               \n",
            "4                                                0.0                                               \n",
            "\n",
            "   DESCRIPTION_03_Halides and halide oxides of non metals  \\\n",
            "0                                                0.0        \n",
            "1                                                0.0        \n",
            "2                                                0.0        \n",
            "3                                                0.0        \n",
            "4                                                0.0        \n",
            "\n",
            "   DESCRIPTION_03_Hydrogen peroxide, whether or not solidified with urea  \\\n",
            "0                                                0.0                       \n",
            "1                                                0.0                       \n",
            "2                                                0.0                       \n",
            "3                                                0.0                       \n",
            "4                                                0.0                       \n",
            "\n",
            "   DESCRIPTION_03_Iodine  \\\n",
            "0                    0.0   \n",
            "1                    0.0   \n",
            "2                    0.0   \n",
            "3                    0.0   \n",
            "4                    0.0   \n",
            "\n",
            "   DESCRIPTION_03_Mineral or chemical fertilizers, nitrogenous  \\\n",
            "0                                                0.0             \n",
            "1                                                0.0             \n",
            "2                                                0.0             \n",
            "3                                                0.0             \n",
            "4                                                0.0             \n",
            "\n",
            "   DESCRIPTION_03_Nitric acid; sulphonitric acids  \\\n",
            "0                                             0.0   \n",
            "1                                             0.0   \n",
            "2                                             0.0   \n",
            "3                                             0.0   \n",
            "4                                             0.0   \n",
            "\n",
            "   DESCRIPTION_03_Sulphuric acid; oleum  IMPORTER_EcoImports Ltd  \\\n",
            "0                                   0.0                      0.0   \n",
            "1                                   0.0                      0.0   \n",
            "2                                   0.0                      0.0   \n",
            "3                                   0.0                      0.0   \n",
            "4                                   0.0                      0.0   \n",
            "\n",
            "   IMPORTER_GlobalChem Corp  IMPORTER_SafeChem Traders  \n",
            "0                       1.0                        0.0  \n",
            "1                       1.0                        0.0  \n",
            "2                       1.0                        0.0  \n",
            "3                       1.0                        0.0  \n",
            "4                       1.0                        0.0  \n",
            "\n",
            "[5 rows x 204 columns]\n"
          ]
        }
      ],
      "source": [
        "# Step 19: Encoding the 'IMPORTER' Column\n",
        "\n",
        "# Encoding the 'IMPORTER' column using OneHotEncoder (consistent with other categorical columns)\n",
        "importer_encoder = OneHotEncoder(sparse_output=False, handle_unknown='ignore')\n",
        "encoded_importer = importer_encoder.fit_transform(data[['IMPORTER']])\n",
        "\n",
        "# Convert encoded array to DataFrame with proper column names\n",
        "importer_encoded_data = pd.DataFrame(encoded_importer, columns=[f'IMPORTER_{category}' for category in importer_encoder.categories_[0]])\n",
        "\n",
        "# Concatenate the new encoded DataFrame with the original data and drop the 'IMPORTER' column\n",
        "data = pd.concat([data, importer_encoded_data], axis=1)\n",
        "data.drop(columns=['IMPORTER'], inplace=True)\n",
        "\n",
        "# Save the OneHotEncoder for 'IMPORTER'\n",
        "encoder_filename = '/content/drive/MyDrive/Importer_Risk_Prediction_2/encoders/IMPORTER_encoder.pkl'\n",
        "joblib.dump(importer_encoder, encoder_filename)\n",
        "\n",
        "print(f\"One-Hot Encoding applied to 'IMPORTER' and encoder saved as {encoder_filename}\")\n",
        "print(data.head())"
      ]
    },
    {
      "cell_type": "code",
      "execution_count": null,
      "metadata": {
        "id": "1rD7ko8FbQeS",
        "colab": {
          "base_uri": "https://localhost:8080/"
        },
        "outputId": "9b8e0970-5f71-408d-fa29-6ebaebba0d39"
      },
      "outputs": [
        {
          "output_type": "stream",
          "name": "stdout",
          "text": [
            "<class 'pandas.core.frame.DataFrame'>\n",
            "RangeIndex: 655 entries, 0 to 654\n",
            "Columns: 204 entries, QUANTITY to IMPORTER_SafeChem Traders\n",
            "dtypes: float64(204)\n",
            "memory usage: 1.0 MB\n",
            "None\n"
          ]
        }
      ],
      "source": [
        "# Displaying Dataset Information\n",
        "print(data.info())"
      ]
    },
    {
      "cell_type": "code",
      "execution_count": null,
      "metadata": {
        "id": "-QuXYxSobWdl",
        "colab": {
          "base_uri": "https://localhost:8080/"
        },
        "outputId": "9d6c7522-3eb1-41b4-da07-d90ea1d8eaf5"
      },
      "outputs": [
        {
          "output_type": "stream",
          "name": "stdout",
          "text": [
            "   QUANTITY  HSCODE_2801100000  HSCODE_2801200000  HSCODE_2801200001  \\\n",
            "0      0.03                1.0                0.0                0.0   \n",
            "1      0.03                1.0                0.0                0.0   \n",
            "2      0.03                1.0                0.0                0.0   \n",
            "3      0.03                1.0                0.0                0.0   \n",
            "4      0.03                1.0                0.0                0.0   \n",
            "\n",
            "   HSCODE_2801200002  HSCODE_2801200003  HSCODE_2801200004  HSCODE_2801200005  \\\n",
            "0                0.0                0.0                0.0                0.0   \n",
            "1                0.0                0.0                0.0                0.0   \n",
            "2                0.0                0.0                0.0                0.0   \n",
            "3                0.0                0.0                0.0                0.0   \n",
            "4                0.0                0.0                0.0                0.0   \n",
            "\n",
            "   HSCODE_2801200006  HSCODE_2801200007  ...  \\\n",
            "0                0.0                0.0  ...   \n",
            "1                0.0                0.0  ...   \n",
            "2                0.0                0.0  ...   \n",
            "3                0.0                0.0  ...   \n",
            "4                0.0                0.0  ...   \n",
            "\n",
            "   DESCRIPTION_03_Fluorides; fluorosilicates, fluoroaluminates, and other complex fluorine salts  \\\n",
            "0                                                0.0                                               \n",
            "1                                                0.0                                               \n",
            "2                                                0.0                                               \n",
            "3                                                0.0                                               \n",
            "4                                                0.0                                               \n",
            "\n",
            "   DESCRIPTION_03_Halides and halide oxides of non metals  \\\n",
            "0                                                0.0        \n",
            "1                                                0.0        \n",
            "2                                                0.0        \n",
            "3                                                0.0        \n",
            "4                                                0.0        \n",
            "\n",
            "   DESCRIPTION_03_Hydrogen peroxide, whether or not solidified with urea  \\\n",
            "0                                                0.0                       \n",
            "1                                                0.0                       \n",
            "2                                                0.0                       \n",
            "3                                                0.0                       \n",
            "4                                                0.0                       \n",
            "\n",
            "   DESCRIPTION_03_Iodine  \\\n",
            "0                    0.0   \n",
            "1                    0.0   \n",
            "2                    0.0   \n",
            "3                    0.0   \n",
            "4                    0.0   \n",
            "\n",
            "   DESCRIPTION_03_Mineral or chemical fertilizers, nitrogenous  \\\n",
            "0                                                0.0             \n",
            "1                                                0.0             \n",
            "2                                                0.0             \n",
            "3                                                0.0             \n",
            "4                                                0.0             \n",
            "\n",
            "   DESCRIPTION_03_Nitric acid; sulphonitric acids  \\\n",
            "0                                             0.0   \n",
            "1                                             0.0   \n",
            "2                                             0.0   \n",
            "3                                             0.0   \n",
            "4                                             0.0   \n",
            "\n",
            "   DESCRIPTION_03_Sulphuric acid; oleum  IMPORTER_EcoImports Ltd  \\\n",
            "0                                   0.0                      0.0   \n",
            "1                                   0.0                      0.0   \n",
            "2                                   0.0                      0.0   \n",
            "3                                   0.0                      0.0   \n",
            "4                                   0.0                      0.0   \n",
            "\n",
            "   IMPORTER_GlobalChem Corp  IMPORTER_SafeChem Traders  \n",
            "0                       1.0                        0.0  \n",
            "1                       1.0                        0.0  \n",
            "2                       1.0                        0.0  \n",
            "3                       1.0                        0.0  \n",
            "4                       1.0                        0.0  \n",
            "\n",
            "[5 rows x 204 columns]\n"
          ]
        }
      ],
      "source": [
        "# Displaying Dataset Head\n",
        "print(data.head())"
      ]
    },
    {
      "cell_type": "markdown",
      "metadata": {
        "id": "LJOwoulykDX-"
      },
      "source": [
        "# **The Predictions**"
      ]
    },
    {
      "cell_type": "code",
      "execution_count": null,
      "metadata": {
        "id": "nDtMO03okHQf",
        "colab": {
          "base_uri": "https://localhost:8080/"
        },
        "outputId": "9220a162-0320-43c0-a9f5-91c08e3d1311"
      },
      "outputs": [
        {
          "output_type": "stream",
          "name": "stdout",
          "text": [
            "Model loaded successfully.\n",
            "Target LabelEncoder loaded successfully.\n",
            "IMPORTER encoder loaded successfully.\n",
            "HSCODE encoder loaded successfully.\n",
            "COUNTRY encoder loaded successfully.\n",
            "UNIT encoder loaded successfully.\n",
            "DESCRIPTION_01 encoder loaded successfully.\n",
            "DESCRIPTION_02 encoder loaded successfully.\n",
            "DESCRIPTION_03 encoder loaded successfully.\n",
            "\n",
            "Please enter the following details:\n"
          ]
        }
      ],
      "source": [
        "import joblib\n",
        "import numpy as np\n",
        "import pandas as pd\n",
        "from sklearn.preprocessing import OneHotEncoder, LabelEncoder\n",
        "\n",
        "# Load trained model\n",
        "try:\n",
        "    model = joblib.load('/content/drive/MyDrive/Importer_Risk_Prediction_2/models/random_forest_model.joblib')\n",
        "    print(\"Model loaded successfully.\")\n",
        "except Exception as e:\n",
        "    print(f\"Error loading model: {e}\")\n",
        "    exit()\n",
        "\n",
        "# Load LabelEncoder for target variable\n",
        "try:\n",
        "    label_encoder = joblib.load('/content/drive/MyDrive/Importer_Risk_Prediction_2/label_encoder.pkl')\n",
        "    print(\"Target LabelEncoder loaded successfully.\")\n",
        "except Exception as e:\n",
        "    print(f\"Error loading target LabelEncoder: {e}\")\n",
        "    exit()\n",
        "\n",
        "# Define categorical columns\n",
        "categorical_columns = ['IMPORTER', 'HSCODE', 'COUNTRY', 'UNIT', 'DESCRIPTION_01', 'DESCRIPTION_02', 'DESCRIPTION_03']\n",
        "\n",
        "# Load OneHotEncoders for each categorical column\n",
        "encoders = {}\n",
        "for col in categorical_columns:\n",
        "    try:\n",
        "        encoder_file = f'/content/drive/MyDrive/Importer_Risk_Prediction_2/encoders/{col}_encoder.pkl'\n",
        "        encoders[col] = joblib.load(encoder_file)\n",
        "        print(f\"{col} encoder loaded successfully.\")\n",
        "    except Exception as e:\n",
        "        print(f\"Error loading encoder for {col}: {e}\")\n",
        "        exit()\n",
        "\n",
        "def get_user_input():\n",
        "    \"\"\"Get user input for the prediction.\"\"\"\n",
        "    print(\"\\nPlease enter the following details:\")\n",
        "    importer = input(\"Enter Importer: \")\n",
        "    hscode = input(\"Enter HS Code: \")\n",
        "    country = input(\"Enter Country: \")\n",
        "    unit = input(\"Enter Unit: \")\n",
        "    description_01 = input(\"Enter Description 1: \")\n",
        "    description_02 = input(\"Enter Description 2: \")\n",
        "    description_03 = input(\"Enter Description 3: \")\n",
        "\n",
        "    try:\n",
        "        quantity = float(input(\"Enter Quantity: \"))\n",
        "    except ValueError:\n",
        "        print(\"Invalid quantity. Please enter a numeric value.\")\n",
        "        exit()\n",
        "\n",
        "    return pd.DataFrame({\n",
        "        'IMPORTER': [importer],\n",
        "        'HSCODE': [hscode],\n",
        "        'COUNTRY': [country],\n",
        "        'UNIT': [unit],\n",
        "        'DESCRIPTION_01': [description_01],\n",
        "        'DESCRIPTION_02': [description_02],\n",
        "        'DESCRIPTION_03': [description_03],\n",
        "        'QUANTITY': [quantity]\n",
        "    })\n",
        "\n",
        "def preprocess_input(data):\n",
        "    \"\"\"Preprocess user input using saved OneHotEncoders.\"\"\"\n",
        "    try:\n",
        "        # Prepare the encoded categorical data\n",
        "        encoded_features = []\n",
        "\n",
        "        for col in categorical_columns:\n",
        "            encoder = encoders.get(col)\n",
        "            if encoder:\n",
        "                # Transform the input and convert to array if needed\n",
        "                encoded = encoder.transform(data[[col]])\n",
        "                if hasattr(encoded, \"toarray\"):\n",
        "                    encoded = encoded.toarray()\n",
        "                encoded_features.append(encoded)\n",
        "            else:\n",
        "                print(f\"Encoder not found for column: {col}\")\n",
        "                exit()\n",
        "\n",
        "        # Convert the list of encoded features to a single numpy array\n",
        "        encoded_features = np.hstack(encoded_features)\n",
        "\n",
        "        # Keep numerical features (quantity)\n",
        "        numerical_features = data[['QUANTITY']].values\n",
        "\n",
        "        # Combine encoded categorical features with numerical features\n",
        "        final_features = np.hstack((encoded_features, numerical_features))\n",
        "\n",
        "        return final_features\n",
        "    except Exception as e:\n",
        "        print(f\"Error during preprocessing: {e}\")\n",
        "        exit()\n",
        "\n",
        "def predict_risk():\n",
        "    \"\"\"Predict risk level for user input.\"\"\"\n",
        "    user_data = get_user_input()\n",
        "    processed_data = preprocess_input(user_data)\n",
        "\n",
        "    try:\n",
        "        # Ensure the input is 2D for the model (shape should be (1, n_features))\n",
        "        processed_data = np.array(processed_data).reshape(1, -1)\n",
        "\n",
        "        # Make the prediction (numeric output)\n",
        "        risk_prediction_numeric = model.predict(processed_data)[0]\n",
        "\n",
        "        print(f\"Predicted Risk Level: {risk_prediction_numeric}\")\n",
        "\n",
        "    except Exception as e:\n",
        "        print(f\"Error during prediction: {e}\")\n",
        "\n",
        "if __name__ == \"__main__\":\n",
        "    predict_risk()\n"
      ]
    }
  ],
  "metadata": {
    "colab": {
      "provenance": [],
      "gpuType": "T4",
      "include_colab_link": true
    },
    "kernelspec": {
      "display_name": "Python 3",
      "name": "python3"
    },
    "language_info": {
      "name": "python"
    },
    "accelerator": "GPU"
  },
  "nbformat": 4,
  "nbformat_minor": 0
}