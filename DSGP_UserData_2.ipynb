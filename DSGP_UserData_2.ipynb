{
  "nbformat": 4,
  "nbformat_minor": 0,
  "metadata": {
    "colab": {
      "provenance": [],
      "mount_file_id": "1kkOactXcg_1ggeR75AnCCcGe7LdgF2s6",
      "authorship_tag": "ABX9TyOagMvFo5+A6UycQZWxMYwz",
      "include_colab_link": true
    },
    "kernelspec": {
      "name": "python3",
      "display_name": "Python 3"
    },
    "language_info": {
      "name": "python"
    }
  },
  "cells": [
    {
      "cell_type": "markdown",
      "metadata": {
        "id": "view-in-github",
        "colab_type": "text"
      },
      "source": [
        "<a href=\"https://colab.research.google.com/github/ShabnaIlmi/Data-Science-Group-Project/blob/main/DSGP_UserData_2.ipynb\" target=\"_parent\"><img src=\"https://colab.research.google.com/assets/colab-badge.svg\" alt=\"Open In Colab\"/></a>"
      ]
    },
    {
      "cell_type": "code",
      "source": [
        "# Import necessary libraries\n",
        "import pandas as pd\n",
        "import numpy as np\n",
        "import seaborn as sns\n",
        "import matplotlib.pyplot as plt\n",
        "from sklearn.model_selection import train_test_split\n",
        "from sklearn.ensemble import RandomForestClassifier\n",
        "from sklearn.preprocessing import LabelEncoder, StandardScaler\n",
        "from sklearn.metrics import accuracy_score, classification_report, confusion_matrix\n",
        "\n",
        "# 1 Load Dataset\n",
        "file_path = \"/content/drive/MyDrive/DSGP_User/Pre Processed data/Stock-report_with_risk.xlsx\"\n",
        "data = pd.read_excel(file_path)\n",
        "\n",
        "# 2 Strip column names to avoid hidden spaces\n",
        "data.columns = data.columns.str.strip()\n",
        "\n",
        "# 3 Define Target Variable\n",
        "target_col = \"Risk Level\"\n",
        "\n",
        "# 4 Identify categorical and numerical columns\n",
        "categorical_cols = ['Customer name', 'Product code', 'Invoice No', 'UOM', 'Warehouse']\n",
        "numerical_cols = ['Issued Qty', 'Transaction Date']\n",
        "\n",
        "# 5 Convert Transaction Date to numeric (days since epoch)\n",
        "data['Transaction Date'] = pd.to_datetime(data['Transaction Date'], errors='coerce')\n",
        "data['Transaction Date'] = data['Transaction Date'].astype(int) / 10**9\n",
        "\n",
        "# 6 Handle categorical variables using Label Encoding\n",
        "label_encoders = {}\n",
        "for col in categorical_cols:\n",
        "    le = LabelEncoder()\n",
        "    data[col] = le.fit_transform(data[col])\n",
        "    label_encoders[col] = le  # Store the encoder for later use in prediction\n",
        "\n",
        "# 7 Fill missing values in numerical columns\n",
        "data[numerical_cols] = data[numerical_cols].fillna(0)\n",
        "\n",
        "# 8 Define Features (X) and Target (y)\n",
        "X = data.drop(columns=[target_col])\n",
        "y = data[target_col]\n",
        "\n",
        "# 9 Train-Test Split (80-20)\n",
        "X_train, X_test, y_train, y_test = train_test_split(X, y, test_size=0.2, random_state=42)\n",
        "\n",
        "# 10 Feature Scaling\n",
        "scaler = StandardScaler()\n",
        "X_train[numerical_cols] = scaler.fit_transform(X_train[numerical_cols])\n",
        "X_test[numerical_cols] = scaler.transform(X_test[numerical_cols])\n",
        "\n",
        "# 11 Train Random Forest Model\n",
        "rf_model = RandomForestClassifier(n_estimators=100, random_state=42)\n",
        "rf_model.fit(X_train, y_train)\n",
        "\n",
        "# 12 Model Evaluation\n",
        "y_pred = rf_model.predict(X_test)\n",
        "print(\"Classification Report:\\n\", classification_report(y_test, y_pred))\n",
        "print(f\"Accuracy: {accuracy_score(y_test, y_pred):.2f}\")\n",
        "\n",
        "# 13 Confusion Matrix Visualization\n",
        "conf_matrix = confusion_matrix(y_test, y_pred)\n",
        "plt.figure(figsize=(6, 4))\n",
        "sns.heatmap(conf_matrix, annot=True, cmap=\"Blues\", fmt=\"d\")\n",
        "plt.xlabel(\"Predicted\")\n",
        "plt.ylabel(\"Actual\")\n",
        "plt.title(\"Confusion Matrix\")\n",
        "plt.show()\n",
        "\n",
        "# 14 Prediction Function\n",
        "def predict_risk_level(customer_name, issued_qty, transaction_date, product_code):\n",
        "    \"\"\"\n",
        "    Predicts the risk level for a given customer based on provided data.\n",
        "    \"\"\"\n",
        "    # Create DataFrame for input data\n",
        "    input_data = pd.DataFrame({\n",
        "        'Customer name': [customer_name],\n",
        "        'Issued Qty': [issued_qty],\n",
        "        'Transaction Date': [transaction_date],\n",
        "        'Product code': [product_code]\n",
        "    })\n",
        "\n",
        "    # Strip column names\n",
        "    input_data.columns = input_data.columns.str.strip()\n",
        "\n",
        "    # Convert Transaction Date to numeric\n",
        "    input_data['Transaction Date'] = pd.to_datetime(input_data['Transaction Date'], errors='coerce')\n",
        "    input_data['Transaction Date'] = input_data['Transaction Date'].astype(int) / 10**9\n",
        "\n",
        "    # Encode categorical variables using trained label encoders\n",
        "    for col in categorical_cols:\n",
        "        if col in input_data.columns:\n",
        "            if input_data[col][0] in label_encoders[col].classes_:\n",
        "                input_data[col] = label_encoders[col].transform(input_data[col])\n",
        "            else:\n",
        "                print(f\"Warning: Unseen category '{input_data[col][0]}' in '{col}'. Assigning default category 0.\")\n",
        "                input_data[col] = 0  # Assign unseen categories a default value\n",
        "\n",
        "    # Fill missing numerical values\n",
        "    input_data[numerical_cols] = input_data[numerical_cols].fillna(0)\n",
        "\n",
        "    # Ensure all expected columns are present, adding missing ones as 0\n",
        "    for col in X_train.columns:\n",
        "        if col not in input_data.columns:\n",
        "            input_data[col] = 0  # Fill missing columns with 0\n",
        "\n",
        "    # Ensure correct feature order\n",
        "    input_data = input_data[X_train.columns]\n",
        "\n",
        "    # Scale numerical features\n",
        "    input_data[numerical_cols] = scaler.transform(input_data[numerical_cols])\n",
        "\n",
        "    # Make the prediction\n",
        "    predicted_risk = rf_model.predict(input_data)[0]\n",
        "\n",
        "    return predicted_risk\n",
        "\n",
        "\n",
        "# 15 Example Usage (Pre-defined Input)\n",
        "customer_name = \"Sinopec\"  # Replace with  customer name\n",
        "issued_qty = 2001  #  quantity\n",
        "transaction_date = \"2025-02-01\"  # Transaction date\n",
        "product_code = \"H2O2-50%-IG-ICL-BANGLADESH\"  # Replace with product code\n",
        "\n",
        "# Predict risk level\n",
        "predicted_risk = predict_risk_level(customer_name, issued_qty, transaction_date, product_code)\n",
        "\n",
        "# Print the result\n",
        "print(f\"Predicted Risk Level for {customer_name}: {predicted_risk}\")\n",
        "\n"
      ],
      "metadata": {
        "colab": {
          "base_uri": "https://localhost:8080/",
          "height": 777
        },
        "id": "zCUkZwRqg1Lq",
        "outputId": "b689cb21-a054-426a-acb5-ffdeb1fac637"
      },
      "execution_count": 27,
      "outputs": [
        {
          "output_type": "stream",
          "name": "stderr",
          "text": [
            "/usr/local/lib/python3.11/dist-packages/sklearn/metrics/_classification.py:1565: UndefinedMetricWarning: Precision is ill-defined and being set to 0.0 in labels with no predicted samples. Use `zero_division` parameter to control this behavior.\n",
            "  _warn_prf(average, modifier, f\"{metric.capitalize()} is\", len(result))\n",
            "/usr/local/lib/python3.11/dist-packages/sklearn/metrics/_classification.py:1565: UndefinedMetricWarning: Precision is ill-defined and being set to 0.0 in labels with no predicted samples. Use `zero_division` parameter to control this behavior.\n",
            "  _warn_prf(average, modifier, f\"{metric.capitalize()} is\", len(result))\n",
            "/usr/local/lib/python3.11/dist-packages/sklearn/metrics/_classification.py:1565: UndefinedMetricWarning: Precision is ill-defined and being set to 0.0 in labels with no predicted samples. Use `zero_division` parameter to control this behavior.\n",
            "  _warn_prf(average, modifier, f\"{metric.capitalize()} is\", len(result))\n"
          ]
        },
        {
          "output_type": "stream",
          "name": "stdout",
          "text": [
            "Classification Report:\n",
            "               precision    recall  f1-score   support\n",
            "\n",
            "   High Risk       0.00      0.00      0.00         8\n",
            "    Low Risk       0.99      0.98      0.98       224\n",
            " Medium Risk       0.92      1.00      0.96        89\n",
            "     No Risk       0.43      0.50      0.46         6\n",
            "\n",
            "    accuracy                           0.95       327\n",
            "   macro avg       0.58      0.62      0.60       327\n",
            "weighted avg       0.93      0.95      0.94       327\n",
            "\n",
            "Accuracy: 0.95\n"
          ]
        },
        {
          "output_type": "display_data",
          "data": {
            "text/plain": [
              "<Figure size 600x400 with 2 Axes>"
            ],
            "image/png": "[encoded data removed]"
          },
          "metadata": {}
        },
        {
          "output_type": "stream",
          "name": "stdout",
          "text": [
            "Predicted Risk Level for Sinopec: Medium Risk\n"
          ]
        }
      ]
    }
  ]
}