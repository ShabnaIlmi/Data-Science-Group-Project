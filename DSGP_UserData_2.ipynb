{
  "nbformat": 4,
  "nbformat_minor": 0,
  "metadata": {
    "colab": {
      "provenance": [],
      "mount_file_id": "1kkOactXcg_1ggeR75AnCCcGe7LdgF2s6",
      "authorship_tag": "ABX9TyOjP8THX7dIkl6TF0BerAiv",
      "include_colab_link": true
    },
    "kernelspec": {
      "name": "python3",
      "display_name": "Python 3"
    },
    "language_info": {
      "name": "python"
    }
  },
  "cells": [
    {
      "cell_type": "markdown",
      "metadata": {
        "id": "view-in-github",
        "colab_type": "text"
      },
      "source": [
        "<a href=\"https://colab.research.google.com/github/ShabnaIlmi/Data-Science-Group-Project/blob/main/DSGP_UserData_2.ipynb\" target=\"_parent\"><img src=\"https://colab.research.google.com/assets/colab-badge.svg\" alt=\"Open In Colab\"/></a>"
      ]
    },
    {
      "cell_type": "code",
      "source": [
        "# import libraries\n",
        "import numpy as np\n",
        "import pandas as pd\n",
        "import matplotlib.pyplot as plt\n",
        "from scipy import stats\n",
        "import seaborn as sns\n",
        "from matplotlib.ticker import LogLocator, FuncFormatter\n",
        "from sklearn.preprocessing import LabelEncoder\n",
        "from sklearn.preprocessing import StandardScaler\n",
        "from sklearn.model_selection import train_test_split\n",
        "from imblearn.over_sampling import SMOTE\n",
        "from sklearn.impute import SimpleImputer\n",
        "from datetime import datetime, timedelta\n",
        "import os\n",
        "import warnings\n",
        "warnings.filterwarnings(\"ignore\", category=FutureWarning)\n"
      ],
      "metadata": {
        "id": "jipAmzBwpedQ"
      },
      "execution_count": null,
      "outputs": []
    },
    {
      "cell_type": "code",
      "source": [
        "# Mounting the google drive\n",
        "from google.colab import drive\n",
        "drive.mount('/content/drive')"
      ],
      "metadata": {
        "colab": {
          "base_uri": "https://localhost:8080/"
        },
        "id": "kGAGj7kHzMIw",
        "outputId": "56448dc6-1f47-4fe0-c291-8b11e003210a"
      },
      "execution_count": null,
      "outputs": [
        {
          "output_type": "stream",
          "name": "stdout",
          "text": [
            "Mounted at /content/drive\n"
          ]
        }
      ]
    },
    {
      "cell_type": "code",
      "source": [
        "# Loading the dataset with the proper delimiter (semicolon)\n",
        "data = pd.read_excel('/content/drive/MyDrive/DSGP_User/Stock report 2.xlsx', sheet_name='Sheet1')\n",
        "\n",
        "# Displaying the first few rows of the data\n",
        "data.head()\n"
      ],
      "metadata": {
        "colab": {
          "base_uri": "https://localhost:8080/",
          "height": 206
        },
        "id": "IoU-KxSc4ueo",
        "outputId": "034f64d1-2cb7-4a0a-e3f5-1a5aa18224f3"
      },
      "execution_count": null,
      "outputs": [
        {
          "output_type": "execute_result",
          "data": {
            "text/plain": [
              "  Warehouse                Product code      Invoice No Transaction Date UOM  \\\n",
              "0        B4  H2O2-50%-IG-ICL-BANGLADESH  SI-N/10/24/176       2024-10-10  KG   \n",
              "1        B4  H2O2-50%-IG-ICL-BANGLADESH     CB07/24/008       2024-10-11  KG   \n",
              "2        B4  H2O2-50%-IG-ICL-BANGLADESH  SI-S/10/24/106       2024-10-11  KG   \n",
              "3        B4  H2O2-50%-IG-ICL-BANGLADESH  SI-N/10/24/241       2024-10-15  KG   \n",
              "4        B4  H2O2-50%-IG-ICL-BANGLADESH  SI-N/10/24/263       2024-10-16  KG   \n",
              "\n",
              "   Received Qty  Issued Qty              Customer name  \n",
              "0           NaN           90  THARINDU WASHING PVT LTD  \n",
              "1           NaN           30             SACHITH  FARM  \n",
              "2           NaN         1800         OCEANPICK PVT LTD  \n",
              "3           NaN           90  THARINDU WASHING PVT LTD  \n",
              "4           NaN          120     COSAN LANKA (PVT) LTD  "
            ],
            "text/html": [
              "\n",
              "  <div id=\"df-419664c1-7032-421e-86f6-16e9cb3121cf\" class=\"colab-df-container\">\n",
              "    <div>\n",
              "<style scoped>\n",
              "    .dataframe tbody tr th:only-of-type {\n",
              "        vertical-align: middle;\n",
              "    }\n",
              "\n",
              "    .dataframe tbody tr th {\n",
              "        vertical-align: top;\n",
              "    }\n",
              "\n",
              "    .dataframe thead th {\n",
              "        text-align: right;\n",
              "    }\n",
              "</style>\n",
              "<table border=\"1\" class=\"dataframe\">\n",
              "  <thead>\n",
              "    <tr style=\"text-align: right;\">\n",
              "      <th></th>\n",
              "      <th>Warehouse</th>\n",
              "      <th>Product code</th>\n",
              "      <th>Invoice No</th>\n",
              "      <th>Transaction Date</th>\n",
              "      <th>UOM</th>\n",
              "      <th>Received Qty</th>\n",
              "      <th>Issued Qty</th>\n",
              "      <th>Customer name</th>\n",
              "    </tr>\n",
              "  </thead>\n",
              "  <tbody>\n",
              "    <tr>\n",
              "      <th>0</th>\n",
              "      <td>B4</td>\n",
              "      <td>H2O2-50%-IG-ICL-BANGLADESH</td>\n",
              "      <td>SI-N/10/24/176</td>\n",
              "      <td>2024-10-10</td>\n",
              "      <td>KG</td>\n",
              "      <td>NaN</td>\n",
              "      <td>90</td>\n",
              "      <td>THARINDU WASHING PVT LTD</td>\n",
              "    </tr>\n",
              "    <tr>\n",
              "      <th>1</th>\n",
              "      <td>B4</td>\n",
              "      <td>H2O2-50%-IG-ICL-BANGLADESH</td>\n",
              "      <td>CB07/24/008</td>\n",
              "      <td>2024-10-11</td>\n",
              "      <td>KG</td>\n",
              "      <td>NaN</td>\n",
              "      <td>30</td>\n",
              "      <td>SACHITH  FARM</td>\n",
              "    </tr>\n",
              "    <tr>\n",
              "      <th>2</th>\n",
              "      <td>B4</td>\n",
              "      <td>H2O2-50%-IG-ICL-BANGLADESH</td>\n",
              "      <td>SI-S/10/24/106</td>\n",
              "      <td>2024-10-11</td>\n",
              "      <td>KG</td>\n",
              "      <td>NaN</td>\n",
              "      <td>1800</td>\n",
              "      <td>OCEANPICK PVT LTD</td>\n",
              "    </tr>\n",
              "    <tr>\n",
              "      <th>3</th>\n",
              "      <td>B4</td>\n",
              "      <td>H2O2-50%-IG-ICL-BANGLADESH</td>\n",
              "      <td>SI-N/10/24/241</td>\n",
              "      <td>2024-10-15</td>\n",
              "      <td>KG</td>\n",
              "      <td>NaN</td>\n",
              "      <td>90</td>\n",
              "      <td>THARINDU WASHING PVT LTD</td>\n",
              "    </tr>\n",
              "    <tr>\n",
              "      <th>4</th>\n",
              "      <td>B4</td>\n",
              "      <td>H2O2-50%-IG-ICL-BANGLADESH</td>\n",
              "      <td>SI-N/10/24/263</td>\n",
              "      <td>2024-10-16</td>\n",
              "      <td>KG</td>\n",
              "      <td>NaN</td>\n",
              "      <td>120</td>\n",
              "      <td>COSAN LANKA (PVT) LTD</td>\n",
              "    </tr>\n",
              "  </tbody>\n",
              "</table>\n",
              "</div>\n",
              "    <div class=\"colab-df-buttons\">\n",
              "\n",
              "  <div class=\"colab-df-container\">\n",
              "    <button class=\"colab-df-convert\" onclick=\"convertToInteractive('df-419664c1-7032-421e-86f6-16e9cb3121cf')\"\n",
              "            title=\"Convert this dataframe to an interactive table.\"\n",
              "            style=\"display:none;\">\n",
              "\n",
              "  <svg xmlns=\"http://www.w3.org/2000/svg\" height=\"24px\" viewBox=\"0 -960 960 960\">\n",
              "    <path d=\"M120-120v-720h720v720H120Zm60-500h600v-160H180v160Zm220 220h160v-160H400v160Zm0 220h160v-160H400v160ZM180-400h160v-160H180v160Zm440 0h160v-160H620v160ZM180-180h160v-160H180v160Zm440 0h160v-160H620v160Z\"/>\n",
              "  </svg>\n",
              "    </button>\n",
              "\n",
              "  <style>\n",
              "    .colab-df-container {\n",
              "      display:flex;\n",
              "      gap: 12px;\n",
              "    }\n",
              "\n",
              "    .colab-df-convert {\n",
              "      background-color: #E8F0FE;\n",
              "      border: none;\n",
              "      border-radius: 50%;\n",
              "      cursor: pointer;\n",
              "      display: none;\n",
              "      fill: #1967D2;\n",
              "      height: 32px;\n",
              "      padding: 0 0 0 0;\n",
              "      width: 32px;\n",
              "    }\n",
              "\n",
              "    .colab-df-convert:hover {\n",
              "      background-color: #E2EBFA;\n",
              "      box-shadow: 0px 1px 2px rgba(60, 64, 67, 0.3), 0px 1px 3px 1px rgba(60, 64, 67, 0.15);\n",
              "      fill: #174EA6;\n",
              "    }\n",
              "\n",
              "    .colab-df-buttons div {\n",
              "      margin-bottom: 4px;\n",
              "    }\n",
              "\n",
              "    [theme=dark] .colab-df-convert {\n",
              "      background-color: #3B4455;\n",
              "      fill: #D2E3FC;\n",
              "    }\n",
              "\n",
              "    [theme=dark] .colab-df-convert:hover {\n",
              "      background-color: #434B5C;\n",
              "      box-shadow: 0px 1px 3px 1px rgba(0, 0, 0, 0.15);\n",
              "      filter: drop-shadow(0px 1px 2px rgba(0, 0, 0, 0.3));\n",
              "      fill: #FFFFFF;\n",
              "    }\n",
              "  </style>\n",
              "\n",
              "    <script>\n",
              "      const buttonEl =\n",
              "        document.querySelector('#df-419664c1-7032-421e-86f6-16e9cb3121cf button.colab-df-convert');\n",
              "      buttonEl.style.display =\n",
              "        google.colab.kernel.accessAllowed ? 'block' : 'none';\n",
              "\n",
              "      async function convertToInteractive(key) {\n",
              "        const element = document.querySelector('#df-419664c1-7032-421e-86f6-16e9cb3121cf');\n",
              "        const dataTable =\n",
              "          await google.colab.kernel.invokeFunction('convertToInteractive',\n",
              "                                                    [key], {});\n",
              "        if (!dataTable) return;\n",
              "\n",
              "        const docLinkHtml = 'Like what you see? Visit the ' +\n",
              "          '<a target=\"_blank\" href=https://colab.research.google.com/notebooks/data_table.ipynb>data table notebook</a>'\n",
              "          + ' to learn more about interactive tables.';\n",
              "        element.innerHTML = '';\n",
              "        dataTable['output_type'] = 'display_data';\n",
              "        await google.colab.output.renderOutput(dataTable, element);\n",
              "        const docLink = document.createElement('div');\n",
              "        docLink.innerHTML = docLinkHtml;\n",
              "        element.appendChild(docLink);\n",
              "      }\n",
              "    </script>\n",
              "  </div>\n",
              "\n",
              "\n",
              "<div id=\"df-bacffb1a-e166-4607-989d-1d061b840790\">\n",
              "  <button class=\"colab-df-quickchart\" onclick=\"quickchart('df-bacffb1a-e166-4607-989d-1d061b840790')\"\n",
              "            title=\"Suggest charts\"\n",
              "            style=\"display:none;\">\n",
              "\n",
              "<svg xmlns=\"http://www.w3.org/2000/svg\" height=\"24px\"viewBox=\"0 0 24 24\"\n",
              "     width=\"24px\">\n",
              "    <g>\n",
              "        <path d=\"M19 3H5c-1.1 0-2 .9-2 2v14c0 1.1.9 2 2 2h14c1.1 0 2-.9 2-2V5c0-1.1-.9-2-2-2zM9 17H7v-7h2v7zm4 0h-2V7h2v10zm4 0h-2v-4h2v4z\"/>\n",
              "    </g>\n",
              "</svg>\n",
              "  </button>\n",
              "\n",
              "<style>\n",
              "  .colab-df-quickchart {\n",
              "      --bg-color: #E8F0FE;\n",
              "      --fill-color: #1967D2;\n",
              "      --hover-bg-color: #E2EBFA;\n",
              "      --hover-fill-color: #174EA6;\n",
              "      --disabled-fill-color: #AAA;\n",
              "      --disabled-bg-color: #DDD;\n",
              "  }\n",
              "\n",
              "  [theme=dark] .colab-df-quickchart {\n",
              "      --bg-color: #3B4455;\n",
              "      --fill-color: #D2E3FC;\n",
              "      --hover-bg-color: #434B5C;\n",
              "      --hover-fill-color: #FFFFFF;\n",
              "      --disabled-bg-color: #3B4455;\n",
              "      --disabled-fill-color: #666;\n",
              "  }\n",
              "\n",
              "  .colab-df-quickchart {\n",
              "    background-color: var(--bg-color);\n",
              "    border: none;\n",
              "    border-radius: 50%;\n",
              "    cursor: pointer;\n",
              "    display: none;\n",
              "    fill: var(--fill-color);\n",
              "    height: 32px;\n",
              "    padding: 0;\n",
              "    width: 32px;\n",
              "  }\n",
              "\n",
              "  .colab-df-quickchart:hover {\n",
              "    background-color: var(--hover-bg-color);\n",
              "    box-shadow: 0 1px 2px rgba(60, 64, 67, 0.3), 0 1px 3px 1px rgba(60, 64, 67, 0.15);\n",
              "    fill: var(--button-hover-fill-color);\n",
              "  }\n",
              "\n",
              "  .colab-df-quickchart-complete:disabled,\n",
              "  .colab-df-quickchart-complete:disabled:hover {\n",
              "    background-color: var(--disabled-bg-color);\n",
              "    fill: var(--disabled-fill-color);\n",
              "    box-shadow: none;\n",
              "  }\n",
              "\n",
              "  .colab-df-spinner {\n",
              "    border: 2px solid var(--fill-color);\n",
              "    border-color: transparent;\n",
              "    border-bottom-color: var(--fill-color);\n",
              "    animation:\n",
              "      spin 1s steps(1) infinite;\n",
              "  }\n",
              "\n",
              "  @keyframes spin {\n",
              "    0% {\n",
              "      border-color: transparent;\n",
              "      border-bottom-color: var(--fill-color);\n",
              "      border-left-color: var(--fill-color);\n",
              "    }\n",
              "    20% {\n",
              "      border-color: transparent;\n",
              "      border-left-color: var(--fill-color);\n",
              "      border-top-color: var(--fill-color);\n",
              "    }\n",
              "    30% {\n",
              "      border-color: transparent;\n",
              "      border-left-color: var(--fill-color);\n",
              "      border-top-color: var(--fill-color);\n",
              "      border-right-color: var(--fill-color);\n",
              "    }\n",
              "    40% {\n",
              "      border-color: transparent;\n",
              "      border-right-color: var(--fill-color);\n",
              "      border-top-color: var(--fill-color);\n",
              "    }\n",
              "    60% {\n",
              "      border-color: transparent;\n",
              "      border-right-color: var(--fill-color);\n",
              "    }\n",
              "    80% {\n",
              "      border-color: transparent;\n",
              "      border-right-color: var(--fill-color);\n",
              "      border-bottom-color: var(--fill-color);\n",
              "    }\n",
              "    90% {\n",
              "      border-color: transparent;\n",
              "      border-bottom-color: var(--fill-color);\n",
              "    }\n",
              "  }\n",
              "</style>\n",
              "\n",
              "  <script>\n",
              "    async function quickchart(key) {\n",
              "      const quickchartButtonEl =\n",
              "        document.querySelector('#' + key + ' button');\n",
              "      quickchartButtonEl.disabled = true;  // To prevent multiple clicks.\n",
              "      quickchartButtonEl.classList.add('colab-df-spinner');\n",
              "      try {\n",
              "        const charts = await google.colab.kernel.invokeFunction(\n",
              "            'suggestCharts', [key], {});\n",
              "      } catch (error) {\n",
              "        console.error('Error during call to suggestCharts:', error);\n",
              "      }\n",
              "      quickchartButtonEl.classList.remove('colab-df-spinner');\n",
              "      quickchartButtonEl.classList.add('colab-df-quickchart-complete');\n",
              "    }\n",
              "    (() => {\n",
              "      let quickchartButtonEl =\n",
              "        document.querySelector('#df-bacffb1a-e166-4607-989d-1d061b840790 button');\n",
              "      quickchartButtonEl.style.display =\n",
              "        google.colab.kernel.accessAllowed ? 'block' : 'none';\n",
              "    })();\n",
              "  </script>\n",
              "</div>\n",
              "\n",
              "    </div>\n",
              "  </div>\n"
            ],
            "application/vnd.google.colaboratory.intrinsic+json": {
              "type": "dataframe",
              "variable_name": "data",
              "summary": "{\n  \"name\": \"data\",\n  \"rows\": 14,\n  \"fields\": [\n    {\n      \"column\": \"Warehouse\",\n      \"properties\": {\n        \"dtype\": \"category\",\n        \"num_unique_values\": 1,\n        \"samples\": [\n          \"B4\"\n        ],\n        \"semantic_type\": \"\",\n        \"description\": \"\"\n      }\n    },\n    {\n      \"column\": \"Product code\",\n      \"properties\": {\n        \"dtype\": \"category\",\n        \"num_unique_values\": 1,\n        \"samples\": [\n          \"H2O2-50%-IG-ICL-BANGLADESH\"\n        ],\n        \"semantic_type\": \"\",\n        \"description\": \"\"\n      }\n    },\n    {\n      \"column\": \"Invoice No\",\n      \"properties\": {\n        \"dtype\": \"string\",\n        \"num_unique_values\": 14,\n        \"samples\": [\n          \"SI-S/10/24/240\"\n        ],\n        \"semantic_type\": \"\",\n        \"description\": \"\"\n      }\n    },\n    {\n      \"column\": \"Transaction Date\",\n      \"properties\": {\n        \"dtype\": \"date\",\n        \"min\": \"2024-10-10 00:00:00\",\n        \"max\": \"2024-10-29 00:00:00\",\n        \"num_unique_values\": 10,\n        \"samples\": [\n          \"2024-10-28 00:00:00\"\n        ],\n        \"semantic_type\": \"\",\n        \"description\": \"\"\n      }\n    },\n    {\n      \"column\": \"UOM\",\n      \"properties\": {\n        \"dtype\": \"category\",\n        \"num_unique_values\": 1,\n        \"samples\": [\n          \"KG\"\n        ],\n        \"semantic_type\": \"\",\n        \"description\": \"\"\n      }\n    },\n    {\n      \"column\": \"Received Qty\",\n      \"properties\": {\n        \"dtype\": \"number\",\n        \"std\": null,\n        \"min\": null,\n        \"max\": null,\n        \"num_unique_values\": 0,\n        \"samples\": [],\n        \"semantic_type\": \"\",\n        \"description\": \"\"\n      }\n    },\n    {\n      \"column\": \"Issued Qty \",\n      \"properties\": {\n        \"dtype\": \"number\",\n        \"std\": 710,\n        \"min\": 30,\n        \"max\": 1800,\n        \"num_unique_values\": 9,\n        \"samples\": [],\n        \"semantic_type\": \"\",\n        \"description\": \"\"\n      }\n    },\n    {\n      \"column\": \"Customer name\",\n      \"properties\": {\n        \"dtype\": \"string\",\n        \"num_unique_values\": 8,\n        \"samples\": [],\n        \"semantic_type\": \"\",\n        \"description\": \"\"\n      }\n    }\n  ]\n}"
            }
          },
          "metadata": {},
          "execution_count": 3
        }
      ]
    },
    {
      "cell_type": "code",
      "source": [
        "# Displaying information\n",
        "print(\"Displaying data information\")\n",
        "data.info()"
      ],
      "metadata": {
        "colab": {
          "base_uri": "https://localhost:8080/"
        },
        "id": "mtbaOtZb4xo-",
        "outputId": "a234f43c-c105-4cec-e88b-f62f3a8adc4b"
      },
      "execution_count": null,
      "outputs": [
        {
          "output_type": "stream",
          "name": "stdout",
          "text": [
            "Displaying data information\n",
            "<class 'pandas.core.frame.DataFrame'>\n",
            "RangeIndex: 14 entries, 0 to 13\n",
            "Data columns (total 8 columns):\n",
            " #   Column            Non-Null Count  Dtype         \n",
            "---  ------            --------------  -----         \n",
            " 0   Warehouse         14 non-null     object        \n",
            " 1   Product code      14 non-null     object        \n",
            " 2   Invoice No        14 non-null     object        \n",
            " 3   Transaction Date  14 non-null     datetime64[ns]\n",
            " 4   UOM               14 non-null     object        \n",
            " 5   Received Qty      0 non-null      float64       \n",
            " 6   Issued Qty        14 non-null     int64         \n",
            " 7   Customer name     14 non-null     object        \n",
            "dtypes: datetime64[ns](1), float64(1), int64(1), object(5)\n",
            "memory usage: 1.0+ KB\n"
          ]
        }
      ]
    },
    {
      "cell_type": "code",
      "source": [
        "# Identifying categorical and numerical columns\n",
        "categorical_cols = data.select_dtypes(include=['object']).columns\n",
        "numerical_cols = data.select_dtypes(include=['int64', 'float64']).columns\n",
        "\n",
        "# Displaying the categorical features\n",
        "print(\"Categorical Features:\")\n",
        "print(categorical_cols)\n"
      ],
      "metadata": {
        "colab": {
          "base_uri": "https://localhost:8080/"
        },
        "id": "oZNE8ueL5Bqn",
        "outputId": "3046fa9c-5ed2-463b-b83a-282847235f88"
      },
      "execution_count": null,
      "outputs": [
        {
          "output_type": "stream",
          "name": "stdout",
          "text": [
            "Categorical Features:\n",
            "Index(['Warehouse', 'Product code', 'Invoice No', 'UOM', 'Customer name'], dtype='object')\n"
          ]
        }
      ]
    },
    {
      "cell_type": "code",
      "source": [
        "# Displaying the unique values and their counts relevant to each categorical column\n",
        "for col in categorical_cols:\n",
        "    print(f\"\\nColumn: {col}\")\n",
        "    print(data[col].value_counts(), \"\\n\")"
      ],
      "metadata": {
        "colab": {
          "base_uri": "https://localhost:8080/"
        },
        "id": "PfpNFLX95Tu3",
        "outputId": "7b4889f9-ac2b-4fa5-edd8-d0ae4ca28a43"
      },
      "execution_count": null,
      "outputs": [
        {
          "output_type": "stream",
          "name": "stdout",
          "text": [
            "\n",
            "Column: Warehouse\n",
            "Warehouse\n",
            "B4    14\n",
            "Name: count, dtype: int64 \n",
            "\n",
            "\n",
            "Column: Product code\n",
            "Product code\n",
            "H2O2-50%-IG-ICL-BANGLADESH    14\n",
            "Name: count, dtype: int64 \n",
            "\n",
            "\n",
            "Column: Invoice No\n",
            "Invoice No\n",
            "SI-N/10/24/176    1\n",
            "CB07/24/008       1\n",
            "SI-S/10/24/106    1\n",
            "SI-N/10/24/241    1\n",
            "SI-N/10/24/263    1\n",
            "SI-N/10/24/343    1\n",
            "SI-N/10/24/370    1\n",
            "SI-S/10/24/189    1\n",
            "SI-N/10/24/460    1\n",
            "SI-S/10/24/240    1\n",
            "SI-N/10/24/489    1\n",
            "SI-N/10/24/510    1\n",
            "SI-N/10/24/527    1\n",
            "SI-N/10/24/528    1\n",
            "Name: count, dtype: int64 \n",
            "\n",
            "\n",
            "Column: UOM\n",
            "UOM\n",
            "KG    14\n",
            "Name: count, dtype: int64 \n",
            "\n",
            "\n",
            "Column: Customer name\n",
            "Customer name\n",
            "THARINDU WASHING PVT LTD    4\n",
            "OCEANPICK PVT LTD           3\n",
            "COSAN LANKA (PVT) LTD       2\n",
            "SACHITH  FARM               1\n",
            "LITEOL DETERGENT            1\n",
            "DAYANI WEAVING MILLS        1\n",
            "MALEESHA INDUSTRIES         1\n",
            "GLOW KEM LANKA              1\n",
            "Name: count, dtype: int64 \n",
            "\n"
          ]
        }
      ]
    },
    {
      "cell_type": "code",
      "source": [
        "# Displaying the numerical features\n",
        "print(\"Numerical Features:\")\n",
        "print(numerical_cols)"
      ],
      "metadata": {
        "colab": {
          "base_uri": "https://localhost:8080/"
        },
        "id": "B0zVKFHq5b66",
        "outputId": "d2f5fd64-97ed-4a4f-8ade-c661a3ff6546"
      },
      "execution_count": null,
      "outputs": [
        {
          "output_type": "stream",
          "name": "stdout",
          "text": [
            "Numerical Features:\n",
            "Index(['Received Qty', 'Issued Qty '], dtype='object')\n"
          ]
        }
      ]
    },
    {
      "cell_type": "code",
      "source": [
        "# Unique values and their counts relevant to each numerical columns\n",
        "for col in numerical_cols:\n",
        "    print(f\"\\nColumn: {col}\")\n",
        "    print(data[col].value_counts(), \"\\n\")"
      ],
      "metadata": {
        "colab": {
          "base_uri": "https://localhost:8080/"
        },
        "id": "Oui4jZ5v5kln",
        "outputId": "54ff3e69-572f-47ef-c0c0-e1821cdd1da5"
      },
      "execution_count": null,
      "outputs": [
        {
          "output_type": "stream",
          "name": "stdout",
          "text": [
            "\n",
            "Column: Received Qty\n",
            "Series([], Name: count, dtype: int64) \n",
            "\n",
            "\n",
            "Column: Issued Qty \n",
            "Issued Qty \n",
            "90      4\n",
            "1800    3\n",
            "30      1\n",
            "120     1\n",
            "240     1\n",
            "180     1\n",
            "150     1\n",
            "900     1\n",
            "300     1\n",
            "Name: count, dtype: int64 \n",
            "\n"
          ]
        }
      ]
    },
    {
      "cell_type": "code",
      "source": [
        "# Strip any leading or trailing spaces from column names\n",
        "data.columns = data.columns.str.strip()\n",
        "\n",
        "# Convert 'Transaction Date' to datetime if not already done\n",
        "data['Transaction Date'] = pd.to_datetime(data['Transaction Date'], errors='coerce')\n",
        "\n",
        "# Define thresholds\n",
        "high_usage_limit = 500\n",
        "unusual_transaction_limit = 5\n",
        "\n",
        "# Define the current date (e.g., January 2025) and the 3-month cutoff\n",
        "current_date = datetime(2024, 12, 1)\n",
        "three_months_ago = current_date - timedelta(days=90)\n",
        "\n",
        "# Filter data for the last 3 months\n",
        "recent_data = data[data['Transaction Date'] >= three_months_ago]\n",
        "\n",
        "# Group by customer and calculate total issued quantity and transaction count for the recent data\n",
        "# For transaction_count, count the number of rows per customer\n",
        "recent_customer_summary = recent_data.groupby('Customer name').agg(\n",
        "    total_issued=('Issued Qty', 'sum'),\n",
        "    transaction_count=('Customer name', 'count')  # Count occurrences of Customer name\n",
        ").reset_index()\n",
        "\n",
        "# Define risk level based on thresholds\n",
        "def determine_risk(row):\n",
        "    if row['total_issued'] > high_usage_limit or row['transaction_count'] > unusual_transaction_limit:\n",
        "        return 'High Risk'  # High Risk\n",
        "    elif row['total_issued'] > high_usage_limit * 0.75 or row['transaction_count'] > unusual_transaction_limit * 0.75:\n",
        "        return 'Medium Risk'  # Medium Risk\n",
        "    else:\n",
        "        return 'Low Risk'  # Low Risk\n",
        "\n",
        "# Apply the risk determination function to the recent customer summary\n",
        "recent_customer_summary['Risk Level'] = recent_customer_summary.apply(determine_risk, axis=1)\n",
        "\n",
        "# Drop existing 'Risk Level' column from the original data if it exists\n",
        "if 'Risk Level' in data.columns:\n",
        "    data.drop(columns=['Risk Level'], inplace=True)\n",
        "\n",
        "# Merge back the risk levels to the original dataset (add \"Low Risk\" for customers with no recent activity)\n",
        "data = data.merge(\n",
        "    recent_customer_summary[['Customer name', 'Risk Level']],\n",
        "    on='Customer name',\n",
        "    how='left'\n",
        ")\n",
        "\n",
        "# Display the updated DataFrame with the new target variable\n",
        "print(data[['Customer name', 'Issued Qty', 'Transaction Date', 'Risk Level']].head())"
      ],
      "metadata": {
        "colab": {
          "base_uri": "https://localhost:8080/"
        },
        "id": "-3agUVeZMDZ2",
        "outputId": "a7bf581d-af07-469d-a10c-4d9d8b2a8091"
      },
      "execution_count": null,
      "outputs": [
        {
          "output_type": "stream",
          "name": "stdout",
          "text": [
            "              Customer name  Issued Qty Transaction Date Risk Level\n",
            "0  THARINDU WASHING PVT LTD          90       2024-10-10  High Risk\n",
            "1             SACHITH  FARM          30       2024-10-11   Low Risk\n",
            "2         OCEANPICK PVT LTD        1800       2024-10-11  High Risk\n",
            "3  THARINDU WASHING PVT LTD          90       2024-10-15  High Risk\n",
            "4     COSAN LANKA (PVT) LTD         120       2024-10-16   Low Risk\n"
          ]
        }
      ]
    },
    {
      "cell_type": "code",
      "source": [
        "# Visualizing the distribution of the target variable 'Risk Level'\n",
        "plt.figure(figsize=(10, 6))\n",
        "sns.countplot(data=data, x='Risk Level', palette='viridis')\n",
        "plt.title('Distribution of Customer Risk Levels')\n",
        "plt.xlabel('Risk Level')\n",
        "plt.ylabel('Count')\n",
        "plt.xticks(rotation=45)\n",
        "plt.show()"
      ],
      "metadata": {
        "colab": {
          "base_uri": "https://localhost:8080/",
          "height": 606
        },
        "id": "uJlvJ0ekQ8Dw",
        "outputId": "ace6b75b-4b56-4ff7-eccb-3576f2c15b25"
      },
      "execution_count": null,
      "outputs": [
        {
          "output_type": "display_data",
          "data": {
            "text/plain": [
              "<Figure size 1000x600 with 1 Axes>"
            ],
            "image/png": "[encoded data removed]"
          },
          "metadata": {}
        }
      ]
    },
    {
      "cell_type": "code",
      "source": [
        "# Visualizing the correlation heatmap for the numerical columns\n",
        "plt.figure(figsize=(10, 8))\n",
        "\n",
        " # Update numerical_cols to reflect stripped column names\n",
        "numerical_cols = data.select_dtypes(include=['int64', 'float64']).columns\n",
        "\n",
        "# The Correlation Heatmap\n",
        "sns.heatmap(\n",
        "    data[numerical_cols].corr(),\n",
        "    annot=True,\n",
        "    cmap='coolwarm',\n",
        "    cbar_kws={'label': 'Correlation Coefficient'},\n",
        "    linewidths=1,\n",
        "    linecolor='black'\n",
        ")\n",
        "\n",
        "# Adding title and labels with formatting\n",
        "plt.title('Correlation Heatmap', fontsize=16, fontweight='bold', color='darkblue')\n",
        "plt.xlabel('Features', fontsize=12, fontweight='bold', color='darkred')\n",
        "plt.ylabel('Features', fontsize=12, fontweight='bold', color='darkred')\n",
        "\n",
        "# Customizing tick labels for better readability\n",
        "plt.xticks(fontsize=10, rotation=45, color='darkgreen')\n",
        "plt.yticks(fontsize=10, rotation=0, color='darkgreen')\n",
        "\n",
        "# Display the heatmap\n",
        "plt.show()"
      ],
      "metadata": {
        "colab": {
          "base_uri": "https://localhost:8080/",
          "height": 785
        },
        "id": "jAFSv8joTla_",
        "outputId": "0d6fc233-338a-43a7-a895-b6e0f81fec61"
      },
      "execution_count": null,
      "outputs": [
        {
          "output_type": "display_data",
          "data": {
            "text/plain": [
              "<Figure size 1000x800 with 2 Axes>"
            ],
            "image/png": "[encoded data removed]"
          },
          "metadata": {}
        }
      ]
    },
    {
      "cell_type": "code",
      "source": [
        "# Defining a list to store the categorical variables\n",
        "categorical_columns = [ 'Customer name']\n",
        "\n",
        "# Set up the matplotlib figure\n",
        "plt.figure(figsize=(15, 10))\n",
        "\n",
        "# Loop through each categorical column and create a bar plot\n",
        "for i, column in enumerate(categorical_columns):\n",
        "    plt.subplot(len(categorical_columns), 1, i + 1)  # Create a subplot for each column\n",
        "    sns.countplot(data=data, x=column, palette='viridis')\n",
        "    plt.title(f'Distribution of {column}')\n",
        "    plt.xlabel(column)\n",
        "    plt.ylabel('Count')\n",
        "    plt.xticks(rotation=45)  # Rotate x labels for better readability\n",
        "\n",
        "plt.tight_layout()  # Adjust layout to prevent overlap\n",
        "plt.show()\n"
      ],
      "metadata": {
        "colab": {
          "base_uri": "https://localhost:8080/",
          "height": 956
        },
        "id": "0ePBmXnXWRZv",
        "outputId": "7b588a3f-36e8-4b65-c659-57a6d488d99a"
      },
      "execution_count": null,
      "outputs": [
        {
          "output_type": "display_data",
          "data": {
            "text/plain": [
              "<Figure size 1500x1000 with 1 Axes>"
            ],
            "image/png": "[encoded data removed]"
          },
          "metadata": {}
        }
      ]
    },
    {
      "source": [
        "# Defining a list to store the numerical variables\n",
        "numerical_columns = [ 'Issued Qty'] # Remove trailing spaces\n",
        "\n",
        "# Set up the matplotlib figure\n",
        "plt.figure(figsize=(15, 10))\n",
        "\n",
        "# Loop through each categorical column and create a bar plot\n",
        "for i, column in enumerate(numerical_columns):\n",
        "    plt.subplot(len(numerical_columns), 1, i + 1)  # Create a subplot for each column\n",
        "    sns.countplot(data=data, x=column, palette='viridis')\n",
        "    plt.title(f'Distribution of {column}')\n",
        "    plt.xlabel(column)\n",
        "    plt.ylabel('Count')\n",
        "    plt.xticks(rotation=45)  # Rotate x labels for better readability\n",
        "\n",
        "plt.tight_layout()  # Adjust layout to prevent overlap\n",
        "plt.show()"
      ],
      "cell_type": "code",
      "metadata": {
        "colab": {
          "base_uri": "https://localhost:8080/",
          "height": 956
        },
        "id": "ChlS0gWptMft",
        "outputId": "bdfddbc9-40e4-46a0-d15a-4fc5a610bdad"
      },
      "execution_count": null,
      "outputs": [
        {
          "output_type": "display_data",
          "data": {
            "text/plain": [
              "<Figure size 1500x1000 with 1 Axes>"
            ],
            "image/png": "[encoded data removed]"
          },
          "metadata": {}
        }
      ]
    },
    {
      "cell_type": "code",
      "source": [
        "# Strip any leading or trailing spaces from column names\n",
        "data.columns = data.columns.str.strip()\n",
        "\n",
        "# Select numerical columns for outlier detection\n",
        "numerical_columns = data.select_dtypes(include=['float64', 'int64']).columns\n",
        "\n",
        "# Function to detect outliers using the IQR method\n",
        "def detect_outliers_iqr(df, column):\n",
        "    Q1 = df[column].quantile(0.25)\n",
        "    Q3 = df[column].quantile(0.75)\n",
        "    IQR = Q3 - Q1\n",
        "    lower_bound = Q1 - 1.5 * IQR\n",
        "    upper_bound = Q3 + 1.5 * IQR\n",
        "    return df[(df[column] < lower_bound) | (df[column] > upper_bound)]\n",
        "\n",
        "# Check for outliers in each numerical column\n",
        "outlier_summary = {}\n",
        "for col in numerical_columns:\n",
        "    outliers = detect_outliers_iqr(data, col)\n",
        "    outlier_summary[col] = len(outliers)\n",
        "\n",
        "# Display the number of outliers for each numerical column\n",
        "outlier_summary_df = pd.DataFrame(outlier_summary.items(), columns=['Column', 'Number of Outliers'])\n",
        "print(outlier_summary_df)"
      ],
      "metadata": {
        "colab": {
          "base_uri": "https://localhost:8080/"
        },
        "id": "tXTxlJHSuDKH",
        "outputId": "ee162e07-0d3d-4a83-a574-6a3f08567404"
      },
      "execution_count": null,
      "outputs": [
        {
          "output_type": "stream",
          "name": "stdout",
          "text": [
            "         Column  Number of Outliers\n",
            "0  Received Qty                   0\n",
            "1    Issued Qty                   3\n"
          ]
        }
      ]
    },
    {
      "cell_type": "markdown",
      "source": [
        "#**Data Preprocessing**\n",
        "\n",
        "---\n",
        "\n"
      ],
      "metadata": {
        "id": "yA16ZqUpwKeK"
      }
    },
    {
      "cell_type": "code",
      "source": [
        "# Step 1: Removing whitespaces from the object type columns\n",
        "object_columns = data.select_dtypes(include=['object']).columns\n",
        "data[object_columns] = data[object_columns].apply(lambda x: x.str.strip())\n",
        "\n",
        "# Step 2: Identifying and displaying duplicate values\n",
        "print(f\"Initial dataset shape: {data.shape}\")\n",
        "\n",
        "# Identify duplicates\n",
        "duplicates = data[data.duplicated(keep=False)]  # Keep all duplicates for display\n",
        "print(f\"Number of duplicate rows found: {duplicates.shape[0]}\")\n",
        "\n",
        "# Remove duplicate values\n",
        "data = data.drop_duplicates()\n",
        "print(f\"Shape after removing duplicates: {data.shape}\")"
      ],
      "metadata": {
        "colab": {
          "base_uri": "https://localhost:8080/"
        },
        "id": "6vQkHuliu6so",
        "outputId": "3fc2305b-067a-4473-801e-0e625a014c37"
      },
      "execution_count": null,
      "outputs": [
        {
          "output_type": "stream",
          "name": "stdout",
          "text": [
            "Initial dataset shape: (14, 9)\n",
            "Number of duplicate rows found: 0\n",
            "Shape after removing duplicates: (14, 9)\n"
          ]
        }
      ]
    },
    {
      "cell_type": "code",
      "source": [
        "# Step 3: Handling missing values in the Categorical Columns\n",
        "\n",
        "# Checking for missing values in the Categorical Columns\n",
        "for column in categorical_cols:\n",
        "    print(f\"Missing values for column {column}: {data[column].isnull().sum()}\")"
      ],
      "metadata": {
        "colab": {
          "base_uri": "https://localhost:8080/"
        },
        "id": "H1bTxzFry7c7",
        "outputId": "cb9dbd15-a951-49e5-e84c-26efe3538eb9"
      },
      "execution_count": null,
      "outputs": [
        {
          "output_type": "stream",
          "name": "stdout",
          "text": [
            "Missing values for column Warehouse: 0\n",
            "Missing values for column Product code: 0\n",
            "Missing values for column Invoice No: 0\n",
            "Missing values for column UOM: 0\n",
            "Missing values for column Customer name: 0\n"
          ]
        }
      ]
    },
    {
      "cell_type": "code",
      "source": [
        "# Step 4: Handling missing values in the Numerical Columns\n",
        "\n",
        "# Checking for missing values in the Numerical Columns\n",
        "for column in numerical_cols:\n",
        "    print(f\"Missing values for column {column}: {data[column].isnull().sum()}\")"
      ],
      "metadata": {
        "colab": {
          "base_uri": "https://localhost:8080/"
        },
        "id": "7tPIKsZe0mW0",
        "outputId": "1807c206-9330-4c28-a3bb-b49ba4ee37c0"
      },
      "execution_count": null,
      "outputs": [
        {
          "output_type": "stream",
          "name": "stdout",
          "text": [
            "Missing values for column Received Qty: 14\n",
            "Missing values for column Issued Qty: 0\n"
          ]
        }
      ]
    },
    {
      "cell_type": "code",
      "source": [
        "# Drop the 'Received Qty' column\n",
        "data = data.drop(columns=['Received Qty'])\n",
        "\n",
        "# Display the updated DataFrame to confirm the column has been removed\n",
        "print(data.head())"
      ],
      "metadata": {
        "colab": {
          "base_uri": "https://localhost:8080/"
        },
        "id": "Wj4hfahnS4LX",
        "outputId": "4d8da2cb-eb23-425b-f148-b6802343b4c0"
      },
      "execution_count": null,
      "outputs": [
        {
          "output_type": "stream",
          "name": "stdout",
          "text": [
            "  Warehouse                Product code      Invoice No Transaction Date UOM  \\\n",
            "0        B4  H2O2-50%-IG-ICL-BANGLADESH  SI-N/10/24/176       2024-10-10  KG   \n",
            "1        B4  H2O2-50%-IG-ICL-BANGLADESH     CB07/24/008       2024-10-11  KG   \n",
            "2        B4  H2O2-50%-IG-ICL-BANGLADESH  SI-S/10/24/106       2024-10-11  KG   \n",
            "3        B4  H2O2-50%-IG-ICL-BANGLADESH  SI-N/10/24/241       2024-10-15  KG   \n",
            "4        B4  H2O2-50%-IG-ICL-BANGLADESH  SI-N/10/24/263       2024-10-16  KG   \n",
            "\n",
            "   Issued Qty             Customer name Risk Level  \n",
            "0          90  THARINDU WASHING PVT LTD  High Risk  \n",
            "1          30             SACHITH  FARM   Low Risk  \n",
            "2        1800         OCEANPICK PVT LTD  High Risk  \n",
            "3          90  THARINDU WASHING PVT LTD  High Risk  \n",
            "4         120     COSAN LANKA (PVT) LTD   Low Risk  \n"
          ]
        }
      ]
    },
    {
      "cell_type": "code",
      "source": [
        "# Select numerical columns for outlier detection\n",
        "numerical_columns = data.select_dtypes(include=['float64', 'int64']).columns\n",
        "\n",
        "# Function to cap outliers using the IQR method\n",
        "def cap_outliers_iqr(df, column):\n",
        "    Q1 = df[column].quantile(0.25)\n",
        "    Q3 = df[column].quantile(0.75)\n",
        "    IQR = Q3 - Q1\n",
        "    lower_bound = Q1 - 1.5 * IQR\n",
        "    upper_bound = Q3 + 1.5 * IQR\n",
        "\n",
        "    # Cap the outliers\n",
        "    df[column] = df[column].clip(lower=lower_bound, upper=upper_bound)\n",
        "    return df\n",
        "\n",
        "# Apply capping for outliers in each numerical column\n",
        "for col in numerical_columns:\n",
        "    data = cap_outliers_iqr(data, col)\n",
        "\n",
        "# Display the updated DataFrame with capped outliers\n",
        "print(data[numerical_columns].describe())"
      ],
      "metadata": {
        "colab": {
          "base_uri": "https://localhost:8080/"
        },
        "id": "7KTUVXWVTVnz",
        "outputId": "00403b53-a32c-487e-8db7-7c38ade7c12f"
      },
      "execution_count": null,
      "outputs": [
        {
          "output_type": "stream",
          "name": "stdout",
          "text": [
            "        Issued Qty\n",
            "count    14.000000\n",
            "mean    535.714286\n",
            "std     686.414478\n",
            "min      30.000000\n",
            "25%      90.000000\n",
            "50%     165.000000\n",
            "75%     750.000000\n",
            "max    1740.000000\n"
          ]
        }
      ]
    },
    {
      "cell_type": "code",
      "source": [
        "# All categorical columns are encoded using the label encoding since the categorical data contained within the dataset are ordinal\n",
        "\n",
        "# Step 5: Encoding the categorical columns\n",
        "\n",
        "# Defining the columns to be encoded\n",
        "encoding_cols = ['Warehouse', 'Product code', 'Invoice No', 'UOM', 'Customer name', 'Risk Level']\n",
        "\n",
        "# Initialize the LabelEncoder\n",
        "label_encoder = LabelEncoder()\n",
        "\n",
        "# Apply label encoding to each categorical column\n",
        "for column in encoding_cols:\n",
        "    data[column] = label_encoder.fit_transform(data[column])  # Convert to string to handle NaN values\n",
        "\n",
        "# Display the first few rows of the updated DataFrame\n",
        "data.head()"
      ],
      "metadata": {
        "colab": {
          "base_uri": "https://localhost:8080/",
          "height": 206
        },
        "id": "cuSjjfoB0q55",
        "outputId": "83c21475-cd16-49c8-e64d-3e6bcfdc77bf"
      },
      "execution_count": null,
      "outputs": [
        {
          "output_type": "execute_result",
          "data": {
            "text/plain": [
              "   Warehouse  Product code  Invoice No Transaction Date  UOM  Issued Qty  \\\n",
              "0          0             0           1       2024-10-10    0          90   \n",
              "1          0             0           0       2024-10-11    0          30   \n",
              "2          0             0          11       2024-10-11    0        1740   \n",
              "3          0             0           2       2024-10-15    0          90   \n",
              "4          0             0           3       2024-10-16    0         120   \n",
              "\n",
              "   Customer name  Risk Level  \n",
              "0              7           0  \n",
              "1              6           1  \n",
              "2              5           0  \n",
              "3              7           0  \n",
              "4              0           1  "
            ],
            "text/html": [
              "\n",
              "  <div id=\"df-030afc83-20de-4f01-9505-f2e2fd9c8454\" class=\"colab-df-container\">\n",
              "    <div>\n",
              "<style scoped>\n",
              "    .dataframe tbody tr th:only-of-type {\n",
              "        vertical-align: middle;\n",
              "    }\n",
              "\n",
              "    .dataframe tbody tr th {\n",
              "        vertical-align: top;\n",
              "    }\n",
              "\n",
              "    .dataframe thead th {\n",
              "        text-align: right;\n",
              "    }\n",
              "</style>\n",
              "<table border=\"1\" class=\"dataframe\">\n",
              "  <thead>\n",
              "    <tr style=\"text-align: right;\">\n",
              "      <th></th>\n",
              "      <th>Warehouse</th>\n",
              "      <th>Product code</th>\n",
              "      <th>Invoice No</th>\n",
              "      <th>Transaction Date</th>\n",
              "      <th>UOM</th>\n",
              "      <th>Issued Qty</th>\n",
              "      <th>Customer name</th>\n",
              "      <th>Risk Level</th>\n",
              "    </tr>\n",
              "  </thead>\n",
              "  <tbody>\n",
              "    <tr>\n",
              "      <th>0</th>\n",
              "      <td>0</td>\n",
              "      <td>0</td>\n",
              "      <td>1</td>\n",
              "      <td>2024-10-10</td>\n",
              "      <td>0</td>\n",
              "      <td>90</td>\n",
              "      <td>7</td>\n",
              "      <td>0</td>\n",
              "    </tr>\n",
              "    <tr>\n",
              "      <th>1</th>\n",
              "      <td>0</td>\n",
              "      <td>0</td>\n",
              "      <td>0</td>\n",
              "      <td>2024-10-11</td>\n",
              "      <td>0</td>\n",
              "      <td>30</td>\n",
              "      <td>6</td>\n",
              "      <td>1</td>\n",
              "    </tr>\n",
              "    <tr>\n",
              "      <th>2</th>\n",
              "      <td>0</td>\n",
              "      <td>0</td>\n",
              "      <td>11</td>\n",
              "      <td>2024-10-11</td>\n",
              "      <td>0</td>\n",
              "      <td>1740</td>\n",
              "      <td>5</td>\n",
              "      <td>0</td>\n",
              "    </tr>\n",
              "    <tr>\n",
              "      <th>3</th>\n",
              "      <td>0</td>\n",
              "      <td>0</td>\n",
              "      <td>2</td>\n",
              "      <td>2024-10-15</td>\n",
              "      <td>0</td>\n",
              "      <td>90</td>\n",
              "      <td>7</td>\n",
              "      <td>0</td>\n",
              "    </tr>\n",
              "    <tr>\n",
              "      <th>4</th>\n",
              "      <td>0</td>\n",
              "      <td>0</td>\n",
              "      <td>3</td>\n",
              "      <td>2024-10-16</td>\n",
              "      <td>0</td>\n",
              "      <td>120</td>\n",
              "      <td>0</td>\n",
              "      <td>1</td>\n",
              "    </tr>\n",
              "  </tbody>\n",
              "</table>\n",
              "</div>\n",
              "    <div class=\"colab-df-buttons\">\n",
              "\n",
              "  <div class=\"colab-df-container\">\n",
              "    <button class=\"colab-df-convert\" onclick=\"convertToInteractive('df-030afc83-20de-4f01-9505-f2e2fd9c8454')\"\n",
              "            title=\"Convert this dataframe to an interactive table.\"\n",
              "            style=\"display:none;\">\n",
              "\n",
              "  <svg xmlns=\"http://www.w3.org/2000/svg\" height=\"24px\" viewBox=\"0 -960 960 960\">\n",
              "    <path d=\"M120-120v-720h720v720H120Zm60-500h600v-160H180v160Zm220 220h160v-160H400v160Zm0 220h160v-160H400v160ZM180-400h160v-160H180v160Zm440 0h160v-160H620v160ZM180-180h160v-160H180v160Zm440 0h160v-160H620v160Z\"/>\n",
              "  </svg>\n",
              "    </button>\n",
              "\n",
              "  <style>\n",
              "    .colab-df-container {\n",
              "      display:flex;\n",
              "      gap: 12px;\n",
              "    }\n",
              "\n",
              "    .colab-df-convert {\n",
              "      background-color: #E8F0FE;\n",
              "      border: none;\n",
              "      border-radius: 50%;\n",
              "      cursor: pointer;\n",
              "      display: none;\n",
              "      fill: #1967D2;\n",
              "      height: 32px;\n",
              "      padding: 0 0 0 0;\n",
              "      width: 32px;\n",
              "    }\n",
              "\n",
              "    .colab-df-convert:hover {\n",
              "      background-color: #E2EBFA;\n",
              "      box-shadow: 0px 1px 2px rgba(60, 64, 67, 0.3), 0px 1px 3px 1px rgba(60, 64, 67, 0.15);\n",
              "      fill: #174EA6;\n",
              "    }\n",
              "\n",
              "    .colab-df-buttons div {\n",
              "      margin-bottom: 4px;\n",
              "    }\n",
              "\n",
              "    [theme=dark] .colab-df-convert {\n",
              "      background-color: #3B4455;\n",
              "      fill: #D2E3FC;\n",
              "    }\n",
              "\n",
              "    [theme=dark] .colab-df-convert:hover {\n",
              "      background-color: #434B5C;\n",
              "      box-shadow: 0px 1px 3px 1px rgba(0, 0, 0, 0.15);\n",
              "      filter: drop-shadow(0px 1px 2px rgba(0, 0, 0, 0.3));\n",
              "      fill: #FFFFFF;\n",
              "    }\n",
              "  </style>\n",
              "\n",
              "    <script>\n",
              "      const buttonEl =\n",
              "        document.querySelector('#df-030afc83-20de-4f01-9505-f2e2fd9c8454 button.colab-df-convert');\n",
              "      buttonEl.style.display =\n",
              "        google.colab.kernel.accessAllowed ? 'block' : 'none';\n",
              "\n",
              "      async function convertToInteractive(key) {\n",
              "        const element = document.querySelector('#df-030afc83-20de-4f01-9505-f2e2fd9c8454');\n",
              "        const dataTable =\n",
              "          await google.colab.kernel.invokeFunction('convertToInteractive',\n",
              "                                                    [key], {});\n",
              "        if (!dataTable) return;\n",
              "\n",
              "        const docLinkHtml = 'Like what you see? Visit the ' +\n",
              "          '<a target=\"_blank\" href=https://colab.research.google.com/notebooks/data_table.ipynb>data table notebook</a>'\n",
              "          + ' to learn more about interactive tables.';\n",
              "        element.innerHTML = '';\n",
              "        dataTable['output_type'] = 'display_data';\n",
              "        await google.colab.output.renderOutput(dataTable, element);\n",
              "        const docLink = document.createElement('div');\n",
              "        docLink.innerHTML = docLinkHtml;\n",
              "        element.appendChild(docLink);\n",
              "      }\n",
              "    </script>\n",
              "  </div>\n",
              "\n",
              "\n",
              "<div id=\"df-e797d9dc-48a9-4d1c-b48c-a45c51b009e3\">\n",
              "  <button class=\"colab-df-quickchart\" onclick=\"quickchart('df-e797d9dc-48a9-4d1c-b48c-a45c51b009e3')\"\n",
              "            title=\"Suggest charts\"\n",
              "            style=\"display:none;\">\n",
              "\n",
              "<svg xmlns=\"http://www.w3.org/2000/svg\" height=\"24px\"viewBox=\"0 0 24 24\"\n",
              "     width=\"24px\">\n",
              "    <g>\n",
              "        <path d=\"M19 3H5c-1.1 0-2 .9-2 2v14c0 1.1.9 2 2 2h14c1.1 0 2-.9 2-2V5c0-1.1-.9-2-2-2zM9 17H7v-7h2v7zm4 0h-2V7h2v10zm4 0h-2v-4h2v4z\"/>\n",
              "    </g>\n",
              "</svg>\n",
              "  </button>\n",
              "\n",
              "<style>\n",
              "  .colab-df-quickchart {\n",
              "      --bg-color: #E8F0FE;\n",
              "      --fill-color: #1967D2;\n",
              "      --hover-bg-color: #E2EBFA;\n",
              "      --hover-fill-color: #174EA6;\n",
              "      --disabled-fill-color: #AAA;\n",
              "      --disabled-bg-color: #DDD;\n",
              "  }\n",
              "\n",
              "  [theme=dark] .colab-df-quickchart {\n",
              "      --bg-color: #3B4455;\n",
              "      --fill-color: #D2E3FC;\n",
              "      --hover-bg-color: #434B5C;\n",
              "      --hover-fill-color: #FFFFFF;\n",
              "      --disabled-bg-color: #3B4455;\n",
              "      --disabled-fill-color: #666;\n",
              "  }\n",
              "\n",
              "  .colab-df-quickchart {\n",
              "    background-color: var(--bg-color);\n",
              "    border: none;\n",
              "    border-radius: 50%;\n",
              "    cursor: pointer;\n",
              "    display: none;\n",
              "    fill: var(--fill-color);\n",
              "    height: 32px;\n",
              "    padding: 0;\n",
              "    width: 32px;\n",
              "  }\n",
              "\n",
              "  .colab-df-quickchart:hover {\n",
              "    background-color: var(--hover-bg-color);\n",
              "    box-shadow: 0 1px 2px rgba(60, 64, 67, 0.3), 0 1px 3px 1px rgba(60, 64, 67, 0.15);\n",
              "    fill: var(--button-hover-fill-color);\n",
              "  }\n",
              "\n",
              "  .colab-df-quickchart-complete:disabled,\n",
              "  .colab-df-quickchart-complete:disabled:hover {\n",
              "    background-color: var(--disabled-bg-color);\n",
              "    fill: var(--disabled-fill-color);\n",
              "    box-shadow: none;\n",
              "  }\n",
              "\n",
              "  .colab-df-spinner {\n",
              "    border: 2px solid var(--fill-color);\n",
              "    border-color: transparent;\n",
              "    border-bottom-color: var(--fill-color);\n",
              "    animation:\n",
              "      spin 1s steps(1) infinite;\n",
              "  }\n",
              "\n",
              "  @keyframes spin {\n",
              "    0% {\n",
              "      border-color: transparent;\n",
              "      border-bottom-color: var(--fill-color);\n",
              "      border-left-color: var(--fill-color);\n",
              "    }\n",
              "    20% {\n",
              "      border-color: transparent;\n",
              "      border-left-color: var(--fill-color);\n",
              "      border-top-color: var(--fill-color);\n",
              "    }\n",
              "    30% {\n",
              "      border-color: transparent;\n",
              "      border-left-color: var(--fill-color);\n",
              "      border-top-color: var(--fill-color);\n",
              "      border-right-color: var(--fill-color);\n",
              "    }\n",
              "    40% {\n",
              "      border-color: transparent;\n",
              "      border-right-color: var(--fill-color);\n",
              "      border-top-color: var(--fill-color);\n",
              "    }\n",
              "    60% {\n",
              "      border-color: transparent;\n",
              "      border-right-color: var(--fill-color);\n",
              "    }\n",
              "    80% {\n",
              "      border-color: transparent;\n",
              "      border-right-color: var(--fill-color);\n",
              "      border-bottom-color: var(--fill-color);\n",
              "    }\n",
              "    90% {\n",
              "      border-color: transparent;\n",
              "      border-bottom-color: var(--fill-color);\n",
              "    }\n",
              "  }\n",
              "</style>\n",
              "\n",
              "  <script>\n",
              "    async function quickchart(key) {\n",
              "      const quickchartButtonEl =\n",
              "        document.querySelector('#' + key + ' button');\n",
              "      quickchartButtonEl.disabled = true;  // To prevent multiple clicks.\n",
              "      quickchartButtonEl.classList.add('colab-df-spinner');\n",
              "      try {\n",
              "        const charts = await google.colab.kernel.invokeFunction(\n",
              "            'suggestCharts', [key], {});\n",
              "      } catch (error) {\n",
              "        console.error('Error during call to suggestCharts:', error);\n",
              "      }\n",
              "      quickchartButtonEl.classList.remove('colab-df-spinner');\n",
              "      quickchartButtonEl.classList.add('colab-df-quickchart-complete');\n",
              "    }\n",
              "    (() => {\n",
              "      let quickchartButtonEl =\n",
              "        document.querySelector('#df-e797d9dc-48a9-4d1c-b48c-a45c51b009e3 button');\n",
              "      quickchartButtonEl.style.display =\n",
              "        google.colab.kernel.accessAllowed ? 'block' : 'none';\n",
              "    })();\n",
              "  </script>\n",
              "</div>\n",
              "\n",
              "    </div>\n",
              "  </div>\n"
            ],
            "application/vnd.google.colaboratory.intrinsic+json": {
              "type": "dataframe",
              "variable_name": "data",
              "summary": "{\n  \"name\": \"data\",\n  \"rows\": 14,\n  \"fields\": [\n    {\n      \"column\": \"Warehouse\",\n      \"properties\": {\n        \"dtype\": \"number\",\n        \"std\": 0,\n        \"min\": 0,\n        \"max\": 0,\n        \"num_unique_values\": 1,\n        \"samples\": [\n          0\n        ],\n        \"semantic_type\": \"\",\n        \"description\": \"\"\n      }\n    },\n    {\n      \"column\": \"Product code\",\n      \"properties\": {\n        \"dtype\": \"number\",\n        \"std\": 0,\n        \"min\": 0,\n        \"max\": 0,\n        \"num_unique_values\": 1,\n        \"samples\": [\n          0\n        ],\n        \"semantic_type\": \"\",\n        \"description\": \"\"\n      }\n    },\n    {\n      \"column\": \"Invoice No\",\n      \"properties\": {\n        \"dtype\": \"number\",\n        \"std\": 4,\n        \"min\": 0,\n        \"max\": 13,\n        \"num_unique_values\": 14,\n        \"samples\": [\n          13\n        ],\n        \"semantic_type\": \"\",\n        \"description\": \"\"\n      }\n    },\n    {\n      \"column\": \"Transaction Date\",\n      \"properties\": {\n        \"dtype\": \"date\",\n        \"min\": \"2024-10-10 00:00:00\",\n        \"max\": \"2024-10-29 00:00:00\",\n        \"num_unique_values\": 10,\n        \"samples\": [\n          \"2024-10-28 00:00:00\"\n        ],\n        \"semantic_type\": \"\",\n        \"description\": \"\"\n      }\n    },\n    {\n      \"column\": \"UOM\",\n      \"properties\": {\n        \"dtype\": \"number\",\n        \"std\": 0,\n        \"min\": 0,\n        \"max\": 0,\n        \"num_unique_values\": 1,\n        \"samples\": [\n          0\n        ],\n        \"semantic_type\": \"\",\n        \"description\": \"\"\n      }\n    },\n    {\n      \"column\": \"Issued Qty\",\n      \"properties\": {\n        \"dtype\": \"number\",\n        \"std\": 686,\n        \"min\": 30,\n        \"max\": 1740,\n        \"num_unique_values\": 9,\n        \"samples\": [\n          900\n        ],\n        \"semantic_type\": \"\",\n        \"description\": \"\"\n      }\n    },\n    {\n      \"column\": \"Customer name\",\n      \"properties\": {\n        \"dtype\": \"number\",\n        \"std\": 2,\n        \"min\": 0,\n        \"max\": 7,\n        \"num_unique_values\": 8,\n        \"samples\": [\n          6\n        ],\n        \"semantic_type\": \"\",\n        \"description\": \"\"\n      }\n    },\n    {\n      \"column\": \"Risk Level\",\n      \"properties\": {\n        \"dtype\": \"number\",\n        \"std\": 0,\n        \"min\": 0,\n        \"max\": 1,\n        \"num_unique_values\": 2,\n        \"samples\": [\n          1\n        ],\n        \"semantic_type\": \"\",\n        \"description\": \"\"\n      }\n    }\n  ]\n}"
            }
          },
          "metadata": {},
          "execution_count": 20
        }
      ]
    },
    {
      "cell_type": "code",
      "source": [
        "# Redefine numerical_cols after dropping 'Received Qty'\n",
        "numerical_cols = data.select_dtypes(include=['float64', 'int64']).columns\n",
        "\n",
        "# Step 5: Scaling the Numerical Features\n",
        "scaler = StandardScaler()\n",
        "scaled_data = scaler.fit_transform(data[numerical_cols])\n",
        "\n",
        "# Step 6: Handling the columns with low correlation coefficients with the target column\n",
        "correlation_with_target = data.corr()['Risk Level'].sort_values(ascending=False)\n",
        "\n",
        "# Print the correlation values\n",
        "print(\"Correlation with Risk Level:\")\n",
        "print(correlation_with_target)"
      ],
      "metadata": {
        "colab": {
          "base_uri": "https://localhost:8080/"
        },
        "id": "5VmrLHXk4Bmz",
        "outputId": "78443857-508c-4056-dae2-18cf88bdeae3"
      },
      "execution_count": null,
      "outputs": [
        {
          "output_type": "stream",
          "name": "stdout",
          "text": [
            "Correlation with Risk Level:\n",
            "Risk Level          1.000000\n",
            "Transaction Date    0.088220\n",
            "Invoice No         -0.322252\n",
            "Issued Qty         -0.524652\n",
            "Customer name      -0.763321\n",
            "Warehouse                NaN\n",
            "Product code             NaN\n",
            "UOM                      NaN\n",
            "Name: Risk Level, dtype: float64\n"
          ]
        }
      ]
    },
    {
      "cell_type": "code",
      "source": [
        "# Dropping the columns with no correlation (Constant Columns)\n",
        "columns_to_drop = ['Warehouse', 'Product code', 'UOM']\n",
        "data = data.drop(columns=columns_to_drop)\n"
      ],
      "metadata": {
        "id": "V2ImLcjDYqd5"
      },
      "execution_count": null,
      "outputs": []
    },
    {
      "cell_type": "code",
      "source": [
        "# Dropping the columns with low correlation\n",
        "columns_to_drop = ['Invoice No', 'Issued Qty', 'Customer name']\n",
        "data = data.drop(columns=columns_to_drop)"
      ],
      "metadata": {
        "id": "_HW73jpS6tjh"
      },
      "execution_count": null,
      "outputs": []
    },
    {
      "cell_type": "code",
      "source": [
        "# Dataset Information\n",
        "data.info()"
      ],
      "metadata": {
        "colab": {
          "base_uri": "https://localhost:8080/"
        },
        "id": "31WF4JTG740d",
        "outputId": "eb4fe501-e9b6-423d-c0c6-de7dc666502f"
      },
      "execution_count": null,
      "outputs": [
        {
          "output_type": "stream",
          "name": "stdout",
          "text": [
            "<class 'pandas.core.frame.DataFrame'>\n",
            "RangeIndex: 14 entries, 0 to 13\n",
            "Data columns (total 2 columns):\n",
            " #   Column            Non-Null Count  Dtype         \n",
            "---  ------            --------------  -----         \n",
            " 0   Transaction Date  14 non-null     datetime64[ns]\n",
            " 1   Risk Level        14 non-null     int64         \n",
            "dtypes: datetime64[ns](1), int64(1)\n",
            "memory usage: 356.0 bytes\n"
          ]
        }
      ]
    },
    {
      "cell_type": "code",
      "source": [
        "# Step 7: Splitting Features and the Target Variable\n",
        "X = data.drop(columns=['Risk Level'])\n",
        "y = data['Risk Level']\n",
        "\n",
        "# Step 8: Splitting data\n",
        "X_train, X_test, y_train, y_test = train_test_split(X, y, test_size=0.2, random_state=42)\n",
        "\n",
        "# Analyzing the distribution of the y train dataset\n",
        "y_train.value_counts(normalize=True)"
      ],
      "metadata": {
        "colab": {
          "base_uri": "https://localhost:8080/",
          "height": 178
        },
        "id": "J2qd0oSe78eY",
        "outputId": "13a6f013-2989-482c-e1c7-a29a05cfa82a"
      },
      "execution_count": null,
      "outputs": [
        {
          "output_type": "execute_result",
          "data": {
            "text/plain": [
              "Risk Level\n",
              "1    0.545455\n",
              "0    0.454545\n",
              "Name: proportion, dtype: float64"
            ],
            "text/html": [
              "<div>\n",
              "<style scoped>\n",
              "    .dataframe tbody tr th:only-of-type {\n",
              "        vertical-align: middle;\n",
              "    }\n",
              "\n",
              "    .dataframe tbody tr th {\n",
              "        vertical-align: top;\n",
              "    }\n",
              "\n",
              "    .dataframe thead th {\n",
              "        text-align: right;\n",
              "    }\n",
              "</style>\n",
              "<table border=\"1\" class=\"dataframe\">\n",
              "  <thead>\n",
              "    <tr style=\"text-align: right;\">\n",
              "      <th></th>\n",
              "      <th>proportion</th>\n",
              "    </tr>\n",
              "    <tr>\n",
              "      <th>Risk Level</th>\n",
              "      <th></th>\n",
              "    </tr>\n",
              "  </thead>\n",
              "  <tbody>\n",
              "    <tr>\n",
              "      <th>1</th>\n",
              "      <td>0.545455</td>\n",
              "    </tr>\n",
              "    <tr>\n",
              "      <th>0</th>\n",
              "      <td>0.454545</td>\n",
              "    </tr>\n",
              "  </tbody>\n",
              "</table>\n",
              "</div><br><label><b>dtype:</b> float64</label>"
            ]
          },
          "metadata": {},
          "execution_count": 25
        }
      ]
    },
    {
      "cell_type": "code",
      "source": [
        "# Visualizing the distribution of the target variable\n",
        "plt.figure(figsize=(10, 6))\n",
        "sns.countplot(data=data, x='Risk Level')\n",
        "plt.xticks(rotation=0)\n",
        "plt.title('Distribution of Target Variable')\n",
        "plt.xlabel('Risk Level')\n",
        "plt.ylabel('Count')\n",
        "plt.show()"
      ],
      "metadata": {
        "colab": {
          "base_uri": "https://localhost:8080/",
          "height": 564
        },
        "id": "u3mnOED182n3",
        "outputId": "c48d9506-2cd1-443e-afd5-c283f99e0bbf"
      },
      "execution_count": null,
      "outputs": [
        {
          "output_type": "display_data",
          "data": {
            "text/plain": [
              "<Figure size 1000x600 with 1 Axes>"
            ],
            "image/png": "[encoded data removed]"
          },
          "metadata": {}
        }
      ]
    },
    {
      "cell_type": "code",
      "source": [
        "# Displaying the dataset shape\n",
        "print(f\"Shape of X_train: {X_train.shape}\")\n",
        "print(f\"Shape of X_test: {X_test.shape}\")\n",
        "print(f\"Shape of y_train: {y_train.shape}\")\n",
        "print(f\"Shape of y_test: {y_test.shape}\")"
      ],
      "metadata": {
        "colab": {
          "base_uri": "https://localhost:8080/"
        },
        "id": "JLC8K2dl8-5X",
        "outputId": "9ed4269a-b432-4ad5-df62-dc4b5dbbe207"
      },
      "execution_count": null,
      "outputs": [
        {
          "output_type": "stream",
          "name": "stdout",
          "text": [
            "Shape of X_train: (11, 1)\n",
            "Shape of X_test: (3, 1)\n",
            "Shape of y_train: (11,)\n",
            "Shape of y_test: (3,)\n"
          ]
        }
      ]
    },
    {
      "cell_type": "code",
      "source": [
        "# Step 1: Check for class imbalance in the 'Risk Level' column\n",
        "class_distribution = data['Risk Level'].value_counts()\n",
        "\n",
        "# Print the distribution of classes\n",
        "print(\"Class distribution in 'Risk Level':\")\n",
        "print(class_distribution)\n"
      ],
      "metadata": {
        "colab": {
          "base_uri": "https://localhost:8080/"
        },
        "id": "Ww3XNbte-bvl",
        "outputId": "23ff5443-10c9-4c66-9fd9-97cee31cb1d9"
      },
      "execution_count": null,
      "outputs": [
        {
          "output_type": "stream",
          "name": "stdout",
          "text": [
            "Class distribution in 'Risk Level':\n",
            "Risk Level\n",
            "0    8\n",
            "1    6\n",
            "Name: count, dtype: int64\n"
          ]
        }
      ]
    },
    {
      "cell_type": "code",
      "source": [
        "# Suppressing the FutureWarnings\n",
        "warnings.filterwarnings(\"ignore\", category=FutureWarning)\n",
        "\n",
        "# Handling imbalanced dataset\n",
        "smote = SMOTE(sampling_strategy='auto', random_state=42, k_neighbors=1)\n",
        "X_resampled, y_resampled = smote.fit_resample(X, y)\n",
        "\n",
        "print(\"Original dataset size:\", X.shape)\n",
        "print(\"Resampled dataset size:\", X_resampled.shape)\n",
        "\n",
        "# Plotting class distribution after SMOTE\n",
        "sns.countplot(x=y_resampled, palette=\"viridis\")\n",
        "plt.title(\"Class Distribution After SMOTE\")\n",
        "plt.xlabel(\"Class\")\n",
        "plt.ylabel(\"Count\")\n",
        "plt.show()"
      ],
      "metadata": {
        "colab": {
          "base_uri": "https://localhost:8080/",
          "height": 507
        },
        "id": "_3P3AMhC_1dh",
        "outputId": "df0aa6f0-c4f1-45b6-8921-87892e018c8b"
      },
      "execution_count": null,
      "outputs": [
        {
          "output_type": "stream",
          "name": "stdout",
          "text": [
            "Original dataset size: (14, 1)\n",
            "Resampled dataset size: (16, 1)\n"
          ]
        },
        {
          "output_type": "display_data",
          "data": {
            "text/plain": [
              "<Figure size 640x480 with 1 Axes>"
            ],
            "image/png": "[encoded data removed]"
          },
          "metadata": {}
        }
      ]
    },
    {
      "cell_type": "code",
      "source": [
        "# Define the new folder path\n",
        "folder_path = '/content/drive/MyDrive/DSGP_User/Pre Processed data'\n",
        "\n",
        "# Define the file name for the saved dataset\n",
        "file_name = 'preprocessed_stock_report 2.xlsx'\n",
        "\n",
        "# Save the pre-processed DataFrame to the new folder\n",
        "data.to_excel(os.path.join(folder_path, file_name), index=False)\n",
        "\n",
        "print(f\"Pre-processed dataset saved to: {os.path.join(folder_path, file_name)}\")"
      ],
      "metadata": {
        "colab": {
          "base_uri": "https://localhost:8080/"
        },
        "id": "OH5nK0QTWSkU",
        "outputId": "04e21bfe-ce2b-4687-afd1-a22ba6dee21f"
      },
      "execution_count": null,
      "outputs": [
        {
          "output_type": "stream",
          "name": "stdout",
          "text": [
            "Pre-processed dataset saved to: /content/drive/MyDrive/DSGP_User/Pre Processed data/preprocessed_stock_report 2.xlsx\n"
          ]
        }
      ]
    }
  ]
}